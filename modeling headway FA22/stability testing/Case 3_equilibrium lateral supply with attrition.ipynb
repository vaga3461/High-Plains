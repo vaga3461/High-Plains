{
 "cells": [
  {
   "cell_type": "code",
   "execution_count": 1,
   "id": "e7d773a2",
   "metadata": {},
   "outputs": [],
   "source": [
    "# here we're going to just try writing something from scratch\n",
    "# do single lith for starters"
   ]
  },
  {
   "cell_type": "code",
   "execution_count": 2,
   "id": "25de3fa5",
   "metadata": {},
   "outputs": [],
   "source": [
    "import numpy as np\n",
    "import matplotlib.pyplot as plt"
   ]
  },
  {
   "cell_type": "code",
   "execution_count": 3,
   "id": "ce873636",
   "metadata": {},
   "outputs": [],
   "source": [
    "# set up arrays\n",
    "dx = 1000\n",
    "x = np.arange(0, 10000, dx)\n",
    "x_node = x + (dx/2)\n",
    "\n",
    "Hstar = 0.5\n",
    "etab = np.zeros(len(x)) # bedrock elevation, m\n",
    "etab[:] = np.linspace(1, 0.1, len(x)) # need to start with slight bedrock slope\n",
    "H = Hstar + np.zeros(len(x))\n",
    "eta = etab + H"
   ]
  },
  {
   "cell_type": "code",
   "execution_count": 4,
   "id": "063ff069",
   "metadata": {},
   "outputs": [],
   "source": [
    "# set up parameters\n",
    "K_ig = np.zeros(len(x))\n",
    "K_ig[:4] = 1e-8\n",
    "K_sed = np.zeros(len(x))\n",
    "K_sed[4:] = 1e-7\n",
    "\n",
    "beta_ig = np.zeros(len(x))\n",
    "beta_ig[:4] = 4e-6\n",
    "beta_sed = np.zeros(len(x))\n",
    "beta_sed[4:] = 4e-5\n",
    "\n",
    "psi = np.zeros(len(x))\n",
    "psi[:4] = 4e-6\n",
    "psi[4:] = 4e-5\n",
    "gamma = 0.3\n",
    "\n",
    "r = 10 # runoff rate\n",
    "D = 0.03 # grain size\n",
    "phi = 0.45 # porosity\n",
    "baselevel_rate = 0.0001 # baselevel fall rate"
   ]
  },
  {
   "cell_type": "code",
   "execution_count": 5,
   "id": "d154296e",
   "metadata": {},
   "outputs": [],
   "source": [
    "kqs = 0.041\n",
    "I = 0.01\n",
    "kxb = 25\n",
    "Pxb = 1./5.\n",
    "kb = 8.3e-8\n",
    "\n",
    "B_valley = kxb * (x_node**Pxb)\n",
    "B_basin = (2./3.) * x_node\n",
    "\n",
    "area = (1./3.) * x**2\n",
    "# Q = r * x * B\n",
    "Q = r * area"
   ]
  },
  {
   "cell_type": "code",
   "execution_count": 6,
   "id": "a2ad3f1d",
   "metadata": {},
   "outputs": [
    {
     "data": {
      "text/plain": [
       "10"
      ]
     },
     "execution_count": 6,
     "metadata": {},
     "output_type": "execute_result"
    }
   ],
   "source": [
    "len(eta)"
   ]
  },
  {
   "cell_type": "code",
   "execution_count": 7,
   "id": "ad0248d7",
   "metadata": {},
   "outputs": [],
   "source": [
    "def model(x, dx, x_node,\n",
    "          K_ig, K_sed, beta_ig, beta_sed,\n",
    "          D, phi, Hstar, psi, gamma,\n",
    "          kb, kqs, I, r, B_valley, B_basin, Q,\n",
    "          etab, H, eta,\n",
    "          baselevel_rate,\n",
    "          num_steps = 1):\n",
    "    \n",
    "    q = Q/B_valley\n",
    "    dt = 0.2 * dx * dx / (kqs * q[-1])\n",
    "    \n",
    "    run_duration = dt * num_steps\n",
    "    cum_time = 0.0\n",
    "    \n",
    "    Qs = np.zeros(len(x))\n",
    "    qs = np.zeros(len(x))\n",
    "    Eb_p_ig = np.zeros(len(x))\n",
    "    Eb_p_sed = np.zeros(len(x))\n",
    "    Eb_a_ig = np.zeros(len(x))\n",
    "    Eb_a_sed = np.zeros(len(x))\n",
    "    Eb = np.zeros(len(x))\n",
    "    Eh = np.zeros(len(x))\n",
    "    E = np.zeros(len(x))\n",
    "    ql = np.zeros(len(x))\n",
    "    \n",
    "    H[-1] = 0\n",
    "    E[-1] = baselevel_rate\n",
    "    q[0] = 0\n",
    "    Qs[0] = 0\n",
    "    ql[0] = 0\n",
    "    \n",
    "    while cum_time < run_duration:\n",
    "        \n",
    "        # drop baselevel\n",
    "        eta[-1] -= baselevel_rate * dt\n",
    "        \n",
    "        # set boundary conditions\n",
    "        etab[-1] = eta[-1]\n",
    "        \n",
    "        # calc slope\n",
    "        S = -np.diff(eta)/dx\n",
    "        \n",
    "        # calc bed exposure\n",
    "        alpha = np.exp(-H/Hstar)\n",
    "        \n",
    "        # calc Rh\n",
    "#         width = (kb * Q[1:] * (S ** (7/6))) / (D**(3/2))\n",
    "#         depth = (0.09801 * D) / S\n",
    "#         Rh_efficiency = 1 - np.exp(-width/(2*depth))\n",
    "        \n",
    "        # calc sed transport\n",
    "        Qs[1:] = kqs * I * Q[1:] * S**(7./6.) * (1 - alpha[:-1]) # * Rh_efficiency\n",
    "        qs[1:] = Qs[1:] / B_valley[1:]\n",
    "        \n",
    "        # calc bedrock erosion\n",
    "        Eb_p_ig[:-1] = K_ig[1:] * Q[1:] * S * alpha[:-1]\n",
    "        Eb_p_sed[:-1] = K_sed[1:] * Q[1:] * S * alpha[:-1]\n",
    "        Eb_a_ig[:-1] = beta_ig[1:] * Qs[1:] * alpha[:-1]\n",
    "        Eb_a_sed[:-1] = beta_sed[1:] * Qs[1:] * alpha[:-1]\n",
    "        Eb[:-1] = (Eb_p_ig[:-1] + Eb_p_sed[:-1] + Eb_a_ig[:-1] + Eb_a_sed[:-1]) / B_valley[:-1]\n",
    "        \n",
    "        # calc grain attrition\n",
    "        atr = Qs * psi\n",
    "        \n",
    "        # calc equilibrium lateral supply\n",
    "        ql[1:] = ((baselevel_rate * gamma) / psi[1:]) * (1 - np.exp(-psi[1:]/(3 * x[1:])))\n",
    "        \n",
    "        # calc sediment erosion rate\n",
    "        Eh[:-1] = 1/((1 - phi) * B_valley[:-1]) * (np.diff(Qs)/dx + atr[1:] - Eb_p_ig[:-1] - ql[1:])\n",
    "        \n",
    "        # calc total erosion rate\n",
    "        E[:-1] = Eb[:-1] + Eh[:-1]\n",
    "        \n",
    "        # update topography\n",
    "        etab[:-1] -= Eb[:-1] * dt\n",
    "        H[:-1] -= Eh[:-1] * dt\n",
    "        H[H<0] = 0\n",
    "        eta[:-1] = etab[:-1] + H[:-1]\n",
    "        \n",
    "        # update elapsed time\n",
    "        cum_time += dt\n",
    "        \n",
    "    print(cum_time)\n",
    "        \n",
    "    return (dt, S, q, alpha, Qs, qs, Eb_p_ig, Eb_p_sed, Eb_a_ig, Eb_a_sed, Eb, atr, ql, Eh, E, etab, H, eta)"
   ]
  },
  {
   "cell_type": "code",
   "execution_count": 8,
   "id": "6fe3578c",
   "metadata": {},
   "outputs": [
    {
     "name": "stdout",
     "output_type": "stream",
     "text": [
      "2820769.1083274954\n"
     ]
    }
   ],
   "source": [
    "#now write a test\n",
    "num_steps = 1000000\n",
    "test_run = [x, dx, x_node, \n",
    "            K_ig, K_sed, beta_ig, beta_sed, \n",
    "            D, phi, Hstar, psi, gamma,\n",
    "            kb, kqs, I, r, B_valley, B_basin, Q,\n",
    "            etab, H, eta,\n",
    "            baselevel_rate,\n",
    "            num_steps]\n",
    "\n",
    "# and run it\n",
    "(dt, S, q, alpha, Qs, qs, Eb_p_ig, Eb_p_sed, Eb_a_ig, Eb_a_sed, Eb, atr, ql, Eh, E, etab, H, eta) = model(*test_run)"
   ]
  },
  {
   "cell_type": "code",
   "execution_count": 14,
   "id": "bd1241ad",
   "metadata": {},
   "outputs": [
    {
     "data": {
      "text/plain": [
       "<matplotlib.legend.Legend at 0x7fc00ae00b50>"
      ]
     },
     "execution_count": 14,
     "metadata": {},
     "output_type": "execute_result"
    },
    {
     "data": {
      "image/png": "[encoded data removed]",
      "text/plain": [
       "<Figure size 432x288 with 1 Axes>"
      ]
     },
     "metadata": {
      "needs_background": "light"
     },
     "output_type": "display_data"
    }
   ],
   "source": [
    "plt.plot(x, eta, label = \"topography\")\n",
    "plt.legend()"
   ]
  },
  {
   "cell_type": "code",
   "execution_count": 10,
   "id": "961a8b65",
   "metadata": {},
   "outputs": [
    {
     "data": {
      "text/plain": [
       "array([0.10719577, 0.07624562, 0.04229812, 0.00492243, 0.00328266,\n",
       "       0.00234825, 0.00176357, 0.0013727 , 0.00109816])"
      ]
     },
     "execution_count": 10,
     "metadata": {},
     "output_type": "execute_result"
    }
   ],
   "source": [
    "S"
   ]
  },
  {
   "cell_type": "code",
   "execution_count": 11,
   "id": "f0c237ac",
   "metadata": {},
   "outputs": [
    {
     "name": "stdout",
     "output_type": "stream",
     "text": [
      "[ 3.93382961 10.57431725 11.96443151  1.72956764  1.68453157  1.64101411\n",
      "  1.59930249  1.55940655  1.52125493]\n"
     ]
    }
   ],
   "source": [
    "# just for kicks\n",
    "kb = 8.3e-8\n",
    "b = (kb * Q[1:] * (S ** (7/6))) / (D**(3/2))\n",
    "print(b)"
   ]
  },
  {
   "cell_type": "code",
   "execution_count": 12,
   "id": "cdf26ffb",
   "metadata": {},
   "outputs": [
    {
     "name": "stdout",
     "output_type": "stream",
     "text": [
      "[0.02742925 0.03856353 0.06951372 0.59732716 0.8957054  1.2521244\n",
      " 1.66723846 2.14198499 2.67748503]\n"
     ]
    }
   ],
   "source": [
    "# ok really going out on a limb here...\n",
    "depth = (0.09801 * D) / S\n",
    "print(depth)"
   ]
  },
  {
   "cell_type": "code",
   "execution_count": null,
   "id": "5190c632",
   "metadata": {},
   "outputs": [],
   "source": []
  }
 ],
 "metadata": {
  "kernelspec": {
   "display_name": "Python 3",
   "language": "python",
   "name": "python3"
  },
  "language_info": {
   "codemirror_mode": {
    "name": "ipython",
    "version": 3
   },
   "file_extension": ".py",
   "mimetype": "text/x-python",
   "name": "python",
   "nbconvert_exporter": "python",
   "pygments_lexer": "ipython3",
   "version": "3.7.6"
  }
 },
 "nbformat": 4,
 "nbformat_minor": 5
}
