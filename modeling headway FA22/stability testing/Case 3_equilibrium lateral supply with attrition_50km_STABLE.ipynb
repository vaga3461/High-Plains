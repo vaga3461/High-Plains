{
 "cells": [
  {
   "cell_type": "code",
   "execution_count": 26,
   "id": "e7d773a2",
   "metadata": {},
   "outputs": [],
   "source": [
    "# here we're going to just try writing something from scratch"
   ]
  },
  {
   "cell_type": "code",
   "execution_count": 27,
   "id": "25de3fa5",
   "metadata": {},
   "outputs": [],
   "source": [
    "import numpy as np\n",
    "import matplotlib.pyplot as plt"
   ]
  },
  {
   "cell_type": "code",
   "execution_count": 28,
   "id": "ce873636",
   "metadata": {},
   "outputs": [],
   "source": [
    "# set up arrays\n",
    "dx = 1000\n",
    "x = np.arange(0, 50000, dx)\n",
    "x_node = x + (dx/2)\n",
    "\n",
    "Hstar = 0.5\n",
    "etab = np.zeros(len(x)) # bedrock elevation, m\n",
    "etab[:] = np.linspace(5, 0.1, len(x)) # need to start with slight bedrock slope\n",
    "H = Hstar + np.zeros(len(x))\n",
    "eta = etab + H"
   ]
  },
  {
   "cell_type": "code",
   "execution_count": 29,
   "id": "063ff069",
   "metadata": {},
   "outputs": [],
   "source": [
    "# set up parameters\n",
    "K_ig = np.zeros(len(x))\n",
    "K_ig[:14] = 1e-7\n",
    "K_sed = np.zeros(len(x))\n",
    "K_sed[14:] = 1e-6\n",
    "\n",
    "beta_ig = np.zeros(len(x))\n",
    "beta_ig[:14] = 4e-7\n",
    "beta_sed = np.zeros(len(x))\n",
    "beta_sed[14:] = 4e-6\n",
    "\n",
    "# psi = np.zeros(len(x))\n",
    "# psi[:14] = 4e-7\n",
    "# psi[14:] = 4e-6\n",
    "psi = 4e-7\n",
    "gamma = 0.3\n",
    "\n",
    "r = 10 # runoff rate\n",
    "D = 0.015 # grain size\n",
    "phi = 0.45 # porosity\n",
    "baselevel_rate = 0.0001 # baselevel fall rate"
   ]
  },
  {
   "cell_type": "code",
   "execution_count": 30,
   "id": "d154296e",
   "metadata": {},
   "outputs": [],
   "source": [
    "kqs = 0.041\n",
    "I = 0.01\n",
    "kxb = 25\n",
    "Pxb = 1./5.\n",
    "kb = 8.3e-8\n",
    "\n",
    "B_valley = kxb * (x_node**Pxb)\n",
    "B_basin = (2./3.) * x_node\n",
    "\n",
    "area = (1./3.) * x**2\n",
    "# Q = r * x * B\n",
    "Q = r * area"
   ]
  },
  {
   "cell_type": "code",
   "execution_count": 31,
   "id": "a2ad3f1d",
   "metadata": {},
   "outputs": [
    {
     "data": {
      "text/plain": [
       "50"
      ]
     },
     "execution_count": 31,
     "metadata": {},
     "output_type": "execute_result"
    }
   ],
   "source": [
    "len(eta)"
   ]
  },
  {
   "cell_type": "code",
   "execution_count": 32,
   "id": "ad0248d7",
   "metadata": {},
   "outputs": [],
   "source": [
    "def model(x, dx, x_node,\n",
    "          K_ig, K_sed, beta_ig, beta_sed,\n",
    "          D, phi, Hstar, psi, gamma,\n",
    "          kb, kqs, I, r, B_valley, B_basin, Q,\n",
    "          etab, H, eta,\n",
    "          baselevel_rate,\n",
    "          num_steps = 1):\n",
    "    \n",
    "    q = Q/B_valley\n",
    "    dt = 0.2 * dx * dx / (kqs * q[-1]) # try changing to 10, 5, or 1 if this is unstable\n",
    "    \n",
    "    run_duration = dt * num_steps\n",
    "    cum_time = 0.0\n",
    "    \n",
    "    Qs = np.zeros(len(x))\n",
    "    qs = np.zeros(len(x))\n",
    "    Eb_p_ig = np.zeros(len(x))\n",
    "    Eb_p_sed = np.zeros(len(x))\n",
    "    Eb_a_ig = np.zeros(len(x))\n",
    "    Eb_a_sed = np.zeros(len(x))\n",
    "    Eb = np.zeros(len(x))\n",
    "    Eh = np.zeros(len(x))\n",
    "    E = np.zeros(len(x))\n",
    "    ql = np.zeros(len(x))\n",
    "    \n",
    "    H[-1] = 0\n",
    "    E[-1] = baselevel_rate\n",
    "    q[0] = 0\n",
    "    Qs[0] = 0\n",
    "    ql[0] = 0\n",
    "    \n",
    "    while cum_time < run_duration:\n",
    "        \n",
    "        # drop baselevel\n",
    "        eta[-1] -= baselevel_rate * dt\n",
    "        \n",
    "        # set boundary conditions\n",
    "        etab[-1] = eta[-1]\n",
    "        \n",
    "        # calc slope\n",
    "        S = -np.diff(eta)/dx\n",
    "        \n",
    "        # calc bed exposure\n",
    "        alpha = np.exp(-H/Hstar)\n",
    "        \n",
    "        # calc Rh\n",
    "#         width = (kb * Q[1:] * (S ** (7/6))) / (D**(3/2))\n",
    "#         depth = (0.09801 * D) / S\n",
    "#         Rh_efficiency = 1 - np.exp(-width/(2*depth))\n",
    "        \n",
    "        # calc sed transport\n",
    "        Qs[1:] = kqs * I * Q[1:] * S**(7./6.) * (1 - alpha[:-1]) # * Rh_efficiency\n",
    "        qs[1:] = Qs[1:] / B_valley[1:]\n",
    "        \n",
    "        # calc bedrock erosion\n",
    "        Eb_p_ig[:-1] = K_ig[1:] * Q[1:] * S * alpha[:-1]\n",
    "        Eb_p_sed[:-1] = K_sed[1:] * Q[1:] * S * alpha[:-1]\n",
    "        Eb_a_ig[:-1] = beta_ig[1:] * Qs[1:] * alpha[:-1]\n",
    "        Eb_a_sed[:-1] = beta_sed[1:] * Qs[1:] * alpha[:-1]\n",
    "        Eb[:-1] = (Eb_p_ig[:-1] + Eb_p_sed[:-1] + Eb_a_ig[:-1] + Eb_a_sed[:-1]) / B_valley[:-1]\n",
    "        \n",
    "        # calc grain attrition\n",
    "        atr = Qs * psi\n",
    "        \n",
    "        # calc equilibrium lateral supply\n",
    "        ql[1:14] = ((baselevel_rate * gamma) / psi) * (1 - np.exp(-psi/(3 * x[1:14])))\n",
    "        ql[14:] = 0\n",
    "        \n",
    "        # calc sediment erosion rate\n",
    "        Eh[:-1] = 1/((1 - phi) * B_valley[:-1]) * (np.diff(Qs)/dx + atr[1:] - Eb_p_ig[:-1] - ql[1:])\n",
    "        \n",
    "        # calc total erosion rate\n",
    "        E[:-1] = Eb[:-1] + Eh[:-1]\n",
    "        \n",
    "        # update topography\n",
    "        etab[:-1] -= Eb[:-1] * dt\n",
    "        H[:-1] -= Eh[:-1] * dt\n",
    "        H[H<0] = 0\n",
    "        eta[:-1] = etab[:-1] + H[:-1]\n",
    "        \n",
    "        # update elapsed time\n",
    "        cum_time += dt\n",
    "        \n",
    "    print(cum_time)\n",
    "        \n",
    "    return (dt, S, q, alpha, Qs, qs, Eb_p_ig, Eb_p_sed, Eb_a_ig, Eb_a_sed, Eb, atr, ql, Eh, E, etab, H, eta)"
   ]
  },
  {
   "cell_type": "code",
   "execution_count": 33,
   "id": "6fe3578c",
   "metadata": {},
   "outputs": [
    {
     "name": "stdout",
     "output_type": "stream",
     "text": [
      "6619211.935422632\n"
     ]
    }
   ],
   "source": [
    "#now write a test\n",
    "num_steps = 50000000\n",
    "test_run = [x, dx, x_node, \n",
    "            K_ig, K_sed, beta_ig, beta_sed, \n",
    "            D, phi, Hstar, psi, gamma,\n",
    "            kb, kqs, I, r, B_valley, B_basin, Q,\n",
    "            etab, H, eta,\n",
    "            baselevel_rate,\n",
    "            num_steps]\n",
    "\n",
    "# and run it\n",
    "(dt, S, q, alpha, Qs, qs, Eb_p_ig, Eb_p_sed, Eb_a_ig, Eb_a_sed, Eb, atr, ql, Eh, E, etab, H, eta) = model(*test_run)"
   ]
  },
  {
   "cell_type": "code",
   "execution_count": 34,
   "id": "c33469e6",
   "metadata": {},
   "outputs": [
    {
     "data": {
      "text/plain": [
       "array([9.99950990e-05, 9.99980034e-05, 9.99986215e-05, 9.99989230e-05,\n",
       "       9.99991110e-05, 9.99992430e-05, 9.99993425e-05, 9.99994210e-05,\n",
       "       9.99994851e-05, 9.99995386e-05, 9.99995841e-05, 9.99996237e-05,\n",
       "       9.99996581e-05, 9.99996884e-05, 9.99997142e-05, 9.99997370e-05,\n",
       "       9.99997573e-05, 9.99997761e-05, 9.99997924e-05, 9.99998075e-05,\n",
       "       9.99998217e-05, 9.99998345e-05, 9.99998462e-05, 9.99998570e-05,\n",
       "       9.99998671e-05, 9.99998767e-05, 9.99998859e-05, 9.99998939e-05,\n",
       "       9.99999019e-05, 9.99999089e-05, 9.99999160e-05, 9.99999224e-05,\n",
       "       9.99999289e-05, 9.99999347e-05, 9.99999400e-05, 9.99999454e-05,\n",
       "       9.99999504e-05, 9.99999559e-05, 9.99999598e-05, 9.99999643e-05,\n",
       "       9.99999685e-05, 9.99999725e-05, 9.99999771e-05, 9.99999802e-05,\n",
       "       9.99999837e-05, 9.99999872e-05, 9.99999905e-05, 9.99999939e-05,\n",
       "       9.99999973e-05, 1.00000000e-04])"
      ]
     },
     "execution_count": 34,
     "metadata": {},
     "output_type": "execute_result"
    }
   ],
   "source": [
    "E"
   ]
  },
  {
   "cell_type": "code",
   "execution_count": 35,
   "id": "bd1241ad",
   "metadata": {},
   "outputs": [
    {
     "data": {
      "text/plain": [
       "<matplotlib.legend.Legend at 0x7fc4ad606c50>"
      ]
     },
     "execution_count": 35,
     "metadata": {},
     "output_type": "execute_result"
    },
    {
     "data": {
      "image/png": "[encoded data removed]",
      "text/plain": [
       "<Figure size 432x288 with 1 Axes>"
      ]
     },
     "metadata": {
      "needs_background": "light"
     },
     "output_type": "display_data"
    }
   ],
   "source": [
    "plt.plot(x, eta, label = \"topography\")\n",
    "plt.plot(x, etab, label = \"bedrock\")\n",
    "plt.legend()"
   ]
  },
  {
   "cell_type": "code",
   "execution_count": 36,
   "id": "f0c237ac",
   "metadata": {},
   "outputs": [
    {
     "name": "stdout",
     "output_type": "stream",
     "text": [
      "[ 3.21256916  4.56903163  5.94286696  7.38983416  8.90143247 10.46861222\n",
      " 12.08435501 13.74326339 15.44109012 17.17440896 18.94039486 20.73667504\n",
      " 22.56122543 20.09126877 20.08188492 20.07259638 20.06339258 20.05426465\n",
      " 20.04520506 20.03620736 20.02726603 20.01837623 20.00953377 20.00073497\n",
      " 19.99197659 19.98325573 19.97456985 19.96591664 19.95729406 19.94870025\n",
      " 19.94013353 19.9315924  19.92307546 19.91458147 19.90610927 19.89765781\n",
      " 19.88922611 19.8808133  19.87241853 19.86404106 19.85568017 19.84733521\n",
      " 19.83900558 19.8306907  19.82239005 19.81410312 19.80582947 19.79756865\n",
      " 19.78932025]\n"
     ]
    }
   ],
   "source": [
    "# just for kicks\n",
    "kb = 8.3e-8\n",
    "b = (kb * Q[1:] * (S ** (7/6))) / (D**(3/2))\n",
    "print(b)"
   ]
  },
  {
   "cell_type": "code",
   "execution_count": 37,
   "id": "cdf26ffb",
   "metadata": {},
   "outputs": [
    {
     "name": "stdout",
     "output_type": "stream",
     "text": [
      "[0.03977585 0.09650556 0.15436949 0.209712   0.26210541 0.31177936\n",
      " 0.3590739  0.40430873 0.44775655 0.48964358 0.53015661 0.56945043\n",
      " 0.60765416 0.76206484 0.85808707 0.95885473 1.06428727 1.17431059\n",
      " 1.28885627 1.40786083 1.53126514 1.65901398 1.79105558 1.9273413\n",
      " 2.06782531 2.21246432 2.36121737 2.51404563 2.67091219 2.83178195\n",
      " 2.99662145 3.16539875 3.33808334 3.51464602 3.69505878 3.87929481\n",
      " 4.06732832 4.25913454 4.45468964 4.65397068 4.85695555 5.0636229\n",
      " 5.27395216 5.48792343 5.7055175  5.92671577 6.15150024 6.37985348\n",
      " 6.61175862]\n"
     ]
    }
   ],
   "source": [
    "# ok really going out on a limb here...\n",
    "depth = (0.09801 * D) / S\n",
    "print(depth)"
   ]
  },
  {
   "cell_type": "code",
   "execution_count": 38,
   "id": "a930af00",
   "metadata": {},
   "outputs": [
    {
     "data": {
      "text/plain": [
       "<matplotlib.legend.Legend at 0x7fc4ad672710>"
      ]
     },
     "execution_count": 38,
     "metadata": {},
     "output_type": "execute_result"
    },
    {
     "data": {
      "image/png": "[encoded data removed]",
      "text/plain": [
       "<Figure size 432x288 with 1 Axes>"
      ]
     },
     "metadata": {
      "needs_background": "light"
     },
     "output_type": "display_data"
    }
   ],
   "source": [
    "plt.plot(x[1:], b, label = 'width')\n",
    "plt.plot(x[1:], depth, label = 'depth')\n",
    "plt.ylabel('width or depth (m)')\n",
    "plt.xlabel('distance (m)')\n",
    "plt.legend()"
   ]
  },
  {
   "cell_type": "code",
   "execution_count": 39,
   "id": "5190c632",
   "metadata": {},
   "outputs": [
    {
     "data": {
      "text/plain": [
       "[<matplotlib.lines.Line2D at 0x7fc4ad824850>]"
      ]
     },
     "execution_count": 39,
     "metadata": {},
     "output_type": "execute_result"
    },
    {
     "data": {
      "image/png": "[encoded data removed]",
      "text/plain": [
       "<Figure size 432x288 with 1 Axes>"
      ]
     },
     "metadata": {
      "needs_background": "light"
     },
     "output_type": "display_data"
    }
   ],
   "source": [
    "plt.plot(x[1:], S)"
   ]
  },
  {
   "cell_type": "code",
   "execution_count": 40,
   "id": "ec103b47",
   "metadata": {},
   "outputs": [
    {
     "data": {
      "text/plain": [
       "array([0.03696087, 0.01523384, 0.00952358, 0.00701033, 0.005609  ,\n",
       "       0.00471535, 0.00409428, 0.00363621, 0.00328337, 0.00300249,\n",
       "       0.00277305, 0.0025817 , 0.00241939, 0.00192917, 0.00171329,\n",
       "       0.00153324, 0.00138135, 0.00125193, 0.00114066, 0.00104424,\n",
       "       0.00096009, 0.00088616, 0.00082083, 0.00076279, 0.00071096,\n",
       "       0.00066449, 0.00062262, 0.00058477, 0.00055043, 0.00051916,\n",
       "       0.0004906 , 0.00046444, 0.00044042, 0.00041829, 0.00039787,\n",
       "       0.00037897, 0.00036145, 0.00034518, 0.00033002, 0.00031589,\n",
       "       0.00030269, 0.00029034, 0.00027876, 0.00026789, 0.00025767,\n",
       "       0.00024805, 0.00023899, 0.00023044, 0.00022235])"
      ]
     },
     "execution_count": 40,
     "metadata": {},
     "output_type": "execute_result"
    }
   ],
   "source": [
    "S"
   ]
  },
  {
   "cell_type": "code",
   "execution_count": 41,
   "id": "1294a26e",
   "metadata": {},
   "outputs": [
    {
     "data": {
      "text/plain": [
       "array([0.00000000e+00, 1.00000008e-08, 5.00000041e-09, 3.33333361e-09,\n",
       "       2.50000021e-09, 2.00000017e-09, 1.66666680e-09, 1.42857393e-09,\n",
       "       1.25000010e-09, 1.11111120e-09, 1.00000008e-09, 9.09089470e-10,\n",
       "       8.33333402e-10, 7.69234676e-10, 0.00000000e+00, 0.00000000e+00,\n",
       "       0.00000000e+00, 0.00000000e+00, 0.00000000e+00, 0.00000000e+00,\n",
       "       0.00000000e+00, 0.00000000e+00, 0.00000000e+00, 0.00000000e+00,\n",
       "       0.00000000e+00, 0.00000000e+00, 0.00000000e+00, 0.00000000e+00,\n",
       "       0.00000000e+00, 0.00000000e+00, 0.00000000e+00, 0.00000000e+00,\n",
       "       0.00000000e+00, 0.00000000e+00, 0.00000000e+00, 0.00000000e+00,\n",
       "       0.00000000e+00, 0.00000000e+00, 0.00000000e+00, 0.00000000e+00,\n",
       "       0.00000000e+00, 0.00000000e+00, 0.00000000e+00, 0.00000000e+00,\n",
       "       0.00000000e+00, 0.00000000e+00, 0.00000000e+00, 0.00000000e+00,\n",
       "       0.00000000e+00, 0.00000000e+00])"
      ]
     },
     "execution_count": 41,
     "metadata": {},
     "output_type": "execute_result"
    }
   ],
   "source": [
    "ql"
   ]
  },
  {
   "cell_type": "code",
   "execution_count": 59,
   "id": "130b9313",
   "metadata": {},
   "outputs": [],
   "source": [
    "small_a_dist = 0.02 * x**(2)"
   ]
  },
  {
   "cell_type": "code",
   "execution_count": 60,
   "id": "b76d9045",
   "metadata": {},
   "outputs": [
    {
     "data": {
      "text/plain": [
       "array([0.000e+00, 2.000e+04, 8.000e+04, 1.800e+05, 3.200e+05, 5.000e+05,\n",
       "       7.200e+05, 9.800e+05, 1.280e+06, 1.620e+06, 2.000e+06, 2.420e+06,\n",
       "       2.880e+06, 3.380e+06, 3.920e+06, 4.500e+06, 5.120e+06, 5.780e+06,\n",
       "       6.480e+06, 7.220e+06, 8.000e+06, 8.820e+06, 9.680e+06, 1.058e+07,\n",
       "       1.152e+07, 1.250e+07, 1.352e+07, 1.458e+07, 1.568e+07, 1.682e+07,\n",
       "       1.800e+07, 1.922e+07, 2.048e+07, 2.178e+07, 2.312e+07, 2.450e+07,\n",
       "       2.592e+07, 2.738e+07, 2.888e+07, 3.042e+07, 3.200e+07, 3.362e+07,\n",
       "       3.528e+07, 3.698e+07, 3.872e+07, 4.050e+07, 4.232e+07, 4.418e+07,\n",
       "       4.608e+07, 4.802e+07])"
      ]
     },
     "execution_count": 60,
     "metadata": {},
     "output_type": "execute_result"
    }
   ],
   "source": [
    "small_a_dist"
   ]
  },
  {
   "cell_type": "code",
   "execution_count": 61,
   "id": "134e3392",
   "metadata": {},
   "outputs": [
    {
     "data": {
      "text/plain": [
       "array([    0,  1000,  2000,  3000,  4000,  5000,  6000,  7000,  8000,\n",
       "        9000, 10000, 11000, 12000, 13000, 14000, 15000, 16000, 17000,\n",
       "       18000, 19000, 20000, 21000, 22000, 23000, 24000, 25000, 26000,\n",
       "       27000, 28000, 29000, 30000, 31000, 32000, 33000, 34000, 35000,\n",
       "       36000, 37000, 38000, 39000, 40000, 41000, 42000, 43000, 44000,\n",
       "       45000, 46000, 47000, 48000, 49000])"
      ]
     },
     "execution_count": 61,
     "metadata": {},
     "output_type": "execute_result"
    }
   ],
   "source": [
    "x"
   ]
  },
  {
   "cell_type": "code",
   "execution_count": 64,
   "id": "6387883d",
   "metadata": {},
   "outputs": [],
   "source": [
    "small_area = area[13]\n",
    "small_a_array = np.linspace(0, small_area, len(x))\n",
    "S_pred_array = ((baselevel_rate * gamma * small_a_array[1:])/(kqs * I * Q[1:]))**(6./7.)"
   ]
  },
  {
   "cell_type": "code",
   "execution_count": 65,
   "id": "c926e74b",
   "metadata": {},
   "outputs": [
    {
     "data": {
      "text/plain": [
       "[<matplotlib.lines.Line2D at 0x7fc4adc43990>]"
      ]
     },
     "execution_count": 65,
     "metadata": {},
     "output_type": "execute_result"
    },
    {
     "data": {
      "image/png": "[encoded data removed]",
      "text/plain": [
       "<Figure size 432x288 with 1 Axes>"
      ]
     },
     "metadata": {
      "needs_background": "light"
     },
     "output_type": "display_data"
    }
   ],
   "source": [
    "plt.plot(S_pred_array)\n",
    "plt.plot(S)"
   ]
  },
  {
   "cell_type": "code",
   "execution_count": 44,
   "id": "f4cdc349",
   "metadata": {},
   "outputs": [
    {
     "data": {
      "text/plain": [
       "array([1.19963528, 0.36559295, 0.18244295, 0.1114157 , 0.07600024,\n",
       "       0.05560011, 0.04268839, 0.03395431, 0.02774629, 0.02316133,\n",
       "       0.01967001, 0.01694432, 0.01477175, 0.01300943, 0.01155827,\n",
       "       0.01034769, 0.00932628, 0.00845578, 0.00770726, 0.00705849,\n",
       "       0.00649214, 0.0059945 , 0.00555468, 0.00516384, 0.00481483,\n",
       "       0.00450174, 0.00421971, 0.00396467, 0.0037332 , 0.00352242,\n",
       "       0.00332988, 0.00315349, 0.00299146, 0.00284221, 0.00270443,\n",
       "       0.00257693, 0.00245869, 0.00234881, 0.00224652, 0.0021511 ,\n",
       "       0.00206194, 0.0019785 , 0.00190028, 0.00182685, 0.0017578 ,\n",
       "       0.00169281, 0.00163153, 0.0015737 , 0.00151904])"
      ]
     },
     "execution_count": 44,
     "metadata": {},
     "output_type": "execute_result"
    }
   ],
   "source": [
    "S_pred_array"
   ]
  },
  {
   "cell_type": "code",
   "execution_count": 45,
   "id": "7318e729",
   "metadata": {},
   "outputs": [
    {
     "name": "stdout",
     "output_type": "stream",
     "text": [
      "[1.16267441 0.35035911 0.17291937 0.10440537 0.07039123 0.05088476\n",
      " 0.0385941  0.03031811 0.02446292 0.02015884 0.01689696 0.01436262\n",
      " 0.01235237 0.01108026 0.00984498 0.00881446 0.00794493 0.00720385\n",
      " 0.0065666  0.00601425 0.00553205 0.00510834 0.00473385 0.00440105\n",
      " 0.00410386 0.00383726 0.00359709 0.00337989 0.00318277 0.00300326\n",
      " 0.00283928 0.00268905 0.00255104 0.00242392 0.00230656 0.00219795\n",
      " 0.00209723 0.00200364 0.0019165  0.00183521 0.00175925 0.00168816\n",
      " 0.00162152 0.00155896 0.00150013 0.00144475 0.00139254 0.00134326\n",
      " 0.00129669]\n"
     ]
    }
   ],
   "source": [
    "difference = S_pred_array - S\n",
    "print(difference)"
   ]
  },
  {
   "cell_type": "code",
   "execution_count": 51,
   "id": "80cf4ef5",
   "metadata": {},
   "outputs": [
    {
     "data": {
      "text/plain": [
       "56333333.33333333"
      ]
     },
     "execution_count": 51,
     "metadata": {},
     "output_type": "execute_result"
    }
   ],
   "source": [
    "area[13]"
   ]
  },
  {
   "cell_type": "code",
   "execution_count": 53,
   "id": "2970351d",
   "metadata": {},
   "outputs": [
    {
     "data": {
      "text/plain": [
       "50"
      ]
     },
     "execution_count": 53,
     "metadata": {},
     "output_type": "execute_result"
    }
   ],
   "source": [
    "len(x)"
   ]
  },
  {
   "cell_type": "code",
   "execution_count": null,
   "id": "c5cdab80",
   "metadata": {},
   "outputs": [],
   "source": []
  }
 ],
 "metadata": {
  "kernelspec": {
   "display_name": "Python 3",
   "language": "python",
   "name": "python3"
  },
  "language_info": {
   "codemirror_mode": {
    "name": "ipython",
    "version": 3
   },
   "file_extension": ".py",
   "mimetype": "text/x-python",
   "name": "python",
   "nbconvert_exporter": "python",
   "pygments_lexer": "ipython3",
   "version": "3.7.6"
  }
 },
 "nbformat": 4,
 "nbformat_minor": 5
}
