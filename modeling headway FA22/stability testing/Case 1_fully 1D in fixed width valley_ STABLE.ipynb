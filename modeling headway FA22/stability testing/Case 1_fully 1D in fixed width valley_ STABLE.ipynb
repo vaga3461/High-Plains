{
 "cells": [
  {
   "cell_type": "code",
   "execution_count": 13,
   "id": "e7d773a2",
   "metadata": {},
   "outputs": [],
   "source": [
    "# here we're going to just try writing something from scratch\n",
    "# do single lith for starters"
   ]
  },
  {
   "cell_type": "code",
   "execution_count": 14,
   "id": "25de3fa5",
   "metadata": {},
   "outputs": [],
   "source": [
    "import numpy as np\n",
    "import matplotlib.pyplot as plt"
   ]
  },
  {
   "cell_type": "code",
   "execution_count": 57,
   "id": "ce873636",
   "metadata": {},
   "outputs": [],
   "source": [
    "# set up arrays\n",
    "dx = 1000\n",
    "x = np.arange(0, 50000, dx)\n",
    "x_node = x + (dx/2)\n",
    "\n",
    "Hstar = 0.5\n",
    "etab = np.zeros(len(x)) # bedrock elevation, m\n",
    "etab[:] = np.linspace(1, 0.1, len(x)) # need to start with slight bedrock slope\n",
    "H = Hstar + np.zeros(len(x))\n",
    "eta = etab + H"
   ]
  },
  {
   "cell_type": "code",
   "execution_count": 58,
   "id": "063ff069",
   "metadata": {},
   "outputs": [],
   "source": [
    "# set up parameters\n",
    "K_ig = np.zeros(len(x))\n",
    "K_ig[:14] = 1e-8\n",
    "K_sed = np.zeros(len(x))\n",
    "K_sed[14:] = 1e-7\n",
    "\n",
    "beta_ig = np.zeros(len(x))\n",
    "beta_ig[:14] = 4e-6\n",
    "beta_sed = np.zeros(len(x))\n",
    "beta_sed[14:] = 4e-4\n",
    "\n",
    "psi = 4e-6\n",
    "\n",
    "r = 10 # runoff rate\n",
    "D = 0.03 # grain size\n",
    "phi = 0.45 # porosity\n",
    "baselevel_rate = 0.0001 # baselevel fall rate"
   ]
  },
  {
   "cell_type": "code",
   "execution_count": 59,
   "id": "d154296e",
   "metadata": {},
   "outputs": [],
   "source": [
    "kqs = 0.041\n",
    "I = 0.01\n",
    "kxb = 25\n",
    "Pxb = 1./5.\n",
    "\n",
    "B = kxb * (x_node**Pxb)\n",
    "\n",
    "Q = r * x * B"
   ]
  },
  {
   "cell_type": "code",
   "execution_count": 60,
   "id": "a2ad3f1d",
   "metadata": {},
   "outputs": [
    {
     "data": {
      "text/plain": [
       "50"
      ]
     },
     "execution_count": 60,
     "metadata": {},
     "output_type": "execute_result"
    }
   ],
   "source": [
    "len(eta)"
   ]
  },
  {
   "cell_type": "code",
   "execution_count": 61,
   "id": "ad0248d7",
   "metadata": {},
   "outputs": [],
   "source": [
    "def model(x, dx, x_node,\n",
    "          K_ig, K_sed, beta_ig, beta_sed,\n",
    "          D, phi, Hstar, psi,\n",
    "          kqs, I, r, B, Q,\n",
    "          etab, H, eta,\n",
    "          baselevel_rate,\n",
    "          num_steps = 1):\n",
    "    \n",
    "    q = Q/B\n",
    "    dt = 0.2 * dx * dx / (kqs * q[-1])\n",
    "    \n",
    "    run_duration = dt * num_steps\n",
    "    cum_time = 0.0\n",
    "    \n",
    "    Qs = np.zeros(len(x))\n",
    "    qs = np.zeros(len(x))\n",
    "    Eb_p_ig = np.zeros(len(x))\n",
    "    Eb_p_sed = np.zeros(len(x))\n",
    "    Eb_a_ig = np.zeros(len(x))\n",
    "    Eb_a_sed = np.zeros(len(x))\n",
    "    Eb = np.zeros(len(x))\n",
    "    Eh = np.zeros(len(x))\n",
    "    E = np.zeros(len(x))\n",
    "    \n",
    "    H[-1] = 0\n",
    "    E[-1] = baselevel_rate\n",
    "    q[0] = 0\n",
    "    Qs[0] = 0\n",
    "    \n",
    "    while cum_time < run_duration:\n",
    "        \n",
    "        # drop baselevel\n",
    "        eta[-1] -= baselevel_rate * dt\n",
    "        \n",
    "        # set boundary conditions\n",
    "        etab[-1] = eta[-1]\n",
    "        \n",
    "        # calc slope\n",
    "        S = -np.diff(eta)/dx\n",
    "        \n",
    "        # calc bed exposure\n",
    "        alpha = np.exp(-H/Hstar)\n",
    "        \n",
    "        # calc sed transport\n",
    "        Qs[1:] = kqs * I * Q[1:] * S**(7./6.) * (1 - alpha[:-1])\n",
    "        qs[1:] = Qs[1:] / B[1:]\n",
    "        \n",
    "        # calc bedrock erosion\n",
    "        Eb_p_ig[:-1] = K_ig[1:] * q[1:] * S * alpha[:-1]\n",
    "        Eb_p_sed[:-1] = K_sed[1:] * q[1:] * S * alpha[:-1]\n",
    "        Eb_a_ig[:-1] = beta_ig[1:] * qs[1:] * alpha[:-1]\n",
    "        Eb_a_sed[:-1] = beta_sed[1:] * qs[1:] * alpha[:-1]\n",
    "        Eb[:-1] = Eb_p_ig[:-1] + Eb_p_sed[:-1] + Eb_a_ig[:-1] + Eb_a_sed[:-1] \n",
    "        \n",
    "        # calc grain attrition\n",
    "        atr = Qs * psi\n",
    "        \n",
    "        # calc sediment erosion rate\n",
    "        Eh[:-1] = 1/((1 - phi) * B[:-1]) * (np.diff(Qs)/dx + atr[1:] - (Eb_p_ig[:-1] * B[:-1]))\n",
    "        \n",
    "        # calc total erosion rate\n",
    "        E[:-1] = Eb[:-1] + Eh[:-1]\n",
    "        \n",
    "        # update topography\n",
    "        etab[:-1] -= Eb[:-1] * dt\n",
    "        H[:-1] -= Eh[:-1] * dt\n",
    "        H[H<0] = 0\n",
    "        eta[:-1] = etab[:-1] + H[:-1]\n",
    "        \n",
    "        # update elapsed time\n",
    "        cum_time += dt\n",
    "        \n",
    "    print(cum_time)\n",
    "        \n",
    "    return (dt, S, q, alpha, Qs, qs, Eb_p_ig, Eb_p_sed, Eb_a_ig, Eb_a_sed, Eb, atr, Eh, E, etab, H, eta)"
   ]
  },
  {
   "cell_type": "code",
   "execution_count": 67,
   "id": "6fe3578c",
   "metadata": {},
   "outputs": [
    {
     "name": "stdout",
     "output_type": "stream",
     "text": [
      "49776007.96814997\n"
     ]
    }
   ],
   "source": [
    "#now write a test\n",
    "num_steps = 5000000\n",
    "test_run = [x, dx, x_node, \n",
    "            K_ig, K_sed, beta_ig, beta_sed, \n",
    "            D, phi, Hstar, psi,\n",
    "            kqs, I, r, B, Q,\n",
    "            etab, H, eta,\n",
    "            baselevel_rate,\n",
    "            num_steps]\n",
    "\n",
    "# and run it\n",
    "(dt, S, q, alpha, Qs, qs, Eb_p_ig, Eb_p_sed, Eb_a_ig, Eb_a_sed, Eb, atr, Eh, E, etab, H, eta) = model(*test_run)"
   ]
  },
  {
   "cell_type": "code",
   "execution_count": 68,
   "id": "4e320f36",
   "metadata": {},
   "outputs": [
    {
     "data": {
      "text/plain": [
       "array([8.18626583e-05, 9.30515221e-05, 9.55128932e-05, 9.66010090e-05,\n",
       "       9.72477580e-05, 9.76882842e-05, 9.80132278e-05, 9.82658381e-05,\n",
       "       9.84696531e-05, 9.86387038e-05, 9.87819341e-05, 9.89053479e-05,\n",
       "       9.90131445e-05, 9.91083611e-05, 9.91614624e-05, 9.92106774e-05,\n",
       "       9.92565028e-05, 9.92993464e-05, 9.93395473e-05, 9.93773905e-05,\n",
       "       9.94131175e-05, 9.94469350e-05, 9.94790211e-05, 9.95095304e-05,\n",
       "       9.95385977e-05, 9.95663416e-05, 9.95928668e-05, 9.96182661e-05,\n",
       "       9.96426223e-05, 9.96660095e-05, 9.96884941e-05, 9.97101363e-05,\n",
       "       9.97309903e-05, 9.97511054e-05, 9.97705265e-05, 9.97892945e-05,\n",
       "       9.98074469e-05, 9.98250180e-05, 9.98420397e-05, 9.98585409e-05,\n",
       "       9.98745487e-05, 9.98900880e-05, 9.99051818e-05, 9.99198518e-05,\n",
       "       9.99341178e-05, 9.99479985e-05, 9.99615113e-05, 9.99746725e-05,\n",
       "       9.99874973e-05, 1.00000000e-04])"
      ]
     },
     "execution_count": 68,
     "metadata": {},
     "output_type": "execute_result"
    }
   ],
   "source": [
    "E"
   ]
  },
  {
   "cell_type": "code",
   "execution_count": 69,
   "id": "bd1241ad",
   "metadata": {},
   "outputs": [
    {
     "data": {
      "text/plain": [
       "[<matplotlib.lines.Line2D at 0x7fba296e6090>]"
      ]
     },
     "execution_count": 69,
     "metadata": {},
     "output_type": "execute_result"
    },
    {
     "data": {
      "image/png": "[encoded data removed]",
      "text/plain": [
       "<Figure size 432x288 with 1 Axes>"
      ]
     },
     "metadata": {
      "needs_background": "light"
     },
     "output_type": "display_data"
    }
   ],
   "source": [
    "plt.plot(x, eta)"
   ]
  },
  {
   "cell_type": "code",
   "execution_count": 70,
   "id": "6c6a9d26",
   "metadata": {},
   "outputs": [],
   "source": [
    "# so far so good!"
   ]
  },
  {
   "cell_type": "code",
   "execution_count": 71,
   "id": "da2c53ba",
   "metadata": {},
   "outputs": [
    {
     "data": {
      "text/plain": [
       "array([0.83247589, 0.48207358, 0.33709378, 0.26157875, 0.21561533,\n",
       "       0.18477222, 0.16267182, 0.14607278, 0.13315619, 0.12282348,\n",
       "       0.11437237, 0.10733322, 0.10138019, 0.03392226, 0.03153956,\n",
       "       0.02945627, 0.02761947, 0.02598803, 0.02452944, 0.02321774,\n",
       "       0.02203188, 0.02095467, 0.01997189, 0.01907172, 0.0182442 ,\n",
       "       0.01748093, 0.01677474, 0.01611951, 0.01550993, 0.01494143,\n",
       "       0.01441002, 0.0139122 , 0.01344492, 0.01300546, 0.01259144,\n",
       "       0.01220071, 0.0118314 , 0.01148179, 0.01115036, 0.01083575,\n",
       "       0.01053672, 0.01025215, 0.00998103, 0.00972243, 0.00947552,\n",
       "       0.00923953, 0.00901376, 0.00879756, 0.00859036])"
      ]
     },
     "execution_count": 71,
     "metadata": {},
     "output_type": "execute_result"
    }
   ],
   "source": [
    "S"
   ]
  },
  {
   "cell_type": "code",
   "execution_count": null,
   "id": "2c00b775",
   "metadata": {},
   "outputs": [],
   "source": [
    "# woo! last check - can it handle two liths?\n",
    "# reverting back to smaller, faster runs to check this"
   ]
  },
  {
   "cell_type": "code",
   "execution_count": null,
   "id": "0740f462",
   "metadata": {},
   "outputs": [],
   "source": [
    "# call it good"
   ]
  },
  {
   "cell_type": "code",
   "execution_count": 72,
   "id": "f0c237ac",
   "metadata": {},
   "outputs": [
    {
     "name": "stdout",
     "output_type": "stream",
     "text": [
      "[13.9204971  16.30245846 17.23112436 17.97111077 18.66401139 19.34103014\n",
      " 20.01293968 20.68429983 21.35723586 22.03276652 22.71135781 23.39318239\n",
      " 24.07825161  7.33336634  7.31406362  7.29446905  7.27462679  7.25457379\n",
      "  7.23434131  7.21395598  7.1934407   7.17281527  7.15209696  7.13130087\n",
      "  7.11044031  7.08952705  7.06857156  7.04758315  7.02657018  7.00554017\n",
      "  6.98449986  6.96345538  6.94241227  6.92137555  6.90034981  6.87933924\n",
      "  6.85834764  6.83737853  6.81643512  6.79552035  6.77463695  6.75378742\n",
      "  6.73297406  6.71219901  6.69146424  6.67077157  6.6501227   6.6295192\n",
      "  6.6089625 ]\n"
     ]
    }
   ],
   "source": [
    "# just for kicks\n",
    "kb = 8.3e-8\n",
    "b = (kb * Q[1:] * (S ** (7/6))) / (D**(3/2))\n",
    "print(b)"
   ]
  },
  {
   "cell_type": "code",
   "execution_count": 73,
   "id": "d32b5c5a",
   "metadata": {},
   "outputs": [],
   "source": [
    "# amazing!!"
   ]
  },
  {
   "cell_type": "code",
   "execution_count": 74,
   "id": "cdf26ffb",
   "metadata": {},
   "outputs": [
    {
     "name": "stdout",
     "output_type": "stream",
     "text": [
      "[0.00353199 0.00609928 0.0087225  0.01124059 0.01363679 0.01591311\n",
      " 0.01807504 0.02012901 0.02208159 0.02393923 0.02570813 0.02739413\n",
      " 0.02900271 0.08667761 0.09322577 0.09981916 0.1064575  0.11314057\n",
      " 0.1198682  0.12664026 0.13345661 0.14031719 0.1472219  0.15417071\n",
      " 0.16116357 0.16820047 0.17528139 0.18240635 0.18957534 0.1967884\n",
      " 0.20404554 0.21134681 0.21869226 0.22608191 0.23351584 0.2409941\n",
      " 0.24851675 0.25608387 0.26369551 0.27135176 0.27905269 0.28679839\n",
      " 0.29458894 0.30242442 0.31030492 0.31823053 0.32620136 0.33421748\n",
      " 0.342279  ]\n"
     ]
    }
   ],
   "source": [
    "# ok really going out on a limb here...\n",
    "depth = (0.09801 * D) / S\n",
    "print(depth)"
   ]
  },
  {
   "cell_type": "code",
   "execution_count": null,
   "id": "a4130ced",
   "metadata": {},
   "outputs": [],
   "source": [
    "# okay, so pretty wide relative to depth, but not too shabby"
   ]
  }
 ],
 "metadata": {
  "kernelspec": {
   "display_name": "Python 3",
   "language": "python",
   "name": "python3"
  },
  "language_info": {
   "codemirror_mode": {
    "name": "ipython",
    "version": 3
   },
   "file_extension": ".py",
   "mimetype": "text/x-python",
   "name": "python",
   "nbconvert_exporter": "python",
   "pygments_lexer": "ipython3",
   "version": "3.7.6"
  }
 },
 "nbformat": 4,
 "nbformat_minor": 5
}
