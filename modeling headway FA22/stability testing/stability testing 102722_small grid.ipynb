{
 "cells": [
  {
   "cell_type": "code",
   "execution_count": 1,
   "id": "dfa5c027",
   "metadata": {},
   "outputs": [],
   "source": [
    "# the purpose of this notebook is to continue testing model stability\n",
    "\n",
    "## NEW ADDITIONS \n",
    "# exponentially decrease sediment transport such that  minimal transport occurs as the width : depth goes below 2\n",
    "# make single lithology, for simplicity while testing\n",
    "# downsize to examine 2 cell model\n",
    "# gradually scale up, if math seems to operate correctly"
   ]
  },
  {
   "cell_type": "code",
   "execution_count": 2,
   "id": "2032acfc",
   "metadata": {},
   "outputs": [],
   "source": [
    "# IMPORT LIBRARIES\n",
    "import numpy as np\n",
    "import matplotlib.pyplot as plt"
   ]
  },
  {
   "cell_type": "code",
   "execution_count": 3,
   "id": "2a6324b8",
   "metadata": {},
   "outputs": [],
   "source": [
    "# DEFINE PARAMETERS\n",
    "\n",
    "dx = 1000 # grid spacing, m\n",
    "x = np.arange(0, 2000, dx) # domain length, m\n",
    "x_node = x + (dx/2) # node-centered x, m\n",
    "\n",
    "beta = np.zeros(len(x)) # abrasion coeffcient, 1/m\n",
    "beta[:] = 4e-5\n",
    "psi = 4e-5 # attrition factor, 1/m\n",
    "\n",
    "K = np.zeros(len(x)) # rock erodibility, 1/m\n",
    "K[:] = 1e-9\n",
    "\n",
    "gamma = np.zeros(len(x)) # fraction of coarse material from hillslopes\n",
    "gamma[:] = 0.3\n",
    "r = 10. # runoff rate, m/yr\n",
    "\n",
    "Hstar = 0.5 # characteristic sediment thickness, m\n",
    "phi = 0.55 # sediment porosity\n",
    "D = 0.03 # grain size, m\n",
    "\n",
    "kxb = 25 # valley width coeffcient\n",
    "Pxb = 1./5. # valley width exponent\n",
    "kb = 8.3e-8 # channel width coeffcient\n",
    "kqs = 0.041 # sediment discharge coefficient\n",
    "I = 0.01 # intermittency factor\n",
    "\n",
    "baselevel_rate = 0.0005 # baselevel fall rate, m/yr"
   ]
  },
  {
   "cell_type": "code",
   "execution_count": 4,
   "id": "ceb6b71b",
   "metadata": {},
   "outputs": [
    {
     "data": {
      "text/plain": [
       "1500.0"
      ]
     },
     "execution_count": 4,
     "metadata": {},
     "output_type": "execute_result"
    }
   ],
   "source": [
    "x_node[1]"
   ]
  },
  {
   "cell_type": "code",
   "execution_count": 5,
   "id": "a32faf4a",
   "metadata": {},
   "outputs": [],
   "source": [
    "# SET UP ARRAYS\n",
    "\n",
    "H = 100 * Hstar + np.zeros(len(x)) # sediment thickness, m\n",
    "\n",
    "etab = np.zeros(len(x)) # bedrock elevation, m\n",
    "etab[:] = np.linspace(1, 0.1, len(x)) # need to start with slight bedrock slope\n",
    "\n",
    "eta = etab + H # total topographic elevation, m"
   ]
  },
  {
   "cell_type": "code",
   "execution_count": 6,
   "id": "f9fd57a4",
   "metadata": {},
   "outputs": [],
   "source": [
    "# CALCULATE CONSTANT, DERIVATIVE VALUES\n",
    "\n",
    "B_valley = kxb * (x_node**Pxb) # valley width, m\n",
    "B = (2./3.) * x_node # basin width at any point along channel, m\n",
    "\n",
    "area = (1./3.) * (x**2) # area set by Hack's law, m^2\n",
    "Q = r * area # total basin discharge, m^3/yr\n",
    "q = Q/B_valley # unit discharge, m^2/yr"
   ]
  },
  {
   "cell_type": "code",
   "execution_count": 7,
   "id": "e8bdb480",
   "metadata": {},
   "outputs": [
    {
     "data": {
      "text/plain": [
       "2"
      ]
     },
     "execution_count": 7,
     "metadata": {},
     "output_type": "execute_result"
    }
   ],
   "source": [
    "len(x)"
   ]
  },
  {
   "cell_type": "code",
   "execution_count": 8,
   "id": "e09f86fc",
   "metadata": {},
   "outputs": [],
   "source": [
    "def model(dx, x, x_node, # grid setup parameters\n",
    "          beta, psi, # abrasion properties\n",
    "          K, # erodibility\n",
    "          gamma, r, # hillslope properties\n",
    "          Hstar, phi, D, # sediment properties\n",
    "          kxb, Pxb, kb, kqs, I, # wickert and schildgen coeffcients\n",
    "          baselevel_rate, # lowering rate\n",
    "          H, etab, eta, # topography information\n",
    "          B_valley, B, area, Q, q, # drainage basin properties\n",
    "          num_steps = 1): # number of steps\n",
    "    \n",
    "    # calculate timestep\n",
    "    dt_global = 0.2 * (0.2 * dx * dx / (kqs*(Q[-1]/B[-1]))) # default timestep, yrs\n",
    "    tau = 100 # timescale for hillslope response, yrs\n",
    "    run_duration = dt_global * num_steps # total amount of time to run, yrs\n",
    "    cum_time = 0.0 # time elapsed, yrs\n",
    "    \n",
    "    # define arrays\n",
    "    b = np.zeros(len(x)) # channel width, m,\n",
    "    Eb_p = np.zeros(len(x)) # plucking rate, m/yr,\n",
    "    Eb_a = np.zeros(len(x)) # abrasion rate, m/yr,\n",
    "    Eb = np.zeros(len(x)) # bedrock erosion rate, m/yr,\n",
    "    Eh = np.zeros(len(x)) # sediment erosion rate, m/yr,\n",
    "    E = np.zeros(len(x)) # total erosion rate, m/yr,\n",
    "    Qs = np.zeros(len(x)) # total sediment transport, m^3/yr,\n",
    "    qs = np.zeros(len(x)) # unit sediment transport, m^2/yr,\n",
    "    ql = np.zeros(len(x)) # lateral sediment supply, m^2/yr,\n",
    "    E_vals = np.zeros((2, len(x))) # store current and past erosion rates in this array, m/yr,\n",
    "    E_avg = np.zeros(len(x)) # weighted average erosion rates, m/yr\n",
    "    \n",
    "    # set boundary conditions\n",
    "    b[0] = 0 # channel width,\n",
    "    H[-1] = 0 # sediment thickness,\n",
    "    E[-1] = baselevel_rate # lowering rate,\n",
    "    q[0] = 0 # unit discharge,\n",
    "    Qs[0] = 0 # total sediment transport,\n",
    "    qs[0] = 0 # unit sediment transport,\n",
    "    ql[0] = 0 # lateral suppy\n",
    "    \n",
    "    while cum_time < run_duration:\n",
    "        \n",
    "        # update governing properties\n",
    "        S = np.abs((np.diff(eta)/dx)) # slope\n",
    "        b = (kb * Q[1:] * (S ** (7/6))) / (D**(3/2)) # channel width, m\n",
    "        invalid_b = np.where(b > B_valley[1:])[0]\n",
    "        \n",
    "        if len(invalid_b) > 0:\n",
    "            b[invalid_b] = B_valley[1:]\n",
    "        else:\n",
    "            b = (kb * Q[1:] * (S ** (7/6))) / (D**(3/2))\n",
    "            \n",
    "            \n",
    "        # depth = ((q[1:] * D**(1./6.)) / (5.9 * ((9.77e15)**(1./2.)) * S**(1./2.)))**(3./5.)\n",
    "        depth = (0.09801 * D) / S\n",
    "        alpha = np.exp(-H/Hstar) # bed exposure\n",
    "        \n",
    "        \n",
    "        \n",
    "        # calculate rates\n",
    "        \n",
    "        # calculate sediment transport\n",
    "        Rh_efficiency = 1 - np.exp(-b/(2*depth))\n",
    "        Qs[1:] = kqs * I * Q[1:] * S**(7./6.) * (1-alpha[:-1]) * Rh_efficiency # total sediment transport, m^3/yr\n",
    "        qs[1:] = Qs[1:]/B_valley[1:] # unit sediment transport, m^2/yr\n",
    "        \n",
    "        # calculate bedrock erosion rates, m/yr\n",
    "        Eb_p[:-1] = K[1:] * q[1:] * S * alpha[:-1]\n",
    "        Eb_a[:-1] = beta[1:] * qs[1:] * alpha[:-1]\n",
    "        Eb[:-1] = Eb_p[:-1] + Eb_a[:-1] # total bedrock erosion rate\n",
    "        Eb[Eb<0] = 0 # bedrock erosion is always positive\n",
    "        \n",
    "        # calculate attrition rate, m^2/yr\n",
    "        atr = psi * Qs\n",
    "        \n",
    "        # calculate lateral sediment supply, m^2/yr\n",
    "        if all(E_avg == 0):\n",
    "            ql[:] = 0\n",
    "        else:\n",
    "            # ql[:] = ((E_avg * gamma) / beta) * (1 - np.exp(-beta * (x_node/3)))\n",
    "            ql[:] = ((baselevel_rate * gamma) / beta) * (1 - np.exp(-beta * (x_node/3)))\n",
    "        ql[ql<0] = 0 # lateral supply is always positive\n",
    "        \n",
    "        # calculate sediment erosion rate (negative when deposition occurring), m/yr\n",
    "        # changed indexing on B_valley from 1: to :-1\n",
    "        Eh[:-1] = (1/((1 - phi) * B_valley[:-1])) * ((np.diff(Qs)/dx) + atr[1:] - (Eb_p[:-1] * B_valley[:-1]) - ql[:-1])\n",
    "        \n",
    "        # calcaulte total erosion rate, m/yr\n",
    "        E[:-1] = Eb[:-1] + Eh[:-1]\n",
    "        \n",
    "        \n",
    "        \n",
    "        # calculate maximum allowable timestep\n",
    "        \n",
    "        #  first check time to flat surface\n",
    "        elev_diff = np.diff(eta)/dx\n",
    "        ero_diff = np.diff(E)/dx\n",
    "        valid_places = np.where(ero_diff < 0)[0]\n",
    "        if len(valid_places) > 0:\n",
    "            times_to_flat = np.abs(elev_diff[valid_places]/ero_diff[valid_places])\n",
    "        else:\n",
    "            times_to_flat = np.array([dt_global])\n",
    "        min_time_to_flat = np.amin(times_to_flat)\n",
    "        \n",
    "        # then check time to deplete all sediment\n",
    "        sed_depletion_locations = np.where(Eh < 0)[0]\n",
    "        if len(sed_depletion_locations) > 0:\n",
    "            times_to_no_sed = np.abs(H[sed_depletion_locations]/Eh[sed_depletion_locations])\n",
    "        else:\n",
    "            times_to_no_sed = np.array([dt_global])\n",
    "        min_time_to_no_sed = np.amin(times_to_no_sed)\n",
    "        \n",
    "        # check for smaller condition\n",
    "        dt = min(min_time_to_flat, min_time_to_no_sed)\n",
    "        \n",
    "        # if larger than global step size, limit to global\n",
    "        dt = min(dt, dt_global)\n",
    "        \n",
    "        \n",
    "        \n",
    "        # calculate weight for lateral sediment supply\n",
    "        \n",
    "        # calculate weight\n",
    "        wt = 1 - np.exp(-dt/tau)\n",
    "        \n",
    "        # update previous erosion values\n",
    "        E_vals = np.vstack([E, E_vals])\n",
    "        E_vals = np.delete(E_vals, obj = 2, axis = 0)\n",
    "        \n",
    "        # calculate average erosion\n",
    "        E_avg = (wt*E_vals[0]) + ((1 - wt)*E_vals[1])\n",
    "        \n",
    "        \n",
    "        \n",
    "        # update quantities\n",
    "        \n",
    "        # boundary conditions\n",
    "        eta[-1] -= baselevel_rate * dt # drop outlet node\n",
    "        etab[-1] = eta[-1] # tie bedrock at outlet\n",
    "        \n",
    "        # update topography\n",
    "        etab[:-1] -= Eb[:-1] * dt\n",
    "        H[:-1] += Eh[:-1] * dt\n",
    "        H[H<0] = 0\n",
    "        eta[:-1] = etab[:-1] + H[:-1]\n",
    "    \n",
    "        \n",
    "            \n",
    "        # advance time until steady state\n",
    "        cum_time += dt\n",
    "        if any(E[:] != baselevel_rate):\n",
    "            continue\n",
    "        else:\n",
    "            break\n",
    "    \n",
    "    print(\"width \", b)\n",
    "    print(\"depth \", depth)\n",
    "    print(cum_time)\n",
    "\n",
    "    return (S, b, q, alpha, Rh_efficiency, Qs, qs, Eb_p, Eb_a, Eb, atr, ql, Eh, E, eta, etab, H, dt, wt, E_vals, E_avg, depth)"
   ]
  },
  {
   "cell_type": "code",
   "execution_count": 9,
   "id": "f20dddd4",
   "metadata": {},
   "outputs": [
    {
     "name": "stdout",
     "output_type": "stream",
     "text": [
      "width  [0.01775132]\n",
      "depth  [2.81005868]\n",
      "585.3658536585366\n"
     ]
    }
   ],
   "source": [
    "#now write a test\n",
    "num_steps = 2\n",
    "test_run = [dx, x, x_node, \n",
    "            beta, psi, \n",
    "            K, \n",
    "            gamma, r, \n",
    "            Hstar, phi, D, \n",
    "            kxb, Pxb, kb, kqs, I, \n",
    "            baselevel_rate, \n",
    "            H, etab, eta, \n",
    "            B_valley, B, area, Q, q, \n",
    "            num_steps]\n",
    "\n",
    "# and run it\n",
    "(S, b, q, alpha, Rh_efficiency, Qs, qs, Eb_p, Eb_a, Eb, atr, ql, Eh, E, eta, etab, H, dt, wt, E_vals, E_avg, depth) = model(*test_run)"
   ]
  },
  {
   "cell_type": "code",
   "execution_count": 17,
   "id": "12fac600",
   "metadata": {},
   "outputs": [
    {
     "data": {
      "text/plain": [
       "array([0.00315355])"
      ]
     },
     "execution_count": 17,
     "metadata": {},
     "output_type": "execute_result"
    }
   ],
   "source": [
    "Rh_efficiency"
   ]
  },
  {
   "cell_type": "code",
   "execution_count": 18,
   "id": "364cc2c4",
   "metadata": {},
   "outputs": [
    {
     "data": {
      "text/plain": [
       "array([     0.        , 333333.33333333])"
      ]
     },
     "execution_count": 18,
     "metadata": {},
     "output_type": "execute_result"
    }
   ],
   "source": [
    "area"
   ]
  },
  {
   "cell_type": "code",
   "execution_count": 19,
   "id": "40b1e43b",
   "metadata": {},
   "outputs": [
    {
     "name": "stdout",
     "output_type": "stream",
     "text": [
      "1.1854243415484824\n"
     ]
    }
   ],
   "source": [
    "slope_pred = (0.0005 / (0.041 * 10e-3))**(6./7.)\n",
    "print(slope_pred)"
   ]
  },
  {
   "cell_type": "code",
   "execution_count": 20,
   "id": "da7f3ade",
   "metadata": {},
   "outputs": [
    {
     "name": "stdout",
     "output_type": "stream",
     "text": [
      "[ 0.         30.17782799]\n"
     ]
    }
   ],
   "source": [
    "w_pred = (kb * Q * slope_pred**(7./6.))/(0.05 ** (3./2.))\n",
    "print(w_pred)"
   ]
  },
  {
   "cell_type": "code",
   "execution_count": 21,
   "id": "80c8ca89",
   "metadata": {
    "scrolled": true
   },
   "outputs": [
    {
     "data": {
      "text/plain": [
       "array([    0.        , 30883.07134985])"
      ]
     },
     "execution_count": 21,
     "metadata": {},
     "output_type": "execute_result"
    }
   ],
   "source": [
    "q"
   ]
  },
  {
   "cell_type": "code",
   "execution_count": 22,
   "id": "7b374c3b",
   "metadata": {},
   "outputs": [
    {
     "data": {
      "text/plain": [
       "array([0.        , 0.00143687])"
      ]
     },
     "execution_count": 22,
     "metadata": {},
     "output_type": "execute_result"
    }
   ],
   "source": [
    "Qs"
   ]
  },
  {
   "cell_type": "code",
   "execution_count": 23,
   "id": "ef907cac",
   "metadata": {},
   "outputs": [
    {
     "data": {
      "text/plain": [
       "array([ 86.64310539, 107.93399709])"
      ]
     },
     "execution_count": 23,
     "metadata": {},
     "output_type": "execute_result"
    }
   ],
   "source": [
    "B_valley"
   ]
  },
  {
   "cell_type": "code",
   "execution_count": 24,
   "id": "b9ddd1b6",
   "metadata": {},
   "outputs": [
    {
     "name": "stdout",
     "output_type": "stream",
     "text": [
      "[49.8129739  0.       ]\n",
      "[-0.00063903  0.        ]\n"
     ]
    }
   ],
   "source": [
    "print(H)\n",
    "print(Eh)"
   ]
  },
  {
   "cell_type": "code",
   "execution_count": 25,
   "id": "58be4775",
   "metadata": {},
   "outputs": [
    {
     "data": {
      "text/plain": [
       "array([0.        , 0.00143687])"
      ]
     },
     "execution_count": 25,
     "metadata": {},
     "output_type": "execute_result"
    }
   ],
   "source": [
    "Qs"
   ]
  },
  {
   "cell_type": "code",
   "execution_count": 26,
   "id": "0bff557e",
   "metadata": {},
   "outputs": [
    {
     "data": {
      "text/plain": [
       "<matplotlib.legend.Legend at 0x7f8016261b10>"
      ]
     },
     "execution_count": 26,
     "metadata": {},
     "output_type": "execute_result"
    },
    {
     "data": {
      "image/png": "[encoded data removed]",
      "text/plain": [
       "<Figure size 432x288 with 1 Axes>"
      ]
     },
     "metadata": {
      "needs_background": "light"
     },
     "output_type": "display_data"
    }
   ],
   "source": [
    "plt.plot(x, eta, label = 'topography')\n",
    "plt.plot(x, etab, label = 'bedrock')\n",
    "plt.legend()"
   ]
  },
  {
   "cell_type": "code",
   "execution_count": 27,
   "id": "870b7736",
   "metadata": {},
   "outputs": [
    {
     "data": {
      "text/plain": [
       "[<matplotlib.lines.Line2D at 0x7f8016656410>]"
      ]
     },
     "execution_count": 27,
     "metadata": {},
     "output_type": "execute_result"
    },
    {
     "data": {
      "image/png": "[encoded data removed]",
      "text/plain": [
       "<Figure size 432x288 with 1 Axes>"
      ]
     },
     "metadata": {
      "needs_background": "light"
     },
     "output_type": "display_data"
    }
   ],
   "source": [
    "plt.plot(x, H)"
   ]
  },
  {
   "cell_type": "code",
   "execution_count": 28,
   "id": "315390e8",
   "metadata": {},
   "outputs": [
    {
     "data": {
      "text/plain": [
       "array([0.02491685, 0.07425498])"
      ]
     },
     "execution_count": 28,
     "metadata": {},
     "output_type": "execute_result"
    }
   ],
   "source": [
    "ql"
   ]
  },
  {
   "cell_type": "code",
   "execution_count": 29,
   "id": "242a5066",
   "metadata": {},
   "outputs": [
    {
     "data": {
      "text/plain": [
       "array([1.20210568e-51, 0.00000000e+00])"
      ]
     },
     "execution_count": 29,
     "metadata": {},
     "output_type": "execute_result"
    }
   ],
   "source": [
    "Eb_p"
   ]
  },
  {
   "cell_type": "code",
   "execution_count": 30,
   "id": "c10bf21c",
   "metadata": {},
   "outputs": [
    {
     "data": {
      "text/plain": [
       "array([0.00000000e+00, 5.74748357e-08])"
      ]
     },
     "execution_count": 30,
     "metadata": {},
     "output_type": "execute_result"
    }
   ],
   "source": [
    "atr"
   ]
  },
  {
   "cell_type": "code",
   "execution_count": 31,
   "id": "c1273571",
   "metadata": {},
   "outputs": [
    {
     "data": {
      "text/plain": [
       "array([1.43687089e-06])"
      ]
     },
     "execution_count": 31,
     "metadata": {},
     "output_type": "execute_result"
    }
   ],
   "source": [
    "np.diff(Qs)/dx"
   ]
  },
  {
   "cell_type": "code",
   "execution_count": null,
   "id": "4d50e393",
   "metadata": {},
   "outputs": [],
   "source": []
  }
 ],
 "metadata": {
  "kernelspec": {
   "display_name": "Python 3",
   "language": "python",
   "name": "python3"
  },
  "language_info": {
   "codemirror_mode": {
    "name": "ipython",
    "version": 3
   },
   "file_extension": ".py",
   "mimetype": "text/x-python",
   "name": "python",
   "nbconvert_exporter": "python",
   "pygments_lexer": "ipython3",
   "version": "3.7.6"
  }
 },
 "nbformat": 4,
 "nbformat_minor": 5
}
