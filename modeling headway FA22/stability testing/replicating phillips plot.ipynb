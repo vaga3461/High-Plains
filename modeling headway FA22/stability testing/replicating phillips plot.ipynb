{
 "cells": [
  {
   "cell_type": "code",
   "execution_count": 1,
   "id": "3d385a5e",
   "metadata": {},
   "outputs": [],
   "source": [
    "# need to read in xcel file\n",
    "# but maybe convert to csv first"
   ]
  },
  {
   "cell_type": "code",
   "execution_count": null,
   "id": "e2871553",
   "metadata": {},
   "outputs": [],
   "source": []
  }
 ],
 "metadata": {
  "kernelspec": {
   "display_name": "Python 3",
   "language": "python",
   "name": "python3"
  },
  "language_info": {
   "codemirror_mode": {
    "name": "ipython",
    "version": 3
   },
   "file_extension": ".py",
   "mimetype": "text/x-python",
   "name": "python",
   "nbconvert_exporter": "python",
   "pygments_lexer": "ipython3",
   "version": "3.7.6"
  }
 },
 "nbformat": 4,
 "nbformat_minor": 5
}
