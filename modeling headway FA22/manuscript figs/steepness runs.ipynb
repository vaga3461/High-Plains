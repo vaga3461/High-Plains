{
 "cells": [
  {
   "cell_type": "code",
   "execution_count": 1,
   "id": "51227603",
   "metadata": {},
   "outputs": [],
   "source": [
    "import numpy as np\n",
    "import matplotlib.pyplot as plt"
   ]
  },
  {
   "cell_type": "code",
   "execution_count": 2,
   "id": "72a8898e",
   "metadata": {},
   "outputs": [],
   "source": [
    "# set up arrays\n",
    "dx = 1000\n",
    "x = np.arange(0, 100000, dx)\n",
    "x_node = x + (dx/2)\n",
    "\n",
    "Hstar = 0.5\n",
    "etab = np.zeros(len(x)) # bedrock elevation, m\n",
    "etab[:] = np.linspace(10, 0.1, len(x)) # need to start with slight bedrock slope\n",
    "H = Hstar + np.zeros(len(x))\n",
    "eta = etab + H"
   ]
  },
  {
   "cell_type": "code",
   "execution_count": 3,
   "id": "5d72daf5",
   "metadata": {},
   "outputs": [],
   "source": [
    "# set up parameters\n",
    "# K_ig = np.zeros(len(x))\n",
    "# K_ig[:24] = 1e-7\n",
    "# K_sed = np.zeros(len(x))\n",
    "# K_sed[24:] = 1e-6\n",
    "K = np.zeros(len(x))\n",
    "K[:] = 1e-7\n",
    "\n",
    "# beta_ig = np.zeros(len(x))\n",
    "# beta_ig[:24] = 4e-7\n",
    "# beta_sed = np.zeros(len(x))\n",
    "# beta_sed[24:] = 4e-6\n",
    "beta = np.zeros(len(x))\n",
    "beta[:] = 1e-6\n",
    "# beta[:] = 1e-6\n",
    "\n",
    "# psi = np.zeros(len(x))\n",
    "# psi[:14] = 4e-7\n",
    "# psi[14:] = 4e-6\n",
    "psi = 1e-6\n",
    "# psi = 1e-6\n",
    "# psi = 1e-5\n",
    "gamma = 0.3\n",
    "\n",
    "r = 10. # runoff rate\n",
    "D = 0.015 # grain size\n",
    "phi = 0.45 # porosity\n",
    "baselevel_rate = 0.00055 # baselevel fall rate"
   ]
  },
  {
   "cell_type": "code",
   "execution_count": 4,
   "id": "b45800ae",
   "metadata": {},
   "outputs": [],
   "source": [
    "kqs = 0.041\n",
    "I = 0.01\n",
    "kxb = 25\n",
    "Pxb = 1./5.\n",
    "kb = 8.3e-8\n",
    "\n",
    "B_valley = kxb * (x_node**Pxb)\n",
    "B_basin = (2./3.) * x_node\n",
    "\n",
    "area = (1./3.) * x**2\n",
    "# Q = r * x * B\n",
    "Q = r * area"
   ]
  },
  {
   "cell_type": "code",
   "execution_count": 5,
   "id": "7e259bf3",
   "metadata": {},
   "outputs": [],
   "source": [
    "def model(x, dx, x_node,\n",
    "          K, beta,\n",
    "          D, phi, Hstar, psi, gamma,\n",
    "          kb, kqs, I, r, B_valley, B_basin, Q,\n",
    "          etab, H, eta,\n",
    "          baselevel_rate,\n",
    "          num_steps = 1):\n",
    "    \n",
    "    q = Q/B_valley\n",
    "    # dt = 0.2 * dx * dx / (kqs * q[-1]) # try changing to 10, 5, or 1 if this is unstable\n",
    "    dt = 5\n",
    "    \n",
    "    run_duration = dt * num_steps\n",
    "    cum_time = 0.0\n",
    "    \n",
    "    Qs = np.zeros(len(x))\n",
    "    qs = np.zeros(len(x))\n",
    "    Eb_p = np.zeros(len(x))\n",
    "    Eb_a = np.zeros(len(x))\n",
    "    Eb = np.zeros(len(x))\n",
    "    Eh = np.zeros(len(x))\n",
    "    E = np.zeros(len(x))\n",
    "    ql = np.zeros(len(x))\n",
    "    \n",
    "    H[-1] = 0\n",
    "    E[-1] = baselevel_rate\n",
    "    q[0] = 0\n",
    "    Qs[0] = 0\n",
    "    ql[0] = 0\n",
    "    \n",
    "    while cum_time < run_duration:\n",
    "        \n",
    "        # drop baselevel\n",
    "        eta[-1] -= baselevel_rate * dt\n",
    "        \n",
    "        # set boundary conditions\n",
    "        etab[-1] = eta[-1]\n",
    "        \n",
    "        # calc slope\n",
    "        S = -np.diff(eta)/dx\n",
    "        \n",
    "        # calc bed exposure\n",
    "        alpha = np.exp(-H/Hstar)\n",
    "        \n",
    "        # calc Rh\n",
    "#         width = (kb * Q[1:] * (S ** (7/6))) / (D**(3/2))\n",
    "#         depth = (0.09801 * D) / S\n",
    "#         Rh_efficiency = 1 - np.exp(-width/(2*depth))\n",
    "        \n",
    "        # calc sed transport\n",
    "        Qs[1:] = kqs * I * Q[1:] * S**(7./6.) * (1 - alpha[:-1]) # * Rh_efficiency\n",
    "        qs[1:] = Qs[1:] / B_valley[1:]\n",
    "        \n",
    "        # calc bedrock erosion\n",
    "        Eb_p[:-1] = K[1:] * Q[1:] * S * alpha[:-1]\n",
    "        Eb_a[:-1] = beta[1:] * Qs[1:] * alpha[:-1]\n",
    "        Eb[:-1] = (Eb_p[:-1] + Eb_a[:-1]) / B_valley[:-1]\n",
    "        \n",
    "        # calc grain attrition\n",
    "        atr = Qs * psi\n",
    "        \n",
    "        # calc equilibrium lateral supply\n",
    "        ql[1:] = ((baselevel_rate * gamma) / psi) * (1 - np.exp(-psi/(3 * x[1:])))\n",
    "        # ql[24:] = 0\n",
    "        \n",
    "        # calc sediment erosion rate\n",
    "        Eh[:-1] = 1/((1 - phi) * B_valley[:-1]) * (np.diff(Qs)/dx + atr[1:] - Eb_p[:-1] - ql[1:])\n",
    "        \n",
    "        # calc total erosion rate\n",
    "        E[:-1] = Eb[:-1] + Eh[:-1]\n",
    "        \n",
    "        # update topography\n",
    "        etab[:-1] -= Eb[:-1] * dt\n",
    "        H[:-1] -= Eh[:-1] * dt\n",
    "        H[H<0] = 0\n",
    "        eta[:-1] = etab[:-1] + H[:-1]\n",
    "        \n",
    "        # update elapsed time\n",
    "        cum_time += dt\n",
    "        \n",
    "    print(cum_time)\n",
    "        \n",
    "    return (dt, S, q, alpha, Qs, qs, Eb_p, Eb_a, Eb, atr, ql, Eh, E, etab, H, eta)"
   ]
  },
  {
   "cell_type": "code",
   "execution_count": 6,
   "id": "3752ed4b",
   "metadata": {},
   "outputs": [
    {
     "name": "stdout",
     "output_type": "stream",
     "text": [
      "25000000.0\n"
     ]
    }
   ],
   "source": [
    "#now write a test\n",
    "num_steps = 5000000\n",
    "test_run = [x, dx, x_node, \n",
    "            K, beta, \n",
    "            D, phi, Hstar, psi, gamma,\n",
    "            kb, kqs, I, r, B_valley, B_basin, Q,\n",
    "            etab, H, eta,\n",
    "            baselevel_rate,\n",
    "            num_steps]\n",
    "\n",
    "# and run it\n",
    "(dt, S, q, alpha, Qs, qs, Eb_p, Eb_a, Eb, atr, ql, Eh, E, etab, H, eta) = model(*test_run)"
   ]
  },
  {
   "cell_type": "code",
   "execution_count": 7,
   "id": "02871276",
   "metadata": {},
   "outputs": [
    {
     "data": {
      "text/plain": [
       "array([0.00055, 0.00055, 0.00055, 0.00055, 0.00055, 0.00055, 0.00055,\n",
       "       0.00055, 0.00055, 0.00055, 0.00055, 0.00055, 0.00055, 0.00055,\n",
       "       0.00055, 0.00055, 0.00055, 0.00055, 0.00055, 0.00055, 0.00055,\n",
       "       0.00055, 0.00055, 0.00055, 0.00055, 0.00055, 0.00055, 0.00055,\n",
       "       0.00055, 0.00055, 0.00055, 0.00055, 0.00055, 0.00055, 0.00055,\n",
       "       0.00055, 0.00055, 0.00055, 0.00055, 0.00055, 0.00055, 0.00055,\n",
       "       0.00055, 0.00055, 0.00055, 0.00055, 0.00055, 0.00055, 0.00055,\n",
       "       0.00055, 0.00055, 0.00055, 0.00055, 0.00055, 0.00055, 0.00055,\n",
       "       0.00055, 0.00055, 0.00055, 0.00055, 0.00055, 0.00055, 0.00055,\n",
       "       0.00055, 0.00055, 0.00055, 0.00055, 0.00055, 0.00055, 0.00055,\n",
       "       0.00055, 0.00055, 0.00055, 0.00055, 0.00055, 0.00055, 0.00055,\n",
       "       0.00055, 0.00055, 0.00055, 0.00055, 0.00055, 0.00055, 0.00055,\n",
       "       0.00055, 0.00055, 0.00055, 0.00055, 0.00055, 0.00055, 0.00055,\n",
       "       0.00055, 0.00055, 0.00055, 0.00055, 0.00055, 0.00055, 0.00055,\n",
       "       0.00055, 0.     ])"
      ]
     },
     "execution_count": 7,
     "metadata": {},
     "output_type": "execute_result"
    }
   ],
   "source": [
    "Eb"
   ]
  },
  {
   "cell_type": "code",
   "execution_count": 8,
   "id": "2a9fefd3",
   "metadata": {},
   "outputs": [
    {
     "data": {
      "text/plain": [
       "array([-12910.53122117, -13099.33965692, -13173.91693782, -13219.25819468,\n",
       "       -13252.01127134, -13277.86817412, -13299.38962725, -13317.93312308,\n",
       "       -13334.3015112 , -13349.00820339, -13362.40130793, -13374.72781832,\n",
       "       -13386.16944756, -13396.8638879 , -13406.91806361, -13416.41673869,\n",
       "       -13425.42830442, -13434.00878747, -13442.20469755, -13450.0550961 ,\n",
       "       -13457.59312892, -13464.84718153, -13471.84176375, -13478.59819654,\n",
       "       -13485.13515188, -13491.46908225, -13497.61456559, -13503.58458524,\n",
       "       -13509.39075896, -13515.04352792, -13520.55231366, -13525.92564957,\n",
       "       -13531.17129153, -13536.29631168, -13541.3071783 , -13546.20982423,\n",
       "       -13551.00970575, -13555.71185351, -13560.32091667, -13564.84120152,\n",
       "       -13569.27670515, -13573.63114508, -13577.90798545, -13582.11046001,\n",
       "       -13586.24159269, -13590.30421581, -13594.30098634, -13598.23440043,\n",
       "       -13602.10680652, -13605.92041702, -13609.67731892, -13613.37948333,\n",
       "       -13617.02877414, -13620.62695583, -13624.17570067, -13627.67659513,\n",
       "       -13631.13114587, -13634.54078511, -13637.9068756 , -13641.23071518,\n",
       "       -13644.51354091, -13647.75653296, -13650.9608181 , -13654.12747299,\n",
       "       -13657.25752716, -13660.35196584, -13663.41173249, -13666.43773124,\n",
       "       -13669.43082905, -13672.39185784, -13675.32161637, -13678.22087202,\n",
       "       -13681.09036249, -13683.93079733, -13686.74285941, -13689.52720626,\n",
       "       -13692.28447136, -13695.01526534, -13697.72017708, -13700.39977475,\n",
       "       -13703.05460683, -13705.68520301, -13708.29207508, -13710.87571775,\n",
       "       -13713.43660939, -13715.97521281, -13718.49197592, -13720.9873324 ,\n",
       "       -13723.46170228, -13725.91549256, -13728.34909773, -13730.76290034,\n",
       "       -13733.15727141, -13735.53257099, -13737.88914855, -13740.22734339,\n",
       "       -13742.54748511, -13744.8498939 , -13747.13488098, -13749.39999889])"
      ]
     },
     "execution_count": 8,
     "metadata": {},
     "output_type": "execute_result"
    }
   ],
   "source": [
    "eta"
   ]
  },
  {
   "cell_type": "code",
   "execution_count": 9,
   "id": "75d12b2b",
   "metadata": {},
   "outputs": [
    {
     "data": {
      "text/plain": [
       "[<matplotlib.lines.Line2D at 0x7f92bf371390>]"
      ]
     },
     "execution_count": 9,
     "metadata": {},
     "output_type": "execute_result"
    },
    {
     "data": {
      "image/png": "[encoded data removed]",
      "text/plain": [
       "<Figure size 432x288 with 1 Axes>"
      ]
     },
     "metadata": {
      "needs_background": "light"
     },
     "output_type": "display_data"
    }
   ],
   "source": [
    "plt.plot(x, eta)"
   ]
  },
  {
   "cell_type": "code",
   "execution_count": 10,
   "id": "43ca61b2",
   "metadata": {},
   "outputs": [],
   "source": [
    "eta_adj = eta - eta[-1]"
   ]
  },
  {
   "cell_type": "code",
   "execution_count": 11,
   "id": "440e59b5",
   "metadata": {},
   "outputs": [
    {
     "data": {
      "text/plain": [
       "[<matplotlib.lines.Line2D at 0x7f92bf5f3d10>]"
      ]
     },
     "execution_count": 11,
     "metadata": {},
     "output_type": "execute_result"
    },
    {
     "data": {
      "image/png": "[encoded data removed]",
      "text/plain": [
       "<Figure size 432x288 with 1 Axes>"
      ]
     },
     "metadata": {
      "needs_background": "light"
     },
     "output_type": "display_data"
    }
   ],
   "source": [
    "plt.plot(x, eta_adj)"
   ]
  },
  {
   "cell_type": "code",
   "execution_count": 12,
   "id": "7a11b7ff",
   "metadata": {},
   "outputs": [
    {
     "data": {
      "text/plain": [
       "array([838.86877772, 650.06034196, 575.48306107, 530.14180421,\n",
       "       497.38872755, 471.53182476, 450.01037164, 431.46687581,\n",
       "       415.09848769, 400.3917955 , 386.99869096, 374.67218057,\n",
       "       363.23055133, 352.53611099, 342.48193528, 332.9832602 ,\n",
       "       323.97169447, 315.39121142, 307.19530134, 299.34490279,\n",
       "       291.80686997, 284.55281736, 277.55823514, 270.80180235,\n",
       "       264.26484701, 257.93091664, 251.7854333 , 245.81541365,\n",
       "       240.00923993, 234.35647097, 228.84768523, 223.47434932,\n",
       "       218.22870736, 213.10368721, 208.09282059, 203.19017466,\n",
       "       198.39029314, 193.68814538, 189.07908222, 184.55879737,\n",
       "       180.12329374, 175.76885381, 171.49201344, 167.28953888,\n",
       "       163.1584062 , 159.09578308, 155.09901255, 151.16559846,\n",
       "       147.29319237, 143.47958187, 139.72267997, 136.02051555,\n",
       "       132.37122475, 128.77304306, 125.22429822, 121.72340376,\n",
       "       118.26885302, 114.85921378, 111.49312329, 108.16928371,\n",
       "       104.88645798, 101.64346593,  98.43918079,  95.2725259 ,\n",
       "        92.14247173,  89.04803305,  85.9882664 ,  82.96226765,\n",
       "        79.96916984,  77.00814105,  74.07838252,  71.17912687,\n",
       "        68.3096364 ,  65.46920156,  62.65713948,  59.87279263,\n",
       "        57.11552753,  54.38473355,  51.67982181,  49.00022414,\n",
       "        46.34539206,  43.71479588,  41.10792381,  38.52428114,\n",
       "        35.9633895 ,  33.42478608,  30.90802297,  28.41266649,\n",
       "        25.93829661,  23.48450633,  21.05090116,  18.63709855,\n",
       "        16.24272748,  13.8674279 ,  11.51085034,   9.1726555 ,\n",
       "         6.85251378,   4.55010499,   2.26511791,   0.        ])"
      ]
     },
     "execution_count": 12,
     "metadata": {},
     "output_type": "execute_result"
    }
   ],
   "source": [
    "eta_adj"
   ]
  },
  {
   "cell_type": "code",
   "execution_count": null,
   "id": "3012f77f",
   "metadata": {},
   "outputs": [],
   "source": []
  }
 ],
 "metadata": {
  "kernelspec": {
   "display_name": "Python 3",
   "language": "python",
   "name": "python3"
  },
  "language_info": {
   "codemirror_mode": {
    "name": "ipython",
    "version": 3
   },
   "file_extension": ".py",
   "mimetype": "text/x-python",
   "name": "python",
   "nbconvert_exporter": "python",
   "pygments_lexer": "ipython3",
   "version": "3.7.6"
  }
 },
 "nbformat": 4,
 "nbformat_minor": 5
}
