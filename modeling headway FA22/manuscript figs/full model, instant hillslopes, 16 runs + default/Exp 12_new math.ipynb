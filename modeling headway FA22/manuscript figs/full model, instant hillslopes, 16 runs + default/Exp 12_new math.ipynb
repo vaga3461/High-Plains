{
 "cells": [
  {
   "cell_type": "code",
   "execution_count": 1,
   "id": "8fc20d48",
   "metadata": {},
   "outputs": [],
   "source": [
    "# this model includes ql\n",
    "# it uses instantaneous bedrock erosion rate to calc ql\n",
    "# it uses gamma to represent fraction of plucked material that becomes coarse gravel\n",
    "# it uses theta to represent fraction of hillslope material that enters fluvial system as coarse \n",
    "## (maybe this should be same as gamma, \n",
    "## since the real fxn of this parameter is to tell us \n",
    "## how much coarse stuff is available for bedload transport/abrasion)\n",
    "\n",
    "# potential updates: see if adding weighted average back in to ql calculation still allows for stability\n",
    "## update on the update: this led to stability issues, and it's not worth the time now trying to debug, \n",
    "## so just stick with using instantaneous erosion rate. \n",
    "## Most interested in steady state profiles anyway, so this is fine."
   ]
  },
  {
   "cell_type": "code",
   "execution_count": 2,
   "id": "13f8fb7c",
   "metadata": {},
   "outputs": [],
   "source": [
    "import numpy as np\n",
    "import matplotlib.pyplot as plt"
   ]
  },
  {
   "cell_type": "code",
   "execution_count": 3,
   "id": "a6ba582e",
   "metadata": {},
   "outputs": [],
   "source": [
    "# create a profile\n",
    "dx = 500\n",
    "x = np.arange(0, 50000, dx)\n",
    "x_node = x + (dx/2)\n",
    "\n",
    "# add some elevation\n",
    "Hstar = 0.5 # depth decay\n",
    "etab = np.zeros(len(x)) # bedrock elevation\n",
    "etab[:] = np.linspace(1, 0.1, len(x)) # need to start with slight bedrock slope\n",
    "H = Hstar + np.zeros(len(x)) # alluvium thickness\n",
    "eta = etab + H # topography"
   ]
  },
  {
   "cell_type": "code",
   "execution_count": 4,
   "id": "09d177eb",
   "metadata": {},
   "outputs": [],
   "source": [
    "# define constants and other parameters\n",
    "K = 1e-6 # erodibility\n",
    "beta = 0.0005 # abradability\n",
    "r = 5. # runoff rate\n",
    "U = 0.0001 # uplift or baselevel fall rate\n",
    "I = 0.01 # intermittency\n",
    "phi = 0.1 # porosity\n",
    "D = 0.01 # grain size\n",
    "gamma = 0.5 # fraction plucked that becomes coarse\n",
    "\n",
    "kqs = 0.061 # sed transport coeff\n",
    "kxb = 25 # valley width coeff\n",
    "Pxb = 1./5. # valley width exp\n",
    "kb = 8.3e-8 # channel width coeff\n",
    "\n",
    "B_valley = kxb * (x_node**Pxb) # valley width\n",
    "# Q = (r * kxb * x_node**(1 + Pxb))/(1 + Pxb) # discharge\n",
    "A = (1./3.) * (x**2)\n",
    "Q = r * A"
   ]
  },
  {
   "cell_type": "code",
   "execution_count": 5,
   "id": "98308cda",
   "metadata": {},
   "outputs": [],
   "source": [
    "def model(x, dx, x_node,\n",
    "          K, beta, gamma,\n",
    "          D, phi, Hstar,\n",
    "          kb, kqs, I, r, U,\n",
    "          etab, H, eta,\n",
    "          B_valley, Q,\n",
    "          num_steps = 1):\n",
    "    \n",
    "    q = Q/B_valley\n",
    "    dt = 30\n",
    "    \n",
    "    run_duration = dt * num_steps\n",
    "    cum_time = 0.0\n",
    "    \n",
    "    Qs = np.zeros(len(x))\n",
    "    qs = np.zeros(len(x))\n",
    "    Eb_p = np.zeros(len(x))\n",
    "    Eb_a = np.zeros(len(x))\n",
    "    Eb = np.zeros(len(x))\n",
    "    Eh = np.zeros(len(x))\n",
    "    E = np.zeros(len(x))\n",
    "    ql = np.zeros(len(x)) # lateral sediment supply\n",
    "    \n",
    "    H[-1] = 0\n",
    "    E[-1] = U\n",
    "    q[0] = 0\n",
    "    Qs[0] = 0\n",
    "    \n",
    "    while cum_time < run_duration:\n",
    "        \n",
    "        # drop baselevel\n",
    "        eta[-1] -= U * dt\n",
    "        \n",
    "        # set boundary conditions\n",
    "        etab[-1] = eta[-1]\n",
    "        \n",
    "        # calc slope\n",
    "        S = -np.diff(eta)/dx\n",
    "        \n",
    "        # calc bed exposure\n",
    "        alpha = np.exp(-H/Hstar)\n",
    "        \n",
    "        # calc sed transport\n",
    "        Qs[1:] = kqs * I * Q[1:] * S**(7./6.) * (1 - alpha[:-1])\n",
    "        qs[1:] = Qs[1:] / B_valley[1:]\n",
    "        \n",
    "        # calc bedrock erosion\n",
    "        Eb_p[:-1] = K * Q[1:] * S**(7./6.) * alpha[:-1] * I\n",
    "        Eb_a[:-1] = beta * Qs[1:] * alpha[:-1]\n",
    "        Eb[:-1] = (Eb_p[:-1] + Eb_a[:-1]) / B_valley[:-1]\n",
    "        \n",
    "        # calc lateral flux\n",
    "        ql[:-1] = ((Eb[:-1] * gamma)/beta) * (1 - np.exp(-beta * x[1:]/3))\n",
    "        \n",
    "        # calc grain attrition\n",
    "        atr = Qs * beta\n",
    "        \n",
    "        # calc sediment erosion rate\n",
    "        Eh[:-1] = 1/((1 - phi) * B_valley[:-1]) * (np.diff(Qs)/dx + atr[1:] - (Eb_p[:-1]*gamma) - ql[:-1])\n",
    "        \n",
    "        # calc total erosion rate\n",
    "        E[:-1] = Eb[:-1] + Eh[:-1]\n",
    "        \n",
    "        # update topography\n",
    "        etab[:-1] -= Eb[:-1] * dt\n",
    "        H[:-1] -= Eh[:-1] * dt\n",
    "        H[H<0] = 0\n",
    "        eta[:-1] = etab[:-1] + H[:-1]\n",
    "        \n",
    "        # update elapsed time\n",
    "        cum_time += dt\n",
    "        \n",
    "    print(cum_time)\n",
    "        \n",
    "    return (dt, S, q, alpha, Qs, qs, Eb_p, Eb_a, Eb, ql, atr, Eh, E, etab, H, eta)"
   ]
  },
  {
   "cell_type": "code",
   "execution_count": 6,
   "id": "b9c1fdab",
   "metadata": {},
   "outputs": [
    {
     "name": "stdout",
     "output_type": "stream",
     "text": [
      "1500000000.0\n"
     ]
    }
   ],
   "source": [
    "#now write a test\n",
    "num_steps = 50000000\n",
    "\n",
    "test_run = [x, dx, x_node, \n",
    "            K, beta, gamma,\n",
    "            D, phi, Hstar,\n",
    "            kb, kqs, I, r, U,\n",
    "            etab, H, eta,\n",
    "            B_valley, Q,\n",
    "            num_steps]\n",
    "\n",
    "# and run it\n",
    "(dt, S, q, alpha, Qs, qs, Eb_p, Eb_a, Eb, ql, atr, Eh, E, etab, H, eta) = model(*test_run)"
   ]
  },
  {
   "cell_type": "code",
   "execution_count": 7,
   "id": "f33db4cf",
   "metadata": {},
   "outputs": [
    {
     "data": {
      "text/plain": [
       "array([1.00000000e-04, 1.00000000e-04, 9.99999999e-05, 9.99999999e-05,\n",
       "       9.99999999e-05, 1.00000000e-04, 1.00000000e-04, 1.00000000e-04,\n",
       "       1.00000000e-04, 1.00000000e-04, 1.00000000e-04, 1.00000000e-04,\n",
       "       1.00000000e-04, 1.00000000e-04, 1.00000000e-04, 1.00000000e-04,\n",
       "       1.00000000e-04, 1.00000000e-04, 1.00000000e-04, 1.00000000e-04,\n",
       "       1.00000000e-04, 1.00000000e-04, 1.00000000e-04, 1.00000000e-04,\n",
       "       1.00000000e-04, 1.00000000e-04, 1.00000000e-04, 1.00000000e-04,\n",
       "       1.00000000e-04, 1.00000000e-04, 1.00000000e-04, 1.00000000e-04,\n",
       "       1.00000000e-04, 1.00000000e-04, 1.00000000e-04, 1.00000000e-04,\n",
       "       1.00000000e-04, 1.00000000e-04, 1.00000000e-04, 1.00000000e-04,\n",
       "       1.00000000e-04, 1.00000000e-04, 1.00000000e-04, 1.00000000e-04,\n",
       "       1.00000000e-04, 1.00000000e-04, 1.00000000e-04, 1.00000000e-04,\n",
       "       1.00000000e-04, 1.00000000e-04, 1.00000000e-04, 1.00000000e-04,\n",
       "       1.00000000e-04, 1.00000000e-04, 1.00000000e-04, 1.00000000e-04,\n",
       "       1.00000000e-04, 1.00000000e-04, 1.00000000e-04, 1.00000000e-04,\n",
       "       9.99999999e-05, 1.00000000e-04, 9.99999999e-05, 1.00000000e-04,\n",
       "       1.00000000e-04, 1.00000000e-04, 1.00000000e-04, 1.00000000e-04,\n",
       "       1.00000000e-04, 1.00000000e-04, 1.00000000e-04, 1.00000000e-04,\n",
       "       1.00000000e-04, 1.00000000e-04, 1.00000000e-04, 1.00000000e-04,\n",
       "       9.99999999e-05, 1.00000000e-04, 1.00000000e-04, 1.00000000e-04,\n",
       "       1.00000000e-04, 1.00000000e-04, 1.00000000e-04, 1.00000000e-04,\n",
       "       1.00000000e-04, 1.00000000e-04, 1.00000000e-04, 1.00000000e-04,\n",
       "       9.99999999e-05, 1.00000000e-04, 1.00000000e-04, 1.00000000e-04,\n",
       "       1.00000000e-04, 1.00000000e-04, 1.00000000e-04, 1.00000000e-04,\n",
       "       1.00000000e-04, 1.00000000e-04, 1.00000000e-04, 0.00000000e+00])"
      ]
     },
     "execution_count": 7,
     "metadata": {},
     "output_type": "execute_result"
    }
   ],
   "source": [
    "Eb"
   ]
  },
  {
   "cell_type": "code",
   "execution_count": 8,
   "id": "ad181e1d",
   "metadata": {},
   "outputs": [
    {
     "data": {
      "text/plain": [
       "[<matplotlib.lines.Line2D at 0x7f831b982090>]"
      ]
     },
     "execution_count": 8,
     "metadata": {},
     "output_type": "execute_result"
    },
    {
     "data": {
      "image/png": "[encoded data removed]",
      "text/plain": [
       "<Figure size 432x288 with 1 Axes>"
      ]
     },
     "metadata": {
      "needs_background": "light"
     },
     "output_type": "display_data"
    }
   ],
   "source": [
    "plt.plot(S)"
   ]
  },
  {
   "cell_type": "code",
   "execution_count": 9,
   "id": "5f032975",
   "metadata": {},
   "outputs": [
    {
     "data": {
      "text/plain": [
       "[<matplotlib.lines.Line2D at 0x7f831be9fb90>]"
      ]
     },
     "execution_count": 9,
     "metadata": {},
     "output_type": "execute_result"
    },
    {
     "data": {
      "image/png": "[encoded data removed]",
      "text/plain": [
       "<Figure size 432x288 with 1 Axes>"
      ]
     },
     "metadata": {
      "needs_background": "light"
     },
     "output_type": "display_data"
    }
   ],
   "source": [
    "plt.plot(eta)"
   ]
  },
  {
   "cell_type": "code",
   "execution_count": 10,
   "id": "17318f12",
   "metadata": {},
   "outputs": [
    {
     "data": {
      "text/plain": [
       "0.00037820516497595233"
      ]
     },
     "execution_count": 10,
     "metadata": {},
     "output_type": "execute_result"
    }
   ],
   "source": [
    "S[-1]"
   ]
  },
  {
   "cell_type": "code",
   "execution_count": 11,
   "id": "b1005f1a",
   "metadata": {},
   "outputs": [
    {
     "data": {
      "text/plain": [
       "array([-148996.87659516, -149631.05186065, -149795.1523199 ,\n",
       "       -149848.79942012, -149870.99540464, -149884.2366262 ,\n",
       "       -149893.88189112, -149901.60308187, -149908.10369406,\n",
       "       -149913.74410557, -149918.73499187, -149923.21163444,\n",
       "       -149927.26716692, -149930.96920812, -149934.36892783,\n",
       "       -149937.50633603, -149940.41354579, -149943.11688198,\n",
       "       -149945.63829944, -149947.99636976, -149950.20698891,\n",
       "       -149952.28389783, -149954.23907452, -149956.08303532,\n",
       "       -149957.82507049, -149959.47343156, -149961.03548222,\n",
       "       -149962.51782152, -149963.92638548, -149965.26653175,\n",
       "       -149966.54311081, -149967.76052628, -149968.92278632,\n",
       "       -149970.03354781, -149971.09615452, -149972.11367014,\n",
       "       -149973.08890717, -149974.02445218, -149974.92268803,\n",
       "       -149975.78581344, -149976.61586035, -149977.41470932,\n",
       "       -149978.18410321, -149978.92565947, -149979.64088105,\n",
       "       -149980.33116621, -149980.99781741, -149981.64204921,\n",
       "       -149982.26499545, -149982.86771579, -149983.45120152,\n",
       "       -149984.01638094, -149984.56412419, -149985.09524767,\n",
       "       -149985.61051804, -149986.1106559 , -149986.59633916,\n",
       "       -149987.06820606, -149987.52685803, -149987.97286224,\n",
       "       -149988.40675399, -149988.82903885, -149989.2401947 ,\n",
       "       -149989.64067357, -149990.0309033 , -149990.41128917,\n",
       "       -149990.78221534, -149991.14404615, -149991.49712741,\n",
       "       -149991.84178755, -149992.17833864, -149992.50707746,\n",
       "       -149992.82828635, -149993.14223411, -149993.44917678,\n",
       "       -149993.74935838, -149994.04301161, -149994.3303585 ,\n",
       "       -149994.61161101, -149994.88697157, -149995.15663363,\n",
       "       -149995.42078215, -149995.67959404, -149995.93323863,\n",
       "       -149996.18187803, -149996.42566753, -149996.66475595,\n",
       "       -149996.89928597, -149997.12939447, -149997.35521279,\n",
       "       -149997.57686701, -149997.79447822, -149998.00816279,\n",
       "       -149998.21803254, -149998.42419502, -149998.62675368,\n",
       "       -149998.82580807, -149999.02145402, -149999.21378383,\n",
       "       -149999.39988641])"
      ]
     },
     "execution_count": 11,
     "metadata": {},
     "output_type": "execute_result"
    }
   ],
   "source": [
    "eta"
   ]
  },
  {
   "cell_type": "code",
   "execution_count": 12,
   "id": "b881373c",
   "metadata": {},
   "outputs": [],
   "source": [
    "eta_adj = eta - eta[-1]"
   ]
  },
  {
   "cell_type": "code",
   "execution_count": 13,
   "id": "96a0b74e",
   "metadata": {},
   "outputs": [
    {
     "data": {
      "text/plain": [
       "array([1.00252329e+03, 3.68348026e+02, 2.04247567e+02, 1.50600466e+02,\n",
       "       1.28404482e+02, 1.15163260e+02, 1.05517995e+02, 9.77968045e+01,\n",
       "       9.12961924e+01, 8.56557808e+01, 8.06648945e+01, 7.61882520e+01,\n",
       "       7.21327195e+01, 6.84306783e+01, 6.50309586e+01, 6.18935504e+01,\n",
       "       5.89863406e+01, 5.62830044e+01, 5.37615870e+01, 5.14035166e+01,\n",
       "       4.91928975e+01, 4.71159886e+01, 4.51608119e+01, 4.33168511e+01,\n",
       "       4.15748159e+01, 3.99264549e+01, 3.83644042e+01, 3.68820649e+01,\n",
       "       3.54735009e+01, 3.41333547e+01, 3.28567756e+01, 3.16393601e+01,\n",
       "       3.04771001e+01, 2.93663386e+01, 2.83037319e+01, 2.72862163e+01,\n",
       "       2.63109792e+01, 2.53754342e+01, 2.44771984e+01, 2.36140730e+01,\n",
       "       2.27840261e+01, 2.19851771e+01, 2.12157832e+01, 2.04742269e+01,\n",
       "       1.97590054e+01, 1.90687202e+01, 1.84020690e+01, 1.77578372e+01,\n",
       "       1.71348910e+01, 1.65321706e+01, 1.59486849e+01, 1.53835055e+01,\n",
       "       1.48357622e+01, 1.43046387e+01, 1.37893684e+01, 1.32892305e+01,\n",
       "       1.28035473e+01, 1.23316804e+01, 1.18730284e+01, 1.14270242e+01,\n",
       "       1.09931324e+01, 1.05708476e+01, 1.01596917e+01, 9.75921284e+00,\n",
       "       9.36898311e+00, 8.98859724e+00, 8.61767107e+00, 8.25584026e+00,\n",
       "       7.90275900e+00, 7.55809886e+00, 7.22154777e+00, 6.89280895e+00,\n",
       "       6.57160006e+00, 6.25765230e+00, 5.95070963e+00, 5.65052803e+00,\n",
       "       5.35687480e+00, 5.06952791e+00, 4.78827540e+00, 4.51291484e+00,\n",
       "       4.24325278e+00, 3.97910426e+00, 3.72029237e+00, 3.46664778e+00,\n",
       "       3.21800838e+00, 2.97421888e+00, 2.73513046e+00, 2.50060044e+00,\n",
       "       2.27049193e+00, 2.04467362e+00, 1.82301940e+00, 1.60540819e+00,\n",
       "       1.39172362e+00, 1.18185387e+00, 9.75691389e-01, 7.73132731e-01,\n",
       "       5.74078344e-01, 3.78432392e-01, 1.86102582e-01, 0.00000000e+00])"
      ]
     },
     "execution_count": 13,
     "metadata": {},
     "output_type": "execute_result"
    }
   ],
   "source": [
    "eta_adj"
   ]
  },
  {
   "cell_type": "code",
   "execution_count": 14,
   "id": "f04b7bea",
   "metadata": {},
   "outputs": [],
   "source": [
    "# save csv files\n",
    "\n",
    "np.savetxt('elevation csv files/eta_exp_12.csv', eta_adj, delimiter = ',')\n",
    "np.savetxt('alpha csv files/alpha_exp_12.csv', alpha, delimiter = ',')\n",
    "np.savetxt('slope csv files/slope_exp_12.csv', S, delimiter = ',')"
   ]
  },
  {
   "cell_type": "code",
   "execution_count": 15,
   "id": "dc1b317c",
   "metadata": {},
   "outputs": [],
   "source": [
    "# calc width\n",
    "\n",
    "b = (kb * Q[1:] * S**(7/6)) / (D**(3/2))\n",
    "\n",
    "np.savetxt('width csv files/b_exp_12.csv', b, delimiter = ',')\n",
    "np.savetxt('Qs csv files/Qs_exp_12.csv', Qs, delimiter = ',')"
   ]
  }
 ],
 "metadata": {
  "kernelspec": {
   "display_name": "Python 3",
   "language": "python",
   "name": "python3"
  },
  "language_info": {
   "codemirror_mode": {
    "name": "ipython",
    "version": 3
   },
   "file_extension": ".py",
   "mimetype": "text/x-python",
   "name": "python",
   "nbconvert_exporter": "python",
   "pygments_lexer": "ipython3",
   "version": "3.7.6"
  }
 },
 "nbformat": 4,
 "nbformat_minor": 5
}
