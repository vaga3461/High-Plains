{
 "cells": [
  {
   "cell_type": "code",
   "execution_count": 1,
   "id": "8fc20d48",
   "metadata": {},
   "outputs": [],
   "source": [
    "# this model includes ql\n",
    "# it uses instantaneous bedrock erosion rate to calc ql\n",
    "# it uses gamma to represent fraction of plucked material that becomes coarse gravel\n",
    "# it uses theta to represent fraction of hillslope material that enters fluvial system as coarse \n",
    "## (maybe this should be same as gamma, \n",
    "## since the real fxn of this parameter is to tell us \n",
    "## how much coarse stuff is available for bedload transport/abrasion)\n",
    "\n",
    "# potential updates: see if adding weighted average back in to ql calculation still allows for stability\n",
    "## update on the update: this led to stability issues, and it's not worth the time now trying to debug, \n",
    "## so just stick with using instantaneous erosion rate. \n",
    "## Most interested in steady state profiles anyway, so this is fine."
   ]
  },
  {
   "cell_type": "code",
   "execution_count": 2,
   "id": "13f8fb7c",
   "metadata": {},
   "outputs": [],
   "source": [
    "import numpy as np\n",
    "import matplotlib.pyplot as plt"
   ]
  },
  {
   "cell_type": "code",
   "execution_count": 3,
   "id": "a6ba582e",
   "metadata": {},
   "outputs": [],
   "source": [
    "# create a profile\n",
    "dx = 500\n",
    "x = np.arange(0, 50000, dx)\n",
    "x_node = x + (dx/2)\n",
    "\n",
    "# add some elevation\n",
    "Hstar = 0.5 # depth decay\n",
    "etab = np.zeros(len(x)) # bedrock elevation\n",
    "etab[:] = np.linspace(1, 0.1, len(x)) # need to start with slight bedrock slope\n",
    "H = Hstar + np.zeros(len(x)) # alluvium thickness\n",
    "eta = etab + H # topography"
   ]
  },
  {
   "cell_type": "code",
   "execution_count": 4,
   "id": "09d177eb",
   "metadata": {},
   "outputs": [],
   "source": [
    "# define constants and other parameters\n",
    "K = 1e-6 # erodibility\n",
    "beta = 0.0005 # abradability\n",
    "r = 5. # runoff rate\n",
    "U = 0.0001 # uplift or baselevel fall rate\n",
    "I = 0.01 # intermittency\n",
    "phi = 0.1 # porosity\n",
    "D = 0.01 # grain size\n",
    "gamma = 0.75 # fraction plucked that becomes coarse\n",
    "\n",
    "kqs = 0.041 # sed transport coeff\n",
    "kxb = 25 # valley width coeff\n",
    "Pxb = 1./5. # valley width exp\n",
    "kb = 8.3e-8 # channel width coeff\n",
    "\n",
    "B_valley = kxb * (x_node**Pxb) # valley width\n",
    "# Q = (r * kxb * x_node**(1 + Pxb))/(1 + Pxb) # discharge\n",
    "A = (1./3.) * (x**2)\n",
    "Q = r * A"
   ]
  },
  {
   "cell_type": "code",
   "execution_count": 5,
   "id": "98308cda",
   "metadata": {},
   "outputs": [],
   "source": [
    "def model(x, dx, x_node,\n",
    "          K, beta, gamma,\n",
    "          D, phi, Hstar,\n",
    "          kb, kqs, I, r, U,\n",
    "          etab, H, eta,\n",
    "          B_valley, Q,\n",
    "          num_steps = 1):\n",
    "    \n",
    "    q = Q/B_valley\n",
    "    dt = 10\n",
    "    \n",
    "    run_duration = dt * num_steps\n",
    "    cum_time = 0.0\n",
    "    \n",
    "    Qs = np.zeros(len(x))\n",
    "    qs = np.zeros(len(x))\n",
    "    Eb_p = np.zeros(len(x))\n",
    "    Eb_a = np.zeros(len(x))\n",
    "    Eb = np.zeros(len(x))\n",
    "    Eh = np.zeros(len(x))\n",
    "    E = np.zeros(len(x))\n",
    "    ql = np.zeros(len(x)) # lateral sediment supply\n",
    "    \n",
    "    H[-1] = 0\n",
    "    E[-1] = U\n",
    "    q[0] = 0\n",
    "    Qs[0] = 0\n",
    "    \n",
    "    while cum_time < run_duration:\n",
    "        \n",
    "        # drop baselevel\n",
    "        eta[-1] -= U * dt\n",
    "        \n",
    "        # set boundary conditions\n",
    "        etab[-1] = eta[-1]\n",
    "        \n",
    "        # calc slope\n",
    "        S = -np.diff(eta)/dx\n",
    "        \n",
    "        # calc bed exposure\n",
    "        alpha = np.exp(-H/Hstar)\n",
    "        \n",
    "        # calc sed transport\n",
    "        Qs[1:] = kqs * I * Q[1:] * S**(7./6.) * (1 - alpha[:-1])\n",
    "        qs[1:] = Qs[1:] / B_valley[1:]\n",
    "        \n",
    "        # calc bedrock erosion\n",
    "        Eb_p[:-1] = K * Q[1:] * S**(7./6.) * alpha[:-1] * I\n",
    "        Eb_a[:-1] = beta * Qs[1:] * alpha[:-1]\n",
    "        Eb[:-1] = (Eb_p[:-1] + Eb_a[:-1]) / B_valley[:-1]\n",
    "        \n",
    "        # calc lateral flux\n",
    "        ql[:-1] = ((Eb[:-1] * gamma)/beta) * (1 - np.exp(-beta * x[1:]/3))\n",
    "        \n",
    "        # calc grain attrition\n",
    "        atr = Qs * beta\n",
    "        \n",
    "        # calc sediment erosion rate\n",
    "        Eh[:-1] = 1/((1 - phi) * B_valley[:-1]) * (np.diff(Qs)/dx + atr[1:] - (Eb_p[:-1]*gamma) - ql[:-1])\n",
    "        \n",
    "        # calc total erosion rate\n",
    "        E[:-1] = Eb[:-1] + Eh[:-1]\n",
    "        \n",
    "        # update topography\n",
    "        etab[:-1] -= Eb[:-1] * dt\n",
    "        H[:-1] -= Eh[:-1] * dt\n",
    "        H[H<0] = 0\n",
    "        eta[:-1] = etab[:-1] + H[:-1]\n",
    "        \n",
    "        # update elapsed time\n",
    "        cum_time += dt\n",
    "        \n",
    "    print(cum_time)\n",
    "        \n",
    "    return (dt, S, q, alpha, Qs, qs, Eb_p, Eb_a, Eb, ql, atr, Eh, E, etab, H, eta)"
   ]
  },
  {
   "cell_type": "code",
   "execution_count": 6,
   "id": "b9c1fdab",
   "metadata": {},
   "outputs": [
    {
     "name": "stdout",
     "output_type": "stream",
     "text": [
      "100000000.0\n"
     ]
    }
   ],
   "source": [
    "#now write a test\n",
    "num_steps = 10000000\n",
    "\n",
    "test_run = [x, dx, x_node, \n",
    "            K, beta, gamma,\n",
    "            D, phi, Hstar,\n",
    "            kb, kqs, I, r, U,\n",
    "            etab, H, eta,\n",
    "            B_valley, Q,\n",
    "            num_steps]\n",
    "\n",
    "# and run it\n",
    "(dt, S, q, alpha, Qs, qs, Eb_p, Eb_a, Eb, ql, atr, Eh, E, etab, H, eta) = model(*test_run)"
   ]
  },
  {
   "cell_type": "code",
   "execution_count": 7,
   "id": "f33db4cf",
   "metadata": {},
   "outputs": [
    {
     "data": {
      "text/plain": [
       "array([0.0001, 0.0001, 0.0001, 0.0001, 0.0001, 0.0001, 0.0001, 0.0001,\n",
       "       0.0001, 0.0001, 0.0001, 0.0001, 0.0001, 0.0001, 0.0001, 0.0001,\n",
       "       0.0001, 0.0001, 0.0001, 0.0001, 0.0001, 0.0001, 0.0001, 0.0001,\n",
       "       0.0001, 0.0001, 0.0001, 0.0001, 0.0001, 0.0001, 0.0001, 0.0001,\n",
       "       0.0001, 0.0001, 0.0001, 0.0001, 0.0001, 0.0001, 0.0001, 0.0001,\n",
       "       0.0001, 0.0001, 0.0001, 0.0001, 0.0001, 0.0001, 0.0001, 0.0001,\n",
       "       0.0001, 0.0001, 0.0001, 0.0001, 0.0001, 0.0001, 0.0001, 0.0001,\n",
       "       0.0001, 0.0001, 0.0001, 0.0001, 0.0001, 0.0001, 0.0001, 0.0001,\n",
       "       0.0001, 0.0001, 0.0001, 0.0001, 0.0001, 0.0001, 0.0001, 0.0001,\n",
       "       0.0001, 0.0001, 0.0001, 0.0001, 0.0001, 0.0001, 0.0001, 0.0001,\n",
       "       0.0001, 0.0001, 0.0001, 0.0001, 0.0001, 0.0001, 0.0001, 0.0001,\n",
       "       0.0001, 0.0001, 0.0001, 0.0001, 0.0001, 0.0001, 0.0001, 0.0001,\n",
       "       0.0001, 0.0001, 0.0001, 0.    ])"
      ]
     },
     "execution_count": 7,
     "metadata": {},
     "output_type": "execute_result"
    }
   ],
   "source": [
    "np.round(Eb, 4)"
   ]
  },
  {
   "cell_type": "code",
   "execution_count": 8,
   "id": "7977fd2d",
   "metadata": {},
   "outputs": [
    {
     "data": {
      "text/plain": [
       "array([9.99999999e-05, 1.00000000e-04, 1.00000000e-04, 1.00000000e-04,\n",
       "       1.00000000e-04, 1.00000000e-04, 1.00000000e-04, 1.00000000e-04,\n",
       "       1.00000000e-04, 1.00000000e-04, 1.00000000e-04, 1.00000000e-04,\n",
       "       1.00000000e-04, 1.00000000e-04, 1.00000000e-04, 1.00000000e-04,\n",
       "       1.00000000e-04, 1.00000000e-04, 1.00000000e-04, 1.00000000e-04,\n",
       "       1.00000000e-04, 1.00000000e-04, 1.00000000e-04, 1.00000000e-04,\n",
       "       1.00000000e-04, 1.00000000e-04, 1.00000000e-04, 1.00000000e-04,\n",
       "       1.00000000e-04, 1.00000000e-04, 1.00000000e-04, 1.00000000e-04,\n",
       "       1.00000000e-04, 1.00000000e-04, 1.00000000e-04, 1.00000000e-04,\n",
       "       1.00000000e-04, 1.00000000e-04, 1.00000000e-04, 1.00000000e-04,\n",
       "       1.00000000e-04, 1.00000000e-04, 1.00000000e-04, 1.00000000e-04,\n",
       "       1.00000000e-04, 1.00000000e-04, 1.00000000e-04, 1.00000000e-04,\n",
       "       1.00000000e-04, 1.00000000e-04, 1.00000000e-04, 1.00000000e-04,\n",
       "       1.00000000e-04, 1.00000000e-04, 1.00000000e-04, 1.00000000e-04,\n",
       "       1.00000000e-04, 1.00000000e-04, 1.00000000e-04, 1.00000000e-04,\n",
       "       1.00000000e-04, 1.00000000e-04, 1.00000000e-04, 1.00000000e-04,\n",
       "       1.00000000e-04, 1.00000000e-04, 1.00000000e-04, 1.00000000e-04,\n",
       "       1.00000000e-04, 1.00000000e-04, 1.00000000e-04, 1.00000000e-04,\n",
       "       1.00000000e-04, 1.00000000e-04, 1.00000000e-04, 1.00000000e-04,\n",
       "       1.00000000e-04, 1.00000000e-04, 1.00000000e-04, 1.00000000e-04,\n",
       "       1.00000000e-04, 1.00000000e-04, 1.00000000e-04, 1.00000000e-04,\n",
       "       1.00000000e-04, 1.00000000e-04, 1.00000000e-04, 1.00000000e-04,\n",
       "       1.00000000e-04, 1.00000000e-04, 1.00000000e-04, 1.00000000e-04,\n",
       "       1.00000000e-04, 1.00000000e-04, 1.00000000e-04, 1.00000000e-04,\n",
       "       1.00000000e-04, 1.00000000e-04, 1.00000000e-04, 0.00000000e+00])"
      ]
     },
     "execution_count": 8,
     "metadata": {},
     "output_type": "execute_result"
    }
   ],
   "source": [
    "Eb"
   ]
  },
  {
   "cell_type": "code",
   "execution_count": 9,
   "id": "ad181e1d",
   "metadata": {},
   "outputs": [
    {
     "data": {
      "text/plain": [
       "[<matplotlib.lines.Line2D at 0x7fd396b58750>]"
      ]
     },
     "execution_count": 9,
     "metadata": {},
     "output_type": "execute_result"
    },
    {
     "data": {
      "image/png": "[encoded data removed]",
      "text/plain": [
       "<Figure size 432x288 with 1 Axes>"
      ]
     },
     "metadata": {
      "needs_background": "light"
     },
     "output_type": "display_data"
    }
   ],
   "source": [
    "plt.plot(S)"
   ]
  },
  {
   "cell_type": "code",
   "execution_count": 10,
   "id": "5f032975",
   "metadata": {},
   "outputs": [
    {
     "data": {
      "text/plain": [
       "[<matplotlib.lines.Line2D at 0x7fd396d5d710>]"
      ]
     },
     "execution_count": 10,
     "metadata": {},
     "output_type": "execute_result"
    },
    {
     "data": {
      "image/png": "[encoded data removed]",
      "text/plain": [
       "<Figure size 432x288 with 1 Axes>"
      ]
     },
     "metadata": {
      "needs_background": "light"
     },
     "output_type": "display_data"
    }
   ],
   "source": [
    "plt.plot(eta)"
   ]
  },
  {
   "cell_type": "code",
   "execution_count": 11,
   "id": "17318f12",
   "metadata": {},
   "outputs": [
    {
     "data": {
      "text/plain": [
       "0.0006998551886099449"
      ]
     },
     "execution_count": 11,
     "metadata": {},
     "output_type": "execute_result"
    }
   ],
   "source": [
    "S[-1]"
   ]
  },
  {
   "cell_type": "code",
   "execution_count": 12,
   "id": "b1005f1a",
   "metadata": {},
   "outputs": [
    {
     "data": {
      "text/plain": [
       "array([-9035.23950214, -9590.53202642, -9710.21013926, -9752.00100474,\n",
       "       -9776.49033606, -9794.50508995, -9809.09522517, -9821.50022835,\n",
       "       -9832.34754195, -9842.00359888, -9850.70491169, -9858.61572754,\n",
       "       -9865.8565619 , -9872.5196478 , -9878.67791906, -9884.39054768,\n",
       "       -9889.70652831, -9894.66709713, -9899.30742392, -9903.65783293,\n",
       "       -9907.74470813, -9911.59118043, -9915.21766024, -9918.64225785,\n",
       "       -9921.88112046, -9924.9487061 , -9927.85800916, -9930.62074789,\n",
       "       -9933.24752187, -9935.74794529, -9938.13076067, -9940.40393641,\n",
       "       -9942.57475105, -9944.64986644, -9946.6353915 , -9948.53693807,\n",
       "       -9950.35967002, -9952.10834658, -9953.78736068, -9955.40077301,\n",
       "       -9956.95234235, -9958.44555255, -9959.88363683, -9961.26959941,\n",
       "       -9962.60623507, -9963.89614665, -9965.14176095, -9966.34534301,\n",
       "       -9967.5090091 , -9968.63473841, -9969.72438381, -9970.77968147,\n",
       "       -9971.80225974, -9972.79364722, -9973.75528007, -9974.68850881,\n",
       "       -9975.59460441, -9976.47476399, -9977.33011598, -9978.16172487,\n",
       "       -9978.9705956 , -9979.75767758, -9980.52386841, -9981.27001731,\n",
       "       -9981.99692825, -9982.70536291, -9983.39604336, -9984.06965457,\n",
       "       -9984.72684671, -9985.36823733, -9985.99441333, -9986.60593281,\n",
       "       -9987.20332682, -9987.78710094, -9988.35773676, -9988.91569332,\n",
       "       -9989.46140834, -9989.99529948, -9990.51776544, -9991.02918702,\n",
       "       -9991.52992813, -9992.02033667, -9992.50074544, -9992.9714729 ,\n",
       "       -9993.43282398, -9993.88509073, -9994.32855305, -9994.76347929,\n",
       "       -9995.19012681, -9995.60874259, -9996.01956371, -9996.42281784,\n",
       "       -9996.81872373, -9997.20749162, -9997.58932365, -9997.96441427,\n",
       "       -9998.33295058, -9998.69511267, -9999.05107398, -9999.40000158])"
      ]
     },
     "execution_count": 12,
     "metadata": {},
     "output_type": "execute_result"
    }
   ],
   "source": [
    "eta"
   ]
  },
  {
   "cell_type": "code",
   "execution_count": 13,
   "id": "b881373c",
   "metadata": {},
   "outputs": [],
   "source": [
    "eta_adj = eta - eta[-1]"
   ]
  },
  {
   "cell_type": "code",
   "execution_count": 14,
   "id": "96a0b74e",
   "metadata": {},
   "outputs": [
    {
     "data": {
      "text/plain": [
       "array([9.64160499e+02, 4.08867975e+02, 2.89189862e+02, 2.47398997e+02,\n",
       "       2.22909666e+02, 2.04894912e+02, 1.90304776e+02, 1.77899773e+02,\n",
       "       1.67052460e+02, 1.57396403e+02, 1.48695090e+02, 1.40784274e+02,\n",
       "       1.33543440e+02, 1.26880354e+02, 1.20722083e+02, 1.15009454e+02,\n",
       "       1.09693473e+02, 1.04732904e+02, 1.00092578e+02, 9.57421686e+01,\n",
       "       9.16552934e+01, 8.78088212e+01, 8.41823413e+01, 8.07577437e+01,\n",
       "       7.75188811e+01, 7.44512955e+01, 7.15419924e+01, 6.87792537e+01,\n",
       "       6.61524797e+01, 6.36520563e+01, 6.12692409e+01, 5.89960652e+01,\n",
       "       5.68252505e+01, 5.47501351e+01, 5.27646101e+01, 5.08630635e+01,\n",
       "       4.90403316e+01, 4.72916550e+01, 4.56126409e+01, 4.39992286e+01,\n",
       "       4.24476592e+01, 4.09544490e+01, 3.95163647e+01, 3.81304022e+01,\n",
       "       3.67937665e+01, 3.55038549e+01, 3.42582406e+01, 3.30546586e+01,\n",
       "       3.18909925e+01, 3.07652632e+01, 2.96756178e+01, 2.86203201e+01,\n",
       "       2.75977418e+01, 2.66063544e+01, 2.56447215e+01, 2.47114928e+01,\n",
       "       2.38053972e+01, 2.29252376e+01, 2.20698856e+01, 2.12382767e+01,\n",
       "       2.04294060e+01, 1.96423240e+01, 1.88761332e+01, 1.81299843e+01,\n",
       "       1.74030733e+01, 1.66946387e+01, 1.60039582e+01, 1.53303470e+01,\n",
       "       1.46731549e+01, 1.40317642e+01, 1.34055883e+01, 1.27940688e+01,\n",
       "       1.21966748e+01, 1.16129006e+01, 1.10422648e+01, 1.04843083e+01,\n",
       "       9.93859324e+00, 9.40470210e+00, 8.88223614e+00, 8.37081456e+00,\n",
       "       7.87007345e+00, 7.37966490e+00, 6.89925614e+00, 6.42852867e+00,\n",
       "       5.96717760e+00, 5.51491085e+00, 5.07144853e+00, 4.63652229e+00,\n",
       "       4.20987477e+00, 3.79125899e+00, 3.38043787e+00, 2.97718374e+00,\n",
       "       2.58127785e+00, 2.19250996e+00, 1.81067793e+00, 1.43558731e+00,\n",
       "       1.06705100e+00, 7.04888906e-01, 3.48927594e-01, 0.00000000e+00])"
      ]
     },
     "execution_count": 14,
     "metadata": {},
     "output_type": "execute_result"
    }
   ],
   "source": [
    "eta_adj"
   ]
  },
  {
   "cell_type": "code",
   "execution_count": 15,
   "id": "f04b7bea",
   "metadata": {},
   "outputs": [],
   "source": [
    "# save csv files\n",
    "\n",
    "np.savetxt('elevation csv files/eta_exp_16.csv', eta_adj, delimiter = ',')\n",
    "np.savetxt('alpha csv files/alpha_exp_16.csv', alpha, delimiter = ',')\n",
    "np.savetxt('slope csv files/slope_exp_16.csv', S, delimiter = ',')"
   ]
  },
  {
   "cell_type": "code",
   "execution_count": 16,
   "id": "69531116",
   "metadata": {},
   "outputs": [
    {
     "data": {
      "text/plain": [
       "array([-1.27770249e-19, -1.64106382e-19, -1.33351600e-18, -2.63198685e-18,\n",
       "       -2.70056778e-18, -2.74619214e-17,  6.22986786e-17, -4.18672210e-17,\n",
       "       -3.59601614e-18, -5.33208250e-18, -5.33761323e-18, -5.45976764e-18,\n",
       "       -4.93991587e-18, -5.49895687e-18, -2.23821689e-16,  4.91191407e-16,\n",
       "       -2.69718950e-16,  1.70680944e-18,  1.68794503e-18,  5.40380279e-18,\n",
       "       -5.87043422e-16,  1.93087317e-15, -2.10874608e-15,  7.69710696e-16,\n",
       "        8.68077157e-16, -1.82251409e-15,  1.44650480e-15, -2.63886423e-15,\n",
       "        3.87702682e-15, -2.60116680e-16, -3.06382253e-15,  1.59641674e-15,\n",
       "       -8.87088709e-18, -7.40651742e-18,  2.34303547e-15, -4.80544166e-15,\n",
       "        6.68597557e-16,  3.98306181e-15, -1.36570937e-15, -2.04806675e-15,\n",
       "        2.19421745e-15, -4.81007189e-16, -3.30531741e-15,  5.25121261e-15,\n",
       "       -3.60411294e-15,  1.65489869e-15,  1.05234683e-15, -1.20903952e-15,\n",
       "       -8.84765513e-15,  1.47407714e-14, -6.43620569e-15, -2.49676806e-16,\n",
       "        4.33089045e-15, -7.16864176e-15,  3.23532956e-15, -1.84915413e-16,\n",
       "        5.39171650e-15, -1.27810504e-14,  1.23422287e-14, -4.25007604e-15,\n",
       "       -2.95943373e-15,  1.58106903e-15, -9.48637232e-16,  5.08427633e-15,\n",
       "       -5.86274475e-15,  5.07026724e-15, -7.60498959e-15,  1.86844811e-14,\n",
       "       -2.19142802e-14,  4.38629390e-15,  8.91957994e-15, -5.63345942e-15,\n",
       "        9.07215858e-15, -1.84058716e-14,  5.60041592e-15,  1.60960704e-14,\n",
       "       -1.79821689e-14,  8.98699646e-15, -4.41000552e-15, -3.99488602e-15,\n",
       "        1.17435604e-14, -6.00735436e-15,  4.90373693e-17,  1.10346183e-14,\n",
       "       -1.29821870e-14, -8.19849788e-15,  1.29102127e-14, -3.82935800e-15,\n",
       "        3.74733558e-15, -8.37248334e-15,  7.68921773e-15, -2.01894488e-15,\n",
       "       -6.43315104e-15,  1.63780046e-14, -1.84527705e-14,  4.88429519e-15,\n",
       "        1.80579576e-14, -2.99714173e-14,  2.56935932e-14,  0.00000000e+00])"
      ]
     },
     "execution_count": 16,
     "metadata": {},
     "output_type": "execute_result"
    }
   ],
   "source": [
    "Eh"
   ]
  },
  {
   "cell_type": "code",
   "execution_count": null,
   "id": "7dfc65b8",
   "metadata": {},
   "outputs": [],
   "source": []
  }
 ],
 "metadata": {
  "kernelspec": {
   "display_name": "Python 3",
   "language": "python",
   "name": "python3"
  },
  "language_info": {
   "codemirror_mode": {
    "name": "ipython",
    "version": 3
   },
   "file_extension": ".py",
   "mimetype": "text/x-python",
   "name": "python",
   "nbconvert_exporter": "python",
   "pygments_lexer": "ipython3",
   "version": "3.7.6"
  }
 },
 "nbformat": 4,
 "nbformat_minor": 5
}
