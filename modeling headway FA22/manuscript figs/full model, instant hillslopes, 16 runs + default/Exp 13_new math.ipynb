{
 "cells": [
  {
   "cell_type": "code",
   "execution_count": 1,
   "id": "8fc20d48",
   "metadata": {},
   "outputs": [],
   "source": [
    "# this model includes ql\n",
    "# it uses instantaneous bedrock erosion rate to calc ql\n",
    "# it uses gamma to represent fraction of plucked material that becomes coarse gravel\n",
    "# it uses theta to represent fraction of hillslope material that enters fluvial system as coarse \n",
    "## (maybe this should be same as gamma, \n",
    "## since the real fxn of this parameter is to tell us \n",
    "## how much coarse stuff is available for bedload transport/abrasion)\n",
    "\n",
    "# potential updates: see if adding weighted average back in to ql calculation still allows for stability\n",
    "## update on the update: this led to stability issues, and it's not worth the time now trying to debug, \n",
    "## so just stick with using instantaneous erosion rate. \n",
    "## Most interested in steady state profiles anyway, so this is fine."
   ]
  },
  {
   "cell_type": "code",
   "execution_count": 2,
   "id": "13f8fb7c",
   "metadata": {},
   "outputs": [],
   "source": [
    "import numpy as np\n",
    "import matplotlib.pyplot as plt"
   ]
  },
  {
   "cell_type": "code",
   "execution_count": 3,
   "id": "a6ba582e",
   "metadata": {},
   "outputs": [],
   "source": [
    "# create a profile\n",
    "dx = 500\n",
    "x = np.arange(0, 50000, dx)\n",
    "x_node = x + (dx/2)\n",
    "\n",
    "# add some elevation\n",
    "Hstar = 0.5 # depth decay\n",
    "etab = np.zeros(len(x)) # bedrock elevation\n",
    "etab[:] = np.linspace(1, 0.1, len(x)) # need to start with slight bedrock slope\n",
    "H = Hstar + np.zeros(len(x)) # alluvium thickness\n",
    "eta = etab + H # topography"
   ]
  },
  {
   "cell_type": "code",
   "execution_count": 4,
   "id": "09d177eb",
   "metadata": {},
   "outputs": [],
   "source": [
    "# define constants and other parameters\n",
    "K = 1e-6 # erodibility\n",
    "beta = 0.0005 # abradability\n",
    "r = 5. # runoff rate\n",
    "U = 0.0001 # uplift or baselevel fall rate\n",
    "I = 0.01 # intermittency\n",
    "phi = 0.1 # porosity\n",
    "D = 0.01 # grain size\n",
    "gamma = 0.25 # fraction plucked that becomes coarse\n",
    "\n",
    "kqs = 0.041 # sed transport coeff\n",
    "kxb = 25 # valley width coeff\n",
    "Pxb = 1./5. # valley width exp\n",
    "kb = 8.3e-8 # channel width coeff\n",
    "\n",
    "B_valley = kxb * (x_node**Pxb) # valley width\n",
    "# Q = (r * kxb * x_node**(1 + Pxb))/(1 + Pxb) # discharge\n",
    "A = (1./3.) * (x**2)\n",
    "Q = r * A"
   ]
  },
  {
   "cell_type": "code",
   "execution_count": 5,
   "id": "98308cda",
   "metadata": {},
   "outputs": [],
   "source": [
    "def model(x, dx, x_node,\n",
    "          K, beta, gamma,\n",
    "          D, phi, Hstar,\n",
    "          kb, kqs, I, r, U,\n",
    "          etab, H, eta,\n",
    "          B_valley, Q,\n",
    "          num_steps = 1):\n",
    "    \n",
    "    q = Q/B_valley\n",
    "    dt = 50\n",
    "    \n",
    "    run_duration = dt * num_steps\n",
    "    cum_time = 0.0\n",
    "    \n",
    "    Qs = np.zeros(len(x))\n",
    "    qs = np.zeros(len(x))\n",
    "    Eb_p = np.zeros(len(x))\n",
    "    Eb_a = np.zeros(len(x))\n",
    "    Eb = np.zeros(len(x))\n",
    "    Eh = np.zeros(len(x))\n",
    "    E = np.zeros(len(x))\n",
    "    ql = np.zeros(len(x)) # lateral sediment supply\n",
    "    \n",
    "    H[-1] = 0\n",
    "    E[-1] = U\n",
    "    q[0] = 0\n",
    "    Qs[0] = 0\n",
    "    \n",
    "    while cum_time < run_duration:\n",
    "        \n",
    "        # drop baselevel\n",
    "        eta[-1] -= U * dt\n",
    "        \n",
    "        # set boundary conditions\n",
    "        etab[-1] = eta[-1]\n",
    "        \n",
    "        # calc slope\n",
    "        S = -np.diff(eta)/dx\n",
    "        \n",
    "        # calc bed exposure\n",
    "        alpha = np.exp(-H/Hstar)\n",
    "        \n",
    "        # calc sed transport\n",
    "        Qs[1:] = kqs * I * Q[1:] * S**(7./6.) * (1 - alpha[:-1])\n",
    "        qs[1:] = Qs[1:] / B_valley[1:]\n",
    "        \n",
    "        # calc bedrock erosion\n",
    "        Eb_p[:-1] = K * Q[1:] * S**(7./6.) * alpha[:-1] * I\n",
    "        Eb_a[:-1] = beta * Qs[1:] * alpha[:-1]\n",
    "        Eb[:-1] = (Eb_p[:-1] + Eb_a[:-1]) / B_valley[:-1]\n",
    "        \n",
    "        # calc lateral flux\n",
    "        ql[:-1] = ((Eb[:-1] * gamma)/beta) * (1 - np.exp(-beta * x[1:]/3))\n",
    "        \n",
    "        # calc grain attrition\n",
    "        atr = Qs * beta\n",
    "        \n",
    "        # calc sediment erosion rate\n",
    "        Eh[:-1] = 1/((1 - phi) * B_valley[:-1]) * (np.diff(Qs)/dx + atr[1:] - (Eb_p[:-1]*gamma) - ql[:-1])\n",
    "        \n",
    "        # calc total erosion rate\n",
    "        E[:-1] = Eb[:-1] + Eh[:-1]\n",
    "        \n",
    "        # update topography\n",
    "        etab[:-1] -= Eb[:-1] * dt\n",
    "        H[:-1] -= Eh[:-1] * dt\n",
    "        H[H<0] = 0\n",
    "        eta[:-1] = etab[:-1] + H[:-1]\n",
    "        \n",
    "        # update elapsed time\n",
    "        cum_time += dt\n",
    "        \n",
    "    print(cum_time)\n",
    "        \n",
    "    return (dt, S, q, alpha, Qs, qs, Eb_p, Eb_a, Eb, ql, atr, Eh, E, etab, H, eta)"
   ]
  },
  {
   "cell_type": "code",
   "execution_count": 6,
   "id": "b9c1fdab",
   "metadata": {},
   "outputs": [
    {
     "name": "stdout",
     "output_type": "stream",
     "text": [
      "125000000.0\n"
     ]
    }
   ],
   "source": [
    "#now write a test\n",
    "num_steps = 2500000\n",
    "\n",
    "test_run = [x, dx, x_node, \n",
    "            K, beta, gamma,\n",
    "            D, phi, Hstar,\n",
    "            kb, kqs, I, r, U,\n",
    "            etab, H, eta,\n",
    "            B_valley, Q,\n",
    "            num_steps]\n",
    "\n",
    "# and run it\n",
    "(dt, S, q, alpha, Qs, qs, Eb_p, Eb_a, Eb, ql, atr, Eh, E, etab, H, eta) = model(*test_run)"
   ]
  },
  {
   "cell_type": "code",
   "execution_count": 7,
   "id": "f33db4cf",
   "metadata": {},
   "outputs": [
    {
     "data": {
      "text/plain": [
       "array([9.99999999e-05, 1.00000000e-04, 1.00000000e-04, 1.00000000e-04,\n",
       "       1.00000000e-04, 1.00000000e-04, 1.00000000e-04, 1.00000000e-04,\n",
       "       1.00000000e-04, 1.00000000e-04, 1.00000000e-04, 1.00000000e-04,\n",
       "       1.00000000e-04, 1.00000000e-04, 1.00000000e-04, 1.00000000e-04,\n",
       "       1.00000000e-04, 1.00000000e-04, 1.00000000e-04, 1.00000000e-04,\n",
       "       1.00000000e-04, 1.00000000e-04, 1.00000000e-04, 1.00000000e-04,\n",
       "       1.00000000e-04, 1.00000000e-04, 1.00000000e-04, 1.00000000e-04,\n",
       "       1.00000000e-04, 1.00000000e-04, 1.00000000e-04, 1.00000000e-04,\n",
       "       1.00000000e-04, 1.00000000e-04, 1.00000000e-04, 1.00000000e-04,\n",
       "       1.00000000e-04, 1.00000000e-04, 1.00000000e-04, 1.00000000e-04,\n",
       "       1.00000000e-04, 1.00000000e-04, 1.00000000e-04, 1.00000000e-04,\n",
       "       1.00000000e-04, 1.00000000e-04, 1.00000000e-04, 1.00000000e-04,\n",
       "       1.00000000e-04, 1.00000000e-04, 1.00000000e-04, 1.00000000e-04,\n",
       "       1.00000000e-04, 1.00000000e-04, 1.00000000e-04, 1.00000000e-04,\n",
       "       1.00000000e-04, 1.00000000e-04, 1.00000000e-04, 1.00000000e-04,\n",
       "       1.00000000e-04, 1.00000000e-04, 1.00000000e-04, 1.00000000e-04,\n",
       "       1.00000000e-04, 1.00000000e-04, 1.00000000e-04, 1.00000000e-04,\n",
       "       1.00000000e-04, 1.00000000e-04, 1.00000000e-04, 1.00000000e-04,\n",
       "       1.00000000e-04, 1.00000000e-04, 1.00000000e-04, 1.00000000e-04,\n",
       "       1.00000000e-04, 1.00000000e-04, 1.00000000e-04, 1.00000000e-04,\n",
       "       1.00000000e-04, 1.00000000e-04, 1.00000000e-04, 1.00000000e-04,\n",
       "       1.00000000e-04, 1.00000000e-04, 1.00000000e-04, 1.00000000e-04,\n",
       "       1.00000000e-04, 1.00000000e-04, 1.00000000e-04, 1.00000000e-04,\n",
       "       1.00000000e-04, 1.00000000e-04, 1.00000000e-04, 1.00000000e-04,\n",
       "       1.00000000e-04, 1.00000000e-04, 1.00000000e-04, 0.00000000e+00])"
      ]
     },
     "execution_count": 7,
     "metadata": {},
     "output_type": "execute_result"
    }
   ],
   "source": [
    "Eb"
   ]
  },
  {
   "cell_type": "code",
   "execution_count": 8,
   "id": "d73cb5b8",
   "metadata": {},
   "outputs": [
    {
     "data": {
      "text/plain": [
       "[<matplotlib.lines.Line2D at 0x7fc12a57db50>]"
      ]
     },
     "execution_count": 8,
     "metadata": {},
     "output_type": "execute_result"
    },
    {
     "data": {
      "image/png": "[encoded data removed]",
      "text/plain": [
       "<Figure size 432x288 with 1 Axes>"
      ]
     },
     "metadata": {
      "needs_background": "light"
     },
     "output_type": "display_data"
    }
   ],
   "source": [
    "plt.plot(1-alpha[:-1])"
   ]
  },
  {
   "cell_type": "code",
   "execution_count": 9,
   "id": "ad181e1d",
   "metadata": {},
   "outputs": [
    {
     "data": {
      "text/plain": [
       "[<matplotlib.lines.Line2D at 0x7fc12a69f090>]"
      ]
     },
     "execution_count": 9,
     "metadata": {},
     "output_type": "execute_result"
    },
    {
     "data": {
      "image/png": "[encoded data removed]",
      "text/plain": [
       "<Figure size 432x288 with 1 Axes>"
      ]
     },
     "metadata": {
      "needs_background": "light"
     },
     "output_type": "display_data"
    }
   ],
   "source": [
    "plt.plot(S)"
   ]
  },
  {
   "cell_type": "code",
   "execution_count": 10,
   "id": "5f032975",
   "metadata": {},
   "outputs": [
    {
     "data": {
      "text/plain": [
       "[<matplotlib.lines.Line2D at 0x7fc12a7ed390>]"
      ]
     },
     "execution_count": 10,
     "metadata": {},
     "output_type": "execute_result"
    },
    {
     "data": {
      "image/png": "[encoded data removed]",
      "text/plain": [
       "<Figure size 432x288 with 1 Axes>"
      ]
     },
     "metadata": {
      "needs_background": "light"
     },
     "output_type": "display_data"
    }
   ],
   "source": [
    "plt.plot(eta)"
   ]
  },
  {
   "cell_type": "code",
   "execution_count": 11,
   "id": "17318f12",
   "metadata": {},
   "outputs": [
    {
     "data": {
      "text/plain": [
       "0.0003728565513119975"
      ]
     },
     "execution_count": 11,
     "metadata": {},
     "output_type": "execute_result"
    }
   ],
   "source": [
    "S[-1]"
   ]
  },
  {
   "cell_type": "code",
   "execution_count": 12,
   "id": "b1005f1a",
   "metadata": {},
   "outputs": [
    {
     "data": {
      "text/plain": [
       "array([-11209.22957932, -11939.84452045, -12172.28959636, -12277.66691441,\n",
       "       -12332.61053983, -12363.6382728 , -12382.63804633, -12395.45568126,\n",
       "       -12404.91139533, -12412.36662385, -12418.5201441 , -12423.76214432,\n",
       "       -12428.32859013, -12432.37215486, -12435.99725416, -12439.2786113 ,\n",
       "       -12442.27172792, -12445.01911586, -12447.55418145, -12449.903745  ,\n",
       "       -12452.08973253, -12454.13034658, -12456.04089833, -12457.83441323,\n",
       "       -12459.52208109, -12461.11359693, -12462.61742353, -12464.04099674,\n",
       "       -12465.3908883 , -12466.67293644, -12467.89235201, -12469.05380544,\n",
       "       -12470.16149879, -12471.21922578, -12472.23042243, -12473.19820982,\n",
       "       -12474.12543063, -12475.01468048, -12475.86833488, -12476.68857262,\n",
       "       -12477.47739618, -12478.23664949, -12478.96803358, -12479.67312031,\n",
       "       -12480.35336456, -12481.01011499, -12481.64462366, -12482.25805454,\n",
       "       -12482.85149122, -12483.42594368, -12483.9823545 , -12484.5216044 ,\n",
       "       -12485.04451721, -12485.55186444, -12486.04436931, -12486.52271051,\n",
       "       -12486.98752557, -12487.43941391, -12487.87893966, -12488.30663422,\n",
       "       -12488.72299858, -12489.12850546, -12489.52360132, -12489.90870809,\n",
       "       -12490.28422488, -12490.65052948, -12491.00797979, -12491.35691506,\n",
       "       -12491.69765714, -12492.03051158, -12492.3557686 , -12492.6737041 ,\n",
       "       -12492.98458052, -12493.28864761, -12493.58614326, -12493.87729413,\n",
       "       -12494.16231636, -12494.44141614, -12494.71479031, -12494.98262686,\n",
       "       -12495.24510542, -12495.50239777, -12495.7546682 , -12496.00207398,\n",
       "       -12496.24476568, -12496.48288757, -12496.7165779 , -12496.94596928,\n",
       "       -12497.17118889, -12497.39235883, -12497.60959632, -12497.82301397,\n",
       "       -12498.03272001, -12498.23881848, -12498.44140946, -12498.64058923,\n",
       "       -12498.83645049, -12499.02908248, -12499.21857119, -12499.39999947])"
      ]
     },
     "execution_count": 12,
     "metadata": {},
     "output_type": "execute_result"
    }
   ],
   "source": [
    "eta"
   ]
  },
  {
   "cell_type": "code",
   "execution_count": 13,
   "id": "b881373c",
   "metadata": {},
   "outputs": [],
   "source": [
    "eta_adj = eta - eta[-1]"
   ]
  },
  {
   "cell_type": "code",
   "execution_count": 14,
   "id": "96a0b74e",
   "metadata": {},
   "outputs": [
    {
     "data": {
      "text/plain": [
       "array([1.29017042e+03, 5.59555479e+02, 3.27110403e+02, 2.21733085e+02,\n",
       "       1.66789460e+02, 1.35761727e+02, 1.16761953e+02, 1.03944318e+02,\n",
       "       9.44886041e+01, 8.70333756e+01, 8.08798554e+01, 7.56378552e+01,\n",
       "       7.10714093e+01, 6.70278446e+01, 6.34027453e+01, 6.01213882e+01,\n",
       "       5.71282715e+01, 5.43808836e+01, 5.18458180e+01, 4.94962545e+01,\n",
       "       4.73102669e+01, 4.52696529e+01, 4.33591011e+01, 4.15655862e+01,\n",
       "       3.98779184e+01, 3.82864025e+01, 3.67825759e+01, 3.53590027e+01,\n",
       "       3.40091112e+01, 3.27270630e+01, 3.15076475e+01, 3.03461940e+01,\n",
       "       2.92385007e+01, 2.81807737e+01, 2.71695770e+01, 2.62017897e+01,\n",
       "       2.52745688e+01, 2.43853190e+01, 2.35316646e+01, 2.27114268e+01,\n",
       "       2.19226033e+01, 2.11633500e+01, 2.04319659e+01, 1.97268792e+01,\n",
       "       1.90466349e+01, 1.83898845e+01, 1.77553758e+01, 1.71419449e+01,\n",
       "       1.65485082e+01, 1.59740558e+01, 1.54176450e+01, 1.48783951e+01,\n",
       "       1.43554823e+01, 1.38481350e+01, 1.33556302e+01, 1.28772890e+01,\n",
       "       1.24124739e+01, 1.19605856e+01, 1.15210598e+01, 1.10933652e+01,\n",
       "       1.06770009e+01, 1.02714940e+01, 9.87639815e+00, 9.49129138e+00,\n",
       "       9.11577459e+00, 8.74946998e+00, 8.39201968e+00, 8.04308441e+00,\n",
       "       7.70234232e+00, 7.36948789e+00, 7.04423087e+00, 6.72629536e+00,\n",
       "       6.41541895e+00, 6.11135185e+00, 5.81385621e+00, 5.52270534e+00,\n",
       "       5.23768311e+00, 4.95858333e+00, 4.68520916e+00, 4.41737261e+00,\n",
       "       4.15489404e+00, 3.89760170e+00, 3.64533126e+00, 3.39792548e+00,\n",
       "       3.15523378e+00, 2.91711190e+00, 2.68342156e+00, 2.45403019e+00,\n",
       "       2.22881058e+00, 2.00764064e+00, 1.79040315e+00, 1.57698549e+00,\n",
       "       1.36727946e+00, 1.16118098e+00, 9.58590009e-01, 7.59410235e-01,\n",
       "       5.63548978e-01, 3.70916984e-01, 1.81428276e-01, 0.00000000e+00])"
      ]
     },
     "execution_count": 14,
     "metadata": {},
     "output_type": "execute_result"
    }
   ],
   "source": [
    "eta_adj"
   ]
  },
  {
   "cell_type": "code",
   "execution_count": 15,
   "id": "f04b7bea",
   "metadata": {},
   "outputs": [],
   "source": [
    "# save csv files\n",
    "\n",
    "np.savetxt('elevation csv files/eta_exp_13.csv', eta_adj, delimiter = ',')\n",
    "np.savetxt('alpha csv files/alpha_exp_13.csv', alpha, delimiter = ',')\n",
    "np.savetxt('slope csv files/slope_exp_13.csv', S, delimiter = ',')"
   ]
  },
  {
   "cell_type": "code",
   "execution_count": null,
   "id": "2f800abf",
   "metadata": {},
   "outputs": [],
   "source": []
  }
 ],
 "metadata": {
  "kernelspec": {
   "display_name": "Python 3",
   "language": "python",
   "name": "python3"
  },
  "language_info": {
   "codemirror_mode": {
    "name": "ipython",
    "version": 3
   },
   "file_extension": ".py",
   "mimetype": "text/x-python",
   "name": "python",
   "nbconvert_exporter": "python",
   "pygments_lexer": "ipython3",
   "version": "3.7.6"
  }
 },
 "nbformat": 4,
 "nbformat_minor": 5
}
