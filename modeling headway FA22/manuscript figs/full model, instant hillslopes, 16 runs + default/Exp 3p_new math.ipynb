{
 "cells": [
  {
   "cell_type": "code",
   "execution_count": 1,
   "id": "8fc20d48",
   "metadata": {},
   "outputs": [],
   "source": [
    "# this model includes ql\n",
    "# it uses instantaneous bedrock erosion rate to calc ql\n",
    "# it uses gamma to represent fraction of plucked material that becomes coarse gravel\n",
    "# it uses theta to represent fraction of hillslope material that enters fluvial system as coarse \n",
    "## (maybe this should be same as gamma, \n",
    "## since the real fxn of this parameter is to tell us \n",
    "## how much coarse stuff is available for bedload transport/abrasion)\n",
    "\n",
    "# potential updates: see if adding weighted average back in to ql calculation still allows for stability\n",
    "## update on the update: this led to stability issues, and it's not worth the time now trying to debug, \n",
    "## so just stick with using instantaneous erosion rate. \n",
    "## Most interested in steady state profiles anyway, so this is fine."
   ]
  },
  {
   "cell_type": "code",
   "execution_count": 2,
   "id": "13f8fb7c",
   "metadata": {},
   "outputs": [],
   "source": [
    "import numpy as np\n",
    "import matplotlib.pyplot as plt"
   ]
  },
  {
   "cell_type": "code",
   "execution_count": 3,
   "id": "a6ba582e",
   "metadata": {},
   "outputs": [],
   "source": [
    "# create a profile\n",
    "dx = 500\n",
    "x = np.arange(0, 50000, dx)\n",
    "x_node = x + (dx/2)\n",
    "\n",
    "# add some elevation\n",
    "Hstar = 0.5 # depth decay\n",
    "etab = np.zeros(len(x)) # bedrock elevation\n",
    "etab[:] = np.linspace(1, 0.1, len(x)) # need to start with slight bedrock slope\n",
    "H = Hstar + np.zeros(len(x)) # alluvium thickness\n",
    "eta = etab + H # topography"
   ]
  },
  {
   "cell_type": "code",
   "execution_count": 4,
   "id": "09d177eb",
   "metadata": {},
   "outputs": [],
   "source": [
    "# define constants and other parameters\n",
    "K = 1e-6 # erodibility\n",
    "beta = 0.0005 # abradability\n",
    "r = 5. # runoff rate\n",
    "U = 0.0001 # uplift or baselevel fall rate\n",
    "I = 0.01 # intermittency\n",
    "phi = 0.1 # porosity\n",
    "D = 0.01 # grain size\n",
    "gamma = 0.5 # fraction plucked that becomes coarse\n",
    "\n",
    "kqs = 0.041 # sed transport coeff\n",
    "kxb = 80 # valley width coeff\n",
    "Pxb = 1./5. # valley width exp\n",
    "kb = 8.3e-8 # channel width coeff\n",
    "\n",
    "B_valley = kxb * (x_node**Pxb) # valley width\n",
    "# Q = (r * kxb * x_node**(1 + Pxb))/(1 + Pxb) # discharge\n",
    "A = (1./3.) * (x**2)\n",
    "Q = r * A"
   ]
  },
  {
   "cell_type": "code",
   "execution_count": 5,
   "id": "98308cda",
   "metadata": {},
   "outputs": [],
   "source": [
    "def model(x, dx, x_node,\n",
    "          K, beta, gamma,\n",
    "          D, phi, Hstar,\n",
    "          kb, kqs, I, r, U,\n",
    "          etab, H, eta,\n",
    "          B_valley, Q,\n",
    "          num_steps = 1):\n",
    "    \n",
    "    q = Q/B_valley\n",
    "    dt = 100\n",
    "    \n",
    "    run_duration = dt * num_steps\n",
    "    cum_time = 0.0\n",
    "    \n",
    "    Qs = np.zeros(len(x))\n",
    "    qs = np.zeros(len(x))\n",
    "    Eb_p = np.zeros(len(x))\n",
    "    Eb_a = np.zeros(len(x))\n",
    "    Eb = np.zeros(len(x))\n",
    "    Eh = np.zeros(len(x))\n",
    "    E = np.zeros(len(x))\n",
    "    ql = np.zeros(len(x)) # lateral sediment supply\n",
    "    \n",
    "    H[-1] = 0\n",
    "    E[-1] = U\n",
    "    q[0] = 0\n",
    "    Qs[0] = 0\n",
    "    \n",
    "    while cum_time < run_duration:\n",
    "        \n",
    "        # drop baselevel\n",
    "        eta[-1] -= U * dt\n",
    "        \n",
    "        # set boundary conditions\n",
    "        etab[-1] = eta[-1]\n",
    "        \n",
    "        # calc slope\n",
    "        S = -np.diff(eta)/dx\n",
    "        \n",
    "        # calc bed exposure\n",
    "        alpha = np.exp(-H/Hstar)\n",
    "        \n",
    "        # calc sed transport\n",
    "        Qs[1:] = kqs * I * Q[1:] * S**(7./6.) * (1 - alpha[:-1])\n",
    "        qs[1:] = Qs[1:] / B_valley[1:]\n",
    "        \n",
    "        # calc bedrock erosion\n",
    "        Eb_p[:-1] = K * Q[1:] * S**(7./6.) * alpha[:-1] * I\n",
    "        Eb_a[:-1] = beta * Qs[1:] * alpha[:-1]\n",
    "        Eb[:-1] = (Eb_p[:-1] + Eb_a[:-1]) / B_valley[:-1]\n",
    "        \n",
    "        # calc lateral flux\n",
    "        ql[:-1] = ((Eb[:-1] * gamma)/beta) * (1 - np.exp(-beta * x[1:]/3))\n",
    "        \n",
    "        # calc grain attrition\n",
    "        atr = Qs * beta\n",
    "        \n",
    "        # calc sediment erosion rate\n",
    "        Eh[:-1] = 1/((1 - phi) * B_valley[:-1]) * (np.diff(Qs)/dx + atr[1:] - (Eb_p[:-1]*gamma) - ql[:-1])\n",
    "        \n",
    "        # calc total erosion rate\n",
    "        E[:-1] = Eb[:-1] + Eh[:-1]\n",
    "        \n",
    "        # update topography\n",
    "        etab[:-1] -= Eb[:-1] * dt\n",
    "        H[:-1] -= Eh[:-1] * dt\n",
    "        H[H<0] = 0\n",
    "        eta[:-1] = etab[:-1] + H[:-1]\n",
    "        \n",
    "        # update elapsed time\n",
    "        cum_time += dt\n",
    "        \n",
    "    print(cum_time)\n",
    "        \n",
    "    return (dt, S, q, alpha, Qs, qs, Eb_p, Eb_a, Eb, ql, atr, Eh, E, etab, H, eta)"
   ]
  },
  {
   "cell_type": "code",
   "execution_count": 6,
   "id": "b9c1fdab",
   "metadata": {},
   "outputs": [
    {
     "name": "stdout",
     "output_type": "stream",
     "text": [
      "5000000000.0\n"
     ]
    }
   ],
   "source": [
    "#now write a test\n",
    "num_steps = 50000000\n",
    "\n",
    "test_run = [x, dx, x_node, \n",
    "            K, beta, gamma,\n",
    "            D, phi, Hstar,\n",
    "            kb, kqs, I, r, U,\n",
    "            etab, H, eta,\n",
    "            B_valley, Q,\n",
    "            num_steps]\n",
    "\n",
    "# and run it\n",
    "(dt, S, q, alpha, Qs, qs, Eb_p, Eb_a, Eb, ql, atr, Eh, E, etab, H, eta) = model(*test_run)"
   ]
  },
  {
   "cell_type": "code",
   "execution_count": 7,
   "id": "f33db4cf",
   "metadata": {},
   "outputs": [
    {
     "data": {
      "text/plain": [
       "array([0.0001, 0.0001, 0.0001, 0.0001, 0.0001, 0.0001, 0.0001, 0.0001,\n",
       "       0.0001, 0.0001, 0.0001, 0.0001, 0.0001, 0.0001, 0.0001, 0.0001,\n",
       "       0.0001, 0.0001, 0.0001, 0.0001, 0.0001, 0.0001, 0.0001, 0.0001,\n",
       "       0.0001, 0.0001, 0.0001, 0.0001, 0.0001, 0.0001, 0.0001, 0.0001,\n",
       "       0.0001, 0.0001, 0.0001, 0.0001, 0.0001, 0.0001, 0.0001, 0.0001,\n",
       "       0.0001, 0.0001, 0.0001, 0.0001, 0.0001, 0.0001, 0.0001, 0.0001,\n",
       "       0.0001, 0.0001, 0.0001, 0.0001, 0.0001, 0.0001, 0.0001, 0.0001,\n",
       "       0.0001, 0.0001, 0.0001, 0.0001, 0.0001, 0.0001, 0.0001, 0.0001,\n",
       "       0.0001, 0.0001, 0.0001, 0.0001, 0.0001, 0.0001, 0.0001, 0.0001,\n",
       "       0.0001, 0.0001, 0.0001, 0.0001, 0.0001, 0.0001, 0.0001, 0.0001,\n",
       "       0.0001, 0.0001, 0.0001, 0.0001, 0.0001, 0.0001, 0.0001, 0.0001,\n",
       "       0.0001, 0.0001, 0.0001, 0.0001, 0.0001, 0.0001, 0.0001, 0.0001,\n",
       "       0.0001, 0.0001, 0.0001, 0.    ])"
      ]
     },
     "execution_count": 7,
     "metadata": {},
     "output_type": "execute_result"
    }
   ],
   "source": [
    "Eb"
   ]
  },
  {
   "cell_type": "code",
   "execution_count": 8,
   "id": "ad181e1d",
   "metadata": {},
   "outputs": [
    {
     "data": {
      "text/plain": [
       "[<matplotlib.lines.Line2D at 0x7fdabe475e10>]"
      ]
     },
     "execution_count": 8,
     "metadata": {},
     "output_type": "execute_result"
    },
    {
     "data": {
      "image/png": "[encoded data removed]",
      "text/plain": [
       "<Figure size 432x288 with 1 Axes>"
      ]
     },
     "metadata": {
      "needs_background": "light"
     },
     "output_type": "display_data"
    }
   ],
   "source": [
    "plt.plot(S)"
   ]
  },
  {
   "cell_type": "code",
   "execution_count": 9,
   "id": "5f032975",
   "metadata": {},
   "outputs": [
    {
     "data": {
      "text/plain": [
       "[<matplotlib.lines.Line2D at 0x7fdabe762e50>]"
      ]
     },
     "execution_count": 9,
     "metadata": {},
     "output_type": "execute_result"
    },
    {
     "data": {
      "image/png": "[encoded data removed]",
      "text/plain": [
       "<Figure size 432x288 with 1 Axes>"
      ]
     },
     "metadata": {
      "needs_background": "light"
     },
     "output_type": "display_data"
    }
   ],
   "source": [
    "plt.plot(eta)"
   ]
  },
  {
   "cell_type": "code",
   "execution_count": 10,
   "id": "17318f12",
   "metadata": {},
   "outputs": [
    {
     "data": {
      "text/plain": [
       "0.0009765367463696748"
      ]
     },
     "execution_count": 10,
     "metadata": {},
     "output_type": "execute_result"
    }
   ],
   "source": [
    "S[-1]"
   ]
  },
  {
   "cell_type": "code",
   "execution_count": 11,
   "id": "b1005f1a",
   "metadata": {},
   "outputs": [
    {
     "data": {
      "text/plain": [
       "array([-496371.29669918, -498346.50926076, -498991.22167816,\n",
       "       -499298.93634449, -499472.15978902, -499579.19463783,\n",
       "       -499649.68172503, -499698.54598198, -499734.01938946,\n",
       "       -499760.89032002, -499782.03378946, -499799.22053651,\n",
       "       -499813.57184262, -499825.82029158, -499836.46046185,\n",
       "       -499845.83712693, -499854.19793456, -499861.72567525,\n",
       "       -499868.5585962 , -499874.80354513, -499880.54470143,\n",
       "       -499885.84952116, -499890.7728786 , -499895.36001252,\n",
       "       -499899.64866326, -499903.67065017, -499907.45305527,\n",
       "       -499911.01912454, -499914.38896369, -499917.58008218,\n",
       "       -499920.60782337, -499923.48570844, -499926.22571404,\n",
       "       -499928.83849845, -499931.33358752, -499933.71952857,\n",
       "       -499936.00401879, -499938.19401315, -499940.29581553,\n",
       "       -499942.31515626, -499944.25725839, -499946.12689461,\n",
       "       -499947.92843643, -499949.66589683, -499951.34296738,\n",
       "       -499952.9630507 , -499954.52928899, -499956.04458908,\n",
       "       -499957.51164465, -499958.9329558 , -499960.3108466 ,\n",
       "       -499961.64748059, -499962.94487472, -499964.20491178,\n",
       "       -499965.42935163, -499966.61984121, -499967.77792366,\n",
       "       -499968.90504648, -499970.00256899, -499971.07176908,\n",
       "       -499972.11384925, -499973.12994226, -499974.12111618,\n",
       "       -499975.088379  , -499976.03268289, -499976.95492808,\n",
       "       -499977.85596642, -499978.73660463, -499979.59760731,\n",
       "       -499980.43969972, -499981.2635703 , -499982.06987304,\n",
       "       -499982.85922964, -499983.63223153, -499984.3894417 ,\n",
       "       -499985.13139646, -499985.858607  , -499986.5715609 ,\n",
       "       -499987.27072348, -499987.95653913, -499988.62943243,\n",
       "       -499989.28980932, -499989.93805813, -499990.57455053,\n",
       "       -499991.19964241, -499991.8136748 , -499992.41697458,\n",
       "       -499993.00985527, -499993.59261771, -499994.1655507 ,\n",
       "       -499994.72893162, -499995.28302701, -499995.8280931 ,\n",
       "       -499996.36437631, -499996.89211372, -499997.41153355,\n",
       "       -499997.92285557, -499998.42629146, -499998.92204525,\n",
       "       -499999.40031362])"
      ]
     },
     "execution_count": 11,
     "metadata": {},
     "output_type": "execute_result"
    }
   ],
   "source": [
    "eta"
   ]
  },
  {
   "cell_type": "code",
   "execution_count": 12,
   "id": "b881373c",
   "metadata": {},
   "outputs": [],
   "source": [
    "eta_adj = eta - eta[-1]"
   ]
  },
  {
   "cell_type": "code",
   "execution_count": 13,
   "id": "96a0b74e",
   "metadata": {},
   "outputs": [
    {
     "data": {
      "text/plain": [
       "array([3.62810361e+03, 1.65289105e+03, 1.00817864e+03, 7.00463969e+02,\n",
       "       5.27240525e+02, 4.20205676e+02, 3.49718589e+02, 3.00854332e+02,\n",
       "       2.65380924e+02, 2.38509994e+02, 2.17366524e+02, 2.00179777e+02,\n",
       "       1.85828471e+02, 1.73580022e+02, 1.62939852e+02, 1.53563187e+02,\n",
       "       1.45202379e+02, 1.37674638e+02, 1.30841717e+02, 1.24596768e+02,\n",
       "       1.18855612e+02, 1.13550792e+02, 1.08627435e+02, 1.04040301e+02,\n",
       "       9.97516504e+01, 9.57296635e+01, 9.19472583e+01, 8.83811891e+01,\n",
       "       8.50113499e+01, 8.18202314e+01, 7.87924903e+01, 7.59146052e+01,\n",
       "       7.31745996e+01, 7.05618152e+01, 6.80667261e+01, 6.56807851e+01,\n",
       "       6.33962948e+01, 6.12063005e+01, 5.91044981e+01, 5.70851574e+01,\n",
       "       5.51430552e+01, 5.32734190e+01, 5.14718772e+01, 4.97344168e+01,\n",
       "       4.80573462e+01, 4.64372629e+01, 4.48710246e+01, 4.33557245e+01,\n",
       "       4.18886690e+01, 4.04673578e+01, 3.90894670e+01, 3.77528330e+01,\n",
       "       3.64554389e+01, 3.51954018e+01, 3.39709620e+01, 3.27804724e+01,\n",
       "       3.16223900e+01, 3.04952671e+01, 2.93977446e+01, 2.83285445e+01,\n",
       "       2.72864644e+01, 2.62703714e+01, 2.52791974e+01, 2.43119346e+01,\n",
       "       2.33676307e+01, 2.24453855e+01, 2.15443472e+01, 2.06637090e+01,\n",
       "       1.98027063e+01, 1.89606139e+01, 1.81367433e+01, 1.73304406e+01,\n",
       "       1.65410840e+01, 1.57680821e+01, 1.50108719e+01, 1.42689172e+01,\n",
       "       1.35417066e+01, 1.28287527e+01, 1.21295901e+01, 1.14437745e+01,\n",
       "       1.07708812e+01, 1.01105043e+01, 9.46225549e+00, 8.82576310e+00,\n",
       "       8.20067121e+00, 7.58663883e+00, 6.98333905e+00, 6.39045835e+00,\n",
       "       5.80769592e+00, 5.23476293e+00, 4.67138200e+00, 4.11728661e+00,\n",
       "       3.57222052e+00, 3.03593732e+00, 2.50819991e+00, 1.98878007e+00,\n",
       "       1.47745806e+00, 9.74022163e-01, 4.78268373e-01, 0.00000000e+00])"
      ]
     },
     "execution_count": 13,
     "metadata": {},
     "output_type": "execute_result"
    }
   ],
   "source": [
    "eta_adj"
   ]
  },
  {
   "cell_type": "code",
   "execution_count": 14,
   "id": "f04b7bea",
   "metadata": {},
   "outputs": [],
   "source": [
    "# save csv files\n",
    "\n",
    "np.savetxt('elevation csv files/eta_exp_3p.csv', eta_adj, delimiter = ',')\n",
    "np.savetxt('alpha csv files/alpha_exp_3p.csv', alpha, delimiter = ',')\n",
    "np.savetxt('slope csv files/slope_exp_3p.csv', S, delimiter = ',')"
   ]
  },
  {
   "cell_type": "code",
   "execution_count": 15,
   "id": "062c60b9",
   "metadata": {},
   "outputs": [],
   "source": [
    "# calc width\n",
    "\n",
    "b = (kb * Q[1:] * S**(7/6)) / (D**(3/2))\n",
    "\n",
    "np.savetxt('width csv files/b_exp_3p.csv', b, delimiter = ',')\n",
    "np.savetxt('Qs csv files/Qs_exp_3p.csv', Qs, delimiter = ',')"
   ]
  },
  {
   "cell_type": "code",
   "execution_count": null,
   "id": "fbf265f0",
   "metadata": {},
   "outputs": [],
   "source": []
  }
 ],
 "metadata": {
  "kernelspec": {
   "display_name": "Python 3",
   "language": "python",
   "name": "python3"
  },
  "language_info": {
   "codemirror_mode": {
    "name": "ipython",
    "version": 3
   },
   "file_extension": ".py",
   "mimetype": "text/x-python",
   "name": "python",
   "nbconvert_exporter": "python",
   "pygments_lexer": "ipython3",
   "version": "3.7.6"
  }
 },
 "nbformat": 4,
 "nbformat_minor": 5
}
