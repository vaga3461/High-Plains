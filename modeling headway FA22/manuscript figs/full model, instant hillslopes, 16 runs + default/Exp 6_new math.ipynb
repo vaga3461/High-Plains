{
 "cells": [
  {
   "cell_type": "code",
   "execution_count": 1,
   "id": "8fc20d48",
   "metadata": {},
   "outputs": [],
   "source": [
    "# this model includes ql\n",
    "# it uses instantaneous bedrock erosion rate to calc ql\n",
    "# it uses gamma to represent fraction of plucked material that becomes coarse gravel\n",
    "# it uses theta to represent fraction of hillslope material that enters fluvial system as coarse \n",
    "## (maybe this should be same as gamma, \n",
    "## since the real fxn of this parameter is to tell us \n",
    "## how much coarse stuff is available for bedload transport/abrasion)\n",
    "\n",
    "# potential updates: see if adding weighted average back in to ql calculation still allows for stability\n",
    "## update on the update: this led to stability issues, and it's not worth the time now trying to debug, \n",
    "## so just stick with using instantaneous erosion rate. \n",
    "## Most interested in steady state profiles anyway, so this is fine."
   ]
  },
  {
   "cell_type": "code",
   "execution_count": 2,
   "id": "13f8fb7c",
   "metadata": {},
   "outputs": [],
   "source": [
    "import numpy as np\n",
    "import matplotlib.pyplot as plt"
   ]
  },
  {
   "cell_type": "code",
   "execution_count": 3,
   "id": "a6ba582e",
   "metadata": {},
   "outputs": [],
   "source": [
    "# create a profile\n",
    "dx = 500\n",
    "x = np.arange(0, 50000, dx)\n",
    "x_node = x + (dx/2)\n",
    "\n",
    "# add some elevation\n",
    "Hstar = 0.5 # depth decay\n",
    "etab = np.zeros(len(x)) # bedrock elevation\n",
    "etab[:] = np.linspace(1, 0.1, len(x)) # need to start with slight bedrock slope\n",
    "H = Hstar + np.zeros(len(x)) # alluvium thickness\n",
    "eta = etab + H # topography"
   ]
  },
  {
   "cell_type": "code",
   "execution_count": 4,
   "id": "09d177eb",
   "metadata": {},
   "outputs": [],
   "source": [
    "# define constants and other parameters\n",
    "K = 1e-6 # erodibility\n",
    "beta = 0.0005 # abradability\n",
    "r = 2.5 # runoff rate\n",
    "U = 0.0001 # uplift or baselevel fall rate\n",
    "I = 0.01 # intermittency\n",
    "phi = 0.1 # porosity\n",
    "D = 0.01 # grain size\n",
    "gamma = 0.5 # fraction plucked that becomes coarse\n",
    "\n",
    "kqs = 0.041 # sed transport coeff\n",
    "kxb = 25 # valley width coeff\n",
    "Pxb = 1./5. # valley width exp\n",
    "kb = 8.3e-8 # channel width coeff\n",
    "\n",
    "B_valley = kxb * (x_node**Pxb) # valley width\n",
    "# Q = (r * kxb * x_node**(1 + Pxb))/(1 + Pxb) # discharge\n",
    "A = (1./3.) * (x**2)\n",
    "Q = r * A"
   ]
  },
  {
   "cell_type": "code",
   "execution_count": 5,
   "id": "98308cda",
   "metadata": {},
   "outputs": [],
   "source": [
    "def model(x, dx, x_node,\n",
    "          K, beta, gamma,\n",
    "          D, phi, Hstar,\n",
    "          kb, kqs, I, r, U,\n",
    "          etab, H, eta,\n",
    "          B_valley, Q,\n",
    "          num_steps = 1):\n",
    "    \n",
    "    q = Q/B_valley\n",
    "    dt = 50\n",
    "    \n",
    "    run_duration = dt * num_steps\n",
    "    cum_time = 0.0\n",
    "    \n",
    "    Qs = np.zeros(len(x))\n",
    "    qs = np.zeros(len(x))\n",
    "    Eb_p = np.zeros(len(x))\n",
    "    Eb_a = np.zeros(len(x))\n",
    "    Eb = np.zeros(len(x))\n",
    "    Eh = np.zeros(len(x))\n",
    "    E = np.zeros(len(x))\n",
    "    ql = np.zeros(len(x)) # lateral sediment supply\n",
    "    \n",
    "    H[-1] = 0\n",
    "    E[-1] = U\n",
    "    q[0] = 0\n",
    "    Qs[0] = 0\n",
    "    \n",
    "    while cum_time < run_duration:\n",
    "        \n",
    "        # drop baselevel\n",
    "        eta[-1] -= U * dt\n",
    "        \n",
    "        # set boundary conditions\n",
    "        etab[-1] = eta[-1]\n",
    "        \n",
    "        # calc slope\n",
    "        S = -np.diff(eta)/dx\n",
    "        \n",
    "        # calc bed exposure\n",
    "        alpha = np.exp(-H/Hstar)\n",
    "        \n",
    "        # calc sed transport\n",
    "        Qs[1:] = kqs * I * Q[1:] * S**(7./6.) * (1 - alpha[:-1])\n",
    "        qs[1:] = Qs[1:] / B_valley[1:]\n",
    "        \n",
    "        # calc bedrock erosion\n",
    "        Eb_p[:-1] = K * Q[1:] * S**(7./6.) * alpha[:-1] * I\n",
    "        Eb_a[:-1] = beta * Qs[1:] * alpha[:-1]\n",
    "        Eb[:-1] = (Eb_p[:-1] + Eb_a[:-1]) / B_valley[:-1]\n",
    "        \n",
    "        # calc lateral flux\n",
    "        ql[:-1] = ((Eb[:-1] * gamma)/beta) * (1 - np.exp(-beta * x[1:]/3))\n",
    "        \n",
    "        # calc grain attrition\n",
    "        atr = Qs * beta\n",
    "        \n",
    "        # calc sediment erosion rate\n",
    "        Eh[:-1] = 1/((1 - phi) * B_valley[:-1]) * (np.diff(Qs)/dx + atr[1:] - (Eb_p[:-1]*gamma) - ql[:-1])\n",
    "        \n",
    "        # calc total erosion rate\n",
    "        E[:-1] = Eb[:-1] + Eh[:-1]\n",
    "        \n",
    "        # update topography\n",
    "        etab[:-1] -= Eb[:-1] * dt\n",
    "        H[:-1] -= Eh[:-1] * dt\n",
    "        H[H<0] = 0\n",
    "        eta[:-1] = etab[:-1] + H[:-1]\n",
    "        \n",
    "        # update elapsed time\n",
    "        cum_time += dt\n",
    "        \n",
    "    print(cum_time)\n",
    "        \n",
    "    return (dt, S, q, alpha, Qs, qs, Eb_p, Eb_a, Eb, ql, atr, Eh, E, etab, H, eta)"
   ]
  },
  {
   "cell_type": "code",
   "execution_count": 6,
   "id": "b9c1fdab",
   "metadata": {},
   "outputs": [
    {
     "name": "stdout",
     "output_type": "stream",
     "text": [
      "250000000.0\n"
     ]
    }
   ],
   "source": [
    "#now write a test\n",
    "num_steps = 5000000\n",
    "\n",
    "test_run = [x, dx, x_node, \n",
    "            K, beta, gamma,\n",
    "            D, phi, Hstar,\n",
    "            kb, kqs, I, r, U,\n",
    "            etab, H, eta,\n",
    "            B_valley, Q,\n",
    "            num_steps]\n",
    "\n",
    "# and run it\n",
    "(dt, S, q, alpha, Qs, qs, Eb_p, Eb_a, Eb, ql, atr, Eh, E, etab, H, eta) = model(*test_run)"
   ]
  },
  {
   "cell_type": "code",
   "execution_count": 7,
   "id": "f33db4cf",
   "metadata": {},
   "outputs": [
    {
     "data": {
      "text/plain": [
       "array([1.e-04, 1.e-04, 1.e-04, 1.e-04, 1.e-04, 1.e-04, 1.e-04, 1.e-04,\n",
       "       1.e-04, 1.e-04, 1.e-04, 1.e-04, 1.e-04, 1.e-04, 1.e-04, 1.e-04,\n",
       "       1.e-04, 1.e-04, 1.e-04, 1.e-04, 1.e-04, 1.e-04, 1.e-04, 1.e-04,\n",
       "       1.e-04, 1.e-04, 1.e-04, 1.e-04, 1.e-04, 1.e-04, 1.e-04, 1.e-04,\n",
       "       1.e-04, 1.e-04, 1.e-04, 1.e-04, 1.e-04, 1.e-04, 1.e-04, 1.e-04,\n",
       "       1.e-04, 1.e-04, 1.e-04, 1.e-04, 1.e-04, 1.e-04, 1.e-04, 1.e-04,\n",
       "       1.e-04, 1.e-04, 1.e-04, 1.e-04, 1.e-04, 1.e-04, 1.e-04, 1.e-04,\n",
       "       1.e-04, 1.e-04, 1.e-04, 1.e-04, 1.e-04, 1.e-04, 1.e-04, 1.e-04,\n",
       "       1.e-04, 1.e-04, 1.e-04, 1.e-04, 1.e-04, 1.e-04, 1.e-04, 1.e-04,\n",
       "       1.e-04, 1.e-04, 1.e-04, 1.e-04, 1.e-04, 1.e-04, 1.e-04, 1.e-04,\n",
       "       1.e-04, 1.e-04, 1.e-04, 1.e-04, 1.e-04, 1.e-04, 1.e-04, 1.e-04,\n",
       "       1.e-04, 1.e-04, 1.e-04, 1.e-04, 1.e-04, 1.e-04, 1.e-04, 1.e-04,\n",
       "       1.e-04, 1.e-04, 1.e-04, 0.e+00])"
      ]
     },
     "execution_count": 7,
     "metadata": {},
     "output_type": "execute_result"
    }
   ],
   "source": [
    "Eb"
   ]
  },
  {
   "cell_type": "code",
   "execution_count": 8,
   "id": "ad181e1d",
   "metadata": {},
   "outputs": [
    {
     "data": {
      "text/plain": [
       "[<matplotlib.lines.Line2D at 0x7f8ada70b810>]"
      ]
     },
     "execution_count": 8,
     "metadata": {},
     "output_type": "execute_result"
    },
    {
     "data": {
      "image/png": "[encoded data removed]",
      "text/plain": [
       "<Figure size 432x288 with 1 Axes>"
      ]
     },
     "metadata": {
      "needs_background": "light"
     },
     "output_type": "display_data"
    }
   ],
   "source": [
    "plt.plot(S)"
   ]
  },
  {
   "cell_type": "code",
   "execution_count": 9,
   "id": "5f032975",
   "metadata": {},
   "outputs": [
    {
     "data": {
      "text/plain": [
       "[<matplotlib.lines.Line2D at 0x7f8adaddfad0>]"
      ]
     },
     "execution_count": 9,
     "metadata": {},
     "output_type": "execute_result"
    },
    {
     "data": {
      "image/png": "[encoded data removed]",
      "text/plain": [
       "<Figure size 432x288 with 1 Axes>"
      ]
     },
     "metadata": {
      "needs_background": "light"
     },
     "output_type": "display_data"
    }
   ],
   "source": [
    "plt.plot(eta)"
   ]
  },
  {
   "cell_type": "code",
   "execution_count": 10,
   "id": "17318f12",
   "metadata": {},
   "outputs": [
    {
     "data": {
      "text/plain": [
       "0.0009602013872936368"
      ]
     },
     "execution_count": 10,
     "metadata": {},
     "output_type": "execute_result"
    }
   ],
   "source": [
    "S[-1]"
   ]
  },
  {
   "cell_type": "code",
   "execution_count": 11,
   "id": "b1005f1a",
   "metadata": {},
   "outputs": [
    {
     "data": {
      "text/plain": [
       "array([-23052.52694387, -24209.56701407, -24515.889868  , -24624.90961827,\n",
       "       -24675.99384651, -24708.1959103 , -24732.13228233, -24751.46730908,\n",
       "       -24767.82295588, -24782.05373632, -24794.66797992, -24805.99595932,\n",
       "       -24816.26695781, -24825.64847564, -24834.26786132, -24842.22505029,\n",
       "       -24849.60048122, -24856.46024305, -24862.85955359, -24868.84519048,\n",
       "       -24874.45724027, -24879.73038965, -24884.69490021, -24889.37735931,\n",
       "       -24893.80126859, -24897.98751248, -24901.95473648, -24905.71965621,\n",
       "       -24909.29731273, -24912.70128549, -24915.94387159, -24919.03623765,\n",
       "       -24921.98854954, -24924.81008385, -24927.5093241 , -24930.09404443,\n",
       "       -24932.57138243, -24934.94790311, -24937.22965502, -24939.42221986,\n",
       "       -24941.53075637, -24943.56003934, -24945.51449427, -24947.39822844,\n",
       "       -24949.21505863, -24950.96853598, -24952.66196844, -24954.29844087,\n",
       "       -24955.8808333 , -24957.41183733, -24958.89397108, -24960.3295927 ,\n",
       "       -24961.72091268, -24963.07000501, -24964.37881742, -24965.64918066,\n",
       "       -24966.882817  , -24968.08134806, -24969.24630189, -24970.37911954,\n",
       "       -24971.4811611 , -24972.55371116, -24973.59798395, -24974.61512801,\n",
       "       -24975.60623051, -24976.57232125, -24977.51437634, -24978.4333216 ,\n",
       "       -24979.33003574, -24980.20535329, -24981.06006729, -24981.89493184,\n",
       "       -24982.7106644 , -24983.50794801, -24984.2874333 , -24985.04974036,\n",
       "       -24985.79546051, -24986.52515796, -24987.23937129, -24987.93861493,\n",
       "       -24988.62338046, -24989.29413788, -24989.95133677, -24990.59540738,\n",
       "       -24991.22676165, -24991.84579421, -24992.45288323, -24993.04839128,\n",
       "       -24993.63266618, -24994.20604165, -24994.76883811, -24995.32136326,\n",
       "       -24995.86391277, -24996.39677083, -24996.9202107 , -24997.43449526,\n",
       "       -24997.93987746, -24998.43660084, -24998.92489991, -24999.4000006 ])"
      ]
     },
     "execution_count": 11,
     "metadata": {},
     "output_type": "execute_result"
    }
   ],
   "source": [
    "eta"
   ]
  },
  {
   "cell_type": "code",
   "execution_count": 12,
   "id": "b881373c",
   "metadata": {},
   "outputs": [],
   "source": [
    "eta_adj = eta - eta[-1]"
   ]
  },
  {
   "cell_type": "code",
   "execution_count": 13,
   "id": "96a0b74e",
   "metadata": {},
   "outputs": [
    {
     "data": {
      "text/plain": [
       "array([1.94687306e+03, 7.89832987e+02, 4.83510133e+02, 3.74490382e+02,\n",
       "       3.23406154e+02, 2.91204090e+02, 2.67267718e+02, 2.47932692e+02,\n",
       "       2.31577045e+02, 2.17346264e+02, 2.04732021e+02, 1.93404041e+02,\n",
       "       1.83133043e+02, 1.73751525e+02, 1.65132139e+02, 1.57174950e+02,\n",
       "       1.49799519e+02, 1.42939758e+02, 1.36540447e+02, 1.30554810e+02,\n",
       "       1.24942760e+02, 1.19669611e+02, 1.14705100e+02, 1.10022641e+02,\n",
       "       1.05598732e+02, 1.01412488e+02, 9.74452641e+01, 9.36803444e+01,\n",
       "       9.01026879e+01, 8.66987151e+01, 8.34561290e+01, 8.03637629e+01,\n",
       "       7.74114511e+01, 7.45899168e+01, 7.18906765e+01, 6.93059562e+01,\n",
       "       6.68286182e+01, 6.44520975e+01, 6.21703456e+01, 5.99777807e+01,\n",
       "       5.78692442e+01, 5.58399613e+01, 5.38855063e+01, 5.20017722e+01,\n",
       "       5.01849420e+01, 4.84314646e+01, 4.67380322e+01, 4.51015597e+01,\n",
       "       4.35191673e+01, 4.19881633e+01, 4.05060295e+01, 3.90704079e+01,\n",
       "       3.76790879e+01, 3.63299956e+01, 3.50211832e+01, 3.37508199e+01,\n",
       "       3.25171836e+01, 3.13186525e+01, 3.01536987e+01, 2.90208811e+01,\n",
       "       2.79188395e+01, 2.68462894e+01, 2.58020167e+01, 2.47848726e+01,\n",
       "       2.37937701e+01, 2.28276793e+01, 2.18856243e+01, 2.09666790e+01,\n",
       "       2.00699649e+01, 1.91946473e+01, 1.83399333e+01, 1.75050688e+01,\n",
       "       1.66893362e+01, 1.58920526e+01, 1.51125673e+01, 1.43502602e+01,\n",
       "       1.36045401e+01, 1.28748426e+01, 1.21606293e+01, 1.14613857e+01,\n",
       "       1.07766201e+01, 1.01058627e+01, 9.44866383e+00, 8.80459322e+00,\n",
       "       8.17323895e+00, 7.55420639e+00, 6.94711737e+00, 6.35160931e+00,\n",
       "       5.76733442e+00, 5.19395895e+00, 4.63116249e+00, 4.07863734e+00,\n",
       "       3.53608783e+00, 3.00322977e+00, 2.47978990e+00, 1.96550534e+00,\n",
       "       1.46012314e+00, 9.63399762e-01, 4.75100694e-01, 0.00000000e+00])"
      ]
     },
     "execution_count": 13,
     "metadata": {},
     "output_type": "execute_result"
    }
   ],
   "source": [
    "eta_adj"
   ]
  },
  {
   "cell_type": "code",
   "execution_count": 15,
   "id": "f04b7bea",
   "metadata": {},
   "outputs": [],
   "source": [
    "# save csv files\n",
    "\n",
    "np.savetxt('elevation csv files/eta_exp_6.csv', eta_adj, delimiter = ',')\n",
    "np.savetxt('alpha csv files/alpha_exp_6.csv', alpha, delimiter = ',')"
   ]
  },
  {
   "cell_type": "code",
   "execution_count": null,
   "id": "0285e48b",
   "metadata": {},
   "outputs": [],
   "source": []
  }
 ],
 "metadata": {
  "kernelspec": {
   "display_name": "Python 3",
   "language": "python",
   "name": "python3"
  },
  "language_info": {
   "codemirror_mode": {
    "name": "ipython",
    "version": 3
   },
   "file_extension": ".py",
   "mimetype": "text/x-python",
   "name": "python",
   "nbconvert_exporter": "python",
   "pygments_lexer": "ipython3",
   "version": "3.7.6"
  }
 },
 "nbformat": 4,
 "nbformat_minor": 5
}
