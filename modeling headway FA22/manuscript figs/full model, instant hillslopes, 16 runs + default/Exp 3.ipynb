{
 "cells": [
  {
   "cell_type": "code",
   "execution_count": 14,
   "id": "8fc20d48",
   "metadata": {},
   "outputs": [],
   "source": [
    "# this model includes ql\n",
    "# it uses instantaneous bedrock erosion rate to calc ql\n",
    "# it uses gamma to represent fraction of plucked material that becomes coarse gravel\n",
    "# it uses theta to represent fraction of hillslope material that enters fluvial system as coarse \n",
    "## (maybe this should be same as gamma, \n",
    "## since the real fxn of this parameter is to tell us \n",
    "## how much coarse stuff is available for bedload transport/abrasion)\n",
    "\n",
    "# potential updates: see if adding weighted average back in to ql calculation still allows for stability\n",
    "## update on the update: this led to stability issues, and it's not worth the time now trying to debug, \n",
    "## so just stick with using instantaneous erosion rate. \n",
    "## Most interested in steady state profiles anyway, so this is fine."
   ]
  },
  {
   "cell_type": "code",
   "execution_count": 15,
   "id": "13f8fb7c",
   "metadata": {},
   "outputs": [],
   "source": [
    "import numpy as np\n",
    "import matplotlib.pyplot as plt"
   ]
  },
  {
   "cell_type": "code",
   "execution_count": 16,
   "id": "a6ba582e",
   "metadata": {},
   "outputs": [],
   "source": [
    "# create a profile\n",
    "dx = 500\n",
    "x = np.arange(0, 50000, dx)\n",
    "x_node = x + (dx/2)\n",
    "\n",
    "# add some elevation\n",
    "Hstar = 0.5 # depth decay\n",
    "etab = np.zeros(len(x)) # bedrock elevation\n",
    "etab[:] = np.linspace(1, 0.1, len(x)) # need to start with slight bedrock slope\n",
    "H = Hstar + np.zeros(len(x)) # alluvium thickness\n",
    "eta = etab + H # topography"
   ]
  },
  {
   "cell_type": "code",
   "execution_count": 17,
   "id": "09d177eb",
   "metadata": {},
   "outputs": [],
   "source": [
    "# define constants and other parameters\n",
    "K = 2.5e-7 # erodibility\n",
    "beta = 0.0005 # abradability\n",
    "r = 5. # runoff rate\n",
    "U = 0.0001 # uplift or baselevel fall rate\n",
    "I = 0.01 # intermittency\n",
    "phi = 0.1 # porosity\n",
    "D = 0.01 # grain size\n",
    "gamma = 0.5 # fraction plucked that becomes coarse\n",
    "theta = 0.5 # fraction hillslope that enters as coarse\n",
    "# treat as same!!! Point is what fraction becomes coarse\n",
    "# so just be sure to change these together\n",
    "\n",
    "kqs = 0.041 # sed transport coeff\n",
    "kxb = 25 # valley width coeff\n",
    "Pxb = 1./5. # valley width exp\n",
    "kb = 8.3e-8 # channel width coeff\n",
    "\n",
    "B_valley = kxb * (x_node**Pxb) # valley width\n",
    "# Q = (r * kxb * x_node**(1 + Pxb))/(1 + Pxb) # discharge\n",
    "A = (1./3.) * (x**2)\n",
    "Q = r * A"
   ]
  },
  {
   "cell_type": "code",
   "execution_count": 18,
   "id": "98308cda",
   "metadata": {},
   "outputs": [],
   "source": [
    "def model(x, dx, x_node,\n",
    "          K, beta, gamma, theta,\n",
    "          D, phi, Hstar,\n",
    "          kb, kqs, I, r, U,\n",
    "          etab, H, eta,\n",
    "          B_valley, Q,\n",
    "          num_steps = 1):\n",
    "    \n",
    "    q = Q/B_valley\n",
    "    dt = 50\n",
    "    \n",
    "    run_duration = dt * num_steps\n",
    "    cum_time = 0.0\n",
    "    \n",
    "    Qs = np.zeros(len(x))\n",
    "    qs = np.zeros(len(x))\n",
    "    Eb_p = np.zeros(len(x))\n",
    "    Eb_a = np.zeros(len(x))\n",
    "    Eb = np.zeros(len(x))\n",
    "    Eh = np.zeros(len(x))\n",
    "    E = np.zeros(len(x))\n",
    "    ql = np.zeros(len(x)) # lateral sediment supply\n",
    "    \n",
    "    H[-1] = 0\n",
    "    E[-1] = U\n",
    "    q[0] = 0\n",
    "    Qs[0] = 0\n",
    "    \n",
    "    while cum_time < run_duration:\n",
    "        \n",
    "        # drop baselevel\n",
    "        eta[-1] -= U * dt\n",
    "        \n",
    "        # set boundary conditions\n",
    "        etab[-1] = eta[-1]\n",
    "        \n",
    "        # calc slope\n",
    "        S = -np.diff(eta)/dx\n",
    "        \n",
    "        # calc bed exposure\n",
    "        alpha = np.exp(-H/Hstar)\n",
    "        \n",
    "        # calc sed transport\n",
    "        Qs[1:] = kqs * I * Q[1:] * S**(7./6.) * (1 - alpha[:-1])\n",
    "        qs[1:] = Qs[1:] / B_valley[1:]\n",
    "        \n",
    "        # calc bedrock erosion\n",
    "        Eb_p[:-1] = K * Q[1:] * S**(7./6.) * alpha[:-1] * gamma\n",
    "        Eb_a[:-1] = beta * Qs[1:] * alpha[:-1]\n",
    "        Eb[:-1] = (Eb_p[:-1] + Eb_a[:-1]) / B_valley[:-1]\n",
    "        \n",
    "        # calc lateral flux\n",
    "        ql[:-1] = ((Eb[:-1] * theta)/beta) * (1 - np.exp(-beta * x[1:]/3))\n",
    "        \n",
    "        # calc grain attrition\n",
    "        atr = Qs * beta\n",
    "        \n",
    "        # calc sediment erosion rate\n",
    "        Eh[:-1] = 1/((1 - phi) * B_valley[:-1]) * (np.diff(Qs)/dx + atr[1:] - Eb_p[:-1] - ql[:-1])\n",
    "        \n",
    "        # calc total erosion rate\n",
    "        E[:-1] = Eb[:-1] + Eh[:-1]\n",
    "        \n",
    "        # update topography\n",
    "        etab[:-1] -= Eb[:-1] * dt\n",
    "        H[:-1] -= Eh[:-1] * dt\n",
    "        H[H<0] = 0\n",
    "        eta[:-1] = etab[:-1] + H[:-1]\n",
    "        \n",
    "        # update elapsed time\n",
    "        cum_time += dt\n",
    "        \n",
    "    print(cum_time)\n",
    "        \n",
    "    return (dt, S, q, alpha, Qs, qs, Eb_p, Eb_a, Eb, ql, atr, Eh, E, etab, H, eta)"
   ]
  },
  {
   "cell_type": "code",
   "execution_count": 19,
   "id": "b9c1fdab",
   "metadata": {},
   "outputs": [
    {
     "name": "stdout",
     "output_type": "stream",
     "text": [
      "35000000.0\n"
     ]
    }
   ],
   "source": [
    "#now write a test\n",
    "num_steps = 700000\n",
    "\n",
    "test_run = [x, dx, x_node, \n",
    "            K, beta, gamma, theta,\n",
    "            D, phi, Hstar,\n",
    "            kb, kqs, I, r, U,\n",
    "            etab, H, eta,\n",
    "            B_valley, Q,\n",
    "            num_steps]\n",
    "\n",
    "# and run it\n",
    "(dt, S, q, alpha, Qs, qs, Eb_p, Eb_a, Eb, ql, atr, Eh, E, etab, H, eta) = model(*test_run)"
   ]
  },
  {
   "cell_type": "code",
   "execution_count": 20,
   "id": "f33db4cf",
   "metadata": {},
   "outputs": [
    {
     "data": {
      "text/plain": [
       "array([1.e-04, 1.e-04, 1.e-04, 1.e-04, 1.e-04, 1.e-04, 1.e-04, 1.e-04,\n",
       "       1.e-04, 1.e-04, 1.e-04, 1.e-04, 1.e-04, 1.e-04, 1.e-04, 1.e-04,\n",
       "       1.e-04, 1.e-04, 1.e-04, 1.e-04, 1.e-04, 1.e-04, 1.e-04, 1.e-04,\n",
       "       1.e-04, 1.e-04, 1.e-04, 1.e-04, 1.e-04, 1.e-04, 1.e-04, 1.e-04,\n",
       "       1.e-04, 1.e-04, 1.e-04, 1.e-04, 1.e-04, 1.e-04, 1.e-04, 1.e-04,\n",
       "       1.e-04, 1.e-04, 1.e-04, 1.e-04, 1.e-04, 1.e-04, 1.e-04, 1.e-04,\n",
       "       1.e-04, 1.e-04, 1.e-04, 1.e-04, 1.e-04, 1.e-04, 1.e-04, 1.e-04,\n",
       "       1.e-04, 1.e-04, 1.e-04, 1.e-04, 1.e-04, 1.e-04, 1.e-04, 1.e-04,\n",
       "       1.e-04, 1.e-04, 1.e-04, 1.e-04, 1.e-04, 1.e-04, 1.e-04, 1.e-04,\n",
       "       1.e-04, 1.e-04, 1.e-04, 1.e-04, 1.e-04, 1.e-04, 1.e-04, 1.e-04,\n",
       "       1.e-04, 1.e-04, 1.e-04, 1.e-04, 1.e-04, 1.e-04, 1.e-04, 1.e-04,\n",
       "       1.e-04, 1.e-04, 1.e-04, 1.e-04, 1.e-04, 1.e-04, 1.e-04, 1.e-04,\n",
       "       1.e-04, 1.e-04, 1.e-04, 0.e+00])"
      ]
     },
     "execution_count": 20,
     "metadata": {},
     "output_type": "execute_result"
    }
   ],
   "source": [
    "Eb"
   ]
  },
  {
   "cell_type": "code",
   "execution_count": 21,
   "id": "ad181e1d",
   "metadata": {},
   "outputs": [
    {
     "data": {
      "text/plain": [
       "[<matplotlib.lines.Line2D at 0x7fedc0ee3d50>]"
      ]
     },
     "execution_count": 21,
     "metadata": {},
     "output_type": "execute_result"
    },
    {
     "data": {
      "image/png": "[encoded data removed]",
      "text/plain": [
       "<Figure size 432x288 with 1 Axes>"
      ]
     },
     "metadata": {
      "needs_background": "light"
     },
     "output_type": "display_data"
    }
   ],
   "source": [
    "plt.plot(S)"
   ]
  },
  {
   "cell_type": "code",
   "execution_count": 22,
   "id": "5f032975",
   "metadata": {},
   "outputs": [
    {
     "data": {
      "text/plain": [
       "[<matplotlib.lines.Line2D at 0x7fedc1138190>]"
      ]
     },
     "execution_count": 22,
     "metadata": {},
     "output_type": "execute_result"
    },
    {
     "data": {
      "image/png": "[encoded data removed]",
      "text/plain": [
       "<Figure size 432x288 with 1 Axes>"
      ]
     },
     "metadata": {
      "needs_background": "light"
     },
     "output_type": "display_data"
    }
   ],
   "source": [
    "plt.plot(eta)"
   ]
  },
  {
   "cell_type": "code",
   "execution_count": 23,
   "id": "17318f12",
   "metadata": {},
   "outputs": [
    {
     "data": {
      "text/plain": [
       "0.0005194448017227842"
      ]
     },
     "execution_count": 23,
     "metadata": {},
     "output_type": "execute_result"
    }
   ],
   "source": [
    "S[-1]"
   ]
  },
  {
   "cell_type": "code",
   "execution_count": 24,
   "id": "b1005f1a",
   "metadata": {},
   "outputs": [
    {
     "data": {
      "text/plain": [
       "array([-3171.70937098, -3262.46415248, -3297.92293745, -3319.51602526,\n",
       "       -3335.28997114, -3347.88138859, -3358.43786405, -3367.55724359,\n",
       "       -3375.59200145, -3382.76947207, -3389.24651438, -3395.13712518,\n",
       "       -3400.52758193, -3405.48531445, -3410.06439435, -3414.30909149,\n",
       "       -3418.25627037, -3421.93706061, -3425.3780564 , -3428.6022002 ,\n",
       "       -3431.62944889, -3434.47728594, -3437.16112237, -3439.69461545,\n",
       "       -3442.08992555, -3444.35792575, -3446.50837473, -3448.55006068,\n",
       "       -3450.49092231, -3452.33815112, -3454.09827867, -3455.77725137,\n",
       "       -3457.38049501, -3458.91297064, -3460.37922326, -3461.78342439,\n",
       "       -3463.12940939, -3464.42071042, -3465.66058548, -3466.85204417,\n",
       "       -3467.99787065, -3469.10064399, -3470.16275648, -3471.18642991,\n",
       "       -3472.17373022, -3473.12658074, -3474.046774  , -3474.93598249,\n",
       "       -3475.79576832, -3476.62759205, -3477.43282057, -3478.21273444,\n",
       "       -3478.96853438, -3479.70134735, -3480.41223195, -3481.10218347,\n",
       "       -3481.77213848, -3482.42297896, -3483.0555362 , -3483.6705943 ,\n",
       "       -3484.26889341, -3484.85113276, -3485.41797332, -3485.97004043,\n",
       "       -3486.50792606, -3487.03219103, -3487.54336694, -3488.04195809,\n",
       "       -3488.52844316, -3489.00327676, -3489.46689097, -3489.91969665,\n",
       "       -3490.36208475, -3490.79442746, -3491.21707934, -3491.63037831,\n",
       "       -3492.03464665, -3492.43019183, -3492.8173074 , -3493.19627374,\n",
       "       -3493.56735878, -3493.93081869, -3494.28689851, -3494.63583277,\n",
       "       -3494.97784599, -3495.31315327, -3495.64196074, -3495.96446603,\n",
       "       -3496.2808587 , -3496.59132067, -3496.89602656, -3497.19514411,\n",
       "       -3497.48883445, -3497.77725247, -3498.06054711, -3498.33886164,\n",
       "       -3498.61233391, -3498.88109665, -3499.14527765, -3499.40000005])"
      ]
     },
     "execution_count": 24,
     "metadata": {},
     "output_type": "execute_result"
    }
   ],
   "source": [
    "eta"
   ]
  },
  {
   "cell_type": "code",
   "execution_count": 25,
   "id": "b881373c",
   "metadata": {},
   "outputs": [],
   "source": [
    "eta_adj = eta - eta[-1]"
   ]
  },
  {
   "cell_type": "code",
   "execution_count": 26,
   "id": "96a0b74e",
   "metadata": {},
   "outputs": [
    {
     "data": {
      "text/plain": [
       "array([3.27690629e+02, 2.36935848e+02, 2.01477063e+02, 1.79883975e+02,\n",
       "       1.64110029e+02, 1.51518611e+02, 1.40962136e+02, 1.31842756e+02,\n",
       "       1.23807999e+02, 1.16630528e+02, 1.10153486e+02, 1.04262875e+02,\n",
       "       9.88724181e+01, 9.39146856e+01, 8.93356057e+01, 8.50909086e+01,\n",
       "       8.11437297e+01, 7.74629394e+01, 7.40219437e+01, 7.07977998e+01,\n",
       "       6.77705512e+01, 6.49227141e+01, 6.22388777e+01, 5.97053846e+01,\n",
       "       5.73100745e+01, 5.50420743e+01, 5.28916253e+01, 5.08499394e+01,\n",
       "       4.89090777e+01, 4.70618489e+01, 4.53017214e+01, 4.36227487e+01,\n",
       "       4.20195050e+01, 4.04870294e+01, 3.90207768e+01, 3.76165757e+01,\n",
       "       3.62705907e+01, 3.49792896e+01, 3.37394146e+01, 3.25479559e+01,\n",
       "       3.14021294e+01, 3.02993561e+01, 2.92372436e+01, 2.82135701e+01,\n",
       "       2.72262698e+01, 2.62734193e+01, 2.53532261e+01, 2.44640176e+01,\n",
       "       2.36042317e+01, 2.27724080e+01, 2.19671795e+01, 2.11872656e+01,\n",
       "       2.04314657e+01, 1.96986527e+01, 1.89877681e+01, 1.82978166e+01,\n",
       "       1.76278616e+01, 1.69770211e+01, 1.63444639e+01, 1.57294058e+01,\n",
       "       1.51311066e+01, 1.45488673e+01, 1.39820267e+01, 1.34299596e+01,\n",
       "       1.28920740e+01, 1.23678090e+01, 1.18566331e+01, 1.13580420e+01,\n",
       "       1.08715569e+01, 1.03967233e+01, 9.93310909e+00, 9.48030341e+00,\n",
       "       9.03791531e+00, 8.60557259e+00, 8.18292072e+00, 7.76962174e+00,\n",
       "       7.36535341e+00, 6.96980823e+00, 6.58269265e+00, 6.20372631e+00,\n",
       "       5.83264128e+00, 5.46918136e+00, 5.11310154e+00, 4.76416728e+00,\n",
       "       4.42215406e+00, 4.08684678e+00, 3.75803931e+00, 3.43553403e+00,\n",
       "       3.11914135e+00, 2.80867939e+00, 2.50397349e+00, 2.20485594e+00,\n",
       "       1.91116561e+00, 1.62274758e+00, 1.33945294e+00, 1.06113842e+00,\n",
       "       7.87666145e-01, 5.18903408e-01, 2.54722401e-01, 0.00000000e+00])"
      ]
     },
     "execution_count": 26,
     "metadata": {},
     "output_type": "execute_result"
    }
   ],
   "source": [
    "eta_adj"
   ]
  },
  {
   "cell_type": "code",
   "execution_count": null,
   "id": "f04b7bea",
   "metadata": {},
   "outputs": [],
   "source": []
  }
 ],
 "metadata": {
  "kernelspec": {
   "display_name": "Python 3",
   "language": "python",
   "name": "python3"
  },
  "language_info": {
   "codemirror_mode": {
    "name": "ipython",
    "version": 3
   },
   "file_extension": ".py",
   "mimetype": "text/x-python",
   "name": "python",
   "nbconvert_exporter": "python",
   "pygments_lexer": "ipython3",
   "version": "3.7.6"
  }
 },
 "nbformat": 4,
 "nbformat_minor": 5
}
