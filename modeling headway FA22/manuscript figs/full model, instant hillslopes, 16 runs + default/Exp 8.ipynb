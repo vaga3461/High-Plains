{
 "cells": [
  {
   "cell_type": "code",
   "execution_count": 1,
   "id": "8fc20d48",
   "metadata": {},
   "outputs": [],
   "source": [
    "# this model includes ql\n",
    "# it uses instantaneous bedrock erosion rate to calc ql\n",
    "# it uses gamma to represent fraction of plucked material that becomes coarse gravel\n",
    "# it uses theta to represent fraction of hillslope material that enters fluvial system as coarse \n",
    "## (maybe this should be same as gamma, \n",
    "## since the real fxn of this parameter is to tell us \n",
    "## how much coarse stuff is available for bedload transport/abrasion)\n",
    "\n",
    "# potential updates: see if adding weighted average back in to ql calculation still allows for stability\n",
    "## update on the update: this led to stability issues, and it's not worth the time now trying to debug, \n",
    "## so just stick with using instantaneous erosion rate. \n",
    "## Most interested in steady state profiles anyway, so this is fine."
   ]
  },
  {
   "cell_type": "code",
   "execution_count": 2,
   "id": "13f8fb7c",
   "metadata": {},
   "outputs": [],
   "source": [
    "import numpy as np\n",
    "import matplotlib.pyplot as plt"
   ]
  },
  {
   "cell_type": "code",
   "execution_count": 3,
   "id": "a6ba582e",
   "metadata": {},
   "outputs": [],
   "source": [
    "# create a profile\n",
    "dx = 500\n",
    "x = np.arange(0, 50000, dx)\n",
    "x_node = x + (dx/2)\n",
    "\n",
    "# add some elevation\n",
    "Hstar = 0.5 # depth decay\n",
    "etab = np.zeros(len(x)) # bedrock elevation\n",
    "etab[:] = np.linspace(1, 0.1, len(x)) # need to start with slight bedrock slope\n",
    "H = Hstar + np.zeros(len(x)) # alluvium thickness\n",
    "eta = etab + H # topography"
   ]
  },
  {
   "cell_type": "code",
   "execution_count": 4,
   "id": "09d177eb",
   "metadata": {},
   "outputs": [],
   "source": [
    "# define constants and other parameters\n",
    "K = 1e-7 # erodibility\n",
    "beta = 0.0005 # abradability\n",
    "r = 10. # runoff rate\n",
    "U = 0.0001 # uplift or baselevel fall rate\n",
    "I = 0.01 # intermittency\n",
    "phi = 0.1 # porosity\n",
    "D = 0.01 # grain size\n",
    "gamma = 0.5 # fraction plucked that becomes coarse\n",
    "theta = 0.5 # fraction hillslope that enters as coarse\n",
    "# treat as same!!! Point is what fraction becomes coarse\n",
    "# so just be sure to change these together\n",
    "\n",
    "kqs = 0.041 # sed transport coeff\n",
    "kxb = 25 # valley width coeff\n",
    "Pxb = 1./5. # valley width exp\n",
    "kb = 8.3e-8 # channel width coeff\n",
    "\n",
    "B_valley = kxb * (x_node**Pxb) # valley width\n",
    "# Q = (r * kxb * x_node**(1 + Pxb))/(1 + Pxb) # discharge\n",
    "A = (1./3.) * (x**2)\n",
    "Q = r * A"
   ]
  },
  {
   "cell_type": "code",
   "execution_count": 5,
   "id": "98308cda",
   "metadata": {},
   "outputs": [],
   "source": [
    "def model(x, dx, x_node,\n",
    "          K, beta, gamma, theta,\n",
    "          D, phi, Hstar,\n",
    "          kb, kqs, I, r, U,\n",
    "          etab, H, eta,\n",
    "          B_valley, Q,\n",
    "          num_steps = 1):\n",
    "    \n",
    "    q = Q/B_valley\n",
    "    dt = 30\n",
    "    \n",
    "    run_duration = dt * num_steps\n",
    "    cum_time = 0.0\n",
    "    \n",
    "    Qs = np.zeros(len(x))\n",
    "    qs = np.zeros(len(x))\n",
    "    Eb_p = np.zeros(len(x))\n",
    "    Eb_a = np.zeros(len(x))\n",
    "    Eb = np.zeros(len(x))\n",
    "    Eh = np.zeros(len(x))\n",
    "    E = np.zeros(len(x))\n",
    "    ql = np.zeros(len(x)) # lateral sediment supply\n",
    "    \n",
    "    H[-1] = 0\n",
    "    E[-1] = U\n",
    "    q[0] = 0\n",
    "    Qs[0] = 0\n",
    "    \n",
    "    while cum_time < run_duration:\n",
    "        \n",
    "        # drop baselevel\n",
    "        eta[-1] -= U * dt\n",
    "        \n",
    "        # set boundary conditions\n",
    "        etab[-1] = eta[-1]\n",
    "        \n",
    "        # calc slope\n",
    "        S = -np.diff(eta)/dx\n",
    "        \n",
    "        # calc bed exposure\n",
    "        alpha = np.exp(-H/Hstar)\n",
    "        \n",
    "        # calc sed transport\n",
    "        Qs[1:] = kqs * I * Q[1:] * S**(7./6.) * (1 - alpha[:-1])\n",
    "        qs[1:] = Qs[1:] / B_valley[1:]\n",
    "        \n",
    "        # calc bedrock erosion\n",
    "        Eb_p[:-1] = K * Q[1:] * S**(7./6.) * alpha[:-1] * gamma\n",
    "        Eb_a[:-1] = beta * Qs[1:] * alpha[:-1]\n",
    "        Eb[:-1] = (Eb_p[:-1] + Eb_a[:-1]) / B_valley[:-1]\n",
    "        \n",
    "        # calc lateral flux\n",
    "        ql[:-1] = ((Eb[:-1] * theta)/beta) * (1 - np.exp(-beta * x[1:]/3))\n",
    "        \n",
    "        # calc grain attrition\n",
    "        atr = Qs * beta\n",
    "        \n",
    "        # calc sediment erosion rate\n",
    "        Eh[:-1] = 1/((1 - phi) * B_valley[:-1]) * (np.diff(Qs)/dx + atr[1:] - Eb_p[:-1] - ql[:-1])\n",
    "        \n",
    "        # calc total erosion rate\n",
    "        E[:-1] = Eb[:-1] + Eh[:-1]\n",
    "        \n",
    "        # update topography\n",
    "        etab[:-1] -= Eb[:-1] * dt\n",
    "        H[:-1] -= Eh[:-1] * dt\n",
    "        H[H<0] = 0\n",
    "        eta[:-1] = etab[:-1] + H[:-1]\n",
    "        \n",
    "        # update elapsed time\n",
    "        cum_time += dt\n",
    "        \n",
    "    print(cum_time)\n",
    "        \n",
    "    return (dt, S, q, alpha, Qs, qs, Eb_p, Eb_a, Eb, ql, atr, Eh, E, etab, H, eta)"
   ]
  },
  {
   "cell_type": "code",
   "execution_count": 6,
   "id": "b9c1fdab",
   "metadata": {},
   "outputs": [
    {
     "name": "stdout",
     "output_type": "stream",
     "text": [
      "60000000.0\n"
     ]
    }
   ],
   "source": [
    "#now write a test\n",
    "num_steps = 2000000\n",
    "\n",
    "test_run = [x, dx, x_node, \n",
    "            K, beta, gamma, theta,\n",
    "            D, phi, Hstar,\n",
    "            kb, kqs, I, r, U,\n",
    "            etab, H, eta,\n",
    "            B_valley, Q,\n",
    "            num_steps]\n",
    "\n",
    "# and run it\n",
    "(dt, S, q, alpha, Qs, qs, Eb_p, Eb_a, Eb, ql, atr, Eh, E, etab, H, eta) = model(*test_run)"
   ]
  },
  {
   "cell_type": "code",
   "execution_count": 7,
   "id": "f33db4cf",
   "metadata": {},
   "outputs": [
    {
     "data": {
      "text/plain": [
       "array([1.00000000e-04, 1.00000000e-04, 1.00000000e-04, 1.00000000e-04,\n",
       "       1.00000000e-04, 1.00000000e-04, 1.00000000e-04, 1.00000000e-04,\n",
       "       1.00000000e-04, 1.00000000e-04, 1.00000000e-04, 1.00000000e-04,\n",
       "       1.00000000e-04, 1.00000000e-04, 1.00000000e-04, 1.00000000e-04,\n",
       "       1.00000000e-04, 1.00000000e-04, 1.00000000e-04, 1.00000000e-04,\n",
       "       1.00000000e-04, 1.00000000e-04, 1.00000000e-04, 1.00000000e-04,\n",
       "       1.00000000e-04, 1.00000000e-04, 1.00000000e-04, 1.00000000e-04,\n",
       "       1.00000000e-04, 1.00000000e-04, 1.00000000e-04, 1.00000000e-04,\n",
       "       1.00000000e-04, 1.00000000e-04, 1.00000000e-04, 1.00000000e-04,\n",
       "       1.00000000e-04, 1.00000000e-04, 1.00000000e-04, 1.00000000e-04,\n",
       "       1.00000000e-04, 1.00000000e-04, 1.00000000e-04, 1.00000000e-04,\n",
       "       1.00000000e-04, 1.00000000e-04, 1.00000000e-04, 1.00000000e-04,\n",
       "       1.00000000e-04, 1.00000000e-04, 1.00000000e-04, 1.00000000e-04,\n",
       "       1.00000000e-04, 1.00000000e-04, 1.00000000e-04, 1.00000000e-04,\n",
       "       1.00000000e-04, 1.00000000e-04, 1.00000000e-04, 1.00000000e-04,\n",
       "       1.00000000e-04, 1.00000000e-04, 1.00000000e-04, 1.00000000e-04,\n",
       "       1.00000000e-04, 1.00000000e-04, 1.00000000e-04, 1.00000000e-04,\n",
       "       1.00000000e-04, 1.00000000e-04, 9.99999999e-05, 1.00000000e-04,\n",
       "       9.99999982e-05, 1.00000006e-04, 9.99999798e-05, 1.00000064e-04,\n",
       "       9.99998034e-05, 1.00000578e-04, 9.99983638e-05, 1.00004448e-04,\n",
       "       9.99883876e-05, 1.00029080e-04, 9.99302112e-05, 1.00160302e-04,\n",
       "       9.96480804e-05, 1.00737165e-04, 9.85295834e-05, 1.02786430e-04,\n",
       "       9.49974363e-05, 1.08482315e-04, 8.64623178e-05, 1.20266346e-04,\n",
       "       7.16455158e-05, 1.36896118e-04, 5.57455461e-05, 1.47972350e-04,\n",
       "       5.50748490e-05, 1.32459269e-04, 8.89582072e-05, 0.00000000e+00])"
      ]
     },
     "execution_count": 7,
     "metadata": {},
     "output_type": "execute_result"
    }
   ],
   "source": [
    "Eb"
   ]
  },
  {
   "cell_type": "code",
   "execution_count": 8,
   "id": "ad181e1d",
   "metadata": {},
   "outputs": [
    {
     "data": {
      "text/plain": [
       "[<matplotlib.lines.Line2D at 0x7f8be7371c50>]"
      ]
     },
     "execution_count": 8,
     "metadata": {},
     "output_type": "execute_result"
    },
    {
     "data": {
      "image/png": "[encoded data removed]",
      "text/plain": [
       "<Figure size 432x288 with 1 Axes>"
      ]
     },
     "metadata": {
      "needs_background": "light"
     },
     "output_type": "display_data"
    }
   ],
   "source": [
    "plt.plot(S)"
   ]
  },
  {
   "cell_type": "code",
   "execution_count": 9,
   "id": "5f032975",
   "metadata": {},
   "outputs": [
    {
     "data": {
      "text/plain": [
       "[<matplotlib.lines.Line2D at 0x7f8be76a9a50>]"
      ]
     },
     "execution_count": 9,
     "metadata": {},
     "output_type": "execute_result"
    },
    {
     "data": {
      "image/png": "[encoded data removed]",
      "text/plain": [
       "<Figure size 432x288 with 1 Axes>"
      ]
     },
     "metadata": {
      "needs_background": "light"
     },
     "output_type": "display_data"
    }
   ],
   "source": [
    "plt.plot(eta)"
   ]
  },
  {
   "cell_type": "code",
   "execution_count": 10,
   "id": "17318f12",
   "metadata": {},
   "outputs": [
    {
     "data": {
      "text/plain": [
       "0.0002548966003014357"
      ]
     },
     "execution_count": 10,
     "metadata": {},
     "output_type": "execute_result"
    }
   ],
   "source": [
    "S[-1]"
   ]
  },
  {
   "cell_type": "code",
   "execution_count": 11,
   "id": "b1005f1a",
   "metadata": {},
   "outputs": [
    {
     "data": {
      "text/plain": [
       "array([-5757.07219891, -5849.84591126, -5879.74495265, -5895.33925712,\n",
       "       -5905.71039501, -5913.5486676 , -5919.90567123, -5925.28188975,\n",
       "       -5929.95172067, -5934.0820966 , -5937.78287013, -5941.13085033,\n",
       "       -5944.18235981, -5946.98029041, -5949.55831204, -5951.94351233,\n",
       "       -5954.15812423, -5956.22069909, -5958.14692921, -5959.95024093,\n",
       "       -5961.64223316, -5963.23300859, -5964.73142903, -5966.14531539,\n",
       "       -5967.48160691, -5968.74648961, -5969.94550111, -5971.08361726,\n",
       "       -5972.16532421, -5973.19467902, -5974.17536106, -5975.11071572,\n",
       "       -5976.00379202, -5976.85737501, -5977.67401392, -5978.45604661,\n",
       "       -5979.20562104, -5979.92471408, -5980.61514811, -5981.27860572,\n",
       "       -5981.91664272, -5982.53069972, -5983.12211245, -5983.69212102,\n",
       "       -5984.24187822, -5984.77245689, -5985.28485669, -5985.78001008,\n",
       "       -5986.25878781, -5986.72200381, -5987.17041973, -5987.60474893,\n",
       "       -5988.02566023, -5988.43378124, -5988.82970144, -5989.21397498,\n",
       "       -5989.58712325, -5989.9496372 , -5990.30197953, -5990.6445866 ,\n",
       "       -5990.97787033, -5991.30221977, -5991.61800272, -5991.92556709,\n",
       "       -5992.22524222, -5992.51734009, -5992.80215644, -5993.07997177,\n",
       "       -5993.35105233, -5993.615651  , -5993.87400809, -5994.12635211,\n",
       "       -5994.37290049, -5994.61386022, -5994.84942846, -5995.07979322,\n",
       "       -5995.30513348, -5995.52562094, -5995.74141673, -5995.95268274,\n",
       "       -5996.15955174, -5996.36220857, -5996.560683  , -5996.75536231,\n",
       "       -5996.94577717, -5997.13336324, -5997.31544667, -5997.49777414,\n",
       "       -5997.66958153, -5997.85085567, -5998.00710013, -5998.19504368,\n",
       "       -5998.32696844, -5998.5299541 , -5998.63140393, -5998.84894289,\n",
       "       -5998.92994421, -5999.14147015, -5999.24097695, -5999.3999999 ])"
      ]
     },
     "execution_count": 11,
     "metadata": {},
     "output_type": "execute_result"
    }
   ],
   "source": [
    "eta"
   ]
  },
  {
   "cell_type": "code",
   "execution_count": 12,
   "id": "b881373c",
   "metadata": {},
   "outputs": [],
   "source": [
    "eta_adj = eta - eta[-1]"
   ]
  },
  {
   "cell_type": "code",
   "execution_count": 13,
   "id": "96a0b74e",
   "metadata": {},
   "outputs": [
    {
     "data": {
      "text/plain": [
       "array([2.42327801e+02, 1.49554089e+02, 1.19655047e+02, 1.04060743e+02,\n",
       "       9.36896049e+01, 8.58513323e+01, 7.94943287e+01, 7.41181101e+01,\n",
       "       6.94482792e+01, 6.53179033e+01, 6.16171298e+01, 5.82691496e+01,\n",
       "       5.52176401e+01, 5.24197095e+01, 4.98416879e+01, 4.74564876e+01,\n",
       "       4.52418757e+01, 4.31793008e+01, 4.12530707e+01, 3.94497590e+01,\n",
       "       3.77577667e+01, 3.61669913e+01, 3.46685709e+01, 3.32546845e+01,\n",
       "       3.19183930e+01, 3.06535103e+01, 2.94544988e+01, 2.83163826e+01,\n",
       "       2.72346757e+01, 2.62053209e+01, 2.52246388e+01, 2.42892842e+01,\n",
       "       2.33962079e+01, 2.25426249e+01, 2.17259860e+01, 2.09439533e+01,\n",
       "       2.01943789e+01, 1.94752858e+01, 1.87848518e+01, 1.81213942e+01,\n",
       "       1.74833572e+01, 1.68693002e+01, 1.62778875e+01, 1.57078789e+01,\n",
       "       1.51581217e+01, 1.46275430e+01, 1.41151432e+01, 1.36199898e+01,\n",
       "       1.31412121e+01, 1.26779961e+01, 1.22295802e+01, 1.17952510e+01,\n",
       "       1.13743397e+01, 1.09662187e+01, 1.05702985e+01, 1.01860249e+01,\n",
       "       9.81287665e+00, 9.45036270e+00, 9.09802037e+00, 8.75541330e+00,\n",
       "       8.42212957e+00, 8.09778013e+00, 7.78199717e+00, 7.47443281e+00,\n",
       "       7.17475768e+00, 6.88265981e+00, 6.59784346e+00, 6.32002813e+00,\n",
       "       6.04894757e+00, 5.78434890e+00, 5.52599181e+00, 5.27364779e+00,\n",
       "       5.02709941e+00, 4.78613968e+00, 4.55057144e+00, 4.32020668e+00,\n",
       "       4.09486642e+00, 3.87437896e+00, 3.65858316e+00, 3.44731716e+00,\n",
       "       3.24044815e+00, 3.03779133e+00, 2.83931690e+00, 2.64463758e+00,\n",
       "       2.45422273e+00, 2.26663666e+00, 2.08455323e+00, 1.90222576e+00,\n",
       "       1.73041837e+00, 1.54914423e+00, 1.39289977e+00, 1.20495622e+00,\n",
       "       1.07303146e+00, 8.70045801e-01, 7.68595972e-01, 5.51057013e-01,\n",
       "       4.70055690e-01, 2.58529751e-01, 1.59022950e-01, 0.00000000e+00])"
      ]
     },
     "execution_count": 13,
     "metadata": {},
     "output_type": "execute_result"
    }
   ],
   "source": [
    "eta_adj"
   ]
  },
  {
   "cell_type": "code",
   "execution_count": null,
   "id": "f04b7bea",
   "metadata": {},
   "outputs": [],
   "source": []
  }
 ],
 "metadata": {
  "kernelspec": {
   "display_name": "Python 3",
   "language": "python",
   "name": "python3"
  },
  "language_info": {
   "codemirror_mode": {
    "name": "ipython",
    "version": 3
   },
   "file_extension": ".py",
   "mimetype": "text/x-python",
   "name": "python",
   "nbconvert_exporter": "python",
   "pygments_lexer": "ipython3",
   "version": "3.7.6"
  }
 },
 "nbformat": 4,
 "nbformat_minor": 5
}
