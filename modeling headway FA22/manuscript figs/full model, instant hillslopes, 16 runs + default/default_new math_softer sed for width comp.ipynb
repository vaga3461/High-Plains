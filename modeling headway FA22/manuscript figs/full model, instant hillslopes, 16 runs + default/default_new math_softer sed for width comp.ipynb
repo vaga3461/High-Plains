{
 "cells": [
  {
   "cell_type": "code",
   "execution_count": 1,
   "id": "8fc20d48",
   "metadata": {},
   "outputs": [],
   "source": [
    "# in this notebook, we are testing out some new math to make the model a bit more self-consistent and logical\n",
    "# and making sure it still runs to steady state in a reasonable time when those changes are made\n",
    "# see notes from 3/8/23 in red, gridded notebook for details on changes\n",
    "# and/or compare to \"default.ipynb\""
   ]
  },
  {
   "cell_type": "code",
   "execution_count": 2,
   "id": "13f8fb7c",
   "metadata": {},
   "outputs": [],
   "source": [
    "import numpy as np\n",
    "import matplotlib.pyplot as plt"
   ]
  },
  {
   "cell_type": "code",
   "execution_count": 3,
   "id": "a6ba582e",
   "metadata": {},
   "outputs": [],
   "source": [
    "# create a profile\n",
    "dx = 500\n",
    "x = np.arange(0, 50000, dx)\n",
    "x_node = x + (dx/2)\n",
    "\n",
    "# add some elevation\n",
    "Hstar = 0.5 # depth decay\n",
    "etab = np.zeros(len(x)) # bedrock elevation\n",
    "etab[:] = np.linspace(1, 0.1, len(x)) # need to start with slight bedrock slope\n",
    "H = Hstar + np.zeros(len(x)) # alluvium thickness\n",
    "eta = etab + H # topography"
   ]
  },
  {
   "cell_type": "code",
   "execution_count": 4,
   "id": "09d177eb",
   "metadata": {},
   "outputs": [],
   "source": [
    "# define constants and other parameters\n",
    "K = 1e-6 # erodibility\n",
    "beta = 0.0005 # abradability\n",
    "zeta = 0.001 # abradability\n",
    "r = 5. # runoff rate\n",
    "U = 0.0001 # uplift or baselevel fall rate\n",
    "I = 0.01 # intermittency\n",
    "phi = 0.1 # porosity\n",
    "D = 0.01 # grain size\n",
    "gamma = 0.5 # fraction plucked that becomes coarse\n",
    "\n",
    "kqs = 0.041 # sed transport coeff\n",
    "kxb = 25 # valley width coeff\n",
    "Pxb = 1./5. # valley width exp\n",
    "kb = 8.3e-8 # channel width coeff\n",
    "\n",
    "B_valley = kxb * (x_node**Pxb) # valley width\n",
    "# Q = (r * kxb * x_node**(1 + Pxb))/(1 + Pxb) # discharge\n",
    "A = (1./3.) * (x**2)\n",
    "Q = r * A"
   ]
  },
  {
   "cell_type": "code",
   "execution_count": 5,
   "id": "98308cda",
   "metadata": {},
   "outputs": [],
   "source": [
    "def model(x, dx, x_node,\n",
    "          K, beta, zeta, gamma,\n",
    "          D, phi, Hstar,\n",
    "          kb, kqs, I, r, U,\n",
    "          etab, H, eta,\n",
    "          B_valley, Q,\n",
    "          num_steps = 1):\n",
    "    \n",
    "    q = Q/B_valley\n",
    "    dt = 35\n",
    "    \n",
    "    run_duration = dt * num_steps\n",
    "    cum_time = 0.0\n",
    "    \n",
    "    Qs = np.zeros(len(x))\n",
    "    qs = np.zeros(len(x))\n",
    "    Eb_p = np.zeros(len(x))\n",
    "    Eb_a = np.zeros(len(x))\n",
    "    Eb = np.zeros(len(x))\n",
    "    Eh = np.zeros(len(x))\n",
    "    E = np.zeros(len(x))\n",
    "    ql = np.zeros(len(x)) # lateral sediment supply\n",
    "    \n",
    "    H[-1] = 0\n",
    "    E[-1] = U\n",
    "    q[0] = 0\n",
    "    Qs[0] = 0\n",
    "    \n",
    "    while cum_time < run_duration:\n",
    "        \n",
    "        # drop baselevel\n",
    "        eta[-1] -= U * dt\n",
    "        \n",
    "        # set boundary conditions\n",
    "        etab[-1] = eta[-1]\n",
    "        \n",
    "        # calc slope\n",
    "        S = -np.diff(eta)/dx\n",
    "        \n",
    "        # calc bed exposure\n",
    "        alpha = np.exp(-H/Hstar)\n",
    "        \n",
    "        # calc sed transport\n",
    "        Qs[1:] = kqs * I * Q[1:] * S**(7./6.) * (1 - alpha[:-1])\n",
    "        qs[1:] = Qs[1:] / B_valley[1:]\n",
    "        \n",
    "        # calc bedrock erosion\n",
    "        Eb_p[:-1] = K * Q[1:] * S**(7./6.) * alpha[:-1] * I\n",
    "        Eb_a[:-1] = beta * Qs[1:] * alpha[:-1]\n",
    "        Eb[:-1] = (Eb_p[:-1] + Eb_a[:-1]) / B_valley[:-1]\n",
    "        \n",
    "        # calc lateral flux\n",
    "        ql[:-1] = ((Eb[:-1] * gamma)/beta) * (1 - np.exp(-zeta * x[1:]/3))\n",
    "        \n",
    "        # calc grain attrition\n",
    "        atr = Qs * zeta\n",
    "        \n",
    "        # calc sediment erosion rate\n",
    "        Eh[:-1] = 1/((1 - phi) * B_valley[:-1]) * (np.diff(Qs)/dx + atr[1:] - (Eb_p[:-1]*gamma) - ql[:-1])\n",
    "        \n",
    "        # calc total erosion rate\n",
    "        E[:-1] = Eb[:-1] + Eh[:-1]\n",
    "        \n",
    "        # update topography\n",
    "        etab[:-1] -= Eb[:-1] * dt\n",
    "        H[:-1] -= Eh[:-1] * dt\n",
    "        H[H<0] = 0\n",
    "        eta[:-1] = etab[:-1] + H[:-1]\n",
    "        \n",
    "        # update elapsed time\n",
    "        cum_time += dt\n",
    "        \n",
    "    print(cum_time)\n",
    "        \n",
    "    return (dt, S, q, alpha, Qs, qs, Eb_p, Eb_a, Eb, ql, atr, Eh, E, etab, H, eta)"
   ]
  },
  {
   "cell_type": "code",
   "execution_count": 6,
   "id": "b9c1fdab",
   "metadata": {},
   "outputs": [
    {
     "name": "stdout",
     "output_type": "stream",
     "text": [
      "175000000.0\n"
     ]
    }
   ],
   "source": [
    "#now write a test\n",
    "num_steps = 5000000\n",
    "\n",
    "test_run = [x, dx, x_node, \n",
    "            K, beta, zeta, gamma,\n",
    "            D, phi, Hstar,\n",
    "            kb, kqs, I, r, U,\n",
    "            etab, H, eta,\n",
    "            B_valley, Q,\n",
    "            num_steps]\n",
    "\n",
    "# and run it\n",
    "(dt, S, q, alpha, Qs, qs, Eb_p, Eb_a, Eb, ql, atr, Eh, E, etab, H, eta) = model(*test_run)"
   ]
  },
  {
   "cell_type": "code",
   "execution_count": 7,
   "id": "f33db4cf",
   "metadata": {},
   "outputs": [
    {
     "data": {
      "text/plain": [
       "array([1.e-04, 1.e-04, 1.e-04, 1.e-04, 1.e-04, 1.e-04, 1.e-04, 1.e-04,\n",
       "       1.e-04, 1.e-04, 1.e-04, 1.e-04, 1.e-04, 1.e-04, 1.e-04, 1.e-04,\n",
       "       1.e-04, 1.e-04, 1.e-04, 1.e-04, 1.e-04, 1.e-04, 1.e-04, 1.e-04,\n",
       "       1.e-04, 1.e-04, 1.e-04, 1.e-04, 1.e-04, 1.e-04, 1.e-04, 1.e-04,\n",
       "       1.e-04, 1.e-04, 1.e-04, 1.e-04, 1.e-04, 1.e-04, 1.e-04, 1.e-04,\n",
       "       1.e-04, 1.e-04, 1.e-04, 1.e-04, 1.e-04, 1.e-04, 1.e-04, 1.e-04,\n",
       "       1.e-04, 1.e-04, 1.e-04, 1.e-04, 1.e-04, 1.e-04, 1.e-04, 1.e-04,\n",
       "       1.e-04, 1.e-04, 1.e-04, 1.e-04, 1.e-04, 1.e-04, 1.e-04, 1.e-04,\n",
       "       1.e-04, 1.e-04, 1.e-04, 1.e-04, 1.e-04, 1.e-04, 1.e-04, 1.e-04,\n",
       "       1.e-04, 1.e-04, 1.e-04, 1.e-04, 1.e-04, 1.e-04, 1.e-04, 1.e-04,\n",
       "       1.e-04, 1.e-04, 1.e-04, 1.e-04, 1.e-04, 1.e-04, 1.e-04, 1.e-04,\n",
       "       1.e-04, 1.e-04, 1.e-04, 1.e-04, 1.e-04, 1.e-04, 1.e-04, 1.e-04,\n",
       "       1.e-04, 1.e-04, 1.e-04, 0.e+00])"
      ]
     },
     "execution_count": 7,
     "metadata": {},
     "output_type": "execute_result"
    }
   ],
   "source": [
    "Eb"
   ]
  },
  {
   "cell_type": "code",
   "execution_count": 8,
   "id": "ad181e1d",
   "metadata": {},
   "outputs": [
    {
     "data": {
      "text/plain": [
       "[<matplotlib.lines.Line2D at 0x7fbd46bad150>]"
      ]
     },
     "execution_count": 8,
     "metadata": {},
     "output_type": "execute_result"
    },
    {
     "data": {
      "image/png": "[encoded data removed]",
      "text/plain": [
       "<Figure size 432x288 with 1 Axes>"
      ]
     },
     "metadata": {
      "needs_background": "light"
     },
     "output_type": "display_data"
    }
   ],
   "source": [
    "plt.plot(S)"
   ]
  },
  {
   "cell_type": "code",
   "execution_count": 9,
   "id": "5f032975",
   "metadata": {},
   "outputs": [
    {
     "data": {
      "text/plain": [
       "[<matplotlib.lines.Line2D at 0x7fbd46ef2110>]"
      ]
     },
     "execution_count": 9,
     "metadata": {},
     "output_type": "execute_result"
    },
    {
     "data": {
      "image/png": "[encoded data removed]",
      "text/plain": [
       "<Figure size 432x288 with 1 Axes>"
      ]
     },
     "metadata": {
      "needs_background": "light"
     },
     "output_type": "display_data"
    }
   ],
   "source": [
    "plt.plot(eta)"
   ]
  },
  {
   "cell_type": "code",
   "execution_count": 10,
   "id": "17318f12",
   "metadata": {},
   "outputs": [
    {
     "data": {
      "text/plain": [
       "0.0003729094519512728"
      ]
     },
     "execution_count": 10,
     "metadata": {},
     "output_type": "execute_result"
    }
   ],
   "source": [
    "S[-1]"
   ]
  },
  {
   "cell_type": "code",
   "execution_count": 11,
   "id": "b1005f1a",
   "metadata": {},
   "outputs": [
    {
     "data": {
      "text/plain": [
       "array([-16578.81231077, -17145.87243642, -17275.96120423, -17322.02925055,\n",
       "       -17347.30512901, -17364.74348751, -17378.08990592, -17388.87587019,\n",
       "       -17397.88251385, -17405.56920352, -17412.23331976, -17418.08078981,\n",
       "       -17423.26133025, -17427.88780553, -17432.04768375, -17435.81023313,\n",
       "       -17439.23126701, -17442.35639933, -17445.2233524 , -17447.86363797,\n",
       "       -17450.30381003, -17452.56641655, -17454.67073437, -17456.6333448 ,\n",
       "       -17458.46858986, -17460.18893785, -17461.80527903, -17463.32716674,\n",
       "       -17464.76301554, -17466.12026517, -17467.40551701, -17468.62464833,\n",
       "       -17469.78290843, -17470.88499996, -17471.93514797, -17472.93715889,\n",
       "       -17473.89447095, -17474.81019757, -17475.68716484, -17476.52794388,\n",
       "       -17477.33487901, -17478.11011226, -17478.85560481, -17479.57315571,\n",
       "       -17480.26441842, -17480.93091533, -17481.57405053, -17482.19512121,\n",
       "       -17482.79532773, -17483.37578255, -17483.9375182 , -17484.48149444,\n",
       "       -17485.00860461, -17485.51968134, -17486.01550171, -17486.49679184,\n",
       "       -17486.96423106, -17487.41845568, -17487.86006241, -17488.28961139,\n",
       "       -17488.70762902, -17489.11461053, -17489.51102224, -17489.8973037 ,\n",
       "       -17490.2738696 , -17490.64111156, -17490.99939973, -17491.34908424,\n",
       "       -17491.69049658, -17492.02395087, -17492.34974495, -17492.66816149,\n",
       "       -17492.97946893, -17493.2839224 , -17493.58176453, -17493.87322625,\n",
       "       -17494.15852745, -17494.43787772, -17494.71147688, -17494.9795156 ,\n",
       "       -17495.24217592, -17495.49963173, -17495.75204924, -17495.99958741,\n",
       "       -17496.24239834, -17496.48062765, -17496.71441481, -17496.94389352,\n",
       "       -17497.16919193, -17497.39043301, -17497.60773476, -17497.82121048,\n",
       "       -17498.03096904, -17498.23711503, -17498.43974903, -17498.63896778,\n",
       "       -17498.83486438, -17499.02752844, -17499.21704626, -17499.40000098])"
      ]
     },
     "execution_count": 11,
     "metadata": {},
     "output_type": "execute_result"
    }
   ],
   "source": [
    "eta"
   ]
  },
  {
   "cell_type": "code",
   "execution_count": 12,
   "id": "0194623a",
   "metadata": {},
   "outputs": [],
   "source": [
    "eta_adj = eta - eta[-1]"
   ]
  },
  {
   "cell_type": "code",
   "execution_count": 13,
   "id": "81848333",
   "metadata": {},
   "outputs": [
    {
     "data": {
      "text/plain": [
       "array([9.20587690e+02, 3.53527565e+02, 2.23438797e+02, 1.77370750e+02,\n",
       "       1.52094872e+02, 1.34656513e+02, 1.21310095e+02, 1.10524131e+02,\n",
       "       1.01517487e+02, 9.38307975e+01, 8.71666812e+01, 8.13192112e+01,\n",
       "       7.61386707e+01, 7.15121955e+01, 6.73523172e+01, 6.35897679e+01,\n",
       "       6.01687340e+01, 5.70436017e+01, 5.41766486e+01, 5.15363630e+01,\n",
       "       4.90961909e+01, 4.68335844e+01, 4.47292666e+01, 4.27666562e+01,\n",
       "       4.09314111e+01, 3.92110631e+01, 3.75947219e+01, 3.60728342e+01,\n",
       "       3.46369854e+01, 3.32797358e+01, 3.19944840e+01, 3.07753526e+01,\n",
       "       2.96170926e+01, 2.85150010e+01, 2.74648530e+01, 2.64628421e+01,\n",
       "       2.55055300e+01, 2.45898034e+01, 2.37128361e+01, 2.28720571e+01,\n",
       "       2.20651220e+01, 2.12898887e+01, 2.05443962e+01, 1.98268453e+01,\n",
       "       1.91355826e+01, 1.84690857e+01, 1.78259505e+01, 1.72048798e+01,\n",
       "       1.66046733e+01, 1.60242184e+01, 1.54624828e+01, 1.49185065e+01,\n",
       "       1.43913964e+01, 1.38803196e+01, 1.33844993e+01, 1.29032091e+01,\n",
       "       1.24357699e+01, 1.19815453e+01, 1.15399386e+01, 1.11103896e+01,\n",
       "       1.06923720e+01, 1.02853904e+01, 9.88897874e+00, 9.50269729e+00,\n",
       "       9.12613138e+00, 8.75888942e+00, 8.40060125e+00, 8.05091675e+00,\n",
       "       7.70950440e+00, 7.37605012e+00, 7.05025603e+00, 6.73183949e+00,\n",
       "       6.42053205e+00, 6.11607858e+00, 5.81823645e+00, 5.52677474e+00,\n",
       "       5.24147353e+00, 4.96212327e+00, 4.68852411e+00, 4.42048539e+00,\n",
       "       4.15782507e+00, 3.90036926e+00, 3.64795174e+00, 3.40041357e+00,\n",
       "       3.15760264e+00, 2.91937334e+00, 2.68558617e+00, 2.45610747e+00,\n",
       "       2.23080905e+00, 2.00956798e+00, 1.79226623e+00, 1.57879050e+00,\n",
       "       1.36903194e+00, 1.16288595e+00, 9.60251953e-01, 7.61033199e-01,\n",
       "       5.65136601e-01, 3.72472545e-01, 1.82954726e-01, 0.00000000e+00])"
      ]
     },
     "execution_count": 13,
     "metadata": {},
     "output_type": "execute_result"
    }
   ],
   "source": [
    "eta_adj"
   ]
  },
  {
   "cell_type": "code",
   "execution_count": 14,
   "id": "37ed1e99",
   "metadata": {},
   "outputs": [
    {
     "data": {
      "text/plain": [
       "array([0.01535183, 0.02834687, 0.03934693, 0.04865829, 0.05654018,\n",
       "       0.06321206, 0.06885968, 0.07364029, 0.07768698, 0.08111244,\n",
       "       0.08401203, 0.08646647, 0.08854412, 0.0903028 , 0.0917915 ,\n",
       "       0.09305165, 0.09411835, 0.09502129, 0.09578562, 0.0964326 ,\n",
       "       0.09698026, 0.09744385, 0.09783626, 0.09816844, 0.09844961,\n",
       "       0.09868763, 0.0988891 , 0.09905964, 0.09920401, 0.09932621,\n",
       "       0.09942965, 0.0995172 , 0.09959132, 0.09965406, 0.09970717,\n",
       "       0.09975212, 0.09979018, 0.09982239, 0.09984966, 0.09987274,\n",
       "       0.09989227, 0.09990881, 0.09992281, 0.09993466, 0.09994469,\n",
       "       0.09995318, 0.09996037, 0.09996645, 0.0999716 , 0.09997596,\n",
       "       0.09997965, 0.09998278, 0.09998542, 0.09998766, 0.09998955,\n",
       "       0.09999116, 0.09999251, 0.09999366, 0.09999464, 0.09999546,\n",
       "       0.09999616, 0.09999675, 0.09999725, 0.09999767, 0.09999803,\n",
       "       0.09999833, 0.09999859, 0.0999988 , 0.09999899, 0.09999914,\n",
       "       0.09999927, 0.09999939, 0.09999948, 0.09999956, 0.09999963,\n",
       "       0.09999968, 0.09999973, 0.09999977, 0.09999981, 0.09999984,\n",
       "       0.09999986, 0.09999988, 0.0999999 , 0.09999992, 0.09999993,\n",
       "       0.09999994, 0.09999995, 0.09999996, 0.09999996, 0.09999997,\n",
       "       0.09999997, 0.09999998, 0.09999998, 0.09999998, 0.09999999,\n",
       "       0.09999999, 0.09999999, 0.09999999, 0.09999999, 0.        ])"
      ]
     },
     "execution_count": 14,
     "metadata": {},
     "output_type": "execute_result"
    }
   ],
   "source": [
    "ql"
   ]
  },
  {
   "cell_type": "code",
   "execution_count": 15,
   "id": "3e5010ce",
   "metadata": {},
   "outputs": [
    {
     "data": {
      "text/plain": [
       "array([1.e-04, 1.e-04, 1.e-04, 1.e-04, 1.e-04, 1.e-04, 1.e-04, 1.e-04,\n",
       "       1.e-04, 1.e-04, 1.e-04, 1.e-04, 1.e-04, 1.e-04, 1.e-04, 1.e-04,\n",
       "       1.e-04, 1.e-04, 1.e-04, 1.e-04, 1.e-04, 1.e-04, 1.e-04, 1.e-04,\n",
       "       1.e-04, 1.e-04, 1.e-04, 1.e-04, 1.e-04, 1.e-04, 1.e-04, 1.e-04,\n",
       "       1.e-04, 1.e-04, 1.e-04, 1.e-04, 1.e-04, 1.e-04, 1.e-04, 1.e-04,\n",
       "       1.e-04, 1.e-04, 1.e-04, 1.e-04, 1.e-04, 1.e-04, 1.e-04, 1.e-04,\n",
       "       1.e-04, 1.e-04, 1.e-04, 1.e-04, 1.e-04, 1.e-04, 1.e-04, 1.e-04,\n",
       "       1.e-04, 1.e-04, 1.e-04, 1.e-04, 1.e-04, 1.e-04, 1.e-04, 1.e-04,\n",
       "       1.e-04, 1.e-04, 1.e-04, 1.e-04, 1.e-04, 1.e-04, 1.e-04, 1.e-04,\n",
       "       1.e-04, 1.e-04, 1.e-04, 1.e-04, 1.e-04, 1.e-04, 1.e-04, 1.e-04,\n",
       "       1.e-04, 1.e-04, 1.e-04, 1.e-04, 1.e-04, 1.e-04, 1.e-04, 1.e-04,\n",
       "       1.e-04, 1.e-04, 1.e-04, 1.e-04, 1.e-04, 1.e-04, 1.e-04, 1.e-04,\n",
       "       1.e-04, 1.e-04, 1.e-04, 0.e+00])"
      ]
     },
     "execution_count": 15,
     "metadata": {},
     "output_type": "execute_result"
    }
   ],
   "source": [
    "Eb"
   ]
  },
  {
   "cell_type": "code",
   "execution_count": 16,
   "id": "587364ca",
   "metadata": {},
   "outputs": [
    {
     "data": {
      "text/plain": [
       "array([0.00020353, 0.00030168, 0.00037808, 0.00043713, 0.00048304,\n",
       "       0.00051879, 0.00054657, 0.00056803, 0.00058443, 0.00059677,\n",
       "       0.00060586, 0.00061231, 0.00061666, 0.0006193 , 0.00062058,\n",
       "       0.00062076, 0.00062007, 0.0006187 , 0.00061678, 0.00061444,\n",
       "       0.00061178, 0.00060888, 0.0006058 , 0.00060259, 0.0005993 ,\n",
       "       0.00059596, 0.0005926 , 0.00058925, 0.0005859 , 0.00058259,\n",
       "       0.00057932, 0.00057611, 0.00057294, 0.00056984, 0.0005668 ,\n",
       "       0.00056382, 0.00056091, 0.00055807, 0.00055529, 0.00055258,\n",
       "       0.00054993, 0.00054734, 0.00054482, 0.00054236, 0.00053995,\n",
       "       0.0005376 , 0.00053531, 0.00053307, 0.00053088, 0.00052874,\n",
       "       0.00052665, 0.0005246 , 0.0005226 , 0.00052064, 0.00051873,\n",
       "       0.00051686, 0.00051502, 0.00051322, 0.00051146, 0.00050973,\n",
       "       0.00050804, 0.00050638, 0.00050475, 0.00050315, 0.00050159,\n",
       "       0.00050005, 0.00049853, 0.00049705, 0.00049559, 0.00049416,\n",
       "       0.00049275, 0.00049136, 0.00049   , 0.00048866, 0.00048734,\n",
       "       0.00048604, 0.00048477, 0.00048351, 0.00048227, 0.00048105,\n",
       "       0.00047985, 0.00047867, 0.0004775 , 0.00047635, 0.00047522,\n",
       "       0.0004741 , 0.000473  , 0.00047192, 0.00047084, 0.00046979,\n",
       "       0.00046874, 0.00046772, 0.0004667 , 0.0004657 , 0.00046471,\n",
       "       0.00046373, 0.00046276, 0.00046181, 0.00046087, 0.        ])"
      ]
     },
     "execution_count": 16,
     "metadata": {},
     "output_type": "execute_result"
    }
   ],
   "source": [
    "ql/B_valley"
   ]
  },
  {
   "cell_type": "code",
   "execution_count": 17,
   "id": "a9179593",
   "metadata": {},
   "outputs": [],
   "source": [
    "# calc width\n",
    "\n",
    "b = (kb * Q[1:] * S**(7/6)) / (D**(3/2))"
   ]
  },
  {
   "cell_type": "code",
   "execution_count": 18,
   "id": "74588e8e",
   "metadata": {},
   "outputs": [],
   "source": [
    "# save csv files\n",
    "\n",
    "np.savetxt('elevation csv files/eta_default_softsed.csv', eta_adj, delimiter = ',')\n",
    "np.savetxt('alpha csv files/alpha_default_softsed.csv', alpha, delimiter = ',')\n",
    "np.savetxt('slope csv files/slope_default_softsed.csv', S, delimiter = ',')\n",
    "np.savetxt('width csv files/b_default_softsed.csv', b, delimiter = ',')\n",
    "np.savetxt('Qs csv files/Qs_default_softsed.csv', Qs, delimiter = ',')"
   ]
  },
  {
   "cell_type": "code",
   "execution_count": null,
   "id": "c9974e86",
   "metadata": {},
   "outputs": [],
   "source": []
  }
 ],
 "metadata": {
  "kernelspec": {
   "display_name": "Python 3",
   "language": "python",
   "name": "python3"
  },
  "language_info": {
   "codemirror_mode": {
    "name": "ipython",
    "version": 3
   },
   "file_extension": ".py",
   "mimetype": "text/x-python",
   "name": "python",
   "nbconvert_exporter": "python",
   "pygments_lexer": "ipython3",
   "version": "3.7.6"
  }
 },
 "nbformat": 4,
 "nbformat_minor": 5
}
