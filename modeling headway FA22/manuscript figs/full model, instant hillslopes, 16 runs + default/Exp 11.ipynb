{
 "cells": [
  {
   "cell_type": "code",
   "execution_count": 1,
   "id": "8fc20d48",
   "metadata": {},
   "outputs": [],
   "source": [
    "# this model includes ql\n",
    "# it uses instantaneous bedrock erosion rate to calc ql\n",
    "# it uses gamma to represent fraction of plucked material that becomes coarse gravel\n",
    "# it uses theta to represent fraction of hillslope material that enters fluvial system as coarse \n",
    "## (maybe this should be same as gamma, \n",
    "## since the real fxn of this parameter is to tell us \n",
    "## how much coarse stuff is available for bedload transport/abrasion)\n",
    "\n",
    "# potential updates: see if adding weighted average back in to ql calculation still allows for stability\n",
    "## update on the update: this led to stability issues, and it's not worth the time now trying to debug, \n",
    "## so just stick with using instantaneous erosion rate. \n",
    "## Most interested in steady state profiles anyway, so this is fine."
   ]
  },
  {
   "cell_type": "code",
   "execution_count": 2,
   "id": "13f8fb7c",
   "metadata": {},
   "outputs": [],
   "source": [
    "import numpy as np\n",
    "import matplotlib.pyplot as plt"
   ]
  },
  {
   "cell_type": "code",
   "execution_count": 3,
   "id": "a6ba582e",
   "metadata": {},
   "outputs": [],
   "source": [
    "# create a profile\n",
    "dx = 500\n",
    "x = np.arange(0, 50000, dx)\n",
    "x_node = x + (dx/2)\n",
    "\n",
    "# add some elevation\n",
    "Hstar = 0.5 # depth decay\n",
    "etab = np.zeros(len(x)) # bedrock elevation\n",
    "etab[:] = np.linspace(1, 0.1, len(x)) # need to start with slight bedrock slope\n",
    "H = Hstar + np.zeros(len(x)) # alluvium thickness\n",
    "eta = etab + H # topography"
   ]
  },
  {
   "cell_type": "code",
   "execution_count": 4,
   "id": "09d177eb",
   "metadata": {},
   "outputs": [],
   "source": [
    "# define constants and other parameters\n",
    "K = 1e-7 # erodibility\n",
    "beta = 0.0005 # abradability\n",
    "r = 5. # runoff rate\n",
    "U = 0.0001 # uplift or baselevel fall rate\n",
    "I = 0.01 # intermittency\n",
    "phi = 0.1 # porosity\n",
    "D = 0.01 # grain size\n",
    "gamma = 0.5 # fraction plucked that becomes coarse\n",
    "theta = 0.5 # fraction hillslope that enters as coarse\n",
    "# treat as same!!! Point is what fraction becomes coarse\n",
    "# so just be sure to change these together\n",
    "\n",
    "kqs = 0.051 # sed transport coeff\n",
    "kxb = 25 # valley width coeff\n",
    "Pxb = 1./5. # valley width exp\n",
    "kb = 8.3e-8 # channel width coeff\n",
    "\n",
    "B_valley = kxb * (x_node**Pxb) # valley width\n",
    "# Q = (r * kxb * x_node**(1 + Pxb))/(1 + Pxb) # discharge\n",
    "A = (1./3.) * (x**2)\n",
    "Q = r * A"
   ]
  },
  {
   "cell_type": "code",
   "execution_count": 5,
   "id": "98308cda",
   "metadata": {},
   "outputs": [],
   "source": [
    "def model(x, dx, x_node,\n",
    "          K, beta, gamma, theta,\n",
    "          D, phi, Hstar,\n",
    "          kb, kqs, I, r, U,\n",
    "          etab, H, eta,\n",
    "          B_valley, Q,\n",
    "          num_steps = 1):\n",
    "    \n",
    "    q = Q/B_valley\n",
    "    dt = 40\n",
    "    \n",
    "    run_duration = dt * num_steps\n",
    "    cum_time = 0.0\n",
    "    \n",
    "    Qs = np.zeros(len(x))\n",
    "    qs = np.zeros(len(x))\n",
    "    Eb_p = np.zeros(len(x))\n",
    "    Eb_a = np.zeros(len(x))\n",
    "    Eb = np.zeros(len(x))\n",
    "    Eh = np.zeros(len(x))\n",
    "    E = np.zeros(len(x))\n",
    "    ql = np.zeros(len(x)) # lateral sediment supply\n",
    "    \n",
    "    H[-1] = 0\n",
    "    E[-1] = U\n",
    "    q[0] = 0\n",
    "    Qs[0] = 0\n",
    "    \n",
    "    while cum_time < run_duration:\n",
    "        \n",
    "        # drop baselevel\n",
    "        eta[-1] -= U * dt\n",
    "        \n",
    "        # set boundary conditions\n",
    "        etab[-1] = eta[-1]\n",
    "        \n",
    "        # calc slope\n",
    "        S = -np.diff(eta)/dx\n",
    "        \n",
    "        # calc bed exposure\n",
    "        alpha = np.exp(-H/Hstar)\n",
    "        \n",
    "        # calc sed transport\n",
    "        Qs[1:] = kqs * I * Q[1:] * S**(7./6.) * (1 - alpha[:-1])\n",
    "        qs[1:] = Qs[1:] / B_valley[1:]\n",
    "        \n",
    "        # calc bedrock erosion\n",
    "        Eb_p[:-1] = K * Q[1:] * S**(7./6.) * alpha[:-1] * gamma\n",
    "        Eb_a[:-1] = beta * Qs[1:] * alpha[:-1]\n",
    "        Eb[:-1] = (Eb_p[:-1] + Eb_a[:-1]) / B_valley[:-1]\n",
    "        \n",
    "        # calc lateral flux\n",
    "        ql[:-1] = ((Eb[:-1] * theta)/beta) * (1 - np.exp(-beta * x[1:]/3))\n",
    "        \n",
    "        # calc grain attrition\n",
    "        atr = Qs * beta\n",
    "        \n",
    "        # calc sediment erosion rate\n",
    "        Eh[:-1] = 1/((1 - phi) * B_valley[:-1]) * (np.diff(Qs)/dx + atr[1:] - Eb_p[:-1] - ql[:-1])\n",
    "        \n",
    "        # calc total erosion rate\n",
    "        E[:-1] = Eb[:-1] + Eh[:-1]\n",
    "        \n",
    "        # update topography\n",
    "        etab[:-1] -= Eb[:-1] * dt\n",
    "        H[:-1] -= Eh[:-1] * dt\n",
    "        H[H<0] = 0\n",
    "        eta[:-1] = etab[:-1] + H[:-1]\n",
    "        \n",
    "        # update elapsed time\n",
    "        cum_time += dt\n",
    "        \n",
    "    print(cum_time)\n",
    "        \n",
    "    return (dt, S, q, alpha, Qs, qs, Eb_p, Eb_a, Eb, ql, atr, Eh, E, etab, H, eta)"
   ]
  },
  {
   "cell_type": "code",
   "execution_count": 6,
   "id": "b9c1fdab",
   "metadata": {},
   "outputs": [
    {
     "name": "stdout",
     "output_type": "stream",
     "text": [
      "40000000.0\n"
     ]
    }
   ],
   "source": [
    "#now write a test\n",
    "num_steps = 1000000\n",
    "\n",
    "test_run = [x, dx, x_node, \n",
    "            K, beta, gamma, theta,\n",
    "            D, phi, Hstar,\n",
    "            kb, kqs, I, r, U,\n",
    "            etab, H, eta,\n",
    "            B_valley, Q,\n",
    "            num_steps]\n",
    "\n",
    "# and run it\n",
    "(dt, S, q, alpha, Qs, qs, Eb_p, Eb_a, Eb, ql, atr, Eh, E, etab, H, eta) = model(*test_run)"
   ]
  },
  {
   "cell_type": "code",
   "execution_count": 7,
   "id": "f33db4cf",
   "metadata": {},
   "outputs": [
    {
     "data": {
      "text/plain": [
       "array([1.e-04, 1.e-04, 1.e-04, 1.e-04, 1.e-04, 1.e-04, 1.e-04, 1.e-04,\n",
       "       1.e-04, 1.e-04, 1.e-04, 1.e-04, 1.e-04, 1.e-04, 1.e-04, 1.e-04,\n",
       "       1.e-04, 1.e-04, 1.e-04, 1.e-04, 1.e-04, 1.e-04, 1.e-04, 1.e-04,\n",
       "       1.e-04, 1.e-04, 1.e-04, 1.e-04, 1.e-04, 1.e-04, 1.e-04, 1.e-04,\n",
       "       1.e-04, 1.e-04, 1.e-04, 1.e-04, 1.e-04, 1.e-04, 1.e-04, 1.e-04,\n",
       "       1.e-04, 1.e-04, 1.e-04, 1.e-04, 1.e-04, 1.e-04, 1.e-04, 1.e-04,\n",
       "       1.e-04, 1.e-04, 1.e-04, 1.e-04, 1.e-04, 1.e-04, 1.e-04, 1.e-04,\n",
       "       1.e-04, 1.e-04, 1.e-04, 1.e-04, 1.e-04, 1.e-04, 1.e-04, 1.e-04,\n",
       "       1.e-04, 1.e-04, 1.e-04, 1.e-04, 1.e-04, 1.e-04, 1.e-04, 1.e-04,\n",
       "       1.e-04, 1.e-04, 1.e-04, 1.e-04, 1.e-04, 1.e-04, 1.e-04, 1.e-04,\n",
       "       1.e-04, 1.e-04, 1.e-04, 1.e-04, 1.e-04, 1.e-04, 1.e-04, 1.e-04,\n",
       "       1.e-04, 1.e-04, 1.e-04, 1.e-04, 1.e-04, 1.e-04, 1.e-04, 1.e-04,\n",
       "       1.e-04, 1.e-04, 1.e-04, 0.e+00])"
      ]
     },
     "execution_count": 7,
     "metadata": {},
     "output_type": "execute_result"
    }
   ],
   "source": [
    "Eb"
   ]
  },
  {
   "cell_type": "code",
   "execution_count": 8,
   "id": "ad181e1d",
   "metadata": {},
   "outputs": [
    {
     "data": {
      "text/plain": [
       "[<matplotlib.lines.Line2D at 0x7fbdf8b4f710>]"
      ]
     },
     "execution_count": 8,
     "metadata": {},
     "output_type": "execute_result"
    },
    {
     "data": {
      "image/png": "[encoded data removed]",
      "text/plain": [
       "<Figure size 432x288 with 1 Axes>"
      ]
     },
     "metadata": {
      "needs_background": "light"
     },
     "output_type": "display_data"
    }
   ],
   "source": [
    "plt.plot(S)"
   ]
  },
  {
   "cell_type": "code",
   "execution_count": 9,
   "id": "5f032975",
   "metadata": {},
   "outputs": [
    {
     "data": {
      "text/plain": [
       "[<matplotlib.lines.Line2D at 0x7fbdf8e64410>]"
      ]
     },
     "execution_count": 9,
     "metadata": {},
     "output_type": "execute_result"
    },
    {
     "data": {
      "image/png": "[encoded data removed]",
      "text/plain": [
       "<Figure size 432x288 with 1 Axes>"
      ]
     },
     "metadata": {
      "needs_background": "light"
     },
     "output_type": "display_data"
    }
   ],
   "source": [
    "plt.plot(eta)"
   ]
  },
  {
   "cell_type": "code",
   "execution_count": 10,
   "id": "17318f12",
   "metadata": {},
   "outputs": [
    {
     "data": {
      "text/plain": [
       "0.0004364644046208923"
      ]
     },
     "execution_count": 10,
     "metadata": {},
     "output_type": "execute_result"
    }
   ],
   "source": [
    "S[-1]"
   ]
  },
  {
   "cell_type": "code",
   "execution_count": 11,
   "id": "b1005f1a",
   "metadata": {},
   "outputs": [
    {
     "data": {
      "text/plain": [
       "array([-3601.3630527 , -3765.19522991, -3815.84052764, -3841.11569225,\n",
       "       -3857.449252  , -3869.59507827, -3879.35366497, -3887.55947144,\n",
       "       -3894.660774  , -3900.92605152, -3906.52983511, -3911.59298157,\n",
       "       -3916.20342894, -3920.42772871, -3924.31786013, -3927.91546936,\n",
       "       -3931.25462426, -3934.3636734 , -3937.26654225, -3939.98366329,\n",
       "       -3942.5326606 , -3944.92886504, -3947.18570978, -3949.31503933,\n",
       "       -3951.32735479, -3953.23201122, -3955.03737844, -3956.75097343,\n",
       "       -3958.37957058, -3959.92929412, -3961.40569629, -3962.81382401,\n",
       "       -3964.15827594, -3965.44325168, -3966.67259448, -3967.84982835,\n",
       "       -3968.97819053, -3970.06066   , -3971.09998264, -3972.09869335,\n",
       "       -3973.05913582, -3973.98347999, -3974.87373769, -3975.73177657,\n",
       "       -3976.55933262, -3977.35802139, -3978.1293481 , -3978.87471672,\n",
       "       -3979.59543823, -3980.29273806, -3980.96776281, -3981.6215864 ,\n",
       "       -3982.25521561, -3982.86959521, -3983.4656125 , -3984.04410161,\n",
       "       -3984.60584732, -3985.15158857, -3985.68202177, -3986.19780371,\n",
       "       -3986.69955432, -3987.18785914, -3987.66327171, -3988.12631562,\n",
       "       -3988.57748652, -3989.01725393, -3989.4460629 , -3989.86433557,\n",
       "       -3990.27247263, -3990.67085461, -3991.05984316, -3991.43978215,\n",
       "       -3991.81099879, -3992.17380456, -3992.52849619, -3992.87535648,\n",
       "       -3993.21465511, -3993.54664941, -3993.87158501, -3994.18969654,\n",
       "       -3994.50120821, -3994.80633437, -3995.10528008, -3995.39824158,\n",
       "       -3995.68540675, -3995.96695559, -3996.24306057, -3996.51388708,\n",
       "       -3996.77959373, -3997.04033276, -3997.29625029, -3997.54748667,\n",
       "       -3997.79417676, -3998.03645016, -3998.27443151, -3998.50824071,\n",
       "       -3998.73799312, -3998.96379981, -3999.18576773, -3999.39999993])"
      ]
     },
     "execution_count": 11,
     "metadata": {},
     "output_type": "execute_result"
    }
   ],
   "source": [
    "eta"
   ]
  },
  {
   "cell_type": "code",
   "execution_count": 12,
   "id": "b881373c",
   "metadata": {},
   "outputs": [],
   "source": [
    "eta_adj = eta - eta[-1]"
   ]
  },
  {
   "cell_type": "code",
   "execution_count": 13,
   "id": "96a0b74e",
   "metadata": {},
   "outputs": [
    {
     "data": {
      "text/plain": [
       "array([3.98036947e+02, 2.34204770e+02, 1.83559472e+02, 1.58284308e+02,\n",
       "       1.41950748e+02, 1.29804922e+02, 1.20046335e+02, 1.11840528e+02,\n",
       "       1.04739226e+02, 9.84739484e+01, 9.28701648e+01, 8.78070184e+01,\n",
       "       8.31965710e+01, 7.89722712e+01, 7.50821398e+01, 7.14845306e+01,\n",
       "       6.81453757e+01, 6.50363265e+01, 6.21334577e+01, 5.94163366e+01,\n",
       "       5.68673393e+01, 5.44711349e+01, 5.22142902e+01, 5.00849606e+01,\n",
       "       4.80726451e+01, 4.61679887e+01, 4.43626215e+01, 4.26490265e+01,\n",
       "       4.10204294e+01, 3.94707058e+01, 3.79943036e+01, 3.65861759e+01,\n",
       "       3.52417240e+01, 3.39567483e+01, 3.27274055e+01, 3.15501716e+01,\n",
       "       3.04218094e+01, 2.93393399e+01, 2.83000173e+01, 2.73013066e+01,\n",
       "       2.63408641e+01, 2.54165199e+01, 2.45262622e+01, 2.36682234e+01,\n",
       "       2.28406673e+01, 2.20419785e+01, 2.12706518e+01, 2.05252832e+01,\n",
       "       1.98045617e+01, 1.91072619e+01, 1.84322371e+01, 1.77784135e+01,\n",
       "       1.71447843e+01, 1.65304047e+01, 1.59343874e+01, 1.53558983e+01,\n",
       "       1.47941526e+01, 1.42484114e+01, 1.37179782e+01, 1.32021962e+01,\n",
       "       1.27004456e+01, 1.22121408e+01, 1.17367282e+01, 1.12736843e+01,\n",
       "       1.08225134e+01, 1.03827460e+01, 9.95393703e+00, 9.53566436e+00,\n",
       "       9.12752730e+00, 8.72914532e+00, 8.34015677e+00, 7.96021778e+00,\n",
       "       7.58900114e+00, 7.22619537e+00, 6.87150374e+00, 6.52464346e+00,\n",
       "       6.18534482e+00, 5.85335052e+00, 5.52841492e+00, 5.21030339e+00,\n",
       "       4.89879173e+00, 4.59366556e+00, 4.29471985e+00, 4.00175835e+00,\n",
       "       3.71459318e+00, 3.43304434e+00, 3.15693936e+00, 2.88611286e+00,\n",
       "       2.62040620e+00, 2.35966718e+00, 2.10374965e+00, 1.85251326e+00,\n",
       "       1.60582318e+00, 1.36354977e+00, 1.12556842e+00, 8.91759224e-01,\n",
       "       6.62006815e-01, 4.36200127e-01, 2.14232202e-01, 0.00000000e+00])"
      ]
     },
     "execution_count": 13,
     "metadata": {},
     "output_type": "execute_result"
    }
   ],
   "source": [
    "eta_adj"
   ]
  },
  {
   "cell_type": "code",
   "execution_count": 14,
   "id": "f04b7bea",
   "metadata": {},
   "outputs": [],
   "source": [
    "# save csv files\n",
    "\n",
    "np.savetxt('elevation csv files/eta_exp_11.csv', eta_adj, delimiter = ',')\n",
    "np.savetxt('alpha csv files/alpha_exp_11.csv', alpha, delimiter = ',')"
   ]
  }
 ],
 "metadata": {
  "kernelspec": {
   "display_name": "Python 3",
   "language": "python",
   "name": "python3"
  },
  "language_info": {
   "codemirror_mode": {
    "name": "ipython",
    "version": 3
   },
   "file_extension": ".py",
   "mimetype": "text/x-python",
   "name": "python",
   "nbconvert_exporter": "python",
   "pygments_lexer": "ipython3",
   "version": "3.7.6"
  }
 },
 "nbformat": 4,
 "nbformat_minor": 5
}
