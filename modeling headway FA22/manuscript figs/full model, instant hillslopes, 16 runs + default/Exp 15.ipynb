{
 "cells": [
  {
   "cell_type": "code",
   "execution_count": 1,
   "id": "8fc20d48",
   "metadata": {},
   "outputs": [],
   "source": [
    "# this model includes ql\n",
    "# it uses instantaneous bedrock erosion rate to calc ql\n",
    "# it uses gamma to represent fraction of plucked material that becomes coarse gravel\n",
    "# it uses theta to represent fraction of hillslope material that enters fluvial system as coarse \n",
    "## (maybe this should be same as gamma, \n",
    "## since the real fxn of this parameter is to tell us \n",
    "## how much coarse stuff is available for bedload transport/abrasion)\n",
    "\n",
    "# potential updates: see if adding weighted average back in to ql calculation still allows for stability\n",
    "## update on the update: this led to stability issues, and it's not worth the time now trying to debug, \n",
    "## so just stick with using instantaneous erosion rate. \n",
    "## Most interested in steady state profiles anyway, so this is fine."
   ]
  },
  {
   "cell_type": "code",
   "execution_count": 2,
   "id": "13f8fb7c",
   "metadata": {},
   "outputs": [],
   "source": [
    "import numpy as np\n",
    "import matplotlib.pyplot as plt"
   ]
  },
  {
   "cell_type": "code",
   "execution_count": 3,
   "id": "a6ba582e",
   "metadata": {},
   "outputs": [],
   "source": [
    "# create a profile\n",
    "dx = 500\n",
    "x = np.arange(0, 50000, dx)\n",
    "x_node = x + (dx/2)\n",
    "\n",
    "# add some elevation\n",
    "Hstar = 0.5 # depth decay\n",
    "etab = np.zeros(len(x)) # bedrock elevation\n",
    "etab[:] = np.linspace(1, 0.1, len(x)) # need to start with slight bedrock slope\n",
    "H = Hstar + np.zeros(len(x)) # alluvium thickness\n",
    "eta = etab + H # topography"
   ]
  },
  {
   "cell_type": "code",
   "execution_count": 4,
   "id": "09d177eb",
   "metadata": {},
   "outputs": [],
   "source": [
    "# define constants and other parameters\n",
    "K = 1e-7 # erodibility\n",
    "beta = 0.0005 # abradability\n",
    "r = 5. # runoff rate\n",
    "U = 0.0001 # uplift or baselevel fall rate\n",
    "I = 0.01 # intermittency\n",
    "phi = 0.1 # porosity\n",
    "D = 0.01 # grain size\n",
    "gamma = 0.625 # fraction plucked that becomes coarse\n",
    "theta = 0.625 # fraction hillslope that enters as coarse\n",
    "# treat as same!!! Point is what fraction becomes coarse\n",
    "# so just be sure to change these together\n",
    "\n",
    "kqs = 0.041 # sed transport coeff\n",
    "kxb = 25 # valley width coeff\n",
    "Pxb = 1./5. # valley width exp\n",
    "kb = 8.3e-8 # channel width coeff\n",
    "\n",
    "B_valley = kxb * (x_node**Pxb) # valley width\n",
    "# Q = (r * kxb * x_node**(1 + Pxb))/(1 + Pxb) # discharge\n",
    "A = (1./3.) * (x**2)\n",
    "Q = r * A"
   ]
  },
  {
   "cell_type": "code",
   "execution_count": 5,
   "id": "98308cda",
   "metadata": {},
   "outputs": [],
   "source": [
    "def model(x, dx, x_node,\n",
    "          K, beta, gamma, theta,\n",
    "          D, phi, Hstar,\n",
    "          kb, kqs, I, r, U,\n",
    "          etab, H, eta,\n",
    "          B_valley, Q,\n",
    "          num_steps = 1):\n",
    "    \n",
    "    q = Q/B_valley\n",
    "    dt = 50\n",
    "    \n",
    "    run_duration = dt * num_steps\n",
    "    cum_time = 0.0\n",
    "    \n",
    "    Qs = np.zeros(len(x))\n",
    "    qs = np.zeros(len(x))\n",
    "    Eb_p = np.zeros(len(x))\n",
    "    Eb_a = np.zeros(len(x))\n",
    "    Eb = np.zeros(len(x))\n",
    "    Eh = np.zeros(len(x))\n",
    "    E = np.zeros(len(x))\n",
    "    ql = np.zeros(len(x)) # lateral sediment supply\n",
    "    \n",
    "    H[-1] = 0\n",
    "    E[-1] = U\n",
    "    q[0] = 0\n",
    "    Qs[0] = 0\n",
    "    \n",
    "    while cum_time < run_duration:\n",
    "        \n",
    "        # drop baselevel\n",
    "        eta[-1] -= U * dt\n",
    "        \n",
    "        # set boundary conditions\n",
    "        etab[-1] = eta[-1]\n",
    "        \n",
    "        # calc slope\n",
    "        S = -np.diff(eta)/dx\n",
    "        \n",
    "        # calc bed exposure\n",
    "        alpha = np.exp(-H/Hstar)\n",
    "        \n",
    "        # calc sed transport\n",
    "        Qs[1:] = kqs * I * Q[1:] * S**(7./6.) * (1 - alpha[:-1])\n",
    "        qs[1:] = Qs[1:] / B_valley[1:]\n",
    "        \n",
    "        # calc bedrock erosion\n",
    "        Eb_p[:-1] = K * Q[1:] * S**(7./6.) * alpha[:-1] * gamma\n",
    "        Eb_a[:-1] = beta * Qs[1:] * alpha[:-1]\n",
    "        Eb[:-1] = (Eb_p[:-1] + Eb_a[:-1]) / B_valley[:-1]\n",
    "        \n",
    "        # calc lateral flux\n",
    "        ql[:-1] = ((Eb[:-1] * theta)/beta) * (1 - np.exp(-beta * x[1:]/3))\n",
    "        \n",
    "        # calc grain attrition\n",
    "        atr = Qs * beta\n",
    "        \n",
    "        # calc sediment erosion rate\n",
    "        Eh[:-1] = 1/((1 - phi) * B_valley[:-1]) * (np.diff(Qs)/dx + atr[1:] - Eb_p[:-1] - ql[:-1])\n",
    "        \n",
    "        # calc total erosion rate\n",
    "        E[:-1] = Eb[:-1] + Eh[:-1]\n",
    "        \n",
    "        # update topography\n",
    "        etab[:-1] -= Eb[:-1] * dt\n",
    "        H[:-1] -= Eh[:-1] * dt\n",
    "        H[H<0] = 0\n",
    "        eta[:-1] = etab[:-1] + H[:-1]\n",
    "        \n",
    "        # update elapsed time\n",
    "        cum_time += dt\n",
    "        \n",
    "    print(cum_time)\n",
    "        \n",
    "    return (dt, S, q, alpha, Qs, qs, Eb_p, Eb_a, Eb, ql, atr, Eh, E, etab, H, eta)"
   ]
  },
  {
   "cell_type": "code",
   "execution_count": 6,
   "id": "b9c1fdab",
   "metadata": {},
   "outputs": [
    {
     "name": "stdout",
     "output_type": "stream",
     "text": [
      "100000000.0\n"
     ]
    }
   ],
   "source": [
    "#now write a test\n",
    "num_steps = 2000000\n",
    "\n",
    "test_run = [x, dx, x_node, \n",
    "            K, beta, gamma, theta,\n",
    "            D, phi, Hstar,\n",
    "            kb, kqs, I, r, U,\n",
    "            etab, H, eta,\n",
    "            B_valley, Q,\n",
    "            num_steps]\n",
    "\n",
    "# and run it\n",
    "(dt, S, q, alpha, Qs, qs, Eb_p, Eb_a, Eb, ql, atr, Eh, E, etab, H, eta) = model(*test_run)"
   ]
  },
  {
   "cell_type": "code",
   "execution_count": 7,
   "id": "f33db4cf",
   "metadata": {},
   "outputs": [
    {
     "data": {
      "text/plain": [
       "array([1.00000000e-04, 1.00000000e-04, 1.00000000e-04, 1.00000000e-04,\n",
       "       1.00000000e-04, 1.00000000e-04, 1.00000000e-04, 1.00000000e-04,\n",
       "       1.00000000e-04, 1.00000000e-04, 1.00000000e-04, 1.00000000e-04,\n",
       "       1.00000000e-04, 1.00000000e-04, 1.00000000e-04, 1.00000000e-04,\n",
       "       1.00000000e-04, 1.00000000e-04, 1.00000000e-04, 1.00000000e-04,\n",
       "       1.00000000e-04, 1.00000000e-04, 1.00000000e-04, 1.00000000e-04,\n",
       "       1.00000000e-04, 1.00000000e-04, 1.00000000e-04, 1.00000000e-04,\n",
       "       1.00000000e-04, 1.00000000e-04, 1.00000000e-04, 1.00000000e-04,\n",
       "       1.00000000e-04, 1.00000000e-04, 1.00000000e-04, 1.00000000e-04,\n",
       "       1.00000000e-04, 1.00000000e-04, 1.00000000e-04, 1.00000000e-04,\n",
       "       1.00000000e-04, 1.00000000e-04, 1.00000000e-04, 1.00000000e-04,\n",
       "       1.00000000e-04, 1.00000000e-04, 1.00000000e-04, 1.00000000e-04,\n",
       "       1.00000000e-04, 1.00000000e-04, 1.00000000e-04, 1.00000000e-04,\n",
       "       1.00000000e-04, 1.00000000e-04, 1.00000000e-04, 1.00000000e-04,\n",
       "       1.00000000e-04, 1.00000000e-04, 1.00000000e-04, 1.00000000e-04,\n",
       "       1.00000000e-04, 1.00000000e-04, 1.00000000e-04, 1.00000000e-04,\n",
       "       1.00000000e-04, 1.00000000e-04, 1.00000000e-04, 1.00000000e-04,\n",
       "       1.00000000e-04, 9.99999999e-05, 1.00000000e-04, 9.99999993e-05,\n",
       "       1.00000002e-04, 9.99999917e-05, 1.00000027e-04, 9.99999139e-05,\n",
       "       1.00000261e-04, 9.99992370e-05, 1.00002141e-04, 9.99942302e-05,\n",
       "       1.00014917e-04, 9.99630376e-05, 1.00087680e-04, 9.98011580e-05,\n",
       "       1.00430407e-04, 9.91124539e-05, 1.01739703e-04, 9.67669562e-05,\n",
       "       1.05680295e-04, 9.05909920e-05, 1.14661051e-04, 7.85359795e-05,\n",
       "       1.29510143e-04, 6.19619894e-05, 1.45633246e-04, 5.01537153e-05,\n",
       "       1.46874226e-04, 6.70177499e-05, 1.09193704e-04, 0.00000000e+00])"
      ]
     },
     "execution_count": 7,
     "metadata": {},
     "output_type": "execute_result"
    }
   ],
   "source": [
    "Eb"
   ]
  },
  {
   "cell_type": "code",
   "execution_count": 8,
   "id": "ad181e1d",
   "metadata": {},
   "outputs": [
    {
     "data": {
      "text/plain": [
       "[<matplotlib.lines.Line2D at 0x7fe27a5b9e50>]"
      ]
     },
     "execution_count": 8,
     "metadata": {},
     "output_type": "execute_result"
    },
    {
     "data": {
      "image/png": "[encoded data removed]",
      "text/plain": [
       "<Figure size 432x288 with 1 Axes>"
      ]
     },
     "metadata": {
      "needs_background": "light"
     },
     "output_type": "display_data"
    }
   ],
   "source": [
    "plt.plot(S)"
   ]
  },
  {
   "cell_type": "code",
   "execution_count": 9,
   "id": "5f032975",
   "metadata": {},
   "outputs": [
    {
     "data": {
      "text/plain": [
       "[<matplotlib.lines.Line2D at 0x7fe27a7a21d0>]"
      ]
     },
     "execution_count": 9,
     "metadata": {},
     "output_type": "execute_result"
    },
    {
     "data": {
      "image/png": "[encoded data removed]",
      "text/plain": [
       "<Figure size 432x288 with 1 Axes>"
      ]
     },
     "metadata": {
      "needs_background": "light"
     },
     "output_type": "display_data"
    }
   ],
   "source": [
    "plt.plot(eta)"
   ]
  },
  {
   "cell_type": "code",
   "execution_count": 10,
   "id": "17318f12",
   "metadata": {},
   "outputs": [
    {
     "data": {
      "text/plain": [
       "0.0006982952191938238"
      ]
     },
     "execution_count": 10,
     "metadata": {},
     "output_type": "execute_result"
    }
   ],
   "source": [
    "S[-1]"
   ]
  },
  {
   "cell_type": "code",
   "execution_count": 11,
   "id": "b1005f1a",
   "metadata": {},
   "outputs": [
    {
     "data": {
      "text/plain": [
       "array([-9572.30427082, -9712.77211491, -9760.60308382, -9787.50449291,\n",
       "       -9806.46889906, -9821.37158162, -9833.77863549, -9844.46426316,\n",
       "       -9853.86846659, -9862.26781772, -9869.84974492, -9876.74878026,\n",
       "       -9883.06589349, -9888.87956731, -9894.25252483, -9899.23602236,\n",
       "       -9903.87270614, -9908.19858358, -9912.24442702, -9916.03680142,\n",
       "       -9919.59883507, -9922.95081007, -9926.11062317, -9929.09415154,\n",
       "       -9931.91554722, -9934.58747727, -9937.12132178, -9939.52733893,\n",
       "       -9941.8148036 , -9943.99212485, -9946.06694618, -9948.04623148,\n",
       "       -9949.93633935, -9951.74308753, -9953.47180907, -9955.12740151,\n",
       "       -9956.7143701 , -9958.2368659 , -9959.69871948, -9961.10347085,\n",
       "       -9962.45439606, -9963.75453095, -9965.00669239, -9966.2134973 ,\n",
       "       -9967.37737971, -9968.50060621, -9969.58528975, -9970.6334022 ,\n",
       "       -9971.6467857 , -9972.6271629 , -9973.57614629, -9974.49524674,\n",
       "       -9975.38588111, -9976.2493794 , -9977.0869911 , -9977.89989109,\n",
       "       -9978.68918502, -9979.45591422, -9980.20106022, -9980.92554893,\n",
       "       -9981.63025441, -9982.3160024 , -9982.98357356, -9983.63370646,\n",
       "       -9984.26710029, -9984.88441747, -9985.48628595, -9986.07330141,\n",
       "       -9986.64602927, -9987.20500658, -9987.75074373, -9988.28372607,\n",
       "       -9988.80441541, -9989.31325143, -9989.810653  , -9990.2970191 ,\n",
       "       -9990.77273113, -9991.23815007, -9991.69362925, -9992.13948133,\n",
       "       -9992.57607284, -9993.00357651, -9993.42260528, -9993.83266308,\n",
       "       -9994.23578459, -9994.62834826, -9995.01870156, -9995.39090793,\n",
       "       -9995.77583752, -9996.11845718, -9996.51286574, -9996.80800203,\n",
       "       -9997.23184386, -9997.46066508, -9997.92343286, -9998.0878565 ,\n",
       "       -9998.56861838, -9998.72028978, -9999.14463782, -9999.39999987])"
      ]
     },
     "execution_count": 11,
     "metadata": {},
     "output_type": "execute_result"
    }
   ],
   "source": [
    "eta"
   ]
  },
  {
   "cell_type": "code",
   "execution_count": 12,
   "id": "b881373c",
   "metadata": {},
   "outputs": [],
   "source": [
    "eta_adj = eta - eta[-1]"
   ]
  },
  {
   "cell_type": "code",
   "execution_count": 13,
   "id": "96a0b74e",
   "metadata": {},
   "outputs": [
    {
     "data": {
      "text/plain": [
       "array([4.27095729e+02, 2.86627885e+02, 2.38796916e+02, 2.11895507e+02,\n",
       "       1.92931101e+02, 1.78028418e+02, 1.65621364e+02, 1.54935737e+02,\n",
       "       1.45531533e+02, 1.37132182e+02, 1.29550255e+02, 1.22651220e+02,\n",
       "       1.16334106e+02, 1.10520433e+02, 1.05147475e+02, 1.00163978e+02,\n",
       "       9.55272937e+01, 9.12014163e+01, 8.71555728e+01, 8.33631985e+01,\n",
       "       7.98011648e+01, 7.64491898e+01, 7.32893767e+01, 7.03058483e+01,\n",
       "       6.74844526e+01, 6.48125226e+01, 6.22786781e+01, 5.98726609e+01,\n",
       "       5.75851963e+01, 5.54078750e+01, 5.33330537e+01, 5.13537684e+01,\n",
       "       4.94636605e+01, 4.76569123e+01, 4.59281908e+01, 4.42725984e+01,\n",
       "       4.26856298e+01, 4.11631340e+01, 3.97012804e+01, 3.82965290e+01,\n",
       "       3.69456038e+01, 3.56454689e+01, 3.43933075e+01, 3.31865026e+01,\n",
       "       3.20226202e+01, 3.08993937e+01, 2.98147101e+01, 2.87665977e+01,\n",
       "       2.77532142e+01, 2.67728370e+01, 2.58238536e+01, 2.49047531e+01,\n",
       "       2.40141188e+01, 2.31506205e+01, 2.23130088e+01, 2.15001088e+01,\n",
       "       2.07108148e+01, 1.99440857e+01, 1.91989396e+01, 1.84744509e+01,\n",
       "       1.77697455e+01, 1.70839975e+01, 1.64164263e+01, 1.57662934e+01,\n",
       "       1.51328996e+01, 1.45155824e+01, 1.39137139e+01, 1.33266985e+01,\n",
       "       1.27539706e+01, 1.21949933e+01, 1.16492561e+01, 1.11162738e+01,\n",
       "       1.05955845e+01, 1.00867484e+01, 9.58934686e+00, 9.10298077e+00,\n",
       "       8.62726874e+00, 8.16184980e+00, 7.70637062e+00, 7.26051853e+00,\n",
       "       6.82392702e+00, 6.39642336e+00, 5.97739458e+00, 5.56733678e+00,\n",
       "       5.16421527e+00, 4.77165160e+00, 4.38129831e+00, 4.00909193e+00,\n",
       "       3.62416234e+00, 3.28154269e+00, 2.88713413e+00, 2.59199784e+00,\n",
       "       2.16815601e+00, 1.93933478e+00, 1.47656700e+00, 1.31214337e+00,\n",
       "       8.31381489e-01, 6.79710087e-01, 2.55362045e-01, 0.00000000e+00])"
      ]
     },
     "execution_count": 13,
     "metadata": {},
     "output_type": "execute_result"
    }
   ],
   "source": [
    "eta_adj"
   ]
  },
  {
   "cell_type": "code",
   "execution_count": null,
   "id": "f04b7bea",
   "metadata": {},
   "outputs": [],
   "source": []
  }
 ],
 "metadata": {
  "kernelspec": {
   "display_name": "Python 3",
   "language": "python",
   "name": "python3"
  },
  "language_info": {
   "codemirror_mode": {
    "name": "ipython",
    "version": 3
   },
   "file_extension": ".py",
   "mimetype": "text/x-python",
   "name": "python",
   "nbconvert_exporter": "python",
   "pygments_lexer": "ipython3",
   "version": "3.7.6"
  }
 },
 "nbformat": 4,
 "nbformat_minor": 5
}
