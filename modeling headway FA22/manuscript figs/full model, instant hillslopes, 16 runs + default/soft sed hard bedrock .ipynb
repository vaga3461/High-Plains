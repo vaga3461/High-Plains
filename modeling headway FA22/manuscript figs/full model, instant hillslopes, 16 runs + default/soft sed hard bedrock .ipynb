{
 "cells": [
  {
   "cell_type": "code",
   "execution_count": 18,
   "id": "8fc20d48",
   "metadata": {},
   "outputs": [],
   "source": [
    "# in this notebook, we are testing out some new math to make the model a bit more self-consistent and logical\n",
    "# and making sure it still runs to steady state in a reasonable time when those changes are made\n",
    "# see notes from 3/8/23 in red, gridded notebook for details on changes\n",
    "# and/or compare to \"default.ipynb\""
   ]
  },
  {
   "cell_type": "code",
   "execution_count": 19,
   "id": "13f8fb7c",
   "metadata": {},
   "outputs": [],
   "source": [
    "import numpy as np\n",
    "import matplotlib.pyplot as plt"
   ]
  },
  {
   "cell_type": "code",
   "execution_count": 20,
   "id": "a6ba582e",
   "metadata": {},
   "outputs": [],
   "source": [
    "# create a profile\n",
    "dx = 500\n",
    "x = np.arange(0, 50000, dx)\n",
    "x_node = x + (dx/2)\n",
    "\n",
    "# add some elevation\n",
    "Hstar = 0.5 # depth decay\n",
    "etab = np.zeros(len(x)) # bedrock elevation\n",
    "etab[:] = np.linspace(1, 0.1, len(x)) # need to start with slight bedrock slope\n",
    "H = Hstar + np.zeros(len(x)) # alluvium thickness\n",
    "eta = etab + H # topography"
   ]
  },
  {
   "cell_type": "code",
   "execution_count": 21,
   "id": "09d177eb",
   "metadata": {},
   "outputs": [],
   "source": [
    "# define constants and other parameters\n",
    "K = 1e-6 # erodibility\n",
    "beta = 0.0005 # abradability\n",
    "zeta = 0.001 # abradability\n",
    "r = 5. # runoff rate\n",
    "U = 0.0001 # uplift or baselevel fall rate\n",
    "I = 0.01 # intermittency\n",
    "phi = 0.1 # porosity\n",
    "D = 0.01 # grain size\n",
    "gamma = 0.5 # fraction plucked that becomes coarse\n",
    "\n",
    "kqs = 0.041 # sed transport coeff\n",
    "kxb = 25 # valley width coeff\n",
    "Pxb = 1./5. # valley width exp\n",
    "kb = 8.3e-8 # channel width coeff\n",
    "\n",
    "B_valley = kxb * (x_node**Pxb) # valley width\n",
    "# Q = (r * kxb * x_node**(1 + Pxb))/(1 + Pxb) # discharge\n",
    "A = (1./3.) * (x**2)\n",
    "Q = r * A"
   ]
  },
  {
   "cell_type": "code",
   "execution_count": 22,
   "id": "98308cda",
   "metadata": {},
   "outputs": [],
   "source": [
    "def model(x, dx, x_node,\n",
    "          K, beta, zeta, gamma,\n",
    "          D, phi, Hstar,\n",
    "          kb, kqs, I, r, U,\n",
    "          etab, H, eta,\n",
    "          B_valley, Q,\n",
    "          num_steps = 1):\n",
    "    \n",
    "    q = Q/B_valley\n",
    "    dt = 15\n",
    "    \n",
    "    run_duration = dt * num_steps\n",
    "    cum_time = 0.0\n",
    "    \n",
    "    Qs = np.zeros(len(x))\n",
    "    qs = np.zeros(len(x))\n",
    "    Eb_p = np.zeros(len(x))\n",
    "    Eb_a = np.zeros(len(x))\n",
    "    Eb = np.zeros(len(x))\n",
    "    Eh = np.zeros(len(x))\n",
    "    E = np.zeros(len(x))\n",
    "    ql = np.zeros(len(x)) # lateral sediment supply\n",
    "    \n",
    "    H[-1] = 0\n",
    "    E[-1] = U\n",
    "    q[0] = 0\n",
    "    Qs[0] = 0\n",
    "    \n",
    "    while cum_time < run_duration:\n",
    "        \n",
    "        # drop baselevel\n",
    "        eta[-1] -= U * dt\n",
    "        \n",
    "        # set boundary conditions\n",
    "        etab[-1] = eta[-1]\n",
    "        \n",
    "        # calc slope\n",
    "        S = -np.diff(eta)/dx\n",
    "        \n",
    "        # calc bed exposure\n",
    "        alpha = np.exp(-H/Hstar)\n",
    "        \n",
    "        # calc sed transport\n",
    "        Qs[1:] = kqs * I * Q[1:] * S**(7./6.) * (1 - alpha[:-1])\n",
    "        qs[1:] = Qs[1:] / B_valley[1:]\n",
    "        \n",
    "        # calc bedrock erosion\n",
    "        Eb_p[:-1] = K * Q[1:] * S**(7./6.) * alpha[:-1] * I\n",
    "        Eb_a[:-1] = beta * Qs[1:] * alpha[:-1]\n",
    "        Eb[:-1] = (Eb_p[:-1] + Eb_a[:-1]) / B_valley[:-1]\n",
    "        \n",
    "        # calc lateral flux\n",
    "        ql[:-1] = ((Eb[:-1] * gamma)/zeta) * (1 - np.exp(-zeta * x[1:]/3))\n",
    "        \n",
    "        # calc grain attrition\n",
    "        atr = Qs * zeta\n",
    "        \n",
    "        # calc sediment erosion rate\n",
    "        Eh[:-1] = 1/((1 - phi) * B_valley[:-1]) * (np.diff(Qs)/dx + atr[1:] - (Eb_p[:-1]*gamma) - ql[:-1])\n",
    "        \n",
    "        # calc total erosion rate\n",
    "        E[:-1] = Eb[:-1] + Eh[:-1]\n",
    "        \n",
    "        # update topography\n",
    "        etab[:-1] -= Eb[:-1] * dt\n",
    "        H[:-1] -= Eh[:-1] * dt\n",
    "        H[H<0] = 0\n",
    "        eta[:-1] = etab[:-1] + H[:-1]\n",
    "        \n",
    "        # update elapsed time\n",
    "        cum_time += dt\n",
    "        \n",
    "    print(cum_time)\n",
    "        \n",
    "    return (dt, S, q, alpha, Qs, qs, Eb_p, Eb_a, Eb, ql, atr, Eh, E, etab, H, eta)"
   ]
  },
  {
   "cell_type": "code",
   "execution_count": 23,
   "id": "b9c1fdab",
   "metadata": {},
   "outputs": [
    {
     "name": "stdout",
     "output_type": "stream",
     "text": [
      "150000000.0\n"
     ]
    }
   ],
   "source": [
    "#now write a test\n",
    "num_steps = 10000000\n",
    "\n",
    "test_run = [x, dx, x_node, \n",
    "            K, beta, zeta, gamma,\n",
    "            D, phi, Hstar,\n",
    "            kb, kqs, I, r, U,\n",
    "            etab, H, eta,\n",
    "            B_valley, Q,\n",
    "            num_steps]\n",
    "\n",
    "# and run it\n",
    "(dt, S, q, alpha, Qs, qs, Eb_p, Eb_a, Eb, ql, atr, Eh, E, etab, H, eta) = model(*test_run)"
   ]
  },
  {
   "cell_type": "code",
   "execution_count": 24,
   "id": "f33db4cf",
   "metadata": {},
   "outputs": [
    {
     "data": {
      "text/plain": [
       "array([1.e-04, 1.e-04, 1.e-04, 1.e-04, 1.e-04, 1.e-04, 1.e-04, 1.e-04,\n",
       "       1.e-04, 1.e-04, 1.e-04, 1.e-04, 1.e-04, 1.e-04, 1.e-04, 1.e-04,\n",
       "       1.e-04, 1.e-04, 1.e-04, 1.e-04, 1.e-04, 1.e-04, 1.e-04, 1.e-04,\n",
       "       1.e-04, 1.e-04, 1.e-04, 1.e-04, 1.e-04, 1.e-04, 1.e-04, 1.e-04,\n",
       "       1.e-04, 1.e-04, 1.e-04, 1.e-04, 1.e-04, 1.e-04, 1.e-04, 1.e-04,\n",
       "       1.e-04, 1.e-04, 1.e-04, 1.e-04, 1.e-04, 1.e-04, 1.e-04, 1.e-04,\n",
       "       1.e-04, 1.e-04, 1.e-04, 1.e-04, 1.e-04, 1.e-04, 1.e-04, 1.e-04,\n",
       "       1.e-04, 1.e-04, 1.e-04, 1.e-04, 1.e-04, 1.e-04, 1.e-04, 1.e-04,\n",
       "       1.e-04, 1.e-04, 1.e-04, 1.e-04, 1.e-04, 1.e-04, 1.e-04, 1.e-04,\n",
       "       1.e-04, 1.e-04, 1.e-04, 1.e-04, 1.e-04, 1.e-04, 1.e-04, 1.e-04,\n",
       "       1.e-04, 1.e-04, 1.e-04, 1.e-04, 1.e-04, 1.e-04, 1.e-04, 1.e-04,\n",
       "       1.e-04, 1.e-04, 1.e-04, 1.e-04, 1.e-04, 1.e-04, 1.e-04, 1.e-04,\n",
       "       1.e-04, 1.e-04, 1.e-04, 0.e+00])"
      ]
     },
     "execution_count": 24,
     "metadata": {},
     "output_type": "execute_result"
    }
   ],
   "source": [
    "Eb"
   ]
  },
  {
   "cell_type": "code",
   "execution_count": 25,
   "id": "ad181e1d",
   "metadata": {},
   "outputs": [
    {
     "data": {
      "text/plain": [
       "[<matplotlib.lines.Line2D at 0x7f7e45910a10>]"
      ]
     },
     "execution_count": 25,
     "metadata": {},
     "output_type": "execute_result"
    },
    {
     "data": {
      "image/png": "[encoded data removed]",
      "text/plain": [
       "<Figure size 432x288 with 1 Axes>"
      ]
     },
     "metadata": {
      "needs_background": "light"
     },
     "output_type": "display_data"
    }
   ],
   "source": [
    "plt.plot(S)"
   ]
  },
  {
   "cell_type": "code",
   "execution_count": 26,
   "id": "5f032975",
   "metadata": {},
   "outputs": [
    {
     "data": {
      "text/plain": [
       "[<matplotlib.lines.Line2D at 0x7f7e45b5c110>]"
      ]
     },
     "execution_count": 26,
     "metadata": {},
     "output_type": "execute_result"
    },
    {
     "data": {
      "image/png": "[encoded data removed]",
      "text/plain": [
       "<Figure size 432x288 with 1 Axes>"
      ]
     },
     "metadata": {
      "needs_background": "light"
     },
     "output_type": "display_data"
    }
   ],
   "source": [
    "plt.plot(eta)"
   ]
  },
  {
   "cell_type": "code",
   "execution_count": 27,
   "id": "17318f12",
   "metadata": {},
   "outputs": [
    {
     "data": {
      "text/plain": [
       "0.00040143980205175467"
      ]
     },
     "execution_count": 27,
     "metadata": {},
     "output_type": "execute_result"
    }
   ],
   "source": [
    "S[-1]"
   ]
  },
  {
   "cell_type": "code",
   "execution_count": 28,
   "id": "b1005f1a",
   "metadata": {},
   "outputs": [
    {
     "data": {
      "text/plain": [
       "array([-13838.79986955, -14511.63331023, -14711.81770456, -14797.68911254,\n",
       "       -14841.61890843, -14867.34942254, -14884.31711925, -14896.58543337,\n",
       "       -14906.04972913, -14913.68470306, -14920.04133374, -14925.45717102,\n",
       "       -14930.15292193, -14934.28059895, -14937.94934907, -14941.24021494,\n",
       "       -14944.21503884, -14946.92208654, -14949.39974221, -14951.67901941,\n",
       "       -14953.78531803, -14955.73968514, -14957.55973989, -14959.26036518,\n",
       "       -14960.85423374, -14962.35221416, -14963.76368859, -14965.0968041 ,\n",
       "       -14966.35867381, -14967.55553919, -14968.69290237, -14969.77563458,\n",
       "       -14970.80806589, -14971.79405989, -14972.73707607, -14973.6402225 ,\n",
       "       -14974.50630025, -14975.33784127, -14976.13714067, -14976.90628442,\n",
       "       -14977.64717324, -14978.36154323, -14979.05098375, -14979.71695301,\n",
       "       -14980.36079169, -14980.98373487, -14981.58692252, -14982.1714087 ,\n",
       "       -14982.73816978, -14983.28811164, -14983.82207612, -14984.34084675,\n",
       "       -14984.84515382, -14985.33567902, -14985.8130595 , -14986.27789156,\n",
       "       -14986.73073398, -14987.17211099, -14987.60251504, -14988.02240916,\n",
       "       -14988.43222926, -14988.83238611, -14989.22326721, -14989.60523841,\n",
       "       -14989.97864552, -14990.34381566, -14990.70105855, -14991.05066768,\n",
       "       -14991.39292142, -14991.72808398, -14992.05640635, -14992.37812712,\n",
       "       -14992.69347327, -14993.0026609 , -14993.30589587, -14993.60337444,\n",
       "       -14993.89528383, -14994.18180276, -14994.46310192, -14994.73934445,\n",
       "       -14995.01068636, -14995.27727693, -14995.53925906, -14995.79676967,\n",
       "       -14996.04993994, -14996.2988957 , -14996.54375764, -14996.78464162,\n",
       "       -14997.02165892, -14997.25491642, -14997.48451688, -14997.71055913,\n",
       "       -14997.93313823, -14998.15234568, -14998.36826961, -14998.58099487,\n",
       "       -14998.79060328, -14998.99717369, -14999.20078216, -14999.40000206])"
      ]
     },
     "execution_count": 28,
     "metadata": {},
     "output_type": "execute_result"
    }
   ],
   "source": [
    "eta"
   ]
  },
  {
   "cell_type": "code",
   "execution_count": 29,
   "id": "0194623a",
   "metadata": {},
   "outputs": [],
   "source": [
    "eta_adj = eta - eta[-1]"
   ]
  },
  {
   "cell_type": "code",
   "execution_count": 30,
   "id": "81848333",
   "metadata": {},
   "outputs": [
    {
     "data": {
      "text/plain": [
       "array([1.16060013e+03, 4.87766692e+02, 2.87582298e+02, 2.01710890e+02,\n",
       "       1.57781094e+02, 1.32050580e+02, 1.15082883e+02, 1.02814569e+02,\n",
       "       9.33502729e+01, 8.57152990e+01, 7.93586683e+01, 7.39428310e+01,\n",
       "       6.92470801e+01, 6.51194031e+01, 6.14506530e+01, 5.81597871e+01,\n",
       "       5.51849632e+01, 5.24779155e+01, 5.00002598e+01, 4.77209827e+01,\n",
       "       4.56146840e+01, 4.36603169e+01, 4.18402622e+01, 4.01396369e+01,\n",
       "       3.85457683e+01, 3.70477879e+01, 3.56363135e+01, 3.43031980e+01,\n",
       "       3.30413283e+01, 3.18444629e+01, 3.07070997e+01, 2.96243675e+01,\n",
       "       2.85919362e+01, 2.76059422e+01, 2.66629260e+01, 2.57597796e+01,\n",
       "       2.48937018e+01, 2.40621608e+01, 2.32628614e+01, 2.24937176e+01,\n",
       "       2.17528288e+01, 2.10384588e+01, 2.03490183e+01, 1.96830491e+01,\n",
       "       1.90392104e+01, 1.84162672e+01, 1.78130795e+01, 1.72285934e+01,\n",
       "       1.66618323e+01, 1.61118904e+01, 1.55779259e+01, 1.50591553e+01,\n",
       "       1.45548482e+01, 1.40643230e+01, 1.35869426e+01, 1.31221105e+01,\n",
       "       1.26692681e+01, 1.22278911e+01, 1.17974870e+01, 1.13775929e+01,\n",
       "       1.09677728e+01, 1.05676159e+01, 1.01767349e+01, 9.79476365e+00,\n",
       "       9.42135654e+00, 9.05618640e+00, 8.69894351e+00, 8.34933438e+00,\n",
       "       8.00708064e+00, 7.67191808e+00, 7.34359571e+00, 7.02187494e+00,\n",
       "       6.70652879e+00, 6.39734116e+00, 6.09410619e+00, 5.79662762e+00,\n",
       "       5.50471823e+00, 5.21819930e+00, 4.93690014e+00, 4.66065761e+00,\n",
       "       4.38931570e+00, 4.12272514e+00, 3.86074300e+00, 3.60323240e+00,\n",
       "       3.35006212e+00, 3.10110637e+00, 2.85624443e+00, 2.61536044e+00,\n",
       "       2.37834315e+00, 2.14508564e+00, 1.91548518e+00, 1.68944293e+00,\n",
       "       1.46686383e+00, 1.24765638e+00, 1.03173246e+00, 8.19007189e-01,\n",
       "       6.09398779e-01, 4.02828368e-01, 1.99219901e-01, 0.00000000e+00])"
      ]
     },
     "execution_count": 30,
     "metadata": {},
     "output_type": "execute_result"
    }
   ],
   "source": [
    "eta_adj"
   ]
  },
  {
   "cell_type": "code",
   "execution_count": 31,
   "id": "37ed1e99",
   "metadata": {},
   "outputs": [
    {
     "data": {
      "text/plain": [
       "array([0.00767591, 0.01417343, 0.01967347, 0.02432914, 0.02827009,\n",
       "       0.03160603, 0.03442984, 0.03682014, 0.03884349, 0.04055622,\n",
       "       0.04200601, 0.04323324, 0.04427206, 0.0451514 , 0.04589575,\n",
       "       0.04652583, 0.04705918, 0.04751065, 0.04789281, 0.0482163 ,\n",
       "       0.04849013, 0.04872192, 0.04891813, 0.04908422, 0.04922481,\n",
       "       0.04934381, 0.04944455, 0.04952982, 0.049602  , 0.0496631 ,\n",
       "       0.04971482, 0.0497586 , 0.04979566, 0.04982703, 0.04985359,\n",
       "       0.04987606, 0.04989509, 0.04991119, 0.04992483, 0.04993637,\n",
       "       0.04994614, 0.04995441, 0.04996141, 0.04996733, 0.04997235,\n",
       "       0.04997659, 0.04998018, 0.04998323, 0.0499858 , 0.04998798,\n",
       "       0.04998983, 0.04999139, 0.04999271, 0.04999383, 0.04999478,\n",
       "       0.04999558, 0.04999626, 0.04999683, 0.04999732, 0.04999773,\n",
       "       0.04999808, 0.04999837, 0.04999862, 0.04999883, 0.04999901,\n",
       "       0.04999916, 0.04999929, 0.0499994 , 0.04999949, 0.04999957,\n",
       "       0.04999964, 0.04999969, 0.04999974, 0.04999978, 0.04999981,\n",
       "       0.04999984, 0.04999987, 0.04999989, 0.0499999 , 0.04999992,\n",
       "       0.04999993, 0.04999994, 0.04999995, 0.04999996, 0.04999996,\n",
       "       0.04999997, 0.04999997, 0.04999998, 0.04999998, 0.04999998,\n",
       "       0.04999999, 0.04999999, 0.04999999, 0.04999999, 0.04999999,\n",
       "       0.04999999, 0.05      , 0.05      , 0.05      , 0.        ])"
      ]
     },
     "execution_count": 31,
     "metadata": {},
     "output_type": "execute_result"
    }
   ],
   "source": [
    "ql"
   ]
  },
  {
   "cell_type": "code",
   "execution_count": 32,
   "id": "3e5010ce",
   "metadata": {},
   "outputs": [
    {
     "data": {
      "text/plain": [
       "array([1.e-04, 1.e-04, 1.e-04, 1.e-04, 1.e-04, 1.e-04, 1.e-04, 1.e-04,\n",
       "       1.e-04, 1.e-04, 1.e-04, 1.e-04, 1.e-04, 1.e-04, 1.e-04, 1.e-04,\n",
       "       1.e-04, 1.e-04, 1.e-04, 1.e-04, 1.e-04, 1.e-04, 1.e-04, 1.e-04,\n",
       "       1.e-04, 1.e-04, 1.e-04, 1.e-04, 1.e-04, 1.e-04, 1.e-04, 1.e-04,\n",
       "       1.e-04, 1.e-04, 1.e-04, 1.e-04, 1.e-04, 1.e-04, 1.e-04, 1.e-04,\n",
       "       1.e-04, 1.e-04, 1.e-04, 1.e-04, 1.e-04, 1.e-04, 1.e-04, 1.e-04,\n",
       "       1.e-04, 1.e-04, 1.e-04, 1.e-04, 1.e-04, 1.e-04, 1.e-04, 1.e-04,\n",
       "       1.e-04, 1.e-04, 1.e-04, 1.e-04, 1.e-04, 1.e-04, 1.e-04, 1.e-04,\n",
       "       1.e-04, 1.e-04, 1.e-04, 1.e-04, 1.e-04, 1.e-04, 1.e-04, 1.e-04,\n",
       "       1.e-04, 1.e-04, 1.e-04, 1.e-04, 1.e-04, 1.e-04, 1.e-04, 1.e-04,\n",
       "       1.e-04, 1.e-04, 1.e-04, 1.e-04, 1.e-04, 1.e-04, 1.e-04, 1.e-04,\n",
       "       1.e-04, 1.e-04, 1.e-04, 1.e-04, 1.e-04, 1.e-04, 1.e-04, 1.e-04,\n",
       "       1.e-04, 1.e-04, 1.e-04, 0.e+00])"
      ]
     },
     "execution_count": 32,
     "metadata": {},
     "output_type": "execute_result"
    }
   ],
   "source": [
    "Eb"
   ]
  },
  {
   "cell_type": "code",
   "execution_count": 33,
   "id": "587364ca",
   "metadata": {},
   "outputs": [
    {
     "data": {
      "text/plain": [
       "array([0.00010177, 0.00015084, 0.00018904, 0.00021856, 0.00024152,\n",
       "       0.0002594 , 0.00027329, 0.00028401, 0.00029221, 0.00029839,\n",
       "       0.00030293, 0.00030616, 0.00030833, 0.00030965, 0.00031029,\n",
       "       0.00031038, 0.00031004, 0.00030935, 0.00030839, 0.00030722,\n",
       "       0.00030589, 0.00030444, 0.0003029 , 0.0003013 , 0.00029965,\n",
       "       0.00029798, 0.0002963 , 0.00029462, 0.00029295, 0.0002913 ,\n",
       "       0.00028966, 0.00028805, 0.00028647, 0.00028492, 0.0002834 ,\n",
       "       0.00028191, 0.00028046, 0.00027903, 0.00027765, 0.00027629,\n",
       "       0.00027496, 0.00027367, 0.00027241, 0.00027118, 0.00026998,\n",
       "       0.0002688 , 0.00026765, 0.00026653, 0.00026544, 0.00026437,\n",
       "       0.00026332, 0.0002623 , 0.0002613 , 0.00026032, 0.00025936,\n",
       "       0.00025843, 0.00025751, 0.00025661, 0.00025573, 0.00025487,\n",
       "       0.00025402, 0.00025319, 0.00025238, 0.00025158, 0.00025079,\n",
       "       0.00025002, 0.00024927, 0.00024852, 0.0002478 , 0.00024708,\n",
       "       0.00024637, 0.00024568, 0.000245  , 0.00024433, 0.00024367,\n",
       "       0.00024302, 0.00024238, 0.00024175, 0.00024114, 0.00024053,\n",
       "       0.00023993, 0.00023933, 0.00023875, 0.00023818, 0.00023761,\n",
       "       0.00023705, 0.0002365 , 0.00023596, 0.00023542, 0.00023489,\n",
       "       0.00023437, 0.00023386, 0.00023335, 0.00023285, 0.00023235,\n",
       "       0.00023187, 0.00023138, 0.00023091, 0.00023044, 0.        ])"
      ]
     },
     "execution_count": 33,
     "metadata": {},
     "output_type": "execute_result"
    }
   ],
   "source": [
    "ql/B_valley"
   ]
  },
  {
   "cell_type": "code",
   "execution_count": 34,
   "id": "74588e8e",
   "metadata": {},
   "outputs": [],
   "source": [
    "# save csv files\n",
    "\n",
    "np.savetxt('elevation csv files/eta_soft_sed.csv', eta_adj, delimiter = ',')\n",
    "np.savetxt('alpha csv files/alpha_soft_sed.csv', alpha, delimiter = ',')\n",
    "np.savetxt('slope csv files/slope_soft_sed.csv', S, delimiter = ',')"
   ]
  },
  {
   "cell_type": "code",
   "execution_count": null,
   "id": "c9974e86",
   "metadata": {},
   "outputs": [],
   "source": []
  }
 ],
 "metadata": {
  "kernelspec": {
   "display_name": "Python 3",
   "language": "python",
   "name": "python3"
  },
  "language_info": {
   "codemirror_mode": {
    "name": "ipython",
    "version": 3
   },
   "file_extension": ".py",
   "mimetype": "text/x-python",
   "name": "python",
   "nbconvert_exporter": "python",
   "pygments_lexer": "ipython3",
   "version": "3.7.6"
  }
 },
 "nbformat": 4,
 "nbformat_minor": 5
}
