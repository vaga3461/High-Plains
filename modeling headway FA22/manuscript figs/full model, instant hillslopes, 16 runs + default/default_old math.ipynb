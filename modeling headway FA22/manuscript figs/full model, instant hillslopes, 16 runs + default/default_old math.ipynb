{
 "cells": [
  {
   "cell_type": "code",
   "execution_count": 1,
   "id": "8fc20d48",
   "metadata": {},
   "outputs": [],
   "source": [
    "# this model includes ql\n",
    "# it uses instantaneous bedrock erosion rate to calc ql\n",
    "# it uses gamma to represent fraction of plucked material that becomes coarse gravel\n",
    "# it uses theta to represent fraction of hillslope material that enters fluvial system as coarse \n",
    "## (maybe this should be same as gamma, \n",
    "## since the real fxn of this parameter is to tell us \n",
    "## how much coarse stuff is available for bedload transport/abrasion)\n",
    "\n",
    "# potential updates: see if adding weighted average back in to ql calculation still allows for stability\n",
    "## update on the update: this led to stability issues, and it's not worth the time now trying to debug, \n",
    "## so just stick with using instantaneous erosion rate. \n",
    "## Most interested in steady state profiles anyway, so this is fine."
   ]
  },
  {
   "cell_type": "code",
   "execution_count": 2,
   "id": "13f8fb7c",
   "metadata": {},
   "outputs": [],
   "source": [
    "import numpy as np\n",
    "import matplotlib.pyplot as plt"
   ]
  },
  {
   "cell_type": "code",
   "execution_count": 3,
   "id": "a6ba582e",
   "metadata": {},
   "outputs": [],
   "source": [
    "# create a profile\n",
    "dx = 500\n",
    "x = np.arange(0, 50000, dx)\n",
    "x_node = x + (dx/2)\n",
    "\n",
    "# add some elevation\n",
    "Hstar = 0.5 # depth decay\n",
    "etab = np.zeros(len(x)) # bedrock elevation\n",
    "etab[:] = np.linspace(1, 0.1, len(x)) # need to start with slight bedrock slope\n",
    "H = Hstar + np.zeros(len(x)) # alluvium thickness\n",
    "eta = etab + H # topography"
   ]
  },
  {
   "cell_type": "code",
   "execution_count": 4,
   "id": "09d177eb",
   "metadata": {},
   "outputs": [],
   "source": [
    "# define constants and other parameters\n",
    "K = 1e-7 # erodibility\n",
    "beta = 0.0005 # abradability\n",
    "r = 5. # runoff rate\n",
    "U = 0.0001 # uplift or baselevel fall rate\n",
    "I = 0.01 # intermittency\n",
    "phi = 0.1 # porosity\n",
    "D = 0.01 # grain size\n",
    "gamma = 0.5 # fraction plucked that becomes coarse\n",
    "theta = 0.5 # fraction hillslope that enters as coarse\n",
    "# treat as same!!! Point is what fraction becomes coarse\n",
    "# so just be sure to change these together\n",
    "\n",
    "kqs = 0.041 # sed transport coeff\n",
    "kxb = 25 # valley width coeff\n",
    "Pxb = 1./5. # valley width exp\n",
    "kb = 8.3e-8 # channel width coeff\n",
    "\n",
    "B_valley = kxb * (x_node**Pxb) # valley width\n",
    "# Q = (r * kxb * x_node**(1 + Pxb))/(1 + Pxb) # discharge\n",
    "A = (1./3.) * (x**2)\n",
    "Q = r * A"
   ]
  },
  {
   "cell_type": "code",
   "execution_count": 5,
   "id": "98308cda",
   "metadata": {},
   "outputs": [],
   "source": [
    "def model(x, dx, x_node,\n",
    "          K, beta, gamma, theta,\n",
    "          D, phi, Hstar,\n",
    "          kb, kqs, I, r, U,\n",
    "          etab, H, eta,\n",
    "          B_valley, Q,\n",
    "          num_steps = 1):\n",
    "    \n",
    "    q = Q/B_valley\n",
    "    dt = 50\n",
    "    \n",
    "    run_duration = dt * num_steps\n",
    "    cum_time = 0.0\n",
    "    \n",
    "    Qs = np.zeros(len(x))\n",
    "    qs = np.zeros(len(x))\n",
    "    Eb_p = np.zeros(len(x))\n",
    "    Eb_a = np.zeros(len(x))\n",
    "    Eb = np.zeros(len(x))\n",
    "    Eh = np.zeros(len(x))\n",
    "    E = np.zeros(len(x))\n",
    "    ql = np.zeros(len(x)) # lateral sediment supply\n",
    "    \n",
    "    H[-1] = 0\n",
    "    E[-1] = U\n",
    "    q[0] = 0\n",
    "    Qs[0] = 0\n",
    "    \n",
    "    while cum_time < run_duration:\n",
    "        \n",
    "        # drop baselevel\n",
    "        eta[-1] -= U * dt\n",
    "        \n",
    "        # set boundary conditions\n",
    "        etab[-1] = eta[-1]\n",
    "        \n",
    "        # calc slope\n",
    "        S = -np.diff(eta)/dx\n",
    "        \n",
    "        # calc bed exposure\n",
    "        alpha = np.exp(-H/Hstar)\n",
    "        \n",
    "        # calc sed transport\n",
    "        Qs[1:] = kqs * I * Q[1:] * S**(7./6.) * (1 - alpha[:-1])\n",
    "        qs[1:] = Qs[1:] / B_valley[1:]\n",
    "        \n",
    "        # calc bedrock erosion\n",
    "        Eb_p[:-1] = K * Q[1:] * S**(7./6.) * alpha[:-1] * gamma\n",
    "        Eb_a[:-1] = beta * Qs[1:] * alpha[:-1]\n",
    "        Eb[:-1] = (Eb_p[:-1] + Eb_a[:-1]) / B_valley[:-1]\n",
    "        \n",
    "        # calc lateral flux\n",
    "        ql[:-1] = ((Eb[:-1] * theta)/beta) * (1 - np.exp(-beta * x[1:]/3))\n",
    "        \n",
    "        # calc grain attrition\n",
    "        atr = Qs * beta\n",
    "        \n",
    "        # calc sediment erosion rate\n",
    "        Eh[:-1] = 1/((1 - phi) * B_valley[:-1]) * (np.diff(Qs)/dx + atr[1:] - Eb_p[:-1] - ql[:-1])\n",
    "        \n",
    "        # calc total erosion rate\n",
    "        E[:-1] = Eb[:-1] + Eh[:-1]\n",
    "        \n",
    "        # update topography\n",
    "        etab[:-1] -= Eb[:-1] * dt\n",
    "        H[:-1] -= Eh[:-1] * dt\n",
    "        H[H<0] = 0\n",
    "        eta[:-1] = etab[:-1] + H[:-1]\n",
    "        \n",
    "        # update elapsed time\n",
    "        cum_time += dt\n",
    "        \n",
    "    print(cum_time)\n",
    "        \n",
    "    return (dt, S, q, alpha, Qs, qs, Eb_p, Eb_a, Eb, ql, atr, Eh, E, etab, H, eta)"
   ]
  },
  {
   "cell_type": "code",
   "execution_count": 6,
   "id": "b9c1fdab",
   "metadata": {},
   "outputs": [
    {
     "name": "stdout",
     "output_type": "stream",
     "text": [
      "40000000.0\n"
     ]
    }
   ],
   "source": [
    "#now write a test\n",
    "num_steps = 800000\n",
    "\n",
    "test_run = [x, dx, x_node, \n",
    "            K, beta, gamma, theta,\n",
    "            D, phi, Hstar,\n",
    "            kb, kqs, I, r, U,\n",
    "            etab, H, eta,\n",
    "            B_valley, Q,\n",
    "            num_steps]\n",
    "\n",
    "# and run it\n",
    "(dt, S, q, alpha, Qs, qs, Eb_p, Eb_a, Eb, ql, atr, Eh, E, etab, H, eta) = model(*test_run)"
   ]
  },
  {
   "cell_type": "code",
   "execution_count": 7,
   "id": "f33db4cf",
   "metadata": {},
   "outputs": [
    {
     "data": {
      "text/plain": [
       "array([1.e-04, 1.e-04, 1.e-04, 1.e-04, 1.e-04, 1.e-04, 1.e-04, 1.e-04,\n",
       "       1.e-04, 1.e-04, 1.e-04, 1.e-04, 1.e-04, 1.e-04, 1.e-04, 1.e-04,\n",
       "       1.e-04, 1.e-04, 1.e-04, 1.e-04, 1.e-04, 1.e-04, 1.e-04, 1.e-04,\n",
       "       1.e-04, 1.e-04, 1.e-04, 1.e-04, 1.e-04, 1.e-04, 1.e-04, 1.e-04,\n",
       "       1.e-04, 1.e-04, 1.e-04, 1.e-04, 1.e-04, 1.e-04, 1.e-04, 1.e-04,\n",
       "       1.e-04, 1.e-04, 1.e-04, 1.e-04, 1.e-04, 1.e-04, 1.e-04, 1.e-04,\n",
       "       1.e-04, 1.e-04, 1.e-04, 1.e-04, 1.e-04, 1.e-04, 1.e-04, 1.e-04,\n",
       "       1.e-04, 1.e-04, 1.e-04, 1.e-04, 1.e-04, 1.e-04, 1.e-04, 1.e-04,\n",
       "       1.e-04, 1.e-04, 1.e-04, 1.e-04, 1.e-04, 1.e-04, 1.e-04, 1.e-04,\n",
       "       1.e-04, 1.e-04, 1.e-04, 1.e-04, 1.e-04, 1.e-04, 1.e-04, 1.e-04,\n",
       "       1.e-04, 1.e-04, 1.e-04, 1.e-04, 1.e-04, 1.e-04, 1.e-04, 1.e-04,\n",
       "       1.e-04, 1.e-04, 1.e-04, 1.e-04, 1.e-04, 1.e-04, 1.e-04, 1.e-04,\n",
       "       1.e-04, 1.e-04, 1.e-04, 0.e+00])"
      ]
     },
     "execution_count": 7,
     "metadata": {},
     "output_type": "execute_result"
    }
   ],
   "source": [
    "Eb"
   ]
  },
  {
   "cell_type": "code",
   "execution_count": 8,
   "id": "ad181e1d",
   "metadata": {},
   "outputs": [
    {
     "data": {
      "text/plain": [
       "[<matplotlib.lines.Line2D at 0x7f880c37c510>]"
      ]
     },
     "execution_count": 8,
     "metadata": {},
     "output_type": "execute_result"
    },
    {
     "data": {
      "image/png": "[encoded data removed]",
      "text/plain": [
       "<Figure size 432x288 with 1 Axes>"
      ]
     },
     "metadata": {
      "needs_background": "light"
     },
     "output_type": "display_data"
    }
   ],
   "source": [
    "plt.plot(S)"
   ]
  },
  {
   "cell_type": "code",
   "execution_count": 9,
   "id": "5f032975",
   "metadata": {},
   "outputs": [
    {
     "data": {
      "text/plain": [
       "[<matplotlib.lines.Line2D at 0x7f880c5af490>]"
      ]
     },
     "execution_count": 9,
     "metadata": {},
     "output_type": "execute_result"
    },
    {
     "data": {
      "image/png": "[encoded data removed]",
      "text/plain": [
       "<Figure size 432x288 with 1 Axes>"
      ]
     },
     "metadata": {
      "needs_background": "light"
     },
     "output_type": "display_data"
    }
   ],
   "source": [
    "plt.plot(eta)"
   ]
  },
  {
   "cell_type": "code",
   "execution_count": 10,
   "id": "17318f12",
   "metadata": {},
   "outputs": [
    {
     "data": {
      "text/plain": [
       "0.0005249664670491257"
      ]
     },
     "execution_count": 10,
     "metadata": {},
     "output_type": "execute_result"
    }
   ],
   "source": [
    "S[-1]"
   ]
  },
  {
   "cell_type": "code",
   "execution_count": 11,
   "id": "b1005f1a",
   "metadata": {},
   "outputs": [
    {
     "data": {
      "text/plain": [
       "array([-3560.41335429, -3728.46804769, -3782.62858634, -3810.8768475 ,\n",
       "       -3829.66361754, -3843.86223548, -3855.37761273, -3865.1163494 ,\n",
       "       -3873.57550215, -3881.05746058, -3887.7612169 , -3893.8259067 ,\n",
       "       -3899.3535554 , -3904.42185931, -3909.09180971, -3913.4124744 ,\n",
       "       -3917.4241272 , -3921.16037292, -3924.64963732, -3927.91624153,\n",
       "       -3930.98119632, -3933.86280223, -3936.57711194, -3939.13829261,\n",
       "       -3941.55891432, -3943.85018269, -3946.02212888, -3948.08376634,\n",
       "       -3950.0432215 , -3951.90784353, -3953.68429738, -3955.37864308,\n",
       "       -3956.99640375, -3958.54262439, -3960.02192277, -3961.4385338 ,\n",
       "       -3962.79634839, -3964.09894754, -3965.34963243, -3966.55145095,\n",
       "       -3967.70722137, -3968.81955328, -3969.89086628, -3970.92340679,\n",
       "       -3971.91926299, -3972.88037832, -3973.80856356, -3974.70550785,\n",
       "       -3975.57278848, -3976.41187988, -3977.22416169, -3978.01092617,\n",
       "       -3978.77338481, -3979.51267453, -3980.22986311, -3980.9259544 ,\n",
       "       -3981.60189283, -3982.25856776, -3982.89681732, -3983.517432  ,\n",
       "       -3984.12115791, -3984.70869985, -3985.28072403, -3985.83786068,\n",
       "       -3986.3807064 , -3986.9098263 , -3987.42575611, -3987.92900395,\n",
       "       -3988.42005211, -3988.89935867, -3989.36735892, -3989.82446682,\n",
       "       -3990.27107622, -3990.70756208, -3991.13428157, -3991.55157512,\n",
       "       -3991.95976736, -3992.35916805, -3992.75007288, -3993.13276428,\n",
       "       -3993.50751214, -3993.87457451, -3994.23419822, -3994.5866195 ,\n",
       "       -3994.93206452, -3995.27074994, -3995.6028834 , -3995.92866397,\n",
       "       -3996.2482826 , -3996.56192253, -3996.86975967, -3997.17196297,\n",
       "       -3997.46869475, -3997.76011104, -3998.04636187, -3998.32759155,\n",
       "       -3998.60393897, -3998.87553781, -3999.14251683, -3999.40000006])"
      ]
     },
     "execution_count": 11,
     "metadata": {},
     "output_type": "execute_result"
    }
   ],
   "source": [
    "eta"
   ]
  },
  {
   "cell_type": "code",
   "execution_count": 12,
   "id": "0194623a",
   "metadata": {},
   "outputs": [],
   "source": [
    "eta_adj = eta - eta[-1]"
   ]
  },
  {
   "cell_type": "code",
   "execution_count": 13,
   "id": "81848333",
   "metadata": {},
   "outputs": [
    {
     "data": {
      "text/plain": [
       "array([4.38986646e+02, 2.70931952e+02, 2.16771414e+02, 1.88523153e+02,\n",
       "       1.69736383e+02, 1.55537765e+02, 1.44022387e+02, 1.34283651e+02,\n",
       "       1.25824498e+02, 1.18342539e+02, 1.11638783e+02, 1.05574093e+02,\n",
       "       1.00046445e+02, 9.49781408e+01, 9.03081904e+01, 8.59875257e+01,\n",
       "       8.19758729e+01, 7.82396271e+01, 7.47503627e+01, 7.14837585e+01,\n",
       "       6.84188037e+01, 6.55371978e+01, 6.28228881e+01, 6.02617075e+01,\n",
       "       5.78410857e+01, 5.55498174e+01, 5.33778712e+01, 5.13162337e+01,\n",
       "       4.93567786e+01, 4.74921565e+01, 4.57157027e+01, 4.40213570e+01,\n",
       "       4.24035963e+01, 4.08573757e+01, 3.93780773e+01, 3.79614663e+01,\n",
       "       3.66036517e+01, 3.53010525e+01, 3.40503676e+01, 3.28485491e+01,\n",
       "       3.16927787e+01, 3.05804468e+01, 2.95091338e+01, 2.84765933e+01,\n",
       "       2.74807371e+01, 2.65196217e+01, 2.55914365e+01, 2.46944922e+01,\n",
       "       2.38272116e+01, 2.29881202e+01, 2.21758384e+01, 2.13890739e+01,\n",
       "       2.06266152e+01, 1.98873255e+01, 1.91701369e+01, 1.84740457e+01,\n",
       "       1.77981072e+01, 1.71414323e+01, 1.65031827e+01, 1.58825681e+01,\n",
       "       1.52788422e+01, 1.46913002e+01, 1.41192760e+01, 1.35621394e+01,\n",
       "       1.30192937e+01, 1.24901738e+01, 1.19742440e+01, 1.14709961e+01,\n",
       "       1.09799480e+01, 1.05006414e+01, 1.00326411e+01, 9.57553324e+00,\n",
       "       9.12892384e+00, 8.69243799e+00, 8.26571850e+00, 7.84842495e+00,\n",
       "       7.44023270e+00, 7.04083201e+00, 6.64992718e+00, 6.26723578e+00,\n",
       "       5.89248792e+00, 5.52542555e+00, 5.16580184e+00, 4.81338056e+00,\n",
       "       4.46793554e+00, 4.12925012e+00, 3.79711666e+00, 3.47133609e+00,\n",
       "       3.15171746e+00, 2.83807753e+00, 2.53024039e+00, 2.22803709e+00,\n",
       "       1.93130531e+00, 1.63988902e+00, 1.35363819e+00, 1.07240851e+00,\n",
       "       7.96061098e-01, 5.24462255e-01, 2.57483234e-01, 0.00000000e+00])"
      ]
     },
     "execution_count": 13,
     "metadata": {},
     "output_type": "execute_result"
    }
   ],
   "source": [
    "eta_adj"
   ]
  },
  {
   "cell_type": "code",
   "execution_count": 14,
   "id": "37ed1e99",
   "metadata": {},
   "outputs": [
    {
     "data": {
      "text/plain": [
       "array([0.00799556, 0.01535183, 0.02211992, 0.02834687, 0.03407594,\n",
       "       0.03934693, 0.04419649, 0.04865829, 0.05276334, 0.05654018,\n",
       "       0.06001503, 0.06321206, 0.06615346, 0.06885968, 0.07134952,\n",
       "       0.07364029, 0.07574789, 0.07768698, 0.07947103, 0.08111244,\n",
       "       0.08262261, 0.08401203, 0.08529035, 0.08646647, 0.08754855,\n",
       "       0.08854412, 0.08946008, 0.0903028 , 0.09107815, 0.0917915 ,\n",
       "       0.09244782, 0.09305165, 0.09360721, 0.09411835, 0.09458862,\n",
       "       0.09502129, 0.09541937, 0.09578562, 0.09612258, 0.0964326 ,\n",
       "       0.09671783, 0.09698026, 0.09722171, 0.09744385, 0.09764823,\n",
       "       0.09783626, 0.09800927, 0.09816844, 0.09831488, 0.09844961,\n",
       "       0.09857358, 0.09868763, 0.09879256, 0.0988891 , 0.09897792,\n",
       "       0.09905964, 0.09913483, 0.09920401, 0.09926765, 0.09932621,\n",
       "       0.09938008, 0.09942965, 0.09947525, 0.09951721, 0.09955581,\n",
       "       0.09959132, 0.099624  , 0.09965406, 0.09968172, 0.09970717,\n",
       "       0.09973058, 0.09975212, 0.09977194, 0.09979018, 0.09980695,\n",
       "       0.09982239, 0.09983659, 0.09984966, 0.09986168, 0.09987274,\n",
       "       0.09988291, 0.09989227, 0.09990089, 0.09990881, 0.0999161 ,\n",
       "       0.09992281, 0.09992898, 0.09993466, 0.09993989, 0.09994469,\n",
       "       0.09994911, 0.09995318, 0.09995693, 0.09996037, 0.09996354,\n",
       "       0.09996645, 0.09996914, 0.0999716 , 0.09997387, 0.        ])"
      ]
     },
     "execution_count": 14,
     "metadata": {},
     "output_type": "execute_result"
    }
   ],
   "source": [
    "ql"
   ]
  },
  {
   "cell_type": "code",
   "execution_count": 15,
   "id": "3e5010ce",
   "metadata": {},
   "outputs": [
    {
     "data": {
      "text/plain": [
       "array([1.e-04, 1.e-04, 1.e-04, 1.e-04, 1.e-04, 1.e-04, 1.e-04, 1.e-04,\n",
       "       1.e-04, 1.e-04, 1.e-04, 1.e-04, 1.e-04, 1.e-04, 1.e-04, 1.e-04,\n",
       "       1.e-04, 1.e-04, 1.e-04, 1.e-04, 1.e-04, 1.e-04, 1.e-04, 1.e-04,\n",
       "       1.e-04, 1.e-04, 1.e-04, 1.e-04, 1.e-04, 1.e-04, 1.e-04, 1.e-04,\n",
       "       1.e-04, 1.e-04, 1.e-04, 1.e-04, 1.e-04, 1.e-04, 1.e-04, 1.e-04,\n",
       "       1.e-04, 1.e-04, 1.e-04, 1.e-04, 1.e-04, 1.e-04, 1.e-04, 1.e-04,\n",
       "       1.e-04, 1.e-04, 1.e-04, 1.e-04, 1.e-04, 1.e-04, 1.e-04, 1.e-04,\n",
       "       1.e-04, 1.e-04, 1.e-04, 1.e-04, 1.e-04, 1.e-04, 1.e-04, 1.e-04,\n",
       "       1.e-04, 1.e-04, 1.e-04, 1.e-04, 1.e-04, 1.e-04, 1.e-04, 1.e-04,\n",
       "       1.e-04, 1.e-04, 1.e-04, 1.e-04, 1.e-04, 1.e-04, 1.e-04, 1.e-04,\n",
       "       1.e-04, 1.e-04, 1.e-04, 1.e-04, 1.e-04, 1.e-04, 1.e-04, 1.e-04,\n",
       "       1.e-04, 1.e-04, 1.e-04, 1.e-04, 1.e-04, 1.e-04, 1.e-04, 1.e-04,\n",
       "       1.e-04, 1.e-04, 1.e-04, 0.e+00])"
      ]
     },
     "execution_count": 15,
     "metadata": {},
     "output_type": "execute_result"
    }
   ],
   "source": [
    "Eb"
   ]
  },
  {
   "cell_type": "code",
   "execution_count": 16,
   "id": "587364ca",
   "metadata": {},
   "outputs": [
    {
     "data": {
      "text/plain": [
       "array([0.000106  , 0.00016338, 0.00021255, 0.00025466, 0.00029112,\n",
       "       0.00032293, 0.00035081, 0.00037533, 0.00039693, 0.00041599,\n",
       "       0.0004328 , 0.00044764, 0.00046072, 0.00047224, 0.00048237,\n",
       "       0.00049126, 0.00049905, 0.00050583, 0.00051173, 0.00051683,\n",
       "       0.00052121, 0.00052495, 0.00052812, 0.00053076, 0.00053294,\n",
       "       0.00053471, 0.0005361 , 0.00053716, 0.00053791, 0.0005384 ,\n",
       "       0.00053865, 0.00053868, 0.00053852, 0.00053818, 0.0005377 ,\n",
       "       0.00053708, 0.00053634, 0.0005355 , 0.00053456, 0.00053354,\n",
       "       0.00053245, 0.0005313 , 0.00053009, 0.00052884, 0.00052754,\n",
       "       0.00052622, 0.00052486, 0.00052348, 0.00052208, 0.00052067,\n",
       "       0.00051924, 0.00051781, 0.00051637, 0.00051492, 0.00051348,\n",
       "       0.00051204, 0.0005106 , 0.00050917, 0.00050774, 0.00050632,\n",
       "       0.00050491, 0.00050351, 0.00050212, 0.00050074, 0.00049937,\n",
       "       0.00049801, 0.00049667, 0.00049534, 0.00049402, 0.00049271,\n",
       "       0.00049142, 0.00049015, 0.00048889, 0.00048764, 0.0004864 ,\n",
       "       0.00048518, 0.00048398, 0.00048278, 0.0004816 , 0.00048044,\n",
       "       0.00047929, 0.00047815, 0.00047703, 0.00047592, 0.00047482,\n",
       "       0.00047374, 0.00047267, 0.00047161, 0.00047056, 0.00046953,\n",
       "       0.00046851, 0.0004675 , 0.0004665 , 0.00046551, 0.00046454,\n",
       "       0.00046357, 0.00046262, 0.00046168, 0.00046075, 0.        ])"
      ]
     },
     "execution_count": 16,
     "metadata": {},
     "output_type": "execute_result"
    }
   ],
   "source": [
    "ql/B_valley"
   ]
  },
  {
   "cell_type": "code",
   "execution_count": 17,
   "id": "74588e8e",
   "metadata": {},
   "outputs": [],
   "source": [
    "# save csv files\n",
    "\n",
    "np.savetxt('elevation csv files/eta_default.csv', eta_adj, delimiter = ',')\n",
    "np.savetxt('alpha csv files/alpha_default.csv', alpha, delimiter = ',')"
   ]
  },
  {
   "cell_type": "code",
   "execution_count": null,
   "id": "c9974e86",
   "metadata": {},
   "outputs": [],
   "source": []
  }
 ],
 "metadata": {
  "kernelspec": {
   "display_name": "Python 3",
   "language": "python",
   "name": "python3"
  },
  "language_info": {
   "codemirror_mode": {
    "name": "ipython",
    "version": 3
   },
   "file_extension": ".py",
   "mimetype": "text/x-python",
   "name": "python",
   "nbconvert_exporter": "python",
   "pygments_lexer": "ipython3",
   "version": "3.7.6"
  }
 },
 "nbformat": 4,
 "nbformat_minor": 5
}
