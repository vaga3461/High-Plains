{
 "cells": [
  {
   "cell_type": "code",
   "execution_count": 1,
   "id": "8fc20d48",
   "metadata": {},
   "outputs": [],
   "source": [
    "# this model includes ql\n",
    "# it uses instantaneous bedrock erosion rate to calc ql\n",
    "# it uses gamma to represent fraction of plucked material that becomes coarse gravel\n",
    "# it uses theta to represent fraction of hillslope material that enters fluvial system as coarse \n",
    "## (maybe this should be same as gamma, \n",
    "## since the real fxn of this parameter is to tell us \n",
    "## how much coarse stuff is available for bedload transport/abrasion)\n",
    "\n",
    "# potential updates: see if adding weighted average back in to ql calculation still allows for stability\n",
    "## update on the update: this led to stability issues, and it's not worth the time now trying to debug, \n",
    "## so just stick with using instantaneous erosion rate. \n",
    "## Most interested in steady state profiles anyway, so this is fine."
   ]
  },
  {
   "cell_type": "code",
   "execution_count": 2,
   "id": "13f8fb7c",
   "metadata": {},
   "outputs": [],
   "source": [
    "import numpy as np\n",
    "import matplotlib.pyplot as plt"
   ]
  },
  {
   "cell_type": "code",
   "execution_count": 3,
   "id": "a6ba582e",
   "metadata": {},
   "outputs": [],
   "source": [
    "# create a profile\n",
    "dx = 500\n",
    "x = np.arange(0, 50000, dx)\n",
    "x_node = x + (dx/2)\n",
    "\n",
    "# add some elevation\n",
    "Hstar = 0.5 # depth decay\n",
    "etab = np.zeros(len(x)) # bedrock elevation\n",
    "etab[:] = np.linspace(1, 0.1, len(x)) # need to start with slight bedrock slope\n",
    "H = Hstar + np.zeros(len(x)) # alluvium thickness\n",
    "eta = etab + H # topography"
   ]
  },
  {
   "cell_type": "code",
   "execution_count": 4,
   "id": "09d177eb",
   "metadata": {},
   "outputs": [],
   "source": [
    "# define constants and other parameters\n",
    "K = 1e-7 # erodibility\n",
    "beta = 0.0005 # abradability\n",
    "r = 1. # runoff rate\n",
    "U = 0.0001 # uplift or baselevel fall rate\n",
    "I = 0.01 # intermittency\n",
    "phi = 0.1 # porosity\n",
    "D = 0.01 # grain size\n",
    "gamma = 0.5 # fraction plucked that becomes coarse\n",
    "theta = 0.5 # fraction hillslope that enters as coarse\n",
    "# treat as same!!! Point is what fraction becomes coarse\n",
    "# so just be sure to change these together\n",
    "\n",
    "kqs = 0.041 # sed transport coeff\n",
    "kxb = 25 # valley width coeff\n",
    "Pxb = 1./5. # valley width exp\n",
    "kb = 8.3e-8 # channel width coeff\n",
    "\n",
    "B_valley = kxb * (x_node**Pxb) # valley width\n",
    "# Q = (r * kxb * x_node**(1 + Pxb))/(1 + Pxb) # discharge\n",
    "A = (1./3.) * (x**2)\n",
    "Q = r * A"
   ]
  },
  {
   "cell_type": "code",
   "execution_count": 5,
   "id": "98308cda",
   "metadata": {},
   "outputs": [],
   "source": [
    "def model(x, dx, x_node,\n",
    "          K, beta, gamma, theta,\n",
    "          D, phi, Hstar,\n",
    "          kb, kqs, I, r, U,\n",
    "          etab, H, eta,\n",
    "          B_valley, Q,\n",
    "          num_steps = 1):\n",
    "    \n",
    "    q = Q/B_valley\n",
    "    dt = 50\n",
    "    \n",
    "    run_duration = dt * num_steps\n",
    "    cum_time = 0.0\n",
    "    \n",
    "    Qs = np.zeros(len(x))\n",
    "    qs = np.zeros(len(x))\n",
    "    Eb_p = np.zeros(len(x))\n",
    "    Eb_a = np.zeros(len(x))\n",
    "    Eb = np.zeros(len(x))\n",
    "    Eh = np.zeros(len(x))\n",
    "    E = np.zeros(len(x))\n",
    "    ql = np.zeros(len(x)) # lateral sediment supply\n",
    "    \n",
    "    H[-1] = 0\n",
    "    E[-1] = U\n",
    "    q[0] = 0\n",
    "    Qs[0] = 0\n",
    "    \n",
    "    while cum_time < run_duration:\n",
    "        \n",
    "        # drop baselevel\n",
    "        eta[-1] -= U * dt\n",
    "        \n",
    "        # set boundary conditions\n",
    "        etab[-1] = eta[-1]\n",
    "        \n",
    "        # calc slope\n",
    "        S = -np.diff(eta)/dx\n",
    "        \n",
    "        # calc bed exposure\n",
    "        alpha = np.exp(-H/Hstar)\n",
    "        \n",
    "        # calc sed transport\n",
    "        Qs[1:] = kqs * I * Q[1:] * S**(7./6.) * (1 - alpha[:-1])\n",
    "        qs[1:] = Qs[1:] / B_valley[1:]\n",
    "        \n",
    "        # calc bedrock erosion\n",
    "        Eb_p[:-1] = K * Q[1:] * S**(7./6.) * alpha[:-1] * gamma\n",
    "        Eb_a[:-1] = beta * Qs[1:] * alpha[:-1]\n",
    "        Eb[:-1] = (Eb_p[:-1] + Eb_a[:-1]) / B_valley[:-1]\n",
    "        \n",
    "        # calc lateral flux\n",
    "        ql[:-1] = ((Eb[:-1] * theta)/beta) * (1 - np.exp(-beta * x[1:]/3))\n",
    "        \n",
    "        # calc grain attrition\n",
    "        atr = Qs * beta\n",
    "        \n",
    "        # calc sediment erosion rate\n",
    "        Eh[:-1] = 1/((1 - phi) * B_valley[:-1]) * (np.diff(Qs)/dx + atr[1:] - Eb_p[:-1] - ql[:-1])\n",
    "        \n",
    "        # calc total erosion rate\n",
    "        E[:-1] = Eb[:-1] + Eh[:-1]\n",
    "        \n",
    "        # update topography\n",
    "        etab[:-1] -= Eb[:-1] * dt\n",
    "        H[:-1] -= Eh[:-1] * dt\n",
    "        H[H<0] = 0\n",
    "        eta[:-1] = etab[:-1] + H[:-1]\n",
    "        \n",
    "        # update elapsed time\n",
    "        cum_time += dt\n",
    "        \n",
    "    print(cum_time)\n",
    "        \n",
    "    return (dt, S, q, alpha, Qs, qs, Eb_p, Eb_a, Eb, ql, atr, Eh, E, etab, H, eta)"
   ]
  },
  {
   "cell_type": "code",
   "execution_count": 6,
   "id": "b9c1fdab",
   "metadata": {},
   "outputs": [
    {
     "name": "stdout",
     "output_type": "stream",
     "text": [
      "250000000.0\n"
     ]
    }
   ],
   "source": [
    "#now write a test\n",
    "num_steps = 5000000\n",
    "\n",
    "test_run = [x, dx, x_node, \n",
    "            K, beta, gamma, theta,\n",
    "            D, phi, Hstar,\n",
    "            kb, kqs, I, r, U,\n",
    "            etab, H, eta,\n",
    "            B_valley, Q,\n",
    "            num_steps]\n",
    "\n",
    "# and run it\n",
    "(dt, S, q, alpha, Qs, qs, Eb_p, Eb_a, Eb, ql, atr, Eh, E, etab, H, eta) = model(*test_run)"
   ]
  },
  {
   "cell_type": "code",
   "execution_count": 7,
   "id": "f33db4cf",
   "metadata": {},
   "outputs": [
    {
     "data": {
      "text/plain": [
       "array([0.0001, 0.0001, 0.0001, 0.0001, 0.0001, 0.0001, 0.0001, 0.0001,\n",
       "       0.0001, 0.0001, 0.0001, 0.0001, 0.0001, 0.0001, 0.0001, 0.0001,\n",
       "       0.0001, 0.0001, 0.0001, 0.0001, 0.0001, 0.0001, 0.0001, 0.0001,\n",
       "       0.0001, 0.0001, 0.0001, 0.0001, 0.0001, 0.0001, 0.0001, 0.0001,\n",
       "       0.0001, 0.0001, 0.0001, 0.0001, 0.0001, 0.0001, 0.0001, 0.0001,\n",
       "       0.0001, 0.0001, 0.0001, 0.0001, 0.0001, 0.0001, 0.0001, 0.0001,\n",
       "       0.0001, 0.0001, 0.0001, 0.0001, 0.0001, 0.0001, 0.0001, 0.0001,\n",
       "       0.0001, 0.0001, 0.0001, 0.0001, 0.0001, 0.0001, 0.0001, 0.0001,\n",
       "       0.0001, 0.0001, 0.0001, 0.0001, 0.0001, 0.0001, 0.0001, 0.0001,\n",
       "       0.0001, 0.0001, 0.0001, 0.0001, 0.0001, 0.0001, 0.0001, 0.0001,\n",
       "       0.0001, 0.0001, 0.0001, 0.0001, 0.0001, 0.0001, 0.0001, 0.0001,\n",
       "       0.0001, 0.0001, 0.0001, 0.0001, 0.0001, 0.0001, 0.0001, 0.0001,\n",
       "       0.0001, 0.0001, 0.0001, 0.    ])"
      ]
     },
     "execution_count": 7,
     "metadata": {},
     "output_type": "execute_result"
    }
   ],
   "source": [
    "Eb"
   ]
  },
  {
   "cell_type": "code",
   "execution_count": 8,
   "id": "ad181e1d",
   "metadata": {},
   "outputs": [
    {
     "data": {
      "text/plain": [
       "[<matplotlib.lines.Line2D at 0x7fcc35c95e90>]"
      ]
     },
     "execution_count": 8,
     "metadata": {},
     "output_type": "execute_result"
    },
    {
     "data": {
      "image/png": "[encoded data removed]",
      "text/plain": [
       "<Figure size 432x288 with 1 Axes>"
      ]
     },
     "metadata": {
      "needs_background": "light"
     },
     "output_type": "display_data"
    }
   ],
   "source": [
    "plt.plot(S)"
   ]
  },
  {
   "cell_type": "code",
   "execution_count": 9,
   "id": "5f032975",
   "metadata": {},
   "outputs": [
    {
     "data": {
      "text/plain": [
       "[<matplotlib.lines.Line2D at 0x7fcc35e8c810>]"
      ]
     },
     "execution_count": 9,
     "metadata": {},
     "output_type": "execute_result"
    },
    {
     "data": {
      "image/png": "[encoded data removed]",
      "text/plain": [
       "<Figure size 432x288 with 1 Axes>"
      ]
     },
     "metadata": {
      "needs_background": "light"
     },
     "output_type": "display_data"
    }
   ],
   "source": [
    "plt.plot(eta)"
   ]
  },
  {
   "cell_type": "code",
   "execution_count": 10,
   "id": "17318f12",
   "metadata": {},
   "outputs": [
    {
     "data": {
      "text/plain": [
       "0.0020856849613774104"
      ]
     },
     "execution_count": 10,
     "metadata": {},
     "output_type": "execute_result"
    }
   ],
   "source": [
    "S[-1]"
   ]
  },
  {
   "cell_type": "code",
   "execution_count": 11,
   "id": "b1005f1a",
   "metadata": {},
   "outputs": [
    {
     "data": {
      "text/plain": [
       "array([-23255.29688847, -23922.97600461, -24138.15512185, -24250.38509689,\n",
       "       -24325.02469046, -24381.43561528, -24427.18605967, -24465.87793408,\n",
       "       -24499.48603818, -24529.21176196, -24555.84569883, -24579.94063268,\n",
       "       -24601.90190924, -24622.03821491, -24640.59186725, -24657.75781201,\n",
       "       -24673.69605653, -24688.5401123 , -24702.40291448, -24715.38109062,\n",
       "       -24727.55811623, -24739.00669912, -24749.79061636, -24759.96615393,\n",
       "       -24769.58325256, -24778.68643208, -24787.3155461 , -24795.50640499,\n",
       "       -24803.29129489, -24810.69941403, -24817.75724214, -24824.4888556 ,\n",
       "       -24830.91619776, -24837.05931231, -24842.93654555, -24848.56472279,\n",
       "       -24853.95930254, -24859.13451208, -24864.10346689, -24868.8782763 ,\n",
       "       -24873.47013719, -24877.8894174 , -24882.14573007, -24886.24800012,\n",
       "       -24890.20452389, -24894.02302259, -24897.71069053, -24901.27423855,\n",
       "       -24904.71993324, -24908.05363247, -24911.28081758, -24914.40662262,\n",
       "       -24917.43586094, -24920.37304937, -24923.22243032, -24925.98799196,\n",
       "       -24928.67348658, -24931.28244757, -24933.81820478, -24936.28389883,\n",
       "       -24938.68249405, -24941.01679054, -24943.2894352 , -24945.50293189,\n",
       "       -24947.65965086, -24949.76183739, -24951.81161981, -24953.81101694,\n",
       "       -24955.76194493, -24957.66622365, -24959.5255826 , -24961.34166635,\n",
       "       -24963.1160397 , -24964.85019234, -24966.54554334, -24968.2034452 ,\n",
       "       -24969.82518769, -24971.41200145, -24972.96506127, -24974.48548923,\n",
       "       -24975.97435762, -24977.43269165, -24978.86147199, -24980.26163715,\n",
       "       -24981.63408573, -24982.97967852, -24984.29924044, -24985.59356241,\n",
       "       -24986.86340308, -24988.10949046, -24989.33252343, -24990.53317321,\n",
       "       -24991.71208473, -24992.86987787, -24994.00714868, -24995.12447056,\n",
       "       -24996.22239525, -24997.30145393, -24998.36215812, -24999.4000006 ])"
      ]
     },
     "execution_count": 11,
     "metadata": {},
     "output_type": "execute_result"
    }
   ],
   "source": [
    "eta"
   ]
  },
  {
   "cell_type": "code",
   "execution_count": 12,
   "id": "b881373c",
   "metadata": {},
   "outputs": [],
   "source": [
    "eta_adj = eta - eta[-1]"
   ]
  },
  {
   "cell_type": "code",
   "execution_count": 13,
   "id": "96a0b74e",
   "metadata": {},
   "outputs": [
    {
     "data": {
      "text/plain": [
       "array([1.74410311e+03, 1.07642400e+03, 8.61244879e+02, 7.49014904e+02,\n",
       "       6.74375310e+02, 6.17964385e+02, 5.72213941e+02, 5.33522067e+02,\n",
       "       4.99913962e+02, 4.70188239e+02, 4.43554302e+02, 4.19459368e+02,\n",
       "       3.97498091e+02, 3.77361786e+02, 3.58808133e+02, 3.41642189e+02,\n",
       "       3.25703944e+02, 3.10859888e+02, 2.96997086e+02, 2.84018910e+02,\n",
       "       2.71841884e+02, 2.60393301e+02, 2.49609384e+02, 2.39433847e+02,\n",
       "       2.29816748e+02, 2.20713569e+02, 2.12084455e+02, 2.03893596e+02,\n",
       "       1.96108706e+02, 1.88700587e+02, 1.81642758e+02, 1.74911145e+02,\n",
       "       1.68483803e+02, 1.62340688e+02, 1.56463455e+02, 1.50835278e+02,\n",
       "       1.45440698e+02, 1.40265489e+02, 1.35296534e+02, 1.30521724e+02,\n",
       "       1.25929863e+02, 1.21510583e+02, 1.17254271e+02, 1.13152000e+02,\n",
       "       1.09195477e+02, 1.05376978e+02, 1.01689310e+02, 9.81257620e+01,\n",
       "       9.46800674e+01, 9.13463681e+01, 8.81191830e+01, 8.49933780e+01,\n",
       "       8.19641397e+01, 7.90269512e+01, 7.61775703e+01, 7.34120086e+01,\n",
       "       7.07265140e+01, 6.81175530e+01, 6.55817958e+01, 6.31161018e+01,\n",
       "       6.07175066e+01, 5.83832101e+01, 5.61105654e+01, 5.38970687e+01,\n",
       "       5.17403497e+01, 4.96381632e+01, 4.75883808e+01, 4.55889837e+01,\n",
       "       4.36380557e+01, 4.17337769e+01, 3.98744180e+01, 3.80583342e+01,\n",
       "       3.62839609e+01, 3.45498083e+01, 3.28544573e+01, 3.11965554e+01,\n",
       "       2.95748129e+01, 2.79879991e+01, 2.64349393e+01, 2.49145114e+01,\n",
       "       2.34256430e+01, 2.19673089e+01, 2.05385286e+01, 1.91383635e+01,\n",
       "       1.77659149e+01, 1.64203221e+01, 1.51007602e+01, 1.38064382e+01,\n",
       "       1.25365975e+01, 1.12905101e+01, 1.00674772e+01, 8.86682739e+00,\n",
       "       7.68791587e+00, 6.53012273e+00, 5.39285192e+00, 4.27553004e+00,\n",
       "       3.17760535e+00, 2.09854667e+00, 1.03784248e+00, 0.00000000e+00])"
      ]
     },
     "execution_count": 13,
     "metadata": {},
     "output_type": "execute_result"
    }
   ],
   "source": [
    "eta_adj"
   ]
  },
  {
   "cell_type": "code",
   "execution_count": null,
   "id": "f04b7bea",
   "metadata": {},
   "outputs": [],
   "source": []
  }
 ],
 "metadata": {
  "kernelspec": {
   "display_name": "Python 3",
   "language": "python",
   "name": "python3"
  },
  "language_info": {
   "codemirror_mode": {
    "name": "ipython",
    "version": 3
   },
   "file_extension": ".py",
   "mimetype": "text/x-python",
   "name": "python",
   "nbconvert_exporter": "python",
   "pygments_lexer": "ipython3",
   "version": "3.7.6"
  }
 },
 "nbformat": 4,
 "nbformat_minor": 5
}
