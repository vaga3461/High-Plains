{
 "cells": [
  {
   "cell_type": "code",
   "execution_count": 16,
   "id": "8fc20d48",
   "metadata": {},
   "outputs": [],
   "source": [
    "# this model includes ql\n",
    "# it uses instantaneous bedrock erosion rate to calc ql\n",
    "# it uses gamma to represent fraction of plucked material that becomes coarse gravel\n",
    "# it uses theta to represent fraction of hillslope material that enters fluvial system as coarse \n",
    "## (maybe this should be same as gamma, \n",
    "## since the real fxn of this parameter is to tell us \n",
    "## how much coarse stuff is available for bedload transport/abrasion)\n",
    "\n",
    "# potential updates: see if adding weighted average back in to ql calculation still allows for stability\n",
    "## update on the update: this led to stability issues, and it's not worth the time now trying to debug, \n",
    "## so just stick with using instantaneous erosion rate. \n",
    "## Most interested in steady state profiles anyway, so this is fine."
   ]
  },
  {
   "cell_type": "code",
   "execution_count": 17,
   "id": "13f8fb7c",
   "metadata": {},
   "outputs": [],
   "source": [
    "import numpy as np\n",
    "import matplotlib.pyplot as plt"
   ]
  },
  {
   "cell_type": "code",
   "execution_count": 18,
   "id": "a6ba582e",
   "metadata": {},
   "outputs": [],
   "source": [
    "# create a profile\n",
    "dx = 500\n",
    "x = np.arange(0, 50000, dx)\n",
    "x_node = x + (dx/2)\n",
    "\n",
    "# add some elevation\n",
    "Hstar = 0.5 # depth decay\n",
    "etab = np.zeros(len(x)) # bedrock elevation\n",
    "etab[:] = np.linspace(1, 0.1, len(x)) # need to start with slight bedrock slope\n",
    "H = Hstar + np.zeros(len(x)) # alluvium thickness\n",
    "eta = etab + H # topography"
   ]
  },
  {
   "cell_type": "code",
   "execution_count": 19,
   "id": "09d177eb",
   "metadata": {},
   "outputs": [],
   "source": [
    "# define constants and other parameters\n",
    "K = 1e-7 # erodibility\n",
    "beta = 0.0005 # abradability\n",
    "r = 5. # runoff rate\n",
    "U = 0.0001 # uplift or baselevel fall rate\n",
    "I = 0.01 # intermittency\n",
    "phi = 0.1 # porosity\n",
    "D = 0.01 # grain size\n",
    "gamma = 0.5 # fraction plucked that becomes coarse\n",
    "\n",
    "kqs = 0.041 # sed transport coeff\n",
    "kxb = 25 # valley width coeff\n",
    "Pxb = 1./5. # valley width exp\n",
    "kb = 8.3e-8 # channel width coeff\n",
    "\n",
    "B_valley = kxb * (x_node**Pxb) # valley width\n",
    "# Q = (r * kxb * x_node**(1 + Pxb))/(1 + Pxb) # discharge\n",
    "A = (1./3.) * (x**2)\n",
    "Q = r * A"
   ]
  },
  {
   "cell_type": "code",
   "execution_count": 20,
   "id": "98308cda",
   "metadata": {},
   "outputs": [],
   "source": [
    "def model(x, dx, x_node,\n",
    "          K, beta, gamma,\n",
    "          D, phi, Hstar,\n",
    "          kb, kqs, I, r, U,\n",
    "          etab, H, eta,\n",
    "          B_valley, Q,\n",
    "          num_steps = 1):\n",
    "    \n",
    "    q = Q/B_valley\n",
    "    dt = 50\n",
    "    \n",
    "    run_duration = dt * num_steps\n",
    "    cum_time = 0.0\n",
    "    \n",
    "    Qs = np.zeros(len(x))\n",
    "    qs = np.zeros(len(x))\n",
    "    Eb_p = np.zeros(len(x))\n",
    "    Eb_a = np.zeros(len(x))\n",
    "    Eb = np.zeros(len(x))\n",
    "    Eh = np.zeros(len(x))\n",
    "    E = np.zeros(len(x))\n",
    "    ql = np.zeros(len(x)) # lateral sediment supply\n",
    "    \n",
    "    H[-1] = 0\n",
    "    E[-1] = U\n",
    "    q[0] = 0\n",
    "    Qs[0] = 0\n",
    "    \n",
    "    while cum_time < run_duration:\n",
    "        \n",
    "        # drop baselevel\n",
    "        eta[-1] -= U * dt\n",
    "        \n",
    "        # set boundary conditions\n",
    "        etab[-1] = eta[-1]\n",
    "        \n",
    "        # calc slope\n",
    "        S = -np.diff(eta)/dx\n",
    "        \n",
    "        # calc bed exposure\n",
    "        alpha = np.exp(-H/Hstar)\n",
    "        \n",
    "        # calc sed transport\n",
    "        Qs[1:] = kqs * I * Q[1:] * S**(7./6.) * (1 - alpha[:-1])\n",
    "        qs[1:] = Qs[1:] / B_valley[1:]\n",
    "        \n",
    "        # calc bedrock erosion\n",
    "        Eb_p[:-1] = K * Q[1:] * S**(7./6.) * alpha[:-1] * I\n",
    "        Eb_a[:-1] = beta * Qs[1:] * alpha[:-1]\n",
    "        Eb[:-1] = (Eb_p[:-1] + Eb_a[:-1]) / B_valley[:-1]\n",
    "        \n",
    "        # calc lateral flux\n",
    "        ql[:-1] = ((Eb[:-1] * gamma)/beta) * (1 - np.exp(-beta * x[1:]/3))\n",
    "        \n",
    "        # calc grain attrition\n",
    "        atr = Qs * beta\n",
    "        \n",
    "        # calc sediment erosion rate\n",
    "        Eh[:-1] = 1/((1 - phi) * B_valley[:-1]) * (np.diff(Qs)/dx + atr[1:] - (Eb_p[:-1]*gamma) - ql[:-1])\n",
    "        \n",
    "        # calc total erosion rate\n",
    "        E[:-1] = Eb[:-1] + Eh[:-1]\n",
    "        \n",
    "        # update topography\n",
    "        etab[:-1] -= Eb[:-1] * dt\n",
    "        H[:-1] -= Eh[:-1] * dt\n",
    "        H[H<0] = 0\n",
    "        eta[:-1] = etab[:-1] + H[:-1]\n",
    "        \n",
    "        # update elapsed time\n",
    "        cum_time += dt\n",
    "        \n",
    "    print(cum_time)\n",
    "        \n",
    "    return (dt, S, q, alpha, Qs, qs, Eb_p, Eb_a, Eb, ql, atr, Eh, E, etab, H, eta)"
   ]
  },
  {
   "cell_type": "code",
   "execution_count": 21,
   "id": "b9c1fdab",
   "metadata": {},
   "outputs": [
    {
     "name": "stdout",
     "output_type": "stream",
     "text": [
      "50000000000.0\n"
     ]
    }
   ],
   "source": [
    "#now write a test\n",
    "num_steps = 1000000000\n",
    "\n",
    "test_run = [x, dx, x_node, \n",
    "            K, beta, gamma,\n",
    "            D, phi, Hstar,\n",
    "            kb, kqs, I, r, U,\n",
    "            etab, H, eta,\n",
    "            B_valley, Q,\n",
    "            num_steps]\n",
    "\n",
    "# and run it\n",
    "(dt, S, q, alpha, Qs, qs, Eb_p, Eb_a, Eb, ql, atr, Eh, E, etab, H, eta) = model(*test_run)"
   ]
  },
  {
   "cell_type": "code",
   "execution_count": 22,
   "id": "f33db4cf",
   "metadata": {},
   "outputs": [
    {
     "data": {
      "text/plain": [
       "array([1.47702373e-04, 2.08602529e-05, 1.21026839e-04, 9.87384534e-05,\n",
       "       1.00039858e-04, 9.99993634e-05, 9.99999838e-05, 1.00000000e-04,\n",
       "       9.99999990e-05, 9.99999992e-05, 9.99999991e-05, 9.99999990e-05,\n",
       "       9.99999990e-05, 9.99999990e-05, 9.99999989e-05, 9.99999989e-05,\n",
       "       9.99999990e-05, 9.99999989e-05, 9.99999990e-05, 9.99999989e-05,\n",
       "       9.99999989e-05, 9.99999989e-05, 9.99999990e-05, 9.99999989e-05,\n",
       "       9.99999989e-05, 9.99999990e-05, 9.99999989e-05, 9.99999989e-05,\n",
       "       9.99999989e-05, 9.99999989e-05, 9.99999990e-05, 9.99999989e-05,\n",
       "       9.99999989e-05, 9.99999989e-05, 9.99999988e-05, 9.99999990e-05,\n",
       "       9.99999988e-05, 9.99999989e-05, 9.99999990e-05, 9.99999989e-05,\n",
       "       9.99999990e-05, 9.99999988e-05, 9.99999990e-05, 9.99999987e-05,\n",
       "       9.99999991e-05, 9.99999988e-05, 9.99999990e-05, 9.99999989e-05,\n",
       "       9.99999988e-05, 9.99999988e-05, 9.99999989e-05, 9.99999990e-05,\n",
       "       9.99999989e-05, 9.99999988e-05, 9.99999990e-05, 9.99999988e-05,\n",
       "       9.99999990e-05, 9.99999989e-05, 9.99999990e-05, 9.99999988e-05,\n",
       "       9.99999989e-05, 9.99999988e-05, 9.99999990e-05, 9.99999988e-05,\n",
       "       9.99999990e-05, 9.99999989e-05, 9.99999989e-05, 9.99999990e-05,\n",
       "       9.99999988e-05, 9.99999988e-05, 9.99999989e-05, 9.99999989e-05,\n",
       "       9.99999988e-05, 9.99999988e-05, 9.99999991e-05, 9.99999989e-05,\n",
       "       9.99999988e-05, 9.99999988e-05, 9.99999990e-05, 9.99999989e-05,\n",
       "       9.99999990e-05, 9.99999988e-05, 9.99999986e-05, 9.99999989e-05,\n",
       "       9.99999990e-05, 9.99999990e-05, 9.99999989e-05, 9.99999986e-05,\n",
       "       9.99999993e-05, 9.99999987e-05, 9.99999986e-05, 9.99999994e-05,\n",
       "       9.99999989e-05, 9.99999988e-05, 9.99999990e-05, 9.99999986e-05,\n",
       "       1.00000000e-04, 9.99999993e-05, 9.99999996e-05, 0.00000000e+00])"
      ]
     },
     "execution_count": 22,
     "metadata": {},
     "output_type": "execute_result"
    }
   ],
   "source": [
    "Eb"
   ]
  },
  {
   "cell_type": "code",
   "execution_count": 23,
   "id": "7658dc02",
   "metadata": {},
   "outputs": [
    {
     "data": {
      "text/plain": [
       "[<matplotlib.lines.Line2D at 0x7ff3da205b90>]"
      ]
     },
     "execution_count": 23,
     "metadata": {},
     "output_type": "execute_result"
    },
    {
     "data": {
      "image/png": "[encoded data removed]",
      "text/plain": [
       "<Figure size 432x288 with 1 Axes>"
      ]
     },
     "metadata": {
      "needs_background": "light"
     },
     "output_type": "display_data"
    }
   ],
   "source": [
    "plt.plot(1 - alpha)"
   ]
  },
  {
   "cell_type": "code",
   "execution_count": 24,
   "id": "ad181e1d",
   "metadata": {
    "scrolled": true
   },
   "outputs": [
    {
     "data": {
      "text/plain": [
       "[<matplotlib.lines.Line2D at 0x7ff3da2bb350>]"
      ]
     },
     "execution_count": 24,
     "metadata": {},
     "output_type": "execute_result"
    },
    {
     "data": {
      "image/png": "[encoded data removed]",
      "text/plain": [
       "<Figure size 432x288 with 1 Axes>"
      ]
     },
     "metadata": {
      "needs_background": "light"
     },
     "output_type": "display_data"
    }
   ],
   "source": [
    "plt.plot(S)"
   ]
  },
  {
   "cell_type": "code",
   "execution_count": 25,
   "id": "5f032975",
   "metadata": {},
   "outputs": [
    {
     "data": {
      "text/plain": [
       "[<matplotlib.lines.Line2D at 0x7ff3da425390>]"
      ]
     },
     "execution_count": 25,
     "metadata": {},
     "output_type": "execute_result"
    },
    {
     "data": {
      "image/png": "[encoded data removed]",
      "text/plain": [
       "<Figure size 432x288 with 1 Axes>"
      ]
     },
     "metadata": {
      "needs_background": "light"
     },
     "output_type": "display_data"
    }
   ],
   "source": [
    "plt.plot(eta)"
   ]
  },
  {
   "cell_type": "code",
   "execution_count": 26,
   "id": "17318f12",
   "metadata": {},
   "outputs": [
    {
     "data": {
      "text/plain": [
       "0.0005346567276865244"
      ]
     },
     "execution_count": 26,
     "metadata": {},
     "output_type": "execute_result"
    }
   ],
   "source": [
    "S[-1]"
   ]
  },
  {
   "cell_type": "code",
   "execution_count": 27,
   "id": "b1005f1a",
   "metadata": {},
   "outputs": [
    {
     "data": {
      "text/plain": [
       "array([-4995659.99313546, -4999093.44558541, -4999668.04780447,\n",
       "       -4999780.34441829, -4999814.98483519, -4999834.91559941,\n",
       "       -4999849.17936648, -4999860.4568094 , -4999869.86844636,\n",
       "       -4999877.98393047, -4999885.13281923, -4999891.52425255,\n",
       "       -4999897.30051491, -4999902.56376585, -4999907.39054091,\n",
       "       -4999911.84015957, -4999915.95987447, -4999919.78817346,\n",
       "       -4999923.35698234, -4999926.69318533, -4999929.81970664,\n",
       "       -4999932.75630028, -4999935.5201406 , -4999938.12627294,\n",
       "       -4999940.58796407, -4999942.91697906, -4999945.12380333,\n",
       "       -4999947.21782304, -4999949.20747327, -4999951.10036109,\n",
       "       -4999952.90336866, -4999954.62274031, -4999956.2641567 ,\n",
       "       -4999957.83279827, -4999959.33339997, -4999960.77029869,\n",
       "       -4999962.14747448, -4999963.46858669, -4999964.73700564,\n",
       "       -4999965.95584055, -4999967.12796423, -4999968.256035  ,\n",
       "       -4999969.34251615, -4999970.3896934 , -4999971.39969037,\n",
       "       -4999972.37448257, -4999973.31590993, -4999974.22568803,\n",
       "       -4999975.10541835, -4999975.95659741, -4999976.7806251 ,\n",
       "       -4999977.57881228, -4999978.35238759, -4999979.10250371,\n",
       "       -4999979.83024307, -4999980.53662298, -4999981.22260046,\n",
       "       -4999981.88907651, -4999982.5369001 , -4999983.16687184,\n",
       "       -4999983.7797473 , -4999984.3762401 , -4999984.95702472,\n",
       "       -4999985.52273915, -4999986.07398727, -4999986.61134106,\n",
       "       -4999987.13534268, -4999987.64650633, -4999988.14532006,\n",
       "       -4999988.63224734, -4999989.10772861, -4999989.57218269,\n",
       "       -4999990.026008  , -4999990.4695839 , -4999990.9032717 ,\n",
       "       -4999991.32741577, -4999991.74234449, -4999992.14837118,\n",
       "       -4999992.54579495, -4999992.93490147, -4999993.31596374,\n",
       "       -4999993.68924275, -4999994.05498819, -4999994.41343897,\n",
       "       -4999994.76482387, -4999995.10936204, -4999995.44726349,\n",
       "       -4999995.77872958, -4999996.10395345, -4999996.42312046,\n",
       "       -4999996.73640853, -4999997.04398856, -4999997.34602475,\n",
       "       -4999997.64267493, -4999997.93409086, -4999998.22041853,\n",
       "       -4999998.50179844, -4999998.77836584, -4999999.05025098,\n",
       "       -4999999.31257935])"
      ]
     },
     "execution_count": 27,
     "metadata": {},
     "output_type": "execute_result"
    }
   ],
   "source": [
    "eta"
   ]
  },
  {
   "cell_type": "code",
   "execution_count": 28,
   "id": "b881373c",
   "metadata": {},
   "outputs": [],
   "source": [
    "eta_adj = eta - eta[-1]"
   ]
  },
  {
   "cell_type": "code",
   "execution_count": 29,
   "id": "96a0b74e",
   "metadata": {},
   "outputs": [
    {
     "data": {
      "text/plain": [
       "array([4.33931944e+03, 9.05866994e+02, 3.31264775e+02, 2.18968161e+02,\n",
       "       1.84327744e+02, 1.64396980e+02, 1.50133213e+02, 1.38855770e+02,\n",
       "       1.29444133e+02, 1.21328649e+02, 1.14179760e+02, 1.07788327e+02,\n",
       "       1.02012064e+02, 9.67488135e+01, 9.19220384e+01, 8.74724198e+01,\n",
       "       8.33527049e+01, 7.95244059e+01, 7.59555970e+01, 7.26193940e+01,\n",
       "       6.94928727e+01, 6.65562791e+01, 6.37924387e+01, 6.11863064e+01,\n",
       "       5.87246153e+01, 5.63956003e+01, 5.41887760e+01, 5.20947563e+01,\n",
       "       5.01051061e+01, 4.82122183e+01, 4.64092107e+01, 4.46898390e+01,\n",
       "       4.30484226e+01, 4.14797811e+01, 3.99791794e+01, 3.85422807e+01,\n",
       "       3.71651049e+01, 3.58439927e+01, 3.45755737e+01, 3.33567388e+01,\n",
       "       3.21846151e+01, 3.10565444e+01, 2.99700632e+01, 2.89228859e+01,\n",
       "       2.79128890e+01, 2.69380968e+01, 2.59966694e+01, 2.50868913e+01,\n",
       "       2.42071610e+01, 2.33559819e+01, 2.25319542e+01, 2.17337671e+01,\n",
       "       2.09601918e+01, 2.02100756e+01, 1.94823363e+01, 1.87759564e+01,\n",
       "       1.80899789e+01, 1.74235028e+01, 1.67756792e+01, 1.61457075e+01,\n",
       "       1.55328320e+01, 1.49363393e+01, 1.43555546e+01, 1.37898402e+01,\n",
       "       1.32385921e+01, 1.27012383e+01, 1.21772367e+01, 1.16660730e+01,\n",
       "       1.11672593e+01, 1.06803320e+01, 1.02048507e+01, 9.74039666e+00,\n",
       "       9.28657134e+00, 8.84299545e+00, 8.40930765e+00, 7.98516358e+00,\n",
       "       7.57023486e+00, 7.16420817e+00, 6.76678440e+00, 6.37767788e+00,\n",
       "       5.99661561e+00, 5.62333659e+00, 5.25759116e+00, 4.89914038e+00,\n",
       "       4.54775547e+00, 4.20321731e+00, 3.86531586e+00, 3.53384977e+00,\n",
       "       3.20862589e+00, 2.88945889e+00, 2.57617082e+00, 2.26859079e+00,\n",
       "       1.96655460e+00, 1.66990442e+00, 1.37848849e+00, 1.09216082e+00,\n",
       "       8.10780904e-01, 5.34213505e-01, 2.62328363e-01, 0.00000000e+00])"
      ]
     },
     "execution_count": 29,
     "metadata": {},
     "output_type": "execute_result"
    }
   ],
   "source": [
    "eta_adj"
   ]
  },
  {
   "cell_type": "code",
   "execution_count": 31,
   "id": "f04b7bea",
   "metadata": {},
   "outputs": [],
   "source": [
    "# save csv files\n",
    "\n",
    "np.savetxt('elevation csv files/eta_exp_1.csv', eta_adj, delimiter = ',')\n",
    "np.savetxt('alpha csv files/alpha_exp_1.csv', alpha, delimiter = ',')\n",
    "np.savetxt('slope csv files/slope_exp_1.csv', S, delimiter = ',')"
   ]
  },
  {
   "cell_type": "code",
   "execution_count": null,
   "id": "0af99c60",
   "metadata": {},
   "outputs": [],
   "source": []
  }
 ],
 "metadata": {
  "kernelspec": {
   "display_name": "Python 3",
   "language": "python",
   "name": "python3"
  },
  "language_info": {
   "codemirror_mode": {
    "name": "ipython",
    "version": 3
   },
   "file_extension": ".py",
   "mimetype": "text/x-python",
   "name": "python",
   "nbconvert_exporter": "python",
   "pygments_lexer": "ipython3",
   "version": "3.7.6"
  }
 },
 "nbformat": 4,
 "nbformat_minor": 5
}
