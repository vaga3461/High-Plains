{
 "cells": [
  {
   "cell_type": "code",
   "execution_count": 1,
   "id": "8fc20d48",
   "metadata": {},
   "outputs": [],
   "source": [
    "# in this notebook, we are testing out some new math to make the model a bit more self-consistent and logical\n",
    "# and making sure it still runs to steady state in a reasonable time when those changes are made\n",
    "# see notes from 3/8/23 in red, gridded notebook for details on changes\n",
    "# and/or compare to \"default.ipynb\""
   ]
  },
  {
   "cell_type": "code",
   "execution_count": 2,
   "id": "13f8fb7c",
   "metadata": {},
   "outputs": [],
   "source": [
    "import numpy as np\n",
    "import matplotlib.pyplot as plt"
   ]
  },
  {
   "cell_type": "code",
   "execution_count": 3,
   "id": "a6ba582e",
   "metadata": {},
   "outputs": [],
   "source": [
    "# create a profile\n",
    "dx = 500\n",
    "x = np.arange(0, 50000, dx)\n",
    "x_node = x + (dx/2)\n",
    "\n",
    "# add some elevation\n",
    "Hstar = 0.5 # depth decay\n",
    "etab = np.zeros(len(x)) # bedrock elevation\n",
    "etab[:] = np.linspace(1, 0.1, len(x)) # need to start with slight bedrock slope\n",
    "H = Hstar + np.zeros(len(x)) # alluvium thickness\n",
    "eta = etab + H # topography"
   ]
  },
  {
   "cell_type": "code",
   "execution_count": 4,
   "id": "09d177eb",
   "metadata": {},
   "outputs": [],
   "source": [
    "# define constants and other parameters\n",
    "K = 1e-6 # erodibility\n",
    "beta = 0 # abradability\n",
    "r = 5. # runoff rate\n",
    "U = 0.0001 # uplift or baselevel fall rate\n",
    "I = 0.01 # intermittency\n",
    "phi = 0.1 # porosity\n",
    "D = 0.01 # grain size\n",
    "gamma = 0.5 # fraction plucked that becomes coarse\n",
    "\n",
    "kqs = 0.041 # sed transport coeff\n",
    "kxb = 25 # valley width coeff\n",
    "Pxb = 1./5. # valley width exp\n",
    "kb = 8.3e-8 # channel width coeff\n",
    "\n",
    "B_valley = kxb * (x_node**Pxb) # valley width\n",
    "# Q = (r * kxb * x_node**(1 + Pxb))/(1 + Pxb) # discharge\n",
    "A = (1./3.) * (x**2)\n",
    "Q = r * A"
   ]
  },
  {
   "cell_type": "code",
   "execution_count": 5,
   "id": "98308cda",
   "metadata": {},
   "outputs": [],
   "source": [
    "def model(x, dx, x_node,\n",
    "          K, beta, gamma,\n",
    "          D, phi, Hstar,\n",
    "          kb, kqs, I, r, U,\n",
    "          etab, H, eta,\n",
    "          B_valley, Q,\n",
    "          num_steps = 1):\n",
    "    \n",
    "    q = Q/B_valley\n",
    "    dt = 35\n",
    "    \n",
    "    run_duration = dt * num_steps\n",
    "    cum_time = 0.0\n",
    "    \n",
    "    Qs = np.zeros(len(x))\n",
    "    qs = np.zeros(len(x))\n",
    "    Eb_p = np.zeros(len(x))\n",
    "    Eb_a = np.zeros(len(x))\n",
    "    Eb = np.zeros(len(x))\n",
    "    Eh = np.zeros(len(x))\n",
    "    E = np.zeros(len(x))\n",
    "    ql = np.zeros(len(x)) # lateral sediment supply\n",
    "    \n",
    "    H[-1] = 0\n",
    "    E[-1] = U\n",
    "    q[0] = 0\n",
    "    Qs[0] = 0\n",
    "    \n",
    "    while cum_time < run_duration:\n",
    "        \n",
    "        # drop baselevel\n",
    "        eta[-1] -= U * dt\n",
    "        \n",
    "        # set boundary conditions\n",
    "        etab[-1] = eta[-1]\n",
    "        \n",
    "        # calc slope\n",
    "        S = -np.diff(eta)/dx\n",
    "        \n",
    "        # calc bed exposure\n",
    "        alpha = np.exp(-H/Hstar)\n",
    "        \n",
    "        # calc sed transport\n",
    "        Qs[1:] = kqs * I * Q[1:] * S**(7./6.) * (1 - alpha[:-1])\n",
    "        qs[1:] = Qs[1:] / B_valley[1:]\n",
    "        \n",
    "        # calc bedrock erosion\n",
    "        Eb_p[:-1] = K * Q[1:] * S**(7./6.) * alpha[:-1] * I\n",
    "        Eb_a[:-1] = beta * Qs[1:] * alpha[:-1]\n",
    "        Eb[:-1] = (Eb_p[:-1] + Eb_a[:-1]) / B_valley[:-1]\n",
    "        \n",
    "        # calc lateral flux\n",
    "        ql[:-1] = ((Eb[:-1] * gamma)) #/beta) * (1 - np.exp(-beta * x[1:]/3))\n",
    "        \n",
    "        # calc grain attrition\n",
    "        atr = Qs * beta\n",
    "        \n",
    "        # calc sediment erosion rate\n",
    "        Eh[:-1] = 1/((1 - phi) * B_valley[:-1]) * (np.diff(Qs)/dx + atr[1:] - (Eb_p[:-1]*gamma) - ql[:-1])\n",
    "        \n",
    "        # calc total erosion rate\n",
    "        E[:-1] = Eb[:-1] + Eh[:-1]\n",
    "        \n",
    "        # update topography\n",
    "        etab[:-1] -= Eb[:-1] * dt\n",
    "        H[:-1] -= Eh[:-1] * dt\n",
    "        H[H<0] = 0\n",
    "        eta[:-1] = etab[:-1] + H[:-1]\n",
    "        \n",
    "        # update elapsed time\n",
    "        cum_time += dt\n",
    "        \n",
    "    print(cum_time)\n",
    "        \n",
    "    return (dt, S, q, alpha, Qs, qs, Eb_p, Eb_a, Eb, ql, atr, Eh, E, etab, H, eta)"
   ]
  },
  {
   "cell_type": "code",
   "execution_count": 8,
   "id": "b9c1fdab",
   "metadata": {},
   "outputs": [
    {
     "name": "stdout",
     "output_type": "stream",
     "text": [
      "350000000.0\n"
     ]
    }
   ],
   "source": [
    "#now write a test\n",
    "num_steps = 10000000\n",
    "\n",
    "test_run = [x, dx, x_node, \n",
    "            K, beta, gamma,\n",
    "            D, phi, Hstar,\n",
    "            kb, kqs, I, r, U,\n",
    "            etab, H, eta,\n",
    "            B_valley, Q,\n",
    "            num_steps]\n",
    "\n",
    "# and run it\n",
    "(dt, S, q, alpha, Qs, qs, Eb_p, Eb_a, Eb, ql, atr, Eh, E, etab, H, eta) = model(*test_run)"
   ]
  },
  {
   "cell_type": "code",
   "execution_count": 9,
   "id": "f33db4cf",
   "metadata": {},
   "outputs": [
    {
     "data": {
      "text/plain": [
       "array([9.99999999e-05, 1.00000000e-04, 1.00000000e-04, 1.00000000e-04,\n",
       "       1.00000000e-04, 1.00000000e-04, 1.00000000e-04, 1.00000000e-04,\n",
       "       1.00000000e-04, 1.00000000e-04, 1.00000000e-04, 1.00000000e-04,\n",
       "       1.00000000e-04, 1.00000000e-04, 1.00000000e-04, 1.00000000e-04,\n",
       "       1.00000000e-04, 1.00000000e-04, 1.00000000e-04, 1.00000000e-04,\n",
       "       1.00000000e-04, 1.00000000e-04, 1.00000000e-04, 1.00000000e-04,\n",
       "       1.00000000e-04, 1.00000000e-04, 1.00000000e-04, 1.00000000e-04,\n",
       "       1.00000000e-04, 1.00000000e-04, 1.00000000e-04, 1.00000000e-04,\n",
       "       1.00000000e-04, 1.00000000e-04, 1.00000000e-04, 1.00000000e-04,\n",
       "       1.00000000e-04, 1.00000000e-04, 1.00000000e-04, 1.00000000e-04,\n",
       "       1.00000000e-04, 1.00000000e-04, 1.00000000e-04, 1.00000000e-04,\n",
       "       1.00000000e-04, 1.00000000e-04, 1.00000000e-04, 1.00000000e-04,\n",
       "       1.00000000e-04, 1.00000000e-04, 1.00000000e-04, 1.00000000e-04,\n",
       "       1.00000000e-04, 1.00000000e-04, 1.00000000e-04, 1.00000000e-04,\n",
       "       1.00000000e-04, 1.00000000e-04, 1.00000000e-04, 1.00000000e-04,\n",
       "       1.00000000e-04, 1.00000000e-04, 1.00000000e-04, 1.00000000e-04,\n",
       "       1.00000000e-04, 1.00000000e-04, 1.00000000e-04, 1.00000000e-04,\n",
       "       1.00000000e-04, 1.00000000e-04, 1.00000000e-04, 1.00000000e-04,\n",
       "       1.00000000e-04, 1.00000000e-04, 1.00000000e-04, 1.00000000e-04,\n",
       "       1.00000000e-04, 1.00000000e-04, 1.00000000e-04, 1.00000000e-04,\n",
       "       1.00000000e-04, 1.00000000e-04, 1.00000000e-04, 1.00000000e-04,\n",
       "       1.00000000e-04, 1.00000000e-04, 1.00000000e-04, 1.00000000e-04,\n",
       "       1.00000000e-04, 1.00000000e-04, 1.00000000e-04, 1.00000000e-04,\n",
       "       1.00000000e-04, 1.00000000e-04, 1.00000000e-04, 1.00000000e-04,\n",
       "       1.00000000e-04, 1.00000000e-04, 1.00000000e-04, 0.00000000e+00])"
      ]
     },
     "execution_count": 9,
     "metadata": {},
     "output_type": "execute_result"
    }
   ],
   "source": [
    "Eb"
   ]
  },
  {
   "cell_type": "code",
   "execution_count": 10,
   "id": "ad181e1d",
   "metadata": {},
   "outputs": [
    {
     "data": {
      "text/plain": [
       "[<matplotlib.lines.Line2D at 0x7f7f6846dfd0>]"
      ]
     },
     "execution_count": 10,
     "metadata": {},
     "output_type": "execute_result"
    },
    {
     "data": {
      "image/png": "[encoded data removed]",
      "text/plain": [
       "<Figure size 432x288 with 1 Axes>"
      ]
     },
     "metadata": {
      "needs_background": "light"
     },
     "output_type": "display_data"
    }
   ],
   "source": [
    "plt.plot(S)"
   ]
  },
  {
   "cell_type": "code",
   "execution_count": 11,
   "id": "5f032975",
   "metadata": {},
   "outputs": [
    {
     "data": {
      "text/plain": [
       "[<matplotlib.lines.Line2D at 0x7f7f686a6410>]"
      ]
     },
     "execution_count": 11,
     "metadata": {},
     "output_type": "execute_result"
    },
    {
     "data": {
      "image/png": "[encoded data removed]",
      "text/plain": [
       "<Figure size 432x288 with 1 Axes>"
      ]
     },
     "metadata": {
      "needs_background": "light"
     },
     "output_type": "display_data"
    }
   ],
   "source": [
    "plt.plot(eta)"
   ]
  },
  {
   "cell_type": "code",
   "execution_count": 12,
   "id": "17318f12",
   "metadata": {},
   "outputs": [
    {
     "data": {
      "text/plain": [
       "0.002216665684565669"
      ]
     },
     "execution_count": 12,
     "metadata": {},
     "output_type": "execute_result"
    }
   ],
   "source": [
    "S[-1]"
   ]
  },
  {
   "cell_type": "code",
   "execution_count": 11,
   "id": "b1005f1a",
   "metadata": {},
   "outputs": [
    {
     "data": {
      "text/plain": [
       "array([-16424.63967771, -17063.37758197, -17232.48150727, -17292.66528874,\n",
       "       -17320.86606908, -17338.64304955, -17351.85699822, -17362.53079836,\n",
       "       -17371.55984743, -17379.41587515, -17386.37950219, -17392.63305383,\n",
       "       -17398.30310469, -17403.48212242, -17408.24040909, -17412.63313354,\n",
       "       -17416.70470151, -17420.49159706, -17424.0243029 , -17427.32864236,\n",
       "       -17430.42674502, -17433.33775949, -17436.07839151, -17438.66331851,\n",
       "       -17441.10551443, -17443.41650842, -17445.60659363, -17447.68499783,\n",
       "       -17449.66002435, -17451.53916966, -17453.32922232, -17455.03634679,\n",
       "       -17456.66615509, -17458.22376831, -17459.71386974, -17461.14075104,\n",
       "       -17462.5083525 , -17463.82029828, -17465.07992745, -17466.29032138,\n",
       "       -17467.4543279 , -17468.57458292, -17469.65352952, -17470.6934351 ,\n",
       "       -17471.69640667, -17472.66440465, -17473.59925516, -17474.50266119,\n",
       "       -17475.37621263, -17476.22139538, -17477.03959954, -17477.83212693,\n",
       "       -17478.60019783, -17479.34495718, -17480.06748021, -17480.76877757,\n",
       "       -17481.44980005, -17482.11144283, -17482.75454949, -17483.37991553,\n",
       "       -17483.9882918 , -17484.58038743, -17485.15687275, -17485.7183818 ,\n",
       "       -17486.26551474, -17486.79884007, -17487.31889664, -17487.82619555,\n",
       "       -17488.32122189, -17488.80443635, -17489.27627674, -17489.73715933,\n",
       "       -17490.18748021, -17490.62761645, -17491.05792722, -17491.47875483,\n",
       "       -17491.89042574, -17492.29325138, -17492.68752911, -17493.07354289,\n",
       "       -17493.45156412, -17493.82185223, -17494.18465543, -17494.54021124,\n",
       "       -17494.88874705, -17495.23048073, -17495.56562104, -17495.89436814,\n",
       "       -17496.21691403, -17496.53344296, -17496.84413179, -17497.1491504 ,\n",
       "       -17497.44866202, -17497.74282351, -17498.03178575, -17498.31569384,\n",
       "       -17498.59468744, -17498.86890097, -17499.13846391, -17499.40000098])"
      ]
     },
     "execution_count": 11,
     "metadata": {},
     "output_type": "execute_result"
    }
   ],
   "source": [
    "eta"
   ]
  },
  {
   "cell_type": "code",
   "execution_count": 12,
   "id": "0194623a",
   "metadata": {},
   "outputs": [],
   "source": [
    "eta_adj = eta - eta[-1]"
   ]
  },
  {
   "cell_type": "code",
   "execution_count": 13,
   "id": "81848333",
   "metadata": {},
   "outputs": [
    {
     "data": {
      "text/plain": [
       "array([1.07476032e+03, 4.36022419e+02, 2.66918494e+02, 2.06734712e+02,\n",
       "       1.78533932e+02, 1.60756951e+02, 1.47543003e+02, 1.36869203e+02,\n",
       "       1.27840154e+02, 1.19984126e+02, 1.13020499e+02, 1.06766947e+02,\n",
       "       1.01096896e+02, 9.59178786e+01, 9.11595919e+01, 8.67668674e+01,\n",
       "       8.26952995e+01, 7.89084039e+01, 7.53756981e+01, 7.20713586e+01,\n",
       "       6.89732560e+01, 6.60622415e+01, 6.33216095e+01, 6.07366825e+01,\n",
       "       5.82944866e+01, 5.59834926e+01, 5.37934074e+01, 5.17150032e+01,\n",
       "       4.97399766e+01, 4.78608313e+01, 4.60707787e+01, 4.43636542e+01,\n",
       "       4.27338459e+01, 4.11762327e+01, 3.96861312e+01, 3.82592499e+01,\n",
       "       3.68916485e+01, 3.55797027e+01, 3.43200735e+01, 3.31096796e+01,\n",
       "       3.19456731e+01, 3.08254181e+01, 2.97464715e+01, 2.87065659e+01,\n",
       "       2.77035943e+01, 2.67355963e+01, 2.58007458e+01, 2.48973398e+01,\n",
       "       2.40237884e+01, 2.31786056e+01, 2.23604014e+01, 2.15678741e+01,\n",
       "       2.07998032e+01, 2.00550438e+01, 1.93325208e+01, 1.86312234e+01,\n",
       "       1.79502009e+01, 1.72885581e+01, 1.66454515e+01, 1.60200854e+01,\n",
       "       1.54117092e+01, 1.48196136e+01, 1.42431282e+01, 1.36816192e+01,\n",
       "       1.31344862e+01, 1.26011609e+01, 1.20811043e+01, 1.15738054e+01,\n",
       "       1.10787791e+01, 1.05955646e+01, 1.01237242e+01, 9.66284165e+00,\n",
       "       9.21252077e+00, 8.77238453e+00, 8.34207376e+00, 7.92124615e+00,\n",
       "       7.50957525e+00, 7.10674960e+00, 6.71247187e+00, 6.32645809e+00,\n",
       "       5.94843687e+00, 5.57814875e+00, 5.21534555e+00, 4.85978975e+00,\n",
       "       4.51125393e+00, 4.16952025e+00, 3.83437994e+00, 3.50563284e+00,\n",
       "       3.18308695e+00, 2.86655803e+00, 2.55586920e+00, 2.25085058e+00,\n",
       "       1.95133897e+00, 1.65717747e+00, 1.36821523e+00, 1.08430714e+00,\n",
       "       8.05313546e-01, 5.31100011e-01, 2.61537071e-01, 0.00000000e+00])"
      ]
     },
     "execution_count": 13,
     "metadata": {},
     "output_type": "execute_result"
    }
   ],
   "source": [
    "eta_adj"
   ]
  },
  {
   "cell_type": "code",
   "execution_count": 14,
   "id": "37ed1e99",
   "metadata": {},
   "outputs": [
    {
     "data": {
      "text/plain": [
       "array([0.00799556, 0.01535183, 0.02211992, 0.02834687, 0.03407594,\n",
       "       0.03934693, 0.04419649, 0.04865829, 0.05276334, 0.05654018,\n",
       "       0.06001503, 0.06321206, 0.06615346, 0.06885968, 0.07134952,\n",
       "       0.07364029, 0.07574789, 0.07768698, 0.07947103, 0.08111244,\n",
       "       0.08262261, 0.08401203, 0.08529035, 0.08646647, 0.08754855,\n",
       "       0.08854412, 0.08946008, 0.0903028 , 0.09107815, 0.0917915 ,\n",
       "       0.09244782, 0.09305165, 0.09360721, 0.09411835, 0.09458862,\n",
       "       0.09502129, 0.09541937, 0.09578562, 0.09612258, 0.0964326 ,\n",
       "       0.09671783, 0.09698026, 0.09722171, 0.09744385, 0.09764823,\n",
       "       0.09783626, 0.09800927, 0.09816844, 0.09831488, 0.09844961,\n",
       "       0.09857358, 0.09868763, 0.09879256, 0.0988891 , 0.09897792,\n",
       "       0.09905964, 0.09913483, 0.09920401, 0.09926765, 0.09932621,\n",
       "       0.09938008, 0.09942965, 0.09947525, 0.0995172 , 0.09955581,\n",
       "       0.09959132, 0.099624  , 0.09965406, 0.09968172, 0.09970717,\n",
       "       0.09973058, 0.09975212, 0.09977194, 0.09979018, 0.09980695,\n",
       "       0.09982239, 0.09983659, 0.09984966, 0.09986168, 0.09987274,\n",
       "       0.09988291, 0.09989227, 0.09990089, 0.09990881, 0.0999161 ,\n",
       "       0.09992281, 0.09992898, 0.09993466, 0.09993989, 0.09994469,\n",
       "       0.09994911, 0.09995318, 0.09995693, 0.09996037, 0.09996354,\n",
       "       0.09996645, 0.09996914, 0.0999716 , 0.09997387, 0.        ])"
      ]
     },
     "execution_count": 14,
     "metadata": {},
     "output_type": "execute_result"
    }
   ],
   "source": [
    "ql"
   ]
  },
  {
   "cell_type": "code",
   "execution_count": 15,
   "id": "3e5010ce",
   "metadata": {},
   "outputs": [
    {
     "data": {
      "text/plain": [
       "array([1.e-04, 1.e-04, 1.e-04, 1.e-04, 1.e-04, 1.e-04, 1.e-04, 1.e-04,\n",
       "       1.e-04, 1.e-04, 1.e-04, 1.e-04, 1.e-04, 1.e-04, 1.e-04, 1.e-04,\n",
       "       1.e-04, 1.e-04, 1.e-04, 1.e-04, 1.e-04, 1.e-04, 1.e-04, 1.e-04,\n",
       "       1.e-04, 1.e-04, 1.e-04, 1.e-04, 1.e-04, 1.e-04, 1.e-04, 1.e-04,\n",
       "       1.e-04, 1.e-04, 1.e-04, 1.e-04, 1.e-04, 1.e-04, 1.e-04, 1.e-04,\n",
       "       1.e-04, 1.e-04, 1.e-04, 1.e-04, 1.e-04, 1.e-04, 1.e-04, 1.e-04,\n",
       "       1.e-04, 1.e-04, 1.e-04, 1.e-04, 1.e-04, 1.e-04, 1.e-04, 1.e-04,\n",
       "       1.e-04, 1.e-04, 1.e-04, 1.e-04, 1.e-04, 1.e-04, 1.e-04, 1.e-04,\n",
       "       1.e-04, 1.e-04, 1.e-04, 1.e-04, 1.e-04, 1.e-04, 1.e-04, 1.e-04,\n",
       "       1.e-04, 1.e-04, 1.e-04, 1.e-04, 1.e-04, 1.e-04, 1.e-04, 1.e-04,\n",
       "       1.e-04, 1.e-04, 1.e-04, 1.e-04, 1.e-04, 1.e-04, 1.e-04, 1.e-04,\n",
       "       1.e-04, 1.e-04, 1.e-04, 1.e-04, 1.e-04, 1.e-04, 1.e-04, 1.e-04,\n",
       "       1.e-04, 1.e-04, 1.e-04, 0.e+00])"
      ]
     },
     "execution_count": 15,
     "metadata": {},
     "output_type": "execute_result"
    }
   ],
   "source": [
    "Eb"
   ]
  },
  {
   "cell_type": "code",
   "execution_count": 16,
   "id": "587364ca",
   "metadata": {},
   "outputs": [
    {
     "data": {
      "text/plain": [
       "array([0.000106  , 0.00016338, 0.00021255, 0.00025466, 0.00029112,\n",
       "       0.00032293, 0.00035081, 0.00037533, 0.00039693, 0.00041599,\n",
       "       0.0004328 , 0.00044764, 0.00046072, 0.00047224, 0.00048237,\n",
       "       0.00049126, 0.00049905, 0.00050583, 0.00051173, 0.00051683,\n",
       "       0.00052121, 0.00052495, 0.00052812, 0.00053076, 0.00053294,\n",
       "       0.00053471, 0.0005361 , 0.00053716, 0.00053791, 0.0005384 ,\n",
       "       0.00053865, 0.00053868, 0.00053852, 0.00053818, 0.0005377 ,\n",
       "       0.00053708, 0.00053634, 0.0005355 , 0.00053456, 0.00053354,\n",
       "       0.00053245, 0.0005313 , 0.00053009, 0.00052884, 0.00052754,\n",
       "       0.00052622, 0.00052486, 0.00052348, 0.00052208, 0.00052067,\n",
       "       0.00051924, 0.00051781, 0.00051637, 0.00051492, 0.00051348,\n",
       "       0.00051204, 0.0005106 , 0.00050917, 0.00050774, 0.00050632,\n",
       "       0.00050491, 0.00050351, 0.00050212, 0.00050074, 0.00049937,\n",
       "       0.00049801, 0.00049667, 0.00049534, 0.00049402, 0.00049271,\n",
       "       0.00049142, 0.00049015, 0.00048889, 0.00048764, 0.0004864 ,\n",
       "       0.00048518, 0.00048398, 0.00048278, 0.0004816 , 0.00048044,\n",
       "       0.00047929, 0.00047815, 0.00047703, 0.00047592, 0.00047482,\n",
       "       0.00047374, 0.00047267, 0.00047161, 0.00047056, 0.00046953,\n",
       "       0.00046851, 0.0004675 , 0.0004665 , 0.00046551, 0.00046454,\n",
       "       0.00046357, 0.00046262, 0.00046168, 0.00046075, 0.        ])"
      ]
     },
     "execution_count": 16,
     "metadata": {},
     "output_type": "execute_result"
    }
   ],
   "source": [
    "ql/B_valley"
   ]
  },
  {
   "cell_type": "code",
   "execution_count": 17,
   "id": "74588e8e",
   "metadata": {},
   "outputs": [],
   "source": [
    "# save csv files\n",
    "\n",
    "np.savetxt('elevation csv files/eta_default.csv', eta_adj, delimiter = ',')\n",
    "np.savetxt('alpha csv files/alpha_default.csv', alpha, delimiter = ',')\n",
    "np.savetxt('slope csv files/slope_default.csv', S, delimiter = ',')"
   ]
  },
  {
   "cell_type": "code",
   "execution_count": null,
   "id": "c9974e86",
   "metadata": {},
   "outputs": [],
   "source": []
  }
 ],
 "metadata": {
  "kernelspec": {
   "display_name": "Python 3",
   "language": "python",
   "name": "python3"
  },
  "language_info": {
   "codemirror_mode": {
    "name": "ipython",
    "version": 3
   },
   "file_extension": ".py",
   "mimetype": "text/x-python",
   "name": "python",
   "nbconvert_exporter": "python",
   "pygments_lexer": "ipython3",
   "version": "3.7.6"
  }
 },
 "nbformat": 4,
 "nbformat_minor": 5
}
