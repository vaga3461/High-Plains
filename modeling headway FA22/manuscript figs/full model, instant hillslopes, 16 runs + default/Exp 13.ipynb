{
 "cells": [
  {
   "cell_type": "code",
   "execution_count": 1,
   "id": "8fc20d48",
   "metadata": {},
   "outputs": [],
   "source": [
    "# this model includes ql\n",
    "# it uses instantaneous bedrock erosion rate to calc ql\n",
    "# it uses gamma to represent fraction of plucked material that becomes coarse gravel\n",
    "# it uses theta to represent fraction of hillslope material that enters fluvial system as coarse \n",
    "## (maybe this should be same as gamma, \n",
    "## since the real fxn of this parameter is to tell us \n",
    "## how much coarse stuff is available for bedload transport/abrasion)\n",
    "\n",
    "# potential updates: see if adding weighted average back in to ql calculation still allows for stability\n",
    "## update on the update: this led to stability issues, and it's not worth the time now trying to debug, \n",
    "## so just stick with using instantaneous erosion rate. \n",
    "## Most interested in steady state profiles anyway, so this is fine."
   ]
  },
  {
   "cell_type": "code",
   "execution_count": 2,
   "id": "13f8fb7c",
   "metadata": {},
   "outputs": [],
   "source": [
    "import numpy as np\n",
    "import matplotlib.pyplot as plt"
   ]
  },
  {
   "cell_type": "code",
   "execution_count": 3,
   "id": "a6ba582e",
   "metadata": {},
   "outputs": [],
   "source": [
    "# create a profile\n",
    "dx = 500\n",
    "x = np.arange(0, 50000, dx)\n",
    "x_node = x + (dx/2)\n",
    "\n",
    "# add some elevation\n",
    "Hstar = 0.5 # depth decay\n",
    "etab = np.zeros(len(x)) # bedrock elevation\n",
    "etab[:] = np.linspace(1, 0.1, len(x)) # need to start with slight bedrock slope\n",
    "H = Hstar + np.zeros(len(x)) # alluvium thickness\n",
    "eta = etab + H # topography"
   ]
  },
  {
   "cell_type": "code",
   "execution_count": 4,
   "id": "09d177eb",
   "metadata": {},
   "outputs": [],
   "source": [
    "# define constants and other parameters\n",
    "K = 1e-7 # erodibility\n",
    "beta = 0.0005 # abradability\n",
    "r = 5. # runoff rate\n",
    "U = 0.0001 # uplift or baselevel fall rate\n",
    "I = 0.01 # intermittency\n",
    "phi = 0.1 # porosity\n",
    "D = 0.01 # grain size\n",
    "gamma = 0.25 # fraction plucked that becomes coarse\n",
    "theta = 0.25 # fraction hillslope that enters as coarse\n",
    "# treat as same!!! Point is what fraction becomes coarse\n",
    "# so just be sure to change these together\n",
    "\n",
    "kqs = 0.041 # sed transport coeff\n",
    "kxb = 25 # valley width coeff\n",
    "Pxb = 1./5. # valley width exp\n",
    "kb = 8.3e-8 # channel width coeff\n",
    "\n",
    "B_valley = kxb * (x_node**Pxb) # valley width\n",
    "# Q = (r * kxb * x_node**(1 + Pxb))/(1 + Pxb) # discharge\n",
    "A = (1./3.) * (x**2)\n",
    "Q = r * A"
   ]
  },
  {
   "cell_type": "code",
   "execution_count": 5,
   "id": "98308cda",
   "metadata": {},
   "outputs": [],
   "source": [
    "def model(x, dx, x_node,\n",
    "          K, beta, gamma, theta,\n",
    "          D, phi, Hstar,\n",
    "          kb, kqs, I, r, U,\n",
    "          etab, H, eta,\n",
    "          B_valley, Q,\n",
    "          num_steps = 1):\n",
    "    \n",
    "    q = Q/B_valley\n",
    "    dt = 50\n",
    "    \n",
    "    run_duration = dt * num_steps\n",
    "    cum_time = 0.0\n",
    "    \n",
    "    Qs = np.zeros(len(x))\n",
    "    qs = np.zeros(len(x))\n",
    "    Eb_p = np.zeros(len(x))\n",
    "    Eb_a = np.zeros(len(x))\n",
    "    Eb = np.zeros(len(x))\n",
    "    Eh = np.zeros(len(x))\n",
    "    E = np.zeros(len(x))\n",
    "    ql = np.zeros(len(x)) # lateral sediment supply\n",
    "    \n",
    "    H[-1] = 0\n",
    "    E[-1] = U\n",
    "    q[0] = 0\n",
    "    Qs[0] = 0\n",
    "    \n",
    "    while cum_time < run_duration:\n",
    "        \n",
    "        # drop baselevel\n",
    "        eta[-1] -= U * dt\n",
    "        \n",
    "        # set boundary conditions\n",
    "        etab[-1] = eta[-1]\n",
    "        \n",
    "        # calc slope\n",
    "        S = -np.diff(eta)/dx\n",
    "        \n",
    "        # calc bed exposure\n",
    "        alpha = np.exp(-H/Hstar)\n",
    "        \n",
    "        # calc sed transport\n",
    "        Qs[1:] = kqs * I * Q[1:] * S**(7./6.) * (1 - alpha[:-1])\n",
    "        qs[1:] = Qs[1:] / B_valley[1:]\n",
    "        \n",
    "        # calc bedrock erosion\n",
    "        Eb_p[:-1] = K * Q[1:] * S**(7./6.) * alpha[:-1] * gamma\n",
    "        Eb_a[:-1] = beta * Qs[1:] * alpha[:-1]\n",
    "        Eb[:-1] = (Eb_p[:-1] + Eb_a[:-1]) / B_valley[:-1]\n",
    "        \n",
    "        # calc lateral flux\n",
    "        ql[:-1] = ((Eb[:-1] * theta)/beta) * (1 - np.exp(-beta * x[1:]/3))\n",
    "        \n",
    "        # calc grain attrition\n",
    "        atr = Qs * beta\n",
    "        \n",
    "        # calc sediment erosion rate\n",
    "        Eh[:-1] = 1/((1 - phi) * B_valley[:-1]) * (np.diff(Qs)/dx + atr[1:] - Eb_p[:-1] - ql[:-1])\n",
    "        \n",
    "        # calc total erosion rate\n",
    "        E[:-1] = Eb[:-1] + Eh[:-1]\n",
    "        \n",
    "        # update topography\n",
    "        etab[:-1] -= Eb[:-1] * dt\n",
    "        H[:-1] -= Eh[:-1] * dt\n",
    "        H[H<0] = 0\n",
    "        eta[:-1] = etab[:-1] + H[:-1]\n",
    "        \n",
    "        # update elapsed time\n",
    "        cum_time += dt\n",
    "        \n",
    "    print(cum_time)\n",
    "        \n",
    "    return (dt, S, q, alpha, Qs, qs, Eb_p, Eb_a, Eb, ql, atr, Eh, E, etab, H, eta)"
   ]
  },
  {
   "cell_type": "code",
   "execution_count": 6,
   "id": "b9c1fdab",
   "metadata": {},
   "outputs": [
    {
     "name": "stdout",
     "output_type": "stream",
     "text": [
      "75000000.0\n"
     ]
    }
   ],
   "source": [
    "#now write a test\n",
    "num_steps = 1500000\n",
    "\n",
    "test_run = [x, dx, x_node, \n",
    "            K, beta, gamma, theta,\n",
    "            D, phi, Hstar,\n",
    "            kb, kqs, I, r, U,\n",
    "            etab, H, eta,\n",
    "            B_valley, Q,\n",
    "            num_steps]\n",
    "\n",
    "# and run it\n",
    "(dt, S, q, alpha, Qs, qs, Eb_p, Eb_a, Eb, ql, atr, Eh, E, etab, H, eta) = model(*test_run)"
   ]
  },
  {
   "cell_type": "code",
   "execution_count": 7,
   "id": "f33db4cf",
   "metadata": {},
   "outputs": [
    {
     "data": {
      "text/plain": [
       "array([1.e-04, 1.e-04, 1.e-04, 1.e-04, 1.e-04, 1.e-04, 1.e-04, 1.e-04,\n",
       "       1.e-04, 1.e-04, 1.e-04, 1.e-04, 1.e-04, 1.e-04, 1.e-04, 1.e-04,\n",
       "       1.e-04, 1.e-04, 1.e-04, 1.e-04, 1.e-04, 1.e-04, 1.e-04, 1.e-04,\n",
       "       1.e-04, 1.e-04, 1.e-04, 1.e-04, 1.e-04, 1.e-04, 1.e-04, 1.e-04,\n",
       "       1.e-04, 1.e-04, 1.e-04, 1.e-04, 1.e-04, 1.e-04, 1.e-04, 1.e-04,\n",
       "       1.e-04, 1.e-04, 1.e-04, 1.e-04, 1.e-04, 1.e-04, 1.e-04, 1.e-04,\n",
       "       1.e-04, 1.e-04, 1.e-04, 1.e-04, 1.e-04, 1.e-04, 1.e-04, 1.e-04,\n",
       "       1.e-04, 1.e-04, 1.e-04, 1.e-04, 1.e-04, 1.e-04, 1.e-04, 1.e-04,\n",
       "       1.e-04, 1.e-04, 1.e-04, 1.e-04, 1.e-04, 1.e-04, 1.e-04, 1.e-04,\n",
       "       1.e-04, 1.e-04, 1.e-04, 1.e-04, 1.e-04, 1.e-04, 1.e-04, 1.e-04,\n",
       "       1.e-04, 1.e-04, 1.e-04, 1.e-04, 1.e-04, 1.e-04, 1.e-04, 1.e-04,\n",
       "       1.e-04, 1.e-04, 1.e-04, 1.e-04, 1.e-04, 1.e-04, 1.e-04, 1.e-04,\n",
       "       1.e-04, 1.e-04, 1.e-04, 0.e+00])"
      ]
     },
     "execution_count": 7,
     "metadata": {},
     "output_type": "execute_result"
    }
   ],
   "source": [
    "Eb"
   ]
  },
  {
   "cell_type": "code",
   "execution_count": 8,
   "id": "ad181e1d",
   "metadata": {},
   "outputs": [
    {
     "data": {
      "text/plain": [
       "[<matplotlib.lines.Line2D at 0x7fa0c6cbe0d0>]"
      ]
     },
     "execution_count": 8,
     "metadata": {},
     "output_type": "execute_result"
    },
    {
     "data": {
      "image/png": "[encoded data removed]",
      "text/plain": [
       "<Figure size 432x288 with 1 Axes>"
      ]
     },
     "metadata": {
      "needs_background": "light"
     },
     "output_type": "display_data"
    }
   ],
   "source": [
    "plt.plot(S)"
   ]
  },
  {
   "cell_type": "code",
   "execution_count": 9,
   "id": "5f032975",
   "metadata": {},
   "outputs": [
    {
     "data": {
      "text/plain": [
       "[<matplotlib.lines.Line2D at 0x7fa0c6f63390>]"
      ]
     },
     "execution_count": 9,
     "metadata": {},
     "output_type": "execute_result"
    },
    {
     "data": {
      "image/png": "[encoded data removed]",
      "text/plain": [
       "<Figure size 432x288 with 1 Axes>"
      ]
     },
     "metadata": {
      "needs_background": "light"
     },
     "output_type": "display_data"
    }
   ],
   "source": [
    "plt.plot(eta)"
   ]
  },
  {
   "cell_type": "code",
   "execution_count": 10,
   "id": "17318f12",
   "metadata": {},
   "outputs": [
    {
     "data": {
      "text/plain": [
       "0.0003631242434730666"
      ]
     },
     "execution_count": 10,
     "metadata": {},
     "output_type": "execute_result"
    }
   ],
   "source": [
    "S[-1]"
   ]
  },
  {
   "cell_type": "code",
   "execution_count": 11,
   "id": "b1005f1a",
   "metadata": {},
   "outputs": [
    {
     "data": {
      "text/plain": [
       "array([-6889.51901132, -7197.56000536, -7293.42609151, -7338.10914215,\n",
       "       -7363.65954239, -7380.40463733, -7392.49537508, -7401.84022476,\n",
       "       -7409.41505402, -7415.7661394 , -7421.22347759, -7425.99941457,\n",
       "       -7430.23791954, -7434.04092845, -7437.48327724, -7440.62160394,\n",
       "       -7443.49989094, -7446.15304821, -7448.60930744, -7450.89186897,\n",
       "       -7453.02006426, -7455.01019553, -7456.87615482, -7458.62988907,\n",
       "       -7460.28175538, -7461.8407966 , -7463.31495802, -7464.71126001,\n",
       "       -7466.03593707, -7467.29455105, -7468.49208421, -7469.63301636,\n",
       "       -7470.72138934, -7471.76086135, -7472.75475295, -7473.70608631,\n",
       "       -7474.61761891, -7475.49187252, -7476.33115843, -7477.13759929,\n",
       "       -7477.91314828, -7478.65960585, -7479.37863459, -7480.07177223,\n",
       "       -7480.7404432 , -7481.38596901, -7482.0095773 , -7482.61241016,\n",
       "       -7483.19553136, -7483.75993304, -7484.30654157, -7484.83622294,\n",
       "       -7485.34978758, -7485.84799472, -7486.3315564 , -7486.80114102,\n",
       "       -7487.25737666, -7487.70085404, -7488.13212928, -7488.55172633,\n",
       "       -7488.96013932, -7489.35783461, -7489.7452527 , -7490.12281002,\n",
       "       -7490.49090053, -7490.84989721, -7491.20015345, -7491.5420043 ,\n",
       "       -7491.87576764, -7492.2017453 , -7492.520224  , -7492.83147635,\n",
       "       -7493.13576166, -7493.43332676, -7493.72440673, -7494.0092256 ,\n",
       "       -7494.28799701, -7494.56092479, -7494.82820349, -7495.09001897,\n",
       "       -7495.34654881, -7495.59796283, -7495.84442347, -7496.0860862 ,\n",
       "       -7496.32309989, -7496.55560718, -7496.78374477, -7497.00764375,\n",
       "       -7497.22742989, -7497.44322388, -7497.65514163, -7497.86329446,\n",
       "       -7498.06778938, -7498.26872924, -7498.46621298, -7498.66033578,\n",
       "       -7498.85118928, -7499.0388617 , -7499.22343802, -7499.40000014])"
      ]
     },
     "execution_count": 11,
     "metadata": {},
     "output_type": "execute_result"
    }
   ],
   "source": [
    "eta"
   ]
  },
  {
   "cell_type": "code",
   "execution_count": 12,
   "id": "b881373c",
   "metadata": {},
   "outputs": [],
   "source": [
    "eta_adj = eta - eta[-1]"
   ]
  },
  {
   "cell_type": "code",
   "execution_count": 13,
   "id": "96a0b74e",
   "metadata": {},
   "outputs": [
    {
     "data": {
      "text/plain": [
       "array([6.09880989e+02, 3.01839995e+02, 2.05973909e+02, 1.61290858e+02,\n",
       "       1.35740458e+02, 1.18995363e+02, 1.06904625e+02, 9.75597754e+01,\n",
       "       8.99849461e+01, 8.36338607e+01, 7.81765226e+01, 7.34005856e+01,\n",
       "       6.91620806e+01, 6.53590717e+01, 6.19167229e+01, 5.87783962e+01,\n",
       "       5.59001092e+01, 5.32469519e+01, 5.07906927e+01, 4.85081312e+01,\n",
       "       4.63799359e+01, 4.43898046e+01, 4.25238453e+01, 4.07701111e+01,\n",
       "       3.91182448e+01, 3.75592035e+01, 3.60850421e+01, 3.46887401e+01,\n",
       "       3.33640631e+01, 3.21054491e+01, 3.09079159e+01, 2.97669838e+01,\n",
       "       2.86786108e+01, 2.76391388e+01, 2.66452472e+01, 2.56939138e+01,\n",
       "       2.47823812e+01, 2.39081276e+01, 2.30688417e+01, 2.22624008e+01,\n",
       "       2.14868519e+01, 2.07403943e+01, 2.00213655e+01, 1.93282279e+01,\n",
       "       1.86595569e+01, 1.80140311e+01, 1.73904228e+01, 1.67875900e+01,\n",
       "       1.62044688e+01, 1.56400671e+01, 1.50934586e+01, 1.45637772e+01,\n",
       "       1.40502126e+01, 1.35520054e+01, 1.30684437e+01, 1.25988591e+01,\n",
       "       1.21426235e+01, 1.16991461e+01, 1.12678709e+01, 1.08482738e+01,\n",
       "       1.04398608e+01, 1.00421655e+01, 9.65474744e+00, 9.27719012e+00,\n",
       "       8.90909961e+00, 8.55010293e+00, 8.19984669e+00, 7.85799584e+00,\n",
       "       7.52423250e+00, 7.19825485e+00, 6.87977614e+00, 6.56852379e+00,\n",
       "       6.26423848e+00, 5.96667338e+00, 5.67559341e+00, 5.39077454e+00,\n",
       "       5.11200313e+00, 4.83907535e+00, 4.57179665e+00, 4.30998117e+00,\n",
       "       4.05345133e+00, 3.80203731e+00, 3.55557667e+00, 3.31391394e+00,\n",
       "       3.07690025e+00, 2.84439296e+00, 2.61625537e+00, 2.39235639e+00,\n",
       "       2.17257025e+00, 1.95677626e+00, 1.74485852e+00, 1.53670568e+00,\n",
       "       1.33221076e+00, 1.13127090e+00, 9.33787164e-01, 7.39664358e-01,\n",
       "       5.48810860e-01, 3.61138443e-01, 1.76562122e-01, 0.00000000e+00])"
      ]
     },
     "execution_count": 13,
     "metadata": {},
     "output_type": "execute_result"
    }
   ],
   "source": [
    "eta_adj"
   ]
  },
  {
   "cell_type": "code",
   "execution_count": 14,
   "id": "f04b7bea",
   "metadata": {},
   "outputs": [],
   "source": [
    "# save csv files\n",
    "\n",
    "np.savetxt('elevation csv files/eta_exp_13.csv', eta_adj, delimiter = ',')\n",
    "np.savetxt('alpha csv files/alpha_exp_13.csv', alpha, delimiter = ',')"
   ]
  },
  {
   "cell_type": "code",
   "execution_count": null,
   "id": "2f800abf",
   "metadata": {},
   "outputs": [],
   "source": []
  }
 ],
 "metadata": {
  "kernelspec": {
   "display_name": "Python 3",
   "language": "python",
   "name": "python3"
  },
  "language_info": {
   "codemirror_mode": {
    "name": "ipython",
    "version": 3
   },
   "file_extension": ".py",
   "mimetype": "text/x-python",
   "name": "python",
   "nbconvert_exporter": "python",
   "pygments_lexer": "ipython3",
   "version": "3.7.6"
  }
 },
 "nbformat": 4,
 "nbformat_minor": 5
}
