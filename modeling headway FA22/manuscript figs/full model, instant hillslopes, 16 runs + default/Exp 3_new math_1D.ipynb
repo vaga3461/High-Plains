{
 "cells": [
  {
   "cell_type": "code",
   "execution_count": 4,
   "id": "8fc20d48",
   "metadata": {},
   "outputs": [],
   "source": [
    "# this model includes ql\n",
    "# it uses instantaneous bedrock erosion rate to calc ql\n",
    "# it uses gamma to represent fraction of plucked material that becomes coarse gravel\n",
    "# it uses theta to represent fraction of hillslope material that enters fluvial system as coarse \n",
    "## (maybe this should be same as gamma, \n",
    "## since the real fxn of this parameter is to tell us \n",
    "## how much coarse stuff is available for bedload transport/abrasion)\n",
    "\n",
    "# potential updates: see if adding weighted average back in to ql calculation still allows for stability\n",
    "## update on the update: this led to stability issues, and it's not worth the time now trying to debug, \n",
    "## so just stick with using instantaneous erosion rate. \n",
    "## Most interested in steady state profiles anyway, so this is fine."
   ]
  },
  {
   "cell_type": "code",
   "execution_count": 5,
   "id": "13f8fb7c",
   "metadata": {},
   "outputs": [],
   "source": [
    "import numpy as np\n",
    "import matplotlib.pyplot as plt"
   ]
  },
  {
   "cell_type": "code",
   "execution_count": 6,
   "id": "a6ba582e",
   "metadata": {},
   "outputs": [],
   "source": [
    "# create a profile\n",
    "dx = 500\n",
    "x = np.arange(0, 50000, dx)\n",
    "x_node = x + (dx/2)\n",
    "\n",
    "# add some elevation\n",
    "Hstar = 0.5 # depth decay\n",
    "etab = np.zeros(len(x)) # bedrock elevation\n",
    "etab[:] = np.linspace(1, 0.1, len(x)) # need to start with slight bedrock slope\n",
    "H = Hstar + np.zeros(len(x)) # alluvium thickness\n",
    "eta = etab + H # topography"
   ]
  },
  {
   "cell_type": "code",
   "execution_count": 7,
   "id": "09d177eb",
   "metadata": {},
   "outputs": [],
   "source": [
    "# define constants and other parameters\n",
    "K = 3.2e-6 # erodibility\n",
    "beta = 0.0005 # abradability\n",
    "r = 5. # runoff rate\n",
    "U = 0.0001 # uplift or baselevel fall rate\n",
    "I = 0.01 # intermittency\n",
    "phi = 0.1 # porosity\n",
    "D = 0.01 # grain size\n",
    "gamma = 0.5 # fraction plucked that becomes coarse\n",
    "\n",
    "kqs = 0.041 # sed transport coeff\n",
    "kxb = 25 # valley width coeff\n",
    "Pxb = 1./5. # valley width exp\n",
    "kb = 8.3e-8 # channel width coeff\n",
    "\n",
    "B_valley = kxb * (x_node**Pxb) # valley width\n",
    "Q = (r * kxb * x_node**(1 + Pxb))/(1 + Pxb) # discharge\n",
    "A = (1./3.) * (x**2)\n",
    "# Q = r * A"
   ]
  },
  {
   "cell_type": "code",
   "execution_count": 8,
   "id": "98308cda",
   "metadata": {},
   "outputs": [],
   "source": [
    "def model(x, dx, x_node,\n",
    "          K, beta, gamma,\n",
    "          D, phi, Hstar,\n",
    "          kb, kqs, I, r, U,\n",
    "          etab, H, eta,\n",
    "          B_valley, Q,\n",
    "          num_steps = 1):\n",
    "    \n",
    "    q = Q/B_valley\n",
    "    dt = 10\n",
    "    \n",
    "    run_duration = dt * num_steps\n",
    "    cum_time = 0.0\n",
    "    \n",
    "    Qs = np.zeros(len(x))\n",
    "    qs = np.zeros(len(x))\n",
    "    Eb_p = np.zeros(len(x))\n",
    "    Eb_a = np.zeros(len(x))\n",
    "    Eb = np.zeros(len(x))\n",
    "    Eh = np.zeros(len(x))\n",
    "    E = np.zeros(len(x))\n",
    "    # ql = np.zeros(len(x)) # lateral sediment supply\n",
    "    \n",
    "    H[-1] = 0\n",
    "    E[-1] = U\n",
    "    q[0] = 0\n",
    "    Qs[0] = 0\n",
    "    \n",
    "    while cum_time < run_duration:\n",
    "        \n",
    "        # drop baselevel\n",
    "        eta[-1] -= U * dt\n",
    "        \n",
    "        # set boundary conditions\n",
    "        etab[-1] = eta[-1]\n",
    "        \n",
    "        # calc slope\n",
    "        S = -np.diff(eta)/dx\n",
    "        \n",
    "        # calc bed exposure\n",
    "        alpha = np.exp(-H/Hstar)\n",
    "        \n",
    "        # calc sed transport\n",
    "        Qs[1:] = kqs * I * Q[1:] * S**(7./6.) * (1 - alpha[:-1])\n",
    "        qs[1:] = Qs[1:] / B_valley[1:]\n",
    "        \n",
    "        # calc bedrock erosion\n",
    "        Eb_p[:-1] = K * Q[1:] * S**(7./6.) * alpha[:-1] * I\n",
    "        Eb_a[:-1] = beta * Qs[1:] * alpha[:-1]\n",
    "        Eb[:-1] = (Eb_p[:-1] + Eb_a[:-1]) / B_valley[:-1]\n",
    "        \n",
    "        # calc lateral flux\n",
    "        # ql[:-1] = ((Eb[:-1] * gamma)/beta) * (1 - np.exp(-beta * x[1:]/3))\n",
    "        \n",
    "        # calc grain attrition\n",
    "        atr = Qs * beta\n",
    "        \n",
    "        # calc sediment erosion rate\n",
    "        Eh[:-1] = 1/((1 - phi) * B_valley[:-1]) * (np.diff(Qs)/dx + atr[1:] - (Eb_p[:-1]*gamma)) #- ql[:-1])\n",
    "        \n",
    "        # calc total erosion rate\n",
    "        E[:-1] = Eb[:-1] + Eh[:-1]\n",
    "        \n",
    "        # update topography\n",
    "        etab[:-1] -= Eb[:-1] * dt\n",
    "        H[:-1] -= Eh[:-1] * dt\n",
    "        H[H<0] = 0\n",
    "        eta[:-1] = etab[:-1] + H[:-1]\n",
    "        \n",
    "        # update elapsed time\n",
    "        cum_time += dt\n",
    "        \n",
    "    print(cum_time)\n",
    "        \n",
    "    return (dt, S, q, alpha, Qs, qs, Eb_p, Eb_a, Eb, atr, Eh, E, etab, H, eta) # removed ql"
   ]
  },
  {
   "cell_type": "code",
   "execution_count": 10,
   "id": "b9c1fdab",
   "metadata": {},
   "outputs": [
    {
     "name": "stdout",
     "output_type": "stream",
     "text": [
      "50000000.0\n"
     ]
    }
   ],
   "source": [
    "#now write a test\n",
    "num_steps = 5000000\n",
    "\n",
    "test_run = [x, dx, x_node, \n",
    "            K, beta, gamma,\n",
    "            D, phi, Hstar,\n",
    "            kb, kqs, I, r, U,\n",
    "            etab, H, eta,\n",
    "            B_valley, Q,\n",
    "            num_steps]\n",
    "\n",
    "# and run it\n",
    "(dt, S, q, alpha, Qs, qs, Eb_p, Eb_a, Eb, atr, Eh, E, etab, H, eta) = model(*test_run) #removed ql"
   ]
  },
  {
   "cell_type": "code",
   "execution_count": 11,
   "id": "f33db4cf",
   "metadata": {},
   "outputs": [
    {
     "data": {
      "text/plain": [
       "array([1.e-04, 1.e-04, 1.e-04, 1.e-04, 1.e-04, 1.e-04, 1.e-04, 1.e-04,\n",
       "       1.e-04, 1.e-04, 1.e-04, 1.e-04, 1.e-04, 1.e-04, 1.e-04, 1.e-04,\n",
       "       1.e-04, 1.e-04, 1.e-04, 1.e-04, 1.e-04, 1.e-04, 1.e-04, 1.e-04,\n",
       "       1.e-04, 1.e-04, 1.e-04, 1.e-04, 1.e-04, 1.e-04, 1.e-04, 1.e-04,\n",
       "       1.e-04, 1.e-04, 1.e-04, 1.e-04, 1.e-04, 1.e-04, 1.e-04, 1.e-04,\n",
       "       1.e-04, 1.e-04, 1.e-04, 1.e-04, 1.e-04, 1.e-04, 1.e-04, 1.e-04,\n",
       "       1.e-04, 1.e-04, 1.e-04, 1.e-04, 1.e-04, 1.e-04, 1.e-04, 1.e-04,\n",
       "       1.e-04, 1.e-04, 1.e-04, 1.e-04, 1.e-04, 1.e-04, 1.e-04, 1.e-04,\n",
       "       1.e-04, 1.e-04, 1.e-04, 1.e-04, 1.e-04, 1.e-04, 1.e-04, 1.e-04,\n",
       "       1.e-04, 1.e-04, 1.e-04, 1.e-04, 1.e-04, 1.e-04, 1.e-04, 1.e-04,\n",
       "       1.e-04, 1.e-04, 1.e-04, 1.e-04, 1.e-04, 1.e-04, 1.e-04, 1.e-04,\n",
       "       1.e-04, 1.e-04, 1.e-04, 1.e-04, 1.e-04, 1.e-04, 1.e-04, 1.e-04,\n",
       "       1.e-04, 1.e-04, 1.e-04, 0.e+00])"
      ]
     },
     "execution_count": 11,
     "metadata": {},
     "output_type": "execute_result"
    }
   ],
   "source": [
    "Eb"
   ]
  },
  {
   "cell_type": "code",
   "execution_count": 12,
   "id": "ad181e1d",
   "metadata": {},
   "outputs": [
    {
     "data": {
      "text/plain": [
       "[<matplotlib.lines.Line2D at 0x7fb4366de0d0>]"
      ]
     },
     "execution_count": 12,
     "metadata": {},
     "output_type": "execute_result"
    },
    {
     "data": {
      "image/png": "[encoded data removed]",
      "text/plain": [
       "<Figure size 432x288 with 1 Axes>"
      ]
     },
     "metadata": {
      "needs_background": "light"
     },
     "output_type": "display_data"
    }
   ],
   "source": [
    "plt.plot(S)"
   ]
  },
  {
   "cell_type": "code",
   "execution_count": 13,
   "id": "5f032975",
   "metadata": {},
   "outputs": [
    {
     "data": {
      "text/plain": [
       "[<matplotlib.lines.Line2D at 0x7fb4368274d0>]"
      ]
     },
     "execution_count": 13,
     "metadata": {},
     "output_type": "execute_result"
    },
    {
     "data": {
      "image/png": "[encoded data removed]",
      "text/plain": [
       "<Figure size 432x288 with 1 Axes>"
      ]
     },
     "metadata": {
      "needs_background": "light"
     },
     "output_type": "display_data"
    }
   ],
   "source": [
    "plt.plot(eta)"
   ]
  },
  {
   "cell_type": "code",
   "execution_count": 14,
   "id": "17318f12",
   "metadata": {},
   "outputs": [
    {
     "data": {
      "text/plain": [
       "0.02111477742595889"
      ]
     },
     "execution_count": 14,
     "metadata": {},
     "output_type": "execute_result"
    }
   ],
   "source": [
    "S[-1]"
   ]
  },
  {
   "cell_type": "code",
   "execution_count": 15,
   "id": "b1005f1a",
   "metadata": {},
   "outputs": [
    {
     "data": {
      "text/plain": [
       "array([-6410.05791871, -6797.30194304, -7062.74588544, -7261.19269252,\n",
       "       -7419.5212757 , -7551.42323118, -7664.69063225, -7764.14373825,\n",
       "       -7852.95667485, -7933.3232128 , -8006.81931173, -8074.61353906,\n",
       "       -8137.59563142, -8196.45843265, -8251.7520001 , -8303.92042848,\n",
       "       -8353.32757506, -8400.2754472 , -8445.01761391, -8487.76916648,\n",
       "       -8528.7142374 , -8568.01176022, -8605.79994147, -8642.19977537,\n",
       "       -8677.31783733, -8711.24852742, -8744.07588919, -8775.87509735,\n",
       "       -8806.71368447, -8836.65256023, -8865.74686417, -8894.04668383,\n",
       "       -8921.59766332, -8948.44152173, -8974.61649736, -9000.15773004,\n",
       "       -9025.09759186, -9049.46597441, -9073.29053937, -9096.59693786,\n",
       "       -9119.4090033 , -9141.74892138, -9163.63738046, -9185.09370512,\n",
       "       -9206.13597488, -9226.7811303 , -9247.04506782, -9266.94272491,\n",
       "       -9286.48815662, -9305.69460461, -9324.57455944, -9343.13981703,\n",
       "       -9361.40152988, -9379.37025354, -9397.05598899, -9414.46822132,\n",
       "       -9431.61595498, -9448.50774614, -9465.15173231, -9481.55565953,\n",
       "       -9497.72690739, -9513.67251204, -9529.39918748, -9544.91334511,\n",
       "       -9560.22111188, -9575.32834708, -9590.24065789, -9604.96341379,\n",
       "       -9619.50176001, -9633.86062994, -9648.0447568 , -9662.05868439,\n",
       "       -9675.90677724, -9689.59323   , -9703.12207625, -9716.49719674,\n",
       "       -9729.72232714, -9742.8010652 , -9755.73687761, -9768.53310632,\n",
       "       -9781.19297454, -9793.71959237, -9806.11596207, -9818.3849831 ,\n",
       "       -9830.52945676, -9842.55209065, -9854.45550285, -9866.24222588,\n",
       "       -9877.91471042, -9889.47532884, -9900.92637855, -9912.27008515,\n",
       "       -9923.50860546, -9934.6440303 , -9945.67838725, -9956.61364317,\n",
       "       -9967.45170664, -9978.19443026, -9988.84361287, -9999.40000158])"
      ]
     },
     "execution_count": 15,
     "metadata": {},
     "output_type": "execute_result"
    }
   ],
   "source": [
    "eta"
   ]
  },
  {
   "cell_type": "code",
   "execution_count": 16,
   "id": "b881373c",
   "metadata": {},
   "outputs": [],
   "source": [
    "eta_adj = eta - eta[-1]"
   ]
  },
  {
   "cell_type": "code",
   "execution_count": 17,
   "id": "96a0b74e",
   "metadata": {},
   "outputs": [
    {
     "data": {
      "text/plain": [
       "array([3589.34208287, 3202.09805854, 2936.65411614, 2738.20730906,\n",
       "       2579.87872588, 2447.9767704 , 2334.70936933, 2235.25626332,\n",
       "       2146.44332673, 2066.07678878, 1992.58068985, 1924.78646251,\n",
       "       1861.80437016, 1802.94156893, 1747.64800148, 1695.4795731 ,\n",
       "       1646.07242652, 1599.12455438, 1554.38238767, 1511.6308351 ,\n",
       "       1470.68576418, 1431.38824136, 1393.6000601 , 1357.20022621,\n",
       "       1322.08216425, 1288.15147416, 1255.32411239, 1223.52490423,\n",
       "       1192.68631711, 1162.74744134, 1133.65313741, 1105.35331775,\n",
       "       1077.80233826, 1050.95847985, 1024.78350422,  999.24227153,\n",
       "        974.30240972,  949.93402716,  926.10946221,  902.80306371,\n",
       "        879.99099827,  857.6510802 ,  835.76262112,  814.30629646,\n",
       "        793.26402669,  772.61887128,  752.35493376,  732.45727667,\n",
       "        712.91184495,  693.70539697,  674.82544214,  656.26018455,\n",
       "        637.9984717 ,  620.02974804,  602.34401259,  584.93178026,\n",
       "        567.7840466 ,  550.89225544,  534.24826927,  517.84434205,\n",
       "        501.67309419,  485.72748954,  470.00081409,  454.48665647,\n",
       "        439.1788897 ,  424.0716545 ,  409.15934369,  394.43658779,\n",
       "        379.89824157,  365.53937164,  351.35524478,  337.34131719,\n",
       "        323.49322433,  309.80677158,  296.27792533,  282.90280483,\n",
       "        269.67767444,  256.59893638,  243.66312397,  230.86689526,\n",
       "        218.20702704,  205.68040921,  193.2840395 ,  181.01501848,\n",
       "        168.87054482,  156.84791093,  144.94449873,  133.1577757 ,\n",
       "        121.48529116,  109.92467274,   98.47362303,   87.12991643,\n",
       "         75.89139612,   64.75597128,   53.72161433,   42.78635841,\n",
       "         31.94829494,   21.20557132,   10.55638871,    0.        ])"
      ]
     },
     "execution_count": 17,
     "metadata": {},
     "output_type": "execute_result"
    }
   ],
   "source": [
    "eta_adj"
   ]
  },
  {
   "cell_type": "code",
   "execution_count": 18,
   "id": "f04b7bea",
   "metadata": {},
   "outputs": [],
   "source": [
    "# save csv files\n",
    "\n",
    "np.savetxt('elevation csv files/eta_exp_3_1D.csv', eta_adj, delimiter = ',')\n",
    "np.savetxt('alpha csv files/alpha_exp_3_1D.csv', alpha, delimiter = ',')\n",
    "np.savetxt('slope csv files/slope_exp_3_1D.csv', S, delimiter = ',')"
   ]
  },
  {
   "cell_type": "code",
   "execution_count": 19,
   "id": "454d1111",
   "metadata": {},
   "outputs": [],
   "source": [
    "# calc width\n",
    "\n",
    "b = (kb * Q[1:] * S**(7/6)) / (D**(3/2))\n",
    "\n",
    "np.savetxt('width csv files/b_exp_3_1D.csv', b, delimiter = ',')\n",
    "np.savetxt('Qs csv files/Qs_exp_3_1D.csv', Qs, delimiter = ',')"
   ]
  },
  {
   "cell_type": "code",
   "execution_count": null,
   "id": "60147724",
   "metadata": {},
   "outputs": [],
   "source": []
  }
 ],
 "metadata": {
  "kernelspec": {
   "display_name": "Python 3",
   "language": "python",
   "name": "python3"
  },
  "language_info": {
   "codemirror_mode": {
    "name": "ipython",
    "version": 3
   },
   "file_extension": ".py",
   "mimetype": "text/x-python",
   "name": "python",
   "nbconvert_exporter": "python",
   "pygments_lexer": "ipython3",
   "version": "3.7.6"
  }
 },
 "nbformat": 4,
 "nbformat_minor": 5
}
