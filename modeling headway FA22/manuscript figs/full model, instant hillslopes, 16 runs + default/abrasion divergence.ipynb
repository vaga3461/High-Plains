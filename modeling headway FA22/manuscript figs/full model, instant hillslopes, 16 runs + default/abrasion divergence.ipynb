{
 "cells": [
  {
   "cell_type": "code",
   "execution_count": 42,
   "id": "8fc20d48",
   "metadata": {},
   "outputs": [],
   "source": [
    "# in this notebook, we are testing out some new math to make the model a bit more self-consistent and logical\n",
    "# and making sure it still runs to steady state in a reasonable time when those changes are made\n",
    "# see notes from 3/8/23 in red, gridded notebook for details on changes\n",
    "# and/or compare to \"default.ipynb\""
   ]
  },
  {
   "cell_type": "code",
   "execution_count": 43,
   "id": "13f8fb7c",
   "metadata": {},
   "outputs": [],
   "source": [
    "import numpy as np\n",
    "import matplotlib.pyplot as plt"
   ]
  },
  {
   "cell_type": "code",
   "execution_count": 44,
   "id": "a6ba582e",
   "metadata": {},
   "outputs": [],
   "source": [
    "# create a profile\n",
    "dx = 500\n",
    "x = np.arange(0, 50000, dx)\n",
    "x_node = x + (dx/2)\n",
    "\n",
    "# add some elevation\n",
    "Hstar = 0.5 # depth decay\n",
    "etab = np.zeros(len(x)) # bedrock elevation\n",
    "etab[:] = np.linspace(1, 0.1, len(x)) # need to start with slight bedrock slope\n",
    "H = Hstar + np.zeros(len(x)) # alluvium thickness\n",
    "eta = etab + H # topography"
   ]
  },
  {
   "cell_type": "code",
   "execution_count": 45,
   "id": "09d177eb",
   "metadata": {},
   "outputs": [],
   "source": [
    "# define constants and other parameters\n",
    "K = 1e-6 # erodibility\n",
    "beta = 0.000005 # abradability\n",
    "r = 5. # runoff rate\n",
    "U = 0.0001 # uplift or baselevel fall rate\n",
    "I = 0.01 # intermittency\n",
    "phi = 0.1 # porosity\n",
    "D = 0.01 # grain size\n",
    "gamma = 0.5 # fraction plucked that becomes coarse\n",
    "\n",
    "kqs = 0.041 # sed transport coeff\n",
    "kxb = 25 # valley width coeff\n",
    "Pxb = 1./5. # valley width exp\n",
    "kb = 8.3e-8 # channel width coeff\n",
    "\n",
    "B_valley = kxb * (x_node**Pxb) # valley width\n",
    "# Q = (r * kxb * x_node**(1 + Pxb))/(1 + Pxb) # discharge\n",
    "A = (1./3.) * (x**2)\n",
    "Q = r * A"
   ]
  },
  {
   "cell_type": "code",
   "execution_count": 46,
   "id": "98308cda",
   "metadata": {},
   "outputs": [],
   "source": [
    "def model(x, dx, x_node,\n",
    "          K, beta, gamma,\n",
    "          D, phi, Hstar,\n",
    "          kb, kqs, I, r, U,\n",
    "          etab, H, eta,\n",
    "          B_valley, Q,\n",
    "          num_steps = 1):\n",
    "    \n",
    "    q = Q/B_valley\n",
    "    dt = 15\n",
    "    \n",
    "    run_duration = dt * num_steps\n",
    "    cum_time = 0.0\n",
    "    \n",
    "    Qs = np.zeros(len(x))\n",
    "    qs = np.zeros(len(x))\n",
    "    Eb_p = np.zeros(len(x))\n",
    "    Eb_a = np.zeros(len(x))\n",
    "    Eb = np.zeros(len(x))\n",
    "    Eh = np.zeros(len(x))\n",
    "    E = np.zeros(len(x))\n",
    "    ql = np.zeros(len(x)) # lateral sediment supply\n",
    "    \n",
    "    H[-1] = 0\n",
    "    E[-1] = U\n",
    "    q[0] = 0\n",
    "    Qs[0] = 0\n",
    "    \n",
    "    while cum_time < run_duration:\n",
    "        \n",
    "        # drop baselevel\n",
    "        eta[-1] -= U * dt\n",
    "        \n",
    "        # set boundary conditions\n",
    "        etab[-1] = eta[-1]\n",
    "        \n",
    "        # calc slope\n",
    "        S = -np.diff(eta)/dx\n",
    "        \n",
    "        # calc bed exposure\n",
    "        alpha = np.exp(-H/Hstar)\n",
    "        \n",
    "        # calc sed transport\n",
    "        Qs[1:] = kqs * I * Q[1:] * S**(7./6.) * (1 - alpha[:-1])\n",
    "        qs[1:] = Qs[1:] / B_valley[1:]\n",
    "        \n",
    "        # calc bedrock erosion\n",
    "        Eb_p[:-1] = K * Q[1:] * S**(7./6.) * alpha[:-1] * I\n",
    "        Eb_a[:-1] = beta * Qs[1:] * alpha[:-1]\n",
    "        Eb[:-1] = (Eb_p[:-1] + Eb_a[:-1]) / B_valley[:-1]\n",
    "        \n",
    "        # calc lateral flux\n",
    "        ql[:-1] = ((Eb[:-1] * gamma)/beta) * (1 - np.exp(-beta * x[1:]/3))\n",
    "        \n",
    "        # calc grain attrition\n",
    "        atr = Qs * beta\n",
    "        \n",
    "        # calc sediment erosion rate\n",
    "        Eh[:-1] = 1/((1 - phi) * B_valley[:-1]) * (np.diff(Qs)/dx + atr[1:] - (Eb_p[:-1]*gamma) - ql[:-1])\n",
    "        \n",
    "        # calc total erosion rate\n",
    "        E[:-1] = Eb[:-1] + Eh[:-1]\n",
    "        \n",
    "        # update topography\n",
    "        etab[:-1] -= Eb[:-1] * dt\n",
    "        H[:-1] -= Eh[:-1] * dt\n",
    "        H[H<0] = 0\n",
    "        eta[:-1] = etab[:-1] + H[:-1]\n",
    "        \n",
    "        # update elapsed time\n",
    "        cum_time += dt\n",
    "        \n",
    "    print(cum_time)\n",
    "        \n",
    "    return (dt, S, q, alpha, Qs, qs, Eb_p, Eb_a, Eb, ql, atr, Eh, E, etab, H, eta)"
   ]
  },
  {
   "cell_type": "code",
   "execution_count": 47,
   "id": "b9c1fdab",
   "metadata": {},
   "outputs": [
    {
     "name": "stdout",
     "output_type": "stream",
     "text": [
      "750000000.0\n"
     ]
    }
   ],
   "source": [
    "#now write a test\n",
    "num_steps = 50000000\n",
    "\n",
    "test_run = [x, dx, x_node, \n",
    "            K, beta, gamma,\n",
    "            D, phi, Hstar,\n",
    "            kb, kqs, I, r, U,\n",
    "            etab, H, eta,\n",
    "            B_valley, Q,\n",
    "            num_steps]\n",
    "\n",
    "# and run it\n",
    "(dt, S, q, alpha, Qs, qs, Eb_p, Eb_a, Eb, ql, atr, Eh, E, etab, H, eta) = model(*test_run)"
   ]
  },
  {
   "cell_type": "code",
   "execution_count": 48,
   "id": "f33db4cf",
   "metadata": {},
   "outputs": [
    {
     "data": {
      "text/plain": [
       "array([9.99999998e-05, 9.99999999e-05, 9.99999999e-05, 9.99999999e-05,\n",
       "       9.99999999e-05, 9.99999999e-05, 9.99999999e-05, 9.99999999e-05,\n",
       "       9.99999999e-05, 9.99999999e-05, 1.00000000e-04, 1.00000000e-04,\n",
       "       1.00000000e-04, 1.00000000e-04, 1.00000000e-04, 1.00000000e-04,\n",
       "       1.00000000e-04, 1.00000000e-04, 1.00000000e-04, 1.00000000e-04,\n",
       "       1.00000000e-04, 1.00000000e-04, 1.00000000e-04, 1.00000000e-04,\n",
       "       1.00000000e-04, 1.00000000e-04, 1.00000000e-04, 1.00000000e-04,\n",
       "       1.00000000e-04, 1.00000000e-04, 1.00000000e-04, 1.00000000e-04,\n",
       "       1.00000000e-04, 1.00000000e-04, 1.00000000e-04, 1.00000000e-04,\n",
       "       1.00000000e-04, 1.00000000e-04, 1.00000000e-04, 1.00000000e-04,\n",
       "       1.00000000e-04, 1.00000000e-04, 1.00000000e-04, 1.00000000e-04,\n",
       "       1.00000000e-04, 1.00000000e-04, 1.00000000e-04, 1.00000000e-04,\n",
       "       1.00000000e-04, 1.00000000e-04, 1.00000000e-04, 1.00000000e-04,\n",
       "       1.00000000e-04, 1.00000000e-04, 1.00000000e-04, 1.00000000e-04,\n",
       "       1.00000000e-04, 1.00000000e-04, 1.00000000e-04, 1.00000000e-04,\n",
       "       1.00000000e-04, 1.00000000e-04, 1.00000000e-04, 1.00000000e-04,\n",
       "       1.00000000e-04, 1.00000000e-04, 1.00000000e-04, 1.00000000e-04,\n",
       "       1.00000000e-04, 1.00000000e-04, 1.00000000e-04, 1.00000000e-04,\n",
       "       1.00000000e-04, 1.00000000e-04, 1.00000000e-04, 1.00000000e-04,\n",
       "       1.00000000e-04, 1.00000000e-04, 1.00000000e-04, 1.00000000e-04,\n",
       "       1.00000000e-04, 1.00000000e-04, 1.00000000e-04, 1.00000000e-04,\n",
       "       1.00000000e-04, 1.00000000e-04, 1.00000000e-04, 1.00000000e-04,\n",
       "       1.00000000e-04, 1.00000000e-04, 1.00000000e-04, 1.00000000e-04,\n",
       "       1.00000000e-04, 1.00000000e-04, 1.00000000e-04, 1.00000000e-04,\n",
       "       1.00000000e-04, 1.00000000e-04, 1.00000000e-04, 0.00000000e+00])"
      ]
     },
     "execution_count": 48,
     "metadata": {},
     "output_type": "execute_result"
    }
   ],
   "source": [
    "Eb"
   ]
  },
  {
   "cell_type": "code",
   "execution_count": 49,
   "id": "ad181e1d",
   "metadata": {},
   "outputs": [
    {
     "data": {
      "text/plain": [
       "[<matplotlib.lines.Line2D at 0x7f905b982d50>]"
      ]
     },
     "execution_count": 49,
     "metadata": {},
     "output_type": "execute_result"
    },
    {
     "data": {
      "image/png": "[encoded data removed]",
      "text/plain": [
       "<Figure size 432x288 with 1 Axes>"
      ]
     },
     "metadata": {
      "needs_background": "light"
     },
     "output_type": "display_data"
    }
   ],
   "source": [
    "plt.plot(S)"
   ]
  },
  {
   "cell_type": "code",
   "execution_count": 50,
   "id": "5f032975",
   "metadata": {},
   "outputs": [
    {
     "data": {
      "text/plain": [
       "[<matplotlib.lines.Line2D at 0x7f905babb490>]"
      ]
     },
     "execution_count": 50,
     "metadata": {},
     "output_type": "execute_result"
    },
    {
     "data": {
      "image/png": "[encoded data removed]",
      "text/plain": [
       "<Figure size 432x288 with 1 Axes>"
      ]
     },
     "metadata": {
      "needs_background": "light"
     },
     "output_type": "display_data"
    }
   ],
   "source": [
    "plt.plot(eta)"
   ]
  },
  {
   "cell_type": "code",
   "execution_count": 51,
   "id": "17318f12",
   "metadata": {},
   "outputs": [
    {
     "data": {
      "text/plain": [
       "0.02205571231248905"
      ]
     },
     "execution_count": 51,
     "metadata": {},
     "output_type": "execute_result"
    }
   ],
   "source": [
    "S[-1]"
   ]
  },
  {
   "cell_type": "code",
   "execution_count": 52,
   "id": "b1005f1a",
   "metadata": {},
   "outputs": [
    {
     "data": {
      "text/plain": [
       "array([-71980.84833083, -72823.4880397 , -73138.50419362, -73313.67755219,\n",
       "       -73429.83612782, -73514.92865422, -73581.41392348, -73635.76793236,\n",
       "       -73681.72369467, -73721.59952605, -73756.91845824, -73788.72599462,\n",
       "       -73817.76558943, -73844.58142408, -73869.58156235, -73893.07833935,\n",
       "       -73915.31507607, -73936.48426541, -73956.74026404, -73976.20834402,\n",
       "       -73994.99127254, -74013.17417627, -74030.82819234, -74048.01324591,\n",
       "       -74064.78018948, -74081.17246904, -74097.22743508, -74112.97738393,\n",
       "       -74128.45039193, -74143.67098927, -74158.66070821, -74173.43853223,\n",
       "       -74188.02126656, -74202.42384553, -74216.65958907, -74230.74041799,\n",
       "       -74244.67703545, -74258.47908077, -74272.15526037, -74285.71345967,\n",
       "       -74299.16083922, -74312.50391745, -74325.74864234, -74338.90045355,\n",
       "       -74351.96433664, -74364.94487029, -74377.84626786, -74390.67241379,\n",
       "       -74403.42689574, -74416.11303304, -74428.7339018 , -74441.29235733,\n",
       "       -74453.79105401, -74466.2324631 , -74478.61888864, -74490.95248169,\n",
       "       -74503.23525313, -74515.46908522, -74527.65574199, -74539.79687858,\n",
       "       -74551.89404982, -74563.94871786, -74575.96225924, -74587.93597119,\n",
       "       -74599.87107747, -74611.76873368, -74623.63003201, -74635.45600578,\n",
       "       -74647.2476334 , -74659.00584213, -74670.73151151, -74682.42547646,\n",
       "       -74694.0885302 , -74705.72142694, -74717.32488431, -74728.89958564,\n",
       "       -74740.44618209, -74751.96529458, -74763.45751559, -74774.92341088,\n",
       "       -74786.363521  , -74797.77836277, -74809.16843063, -74820.53419788,\n",
       "       -74831.87611786, -74843.19462504, -74854.49013605, -74865.76305063,\n",
       "       -74877.01375252, -74888.24261032, -74899.4499782 , -74910.63619675,\n",
       "       -74921.80159357, -74932.94648395, -74944.0711715 , -74955.17594869,\n",
       "       -74966.26109741, -74977.32688947, -74988.37358705, -74999.3999432 ])"
      ]
     },
     "execution_count": 52,
     "metadata": {},
     "output_type": "execute_result"
    }
   ],
   "source": [
    "eta"
   ]
  },
  {
   "cell_type": "code",
   "execution_count": 53,
   "id": "0194623a",
   "metadata": {},
   "outputs": [],
   "source": [
    "eta_adj = eta - eta[-1]"
   ]
  },
  {
   "cell_type": "code",
   "execution_count": 54,
   "id": "81848333",
   "metadata": {},
   "outputs": [
    {
     "data": {
      "text/plain": [
       "array([3018.55161238, 2175.91190351, 1860.89574958, 1685.72239102,\n",
       "       1569.56381538, 1484.47128898, 1417.98601973, 1363.63201084,\n",
       "       1317.67624853, 1277.80041715, 1242.48148497, 1210.67394859,\n",
       "       1181.63435378, 1154.81851913, 1129.81838085, 1106.32160385,\n",
       "       1084.08486713, 1062.91567779, 1042.65967916, 1023.19159918,\n",
       "       1004.40867067,  986.22576694,  968.57175087,  951.38669729,\n",
       "        934.61975372,  918.22747417,  902.17250812,  886.42255928,\n",
       "        870.94955128,  855.72895393,  840.739235  ,  825.96141097,\n",
       "        811.37867664,  796.97609768,  782.74035413,  768.65952522,\n",
       "        754.72290776,  740.92086243,  727.24468284,  713.68648353,\n",
       "        700.23910398,  686.89602575,  673.65130087,  660.49948965,\n",
       "        647.43560657,  634.45507291,  621.55367534,  608.72752942,\n",
       "        595.97304746,  583.28691016,  570.6660414 ,  558.10758588,\n",
       "        545.6088892 ,  533.1674801 ,  520.78105456,  508.44746152,\n",
       "        496.16469008,  483.93085798,  471.74420122,  459.60306462,\n",
       "        447.50589339,  435.45122534,  423.43768397,  411.46397202,\n",
       "        399.52886573,  387.63120953,  375.76991119,  363.94393742,\n",
       "        352.1523098 ,  340.39410107,  328.6684317 ,  316.97446675,\n",
       "        305.311413  ,  293.67851626,  282.07505889,  270.50035756,\n",
       "        258.95376111,  247.43464863,  235.94242762,  224.47653233,\n",
       "        213.03642221,  201.62158043,  190.23151257,  178.86574532,\n",
       "        167.52382535,  156.20531817,  144.90980716,  133.63689258,\n",
       "        122.38619068,  111.15733289,   99.949965  ,   88.76374645,\n",
       "         77.59834963,   66.45345925,   55.3287717 ,   44.22399451,\n",
       "         33.13884579,   22.07305374,   11.02635616,    0.        ])"
      ]
     },
     "execution_count": 54,
     "metadata": {},
     "output_type": "execute_result"
    }
   ],
   "source": [
    "eta_adj"
   ]
  },
  {
   "cell_type": "code",
   "execution_count": 55,
   "id": "37ed1e99",
   "metadata": {},
   "outputs": [
    {
     "data": {
      "text/plain": [
       "array([0.00832986, 0.01665279, 0.02496878, 0.03327784, 0.04157998,\n",
       "       0.04987521, 0.05816352, 0.06644494, 0.07471945, 0.08298707,\n",
       "       0.09124781, 0.09950166, 0.10774864, 0.11598875, 0.124222  ,\n",
       "       0.13244838, 0.14066792, 0.1488806 , 0.15708645, 0.16528546,\n",
       "       0.17347764, 0.181663  , 0.18984154, 0.19801327, 0.20617819,\n",
       "       0.21433631, 0.22248763, 0.23063216, 0.23876991, 0.24690088,\n",
       "       0.25502508, 0.26314251, 0.27125317, 0.27935709, 0.28745425,\n",
       "       0.29554466, 0.30362834, 0.31170529, 0.3197755 , 0.327839  ,\n",
       "       0.33589577, 0.34394584, 0.3519892 , 0.36002586, 0.36805582,\n",
       "       0.3760791 , 0.38409569, 0.39210561, 0.40010885, 0.40810543,\n",
       "       0.41609534, 0.42407861, 0.43205522, 0.44002518, 0.44798851,\n",
       "       0.4559452 , 0.46389527, 0.47183871, 0.47977554, 0.48770575,\n",
       "       0.49562936, 0.50354637, 0.51145679, 0.51936061, 0.52725786,\n",
       "       0.53514852, 0.54303261, 0.55091013, 0.5587811 , 0.5666455 ,\n",
       "       0.57450336, 0.58235466, 0.59019943, 0.59803767, 0.60586937,\n",
       "       0.61369455, 0.62151322, 0.62932537, 0.63713101, 0.64493015,\n",
       "       0.65272279, 0.66050895, 0.66828861, 0.6760618 , 0.68382851,\n",
       "       0.69158875, 0.69934253, 0.70708985, 0.71483072, 0.72256514,\n",
       "       0.73029311, 0.73801465, 0.74572976, 0.75343844, 0.76114069,\n",
       "       0.76883654, 0.77652597, 0.78420899, 0.79188562, 0.        ])"
      ]
     },
     "execution_count": 55,
     "metadata": {},
     "output_type": "execute_result"
    }
   ],
   "source": [
    "ql"
   ]
  },
  {
   "cell_type": "code",
   "execution_count": 56,
   "id": "3e5010ce",
   "metadata": {},
   "outputs": [
    {
     "data": {
      "text/plain": [
       "array([9.99999998e-05, 9.99999999e-05, 9.99999999e-05, 9.99999999e-05,\n",
       "       9.99999999e-05, 9.99999999e-05, 9.99999999e-05, 9.99999999e-05,\n",
       "       9.99999999e-05, 9.99999999e-05, 1.00000000e-04, 1.00000000e-04,\n",
       "       1.00000000e-04, 1.00000000e-04, 1.00000000e-04, 1.00000000e-04,\n",
       "       1.00000000e-04, 1.00000000e-04, 1.00000000e-04, 1.00000000e-04,\n",
       "       1.00000000e-04, 1.00000000e-04, 1.00000000e-04, 1.00000000e-04,\n",
       "       1.00000000e-04, 1.00000000e-04, 1.00000000e-04, 1.00000000e-04,\n",
       "       1.00000000e-04, 1.00000000e-04, 1.00000000e-04, 1.00000000e-04,\n",
       "       1.00000000e-04, 1.00000000e-04, 1.00000000e-04, 1.00000000e-04,\n",
       "       1.00000000e-04, 1.00000000e-04, 1.00000000e-04, 1.00000000e-04,\n",
       "       1.00000000e-04, 1.00000000e-04, 1.00000000e-04, 1.00000000e-04,\n",
       "       1.00000000e-04, 1.00000000e-04, 1.00000000e-04, 1.00000000e-04,\n",
       "       1.00000000e-04, 1.00000000e-04, 1.00000000e-04, 1.00000000e-04,\n",
       "       1.00000000e-04, 1.00000000e-04, 1.00000000e-04, 1.00000000e-04,\n",
       "       1.00000000e-04, 1.00000000e-04, 1.00000000e-04, 1.00000000e-04,\n",
       "       1.00000000e-04, 1.00000000e-04, 1.00000000e-04, 1.00000000e-04,\n",
       "       1.00000000e-04, 1.00000000e-04, 1.00000000e-04, 1.00000000e-04,\n",
       "       1.00000000e-04, 1.00000000e-04, 1.00000000e-04, 1.00000000e-04,\n",
       "       1.00000000e-04, 1.00000000e-04, 1.00000000e-04, 1.00000000e-04,\n",
       "       1.00000000e-04, 1.00000000e-04, 1.00000000e-04, 1.00000000e-04,\n",
       "       1.00000000e-04, 1.00000000e-04, 1.00000000e-04, 1.00000000e-04,\n",
       "       1.00000000e-04, 1.00000000e-04, 1.00000000e-04, 1.00000000e-04,\n",
       "       1.00000000e-04, 1.00000000e-04, 1.00000000e-04, 1.00000000e-04,\n",
       "       1.00000000e-04, 1.00000000e-04, 1.00000000e-04, 1.00000000e-04,\n",
       "       1.00000000e-04, 1.00000000e-04, 1.00000000e-04, 0.00000000e+00])"
      ]
     },
     "execution_count": 56,
     "metadata": {},
     "output_type": "execute_result"
    }
   ],
   "source": [
    "Eb"
   ]
  },
  {
   "cell_type": "code",
   "execution_count": 57,
   "id": "587364ca",
   "metadata": {},
   "outputs": [
    {
     "data": {
      "text/plain": [
       "array([0.00011044, 0.00017723, 0.00023992, 0.00029896, 0.00035523,\n",
       "       0.00040933, 0.00046167, 0.00051253, 0.0005621 , 0.00061056,\n",
       "       0.00065804, 0.00070462, 0.00075041, 0.00079545, 0.00083983,\n",
       "       0.00088358, 0.00092675, 0.00096939, 0.00101151, 0.00105316,\n",
       "       0.00109436, 0.00113513, 0.00117549, 0.00121548, 0.00125509,\n",
       "       0.00129436, 0.00133328, 0.00137189, 0.00141019, 0.00144819,\n",
       "       0.0014859 , 0.00152333, 0.0015605 , 0.00159741, 0.00163407,\n",
       "       0.00167049, 0.00170667, 0.00174262, 0.00177836, 0.00181387,\n",
       "       0.00184918, 0.00188428, 0.00191919, 0.0019539 , 0.00198842,\n",
       "       0.00202275, 0.00205691, 0.00209089, 0.00212469, 0.00215833,\n",
       "       0.0021918 , 0.00222511, 0.00225826, 0.00229125, 0.00232409,\n",
       "       0.00235679, 0.00238933, 0.00242173, 0.00245399, 0.00248611,\n",
       "       0.00251809, 0.00254994, 0.00258166, 0.00261325, 0.0026447 ,\n",
       "       0.00267604, 0.00270725, 0.00273833, 0.0027693 , 0.00280014,\n",
       "       0.00283088, 0.00286149, 0.00289199, 0.00292238, 0.00295266,\n",
       "       0.00298283, 0.0030129 , 0.00304285, 0.0030727 , 0.00310245,\n",
       "       0.0031321 , 0.00316165, 0.00319109, 0.00322044, 0.00324969,\n",
       "       0.00327884, 0.0033079 , 0.00333687, 0.00336574, 0.00339452,\n",
       "       0.00342321, 0.00345181, 0.00348032, 0.00350874, 0.00353708,\n",
       "       0.00356533, 0.00359349, 0.00362157, 0.00364957, 0.        ])"
      ]
     },
     "execution_count": 57,
     "metadata": {},
     "output_type": "execute_result"
    }
   ],
   "source": [
    "ql/B_valley"
   ]
  },
  {
   "cell_type": "code",
   "execution_count": 58,
   "id": "74588e8e",
   "metadata": {},
   "outputs": [],
   "source": [
    "# save csv files\n",
    "\n",
    "# np.savetxt('elevation csv files/eta_default.csv', eta_adj, delimiter = ',')\n",
    "# np.savetxt('alpha csv files/alpha_default.csv', alpha, delimiter = ',')\n",
    "# np.savetxt('slope csv files/slope_default.csv', S, delimiter = ',')"
   ]
  },
  {
   "cell_type": "code",
   "execution_count": null,
   "id": "c9974e86",
   "metadata": {},
   "outputs": [],
   "source": []
  }
 ],
 "metadata": {
  "kernelspec": {
   "display_name": "Python 3",
   "language": "python",
   "name": "python3"
  },
  "language_info": {
   "codemirror_mode": {
    "name": "ipython",
    "version": 3
   },
   "file_extension": ".py",
   "mimetype": "text/x-python",
   "name": "python",
   "nbconvert_exporter": "python",
   "pygments_lexer": "ipython3",
   "version": "3.7.6"
  }
 },
 "nbformat": 4,
 "nbformat_minor": 5
}
