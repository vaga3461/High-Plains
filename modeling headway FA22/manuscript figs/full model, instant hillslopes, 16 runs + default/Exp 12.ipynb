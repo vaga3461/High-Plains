{
 "cells": [
  {
   "cell_type": "code",
   "execution_count": 1,
   "id": "8fc20d48",
   "metadata": {},
   "outputs": [],
   "source": [
    "# this model includes ql\n",
    "# it uses instantaneous bedrock erosion rate to calc ql\n",
    "# it uses gamma to represent fraction of plucked material that becomes coarse gravel\n",
    "# it uses theta to represent fraction of hillslope material that enters fluvial system as coarse \n",
    "## (maybe this should be same as gamma, \n",
    "## since the real fxn of this parameter is to tell us \n",
    "## how much coarse stuff is available for bedload transport/abrasion)\n",
    "\n",
    "# potential updates: see if adding weighted average back in to ql calculation still allows for stability\n",
    "## update on the update: this led to stability issues, and it's not worth the time now trying to debug, \n",
    "## so just stick with using instantaneous erosion rate. \n",
    "## Most interested in steady state profiles anyway, so this is fine."
   ]
  },
  {
   "cell_type": "code",
   "execution_count": 2,
   "id": "13f8fb7c",
   "metadata": {},
   "outputs": [],
   "source": [
    "import numpy as np\n",
    "import matplotlib.pyplot as plt"
   ]
  },
  {
   "cell_type": "code",
   "execution_count": 3,
   "id": "a6ba582e",
   "metadata": {},
   "outputs": [],
   "source": [
    "# create a profile\n",
    "dx = 500\n",
    "x = np.arange(0, 50000, dx)\n",
    "x_node = x + (dx/2)\n",
    "\n",
    "# add some elevation\n",
    "Hstar = 0.5 # depth decay\n",
    "etab = np.zeros(len(x)) # bedrock elevation\n",
    "etab[:] = np.linspace(1, 0.1, len(x)) # need to start with slight bedrock slope\n",
    "H = Hstar + np.zeros(len(x)) # alluvium thickness\n",
    "eta = etab + H # topography"
   ]
  },
  {
   "cell_type": "code",
   "execution_count": 4,
   "id": "09d177eb",
   "metadata": {},
   "outputs": [],
   "source": [
    "# define constants and other parameters\n",
    "K = 1e-7 # erodibility\n",
    "beta = 0.0005 # abradability\n",
    "r = 5. # runoff rate\n",
    "U = 0.0001 # uplift or baselevel fall rate\n",
    "I = 0.01 # intermittency\n",
    "phi = 0.1 # porosity\n",
    "D = 0.01 # grain size\n",
    "gamma = 0.5 # fraction plucked that becomes coarse\n",
    "theta = 0.5 # fraction hillslope that enters as coarse\n",
    "# treat as same!!! Point is what fraction becomes coarse\n",
    "# so just be sure to change these together\n",
    "\n",
    "kqs = 0.061 # sed transport coeff\n",
    "kxb = 25 # valley width coeff\n",
    "Pxb = 1./5. # valley width exp\n",
    "kb = 8.3e-8 # channel width coeff\n",
    "\n",
    "B_valley = kxb * (x_node**Pxb) # valley width\n",
    "# Q = (r * kxb * x_node**(1 + Pxb))/(1 + Pxb) # discharge\n",
    "A = (1./3.) * (x**2)\n",
    "Q = r * A"
   ]
  },
  {
   "cell_type": "code",
   "execution_count": 5,
   "id": "98308cda",
   "metadata": {},
   "outputs": [],
   "source": [
    "def model(x, dx, x_node,\n",
    "          K, beta, gamma, theta,\n",
    "          D, phi, Hstar,\n",
    "          kb, kqs, I, r, U,\n",
    "          etab, H, eta,\n",
    "          B_valley, Q,\n",
    "          num_steps = 1):\n",
    "    \n",
    "    q = Q/B_valley\n",
    "    dt = 40\n",
    "    \n",
    "    run_duration = dt * num_steps\n",
    "    cum_time = 0.0\n",
    "    \n",
    "    Qs = np.zeros(len(x))\n",
    "    qs = np.zeros(len(x))\n",
    "    Eb_p = np.zeros(len(x))\n",
    "    Eb_a = np.zeros(len(x))\n",
    "    Eb = np.zeros(len(x))\n",
    "    Eh = np.zeros(len(x))\n",
    "    E = np.zeros(len(x))\n",
    "    ql = np.zeros(len(x)) # lateral sediment supply\n",
    "    \n",
    "    H[-1] = 0\n",
    "    E[-1] = U\n",
    "    q[0] = 0\n",
    "    Qs[0] = 0\n",
    "    \n",
    "    while cum_time < run_duration:\n",
    "        \n",
    "        # drop baselevel\n",
    "        eta[-1] -= U * dt\n",
    "        \n",
    "        # set boundary conditions\n",
    "        etab[-1] = eta[-1]\n",
    "        \n",
    "        # calc slope\n",
    "        S = -np.diff(eta)/dx\n",
    "        \n",
    "        # calc bed exposure\n",
    "        alpha = np.exp(-H/Hstar)\n",
    "        \n",
    "        # calc sed transport\n",
    "        Qs[1:] = kqs * I * Q[1:] * S**(7./6.) * (1 - alpha[:-1])\n",
    "        qs[1:] = Qs[1:] / B_valley[1:]\n",
    "        \n",
    "        # calc bedrock erosion\n",
    "        Eb_p[:-1] = K * Q[1:] * S**(7./6.) * alpha[:-1] * gamma\n",
    "        Eb_a[:-1] = beta * Qs[1:] * alpha[:-1]\n",
    "        Eb[:-1] = (Eb_p[:-1] + Eb_a[:-1]) / B_valley[:-1]\n",
    "        \n",
    "        # calc lateral flux\n",
    "        ql[:-1] = ((Eb[:-1] * theta)/beta) * (1 - np.exp(-beta * x[1:]/3))\n",
    "        \n",
    "        # calc grain attrition\n",
    "        atr = Qs * beta\n",
    "        \n",
    "        # calc sediment erosion rate\n",
    "        Eh[:-1] = 1/((1 - phi) * B_valley[:-1]) * (np.diff(Qs)/dx + atr[1:] - Eb_p[:-1] - ql[:-1])\n",
    "        \n",
    "        # calc total erosion rate\n",
    "        E[:-1] = Eb[:-1] + Eh[:-1]\n",
    "        \n",
    "        # update topography\n",
    "        etab[:-1] -= Eb[:-1] * dt\n",
    "        H[:-1] -= Eh[:-1] * dt\n",
    "        H[H<0] = 0\n",
    "        eta[:-1] = etab[:-1] + H[:-1]\n",
    "        \n",
    "        # update elapsed time\n",
    "        cum_time += dt\n",
    "        \n",
    "    print(cum_time)\n",
    "        \n",
    "    return (dt, S, q, alpha, Qs, qs, Eb_p, Eb_a, Eb, ql, atr, Eh, E, etab, H, eta)"
   ]
  },
  {
   "cell_type": "code",
   "execution_count": 6,
   "id": "b9c1fdab",
   "metadata": {},
   "outputs": [
    {
     "name": "stdout",
     "output_type": "stream",
     "text": [
      "80000000.0\n"
     ]
    }
   ],
   "source": [
    "#now write a test\n",
    "num_steps = 2000000\n",
    "\n",
    "test_run = [x, dx, x_node, \n",
    "            K, beta, gamma, theta,\n",
    "            D, phi, Hstar,\n",
    "            kb, kqs, I, r, U,\n",
    "            etab, H, eta,\n",
    "            B_valley, Q,\n",
    "            num_steps]\n",
    "\n",
    "# and run it\n",
    "(dt, S, q, alpha, Qs, qs, Eb_p, Eb_a, Eb, ql, atr, Eh, E, etab, H, eta) = model(*test_run)"
   ]
  },
  {
   "cell_type": "code",
   "execution_count": 7,
   "id": "f33db4cf",
   "metadata": {},
   "outputs": [
    {
     "data": {
      "text/plain": [
       "array([1.00000000e-04, 1.00000000e-04, 1.00000000e-04, 1.00000000e-04,\n",
       "       1.00000000e-04, 1.00000000e-04, 1.00000000e-04, 1.00000000e-04,\n",
       "       1.00000000e-04, 1.00000000e-04, 1.00000000e-04, 1.00000000e-04,\n",
       "       1.00000000e-04, 1.00000000e-04, 1.00000000e-04, 1.00000000e-04,\n",
       "       1.00000000e-04, 1.00000000e-04, 1.00000000e-04, 1.00000000e-04,\n",
       "       1.00000000e-04, 1.00000000e-04, 1.00000000e-04, 1.00000000e-04,\n",
       "       1.00000000e-04, 1.00000000e-04, 1.00000000e-04, 1.00000000e-04,\n",
       "       1.00000000e-04, 1.00000000e-04, 1.00000000e-04, 1.00000000e-04,\n",
       "       1.00000000e-04, 1.00000000e-04, 1.00000000e-04, 1.00000000e-04,\n",
       "       1.00000000e-04, 1.00000000e-04, 1.00000000e-04, 1.00000000e-04,\n",
       "       1.00000000e-04, 1.00000000e-04, 1.00000000e-04, 1.00000000e-04,\n",
       "       1.00000000e-04, 1.00000000e-04, 1.00000000e-04, 1.00000000e-04,\n",
       "       1.00000000e-04, 1.00000000e-04, 1.00000000e-04, 1.00000000e-04,\n",
       "       1.00000000e-04, 1.00000000e-04, 1.00000000e-04, 1.00000000e-04,\n",
       "       1.00000000e-04, 1.00000000e-04, 1.00000000e-04, 1.00000000e-04,\n",
       "       1.00000000e-04, 1.00000000e-04, 1.00000000e-04, 1.00000000e-04,\n",
       "       1.00000000e-04, 1.00000000e-04, 1.00000000e-04, 1.00000000e-04,\n",
       "       1.00000000e-04, 9.99999996e-05, 1.00000002e-04, 9.99999944e-05,\n",
       "       1.00000019e-04, 9.99999394e-05, 1.00000188e-04, 9.99994372e-05,\n",
       "       1.00001617e-04, 9.99955383e-05, 1.00011813e-04, 9.99700162e-05,\n",
       "       1.00072884e-04, 9.98305449e-05, 1.00376282e-04, 9.92033556e-05,\n",
       "       1.01604824e-04, 9.69311867e-05, 1.05555478e-04, 9.05061131e-05,\n",
       "       1.15276625e-04, 7.68909083e-05, 1.32864388e-04, 5.59813416e-05,\n",
       "       1.55692022e-04, 3.32643835e-05, 1.75699992e-04, 1.96721699e-05,\n",
       "       1.76139071e-04, 4.39849118e-05, 1.18444461e-04, 0.00000000e+00])"
      ]
     },
     "execution_count": 7,
     "metadata": {},
     "output_type": "execute_result"
    }
   ],
   "source": [
    "Eb"
   ]
  },
  {
   "cell_type": "code",
   "execution_count": 8,
   "id": "ad181e1d",
   "metadata": {},
   "outputs": [
    {
     "data": {
      "text/plain": [
       "[<matplotlib.lines.Line2D at 0x7f8c693d9410>]"
      ]
     },
     "execution_count": 8,
     "metadata": {},
     "output_type": "execute_result"
    },
    {
     "data": {
      "image/png": "[encoded data removed]",
      "text/plain": [
       "<Figure size 432x288 with 1 Axes>"
      ]
     },
     "metadata": {
      "needs_background": "light"
     },
     "output_type": "display_data"
    }
   ],
   "source": [
    "plt.plot(S)"
   ]
  },
  {
   "cell_type": "code",
   "execution_count": 9,
   "id": "5f032975",
   "metadata": {},
   "outputs": [
    {
     "data": {
      "text/plain": [
       "[<matplotlib.lines.Line2D at 0x7f8c69682810>]"
      ]
     },
     "execution_count": 9,
     "metadata": {},
     "output_type": "execute_result"
    },
    {
     "data": {
      "image/png": "[encoded data removed]",
      "text/plain": [
       "<Figure size 432x288 with 1 Axes>"
      ]
     },
     "metadata": {
      "needs_background": "light"
     },
     "output_type": "display_data"
    }
   ],
   "source": [
    "plt.plot(eta)"
   ]
  },
  {
   "cell_type": "code",
   "execution_count": 10,
   "id": "17318f12",
   "metadata": {},
   "outputs": [
    {
     "data": {
      "text/plain": [
       "0.000452890868202303"
      ]
     },
     "execution_count": 10,
     "metadata": {},
     "output_type": "execute_result"
    }
   ],
   "source": [
    "S[-1]"
   ]
  },
  {
   "cell_type": "code",
   "execution_count": 11,
   "id": "b1005f1a",
   "metadata": {},
   "outputs": [
    {
     "data": {
      "text/plain": [
       "array([-7630.00387474, -7790.97036559, -7839.15484945, -7862.30218341,\n",
       "       -7876.88048006, -7887.56713432, -7896.08447917, -7903.2121417 ,\n",
       "       -7909.361609  , -7914.7760817 , -7919.61206043, -7923.97706016,\n",
       "       -7927.9488214 , -7931.5858838 , -7934.93378506, -7938.02889165,\n",
       "       -7940.90087387, -7943.57436782, -7946.070129  , -7948.40585697,\n",
       "       -7950.59680013, -7952.65620948, -7954.59568608, -7956.42545175,\n",
       "       -7958.15456358, -7959.79108608, -7961.34223132, -7962.81447412,\n",
       "       -7964.21364774, -7965.54502413, -7966.81338172, -7968.02306308,\n",
       "       -7969.17802435, -7970.28187778, -7971.33792861, -7972.34920713,\n",
       "       -7973.31849671, -7974.24835841, -7975.14115264, -7975.9990583 ,\n",
       "       -7976.82408975, -7977.61811189, -7978.38285364, -7979.11991991,\n",
       "       -7979.83080239, -7980.51688921, -7981.17947366, -7981.81976197,\n",
       "       -7982.43888045, -7983.03788186, -7983.61775121, -7984.17941104,\n",
       "       -7984.72372622, -7985.25150829, -7985.76351944, -7986.26047614,\n",
       "       -7986.74305249, -7987.2118832 , -7987.6675664 , -7988.11066624,\n",
       "       -7988.54171514, -7988.96121605, -7989.36964436, -7989.76744977,\n",
       "       -7990.15505798, -7990.53287222, -7990.90127472, -7991.26062803,\n",
       "       -7991.61127628, -7991.95354627, -7992.28774858, -7992.61417855,\n",
       "       -7992.93311719, -7993.24483192, -7993.54957788, -7993.84759698,\n",
       "       -7994.13912366, -7994.4243708 , -7994.70357169, -7994.97686857,\n",
       "       -7995.24460492, -7995.50659605, -7995.76388143, -7996.01469472,\n",
       "       -7996.26333946, -7996.50150395, -7996.74578993, -7996.96589673,\n",
       "       -7997.21513498, -7997.40545515, -7997.67386214, -7997.81919533,\n",
       "       -7998.11755333, -7998.21057365, -7998.53561805, -7998.58645029,\n",
       "       -7998.91952194, -7998.96725334, -7999.25668848, -7999.39999984])"
      ]
     },
     "execution_count": 11,
     "metadata": {},
     "output_type": "execute_result"
    }
   ],
   "source": [
    "eta"
   ]
  },
  {
   "cell_type": "code",
   "execution_count": 12,
   "id": "b881373c",
   "metadata": {},
   "outputs": [],
   "source": [
    "eta_adj = eta - eta[-1]"
   ]
  },
  {
   "cell_type": "code",
   "execution_count": 13,
   "id": "96a0b74e",
   "metadata": {},
   "outputs": [
    {
     "data": {
      "text/plain": [
       "array([3.69396125e+02, 2.08429634e+02, 1.60245150e+02, 1.37097816e+02,\n",
       "       1.22519520e+02, 1.11832866e+02, 1.03315521e+02, 9.61878581e+01,\n",
       "       9.00383908e+01, 8.46239181e+01, 7.97879394e+01, 7.54229397e+01,\n",
       "       7.14511784e+01, 6.78141160e+01, 6.44662148e+01, 6.13711082e+01,\n",
       "       5.84991260e+01, 5.58256320e+01, 5.33298708e+01, 5.09941429e+01,\n",
       "       4.88031997e+01, 4.67437904e+01, 4.48043138e+01, 4.29745481e+01,\n",
       "       4.12454363e+01, 3.96089138e+01, 3.80577685e+01, 3.65855257e+01,\n",
       "       3.51863521e+01, 3.38549757e+01, 3.25866181e+01, 3.13769368e+01,\n",
       "       3.02219755e+01, 2.91181221e+01, 2.80620712e+01, 2.70507927e+01,\n",
       "       2.60815031e+01, 2.51516414e+01, 2.42588472e+01, 2.34009415e+01,\n",
       "       2.25759101e+01, 2.17818879e+01, 2.10171462e+01, 2.02800799e+01,\n",
       "       1.95691974e+01, 1.88831106e+01, 1.82205262e+01, 1.75802379e+01,\n",
       "       1.69611194e+01, 1.63621180e+01, 1.57822486e+01, 1.52205888e+01,\n",
       "       1.46762736e+01, 1.41484916e+01, 1.36364804e+01, 1.31395237e+01,\n",
       "       1.26569473e+01, 1.21881166e+01, 1.17324334e+01, 1.12893336e+01,\n",
       "       1.08582847e+01, 1.04387838e+01, 1.00303555e+01, 9.63255007e+00,\n",
       "       9.24494186e+00, 8.86712762e+00, 8.49872512e+00, 8.13937181e+00,\n",
       "       7.78872356e+00, 7.44645357e+00, 7.11225125e+00, 6.78582129e+00,\n",
       "       6.46688265e+00, 6.15516791e+00, 5.85042196e+00, 5.55240285e+00,\n",
       "       5.26087618e+00, 4.97562904e+00, 4.69642815e+00, 4.42313127e+00,\n",
       "       4.15539492e+00, 3.89340379e+00, 3.63611841e+00, 3.38530512e+00,\n",
       "       3.13666037e+00, 2.89849588e+00, 2.65420991e+00, 2.43410311e+00,\n",
       "       2.18486486e+00, 1.99454469e+00, 1.72613770e+00, 1.58080451e+00,\n",
       "       1.28244650e+00, 1.18942619e+00, 8.64381793e-01, 8.13549552e-01,\n",
       "       4.80477894e-01, 4.32746501e-01, 1.43311362e-01, 0.00000000e+00])"
      ]
     },
     "execution_count": 13,
     "metadata": {},
     "output_type": "execute_result"
    }
   ],
   "source": [
    "eta_adj"
   ]
  },
  {
   "cell_type": "code",
   "execution_count": null,
   "id": "f04b7bea",
   "metadata": {},
   "outputs": [],
   "source": []
  }
 ],
 "metadata": {
  "kernelspec": {
   "display_name": "Python 3",
   "language": "python",
   "name": "python3"
  },
  "language_info": {
   "codemirror_mode": {
    "name": "ipython",
    "version": 3
   },
   "file_extension": ".py",
   "mimetype": "text/x-python",
   "name": "python",
   "nbconvert_exporter": "python",
   "pygments_lexer": "ipython3",
   "version": "3.7.6"
  }
 },
 "nbformat": 4,
 "nbformat_minor": 5
}
