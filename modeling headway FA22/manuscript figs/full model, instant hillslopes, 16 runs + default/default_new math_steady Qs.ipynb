{
 "cells": [
  {
   "cell_type": "code",
   "execution_count": 5,
   "id": "8fc20d48",
   "metadata": {},
   "outputs": [],
   "source": [
    "# in this notebook, we are testing out some new math to make the model a bit more self-consistent and logical\n",
    "# and making sure it still runs to steady state in a reasonable time when those changes are made\n",
    "# see notes from 3/8/23 in red, gridded notebook for details on changes\n",
    "# and/or compare to \"default.ipynb\""
   ]
  },
  {
   "cell_type": "code",
   "execution_count": 6,
   "id": "13f8fb7c",
   "metadata": {},
   "outputs": [],
   "source": [
    "import numpy as np\n",
    "import matplotlib.pyplot as plt"
   ]
  },
  {
   "cell_type": "code",
   "execution_count": 7,
   "id": "a6ba582e",
   "metadata": {},
   "outputs": [],
   "source": [
    "# create a profile\n",
    "dx = 500\n",
    "x = np.arange(0, 50000, dx)\n",
    "x_node = x + (dx/2)\n",
    "\n",
    "# add some elevation\n",
    "Hstar = 0.5 # depth decay\n",
    "etab = np.zeros(len(x)) # bedrock elevation\n",
    "etab[:] = np.linspace(1, 0.1, len(x)) # need to start with slight bedrock slope\n",
    "H = Hstar + np.zeros(len(x)) # alluvium thickness\n",
    "eta = etab + H # topography"
   ]
  },
  {
   "cell_type": "code",
   "execution_count": 8,
   "id": "09d177eb",
   "metadata": {},
   "outputs": [],
   "source": [
    "# define constants and other parameters\n",
    "K = 1e-6 # erodibility\n",
    "beta = 0.0005 # abradability\n",
    "r = 5. # runoff rate\n",
    "U = 0.0001 # uplift or baselevel fall rate\n",
    "I = 0.01 # intermittency\n",
    "phi = 0.1 # porosity\n",
    "D = 0.01 # grain size\n",
    "gamma = 0.5 # fraction plucked that becomes coarse\n",
    "\n",
    "kqs = 0.041 # sed transport coeff\n",
    "kxb = 25 # valley width coeff\n",
    "Pxb = 1./5. # valley width exp\n",
    "kb = 8.3e-8 # channel width coeff\n",
    "\n",
    "B_valley = kxb * (x_node**Pxb) # valley width\n",
    "# Q = (r * kxb * x_node**(1 + Pxb))/(1 + Pxb) # discharge\n",
    "A = (1./3.) * (x**2)\n",
    "Q = r * A"
   ]
  },
  {
   "cell_type": "code",
   "execution_count": 9,
   "id": "98308cda",
   "metadata": {},
   "outputs": [],
   "source": [
    "def model(x, dx, x_node,\n",
    "          K, beta, gamma,\n",
    "          D, phi, Hstar,\n",
    "          kb, kqs, I, r, U,\n",
    "          etab, H, eta,\n",
    "          B_valley, Q,\n",
    "          num_steps = 1):\n",
    "    \n",
    "    q = Q/B_valley\n",
    "    dt = 35\n",
    "    \n",
    "    run_duration = dt * num_steps\n",
    "    cum_time = 0.0\n",
    "    \n",
    "    Qs = np.zeros(len(x))\n",
    "    qs = np.zeros(len(x))\n",
    "    Eb_p = np.zeros(len(x))\n",
    "    Eb_a = np.zeros(len(x))\n",
    "    Eb = np.zeros(len(x))\n",
    "    Eh = np.zeros(len(x))\n",
    "    E = np.zeros(len(x))\n",
    "    ql = np.zeros(len(x)) # lateral sediment supply\n",
    "    \n",
    "    H[-1] = 0\n",
    "    E[-1] = U\n",
    "    q[0] = 0\n",
    "    Qs[0] = 0\n",
    "    \n",
    "    while cum_time < run_duration:\n",
    "        \n",
    "        # drop baselevel\n",
    "        eta[-1] -= U * dt\n",
    "        \n",
    "        # set boundary conditions\n",
    "        etab[-1] = eta[-1]\n",
    "        \n",
    "        # calc slope\n",
    "        S = -np.diff(eta)/dx\n",
    "        \n",
    "        # calc bed exposure\n",
    "        alpha = np.exp(-H/Hstar)\n",
    "        \n",
    "        # calc sed transport\n",
    "        # Qs[1:] = kqs * I * Q[1:] * S**(7./6.) * (1 - alpha[:-1])\n",
    "        Qs[0] = 0.01\n",
    "        # qs[1:] = Qs[1:] / B_valley[1:]\n",
    "        \n",
    "        # calc bedrock erosion\n",
    "        Eb_p[:-1] = K * Q[1:] * S**(7./6.) * alpha[:-1] * I\n",
    "        Eb_a[:-1] = beta * Qs[1:] * alpha[:-1]\n",
    "        Eb[:-1] = (Eb_p[:-1] + Eb_a[:-1]) / B_valley[:-1]\n",
    "        \n",
    "        # calc lateral flux\n",
    "        ql[:-1] = ((Eb[:-1] * gamma)/beta) * (1 - np.exp(-beta * x[1:]/3))\n",
    "        \n",
    "        # calc grain attrition\n",
    "        atr = Qs * beta\n",
    "        \n",
    "        # calc sediment erosion rate\n",
    "        Eh[:-1] = 1/((1 - phi) * B_valley[:-1]) * (np.diff(Qs)/dx + atr[1:]) # - (Eb_p[:-1]*gamma) - ql[:-1])\n",
    "        \n",
    "        # calc total erosion rate\n",
    "        E[:-1] = Eb[:-1] + Eh[:-1]\n",
    "        \n",
    "        # update topography\n",
    "        etab[:-1] -= Eb[:-1] * dt\n",
    "        H[:-1] -= Eh[:-1] * dt\n",
    "        H[H<0] = 0\n",
    "        eta[:-1] = etab[:-1] + H[:-1]\n",
    "        \n",
    "        # update elapsed time\n",
    "        cum_time += dt\n",
    "        \n",
    "    print(cum_time)\n",
    "        \n",
    "    return (dt, S, q, alpha, Qs, qs, Eb_p, Eb_a, Eb, ql, atr, Eh, E, etab, H, eta)"
   ]
  },
  {
   "cell_type": "code",
   "execution_count": 10,
   "id": "b9c1fdab",
   "metadata": {},
   "outputs": [
    {
     "name": "stdout",
     "output_type": "stream",
     "text": [
      "175000000.0\n"
     ]
    }
   ],
   "source": [
    "#now write a test\n",
    "num_steps = 5000000\n",
    "\n",
    "test_run = [x, dx, x_node, \n",
    "            K, beta, gamma,\n",
    "            D, phi, Hstar,\n",
    "            kb, kqs, I, r, U,\n",
    "            etab, H, eta,\n",
    "            B_valley, Q,\n",
    "            num_steps]\n",
    "\n",
    "# and run it\n",
    "(dt, S, q, alpha, Qs, qs, Eb_p, Eb_a, Eb, ql, atr, Eh, E, etab, H, eta) = model(*test_run)"
   ]
  },
  {
   "cell_type": "code",
   "execution_count": 11,
   "id": "f33db4cf",
   "metadata": {},
   "outputs": [
    {
     "data": {
      "text/plain": [
       "array([1.73578201e-48, 1.00000000e-04, 1.00000000e-04, 1.00000000e-04,\n",
       "       1.00000000e-04, 1.00000000e-04, 1.00000000e-04, 1.00000000e-04,\n",
       "       1.00000000e-04, 1.00000000e-04, 1.00000000e-04, 1.00000000e-04,\n",
       "       1.00000000e-04, 1.00000000e-04, 1.00000000e-04, 1.00000000e-04,\n",
       "       1.00000000e-04, 1.00000000e-04, 1.00000000e-04, 1.00000000e-04,\n",
       "       1.00000000e-04, 1.00000000e-04, 1.00000000e-04, 1.00000000e-04,\n",
       "       1.00000000e-04, 1.00000000e-04, 1.00000000e-04, 1.00000000e-04,\n",
       "       1.00000000e-04, 1.00000000e-04, 1.00000000e-04, 1.00000000e-04,\n",
       "       1.00000000e-04, 1.00000000e-04, 1.00000000e-04, 1.00000000e-04,\n",
       "       1.00000000e-04, 1.00000000e-04, 1.00000000e-04, 1.00000000e-04,\n",
       "       1.00000000e-04, 1.00000000e-04, 1.00000000e-04, 1.00000000e-04,\n",
       "       1.00000000e-04, 1.00000000e-04, 1.00000000e-04, 1.00000000e-04,\n",
       "       1.00000000e-04, 1.00000000e-04, 1.00000000e-04, 1.00000000e-04,\n",
       "       1.00000000e-04, 1.00000000e-04, 1.00000000e-04, 1.00000000e-04,\n",
       "       1.00000000e-04, 1.00000000e-04, 1.00000000e-04, 1.00000000e-04,\n",
       "       1.00000000e-04, 1.00000000e-04, 1.00000000e-04, 1.00000000e-04,\n",
       "       1.00000000e-04, 1.00000000e-04, 1.00000000e-04, 1.00000000e-04,\n",
       "       1.00000000e-04, 1.00000000e-04, 1.00000000e-04, 1.00000000e-04,\n",
       "       1.00000000e-04, 1.00000000e-04, 1.00000000e-04, 1.00000000e-04,\n",
       "       1.00000000e-04, 1.00000000e-04, 1.00000000e-04, 1.00000000e-04,\n",
       "       1.00000000e-04, 1.00000000e-04, 1.00000000e-04, 1.00000000e-04,\n",
       "       1.00000000e-04, 1.00000000e-04, 1.00000000e-04, 1.00000000e-04,\n",
       "       1.00000000e-04, 1.00000000e-04, 1.00000000e-04, 1.00000000e-04,\n",
       "       1.00000000e-04, 1.00000000e-04, 1.00000000e-04, 1.00000000e-04,\n",
       "       1.00000000e-04, 1.00000000e-04, 1.00000000e-04, 0.00000000e+00])"
      ]
     },
     "execution_count": 11,
     "metadata": {},
     "output_type": "execute_result"
    }
   ],
   "source": [
    "Eb"
   ]
  },
  {
   "cell_type": "code",
   "execution_count": 12,
   "id": "ad181e1d",
   "metadata": {},
   "outputs": [
    {
     "data": {
      "text/plain": [
       "[<matplotlib.lines.Line2D at 0x7fadf2c85450>]"
      ]
     },
     "execution_count": 12,
     "metadata": {},
     "output_type": "execute_result"
    },
    {
     "data": {
      "image/png": "[encoded data removed]",
      "text/plain": [
       "<Figure size 432x288 with 1 Axes>"
      ]
     },
     "metadata": {
      "needs_background": "light"
     },
     "output_type": "display_data"
    }
   ],
   "source": [
    "plt.plot(S)"
   ]
  },
  {
   "cell_type": "code",
   "execution_count": 13,
   "id": "5f032975",
   "metadata": {},
   "outputs": [
    {
     "data": {
      "text/plain": [
       "[<matplotlib.lines.Line2D at 0x7fadf2f33390>]"
      ]
     },
     "execution_count": 13,
     "metadata": {},
     "output_type": "execute_result"
    },
    {
     "data": {
      "image/png": "[encoded data removed]",
      "text/plain": [
       "<Figure size 432x288 with 1 Axes>"
      ]
     },
     "metadata": {
      "needs_background": "light"
     },
     "output_type": "display_data"
    }
   ],
   "source": [
    "plt.plot(eta)"
   ]
  },
  {
   "cell_type": "code",
   "execution_count": 14,
   "id": "17318f12",
   "metadata": {},
   "outputs": [
    {
     "data": {
      "text/plain": [
       "0.0036763761017573416"
      ]
     },
     "execution_count": 14,
     "metadata": {},
     "output_type": "execute_result"
    }
   ],
   "source": [
    "S[-1]"
   ]
  },
  {
   "cell_type": "code",
   "execution_count": 15,
   "id": "b1005f1a",
   "metadata": {},
   "outputs": [
    {
     "data": {
      "text/plain": [
       "array([    53.04618427, -14684.97389348, -15405.8864174 , -15798.57028042,\n",
       "       -16052.61658607, -16233.53880827, -16370.53000656, -16478.76407828,\n",
       "       -16566.99141251, -16640.65138889, -16703.32301526, -16757.46863613,\n",
       "       -16804.84435803, -16846.74025179, -16884.12784453, -16917.75438058,\n",
       "       -16948.20513778, -16975.94583956, -17001.35225717, -17024.73133234,\n",
       "       -17046.3365464 , -17066.37929877, -17085.03746319, -17102.46191244,\n",
       "       -17118.7815575 , -17134.10728466, -17148.53506414, -17162.14842862,\n",
       "       -17175.02046702, -17187.21544156, -17198.79010953, -17209.79481118,\n",
       "       -17220.27437123, -17230.26885044, -17239.81417593, -17248.94267254,\n",
       "       -17257.68351326, -17266.06310267, -17274.10540507, -17281.83222622,\n",
       "       -17289.26345653, -17296.41728151, -17303.31036475, -17309.95800744,\n",
       "       -17316.374288  , -17322.57218458, -17328.56368296, -17334.35987179,\n",
       "       -17339.97102689, -17345.40668612, -17350.67571597, -17355.786371  ,\n",
       "       -17360.74634693, -17365.56282824, -17370.24253095, -17374.79174105,\n",
       "       -17379.21634917, -17383.52188194, -17387.71353034, -17391.79617534,\n",
       "       -17395.77441131, -17399.65256723, -17403.43472601, -17407.12474214,\n",
       "       -17410.72625787, -17414.24271791, -17417.67738299, -17421.03334226,\n",
       "       -17424.31352471, -17427.52070965, -17430.65753639, -17433.72651313,\n",
       "       -17436.73002525, -17439.67034286, -17442.54962788, -17445.36994054,\n",
       "       -17448.13324545, -17450.84141722, -17453.49624567, -17456.09944068,\n",
       "       -17458.65263672, -17461.15739707, -17463.61521773, -17466.02753109,\n",
       "       -17468.39570938, -17470.72106784, -17473.00486775, -17475.2483192 ,\n",
       "       -17477.45258376, -17479.61877693, -17481.74797045, -17483.84119451,\n",
       "       -17485.89943973, -17487.92365916, -17489.91477004, -17491.87365552,\n",
       "       -17493.80116628, -17495.69812203, -17497.56531293, -17499.40000098])"
      ]
     },
     "execution_count": 15,
     "metadata": {},
     "output_type": "execute_result"
    }
   ],
   "source": [
    "eta"
   ]
  },
  {
   "cell_type": "code",
   "execution_count": 16,
   "id": "0194623a",
   "metadata": {},
   "outputs": [],
   "source": [
    "eta_adj = eta - eta[-1]"
   ]
  },
  {
   "cell_type": "code",
   "execution_count": 17,
   "id": "81848333",
   "metadata": {},
   "outputs": [
    {
     "data": {
      "text/plain": [
       "array([1.75524462e+04, 2.81442611e+03, 2.09351358e+03, 1.70082972e+03,\n",
       "       1.44678341e+03, 1.26586119e+03, 1.12886999e+03, 1.02063592e+03,\n",
       "       9.32408588e+02, 8.58748612e+02, 7.96076986e+02, 7.41931365e+02,\n",
       "       6.94555643e+02, 6.52659749e+02, 6.15272156e+02, 5.81645620e+02,\n",
       "       5.51194863e+02, 5.23454161e+02, 4.98047744e+02, 4.74668669e+02,\n",
       "       4.53063455e+02, 4.33020702e+02, 4.14362538e+02, 3.96938089e+02,\n",
       "       3.80618443e+02, 3.65292716e+02, 3.50864937e+02, 3.37251572e+02,\n",
       "       3.24379534e+02, 3.12184559e+02, 3.00609891e+02, 2.89605190e+02,\n",
       "       2.79125630e+02, 2.69131151e+02, 2.59585825e+02, 2.50457328e+02,\n",
       "       2.41716488e+02, 2.33336898e+02, 2.25294596e+02, 2.17567775e+02,\n",
       "       2.10136544e+02, 2.02982719e+02, 1.96089636e+02, 1.89441994e+02,\n",
       "       1.83025713e+02, 1.76827816e+02, 1.70836318e+02, 1.65040129e+02,\n",
       "       1.59428974e+02, 1.53993315e+02, 1.48724285e+02, 1.43613630e+02,\n",
       "       1.38653654e+02, 1.33837173e+02, 1.29157470e+02, 1.24608260e+02,\n",
       "       1.20183652e+02, 1.15878119e+02, 1.11686471e+02, 1.07603826e+02,\n",
       "       1.03625590e+02, 9.97474338e+01, 9.59652750e+01, 9.22752588e+01,\n",
       "       8.86737431e+01, 8.51572831e+01, 8.17226180e+01, 7.83666587e+01,\n",
       "       7.50864763e+01, 7.18792913e+01, 6.87424646e+01, 6.56734879e+01,\n",
       "       6.26699757e+01, 5.97296581e+01, 5.68503731e+01, 5.40300604e+01,\n",
       "       5.12667555e+01, 4.85585838e+01, 4.59037553e+01, 4.33005603e+01,\n",
       "       4.07473643e+01, 3.82426039e+01, 3.57847833e+01, 3.33724699e+01,\n",
       "       3.10042916e+01, 2.86789331e+01, 2.63951332e+01, 2.41516818e+01,\n",
       "       2.19474172e+01, 1.97812241e+01, 1.76520305e+01, 1.55588065e+01,\n",
       "       1.35005613e+01, 1.14763418e+01, 9.48523094e+00, 7.52634546e+00,\n",
       "       5.59883470e+00, 3.70187895e+00, 1.83468805e+00, 0.00000000e+00])"
      ]
     },
     "execution_count": 17,
     "metadata": {},
     "output_type": "execute_result"
    }
   ],
   "source": [
    "eta_adj"
   ]
  },
  {
   "cell_type": "code",
   "execution_count": 18,
   "id": "37ed1e99",
   "metadata": {},
   "outputs": [
    {
     "data": {
      "text/plain": [
       "array([1.38785467e-46, 1.53518275e-02, 2.21199217e-02, 2.83468689e-02,\n",
       "       3.40759370e-02, 3.93469340e-02, 4.41964854e-02, 4.86582881e-02,\n",
       "       5.27633447e-02, 5.65401791e-02, 6.00150346e-02, 6.32120559e-02,\n",
       "       6.61534575e-02, 6.88596776e-02, 7.13495203e-02, 7.36402862e-02,\n",
       "       7.57478925e-02, 7.76869840e-02, 7.94710342e-02, 8.11124397e-02,\n",
       "       8.26226057e-02, 8.40120254e-02, 8.52903533e-02, 8.64664717e-02,\n",
       "       8.75485529e-02, 8.85441156e-02, 8.94600775e-02, 9.03028032e-02,\n",
       "       9.10781483e-02, 9.17915001e-02, 9.24478155e-02, 9.30516549e-02,\n",
       "       9.36072139e-02, 9.41183528e-02, 9.45886234e-02, 9.50212932e-02,\n",
       "       9.54193686e-02, 9.57856156e-02, 9.61225792e-02, 9.64326007e-02,\n",
       "       9.67178342e-02, 9.69802617e-02, 9.72217066e-02, 9.74438467e-02,\n",
       "       9.76482254e-02, 9.78362629e-02, 9.80092658e-02, 9.81684361e-02,\n",
       "       9.83148799e-02, 9.84496146e-02, 9.85735766e-02, 9.86876271e-02,\n",
       "       9.87925587e-02, 9.88891003e-02, 9.89779230e-02, 9.90596437e-02,\n",
       "       9.91348305e-02, 9.92040056e-02, 9.92676498e-02, 9.93262053e-02,\n",
       "       9.93800789e-02, 9.94296451e-02, 9.94752482e-02, 9.95172050e-02,\n",
       "       9.95558072e-02, 9.95913229e-02, 9.96239989e-02, 9.96540623e-02,\n",
       "       9.96817219e-02, 9.97071700e-02, 9.97305834e-02, 9.97521248e-02,\n",
       "       9.97719438e-02, 9.97901782e-02, 9.98069546e-02, 9.98223896e-02,\n",
       "       9.98365906e-02, 9.98496561e-02, 9.98616769e-02, 9.98727366e-02,\n",
       "       9.98829120e-02, 9.98922739e-02, 9.99008872e-02, 9.99088118e-02,\n",
       "       9.99161028e-02, 9.99228109e-02, 9.99289826e-02, 9.99346608e-02,\n",
       "       9.99398850e-02, 9.99446916e-02, 9.99491138e-02, 9.99531824e-02,\n",
       "       9.99569257e-02, 9.99603698e-02, 9.99635384e-02, 9.99664537e-02,\n",
       "       9.99691359e-02, 9.99716037e-02, 9.99738741e-02, 0.00000000e+00])"
      ]
     },
     "execution_count": 18,
     "metadata": {},
     "output_type": "execute_result"
    }
   ],
   "source": [
    "ql"
   ]
  },
  {
   "cell_type": "code",
   "execution_count": 19,
   "id": "3e5010ce",
   "metadata": {},
   "outputs": [
    {
     "data": {
      "text/plain": [
       "array([1.73578201e-48, 1.00000000e-04, 1.00000000e-04, 1.00000000e-04,\n",
       "       1.00000000e-04, 1.00000000e-04, 1.00000000e-04, 1.00000000e-04,\n",
       "       1.00000000e-04, 1.00000000e-04, 1.00000000e-04, 1.00000000e-04,\n",
       "       1.00000000e-04, 1.00000000e-04, 1.00000000e-04, 1.00000000e-04,\n",
       "       1.00000000e-04, 1.00000000e-04, 1.00000000e-04, 1.00000000e-04,\n",
       "       1.00000000e-04, 1.00000000e-04, 1.00000000e-04, 1.00000000e-04,\n",
       "       1.00000000e-04, 1.00000000e-04, 1.00000000e-04, 1.00000000e-04,\n",
       "       1.00000000e-04, 1.00000000e-04, 1.00000000e-04, 1.00000000e-04,\n",
       "       1.00000000e-04, 1.00000000e-04, 1.00000000e-04, 1.00000000e-04,\n",
       "       1.00000000e-04, 1.00000000e-04, 1.00000000e-04, 1.00000000e-04,\n",
       "       1.00000000e-04, 1.00000000e-04, 1.00000000e-04, 1.00000000e-04,\n",
       "       1.00000000e-04, 1.00000000e-04, 1.00000000e-04, 1.00000000e-04,\n",
       "       1.00000000e-04, 1.00000000e-04, 1.00000000e-04, 1.00000000e-04,\n",
       "       1.00000000e-04, 1.00000000e-04, 1.00000000e-04, 1.00000000e-04,\n",
       "       1.00000000e-04, 1.00000000e-04, 1.00000000e-04, 1.00000000e-04,\n",
       "       1.00000000e-04, 1.00000000e-04, 1.00000000e-04, 1.00000000e-04,\n",
       "       1.00000000e-04, 1.00000000e-04, 1.00000000e-04, 1.00000000e-04,\n",
       "       1.00000000e-04, 1.00000000e-04, 1.00000000e-04, 1.00000000e-04,\n",
       "       1.00000000e-04, 1.00000000e-04, 1.00000000e-04, 1.00000000e-04,\n",
       "       1.00000000e-04, 1.00000000e-04, 1.00000000e-04, 1.00000000e-04,\n",
       "       1.00000000e-04, 1.00000000e-04, 1.00000000e-04, 1.00000000e-04,\n",
       "       1.00000000e-04, 1.00000000e-04, 1.00000000e-04, 1.00000000e-04,\n",
       "       1.00000000e-04, 1.00000000e-04, 1.00000000e-04, 1.00000000e-04,\n",
       "       1.00000000e-04, 1.00000000e-04, 1.00000000e-04, 1.00000000e-04,\n",
       "       1.00000000e-04, 1.00000000e-04, 1.00000000e-04, 0.00000000e+00])"
      ]
     },
     "execution_count": 19,
     "metadata": {},
     "output_type": "execute_result"
    }
   ],
   "source": [
    "Eb"
   ]
  },
  {
   "cell_type": "code",
   "execution_count": 20,
   "id": "587364ca",
   "metadata": {},
   "outputs": [
    {
     "data": {
      "text/plain": [
       "array([1.83999219e-48, 1.63383359e-04, 2.12550227e-04, 2.54658090e-04,\n",
       "       2.91119498e-04, 3.22926994e-04, 3.50809264e-04, 3.75327653e-04,\n",
       "       3.96930548e-04, 4.15985746e-04, 4.32800936e-04, 4.47637372e-04,\n",
       "       4.60719437e-04, 4.72241578e-04, 4.82373507e-04, 4.91264202e-04,\n",
       "       4.99045054e-04, 5.05832398e-04, 5.11729566e-04, 5.16828593e-04,\n",
       "       5.21211639e-04, 5.24952192e-04, 5.28116091e-04, 5.30762408e-04,\n",
       "       5.32944206e-04, 5.34709203e-04, 5.36100344e-04, 5.37156312e-04,\n",
       "       5.37911973e-04, 5.38398765e-04, 5.38645054e-04, 5.38676440e-04,\n",
       "       5.38516032e-04, 5.38184700e-04, 5.37701287e-04, 5.37082815e-04,\n",
       "       5.36344654e-04, 5.35500686e-04, 5.34563449e-04, 5.33544258e-04,\n",
       "       5.32453331e-04, 5.31299886e-04, 5.30092238e-04, 5.28837884e-04,\n",
       "       5.27543581e-04, 5.26215416e-04, 5.24858863e-04, 5.23478852e-04,\n",
       "       5.22079807e-04, 5.20665703e-04, 5.19240105e-04, 5.17806206e-04,\n",
       "       5.16366862e-04, 5.14924623e-04, 5.13481766e-04, 5.12040314e-04,\n",
       "       5.10602068e-04, 5.09168619e-04, 5.07741378e-04, 5.06321584e-04,\n",
       "       5.04910326e-04, 5.03508558e-04, 5.02117107e-04, 5.00736691e-04,\n",
       "       4.99367927e-04, 4.98011339e-04, 4.96667373e-04, 4.95336399e-04,\n",
       "       4.94018722e-04, 4.92714586e-04, 4.91424186e-04, 4.90147664e-04,\n",
       "       4.88885124e-04, 4.87636629e-04, 4.86402211e-04, 4.85181868e-04,\n",
       "       4.83975575e-04, 4.82783283e-04, 4.81604919e-04, 4.80440394e-04,\n",
       "       4.79289605e-04, 4.78152431e-04, 4.77028741e-04, 4.75918393e-04,\n",
       "       4.74821237e-04, 4.73737114e-04, 4.72665860e-04, 4.71607304e-04,\n",
       "       4.70561273e-04, 4.69527588e-04, 4.68506070e-04, 4.67496537e-04,\n",
       "       4.66498804e-04, 4.65512688e-04, 4.64538004e-04, 4.63574568e-04,\n",
       "       4.62622196e-04, 4.61680707e-04, 4.60749918e-04, 0.00000000e+00])"
      ]
     },
     "execution_count": 20,
     "metadata": {},
     "output_type": "execute_result"
    }
   ],
   "source": [
    "ql/B_valley"
   ]
  },
  {
   "cell_type": "code",
   "execution_count": 21,
   "id": "a9179593",
   "metadata": {},
   "outputs": [],
   "source": [
    "# calc width\n",
    "\n",
    "b = (kb * Q[1:] * S**(7/6)) / (D**(3/2))"
   ]
  },
  {
   "cell_type": "code",
   "execution_count": 18,
   "id": "74588e8e",
   "metadata": {},
   "outputs": [],
   "source": [
    "# save csv files\n",
    "\n",
    "# np.savetxt('elevation csv files/eta_default.csv', eta_adj, delimiter = ',')\n",
    "# np.savetxt('alpha csv files/alpha_default.csv', alpha, delimiter = ',')\n",
    "# np.savetxt('slope csv files/slope_default.csv', S, delimiter = ',')\n",
    "# np.savetxt('width csv files/b_default.csv', b, delimiter = ',')\n",
    "# np.savetxt('Qs csv files/Qs_default.csv', Qs, delimiter = ',')"
   ]
  },
  {
   "cell_type": "code",
   "execution_count": null,
   "id": "4703fa31",
   "metadata": {},
   "outputs": [],
   "source": []
  }
 ],
 "metadata": {
  "kernelspec": {
   "display_name": "Python 3",
   "language": "python",
   "name": "python3"
  },
  "language_info": {
   "codemirror_mode": {
    "name": "ipython",
    "version": 3
   },
   "file_extension": ".py",
   "mimetype": "text/x-python",
   "name": "python",
   "nbconvert_exporter": "python",
   "pygments_lexer": "ipython3",
   "version": "3.7.6"
  }
 },
 "nbformat": 4,
 "nbformat_minor": 5
}
