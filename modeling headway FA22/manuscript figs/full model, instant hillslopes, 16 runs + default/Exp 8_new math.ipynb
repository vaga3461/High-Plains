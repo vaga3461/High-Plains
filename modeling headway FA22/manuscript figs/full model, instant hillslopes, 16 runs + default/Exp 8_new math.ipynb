{
 "cells": [
  {
   "cell_type": "code",
   "execution_count": 1,
   "id": "8fc20d48",
   "metadata": {},
   "outputs": [],
   "source": [
    "# this model includes ql\n",
    "# it uses instantaneous bedrock erosion rate to calc ql\n",
    "# it uses gamma to represent fraction of plucked material that becomes coarse gravel\n",
    "# it uses theta to represent fraction of hillslope material that enters fluvial system as coarse \n",
    "## (maybe this should be same as gamma, \n",
    "## since the real fxn of this parameter is to tell us \n",
    "## how much coarse stuff is available for bedload transport/abrasion)\n",
    "\n",
    "# potential updates: see if adding weighted average back in to ql calculation still allows for stability\n",
    "## update on the update: this led to stability issues, and it's not worth the time now trying to debug, \n",
    "## so just stick with using instantaneous erosion rate. \n",
    "## Most interested in steady state profiles anyway, so this is fine."
   ]
  },
  {
   "cell_type": "code",
   "execution_count": 2,
   "id": "13f8fb7c",
   "metadata": {},
   "outputs": [],
   "source": [
    "import numpy as np\n",
    "import matplotlib.pyplot as plt"
   ]
  },
  {
   "cell_type": "code",
   "execution_count": 3,
   "id": "a6ba582e",
   "metadata": {},
   "outputs": [],
   "source": [
    "# create a profile\n",
    "dx = 500\n",
    "x = np.arange(0, 50000, dx)\n",
    "x_node = x + (dx/2)\n",
    "\n",
    "# add some elevation\n",
    "Hstar = 0.5 # depth decay\n",
    "etab = np.zeros(len(x)) # bedrock elevation\n",
    "etab[:] = np.linspace(1, 0.1, len(x)) # need to start with slight bedrock slope\n",
    "H = Hstar + np.zeros(len(x)) # alluvium thickness\n",
    "eta = etab + H # topography"
   ]
  },
  {
   "cell_type": "code",
   "execution_count": 4,
   "id": "09d177eb",
   "metadata": {},
   "outputs": [],
   "source": [
    "# define constants and other parameters\n",
    "K = 1e-6 # erodibility\n",
    "beta = 0.0005 # abradability\n",
    "r = 10. # runoff rate\n",
    "U = 0.0001 # uplift or baselevel fall rate\n",
    "I = 0.01 # intermittency\n",
    "phi = 0.1 # porosity\n",
    "D = 0.01 # grain size\n",
    "gamma = 0.5 # fraction plucked that becomes coarse\n",
    "\n",
    "kqs = 0.041 # sed transport coeff\n",
    "kxb = 25 # valley width coeff\n",
    "Pxb = 1./5. # valley width exp\n",
    "kb = 8.3e-8 # channel width coeff\n",
    "\n",
    "B_valley = kxb * (x_node**Pxb) # valley width\n",
    "# Q = (r * kxb * x_node**(1 + Pxb))/(1 + Pxb) # discharge\n",
    "A = (1./3.) * (x**2)\n",
    "Q = r * A"
   ]
  },
  {
   "cell_type": "code",
   "execution_count": 5,
   "id": "98308cda",
   "metadata": {},
   "outputs": [],
   "source": [
    "def model(x, dx, x_node,\n",
    "          K, beta, gamma,\n",
    "          D, phi, Hstar,\n",
    "          kb, kqs, I, r, U,\n",
    "          etab, H, eta,\n",
    "          B_valley, Q,\n",
    "          num_steps = 1):\n",
    "    \n",
    "    q = Q/B_valley\n",
    "    dt = 10\n",
    "    \n",
    "    run_duration = dt * num_steps\n",
    "    cum_time = 0.0\n",
    "    \n",
    "    Qs = np.zeros(len(x))\n",
    "    qs = np.zeros(len(x))\n",
    "    Eb_p = np.zeros(len(x))\n",
    "    Eb_a = np.zeros(len(x))\n",
    "    Eb = np.zeros(len(x))\n",
    "    Eh = np.zeros(len(x))\n",
    "    E = np.zeros(len(x))\n",
    "    ql = np.zeros(len(x)) # lateral sediment supply\n",
    "    \n",
    "    H[-1] = 0\n",
    "    E[-1] = U\n",
    "    q[0] = 0\n",
    "    Qs[0] = 0\n",
    "    \n",
    "    while cum_time < run_duration:\n",
    "        \n",
    "        # drop baselevel\n",
    "        eta[-1] -= U * dt\n",
    "        \n",
    "        # set boundary conditions\n",
    "        etab[-1] = eta[-1]\n",
    "        \n",
    "        # calc slope\n",
    "        S = -np.diff(eta)/dx\n",
    "        \n",
    "        # calc bed exposure\n",
    "        alpha = np.exp(-H/Hstar)\n",
    "        \n",
    "        # calc sed transport\n",
    "        Qs[1:] = kqs * I * Q[1:] * S**(7./6.) * (1 - alpha[:-1])\n",
    "        qs[1:] = Qs[1:] / B_valley[1:]\n",
    "        \n",
    "        # calc bedrock erosion\n",
    "        Eb_p[:-1] = K * Q[1:] * S**(7./6.) * alpha[:-1] * I\n",
    "        Eb_a[:-1] = beta * Qs[1:] * alpha[:-1]\n",
    "        Eb[:-1] = (Eb_p[:-1] + Eb_a[:-1]) / B_valley[:-1]\n",
    "        \n",
    "        # calc lateral flux\n",
    "        ql[:-1] = ((Eb[:-1] * gamma)/beta) * (1 - np.exp(-beta * x[1:]/3))\n",
    "        \n",
    "        # calc grain attrition\n",
    "        atr = Qs * beta\n",
    "        \n",
    "        # calc sediment erosion rate\n",
    "        Eh[:-1] = 1/((1 - phi) * B_valley[:-1]) * (np.diff(Qs)/dx + atr[1:] - (Eb_p[:-1]*gamma) - ql[:-1])\n",
    "        \n",
    "        # calc total erosion rate\n",
    "        E[:-1] = Eb[:-1] + Eh[:-1]\n",
    "        \n",
    "        # update topography\n",
    "        etab[:-1] -= Eb[:-1] * dt\n",
    "        H[:-1] -= Eh[:-1] * dt\n",
    "        H[H<0] = 0\n",
    "        eta[:-1] = etab[:-1] + H[:-1]\n",
    "        \n",
    "        # update elapsed time\n",
    "        cum_time += dt\n",
    "        \n",
    "    print(cum_time)\n",
    "        \n",
    "    return (dt, S, q, alpha, Qs, qs, Eb_p, Eb_a, Eb, ql, atr, Eh, E, etab, H, eta)"
   ]
  },
  {
   "cell_type": "code",
   "execution_count": 6,
   "id": "b9c1fdab",
   "metadata": {},
   "outputs": [
    {
     "name": "stdout",
     "output_type": "stream",
     "text": [
      "80000000.0\n"
     ]
    }
   ],
   "source": [
    "#now write a test\n",
    "num_steps = 8000000\n",
    "\n",
    "test_run = [x, dx, x_node, \n",
    "            K, beta, gamma,\n",
    "            D, phi, Hstar,\n",
    "            kb, kqs, I, r, U,\n",
    "            etab, H, eta,\n",
    "            B_valley, Q,\n",
    "            num_steps]\n",
    "\n",
    "# and run it\n",
    "(dt, S, q, alpha, Qs, qs, Eb_p, Eb_a, Eb, ql, atr, Eh, E, etab, H, eta) = model(*test_run)"
   ]
  },
  {
   "cell_type": "code",
   "execution_count": 7,
   "id": "f33db4cf",
   "metadata": {},
   "outputs": [
    {
     "data": {
      "text/plain": [
       "array([1.e-04, 1.e-04, 1.e-04, 1.e-04, 1.e-04, 1.e-04, 1.e-04, 1.e-04,\n",
       "       1.e-04, 1.e-04, 1.e-04, 1.e-04, 1.e-04, 1.e-04, 1.e-04, 1.e-04,\n",
       "       1.e-04, 1.e-04, 1.e-04, 1.e-04, 1.e-04, 1.e-04, 1.e-04, 1.e-04,\n",
       "       1.e-04, 1.e-04, 1.e-04, 1.e-04, 1.e-04, 1.e-04, 1.e-04, 1.e-04,\n",
       "       1.e-04, 1.e-04, 1.e-04, 1.e-04, 1.e-04, 1.e-04, 1.e-04, 1.e-04,\n",
       "       1.e-04, 1.e-04, 1.e-04, 1.e-04, 1.e-04, 1.e-04, 1.e-04, 1.e-04,\n",
       "       1.e-04, 1.e-04, 1.e-04, 1.e-04, 1.e-04, 1.e-04, 1.e-04, 1.e-04,\n",
       "       1.e-04, 1.e-04, 1.e-04, 1.e-04, 1.e-04, 1.e-04, 1.e-04, 1.e-04,\n",
       "       1.e-04, 1.e-04, 1.e-04, 1.e-04, 1.e-04, 1.e-04, 1.e-04, 1.e-04,\n",
       "       1.e-04, 1.e-04, 1.e-04, 1.e-04, 1.e-04, 1.e-04, 1.e-04, 1.e-04,\n",
       "       1.e-04, 1.e-04, 1.e-04, 1.e-04, 1.e-04, 1.e-04, 1.e-04, 1.e-04,\n",
       "       1.e-04, 1.e-04, 1.e-04, 1.e-04, 1.e-04, 1.e-04, 1.e-04, 1.e-04,\n",
       "       1.e-04, 1.e-04, 1.e-04, 0.e+00])"
      ]
     },
     "execution_count": 7,
     "metadata": {},
     "output_type": "execute_result"
    }
   ],
   "source": [
    "Eb"
   ]
  },
  {
   "cell_type": "code",
   "execution_count": 8,
   "id": "ad181e1d",
   "metadata": {},
   "outputs": [
    {
     "data": {
      "text/plain": [
       "[<matplotlib.lines.Line2D at 0x7ff747ab73d0>]"
      ]
     },
     "execution_count": 8,
     "metadata": {},
     "output_type": "execute_result"
    },
    {
     "data": {
      "image/png": "[encoded data removed]",
      "text/plain": [
       "<Figure size 432x288 with 1 Axes>"
      ]
     },
     "metadata": {
      "needs_background": "light"
     },
     "output_type": "display_data"
    }
   ],
   "source": [
    "plt.plot(S)"
   ]
  },
  {
   "cell_type": "code",
   "execution_count": 9,
   "id": "5f032975",
   "metadata": {},
   "outputs": [
    {
     "data": {
      "text/plain": [
       "[<matplotlib.lines.Line2D at 0x7ff747eb2050>]"
      ]
     },
     "execution_count": 9,
     "metadata": {},
     "output_type": "execute_result"
    },
    {
     "data": {
      "image/png": "[encoded data removed]",
      "text/plain": [
       "<Figure size 432x288 with 1 Axes>"
      ]
     },
     "metadata": {
      "needs_background": "light"
     },
     "output_type": "display_data"
    }
   ],
   "source": [
    "plt.plot(eta)"
   ]
  },
  {
   "cell_type": "code",
   "execution_count": 10,
   "id": "17318f12",
   "metadata": {},
   "outputs": [
    {
     "data": {
      "text/plain": [
       "0.0002926246504921437"
      ]
     },
     "execution_count": 10,
     "metadata": {},
     "output_type": "execute_result"
    }
   ],
   "source": [
    "S[-1]"
   ]
  },
  {
   "cell_type": "code",
   "execution_count": 11,
   "id": "b1005f1a",
   "metadata": {},
   "outputs": [
    {
     "data": {
      "text/plain": [
       "array([-7406.08326763, -7758.69517861, -7852.04811401, -7885.27225505,\n",
       "       -7900.84034799, -7910.65403685, -7917.94872794, -7923.84114334,\n",
       "       -7928.82558253, -7933.16246145, -7937.00669524, -7940.45893563,\n",
       "       -7943.58905748, -7946.44810707, -7949.07489427, -7951.49987477,\n",
       "       -7953.74756253, -7955.83809836, -7957.78831009, -7959.61245336,\n",
       "       -7961.3227447 , -7962.92975497, -7964.44270651, -7965.8697019 ,\n",
       "       -7967.21790336, -7968.49367547, -7969.70270053, -7970.85007267,\n",
       "       -7971.9403757 , -7972.97774802, -7973.96593721, -7974.90834632,\n",
       "       -7975.80807345, -7976.66794566, -7977.49054834, -7978.27825068,\n",
       "       -7979.03322789, -7979.75748068, -7980.45285237, -7981.12104399,\n",
       "       -7981.76362769, -7982.3820586 , -7982.97768541, -7983.55175983,\n",
       "       -7984.10544503, -7984.63982324, -7985.15590256, -7985.65462312,\n",
       "       -7986.13686261, -7986.60344132, -7987.05512664, -7987.49263723,\n",
       "       -7987.91664674, -7988.32778723, -7988.72665228, -7989.11379982,\n",
       "       -7989.4897547 , -7989.85501113, -7990.21003479, -7990.55526484,\n",
       "       -7990.89111576, -7991.21797905, -7991.53622475, -7991.84620288,\n",
       "       -7992.14824475, -7992.4426642 , -7992.7297587 , -7993.00981041,\n",
       "       -7993.2830871 , -7993.54984311, -7993.81032012, -7994.06474794,\n",
       "       -7994.31334523, -7994.55632013, -7994.79387093, -7995.02618661,\n",
       "       -7995.25344737, -7995.47582516, -7995.69348411, -7995.906581  ,\n",
       "       -7996.11526563, -7996.31968124, -7996.51996485, -7996.71624756,\n",
       "       -7996.90865493, -7997.09730722, -7997.28231967, -7997.46380278,\n",
       "       -7997.64186255, -7997.81660068, -7997.98811483, -7998.15649875,\n",
       "       -7998.32184257, -7998.48423288, -7998.64375297, -7998.80048294,\n",
       "       -7998.95449989, -7999.10587804, -7999.25468885, -7999.40000117])"
      ]
     },
     "execution_count": 11,
     "metadata": {},
     "output_type": "execute_result"
    }
   ],
   "source": [
    "eta"
   ]
  },
  {
   "cell_type": "code",
   "execution_count": 12,
   "id": "b881373c",
   "metadata": {},
   "outputs": [],
   "source": [
    "eta_adj = eta - eta[-1]"
   ]
  },
  {
   "cell_type": "code",
   "execution_count": 13,
   "id": "96a0b74e",
   "metadata": {},
   "outputs": [
    {
     "data": {
      "text/plain": [
       "array([5.93316734e+02, 2.40704823e+02, 1.47351887e+02, 1.14127746e+02,\n",
       "       9.85596532e+01, 8.87459643e+01, 8.14512732e+01, 7.55588578e+01,\n",
       "       7.05744186e+01, 6.62375397e+01, 6.23933059e+01, 5.89410655e+01,\n",
       "       5.58109437e+01, 5.29518941e+01, 5.03251069e+01, 4.79001264e+01,\n",
       "       4.56524386e+01, 4.35619028e+01, 4.16116911e+01, 3.97875478e+01,\n",
       "       3.80772565e+01, 3.64702462e+01, 3.49572947e+01, 3.35302993e+01,\n",
       "       3.21820978e+01, 3.09063257e+01, 2.96973006e+01, 2.85499285e+01,\n",
       "       2.74596255e+01, 2.64222531e+01, 2.54340640e+01, 2.44916549e+01,\n",
       "       2.35919277e+01, 2.27320555e+01, 2.19094528e+01, 2.11217505e+01,\n",
       "       2.03667733e+01, 1.96425205e+01, 1.89471488e+01, 1.82789572e+01,\n",
       "       1.76363735e+01, 1.70179426e+01, 1.64223158e+01, 1.58482413e+01,\n",
       "       1.52945561e+01, 1.47601779e+01, 1.42440986e+01, 1.37453781e+01,\n",
       "       1.32631386e+01, 1.27965599e+01, 1.23448745e+01, 1.19073639e+01,\n",
       "       1.14833544e+01, 1.10722139e+01, 1.06733489e+01, 1.02862014e+01,\n",
       "       9.91024647e+00, 9.54499004e+00, 9.18996638e+00, 8.84473633e+00,\n",
       "       8.50888541e+00, 8.18202212e+00, 7.86377642e+00, 7.55379829e+00,\n",
       "       7.25175642e+00, 6.95733697e+00, 6.67024247e+00, 6.39019076e+00,\n",
       "       6.11691407e+00, 5.85015806e+00, 5.58968105e+00, 5.33525323e+00,\n",
       "       5.08665594e+00, 4.84368104e+00, 4.60613024e+00, 4.37381456e+00,\n",
       "       4.14655380e+00, 3.92417601e+00, 3.70651706e+00, 3.49342017e+00,\n",
       "       3.28473554e+00, 3.08031993e+00, 2.88003632e+00, 2.68375361e+00,\n",
       "       2.49134624e+00, 2.30269395e+00, 2.11768150e+00, 1.93619839e+00,\n",
       "       1.75813862e+00, 1.58340049e+00, 1.41188635e+00, 1.24350242e+00,\n",
       "       1.07815860e+00, 9.15768291e-01, 7.56248203e-01, 5.99518229e-01,\n",
       "       4.45501277e-01, 2.94123133e-01, 1.45312325e-01, 0.00000000e+00])"
      ]
     },
     "execution_count": 13,
     "metadata": {},
     "output_type": "execute_result"
    }
   ],
   "source": [
    "eta_adj"
   ]
  },
  {
   "cell_type": "code",
   "execution_count": 14,
   "id": "f04b7bea",
   "metadata": {},
   "outputs": [],
   "source": [
    "# save csv files\n",
    "\n",
    "np.savetxt('elevation csv files/eta_exp_8.csv', eta_adj, delimiter = ',')\n",
    "np.savetxt('alpha csv files/alpha_exp_8.csv', alpha, delimiter = ',')\n",
    "np.savetxt('slope csv files/slope_exp_8.csv', S, delimiter = ',')"
   ]
  },
  {
   "cell_type": "code",
   "execution_count": 15,
   "id": "1458c265",
   "metadata": {},
   "outputs": [],
   "source": [
    "# calc width\n",
    "\n",
    "b = (kb * Q[1:] * S**(7/6)) / (D**(3/2))\n",
    "\n",
    "np.savetxt('width csv files/b_exp_8.csv', b, delimiter = ',')\n",
    "np.savetxt('Qs csv files/Qs_exp_8.csv', Qs, delimiter = ',')"
   ]
  }
 ],
 "metadata": {
  "kernelspec": {
   "display_name": "Python 3",
   "language": "python",
   "name": "python3"
  },
  "language_info": {
   "codemirror_mode": {
    "name": "ipython",
    "version": 3
   },
   "file_extension": ".py",
   "mimetype": "text/x-python",
   "name": "python",
   "nbconvert_exporter": "python",
   "pygments_lexer": "ipython3",
   "version": "3.7.6"
  }
 },
 "nbformat": 4,
 "nbformat_minor": 5
}
