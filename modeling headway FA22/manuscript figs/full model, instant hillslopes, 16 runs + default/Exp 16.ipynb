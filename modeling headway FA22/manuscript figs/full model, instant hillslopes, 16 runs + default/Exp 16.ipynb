{
 "cells": [
  {
   "cell_type": "code",
   "execution_count": 1,
   "id": "8fc20d48",
   "metadata": {},
   "outputs": [],
   "source": [
    "# this model includes ql\n",
    "# it uses instantaneous bedrock erosion rate to calc ql\n",
    "# it uses gamma to represent fraction of plucked material that becomes coarse gravel\n",
    "# it uses theta to represent fraction of hillslope material that enters fluvial system as coarse \n",
    "## (maybe this should be same as gamma, \n",
    "## since the real fxn of this parameter is to tell us \n",
    "## how much coarse stuff is available for bedload transport/abrasion)\n",
    "\n",
    "# potential updates: see if adding weighted average back in to ql calculation still allows for stability\n",
    "## update on the update: this led to stability issues, and it's not worth the time now trying to debug, \n",
    "## so just stick with using instantaneous erosion rate. \n",
    "## Most interested in steady state profiles anyway, so this is fine."
   ]
  },
  {
   "cell_type": "code",
   "execution_count": 2,
   "id": "13f8fb7c",
   "metadata": {},
   "outputs": [],
   "source": [
    "import numpy as np\n",
    "import matplotlib.pyplot as plt"
   ]
  },
  {
   "cell_type": "code",
   "execution_count": 3,
   "id": "a6ba582e",
   "metadata": {},
   "outputs": [],
   "source": [
    "# create a profile\n",
    "dx = 500\n",
    "x = np.arange(0, 50000, dx)\n",
    "x_node = x + (dx/2)\n",
    "\n",
    "# add some elevation\n",
    "Hstar = 0.5 # depth decay\n",
    "etab = np.zeros(len(x)) # bedrock elevation\n",
    "etab[:] = np.linspace(1, 0.1, len(x)) # need to start with slight bedrock slope\n",
    "H = Hstar + np.zeros(len(x)) # alluvium thickness\n",
    "eta = etab + H # topography"
   ]
  },
  {
   "cell_type": "code",
   "execution_count": 4,
   "id": "09d177eb",
   "metadata": {},
   "outputs": [],
   "source": [
    "# define constants and other parameters\n",
    "K = 1e-7 # erodibility\n",
    "beta = 0.0005 # abradability\n",
    "r = 5. # runoff rate\n",
    "U = 0.0001 # uplift or baselevel fall rate\n",
    "I = 0.01 # intermittency\n",
    "phi = 0.1 # porosity\n",
    "D = 0.01 # grain size\n",
    "gamma = 0.75 # fraction plucked that becomes coarse\n",
    "theta = 0.75 # fraction hillslope that enters as coarse\n",
    "# treat as same!!! Point is what fraction becomes coarse\n",
    "# so just be sure to change these together\n",
    "\n",
    "kqs = 0.041 # sed transport coeff\n",
    "kxb = 25 # valley width coeff\n",
    "Pxb = 1./5. # valley width exp\n",
    "kb = 8.3e-8 # channel width coeff\n",
    "\n",
    "B_valley = kxb * (x_node**Pxb) # valley width\n",
    "# Q = (r * kxb * x_node**(1 + Pxb))/(1 + Pxb) # discharge\n",
    "A = (1./3.) * (x**2)\n",
    "Q = r * A"
   ]
  },
  {
   "cell_type": "code",
   "execution_count": 5,
   "id": "98308cda",
   "metadata": {},
   "outputs": [],
   "source": [
    "def model(x, dx, x_node,\n",
    "          K, beta, gamma, theta,\n",
    "          D, phi, Hstar,\n",
    "          kb, kqs, I, r, U,\n",
    "          etab, H, eta,\n",
    "          B_valley, Q,\n",
    "          num_steps = 1):\n",
    "    \n",
    "    q = Q/B_valley\n",
    "    dt = 50\n",
    "    \n",
    "    run_duration = dt * num_steps\n",
    "    cum_time = 0.0\n",
    "    \n",
    "    Qs = np.zeros(len(x))\n",
    "    qs = np.zeros(len(x))\n",
    "    Eb_p = np.zeros(len(x))\n",
    "    Eb_a = np.zeros(len(x))\n",
    "    Eb = np.zeros(len(x))\n",
    "    Eh = np.zeros(len(x))\n",
    "    E = np.zeros(len(x))\n",
    "    ql = np.zeros(len(x)) # lateral sediment supply\n",
    "    \n",
    "    H[-1] = 0\n",
    "    E[-1] = U\n",
    "    q[0] = 0\n",
    "    Qs[0] = 0\n",
    "    \n",
    "    while cum_time < run_duration:\n",
    "        \n",
    "        # drop baselevel\n",
    "        eta[-1] -= U * dt\n",
    "        \n",
    "        # set boundary conditions\n",
    "        etab[-1] = eta[-1]\n",
    "        \n",
    "        # calc slope\n",
    "        S = -np.diff(eta)/dx\n",
    "        \n",
    "        # calc bed exposure\n",
    "        alpha = np.exp(-H/Hstar)\n",
    "        \n",
    "        # calc sed transport\n",
    "        Qs[1:] = kqs * I * Q[1:] * S**(7./6.) * (1 - alpha[:-1])\n",
    "        qs[1:] = Qs[1:] / B_valley[1:]\n",
    "        \n",
    "        # calc bedrock erosion\n",
    "        Eb_p[:-1] = K * Q[1:] * S**(7./6.) * alpha[:-1] * gamma\n",
    "        Eb_a[:-1] = beta * Qs[1:] * alpha[:-1]\n",
    "        Eb[:-1] = (Eb_p[:-1] + Eb_a[:-1]) / B_valley[:-1]\n",
    "        \n",
    "        # calc lateral flux\n",
    "        ql[:-1] = ((Eb[:-1] * theta)/beta) * (1 - np.exp(-beta * x[1:]/3))\n",
    "        \n",
    "        # calc grain attrition\n",
    "        atr = Qs * beta\n",
    "        \n",
    "        # calc sediment erosion rate\n",
    "        Eh[:-1] = 1/((1 - phi) * B_valley[:-1]) * (np.diff(Qs)/dx + atr[1:] - Eb_p[:-1] - ql[:-1])\n",
    "        \n",
    "        # calc total erosion rate\n",
    "        E[:-1] = Eb[:-1] + Eh[:-1]\n",
    "        \n",
    "        # update topography\n",
    "        etab[:-1] -= Eb[:-1] * dt\n",
    "        H[:-1] -= Eh[:-1] * dt\n",
    "        H[H<0] = 0\n",
    "        eta[:-1] = etab[:-1] + H[:-1]\n",
    "        \n",
    "        # update elapsed time\n",
    "        cum_time += dt\n",
    "        \n",
    "    print(cum_time)\n",
    "        \n",
    "    return (dt, S, q, alpha, Qs, qs, Eb_p, Eb_a, Eb, ql, atr, Eh, E, etab, H, eta)"
   ]
  },
  {
   "cell_type": "code",
   "execution_count": 6,
   "id": "b9c1fdab",
   "metadata": {},
   "outputs": [
    {
     "name": "stdout",
     "output_type": "stream",
     "text": [
      "100000000.0\n"
     ]
    }
   ],
   "source": [
    "#now write a test\n",
    "num_steps = 2000000\n",
    "\n",
    "test_run = [x, dx, x_node, \n",
    "            K, beta, gamma, theta,\n",
    "            D, phi, Hstar,\n",
    "            kb, kqs, I, r, U,\n",
    "            etab, H, eta,\n",
    "            B_valley, Q,\n",
    "            num_steps]\n",
    "\n",
    "# and run it\n",
    "(dt, S, q, alpha, Qs, qs, Eb_p, Eb_a, Eb, ql, atr, Eh, E, etab, H, eta) = model(*test_run)"
   ]
  },
  {
   "cell_type": "code",
   "execution_count": 7,
   "id": "f33db4cf",
   "metadata": {},
   "outputs": [
    {
     "data": {
      "text/plain": [
       "array([1.00000000e-04, 1.00000000e-04, 1.00000000e-04, 1.00000000e-04,\n",
       "       1.00000000e-04, 1.00000000e-04, 1.00000000e-04, 1.00000000e-04,\n",
       "       1.00000000e-04, 1.00000000e-04, 1.00000000e-04, 1.00000000e-04,\n",
       "       1.00000000e-04, 1.00000000e-04, 1.00000000e-04, 1.00000000e-04,\n",
       "       1.00000000e-04, 1.00000000e-04, 1.00000000e-04, 1.00000000e-04,\n",
       "       1.00000000e-04, 1.00000000e-04, 1.00000000e-04, 1.00000000e-04,\n",
       "       1.00000000e-04, 1.00000000e-04, 1.00000000e-04, 1.00000000e-04,\n",
       "       1.00000000e-04, 1.00000000e-04, 1.00000000e-04, 1.00000000e-04,\n",
       "       1.00000000e-04, 1.00000000e-04, 1.00000000e-04, 1.00000000e-04,\n",
       "       1.00000000e-04, 1.00000000e-04, 1.00000000e-04, 1.00000000e-04,\n",
       "       1.00000000e-04, 1.00000000e-04, 1.00000000e-04, 1.00000000e-04,\n",
       "       1.00000000e-04, 1.00000000e-04, 1.00000000e-04, 1.00000000e-04,\n",
       "       1.00000000e-04, 1.00000000e-04, 1.00000000e-04, 1.00000000e-04,\n",
       "       1.00000000e-04, 1.00000000e-04, 1.00000000e-04, 1.00000000e-04,\n",
       "       1.00000000e-04, 1.00000000e-04, 1.00000000e-04, 1.00000000e-04,\n",
       "       1.00000000e-04, 1.00000000e-04, 1.00000000e-04, 1.00000000e-04,\n",
       "       1.00000000e-04, 1.00000000e-04, 1.00000000e-04, 9.99999998e-05,\n",
       "       1.00000001e-04, 9.99999980e-05, 1.00000007e-04, 9.99999770e-05,\n",
       "       1.00000074e-04, 9.99997701e-05, 1.00000685e-04, 9.99980418e-05,\n",
       "       1.00005370e-04, 9.99858851e-05, 1.00035514e-04, 9.99145634e-05,\n",
       "       1.00196252e-04, 9.95702827e-05, 1.00895164e-04, 9.82299892e-05,\n",
       "       1.03313387e-04, 9.41438592e-05, 1.09749724e-04, 8.47254340e-05,\n",
       "       1.22543824e-04, 6.85483115e-05, 1.41672880e-04, 4.73183962e-05,\n",
       "       1.63795066e-04, 2.57491603e-05, 1.83152527e-04, 1.12685342e-05,\n",
       "       1.85479075e-04, 3.93090536e-05, 1.14518335e-04, 0.00000000e+00])"
      ]
     },
     "execution_count": 7,
     "metadata": {},
     "output_type": "execute_result"
    }
   ],
   "source": [
    "Eb"
   ]
  },
  {
   "cell_type": "code",
   "execution_count": 8,
   "id": "ad181e1d",
   "metadata": {},
   "outputs": [
    {
     "data": {
      "text/plain": [
       "[<matplotlib.lines.Line2D at 0x7fd36fc83c10>]"
      ]
     },
     "execution_count": 8,
     "metadata": {},
     "output_type": "execute_result"
    },
    {
     "data": {
      "image/png": "[encoded data removed]",
      "text/plain": [
       "<Figure size 432x288 with 1 Axes>"
      ]
     },
     "metadata": {
      "needs_background": "light"
     },
     "output_type": "display_data"
    }
   ],
   "source": [
    "plt.plot(S)"
   ]
  },
  {
   "cell_type": "code",
   "execution_count": 9,
   "id": "5f032975",
   "metadata": {},
   "outputs": [
    {
     "data": {
      "text/plain": [
       "[<matplotlib.lines.Line2D at 0x7fd36fea1290>]"
      ]
     },
     "execution_count": 9,
     "metadata": {},
     "output_type": "execute_result"
    },
    {
     "data": {
      "image/png": "[encoded data removed]",
      "text/plain": [
       "<Figure size 432x288 with 1 Axes>"
      ]
     },
     "metadata": {
      "needs_background": "light"
     },
     "output_type": "display_data"
    }
   ],
   "source": [
    "plt.plot(eta)"
   ]
  },
  {
   "cell_type": "code",
   "execution_count": 10,
   "id": "17318f12",
   "metadata": {},
   "outputs": [
    {
     "data": {
      "text/plain": [
       "0.000871645414208615"
      ]
     },
     "execution_count": 10,
     "metadata": {},
     "output_type": "execute_result"
    }
   ],
   "source": [
    "S[-1]"
   ]
  },
  {
   "cell_type": "code",
   "execution_count": 11,
   "id": "b1005f1a",
   "metadata": {},
   "outputs": [
    {
     "data": {
      "text/plain": [
       "array([-9568.38333341, -9691.43496389, -9736.18959614, -9763.02975964,\n",
       "       -9782.75279027, -9798.65801099, -9812.12524403, -9823.85910959,\n",
       "       -9834.27182298, -9843.62920849, -9852.11552068, -9859.86565328,\n",
       "       -9866.98260414, -9873.54763284, -9879.62651977, -9885.27361497,\n",
       "       -9890.53456828, -9895.44823722, -9900.04806251, -9904.3630868 ,\n",
       "       -9908.41872735, -9912.23737425, -9915.83886201, -9919.24084727,\n",
       "       -9922.45911553, -9925.50783326, -9928.3997574 , -9931.14641097,\n",
       "       -9933.7582316 , -9936.2446981 , -9938.6144389 , -9940.87532562,\n",
       "       -9943.03455414, -9945.09871529, -9947.07385662, -9948.96553663,\n",
       "       -9950.77887265, -9952.51858306, -9954.18902482, -9955.79422679,\n",
       "       -9957.33791943, -9958.82356143, -9960.25436343, -9961.63330942,\n",
       "       -9962.96317593, -9964.24654937, -9965.48584161, -9966.68330416,\n",
       "       -9967.84104095, -9968.96101995, -9970.04508371, -9971.09495898,\n",
       "       -9972.11226543, -9973.09852368, -9974.05516252, -9974.98352566,\n",
       "       -9975.88487777, -9976.76041011, -9977.61124566, -9978.43844387,\n",
       "       -9979.24300494, -9980.02587388, -9980.78794417, -9981.53006116,\n",
       "       -9982.25302521, -9982.9575946 , -9983.64448818, -9984.31438793,\n",
       "       -9984.96794118, -9985.60576279, -9986.22843715, -9986.8365199 ,\n",
       "       -9987.43054007, -9988.01100027, -9988.5783826 , -9989.13313661,\n",
       "       -9989.67571976, -9990.20648867, -9990.72599678, -9991.23422753,\n",
       "       -9991.73250278, -9992.21894297, -9992.69881327, -9993.16199291,\n",
       "       -9993.629793  , -9994.06226739, -9994.5325288 , -9994.91575758,\n",
       "       -9995.41348825, -9995.71945267, -9996.26876922, -9996.4778282 ,\n",
       "       -9997.08119847, -9997.19987476, -9997.83746323, -9997.89134621,\n",
       "       -9998.53554013, -9998.58012048, -9999.14917672, -9999.39999987])"
      ]
     },
     "execution_count": 11,
     "metadata": {},
     "output_type": "execute_result"
    }
   ],
   "source": [
    "eta"
   ]
  },
  {
   "cell_type": "code",
   "execution_count": 12,
   "id": "b881373c",
   "metadata": {},
   "outputs": [],
   "source": [
    "eta_adj = eta - eta[-1]"
   ]
  },
  {
   "cell_type": "code",
   "execution_count": 13,
   "id": "96a0b74e",
   "metadata": {},
   "outputs": [
    {
     "data": {
      "text/plain": [
       "array([4.31016666e+02, 3.07965036e+02, 2.63210404e+02, 2.36370240e+02,\n",
       "       2.16647210e+02, 2.00741989e+02, 1.87274756e+02, 1.75540890e+02,\n",
       "       1.65128177e+02, 1.55770791e+02, 1.47284479e+02, 1.39534347e+02,\n",
       "       1.32417396e+02, 1.25852367e+02, 1.19773480e+02, 1.14126385e+02,\n",
       "       1.08865432e+02, 1.03951763e+02, 9.93519374e+01, 9.50369131e+01,\n",
       "       9.09812725e+01, 8.71626256e+01, 8.35611379e+01, 8.01591526e+01,\n",
       "       7.69408843e+01, 7.38921666e+01, 7.10002425e+01, 6.82535889e+01,\n",
       "       6.56417683e+01, 6.31553018e+01, 6.07855610e+01, 5.85246742e+01,\n",
       "       5.63654457e+01, 5.43012846e+01, 5.23261433e+01, 5.04344632e+01,\n",
       "       4.86211272e+01, 4.68814168e+01, 4.52109750e+01, 4.36057731e+01,\n",
       "       4.20620804e+01, 4.05764384e+01, 3.91456364e+01, 3.77666904e+01,\n",
       "       3.64368239e+01, 3.51534505e+01, 3.39141583e+01, 3.27166957e+01,\n",
       "       3.15589589e+01, 3.04389799e+01, 2.93549162e+01, 2.83050409e+01,\n",
       "       2.72877344e+01, 2.63014762e+01, 2.53448373e+01, 2.44164742e+01,\n",
       "       2.35151221e+01, 2.26395898e+01, 2.17887542e+01, 2.09615560e+01,\n",
       "       2.01569949e+01, 1.93741260e+01, 1.86120557e+01, 1.78699387e+01,\n",
       "       1.71469747e+01, 1.64424053e+01, 1.57555117e+01, 1.50856119e+01,\n",
       "       1.44320587e+01, 1.37942371e+01, 1.31715627e+01, 1.25634800e+01,\n",
       "       1.19694598e+01, 1.13889996e+01, 1.08216173e+01, 1.02668633e+01,\n",
       "       9.72428011e+00, 9.19351120e+00, 8.67400308e+00, 8.16577233e+00,\n",
       "       7.66749709e+00, 7.18105689e+00, 6.70118659e+00, 6.23800696e+00,\n",
       "       5.77020687e+00, 5.33773248e+00, 4.86747106e+00, 4.48424229e+00,\n",
       "       3.98651161e+00, 3.68054719e+00, 3.13123064e+00, 2.92217166e+00,\n",
       "       2.31880140e+00, 2.20012511e+00, 1.56253664e+00, 1.50865366e+00,\n",
       "       8.64459733e-01, 8.19879388e-01, 2.50823151e-01, 0.00000000e+00])"
      ]
     },
     "execution_count": 13,
     "metadata": {},
     "output_type": "execute_result"
    }
   ],
   "source": [
    "eta_adj"
   ]
  },
  {
   "cell_type": "code",
   "execution_count": null,
   "id": "f04b7bea",
   "metadata": {},
   "outputs": [],
   "source": []
  }
 ],
 "metadata": {
  "kernelspec": {
   "display_name": "Python 3",
   "language": "python",
   "name": "python3"
  },
  "language_info": {
   "codemirror_mode": {
    "name": "ipython",
    "version": 3
   },
   "file_extension": ".py",
   "mimetype": "text/x-python",
   "name": "python",
   "nbconvert_exporter": "python",
   "pygments_lexer": "ipython3",
   "version": "3.7.6"
  }
 },
 "nbformat": 4,
 "nbformat_minor": 5
}
