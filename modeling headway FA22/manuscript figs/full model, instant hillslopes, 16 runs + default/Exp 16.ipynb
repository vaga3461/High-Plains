{
 "cells": [
  {
   "cell_type": "code",
   "execution_count": 1,
   "id": "8fc20d48",
   "metadata": {},
   "outputs": [],
   "source": [
    "# this model includes ql\n",
    "# it uses instantaneous bedrock erosion rate to calc ql\n",
    "# it uses gamma to represent fraction of plucked material that becomes coarse gravel\n",
    "# it uses theta to represent fraction of hillslope material that enters fluvial system as coarse \n",
    "## (maybe this should be same as gamma, \n",
    "## since the real fxn of this parameter is to tell us \n",
    "## how much coarse stuff is available for bedload transport/abrasion)\n",
    "\n",
    "# potential updates: see if adding weighted average back in to ql calculation still allows for stability\n",
    "## update on the update: this led to stability issues, and it's not worth the time now trying to debug, \n",
    "## so just stick with using instantaneous erosion rate. \n",
    "## Most interested in steady state profiles anyway, so this is fine."
   ]
  },
  {
   "cell_type": "code",
   "execution_count": 2,
   "id": "13f8fb7c",
   "metadata": {},
   "outputs": [],
   "source": [
    "import numpy as np\n",
    "import matplotlib.pyplot as plt"
   ]
  },
  {
   "cell_type": "code",
   "execution_count": 3,
   "id": "a6ba582e",
   "metadata": {},
   "outputs": [],
   "source": [
    "# create a profile\n",
    "dx = 500\n",
    "x = np.arange(0, 50000, dx)\n",
    "x_node = x + (dx/2)\n",
    "\n",
    "# add some elevation\n",
    "Hstar = 0.5 # depth decay\n",
    "etab = np.zeros(len(x)) # bedrock elevation\n",
    "etab[:] = np.linspace(1, 0.1, len(x)) # need to start with slight bedrock slope\n",
    "H = Hstar + np.zeros(len(x)) # alluvium thickness\n",
    "eta = etab + H # topography"
   ]
  },
  {
   "cell_type": "code",
   "execution_count": 4,
   "id": "09d177eb",
   "metadata": {},
   "outputs": [],
   "source": [
    "# define constants and other parameters\n",
    "K = 1e-7 # erodibility\n",
    "beta = 0.0005 # abradability\n",
    "r = 5. # runoff rate\n",
    "U = 0.0001 # uplift or baselevel fall rate\n",
    "I = 0.01 # intermittency\n",
    "phi = 0.1 # porosity\n",
    "D = 0.01 # grain size\n",
    "gamma = 0.75 # fraction plucked that becomes coarse\n",
    "theta = 0.75 # fraction hillslope that enters as coarse\n",
    "# treat as same!!! Point is what fraction becomes coarse\n",
    "# so just be sure to change these together\n",
    "\n",
    "kqs = 0.041 # sed transport coeff\n",
    "kxb = 25 # valley width coeff\n",
    "Pxb = 1./5. # valley width exp\n",
    "kb = 8.3e-8 # channel width coeff\n",
    "\n",
    "B_valley = kxb * (x_node**Pxb) # valley width\n",
    "# Q = (r * kxb * x_node**(1 + Pxb))/(1 + Pxb) # discharge\n",
    "A = (1./3.) * (x**2)\n",
    "Q = r * A"
   ]
  },
  {
   "cell_type": "code",
   "execution_count": 5,
   "id": "98308cda",
   "metadata": {},
   "outputs": [],
   "source": [
    "def model(x, dx, x_node,\n",
    "          K, beta, gamma, theta,\n",
    "          D, phi, Hstar,\n",
    "          kb, kqs, I, r, U,\n",
    "          etab, H, eta,\n",
    "          B_valley, Q,\n",
    "          num_steps = 1):\n",
    "    \n",
    "    q = Q/B_valley\n",
    "    dt = 10\n",
    "    \n",
    "    run_duration = dt * num_steps\n",
    "    cum_time = 0.0\n",
    "    \n",
    "    Qs = np.zeros(len(x))\n",
    "    qs = np.zeros(len(x))\n",
    "    Eb_p = np.zeros(len(x))\n",
    "    Eb_a = np.zeros(len(x))\n",
    "    Eb = np.zeros(len(x))\n",
    "    Eh = np.zeros(len(x))\n",
    "    E = np.zeros(len(x))\n",
    "    ql = np.zeros(len(x)) # lateral sediment supply\n",
    "    \n",
    "    H[-1] = 0\n",
    "    E[-1] = U\n",
    "    q[0] = 0\n",
    "    Qs[0] = 0\n",
    "    \n",
    "    while cum_time < run_duration:\n",
    "        \n",
    "        # drop baselevel\n",
    "        eta[-1] -= U * dt\n",
    "        \n",
    "        # set boundary conditions\n",
    "        etab[-1] = eta[-1]\n",
    "        \n",
    "        # calc slope\n",
    "        S = -np.diff(eta)/dx\n",
    "        \n",
    "        # calc bed exposure\n",
    "        alpha = np.exp(-H/Hstar)\n",
    "        \n",
    "        # calc sed transport\n",
    "        Qs[1:] = kqs * I * Q[1:] * S**(7./6.) * (1 - alpha[:-1])\n",
    "        qs[1:] = Qs[1:] / B_valley[1:]\n",
    "        \n",
    "        # calc bedrock erosion\n",
    "        Eb_p[:-1] = K * Q[1:] * S**(7./6.) * alpha[:-1] * gamma\n",
    "        Eb_a[:-1] = beta * Qs[1:] * alpha[:-1]\n",
    "        Eb[:-1] = (Eb_p[:-1] + Eb_a[:-1]) / B_valley[:-1]\n",
    "        \n",
    "        # calc lateral flux\n",
    "        ql[:-1] = ((Eb[:-1] * theta)/beta) * (1 - np.exp(-beta * x[1:]/3))\n",
    "        \n",
    "        # calc grain attrition\n",
    "        atr = Qs * beta\n",
    "        \n",
    "        # calc sediment erosion rate\n",
    "        Eh[:-1] = 1/((1 - phi) * B_valley[:-1]) * (np.diff(Qs)/dx + atr[1:] - Eb_p[:-1] - ql[:-1])\n",
    "        \n",
    "        # calc total erosion rate\n",
    "        E[:-1] = Eb[:-1] + Eh[:-1]\n",
    "        \n",
    "        # update topography\n",
    "        etab[:-1] -= Eb[:-1] * dt\n",
    "        H[:-1] -= Eh[:-1] * dt\n",
    "        H[H<0] = 0\n",
    "        eta[:-1] = etab[:-1] + H[:-1]\n",
    "        \n",
    "        # update elapsed time\n",
    "        cum_time += dt\n",
    "        \n",
    "    print(cum_time)\n",
    "        \n",
    "    return (dt, S, q, alpha, Qs, qs, Eb_p, Eb_a, Eb, ql, atr, Eh, E, etab, H, eta)"
   ]
  },
  {
   "cell_type": "code",
   "execution_count": 6,
   "id": "b9c1fdab",
   "metadata": {},
   "outputs": [
    {
     "name": "stdout",
     "output_type": "stream",
     "text": [
      "20000000.0\n"
     ]
    }
   ],
   "source": [
    "#now write a test\n",
    "num_steps = 2000000\n",
    "\n",
    "test_run = [x, dx, x_node, \n",
    "            K, beta, gamma, theta,\n",
    "            D, phi, Hstar,\n",
    "            kb, kqs, I, r, U,\n",
    "            etab, H, eta,\n",
    "            B_valley, Q,\n",
    "            num_steps]\n",
    "\n",
    "# and run it\n",
    "(dt, S, q, alpha, Qs, qs, Eb_p, Eb_a, Eb, ql, atr, Eh, E, etab, H, eta) = model(*test_run)"
   ]
  },
  {
   "cell_type": "code",
   "execution_count": 7,
   "id": "f33db4cf",
   "metadata": {},
   "outputs": [
    {
     "data": {
      "text/plain": [
       "array([0.0001, 0.0001, 0.0001, 0.0001, 0.0001, 0.0001, 0.0001, 0.0001,\n",
       "       0.0001, 0.0001, 0.0001, 0.0001, 0.0001, 0.0001, 0.0001, 0.0001,\n",
       "       0.0001, 0.0001, 0.0001, 0.0001, 0.0001, 0.0001, 0.0001, 0.0001,\n",
       "       0.0001, 0.0001, 0.0001, 0.0001, 0.0001, 0.0001, 0.0001, 0.0001,\n",
       "       0.0001, 0.0001, 0.0001, 0.0001, 0.0001, 0.0001, 0.0001, 0.0001,\n",
       "       0.0001, 0.0001, 0.0001, 0.0001, 0.0001, 0.0001, 0.0001, 0.0001,\n",
       "       0.0001, 0.0001, 0.0001, 0.0001, 0.0001, 0.0001, 0.0001, 0.0001,\n",
       "       0.0001, 0.0001, 0.0001, 0.0001, 0.0001, 0.0001, 0.0001, 0.0001,\n",
       "       0.0001, 0.0001, 0.0001, 0.0001, 0.0001, 0.0001, 0.0001, 0.0001,\n",
       "       0.0001, 0.0001, 0.0001, 0.0001, 0.0001, 0.0001, 0.0001, 0.0001,\n",
       "       0.0001, 0.0001, 0.0001, 0.0001, 0.0001, 0.0001, 0.0001, 0.0001,\n",
       "       0.0001, 0.0001, 0.0001, 0.0001, 0.0001, 0.0001, 0.0001, 0.0001,\n",
       "       0.0001, 0.0001, 0.0001, 0.    ])"
      ]
     },
     "execution_count": 7,
     "metadata": {},
     "output_type": "execute_result"
    }
   ],
   "source": [
    "np.round(Eb, 4)"
   ]
  },
  {
   "cell_type": "code",
   "execution_count": 8,
   "id": "ad181e1d",
   "metadata": {},
   "outputs": [
    {
     "data": {
      "text/plain": [
       "[<matplotlib.lines.Line2D at 0x7f9a34226390>]"
      ]
     },
     "execution_count": 8,
     "metadata": {},
     "output_type": "execute_result"
    },
    {
     "data": {
      "image/png": "[encoded data removed]",
      "text/plain": [
       "<Figure size 432x288 with 1 Axes>"
      ]
     },
     "metadata": {
      "needs_background": "light"
     },
     "output_type": "display_data"
    }
   ],
   "source": [
    "plt.plot(S)"
   ]
  },
  {
   "cell_type": "code",
   "execution_count": 9,
   "id": "5f032975",
   "metadata": {},
   "outputs": [
    {
     "data": {
      "text/plain": [
       "[<matplotlib.lines.Line2D at 0x7f9a34662290>]"
      ]
     },
     "execution_count": 9,
     "metadata": {},
     "output_type": "execute_result"
    },
    {
     "data": {
      "image/png": "[encoded data removed]",
      "text/plain": [
       "<Figure size 432x288 with 1 Axes>"
      ]
     },
     "metadata": {
      "needs_background": "light"
     },
     "output_type": "display_data"
    }
   ],
   "source": [
    "plt.plot(eta)"
   ]
  },
  {
   "cell_type": "code",
   "execution_count": 10,
   "id": "17318f12",
   "metadata": {},
   "outputs": [
    {
     "data": {
      "text/plain": [
       "0.000695372386883264"
      ]
     },
     "execution_count": 10,
     "metadata": {},
     "output_type": "execute_result"
    }
   ],
   "source": [
    "S[-1]"
   ]
  },
  {
   "cell_type": "code",
   "execution_count": 11,
   "id": "b1005f1a",
   "metadata": {},
   "outputs": [
    {
     "data": {
      "text/plain": [
       "array([-1568.22950379, -1691.28105587, -1736.03568429, -1762.87584586,\n",
       "       -1782.59887543, -1798.50409554, -1811.9713282 , -1823.7051935 ,\n",
       "       -1834.11790673, -1843.47529213, -1851.96160423, -1859.71173678,\n",
       "       -1866.8286876 , -1873.39371627, -1879.47260318, -1885.11969837,\n",
       "       -1890.38065167, -1895.2943206 , -1899.89414588, -1904.20917017,\n",
       "       -1908.26481072, -1912.08345762, -1915.68494537, -1919.08693063,\n",
       "       -1922.30519889, -1925.35391662, -1928.24584076, -1930.99249432,\n",
       "       -1933.60431496, -1936.09078146, -1938.46052226, -1940.72140898,\n",
       "       -1942.8806375 , -1944.94479865, -1946.91993997, -1948.81161998,\n",
       "       -1950.624956  , -1952.36466642, -1954.03510818, -1955.64031014,\n",
       "       -1957.18400279, -1958.66964479, -1960.10044679, -1961.47939278,\n",
       "       -1962.80925929, -1964.09263272, -1965.33192496, -1966.52938751,\n",
       "       -1967.68712431, -1968.80710331, -1969.89116707, -1970.94104233,\n",
       "       -1971.95834879, -1972.94460703, -1973.90124588, -1974.82960902,\n",
       "       -1975.73096112, -1976.60649346, -1977.45732902, -1978.28452722,\n",
       "       -1979.08908829, -1979.87195724, -1980.63402753, -1981.37614452,\n",
       "       -1982.09910857, -1982.80367795, -1983.49057154, -1984.16047129,\n",
       "       -1984.81402453, -1985.45184615, -1986.07452049, -1986.68260329,\n",
       "       -1987.27662331, -1987.85708398, -1988.42446488, -1988.97922308,\n",
       "       -1989.52179448, -1990.05259498, -1990.57202163, -1991.08045363,\n",
       "       -1991.57825337, -1992.06576731, -1992.54332687, -1993.01124919,\n",
       "       -1993.46983792, -1993.91938393, -1994.36016595, -1994.7924512 ,\n",
       "       -1995.216496  , -1995.6325463 , -1996.04083819, -1996.4415984 ,\n",
       "       -1996.83504478, -1997.22138668, -1997.60082543, -1997.97355464,\n",
       "       -1998.33976064, -1998.69962278, -1999.05331377, -1999.39999996])"
      ]
     },
     "execution_count": 11,
     "metadata": {},
     "output_type": "execute_result"
    }
   ],
   "source": [
    "eta"
   ]
  },
  {
   "cell_type": "code",
   "execution_count": 12,
   "id": "b881373c",
   "metadata": {},
   "outputs": [],
   "source": [
    "eta_adj = eta - eta[-1]"
   ]
  },
  {
   "cell_type": "code",
   "execution_count": 13,
   "id": "96a0b74e",
   "metadata": {},
   "outputs": [
    {
     "data": {
      "text/plain": [
       "array([4.31170496e+02, 3.08118944e+02, 2.63364316e+02, 2.36524154e+02,\n",
       "       2.16801125e+02, 2.00895904e+02, 1.87428672e+02, 1.75694806e+02,\n",
       "       1.65282093e+02, 1.55924708e+02, 1.47438396e+02, 1.39688263e+02,\n",
       "       1.32571312e+02, 1.26006284e+02, 1.19927397e+02, 1.14280302e+02,\n",
       "       1.09019348e+02, 1.04105679e+02, 9.95058541e+01, 9.51908298e+01,\n",
       "       9.11351892e+01, 8.73165423e+01, 8.37150546e+01, 8.03130693e+01,\n",
       "       7.70948011e+01, 7.40460833e+01, 7.11541592e+01, 6.84075056e+01,\n",
       "       6.57956850e+01, 6.33092185e+01, 6.09394777e+01, 5.86785910e+01,\n",
       "       5.65193625e+01, 5.44552013e+01, 5.24800600e+01, 5.05883800e+01,\n",
       "       4.87750440e+01, 4.70353335e+01, 4.53648918e+01, 4.37596898e+01,\n",
       "       4.22159972e+01, 4.07303552e+01, 3.92995532e+01, 3.79206072e+01,\n",
       "       3.65907407e+01, 3.53073672e+01, 3.40680750e+01, 3.28706124e+01,\n",
       "       3.17128757e+01, 3.05928967e+01, 2.95088329e+01, 2.84589576e+01,\n",
       "       2.74416512e+01, 2.64553929e+01, 2.54987541e+01, 2.45703909e+01,\n",
       "       2.36690388e+01, 2.27935065e+01, 2.19426709e+01, 2.11154727e+01,\n",
       "       2.03109117e+01, 1.95280427e+01, 1.87659724e+01, 1.80238554e+01,\n",
       "       1.73008914e+01, 1.65963220e+01, 1.59094284e+01, 1.52395287e+01,\n",
       "       1.45859754e+01, 1.39481538e+01, 1.33254795e+01, 1.27173967e+01,\n",
       "       1.21233767e+01, 1.15429160e+01, 1.09755351e+01, 1.04207769e+01,\n",
       "       9.87820548e+00, 9.34740497e+00, 8.82797833e+00, 8.31954633e+00,\n",
       "       7.82174659e+00, 7.33423265e+00, 6.85667309e+00, 6.38875077e+00,\n",
       "       5.93016204e+00, 5.48061603e+00, 5.03983401e+00, 4.60754876e+00,\n",
       "       4.18350396e+00, 3.76745366e+00, 3.35916177e+00, 2.95840156e+00,\n",
       "       2.56495518e+00, 2.17861328e+00, 1.79917453e+00, 1.42644532e+00,\n",
       "       1.06023932e+00, 7.00377177e-01, 3.46686193e-01, 0.00000000e+00])"
      ]
     },
     "execution_count": 13,
     "metadata": {},
     "output_type": "execute_result"
    }
   ],
   "source": [
    "eta_adj"
   ]
  },
  {
   "cell_type": "code",
   "execution_count": 14,
   "id": "f04b7bea",
   "metadata": {},
   "outputs": [],
   "source": [
    "# save csv files\n",
    "\n",
    "np.savetxt('elevation csv files/eta_exp_16.csv', eta_adj, delimiter = ',')\n",
    "np.savetxt('alpha csv files/alpha_exp_16.csv', alpha, delimiter = ',')"
   ]
  },
  {
   "cell_type": "code",
   "execution_count": 15,
   "id": "69531116",
   "metadata": {},
   "outputs": [
    {
     "data": {
      "text/plain": [
       "array([ 5.11080995e-19, -5.23609311e-14, -3.58623199e-14, -2.44075223e-14,\n",
       "       -1.77881130e-14, -1.30416918e-14, -9.37833781e-15, -5.45939046e-15,\n",
       "       -6.53848535e-15, -4.21608898e-15, -3.67550271e-15, -2.74506197e-15,\n",
       "       -1.41625240e-15, -5.75698485e-16, -1.47803628e-15, -1.31701017e-15,\n",
       "       -9.85109099e-16, -6.66057283e-16, -4.90695550e-16, -2.60954549e-16,\n",
       "       -5.86459783e-16,  1.72082809e-16, -2.72305706e-16, -2.12209958e-16,\n",
       "       -1.86231086e-16,  7.54259357e-17, -4.07135565e-16,  2.57007215e-16,\n",
       "       -3.22751645e-16,  2.40761684e-16, -7.65461498e-17, -1.43359723e-16,\n",
       "        3.01610161e-17, -1.47248620e-16,  4.58614351e-16, -6.92717105e-16,\n",
       "        4.25219032e-16, -8.79301152e-17,  1.14395096e-16,  2.17893963e-16,\n",
       "       -7.36159614e-16,  4.17481125e-16, -2.57268944e-17,  3.54488233e-16,\n",
       "       -7.37416969e-16,  3.68400320e-16,  3.88602022e-16, -8.02353619e-16,\n",
       "        3.84851545e-16,  2.33232312e-17,  2.82660220e-17,  1.78802897e-16,\n",
       "       -5.13716982e-16,  5.07285664e-16, -1.48791242e-16,  7.55602636e-17,\n",
       "       -4.05681238e-16,  7.34126489e-16, -1.26271076e-15,  1.16505691e-15,\n",
       "       -2.54610324e-16, -4.99276739e-16,  7.07975407e-16, -3.10968710e-16,\n",
       "       -1.39684921e-16,  6.94582507e-16, -9.65691000e-16,  9.78448134e-16,\n",
       "       -1.24258513e-15,  9.99420310e-16, -3.86440163e-16, -5.54011396e-16,\n",
       "        2.49943371e-16,  3.16321485e-16,  6.00575960e-16,  1.16167871e-16,\n",
       "       -6.75590873e-16, -2.74068351e-16, -8.38988268e-16,  2.77348463e-15,\n",
       "       -1.82552970e-15, -1.84376105e-16,  1.05393529e-15, -2.23192688e-15,\n",
       "        3.12016844e-15, -1.79927443e-15, -3.23251281e-16, -6.82420935e-16,\n",
       "        3.73542868e-15, -5.26538203e-15,  4.24626500e-15, -1.95043029e-15,\n",
       "        1.40185899e-15, -2.44539789e-15,  9.83274502e-16,  3.77637978e-15,\n",
       "       -5.01556020e-15,  3.68598742e-15, -3.87390168e-15,  0.00000000e+00])"
      ]
     },
     "execution_count": 15,
     "metadata": {},
     "output_type": "execute_result"
    }
   ],
   "source": [
    "Eh"
   ]
  },
  {
   "cell_type": "code",
   "execution_count": null,
   "id": "7dfc65b8",
   "metadata": {},
   "outputs": [],
   "source": []
  }
 ],
 "metadata": {
  "kernelspec": {
   "display_name": "Python 3",
   "language": "python",
   "name": "python3"
  },
  "language_info": {
   "codemirror_mode": {
    "name": "ipython",
    "version": 3
   },
   "file_extension": ".py",
   "mimetype": "text/x-python",
   "name": "python",
   "nbconvert_exporter": "python",
   "pygments_lexer": "ipython3",
   "version": "3.7.6"
  }
 },
 "nbformat": 4,
 "nbformat_minor": 5
}
