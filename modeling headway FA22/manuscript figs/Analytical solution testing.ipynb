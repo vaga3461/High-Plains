{
 "cells": [
  {
   "cell_type": "code",
   "execution_count": 10,
   "id": "b31cfd45",
   "metadata": {},
   "outputs": [],
   "source": [
    "import numpy as np\n",
    "import matplotlib.pyplot as plt"
   ]
  },
  {
   "cell_type": "code",
   "execution_count": 11,
   "id": "4e6fa392",
   "metadata": {},
   "outputs": [],
   "source": [
    "# set up arrays\n",
    "dx = 1000\n",
    "x = np.arange(0, 100000, dx)\n",
    "x_node = x + (dx/2)\n",
    "\n",
    "Hstar = 0.5\n",
    "etab = np.zeros(len(x)) # bedrock elevation, m\n",
    "etab[:] = np.linspace(10, 0.1, len(x)) # need to start with slight bedrock slope\n",
    "H = Hstar + np.zeros(len(x))\n",
    "eta = etab + H"
   ]
  },
  {
   "cell_type": "code",
   "execution_count": 12,
   "id": "bcc93fa9",
   "metadata": {},
   "outputs": [],
   "source": [
    "# set up parameters\n",
    "# K_ig = np.zeros(len(x))\n",
    "# K_ig[:24] = 1e-7\n",
    "# K_sed = np.zeros(len(x))\n",
    "# K_sed[24:] = 1e-6\n",
    "K = np.zeros(len(x))\n",
    "K[:] = 1e-6\n",
    "\n",
    "# beta_ig = np.zeros(len(x))\n",
    "# beta_ig[:24] = 4e-7\n",
    "# beta_sed = np.zeros(len(x))\n",
    "# beta_sed[24:] = 4e-6\n",
    "beta = np.zeros(len(x))\n",
    "beta[:] = 1/2000\n",
    "# beta[:] = 1e-6\n",
    "\n",
    "# psi = np.zeros(len(x))\n",
    "# psi[:14] = 4e-7\n",
    "# psi[14:] = 4e-6\n",
    "psi = 1/2000\n",
    "# psi = 1e-6\n",
    "# psi = 1e-5\n",
    "gamma = 0.3\n",
    "\n",
    "r = 10. # runoff rate\n",
    "D = 0.015 # grain size\n",
    "phi = 0.1 # porosity\n",
    "baselevel_rate = 0.0001 # baselevel fall rate"
   ]
  },
  {
   "cell_type": "code",
   "execution_count": 13,
   "id": "b33adb50",
   "metadata": {},
   "outputs": [],
   "source": [
    "kqs = 0.041\n",
    "I = 0.03\n",
    "kxb = 25\n",
    "Pxb = 1./5.\n",
    "kb = 8.3e-8\n",
    "\n",
    "B_valley = kxb * (x_node**Pxb)\n",
    "B_basin = (2./3.) * x_node\n",
    "\n",
    "area = (1./3.) * x**2\n",
    "# Q = r * x * B\n",
    "Q = r * area"
   ]
  },
  {
   "cell_type": "code",
   "execution_count": 14,
   "id": "9a34525a",
   "metadata": {},
   "outputs": [],
   "source": [
    "def model(x, dx, x_node,\n",
    "          K, beta,\n",
    "          D, phi, Hstar, psi, gamma,\n",
    "          kb, kqs, I, r, B_valley, B_basin, Q,\n",
    "          etab, H, eta,\n",
    "          baselevel_rate,\n",
    "          num_steps = 1):\n",
    "    \n",
    "    q = Q/B_valley\n",
    "    # dt = 0.2 * dx * dx / (kqs * q[-1]) # try changing to 10, 5, or 1 if this is unstable\n",
    "    dt = 5\n",
    "    \n",
    "    run_duration = dt * num_steps\n",
    "    cum_time = 0.0\n",
    "    \n",
    "    Qs = np.zeros(len(x))\n",
    "    qs = np.zeros(len(x))\n",
    "    Eb_p = np.zeros(len(x))\n",
    "    Eb_a = np.zeros(len(x))\n",
    "    Eb = np.zeros(len(x))\n",
    "    Eh = np.zeros(len(x))\n",
    "    E = np.zeros(len(x))\n",
    "    ql = np.zeros(len(x))\n",
    "    \n",
    "    H[-1] = 0\n",
    "    E[-1] = baselevel_rate\n",
    "    q[0] = 0\n",
    "    Qs[0] = 0\n",
    "    ql[0] = 0\n",
    "    \n",
    "    while cum_time < run_duration:\n",
    "        \n",
    "        # drop baselevel\n",
    "        eta[-1] -= baselevel_rate * dt\n",
    "        \n",
    "        # set boundary conditions\n",
    "        etab[-1] = eta[-1]\n",
    "        \n",
    "        # calc slope\n",
    "        S = -np.diff(eta)/dx\n",
    "        \n",
    "        # calc bed exposure\n",
    "        alpha = np.exp(-H/Hstar)\n",
    "        \n",
    "        # calc Rh\n",
    "#         width = (kb * Q[1:] * (S ** (7/6))) / (D**(3/2))\n",
    "#         depth = (0.09801 * D) / S\n",
    "#         Rh_efficiency = 1 - np.exp(-width/(2*depth))\n",
    "        \n",
    "        # calc sed transport\n",
    "        Qs[1:] = kqs * I * Q[1:] * S**(7./6.) * (1 - alpha[:-1]) # * Rh_efficiency\n",
    "        qs[1:] = Qs[1:] / B_valley[1:]\n",
    "        \n",
    "        # calc bedrock erosion\n",
    "        Eb_p[:-1] = K[1:] * Q[1:] * S * alpha[:-1]\n",
    "        Eb_a[:-1] = beta[1:] * Qs[1:] * alpha[:-1]\n",
    "        Eb[:-1] = (Eb_p[:-1] + Eb_a[:-1]) / B_valley[:-1]\n",
    "        \n",
    "        # calc grain attrition\n",
    "        atr = Qs * psi\n",
    "        \n",
    "        # calc equilibrium lateral supply\n",
    "        ql[1:] = ((baselevel_rate * gamma) / psi) * (1 - np.exp(-psi/(3 * x[1:])))\n",
    "        # ql[24:] = 0\n",
    "        \n",
    "        # calc sediment erosion rate\n",
    "        Eh[:-1] = 1/((1 - phi) * B_valley[:-1]) * (np.diff(Qs)/dx + atr[1:] - Eb_p[:-1] - ql[1:])\n",
    "        \n",
    "        # calc total erosion rate\n",
    "        E[:-1] = Eb[:-1] + Eh[:-1]\n",
    "        \n",
    "        # update topography\n",
    "        etab[:-1] -= Eb[:-1] * dt\n",
    "        H[:-1] -= Eh[:-1] * dt\n",
    "        H[H<0] = 0\n",
    "        eta[:-1] = etab[:-1] + H[:-1]\n",
    "        \n",
    "        # update elapsed time\n",
    "        cum_time += dt\n",
    "        \n",
    "    print(cum_time)\n",
    "        \n",
    "    return (dt, S, q, alpha, Qs, qs, Eb_p, Eb_a, Eb, atr, ql, Eh, E, etab, H, eta)"
   ]
  },
  {
   "cell_type": "code",
   "execution_count": 15,
   "id": "c1f66719",
   "metadata": {},
   "outputs": [
    {
     "name": "stdout",
     "output_type": "stream",
     "text": [
      "25000000.0\n"
     ]
    }
   ],
   "source": [
    "#now write a test\n",
    "num_steps = 5000000\n",
    "test_run = [x, dx, x_node, \n",
    "            K, beta, \n",
    "            D, phi, Hstar, psi, gamma,\n",
    "            kb, kqs, I, r, B_valley, B_basin, Q,\n",
    "            etab, H, eta,\n",
    "            baselevel_rate,\n",
    "            num_steps]\n",
    "\n",
    "# and run it\n",
    "(dt, S, q, alpha, Qs, qs, Eb_p, Eb_a, Eb, atr, ql, Eh, E, etab, H, eta) = model(*test_run)"
   ]
  },
  {
   "cell_type": "code",
   "execution_count": 16,
   "id": "c12dd9e5",
   "metadata": {},
   "outputs": [
    {
     "data": {
      "text/plain": [
       "array([1.e-04, 1.e-04, 1.e-04, 1.e-04, 1.e-04, 1.e-04, 1.e-04, 1.e-04,\n",
       "       1.e-04, 1.e-04, 1.e-04, 1.e-04, 1.e-04, 1.e-04, 1.e-04, 1.e-04,\n",
       "       1.e-04, 1.e-04, 1.e-04, 1.e-04, 1.e-04, 1.e-04, 1.e-04, 1.e-04,\n",
       "       1.e-04, 1.e-04, 1.e-04, 1.e-04, 1.e-04, 1.e-04, 1.e-04, 1.e-04,\n",
       "       1.e-04, 1.e-04, 1.e-04, 1.e-04, 1.e-04, 1.e-04, 1.e-04, 1.e-04,\n",
       "       1.e-04, 1.e-04, 1.e-04, 1.e-04, 1.e-04, 1.e-04, 1.e-04, 1.e-04,\n",
       "       1.e-04, 1.e-04, 1.e-04, 1.e-04, 1.e-04, 1.e-04, 1.e-04, 1.e-04,\n",
       "       1.e-04, 1.e-04, 1.e-04, 1.e-04, 1.e-04, 1.e-04, 1.e-04, 1.e-04,\n",
       "       1.e-04, 1.e-04, 1.e-04, 1.e-04, 1.e-04, 1.e-04, 1.e-04, 1.e-04,\n",
       "       1.e-04, 1.e-04, 1.e-04, 1.e-04, 1.e-04, 1.e-04, 1.e-04, 1.e-04,\n",
       "       1.e-04, 1.e-04, 1.e-04, 1.e-04, 1.e-04, 1.e-04, 1.e-04, 1.e-04,\n",
       "       1.e-04, 1.e-04, 1.e-04, 1.e-04, 1.e-04, 1.e-04, 1.e-04, 1.e-04,\n",
       "       1.e-04, 1.e-04, 1.e-04, 0.e+00])"
      ]
     },
     "execution_count": 16,
     "metadata": {},
     "output_type": "execute_result"
    }
   ],
   "source": [
    "Eb"
   ]
  },
  {
   "cell_type": "code",
   "execution_count": 17,
   "id": "506a54e6",
   "metadata": {},
   "outputs": [
    {
     "data": {
      "text/plain": [
       "array([5.22457167e-03, 2.30878515e-03, 1.41883959e-03, 9.92095259e-04,\n",
       "       7.43920160e-04, 5.83425078e-04, 4.72371521e-04, 3.91802642e-04,\n",
       "       3.31242580e-04, 2.84439259e-04, 2.47441339e-04, 2.17638211e-04,\n",
       "       1.93242718e-04, 1.72995177e-04, 1.55985649e-04, 1.41542870e-04,\n",
       "       1.29162507e-04, 1.18459488e-04, 1.09135545e-04, 1.00956645e-04,\n",
       "       9.37369943e-05, 8.73275206e-05, 8.16074418e-05, 7.64780180e-05,\n",
       "       7.18578594e-05, 6.76793641e-05, 6.38859823e-05, 6.04300978e-05,\n",
       "       5.72713694e-05, 5.43754231e-05, 5.17128122e-05, 4.92581838e-05,\n",
       "       4.69896068e-05, 4.48880252e-05, 4.29368124e-05, 4.11214039e-05,\n",
       "       3.94289940e-05, 3.78482836e-05, 3.63692701e-05, 3.49830697e-05,\n",
       "       3.36817694e-05, 3.24583000e-05, 3.13063293e-05, 3.02201706e-05,\n",
       "       2.91947039e-05, 2.82253087e-05, 2.73078058e-05, 2.64384071e-05,\n",
       "       2.56136715e-05, 2.48304674e-05, 2.40859390e-05, 2.33774773e-05,\n",
       "       2.27026950e-05, 2.20594033e-05, 2.14455925e-05, 2.08594145e-05,\n",
       "       2.02991670e-05, 1.97632798e-05, 1.92503027e-05, 1.87588942e-05,\n",
       "       1.82878118e-05, 1.78359034e-05, 1.74020992e-05, 1.69854048e-05,\n",
       "       1.65848946e-05, 1.61997065e-05, 1.58290362e-05, 1.54721326e-05,\n",
       "       1.51282940e-05, 1.47968636e-05, 1.44772266e-05, 1.41688066e-05,\n",
       "       1.38710627e-05, 1.35834872e-05, 1.33056028e-05, 1.30369606e-05,\n",
       "       1.27771380e-05, 1.25257368e-05, 1.22823816e-05, 1.20467183e-05,\n",
       "       1.18184124e-05, 1.15971478e-05, 1.13826257e-05, 1.11745632e-05,\n",
       "       1.09726927e-05, 1.07767604e-05, 1.05865258e-05, 1.04017608e-05,\n",
       "       1.02222487e-05, 1.00477839e-05, 9.87817080e-06, 9.71322354e-06,\n",
       "       9.55276526e-06, 9.39662759e-06, 9.24465019e-06, 9.09668025e-06,\n",
       "       8.95257209e-06, 8.81218677e-06, 8.67539166e-06])"
      ]
     },
     "execution_count": 17,
     "metadata": {},
     "output_type": "execute_result"
    }
   ],
   "source": [
    "S"
   ]
  },
  {
   "cell_type": "code",
   "execution_count": 18,
   "id": "b34334e2",
   "metadata": {},
   "outputs": [],
   "source": [
    "# now do analytical solution testing\n",
    "\n",
    "# terms\n",
    "T1 = baselevel_rate * dx\n",
    "T2 = psi * kqs * I\n",
    "T3 = 1 - np.exp(-psi * x[1:])\n",
    "T4 = K[1:] * T3\n",
    "T5 = K[1:] * Q[1:]\n",
    "\n",
    "# groups\n",
    "G1 = T1\n",
    "G2 = T2 / (T4 + T2)\n",
    "G3 = T5 * G2 * T3 + T5"
   ]
  },
  {
   "cell_type": "code",
   "execution_count": 19,
   "id": "9f1a90c1",
   "metadata": {},
   "outputs": [],
   "source": [
    "S_an = (G1 / (G2 * G3))**(6./7.)"
   ]
  },
  {
   "cell_type": "code",
   "execution_count": 24,
   "id": "4d99e35a",
   "metadata": {},
   "outputs": [
    {
     "data": {
      "text/plain": [
       "[<matplotlib.lines.Line2D at 0x7f9f9c1b94d0>]"
      ]
     },
     "execution_count": 24,
     "metadata": {},
     "output_type": "execute_result"
    },
    {
     "data": {
      "image/png": "[encoded data removed]",
      "text/plain": [
       "<Figure size 432x288 with 1 Axes>"
      ]
     },
     "metadata": {
      "needs_background": "light"
     },
     "output_type": "display_data"
    }
   ],
   "source": [
    "plt.plot(x[1:], S)\n",
    "plt.plot(x[1:], S_an, linestyle = '--')"
   ]
  },
  {
   "cell_type": "code",
   "execution_count": null,
   "id": "cf530c11",
   "metadata": {},
   "outputs": [],
   "source": []
  }
 ],
 "metadata": {
  "kernelspec": {
   "display_name": "Python 3",
   "language": "python",
   "name": "python3"
  },
  "language_info": {
   "codemirror_mode": {
    "name": "ipython",
    "version": 3
   },
   "file_extension": ".py",
   "mimetype": "text/x-python",
   "name": "python",
   "nbconvert_exporter": "python",
   "pygments_lexer": "ipython3",
   "version": "3.7.6"
  }
 },
 "nbformat": 4,
 "nbformat_minor": 5
}
