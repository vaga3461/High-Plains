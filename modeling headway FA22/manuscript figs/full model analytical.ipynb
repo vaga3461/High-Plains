{
 "cells": [
  {
   "cell_type": "code",
   "execution_count": 1,
   "id": "146e51c1",
   "metadata": {},
   "outputs": [],
   "source": [
    "import numpy as np\n",
    "import matplotlib.pyplot as plt"
   ]
  },
  {
   "cell_type": "code",
   "execution_count": 2,
   "id": "f54c4142",
   "metadata": {},
   "outputs": [],
   "source": [
    "# make small grid\n",
    "\n",
    "dx = 100\n",
    "x = np.arange(0, 10000, dx)\n",
    "x_node = x + (dx/2)\n",
    "\n",
    "Hstar = 0.5\n",
    "etab = np.zeros(len(x)) # bedrock elevation, m\n",
    "etab[:] = np.linspace(10, 0.1, len(x)) # need to start with slight bedrock slope\n",
    "H = Hstar + np.zeros(len(x))\n",
    "eta = etab + H"
   ]
  },
  {
   "cell_type": "code",
   "execution_count": 3,
   "id": "d579bba0",
   "metadata": {},
   "outputs": [],
   "source": [
    "kqs = 0.041\n",
    "I = 0.01"
   ]
  },
  {
   "cell_type": "code",
   "execution_count": 4,
   "id": "3ce4af56",
   "metadata": {},
   "outputs": [],
   "source": [
    "r = 10.\n",
    "A = (1./3.) * x**2\n",
    "\n",
    "# Q = r * A\n",
    "# Q = (r * a * x**(1 + Pxb))/(1 + Pxb)\n",
    "\n",
    "U = 0.0005"
   ]
  },
  {
   "cell_type": "code",
   "execution_count": 5,
   "id": "648c5b54",
   "metadata": {},
   "outputs": [],
   "source": [
    "# set up parameters\n",
    "K = 1e-6\n",
    "\n",
    "beta = 0.0005\n",
    "\n",
    "psi = 0.0005\n",
    "\n",
    "D = 0.015 # grain size\n",
    "phi = 0.45 # porosity\n",
    "baselevel_rate = 0.0005 # baselevel fall rate"
   ]
  },
  {
   "cell_type": "code",
   "execution_count": 6,
   "id": "524a35cf",
   "metadata": {},
   "outputs": [],
   "source": [
    "kxb = 25\n",
    "Pxb = 1./5.\n",
    "kb = 8.3e-8\n",
    "\n",
    "B_valley = kxb * (x_node**Pxb)\n",
    "B_basin = (2./3.) * x_node\n",
    "\n",
    "Q = (r * kxb * x_node**(1 + Pxb))/(1 + Pxb)"
   ]
  },
  {
   "cell_type": "code",
   "execution_count": 7,
   "id": "89e60bff",
   "metadata": {},
   "outputs": [
    {
     "data": {
      "text/plain": [
       "array([   22778.37654048,    85127.18523208,   157140.0087642 ,\n",
       "         235310.017342  ,   318136.70533796,   404756.64742583,\n",
       "         494600.77279651,   587262.51230704,   682435.28460203,\n",
       "         779878.75367898,   879398.90701317,   980835.48847036,\n",
       "        1084053.65547119,  1188938.21060053,  1295389.47859003,\n",
       "        1403320.27674395,  1512653.63614022,  1623321.05282854,\n",
       "        1735261.12221302,  1848418.45629109,  1962742.81353501,\n",
       "        2078188.39123561,  2194713.24377166,  2312278.79975632,\n",
       "        2430849.45773369,  2550392.24494222,  2670876.52720496,\n",
       "        2792273.76063508,  2914557.27782008,  3037702.10264863,\n",
       "        3161684.78909758,  3286483.28019114,  3412076.78404495,\n",
       "        3538445.66446115,  3665571.34398127,  3793436.21765669,\n",
       "        3922023.5760824 ,  4051317.53647128,  4181302.98073619,\n",
       "        4311965.49970322,  4443291.34270857,  4575267.37193905,\n",
       "        4707881.02096576,  4841120.25699606,  4974973.54643221,\n",
       "        5109429.82337914,  5244478.46078927,  5380109.24397146,\n",
       "        5516312.34622468,  5653078.30638534,  5790398.00810253,\n",
       "        5928262.66067633,  6066663.78131325,  6205593.17866895,\n",
       "        6345042.93756238,  6485005.4047581 ,  6625473.17572404,\n",
       "        6766439.08228175,  6907896.18107448,  7049837.74278575,\n",
       "        7192257.24204792,  7335148.34798573,  7478504.91534528,\n",
       "        7622320.97616331,  7766590.73193598,  7911308.54624978,\n",
       "        8056468.93784073,  8202066.57405086,  8348096.26465375,\n",
       "        8494552.95602304,  8641431.72562044,  8788727.7767812 ,\n",
       "        8936436.43377724,  9084553.13713939,  9233073.43922185,\n",
       "        9381992.99999329,  9531307.58304001,  9681013.05176798,\n",
       "        9831105.36579137,  9981580.57749617, 10132434.82876825,\n",
       "       10283664.34787608, 10435265.44649908, 10587234.51689292,\n",
       "       10739568.02918407, 10892262.52878616, 11045314.63393128,\n",
       "       11198721.03330993, 11352478.48381353, 11506583.80837404,\n",
       "       11661033.89389539, 11815825.68927186, 11970956.20348888,\n",
       "       12126422.50380194, 12282221.7139896 , 12438351.0126768 ,\n",
       "       12594807.63172501, 12751588.85468581, 12908692.01531484,\n",
       "       13066114.49614311])"
      ]
     },
     "execution_count": 7,
     "metadata": {},
     "output_type": "execute_result"
    }
   ],
   "source": [
    "Q"
   ]
  },
  {
   "cell_type": "code",
   "execution_count": 8,
   "id": "4b58aaa0",
   "metadata": {},
   "outputs": [
    {
     "data": {
      "text/plain": [
       "array([10.5, 10.4, 10.3, 10.2, 10.1, 10. ,  9.9,  9.8,  9.7,  9.6,  9.5,\n",
       "        9.4,  9.3,  9.2,  9.1,  9. ,  8.9,  8.8,  8.7,  8.6,  8.5,  8.4,\n",
       "        8.3,  8.2,  8.1,  8. ,  7.9,  7.8,  7.7,  7.6,  7.5,  7.4,  7.3,\n",
       "        7.2,  7.1,  7. ,  6.9,  6.8,  6.7,  6.6,  6.5,  6.4,  6.3,  6.2,\n",
       "        6.1,  6. ,  5.9,  5.8,  5.7,  5.6,  5.5,  5.4,  5.3,  5.2,  5.1,\n",
       "        5. ,  4.9,  4.8,  4.7,  4.6,  4.5,  4.4,  4.3,  4.2,  4.1,  4. ,\n",
       "        3.9,  3.8,  3.7,  3.6,  3.5,  3.4,  3.3,  3.2,  3.1,  3. ,  2.9,\n",
       "        2.8,  2.7,  2.6,  2.5,  2.4,  2.3,  2.2,  2.1,  2. ,  1.9,  1.8,\n",
       "        1.7,  1.6,  1.5,  1.4,  1.3,  1.2,  1.1,  1. ,  0.9,  0.8,  0.7,\n",
       "        0.6])"
      ]
     },
     "execution_count": 8,
     "metadata": {},
     "output_type": "execute_result"
    }
   ],
   "source": [
    "eta"
   ]
  },
  {
   "cell_type": "code",
   "execution_count": 9,
   "id": "9be524a9",
   "metadata": {},
   "outputs": [
    {
     "data": {
      "text/plain": [
       "numpy.ndarray"
      ]
     },
     "execution_count": 9,
     "metadata": {},
     "output_type": "execute_result"
    }
   ],
   "source": [
    "type(eta)"
   ]
  },
  {
   "cell_type": "code",
   "execution_count": 10,
   "id": "b63be47a",
   "metadata": {},
   "outputs": [],
   "source": [
    "def model(x, dx, x_node,\n",
    "          K, beta,\n",
    "          D, phi, Hstar, psi,\n",
    "          kb, kqs, I, r, B_valley, B_basin, Q,\n",
    "          etab, H, eta,\n",
    "          baselevel_rate,\n",
    "          num_steps = 1):\n",
    "    \n",
    "    q = Q/B_valley\n",
    "    # dt = 0.2 * dx * dx / (kqs * q[-1]) # try changing to 10, 5, or 1 if this is unstable\n",
    "    dt = 5\n",
    "    \n",
    "    run_duration = dt * num_steps\n",
    "    cum_time = 0.0\n",
    "    \n",
    "    Qs = np.zeros(len(x))\n",
    "    qs = np.zeros(len(x))\n",
    "    Eb_p = np.zeros(len(x))\n",
    "    Eb_a = np.zeros(len(x))\n",
    "    Eb = np.zeros(len(x))\n",
    "    Eh = np.zeros(len(x))\n",
    "    E = np.zeros(len(x))\n",
    "    ql = np.zeros(len(x))\n",
    "    \n",
    "    H[-1] = 0\n",
    "    E[-1] = baselevel_rate\n",
    "    q[0] = 0\n",
    "    Qs[0] = 0\n",
    "    ql[0] = 0\n",
    "    \n",
    "    while cum_time < run_duration:\n",
    "        \n",
    "        # drop baselevel\n",
    "        eta[-1] -= baselevel_rate * dt\n",
    "        \n",
    "        # set boundary conditions\n",
    "        etab[-1] = eta[-1]\n",
    "        \n",
    "        # calc slope\n",
    "        S = -np.diff(eta)/dx\n",
    "        \n",
    "        # calc bed exposure\n",
    "        alpha = np.exp(-H/Hstar)\n",
    "        \n",
    "        # calc Rh\n",
    "#         width = (kb * Q[1:] * (S ** (7/6))) / (D**(3/2))\n",
    "#         depth = (0.09801 * D) / S\n",
    "#         Rh_efficiency = 1 - np.exp(-width/(2*depth))\n",
    "        \n",
    "        # calc sed transport\n",
    "        Qs[1:] = kqs * I * Q[1:] * S**(7./6.) * (1 - alpha[:-1]) # * Rh_efficiency\n",
    "        qs[1:] = Qs[1:] / B_valley[1:]\n",
    "        \n",
    "        # calc bedrock erosion\n",
    "        Eb_p[:-1] = K * Q[1:] * S**(7./6.) * alpha[:-1]\n",
    "        Eb_a[:-1] = beta * Qs[1:] * alpha[:-1]\n",
    "        Eb[:-1] = (Eb_p[:-1] + Eb_a[:-1]) / B_valley[:-1]\n",
    "        \n",
    "        # calc grain attrition\n",
    "        atr = Qs * psi\n",
    "        \n",
    "        # calc equilibrium lateral supply\n",
    "        # ql[1:] = ((baselevel_rate * gamma) / psi) * (1 - np.exp(-psi/(3 * x[1:])))\n",
    "        # ql[24:] = 0\n",
    "        \n",
    "        # calc sediment erosion rate\n",
    "        Eh[:-1] = 1/((1 - phi) * B_valley[:-1]) * (np.diff(Qs)/dx + atr[1:] - Eb_p[:-1]) # - ql[1:])\n",
    "        \n",
    "        # calc total erosion rate\n",
    "        E[:-1] = Eb[:-1] + Eh[:-1]\n",
    "        \n",
    "        # update topography\n",
    "        etab[:-1] -= Eb[:-1] * dt\n",
    "        H[:-1] -= Eh[:-1] * dt\n",
    "        H[H<0] = 0\n",
    "        eta[:-1] = etab[:-1] + H[:-1]\n",
    "        \n",
    "        # update elapsed time\n",
    "        cum_time += dt\n",
    "        \n",
    "    print(cum_time)\n",
    "        \n",
    "    return (dt, S, q, alpha, Qs, qs, Eb_p, Eb_a, Eb, atr, Eh, E, etab, H, eta)"
   ]
  },
  {
   "cell_type": "code",
   "execution_count": 11,
   "id": "f4fa2ee1",
   "metadata": {},
   "outputs": [
    {
     "name": "stdout",
     "output_type": "stream",
     "text": [
      "25000000.0\n"
     ]
    }
   ],
   "source": [
    "#now write a test\n",
    "num_steps = 5000000\n",
    "test_run = [x, dx, x_node, \n",
    "            K, beta, \n",
    "            D, phi, Hstar, psi,\n",
    "            kb, kqs, I, r, B_valley, B_basin, Q,\n",
    "            etab, H, eta,\n",
    "            baselevel_rate,\n",
    "            num_steps]\n",
    "\n",
    "# and run it\n",
    "(dt, S, q, alpha, Qs, qs, Eb_p, Eb_a, Eb, atr, Eh, E, etab, H, eta) = model(*test_run)"
   ]
  },
  {
   "cell_type": "code",
   "execution_count": 12,
   "id": "fc8e988a",
   "metadata": {},
   "outputs": [
    {
     "data": {
      "text/plain": [
       "array([0.0005, 0.0005, 0.0005, 0.0005, 0.0005, 0.0005, 0.0005, 0.0005,\n",
       "       0.0005, 0.0005, 0.0005, 0.0005, 0.0005, 0.0005, 0.0005, 0.0005,\n",
       "       0.0005, 0.0005, 0.0005, 0.0005, 0.0005, 0.0005, 0.0005, 0.0005,\n",
       "       0.0005, 0.0005, 0.0005, 0.0005, 0.0005, 0.0005, 0.0005, 0.0005,\n",
       "       0.0005, 0.0005, 0.0005, 0.0005, 0.0005, 0.0005, 0.0005, 0.0005,\n",
       "       0.0005, 0.0005, 0.0005, 0.0005, 0.0005, 0.0005, 0.0005, 0.0005,\n",
       "       0.0005, 0.0005, 0.0005, 0.0005, 0.0005, 0.0005, 0.0005, 0.0005,\n",
       "       0.0005, 0.0005, 0.0005, 0.0005, 0.0005, 0.0005, 0.0005, 0.0005,\n",
       "       0.0005, 0.0005, 0.0005, 0.0005, 0.0005, 0.0005, 0.0005, 0.0005,\n",
       "       0.0005, 0.0005, 0.0005, 0.0005, 0.0005, 0.0005, 0.0005, 0.0005,\n",
       "       0.0005, 0.0005, 0.0005, 0.0005, 0.0005, 0.0005, 0.0005, 0.0005,\n",
       "       0.0005, 0.0005, 0.0005, 0.0005, 0.0005, 0.0005, 0.0005, 0.0005,\n",
       "       0.0005, 0.0005, 0.0005, 0.    ])"
      ]
     },
     "execution_count": 12,
     "metadata": {},
     "output_type": "execute_result"
    }
   ],
   "source": [
    "Eb"
   ]
  },
  {
   "cell_type": "code",
   "execution_count": 13,
   "id": "16aeab79",
   "metadata": {},
   "outputs": [
    {
     "data": {
      "text/plain": [
       "array([0.43727616, 0.34504145, 0.29139093, 0.25786173, 0.23472173,\n",
       "       0.21756977, 0.20417965, 0.19331242, 0.18422525, 0.17644593,\n",
       "       0.16965976, 0.16364881, 0.15825718, 0.15337025, 0.14890175,\n",
       "       0.14478542, 0.14096941, 0.13741253, 0.13408157, 0.13094938,\n",
       "       0.12799357, 0.12519543, 0.12253917, 0.12001139, 0.11760056,\n",
       "       0.11529676, 0.11309133, 0.11097668, 0.10894614, 0.1069938 ,\n",
       "       0.10511439, 0.10330317, 0.10155592, 0.0998688 , 0.09823833,\n",
       "       0.09666135, 0.09513497, 0.09365654, 0.09222362, 0.09083397,\n",
       "       0.08948551, 0.08817632, 0.0869046 , 0.08566869, 0.08446704,\n",
       "       0.08329819, 0.08216077, 0.0810535 , 0.07997518, 0.07892468,\n",
       "       0.07790093, 0.07690291, 0.07592966, 0.07498029, 0.07405393,\n",
       "       0.07314976, 0.07226702, 0.07140496, 0.07056288, 0.06974011,\n",
       "       0.068936  , 0.06814996, 0.0673814 , 0.06662976, 0.0658945 ,\n",
       "       0.06517511, 0.06447111, 0.06378203, 0.0631074 , 0.06244681,\n",
       "       0.06179983, 0.06116607, 0.06054514, 0.05993667, 0.0593403 ,\n",
       "       0.0587557 , 0.05818253, 0.05762047, 0.05706922, 0.05652849,\n",
       "       0.05599798, 0.05547743, 0.05496656, 0.05446512, 0.05397286,\n",
       "       0.05348955, 0.05301495, 0.05254883, 0.05209098, 0.0516412 ,\n",
       "       0.05119927, 0.050765  , 0.05033821, 0.0499187 , 0.0495063 ,\n",
       "       0.04910084, 0.04870214, 0.04831006, 0.04792442])"
      ]
     },
     "execution_count": 13,
     "metadata": {},
     "output_type": "execute_result"
    }
   ],
   "source": [
    "S"
   ]
  },
  {
   "cell_type": "code",
   "execution_count": 14,
   "id": "546c09d3",
   "metadata": {},
   "outputs": [],
   "source": [
    "alpha = (kqs * I * beta)/(K - (K*np.exp(-beta * x)) + (kqs * I * beta))"
   ]
  },
  {
   "cell_type": "code",
   "execution_count": 15,
   "id": "f3b16508",
   "metadata": {},
   "outputs": [],
   "source": [
    "S_an = ((1/((K*Q[1:]*alpha[1:]) - \n",
    "            (K * Q[1:] * alpha[1:] * np.exp(-beta * x[1:])) + \n",
    "            (K * Q[1:]))) * ((U * B_valley[:-1])/alpha[1:])) ** (6./7.)"
   ]
  },
  {
   "cell_type": "code",
   "execution_count": 16,
   "id": "3b4dfa01",
   "metadata": {},
   "outputs": [
    {
     "data": {
      "text/plain": [
       "<matplotlib.legend.Legend at 0x7fa5f841f6d0>"
      ]
     },
     "execution_count": 16,
     "metadata": {},
     "output_type": "execute_result"
    },
    {
     "data": {
      "image/png": "[encoded data removed]",
      "text/plain": [
       "<Figure size 432x288 with 1 Axes>"
      ]
     },
     "metadata": {
      "needs_background": "light"
     },
     "output_type": "display_data"
    }
   ],
   "source": [
    "plt.plot(S, label = 'model', linewidth = 3, color = 'k')\n",
    "plt.plot(S_an, label = 'analytical', color = 'red')\n",
    "plt.xlabel('distance')\n",
    "plt.ylabel('slope')\n",
    "plt.legend()"
   ]
  },
  {
   "cell_type": "code",
   "execution_count": 17,
   "id": "054d668f",
   "metadata": {},
   "outputs": [],
   "source": [
    "eta_an = -(S_an * x[1:])"
   ]
  },
  {
   "cell_type": "code",
   "execution_count": 18,
   "id": "712da8a5",
   "metadata": {},
   "outputs": [],
   "source": [
    "baselevel_difference = eta[-1] - eta_an[-1]\n",
    "\n",
    "eta_adj = eta - eta[-1]\n",
    "eta_an_adj = eta_an + baselevel_difference - eta[-1]"
   ]
  },
  {
   "cell_type": "code",
   "execution_count": 19,
   "id": "e5d94537",
   "metadata": {},
   "outputs": [
    {
     "data": {
      "text/plain": [
       "<matplotlib.legend.Legend at 0x7fa5f8736a90>"
      ]
     },
     "execution_count": 19,
     "metadata": {},
     "output_type": "execute_result"
    },
    {
     "data": {
      "image/png": "[encoded data removed]",
      "text/plain": [
       "<Figure size 432x288 with 1 Axes>"
      ]
     },
     "metadata": {
      "needs_background": "light"
     },
     "output_type": "display_data"
    }
   ],
   "source": [
    "plt.plot(eta_adj, label = 'model', linewidth = 3, color = 'k')\n",
    "plt.plot(eta_an_adj, label = 'analytical', color = 'red')\n",
    "plt.xlabel('distance')\n",
    "plt.ylabel('elevation')\n",
    "plt.legend()"
   ]
  },
  {
   "cell_type": "code",
   "execution_count": null,
   "id": "4df83a47",
   "metadata": {},
   "outputs": [],
   "source": []
  }
 ],
 "metadata": {
  "kernelspec": {
   "display_name": "Python 3",
   "language": "python",
   "name": "python3"
  },
  "language_info": {
   "codemirror_mode": {
    "name": "ipython",
    "version": 3
   },
   "file_extension": ".py",
   "mimetype": "text/x-python",
   "name": "python",
   "nbconvert_exporter": "python",
   "pygments_lexer": "ipython3",
   "version": "3.7.6"
  }
 },
 "nbformat": 4,
 "nbformat_minor": 5
}
