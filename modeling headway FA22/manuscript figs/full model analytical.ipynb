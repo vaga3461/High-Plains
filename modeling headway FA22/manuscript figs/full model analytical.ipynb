{
 "cells": [
  {
   "cell_type": "code",
   "execution_count": 1,
   "id": "146e51c1",
   "metadata": {},
   "outputs": [],
   "source": [
    "import numpy as np\n",
    "import matplotlib.pyplot as plt"
   ]
  },
  {
   "cell_type": "code",
   "execution_count": 2,
   "id": "f54c4142",
   "metadata": {},
   "outputs": [],
   "source": [
    "# make small grid\n",
    "\n",
    "dx = 500\n",
    "x = np.arange(0, 25000, dx)\n",
    "x_node = x + (dx/2)\n",
    "\n",
    "Hstar = 0.5\n",
    "etab = np.zeros(len(x)) # bedrock elevation, m\n",
    "etab[:] = np.linspace(10, 0.1, len(x)) # need to start with slight bedrock slope\n",
    "H = Hstar + np.zeros(len(x))\n",
    "eta = etab + H"
   ]
  },
  {
   "cell_type": "code",
   "execution_count": 3,
   "id": "d579bba0",
   "metadata": {},
   "outputs": [],
   "source": [
    "kqs = 0.041\n",
    "I = 0.03"
   ]
  },
  {
   "cell_type": "code",
   "execution_count": 4,
   "id": "3ce4af56",
   "metadata": {},
   "outputs": [],
   "source": [
    "r = 10.\n",
    "A = (1./3.) * x**2\n",
    "\n",
    "# Q = r * A\n",
    "# Q = (r * a * x**(1 + Pxb))/(1 + Pxb)\n",
    "\n",
    "U = 0.0001"
   ]
  },
  {
   "cell_type": "code",
   "execution_count": 5,
   "id": "648c5b54",
   "metadata": {},
   "outputs": [],
   "source": [
    "# set up parameters\n",
    "K = 1e-6\n",
    "\n",
    "beta = 0.0005\n",
    "\n",
    "psi = 0.0005\n",
    "\n",
    "D = 0.01 # grain size\n",
    "phi = 0.1 # porosity\n",
    "baselevel_rate = 0.0001 # baselevel fall rate"
   ]
  },
  {
   "cell_type": "code",
   "execution_count": 6,
   "id": "524a35cf",
   "metadata": {},
   "outputs": [],
   "source": [
    "kxb = 25\n",
    "Pxb = 1./5.\n",
    "kb = 8.3e-8\n",
    "\n",
    "B_valley = kxb * (x_node**Pxb)\n",
    "B_basin = (2./3.) * x_node\n",
    "\n",
    "Q = (r * kxb * x_node**(1 + Pxb))/(1 + Pxb)"
   ]
  },
  {
   "cell_type": "code",
   "execution_count": 7,
   "id": "b63be47a",
   "metadata": {},
   "outputs": [],
   "source": [
    "def model(x, dx, x_node,\n",
    "          K, beta,\n",
    "          D, phi, Hstar, psi,\n",
    "          kb, kqs, I, r, B_valley, B_basin, Q,\n",
    "          etab, H, eta,\n",
    "          baselevel_rate,\n",
    "          num_steps = 1):\n",
    "    \n",
    "    q = Q/B_valley\n",
    "    # dt = 0.2 * dx * dx / (kqs * q[-1]) # try changing to 10, 5, or 1 if this is unstable\n",
    "    dt = 500\n",
    "    \n",
    "    run_duration = dt * num_steps\n",
    "    cum_time = 0.0\n",
    "    \n",
    "    Qs = np.zeros(len(x))\n",
    "    qs = np.zeros(len(x))\n",
    "    Eb_p = np.zeros(len(x))\n",
    "    Eb_a = np.zeros(len(x))\n",
    "    Eb = np.zeros(len(x))\n",
    "    Eh = np.zeros(len(x))\n",
    "    E = np.zeros(len(x))\n",
    "    ql = np.zeros(len(x))\n",
    "    \n",
    "    H[-1] = 0\n",
    "    E[-1] = baselevel_rate\n",
    "    q[0] = 0\n",
    "    Qs[0] = 0\n",
    "    ql[0] = 0\n",
    "    \n",
    "    while cum_time < run_duration:\n",
    "        \n",
    "        # drop baselevel\n",
    "        eta[-1] -= baselevel_rate * dt\n",
    "        \n",
    "        # set boundary conditions\n",
    "        etab[-1] = eta[-1]\n",
    "        \n",
    "        # calc slope\n",
    "        S = -np.diff(eta)/dx\n",
    "        \n",
    "        # calc bed exposure\n",
    "        alpha = np.exp(-H/Hstar)\n",
    "        \n",
    "        # calc Rh\n",
    "#         width = (kb * Q[1:] * (S ** (7/6))) / (D**(3/2))\n",
    "#         depth = (0.09801 * D) / S\n",
    "#         Rh_efficiency = 1 - np.exp(-width/(2*depth))\n",
    "        \n",
    "        # calc sed transport\n",
    "        Qs[1:] = kqs * I * Q[1:] * S**(7./6.) * (1 - alpha[:-1])\n",
    "        # Qs[1:] = kqs * I * Q[:-1] * S**(7./6.) * (1 - alpha[:-1])\n",
    "        qs[1:] = Qs[1:] / B_valley[1:]\n",
    "        \n",
    "        # calc bedrock erosion\n",
    "        Eb_p[:-1] = K * Q[1:] * S**(7./6.) * alpha[:-1]\n",
    "        # Eb_p[:-1] = K * Q[:-1] * S**(7./6.) * alpha[:-1]\n",
    "        Eb_a[:-1] = beta * Qs[1:] * alpha[:-1]\n",
    "        Eb[:-1] = (Eb_p[:-1] + Eb_a[:-1]) / B_valley[:-1]\n",
    "        \n",
    "        # calc grain attrition\n",
    "        atr = Qs * psi\n",
    "        \n",
    "        # calc equilibrium lateral supply\n",
    "        # ql[1:] = ((baselevel_rate * gamma) / psi) * (1 - np.exp(-psi/(3 * x[1:])))\n",
    "        # ql[24:] = 0\n",
    "        \n",
    "        # calc sediment erosion rate\n",
    "        Eh[:-1] = 1/((1 - phi) * B_valley[:-1]) * (np.diff(Qs)/dx + atr[1:] - Eb_p[:-1]) # - ql[1:])\n",
    "        \n",
    "        # calc total erosion rate\n",
    "        E[:-1] = Eb[:-1] + Eh[:-1]\n",
    "        \n",
    "        # update topography\n",
    "        etab[:-1] -= Eb[:-1] * dt\n",
    "        H[:-1] -= Eh[:-1] * dt\n",
    "        H[H<0] = 0\n",
    "        eta[:-1] = etab[:-1] + H[:-1]\n",
    "        \n",
    "        # update elapsed time\n",
    "        cum_time += dt\n",
    "        \n",
    "    print(cum_time)\n",
    "        \n",
    "    return (dt, S, q, alpha, Qs, qs, Eb_p, Eb_a, Eb, atr, Eh, E, etab, H, eta)"
   ]
  },
  {
   "cell_type": "code",
   "execution_count": 8,
   "id": "f4fa2ee1",
   "metadata": {},
   "outputs": [
    {
     "name": "stdout",
     "output_type": "stream",
     "text": [
      "20000000.0\n"
     ]
    }
   ],
   "source": [
    "#now write a test\n",
    "num_steps = 40000\n",
    "test_run = [x, dx, x_node, \n",
    "            K, beta, \n",
    "            D, phi, Hstar, psi,\n",
    "            kb, kqs, I, r, B_valley, B_basin, Q,\n",
    "            etab, H, eta,\n",
    "            baselevel_rate,\n",
    "            num_steps]\n",
    "\n",
    "# and run it\n",
    "(dt, S, q, alpha, Qs, qs, Eb_p, Eb_a, Eb, atr, Eh, E, etab, H, eta) = model(*test_run)"
   ]
  },
  {
   "cell_type": "code",
   "execution_count": 9,
   "id": "fc8e988a",
   "metadata": {},
   "outputs": [
    {
     "data": {
      "text/plain": [
       "array([1.e-04, 1.e-04, 1.e-04, 1.e-04, 1.e-04, 1.e-04, 1.e-04, 1.e-04,\n",
       "       1.e-04, 1.e-04, 1.e-04, 1.e-04, 1.e-04, 1.e-04, 1.e-04, 1.e-04,\n",
       "       1.e-04, 1.e-04, 1.e-04, 1.e-04, 1.e-04, 1.e-04, 1.e-04, 1.e-04,\n",
       "       1.e-04, 1.e-04, 1.e-04, 1.e-04, 1.e-04, 1.e-04, 1.e-04, 1.e-04,\n",
       "       1.e-04, 1.e-04, 1.e-04, 1.e-04, 1.e-04, 1.e-04, 1.e-04, 1.e-04,\n",
       "       1.e-04, 1.e-04, 1.e-04, 1.e-04, 1.e-04, 1.e-04, 1.e-04, 1.e-04,\n",
       "       1.e-04, 0.e+00])"
      ]
     },
     "execution_count": 9,
     "metadata": {},
     "output_type": "execute_result"
    }
   ],
   "source": [
    "Eb"
   ]
  },
  {
   "cell_type": "code",
   "execution_count": 10,
   "id": "16aeab79",
   "metadata": {},
   "outputs": [
    {
     "data": {
      "text/plain": [
       "array([0.02700046, 0.02096582, 0.01733486, 0.01495411, 0.01323485,\n",
       "       0.01191267, 0.01085245, 0.00997718, 0.0092391 , 0.0086066 ,\n",
       "       0.00805768, 0.00757637, 0.00715071, 0.0067715 , 0.00643154,\n",
       "       0.00612504, 0.00584734, 0.00559458, 0.00536359, 0.0051517 ,\n",
       "       0.00495665, 0.00477652, 0.00460968, 0.00445471, 0.0043104 ,\n",
       "       0.00417568, 0.00404963, 0.00393144, 0.00382038, 0.00371584,\n",
       "       0.00361724, 0.00352409, 0.00343595, 0.00335242, 0.00327313,\n",
       "       0.00319778, 0.00312607, 0.00305774, 0.00299256, 0.0029303 ,\n",
       "       0.00287077, 0.00281379, 0.0027592 , 0.00270684, 0.00265659,\n",
       "       0.00260831, 0.00256189, 0.00251722, 0.0024742 ])"
      ]
     },
     "execution_count": 10,
     "metadata": {},
     "output_type": "execute_result"
    }
   ],
   "source": [
    "S"
   ]
  },
  {
   "cell_type": "code",
   "execution_count": 11,
   "id": "546c09d3",
   "metadata": {},
   "outputs": [],
   "source": [
    "alpha_mine = (kqs * I * beta)/(K - (K*np.exp(-beta * x)) + (kqs * I * beta))"
   ]
  },
  {
   "cell_type": "code",
   "execution_count": 12,
   "id": "f3b16508",
   "metadata": {},
   "outputs": [],
   "source": [
    "# S_an = ((1/((K*Q*alpha) - \n",
    "#             (K * Q * alpha * np.exp(-beta * x)) + \n",
    "#             (K * Q))) * ((U * B_valley)/alpha)) ** (6./7.)\n",
    "\n",
    "# just see if ben's solution works\n",
    "A1 = beta * kqs * I\n",
    "A2 = (1 - np.exp(-beta * x)) * K\n",
    "A3 = beta * kqs * I\n",
    "\n",
    "alpha_Ben = A1 / (A2 + A3)\n",
    "\n",
    "term_1 = 1 - np.exp(-beta * x)\n",
    "term_2 = K * Q * alpha_Ben\n",
    "term_3 = term_1 * term_2 + K * Q\n",
    "term_4 = (U * B_valley) / alpha_Ben\n",
    "\n",
    "S_an_Ben = (term_4 / term_3) ** (6 / 7)\n",
    "\n",
    "# S_an_mine = ((1/((K*Q[1:]*alpha_mine[1:]) - \n",
    "#             (K * Q[1:] * alpha_mine[1:] * np.exp(-beta * x[1:])) + \n",
    "#             (K * Q[1:]))) * ((U * B_valley[:-1])/alpha_mine[1:])) ** (6./7.)\n",
    "\n",
    "S_an_mine = ((1/((K*Q*alpha_mine) - \n",
    "            (K * Q * alpha_mine * np.exp(-beta * x)) + \n",
    "            (K * Q))) * ((U * B_valley)/alpha_mine)) ** (6./7.)"
   ]
  },
  {
   "cell_type": "code",
   "execution_count": 13,
   "id": "3b4dfa01",
   "metadata": {},
   "outputs": [
    {
     "data": {
      "text/plain": [
       "<matplotlib.legend.Legend at 0x7ff72c4b9a90>"
      ]
     },
     "execution_count": 13,
     "metadata": {},
     "output_type": "execute_result"
    },
    {
     "data": {
      "image/png": "[encoded data removed]",
      "text/plain": [
       "<Figure size 432x288 with 1 Axes>"
      ]
     },
     "metadata": {
      "needs_background": "light"
     },
     "output_type": "display_data"
    }
   ],
   "source": [
    "plt.plot(S, label = 'model', linewidth = 3, color = 'k')\n",
    "plt.plot(S_an_Ben[1:], label = 'analytical', color = 'red')\n",
    "plt.xlabel('distance')\n",
    "plt.ylabel('slope')\n",
    "plt.legend()"
   ]
  },
  {
   "cell_type": "code",
   "execution_count": 14,
   "id": "4d20c86a",
   "metadata": {},
   "outputs": [
    {
     "data": {
      "text/plain": [
       "[<matplotlib.lines.Line2D at 0x7ff72c6d0950>]"
      ]
     },
     "execution_count": 14,
     "metadata": {},
     "output_type": "execute_result"
    },
    {
     "data": {
      "image/png": "[encoded data removed]",
      "text/plain": [
       "<Figure size 432x288 with 1 Axes>"
      ]
     },
     "metadata": {
      "needs_background": "light"
     },
     "output_type": "display_data"
    }
   ],
   "source": [
    "# need to see if my analytical soln is the same as Ben's\n",
    "plt.plot(S_an_mine[1:])\n",
    "plt.plot(S_an_Ben[1:])\n",
    "plt.plot(S)"
   ]
  },
  {
   "cell_type": "code",
   "execution_count": 15,
   "id": "c4110817",
   "metadata": {},
   "outputs": [],
   "source": [
    "eta_an = -(S_an_mine * x)"
   ]
  },
  {
   "cell_type": "code",
   "execution_count": 16,
   "id": "712da8a5",
   "metadata": {},
   "outputs": [],
   "source": [
    "baselevel_difference = eta[-1] - eta_an[-1]\n",
    "\n",
    "eta_adj = eta - eta[-1]\n",
    "eta_an_adj = eta_an + baselevel_difference - eta[-1]"
   ]
  },
  {
   "cell_type": "code",
   "execution_count": 17,
   "id": "e5d94537",
   "metadata": {},
   "outputs": [
    {
     "data": {
      "text/plain": [
       "<matplotlib.legend.Legend at 0x7ff72c80ef50>"
      ]
     },
     "execution_count": 17,
     "metadata": {},
     "output_type": "execute_result"
    },
    {
     "data": {
      "image/png": "[encoded data removed]",
      "text/plain": [
       "<Figure size 432x288 with 1 Axes>"
      ]
     },
     "metadata": {
      "needs_background": "light"
     },
     "output_type": "display_data"
    }
   ],
   "source": [
    "plt.plot(eta_adj[1:], label = 'model', linewidth = 3, color = 'k')\n",
    "plt.plot(eta_an_adj[1:], label = 'analytical', color = 'red')\n",
    "plt.xlabel('distance')\n",
    "plt.ylabel('elevation')\n",
    "plt.legend()"
   ]
  },
  {
   "cell_type": "code",
   "execution_count": null,
   "id": "791ff84d",
   "metadata": {},
   "outputs": [],
   "source": []
  },
  {
   "cell_type": "code",
   "execution_count": null,
   "id": "00475b97",
   "metadata": {},
   "outputs": [],
   "source": []
  }
 ],
 "metadata": {
  "kernelspec": {
   "display_name": "Python 3",
   "language": "python",
   "name": "python3"
  },
  "language_info": {
   "codemirror_mode": {
    "name": "ipython",
    "version": 3
   },
   "file_extension": ".py",
   "mimetype": "text/x-python",
   "name": "python",
   "nbconvert_exporter": "python",
   "pygments_lexer": "ipython3",
   "version": "3.7.6"
  }
 },
 "nbformat": 4,
 "nbformat_minor": 5
}
