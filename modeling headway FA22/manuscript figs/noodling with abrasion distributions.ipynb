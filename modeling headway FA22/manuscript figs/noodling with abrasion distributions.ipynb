{
 "cells": [
  {
   "cell_type": "code",
   "execution_count": 1,
   "id": "e68764b7",
   "metadata": {},
   "outputs": [],
   "source": [
    "# purpose of this notebook is to look at bedload distributions with differing abrasion coefficients"
   ]
  },
  {
   "cell_type": "code",
   "execution_count": 2,
   "id": "c6d7206c",
   "metadata": {},
   "outputs": [],
   "source": [
    "import numpy as np\n",
    "import matplotlib.pyplot as plt"
   ]
  },
  {
   "cell_type": "code",
   "execution_count": 14,
   "id": "e89b7471",
   "metadata": {},
   "outputs": [],
   "source": [
    "# create grains array, fill with uniform probabilities and number\n",
    "grains = np.zeros(10000)\n",
    "grains[:] = 0.50\n",
    "\n",
    "# if abrasion coeffs are uniform, then\n",
    "# probabilities have to be random, \n",
    "# otherwise everything will either stay forever or go away all at once\n",
    "## rand_probs = np.round(np.random.uniform(0,1 ,(1, 10000)), 2)\n",
    "\n",
    "# initiate boolean of is_alive\n",
    "is_alive = np.zeros(len(grains))\n",
    "is_alive[:] = True"
   ]
  },
  {
   "cell_type": "code",
   "execution_count": 16,
   "id": "2f45a568",
   "metadata": {},
   "outputs": [
    {
     "ename": "ValueError",
     "evalue": "The truth value of an array with more than one element is ambiguous. Use a.any() or a.all()",
     "output_type": "error",
     "traceback": [
      "\u001b[0;31m---------------------------------------------------------------------------\u001b[0m",
      "\u001b[0;31mValueError\u001b[0m                                Traceback (most recent call last)",
      "\u001b[0;32m<ipython-input-16-8831e12747a0>\u001b[0m in \u001b[0;36m<module>\u001b[0;34m\u001b[0m\n\u001b[1;32m      5\u001b[0m     \u001b[0mrand_probs\u001b[0m \u001b[0;34m=\u001b[0m \u001b[0mnp\u001b[0m\u001b[0;34m.\u001b[0m\u001b[0mround\u001b[0m\u001b[0;34m(\u001b[0m\u001b[0mnp\u001b[0m\u001b[0;34m.\u001b[0m\u001b[0mrandom\u001b[0m\u001b[0;34m.\u001b[0m\u001b[0muniform\u001b[0m\u001b[0;34m(\u001b[0m\u001b[0;36m0\u001b[0m\u001b[0;34m,\u001b[0m \u001b[0;36m1\u001b[0m \u001b[0;34m,\u001b[0m\u001b[0;34m(\u001b[0m\u001b[0;36m1\u001b[0m\u001b[0;34m,\u001b[0m \u001b[0;36m10000\u001b[0m\u001b[0;34m)\u001b[0m\u001b[0;34m)\u001b[0m\u001b[0;34m,\u001b[0m \u001b[0;36m2\u001b[0m\u001b[0;34m)\u001b[0m\u001b[0;34m\u001b[0m\u001b[0;34m\u001b[0m\u001b[0m\n\u001b[1;32m      6\u001b[0m \u001b[0;34m\u001b[0m\u001b[0m\n\u001b[0;32m----> 7\u001b[0;31m     \u001b[0;32mif\u001b[0m \u001b[0mrand_probs\u001b[0m\u001b[0;34m[\u001b[0m\u001b[0mi\u001b[0m\u001b[0;34m]\u001b[0m \u001b[0;34m>\u001b[0m \u001b[0mgrains\u001b[0m\u001b[0;34m[\u001b[0m\u001b[0mi\u001b[0m\u001b[0;34m]\u001b[0m\u001b[0;34m:\u001b[0m\u001b[0;34m\u001b[0m\u001b[0;34m\u001b[0m\u001b[0m\n\u001b[0m\u001b[1;32m      8\u001b[0m         \u001b[0mis_alive\u001b[0m\u001b[0;34m[\u001b[0m\u001b[0mi\u001b[0m\u001b[0;34m]\u001b[0m \u001b[0;34m=\u001b[0m \u001b[0;32mFalse\u001b[0m\u001b[0;34m\u001b[0m\u001b[0;34m\u001b[0m\u001b[0m\n\u001b[1;32m      9\u001b[0m \u001b[0;34m\u001b[0m\u001b[0m\n",
      "\u001b[0;31mValueError\u001b[0m: The truth value of an array with more than one element is ambiguous. Use a.any() or a.all()"
     ]
    }
   ],
   "source": [
    "# try writing model\n",
    "\n",
    "for i in range(len(grains)):\n",
    "    \n",
    "    rand_probs = np.round(np.random.uniform(0, 1 ,(1, 10000)), 2)\n",
    "    \n",
    "    if rand_probs[i] > grains[i]: # ISSUE WILL BE HERE; HOW TO MODIFY TO HONOR LOSS OF GRAINS?\n",
    "        is_alive[i] = False\n",
    "        \n",
    "    grains_left = sum(is_alive) # True is equla to 1\n",
    "    \n",
    "    plt.plot(i, grains_left)\n",
    "    \n",
    "    \n",
    "# end of day, seeing some issues with this\n",
    "# going to have issues with grains vs grains left\n",
    "# like, will need to create new array that holds just the True values?\n",
    "# or, modify if statement to exclude elements that are False"
   ]
  },
  {
   "cell_type": "code",
   "execution_count": null,
   "id": "93abe488",
   "metadata": {},
   "outputs": [],
   "source": []
  }
 ],
 "metadata": {
  "kernelspec": {
   "display_name": "Python 3",
   "language": "python",
   "name": "python3"
  },
  "language_info": {
   "codemirror_mode": {
    "name": "ipython",
    "version": 3
   },
   "file_extension": ".py",
   "mimetype": "text/x-python",
   "name": "python",
   "nbconvert_exporter": "python",
   "pygments_lexer": "ipython3",
   "version": "3.7.6"
  }
 },
 "nbformat": 4,
 "nbformat_minor": 5
}
