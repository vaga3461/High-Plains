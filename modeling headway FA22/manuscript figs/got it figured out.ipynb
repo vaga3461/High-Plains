{
 "cells": [
  {
   "cell_type": "code",
   "execution_count": 1,
   "id": "fec61e3b",
   "metadata": {},
   "outputs": [],
   "source": [
    "import numpy as np\n",
    "import matplotlib.pyplot as plt"
   ]
  },
  {
   "cell_type": "code",
   "execution_count": 2,
   "id": "3dfe0501",
   "metadata": {},
   "outputs": [],
   "source": [
    "# create a profile\n",
    "dx = 500\n",
    "x = np.arange(0, 50000, dx)\n",
    "x_node = x + (dx/2)\n",
    "\n",
    "# add some elevation\n",
    "Hstar = 0.5 # depth decay\n",
    "etab = np.zeros(len(x)) # bedrock elevation\n",
    "etab[:] = np.linspace(1, 0.1, len(x)) # need to start with slight bedrock slope\n",
    "H = Hstar + np.zeros(len(x)) # alluvium thickness\n",
    "eta = etab + H # topography"
   ]
  },
  {
   "cell_type": "code",
   "execution_count": 3,
   "id": "628d23bd",
   "metadata": {},
   "outputs": [],
   "source": [
    "# define constants and other parameters\n",
    "K = 1e-6 # erodibility\n",
    "beta = 0.0005 # abradability\n",
    "r = 10. # runoff rate\n",
    "U = 0.0001 # uplift or baselevel fall rate\n",
    "I = 0.03 # intermittency\n",
    "phi = 0.1 # porosity\n",
    "D = 0.01 # grain size\n",
    "\n",
    "kqs = 0.041 # sed transport coeff\n",
    "kxb = 25 # valley width coeff\n",
    "Pxb = 1./5. # valley width exp\n",
    "kb = 8.3e-8 # channel width coeff\n",
    "\n",
    "B_valley = kxb * (x_node**Pxb) # valley width\n",
    "Q = (r * kxb * x_node**(1 + Pxb))/(1 + Pxb) # discharge"
   ]
  },
  {
   "cell_type": "code",
   "execution_count": 4,
   "id": "d6155a41",
   "metadata": {},
   "outputs": [],
   "source": [
    "def model(x, dx, x_node,\n",
    "          K, beta,\n",
    "          D, phi, Hstar,\n",
    "          kb, kqs, I, r, U,\n",
    "          etab, H, eta,\n",
    "          B_valley, Q,\n",
    "          num_steps = 1):\n",
    "    \n",
    "    q = Q/B_valley\n",
    "    dt = 500\n",
    "    \n",
    "    run_duration = dt * num_steps\n",
    "    cum_time = 0.0\n",
    "    \n",
    "    Qs = np.zeros(len(x))\n",
    "    qs = np.zeros(len(x))\n",
    "    Eb_p = np.zeros(len(x))\n",
    "    Eb_a = np.zeros(len(x))\n",
    "    Eb = np.zeros(len(x))\n",
    "    Eh = np.zeros(len(x))\n",
    "    E = np.zeros(len(x))\n",
    "    \n",
    "    H[-1] = 0\n",
    "    E[-1] = U\n",
    "    q[0] = 0\n",
    "    Qs[0] = 0\n",
    "    \n",
    "    while cum_time < run_duration:\n",
    "        \n",
    "        # drop baselevel\n",
    "        eta[-1] -= U * dt\n",
    "        \n",
    "        # set boundary conditions\n",
    "        etab[-1] = eta[-1]\n",
    "        \n",
    "        # calc slope\n",
    "        S = -np.diff(eta)/dx\n",
    "        \n",
    "        # calc bed exposure\n",
    "        alpha = np.exp(-H/Hstar)\n",
    "        \n",
    "        # calc sed transport\n",
    "        Qs[1:] = kqs * I * Q[1:] * S**(7./6.) * (1 - alpha[:-1])\n",
    "        qs[1:] = Qs[1:] / B_valley[1:]\n",
    "        \n",
    "        # calc bedrock erosion\n",
    "        Eb_p[:-1] = K * Q[1:] * S**(7./6.) * alpha[:-1]\n",
    "        Eb_a[:-1] = beta * Qs[1:] * alpha[:-1]\n",
    "        Eb[:-1] = (Eb_p[:-1] + Eb_a[:-1]) / B_valley[:-1]\n",
    "        \n",
    "        # calc grain attrition\n",
    "        atr = Qs * beta\n",
    "        \n",
    "        # calc sediment erosion rate\n",
    "        Eh[:-1] = 1/((1 - phi) * B_valley[:-1]) * (np.diff(Qs)/dx + atr[1:] - Eb_p[:-1])\n",
    "        \n",
    "        # calc total erosion rate\n",
    "        E[:-1] = Eb[:-1] + Eh[:-1]\n",
    "        \n",
    "        # update topography\n",
    "        etab[:-1] -= Eb[:-1] * dt\n",
    "        H[:-1] -= Eh[:-1] * dt\n",
    "        H[H<0] = 0\n",
    "        eta[:-1] = etab[:-1] + H[:-1]\n",
    "        \n",
    "        # update elapsed time\n",
    "        cum_time += dt\n",
    "        \n",
    "    print(cum_time)\n",
    "        \n",
    "    return (dt, S, q, alpha, Qs, qs, Eb_p, Eb_a, Eb, atr, Eh, E, etab, H, eta)"
   ]
  },
  {
   "cell_type": "code",
   "execution_count": 5,
   "id": "65e2f37a",
   "metadata": {},
   "outputs": [
    {
     "name": "stdout",
     "output_type": "stream",
     "text": [
      "20000000.0\n"
     ]
    }
   ],
   "source": [
    "#now write a test\n",
    "num_steps = 40000\n",
    "test_run = [x, dx, x_node, \n",
    "            K, beta, \n",
    "            D, phi, Hstar,\n",
    "            kb, kqs, I, r, U,\n",
    "            etab, H, eta,\n",
    "            B_valley, Q,\n",
    "            num_steps]\n",
    "\n",
    "# and run it\n",
    "(dt, S, q, alpha, Qs, qs, Eb_p, Eb_a, Eb, atr, Eh, E, etab, H, eta) = model(*test_run)"
   ]
  },
  {
   "cell_type": "code",
   "execution_count": 6,
   "id": "67e39452",
   "metadata": {},
   "outputs": [
    {
     "data": {
      "text/plain": [
       "[<matplotlib.lines.Line2D at 0x7f7a6d479bd0>]"
      ]
     },
     "execution_count": 6,
     "metadata": {},
     "output_type": "execute_result"
    },
    {
     "data": {
      "image/png": "[encoded data removed]",
      "text/plain": [
       "<Figure size 432x288 with 1 Axes>"
      ]
     },
     "metadata": {
      "needs_background": "light"
     },
     "output_type": "display_data"
    }
   ],
   "source": [
    "plt.plot(S)"
   ]
  },
  {
   "cell_type": "code",
   "execution_count": 7,
   "id": "262f88fb",
   "metadata": {},
   "outputs": [
    {
     "data": {
      "text/plain": [
       "[<matplotlib.lines.Line2D at 0x7f7a6d703090>]"
      ]
     },
     "execution_count": 7,
     "metadata": {},
     "output_type": "execute_result"
    },
    {
     "data": {
      "image/png": "[encoded data removed]",
      "text/plain": [
       "<Figure size 432x288 with 1 Axes>"
      ]
     },
     "metadata": {
      "needs_background": "light"
     },
     "output_type": "display_data"
    }
   ],
   "source": [
    "# adjust baselevel\n",
    "eta_adj = eta - eta[-1]\n",
    "\n",
    "plt.plot(eta_adj)"
   ]
  },
  {
   "cell_type": "code",
   "execution_count": 8,
   "id": "0d4796bb",
   "metadata": {},
   "outputs": [],
   "source": [
    "# okay, so far looks good... now try comparing to ben's analytical solution\n",
    "A1 = beta * kqs * I\n",
    "A2 = (1 - np.exp(-beta * x)) * K\n",
    "A3 = beta * kqs * I\n",
    "\n",
    "alpha_Ben = A1 / (A2 + A3)\n",
    "\n",
    "term_1 = 1 - np.exp(-beta * x)\n",
    "term_2 = K * Q * alpha_Ben\n",
    "term_3 = term_1 * term_2 + K * Q\n",
    "term_4 = (U * B_valley) / alpha_Ben\n",
    "\n",
    "S_an_Ben = (term_4 / term_3) ** (6 / 7)"
   ]
  },
  {
   "cell_type": "code",
   "execution_count": 9,
   "id": "a1d27bd4",
   "metadata": {},
   "outputs": [
    {
     "data": {
      "text/plain": [
       "[<matplotlib.lines.Line2D at 0x7f7a6d7f9350>]"
      ]
     },
     "execution_count": 9,
     "metadata": {},
     "output_type": "execute_result"
    },
    {
     "data": {
      "image/png": "[encoded data removed]",
      "text/plain": [
       "<Figure size 432x288 with 1 Axes>"
      ]
     },
     "metadata": {
      "needs_background": "light"
     },
     "output_type": "display_data"
    }
   ],
   "source": [
    "plt.plot(S)\n",
    "plt.plot(S_an_Ben[1:])"
   ]
  },
  {
   "cell_type": "code",
   "execution_count": 10,
   "id": "214d3794",
   "metadata": {},
   "outputs": [],
   "source": [
    "# and what if we make a line using Ben's solution?\n",
    "eta_an_Ben = np.cumsum(S_an_Ben * dx)"
   ]
  },
  {
   "cell_type": "code",
   "execution_count": 11,
   "id": "b17d7337",
   "metadata": {},
   "outputs": [
    {
     "data": {
      "text/plain": [
       "[<matplotlib.lines.Line2D at 0x7f7a6d909290>]"
      ]
     },
     "execution_count": 11,
     "metadata": {},
     "output_type": "execute_result"
    },
    {
     "data": {
      "image/png": "[encoded data removed]",
      "text/plain": [
       "<Figure size 432x288 with 1 Axes>"
      ]
     },
     "metadata": {
      "needs_background": "light"
     },
     "output_type": "display_data"
    }
   ],
   "source": [
    "plt.plot(eta_adj)\n",
    "plt.plot(-(eta_an_Ben - eta_an_Ben[-1]))"
   ]
  },
  {
   "cell_type": "code",
   "execution_count": 12,
   "id": "265e5ec6",
   "metadata": {},
   "outputs": [
    {
     "name": "stdout",
     "output_type": "stream",
     "text": [
      "[0.06080427 0.05707806 0.05442787 0.05245434 0.05087694 0.04955569\n",
      " 0.04841425 0.04740708 0.04650489 0.04568769 0.04494111 0.04425441\n",
      " 0.04361928 0.04302913 0.04247857 0.04196319 0.04147924 0.04102355\n",
      " 0.04059338 0.04018638 0.03980048 0.03943385 0.03908489 0.03875219\n",
      " 0.03843445 0.03813056 0.03783948 0.03756031 0.0372922  0.03703441\n",
      " 0.03678625 0.03654711 0.03631641 0.03609364 0.03587833 0.03567003\n",
      " 0.03546836 0.03527293 0.03508341 0.03489949 0.03472088 0.03454729\n",
      " 0.0343785  0.03421425 0.03405433 0.03389855 0.03374671 0.03359863\n",
      " 0.03345415 0.03331311 0.03317536 0.03304078 0.03290922 0.03278058\n",
      " 0.03265472 0.03253155 0.03241097 0.03229287 0.03217716 0.03206376\n",
      " 0.03195259 0.03184356 0.0317366  0.03163165 0.03152863 0.03142748\n",
      " 0.03132814 0.03123055 0.03113466 0.03104041 0.03094776 0.03085665\n",
      " 0.03076703 0.03067887 0.03059213 0.03050675 0.0304227  0.03033995\n",
      " 0.03025846 0.03017819 0.03009911 0.03002119 0.0299444  0.02986871\n",
      " 0.02979409 0.02972052 0.02964796 0.02957639 0.02950579 0.02943614\n",
      " 0.0293674  0.02929957 0.02923261 0.02916651 0.02910125 0.02903681\n",
      " 0.02897316 0.0289103  0.0288482 ]\n"
     ]
    }
   ],
   "source": [
    "# now try comparing model slope to threshold for motion slope, using Eqn 5 from Lai et al 2021)\n",
    "\n",
    "tau_c = 0.15 * S**(1./4.)\n",
    "print(tau_c)"
   ]
  },
  {
   "cell_type": "code",
   "execution_count": 13,
   "id": "63a699bb",
   "metadata": {},
   "outputs": [],
   "source": [
    "# this is pretty close to 0.0495 value typically used; but use Lai et al 21 formulation for consistancy"
   ]
  },
  {
   "cell_type": "code",
   "execution_count": 14,
   "id": "5e1b2b6f",
   "metadata": {},
   "outputs": [],
   "source": [
    "rho_s = 2650\n",
    "rho_w = 1000\n",
    "Rb = (rho_s - rho_w)/rho_w"
   ]
  },
  {
   "cell_type": "code",
   "execution_count": 15,
   "id": "18db904a",
   "metadata": {},
   "outputs": [],
   "source": [
    "width = (kb * Q[1:] * (S**(7./6.))) / (D**(3./2.))"
   ]
  },
  {
   "cell_type": "code",
   "execution_count": 16,
   "id": "ce397866",
   "metadata": {},
   "outputs": [],
   "source": [
    "depth = (0.09801 * D) / S"
   ]
  },
  {
   "cell_type": "code",
   "execution_count": 17,
   "id": "873b8d6a",
   "metadata": {},
   "outputs": [],
   "source": [
    "Rh = (width * depth) / ((2 * depth) + width)"
   ]
  },
  {
   "cell_type": "code",
   "execution_count": 18,
   "id": "2e510a2f",
   "metadata": {},
   "outputs": [],
   "source": [
    "S_ds = (tau_c * Rb * D) / Rh"
   ]
  },
  {
   "cell_type": "code",
   "execution_count": 19,
   "id": "b13b3b5f",
   "metadata": {},
   "outputs": [
    {
     "data": {
      "text/plain": [
       "<matplotlib.legend.Legend at 0x7f7a6d970590>"
      ]
     },
     "execution_count": 19,
     "metadata": {},
     "output_type": "execute_result"
    },
    {
     "data": {
      "image/png": "[encoded data removed]",
      "text/plain": [
       "<Figure size 432x288 with 1 Axes>"
      ]
     },
     "metadata": {
      "needs_background": "light"
     },
     "output_type": "display_data"
    }
   ],
   "source": [
    "# plt.plot(S_an_Ben, label = 'total slope')\n",
    "plt.plot(S[:]/S[:], label = 'total slope')\n",
    "plt.plot(S_ds[:]/S[:], label = 'threshold slope')\n",
    "plt.legend()"
   ]
  },
  {
   "cell_type": "code",
   "execution_count": 20,
   "id": "bad5f1cf",
   "metadata": {},
   "outputs": [],
   "source": [
    "# now calc S_qs\n",
    "tau = (Rh * S) / (Rb * D)\n",
    "S_qs = (tau - tau_c) * ((Rb * D)/Rh) * (1 - alpha[:-1])**(2./3.)"
   ]
  },
  {
   "cell_type": "code",
   "execution_count": 21,
   "id": "6e713cd2",
   "metadata": {},
   "outputs": [
    {
     "data": {
      "text/plain": [
       "<matplotlib.legend.Legend at 0x7f7a6da7e250>"
      ]
     },
     "execution_count": 21,
     "metadata": {},
     "output_type": "execute_result"
    },
    {
     "data": {
      "image/png": "[encoded data removed]",
      "text/plain": [
       "<Figure size 432x288 with 1 Axes>"
      ]
     },
     "metadata": {
      "needs_background": "light"
     },
     "output_type": "display_data"
    }
   ],
   "source": [
    "plt.plot(S/S, label = 'total slope')\n",
    "plt.plot(S_ds/S, label = 'threshold slope')\n",
    "plt.plot(S_qs/S, label = 'transport slope')\n",
    "plt.legend()"
   ]
  },
  {
   "cell_type": "code",
   "execution_count": 22,
   "id": "4c8133de",
   "metadata": {},
   "outputs": [],
   "source": [
    "# now calc erosion slope\n",
    "S_e = S - S_ds - S_qs"
   ]
  },
  {
   "cell_type": "code",
   "execution_count": 23,
   "id": "73b4105f",
   "metadata": {},
   "outputs": [
    {
     "data": {
      "text/plain": [
       "<matplotlib.legend.Legend at 0x7f7a6dba8e50>"
      ]
     },
     "execution_count": 23,
     "metadata": {},
     "output_type": "execute_result"
    },
    {
     "data": {
      "image/png": "[encoded data removed]",
      "text/plain": [
       "<Figure size 432x288 with 1 Axes>"
      ]
     },
     "metadata": {
      "needs_background": "light"
     },
     "output_type": "display_data"
    }
   ],
   "source": [
    "# plt.plot(S/S, label = 'total slope')\n",
    "# plt.fill_between(x[1:], S/S)\n",
    "plt.plot(S_ds/S, label = 'threshold slope')\n",
    "plt.fill_between(x[1:], S_ds/S)\n",
    "plt.plot(S_qs/S + S_ds/S, label = 'transport slope')\n",
    "plt.fill_between(x[1:], S_qs/S + S_ds/S, S_ds/S)\n",
    "plt.plot(S_e/S, label = 'erosion slope')\n",
    "plt.fill_between(x[1:], S_qs/S + S_ds/S + S_e/S, S_qs/S + S_ds/S)\n",
    "plt.ylim(0, 1)\n",
    "plt.legend()"
   ]
  },
  {
   "cell_type": "code",
   "execution_count": 25,
   "id": "266e3fc4",
   "metadata": {},
   "outputs": [
    {
     "data": {
      "text/plain": [
       "<matplotlib.legend.Legend at 0x7f7a6de5f490>"
      ]
     },
     "execution_count": 25,
     "metadata": {},
     "output_type": "execute_result"
    },
    {
     "data": {
      "image/png": "[encoded data removed]",
      "text/plain": [
       "<Figure size 432x288 with 1 Axes>"
      ]
     },
     "metadata": {
      "needs_background": "light"
     },
     "output_type": "display_data"
    }
   ],
   "source": [
    "plt.plot(S, label = 'slope')\n",
    "plt.plot(S_ds + S_qs + S_e, label = 'added components', linestyle = '--')\n",
    "plt.legend()"
   ]
  },
  {
   "cell_type": "code",
   "execution_count": null,
   "id": "1dfa1e58",
   "metadata": {},
   "outputs": [],
   "source": []
  }
 ],
 "metadata": {
  "kernelspec": {
   "display_name": "Python 3",
   "language": "python",
   "name": "python3"
  },
  "language_info": {
   "codemirror_mode": {
    "name": "ipython",
    "version": 3
   },
   "file_extension": ".py",
   "mimetype": "text/x-python",
   "name": "python",
   "nbconvert_exporter": "python",
   "pygments_lexer": "ipython3",
   "version": "3.7.6"
  }
 },
 "nbformat": 4,
 "nbformat_minor": 5
}
