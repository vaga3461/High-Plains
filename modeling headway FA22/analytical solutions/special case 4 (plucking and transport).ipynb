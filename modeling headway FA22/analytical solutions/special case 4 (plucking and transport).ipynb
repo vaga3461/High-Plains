{
 "cells": [
  {
   "cell_type": "code",
   "execution_count": 1,
   "id": "d92d6962",
   "metadata": {},
   "outputs": [],
   "source": [
    "# the purpose of this notebook is to test the performance of our final attempt at an analytical solution:\n",
    "# a case with plucking and sediment transport\n",
    "# but no bedrock abrasion or grain attrition\n",
    "# full derivation is below"
   ]
  },
  {
   "cell_type": "markdown",
   "id": "f70caf8a",
   "metadata": {},
   "source": [
    "Start with conservation of mass of sediment in a landscape \"cell\":\n",
    "> $$\\frac{\\partial M}{\\partial t} = \\text{Mass in} - \\text{Mass out}$$\n",
    "\n",
    "The cell has height $H$, total width $B$, and length $dx$. Contained within the cell is a of channel width $b$. The sediment has porosity $\\phi$ and density $\\rho$. The cell is experiencing uniform uplift $U$. Mass is added via sediment flux into the cell, and generation of sediment within the cell via bedrock plucking. Plucking is a function of the fraction of bed cover, $\\alpha$; sediment flux also depends on this quantity. Mass is lost via sediment flux out of the cell. Putting all these pieces together, we arrive at:\n",
    "> $$\\frac{\\partial H B dx (1-\\phi) \\rho}{\\partial t} = Q_s\\bigr\\rvert_{x} \\rho + K\\frac{Q}{B}S^{7/6}\\alpha B dx \\rho - Q_s\\bigr\\rvert_{x + \\Delta x} \\rho$$\n",
    "\n",
    "We can remove the constants from the partial derivative and bring them to the RHS of the equation:\n",
    "> $$\\frac{\\partial H}{\\partial t} = \\frac{Q_s\\bigr\\rvert_{x} \\rho}{B dx (1-\\phi) \\rho} + \\frac{K Q S^{7/6} \\alpha B dx \\rho}{B B dx (1-\\phi) \\rho} - \\frac{Q_s\\bigr\\rvert_{x + \\Delta x} \\rho}{B dx (1-\\phi) \\rho}$$\n",
    "\n",
    "Simplify, pull out the constant denominator:\n",
    "> $$\\frac{\\partial H}{\\partial t} = \\frac{1}{(1-\\phi)B} \\left(\\frac{Q_s\\bigr\\rvert_{x}}{dx} + K Q S^{7/6} \\alpha - \\frac{Q_s\\bigr\\rvert_{x + \\Delta x}}{dx}\\right)$$\n",
    "\n",
    "Pull out -1, rearrange, and rewrite sediment flux pieces as a derivative:\n",
    "> $$\\frac{\\partial H}{\\partial t} = -\\frac{1}{(1-\\phi)B} \\left(\\frac{\\partial Q_s}{\\partial x} - K Q S^{7/6} \\alpha\\right)$$\n",
    "\n",
    "Set $dH/dt$ equal to 0, and go about solving for slope:\n",
    "> $$0 = -\\frac{1}{(1-\\phi)B} \\left(\\frac{\\partial Q_s}{\\partial x} - K Q S^{7/6} \\alpha\\right)$$\n",
    "\n",
    "> $$\\frac{1}{(1 - \\phi)B}\\frac{\\partial Q_s}{\\partial x} = \\frac{K Q S^{7/6} \\alpha}{(1-\\phi)B}$$\n",
    "\n",
    "> $$\\frac{\\partial Q_s}{\\partial x} = K Q S^{7/6} \\alpha$$\n",
    "\n",
    "At steady state, uplift = erosion, meaning uplift rate = plucking rate. We can write this as:\n",
    "\n",
    "> $$U = K \\frac{Q}{B} S^{7/6} \\alpha$$\n",
    "\n",
    "We can rearrange this to solve for $\\alpha$:\n",
    "\n",
    "> $$\\alpha = \\frac{UB}{KQS^{7/6}}$$\n",
    "\n",
    "This can be plugged into the equation for sediment flux above, giving us:\n",
    "\n",
    "> $$\\frac{\\partial Q_s}{\\partial x} = UB$$\n",
    "\n",
    "Now we continue working towards isolating slope, which lives in the equation for $Q_s$:\n",
    "\n",
    "> $$d Q_s = UB  dx$$\n",
    "\n",
    "Replace B with $ax^{1/5}$ and integrate both sides:\n",
    "\n",
    "> $$\\int_{0}^{Q_s} d Q_s = U a \\int_{0}^{x} x^{1/5} dx$$\n",
    "\n",
    "Solve the integral:\n",
    "\n",
    "> $$Q_s = \\frac{5}{6} U a x^{6/5}$$\n",
    "\n",
    "Rewrite $Q_s$:\n",
    "\n",
    "> $$k_{qs}IQS^{7/6}(1 - \\alpha) = \\frac{5}{6} U a x^{6/5}$$\n",
    "\n",
    "Replace $\\alpha$ with equation from above:\n",
    "\n",
    "> $$k_{qs}IQS^{7/6}(1 - \\frac{UB}{KQS^{7/6}}) = \\frac{5}{6} U a x^{6/5}$$\n",
    "\n",
    "Distribute:\n",
    "\n",
    "> $$k_{qs}IQS^{7/6} - \\frac{k_{qs}IQS^{7/6}UB}{KQS^{7/6}} = \\frac{5}{6} U a x^{6/5}$$\n",
    "\n",
    "Simplify and eliminate the denominator:\n",
    "\n",
    "> $$k_{qs}IQS^{7/6}K - k_{qs}IUB = \\frac{5}{6} U a x^{6/5}K$$\n",
    "\n",
    "Pull out common factors:\n",
    "\n",
    "> $$k_{qs}I (QS^{7/6}K - UB) = \\frac{5}{6} U a x^{6/5}K$$\n",
    "\n",
    "Go about solving for $S$:\n",
    "\n",
    "> $$QS^{7/6}K - UB = \\frac{5}{6} \\frac{U a x^{6/5}K}{k_{qs}I}$$\n",
    "\n",
    "> $$QS^{7/6}K = \\frac{5}{6} \\frac{U a x^{6/5}K}{k_{qs}I} + UB$$\n",
    "\n",
    "> $$S^{7/6} = \\frac{5}{6} \\frac{U a x^{6/5} K}{k_{qs} I Q K } + \\frac{UB}{QK}$$\n",
    "\n",
    "Replace $B$ with $ax^{1/5}$ and $Q$ with $\\frac{5}{6}rax^{6/5}$:\n",
    "\n",
    "> $$S^{7/6} = \\frac{5}{6} \\frac{6}{5} \\frac{U a x^{6/5} K}{k_{qs} I S_0 r a x^{6/5} K } + \\frac{6}{5} \\frac{U ax^{1/5}}{r a x^{6/5} K}$$\n",
    "\n",
    "Simplify:\n",
    "\n",
    "> $$S^{7/6} = \\frac{U}{k_{qs} I r} + \\frac{6}{5} \\frac{U}{r x K}$$\n",
    "\n",
    "> $$\\boxed{S = \\left(\\frac{U}{k_{qs} I r} + \\frac{6}{5} \\frac{U}{r x K}\\right)^{6/7}}$$"
   ]
  },
  {
   "cell_type": "code",
   "execution_count": 2,
   "id": "ff15405e",
   "metadata": {},
   "outputs": [],
   "source": [
    "# start by importing libraries\n",
    "import numpy as np\n",
    "import matplotlib.pyplot as plt"
   ]
  },
  {
   "cell_type": "code",
   "execution_count": 3,
   "id": "14b25dec",
   "metadata": {},
   "outputs": [],
   "source": [
    "# define parameters\n",
    "\n",
    "dx = 1000 # grid spacing\n",
    "x = np.arange(0, 10000, dx) # domain length\n",
    "x_node = x + dx/2\n",
    "\n",
    "baselevel_rate = 0.0001 # uplift rate\n",
    "phi = 0.0 ##0.55 # sediment porosity\n",
    "kqs = 0.041 # sediment discharge coefficient\n",
    "I = 0.01 # intermittency factor\n",
    "r = 10. # runoff rate\n",
    "S0 = 0.15 # slope linearizer\n",
    "##K = 0.1 # erodibility\n",
    "K = 1.5e-8 ##\n",
    "# K[:3] = 0.000001\n",
    "# K[3:] = 0.00001\n",
    "Hstar = 0.5\n",
    "a = 25 # valley width coeffecient (kxb, in wickert & schildgen)\n",
    "Pxb = (1/5) # valley width exponent"
   ]
  },
  {
   "cell_type": "code",
   "execution_count": 4,
   "id": "f9a5dbac",
   "metadata": {},
   "outputs": [],
   "source": [
    "# set up arrays\n",
    "\n",
    "H = Hstar + np.zeros(len(x)) # sediment thickness\n",
    "etab = np.zeros(len(x)) # bedrock elevation array\n",
    "etab[:] = np.linspace(1, 0.1, len(x)) # need to start with slight bedrock slope\n",
    "eta = etab + H # total topographic elevation"
   ]
  },
  {
   "cell_type": "code",
   "execution_count": 5,
   "id": "31fabcab",
   "metadata": {},
   "outputs": [],
   "source": [
    "# calculate constant, derivative values\n",
    "\n",
    "B = a * (x_node**Pxb) # valley width   ## TWEAKED\n",
    "Q = (r * a * x**(1 + Pxb))/(1 + Pxb) # discharge  ## WE TWEAKED THIS"
   ]
  },
  {
   "cell_type": "code",
   "execution_count": 6,
   "id": "b68e1804",
   "metadata": {},
   "outputs": [],
   "source": [
    "def model(x,\n",
    "          dx,\n",
    "          Hstar,\n",
    "          H,\n",
    "          etab,\n",
    "          eta,\n",
    "          kqs,\n",
    "          I,\n",
    "          K,\n",
    "          a,\n",
    "          Pxb,\n",
    "          phi,\n",
    "          baselevel_rate,\n",
    "          Q,\n",
    "          B,\n",
    "          num_steps = 5000000):\n",
    "    \n",
    "    dx = 1000 # grid spacing\n",
    "    x = np.arange(0, 10000, dx) # domain length\n",
    "    x_node = x + dx/2\n",
    "        \n",
    "    # calculate timestep\n",
    "    dt = 0.2 * (0.2 * dx * dx / (kqs*(Q[-1]/B[-1])))\n",
    "    \n",
    "    # define arrays\n",
    "    Eb_unit = np.zeros(len(x)) # bedrock erosion rate\n",
    "    Eb_total = np.zeros(len(x)) # total bedrock erosion rate\n",
    "    Eh = np.zeros(len(x)) # sedimentation rate\n",
    "    E = np.zeros(len(x)) # total erosion rate\n",
    "    Qs = np.zeros(len(x)) # total sediment transport\n",
    "    \n",
    "    # set boundary conditions\n",
    "    #H[-1] = 0\n",
    "    E[-1] = 0 # also try baselevel_rate\n",
    "    Qs[0] = 0\n",
    "    \n",
    "    for i in range(num_steps):\n",
    "            \n",
    "        # calculate slope\n",
    "        S = np.abs(np.diff(eta)/dx)\n",
    "        \n",
    "        # calculate bed exposure\n",
    "        alpha = np.exp(-H/Hstar)\n",
    "        \n",
    "        # calculate sediment transport (L^3/T)\n",
    "        Qs[1:] = kqs * I * Q[1:] * (S** (7./6.)) * (1-alpha[:-1])\n",
    "        \n",
    "        # calculate bedrock erosion rate (plucking) (L^2/T)\n",
    "        Eb_total[:-1] = (K * Q[1:] * S**(7./6.) * alpha[:-1]) ##/phi\n",
    "        \n",
    "        # total bedrock erosion (L/T)\n",
    "        Eb_unit = Eb_total / B\n",
    "       \n",
    "        # calculate sedimentation rate (L/T)\n",
    "        Eh[:-1] = - (1/((1 - phi) * B[:-1])) * ((np.diff(Qs)/dx) - Eb_total[:-1])\n",
    "        \n",
    "        # calculate total erosion rate (L/T)\n",
    "        E[:-1] = Eb_unit[:-1] + Eh[:-1]\n",
    "        \n",
    "        # update boundary conditions\n",
    "        eta[-1] -= baselevel_rate * dt\n",
    "        etab[-1] = eta[-1]\n",
    "        \n",
    "        # update topography\n",
    "        etab[:-1] -= Eb_unit[:-1] * dt\n",
    "        H[:-1] += Eh[:-1] * dt\n",
    "        H[H<0] = 0\n",
    "        eta[:-1] = etab[:-1] + H[:-1]\n",
    "\n",
    "        \n",
    "    return (S, alpha, Qs, Eb_total, Eb_unit, Eh, E, eta, etab, H, dt)"
   ]
  },
  {
   "cell_type": "code",
   "execution_count": 7,
   "id": "a3ccd30f",
   "metadata": {},
   "outputs": [],
   "source": [
    "# now write a test\n",
    "test = [dx, x, Hstar, H, etab, eta, kqs, I, K, a, Pxb, phi, baselevel_rate, Q, B]\n",
    "\n",
    "# and run it\n",
    "S, alpha, Qs, Eb_total, Eb_unit, Eh, E, eta, etab, H, dt = model(*test)"
   ]
  },
  {
   "cell_type": "code",
   "execution_count": 8,
   "id": "fd23647c",
   "metadata": {},
   "outputs": [
    {
     "data": {
      "text/plain": [
       "array([9.94381459e-05, 9.98583891e-05, 9.99273834e-05, 9.99561542e-05,\n",
       "       9.99719395e-05, 9.99818699e-05, 9.99886510e-05, 9.99935395e-05,\n",
       "       9.99972000e-05, 0.00000000e+00])"
      ]
     },
     "execution_count": 8,
     "metadata": {},
     "output_type": "execute_result"
    }
   ],
   "source": [
    "E"
   ]
  },
  {
   "cell_type": "code",
   "execution_count": 9,
   "id": "bfd4a4c1",
   "metadata": {},
   "outputs": [
    {
     "data": {
      "text/plain": [
       "[<matplotlib.lines.Line2D at 0x7fc0d0aa8a10>]"
      ]
     },
     "execution_count": 9,
     "metadata": {},
     "output_type": "execute_result"
    },
    {
     "data": {
      "image/png": "[encoded data removed]",
      "text/plain": [
       "<Figure size 432x288 with 1 Axes>"
      ]
     },
     "metadata": {
      "needs_background": "light"
     },
     "output_type": "display_data"
    }
   ],
   "source": [
    "plt.plot(x[1:-1], Eb_total[1:-1]/E[1:-1])"
   ]
  },
  {
   "cell_type": "code",
   "execution_count": 10,
   "id": "963392bf",
   "metadata": {},
   "outputs": [],
   "source": [
    "# now calc slopes analytically\n",
    "# slope_prediction = ((baselevel_rate)/(kqs * I * r)) + ((6 * baselevel_rate)/(5 * r * x[1:] * K))**(6./7.)\n",
    "# slope_prediction = (baselevel_rate / (kqs * I * r) + 6.0 * baselevel_rate / (5.0 * K * r * x[1:]))**(6./7.)\n",
    "slope_prediction = ((baselevel_rate / (kqs * I * r)) + (6.0 * baselevel_rate) / (5.0 * K * r * x[1:]))**(6./7.)"
   ]
  },
  {
   "cell_type": "code",
   "execution_count": 11,
   "id": "c4e4f01d",
   "metadata": {},
   "outputs": [
    {
     "name": "stdout",
     "output_type": "stream",
     "text": [
      "slope prediction:  [0.84744957 0.47966912 0.34717824 0.27779069 0.23476455 0.20534438\n",
      " 0.18389606 0.16753385 0.15462202]\n",
      "modeled slopes:  [0.75267501 0.45782088 0.33747826 0.2723022  0.231232   0.20288078\n",
      " 0.18208109 0.1661423  0.15352226]\n"
     ]
    }
   ],
   "source": [
    "print('slope prediction: ', slope_prediction)\n",
    "print('modeled slopes: ', S)"
   ]
  },
  {
   "cell_type": "code",
   "execution_count": 12,
   "id": "370c870c",
   "metadata": {},
   "outputs": [
    {
     "data": {
      "text/plain": [
       "<matplotlib.legend.Legend at 0x7fc0d0b1f750>"
      ]
     },
     "execution_count": 12,
     "metadata": {},
     "output_type": "execute_result"
    },
    {
     "data": {
      "image/png": "[encoded data removed]",
      "text/plain": [
       "<Figure size 432x288 with 1 Axes>"
      ]
     },
     "metadata": {
      "needs_background": "light"
     },
     "output_type": "display_data"
    }
   ],
   "source": [
    "plt.plot(x[1:], S, label = 'model')\n",
    "plt.plot(x[1:], slope_prediction, label = 'prediction')\n",
    "plt.legend()"
   ]
  },
  {
   "cell_type": "code",
   "execution_count": 15,
   "id": "6eef8690",
   "metadata": {},
   "outputs": [],
   "source": [
    "predicted_topo = -(slope_prediction * x[1:])\n",
    "\n",
    "baselevel_difference = eta[-1] - predicted_topo[-1]"
   ]
  },
  {
   "cell_type": "code",
   "execution_count": 16,
   "id": "5c5d07ad",
   "metadata": {},
   "outputs": [
    {
     "data": {
      "text/plain": [
       "<matplotlib.legend.Legend at 0x7f9f3c6a9810>"
      ]
     },
     "execution_count": 16,
     "metadata": {},
     "output_type": "execute_result"
    },
    {
     "data": {
      "image/png": "[encoded data removed]",
      "text/plain": [
       "<Figure size 432x288 with 1 Axes>"
      ]
     },
     "metadata": {
      "needs_background": "light"
     },
     "output_type": "display_data"
    }
   ],
   "source": [
    "plt.plot(x[1:], eta[1:], label = 'model')\n",
    "plt.plot(x[1:], predicted_topo + baselevel_difference, label = 'prediction')\n",
    "plt.legend()"
   ]
  },
  {
   "cell_type": "markdown",
   "id": "b3fb9d68",
   "metadata": {},
   "source": [
    "GT scribbles below here..."
   ]
  },
  {
   "cell_type": "markdown",
   "id": "0db6f811",
   "metadata": {},
   "source": [
    "The bedrock erosion rate should equal the uplift rate:"
   ]
  },
  {
   "cell_type": "code",
   "execution_count": null,
   "id": "fdf6485a",
   "metadata": {},
   "outputs": [],
   "source": [
    "U = 0.0001"
   ]
  },
  {
   "cell_type": "code",
   "execution_count": null,
   "id": "cba93f20",
   "metadata": {
    "scrolled": true
   },
   "outputs": [],
   "source": [
    "print(U)\n",
    "print(Eb_unit[0])"
   ]
  },
  {
   "cell_type": "markdown",
   "id": "eec9c388",
   "metadata": {},
   "source": [
    "CHECK.\n",
    "\n",
    "At the top node, alpha should be:\n",
    "\n",
    "$$\\alpha = \\frac{UB}{KQS^{7/6}}$$"
   ]
  },
  {
   "cell_type": "code",
   "execution_count": null,
   "id": "ba888b83",
   "metadata": {},
   "outputs": [],
   "source": [
    "print(U * B[0]/ (K * Q[1] * S[0]**(7./6.)))\n",
    "print(alpha[0])"
   ]
  },
  {
   "cell_type": "markdown",
   "id": "307b8eba",
   "metadata": {},
   "source": [
    "CHECK.\n",
    "\n",
    "Soil thickness should then be:"
   ]
  },
  {
   "cell_type": "code",
   "execution_count": null,
   "id": "beaf4c8a",
   "metadata": {},
   "outputs": [],
   "source": [
    "print(-Hstar * np.log(U * B[0] / (K * Q[1] * S[0]**(7./6.))))\n",
    "print(H[0])"
   ]
  },
  {
   "cell_type": "markdown",
   "id": "774d4bfe",
   "metadata": {},
   "source": [
    "CHECK.\n",
    "\n",
    "Sediment flux out of the top node should be $k_q I Q S^{7/6} (1 - \\alpha )$: "
   ]
  },
  {
   "cell_type": "code",
   "execution_count": null,
   "id": "24eb96f8",
   "metadata": {},
   "outputs": [],
   "source": [
    "print(kqs * I * Q[1] * S[0]**(7./6.) * (1 - alpha[0]))\n",
    "print(Qs[1])"
   ]
  },
  {
   "cell_type": "markdown",
   "id": "1959a707",
   "metadata": {},
   "source": [
    "CHECK.\n",
    "\n",
    "Given all this, input rate must equal output rate at the top node (per unit area):\n",
    "\n",
    "$$in = K Q S^{7/6} \\alpha / B$$\n",
    "\n",
    "$$out = kqs I Q S^{7/6} (1-\\alpha) / B \\Delta x$$\n",
    "\n"
   ]
  },
  {
   "cell_type": "code",
   "execution_count": null,
   "id": "5b40f13a",
   "metadata": {},
   "outputs": [],
   "source": [
    "print(K * Q[1] * S[0]**(7./6.) * alpha[0] / B[0])\n",
    "print(kqs * I * Q[1] * S[0]**(7./6.) * (1.0 - alpha[0]) / (B[0] * dx))"
   ]
  },
  {
   "cell_type": "markdown",
   "id": "4c31174e",
   "metadata": {},
   "source": [
    "The slope at the top node should then be:\n",
    "\n",
    "$$S(0) = \\left(\\frac{UB\\Delta x}{k_Q I Q} + \\frac{UB}{KQ}\\right)^{6/7}$$"
   ]
  },
  {
   "cell_type": "code",
   "execution_count": null,
   "id": "bd70ce98",
   "metadata": {},
   "outputs": [],
   "source": [
    "print((U * B[0] * dx / (kqs * I * Q[1]) + U * B[0] / (K * Q[1]))**(6./7.))\n",
    "print(S[0])"
   ]
  },
  {
   "cell_type": "markdown",
   "id": "b087f41f",
   "metadata": {},
   "source": [
    "How does this compare with the more general analytical prediction?\n",
    "\n",
    "$$S(0) = \\left(\\frac{U}{k_Q I r} + \\frac{UB}{KQ}\\right)^{6/7}$$"
   ]
  },
  {
   "cell_type": "code",
   "execution_count": null,
   "id": "6fca21d9",
   "metadata": {},
   "outputs": [],
   "source": [
    "print((U / (kqs * I * r) + U * B[0] / (K * Q[1]))**(6./7.))\n",
    "print(S[0])"
   ]
  },
  {
   "cell_type": "markdown",
   "id": "a9aff122",
   "metadata": {},
   "source": [
    "That's pretty darn close. Shouldn't be exactly the same, because the numerics give $r \\approx Q / B \\Delta x$. But still, why does this form of the math work when the other form does not seem to?\n",
    "\n",
    "Let's take it one step further: swap in the expression for $B$:\n",
    "\n",
    "$$S(0) = \\left(\\frac{U}{k_Q I r} + \\frac{Uax^{1/5}}{KQ}\\right)^{6/7}$$"
   ]
  },
  {
   "cell_type": "code",
   "execution_count": null,
   "id": "d02630c0",
   "metadata": {},
   "outputs": [],
   "source": [
    "print((U / (kqs * I * r) + U * a * x_node[0]**0.2 / (K * Q[1]))**(6./7.))\n",
    "print(S[0])"
   ]
  },
  {
   "cell_type": "markdown",
   "id": "e9e63424",
   "metadata": {},
   "source": [
    "Now how about $Q$? First, just test that bit:"
   ]
  },
  {
   "cell_type": "code",
   "execution_count": null,
   "id": "4ad0d9a2",
   "metadata": {},
   "outputs": [],
   "source": [
    "print((5./6.) * a * x_node[0]**(6./5.))\n",
    "print(Q[1])"
   ]
  },
  {
   "cell_type": "markdown",
   "id": "ef90e513",
   "metadata": {},
   "source": [
    "Ok, that reminds us that $Q$ is evaluated at node interfaces, not centers:"
   ]
  },
  {
   "cell_type": "code",
   "execution_count": null,
   "id": "d3bd49e0",
   "metadata": {},
   "outputs": [],
   "source": [
    "print((5./6.) * r * a * x[1]**(6./5.))\n",
    "print(Q[1])"
   ]
  },
  {
   "cell_type": "markdown",
   "id": "ff4b79d5",
   "metadata": {},
   "source": [
    "So then if we put in that substitution, in theory the math should still work:\n",
    "\n",
    "$$S(0) = \\left(\\frac{U}{k_Q I r} + \\frac{6U}{5Krx}\\right)^{6/7}$$"
   ]
  },
  {
   "cell_type": "code",
   "execution_count": null,
   "id": "5ad1cb8b",
   "metadata": {},
   "outputs": [],
   "source": [
    "print((U / (kqs * I * r) + 6.0 * U / (5.0 * K * r * x_node[0]))**(6./7.))\n",
    "print(S[0])"
   ]
  },
  {
   "cell_type": "markdown",
   "id": "d6675473",
   "metadata": {},
   "source": [
    "Not quite right, but let's suppose we use the edge-based $x$, since that is what is used to evaluate $Q$:"
   ]
  },
  {
   "cell_type": "code",
   "execution_count": null,
   "id": "8b61cd90",
   "metadata": {},
   "outputs": [],
   "source": [
    "print((U / (kqs * I * r) + 6.0 * U / (5.0 * K * r * x[1]))**(6./7.))\n",
    "print(S[0])"
   ]
  },
  {
   "cell_type": "markdown",
   "id": "aee8941e",
   "metadata": {},
   "source": [
    "There it is!!\n",
    "\n",
    "More generally, let's evaluate the whole thing this way:"
   ]
  },
  {
   "cell_type": "code",
   "execution_count": null,
   "id": "c28b7cad",
   "metadata": {},
   "outputs": [],
   "source": [
    "Spred = (U / (kqs * I * r) + 6.0 * U / (5.0 * K * r * x[1:]))**(6./7.)\n",
    "print(Spred)\n",
    "print(S)\n",
    "plt.plot(S)\n",
    "plt.plot(Spred)"
   ]
  },
  {
   "cell_type": "markdown",
   "id": "dc4c045c",
   "metadata": {},
   "source": [
    "The slight offset is probably just numerical (and it's in the 3rd decimal place).\n",
    "\n",
    "So, it was just an issue of the half-node offset between node centers and node edges!"
   ]
  },
  {
   "cell_type": "code",
   "execution_count": null,
   "id": "8e5761b2",
   "metadata": {},
   "outputs": [],
   "source": []
  }
 ],
 "metadata": {
  "kernelspec": {
   "display_name": "Python 3",
   "language": "python",
   "name": "python3"
  },
  "language_info": {
   "codemirror_mode": {
    "name": "ipython",
    "version": 3
   },
   "file_extension": ".py",
   "mimetype": "text/x-python",
   "name": "python",
   "nbconvert_exporter": "python",
   "pygments_lexer": "ipython3",
   "version": "3.7.6"
  }
 },
 "nbformat": 4,
 "nbformat_minor": 5
}
