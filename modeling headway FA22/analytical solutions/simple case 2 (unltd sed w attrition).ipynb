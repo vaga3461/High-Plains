{
 "cells": [
  {
   "cell_type": "code",
   "execution_count": 1,
   "id": "01582929",
   "metadata": {},
   "outputs": [],
   "source": [
    "# the purpose of this notebook is to test an analytical solution for my model\n",
    "# for the special case where sediment supply is infinite (H >> H*)\n",
    "# and attrition occurs on sediment\n",
    "# a derivation is below"
   ]
  },
  {
   "cell_type": "markdown",
   "id": "35a204fd",
   "metadata": {},
   "source": [
    "$$\\frac{\\partial z}{\\partial t} = U - \\frac{1}{(1-\\phi)B} \\left(\\frac{\\partial Q_s}{\\partial x} + \\beta Q_s \\right)$$\n",
    "\n",
    "> This says that in a world with no bedrock abrasion, changes in profile elevation depend only on uplift and sediment processes (sediment divergence and attrition that degrades the bed material).\n",
    "\n",
    ">> <i>Note that the full form of the above equation is: </i>\n",
    "\n",
    ">>$$\\frac{\\partial z}{\\partial t} = U - \\frac{1}{(1-\\phi)B} \\left(\\frac{\\partial Q_s}{\\partial x} + \\beta Q_s - q_L - E_p\\right)$$\n",
    "\n",
    ">> <i>where $q_L$ is the lateral sediment influx and $E_p$ denotes erosion from plucking. Since no bedrock is exposed and available to be plucked, $E_p = 0$. Likewise, the lateral sediment input rate is calculated by applying the bedrock erosion rate over the full width of the drainage basin; again, since no bedrock is exposed, this rate is assumed to be $0$.</i> <B><I>IS THIS RIGHT?</B></I>\n",
    "\n",
    "> If we assume a steady state condition $\\left( \\frac{\\partial z}{\\partial t} = 0 \\right )$, then the first equation above simplifies to:\n",
    "\n",
    "$$U = \\frac{1}{(1-\\phi)B} \\left(\\frac{\\partial Q_s}{\\partial x} + \\beta Q_s \\right)$$\n",
    "\n",
    "> First we want to eliminate the derivative, so isolate that piece:\n",
    "\n",
    "$$\\frac{\\partial Q_s}{\\partial x} = UB(1-\\phi) - \\beta Q_s$$\n",
    "\n",
    ">integrate with respect to $x$:\n",
    "\n",
    "$$Q_s = UBx(1-\\phi) - \\beta Q_s x$$\n",
    "\n",
    "> Now isolate $Q_s$:\n",
    "\n",
    "$$Q_s + \\beta Q_s x = UBx(1-\\phi)$$\n",
    "\n",
    "$$Q_s (1 + \\beta x) = UBx(1-\\phi)$$\n",
    "\n",
    "$$Q_s = \\frac{UBx(1-\\phi)}{(1 + \\beta x)}$$\n",
    "\n",
    "> Replace $Q_s$ with full formulation from Wickert & Schildgen:\n",
    "\n",
    "$$k_{Qs}IQS^{7/6} = \\frac{UBx(1-\\phi)}{(1 + \\beta x)}$$\n",
    "\n",
    "> And rearrange:\n",
    "\n",
    "$$S^{7/6} = \\frac{UBx(1-\\phi)}{(1 + \\beta x)} \\frac{1}{k_{Qs}IQ}$$\n",
    "\n",
    "> Isolate $S$:\n",
    "\n",
    "$$S = \\left(\\frac{UBx(1-\\phi)}{(1 + \\beta x)} \\frac{1}{k_{Qs}IQ}\\right)^{6/7}$$\n",
    "\n",
    "This could be condensed and simplified a bit more, but this is fine for testing purposes. Check it out below."
   ]
  },
  {
   "cell_type": "code",
   "execution_count": 2,
   "id": "1fb31551",
   "metadata": {},
   "outputs": [],
   "source": [
    "# start by importing libraries\n",
    "import numpy as np\n",
    "import matplotlib.pyplot as plt"
   ]
  },
  {
   "cell_type": "code",
   "execution_count": 3,
   "id": "5bfb627e",
   "metadata": {},
   "outputs": [],
   "source": [
    "# now set up arrays and parameters\n",
    "dx = 1000 # grid spacing\n",
    "x = np.arange(0, 5000, dx) # domain length\n",
    "\n",
    "# H = 100 + np.zeros(len(x)) # sediment thickness\n",
    "# z = np.linspace(1, 0.1, len(x)) # + H # need to start with slight bedrock slope\n",
    "z = np.zeros(len(x))\n",
    "\n",
    "U = 0.0001 # uplift rate\n",
    "phi = 0.55 # sediment porosity\n",
    "kqs = 0.041 # sediment discharge coefficient\n",
    "I = 0.01 # intermittency factor\n",
    "r = 10. # runoff rate\n",
    "kxb = 25 # valley width coeffecient\n",
    "Pxb = 1/5 # valley width exponent\n",
    "beta = 0.004\n",
    "# Hstar = 0.1 # characteristic sediment thickness\n",
    "\n",
    "B = kxb * (x**Pxb) # valley width \n",
    "Q = (5./6.) * r * kxb * x**(6./5.) # total discharge"
   ]
  },
  {
   "cell_type": "code",
   "execution_count": 4,
   "id": "41542a42",
   "metadata": {},
   "outputs": [],
   "source": [
    "# now solve for predicted steady state slope\n",
    "slope_pred = ((U * B[1:] * x[1:] * (1 - phi))/(1 + (beta * x[1:])) * 1/(kqs*I*Q[1:]))**(6/7)\n",
    "slope_pred_exp = ((6./5.) * ((U * (1 - phi))/(beta * kqs * I * r * x[1:])) * (1 - np.exp(-beta * x[1:])))**(6./7.)\n",
    "\n",
    "# okay, now make a line using that constant slope\n",
    "y = -slope_pred * x[1:]"
   ]
  },
  {
   "cell_type": "code",
   "execution_count": 5,
   "id": "cad62e03",
   "metadata": {},
   "outputs": [
    {
     "data": {
      "text/plain": [
       "[<matplotlib.lines.Line2D at 0x7f911dd2c190>]"
      ]
     },
     "execution_count": 5,
     "metadata": {},
     "output_type": "execute_result"
    },
    {
     "data": {
      "image/png": "[encoded data removed]",
      "text/plain": [
       "<Figure size 432x288 with 1 Axes>"
      ]
     },
     "metadata": {
      "needs_background": "light"
     },
     "output_type": "display_data"
    }
   ],
   "source": [
    "plt.plot(x[1:], slope_pred)\n",
    "plt.plot(x[1:], slope_pred_exp)"
   ]
  },
  {
   "cell_type": "code",
   "execution_count": 6,
   "id": "91b6a7d9",
   "metadata": {},
   "outputs": [],
   "source": [
    "# great, the prediction looks good\n",
    "# concavity increases as beta increases\n",
    "# now to test the numerical solution"
   ]
  },
  {
   "cell_type": "code",
   "execution_count": 7,
   "id": "752c4b52",
   "metadata": {},
   "outputs": [
    {
     "data": {
      "text/plain": [
       "4000"
      ]
     },
     "execution_count": 7,
     "metadata": {},
     "output_type": "execute_result"
    }
   ],
   "source": [
    "x[4]"
   ]
  },
  {
   "cell_type": "code",
   "execution_count": 8,
   "id": "76111853",
   "metadata": {},
   "outputs": [],
   "source": [
    "def all_sed_attrition(dx, x, z, U, phi, kqs, I, r, kxb, Pxb, beta, B, Q, num_steps=7000000):\n",
    "    \n",
    "    # set timestep\n",
    "    dt = (0.5 * dx * dx / (kqs*Q[-1]))\n",
    "    \n",
    "    # create arrays\n",
    "    Qs = np.zeros(len(x))\n",
    "    E = np.zeros(len(x))\n",
    "    dzdt = np.zeros(len(x))\n",
    "    \n",
    "    # set boundary conditions\n",
    "    Qs[0] = 0\n",
    "    E[-1] = 0\n",
    "    dzdt[-1] = 0\n",
    "    \n",
    "    # track uplift\n",
    "    total_dzdt = 0\n",
    "    \n",
    "    for i in range(num_steps):\n",
    "        \n",
    "        # calculate slope\n",
    "        S = np.abs(np.diff(z)/dx)\n",
    "        \n",
    "        # calculate sediment transport\n",
    "        Qs[1:] = kqs * I * Q[1:] * S**(7./6.)\n",
    "        \n",
    "        # calculate erosion\n",
    "        E[:-1] = (1/((1-phi)*B[1:])) * (np.diff(Qs)/dx + (beta * Qs[1:]))\n",
    "        \n",
    "        # calculate change in elevation\n",
    "        dzdt[:-1] = U - E[:-1]\n",
    "        \n",
    "        # update profile\n",
    "        z[:] += dzdt * dt\n",
    "        \n",
    "        # track total change in elev so we can account for this when comparing to prediction\n",
    "        total_dzdt += dzdt * dt\n",
    "        \n",
    "    cum_time = num_steps * dt\n",
    "    print(cum_time)\n",
    "        \n",
    "    return (S, Qs, E, dzdt, z, dt, total_dzdt)"
   ]
  },
  {
   "cell_type": "code",
   "execution_count": 9,
   "id": "b75323d3",
   "metadata": {},
   "outputs": [
    {
     "name": "stdout",
     "output_type": "stream",
     "text": [
      "19500845.22586998\n"
     ]
    }
   ],
   "source": [
    "# now write a test\n",
    "test = [dx, x, z, U, phi, kqs, I, r, kxb, Pxb, beta, B, Q]\n",
    "\n",
    "# and run it\n",
    "slope, Qs, E, dzdt, model_z, dt, total_dzdt = all_sed_attrition(*test)"
   ]
  },
  {
   "cell_type": "code",
   "execution_count": 10,
   "id": "9a70a018",
   "metadata": {},
   "outputs": [
    {
     "data": {
      "text/plain": [
       "<matplotlib.legend.Legend at 0x7f911de42410>"
      ]
     },
     "execution_count": 10,
     "metadata": {},
     "output_type": "execute_result"
    },
    {
     "data": {
      "image/png": "[encoded data removed]",
      "text/plain": [
       "<Figure size 432x288 with 1 Axes>"
      ]
     },
     "metadata": {
      "needs_background": "light"
     },
     "output_type": "display_data"
    }
   ],
   "source": [
    "plt.plot(x[1:], slope, label = 'model')\n",
    "plt.plot(x[1:], slope_pred_exp, label = 'exponential slope prediction')\n",
    "# plt.plot(x[1:], slope_pred_fixed, label = 'fixed width prediction')\n",
    "plt.legend()"
   ]
  },
  {
   "cell_type": "code",
   "execution_count": 11,
   "id": "6a814855",
   "metadata": {},
   "outputs": [
    {
     "data": {
      "text/plain": [
       "array([1.e-04, 1.e-04, 1.e-04, 1.e-04, 0.e+00])"
      ]
     },
     "execution_count": 11,
     "metadata": {},
     "output_type": "execute_result"
    }
   ],
   "source": [
    "E"
   ]
  },
  {
   "cell_type": "code",
   "execution_count": 12,
   "id": "6ae89971",
   "metadata": {},
   "outputs": [],
   "source": [
    "predicted_topo = -(slope_pred_exp * x[1:])\n",
    "model_topo = - slope * x[1:]\n",
    "baselevel_diff = model_topo - predicted_topo"
   ]
  },
  {
   "cell_type": "code",
   "execution_count": 13,
   "id": "5701e2f7",
   "metadata": {},
   "outputs": [
    {
     "data": {
      "text/plain": [
       "[<matplotlib.lines.Line2D at 0x7f911e036090>]"
      ]
     },
     "execution_count": 13,
     "metadata": {},
     "output_type": "execute_result"
    },
    {
     "data": {
      "image/png": "[encoded data removed]",
      "text/plain": [
       "<Figure size 432x288 with 1 Axes>"
      ]
     },
     "metadata": {
      "needs_background": "light"
     },
     "output_type": "display_data"
    }
   ],
   "source": [
    "plt.plot(x[1:], predicted_topo + baselevel_diff)\n",
    "plt.plot(x[1:], model_topo)"
   ]
  },
  {
   "cell_type": "code",
   "execution_count": null,
   "id": "eaf449ff",
   "metadata": {},
   "outputs": [],
   "source": []
  },
  {
   "cell_type": "code",
   "execution_count": null,
   "id": "7bbee01c",
   "metadata": {},
   "outputs": [],
   "source": []
  },
  {
   "cell_type": "code",
   "execution_count": null,
   "id": "ae2d71c2",
   "metadata": {},
   "outputs": [],
   "source": []
  },
  {
   "cell_type": "code",
   "execution_count": 14,
   "id": "b0909feb",
   "metadata": {},
   "outputs": [],
   "source": [
    "# re-doing derivation below"
   ]
  },
  {
   "cell_type": "markdown",
   "id": "5b34f058",
   "metadata": {},
   "source": [
    "Start with conservation of mass of sediment in a landscape \"cell\":\n",
    "> $$\\frac{\\partial M}{\\partial t} = \\text{Mass in} - \\text{Mass out}$$\n",
    "\n",
    "We envision a world with unlimited sediment supply and attrition occurring on grains in transport. The cell has height $z$, total width $B$, and length $dx$. Contained within the cell is a of channel width $b$. The sediment has porosity $\\phi$ and density $\\rho$. The cell is experiencing uniform uplift $U$. Mass is added via sediment flux into the cell, as well as tectonic uplift into the cell. Mass is lost via sediment flux out of the cell, and grain attrition generating fines within the cell. Putting all these pieces together, we arrive at:\n",
    "> $$\\frac{\\partial z B (1 - \\phi) dx \\rho}{\\partial t} = U B dx \\rho + Q_s\\bigr\\rvert_{x} \\rho - Q_s\\bigr\\rvert_{x + \\Delta x} \\rho - \\frac{Q_s}{B} \\beta B dx \\rho $$\n",
    "\n",
    "We can remove the constants from the partial derivative and bring them to the RHS of the equation:\n",
    "> $$\\frac{\\partial z}{\\partial t} = \\frac{U B dx \\rho}{B (1 - \\phi) dx \\rho} + \\frac{Q_s\\bigr\\rvert_{x} \\rho}{B (1 - \\phi) dx \\rho} - \\frac{Q_s\\bigr\\rvert_{x + \\Delta x} \\rho}{B (1 - \\phi) dx \\rho} - \\frac{Q_s \\beta B dx \\rho}{B B (1 - \\phi) dx \\rho} $$\n",
    "\n",
    "Simplfy and pull out a common denominator:\n",
    "> $$\\frac{\\partial z}{\\partial t} = \\frac{1}{(1 - \\phi) B} \\left( U B + \\frac{Q_s\\bigr\\rvert_{x}}{dx} - \\frac{Q_s\\bigr\\rvert_{x + \\Delta x}}{dx} - Q_s \\beta \\right)$$\n",
    "\n",
    "Rewrite the sediment flux pieces as a derivative:\n",
    "> $$\\frac{\\partial z}{\\partial t} = - \\frac{1}{(1 - \\phi) B} \\left( \\frac{\\partial Q_s}{\\partial x} + Q_s \\beta - U B \\right)$$\n",
    "\n",
    "At steady state, change in sediment thickness is 0:\n",
    "> $$0 = - \\frac{1}{(1 - \\phi) B} \\left( \\frac{\\partial Q_s}{\\partial x} + Q_s \\beta - U B \\right)$$\n",
    "\n",
    "Go about solving for $S$ in terms of $x$. $S$ lives within $Q_s$, so first we need to isolate $Q_s$:\n",
    "> $$\\frac{\\partial Q_s}{\\partial x} = UB -  Q_s \\beta$$\n",
    "\n",
    "> $$d Q_s = UBdx -  Q_s \\beta dx$$\n",
    "\n",
    "> $$\\int_{0}^{Q_s} d Q_s = \\int_{0}^{x} UB dx - \\int_{0}^{x} Q_s \\beta dx$$"
   ]
  },
  {
   "cell_type": "code",
   "execution_count": null,
   "id": "2225cda3",
   "metadata": {},
   "outputs": [],
   "source": []
  }
 ],
 "metadata": {
  "kernelspec": {
   "display_name": "Python 3",
   "language": "python",
   "name": "python3"
  },
  "language_info": {
   "codemirror_mode": {
    "name": "ipython",
    "version": 3
   },
   "file_extension": ".py",
   "mimetype": "text/x-python",
   "name": "python",
   "nbconvert_exporter": "python",
   "pygments_lexer": "ipython3",
   "version": "3.7.6"
  }
 },
 "nbformat": 4,
 "nbformat_minor": 5
}
