{
 "cells": [
  {
   "cell_type": "code",
   "execution_count": 1,
   "id": "3a562f1f",
   "metadata": {},
   "outputs": [],
   "source": [
    "# here, we will \n",
    "# calculate predicted slopes for both of our sediment-saturated test cases\n",
    "# then we will run our model for each other these cases\n",
    "# using the slope outputs from our model runs, we will create lines using those slopes\n",
    "# finally, we will make a figure with two horizontal subplots \n",
    "# comparing the predicted and actual slopes for each of our test cases"
   ]
  },
  {
   "cell_type": "code",
   "execution_count": 2,
   "id": "c6d2fbcf",
   "metadata": {},
   "outputs": [],
   "source": [
    "# first import libraries\n",
    "import numpy as np\n",
    "import matplotlib.pyplot as plt"
   ]
  },
  {
   "cell_type": "code",
   "execution_count": 3,
   "id": "4a4666d5",
   "metadata": {},
   "outputs": [],
   "source": [
    "# set up arrays and parameters\n",
    "\n",
    "dx = 1000 # grid spacing\n",
    "x = np.arange(0, 10000, dx) # domain length\n",
    "x_node = x + dx/2\n",
    "\n",
    "U = 0.001 # uplift rate\n",
    "phi = 0.55 # sediment porosity\n",
    "kqs = 0.041 # sediment discharge coefficient\n",
    "I = 0.01 # intermittency factor\n",
    "r = 10. # runoff rate\n",
    "kxb = 25 # valley width coeffecient (a, above)\n",
    "Pxb = (1/5) # valley width exponent\n",
    "\n",
    "B = kxb * (x_node**Pxb) # valley width   ## TWEAKED\n",
    "Q = (r * kxb * x**(6/5))/(1 + Pxb) # discharge  ## WE TWEAKED THIS\n",
    "\n",
    "# for sc1 specifically\n",
    "z_sc1 = np.linspace(1, 0, len(x)) # starting elevation profile\n",
    "\n",
    "# for sc2 specifically\n",
    "z_sc2 = np.linspace(1, 0, len(x)) # starting elevation profile\n",
    "beta = 0.4 # abrasion factor"
   ]
  },
  {
   "cell_type": "markdown",
   "id": "a1fbc5ee",
   "metadata": {},
   "source": [
    "### Analytical Solution to Special Case 1: Unlimited sediment, no abrasion, dzdt = 0"
   ]
  },
  {
   "cell_type": "code",
   "execution_count": 4,
   "id": "60509722",
   "metadata": {},
   "outputs": [],
   "source": [
    "# now do predicted slope calculation and line\n",
    "\n",
    "slope_value_sc1 = ((U * (1-phi) / (kqs * I * r))**(6./7.))\n",
    "predicted_slope_sc1 = np.zeros(len(x))\n",
    "predicted_slope_sc1[:] = slope_value_sc1\n",
    "predicted_topo_sc1 = (-predicted_slope_sc1 * x)"
   ]
  },
  {
   "cell_type": "markdown",
   "id": "5b3dbb9e",
   "metadata": {},
   "source": [
    "### Analytical Solution to Special Case 2: Unlimited sediment with abrasion, dzdt = 0"
   ]
  },
  {
   "cell_type": "code",
   "execution_count": 5,
   "id": "33d34580",
   "metadata": {},
   "outputs": [],
   "source": [
    "# calc the slope with the analytical soln\n",
    "\n",
    "predicted_slope_sc2 = ((U * B[1:] * x[1:] * (1 - phi))/(1 + (beta * x[1:])) * 1/(kqs*I*Q[1:]))**(6/7)\n",
    "predicted_topo_sc2 = -(predicted_slope_sc2 * x[1:])"
   ]
  },
  {
   "cell_type": "markdown",
   "id": "01da565e",
   "metadata": {},
   "source": [
    "### Model Run for Special Case 1: Unlimited sediment, no abrasion, dzdt = 0"
   ]
  },
  {
   "cell_type": "code",
   "execution_count": 6,
   "id": "50549e70",
   "metadata": {},
   "outputs": [],
   "source": [
    "# now create a function for the case SC1 where dzdt=0\n",
    "\n",
    "def sc1(dx, x, z, U, phi, kqs, I, r, kxb, Pxb, B, Q, num_steps=5000000):\n",
    "    \n",
    "    # set timestep\n",
    "    dt = (0.5 * dx * dx / (kqs*Q[-1]))\n",
    "    \n",
    "    # create arrays\n",
    "    Qs = np.zeros(len(x))\n",
    "    E = np.zeros(len(x))\n",
    "    dzdt = np.zeros(len(x))\n",
    "    \n",
    "    # set boundary conditions\n",
    "    Qs[0] = 0\n",
    "    dzdt[-1] = 0 # dzdt at outlet = 0 for case where dzdt = 0\n",
    "    \n",
    "    for i in range(num_steps):\n",
    "        \n",
    "        # calculate slope\n",
    "        S = np.abs(np.diff(z)/dx)\n",
    "        \n",
    "        # calculate sediment transport\n",
    "        ##Qs[1:] = kqs * I * Q[1:] * S**(7./6.)\n",
    "        Qs[1:] = kqs * I * Q[1:] * S**(7./6.)\n",
    "        \n",
    "        # erosion\n",
    "        # \"old\" indexing from [:-1]\n",
    "        E[:-1] = (1/((1-phi)*B[:-1])) * ((np.diff(Qs)/dx))\n",
    "        \n",
    "        # calculate rate of elevation change\n",
    "        # \"old\" indexing of E from [:-1]\n",
    "        dzdt[:-1] = U - E[:-1]\n",
    "        \n",
    "        # update profile\n",
    "        z += dzdt * dt\n",
    "        \n",
    "    cum_time = num_steps * dt\n",
    "    # print(cum_time)\n",
    "        \n",
    "    return (S, Qs, E, dzdt, z, dt)"
   ]
  },
  {
   "cell_type": "code",
   "execution_count": 7,
   "id": "1d6e16e2",
   "metadata": {},
   "outputs": [],
   "source": [
    "# now write a test\n",
    "sc1_test = [dx, x, z_sc1, U, phi, kqs, I, r, kxb, Pxb, B, Q]\n",
    "\n",
    "# and run it\n",
    "S_sc1, Qs_sc1, E_sc1, dzdt_sc1, model_z_sc1, dt_sc1 = sc1(*sc1_test)"
   ]
  },
  {
   "cell_type": "code",
   "execution_count": 8,
   "id": "1bff4b49",
   "metadata": {},
   "outputs": [
    {
     "data": {
      "text/plain": [
       "array([0.00099672, 0.00099726, 0.00099774, 0.00099818, 0.00099857,\n",
       "       0.00099892, 0.00099924, 0.00099952, 0.00099978, 0.        ])"
      ]
     },
     "execution_count": 8,
     "metadata": {},
     "output_type": "execute_result"
    }
   ],
   "source": [
    "# check to make sure we're at steady state\n",
    "E_sc1"
   ]
  },
  {
   "cell_type": "code",
   "execution_count": 10,
   "id": "4bf41b2e",
   "metadata": {},
   "outputs": [],
   "source": [
    "# close enough\n",
    "# now make a line with the same slopes as those output from the model\n",
    "model_topo_sc1 = (-S_sc1 * x[1:])"
   ]
  },
  {
   "cell_type": "markdown",
   "id": "df5a2b88",
   "metadata": {},
   "source": [
    "### Model Run for Special Case 2: Unlimited sediment, with abrasion, dzdt = 0"
   ]
  },
  {
   "cell_type": "code",
   "execution_count": 11,
   "id": "613faeac",
   "metadata": {},
   "outputs": [],
   "source": [
    "# define a fxn for sc2, dzdt = 0\n",
    "\n",
    "def sc2(dx, x, z, U, phi, kqs, I, r, kxb, Pxb, beta, B, Q, num_steps=30000):\n",
    "    \n",
    "    # set timestep\n",
    "    dt = (0.5 * dx * dx / (kqs*Q[-1]))\n",
    "    \n",
    "    # create arrays\n",
    "    Qs = np.zeros(len(x))\n",
    "    E = np.zeros(len(x))\n",
    "    dzdt = np.zeros(len(x))\n",
    "    \n",
    "    # set boundary conditions\n",
    "    Qs[0] = 0\n",
    "    #E[-1] = 0\n",
    "    dzdt[-1] = 0\n",
    "\n",
    "    for i in range(num_steps):\n",
    "    \n",
    "        # calculate slope\n",
    "        S = np.abs(np.diff(z)/dx)\n",
    "    \n",
    "        # calculate sediment transport\n",
    "        ##Qs[1:] = kqs * I * Q[1:] * S**(7./6.)\n",
    "        Qs[1:] = kqs * I * Q[1:] * S**(7./6.)\n",
    "    \n",
    "        # erosion\n",
    "        # \"old\" indexing from [:-1]\n",
    "        E[:-1] = (1/((1-phi)*B[:-1])) * ((np.diff(Qs)/dx) + (beta * Qs[1:]))\n",
    "    \n",
    "        # calculate rate of elevation change\n",
    "        # \"old\" indexing of E from [:-1]\n",
    "        dzdt[:-1] = U - E[:-1]\n",
    "    \n",
    "        # update profile\n",
    "        z += dzdt * dt\n",
    "    \n",
    "    return (S, Qs, E, dzdt, z, dt)"
   ]
  },
  {
   "cell_type": "code",
   "execution_count": 12,
   "id": "b4bb28cf",
   "metadata": {},
   "outputs": [],
   "source": [
    "# and design a test\n",
    "\n",
    "sc2_test = [dx, x, z_sc2, U, phi, kqs, I, r, kxb, Pxb, beta, B, Q]\n",
    "\n",
    "# and run it\n",
    "S_sc2, Qs_sc2, E_sc2, dzdt_sc2, model_z_sc2, dt_sc2 = sc2(*sc2_test)"
   ]
  },
  {
   "cell_type": "code",
   "execution_count": 13,
   "id": "347131c3",
   "metadata": {},
   "outputs": [
    {
     "data": {
      "text/plain": [
       "array([0.001, 0.001, 0.001, 0.001, 0.001, 0.001, 0.001, 0.001, 0.001,\n",
       "       0.   ])"
      ]
     },
     "execution_count": 13,
     "metadata": {},
     "output_type": "execute_result"
    }
   ],
   "source": [
    "# check to make sure we're at steady state\n",
    "E_sc2"
   ]
  },
  {
   "cell_type": "code",
   "execution_count": 14,
   "id": "84259ec9",
   "metadata": {},
   "outputs": [],
   "source": [
    "# now make a line with the same slopes as those output from the model\n",
    "model_topo_sc2 = -(S_sc2 * x[1:])"
   ]
  },
  {
   "cell_type": "code",
   "execution_count": 28,
   "id": "28652315",
   "metadata": {},
   "outputs": [
    {
     "data": {
      "text/plain": [
       "Text(0.5, 1.0, 'Topography for Case 2: Unlimited sediment, no attrition')"
      ]
     },
     "execution_count": 28,
     "metadata": {},
     "output_type": "execute_result"
    },
    {
     "data": {
      "image/png": "[encoded data removed]",
      "text/plain": [
       "<Figure size 1080x576 with 4 Axes>"
      ]
     },
     "metadata": {
      "needs_background": "light"
     },
     "output_type": "display_data"
    }
   ],
   "source": [
    "# now plot slopes and elevations\n",
    "fig, axs = plt.subplots(2, 2, figsize = (15, 8))\n",
    "fig.suptitle('Analytical and Numerical Solutions to Simplified Test Cases')\n",
    "plt.subplots_adjust(left=0.1,\n",
    "                    bottom=0.1, \n",
    "                    right=0.9, \n",
    "                    top=0.85, \n",
    "                    wspace=0.2, \n",
    "                    hspace=0.5)\n",
    "\n",
    "axs[0,0].plot(x[1:], S_sc1, label = 'model output')\n",
    "axs[0,0].plot(x, predicted_slope_sc1, label = 'prediction')\n",
    "axs[0,0].set_title('Slopes for Case 1: Unlimited sediment, no attrition')\n",
    "axs[0,0].legend()\n",
    "\n",
    "axs[1,0].plot(x[1:], S_sc2)\n",
    "axs[1,0].plot(x[1:], predicted_slope_sc2)\n",
    "axs[1,0].set_title('Slopes for Case 2: Unlimited sediment, with attrition')\n",
    "\n",
    "axs[0,1].plot(x, model_z_sc1)\n",
    "axs[0,1].plot(x, predicted_topo_sc1)\n",
    "axs[0,1].set_title('Topography for Case 1: Unlimited sediment, no attrition')\n",
    "\n",
    "axs[1,1].plot(x[1:], model_z_sc2[1:])\n",
    "axs[1,1].plot(x[1:], predicted_topo_sc2)\n",
    "axs[1,1].set_title('Topography for Case 2: Unlimited sediment, no attrition')"
   ]
  },
  {
   "cell_type": "code",
   "execution_count": 29,
   "id": "bcd80bca",
   "metadata": {},
   "outputs": [
    {
     "data": {
      "text/plain": [
       "array([-1.90096267e-04, -4.93824781e-05, -2.30198333e-05, -1.34456678e-05,\n",
       "       -8.86997550e-06, -6.31684041e-06, -4.74182360e-06, -3.69912942e-06,\n",
       "       -2.97167276e-06])"
      ]
     },
     "execution_count": 29,
     "metadata": {},
     "output_type": "execute_result"
    }
   ],
   "source": [
    "S_sc2 - predicted_slope_sc2"
   ]
  },
  {
   "cell_type": "code",
   "execution_count": 30,
   "id": "43b96350",
   "metadata": {},
   "outputs": [],
   "source": [
    "# now test the shape of a prediction for a new special case: with plucking, but without abrasion\n",
    "\n",
    "r = 10\n",
    "a = 25\n",
    "u = 0.001\n",
    "k = 0.00001\n",
    "kqs = 0.041\n",
    "i = 0.01\n",
    "s0 = 0.15\n",
    "\n",
    "slope_test = (6/ (5 * r * a * k * x[1:]**(1./5.))) * ((u / (kqs * i * s0)) + (u / x[1:]))"
   ]
  },
  {
   "cell_type": "code",
   "execution_count": 31,
   "id": "44496a31",
   "metadata": {},
   "outputs": [
    {
     "data": {
      "text/plain": [
       "array([1960.4968476 , 1706.71158254, 1573.77223675, 1485.77870672,\n",
       "       1420.92817594, 1370.04829316, 1328.45398959, 1293.44548012,\n",
       "       1263.33236591])"
      ]
     },
     "execution_count": 31,
     "metadata": {},
     "output_type": "execute_result"
    }
   ],
   "source": [
    "slope_test"
   ]
  },
  {
   "cell_type": "code",
   "execution_count": 32,
   "id": "dc8b77f3",
   "metadata": {},
   "outputs": [
    {
     "data": {
      "text/plain": [
       "[<matplotlib.lines.Line2D at 0x7fb5c5e6d390>]"
      ]
     },
     "execution_count": 32,
     "metadata": {},
     "output_type": "execute_result"
    },
    {
     "data": {
      "image/png": "[encoded data removed]",
      "text/plain": [
       "<Figure size 432x288 with 1 Axes>"
      ]
     },
     "metadata": {
      "needs_background": "light"
     },
     "output_type": "display_data"
    }
   ],
   "source": [
    "plt.plot(x[1:], slope_test)"
   ]
  },
  {
   "cell_type": "code",
   "execution_count": null,
   "id": "5b1647ab",
   "metadata": {},
   "outputs": [],
   "source": []
  }
 ],
 "metadata": {
  "kernelspec": {
   "display_name": "Python 3",
   "language": "python",
   "name": "python3"
  },
  "language_info": {
   "codemirror_mode": {
    "name": "ipython",
    "version": 3
   },
   "file_extension": ".py",
   "mimetype": "text/x-python",
   "name": "python",
   "nbconvert_exporter": "python",
   "pygments_lexer": "ipython3",
   "version": "3.7.6"
  }
 },
 "nbformat": 4,
 "nbformat_minor": 5
}
