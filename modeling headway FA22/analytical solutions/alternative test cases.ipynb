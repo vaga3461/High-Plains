{
 "cells": [
  {
   "cell_type": "code",
   "execution_count": 1,
   "id": "10282665",
   "metadata": {},
   "outputs": [],
   "source": [
    "# the purpose of this notebook is to work through the math on analytical solutions to \"special cases\""
   ]
  },
  {
   "cell_type": "markdown",
   "id": "7c3a6b27",
   "metadata": {},
   "source": [
    "##### What \"special cases\" do we want to consider?\n",
    "\n",
    "1. A case with no abrasion. \n",
    "- This means no abrasive wear on the bed, AND no downstream fining\n",
    "- $\\beta = 0$\n",
    "\n",
    "2. ?? TBD"
   ]
  },
  {
   "cell_type": "markdown",
   "id": "af15fbaf",
   "metadata": {},
   "source": [
    "##### No abrasion\n",
    "\n",
    "Start by writing bedrock elevation in terms of uplift and plucking rate:\n",
    "\n",
    "$$\\frac{\\partial\\eta_b}{\\partial t} = U - \\frac{KQ^{1/2}Se^{-H/H^*}}{B}$$\n",
    "\n",
    "Rearrange assuming steady state condition:\n",
    "\n",
    "$$U = \\frac{KQ^{1/2}Se^{-H/H^*}}{B}$$\n",
    "\n",
    "Rearrange to isolate $-H/H^*$:\n",
    "\n",
    "$$-\\frac{H}{H^*} = \\ln{\\frac{UB}{KQ^{1/2}S}}$$\n",
    "\n",
    "Recalling that $e^{\\ln{x}} = x$, we can sub in ${\\frac{UB}{KQ^{1/2}S}}$ everywhere we see $-\\frac{H}{H^*}$. We'll make this substitution in our equation for sediment thickness, which is:\n",
    "\n",
    "$$\\frac{\\partial H}{\\partial t} = -\\frac{1}{(1 - \\phi)B} \\left( \\frac{\\partial Q_s}{\\partial x} - \\frac{KQ^{1/2}Se^{-H/H^*}}{B} \\right)$$\n",
    "\n",
    "Making this substitution gives us:\n",
    "\n",
    "$$\\frac{\\partial H}{\\partial t} = -\\frac{1}{(1 - \\phi)B} \\left( \\frac{\\partial Q_s}{\\partial x} - \\frac{KQ^{1/2}SUB}{BKQ^{1/2}S} \\right)$$\n",
    "\n",
    "Which resolves to:\n",
    "\n",
    "$$\\frac{\\partial H}{\\partial t} = -\\frac{1}{(1 - \\phi)B} \\left( \\frac{\\partial Q_s}{\\partial x} - U \\right)$$\n",
    "\n",
    "This makes sense; the second term in the parentheses just represented plucking, which at steady state is equal to uplift rate.\n",
    "\n",
    "Assuming $\\frac{\\partial H}{\\partial t} = 0$, we can rearrange:\n",
    "\n",
    "$$\\frac{U}{(1 - \\phi)B} = \\frac{1}{(1 - \\phi)B} \\frac{\\partial Q_s}{\\partial x}$$\n",
    "\n",
    "And simplify:\n",
    "\n",
    "$$U = \\frac{\\partial Q_s}{\\partial x}$$\n",
    "\n",
    "Now the big substitution: $Q_s = k_{Qs}IQS^{7/6}(1 - e^{-H/H^*})$. Plug this into the above equation, distributing the multiplication and splitting up into two partial derivatives (I think this is right?):\n",
    "\n",
    "$$U = \\frac{\\partial k_{Qs}IQS^{7/6}}{\\partial x} - \\frac{\\partial k_{Qs}IQS^{7/6}e^{-H/H^*}}{\\partial x}$$\n",
    "\n",
    "And make our substitution for $-H/H^*$:\n",
    "\n",
    "$$U = \\frac{\\partial k_{Qs}IQS^{7/6}}{\\partial x} - \\frac{\\partial k_{Qs}IQS^{7/6}UB}{\\partial x KQ^{1/2}S}$$\n",
    "\n",
    "Simplify as much as possible:\n",
    "\n",
    "$$U = k_{Qs}I \\left( \\frac{\\partial QS^{7/6}}{\\partial x} - \\frac{UB}{K} \\frac{\\partial{Q^{1/2}S^{1/6}}}{\\partial x} \\right)$$\n",
    "\n",
    "$\\color{red}{STOP!}$ Does this seem like the right track?\n",
    "\n",
    "<b>side note:</b> $q_L$, the lateral sediment flux, doesn't appear to contribute to the sediment layer. This is because:\n",
    "\n",
    "$$q_L = \\left( \\frac{\\text{bedrock erosion} \\times \\text{fraction of coarse sediment from hillslopes}} {\\beta} \\right) * \\left( 1 - e^{-\\frac{x \\beta}{3}} \\right)$$\n",
    "\n",
    "If $\\beta = 0$, then the second parenthetical term becomes $1 - 1$, and thus $q_L = 0$. But this doesn't seem right... should still have some flux from tributaries. Should actuall have even more sed input from tribs, if we imagine no grain attrtion occurs! So this is an issue."
   ]
  },
  {
   "cell_type": "code",
   "execution_count": null,
   "id": "248d5c96",
   "metadata": {},
   "outputs": [],
   "source": []
  }
 ],
 "metadata": {
  "kernelspec": {
   "display_name": "Python 3",
   "language": "python",
   "name": "python3"
  },
  "language_info": {
   "codemirror_mode": {
    "name": "ipython",
    "version": 3
   },
   "file_extension": ".py",
   "mimetype": "text/x-python",
   "name": "python",
   "nbconvert_exporter": "python",
   "pygments_lexer": "ipython3",
   "version": "3.7.6"
  }
 },
 "nbformat": 4,
 "nbformat_minor": 5
}
