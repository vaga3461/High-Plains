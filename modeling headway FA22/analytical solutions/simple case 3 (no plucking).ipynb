{
 "cells": [
  {
   "cell_type": "code",
   "execution_count": 1,
   "id": "d48d12f7",
   "metadata": {},
   "outputs": [],
   "source": [
    "# the purpose of this notebook is to test an analytical solution for my model\n",
    "# for the special case where bedrock erosion occurs only via abrasion, no plucking\n",
    "# this means new coarse sediment cannot be generated in the model"
   ]
  },
  {
   "cell_type": "markdown",
   "id": "7d1e3b68",
   "metadata": {},
   "source": [
    "$$\\frac{\\partial \\eta}{\\partial t} = \\frac{\\partial \\eta_b}{\\partial t} + \\frac{\\partial H}{\\partial t}$$\n",
    "\n",
    "> Total elevation change is equal to the change in bedrock elevation plus the change in sediment thickness.\n",
    "\n",
    "$$\\frac{\\partial \\eta_b}{\\partial t} = U - E$$\n",
    "\n",
    "$$\\frac{\\partial \\eta_b}{\\partial t} = U - Q_s\\beta\\alpha$$\n",
    "\n",
    "$$\\alpha = e^{-H/H^*}$$\n",
    "\n",
    "> Bedrock elevation change is equal to uplift minus erosion due to abrasion over the exposed bed.\n",
    "\n",
    "$$\\frac{\\partial H}{\\partial t} = -\\frac{1}{(1 - \\phi)B} \\left(\\frac{\\partial Q_s}{\\partial x} + Q_s\\beta - q_L \\right)$$\n",
    "\n",
    "$$q_L = \\frac{E \\gamma}{\\beta} \\left(1 - e^{-\\beta x / 3}\\right)$$\n",
    "\n",
    "> Change in sediment thickness comes from sediment flux divergence, grain attrition, and lateral inputs. In the full version of the equation, there would be an additional term inside the parantheses representing additions to alluvial thickness via plucked material; this term is omitted here because plucking does not occur (therefore all sediment generated via bedrock erosion is fines).\n",
    "\n",
    "$$U=E$$\n",
    "\n",
    "$$\\frac{\\partial H}{\\partial t} = 0$$\n",
    "\n",
    "> At steady state, uplift equals erosion and sediment thickness is constant.\n",
    "\n",
    "$$U = Q_s\\beta\\alpha$$\n",
    "\n",
    "$$\\alpha = \\frac{U}{Q_s\\beta}$$\n",
    "\n",
    "$$e^{-H/H^*} = \\frac{U}{Q_s\\beta}$$\n",
    "\n",
    "$$-\\frac{H}{H^*} = \\ln{\\left(\\frac{U}{Q_s\\beta}\\right)}$$\n",
    "\n",
    "> We can make some substitutions...\n",
    "\n",
    "$$E = Q_s \\beta e^{\\ln{\\frac{U}{Q_s \\beta}}}$$\n",
    "\n",
    "$$E = \\frac{Q_s \\beta U}{Q_s \\beta}$$\n",
    "\n",
    "$$E = U$$\n",
    "\n",
    "> This makes sense and is what we would expect; at steady state, erosion is just equal to uplift. This means we can simplify $q_L$ as follows:\n",
    "\n",
    "$$q_L = \\frac{U \\gamma}{\\beta} \\left(1 - e^{-\\beta x / 3}\\right)$$\n",
    "\n",
    "> We can now put these pieces together in our equation for the sediment layer at steady state, with the goal of solving for $S$.\n",
    "\n",
    "$$0 = -\\frac{1}{(1 - \\phi)B} \\left(\\frac{\\partial Q_s}{\\partial x} + Q_s\\beta - \\frac{U \\gamma}{\\beta} \\left(1 - e^{-\\beta x / 3}\\right) \\right)$$\n",
    "\n",
    "$$0 = \\left(\\frac{\\partial Q_s}{\\partial x} + Q_s\\beta - \\frac{U \\gamma}{\\beta} \\left(1 - e^{-\\beta x / 3}\\right) \\right)$$\n",
    "\n",
    "$$\\frac{\\partial Q_s}{\\partial x} = \\frac{U \\gamma}{\\beta} \\left(1 - e^{-\\beta x / 3}\\right) - Q_s\\beta$$\n",
    "\n",
    "$$Q_s = \\frac{U \\gamma x}{\\beta} \\left(1 - e^{-\\beta x / 3}\\right) - Q_s \\beta x$$\n",
    "\n",
    "$$Q_s + Q_s \\beta x = \\frac{U \\gamma x}{\\beta} \\left(1 - e^{-\\beta x / 3}\\right)$$\n",
    "\n",
    "$$Q_s ( 1 + \\beta x) = \\frac{U \\gamma x}{\\beta} \\left(1 - e^{-\\beta x / 3}\\right)$$\n",
    "\n",
    "$$Q_s = \\frac{U \\gamma x \\left(1 - e^{-\\beta x / 3}\\right)}{\\beta ( 1 + \\beta x)}$$\n",
    "\n",
    "> Almost there! Now we just need to make the following substitution for $Q_s$:\n",
    "\n",
    "$$Q_s = k_{Qs}IQS^{7/6}$$\n",
    "\n",
    "$$k_{Qs}IQS^{7/6} = \\frac{U \\gamma x \\left(1 - e^{-\\beta x / 3}\\right)}{\\beta ( 1 + \\beta x)}$$\n",
    "\n",
    "$$S^{7/6} = \\frac{U \\gamma x \\left(1 - e^{-\\beta x / 3}\\right)}{\\beta ( 1 + \\beta x) k_{Qs}IQ}$$\n",
    "\n",
    "$$S = \\left(\\frac{U \\gamma x \\left(1 - e^{-\\beta x / 3}\\right)}{\\beta ( 1 + \\beta x) k_{Qs}IQ}\\right)^{6/7}$$\n",
    "\n",
    "> This could be simplified and written a bit more neatly, but this is good enough for testing - see below!"
   ]
  },
  {
   "cell_type": "code",
   "execution_count": 2,
   "id": "be2935b7",
   "metadata": {},
   "outputs": [],
   "source": [
    "# start by importing libraries\n",
    "import numpy as np\n",
    "import matplotlib.pyplot as plt"
   ]
  },
  {
   "cell_type": "code",
   "execution_count": 3,
   "id": "b0238880",
   "metadata": {},
   "outputs": [],
   "source": [
    "# # now set up arrays and parameters\n",
    "# dx = 1 # grid spacing\n",
    "# x = np.arange(0, 10, dx) # domain length\n",
    "\n",
    "# # H = 100 + np.zeros(len(x)) # sediment thickness\n",
    "# # z = np.linspace(1, 0.1, len(x)) # + H # need to start with slight bedrock slope\n",
    "# z = np.zeros(len(x))\n",
    "\n",
    "# U = 0.0005 # uplift rate\n",
    "# phi = 0.55 # sediment porosity\n",
    "# kqs = 0.041 # sediment discharge coefficient\n",
    "# I = 0.01 # intermittency factor\n",
    "# r = 10. # runoff rate\n",
    "# kxb = 25 # valley width coeffecient\n",
    "# Pxb = 1/5 # valley width exponent\n",
    "# beta = 0.4\n",
    "# # Hstar = 0.1 # characteristic sediment thickness\n",
    "# gamma = 0.5\n",
    "\n",
    "# B = kxb * (x**Pxb) # valley width \n",
    "# Q = B * r * x # total discharge"
   ]
  },
  {
   "cell_type": "code",
   "execution_count": 4,
   "id": "3a6b6157",
   "metadata": {},
   "outputs": [],
   "source": [
    "# define parameters\n",
    "\n",
    "dx = 1000 # grid spacing\n",
    "x = np.arange(0, 10000, dx) # domain length\n",
    "r = 10. # runoff rate\n",
    "kh = 1/3 # hack coefficient\n",
    "h = 2 # hack exponent\n",
    "Hstar = 0.5 # characteristic sediment thickness\n",
    "# beta = np.zeros(len(x))\n",
    "# beta[:3] = 0.0004\n",
    "# beta[3:] = 0.004\n",
    "beta = 0.004 # abrasion coefficient\n",
    "# psi = 0.00004 # attrition factor\n",
    "# K = np.zeros(len(x))\n",
    "# K[:3] = 0.000001\n",
    "# K[3:] = 0.00001\n",
    "# K = 0.0001 # rock erodibility\n",
    "gamma = 0.5 # fraction of coarse sediment from hillslope erosion\n",
    "kxb = 25 # valley width coefficient\n",
    "Pxb = 1/5 # valley width exponent\n",
    "kb = 8.3e-8 # channel width coefficient\n",
    "phi = 0.55 # sediment porosity\n",
    "D = 0.05 # grain size\n",
    "U = 0.0005"
   ]
  },
  {
   "cell_type": "code",
   "execution_count": 5,
   "id": "a17eeaf0",
   "metadata": {},
   "outputs": [],
   "source": [
    "# set up arrays\n",
    "\n",
    "H = Hstar + np.zeros(len(x)) # sediment thickness\n",
    "etab = np.zeros(len(x)) # bedrock elevation array\n",
    "etab[:] = np.linspace(1, 0.1, len(x)) # need to start with slight bedrock slope\n",
    "eta = etab + H # total topographic elevation"
   ]
  },
  {
   "cell_type": "code",
   "execution_count": 6,
   "id": "74c36843",
   "metadata": {},
   "outputs": [],
   "source": [
    "# calculate constant, derivative values\n",
    "\n",
    "B = kxb * (x**Pxb) # valley width\n",
    "# Q = r * kh * (x**h) # total discharge\n",
    "Q = r * B * x\n",
    "\n",
    "# define more constants\n",
    "kqs = 0.041 # sediment discharge coefficient\n",
    "I = 0.01 # intermittency factor"
   ]
  },
  {
   "cell_type": "code",
   "execution_count": 7,
   "id": "6067fb9a",
   "metadata": {},
   "outputs": [
    {
     "name": "stderr",
     "output_type": "stream",
     "text": [
      "/Users/vanessa/anaconda3/lib/python3.7/site-packages/ipykernel_launcher.py:4: RuntimeWarning: invalid value encountered in true_divide\n",
      "  after removing the cwd from sys.path.\n"
     ]
    }
   ],
   "source": [
    "numerator = (U*gamma*x)*(1 - np.exp(-(beta * x)/3))\n",
    "denominator = beta*(1 + (beta*x))*(kqs*I*Q)\n",
    "\n",
    "slope_pred = (numerator/denominator)**(6./7.)"
   ]
  },
  {
   "cell_type": "code",
   "execution_count": 20,
   "id": "19f3dacf",
   "metadata": {},
   "outputs": [
    {
     "data": {
      "text/plain": [
       "[<matplotlib.lines.Line2D at 0x7fdb3c92cc50>]"
      ]
     },
     "execution_count": 20,
     "metadata": {},
     "output_type": "execute_result"
    },
    {
     "data": {
      "image/png": "[encoded data removed]",
      "text/plain": [
       "<Figure size 432x288 with 1 Axes>"
      ]
     },
     "metadata": {
      "needs_background": "light"
     },
     "output_type": "display_data"
    }
   ],
   "source": [
    "plt.plot(x, slope_pred)"
   ]
  },
  {
   "cell_type": "code",
   "execution_count": 21,
   "id": "28393ae9",
   "metadata": {},
   "outputs": [],
   "source": [
    "# okay, now make a line using that constant slope\n",
    "y = -slope_pred * x"
   ]
  },
  {
   "cell_type": "code",
   "execution_count": 22,
   "id": "cb4d1d88",
   "metadata": {},
   "outputs": [
    {
     "data": {
      "text/plain": [
       "[<matplotlib.lines.Line2D at 0x7fdb3c9b6e90>]"
      ]
     },
     "execution_count": 22,
     "metadata": {},
     "output_type": "execute_result"
    },
    {
     "data": {
      "image/png": "[encoded data removed]",
      "text/plain": [
       "<Figure size 432x288 with 1 Axes>"
      ]
     },
     "metadata": {
      "needs_background": "light"
     },
     "output_type": "display_data"
    }
   ],
   "source": [
    "plt.plot(x, y)"
   ]
  },
  {
   "cell_type": "code",
   "execution_count": 23,
   "id": "8cfdceec",
   "metadata": {},
   "outputs": [],
   "source": [
    "def no_plucking(x,\n",
    "          dx,\n",
    "          Hstar,\n",
    "          H,\n",
    "          etab,\n",
    "          eta,\n",
    "          beta,\n",
    "          gamma,\n",
    "          kxb,\n",
    "          Pxb,\n",
    "          kb,\n",
    "          phi,\n",
    "          D,\n",
    "          U,\n",
    "          Q,\n",
    "          B,\n",
    "          num_steps = 7000000):\n",
    "    \n",
    "    # define more constants\n",
    "    kqs = 0.041 # sediment discharge coefficient\n",
    "    I = 0.01 # intermittency factor\n",
    "    \n",
    "    # calculate timestep\n",
    "    dt_global = (0.2 * dx * dx / (kqs*Q[-1]))\n",
    "    run_duration = dt_global * num_steps  # <== here's how long we want to run\n",
    "    cum_time = 0.0  # <== keep track of elapsed time\n",
    "    \n",
    "    # define arrays\n",
    "    b = np.zeros(len(x)) # channel width\n",
    "    Eb_a = np.zeros(len(x)) # abrasion rate\n",
    "    Eb = np.zeros(len(x)) # bedrock erosion rate\n",
    "    Eh = np.zeros(len(x)) # sedimentation rate\n",
    "    E = np.zeros(len(x)) # total erosion rate\n",
    "    q = np.zeros(len(x)) # unit discharge\n",
    "    Qs = np.zeros(len(x)) # total sediment transport\n",
    "    qs = np.zeros(len(x)) # unit sediment transport\n",
    "    ql = np.zeros(len(x)) # lateral sediment supply\n",
    "    \n",
    "    # set boundary conditions\n",
    "    b[0] = 0\n",
    "    H[-1] = 0\n",
    "    E[-1] = U\n",
    "    q[0] = 0\n",
    "    Qs[0] = 0\n",
    "    qs[0] = 0\n",
    "    ql[0] = 0\n",
    "    \n",
    "    while cum_time < run_duration:  # <== use a while loop because dt varies by iteration\n",
    "        \n",
    "        # first calculate rates\n",
    "            \n",
    "        # calculate slope\n",
    "        S = np.abs(np.diff(eta)/dx)\n",
    "        \n",
    "        # calculate channel width (L)\n",
    "        b = (kb * Q[1:] * (S ** (7 / 6))) / (D**(3/2))\n",
    "        \n",
    "        # calculate unit discharge (L^2/T)\n",
    "        q[1:] = Q[1:]/b\n",
    "        \n",
    "        # calculate bed exposure\n",
    "        alpha = np.exp(-H/Hstar)\n",
    "        \n",
    "        # calculate sediment transport (L^3/T and L^2/T)\n",
    "        # Qs[1:] = c * I * Q[1:] * S**(7/6) * (1 - alpha[:-1])\n",
    "        Qs[1:] = kqs * I * Q[1:] * np.sign(S) * (np.abs(S)) ** (7/6) * (1-alpha[:-1])\n",
    "        qs[1:] = Qs[1:]/b\n",
    "        \n",
    "        # calculate individual erosion mechanism rates (L^2/T)\n",
    "        Eb_a[:-1] = beta * Qs[1:] * alpha[:-1]\n",
    "        \n",
    "        # calculate total bedrock erosion rate (L/T)\n",
    "        # Eb[:-1] = Eb_p[:-1] + Eb_a[:-1]\n",
    "        Eb[:-1] = Eb_a[:-1] / B[1:]\n",
    "        \n",
    "        # calculate attrition rate (L^2/T)\n",
    "        atr = beta * Qs\n",
    "        \n",
    "        # calculate lateral sediment inputs (L^2/T)\n",
    "        ql = ((Eb * gamma) / beta) * (1 - np.exp(-beta * (x/3)))\n",
    "        \n",
    "        # calculate sedimentation rate (L/T)\n",
    "        Eh[:-1] = - (1/ ((1 - phi) * B[1:])) * ((np.diff(Qs)/dx) + atr[1:] - ql[:-1])\n",
    "        #Eh[1:] = - (1/ (1 - phi) * B[1:]) * ((np.diff(Qs)/dx) + atr[1:] - Eb_p[:-1] - ql[:-1])\n",
    "        \n",
    "        # calculate total erosion rate (L/T)\n",
    "        E[:-1] = Eb[:-1] + Eh[:-1]\n",
    "        \n",
    "        \n",
    "        \n",
    "        # Calculate maximum allowable time-step size\n",
    "        \n",
    "        #  set adaptive timestep\n",
    "        #  first check time to flat surface\n",
    "        elev_diff = np.diff(eta)/dx\n",
    "        ero_diff = np.diff(E)/dx\n",
    "        #valid_places = np.where(ero_diff < 0)\n",
    "        valid_places = np.where(ero_diff < 0)[0]  # <== we just want the array, not the full tuple from where()\n",
    "        if len(valid_places) > 0:  # <== in case there ARE no locations...\n",
    "            times_to_flat = np.abs(elev_diff[valid_places]/ero_diff[valid_places])\n",
    "        else:\n",
    "            times_to_flat = np.array([dt_global])  # <== ...we just revert to the global dt\n",
    "        min_time_to_flat = np.amin(times_to_flat)\n",
    "\n",
    "        #  then check time to deplete all sediment\n",
    "        #sed_depletion_locations = np.where(sedimentation_rate < 0)\n",
    "        sed_depletion_locations = np.where(Eh < 0)[0]  # <== we just want the array, not the full tuple from where()\n",
    "        if len(sed_depletion_locations) > 0:  # <== in case there ARE no locations...\n",
    "            times_to_no_sed = np.abs(H[sed_depletion_locations]/Eh[sed_depletion_locations])\n",
    "        else:\n",
    "            times_to_no_sed = np.array([dt_global])  # <== ...we just revert to the global dt\n",
    "        min_time_to_no_sed = np.amin(times_to_no_sed)\n",
    "\n",
    "        #  check for smaller condition\n",
    "        dt = min(min_time_to_flat, min_time_to_no_sed)\n",
    "\n",
    "        #  if larger than global step size, limit to global\n",
    "        dt = min(dt, dt_global)\n",
    "        \n",
    "        \n",
    "        \n",
    "        # Update quantities\n",
    "        \n",
    "        # update boundary conditions\n",
    "        eta[-1] -= U * dt\n",
    "        etab[-1] = eta[-1]\n",
    "        \n",
    "        # update topography\n",
    "        etab[:-1] -= Eb[:-1] * dt\n",
    "        H[:-1] += Eh[:-1] * dt\n",
    "        H[H<0] = 0\n",
    "        eta[:-1] = etab[:-1] + H[:-1]\n",
    "        \n",
    "        # Advance time\n",
    "        cum_time += dt\n",
    "        \n",
    "        # print(dt, \"timestep in years\")\n",
    "        \n",
    "        if any(E[:] != U):\n",
    "            continue\n",
    "        else:\n",
    "            break\n",
    "            \n",
    "    print(cum_time, \"years\")\n",
    "        \n",
    "    return (S, b, q, Qs, qs, Eb, atr, ql, Eh, E, eta, etab, H, dt)"
   ]
  },
  {
   "cell_type": "code",
   "execution_count": 24,
   "id": "4a339f90",
   "metadata": {},
   "outputs": [
    {
     "name": "stdout",
     "output_type": "stream",
     "text": [
      "2456479.934520905 years\n"
     ]
    }
   ],
   "source": [
    "# now write a test\n",
    "test = [x, dx, Hstar, H, etab, eta, beta, gamma, kxb, Pxb, kb, phi, D, U, Q, B]\n",
    "\n",
    "# and run it\n",
    "S, b, q, Qs, qs, Eb, atr, ql, Eh, E, eta, etab, H, dt = no_plucking(*test)"
   ]
  },
  {
   "cell_type": "code",
   "execution_count": 25,
   "id": "83d1f399",
   "metadata": {},
   "outputs": [
    {
     "name": "stdout",
     "output_type": "stream",
     "text": [
      "[-4.02253274e-11  2.34209816e-11  3.13824148e-09  8.94846740e-09\n",
      "  1.30620371e-08  1.34227679e-08  1.11269317e-08  7.91731761e-09\n",
      "  4.87580656e-09  5.00000000e-04]\n"
     ]
    }
   ],
   "source": [
    "# check for steady state condition\n",
    "print(E)"
   ]
  },
  {
   "cell_type": "code",
   "execution_count": 26,
   "id": "a1072f23",
   "metadata": {
    "scrolled": true
   },
   "outputs": [
    {
     "data": {
      "text/plain": [
       "[<matplotlib.lines.Line2D at 0x7fdb3cb619d0>]"
      ]
     },
     "execution_count": 26,
     "metadata": {},
     "output_type": "execute_result"
    },
    {
     "data": {
      "image/png": "[encoded data removed]",
      "text/plain": [
       "<Figure size 432x288 with 1 Axes>"
      ]
     },
     "metadata": {
      "needs_background": "light"
     },
     "output_type": "display_data"
    }
   ],
   "source": [
    "plt.plot(x[1:], S)\n",
    "plt.plot(x, slope_pred)"
   ]
  },
  {
   "cell_type": "code",
   "execution_count": 30,
   "id": "724404b1",
   "metadata": {},
   "outputs": [
    {
     "data": {
      "text/plain": [
       "[<matplotlib.lines.Line2D at 0x7fdb3cf99490>]"
      ]
     },
     "execution_count": 30,
     "metadata": {},
     "output_type": "execute_result"
    },
    {
     "data": {
      "image/png": "[encoded data removed]",
      "text/plain": [
       "<Figure size 432x288 with 1 Axes>"
      ]
     },
     "metadata": {
      "needs_background": "light"
     },
     "output_type": "display_data"
    }
   ],
   "source": [
    "plt.plot(x[:-1], eta[:-1])\n",
    "#plt.plot(x, y)"
   ]
  },
  {
   "cell_type": "code",
   "execution_count": null,
   "id": "e312cf1f",
   "metadata": {},
   "outputs": [],
   "source": []
  }
 ],
 "metadata": {
  "kernelspec": {
   "display_name": "Python 3",
   "language": "python",
   "name": "python3"
  },
  "language_info": {
   "codemirror_mode": {
    "name": "ipython",
    "version": 3
   },
   "file_extension": ".py",
   "mimetype": "text/x-python",
   "name": "python",
   "nbconvert_exporter": "python",
   "pygments_lexer": "ipython3",
   "version": "3.7.6"
  }
 },
 "nbformat": 4,
 "nbformat_minor": 5
}
