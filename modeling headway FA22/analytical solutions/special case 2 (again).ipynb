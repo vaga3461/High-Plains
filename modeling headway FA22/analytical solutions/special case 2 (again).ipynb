{
 "cells": [
  {
   "cell_type": "code",
   "execution_count": 1,
   "id": "aff555ee",
   "metadata": {},
   "outputs": [],
   "source": [
    "# this notebook is trying to get a handle on \"numerics\" of SC2\n",
    "# make sure we can reproduce modeled and predicted slopes with very close agreement\n",
    "# and make topo agreement match slope agreement"
   ]
  },
  {
   "cell_type": "code",
   "execution_count": 2,
   "id": "77090b5b",
   "metadata": {},
   "outputs": [],
   "source": [
    "# first import libraries\n",
    "import numpy as np\n",
    "import matplotlib.pyplot as plt"
   ]
  },
  {
   "cell_type": "code",
   "execution_count": 3,
   "id": "92707a94",
   "metadata": {},
   "outputs": [],
   "source": [
    "# set up arrays and parameters\n",
    "\n",
    "dx = 1000 # grid spacing\n",
    "x = np.arange(0, 10000, dx) # domain length\n",
    "x_node = x + dx/2\n",
    "\n",
    "U = 0.0001 # uplift rate\n",
    "phi = 0.55 # sediment porosity\n",
    "kqs = 0.041 # sediment discharge coefficient\n",
    "I = 0.01 # intermittency factor\n",
    "r = 10. # runoff rate\n",
    "kxb = 25 # valley width coeffecient (a, above)\n",
    "Pxb = (1/5) # valley width exponent\n",
    "\n",
    "B = kxb * (x_node**Pxb) # valley width   ## TWEAKED\n",
    "Q = (r * kxb * x**(6/5))/(1 + Pxb) # discharge  ## WE TWEAKED THIS\n",
    "\n",
    "# for sc2 specifically\n",
    "z = np.linspace(1, 0, len(x)) # starting elevation profile\n",
    "beta = 0.004 # abrasion factor"
   ]
  },
  {
   "cell_type": "code",
   "execution_count": 4,
   "id": "6577eed9",
   "metadata": {},
   "outputs": [],
   "source": [
    "# calc the slope with the analytical soln\n",
    "\n",
    "predicted_slope = ((U * B[:-1] * x[1:] * (1 - phi))/(1 + (beta * x[1:])) * 1/(kqs*I*Q[1:]))**(6/7)\n",
    "# predicted_slope = ((U * B[1:] * x[1:])/(1 + (beta * x[1:])) * 1/(kqs*I*Q[1:]))**(6/7)"
   ]
  },
  {
   "cell_type": "code",
   "execution_count": 5,
   "id": "1bfea0c9",
   "metadata": {},
   "outputs": [],
   "source": [
    "# define a fxn for sc2, dzdt = 0\n",
    "\n",
    "def sc2(dx, x, z, U, phi, kqs, I, r, kxb, Pxb, beta, B, Q, num_steps=3000000):\n",
    "    \n",
    "    # set timestep\n",
    "    dt = (0.5 * dx * dx / (kqs*Q[-1]))\n",
    "    \n",
    "    # create arrays\n",
    "    Qs = np.zeros(len(x))\n",
    "    E = np.zeros(len(x))\n",
    "    dzdt = np.zeros(len(x))\n",
    "    \n",
    "    # set boundary conditions\n",
    "    Qs[0] = 0\n",
    "    #E[-1] = 0\n",
    "    dzdt[-1] = 0\n",
    "\n",
    "    for i in range(num_steps):\n",
    "    \n",
    "        # calculate slope\n",
    "        S = np.abs(np.diff(z)/dx)\n",
    "    \n",
    "        # calculate sediment transport\n",
    "        ##Qs[1:] = kqs * I * Q[1:] * S**(7./6.)\n",
    "        Qs[1:] = kqs * I * Q[1:] * S**(7./6.)\n",
    "    \n",
    "        # erosion\n",
    "        # \"old\" indexing from [:-1]\n",
    "        E[:-1] = (1/((1-phi)*B[:-1])) * ((np.diff(Qs)/dx) + (beta * Qs[1:]))\n",
    "    \n",
    "        # calculate rate of elevation change\n",
    "        # \"old\" indexing of E from [:-1]\n",
    "        dzdt[:-1] = U - E[:-1]\n",
    "    \n",
    "        # update profile\n",
    "        z += dzdt * dt\n",
    "    \n",
    "    return (S, Qs, E, dzdt, z, dt)"
   ]
  },
  {
   "cell_type": "code",
   "execution_count": 6,
   "id": "218669d0",
   "metadata": {},
   "outputs": [],
   "source": [
    "# and design a test\n",
    "\n",
    "sc2_test = [dx, x, z, U, phi, kqs, I, r, kxb, Pxb, beta, B, Q]\n",
    "\n",
    "# and run it\n",
    "S, Qs, E, dzdt, model_z, dt = sc2(*sc2_test)"
   ]
  },
  {
   "cell_type": "code",
   "execution_count": 7,
   "id": "2c6716ca",
   "metadata": {},
   "outputs": [
    {
     "data": {
      "text/plain": [
       "array([1.e-04, 1.e-04, 1.e-04, 1.e-04, 1.e-04, 1.e-04, 1.e-04, 1.e-04,\n",
       "       1.e-04, 0.e+00])"
      ]
     },
     "execution_count": 7,
     "metadata": {},
     "output_type": "execute_result"
    }
   ],
   "source": [
    "# check to make sure we're at steady state\n",
    "E"
   ]
  },
  {
   "cell_type": "code",
   "execution_count": 8,
   "id": "d7629292",
   "metadata": {},
   "outputs": [],
   "source": [
    "# now make a line with the same slopes as those output from the model\n",
    "model_topo = -(S * x[1:])\n",
    "\n",
    "predicted_topo = -(predicted_slope * x[1:])"
   ]
  },
  {
   "cell_type": "code",
   "execution_count": 9,
   "id": "18c111e3",
   "metadata": {},
   "outputs": [],
   "source": [
    "difference = predicted_topo[-1] - model_topo[-1]"
   ]
  },
  {
   "cell_type": "code",
   "execution_count": 10,
   "id": "6a0847c3",
   "metadata": {},
   "outputs": [
    {
     "data": {
      "text/plain": [
       "[<matplotlib.lines.Line2D at 0x7fb826c72890>]"
      ]
     },
     "execution_count": 10,
     "metadata": {},
     "output_type": "execute_result"
    },
    {
     "data": {
      "image/png": "[encoded data removed]",
      "text/plain": [
       "<Figure size 432x288 with 1 Axes>"
      ]
     },
     "metadata": {
      "needs_background": "light"
     },
     "output_type": "display_data"
    }
   ],
   "source": [
    "plt.plot(x[1:], model_topo + difference)\n",
    "plt.plot(x[1:], predicted_topo)"
   ]
  },
  {
   "cell_type": "code",
   "execution_count": 11,
   "id": "a1c0dc33",
   "metadata": {},
   "outputs": [
    {
     "data": {
      "text/plain": [
       "array([0.00546405, 0.00367368, 0.00273786, 0.00218287, 0.0018205 ,\n",
       "       0.00156607, 0.00137748, 0.00123189, 0.00111591])"
      ]
     },
     "execution_count": 11,
     "metadata": {},
     "output_type": "execute_result"
    }
   ],
   "source": [
    "S"
   ]
  },
  {
   "cell_type": "code",
   "execution_count": 12,
   "id": "481fcb63",
   "metadata": {},
   "outputs": [
    {
     "data": {
      "text/plain": [
       "array([0.00546405, 0.00353913, 0.00262939, 0.00210681, 0.00176629,\n",
       "       0.0015259 , 0.00134659, 0.00120739, 0.001096  ])"
      ]
     },
     "execution_count": 12,
     "metadata": {},
     "output_type": "execute_result"
    }
   ],
   "source": [
    "predicted_slope"
   ]
  },
  {
   "cell_type": "code",
   "execution_count": 13,
   "id": "da0361c0",
   "metadata": {},
   "outputs": [
    {
     "data": {
      "text/plain": [
       "<matplotlib.legend.Legend at 0x7fb826bbccd0>"
      ]
     },
     "execution_count": 13,
     "metadata": {},
     "output_type": "execute_result"
    },
    {
     "data": {
      "image/png": "[encoded data removed]",
      "text/plain": [
       "<Figure size 432x288 with 1 Axes>"
      ]
     },
     "metadata": {
      "needs_background": "light"
     },
     "output_type": "display_data"
    }
   ],
   "source": [
    "plt.plot(x[1:], S, label = 'model')\n",
    "plt.plot(x[1:], predicted_slope, label = 'prediction')\n",
    "plt.legend()"
   ]
  },
  {
   "cell_type": "code",
   "execution_count": 14,
   "id": "f1372b27",
   "metadata": {},
   "outputs": [],
   "source": [
    "predicted_topo = -(predicted_slope * x[1:]) # + model_z[0]"
   ]
  },
  {
   "cell_type": "code",
   "execution_count": 15,
   "id": "a37175fc",
   "metadata": {},
   "outputs": [],
   "source": [
    "baselevel_difference = model_z[-1] - predicted_topo[-1]"
   ]
  },
  {
   "cell_type": "code",
   "execution_count": 16,
   "id": "c33655eb",
   "metadata": {},
   "outputs": [
    {
     "data": {
      "text/plain": [
       "<matplotlib.legend.Legend at 0x7fb826f07650>"
      ]
     },
     "execution_count": 16,
     "metadata": {},
     "output_type": "execute_result"
    },
    {
     "data": {
      "image/png": "[encoded data removed]",
      "text/plain": [
       "<Figure size 432x288 with 1 Axes>"
      ]
     },
     "metadata": {
      "needs_background": "light"
     },
     "output_type": "display_data"
    }
   ],
   "source": [
    "plt.plot(x[1:], model_z[1:], label = 'model')\n",
    "plt.plot(x[1:], predicted_topo + baselevel_difference, label = 'prediction')\n",
    "plt.legend()"
   ]
  },
  {
   "cell_type": "code",
   "execution_count": null,
   "id": "aa0fbc38",
   "metadata": {},
   "outputs": [],
   "source": []
  }
 ],
 "metadata": {
  "kernelspec": {
   "display_name": "Python 3",
   "language": "python",
   "name": "python3"
  },
  "language_info": {
   "codemirror_mode": {
    "name": "ipython",
    "version": 3
   },
   "file_extension": ".py",
   "mimetype": "text/x-python",
   "name": "python",
   "nbconvert_exporter": "python",
   "pygments_lexer": "ipython3",
   "version": "3.7.6"
  }
 },
 "nbformat": 4,
 "nbformat_minor": 5
}
