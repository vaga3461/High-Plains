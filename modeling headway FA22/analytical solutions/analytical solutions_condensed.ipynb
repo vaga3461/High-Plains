{
 "cells": [
  {
   "cell_type": "markdown",
   "id": "d46f55e9",
   "metadata": {},
   "source": [
    "Below are analytical solutions to 3 simplified versions of the bedrock-incising near-threshold river model. The full model includes the following pieces:\n",
    "\n",
    "- bedrock erosion via plucking and abrasion\n",
    "- shear stress-dependent sediment transport\n",
    "- reduction of bedload via grain-on-grain abrasion\n",
    "- bed exposure fraction controlling rates of transport and erosion\n",
    "\n",
    "The cases outlined below comprise combinations of these essential functions. The following symbols are used:\n",
    "\n",
    "| Symbol | Meaning | Dimensions |\n",
    "|:-|:-|:-|\n",
    "| $\\beta$ | abrasion coefficient | 1/L |\n",
    "| $\\phi$ | sediment porosity | - |\n",
    "| $I$ | intermittency | - |\n",
    "| $K$ | erodibility | 1/T |\n",
    "| $k_{qs}$ | sediment-discharge coefficient | - |\n",
    "| $r$ | runoff rate | L/T |\n",
    "| $S$ | slope | - |\n",
    "| $U$ | uplift rate | L/T |\n",
    "| $x$ | distance | L |"
   ]
  },
  {
   "cell_type": "markdown",
   "id": "20f31232",
   "metadata": {},
   "source": [
    "##### Case 1: All sediment, no abrasion\n",
    "\n",
    "This case considers only sediment transport, no bedrock erosion or grain-on-grain abrasion. \n",
    "\n",
    "$$\\boxed{S = \\left(\\frac{U (1 - \\phi)}{k_{qs} I r} \\right)^{6/7}}$$"
   ]
  },
  {
   "cell_type": "markdown",
   "id": "2322d9b8",
   "metadata": {},
   "source": [
    "##### Case 2: All sediment, with abrasion\n",
    "\n",
    "This case considers sediment transport, with abrasion occurring during grain-on-grain interactions. \n",
    "\n",
    "$$\\boxed{S = \\left(\\frac{6}{5} \\frac{U (1 - \\phi)}{\\beta k_{qs} I r x} \\left(1 - e^{-\\beta x} \\right) \\right)^{6/7}}$$"
   ]
  },
  {
   "cell_type": "markdown",
   "id": "f384ccaf",
   "metadata": {},
   "source": [
    "##### Case 3: Plucking and transport (no abrasion)\n",
    "\n",
    "This case allows for bedrock to be converted to coarse sediment via plucking. No abrasion occurs, either on bedrock or sediment.\n",
    "\n",
    "$$\\boxed{S = \\left(\\frac{U}{k_{qs} I r} + \\frac{6}{5} \\frac{U}{r x K}\\right)^{6/7}}$$\n",
    "\n",
    "This solution works well when rock is more erodible (higher $K$), but diverges as rock becomes harder (lower $K$). One explanation for this is that as rock becomes harder, the model should become more detachment-limited. However, the way to force detachment-limited behavior in the full version of our model is to make attrition ($\\beta$) high, so that sediment doesn't persist in the system. Since there is no $\\beta$ in this scenario, we aren't able to capture that fully detachment-limited behavior that low bedrock erodibility would tend to imply."
   ]
  },
  {
   "cell_type": "code",
   "execution_count": null,
   "id": "d8c06f2e",
   "metadata": {},
   "outputs": [],
   "source": []
  }
 ],
 "metadata": {
  "kernelspec": {
   "display_name": "Python 3",
   "language": "python",
   "name": "python3"
  },
  "language_info": {
   "codemirror_mode": {
    "name": "ipython",
    "version": 3
   },
   "file_extension": ".py",
   "mimetype": "text/x-python",
   "name": "python",
   "nbconvert_exporter": "python",
   "pygments_lexer": "ipython3",
   "version": "3.7.6"
  }
 },
 "nbformat": 4,
 "nbformat_minor": 5
}
