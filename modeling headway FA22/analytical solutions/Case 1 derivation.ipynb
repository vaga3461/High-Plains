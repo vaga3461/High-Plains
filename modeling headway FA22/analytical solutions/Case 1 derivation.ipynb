{
 "cells": [
  {
   "cell_type": "code",
   "execution_count": 1,
   "id": "bb7a9047",
   "metadata": {},
   "outputs": [],
   "source": [
    "# this notebook contains the full derivation for Case 1: all sediment, no abrasion"
   ]
  },
  {
   "cell_type": "markdown",
   "id": "44f55015",
   "metadata": {},
   "source": [
    "Start with conservation of mass of sediment in a landscape \"cell\":\n",
    "> $$\\frac{\\partial M}{\\partial t} = \\text{Mass in} - \\text{Mass out}$$\n",
    "\n",
    "The cell has height $z$, total width $B$, and length $dx$. Contained within the cell is a of channel width $b$. The sediment has porosity $\\phi$ and density $\\rho$. The cell is experiencing uniform uplift $U$. Mass is added via uplift and sediment flux into the cell. Mass is lost via sediment flux out of the cell. Putting these pieces together, we arrive at:\n",
    "> $$\\frac{\\partial z B dx (1-\\phi) \\rho}{\\partial t} = U B dx \\rho + Q_s\\bigr\\rvert_{x} \\rho - Q_s\\bigr\\rvert_{x + \\Delta x} \\rho$$\n",
    "\n",
    "$$\\frac{\\partial z}{\\partial t} = \\frac{U B dx \\rho}{B dx (1 - \\phi) \\rho} + \\frac{Q_s\\bigr\\rvert_{x} \\rho}{B dx (1 - \\phi) \\rho} - \\frac{Q_s\\bigr\\rvert_{x + \\Delta x} \\rho}{B dx (1 - \\phi) \\rho}$$\n",
    "\n",
    "> This says that in a world with no bedrock abrasion, changes in profile elevation depend only on uplift and sediment transport.\n",
    "> If we assume a steady state condition $\\left( \\frac{\\partial z}{\\partial t} = 0 \\right )$, then the above simplifies to:\n",
    "\n",
    "$$\\frac{d Q_s}{dx} = UB$$\n",
    "\n",
    "> The goal is to isolate $S$, which lives within $Q_s$, so first isolate sediment transport rate:\n",
    "\n",
    "$$d Q_s = UB d x$$\n",
    "\n",
    "\n",
    "THIS IS WHERE I'M LEAVING OFF 11/16/22, 10AM\n",
    "\n",
    ">integrate with respect to x:\n",
    "\n",
    "$$Q_s = UBx(1-\\phi)$$\n",
    "\n",
    "> Replace $Q_s$ with full formulation from Wickert & Schildgen:\n",
    "\n",
    "$$k_{Qs}IQS^{7/6} = UBx(1-\\phi)$$\n",
    "\n",
    "> And rearrange:\n",
    "\n",
    "$$S^{7/6} = \\frac{UBx(1-\\phi)}{k_{Qs}IQ}$$\n",
    "\n",
    "> If $Q=rBx$, we can further simplify:\n",
    "\n",
    "$$S^{7/6} = \\frac{U(1-\\phi)}{k_{Qs}Ir}$$\n",
    "\n",
    "> This is the formulation that we want to use for $Q$, because it's consistent with our (W&S) derivation of valley width (unlike $Q=k_hx^2$, which is completely empirical and doesn't directly tie in with our calculated valley width).\n",
    "\n",
    ">Finally, to isolate $S$, we have:\n",
    "\n",
    "$$S = \\left(\\frac{U(1-\\phi)}{k_{Qs}Ir}\\right)^{6/7}$$"
   ]
  },
  {
   "cell_type": "code",
   "execution_count": null,
   "id": "c54de427",
   "metadata": {},
   "outputs": [],
   "source": []
  }
 ],
 "metadata": {
  "kernelspec": {
   "display_name": "Python 3",
   "language": "python",
   "name": "python3"
  },
  "language_info": {
   "codemirror_mode": {
    "name": "ipython",
    "version": 3
   },
   "file_extension": ".py",
   "mimetype": "text/x-python",
   "name": "python",
   "nbconvert_exporter": "python",
   "pygments_lexer": "ipython3",
   "version": "3.7.6"
  }
 },
 "nbformat": 4,
 "nbformat_minor": 5
}
