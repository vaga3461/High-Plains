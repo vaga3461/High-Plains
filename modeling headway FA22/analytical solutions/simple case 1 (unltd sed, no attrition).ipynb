{
 "cells": [
  {
   "cell_type": "code",
   "execution_count": 1,
   "id": "ab4130bc",
   "metadata": {},
   "outputs": [],
   "source": [
    "# the purpose of this notebook is to test an analytical solution for my model\n",
    "# for the special case where sediment supply is infinite (H >> H*)\n",
    "# and attrition does not occur (beta = 0)\n",
    "# a derivation (taken from the gravel river transporter tutorial) is below"
   ]
  },
  {
   "cell_type": "markdown",
   "id": "7a0f0799",
   "metadata": {},
   "source": [
    "$$\\frac{\\partial z}{\\partial t} = U - \\frac{1}{(1-\\phi)B} \\left(\\frac{\\partial Q_s}{\\partial x} + \\beta Q_s \\right)$$\n",
    "\n",
    "> This says that in a world with no bedrock abrasion, changes in profile elevation depend only on uplift and sediment processes (sediment divergence and attrition that degrades the bed material).\n",
    "> If we assume a steady state condition $\\left( \\frac{\\partial z}{\\partial t} = 0 \\right )$ and that no attrition occurs $\\left(\\beta = 0\\right)$, then the above simplifies to:\n",
    "\n",
    "$$U = \\frac{1}{(1-\\phi)B} \\left(\\frac{\\partial Q_s}{\\partial x}\\right)$$\n",
    "\n",
    "> The goal is to isolate $S$, which lives within $Q_s$, so first isolate sediment transport rate:\n",
    "\n",
    "$$\\frac{\\partial Q_s}{\\partial x} = UB(1-\\phi)$$\n",
    "\n",
    ">integrate with respect to x:\n",
    "\n",
    "$$Q_s = UBx(1-\\phi)$$\n",
    "\n",
    "> Replace $Q_s$ with full formulation from Wickert & Schildgen:\n",
    "\n",
    "$$k_{Qs}IQS^{7/6} = UBx(1-\\phi)$$\n",
    "\n",
    "> And rearrange:\n",
    "\n",
    "$$S^{7/6} = \\frac{UBx(1-\\phi)}{k_{Qs}IQ}$$\n",
    "\n",
    "> If $Q=rBx$, we can further simplify:\n",
    "\n",
    "$$S^{7/6} = \\frac{U(1-\\phi)}{k_{Qs}Ir}$$\n",
    "\n",
    "> This is the formulation that we want to use for $Q$, because it's consistent with our (W&S) derivation of valley width (unlike $Q=k_hx^2$, which is completely empirical and doesn't directly tie in with our calculated valley width).\n",
    "\n",
    ">Finally, to isolate $S$, we have:\n",
    "\n",
    "$$S = \\left(\\frac{U(1-\\phi)}{k_{Qs}Ir}\\right)^{6/7}$$\n",
    "\n",
    "Great! This gives us a single value for slope. Now the goal is to see if our model also produces constant slope (and if that slope is equal to the prediction made using this equation) at steady state when sediment supply is infinite and attrition is absent.\n",
    "\n",
    "Because of the simplifications we're made, our list of parameters is substantially shorter. For example, we don't need to worry about creating arrays to hold bedrock elevation, different erodibilities, different abradabilities, etc., because no bedrock is exposed so the model is blind to those differences in bedrock.\n",
    "\n",
    "We may also not even need arrays for sediment and a characteristic sediment thickness (commented out), because the assumption is the <i>everything</i> is sediment."
   ]
  },
  {
   "cell_type": "code",
   "execution_count": 2,
   "id": "4e3f45b3",
   "metadata": {},
   "outputs": [],
   "source": [
    "# start by importing libraries\n",
    "import numpy as np\n",
    "import matplotlib.pyplot as plt"
   ]
  },
  {
   "cell_type": "code",
   "execution_count": 3,
   "id": "beba7de6",
   "metadata": {},
   "outputs": [],
   "source": [
    "# now set up arrays and parameters\n",
    "dx = 1000 # grid spacing\n",
    "x = np.arange(0, 4000, dx) # domain length\n",
    "\n",
    "# H = 100 + np.zeros(len(x)) # sediment thickness\n",
    "# z = np.linspace(1, 0.1, len(x)) # + H # need to start with slight bedrock slope\n",
    "z = np.zeros(len(x))\n",
    "\n",
    "U = 0.0005 # uplift rate\n",
    "phi = 0.55 # sediment porosity\n",
    "kqs = 0.041 # sediment discharge coefficient\n",
    "I = 0.01 # intermittency factor\n",
    "r = 10. # runoff rate\n",
    "kxb = 25 # valley width coeffecient\n",
    "Pxb = 1/5 # valley width exponent\n",
    "# Hstar = 0.1 # characteristic sediment thickness\n",
    "\n",
    "B = kxb * (x**Pxb) # valley width \n",
    "# B = 100\n",
    "# Q = B * r * x # total discharge\n",
    "Q = (r * x**(6/5))/(1 + Pxb)\n",
    "\n",
    "tau = 5\n",
    "gamma = 0.5"
   ]
  },
  {
   "cell_type": "code",
   "execution_count": 21,
   "id": "a62fac56",
   "metadata": {},
   "outputs": [],
   "source": [
    "# now create a function that attempts to capture this all as simply as possible\n",
    "# don't need bedrock slope because that's only for calculating channel width, \n",
    "# and we're not even worrying about that as a comparison metric\n",
    "\n",
    "def all_sed(dx, x, z, U, phi, kqs, I, r, kxb, Pxb, B, Q, tau, gamma, num_steps=55):\n",
    "    \n",
    "    # set timestep\n",
    "    dt = (0.5 * dx * dx / (kqs*Q[-1]))\n",
    "    \n",
    "    # create arrays\n",
    "    Qs = np.zeros(len(x))\n",
    "    E = np.zeros(len(x))\n",
    "    dzdt = np.zeros(len(x))\n",
    "    ql = np.zeros(len(x)) # lateral sediment supply\n",
    "    E_vals = np.zeros((2, len(x))) # store current and past erosion rates in this array\n",
    "    E_avg = np.zeros(len(x)) # weighted average erosion rates\n",
    "    \n",
    "    # set boundary conditions\n",
    "    Qs[0] = 0\n",
    "#     E[-1] = 0\n",
    "#     dzdt[-1] = 0\n",
    "    \n",
    "    # track uplift\n",
    "    total_dzdt = 0\n",
    "    \n",
    "    for i in range(num_steps):\n",
    "        \n",
    "        # calculate slope\n",
    "        S = np.abs(np.diff(z)/dx)\n",
    "        \n",
    "        # calculate sediment transport\n",
    "        Qs[1:] = kqs * I * Q[1:] * S**(7./6.)\n",
    "        \n",
    "        # calculate lateral sediment flux\n",
    "#         if all(E_avg == 0): # = 0:\n",
    "#             ql[:] = 0\n",
    "#         else:\n",
    "#             ql[:] = E_avg * gamma\n",
    "        \n",
    "        # erosion\n",
    "        # E[:-1] = (1/((1-phi)*B[1:])) * (np.diff(Qs)/dx) # - ql[1:])\n",
    "        E[1:] = (1/((1-phi)*B[1:])) * (np.diff(Qs)/dx) # - ql[1:])\n",
    "        \n",
    "        # calculate change in elevation\n",
    "        dzdt[:-1] = U - E[1:]\n",
    "        \n",
    "        # update profile\n",
    "        z[:] += dzdt * dt\n",
    "        \n",
    "        # track total change in elev so we can account for this when comparing to prediction\n",
    "        total_dzdt += dzdt * dt\n",
    "        \n",
    "        # calculate weight for lateral sediment flux\n",
    "#         wt = 1 - np.exp(-dt/tau)\n",
    "        \n",
    "        # add the most recent erosion rate as a new top row, and drop the bottom row\n",
    "#         E_vals = np.vstack([E, E_vals])\n",
    "#         E_vals = np.delete(E_vals, obj = 2, axis = 0)\n",
    "        \n",
    "#         # calculate average E\n",
    "#         E_avg = (wt*E_vals[0]) + ((1 - wt)*E_vals[1])\n",
    "        \n",
    "    cum_time = num_steps * dt\n",
    "    print(cum_time)\n",
    "        \n",
    "    return (S, Qs, ql, E, dzdt, z, total_dzdt, dt) #, wt, E_vals, E_avg, dt)"
   ]
  },
  {
   "cell_type": "code",
   "execution_count": 22,
   "id": "4945c896",
   "metadata": {},
   "outputs": [
    {
     "name": "stdout",
     "output_type": "stream",
     "text": [
      "5409.841952911626\n"
     ]
    }
   ],
   "source": [
    "# now write a test\n",
    "test = [dx, x, z, U, phi, kqs, I, r, kxb, Pxb, B, Q, tau, gamma]\n",
    "\n",
    "# and run it\n",
    "slope, Qs, ql, E, dzdt, model_z, total_dzdt, dt = all_sed(*test)"
   ]
  },
  {
   "cell_type": "code",
   "execution_count": 23,
   "id": "bc3aeb34",
   "metadata": {},
   "outputs": [
    {
     "data": {
      "text/plain": [
       "array([2.15386535e-10, 2.16148788e-06, 2.65357889e-03])"
      ]
     },
     "execution_count": 23,
     "metadata": {},
     "output_type": "execute_result"
    }
   ],
   "source": [
    "slope"
   ]
  },
  {
   "cell_type": "code",
   "execution_count": 24,
   "id": "849de137",
   "metadata": {},
   "outputs": [
    {
     "name": "stdout",
     "output_type": "stream",
     "text": [
      "[     0.          33175.59754612  76217.50865455 123983.60491032]\n",
      "[0.00000000e+00 7.17283630e-11 7.68039477e-06 5.01901840e-02]\n"
     ]
    }
   ],
   "source": [
    "print(Q)\n",
    "print(Qs)"
   ]
  },
  {
   "cell_type": "code",
   "execution_count": 25,
   "id": "bcd4068d",
   "metadata": {},
   "outputs": [
    {
     "name": "stdout",
     "output_type": "stream",
     "text": [
      "[2.16208202e-15 1.00769428e-10 4.04813072e-07]\n"
     ]
    }
   ],
   "source": [
    "print(Qs[1:]/Q[1:])"
   ]
  },
  {
   "cell_type": "code",
   "execution_count": 26,
   "id": "80c428b9",
   "metadata": {},
   "outputs": [
    {
     "data": {
      "text/plain": [
       "2.1620820206656817e-15"
      ]
     },
     "execution_count": 26,
     "metadata": {},
     "output_type": "execute_result"
    }
   ],
   "source": [
    "(slope[0]**(7/6))*kqs*I"
   ]
  },
  {
   "cell_type": "code",
   "execution_count": 27,
   "id": "72a00fea",
   "metadata": {},
   "outputs": [],
   "source": [
    "# Qs_test = kqs * I * Q[2] * (0.07845)**(7./6.)\n",
    "# print(Qs_test)"
   ]
  },
  {
   "cell_type": "code",
   "execution_count": 28,
   "id": "2e8d49f4",
   "metadata": {},
   "outputs": [],
   "source": [
    "# erosion_rate_expected = (48-22)/(dx * B[2])\n",
    "# print(erosion_rate_expected)"
   ]
  },
  {
   "cell_type": "code",
   "execution_count": 29,
   "id": "37fe2774",
   "metadata": {},
   "outputs": [],
   "source": [
    "# now solve for predicted steady state slope\n",
    "# slope_pred = ((U * (1-phi))/(kqs*I*r))**(6./7.)\n",
    "slope_pred = (((U * B[1:] * (1-phi)) + (U * gamma))/(kqs*I*B[1:]*r))**(6./7.)\n",
    "\n",
    "# okay, now make a line using that constant slope\n",
    "y = -slope_pred * x[1:] + 166"
   ]
  },
  {
   "cell_type": "code",
   "execution_count": 30,
   "id": "bbdfa07c",
   "metadata": {
    "scrolled": true
   },
   "outputs": [
    {
     "data": {
      "text/plain": [
       "[<matplotlib.lines.Line2D at 0x7fc828939550>]"
      ]
     },
     "execution_count": 30,
     "metadata": {},
     "output_type": "execute_result"
    },
    {
     "data": {
      "image/png": "[encoded data removed]",
      "text/plain": [
       "<Figure size 432x288 with 1 Axes>"
      ]
     },
     "metadata": {
      "needs_background": "light"
     },
     "output_type": "display_data"
    }
   ],
   "source": [
    "plt.plot(x[1:], slope)"
   ]
  },
  {
   "cell_type": "code",
   "execution_count": 31,
   "id": "76f6655d",
   "metadata": {
    "scrolled": true
   },
   "outputs": [
    {
     "data": {
      "text/plain": [
       "<matplotlib.legend.Legend at 0x7fc8289d36d0>"
      ]
     },
     "execution_count": 31,
     "metadata": {},
     "output_type": "execute_result"
    },
    {
     "data": {
      "image/png": "[encoded data removed]",
      "text/plain": [
       "<Figure size 432x288 with 1 Axes>"
      ]
     },
     "metadata": {
      "needs_background": "light"
     },
     "output_type": "display_data"
    }
   ],
   "source": [
    "plt.plot(x, z, label = 'model')\n",
    "plt.plot(x[1:], y, label = 'prediction')\n",
    "plt.legend()"
   ]
  },
  {
   "cell_type": "code",
   "execution_count": 15,
   "id": "54994dce",
   "metadata": {},
   "outputs": [
    {
     "data": {
      "text/plain": [
       "<matplotlib.legend.Legend at 0x7fc8281b9650>"
      ]
     },
     "execution_count": 15,
     "metadata": {},
     "output_type": "execute_result"
    },
    {
     "data": {
      "image/png": "[encoded data removed]",
      "text/plain": [
       "<Figure size 432x288 with 1 Axes>"
      ]
     },
     "metadata": {
      "needs_background": "light"
     },
     "output_type": "display_data"
    }
   ],
   "source": [
    "plt.plot(x, z, label = 'model')\n",
    "plt.plot(x[1:], y, label = 'prediction')\n",
    "plt.legend()"
   ]
  },
  {
   "cell_type": "markdown",
   "id": "0ac1d841",
   "metadata": {},
   "source": [
    "$$\\frac{\\partial z}{\\partial t} = U - \\frac{1}{(1-\\phi)B} \\left(\\frac{\\partial Q_s}{\\partial x} + \\beta Q_s - q_L\\right)$$\n",
    "\n",
    "> This says that in a world with no bedrock abrasion, changes in profile elevation depend only on uplift and sediment processes (sediment divergence and attrition that degrades the bed material, and sediment additions from lateral inputs).\n",
    "> If we assume a steady state condition $\\left( \\frac{\\partial z}{\\partial t} = 0 \\right )$ and that no attrition occurs $\\left(\\beta = 0\\right)$, then the above simplifies to:\n",
    "\n",
    "$$U = \\frac{1}{(1-\\phi)B} \\left(\\frac{\\partial Q_s}{\\partial x} - q_L\\right)$$\n",
    "\n",
    "> At steady state, $q_L$ should just be equal to the uplift rate times some fraction ($\\gamma$) of hillslope material that is delivered to the fluvial network as coarse material. In other words:\n",
    "\n",
    "$$q_L = U\\gamma$$\n",
    "\n",
    "> This brings us to\n",
    "\n",
    "$$\\frac{\\partial Q_s}{\\partial x} - U\\gamma = UB(1-\\phi)$$\n",
    "\n",
    "> The goal is to isolate $S$, which lives within $Q_s$, so first isolate sediment transport rate:\n",
    "\n",
    "$$\\frac{\\partial Q_s}{\\partial x} = UB(1-\\phi) + U\\gamma$$\n",
    "\n",
    ">integrate with respect to x:\n",
    "\n",
    "$$Q_s = UBx(1-\\phi) + U\\gamma x$$\n",
    "\n",
    "> Replace $Q_s$ with full formulation from Wickert & Schildgen:\n",
    "\n",
    "$$k_{Qs}IQS^{7/6} = UBx(1-\\phi) + U\\gamma x$$\n",
    "\n",
    "> And rearrange:\n",
    "\n",
    "$$S^{7/6} = \\frac{UBx(1-\\phi) + U\\gamma x}{k_{Qs}IQ}$$\n",
    "\n",
    "> If $Q=rBx$, we can further simplify:\n",
    "\n",
    "$$S^{7/6} = \\frac{UB(1-\\phi) + U\\gamma}{k_{Qs}IrB}$$\n",
    "\n",
    "> This is the formulation that we want to use for $Q$, because it's consistent with our (W&S) derivation of valley width (unlike $Q=k_hx^2$, which is completely empirical and doesn't directly tie in with our calculated valley width).\n",
    "\n",
    ">Finally, to isolate $S$, we have:\n",
    "\n",
    "$$S = \\left(\\frac{UB(1-\\phi) + U\\gamma}{k_{Qs}IrB}\\right)^{6/7}$$\n",
    "\n",
    "Great! This gives us a single value for slope. Now the goal is to see if our model also produces constant slope (and if that slope is equal to the prediction made using this equation) at steady state when sediment supply is infinite and attrition is absent.\n",
    "\n",
    "Because of the simplifications we're made, our list of parameters is substantially shorter. For example, we don't need to worry about creating arrays to hold bedrock elevation, different erodibilities, different abradabilities, etc., because no bedrock is exposed so the model is blind to those differences in bedrock.\n",
    "\n",
    "We may also not even need arrays for sediment and a characteristic sediment thickness (commented out), because the assumption is the <i>everything</i> is sediment.\n",
    "\n",
    "\n",
    "$$S = \\left(\\frac{5}{11} \\frac{Ux(1-\\phi)}{K_{qs}Ir}\\right)^{(6/7)}$$"
   ]
  },
  {
   "cell_type": "code",
   "execution_count": null,
   "id": "7ccef1a8",
   "metadata": {},
   "outputs": [],
   "source": []
  }
 ],
 "metadata": {
  "kernelspec": {
   "display_name": "Python 3",
   "language": "python",
   "name": "python3"
  },
  "language_info": {
   "codemirror_mode": {
    "name": "ipython",
    "version": 3
   },
   "file_extension": ".py",
   "mimetype": "text/x-python",
   "name": "python",
   "nbconvert_exporter": "python",
   "pygments_lexer": "ipython3",
   "version": "3.7.6"
  }
 },
 "nbformat": 4,
 "nbformat_minor": 5
}
