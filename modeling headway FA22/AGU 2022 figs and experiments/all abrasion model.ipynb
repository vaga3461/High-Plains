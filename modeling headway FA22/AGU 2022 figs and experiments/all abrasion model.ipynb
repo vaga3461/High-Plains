{
 "cells": [
  {
   "cell_type": "code",
   "execution_count": 1,
   "id": "e7d773a2",
   "metadata": {},
   "outputs": [],
   "source": [
    "# here we're going to just try writing something from scratch"
   ]
  },
  {
   "cell_type": "code",
   "execution_count": 2,
   "id": "25de3fa5",
   "metadata": {},
   "outputs": [],
   "source": [
    "import numpy as np\n",
    "import matplotlib.pyplot as plt"
   ]
  },
  {
   "cell_type": "code",
   "execution_count": 3,
   "id": "ce873636",
   "metadata": {},
   "outputs": [],
   "source": [
    "# set up arrays\n",
    "dx = 1000\n",
    "x = np.arange(0, 100000, dx)\n",
    "x_node = x + (dx/2)\n",
    "\n",
    "Hstar = 0.5\n",
    "etab = np.zeros(len(x)) # bedrock elevation, m\n",
    "etab[:] = np.linspace(10, 0.1, len(x)) # need to start with slight bedrock slope\n",
    "H = Hstar + np.zeros(len(x))\n",
    "eta = etab + H"
   ]
  },
  {
   "cell_type": "code",
   "execution_count": 4,
   "id": "063ff069",
   "metadata": {},
   "outputs": [],
   "source": [
    "# set up parameters\n",
    "\n",
    "beta = np.zeros(len(x))\n",
    "beta[:] = 9.5e-2 # 9e-2\n",
    "\n",
    "psi = 2e-5 #4e-5 # 4e-4\n",
    "gamma = 1.0\n",
    "\n",
    "r = 10. # runoff rate\n",
    "D = 0.015 # grain size\n",
    "phi = 0.45 # porosity\n",
    "baselevel_rate = 0.0001 # baselevel fall rate"
   ]
  },
  {
   "cell_type": "code",
   "execution_count": 5,
   "id": "d154296e",
   "metadata": {},
   "outputs": [],
   "source": [
    "kqs = 0.041\n",
    "I = 0.01\n",
    "kxb = 25\n",
    "Pxb = 1./5.\n",
    "# Pxb = 1\n",
    "kb = 8.3e-8\n",
    "\n",
    "B_valley = kxb * (x_node**Pxb)\n",
    "B_basin = (2./3.) * x_node\n",
    "\n",
    "area = (1./3.) * x**2\n",
    "# Q = r * x * B\n",
    "Q = r * area"
   ]
  },
  {
   "cell_type": "code",
   "execution_count": 6,
   "id": "a2ad3f1d",
   "metadata": {},
   "outputs": [
    {
     "data": {
      "text/plain": [
       "100"
      ]
     },
     "execution_count": 6,
     "metadata": {},
     "output_type": "execute_result"
    }
   ],
   "source": [
    "len(eta)"
   ]
  },
  {
   "cell_type": "code",
   "execution_count": 7,
   "id": "ad0248d7",
   "metadata": {},
   "outputs": [],
   "source": [
    "def model(x, dx, x_node,\n",
    "          beta,\n",
    "          D, phi, Hstar, psi, gamma,\n",
    "          kb, kqs, I, r, B_valley, B_basin, Q,\n",
    "          etab, H, eta,\n",
    "          baselevel_rate,\n",
    "          num_steps = 1):\n",
    "    \n",
    "    q = Q/B_valley\n",
    "    # dt = 0.2 * dx * dx / (kqs * q[-1]) # try changing to 10, 5, or 1 if this is unstable\n",
    "    dt = 1.\n",
    "    \n",
    "    run_duration = dt * num_steps\n",
    "    cum_time = 0.0\n",
    "    \n",
    "    Qs = np.zeros(len(x))\n",
    "    qs = np.zeros(len(x))\n",
    "    Eb_a = np.zeros(len(x))\n",
    "    Eb = np.zeros(len(x))\n",
    "    Eh = np.zeros(len(x))\n",
    "    E = np.zeros(len(x))\n",
    "    ql = np.zeros(len(x))\n",
    "    \n",
    "    H[-1] = 0\n",
    "    E[-1] = baselevel_rate\n",
    "    q[0] = 0\n",
    "    Qs[0] = 0\n",
    "    ql[0] = 0\n",
    "    \n",
    "    while cum_time < run_duration:\n",
    "        \n",
    "        # drop baselevel\n",
    "        eta[-1] -= baselevel_rate * dt\n",
    "        \n",
    "        # set boundary conditions\n",
    "        etab[-1] = eta[-1]\n",
    "        \n",
    "        # calc slope\n",
    "        S = -np.diff(eta)/dx\n",
    "        \n",
    "        # calc bed exposure\n",
    "        alpha = np.exp(-H/Hstar)\n",
    "        \n",
    "        # calc sed transport\n",
    "        Qs[1:] = kqs * I * Q[1:] * S**(7./6.) * (1 - alpha[:-1]) # * Rh_efficiency\n",
    "        qs[1:] = Qs[1:] / B_valley[1:]\n",
    "        \n",
    "        # calc bedrock erosion\n",
    "        Eb_a[:-1] = beta[1:] * Qs[1:] * alpha[:-1]\n",
    "        Eb[:-1] = Eb_a[:-1] / B_valley[:-1]\n",
    "        \n",
    "        # calc grain attrition\n",
    "        atr = Qs * psi\n",
    "        \n",
    "        # calc equilibrium lateral supply\n",
    "        ql[1:] = ((baselevel_rate * gamma) / psi) * (1 - np.exp(-psi/(3 * x[1:])))\n",
    "        # ql[24:] = 0\n",
    "        \n",
    "        # calc sediment erosion rate\n",
    "        Eh[:-1] = 1/((1 - phi) * B_valley[:-1]) * (np.diff(Qs)/dx + atr[1:] - ql[1:])\n",
    "        \n",
    "        # calc total erosion rate\n",
    "        E[:-1] = Eb[:-1] + Eh[:-1]\n",
    "        \n",
    "        # update topography\n",
    "        etab[:-1] -= Eb[:-1] * dt\n",
    "        H[:-1] -= Eh[:-1] * dt\n",
    "        H[H<0] = 0\n",
    "        eta[:-1] = etab[:-1] + H[:-1]\n",
    "        \n",
    "        # update elapsed time\n",
    "        cum_time += dt\n",
    "        \n",
    "    print(cum_time)\n",
    "        \n",
    "    # return (dt, S, q, alpha, Qs, qs, Eb_p_ig, Eb_p_sed, Eb_a_ig, Eb_a_sed, Eb, atr, ql, Eh, E, etab, H, eta)\n",
    "    return (dt, S, q, alpha, Qs, qs, Eb_a, Eb, atr, ql, Eh, E, etab, H, eta)"
   ]
  },
  {
   "cell_type": "code",
   "execution_count": 8,
   "id": "6fe3578c",
   "metadata": {},
   "outputs": [
    {
     "name": "stdout",
     "output_type": "stream",
     "text": [
      "5000000.0\n"
     ]
    }
   ],
   "source": [
    "#now write a test\n",
    "num_steps = 5000000\n",
    "test_run = [x, dx, x_node, \n",
    "            beta, \n",
    "            D, phi, Hstar, psi, gamma,\n",
    "            kb, kqs, I, r, B_valley, B_basin, Q,\n",
    "            etab, H, eta,\n",
    "            baselevel_rate,\n",
    "            num_steps]\n",
    "\n",
    "# and run it\n",
    "(dt, S, q, alpha, Qs, qs, Eb_a, Eb, atr, ql, Eh, E, etab, H, eta) = model(*test_run)"
   ]
  },
  {
   "cell_type": "code",
   "execution_count": 9,
   "id": "c06bce00",
   "metadata": {},
   "outputs": [
    {
     "data": {
      "text/plain": [
       "1.0"
      ]
     },
     "execution_count": 9,
     "metadata": {},
     "output_type": "execute_result"
    }
   ],
   "source": [
    "dt"
   ]
  },
  {
   "cell_type": "code",
   "execution_count": 10,
   "id": "c33469e6",
   "metadata": {
    "scrolled": true
   },
   "outputs": [
    {
     "data": {
      "text/plain": [
       "array([1.10836003e-02, 9.49670750e-03, 9.06822477e-03, 8.85202199e-03,\n",
       "       8.70952073e-03, 8.60105017e-03, 8.51105447e-03, 8.43214743e-03,\n",
       "       8.36033933e-03, 8.29326689e-03, 8.22943027e-03, 8.16782567e-03,\n",
       "       8.10775301e-03, 8.04870749e-03, 7.99031596e-03, 7.93229675e-03,\n",
       "       7.87443421e-03, 7.81656177e-03, 7.75855000e-03, 7.70029883e-03,\n",
       "       7.64173079e-03, 7.58278783e-03, 7.52342651e-03, 7.46361716e-03,\n",
       "       7.40334017e-03, 7.34258593e-03, 7.28135208e-03, 7.21964356e-03,\n",
       "       7.15747081e-03, 7.09484941e-03, 7.03179901e-03, 6.96834272e-03,\n",
       "       6.90450671e-03, 6.84031945e-03, 6.77581133e-03, 6.71101403e-03,\n",
       "       6.64596012e-03, 6.58068324e-03, 6.51521669e-03, 6.44959469e-03,\n",
       "       6.38385031e-03, 6.31801714e-03, 6.25212753e-03, 6.18621350e-03,\n",
       "       6.12030611e-03, 6.05443559e-03, 5.98863116e-03, 5.92292134e-03,\n",
       "       5.85733301e-03, 5.79189275e-03, 5.72662544e-03, 5.66155535e-03,\n",
       "       5.59670542e-03, 5.53209790e-03, 5.46775362e-03, 5.40369286e-03,\n",
       "       5.33993458e-03, 5.27649701e-03, 5.21339746e-03, 5.15065219e-03,\n",
       "       5.08827684e-03, 5.02628608e-03, 4.96469375e-03, 4.90351299e-03,\n",
       "       4.84275614e-03, 4.78243481e-03, 4.72255990e-03, 4.66314159e-03,\n",
       "       4.60418947e-03, 4.54571241e-03, 4.48771871e-03, 4.43021604e-03,\n",
       "       4.37321151e-03, 4.31671146e-03, 1.83042081e-03, 3.03655573e-06,\n",
       "       1.90214474e-06, 1.81169277e-06, 1.76518188e-06, 1.72405716e-06,\n",
       "       1.68488776e-06, 1.64726307e-06, 1.61106709e-06, 1.57621863e-06,\n",
       "       1.54264504e-06, 1.51027911e-06, 1.47905835e-06, 1.44892455e-06,\n",
       "       1.41982340e-06, 1.39170420e-06, 1.36451950e-06, 1.33822490e-06,\n",
       "       1.31277876e-06, 1.28814200e-06, 1.26427792e-06, 1.24115199e-06,\n",
       "       1.21873173e-06, 1.19698650e-06, 1.17588744e-06])"
      ]
     },
     "execution_count": 10,
     "metadata": {},
     "output_type": "execute_result"
    }
   ],
   "source": [
    "S"
   ]
  },
  {
   "cell_type": "code",
   "execution_count": 11,
   "id": "b8f8d698",
   "metadata": {},
   "outputs": [
    {
     "data": {
      "text/plain": [
       "array([3.58316834e-08, 4.25814777e-08, 4.63488831e-08, 4.85528496e-08,\n",
       "       4.98853747e-08, 5.06801586e-08, 5.11184491e-08, 5.13080408e-08,\n",
       "       5.13175429e-08, 5.11929554e-08, 5.09664086e-08, 5.06610989e-08,\n",
       "       5.02942315e-08, 4.98788590e-08, 4.94250725e-08, 4.89408015e-08,\n",
       "       4.84323628e-08, 4.79048495e-08, 4.73624104e-08, 4.68084552e-08,\n",
       "       4.62458087e-08, 4.56768263e-08, 4.51034844e-08, 4.45274490e-08,\n",
       "       4.39501303e-08, 4.33727270e-08, 4.27962609e-08, 4.22216042e-08,\n",
       "       4.16495037e-08, 4.10805987e-08, 4.05154372e-08, 3.99544889e-08,\n",
       "       3.93981554e-08, 3.88467805e-08, 3.83006559e-08, 3.77600305e-08,\n",
       "       3.72251140e-08, 3.66960823e-08, 3.61730818e-08, 3.56562331e-08,\n",
       "       3.51456333e-08, 3.46413594e-08, 3.41434712e-08, 3.36520115e-08,\n",
       "       3.31670098e-08, 3.26884832e-08, 3.22164381e-08, 3.17508700e-08,\n",
       "       3.12917664e-08, 3.08391079e-08, 3.03928670e-08, 2.99530104e-08,\n",
       "       2.95194998e-08, 2.90922929e-08, 2.86713411e-08, 2.82565941e-08,\n",
       "       2.78479976e-08, 2.74454940e-08, 2.70490244e-08, 2.66585261e-08,\n",
       "       2.62739366e-08, 2.58951904e-08, 2.55222203e-08, 2.51549596e-08,\n",
       "       2.47933385e-08, 2.44372880e-08, 2.40867394e-08, 2.37416203e-08,\n",
       "       2.34018610e-08, 2.30673892e-08, 2.27381356e-08, 2.24140271e-08,\n",
       "       2.20949943e-08, 2.17809650e-08, 2.14899035e-08, 9.98906225e-05,\n",
       "       9.99865555e-05, 9.99900837e-05, 9.99909354e-05, 9.99915346e-05,\n",
       "       9.99920927e-05, 9.99926302e-05, 9.99931500e-05, 9.99936532e-05,\n",
       "       9.99941406e-05, 9.99946132e-05, 9.99950715e-05, 9.99955164e-05,\n",
       "       9.99959483e-05, 9.99963681e-05, 9.99967762e-05, 9.99971731e-05,\n",
       "       9.99975593e-05, 9.99979353e-05, 9.99983016e-05, 9.99986585e-05,\n",
       "       9.99990065e-05, 9.99993458e-05, 9.99996768e-05, 1.00000000e-04])"
      ]
     },
     "execution_count": 11,
     "metadata": {},
     "output_type": "execute_result"
    }
   ],
   "source": [
    "E"
   ]
  },
  {
   "cell_type": "code",
   "execution_count": 12,
   "id": "bd1241ad",
   "metadata": {},
   "outputs": [
    {
     "data": {
      "text/plain": [
       "<matplotlib.legend.Legend at 0x7fcf5319ec10>"
      ]
     },
     "execution_count": 12,
     "metadata": {},
     "output_type": "execute_result"
    },
    {
     "data": {
      "image/png": "[encoded data removed]",
      "text/plain": [
       "<Figure size 432x288 with 1 Axes>"
      ]
     },
     "metadata": {
      "needs_background": "light"
     },
     "output_type": "display_data"
    }
   ],
   "source": [
    "plt.plot(x, eta, label = \"topography\")\n",
    "plt.plot(x, etab, label = \"bedrock\")\n",
    "# plt.plot(x, H, label = \"sediment\")\n",
    "plt.legend()"
   ]
  },
  {
   "cell_type": "code",
   "execution_count": 13,
   "id": "42f25b23",
   "metadata": {},
   "outputs": [
    {
     "data": {
      "text/plain": [
       "array([0.99999543, 0.99999797, 0.99999885, 0.99999926, 0.99999948,\n",
       "       0.99999961, 0.9999997 , 0.99999976, 0.9999998 , 0.99999984,\n",
       "       0.99999986, 0.99999988, 0.9999999 , 0.99999991, 0.99999992,\n",
       "       0.99999993, 0.99999994, 0.99999994, 0.99999995, 0.99999995,\n",
       "       0.99999996, 0.99999996, 0.99999996, 0.99999997, 0.99999997,\n",
       "       0.99999997, 0.99999997, 0.99999997, 0.99999998, 0.99999998,\n",
       "       0.99999998, 0.99999998, 0.99999998, 0.99999998, 0.99999998,\n",
       "       0.99999998, 0.99999999, 0.99999999, 0.99999999, 0.99999999,\n",
       "       0.99999999, 0.99999999, 0.99999999, 0.99999999, 0.99999999,\n",
       "       0.99999999, 0.99999999, 0.99999999, 0.99999999, 0.99999999,\n",
       "       0.99999999, 0.99999999, 0.99999999, 0.99999999, 0.99999999,\n",
       "       0.99999999, 0.99999999, 0.99999999, 0.99999999, 0.99999999,\n",
       "       0.99999999, 0.99999999, 0.99999999, 0.99999999, 0.99999999,\n",
       "       0.99999999, 1.        , 1.        , 1.        , 1.        ,\n",
       "       1.        , 1.        , 1.        , 1.        , 0.99999999,\n",
       "       0.90701763, 0.8241529 , 0.8158793 , 0.81404428, 0.8128568 ,\n",
       "       0.81176443, 0.81071074, 0.80968857, 0.80869587, 0.80773121,\n",
       "       0.8067933 , 0.80588094, 0.80499299, 0.80412839, 0.80328614,\n",
       "       0.80246529, 0.80166494, 0.80088425, 0.80012243, 0.79937871,\n",
       "       0.79865238, 0.79794277, 0.79724924, 0.79657116, 1.        ])"
      ]
     },
     "execution_count": 13,
     "metadata": {},
     "output_type": "execute_result"
    }
   ],
   "source": [
    "alpha"
   ]
  },
  {
   "cell_type": "code",
   "execution_count": null,
   "id": "f0c237ac",
   "metadata": {
    "scrolled": true
   },
   "outputs": [],
   "source": [
    "# just for kicks\n",
    "kb = 8.3e-8\n",
    "b = (kb * Q[1:] * (S ** (7/6))) / (D**(3/2))\n",
    "print(b)"
   ]
  },
  {
   "cell_type": "code",
   "execution_count": null,
   "id": "cdf26ffb",
   "metadata": {},
   "outputs": [],
   "source": [
    "# ok really going out on a limb here...\n",
    "depth = (0.09801 * D) / S\n",
    "print(depth)"
   ]
  },
  {
   "cell_type": "code",
   "execution_count": null,
   "id": "ac38177d",
   "metadata": {},
   "outputs": [],
   "source": [
    "depth_list = list(depth)"
   ]
  },
  {
   "cell_type": "code",
   "execution_count": null,
   "id": "64a6d559",
   "metadata": {},
   "outputs": [],
   "source": [
    "depth_list"
   ]
  },
  {
   "cell_type": "code",
   "execution_count": null,
   "id": "a930af00",
   "metadata": {},
   "outputs": [],
   "source": [
    "plt.plot(x[1:], b, label = 'width')\n",
    "plt.plot(x[1:], depth, label = 'depth')\n",
    "plt.ylabel('width or depth (m)')\n",
    "plt.xlabel('distance (m)')\n",
    "plt.legend()"
   ]
  },
  {
   "cell_type": "code",
   "execution_count": null,
   "id": "5190c632",
   "metadata": {},
   "outputs": [],
   "source": [
    "plt.plot(x[1:], S)"
   ]
  },
  {
   "cell_type": "code",
   "execution_count": null,
   "id": "ec103b47",
   "metadata": {},
   "outputs": [],
   "source": [
    "S"
   ]
  },
  {
   "cell_type": "code",
   "execution_count": null,
   "id": "1294a26e",
   "metadata": {},
   "outputs": [],
   "source": [
    "ql"
   ]
  },
  {
   "cell_type": "code",
   "execution_count": null,
   "id": "11e64dc3",
   "metadata": {},
   "outputs": [],
   "source": [
    "small_a_dist = 0.02 * x**(2)"
   ]
  },
  {
   "cell_type": "code",
   "execution_count": null,
   "id": "bbcf8864",
   "metadata": {},
   "outputs": [],
   "source": [
    "small_a_dist"
   ]
  },
  {
   "cell_type": "code",
   "execution_count": null,
   "id": "4958ad65",
   "metadata": {},
   "outputs": [],
   "source": [
    "x"
   ]
  },
  {
   "cell_type": "code",
   "execution_count": null,
   "id": "6387883d",
   "metadata": {},
   "outputs": [],
   "source": [
    "small_area = area[23]\n",
    "small_a_array = np.linspace(0, small_area, len(x))\n",
    "S_pred_array = ((baselevel_rate * gamma * small_a_array[1:])/(kqs * I * Q[1:]))**(6./7.)"
   ]
  },
  {
   "cell_type": "code",
   "execution_count": null,
   "id": "c926e74b",
   "metadata": {},
   "outputs": [],
   "source": [
    "plt.plot(S_pred_array)\n",
    "plt.plot(S)"
   ]
  },
  {
   "cell_type": "code",
   "execution_count": null,
   "id": "f4cdc349",
   "metadata": {},
   "outputs": [],
   "source": [
    "S_pred_array"
   ]
  },
  {
   "cell_type": "code",
   "execution_count": null,
   "id": "04aa2479",
   "metadata": {},
   "outputs": [],
   "source": [
    "difference = S_pred_array - S\n",
    "print(difference)"
   ]
  },
  {
   "cell_type": "code",
   "execution_count": null,
   "id": "39682ef5",
   "metadata": {},
   "outputs": [],
   "source": [
    "area[13]"
   ]
  },
  {
   "cell_type": "code",
   "execution_count": null,
   "id": "05953023",
   "metadata": {},
   "outputs": [],
   "source": [
    "len(x)"
   ]
  },
  {
   "cell_type": "code",
   "execution_count": null,
   "id": "b9cbce84",
   "metadata": {},
   "outputs": [],
   "source": [
    "abrasion_fraction = ((Eb_a_ig[:-1] + Eb_a_sed[:-1])/B_valley[1:])/Eb[:-1]\n",
    "plucking_fraction = ((Eb_p_ig[:-1] + Eb_p_sed[:-1])/B_valley[1:])/Eb[:-1]"
   ]
  },
  {
   "cell_type": "code",
   "execution_count": null,
   "id": "bf9bcea8",
   "metadata": {},
   "outputs": [],
   "source": [
    "plt.plot(abrasion_fraction)\n",
    "#plt.plot(plucking_fraction)"
   ]
  },
  {
   "cell_type": "code",
   "execution_count": null,
   "id": "f51d2ff6",
   "metadata": {},
   "outputs": [],
   "source": [
    "S_0 = 0.001\n",
    "prefac = (baselevel_rate * area[1:] * gamma)/(kqs * I * Q[1:] * S_0 * K)\n",
    "num = K * np.exp(-beta)"
   ]
  }
 ],
 "metadata": {
  "kernelspec": {
   "display_name": "Python 3",
   "language": "python",
   "name": "python3"
  },
  "language_info": {
   "codemirror_mode": {
    "name": "ipython",
    "version": 3
   },
   "file_extension": ".py",
   "mimetype": "text/x-python",
   "name": "python",
   "nbconvert_exporter": "python",
   "pygments_lexer": "ipython3",
   "version": "3.7.6"
  }
 },
 "nbformat": 4,
 "nbformat_minor": 5
}
