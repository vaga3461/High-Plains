{
 "cells": [
  {
   "cell_type": "code",
   "execution_count": 1,
   "id": "e7d773a2",
   "metadata": {},
   "outputs": [],
   "source": [
    "# here we're going to just try writing something from scratch"
   ]
  },
  {
   "cell_type": "code",
   "execution_count": 2,
   "id": "25de3fa5",
   "metadata": {},
   "outputs": [],
   "source": [
    "import numpy as np\n",
    "import matplotlib.pyplot as plt"
   ]
  },
  {
   "cell_type": "code",
   "execution_count": 3,
   "id": "ce873636",
   "metadata": {},
   "outputs": [],
   "source": [
    "# set up arrays\n",
    "dx = 1000\n",
    "x = np.arange(0, 100000, dx)\n",
    "x_node = x + (dx/2)\n",
    "\n",
    "Hstar = 0.5\n",
    "etab = np.zeros(len(x)) # bedrock elevation, m\n",
    "etab[:] = np.linspace(10, 0.1, len(x)) # need to start with slight bedrock slope\n",
    "H = Hstar + np.zeros(len(x))\n",
    "eta = etab + H"
   ]
  },
  {
   "cell_type": "code",
   "execution_count": 4,
   "id": "063ff069",
   "metadata": {},
   "outputs": [],
   "source": [
    "# set up parameters\n",
    "# K_ig = np.zeros(len(x))\n",
    "# K_ig[:24] = 1e-7\n",
    "# K_sed = np.zeros(len(x))\n",
    "# K_sed[24:] = 1e-6\n",
    "K = np.zeros(len(x))\n",
    "K[:] = 1e-7\n",
    "\n",
    "# beta_ig = np.zeros(len(x))\n",
    "# beta_ig[:24] = 4e-7\n",
    "# beta_sed = np.zeros(len(x))\n",
    "# beta_sed[24:] = 4e-6\n",
    "beta = np.zeros(len(x))\n",
    "beta[:] = 3e-4\n",
    "\n",
    "# psi = np.zeros(len(x))\n",
    "# psi[:14] = 4e-7\n",
    "# psi[14:] = 4e-6\n",
    "psi = 3e-4\n",
    "gamma = 0.3\n",
    "\n",
    "r = 10. # runoff rate\n",
    "D = 0.03 # grain size\n",
    "phi = 0.45 # porosity\n",
    "baselevel_rate = 0.0001 # baselevel fall rate"
   ]
  },
  {
   "cell_type": "code",
   "execution_count": 5,
   "id": "d154296e",
   "metadata": {},
   "outputs": [],
   "source": [
    "kqs = 0.041\n",
    "I = 0.01\n",
    "kxb = 25\n",
    "Pxb = 1./5.\n",
    "# Pxb = 1\n",
    "kb = 8.3e-8\n",
    "\n",
    "B_valley = kxb * (x_node**Pxb)\n",
    "B_basin = (2./3.) * x_node\n",
    "\n",
    "area = (1./3.) * x**2\n",
    "# Q = r * x * B\n",
    "Q = r * area"
   ]
  },
  {
   "cell_type": "code",
   "execution_count": 6,
   "id": "a2ad3f1d",
   "metadata": {},
   "outputs": [
    {
     "data": {
      "text/plain": [
       "100"
      ]
     },
     "execution_count": 6,
     "metadata": {},
     "output_type": "execute_result"
    }
   ],
   "source": [
    "len(eta)"
   ]
  },
  {
   "cell_type": "code",
   "execution_count": 7,
   "id": "ad0248d7",
   "metadata": {},
   "outputs": [],
   "source": [
    "def model(x, dx, x_node,\n",
    "          K, beta,\n",
    "          D, phi, Hstar, psi, gamma,\n",
    "          kb, kqs, I, r, B_valley, B_basin, Q,\n",
    "          etab, H, eta,\n",
    "          baselevel_rate,\n",
    "          num_steps = 1):\n",
    "    \n",
    "    q = Q/B_valley\n",
    "    # dt = 0.2 * dx * dx / (kqs * q[-1]) # try changing to 10, 5, or 1 if this is unstable\n",
    "    dt = 5\n",
    "    \n",
    "    run_duration = dt * num_steps\n",
    "    cum_time = 0.0\n",
    "    \n",
    "    Qs = np.zeros(len(x))\n",
    "    qs = np.zeros(len(x))\n",
    "    Eb_p = np.zeros(len(x))\n",
    "    Eb_a = np.zeros(len(x))\n",
    "    Eb = np.zeros(len(x))\n",
    "    Eh = np.zeros(len(x))\n",
    "    E = np.zeros(len(x))\n",
    "    ql = np.zeros(len(x))\n",
    "    \n",
    "    H[-1] = 0\n",
    "    E[-1] = baselevel_rate\n",
    "    q[0] = 0\n",
    "    Qs[0] = 0\n",
    "    ql[0] = 0\n",
    "    \n",
    "    while cum_time < run_duration:\n",
    "        \n",
    "        # drop baselevel\n",
    "        eta[-1] -= baselevel_rate * dt\n",
    "        \n",
    "        # set boundary conditions\n",
    "        etab[-1] = eta[-1]\n",
    "        \n",
    "        # calc slope\n",
    "        S = -np.diff(eta)/dx\n",
    "        \n",
    "        # calc bed exposure\n",
    "        alpha = np.exp(-H/Hstar)\n",
    "        \n",
    "        # calc Rh\n",
    "#         width = (kb * Q[1:] * (S ** (7/6))) / (D**(3/2))\n",
    "#         depth = (0.09801 * D) / S\n",
    "#         Rh_efficiency = 1 - np.exp(-width/(2*depth))\n",
    "        \n",
    "        # calc sed transport\n",
    "        Qs[1:] = kqs * I * Q[1:] * S**(7./6.) * (1 - alpha[:-1]) # * Rh_efficiency\n",
    "        qs[1:] = Qs[1:] / B_valley[1:]\n",
    "        \n",
    "        # calc bedrock erosion\n",
    "        Eb_p[:-1] = K[1:] * Q[1:] * S * alpha[:-1]\n",
    "        Eb_a[:-1] = beta[1:] * Qs[1:] * alpha[:-1]\n",
    "        Eb[:-1] = (Eb_p[:-1] + Eb_a[:-1]) / B_valley[:-1]\n",
    "        \n",
    "        # calc grain attrition\n",
    "        atr = Qs * psi\n",
    "        \n",
    "        # calc equilibrium lateral supply\n",
    "        ql[1:] = ((baselevel_rate * gamma) / psi) * (1 - np.exp(-psi/(3 * x[1:])))\n",
    "        # ql[24:] = 0\n",
    "        \n",
    "        # calc sediment erosion rate\n",
    "        Eh[:-1] = 1/((1 - phi) * B_valley[:-1]) * (np.diff(Qs)/dx + atr[1:] - Eb_p[:-1] - ql[1:])\n",
    "        \n",
    "        # calc total erosion rate\n",
    "        E[:-1] = Eb[:-1] + Eh[:-1]\n",
    "        \n",
    "        # update topography\n",
    "        etab[:-1] -= Eb[:-1] * dt\n",
    "        H[:-1] -= Eh[:-1] * dt\n",
    "        H[H<0] = 0\n",
    "        eta[:-1] = etab[:-1] + H[:-1]\n",
    "        \n",
    "        # update elapsed time\n",
    "        cum_time += dt\n",
    "        \n",
    "    print(cum_time)\n",
    "        \n",
    "    return (dt, S, q, alpha, Qs, qs, Eb_p, Eb_a, Eb, atr, ql, Eh, E, etab, H, eta)"
   ]
  },
  {
   "cell_type": "code",
   "execution_count": 8,
   "id": "6fe3578c",
   "metadata": {},
   "outputs": [
    {
     "name": "stdout",
     "output_type": "stream",
     "text": [
      "7500000.0\n"
     ]
    }
   ],
   "source": [
    "#now write a test\n",
    "num_steps = 1500000\n",
    "test_run = [x, dx, x_node, \n",
    "            K, beta, \n",
    "            D, phi, Hstar, psi, gamma,\n",
    "            kb, kqs, I, r, B_valley, B_basin, Q,\n",
    "            etab, H, eta,\n",
    "            baselevel_rate,\n",
    "            num_steps]\n",
    "\n",
    "# and run it\n",
    "(dt, S, q, alpha, Qs, qs, Eb_p, Eb_a, Eb, atr, ql, Eh, E, etab, H, eta) = model(*test_run)"
   ]
  },
  {
   "cell_type": "code",
   "execution_count": 9,
   "id": "c06bce00",
   "metadata": {},
   "outputs": [
    {
     "data": {
      "text/plain": [
       "5"
      ]
     },
     "execution_count": 9,
     "metadata": {},
     "output_type": "execute_result"
    }
   ],
   "source": [
    "dt"
   ]
  },
  {
   "cell_type": "code",
   "execution_count": 10,
   "id": "c33469e6",
   "metadata": {
    "scrolled": true
   },
   "outputs": [
    {
     "data": {
      "text/plain": [
       "array([1.e-04, 1.e-04, 1.e-04, 1.e-04, 1.e-04, 1.e-04, 1.e-04, 1.e-04,\n",
       "       1.e-04, 1.e-04, 1.e-04, 1.e-04, 1.e-04, 1.e-04, 1.e-04, 1.e-04,\n",
       "       1.e-04, 1.e-04, 1.e-04, 1.e-04, 1.e-04, 1.e-04, 1.e-04, 1.e-04,\n",
       "       1.e-04, 1.e-04, 1.e-04, 1.e-04, 1.e-04, 1.e-04, 1.e-04, 1.e-04,\n",
       "       1.e-04, 1.e-04, 1.e-04, 1.e-04, 1.e-04, 1.e-04, 1.e-04, 1.e-04,\n",
       "       1.e-04, 1.e-04, 1.e-04, 1.e-04, 1.e-04, 1.e-04, 1.e-04, 1.e-04,\n",
       "       1.e-04, 1.e-04, 1.e-04, 1.e-04, 1.e-04, 1.e-04, 1.e-04, 1.e-04,\n",
       "       1.e-04, 1.e-04, 1.e-04, 1.e-04, 1.e-04, 1.e-04, 1.e-04, 1.e-04,\n",
       "       1.e-04, 1.e-04, 1.e-04, 1.e-04, 1.e-04, 1.e-04, 1.e-04, 1.e-04,\n",
       "       1.e-04, 1.e-04, 1.e-04, 1.e-04, 1.e-04, 1.e-04, 1.e-04, 1.e-04,\n",
       "       1.e-04, 1.e-04, 1.e-04, 1.e-04, 1.e-04, 1.e-04, 1.e-04, 1.e-04,\n",
       "       1.e-04, 1.e-04, 1.e-04, 1.e-04, 1.e-04, 1.e-04, 1.e-04, 1.e-04,\n",
       "       1.e-04, 1.e-04, 1.e-04, 1.e-04])"
      ]
     },
     "execution_count": 10,
     "metadata": {},
     "output_type": "execute_result"
    }
   ],
   "source": [
    "E"
   ]
  },
  {
   "cell_type": "code",
   "execution_count": 11,
   "id": "bd1241ad",
   "metadata": {},
   "outputs": [
    {
     "data": {
      "text/plain": [
       "<matplotlib.legend.Legend at 0x7ff342b3e510>"
      ]
     },
     "execution_count": 11,
     "metadata": {},
     "output_type": "execute_result"
    },
    {
     "data": {
      "image/png": "[encoded data removed]",
      "text/plain": [
       "<Figure size 432x288 with 1 Axes>"
      ]
     },
     "metadata": {
      "needs_background": "light"
     },
     "output_type": "display_data"
    }
   ],
   "source": [
    "plt.plot(x, eta, label = \"topography\")\n",
    "plt.plot(x, etab, label = \"bedrock\")\n",
    "# plt.plot(x, H, label = \"sediment\")\n",
    "plt.legend()"
   ]
  },
  {
   "cell_type": "code",
   "execution_count": 12,
   "id": "42f25b23",
   "metadata": {},
   "outputs": [
    {
     "data": {
      "text/plain": [
       "array([0.00000000e+00, 3.33333333e+06, 1.33333333e+07, 3.00000000e+07,\n",
       "       5.33333333e+07, 8.33333333e+07, 1.20000000e+08, 1.63333333e+08,\n",
       "       2.13333333e+08, 2.70000000e+08, 3.33333333e+08, 4.03333333e+08,\n",
       "       4.80000000e+08, 5.63333333e+08, 6.53333333e+08, 7.50000000e+08,\n",
       "       8.53333333e+08, 9.63333333e+08, 1.08000000e+09, 1.20333333e+09,\n",
       "       1.33333333e+09, 1.47000000e+09, 1.61333333e+09, 1.76333333e+09,\n",
       "       1.92000000e+09, 2.08333333e+09, 2.25333333e+09, 2.43000000e+09,\n",
       "       2.61333333e+09, 2.80333333e+09, 3.00000000e+09, 3.20333333e+09,\n",
       "       3.41333333e+09, 3.63000000e+09, 3.85333333e+09, 4.08333333e+09,\n",
       "       4.32000000e+09, 4.56333333e+09, 4.81333333e+09, 5.07000000e+09,\n",
       "       5.33333333e+09, 5.60333333e+09, 5.88000000e+09, 6.16333333e+09,\n",
       "       6.45333333e+09, 6.75000000e+09, 7.05333333e+09, 7.36333333e+09,\n",
       "       7.68000000e+09, 8.00333333e+09, 8.33333333e+09, 8.67000000e+09,\n",
       "       9.01333333e+09, 9.36333333e+09, 9.72000000e+09, 1.00833333e+10,\n",
       "       1.04533333e+10, 1.08300000e+10, 1.12133333e+10, 1.16033333e+10,\n",
       "       1.20000000e+10, 1.24033333e+10, 1.28133333e+10, 1.32300000e+10,\n",
       "       1.36533333e+10, 1.40833333e+10, 1.45200000e+10, 1.49633333e+10,\n",
       "       1.54133333e+10, 1.58700000e+10, 1.63333333e+10, 1.68033333e+10,\n",
       "       1.72800000e+10, 1.77633333e+10, 1.82533333e+10, 1.87500000e+10,\n",
       "       1.92533333e+10, 1.97633333e+10, 2.02800000e+10, 2.08033333e+10,\n",
       "       2.13333333e+10, 2.18700000e+10, 2.24133333e+10, 2.29633333e+10,\n",
       "       2.35200000e+10, 2.40833333e+10, 2.46533333e+10, 2.52300000e+10,\n",
       "       2.58133333e+10, 2.64033333e+10, 2.70000000e+10, 2.76033333e+10,\n",
       "       2.82133333e+10, 2.88300000e+10, 2.94533333e+10, 3.00833333e+10,\n",
       "       3.07200000e+10, 3.13633333e+10, 3.20133333e+10, 3.26700000e+10])"
      ]
     },
     "execution_count": 12,
     "metadata": {},
     "output_type": "execute_result"
    }
   ],
   "source": [
    "Q"
   ]
  },
  {
   "cell_type": "code",
   "execution_count": 13,
   "id": "f0c237ac",
   "metadata": {
    "scrolled": true
   },
   "outputs": [
    {
     "name": "stdout",
     "output_type": "stream",
     "text": [
      "[0.87806251 1.09374307 1.26942578 1.42282008 1.55591381 1.67115103\n",
      " 1.77112832 1.85825494 1.93463382 2.00204626 2.0619772  2.11565381\n",
      " 2.16408549 2.20810077 2.24837942 2.28547964 2.31986061 2.35190099\n",
      " 2.38191404 2.41015984 2.43685526 2.46218191 2.48629262 2.5093167\n",
      " 2.53136407 2.55252873 2.5728915  2.59252223 2.61148166 2.62982287\n",
      " 2.64759252 2.66483181 2.68157732 2.69786171 2.7137142  2.72916113\n",
      " 2.7442263  2.7589313  2.77329578 2.78733772 2.80107358 2.81451853\n",
      " 2.82768652 2.84059047 2.85324234 2.86565326 2.87783358 2.88979296\n",
      " 2.90154041 2.9130844  2.92443285 2.93559321 2.94657248 2.95737727\n",
      " 2.9680138  2.97848795 2.98880529 2.9989711  3.00899035 3.01886781\n",
      " 3.02860796 3.03821509 3.04769328 3.0570464  3.06627817 3.07539211\n",
      " 3.0843916  3.09327986 3.10205998 3.11073491 3.11930747 3.12778038\n",
      " 3.13615623 3.14443753 3.15262665 3.16072592 3.16873754 3.17666363\n",
      " 3.18450626 3.19226738 3.19994891 3.20755267 3.21508044 3.22253391\n",
      " 3.22991473 3.2372245  3.24446475 3.25163696 3.25874257 3.26578296\n",
      " 3.27275949 3.27967346 3.28652611 3.29331869 3.30005236 3.30672827\n",
      " 3.31334754 3.31991125 3.32642045]\n"
     ]
    }
   ],
   "source": [
    "# just for kicks\n",
    "kb = 8.3e-8\n",
    "b = (kb * Q[1:] * (S ** (7/6))) / (D**(3/2))\n",
    "print(b)"
   ]
  },
  {
   "cell_type": "code",
   "execution_count": 14,
   "id": "cdf26ffb",
   "metadata": {},
   "outputs": [
    {
     "name": "stdout",
     "output_type": "stream",
     "text": [
      "[ 0.09918881  0.26961952  0.47552327  0.70613432  0.95880691  1.23274472\n",
      "  1.5276      1.84309819  2.17893412  2.53475056  2.910143    3.30467204\n",
      "  3.71787683  4.14928701  4.59843255  5.06485129  5.5480945   6.04773066\n",
      "  6.56334784  7.09455498  7.64098234  8.20228125  8.77812355  9.36820062\n",
      "  9.97222235 10.5899159  11.22102452 11.86530633 12.52253319 13.19248955\n",
      " 13.8749715  14.56978576 15.27674885 15.99568627 16.7264318  17.46882686\n",
      " 18.22271988 18.9879658  19.76442561 20.55196585 21.35045831 22.15977957\n",
      " 22.9798108  23.81043736 24.6515486  25.50303761 26.36480097 27.23673861\n",
      " 28.11875355 29.0107518  29.91264214 30.82433605 31.74574749 32.67679285\n",
      " 33.61739082 34.56746224 35.52693005 36.49571917 37.47375643 38.46097047\n",
      " 39.45729168 40.46265213 41.47698547 42.50022692 43.53231314 44.57318226\n",
      " 45.62277375 46.68102839 47.74788827 48.82329665 49.90719803 50.999538\n",
      " 52.10026328 53.20932164 54.32666188 55.45223381 56.58598818 57.72787667\n",
      " 58.87785189 60.03586728 61.20187717 62.37583669 63.55770176 64.74742907\n",
      " 65.94497609 67.15030098 68.36336263 69.58412061 70.81253517 72.04856718\n",
      " 73.29217817 74.54333028 75.80198623 77.06810935 78.34166352 79.62261317\n",
      " 80.91092328 82.20655934 83.50948737]\n"
     ]
    }
   ],
   "source": [
    "# ok really going out on a limb here...\n",
    "depth = (0.09801 * D) / S\n",
    "print(depth)"
   ]
  },
  {
   "cell_type": "code",
   "execution_count": 15,
   "id": "a930af00",
   "metadata": {},
   "outputs": [
    {
     "data": {
      "text/plain": [
       "<matplotlib.legend.Legend at 0x7ff3427fdc50>"
      ]
     },
     "execution_count": 15,
     "metadata": {},
     "output_type": "execute_result"
    },
    {
     "data": {
      "image/png": "[encoded data removed]",
      "text/plain": [
       "<Figure size 432x288 with 1 Axes>"
      ]
     },
     "metadata": {
      "needs_background": "light"
     },
     "output_type": "display_data"
    }
   ],
   "source": [
    "plt.plot(x[1:], b, label = 'width')\n",
    "plt.plot(x[1:], depth, label = 'depth')\n",
    "plt.ylabel('width or depth (m)')\n",
    "plt.xlabel('distance (m)')\n",
    "plt.legend()"
   ]
  },
  {
   "cell_type": "code",
   "execution_count": 16,
   "id": "25f1ad83",
   "metadata": {},
   "outputs": [
    {
     "data": {
      "text/plain": [
       "(0.0, 1.0)"
      ]
     },
     "execution_count": 16,
     "metadata": {},
     "output_type": "execute_result"
    },
    {
     "data": {
      "image/png": "[encoded data removed]",
      "text/plain": [
       "<Figure size 432x288 with 1 Axes>"
      ]
     },
     "metadata": {
      "needs_background": "light"
     },
     "output_type": "display_data"
    }
   ],
   "source": [
    "plt.plot(x[:-1], 1-alpha[:-1])\n",
    "plt.ylim(0, 1.0)"
   ]
  },
  {
   "cell_type": "code",
   "execution_count": 17,
   "id": "0be2bd9f",
   "metadata": {},
   "outputs": [
    {
     "data": {
      "text/plain": [
       "numpy.ndarray"
      ]
     },
     "execution_count": 17,
     "metadata": {},
     "output_type": "execute_result"
    }
   ],
   "source": [
    "type(alpha)"
   ]
  },
  {
   "cell_type": "code",
   "execution_count": 18,
   "id": "bacd0d38",
   "metadata": {},
   "outputs": [],
   "source": [
    "from numpy import savetxt"
   ]
  },
  {
   "cell_type": "code",
   "execution_count": 19,
   "id": "95513b9e",
   "metadata": {},
   "outputs": [],
   "source": [
    "savetxt('alpha run 14.csv', alpha, delimiter = ',')"
   ]
  },
  {
   "cell_type": "code",
   "execution_count": 20,
   "id": "45b2bc0a",
   "metadata": {},
   "outputs": [],
   "source": [
    "savetxt('slope run 14.csv', S, delimiter = ',')"
   ]
  },
  {
   "cell_type": "code",
   "execution_count": 21,
   "id": "f2178262",
   "metadata": {},
   "outputs": [],
   "source": [
    "savetxt('topo run 14.csv', eta, delimiter = ',')\n",
    "savetxt('bedrock run 14.csv', etab, delimiter = ',')"
   ]
  },
  {
   "cell_type": "code",
   "execution_count": null,
   "id": "e53a1ba5",
   "metadata": {},
   "outputs": [],
   "source": []
  }
 ],
 "metadata": {
  "kernelspec": {
   "display_name": "Python 3",
   "language": "python",
   "name": "python3"
  },
  "language_info": {
   "codemirror_mode": {
    "name": "ipython",
    "version": 3
   },
   "file_extension": ".py",
   "mimetype": "text/x-python",
   "name": "python",
   "nbconvert_exporter": "python",
   "pygments_lexer": "ipython3",
   "version": "3.7.6"
  }
 },
 "nbformat": 4,
 "nbformat_minor": 5
}
