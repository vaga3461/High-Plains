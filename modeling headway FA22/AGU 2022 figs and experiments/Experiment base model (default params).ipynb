{
 "cells": [
  {
   "cell_type": "code",
   "execution_count": 1,
   "id": "e7d773a2",
   "metadata": {},
   "outputs": [],
   "source": [
    "# here we're going to just try writing something from scratch"
   ]
  },
  {
   "cell_type": "code",
   "execution_count": 2,
   "id": "25de3fa5",
   "metadata": {},
   "outputs": [],
   "source": [
    "import numpy as np\n",
    "import matplotlib.pyplot as plt"
   ]
  },
  {
   "cell_type": "code",
   "execution_count": 3,
   "id": "ce873636",
   "metadata": {},
   "outputs": [],
   "source": [
    "# set up arrays\n",
    "dx = 1000\n",
    "x = np.arange(0, 100000, dx)\n",
    "x_node = x + (dx/2)\n",
    "\n",
    "Hstar = 0.5\n",
    "etab = np.zeros(len(x)) # bedrock elevation, m\n",
    "etab[:] = np.linspace(10, 0.1, len(x)) # need to start with slight bedrock slope\n",
    "H = Hstar + np.zeros(len(x))\n",
    "eta = etab + H"
   ]
  },
  {
   "cell_type": "code",
   "execution_count": 4,
   "id": "063ff069",
   "metadata": {},
   "outputs": [],
   "source": [
    "# set up parameters\n",
    "K_ig = np.zeros(len(x))\n",
    "K_ig[:24] = 1e-7\n",
    "K_sed = np.zeros(len(x))\n",
    "K_sed[24:] = 1e-6\n",
    "\n",
    "beta_ig = np.zeros(len(x))\n",
    "beta_ig[:24] = 4e-7\n",
    "beta_sed = np.zeros(len(x))\n",
    "beta_sed[24:] = 4e-6\n",
    "\n",
    "# psi = np.zeros(len(x))\n",
    "# psi[:14] = 4e-7\n",
    "# psi[14:] = 4e-6\n",
    "psi = 4e-7\n",
    "gamma = 0.3\n",
    "\n",
    "r = 10. # runoff rate\n",
    "D = 0.015 # grain size\n",
    "phi = 0.45 # porosity\n",
    "baselevel_rate = 0.0001 # baselevel fall rate"
   ]
  },
  {
   "cell_type": "code",
   "execution_count": 5,
   "id": "d154296e",
   "metadata": {},
   "outputs": [],
   "source": [
    "kqs = 0.041\n",
    "I = 0.01\n",
    "kxb = 25\n",
    "Pxb = 1./5.\n",
    "# Pxb = 1\n",
    "kb = 8.3e-8\n",
    "\n",
    "B_valley = kxb * (x_node**Pxb)\n",
    "B_basin = (2./3.) * x_node\n",
    "\n",
    "area = (1./3.) * x**2\n",
    "# Q = r * x * B\n",
    "Q = r * area"
   ]
  },
  {
   "cell_type": "code",
   "execution_count": 6,
   "id": "a2ad3f1d",
   "metadata": {},
   "outputs": [
    {
     "data": {
      "text/plain": [
       "100"
      ]
     },
     "execution_count": 6,
     "metadata": {},
     "output_type": "execute_result"
    }
   ],
   "source": [
    "len(eta)"
   ]
  },
  {
   "cell_type": "code",
   "execution_count": 7,
   "id": "ad0248d7",
   "metadata": {},
   "outputs": [],
   "source": [
    "def model(x, dx, x_node,\n",
    "          K_ig, K_sed, beta_ig, beta_sed,\n",
    "          D, phi, Hstar, psi, gamma,\n",
    "          kb, kqs, I, r, B_valley, B_basin, Q,\n",
    "          etab, H, eta,\n",
    "          baselevel_rate,\n",
    "          num_steps = 1):\n",
    "    \n",
    "    q = Q/B_valley\n",
    "    # dt = 0.2 * dx * dx / (kqs * q[-1]) # try changing to 10, 5, or 1 if this is unstable\n",
    "    dt = 10.\n",
    "    \n",
    "    run_duration = dt * num_steps\n",
    "    cum_time = 0.0\n",
    "    \n",
    "    Qs = np.zeros(len(x))\n",
    "    qs = np.zeros(len(x))\n",
    "    Eb_p_ig = np.zeros(len(x))\n",
    "    Eb_p_sed = np.zeros(len(x))\n",
    "    Eb_a_ig = np.zeros(len(x))\n",
    "    Eb_a_sed = np.zeros(len(x))\n",
    "    Eb = np.zeros(len(x))\n",
    "    Eh = np.zeros(len(x))\n",
    "    E = np.zeros(len(x))\n",
    "    ql = np.zeros(len(x))\n",
    "    \n",
    "    H[-1] = 0\n",
    "    E[-1] = baselevel_rate\n",
    "    q[0] = 0\n",
    "    Qs[0] = 0\n",
    "    ql[0] = 0\n",
    "    \n",
    "    while cum_time < run_duration:\n",
    "        \n",
    "        # drop baselevel\n",
    "        eta[-1] -= baselevel_rate * dt\n",
    "        \n",
    "        # set boundary conditions\n",
    "        etab[-1] = eta[-1]\n",
    "        \n",
    "        # calc slope\n",
    "        S = -np.diff(eta)/dx\n",
    "        \n",
    "        # calc bed exposure\n",
    "        alpha = np.exp(-H/Hstar)\n",
    "        \n",
    "        # calc Rh\n",
    "#         width = (kb * Q[1:] * (S ** (7/6))) / (D**(3/2))\n",
    "#         depth = (0.09801 * D) / S\n",
    "#         Rh_efficiency = 1 - np.exp(-width/(2*depth))\n",
    "        \n",
    "        # calc sed transport\n",
    "        Qs[1:] = kqs * I * Q[1:] * S**(7./6.) * (1 - alpha[:-1]) # * Rh_efficiency\n",
    "        qs[1:] = Qs[1:] / B_valley[1:]\n",
    "        \n",
    "        # calc bedrock erosion\n",
    "        Eb_p_ig[:-1] = K_ig[1:] * Q[1:] * S * alpha[:-1]\n",
    "        Eb_p_sed[:-1] = K_sed[1:] * Q[1:] * S * alpha[:-1]\n",
    "        Eb_a_ig[:-1] = beta_ig[1:] * Qs[1:] * alpha[:-1]\n",
    "        Eb_a_sed[:-1] = beta_sed[1:] * Qs[1:] * alpha[:-1]\n",
    "        Eb[:-1] = (Eb_p_ig[:-1] + Eb_p_sed[:-1] + Eb_a_ig[:-1] + Eb_a_sed[:-1]) / B_valley[:-1]\n",
    "        \n",
    "        # calc grain attrition\n",
    "        atr = Qs * psi\n",
    "        \n",
    "        # calc equilibrium lateral supply\n",
    "        ql[1:24] = ((baselevel_rate * gamma) / psi) * (1 - np.exp(-psi/(3 * x[1:24])))\n",
    "        ql[24:] = 0\n",
    "        \n",
    "        # calc sediment erosion rate\n",
    "        Eh[:-1] = 1/((1 - phi) * B_valley[:-1]) * (np.diff(Qs)/dx + atr[1:] - Eb_p_ig[:-1] - ql[1:])\n",
    "        \n",
    "        # calc total erosion rate\n",
    "        E[:-1] = Eb[:-1] + Eh[:-1]\n",
    "        \n",
    "        # update topography\n",
    "        etab[:-1] -= Eb[:-1] * dt\n",
    "        H[:-1] -= Eh[:-1] * dt\n",
    "        H[H<0] = 0\n",
    "        eta[:-1] = etab[:-1] + H[:-1]\n",
    "        \n",
    "        # update elapsed time\n",
    "        cum_time += dt\n",
    "        \n",
    "    print(cum_time)\n",
    "        \n",
    "    return (dt, S, q, alpha, Qs, qs, Eb_p_ig, Eb_p_sed, Eb_a_ig, Eb_a_sed, Eb, atr, ql, Eh, E, etab, H, eta)"
   ]
  },
  {
   "cell_type": "code",
   "execution_count": 8,
   "id": "6fe3578c",
   "metadata": {},
   "outputs": [
    {
     "name": "stdout",
     "output_type": "stream",
     "text": [
      "50000000.0\n"
     ]
    }
   ],
   "source": [
    "#now write a test\n",
    "num_steps = 5000000\n",
    "test_run = [x, dx, x_node, \n",
    "            K_ig, K_sed, beta_ig, beta_sed, \n",
    "            D, phi, Hstar, psi, gamma,\n",
    "            kb, kqs, I, r, B_valley, B_basin, Q,\n",
    "            etab, H, eta,\n",
    "            baselevel_rate,\n",
    "            num_steps]\n",
    "\n",
    "# and run it\n",
    "(dt, S, q, alpha, Qs, qs, Eb_p_ig, Eb_p_sed, Eb_a_ig, Eb_a_sed, Eb, atr, ql, Eh, E, etab, H, eta) = model(*test_run)"
   ]
  },
  {
   "cell_type": "code",
   "execution_count": 9,
   "id": "c06bce00",
   "metadata": {},
   "outputs": [
    {
     "data": {
      "text/plain": [
       "10.0"
      ]
     },
     "execution_count": 9,
     "metadata": {},
     "output_type": "execute_result"
    }
   ],
   "source": [
    "dt"
   ]
  },
  {
   "cell_type": "code",
   "execution_count": 10,
   "id": "c33469e6",
   "metadata": {
    "scrolled": true
   },
   "outputs": [
    {
     "data": {
      "text/plain": [
       "array([1.e-04, 1.e-04, 1.e-04, 1.e-04, 1.e-04, 1.e-04, 1.e-04, 1.e-04,\n",
       "       1.e-04, 1.e-04, 1.e-04, 1.e-04, 1.e-04, 1.e-04, 1.e-04, 1.e-04,\n",
       "       1.e-04, 1.e-04, 1.e-04, 1.e-04, 1.e-04, 1.e-04, 1.e-04, 1.e-04,\n",
       "       1.e-04, 1.e-04, 1.e-04, 1.e-04, 1.e-04, 1.e-04, 1.e-04, 1.e-04,\n",
       "       1.e-04, 1.e-04, 1.e-04, 1.e-04, 1.e-04, 1.e-04, 1.e-04, 1.e-04,\n",
       "       1.e-04, 1.e-04, 1.e-04, 1.e-04, 1.e-04, 1.e-04, 1.e-04, 1.e-04,\n",
       "       1.e-04, 1.e-04, 1.e-04, 1.e-04, 1.e-04, 1.e-04, 1.e-04, 1.e-04,\n",
       "       1.e-04, 1.e-04, 1.e-04, 1.e-04, 1.e-04, 1.e-04, 1.e-04, 1.e-04,\n",
       "       1.e-04, 1.e-04, 1.e-04, 1.e-04, 1.e-04, 1.e-04, 1.e-04, 1.e-04,\n",
       "       1.e-04, 1.e-04, 1.e-04, 1.e-04, 1.e-04, 1.e-04, 1.e-04, 1.e-04,\n",
       "       1.e-04, 1.e-04, 1.e-04, 1.e-04, 1.e-04, 1.e-04, 1.e-04, 1.e-04,\n",
       "       1.e-04, 1.e-04, 1.e-04, 1.e-04, 1.e-04, 1.e-04, 1.e-04, 1.e-04,\n",
       "       1.e-04, 1.e-04, 1.e-04, 1.e-04])"
      ]
     },
     "execution_count": 10,
     "metadata": {},
     "output_type": "execute_result"
    }
   ],
   "source": [
    "E"
   ]
  },
  {
   "cell_type": "code",
   "execution_count": 11,
   "id": "bd1241ad",
   "metadata": {},
   "outputs": [
    {
     "data": {
      "text/plain": [
       "<matplotlib.legend.Legend at 0x7f7910954e50>"
      ]
     },
     "execution_count": 11,
     "metadata": {},
     "output_type": "execute_result"
    },
    {
     "data": {
      "image/png": "[encoded data removed]",
      "text/plain": [
       "<Figure size 432x288 with 1 Axes>"
      ]
     },
     "metadata": {
      "needs_background": "light"
     },
     "output_type": "display_data"
    }
   ],
   "source": [
    "plt.plot(x, eta, label = \"topography\")\n",
    "plt.plot(x, etab, label = \"bedrock\")\n",
    "# plt.plot(x, H, label = \"sediment\")\n",
    "plt.legend()"
   ]
  },
  {
   "cell_type": "code",
   "execution_count": 12,
   "id": "42f25b23",
   "metadata": {},
   "outputs": [
    {
     "data": {
      "text/plain": [
       "array([0.00000000e+00, 3.33333333e+06, 1.33333333e+07, 3.00000000e+07,\n",
       "       5.33333333e+07, 8.33333333e+07, 1.20000000e+08, 1.63333333e+08,\n",
       "       2.13333333e+08, 2.70000000e+08, 3.33333333e+08, 4.03333333e+08,\n",
       "       4.80000000e+08, 5.63333333e+08, 6.53333333e+08, 7.50000000e+08,\n",
       "       8.53333333e+08, 9.63333333e+08, 1.08000000e+09, 1.20333333e+09,\n",
       "       1.33333333e+09, 1.47000000e+09, 1.61333333e+09, 1.76333333e+09,\n",
       "       1.92000000e+09, 2.08333333e+09, 2.25333333e+09, 2.43000000e+09,\n",
       "       2.61333333e+09, 2.80333333e+09, 3.00000000e+09, 3.20333333e+09,\n",
       "       3.41333333e+09, 3.63000000e+09, 3.85333333e+09, 4.08333333e+09,\n",
       "       4.32000000e+09, 4.56333333e+09, 4.81333333e+09, 5.07000000e+09,\n",
       "       5.33333333e+09, 5.60333333e+09, 5.88000000e+09, 6.16333333e+09,\n",
       "       6.45333333e+09, 6.75000000e+09, 7.05333333e+09, 7.36333333e+09,\n",
       "       7.68000000e+09, 8.00333333e+09, 8.33333333e+09, 8.67000000e+09,\n",
       "       9.01333333e+09, 9.36333333e+09, 9.72000000e+09, 1.00833333e+10,\n",
       "       1.04533333e+10, 1.08300000e+10, 1.12133333e+10, 1.16033333e+10,\n",
       "       1.20000000e+10, 1.24033333e+10, 1.28133333e+10, 1.32300000e+10,\n",
       "       1.36533333e+10, 1.40833333e+10, 1.45200000e+10, 1.49633333e+10,\n",
       "       1.54133333e+10, 1.58700000e+10, 1.63333333e+10, 1.68033333e+10,\n",
       "       1.72800000e+10, 1.77633333e+10, 1.82533333e+10, 1.87500000e+10,\n",
       "       1.92533333e+10, 1.97633333e+10, 2.02800000e+10, 2.08033333e+10,\n",
       "       2.13333333e+10, 2.18700000e+10, 2.24133333e+10, 2.29633333e+10,\n",
       "       2.35200000e+10, 2.40833333e+10, 2.46533333e+10, 2.52300000e+10,\n",
       "       2.58133333e+10, 2.64033333e+10, 2.70000000e+10, 2.76033333e+10,\n",
       "       2.82133333e+10, 2.88300000e+10, 2.94533333e+10, 3.00833333e+10,\n",
       "       3.07200000e+10, 3.13633333e+10, 3.20133333e+10, 3.26700000e+10])"
      ]
     },
     "execution_count": 12,
     "metadata": {},
     "output_type": "execute_result"
    }
   ],
   "source": [
    "Q"
   ]
  },
  {
   "cell_type": "code",
   "execution_count": 13,
   "id": "f0c237ac",
   "metadata": {
    "scrolled": true
   },
   "outputs": [
    {
     "name": "stdout",
     "output_type": "stream",
     "text": [
      "[ 3.21274425  4.56916021  5.94299744  7.3899716   8.9015778  10.46876542\n",
      " 12.08451576 13.74343126 15.44126467 17.17458975 18.94058147 20.73686707\n",
      " 22.56142251 24.41249847 26.2885661  28.18827637 30.11042894 32.05394801\n",
      " 34.01786313 36.00129391 38.00343753 40.02355855 42.06098044 39.47646846\n",
      " 39.45984618 39.443268   39.4267311  39.41023296 39.39377132 39.37734414\n",
      " 39.36094958 39.34458596 39.32825176 39.3119456  39.29566622 39.27941244\n",
      " 39.2631832  39.24697752 39.2307945  39.21463328 39.1984931  39.18237323\n",
      " 39.166273   39.15019179 39.13412901 39.11808411 39.10205658 39.08604596\n",
      " 39.07005178 39.05407363 39.0381111  39.02216383 39.00623146 38.99031366\n",
      " 38.97441011 38.95852052 38.94264461 38.9267821  38.91093274 38.89509629\n",
      " 38.87927253 38.86346123 38.84766218 38.8318752  38.81610008 38.80033666\n",
      " 38.78458475 38.7688442  38.75311484 38.73739652 38.72168911 38.70599246\n",
      " 38.69030645 38.67463093 38.6589658  38.64331093 38.62766621 38.61203153\n",
      " 38.59640679 38.58079189 38.56518674 38.54959123 38.53400527 38.51842879\n",
      " 38.5028617  38.48730391 38.47175536 38.45621595 38.44068563 38.42516431\n",
      " 38.40965194 38.39414845 38.37865376 38.36316783 38.34769058 38.33222197\n",
      " 38.31676193 38.30131041 38.28586736]\n"
     ]
    }
   ],
   "source": [
    "# just for kicks\n",
    "kb = 8.3e-8\n",
    "b = (kb * Q[1:] * (S ** (7/6))) / (D**(3/2))\n",
    "print(b)"
   ]
  },
  {
   "cell_type": "code",
   "execution_count": 14,
   "id": "941a743c",
   "metadata": {},
   "outputs": [
    {
     "data": {
      "text/plain": [
       "numpy.ndarray"
      ]
     },
     "execution_count": 14,
     "metadata": {},
     "output_type": "execute_result"
    }
   ],
   "source": [
    "type(b)"
   ]
  },
  {
   "cell_type": "code",
   "execution_count": 15,
   "id": "1784494f",
   "metadata": {},
   "outputs": [],
   "source": [
    "b_list = list(b)"
   ]
  },
  {
   "cell_type": "code",
   "execution_count": 16,
   "id": "0b97fad5",
   "metadata": {},
   "outputs": [
    {
     "data": {
      "text/plain": [
       "[3.2127442452367925,\n",
       " 4.569160205227182,\n",
       " 5.942997443204149,\n",
       " 7.389971602273257,\n",
       " 8.90157780053946,\n",
       " 10.46876541962121,\n",
       " 12.084515756854675,\n",
       " 13.74343126171358,\n",
       " 15.441264666111449,\n",
       " 17.174589745679462,\n",
       " 18.94058146559506,\n",
       " 20.736867066737414,\n",
       " 22.561422510339494,\n",
       " 24.412498472655365,\n",
       " 26.288566104196573,\n",
       " 28.18827636752323,\n",
       " 30.11042893967248,\n",
       " 32.05394800728792,\n",
       " 34.01786313158865,\n",
       " 36.00129390942969,\n",
       " 38.003437527081914,\n",
       " 40.0235585468559,\n",
       " 42.06098044398704,\n",
       " 39.47646846421799,\n",
       " 39.45984617690515,\n",
       " 39.44326799556199,\n",
       " 39.426731098372976,\n",
       " 39.410232962632804,\n",
       " 39.393771324230656,\n",
       " 39.37734414419695,\n",
       " 39.36094957906047,\n",
       " 39.344585958076244,\n",
       " 39.32825176153193,\n",
       " 39.31194560323458,\n",
       " 39.29566621605956,\n",
       " 39.279412438354974,\n",
       " 39.2631832021406,\n",
       " 39.24697752459531,\n",
       " 39.230794497734756,\n",
       " 39.21463328280131,\n",
       " 39.19849310146969,\n",
       " 39.18237323224339,\n",
       " 39.1662730029422,\n",
       " 39.15019178866301,\n",
       " 39.13412900510468,\n",
       " 39.11808410737052,\n",
       " 39.10205658426415,\n",
       " 39.086045958078856,\n",
       " 39.07005177895903,\n",
       " 39.05407362558682,\n",
       " 39.03811110064453,\n",
       " 39.02216383003374,\n",
       " 39.00623146106755,\n",
       " 38.99031366070695,\n",
       " 38.97441011434826,\n",
       " 38.95852052374292,\n",
       " 38.942644606760865,\n",
       " 38.92678209639254,\n",
       " 38.910932738278824,\n",
       " 38.89509629185576,\n",
       " 38.8792725271053,\n",
       " 38.863461227257424,\n",
       " 38.84766218355049,\n",
       " 38.83187519823522,\n",
       " 38.816100083491015,\n",
       " 38.80033665789402,\n",
       " 38.78458475036882,\n",
       " 38.76884419596594,\n",
       " 38.75311483763896,\n",
       " 38.737396524618255,\n",
       " 38.721689112895426,\n",
       " 38.705992464148,\n",
       " 38.690306445484545,\n",
       " 38.674630930856814,\n",
       " 38.658965796674266,\n",
       " 38.64331092692692,\n",
       " 38.627666208166225,\n",
       " 38.61203153209135,\n",
       " 38.5964067945047,\n",
       " 38.58079189489351,\n",
       " 38.56518673653076,\n",
       " 38.549591225972456,\n",
       " 38.53400527388214,\n",
       " 38.518428792336266,\n",
       " 38.50286169939034,\n",
       " 38.48730391325444,\n",
       " 38.471755355235224,\n",
       " 38.456215951222234,\n",
       " 38.44068562771569,\n",
       " 38.42516431371329,\n",
       " 38.409651942184944,\n",
       " 38.39414844548035,\n",
       " 38.3786537610455,\n",
       " 38.36316782679526,\n",
       " 38.34769058141723,\n",
       " 38.3322219677841,\n",
       " 38.316761930091374,\n",
       " 38.30131041132259,\n",
       " 38.28586736124175]"
      ]
     },
     "execution_count": 16,
     "metadata": {},
     "output_type": "execute_result"
    }
   ],
   "source": [
    "b_list"
   ]
  },
  {
   "cell_type": "code",
   "execution_count": 17,
   "id": "cdf26ffb",
   "metadata": {},
   "outputs": [
    {
     "name": "stdout",
     "output_type": "stream",
     "text": [
      "[ 0.03977399  0.09650323  0.15436658  0.20970866  0.26210174  0.31177545\n",
      "  0.3590698   0.4043045   0.44775221  0.48963916  0.53015214  0.56944591\n",
      "  0.60764961  0.64487192  0.68120504  0.71672784  0.75150834  0.78560563\n",
      "  0.81907138  0.85195106  0.8842849   0.91610875  0.94745462  1.07609573\n",
      "  1.15451574  1.23525407  1.31828786  1.40359542  1.49115614  1.58095042\n",
      "  1.67295959  1.76716581  1.86355203  1.96210196  2.06279998  2.16563109\n",
      "  2.27058092  2.37763562  2.48678191  2.59800697  2.71129845  2.82664445\n",
      "  2.94403349  3.06345445  3.1848966   3.30834958  3.43380334  3.56124814\n",
      "  3.69067458  3.8220735   3.95543605  4.09075363  4.22801788  4.3672207\n",
      "  4.5083542   4.65141071  4.79638279  4.94326318  5.09204482  5.24272084\n",
      "  5.39528453  5.54972938  5.70604903  5.86423728  6.02428807  6.18619552\n",
      "  6.34995386  6.51555748  6.68300088  6.85227872  7.02338575  7.19631686\n",
      "  7.37106706  7.54763146  7.72600528  7.90618385  8.0881626   8.27193707\n",
      "  8.45750287  8.64485573  8.83399146  9.02490596  9.21759521  9.41205528\n",
      "  9.60828231  9.80627253 10.00602225 10.20752784 10.41078574 10.61579249\n",
      " 10.82254467 11.03103893 11.241272   11.45324066 11.66694176 11.8823722\n",
      " 12.09952894 12.31840903 12.53900952]\n"
     ]
    }
   ],
   "source": [
    "# ok really going out on a limb here...\n",
    "depth = (0.09801 * D) / S\n",
    "print(depth)"
   ]
  },
  {
   "cell_type": "code",
   "execution_count": 18,
   "id": "ac38177d",
   "metadata": {},
   "outputs": [],
   "source": [
    "depth_list = list(depth)"
   ]
  },
  {
   "cell_type": "code",
   "execution_count": 19,
   "id": "64a6d559",
   "metadata": {},
   "outputs": [
    {
     "data": {
      "text/plain": [
       "[0.039773992416219046,\n",
       " 0.09650322742685717,\n",
       " 0.15436658260011973,\n",
       " 0.20970865687262835,\n",
       " 0.2621017403333966,\n",
       " 0.3117754523858114,\n",
       " 0.3590698047096578,\n",
       " 0.4043045002846523,\n",
       " 0.4477522066455826,\n",
       " 0.4896391587568938,\n",
       " 0.5301521360863118,\n",
       " 0.5694459056564657,\n",
       " 0.6076496146476462,\n",
       " 0.6448719240610705,\n",
       " 0.6812050361981126,\n",
       " 0.7167278352553956,\n",
       " 0.7515083406240346,\n",
       " 0.7856056337634074,\n",
       " 0.8190713825129131,\n",
       " 0.8519510565593612,\n",
       " 0.8842849044879953,\n",
       " 0.916108745555805,\n",
       " 0.9474546162950992,\n",
       " 1.076095734114505,\n",
       " 1.154515740415801,\n",
       " 1.235254074455538,\n",
       " 1.318287863425753,\n",
       " 1.4035954194653633,\n",
       " 1.491156140906814,\n",
       " 1.580950424881861,\n",
       " 1.6729595897036436,\n",
       " 1.7671658055271677,\n",
       " 1.8635520323202797,\n",
       " 1.9621019640711628,\n",
       " 2.062799978441096,\n",
       " 2.1656310912592427,\n",
       " 2.270580915237494,\n",
       " 2.377635622318934,\n",
       " 2.4867819094697814,\n",
       " 2.5980069672185366,\n",
       " 2.7112984510215714,\n",
       " 2.826644454724231,\n",
       " 2.944033486377753,\n",
       " 3.0634544456480035,\n",
       " 3.1848966032406527,\n",
       " 3.308349581537299,\n",
       " 3.433803336949869,\n",
       " 3.5612481431748484,\n",
       " 3.6906745760131745,\n",
       " 3.822073498779758,\n",
       " 3.9554360490894735,\n",
       " 4.09075362624109,\n",
       " 4.228017879494954,\n",
       " 4.367220697099297,\n",
       " 4.508354195956769,\n",
       " 4.6514107120126065,\n",
       " 4.796382791050862,\n",
       " 4.94326318009829,\n",
       " 5.0920448194939745,\n",
       " 5.2427208350365255,\n",
       " 5.395284531044697,\n",
       " 5.549729383140352,\n",
       " 5.706049032332807,\n",
       " 5.864237278478868,\n",
       " 6.024288074533861,\n",
       " 6.186195521449658,\n",
       " 6.34995386237045,\n",
       " 6.515557478172498,\n",
       " 6.683000882447878,\n",
       " 6.852278717186808,\n",
       " 7.02338574837733,\n",
       " 7.196316862038267,\n",
       " 7.37106706032728,\n",
       " 7.54763145754945,\n",
       " 7.726005277287956,\n",
       " 7.906183848126909,\n",
       " 8.088162601214568,\n",
       " 8.271937066689905,\n",
       " 8.457502870856358,\n",
       " 8.644855733383368,\n",
       " 8.833991464532078,\n",
       " 9.024905962608903,\n",
       " 9.217595211263587,\n",
       " 9.412055277600663,\n",
       " 9.608282308902421,\n",
       " 9.806272531587348,\n",
       " 10.0060222484548,\n",
       " 10.207527836261367,\n",
       " 10.410785744598748,\n",
       " 10.615792493566117,\n",
       " 10.822544671558566,\n",
       " 11.031038934572914,\n",
       " 11.241272003118587,\n",
       " 11.453240661670785,\n",
       " 11.66694175702786,\n",
       " 11.882372195888804,\n",
       " 12.099528944079752,\n",
       " 12.31840902582404,\n",
       " 12.539009520181198]"
      ]
     },
     "execution_count": 19,
     "metadata": {},
     "output_type": "execute_result"
    }
   ],
   "source": [
    "depth_list"
   ]
  },
  {
   "cell_type": "code",
   "execution_count": 20,
   "id": "a930af00",
   "metadata": {},
   "outputs": [
    {
     "data": {
      "text/plain": [
       "<matplotlib.legend.Legend at 0x7f791183be50>"
      ]
     },
     "execution_count": 20,
     "metadata": {},
     "output_type": "execute_result"
    },
    {
     "data": {
      "image/png": "[encoded data removed]",
      "text/plain": [
       "<Figure size 432x288 with 1 Axes>"
      ]
     },
     "metadata": {
      "needs_background": "light"
     },
     "output_type": "display_data"
    }
   ],
   "source": [
    "plt.plot(x[1:], b, label = 'width')\n",
    "plt.plot(x[1:], depth, label = 'depth')\n",
    "plt.ylabel('width or depth (m)')\n",
    "plt.xlabel('distance (m)')\n",
    "plt.legend()"
   ]
  },
  {
   "cell_type": "code",
   "execution_count": 21,
   "id": "5190c632",
   "metadata": {},
   "outputs": [
    {
     "data": {
      "text/plain": [
       "[<matplotlib.lines.Line2D at 0x7f7911959650>]"
      ]
     },
     "execution_count": 21,
     "metadata": {},
     "output_type": "execute_result"
    },
    {
     "data": {
      "image/png": "[encoded data removed]",
      "text/plain": [
       "<Figure size 432x288 with 1 Axes>"
      ]
     },
     "metadata": {
      "needs_background": "light"
     },
     "output_type": "display_data"
    }
   ],
   "source": [
    "plt.plot(x[1:], S)"
   ]
  },
  {
   "cell_type": "code",
   "execution_count": 22,
   "id": "ec103b47",
   "metadata": {},
   "outputs": [
    {
     "data": {
      "text/plain": [
       "array([0.0369626 , 0.01523421, 0.00952376, 0.00701044, 0.00560908,\n",
       "       0.00471541, 0.00409433, 0.00363624, 0.0032834 , 0.00300252,\n",
       "       0.00277307, 0.00258172, 0.0024194 , 0.00227976, 0.00215816,\n",
       "       0.0020512 , 0.00195627, 0.00187136, 0.0017949 , 0.00172563,\n",
       "       0.00166253, 0.00160478, 0.00155168, 0.00136619, 0.00127339,\n",
       "       0.00119016, 0.0011152 , 0.00104742, 0.00098591, 0.00092992,\n",
       "       0.00087877, 0.00083193, 0.0007889 , 0.00074927, 0.0007127 ,\n",
       "       0.00067886, 0.00064748, 0.00061832, 0.00059119, 0.00056588,\n",
       "       0.00054223, 0.0005201 , 0.00049937, 0.0004799 , 0.0004616 ,\n",
       "       0.00044438, 0.00042814, 0.00041282, 0.00039834, 0.00038465,\n",
       "       0.00037168, 0.00035938, 0.00034772, 0.00033663, 0.00032609,\n",
       "       0.00031607, 0.00030651, 0.0002974 , 0.00028872, 0.00028042,\n",
       "       0.00027249, 0.0002649 , 0.00025765, 0.0002507 , 0.00024404,\n",
       "       0.00023765, 0.00023152, 0.00022564, 0.00021998, 0.00021455,\n",
       "       0.00020932, 0.00020429, 0.00019945, 0.00019478, 0.00019029,\n",
       "       0.00018595, 0.00018177, 0.00017773, 0.00017383, 0.00017006,\n",
       "       0.00016642, 0.0001629 , 0.00015949, 0.0001562 , 0.00015301,\n",
       "       0.00014992, 0.00014693, 0.00014403, 0.00014121, 0.00013849,\n",
       "       0.00013584, 0.00013327, 0.00013078, 0.00012836, 0.00012601,\n",
       "       0.00012373, 0.0001215 , 0.00011935, 0.00011725])"
      ]
     },
     "execution_count": 22,
     "metadata": {},
     "output_type": "execute_result"
    }
   ],
   "source": [
    "S"
   ]
  },
  {
   "cell_type": "code",
   "execution_count": 23,
   "id": "1294a26e",
   "metadata": {},
   "outputs": [
    {
     "data": {
      "text/plain": [
       "array([0.00000000e+00, 1.00000008e-08, 5.00000041e-09, 3.33333361e-09,\n",
       "       2.50000021e-09, 2.00000017e-09, 1.66666680e-09, 1.42857393e-09,\n",
       "       1.25000010e-09, 1.11111120e-09, 1.00000008e-09, 9.09089470e-10,\n",
       "       8.33333402e-10, 7.69234676e-10, 7.14286963e-10, 6.66666722e-10,\n",
       "       6.25000052e-10, 5.88237792e-10, 5.55555602e-10, 5.26312327e-10,\n",
       "       5.00000041e-10, 4.76194084e-10, 4.54544735e-10, 4.34785541e-10,\n",
       "       0.00000000e+00, 0.00000000e+00, 0.00000000e+00, 0.00000000e+00,\n",
       "       0.00000000e+00, 0.00000000e+00, 0.00000000e+00, 0.00000000e+00,\n",
       "       0.00000000e+00, 0.00000000e+00, 0.00000000e+00, 0.00000000e+00,\n",
       "       0.00000000e+00, 0.00000000e+00, 0.00000000e+00, 0.00000000e+00,\n",
       "       0.00000000e+00, 0.00000000e+00, 0.00000000e+00, 0.00000000e+00,\n",
       "       0.00000000e+00, 0.00000000e+00, 0.00000000e+00, 0.00000000e+00,\n",
       "       0.00000000e+00, 0.00000000e+00, 0.00000000e+00, 0.00000000e+00,\n",
       "       0.00000000e+00, 0.00000000e+00, 0.00000000e+00, 0.00000000e+00,\n",
       "       0.00000000e+00, 0.00000000e+00, 0.00000000e+00, 0.00000000e+00,\n",
       "       0.00000000e+00, 0.00000000e+00, 0.00000000e+00, 0.00000000e+00,\n",
       "       0.00000000e+00, 0.00000000e+00, 0.00000000e+00, 0.00000000e+00,\n",
       "       0.00000000e+00, 0.00000000e+00, 0.00000000e+00, 0.00000000e+00,\n",
       "       0.00000000e+00, 0.00000000e+00, 0.00000000e+00, 0.00000000e+00,\n",
       "       0.00000000e+00, 0.00000000e+00, 0.00000000e+00, 0.00000000e+00,\n",
       "       0.00000000e+00, 0.00000000e+00, 0.00000000e+00, 0.00000000e+00,\n",
       "       0.00000000e+00, 0.00000000e+00, 0.00000000e+00, 0.00000000e+00,\n",
       "       0.00000000e+00, 0.00000000e+00, 0.00000000e+00, 0.00000000e+00,\n",
       "       0.00000000e+00, 0.00000000e+00, 0.00000000e+00, 0.00000000e+00,\n",
       "       0.00000000e+00, 0.00000000e+00, 0.00000000e+00, 0.00000000e+00])"
      ]
     },
     "execution_count": 23,
     "metadata": {},
     "output_type": "execute_result"
    }
   ],
   "source": [
    "ql"
   ]
  },
  {
   "cell_type": "code",
   "execution_count": 24,
   "id": "11e64dc3",
   "metadata": {},
   "outputs": [],
   "source": [
    "small_a_dist = 0.02 * x**(2)"
   ]
  },
  {
   "cell_type": "code",
   "execution_count": 25,
   "id": "bbcf8864",
   "metadata": {},
   "outputs": [
    {
     "data": {
      "text/plain": [
       "array([0.0000e+00, 2.0000e+04, 8.0000e+04, 1.8000e+05, 3.2000e+05,\n",
       "       5.0000e+05, 7.2000e+05, 9.8000e+05, 1.2800e+06, 1.6200e+06,\n",
       "       2.0000e+06, 2.4200e+06, 2.8800e+06, 3.3800e+06, 3.9200e+06,\n",
       "       4.5000e+06, 5.1200e+06, 5.7800e+06, 6.4800e+06, 7.2200e+06,\n",
       "       8.0000e+06, 8.8200e+06, 9.6800e+06, 1.0580e+07, 1.1520e+07,\n",
       "       1.2500e+07, 1.3520e+07, 1.4580e+07, 1.5680e+07, 1.6820e+07,\n",
       "       1.8000e+07, 1.9220e+07, 2.0480e+07, 2.1780e+07, 2.3120e+07,\n",
       "       2.4500e+07, 2.5920e+07, 2.7380e+07, 2.8880e+07, 3.0420e+07,\n",
       "       3.2000e+07, 3.3620e+07, 3.5280e+07, 3.6980e+07, 3.8720e+07,\n",
       "       4.0500e+07, 4.2320e+07, 4.4180e+07, 4.6080e+07, 4.8020e+07,\n",
       "       5.0000e+07, 5.2020e+07, 5.4080e+07, 5.6180e+07, 5.8320e+07,\n",
       "       6.0500e+07, 6.2720e+07, 6.4980e+07, 6.7280e+07, 6.9620e+07,\n",
       "       7.2000e+07, 7.4420e+07, 7.6880e+07, 7.9380e+07, 8.1920e+07,\n",
       "       8.4500e+07, 8.7120e+07, 8.9780e+07, 9.2480e+07, 9.5220e+07,\n",
       "       9.8000e+07, 1.0082e+08, 1.0368e+08, 1.0658e+08, 1.0952e+08,\n",
       "       1.1250e+08, 1.1552e+08, 1.1858e+08, 1.2168e+08, 1.2482e+08,\n",
       "       1.2800e+08, 1.3122e+08, 1.3448e+08, 1.3778e+08, 1.4112e+08,\n",
       "       1.4450e+08, 1.4792e+08, 1.5138e+08, 1.5488e+08, 1.5842e+08,\n",
       "       1.6200e+08, 1.6562e+08, 1.6928e+08, 1.7298e+08, 1.7672e+08,\n",
       "       1.8050e+08, 1.8432e+08, 1.8818e+08, 1.9208e+08, 1.9602e+08])"
      ]
     },
     "execution_count": 25,
     "metadata": {},
     "output_type": "execute_result"
    }
   ],
   "source": [
    "small_a_dist"
   ]
  },
  {
   "cell_type": "code",
   "execution_count": 26,
   "id": "4958ad65",
   "metadata": {},
   "outputs": [
    {
     "data": {
      "text/plain": [
       "array([    0,  1000,  2000,  3000,  4000,  5000,  6000,  7000,  8000,\n",
       "        9000, 10000, 11000, 12000, 13000, 14000, 15000, 16000, 17000,\n",
       "       18000, 19000, 20000, 21000, 22000, 23000, 24000, 25000, 26000,\n",
       "       27000, 28000, 29000, 30000, 31000, 32000, 33000, 34000, 35000,\n",
       "       36000, 37000, 38000, 39000, 40000, 41000, 42000, 43000, 44000,\n",
       "       45000, 46000, 47000, 48000, 49000, 50000, 51000, 52000, 53000,\n",
       "       54000, 55000, 56000, 57000, 58000, 59000, 60000, 61000, 62000,\n",
       "       63000, 64000, 65000, 66000, 67000, 68000, 69000, 70000, 71000,\n",
       "       72000, 73000, 74000, 75000, 76000, 77000, 78000, 79000, 80000,\n",
       "       81000, 82000, 83000, 84000, 85000, 86000, 87000, 88000, 89000,\n",
       "       90000, 91000, 92000, 93000, 94000, 95000, 96000, 97000, 98000,\n",
       "       99000])"
      ]
     },
     "execution_count": 26,
     "metadata": {},
     "output_type": "execute_result"
    }
   ],
   "source": [
    "x"
   ]
  },
  {
   "cell_type": "code",
   "execution_count": 27,
   "id": "6387883d",
   "metadata": {},
   "outputs": [],
   "source": [
    "small_area = area[23]\n",
    "small_a_array = np.linspace(0, small_area, len(x))\n",
    "S_pred_array = ((baselevel_rate * gamma * small_a_array[1:])/(kqs * I * Q[1:]))**(6./7.)"
   ]
  },
  {
   "cell_type": "code",
   "execution_count": 28,
   "id": "c926e74b",
   "metadata": {},
   "outputs": [
    {
     "data": {
      "text/plain": [
       "[<matplotlib.lines.Line2D at 0x7f7911a58b50>]"
      ]
     },
     "execution_count": 28,
     "metadata": {},
     "output_type": "execute_result"
    },
    {
     "data": {
      "image/png": "[encoded data removed]",
      "text/plain": [
       "<Figure size 432x288 with 1 Axes>"
      ]
     },
     "metadata": {
      "needs_background": "light"
     },
     "output_type": "display_data"
    }
   ],
   "source": [
    "plt.plot(S_pred_array)\n",
    "plt.plot(S)"
   ]
  },
  {
   "cell_type": "code",
   "execution_count": 29,
   "id": "f4cdc349",
   "metadata": {},
   "outputs": [
    {
     "data": {
      "text/plain": [
       "array([0.06212668, 0.03429671, 0.02422797, 0.01893332, 0.01563727,\n",
       "       0.01337493, 0.01171948, 0.01045204, 0.00944835, 0.00863247,\n",
       "       0.00795529, 0.00738356, 0.00689397, 0.00646968, 0.00609818,\n",
       "       0.00576999, 0.00547782, 0.00521591, 0.00497971, 0.00476551,\n",
       "       0.00457033, 0.00439167, 0.00422749, 0.00407605, 0.0039359 ,\n",
       "       0.00380578, 0.00368464, 0.00357155, 0.00346573, 0.00336647,\n",
       "       0.00327317, 0.00318529, 0.00310238, 0.003024  , 0.00294979,\n",
       "       0.00287942, 0.00281258, 0.00274902, 0.00268849, 0.00263078,\n",
       "       0.00257568, 0.00252303, 0.00247265, 0.0024244 , 0.00237815,\n",
       "       0.00233377, 0.00229114, 0.00225016, 0.00221075, 0.00217279,\n",
       "       0.00213622, 0.00210096, 0.00206694, 0.00203409, 0.00200234,\n",
       "       0.00197166, 0.00194197, 0.00191324, 0.00188541, 0.00185844,\n",
       "       0.0018323 , 0.00180693, 0.00178232, 0.00175843, 0.00173521,\n",
       "       0.00171265, 0.00169072, 0.00166938, 0.00164862, 0.00162842,\n",
       "       0.00160874, 0.00158957, 0.00157088, 0.00155267, 0.00153491,\n",
       "       0.00151758, 0.00150067, 0.00148417, 0.00146805, 0.00145231,\n",
       "       0.00143692, 0.00142189, 0.00140719, 0.00139282, 0.00137877,\n",
       "       0.00136501, 0.00135155, 0.00133838, 0.00132548, 0.00131284,\n",
       "       0.00130047, 0.00128834, 0.00127646, 0.00126481, 0.00125339,\n",
       "       0.00124219, 0.00123121, 0.00122043, 0.00120986])"
      ]
     },
     "execution_count": 29,
     "metadata": {},
     "output_type": "execute_result"
    }
   ],
   "source": [
    "S_pred_array"
   ]
  },
  {
   "cell_type": "code",
   "execution_count": 30,
   "id": "04aa2479",
   "metadata": {},
   "outputs": [
    {
     "name": "stdout",
     "output_type": "stream",
     "text": [
      "[0.02516409 0.01906251 0.01470422 0.01192288 0.01002819 0.00865951\n",
      " 0.00762515 0.0068158  0.00616495 0.00562996 0.00518222 0.00480184\n",
      " 0.00447457 0.00418992 0.00394002 0.0037188  0.00352155 0.00334455\n",
      " 0.00318481 0.00303989 0.0029078  0.0027869  0.00267581 0.00270987\n",
      " 0.00266251 0.00261562 0.00256944 0.00252414 0.00247981 0.00243655\n",
      " 0.00239439 0.00235337 0.00231348 0.00227473 0.00223709 0.00220056\n",
      " 0.00216511 0.0021307  0.0020973  0.0020649  0.00203345 0.00200292\n",
      " 0.00197328 0.0019445  0.00191655 0.00188939 0.001863   0.00183735\n",
      " 0.0018124  0.00178814 0.00176454 0.00174158 0.00171922 0.00169745\n",
      " 0.00167625 0.00165559 0.00163546 0.00161583 0.00159669 0.00157802\n",
      " 0.00155981 0.00154203 0.00152467 0.00150773 0.00149117 0.001475\n",
      " 0.0014592  0.00144375 0.00142864 0.00141387 0.00139942 0.00138528\n",
      " 0.00137144 0.00135789 0.00134462 0.00133163 0.00131891 0.00130644\n",
      " 0.00129422 0.00128225 0.0012705  0.00125899 0.0012477  0.00123662\n",
      " 0.00122576 0.00121509 0.00120463 0.00119435 0.00118426 0.00117436\n",
      " 0.00116463 0.00115507 0.00114568 0.00113645 0.00112738 0.00111847\n",
      " 0.0011097  0.00110108 0.00109261]\n"
     ]
    }
   ],
   "source": [
    "difference = S_pred_array - S\n",
    "print(difference)"
   ]
  },
  {
   "cell_type": "code",
   "execution_count": 31,
   "id": "39682ef5",
   "metadata": {},
   "outputs": [
    {
     "data": {
      "text/plain": [
       "56333333.33333333"
      ]
     },
     "execution_count": 31,
     "metadata": {},
     "output_type": "execute_result"
    }
   ],
   "source": [
    "area[13]"
   ]
  },
  {
   "cell_type": "code",
   "execution_count": 32,
   "id": "05953023",
   "metadata": {},
   "outputs": [
    {
     "data": {
      "text/plain": [
       "100"
      ]
     },
     "execution_count": 32,
     "metadata": {},
     "output_type": "execute_result"
    }
   ],
   "source": [
    "len(x)"
   ]
  },
  {
   "cell_type": "code",
   "execution_count": 33,
   "id": "b9cbce84",
   "metadata": {},
   "outputs": [],
   "source": [
    "abrasion_fraction = ((Eb_a_ig[:-1] + Eb_a_sed[:-1])/B_valley[1:])/Eb[:-1]\n",
    "plucking_fraction = ((Eb_p_ig[:-1] + Eb_p_sed[:-1])/B_valley[1:])/Eb[:-1]"
   ]
  },
  {
   "cell_type": "code",
   "execution_count": 34,
   "id": "bf9bcea8",
   "metadata": {},
   "outputs": [
    {
     "data": {
      "text/plain": [
       "[<matplotlib.lines.Line2D at 0x7f7911b58c90>]"
      ]
     },
     "execution_count": 34,
     "metadata": {},
     "output_type": "execute_result"
    },
    {
     "data": {
      "image/png": "[encoded data removed]",
      "text/plain": [
       "<Figure size 432x288 with 1 Axes>"
      ]
     },
     "metadata": {
      "needs_background": "light"
     },
     "output_type": "display_data"
    }
   ],
   "source": [
    "plt.plot(abrasion_fraction)\n",
    "#plt.plot(plucking_fraction)"
   ]
  },
  {
   "cell_type": "code",
   "execution_count": 35,
   "id": "f51d2ff6",
   "metadata": {},
   "outputs": [
    {
     "ename": "NameError",
     "evalue": "name 'K' is not defined",
     "output_type": "error",
     "traceback": [
      "\u001b[0;31m---------------------------------------------------------------------------\u001b[0m",
      "\u001b[0;31mNameError\u001b[0m                                 Traceback (most recent call last)",
      "\u001b[0;32m<ipython-input-35-41688f3a1b32>\u001b[0m in \u001b[0;36m<module>\u001b[0;34m\u001b[0m\n\u001b[1;32m      1\u001b[0m \u001b[0mS_0\u001b[0m \u001b[0;34m=\u001b[0m \u001b[0;36m0.001\u001b[0m\u001b[0;34m\u001b[0m\u001b[0;34m\u001b[0m\u001b[0m\n\u001b[0;32m----> 2\u001b[0;31m \u001b[0mprefac\u001b[0m \u001b[0;34m=\u001b[0m \u001b[0;34m(\u001b[0m\u001b[0mbaselevel_rate\u001b[0m \u001b[0;34m*\u001b[0m \u001b[0marea\u001b[0m\u001b[0;34m[\u001b[0m\u001b[0;36m1\u001b[0m\u001b[0;34m:\u001b[0m\u001b[0;34m]\u001b[0m \u001b[0;34m*\u001b[0m \u001b[0mgamma\u001b[0m\u001b[0;34m)\u001b[0m\u001b[0;34m/\u001b[0m\u001b[0;34m(\u001b[0m\u001b[0mkqs\u001b[0m \u001b[0;34m*\u001b[0m \u001b[0mI\u001b[0m \u001b[0;34m*\u001b[0m \u001b[0mQ\u001b[0m\u001b[0;34m[\u001b[0m\u001b[0;36m1\u001b[0m\u001b[0;34m:\u001b[0m\u001b[0;34m]\u001b[0m \u001b[0;34m*\u001b[0m \u001b[0mS_0\u001b[0m \u001b[0;34m*\u001b[0m \u001b[0mK\u001b[0m\u001b[0;34m)\u001b[0m\u001b[0;34m\u001b[0m\u001b[0;34m\u001b[0m\u001b[0m\n\u001b[0m\u001b[1;32m      3\u001b[0m \u001b[0mnum\u001b[0m \u001b[0;34m=\u001b[0m \u001b[0mK\u001b[0m \u001b[0;34m*\u001b[0m \u001b[0mnp\u001b[0m\u001b[0;34m.\u001b[0m\u001b[0mexp\u001b[0m\u001b[0;34m(\u001b[0m\u001b[0;34m-\u001b[0m\u001b[0mbeta\u001b[0m\u001b[0;34m)\u001b[0m\u001b[0;34m\u001b[0m\u001b[0;34m\u001b[0m\u001b[0m\n",
      "\u001b[0;31mNameError\u001b[0m: name 'K' is not defined"
     ]
    }
   ],
   "source": [
    "S_0 = 0.001\n",
    "prefac = (baselevel_rate * area[1:] * gamma)/(kqs * I * Q[1:] * S_0 * K)\n",
    "num = K * np.exp(-beta)"
   ]
  }
 ],
 "metadata": {
  "kernelspec": {
   "display_name": "Python 3",
   "language": "python",
   "name": "python3"
  },
  "language_info": {
   "codemirror_mode": {
    "name": "ipython",
    "version": 3
   },
   "file_extension": ".py",
   "mimetype": "text/x-python",
   "name": "python",
   "nbconvert_exporter": "python",
   "pygments_lexer": "ipython3",
   "version": "3.7.6"
  }
 },
 "nbformat": 4,
 "nbformat_minor": 5
}
