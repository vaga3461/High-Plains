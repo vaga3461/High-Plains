{
 "cells": [
  {
   "cell_type": "code",
   "execution_count": 1,
   "id": "c40f9357",
   "metadata": {},
   "outputs": [],
   "source": [
    "# this notebook will attempt to write a simple stream power function"
   ]
  },
  {
   "cell_type": "code",
   "execution_count": 2,
   "id": "c79d58ce",
   "metadata": {},
   "outputs": [],
   "source": [
    "import numpy as np\n",
    "import matplotlib.pyplot as plt"
   ]
  },
  {
   "cell_type": "code",
   "execution_count": 3,
   "id": "68e40321",
   "metadata": {},
   "outputs": [],
   "source": [
    "dx = 1000\n",
    "x = np.arange(0, 100000, dx)\n",
    "\n",
    "K = np.zeros(len(x))\n",
    "K[:24] = 1e-7\n",
    "K[24:] = 1e-6\n",
    "\n",
    "r = 10.\n",
    "area = (1./3.) * x**2\n",
    "\n",
    "Q = r * area\n",
    "baselevel_rate = 0.0001"
   ]
  },
  {
   "cell_type": "code",
   "execution_count": 4,
   "id": "ac3e1b70",
   "metadata": {},
   "outputs": [],
   "source": [
    "eta = np.zeros(len(x))\n",
    "eta[:] = np.linspace(10, 0.1, len(x)) # need to start with slight bedrock slope"
   ]
  },
  {
   "cell_type": "code",
   "execution_count": 5,
   "id": "a319ad73",
   "metadata": {},
   "outputs": [],
   "source": [
    "def stream_power(dx, x, K, r, Q, baselevel_rate, eta, num_steps):\n",
    "    \n",
    "    E = np.zeros(len(x)) # erosion RATE\n",
    "    E[-1] = baselevel_rate\n",
    "    \n",
    "    dt = 0.01\n",
    "    \n",
    "    for i in range(num_steps):\n",
    "        \n",
    "        eta[-1] -= baselevel_rate * dt\n",
    "        \n",
    "        S = -np.diff(eta)/dx\n",
    "        \n",
    "        E[:-1] = K[1:] * Q[1:] * S\n",
    "        \n",
    "        eta[:-1] -= E[:-1] * dt\n",
    "        \n",
    "    return (E, S, eta)"
   ]
  },
  {
   "cell_type": "code",
   "execution_count": 6,
   "id": "3fc95894",
   "metadata": {},
   "outputs": [],
   "source": [
    "# now write a test\n",
    "\n",
    "test = [dx, x, K, r, Q, baselevel_rate, eta, 2000000]\n",
    "\n",
    "(E_sp, S_sp, eta_sp) = stream_power(*test)"
   ]
  },
  {
   "cell_type": "code",
   "execution_count": 7,
   "id": "e6330c8f",
   "metadata": {},
   "outputs": [
    {
     "data": {
      "text/plain": [
       "array([-1.39531459, -1.71830991, -1.79330991, -1.82664325, -1.84539325,\n",
       "       -1.85739325, -1.86572658, -1.87184903, -1.87653653, -1.88024023,\n",
       "       -1.88324023, -1.88571957, -1.88780291, -1.88957805, -1.89110867,\n",
       "       -1.892442  , -1.89361387, -1.89465194, -1.89557786, -1.89640889,\n",
       "       -1.89715889, -1.89783916, -1.89845899, -1.8990261 , -1.89907819,\n",
       "       -1.89912619, -1.89917056, -1.89921172, -1.89924998, -1.89928565,\n",
       "       -1.89931899, -1.8993502 , -1.8993795 , -1.89940705, -1.899433  ,\n",
       "       -1.89945749, -1.89948064, -1.89950255, -1.89952333, -1.89954305,\n",
       "       -1.8995618 , -1.89957965, -1.89959666, -1.89961288, -1.89962838,\n",
       "       -1.89964319, -1.89965737, -1.89967095, -1.89968397, -1.89969646,\n",
       "       -1.89970846, -1.89972   , -1.89973109, -1.89974177, -1.89975206,\n",
       "       -1.89976198, -1.89977155, -1.89978078, -1.8997897 , -1.89979832,\n",
       "       -1.89980665, -1.89981471, -1.89982252, -1.89983007, -1.8998374 ,\n",
       "       -1.8998445 , -1.89985139, -1.89985807, -1.89986456, -1.89987086,\n",
       "       -1.89987698, -1.89988293, -1.89988872, -1.89989435, -1.89989983,\n",
       "       -1.89990516, -1.89991035, -1.89991541, -1.89992034, -1.89992515,\n",
       "       -1.89992984, -1.89993441, -1.89993887, -1.89994323, -1.89994748,\n",
       "       -1.89995163, -1.89995569, -1.89995965, -1.89996353, -1.89996731,\n",
       "       -1.89997102, -1.89997464, -1.89997818, -1.89998165, -1.89998505,\n",
       "       -1.89998837, -1.89999163, -1.89999482, -1.89999794, -1.9       ])"
      ]
     },
     "execution_count": 7,
     "metadata": {},
     "output_type": "execute_result"
    }
   ],
   "source": [
    "eta_sp"
   ]
  },
  {
   "cell_type": "code",
   "execution_count": 8,
   "id": "e60e0699",
   "metadata": {},
   "outputs": [
    {
     "data": {
      "text/plain": [
       "[<matplotlib.lines.Line2D at 0x7fd0c0261690>]"
      ]
     },
     "execution_count": 8,
     "metadata": {},
     "output_type": "execute_result"
    },
    {
     "data": {
      "image/png": "[encoded data removed]",
      "text/plain": [
       "<Figure size 432x288 with 1 Axes>"
      ]
     },
     "metadata": {
      "needs_background": "light"
     },
     "output_type": "display_data"
    }
   ],
   "source": [
    "plt.plot(x, eta_sp)"
   ]
  },
  {
   "cell_type": "code",
   "execution_count": 9,
   "id": "e7200e5f",
   "metadata": {},
   "outputs": [
    {
     "data": {
      "text/plain": [
       "array([3.22995396e-04, 7.50000001e-05, 3.33333333e-05, 1.87500000e-05,\n",
       "       1.20000000e-05, 8.33333333e-06, 6.12244898e-06, 4.68750000e-06,\n",
       "       3.70370370e-06, 3.00000000e-06, 2.47933884e-06, 2.08333333e-06,\n",
       "       1.77514793e-06, 1.53061224e-06, 1.33333333e-06, 1.17187500e-06,\n",
       "       1.03806228e-06, 9.25925926e-07, 8.31024931e-07, 7.50000000e-07,\n",
       "       6.80272109e-07, 6.19834711e-07, 5.67107750e-07, 5.20833333e-08,\n",
       "       4.80000000e-08, 4.43786982e-08, 4.11522634e-08, 3.82653061e-08,\n",
       "       3.56718193e-08, 3.33333333e-08, 3.12174818e-08, 2.92968750e-08,\n",
       "       2.75482094e-08, 2.59515571e-08, 2.44897959e-08, 2.31481481e-08,\n",
       "       2.19138057e-08, 2.07756233e-08, 1.97238659e-08, 1.87500000e-08,\n",
       "       1.78465199e-08, 1.70068027e-08, 1.62249865e-08, 1.54958678e-08,\n",
       "       1.48148148e-08, 1.41776938e-08, 1.35808058e-08, 1.30208333e-08,\n",
       "       1.24947938e-08, 1.20000000e-08, 1.15340254e-08, 1.10946746e-08,\n",
       "       1.06799573e-08, 1.02880658e-08, 9.91735537e-09, 9.56632653e-09,\n",
       "       9.23361034e-09, 8.91795482e-09, 8.61821316e-09, 8.33333333e-09,\n",
       "       8.06234883e-09, 7.80437045e-09, 7.55857899e-09, 7.32421875e-09,\n",
       "       7.10059172e-09, 6.88705234e-09, 6.68300290e-09, 6.48788927e-09,\n",
       "       6.30119723e-09, 6.12244898e-09, 5.95120016e-09, 5.78703704e-09,\n",
       "       5.62957403e-09, 5.47845142e-09, 5.33333333e-09, 5.19390582e-09,\n",
       "       5.05987519e-09, 4.93096647e-09, 4.80692197e-09, 4.68750000e-09,\n",
       "       4.57247371e-09, 4.46162998e-09, 4.35476847e-09, 4.25170068e-09,\n",
       "       4.15224913e-09, 4.05624662e-09, 3.96353547e-09, 3.87396694e-09,\n",
       "       3.78740058e-09, 3.70370370e-09, 3.62275088e-09, 3.54442344e-09,\n",
       "       3.46860909e-09, 3.39520145e-09, 3.32409972e-09, 3.25520833e-09,\n",
       "       3.18843660e-09, 3.12369846e-09, 3.06091215e-09])"
      ]
     },
     "execution_count": 9,
     "metadata": {},
     "output_type": "execute_result"
    }
   ],
   "source": [
    "S_sp"
   ]
  },
  {
   "cell_type": "code",
   "execution_count": 10,
   "id": "7fcc5083",
   "metadata": {},
   "outputs": [
    {
     "data": {
      "text/plain": [
       "array([1.07665132e-04, 1.00000000e-04, 1.00000000e-04, 1.00000000e-04,\n",
       "       1.00000000e-04, 1.00000000e-04, 1.00000000e-04, 1.00000000e-04,\n",
       "       1.00000000e-04, 1.00000000e-04, 1.00000000e-04, 1.00000000e-04,\n",
       "       1.00000000e-04, 1.00000000e-04, 1.00000000e-04, 1.00000000e-04,\n",
       "       1.00000000e-04, 1.00000000e-04, 1.00000000e-04, 1.00000000e-04,\n",
       "       1.00000000e-04, 1.00000000e-04, 1.00000000e-04, 1.00000000e-04,\n",
       "       1.00000000e-04, 1.00000000e-04, 1.00000000e-04, 1.00000000e-04,\n",
       "       1.00000000e-04, 1.00000000e-04, 1.00000000e-04, 1.00000000e-04,\n",
       "       1.00000000e-04, 1.00000000e-04, 1.00000000e-04, 1.00000000e-04,\n",
       "       1.00000000e-04, 1.00000000e-04, 1.00000000e-04, 1.00000000e-04,\n",
       "       1.00000000e-04, 1.00000000e-04, 1.00000000e-04, 1.00000000e-04,\n",
       "       1.00000000e-04, 1.00000000e-04, 1.00000000e-04, 1.00000000e-04,\n",
       "       1.00000000e-04, 1.00000000e-04, 1.00000000e-04, 1.00000000e-04,\n",
       "       1.00000000e-04, 1.00000000e-04, 1.00000000e-04, 1.00000000e-04,\n",
       "       1.00000000e-04, 1.00000000e-04, 1.00000000e-04, 1.00000000e-04,\n",
       "       1.00000000e-04, 1.00000000e-04, 1.00000000e-04, 1.00000000e-04,\n",
       "       1.00000000e-04, 1.00000000e-04, 1.00000000e-04, 1.00000000e-04,\n",
       "       1.00000000e-04, 1.00000000e-04, 1.00000000e-04, 1.00000000e-04,\n",
       "       1.00000000e-04, 1.00000000e-04, 1.00000000e-04, 1.00000000e-04,\n",
       "       1.00000000e-04, 1.00000000e-04, 1.00000000e-04, 1.00000000e-04,\n",
       "       1.00000000e-04, 1.00000000e-04, 1.00000000e-04, 1.00000000e-04,\n",
       "       1.00000000e-04, 1.00000000e-04, 1.00000000e-04, 1.00000000e-04,\n",
       "       1.00000000e-04, 1.00000000e-04, 1.00000000e-04, 1.00000000e-04,\n",
       "       1.00000000e-04, 1.00000000e-04, 1.00000000e-04, 1.00000000e-04,\n",
       "       1.00000000e-04, 1.00000000e-04, 1.00000000e-04, 1.00000000e-04])"
      ]
     },
     "execution_count": 10,
     "metadata": {},
     "output_type": "execute_result"
    }
   ],
   "source": [
    "E_sp"
   ]
  },
  {
   "cell_type": "code",
   "execution_count": null,
   "id": "5afdf970",
   "metadata": {},
   "outputs": [],
   "source": []
  }
 ],
 "metadata": {
  "kernelspec": {
   "display_name": "Python 3",
   "language": "python",
   "name": "python3"
  },
  "language_info": {
   "codemirror_mode": {
    "name": "ipython",
    "version": 3
   },
   "file_extension": ".py",
   "mimetype": "text/x-python",
   "name": "python",
   "nbconvert_exporter": "python",
   "pygments_lexer": "ipython3",
   "version": "3.7.6"
  }
 },
 "nbformat": 4,
 "nbformat_minor": 5
}
