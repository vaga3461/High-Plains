{
 "cells": [
  {
   "cell_type": "code",
   "execution_count": 1,
   "id": "e7d773a2",
   "metadata": {},
   "outputs": [],
   "source": [
    "# here we're going to just try writing something from scratch"
   ]
  },
  {
   "cell_type": "code",
   "execution_count": 2,
   "id": "25de3fa5",
   "metadata": {},
   "outputs": [],
   "source": [
    "import numpy as np\n",
    "import matplotlib.pyplot as plt"
   ]
  },
  {
   "cell_type": "code",
   "execution_count": 3,
   "id": "ce873636",
   "metadata": {},
   "outputs": [],
   "source": [
    "# set up arrays\n",
    "dx = 1000\n",
    "x = np.arange(0, 100000, dx)\n",
    "x_node = x + (dx/2)\n",
    "\n",
    "Hstar = 0.5\n",
    "etab = np.zeros(len(x)) # bedrock elevation, m\n",
    "etab[:] = np.linspace(10, 0.1, len(x)) # need to start with slight bedrock slope\n",
    "H = Hstar + np.zeros(len(x))\n",
    "eta = etab + H"
   ]
  },
  {
   "cell_type": "code",
   "execution_count": 4,
   "id": "063ff069",
   "metadata": {},
   "outputs": [],
   "source": [
    "# set up parameters\n",
    "K_ig = np.zeros(len(x))\n",
    "K_ig[:24] = 1e-7\n",
    "K_sed = np.zeros(len(x))\n",
    "K_sed[24:] = 1e-6\n",
    "\n",
    "beta_ig = np.zeros(len(x))\n",
    "beta_ig[:24] = 4e-5\n",
    "beta_sed = np.zeros(len(x))\n",
    "beta_sed[24:] = 4e-4\n",
    "\n",
    "# psi = np.zeros(len(x))\n",
    "# psi[:14] = 4e-7\n",
    "# psi[14:] = 4e-6\n",
    "psi = 4e-5\n",
    "gamma = 0.3\n",
    "\n",
    "r = 10. # runoff rate\n",
    "D = 0.015 # grain size\n",
    "phi = 0.45 # porosity\n",
    "baselevel_rate = 0.001 # baselevel fall rate"
   ]
  },
  {
   "cell_type": "code",
   "execution_count": 5,
   "id": "d154296e",
   "metadata": {},
   "outputs": [],
   "source": [
    "kqs = 0.041\n",
    "I = 0.01\n",
    "kxb = 25\n",
    "Pxb = 1./5.\n",
    "# Pxb = 1\n",
    "kb = 8.3e-8\n",
    "\n",
    "B_valley = kxb * (x_node**Pxb)\n",
    "B_basin = (2./3.) * x_node\n",
    "\n",
    "area = (1./3.) * x**2\n",
    "# Q = r * x * B\n",
    "Q = r * area"
   ]
  },
  {
   "cell_type": "code",
   "execution_count": 6,
   "id": "ad0248d7",
   "metadata": {},
   "outputs": [],
   "source": [
    "def model(x, dx, x_node,\n",
    "          K_ig, K_sed, beta_ig, beta_sed,\n",
    "          D, phi, Hstar, psi, gamma,\n",
    "          kb, kqs, I, r, B_valley, B_basin, Q,\n",
    "          etab, H, eta,\n",
    "          baselevel_rate,\n",
    "          num_steps = 1):\n",
    "    \n",
    "    q = Q/B_valley\n",
    "    # dt = 0.2 * dx * dx / (kqs * q[-1]) # try changing to 10, 5, or 1 if this is unstable\n",
    "    dt = 10.\n",
    "    \n",
    "    run_duration = dt * num_steps\n",
    "    cum_time = 0.0\n",
    "    \n",
    "    Qs = np.zeros(len(x))\n",
    "    qs = np.zeros(len(x))\n",
    "    Eb_p_ig = np.zeros(len(x))\n",
    "    Eb_p_sed = np.zeros(len(x))\n",
    "    Eb_a_ig = np.zeros(len(x))\n",
    "    Eb_a_sed = np.zeros(len(x))\n",
    "    Eb = np.zeros(len(x))\n",
    "    Eh = np.zeros(len(x))\n",
    "    E = np.zeros(len(x))\n",
    "    ql = np.zeros(len(x))\n",
    "    \n",
    "    H[-1] = 0\n",
    "    E[-1] = baselevel_rate\n",
    "    q[0] = 0\n",
    "    Qs[0] = 0\n",
    "    ql[0] = 0\n",
    "    \n",
    "    while cum_time < run_duration:\n",
    "        \n",
    "        # drop baselevel\n",
    "        eta[-1] -= baselevel_rate * dt\n",
    "        \n",
    "        # set boundary conditions\n",
    "        etab[-1] = eta[-1]\n",
    "        \n",
    "        # calc slope\n",
    "        S = -np.diff(eta)/dx\n",
    "        \n",
    "        # calc bed exposure\n",
    "        alpha = np.exp(-H/Hstar)\n",
    "        \n",
    "        # calc Rh\n",
    "#         width = (kb * Q[1:] * (S ** (7/6))) / (D**(3/2))\n",
    "#         depth = (0.09801 * D) / S\n",
    "#         Rh_efficiency = 1 - np.exp(-width/(2*depth))\n",
    "        \n",
    "        # calc sed transport\n",
    "        Qs[1:] = kqs * I * Q[1:] * S**(7./6.) * (1 - alpha[:-1]) # * Rh_efficiency\n",
    "        qs[1:] = Qs[1:] / B_valley[1:]\n",
    "        \n",
    "        # calc bedrock erosion\n",
    "        Eb_p_ig[:-1] = K_ig[1:] * Q[1:] * S * alpha[:-1]\n",
    "        Eb_p_sed[:-1] = K_sed[1:] * Q[1:] * S * alpha[:-1]\n",
    "        Eb_a_ig[:-1] = beta_ig[1:] * Qs[1:] * alpha[:-1]\n",
    "        Eb_a_sed[:-1] = beta_sed[1:] * Qs[1:] * alpha[:-1]\n",
    "        Eb[:-1] = (Eb_p_ig[:-1] + Eb_p_sed[:-1] + Eb_a_ig[:-1] + Eb_a_sed[:-1]) / B_valley[:-1]\n",
    "        \n",
    "        # calc grain attrition\n",
    "        atr = Qs * psi\n",
    "        \n",
    "        # calc equilibrium lateral supply\n",
    "        ql[1:24] = ((baselevel_rate * gamma) / psi) * (1 - np.exp(-psi/(3 * x[1:24])))\n",
    "        ql[24:] = 0\n",
    "        \n",
    "        # calc sediment erosion rate\n",
    "        Eh[:-1] = 1/((1 - phi) * B_valley[:-1]) * (np.diff(Qs)/dx + atr[1:] - Eb_p_ig[:-1] - ql[1:])\n",
    "        \n",
    "        # calc total erosion rate\n",
    "        E[:-1] = Eb[:-1] + Eh[:-1]\n",
    "        \n",
    "        # update topography\n",
    "        etab[:-1] -= Eb[:-1] * dt\n",
    "        H[:-1] -= Eh[:-1] * dt\n",
    "        H[H<0] = 0\n",
    "        eta[:-1] = etab[:-1] + H[:-1]\n",
    "        \n",
    "        # update elapsed time\n",
    "        cum_time += dt\n",
    "        \n",
    "    print(cum_time)\n",
    "        \n",
    "    return (dt, S, q, alpha, Qs, qs, Eb_p_ig, Eb_p_sed, Eb_a_ig, Eb_a_sed, Eb, atr, ql, Eh, E, etab, H, eta)"
   ]
  },
  {
   "cell_type": "code",
   "execution_count": 7,
   "id": "6fe3578c",
   "metadata": {},
   "outputs": [
    {
     "name": "stdout",
     "output_type": "stream",
     "text": [
      "7500000.0\n"
     ]
    }
   ],
   "source": [
    "#now write a test\n",
    "num_steps = 750000\n",
    "test_run = [x, dx, x_node, \n",
    "            K_ig, K_sed, beta_ig, beta_sed, \n",
    "            D, phi, Hstar, psi, gamma,\n",
    "            kb, kqs, I, r, B_valley, B_basin, Q,\n",
    "            etab, H, eta,\n",
    "            baselevel_rate,\n",
    "            num_steps]\n",
    "\n",
    "# and run it\n",
    "(dt, S, q, alpha, Qs, qs, Eb_p_ig, Eb_p_sed, Eb_a_ig, Eb_a_sed, Eb, atr, ql, Eh, E, etab, H, eta) = model(*test_run)"
   ]
  },
  {
   "cell_type": "code",
   "execution_count": 8,
   "id": "c06bce00",
   "metadata": {},
   "outputs": [
    {
     "data": {
      "text/plain": [
       "10.0"
      ]
     },
     "execution_count": 8,
     "metadata": {},
     "output_type": "execute_result"
    }
   ],
   "source": [
    "dt"
   ]
  },
  {
   "cell_type": "code",
   "execution_count": 9,
   "id": "c33469e6",
   "metadata": {
    "scrolled": true
   },
   "outputs": [
    {
     "data": {
      "text/plain": [
       "array([0.001, 0.001, 0.001, 0.001, 0.001, 0.001, 0.001, 0.001, 0.001,\n",
       "       0.001, 0.001, 0.001, 0.001, 0.001, 0.001, 0.001, 0.001, 0.001,\n",
       "       0.001, 0.001, 0.001, 0.001, 0.001, 0.001, 0.001, 0.001, 0.001,\n",
       "       0.001, 0.001, 0.001, 0.001, 0.001, 0.001, 0.001, 0.001, 0.001,\n",
       "       0.001, 0.001, 0.001, 0.001, 0.001, 0.001, 0.001, 0.001, 0.001,\n",
       "       0.001, 0.001, 0.001, 0.001, 0.001, 0.001, 0.001, 0.001, 0.001,\n",
       "       0.001, 0.001, 0.001, 0.001, 0.001, 0.001, 0.001, 0.001, 0.001,\n",
       "       0.001, 0.001, 0.001, 0.001, 0.001, 0.001, 0.001, 0.001, 0.001,\n",
       "       0.001, 0.001, 0.001, 0.001, 0.001, 0.001, 0.001, 0.001, 0.001,\n",
       "       0.001, 0.001, 0.001, 0.001, 0.001, 0.001, 0.001, 0.001, 0.001,\n",
       "       0.001, 0.001, 0.001, 0.001, 0.001, 0.001, 0.001, 0.001, 0.001,\n",
       "       0.001])"
      ]
     },
     "execution_count": 9,
     "metadata": {},
     "output_type": "execute_result"
    }
   ],
   "source": [
    "E"
   ]
  },
  {
   "cell_type": "code",
   "execution_count": 10,
   "id": "bd1241ad",
   "metadata": {},
   "outputs": [
    {
     "data": {
      "text/plain": [
       "<matplotlib.legend.Legend at 0x7f9a2e964390>"
      ]
     },
     "execution_count": 10,
     "metadata": {},
     "output_type": "execute_result"
    },
    {
     "data": {
      "image/png": "[encoded data removed]",
      "text/plain": [
       "<Figure size 432x288 with 1 Axes>"
      ]
     },
     "metadata": {
      "needs_background": "light"
     },
     "output_type": "display_data"
    }
   ],
   "source": [
    "plt.plot(x, eta, label = \"topography\")\n",
    "plt.plot(x, etab, label = \"bedrock\")\n",
    "# plt.plot(x, H, label = \"sediment\")\n",
    "plt.legend()"
   ]
  },
  {
   "cell_type": "code",
   "execution_count": 11,
   "id": "3d560a53",
   "metadata": {},
   "outputs": [
    {
     "data": {
      "text/plain": [
       "Text(0, 0.5, 'Bed exposure fraction (proxy for erosional efficiency)')"
      ]
     },
     "execution_count": 11,
     "metadata": {},
     "output_type": "execute_result"
    },
    {
     "data": {
      "image/png": "[encoded data removed]",
      "text/plain": [
       "<Figure size 432x288 with 1 Axes>"
      ]
     },
     "metadata": {
      "needs_background": "light"
     },
     "output_type": "display_data"
    }
   ],
   "source": [
    "plt.plot(x[:-1], alpha[:-1])\n",
    "plt.ylabel('Bed exposure fraction (proxy for erosional efficiency)')"
   ]
  },
  {
   "cell_type": "code",
   "execution_count": 12,
   "id": "832ea278",
   "metadata": {},
   "outputs": [
    {
     "data": {
      "text/plain": [
       "array([3.23786432e-01, 1.23559323e-01, 7.30953632e-02, 5.15952864e-02,\n",
       "       3.99012091e-02, 3.25863410e-02, 2.75801771e-02, 2.39337238e-02,\n",
       "       2.11540307e-02, 1.89606201e-02, 1.71824537e-02, 1.57093870e-02,\n",
       "       1.44673000e-02, 1.34044751e-02, 1.24837141e-02, 1.16775639e-02,\n",
       "       1.09653095e-02, 1.03310167e-02, 9.76222048e-03, 9.24902332e-03,\n",
       "       8.78346176e-03, 8.35905208e-03, 7.97045877e-03, 6.47407181e-03,\n",
       "       5.83919411e-03, 5.28112201e-03, 4.78858881e-03, 4.35228121e-03,\n",
       "       3.96444920e-03, 3.61860376e-03, 3.30928043e-03, 3.03185292e-03,\n",
       "       2.78238491e-03, 2.55751155e-03, 2.35434383e-03, 2.17039109e-03,\n",
       "       2.00349776e-03, 1.85179150e-03, 1.71364032e-03, 1.58761714e-03,\n",
       "       1.47247017e-03, 1.36709821e-03, 1.27052982e-03, 1.18190575e-03,\n",
       "       1.10046412e-03, 1.02552774e-03, 9.56493332e-04, 8.92822301e-04,\n",
       "       8.34032788e-04, 7.79692848e-04, 7.29414538e-04, 6.82848804e-04,\n",
       "       6.39681032e-04, 5.99627176e-04, 5.62430378e-04, 5.27858005e-04,\n",
       "       4.95699054e-04, 4.65761864e-04, 4.37872110e-04, 4.11871019e-04,\n",
       "       3.87613804e-04, 3.64968263e-04, 3.43813551e-04, 3.24039070e-04,\n",
       "       3.05543492e-04, 2.88233882e-04, 2.72024916e-04, 2.56838178e-04,\n",
       "       2.42601533e-04, 2.29248558e-04, 2.16718039e-04, 2.04953512e-04,\n",
       "       1.93902846e-04, 1.83517876e-04, 1.73754064e-04, 1.64570193e-04,\n",
       "       1.55928089e-04, 1.47792377e-04, 1.40130244e-04, 1.32911238e-04,\n",
       "       1.26107079e-04, 1.19691484e-04, 1.13640011e-04, 1.07929920e-04,\n",
       "       1.02540036e-04, 9.74506346e-05, 9.26433285e-05, 8.81009695e-05,\n",
       "       8.38075559e-05, 7.97481472e-05, 7.59087876e-05, 7.22764336e-05,\n",
       "       6.88388893e-05, 6.55847449e-05, 6.25033217e-05, 5.95846207e-05,\n",
       "       5.68192746e-05, 5.41985048e-05, 5.17140804e-05])"
      ]
     },
     "execution_count": 12,
     "metadata": {},
     "output_type": "execute_result"
    }
   ],
   "source": [
    "S"
   ]
  },
  {
   "cell_type": "code",
   "execution_count": null,
   "id": "7cf729b2",
   "metadata": {},
   "outputs": [],
   "source": [
    "eta"
   ]
  },
  {
   "cell_type": "code",
   "execution_count": null,
   "id": "f0c237ac",
   "metadata": {
    "scrolled": true
   },
   "outputs": [],
   "source": [
    "# just for kicks\n",
    "kb = 8.3e-8\n",
    "b = (kb * Q[1:] * (S ** (7/6))) / (D**(3/2))\n",
    "print(b)"
   ]
  },
  {
   "cell_type": "code",
   "execution_count": null,
   "id": "cdf26ffb",
   "metadata": {
    "scrolled": true
   },
   "outputs": [],
   "source": [
    "# ok really going out on a limb here...\n",
    "depth = (0.09801 * D) / S\n",
    "print(depth)"
   ]
  },
  {
   "cell_type": "code",
   "execution_count": null,
   "id": "5b116fa2",
   "metadata": {},
   "outputs": [],
   "source": [
    "plt.plot(S)"
   ]
  },
  {
   "cell_type": "code",
   "execution_count": null,
   "id": "4c67d882",
   "metadata": {},
   "outputs": [],
   "source": [
    "S"
   ]
  }
 ],
 "metadata": {
  "kernelspec": {
   "display_name": "Python 3",
   "language": "python",
   "name": "python3"
  },
  "language_info": {
   "codemirror_mode": {
    "name": "ipython",
    "version": 3
   },
   "file_extension": ".py",
   "mimetype": "text/x-python",
   "name": "python",
   "nbconvert_exporter": "python",
   "pygments_lexer": "ipython3",
   "version": "3.7.6"
  }
 },
 "nbformat": 4,
 "nbformat_minor": 5
}
