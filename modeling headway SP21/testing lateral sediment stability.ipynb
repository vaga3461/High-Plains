{
 "cells": [
  {
   "cell_type": "code",
   "execution_count": 1,
   "id": "9c13cd09",
   "metadata": {},
   "outputs": [],
   "source": [
    "# the purpose of this notebook is to discover the source of instability in the full version of our model\n",
    "# this means copying and pasting the full model from the notebook 'full model, small grid, weighted flux'\n",
    "# and removing everything related to lateral sediment supply\n",
    "# this SHOULD result in a smoothly functional model capable of achieving steady state\n",
    "# we'll make sure we can do this, then take next steps"
   ]
  },
  {
   "cell_type": "code",
   "execution_count": 2,
   "id": "ced9c03a",
   "metadata": {},
   "outputs": [],
   "source": [
    "# start by importing libraries\n",
    "import numpy as np\n",
    "import matplotlib.pyplot as plt"
   ]
  },
  {
   "cell_type": "code",
   "execution_count": 3,
   "id": "7b546bc4",
   "metadata": {},
   "outputs": [],
   "source": [
    "# define parameters\n",
    "\n",
    "dx = 1000 # grid spacing\n",
    "x = np.arange(0, 100000, dx) # domain length\n",
    "x_node = x + dx/2 # centered x node\n",
    "r = 10. # runoff rate\n",
    "Hstar = 0.5 # characteristic sediment thickness\n",
    "beta = np.zeros(len(x))\n",
    "beta[:24] = 0.04\n",
    "beta[24:] = 0.4\n",
    "psi = 0.00004 # attrition factor\n",
    "K = np.zeros(len(x))\n",
    "K[:24] = 0.00001\n",
    "K[24:] = 0.0001\n",
    "K_ig = np.zeros(len(x))\n",
    "K_ig[:24] = 0.000001\n",
    "gamma = np.zeros(len(x))\n",
    "gamma[:24] = 0.3\n",
    "kxb = 25 # valley width coefficient\n",
    "Pxb = 1/5 # valley width exponent\n",
    "kb = 8.3e-8 # channel width coefficient\n",
    "phi = 0.55 # sediment porosity\n",
    "D = 0.05 # grain size\n",
    "baselevel_rate = 0.00005"
   ]
  },
  {
   "cell_type": "code",
   "execution_count": 4,
   "id": "d69605dc",
   "metadata": {},
   "outputs": [],
   "source": [
    "# set up arrays\n",
    "\n",
    "H = Hstar + np.zeros(len(x)) # sediment thickness\n",
    "etab = np.zeros(len(x)) # bedrock elevation array\n",
    "etab[:] = np.linspace(1, 0.1, len(x)) # need to start with slight bedrock slope\n",
    "eta = etab + H # total topographic elevation"
   ]
  },
  {
   "cell_type": "code",
   "execution_count": 5,
   "id": "e0166a70",
   "metadata": {},
   "outputs": [],
   "source": [
    "# calculate constant, derivative values\n",
    "\n",
    "# B = kxb * (x_node**Pxb) # valley width   ## TWEAKED\n",
    "B = ((1./3.) * (x_node**2))/dx\n",
    "# Q = (r * kxb * x**(6/5))/(1 + Pxb) # discharge  ## WE TWEAKED THIS\n",
    "Q = r * (1./3.) * (x)**2"
   ]
  },
  {
   "cell_type": "code",
   "execution_count": 6,
   "id": "65a56a99",
   "metadata": {},
   "outputs": [],
   "source": [
    "def model(x,\n",
    "          dx,\n",
    "          Hstar,\n",
    "          H,\n",
    "          etab,\n",
    "          eta,\n",
    "          beta,\n",
    "          psi,\n",
    "          K,\n",
    "          K_ig,\n",
    "          gamma,\n",
    "          kxb,\n",
    "          Pxb,\n",
    "          kb,\n",
    "          phi,\n",
    "          D,\n",
    "          baselevel_rate,\n",
    "          Q,\n",
    "          B,\n",
    "          num_steps = 550000):\n",
    "    \n",
    "    # define more constants\n",
    "    kqs = 0.041 # sediment discharge coefficient\n",
    "    I = 0.01 # intermittency factor\n",
    "    \n",
    "    # calculate timestep\n",
    "    # dt_global = 0.2 * (0.2 * dx * dx / (kqs*(Q[-1]/B[-1])))\n",
    "    dt = 0.2 * (0.2 * dx * dx / (kqs*(Q[-1]/B[-1])))\n",
    "    tau = 100 # making tau larger relative to dt should dampen lateral sediment response times\n",
    "    # run_duration = dt_global * num_steps  # <== here's how long we want to run\n",
    "    run_duration = dt * num_steps  # <== here's how long we want to run\n",
    "    cum_time = 0.0  # <== keep track of elapsed time\n",
    "    \n",
    "    # define arrays\n",
    "    b = np.zeros(len(x)) # channel width\n",
    "    Eb_p = np.zeros(len(x)) # plucking rate\n",
    "    Eb_p_ig = np.zeros(len(x)) # igneous plucking rate\n",
    "    Eb_a = np.zeros(len(x)) # abrasion rate\n",
    "    Eb = np.zeros(len(x)) # bedrock erosion rate\n",
    "    Eh = np.zeros(len(x)) # sedimentation rate\n",
    "    E = np.zeros(len(x)) # total erosion rate\n",
    "    q = np.zeros(len(x)) # unit discharge\n",
    "    Qs = np.zeros(len(x)) # total sediment transport\n",
    "    qs = np.zeros(len(x)) # unit sediment transport\n",
    "    ql = np.zeros(len(x)) # lateral sediment supply\n",
    "    E_vals = np.zeros((2, len(x))) # store current and past erosion rates in this array\n",
    "    E_avg = np.zeros(len(x)) # weighted average erosion rates\n",
    "    sed_from_slopes = np.zeros(len(x))\n",
    "    \n",
    "    # set boundary conditions\n",
    "    b[0] = 0\n",
    "    H[-1] = 0\n",
    "    E[-1] = baselevel_rate\n",
    "    q[0] = 0\n",
    "    Qs[0] = 0\n",
    "    qs[0] = 0\n",
    "    ql[0] = 0\n",
    "    \n",
    "    while cum_time < run_duration:  # <== use a while loop because dt varies by iteration\n",
    "        \n",
    "        # first calculate rates\n",
    "            \n",
    "        # calculate slope\n",
    "        S = np.abs((np.diff(eta)/dx))\n",
    "        \n",
    "        # calculate channel width (L)\n",
    "        b = (kb * Q[1:] * (S ** (7/6))) / (D**(3/2))\n",
    "        \n",
    "        # calculate unit discharge (L^2/T)\n",
    "        q[1:] = Q[1:]/b\n",
    "        \n",
    "        # calculate bed exposure\n",
    "        alpha = np.exp(-H/Hstar)\n",
    "        \n",
    "        # calculate sediment transport (L^3/T and L^2/T)\n",
    "        Qs[1:] = kqs * I * Q[1:] * S**(7./6.) * (1-alpha[:-1])\n",
    "        qs[1:] = Qs[1:]/b\n",
    "        \n",
    "        # calculate individual erosion mechanism rates (L^2/T)\n",
    "        Eb_p[:-1] = K[1:] * Q[1:] * S * alpha[:-1]\n",
    "        Eb_p_ig[:-1] = K_ig[1:] * Q[1:] * S * alpha[:-1]\n",
    "        Eb_a[:-1] = beta[1:] * Qs[1:] * alpha[:-1]\n",
    "        \n",
    "        # calculate total bedrock erosion rate (L/T)\n",
    "        Eb[:-1] = (Eb_p[:-1] + Eb_a[:-1]) / B[1:]\n",
    "        \n",
    "        # calculate attrition rate (L^2/T)\n",
    "        atr = psi * Qs\n",
    "        \n",
    "        # calculate lateral sediment inputs (L^2/T)\n",
    "        if all(E_avg == 0): # = 0:\n",
    "            ql[:] = 0\n",
    "        else:\n",
    "            ql[:] = ((E_avg * gamma) / beta) * (1 - np.exp(-beta * (x_node/3))) # use x_node, or x?\n",
    "        \n",
    "        # calculate sedimentation rate (L/T)\n",
    "        Eh[:-1] = - (1/((1 - phi) * B[1:])) * ((np.diff(Qs)/dx) + atr[1:] - Eb_p_ig[:-1] - ql[:-1])\n",
    "        \n",
    "        # calculate total erosion rate (L/T)\n",
    "        E[:-1] = Eb[:-1] + Eh[:-1]\n",
    "        \n",
    "        \n",
    "        \n",
    "        # calculate weight for lateral sediment flux\n",
    "        \n",
    "        # calculate weight\n",
    "        wt = 1 - np.exp(-dt/tau)\n",
    "        \n",
    "        # add the most recent erosion rate as a new top row, and drop the bottom row\n",
    "        E_vals = np.vstack([E, E_vals])\n",
    "        E_vals = np.delete(E_vals, obj = 2, axis = 0)\n",
    "        \n",
    "        # calculate average E\n",
    "        E_avg = (wt*E_vals[0]) + ((1 - wt)*E_vals[1])\n",
    "        \n",
    "        # track total sed from slopes at each location\n",
    "        sed_from_slopes += ql\n",
    "\n",
    "        \n",
    "                \n",
    "        # Update quantities\n",
    "        \n",
    "        # update boundary conditions\n",
    "        eta[-1] -= baselevel_rate * dt\n",
    "        etab[-1] = eta[-1]\n",
    "        \n",
    "        # update topography\n",
    "        etab[:-1] -= Eb[:-1] * dt\n",
    "        H[:-1] += Eh[:-1] * dt\n",
    "        H[H<0] = 0\n",
    "        eta[:-1] = etab[:-1] + H[:-1]\n",
    "        \n",
    "        \n",
    "        \n",
    "        # Advance time\n",
    "        cum_time += dt\n",
    "        \n",
    "        if any(E[:] != baselevel_rate):\n",
    "            continue\n",
    "        else:\n",
    "            break\n",
    "            \n",
    "            \n",
    "    \n",
    "    print(\"Total bedrock erosion: \", Eb, \"\\n\")\n",
    "    \n",
    "    print(\"Lateral sed flux: \", ql, \"\\n\")\n",
    "    \n",
    "    print(\"Sedimentation: \", Eh, \"\\n\")\n",
    "    \n",
    "    print(\"Average erosion: \", E_avg, \"\\n\")\n",
    "    \n",
    "    print(\"Bed exposure: \", alpha, \"\\n\")\n",
    "    \n",
    "    print(cum_time, \"years\", \"\\n\")\n",
    "        \n",
    "    return (S, b, q, alpha, Qs, qs, Eb_p, Eb_p_ig, Eb_a, Eb, atr, ql, Eh, E, sed_from_slopes, eta, etab, H, dt, wt, E_vals, E_avg)"
   ]
  },
  {
   "cell_type": "code",
   "execution_count": 7,
   "id": "ed1a1147",
   "metadata": {},
   "outputs": [],
   "source": [
    "test_run = [x, dx, Hstar, H, etab, eta, beta, psi, K, K_ig, gamma, kxb, Pxb, kb, phi, D, baselevel_rate, Q, B]"
   ]
  },
  {
   "cell_type": "code",
   "execution_count": 8,
   "id": "5ab3964f",
   "metadata": {},
   "outputs": [
    {
     "name": "stdout",
     "output_type": "stream",
     "text": [
      "Total bedrock erosion:  [4.99606060e-05 4.99607653e-05 4.99609019e-05 4.99610394e-05\n",
      " 4.99611834e-05 4.99613355e-05 4.99614964e-05 4.99616661e-05\n",
      " 4.99618446e-05 4.99620315e-05 4.99622265e-05 4.99624294e-05\n",
      " 4.99626398e-05 4.99628573e-05 4.99630816e-05 4.99633123e-05\n",
      " 4.99635490e-05 4.99637915e-05 4.99640394e-05 4.99642923e-05\n",
      " 4.99645500e-05 4.99648122e-05 4.99650784e-05 4.99653486e-05\n",
      " 4.99655858e-05 4.99657997e-05 4.99659931e-05 4.99661684e-05\n",
      " 4.99663278e-05 4.99664730e-05 4.99666055e-05 4.99667267e-05\n",
      " 4.99668377e-05 4.99669397e-05 4.99670334e-05 4.99671196e-05\n",
      " 4.99671992e-05 4.99672727e-05 4.99673406e-05 4.99674035e-05\n",
      " 4.99674618e-05 4.99675159e-05 4.99675662e-05 4.99676129e-05\n",
      " 4.99676565e-05 4.99676970e-05 4.99677349e-05 4.99677702e-05\n",
      " 4.99678033e-05 4.99678342e-05 4.99678632e-05 4.99678903e-05\n",
      " 4.99679158e-05 4.99679397e-05 4.99679621e-05 4.99679833e-05\n",
      " 4.99680032e-05 4.99680220e-05 4.99680397e-05 4.99680564e-05\n",
      " 4.99680722e-05 4.99680871e-05 4.99681013e-05 4.99681147e-05\n",
      " 4.99681274e-05 4.99681396e-05 4.99681511e-05 4.99681621e-05\n",
      " 4.99681726e-05 4.99681827e-05 4.99681924e-05 4.99682017e-05\n",
      " 4.99682107e-05 4.99682194e-05 4.99682279e-05 4.99682362e-05\n",
      " 4.99682444e-05 4.99682526e-05 4.99682609e-05 4.99682697e-05\n",
      " 4.99682813e-05 4.99683145e-05 4.99684861e-05 4.99693878e-05\n",
      " 4.99733410e-05 4.99865737e-05 5.00147509e-05 5.00395013e-05\n",
      " 5.00342963e-05 5.00168628e-05 5.00061469e-05 5.00016920e-05\n",
      " 4.99999679e-05 4.99991979e-05 4.99987320e-05 4.99983582e-05\n",
      " 4.99980111e-05 4.99976715e-05 4.99973340e-05 0.00000000e+00] \n",
      "\n",
      "Lateral sed flux:  [0.00037423 0.00037471 0.00037471 0.00037471 0.00037471 0.00037471\n",
      " 0.00037471 0.00037471 0.00037471 0.00037472 0.00037472 0.00037472\n",
      " 0.00037472 0.00037472 0.00037472 0.00037472 0.00037473 0.00037473\n",
      " 0.00037473 0.00037473 0.00037473 0.00037474 0.00037474 0.00037474\n",
      " 0.         0.         0.         0.         0.         0.\n",
      " 0.         0.         0.         0.         0.         0.\n",
      " 0.         0.         0.         0.         0.         0.\n",
      " 0.         0.         0.         0.         0.         0.\n",
      " 0.         0.         0.         0.         0.         0.\n",
      " 0.         0.         0.         0.         0.         0.\n",
      " 0.         0.         0.         0.         0.         0.\n",
      " 0.         0.         0.         0.         0.         0.\n",
      " 0.         0.         0.         0.         0.         0.\n",
      " 0.         0.         0.         0.         0.         0.\n",
      " 0.         0.         0.         0.         0.         0.\n",
      " 0.         0.         0.         0.         0.         0.\n",
      " 0.         0.         0.         0.        ] \n",
      "\n",
      "Sedimentation:  [-2.08414233e-12 -2.13433946e-12 -2.15077495e-12 -2.14919242e-12\n",
      " -2.13625250e-12 -2.11526756e-12 -2.08819696e-12 -2.05608617e-12\n",
      " -2.01999919e-12 -1.98043335e-12 -1.93791007e-12 -1.89281764e-12\n",
      " -1.84553103e-12 -1.79626327e-12 -1.74540635e-12 -1.69311243e-12\n",
      " -1.63956389e-12 -1.58510132e-12 -1.52974952e-12 -1.47381038e-12\n",
      " -1.41730894e-12 -1.36053586e-12 -1.30351794e-12 -1.13965686e-12\n",
      " -9.91966396e-13 -8.59309444e-13 -7.39810575e-13 -6.31912787e-13\n",
      " -5.34206802e-13 -4.45446160e-13 -3.64693704e-13 -2.91026272e-13\n",
      " -2.23607683e-13 -1.61781295e-13 -1.04961913e-13 -5.26015268e-14\n",
      " -4.20363175e-15  4.06383751e-14  8.22757304e-14  1.21072824e-13\n",
      "  1.57269470e-13  1.91213446e-13  2.23120678e-13  2.53239681e-13\n",
      "  2.81811899e-13  3.09119877e-13  3.35470516e-13  3.61152103e-13\n",
      "  3.86667410e-13  4.12172174e-13  4.38145283e-13  4.64809341e-13\n",
      "  4.92424434e-13  5.21035158e-13  5.50756242e-13  5.81682354e-13\n",
      "  6.14056844e-13  6.48380042e-13  6.85311089e-13  7.25594394e-13\n",
      "  7.69966907e-13  8.19060429e-13  8.73544170e-13  9.34275015e-13\n",
      "  1.00232924e-12  1.07918581e-12  1.16659932e-12  1.26668264e-12\n",
      "  1.38199851e-12  1.51576647e-12  1.67205913e-12  1.85613332e-12\n",
      "  2.07478736e-12  2.33692704e-12  2.65444958e-12  3.04345725e-12\n",
      "  3.52619298e-12  4.13494429e-12  4.93191460e-12  6.20297626e-12\n",
      "  1.02448888e-11  3.46221209e-11  1.89340539e-10  1.02329938e-09\n",
      "  4.64638068e-09  1.64762621e-08  4.01038998e-08  5.54741792e-08\n",
      "  4.02444027e-08  1.71292917e-08  4.31370045e-09 -6.42181247e-10\n",
      " -2.29509136e-09 -2.80721245e-09 -2.95744238e-09 -2.99842858e-09\n",
      " -3.00765874e-09 -3.00796801e-09 -3.00586285e-09  0.00000000e+00] \n",
      "\n",
      "Average erosion:  [4.99606038e-05 4.99607631e-05 4.99608996e-05 4.99610372e-05\n",
      " 4.99611812e-05 4.99613333e-05 4.99614943e-05 4.99616640e-05\n",
      " 4.99618425e-05 4.99620294e-05 4.99622245e-05 4.99624275e-05\n",
      " 4.99626379e-05 4.99628554e-05 4.99630798e-05 4.99633105e-05\n",
      " 4.99635473e-05 4.99637899e-05 4.99640378e-05 4.99642908e-05\n",
      " 4.99645486e-05 4.99648107e-05 4.99650771e-05 4.99653474e-05\n",
      " 4.99655847e-05 4.99657988e-05 4.99659923e-05 4.99661678e-05\n",
      " 4.99663272e-05 4.99664725e-05 4.99666051e-05 4.99667264e-05\n",
      " 4.99668375e-05 4.99669395e-05 4.99670332e-05 4.99671195e-05\n",
      " 4.99671991e-05 4.99672727e-05 4.99673406e-05 4.99674036e-05\n",
      " 4.99674619e-05 4.99675160e-05 4.99675663e-05 4.99676131e-05\n",
      " 4.99676567e-05 4.99676973e-05 4.99677352e-05 4.99677706e-05\n",
      " 4.99678036e-05 4.99678346e-05 4.99678635e-05 4.99678907e-05\n",
      " 4.99679162e-05 4.99679401e-05 4.99679626e-05 4.99679838e-05\n",
      " 4.99680038e-05 4.99680226e-05 4.99680403e-05 4.99680570e-05\n",
      " 4.99680729e-05 4.99680879e-05 4.99681021e-05 4.99681156e-05\n",
      " 4.99681284e-05 4.99681406e-05 4.99681522e-05 4.99681633e-05\n",
      " 4.99681740e-05 4.99681842e-05 4.99681940e-05 4.99682035e-05\n",
      " 4.99682127e-05 4.99682217e-05 4.99682305e-05 4.99682392e-05\n",
      " 4.99682479e-05 4.99682567e-05 4.99682658e-05 4.99682758e-05\n",
      " 4.99682915e-05 4.99683491e-05 4.99686754e-05 4.99704111e-05\n",
      " 4.99779875e-05 5.00030506e-05 5.00548558e-05 5.00949758e-05\n",
      " 5.00745401e-05 5.00339916e-05 5.00104604e-05 5.00010498e-05\n",
      " 4.99976728e-05 4.99963907e-05 4.99957746e-05 4.99953598e-05\n",
      " 4.99950035e-05 4.99946636e-05 4.99943281e-05 5.00000000e-05] \n",
      "\n",
      "Bed exposure:  [0.13314089 0.10641746 0.09052667 0.07918633 0.0706179  0.06390988\n",
      " 0.05851531 0.05408249 0.05037474 0.04722701 0.04452077 0.04216877\n",
      " 0.04010534 0.03828014 0.03665392 0.03519564 0.03388042 0.03268808\n",
      " 0.03160209 0.03060876 0.02969666 0.0288562  0.02807922 0.00318088\n",
      " 0.00354775 0.00394544 0.00437593 0.00484126 0.00534359 0.0058852\n",
      " 0.00646848 0.00709595 0.00777024 0.00849413 0.00927052 0.01010248\n",
      " 0.01099318 0.01194599 0.01296441 0.01405211 0.01521291 0.01645084\n",
      " 0.01777008 0.01917498 0.0206701  0.02226018 0.02395015 0.02574514\n",
      " 0.02765048 0.02967169 0.03181452 0.03408488 0.03648893 0.039033\n",
      " 0.04172363 0.04456756 0.04757171 0.05074319 0.0540893  0.05761748\n",
      " 0.06133535 0.06525064 0.06937123 0.07370509 0.07826028 0.08304489\n",
      " 0.08806707 0.09333493 0.09885657 0.10463997 0.11069303 0.11702342\n",
      " 0.12363864 0.13054588 0.13775199 0.14526343 0.15308618 0.1612257\n",
      " 0.16968685 0.17847391 0.18759133 0.19705069 0.20691856 0.21757497\n",
      " 0.23080268 0.25315956 0.30157909 0.3952019  0.51001184 0.58891675\n",
      " 0.62335211 0.6347884  0.63776262 0.63804049 0.63752346 0.63679011\n",
      " 0.63600835 0.635225   0.63445249 1.        ] \n",
      "\n",
      "54201910.706339136 years \n",
      "\n"
     ]
    }
   ],
   "source": [
    "(S, b, q, alpha, Qs, qs, Eb_p, Eb_p_ig, Eb_a, Eb, atr, ql, Eh, E, sed_from_slopes, eta, etab, H, dt, wt, E_vals, E_avg) = model(*test_run)"
   ]
  },
  {
   "cell_type": "code",
   "execution_count": 9,
   "id": "70859c8a",
   "metadata": {
    "scrolled": true
   },
   "outputs": [
    {
     "data": {
      "text/plain": [
       "0.6267434467923565"
      ]
     },
     "execution_count": 9,
     "metadata": {},
     "output_type": "execute_result"
    }
   ],
   "source": [
    "wt"
   ]
  },
  {
   "cell_type": "code",
   "execution_count": 10,
   "id": "d54d6a41",
   "metadata": {},
   "outputs": [
    {
     "data": {
      "text/plain": [
       "<matplotlib.legend.Legend at 0x7f9a4927a890>"
      ]
     },
     "execution_count": 10,
     "metadata": {},
     "output_type": "execute_result"
    },
    {
     "data": {
      "image/png": "[encoded data removed]",
      "text/plain": [
       "<Figure size 432x288 with 1 Axes>"
      ]
     },
     "metadata": {
      "needs_background": "light"
     },
     "output_type": "display_data"
    }
   ],
   "source": [
    "plt.plot(x, eta, label = 'topo')\n",
    "plt.plot(x, etab, label = 'bedrock')\n",
    "#plt.plot(x, H, label = 'sediment')\n",
    "plt.legend()"
   ]
  },
  {
   "cell_type": "code",
   "execution_count": 11,
   "id": "0c2f4199",
   "metadata": {},
   "outputs": [
    {
     "data": {
      "text/plain": [
       "array([4.99606039e-05, 4.99607632e-05, 4.99608997e-05, 4.99610373e-05,\n",
       "       4.99611812e-05, 4.99613334e-05, 4.99614943e-05, 4.99616641e-05,\n",
       "       4.99618425e-05, 4.99620295e-05, 4.99622246e-05, 4.99624275e-05,\n",
       "       4.99626380e-05, 4.99628555e-05, 4.99630798e-05, 4.99633106e-05,\n",
       "       4.99635474e-05, 4.99637899e-05, 4.99640379e-05, 4.99642909e-05,\n",
       "       4.99645486e-05, 4.99648108e-05, 4.99650771e-05, 4.99653475e-05,\n",
       "       4.99655848e-05, 4.99657988e-05, 4.99659923e-05, 4.99661678e-05,\n",
       "       4.99663273e-05, 4.99664726e-05, 4.99666051e-05, 4.99667264e-05,\n",
       "       4.99668375e-05, 4.99669395e-05, 4.99670333e-05, 4.99671196e-05,\n",
       "       4.99671992e-05, 4.99672727e-05, 4.99673407e-05, 4.99674036e-05,\n",
       "       4.99674619e-05, 4.99675161e-05, 4.99675664e-05, 4.99676132e-05,\n",
       "       4.99676567e-05, 4.99676973e-05, 4.99677352e-05, 4.99677706e-05,\n",
       "       4.99678037e-05, 4.99678346e-05, 4.99678636e-05, 4.99678908e-05,\n",
       "       4.99679162e-05, 4.99679402e-05, 4.99679627e-05, 4.99679839e-05,\n",
       "       4.99680038e-05, 4.99680226e-05, 4.99680403e-05, 4.99680571e-05,\n",
       "       4.99680729e-05, 4.99680879e-05, 4.99681021e-05, 4.99681156e-05,\n",
       "       4.99681284e-05, 4.99681406e-05, 4.99681523e-05, 4.99681634e-05,\n",
       "       4.99681740e-05, 4.99681842e-05, 4.99681941e-05, 4.99682035e-05,\n",
       "       4.99682128e-05, 4.99682217e-05, 4.99682305e-05, 4.99682393e-05,\n",
       "       4.99682480e-05, 4.99682568e-05, 4.99682659e-05, 4.99682759e-05,\n",
       "       4.99682916e-05, 4.99683491e-05, 4.99686754e-05, 4.99704111e-05,\n",
       "       4.99779873e-05, 5.00030500e-05, 5.00548548e-05, 5.00949755e-05,\n",
       "       5.00745407e-05, 5.00339921e-05, 5.00104606e-05, 5.00010498e-05,\n",
       "       4.99976728e-05, 4.99963907e-05, 4.99957746e-05, 4.99953598e-05,\n",
       "       4.99950035e-05, 4.99946636e-05, 4.99943281e-05, 5.00000000e-05])"
      ]
     },
     "execution_count": 11,
     "metadata": {},
     "output_type": "execute_result"
    }
   ],
   "source": [
    "E"
   ]
  },
  {
   "cell_type": "code",
   "execution_count": 12,
   "id": "71d9067a",
   "metadata": {},
   "outputs": [
    {
     "data": {
      "text/plain": [
       "[<matplotlib.lines.Line2D at 0x7f9a496ab5d0>]"
      ]
     },
     "execution_count": 12,
     "metadata": {},
     "output_type": "execute_result"
    },
    {
     "data": {
      "image/png": "[encoded data removed]",
      "text/plain": [
       "<Figure size 432x288 with 1 Axes>"
      ]
     },
     "metadata": {
      "needs_background": "light"
     },
     "output_type": "display_data"
    }
   ],
   "source": [
    "plt.plot(x[1:], S)"
   ]
  },
  {
   "cell_type": "code",
   "execution_count": 13,
   "id": "45da11a5",
   "metadata": {},
   "outputs": [
    {
     "data": {
      "text/plain": [
       "[<matplotlib.lines.Line2D at 0x7f9a49800b10>]"
      ]
     },
     "execution_count": 13,
     "metadata": {},
     "output_type": "execute_result"
    },
    {
     "data": {
      "image/png": "[encoded data removed]",
      "text/plain": [
       "<Figure size 432x288 with 1 Axes>"
      ]
     },
     "metadata": {
      "needs_background": "light"
     },
     "output_type": "display_data"
    }
   ],
   "source": [
    "plt.plot(x[1:], b)"
   ]
  },
  {
   "cell_type": "code",
   "execution_count": 14,
   "id": "db32dba8",
   "metadata": {},
   "outputs": [
    {
     "data": {
      "text/plain": [
       "[<matplotlib.lines.Line2D at 0x7f9a49909410>]"
      ]
     },
     "execution_count": 14,
     "metadata": {},
     "output_type": "execute_result"
    },
    {
     "data": {
      "image/png": "[encoded data removed]",
      "text/plain": [
       "<Figure size 432x288 with 1 Axes>"
      ]
     },
     "metadata": {
      "needs_background": "light"
     },
     "output_type": "display_data"
    }
   ],
   "source": [
    "plt.plot(x, H)"
   ]
  },
  {
   "cell_type": "code",
   "execution_count": 15,
   "id": "88dd17c4",
   "metadata": {},
   "outputs": [
    {
     "data": {
      "text/plain": [
       "[<matplotlib.lines.Line2D at 0x7f9a49a14c50>]"
      ]
     },
     "execution_count": 15,
     "metadata": {},
     "output_type": "execute_result"
    },
    {
     "data": {
      "image/png": "[encoded data removed]",
      "text/plain": [
       "<Figure size 432x288 with 1 Axes>"
      ]
     },
     "metadata": {
      "needs_background": "light"
     },
     "output_type": "display_data"
    }
   ],
   "source": [
    "plt.plot(x, alpha)"
   ]
  },
  {
   "cell_type": "code",
   "execution_count": 16,
   "id": "a24f68aa",
   "metadata": {},
   "outputs": [],
   "source": [
    "#         # Calculate maximum allowable time-step size\n",
    "        \n",
    "#         #  first check time to flat surface\n",
    "#         elev_diff = np.diff(eta)/dx\n",
    "#         ero_diff = np.diff(E)/dx\n",
    "        \n",
    "#         valid_places = np.where(ero_diff < 0)[0]  # <== we just want the array, not the full tuple from where()\n",
    "#         if len(valid_places) > 0:  # <== in case there ARE no locations...\n",
    "#             times_to_flat = np.abs(elev_diff[valid_places]/ero_diff[valid_places])\n",
    "#         else:\n",
    "#             times_to_flat = np.array([dt_global])  # <== ...we just revert to the global dt\n",
    "#         min_time_to_flat = np.amin(times_to_flat)\n",
    "\n",
    "#         #  then check time to deplete all sediment\n",
    "#         sed_depletion_locations = np.where(Eh < 0)[0]  # <== we just want the array, not the full tuple from where()\n",
    "#         if len(sed_depletion_locations) > 0:  # <== in case there ARE no locations...\n",
    "#             times_to_no_sed = np.abs(H[sed_depletion_locations]/Eh[sed_depletion_locations])\n",
    "#         else:\n",
    "#             times_to_no_sed = np.array([dt_global])  # <== ...we just revert to the global dt\n",
    "#         min_time_to_no_sed = np.amin(times_to_no_sed)\n",
    "\n",
    "#         #  check for smaller condition\n",
    "#         dt = min(min_time_to_flat, min_time_to_no_sed)\n",
    "\n",
    "#         #  if larger than global step size, limit to global\n",
    "#         dt = min(dt, dt_global)"
   ]
  },
  {
   "cell_type": "code",
   "execution_count": null,
   "id": "0243bedf",
   "metadata": {},
   "outputs": [],
   "source": []
  }
 ],
 "metadata": {
  "kernelspec": {
   "display_name": "Python 3",
   "language": "python",
   "name": "python3"
  },
  "language_info": {
   "codemirror_mode": {
    "name": "ipython",
    "version": 3
   },
   "file_extension": ".py",
   "mimetype": "text/x-python",
   "name": "python",
   "nbconvert_exporter": "python",
   "pygments_lexer": "ipython3",
   "version": "3.7.6"
  }
 },
 "nbformat": 4,
 "nbformat_minor": 5
}
