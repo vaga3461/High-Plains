{
 "cells": [
  {
   "cell_type": "code",
   "execution_count": 1,
   "metadata": {},
   "outputs": [],
   "source": [
    "# this notebook derives a mass conservation equation for exchange in the active layer that accounts for \n",
    "# mass loss to fines\n",
    "\n",
    "# an equation here is written in a general form (no subscripts)\n",
    "# implemented in a model, it would be written once for each lithology of interest (sed, ig, mtm, and qtz)"
   ]
  },
  {
   "cell_type": "markdown",
   "metadata": {},
   "source": [
    "### 1. Start with a statement of mass conservation in a cell:\n",
    "\n",
    "> $$ \\text{rate of change of mass} = \\text{rate of mass in} - \\text{rate of mass out} + \\text{rate of mass generated within cell} - \\text{rate of mass lost within cell}$$\n",
    "\n",
    "> Since we're talking about a mass change per time, everything should have dimensions $[M/T]$."
   ]
  },
  {
   "cell_type": "markdown",
   "metadata": {},
   "source": [
    "### 2. Figure out what goes into \"mass\" on the lefthand side:\n",
    "\n",
    "> $$ \\rho = \\frac{M}{V} \\space \\rightarrow \\space M = \\rho V$$\n",
    "\n",
    "> $$ V = dxwh$$\n",
    "\n",
    ">> Volume is defined as length $\\times$ width $\\times$ height; here, \"length\" is the length of one cell, dx.\n",
    "\n",
    ">> The volume of sediment of a given type (igneous, metamorohic, etc) in a cell will also depend on the bulk porosity of the sediment mixture (assumed to be constant) and the percentage of the sediment mixture that is composed of the specific sediment type of interest. Porosity will be represented by $\\phi$, and will be constant <I> (WE ACTUALLY WANT TO USE 1 - POROSITY, SO JUST BE CAREFUL HERE) </I>. The abundance of a given sediment type in the bulk mixture will be represented by $\\theta$. Adding these into our volume calculation gives the following:\n",
    "\n",
    ">> $$ V = dxwh\\phi\\theta$$\n",
    "\n",
    "> Plugging in an substituting in our equation for mass gives:\n",
    "> $$ M = \\rho dx w h \\phi \\theta$$\n",
    "\n",
    "> To write this as a rate of change of mass, we can say:\n",
    "\n",
    "> $$\\frac{\\partial M}{\\partial t} = \\text{rate of mass in} - \\text{rate of mass out} + \\text{rate of mass generated within cell} - \\text{rate of mass lost within cell}$$\n",
    "\n",
    ">> and then substitute in the equation for $M$ when appropriate."
   ]
  },
  {
   "cell_type": "markdown",
   "metadata": {},
   "source": [
    "### 3. Figure out how to write the pieces on the righthand side in terms of mass\n",
    "\n",
    "> Start with rate of mass coming in from upstream. This will basically be the volume of incoming sediment, times its density. Volume will be a function of the bedload sediment flux, $Qs$. Normally a flux would already have dimensions of $[L^3/T]$ (voume per time), but often we divide this by a unit width of a river channel, changing the dimensions to $[L^2/T]$. We write this with a lowercase symbol, $qs$.\n",
    "\n",
    "> However, the volume of the incoming sediment does depend on the width of the channel cross section, so we multiply our $qs$ by $w$. Now we're back at $[L^3/T]$ (volume per time). So now to get the mass flux, we just need to multiply by the density of sediment.\n",
    "\n",
    "> Importantly, we need to indicate that this sediment is entering the system at the upstream position $x$. So at the moment, we have:\n",
    "\n",
    ">> $$\\frac{\\partial M}{\\partial t} = \\rho qs|_x w - \\text{rate of mass out + } ... $$\n",
    "\n",
    "> The rate of mass out looks exactly the same (assuming uniform channel width), except now we write it to indicate that we're interested in the flux at the downstream position $x + dx$:\n",
    "\n",
    ">> $$\\frac{\\partial M}{\\partial t} = \\rho qs|_x w - \\rho qs|_{x+dx} w + \\text{rate of mass generated within cell} - \\text{rate of mass lost within cell}$$\n",
    "\n",
    "> It's a little out of order, but next we'll tackle the \"rate of mass lost\" piece. There are two ways that mass could be lost (i.e., disappear into \"fines\") in a cell: (1) if bedrock is exposed, any bedrock erosion from abrasion will become fines, and (2) grain attrition, which results from grain-on-grain abrasion, also produces fines. Bedrock abrasion is written as:\n",
    "\n",
    ">> $$\\text{bedrock abrasion} = \\epsilon_{ab} = qs \\beta_b$$\n",
    "\n",
    "> which says that the amount of bed lowering that occurs due to abrasion is the bedload sediment flux times the abrasion coefficient <b> of the bed material</b>.\n",
    "\n",
    "> Grain attrition, then, results from the bedload sediment flux and the abrasion coefficient of the grain itself:\n",
    "\n",
    ">> $$\\text{attrition} = qs \\beta_g$$\n",
    "\n",
    "> If the bed material and sediment material are the same, then these terms are equivalent, and you could simply write that the mass lost in each cell from abrasion is $2qs\\beta$. However, we're dealing with a sediemnt mixture and non-uniform bed lithology, so we'll keep them seperate and just use the subscripts $b$ and $g$ to differentiate between the abrasion coeffcieints of the bed material vs the grain material.\n",
    "\n",
    "> So now we want to add these to terms into our mass conservation statement. These processes depend not only on the incoming sediment flux (and therefore the channel width), but also the surface area over which they can act. This means we need to multiply by channel length, $dx$, as well as channel width, $w$. And since we want to get back to a mass, we multiply by our density:\n",
    "\n",
    ">> $$\\frac{\\partial M}{\\partial t} = \\rho qs|_x w - \\rho qs|_{x+dx} w - \\rho qs \\beta_b w dx - \\rho qs \\beta_g w dx + \\text{rate of mass generated within cell}$$\n",
    "\n",
    "> Finally, how is mass generated within a cell? This also has two sources. One is bedrock erosion from stream power, a proxy for the plucking process, which generates particles large enough that they sit on the bed rather than instantaneously becoming washload. Stream power erosion is written as follows:\n",
    "\n",
    ">> $$ \\text{stream power} = \\epsilon_{sp} = kqS$$\n",
    "\n",
    "> The other way that mass can be gained within a cell is by assuming a constant transport capacity of bedload sediment. As bedload sediment ($qs$) loses mass to grain attrition, the river gains the capacity to entrain some additional mass from the bed. The amount of material lost from the grains themselves will be equal to the amount of material that can be picked up from mobile sediment on the bed. Here, the abrasion coefficient that matters is that of the grain that is being abraded. <I>(HOW TO MAKE IT SO THAT THIS STEP ALLOWS FOR BED MATERIAL OF ANY LITHOLOGY TO BE ENTRAINED? AT THIS POINT, CAN ONLY EXCHANGE IG FOR IG, SED FOR SED, ETC.)</I>\n",
    "\n",
    ">> $$ \\text{excess transport capacity} = qs\\beta_g$$\n",
    "\n",
    "> As with the processes that contribute to mass loss, mass gain depends on the surface area being acted over, so we multiply both stream power and excess transport capacity by the cell length and width and grain density. So FINALLY we have:\n",
    "\n",
    ">> $$\\frac{\\partial M}{\\partial t} = \\rho qs|_x w - \\rho qs|_{x+dx} w - \\rho qs \\beta_b w dx - \\rho qs \\beta_g w dx + \\rho \\epsilon_{sp} w dx + \\rho qs\\beta_g w dx $$"
   ]
  },
  {
   "cell_type": "markdown",
   "metadata": {},
   "source": [
    "### 4. Do a bunch of substituting and canceling\n",
    "\n",
    "> Substitute in volume and density for mass on the lefthand side\n",
    "\n",
    ">> $$\\frac{\\partial \\rho dx w h \\phi \\theta}{\\partial t} = \\rho qs|_x w - \\rho qs|_{x+dx} w - \\rho qs \\beta_b w dx - \\rho qs \\beta_g w dx + \\rho \\epsilon_{sp} w dx + \\rho qs\\beta_g w dx $$\n",
    "\n",
    "> Take out all the constants, because we're just interested in the change in thickness through time\n",
    "\n",
    ">> $$ \\rho dx w \\phi \\theta \\frac{\\partial h}{\\partial t} = \\rho qs|_x w - \\rho qs|_{x+dx} w - \\rho qs \\beta_b w dx - \\rho qs \\beta_g w dx + \\rho \\epsilon_{sp} w dx + \\rho qs\\beta_g w dx $$\n",
    "\n",
    "> Do some division\n",
    "\n",
    ">> $$ \\frac{\\partial h}{\\partial t} = \\frac{1}{\\phi \\theta} \\left ( \\frac{qs|_x - qs|_{x+dx}}{dx} - qs \\beta_b - qs \\beta_g + \\epsilon_{sp} + qs\\beta_g \\right ) $$\n",
    "\n",
    "> And some rearranging and sign changing\n",
    "\n",
    ">> $$ \\frac{\\partial h}{\\partial t} = - \\frac{1}{\\phi \\theta} \\left ( \\frac{- qs|_x + qs|_{x+dx}}{dx} + qs \\beta_b + qs \\beta_g - \\epsilon_{sp} - qs\\beta_g \\right ) $$\n",
    "\n",
    "> Finally, rewrite with the first two terms on the righthand side as a derivative, and simplify. Here, notice that two terms, $\\pm qs\\beta_g$, cancel out. This is because the mass that is lost in a cell due to grain attrition is perfectly compensated for in excess transport capacity.\n",
    "\n",
    ">> $$ \\frac{\\partial h}{\\partial t} = - \\frac{1}{\\phi \\theta} \\left ( \\frac{\\partial qs}{\\partial x} + qs \\beta_b - \\epsilon_{sp} \\right ) $$\n",
    "\n",
    "> Altogether, this states that degradation of the alluvial layer is equal to the bedload sediment fux across a given point on the streambed, minus material abraded from the bed that is transported as fines, plus material plucked from the bed that then becomes part of the bedload. This formulation does not differentiate between an active layer and the total alluvial thickness. It also assumes some bedrock is exposed to be eroded. The bedrock erosion terms can be modulated by an exponential function that dictates bed cover and the effectiveness of these mechanisms."
   ]
  },
  {
   "cell_type": "code",
   "execution_count": null,
   "metadata": {},
   "outputs": [],
   "source": [
    "# Greg sez: we don't actually get the excess transport capacity from grain attrition back,\n",
    "# because that would have to come from bedrock and if we have full cover then can't get it from bedrock. \n",
    "# so just add back in + qsBeta_g to the term above\n",
    "# which will make it so that grain attrition degrades the alluvial layer\n",
    "# (that's what this mass conservation statement is for: the thickness of an alluvial layer)"
   ]
  }
 ],
 "metadata": {
  "kernelspec": {
   "display_name": "Python 3",
   "language": "python",
   "name": "python3"
  },
  "language_info": {
   "codemirror_mode": {
    "name": "ipython",
    "version": 3
   },
   "file_extension": ".py",
   "mimetype": "text/x-python",
   "name": "python",
   "nbconvert_exporter": "python",
   "pygments_lexer": "ipython3",
   "version": "3.7.6"
  }
 },
 "nbformat": 4,
 "nbformat_minor": 4
}
