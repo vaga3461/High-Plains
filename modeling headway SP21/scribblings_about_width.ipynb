{
 "cells": [
  {
   "cell_type": "markdown",
   "metadata": {},
   "source": [
    "Let $\\tau_c$ is threshold for $D_{50}$, and $\\tau$ is actual stress.\n",
    "\n",
    "Equi channel theory says:\n",
    "\n",
    "$$\\tau = (1 + p) \\tau_c$$"
   ]
  },
  {
   "cell_type": "markdown",
   "metadata": {},
   "source": [
    "where $p\\approx 0.2$ for now.\n",
    "\n",
    "Shields eqn:\n",
    "\n",
    "$$\\theta_c = \\frac{\\tau_c}{(\\sigma - \\rho ) g D}$$"
   ]
  },
  {
   "cell_type": "markdown",
   "metadata": {},
   "source": [
    "$$\\tau_c = \\theta_c (\\sigma - \\rho ) g D$$\n",
    "\n",
    "$$\\tau = (1 + p) \\theta_c (\\sigma - \\rho ) g D$$\n",
    "\n",
    "Steady, uniform flow:\n",
    "\n",
    "$$\\tau = \\rho g H S$$\n",
    "\n",
    "Manning eq:\n",
    "\n",
    "$$U = \\frac{1}{n} H^{2/3} S^{1/2}$$\n",
    "\n",
    "$$Q = UWH = \\frac{1}{n} W H^{5/3} S^{1/2}$$\n",
    "\n"
   ]
  },
  {
   "cell_type": "markdown",
   "metadata": {},
   "source": [
    "$$H^{5/3} = \\frac{Qn}{WS^{1/2}}$$\n",
    "\n",
    "$$H = \\left( \\frac{Qn}{WS^{1/2}} \\right)^{3/5}$$"
   ]
  },
  {
   "cell_type": "markdown",
   "metadata": {},
   "source": [
    "$$\\tau = \\rho g \\left( \\frac{Qn}{WS^{1/2}} \\right)^{3/5} S$$"
   ]
  },
  {
   "cell_type": "markdown",
   "metadata": {},
   "source": [
    "$$\\tau = \\rho g \\left( \\frac{Qn}{W} \\right)^{3/5} S^{7/10}$$"
   ]
  },
  {
   "cell_type": "markdown",
   "metadata": {},
   "source": [
    "$$\\rho g \\left( \\frac{Qn}{W} \\right)^{3/5} S^{7/10} = (1 + p) \\theta_c (\\sigma - \\rho ) g D$$"
   ]
  },
  {
   "cell_type": "markdown",
   "metadata": {},
   "source": [
    "$$W^{3/5} = \\frac{\\rho g \\left(Q n\\right)^{3/5} S^{7/10}}{(1 + p) \\theta_c (\\sigma - \\rho ) g D}$$"
   ]
  },
  {
   "cell_type": "markdown",
   "metadata": {},
   "source": [
    "$$W = \\left(\\frac{\\rho g }{(1 + p) \\theta_c (\\sigma - \\rho ) g D} \\right)^{5/3} n Q S^{7/6}$$"
   ]
  },
  {
   "cell_type": "markdown",
   "metadata": {},
   "source": [
    "$$W = \\left(\\frac{1}{(1 + p) \\theta_c R D} \\right)^{5/3} n Q S^{7/6}$$"
   ]
  },
  {
   "cell_type": "code",
   "execution_count": null,
   "metadata": {},
   "outputs": [],
   "source": []
  }
 ],
 "metadata": {
  "kernelspec": {
   "display_name": "Python 3",
   "language": "python",
   "name": "python3"
  },
  "language_info": {
   "codemirror_mode": {
    "name": "ipython",
    "version": 3
   },
   "file_extension": ".py",
   "mimetype": "text/x-python",
   "name": "python",
   "nbconvert_exporter": "python",
   "pygments_lexer": "ipython3",
   "version": "3.7.6"
  }
 },
 "nbformat": 4,
 "nbformat_minor": 5
}
