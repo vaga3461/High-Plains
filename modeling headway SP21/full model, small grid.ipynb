{
 "cells": [
  {
   "cell_type": "code",
   "execution_count": 1,
   "id": "c33557f6",
   "metadata": {},
   "outputs": [],
   "source": [
    "# this notebook is trying to see what it takes to run the full model \n",
    "# (two lithologies, width-dependent transport, lateral sediment, etc.)\n",
    "# to steady state, albeit on a downsized grid"
   ]
  },
  {
   "cell_type": "code",
   "execution_count": 2,
   "id": "cd92f00b",
   "metadata": {},
   "outputs": [],
   "source": [
    "# start with just the math, and steps"
   ]
  },
  {
   "cell_type": "markdown",
   "id": "b2163cf0",
   "metadata": {},
   "source": [
    "## What steps are we following in our model?\n",
    "\n",
    "### Outside of the loop:\n",
    "1. Define parameters\n",
    "- grid spacing $(x)$\n",
    "- length of domain $(dx)$\n",
    "\n",
    "- runoff rate $(r)$\n",
    "- Hack coefficient for basin shape $(k_h)$\n",
    "- Hack exponent for basin shape $(h)$\n",
    "\n",
    "- characteristic sediment thickness $(H^*)$\n",
    "\n",
    "- igneous abrasion coeffcient $(\\beta)$\n",
    "- attrition factor (same as igneous abrasion coeff) $(\\psi)$\n",
    "- erodibility $(K)$\n",
    "\n",
    "- fraction of \"hillslope\" / \"tributary\" material that is coarse $(\\gamma)$\n",
    "\n",
    "- valley width coefficient $(k_{x, B})$\n",
    "- valley width exponent $(P_{x, B})$\n",
    "- channel width coefficient $(k_b)$\n",
    "\n",
    "- porosity $(\\phi)$\n",
    "- grain size $(D)$\n",
    "\n",
    "- uplift rate $(U)$\n",
    "\n",
    "2. Set up arrays\n",
    "- sediment $(H)$\n",
    "- bedrock $(\\eta_b)$\n",
    "- topography $(\\eta)$\n",
    "\n",
    "3. Calculate constant, derivative values\n",
    "- total discharge $(Q)$\n",
    "- valley width $(B)$\n",
    "\n",
    "### Within the function but before the loop:\n",
    "1. Define constants (not tunable parameters)\n",
    "- c\n",
    "- I\n",
    "2. Calculate dt\n",
    "3. Define arrays\n",
    "- channel width $(b)$\n",
    "- bedrock erosion $(E_b)$\n",
    "- sedimentation rate $(E_H)$\n",
    "- total erosion rate $(E)$\n",
    "- unit discharge $(q)$\n",
    "- total sediment transport $(Q_s)$\n",
    "- unit sediment transport $(q_s)$\n",
    "- lateral sediment transport $(ql)$\n",
    "4. Set boundary conditions for $b$, $H$, $E$, $q$, and $q_l$\n",
    "\n",
    "### Within the loop:\n",
    "1. Calculate slope using topography $(S)$\n",
    "- Have started with tiny slope so that we don't get \"divide by 0\" errors\n",
    "2. Calculate channel width $(b)$\n",
    "3. Calculate unit discharge $(q)$\n",
    "- total discharge divided by channel width\n",
    "4. Calculate bed cover $(\\alpha)$\n",
    "5. Calculate sediment transport\n",
    "- total sed transport is W&S Eqn 17 $(Q_s)$\n",
    "- unit sed transport is total transport divided by valley width $(q_s)$\n",
    "6. Calculate bedrock erosion via plucking and abrasion\n",
    "- These processes only occur in the channel (multiply by channel width?)\n",
    "7. Calculate attrition\n",
    "- This process happens in the channel, over the unit flux?\n",
    "8. Calculate lateral sediment inputs\n",
    "9. Calculate sedimentation rate\n",
    "- This occurs over the valley width, idea being that over long timescales the entire valley aggrades or incises at roughly the same rate\n",
    "10. Calculate total erosion rate\n",
    "- Bedrock erosion minus sedimentation\n",
    "11. Update topography"
   ]
  },
  {
   "cell_type": "code",
   "execution_count": 3,
   "id": "d1ac0829",
   "metadata": {},
   "outputs": [],
   "source": [
    "import numpy as np\n",
    "from numpy import random\n",
    "import matplotlib.pyplot as plt"
   ]
  },
  {
   "cell_type": "code",
   "execution_count": 4,
   "id": "5686c35d",
   "metadata": {},
   "outputs": [],
   "source": [
    "# define parameters\n",
    "\n",
    "dx = 1000 # grid spacing\n",
    "x = np.arange(0, 10000, dx) # domain length\n",
    "r = 10. # runoff rate\n",
    "kh = 1/3 # hack coefficient\n",
    "h = 2 # hack exponent\n",
    "Hstar = 0.5 # characteristic sediment thickness\n",
    "beta = np.zeros(len(x))\n",
    "beta[:3] = 0.0004\n",
    "beta[3:] = 0.004\n",
    "# beta = 0.00004 # igneous abrasion coefficient\n",
    "psi = 0.00004 # attrition factor\n",
    "K = np.zeros(len(x))\n",
    "K[:3] = 0.000001\n",
    "K[3:] = 0.00001\n",
    "# K = 0.0001 # rock erodibility\n",
    "# gamma = 0.5 # fraction of coarse sediment from hillslope erosion\n",
    "gamma = np.zeros(len(x))\n",
    "gamma[:3] = 0.5\n",
    "kxb = 25 # valley width coefficient\n",
    "Pxb = 1/5 # valley width exponent\n",
    "kb = 8.3e-8 # channel width coefficient\n",
    "phi = 0.55 # sediment porosity\n",
    "D = 0.05 # grain size\n",
    "U = 0.00005"
   ]
  },
  {
   "cell_type": "code",
   "execution_count": 5,
   "id": "17597a72",
   "metadata": {},
   "outputs": [],
   "source": [
    "# set up arrays\n",
    "\n",
    "H = Hstar + np.zeros(len(x)) # sediment thickness\n",
    "etab = np.zeros(len(x)) # bedrock elevation array\n",
    "etab[:] = np.linspace(1, 0.1, len(x)) # need to start with slight bedrock slope\n",
    "eta = etab + H # total topographic elevation"
   ]
  },
  {
   "cell_type": "code",
   "execution_count": 6,
   "id": "d345afdf",
   "metadata": {},
   "outputs": [],
   "source": [
    "# calculate constant, derivative values\n",
    "\n",
    "B = kxb * (x**Pxb) # valley width\n",
    "# Q = r * kh * (x**h) # total discharge\n",
    "Q = r * B * x"
   ]
  },
  {
   "cell_type": "code",
   "execution_count": 7,
   "id": "3b01b814",
   "metadata": {},
   "outputs": [
    {
     "data": {
      "text/plain": [
       "array([  0.        ,  99.52679264, 114.32626298, 123.98360491,\n",
       "       131.32639022, 137.32006791, 142.41976301, 146.87896944,\n",
       "       150.85440841, 154.45021264])"
      ]
     },
     "execution_count": 7,
     "metadata": {},
     "output_type": "execute_result"
    }
   ],
   "source": [
    "B"
   ]
  },
  {
   "cell_type": "code",
   "execution_count": 8,
   "id": "e995254b",
   "metadata": {},
   "outputs": [
    {
     "data": {
      "text/plain": [
       "[<matplotlib.lines.Line2D at 0x7f93cbc62550>]"
      ]
     },
     "execution_count": 8,
     "metadata": {},
     "output_type": "execute_result"
    },
    {
     "data": {
      "image/png": "[encoded data removed]",
      "text/plain": [
       "<Figure size 432x288 with 1 Axes>"
      ]
     },
     "metadata": {
      "needs_background": "light"
     },
     "output_type": "display_data"
    }
   ],
   "source": [
    "plt.plot(x, eta)"
   ]
  },
  {
   "cell_type": "code",
   "execution_count": 9,
   "id": "cd644e0b",
   "metadata": {},
   "outputs": [],
   "source": [
    "def model(x,\n",
    "          dx,\n",
    "          Hstar,\n",
    "          H,\n",
    "          etab,\n",
    "          eta,\n",
    "          beta,\n",
    "          psi,\n",
    "          K,\n",
    "          gamma,\n",
    "          kxb,\n",
    "          Pxb,\n",
    "          kb,\n",
    "          phi,\n",
    "          D,\n",
    "          U,\n",
    "          Q,\n",
    "          B,\n",
    "          num_steps = 1000000):\n",
    "    \n",
    "    # define more constants\n",
    "    kqs = 0.041 # sediment discharge coefficient\n",
    "    I = 0.01 # intermittency factor\n",
    "    \n",
    "    # calculate timestep\n",
    "    dt_global = 0.2 * (0.2 * dx * dx / (kqs*Q[-1]))\n",
    "    run_duration = dt_global * num_steps  # <== here's how long we want to run\n",
    "    cum_time = 0.0  # <== keep track of elapsed time\n",
    "    \n",
    "    # define arrays\n",
    "    b = np.zeros(len(x)) # channel width\n",
    "    Eb_p = np.zeros(len(x)) # plucking rate\n",
    "    Eb_a = np.zeros(len(x)) # abrasion rate\n",
    "    Eb = np.zeros(len(x)) # bedrock erosion rate\n",
    "    Eh = np.zeros(len(x)) # sedimentation rate\n",
    "    E = np.zeros(len(x)) # total erosion rate\n",
    "    q = np.zeros(len(x)) # unit discharge\n",
    "    Qs = np.zeros(len(x)) # total sediment transport\n",
    "    qs = np.zeros(len(x)) # unit sediment transport\n",
    "    ql = np.zeros(len(x)) # lateral sediment supply\n",
    "    \n",
    "    # set boundary conditions\n",
    "    b[0] = 0\n",
    "    H[-1] = 0\n",
    "    E[-1] = U/5\n",
    "    q[0] = 0\n",
    "    Qs[0] = 0\n",
    "    qs[0] = 0\n",
    "    ql[0] = 0\n",
    "    \n",
    "    while cum_time < run_duration:  # <== use a while loop because dt varies by iteration\n",
    "        \n",
    "        # first calculate rates\n",
    "            \n",
    "        # calculate slope\n",
    "        S = np.abs(np.diff(eta)/dx)\n",
    "        \n",
    "        # calculate channel width (L)\n",
    "        b = (kb * Q[1:] * (S ** (7 / 6))) / (D**(3/2))\n",
    "        \n",
    "        # calculate unit discharge (L^2/T)\n",
    "        q[1:] = Q[1:]/b\n",
    "        \n",
    "        # calculate bed exposure\n",
    "        alpha = np.exp(-H/Hstar)\n",
    "        \n",
    "        # calculate sediment transport (L^3/T and L^2/T)\n",
    "        # Qs[1:] = c * I * Q[1:] * S**(7/6) * (1 - alpha[:-1])\n",
    "        Qs[1:] = kqs * I * Q[1:] * np.sign(S) * (np.abs(S)) ** (7/6) * (1-alpha[:-1])\n",
    "        qs[1:] = Qs[1:]/b\n",
    "        \n",
    "        # calculate individual erosion mechanism rates (L^2/T)\n",
    "        Eb_p[:-1] = K[1:] * Q[1:] * S * alpha[:-1]\n",
    "        Eb_a[:-1] = beta[1:] * Qs[1:] * alpha[:-1]\n",
    "        \n",
    "        # calculate total bedrock erosion rate (L/T)\n",
    "        # Eb[:-1] = Eb_p[:-1] + Eb_a[:-1]\n",
    "        Eb[:-1] = (Eb_p[:-1] + Eb_a[:-1]) / B[1:]\n",
    "        \n",
    "        # calculate attrition rate (L^2/T)\n",
    "        atr = beta * Qs\n",
    "        \n",
    "        # calculate lateral sediment inputs (L^2/T)\n",
    "        # ql = ((Eb * gamma) / beta) * (1 - np.exp(-beta * (x/3)))\n",
    "        # using U is fine for experimenting now, but will eventually need to become a weighted average\n",
    "        # of past values of total E\n",
    "        ql = ((U * gamma) / beta) * (1 - np.exp(-beta * (x/3)))\n",
    "        \n",
    "        # calculate sedimentation rate (L/T)\n",
    "        Eh[:-1] = - (1/ ((1 - phi) * B[1:])) * ((np.diff(Qs)/dx) + atr[1:] - Eb_p[:-1] - ql[:-1])\n",
    "        #Eh[1:] = - (1/ (1 - phi) * B[1:]) * ((np.diff(Qs)/dx) + atr[1:] - Eb_p[:-1] - ql[:-1])\n",
    "        \n",
    "        # calculate total erosion rate (L/T)\n",
    "        E[:-1] = Eb[:-1] + Eh[:-1]\n",
    "        \n",
    "        \n",
    "        \n",
    "        \n",
    "        # Calculate maximum allowable time-step size\n",
    "        \n",
    "        #  set adaptive timestep\n",
    "        #  first check time to flat surface\n",
    "        elev_diff = np.diff(eta)/dx\n",
    "        ero_diff = np.diff(E)/dx\n",
    "        #valid_places = np.where(ero_diff < 0)\n",
    "        valid_places = np.where(ero_diff < 0)[0]  # <== we just want the array, not the full tuple from where()\n",
    "        if len(valid_places) > 0:  # <== in case there ARE no locations...\n",
    "            times_to_flat = np.abs(elev_diff[valid_places]/ero_diff[valid_places])\n",
    "        else:\n",
    "            times_to_flat = np.array([dt_global])  # <== ...we just revert to the global dt\n",
    "        min_time_to_flat = np.amin(times_to_flat)\n",
    "\n",
    "        #  then check time to deplete all sediment\n",
    "        #sed_depletion_locations = np.where(sedimentation_rate < 0)\n",
    "        sed_depletion_locations = np.where(Eh < 0)[0]  # <== we just want the array, not the full tuple from where()\n",
    "        if len(sed_depletion_locations) > 0:  # <== in case there ARE no locations...\n",
    "            times_to_no_sed = np.abs(H[sed_depletion_locations]/Eh[sed_depletion_locations])\n",
    "        else:\n",
    "            times_to_no_sed = np.array([dt_global])  # <== ...we just revert to the global dt\n",
    "        min_time_to_no_sed = np.amin(times_to_no_sed)\n",
    "\n",
    "        #  check for smaller condition\n",
    "        dt = min(min_time_to_flat, min_time_to_no_sed)\n",
    "\n",
    "        #  if larger than global step size, limit to global\n",
    "        dt = min(dt, dt_global)\n",
    "        \n",
    "        \n",
    "        \n",
    "        # Update quantities\n",
    "        \n",
    "        # update boundary conditions\n",
    "        eta[-1] -= U * dt\n",
    "        etab[-1] = eta[-1]\n",
    "        \n",
    "        # update topography\n",
    "        etab[:-1] -= Eb[:-1] * dt\n",
    "        H[:-1] += Eh[:-1] * dt\n",
    "        H[H<0] = 0\n",
    "        eta[:-1] = etab[:-1] + H[:-1]\n",
    "        \n",
    "        # Advance time\n",
    "        cum_time += dt\n",
    "        \n",
    "#         print(dt, \"chosen timestep in years\")\n",
    "#         print(dt_global, \"global timestep\")\n",
    "#         print(min_time_to_flat, \"time to flat\")\n",
    "#         print(min_time_to_no_sed, \"time to no sed\")\n",
    "        \n",
    "        if any(E[:] != U):\n",
    "            continue\n",
    "        else:\n",
    "            break\n",
    "            \n",
    "    print(cum_time, \"years\")\n",
    "        \n",
    "    return (S, b, q, Qs, qs, Eb, atr, ql, Eh, E, eta, etab, H, dt)"
   ]
  },
  {
   "cell_type": "code",
   "execution_count": 10,
   "id": "8d26a0c7",
   "metadata": {},
   "outputs": [],
   "source": [
    "test_run = [x, dx, Hstar, H, etab, eta, beta, psi, K, gamma, kxb, Pxb, kb, phi, D, U, Q, B]"
   ]
  },
  {
   "cell_type": "code",
   "execution_count": 11,
   "id": "95e4a4dd",
   "metadata": {},
   "outputs": [
    {
     "name": "stdout",
     "output_type": "stream",
     "text": [
      "70185.13526151761 years\n"
     ]
    }
   ],
   "source": [
    "(S, b, q, Qs, qs, Eb, atr, ql, Eh, E, eta, etab, H, dt) = model(*test_run)"
   ]
  },
  {
   "cell_type": "code",
   "execution_count": 12,
   "id": "59b3351b",
   "metadata": {},
   "outputs": [
    {
     "data": {
      "text/plain": [
       "array([2.40154593e-05, 1.34516126e-04, 2.44687297e-05, 1.11212095e-05,\n",
       "       1.36925009e-05, 3.15406143e-05, 3.84753322e-05, 4.67978448e-05,\n",
       "       4.95859440e-05, 1.00000000e-05])"
      ]
     },
     "execution_count": 12,
     "metadata": {},
     "output_type": "execute_result"
    }
   ],
   "source": [
    "E"
   ]
  },
  {
   "cell_type": "code",
   "execution_count": 13,
   "id": "69798fc4",
   "metadata": {},
   "outputs": [
    {
     "data": {
      "text/plain": [
       "array([2.48832821e-05, 2.28949597e-14, 3.18670273e-09, 3.97459207e-06,\n",
       "       1.11195312e-05, 2.87270034e-05, 3.82857554e-05, 4.64266130e-05,\n",
       "       4.93661528e-05, 0.00000000e+00])"
      ]
     },
     "execution_count": 13,
     "metadata": {},
     "output_type": "execute_result"
    }
   ],
   "source": [
    "Eb"
   ]
  },
  {
   "cell_type": "code",
   "execution_count": 14,
   "id": "5869f8cf",
   "metadata": {},
   "outputs": [
    {
     "data": {
      "text/plain": [
       "array([-8.67822872e-07,  1.34516126e-04,  2.44655430e-05,  7.14661747e-06,\n",
       "        2.57296972e-06,  2.81361089e-06,  1.89576743e-07,  3.71231826e-07,\n",
       "        2.19791290e-07,  0.00000000e+00])"
      ]
     },
     "execution_count": 14,
     "metadata": {},
     "output_type": "execute_result"
    }
   ],
   "source": [
    "Eh"
   ]
  },
  {
   "cell_type": "code",
   "execution_count": 15,
   "id": "3f9e4994",
   "metadata": {},
   "outputs": [
    {
     "data": {
      "text/plain": [
       "array([0.        , 0.00780167, 0.01462948, 0.        , 0.        ,\n",
       "       0.        , 0.        , 0.        , 0.        , 0.        ])"
      ]
     },
     "execution_count": 15,
     "metadata": {},
     "output_type": "execute_result"
    }
   ],
   "source": [
    "ql"
   ]
  },
  {
   "cell_type": "code",
   "execution_count": 16,
   "id": "4c9551bc",
   "metadata": {},
   "outputs": [
    {
     "data": {
      "text/plain": [
       "<matplotlib.legend.Legend at 0x7f93cbbac190>"
      ]
     },
     "execution_count": 16,
     "metadata": {},
     "output_type": "execute_result"
    },
    {
     "data": {
      "image/png": "[encoded data removed]",
      "text/plain": [
       "<Figure size 432x288 with 1 Axes>"
      ]
     },
     "metadata": {
      "needs_background": "light"
     },
     "output_type": "display_data"
    }
   ],
   "source": [
    "plt.plot(x, eta, label = 'topo')\n",
    "plt.plot(x, etab, label = 'bedrock')\n",
    "plt.plot(x, H, label = 'sediment')\n",
    "plt.legend()"
   ]
  },
  {
   "cell_type": "code",
   "execution_count": 17,
   "id": "f5240cf6",
   "metadata": {},
   "outputs": [
    {
     "data": {
      "text/plain": [
       "[<matplotlib.lines.Line2D at 0x7f93cc017750>]"
      ]
     },
     "execution_count": 17,
     "metadata": {},
     "output_type": "execute_result"
    },
    {
     "data": {
      "image/png": "[encoded data removed]",
      "text/plain": [
       "<Figure size 432x288 with 1 Axes>"
      ]
     },
     "metadata": {
      "needs_background": "light"
     },
     "output_type": "display_data"
    }
   ],
   "source": [
    "plt.plot(x, Qs)"
   ]
  },
  {
   "cell_type": "code",
   "execution_count": 18,
   "id": "c2c13e1e",
   "metadata": {},
   "outputs": [
    {
     "data": {
      "text/plain": [
       "[<matplotlib.lines.Line2D at 0x7f93cc111a10>]"
      ]
     },
     "execution_count": 18,
     "metadata": {},
     "output_type": "execute_result"
    },
    {
     "data": {
      "image/png": "[encoded data removed]",
      "text/plain": [
       "<Figure size 432x288 with 1 Axes>"
      ]
     },
     "metadata": {
      "needs_background": "light"
     },
     "output_type": "display_data"
    }
   ],
   "source": [
    "plt.plot(x, E)"
   ]
  },
  {
   "cell_type": "code",
   "execution_count": 37,
   "id": "e04d9439",
   "metadata": {},
   "outputs": [],
   "source": [
    "# okay, so we're almost to steady state\n",
    "# began: 6:48 am\n",
    "# finished: "
   ]
  },
  {
   "cell_type": "code",
   "execution_count": 38,
   "id": "2cf83cd6",
   "metadata": {},
   "outputs": [],
   "source": [
    "# scratch code\n",
    "# def model(x,\n",
    "#           dx,\n",
    "#           Hstar,\n",
    "#           H,\n",
    "#           etab,\n",
    "#           eta,\n",
    "#           beta,\n",
    "#           psi,\n",
    "#           K,\n",
    "#           gamma,\n",
    "#           kxb,\n",
    "#           Pxb,\n",
    "#           kb,\n",
    "#           phi,\n",
    "#           D,\n",
    "#           U,\n",
    "#           Q,\n",
    "#           B,\n",
    "#           num_steps = 8000000):\n",
    "    \n",
    "#     # define more constants\n",
    "#     kqs = 0.041 # sediment discharge coefficient\n",
    "#     I = 0.01 # intermittency factor\n",
    "    \n",
    "#     # calculate timestep\n",
    "#     dt = 0.2 * (0.2 * dx * dx / (kqs*Q[-1]))\n",
    "    \n",
    "#     # define arrays\n",
    "#     b = np.zeros(len(x)) # channel width\n",
    "#     Eb_p = np.zeros(len(x)) # plucking rate\n",
    "#     Eb_a = np.zeros(len(x)) # abrasion rate\n",
    "#     Eb = np.zeros(len(x)) # bedrock erosion rate\n",
    "#     Eh = np.zeros(len(x)) # sedimentation rate\n",
    "#     E = np.zeros(len(x)) # total erosion rate\n",
    "#     q = np.zeros(len(x)) # unit discharge\n",
    "#     Qs = np.zeros(len(x)) # total sediment transport\n",
    "#     qs = np.zeros(len(x)) # unit sediment transport\n",
    "#     ql = np.zeros(len(x)) # lateral sediment supply\n",
    "    \n",
    "#     # set boundary conditions\n",
    "#     b[0] = 0\n",
    "#     H[-1] = 0\n",
    "#     E[-1] = U\n",
    "#     q[0] = 0\n",
    "#     Qs[0] = 0\n",
    "#     qs[0] = 0\n",
    "#     ql[0] = 0\n",
    "    \n",
    "#     for i in range(num_steps):\n",
    "        \n",
    "#         # update boundary conditions\n",
    "#         eta[-1] -= U * dt\n",
    "#         etab[-1] = eta[-1]\n",
    "        \n",
    "#         # calculate slope\n",
    "#         S = np.abs(np.diff(eta)/dx)\n",
    "        \n",
    "#         # calculate channel width (L)\n",
    "#         # b = (kb * Q[1:] * (S**(7/6))) / (D**(3/2))\n",
    "#         b = (kb * Q[1:] * (S ** (7 / 6))) / (D**(3/2))\n",
    "        \n",
    "#         # calculate unit discharge (L^2/T)\n",
    "#         q[1:] = Q[1:]/b\n",
    "        \n",
    "#         # calculate bed exposure\n",
    "#         alpha = np.exp(-H/Hstar)\n",
    "        \n",
    "#         # calculate sediment transport (L^3/T and L^2/T)\n",
    "#         # Qs[1:] = c * I * Q[1:] * S**(7/6) * (1 - alpha[:-1])\n",
    "#         Qs[1:] = kqs * I * Q[1:] * np.sign(S) * (np.abs(S)) ** (7/6) * (1-alpha[:-1])\n",
    "#         qs[1:] = Qs[1:]/b\n",
    "        \n",
    "#         # calculate bedrock erosion rates (L^2/T)\n",
    "#         Eb_p[:-1] = K * Q[1:] * S * alpha[:-1]\n",
    "#         Eb_a[:-1] = beta * Qs[1:] * alpha[:-1]\n",
    "        \n",
    "#         # Eb[:-1] = Eb_p[:-1] + Eb_a[:-1]\n",
    "#         Eb[:-1] = (Eb_p[:-1] + Eb_a[:-1]) / B[1:]\n",
    "        \n",
    "#         # calculate attrition rate (L^2/T)\n",
    "#         atr = beta * Qs\n",
    "        \n",
    "#         # calculate lateral sediment inputs (L/T)... needs to be L^2/T\n",
    "#         ql = ((Eb * gamma) / beta) * (1 - np.exp(-beta * (x/3)))\n",
    "        \n",
    "#         # calculate sedimentation rate (L/T)\n",
    "#         Eh[:-1] = - (1/ (1 - phi) * B[1:]) * ((np.diff(Qs)/dx) + atr[1:] - Eb_p[:-1] - ql[:-1])\n",
    "#         #Eh[1:] = - (1/ (1 - phi) * B[1:]) * ((np.diff(Qs)/dx) + atr[1:] - Eb_p[:-1] - ql[:-1])\n",
    "        \n",
    "#         # calculate total erosion rate\n",
    "#         E[:-1] = Eb[:-1] + Eh[:-1]\n",
    "        \n",
    "#         # update topography\n",
    "#         etab[:-1] -= Eb[:-1] * dt\n",
    "#         H[:-1] += Eh[:-1] * dt\n",
    "#         H[H<0] = 0\n",
    "#         eta[:-1] = etab[:-1] + H[:-1]\n",
    "        \n",
    "#     return (S, b, q, Qs, qs, Eb, atr, ql, Eh, E, eta, etab, H, dt)"
   ]
  }
 ],
 "metadata": {
  "kernelspec": {
   "display_name": "Python 3",
   "language": "python",
   "name": "python3"
  },
  "language_info": {
   "codemirror_mode": {
    "name": "ipython",
    "version": 3
   },
   "file_extension": ".py",
   "mimetype": "text/x-python",
   "name": "python",
   "nbconvert_exporter": "python",
   "pygments_lexer": "ipython3",
   "version": "3.7.6"
  }
 },
 "nbformat": 4,
 "nbformat_minor": 5
}
