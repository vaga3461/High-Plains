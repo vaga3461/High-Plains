{
 "cells": [
  {
   "cell_type": "code",
   "execution_count": 2,
   "id": "c33557f6",
   "metadata": {},
   "outputs": [],
   "source": [
    "# this notebook is trying to see what it takes to run the full model \n",
    "# (two lithologies, width-dependent transport, lateral sediment, etc.)\n",
    "# to steady state, albeit on a downsized grid"
   ]
  },
  {
   "cell_type": "code",
   "execution_count": 3,
   "id": "d1ac0829",
   "metadata": {},
   "outputs": [],
   "source": [
    "import numpy as np\n",
    "from numpy import random\n",
    "import matplotlib.pyplot as plt"
   ]
  },
  {
   "cell_type": "code",
   "execution_count": 4,
   "id": "c555fa85",
   "metadata": {},
   "outputs": [
    {
     "name": "stdout",
     "output_type": "stream",
     "text": [
      "[[0. 0. 0. 0.]\n",
      " [0. 0. 0. 0.]]\n",
      "[0. 0. 0. 0.]\n",
      "time 0 [[1. 1. 1. 1.]\n",
      " [0. 0. 0. 0.]]\n",
      "time 1 [[2. 2. 2. 2.]\n",
      " [1. 1. 1. 1.]]\n",
      "time 2 [[3. 3. 3. 3.]\n",
      " [2. 2. 2. 2.]]\n",
      "time 3 [[4. 4. 4. 4.]\n",
      " [3. 3. 3. 3.]]\n",
      "time 4 [[5. 5. 5. 5.]\n",
      " [4. 4. 4. 4.]]\n",
      "time 5 [[6. 6. 6. 6.]\n",
      " [5. 5. 5. 5.]]\n"
     ]
    }
   ],
   "source": [
    "# testing how to append new values to a 2D array\n",
    "\n",
    "array = np.zeros((2, 4))\n",
    "\n",
    "print(array) # whole array\n",
    "print(array[0]) # 0th row of array\n",
    "\n",
    "# something with the same length as the number of columns in array\n",
    "# we'll use this to fill our array\n",
    "fillers = np.zeros(4)\n",
    "\n",
    "# this seems to work\n",
    "# newest values occupy the top row, and older values become the second (and last) row\n",
    "for i in range (6):\n",
    "    fillers[:] += 1\n",
    "    array = np.vstack([fillers, array])\n",
    "    array = np.delete(array, obj = 2, axis = 0)\n",
    "    \n",
    "    print(\"time\", i, array)"
   ]
  },
  {
   "cell_type": "code",
   "execution_count": 5,
   "id": "5686c35d",
   "metadata": {},
   "outputs": [],
   "source": [
    "# define parameters\n",
    "\n",
    "dx = 1000 # grid spacing\n",
    "x = np.arange(0, 10000, dx) # domain length\n",
    "r = 10. # runoff rate\n",
    "kh = 1/3 # hack coefficient\n",
    "h = 2 # hack exponent\n",
    "Hstar = 0.5 # characteristic sediment thickness\n",
    "beta = np.zeros(len(x))\n",
    "beta[:3] = 0.0004\n",
    "beta[3:] = 0.004\n",
    "# beta = 0.00004 # igneous abrasion coefficient\n",
    "psi = 0.00004 # attrition factor\n",
    "K = np.zeros(len(x))\n",
    "K[:3] = 0.000001\n",
    "K[3:] = 0.00001\n",
    "# K = 0.0001 # rock erodibility\n",
    "# gamma = 0.5 # fraction of coarse sediment from hillslope erosion\n",
    "gamma = np.zeros(len(x))\n",
    "gamma[:3] = 0.5\n",
    "kxb = 25 # valley width coefficient\n",
    "Pxb = 1/5 # valley width exponent\n",
    "kb = 8.3e-8 # channel width coefficient\n",
    "phi = 0.55 # sediment porosity\n",
    "D = 0.05 # grain size\n",
    "baselevel_rate = 0.00005"
   ]
  },
  {
   "cell_type": "code",
   "execution_count": 6,
   "id": "17597a72",
   "metadata": {},
   "outputs": [],
   "source": [
    "# set up arrays\n",
    "\n",
    "H = Hstar + np.zeros(len(x)) # sediment thickness\n",
    "etab = np.zeros(len(x)) # bedrock elevation array\n",
    "etab[:] = np.linspace(1, 0.1, len(x)) # need to start with slight bedrock slope\n",
    "eta = etab + H # total topographic elevation"
   ]
  },
  {
   "cell_type": "code",
   "execution_count": 7,
   "id": "d345afdf",
   "metadata": {},
   "outputs": [],
   "source": [
    "# calculate constant, derivative values\n",
    "\n",
    "B = kxb * (x**Pxb) # valley width\n",
    "# Q = r * kh * (x**h) # total discharge\n",
    "Q = r * B * x"
   ]
  },
  {
   "cell_type": "code",
   "execution_count": 8,
   "id": "cd644e0b",
   "metadata": {},
   "outputs": [],
   "source": [
    "def model(x,\n",
    "          dx,\n",
    "          Hstar,\n",
    "          H,\n",
    "          etab,\n",
    "          eta,\n",
    "          beta,\n",
    "          psi,\n",
    "          K,\n",
    "          gamma,\n",
    "          kxb,\n",
    "          Pxb,\n",
    "          kb,\n",
    "          phi,\n",
    "          D,\n",
    "          baselevel_rate,\n",
    "          Q,\n",
    "          B,\n",
    "          num_steps = 2):\n",
    "    \n",
    "    # define more constants\n",
    "    kqs = 0.041 # sediment discharge coefficient\n",
    "    I = 0.01 # intermittency factor\n",
    "    \n",
    "    # calculate timestep\n",
    "    dt_global = 0.2 * (0.2 * dx * dx / (kqs*(Q[-1]/B[-1])))\n",
    "    tau = 0.2 * (0.2 * dx * dx / (kqs*(Q[-1]/B[-1]))) # timescale for weighted E\n",
    "    run_duration = dt_global * num_steps  # <== here's how long we want to run\n",
    "    cum_time = 0.0  # <== keep track of elapsed time\n",
    "    \n",
    "    # define arrays\n",
    "    b = np.zeros(len(x)) # channel width\n",
    "    Eb_p = np.zeros(len(x)) # plucking rate\n",
    "    Eb_a = np.zeros(len(x)) # abrasion rate\n",
    "    Eb = np.zeros(len(x)) # bedrock erosion rate\n",
    "    Eh = np.zeros(len(x)) # sedimentation rate\n",
    "    E = np.zeros(len(x)) # total erosion rate\n",
    "    q = np.zeros(len(x)) # unit discharge\n",
    "    Qs = np.zeros(len(x)) # total sediment transport\n",
    "    qs = np.zeros(len(x)) # unit sediment transport\n",
    "    ql = np.zeros(len(x)) # lateral sediment supply\n",
    "    E_vals = np.zeros((2, len(x))) # store current and past erosion rates in this array\n",
    "    E_avg = np.zeros(len(x)) # weighted average erosion rates\n",
    "    \n",
    "    # set boundary conditions\n",
    "    b[0] = 0\n",
    "    H[-1] = 0\n",
    "    E[-1] = baselevel_rate\n",
    "    q[0] = 0\n",
    "    Qs[0] = 0\n",
    "    qs[0] = 0\n",
    "    ql[0] = 0\n",
    "    \n",
    "    while cum_time < run_duration:  # <== use a while loop because dt varies by iteration\n",
    "        \n",
    "        # first calculate rates\n",
    "            \n",
    "        # calculate slope\n",
    "        S = np.abs(np.diff(eta)/dx)\n",
    "        \n",
    "        # calculate channel width (L)\n",
    "        b = (kb * Q[1:] * (S ** (7/6))) / (D**(3/2))\n",
    "        \n",
    "        # calculate unit discharge (L^2/T)\n",
    "        q[1:] = Q[1:]/b\n",
    "        \n",
    "        # calculate bed exposure\n",
    "        alpha = np.exp(-H/Hstar)\n",
    "        \n",
    "        # calculate sediment transport (L^3/T and L^2/T)\n",
    "        Qs[1:] = kqs * I * Q[1:] * np.sign(S) * (np.abs(S)) ** (7/6) * (1-alpha[:-1])\n",
    "        qs[1:] = Qs[1:]/b\n",
    "        \n",
    "        # calculate individual erosion mechanism rates (L^2/T)\n",
    "        Eb_p[:-1] = K[1:] * Q[1:] * S * alpha[:-1]\n",
    "        Eb_a[:-1] = beta[1:] * Qs[1:] * alpha[:-1]\n",
    "        \n",
    "        # calculate total bedrock erosion rate (L/T)\n",
    "        Eb[:-1] = (Eb_p[:-1] + Eb_a[:-1]) / B[1:]\n",
    "        \n",
    "        # calculate attrition rate (L^2/T)\n",
    "        atr = beta * Qs\n",
    "        \n",
    "        # calculate lateral sediment inputs (L^2/T)\n",
    "        if all(E_avg == 0): # = 0:\n",
    "            ql[:] = 0\n",
    "        else:\n",
    "            ql[:] = ((E_avg * gamma) / beta) * (1 - np.exp(-beta * (x/3)))\n",
    "        \n",
    "        # calculate sedimentation rate (L/T)\n",
    "        Eh[:-1] = - (1/((1 - phi) * B[1:])) * ((np.diff(Qs)/dx) + atr[1:] - Eb_p[:-1] - ql[:-1])\n",
    "        \n",
    "        # calculate total erosion rate (L/T)\n",
    "        E[:-1] = Eb[:-1] + Eh[:-1]\n",
    "        \n",
    "        \n",
    "        \n",
    "        \n",
    "        # Calculate maximum allowable time-step size\n",
    "        \n",
    "        #  first check time to flat surface\n",
    "        elev_diff = np.diff(eta)/dx\n",
    "        ero_diff = np.diff(E)/dx\n",
    "        \n",
    "        valid_places = np.where(ero_diff < 0)[0]  # <== we just want the array, not the full tuple from where()\n",
    "        if len(valid_places) > 0:  # <== in case there ARE no locations...\n",
    "            times_to_flat = np.abs(elev_diff[valid_places]/ero_diff[valid_places])\n",
    "        else:\n",
    "            times_to_flat = np.array([dt_global])  # <== ...we just revert to the global dt\n",
    "        min_time_to_flat = np.amin(times_to_flat)\n",
    "\n",
    "        #  then check time to deplete all sediment\n",
    "        sed_depletion_locations = np.where(Eh < 0)[0]  # <== we just want the array, not the full tuple from where()\n",
    "        if len(sed_depletion_locations) > 0:  # <== in case there ARE no locations...\n",
    "            times_to_no_sed = np.abs(H[sed_depletion_locations]/Eh[sed_depletion_locations])\n",
    "        else:\n",
    "            times_to_no_sed = np.array([dt_global])  # <== ...we just revert to the global dt\n",
    "        min_time_to_no_sed = np.amin(times_to_no_sed)\n",
    "\n",
    "        #  check for smaller condition\n",
    "        dt = min(min_time_to_flat, min_time_to_no_sed)\n",
    "\n",
    "        #  if larger than global step size, limit to global\n",
    "        dt = min(dt, dt_global)\n",
    "        \n",
    "        \n",
    "        \n",
    "        \n",
    "        # calculate weight for lateral sediment flux\n",
    "        \n",
    "        # calculate weight\n",
    "        wt = 1 - np.exp(-dt/tau)\n",
    "        \n",
    "        # add the most recent erosion rate as a new top row, and drop the bottom row\n",
    "        E_vals = np.vstack([E, E_vals])\n",
    "        E_vals = np.delete(E_vals, obj = 2, axis = 0)\n",
    "        \n",
    "        # calculate average E\n",
    "        E_avg = (wt*E_vals[0]) + ((1 - wt)*E_vals[1])\n",
    "\n",
    "        \n",
    "        \n",
    "        \n",
    "        # Update quantities\n",
    "        \n",
    "        # update boundary conditions\n",
    "        eta[-1] -= baselevel_rate * dt\n",
    "        etab[-1] = eta[-1]\n",
    "        \n",
    "        # update topography\n",
    "        etab[:-1] -= Eb[:-1] * dt\n",
    "        H[:-1] += Eh[:-1] * dt\n",
    "        H[H<0] = 0\n",
    "        eta[:-1] = etab[:-1] + H[:-1]\n",
    "        \n",
    "        \n",
    "        \n",
    "        \n",
    "        # Advance time\n",
    "        cum_time += dt\n",
    "        \n",
    "        if any(E[:] != baselevel_rate):\n",
    "            continue\n",
    "        else:\n",
    "            break\n",
    "            \n",
    "            \n",
    "    \n",
    "    print(\"Plucking: \", Eb_p, \"\\n\")\n",
    "    \n",
    "    print(\"Abrasion: \", Eb_a, \"\\n\")\n",
    "    \n",
    "    print(\"Total bedrock erosion: \", Eb, \"\\n\")\n",
    "    \n",
    "    print(\"Lateral sed flux: \", ql, \"\\n\")\n",
    "    \n",
    "    print(\"Sedimentation: \", Eh, \"\\n\")\n",
    "    \n",
    "    print(\"Total erosion: \", E, \"\\n\")\n",
    "    \n",
    "    print(\"Weighting factor: \", wt, \"\\n\")\n",
    "    \n",
    "    print(\"Stored past erosion values: \", E_vals, \"\\n\")\n",
    "    \n",
    "    print(\"Weighted average erosion: \", E_avg, \"\\n\")\n",
    "    \n",
    "    print(cum_time, \"years\", \"\\n\")\n",
    "        \n",
    "    return (S, b, q, Qs, qs, Eb_p, Eb_a, Eb, atr, ql, Eh, E, eta, etab, H, dt, wt, E_vals, E_avg)"
   ]
  },
  {
   "cell_type": "code",
   "execution_count": 9,
   "id": "8d26a0c7",
   "metadata": {},
   "outputs": [],
   "source": [
    "test_run = [x, dx, Hstar, H, etab, eta, beta, psi, K, gamma, kxb, Pxb, kb, phi, D, baselevel_rate, Q, B]"
   ]
  },
  {
   "cell_type": "code",
   "execution_count": 10,
   "id": "95e4a4dd",
   "metadata": {},
   "outputs": [
    {
     "name": "stdout",
     "output_type": "stream",
     "text": [
      "Plucking:  [3.66118586e-05 8.40140242e-05 1.36707100e-03 1.93039079e-03\n",
      " 2.52269616e-03 3.13913606e-03 3.77636519e-03 4.43192111e-03\n",
      " 5.15318586e-03 0.00000000e+00] \n",
      "\n",
      "Abrasion:  [8.17710271e-07 1.87607602e-06 3.05395636e-05 4.31279704e-05\n",
      " 5.63664587e-05 7.01468147e-05 8.43944337e-05 9.90544136e-05\n",
      " 1.15370589e-04 0.00000000e+00] \n",
      "\n",
      "Total bedrock erosion:  [3.76075305e-07 7.51271825e-07 1.12725433e-05 1.50275871e-05\n",
      " 1.87813964e-05 2.25339714e-05 2.62853126e-05 3.00354200e-05\n",
      " 3.41116814e-05 0.00000000e+00] \n",
      "\n",
      "Lateral sed flux:  [0.         0.00021184 0.00632088 0.         0.         0.\n",
      " 0.         0.         0.         0.        ] \n",
      "\n",
      "Sedimentation:  [6.43758884e-07 5.51177848e-06 1.36162759e-04 3.05348673e-05\n",
      " 3.81968984e-05 4.58564145e-05 5.35132825e-05 6.11674390e-05\n",
      " 6.94649028e-05 0.00000000e+00] \n",
      "\n",
      "Total erosion:  [1.01983419e-06 6.26305031e-06 1.47435302e-04 4.55624543e-05\n",
      " 5.69782947e-05 6.83903859e-05 7.97985951e-05 9.12028590e-05\n",
      " 1.03576584e-04 5.00000000e-05] \n",
      "\n",
      "Weighting factor:  0.6321205588285577 \n",
      "\n",
      "Stored past erosion values:  [[1.01983419e-06 6.26305031e-06 1.47435302e-04 4.55624543e-05\n",
      "  5.69782947e-05 6.83903859e-05 7.97985951e-05 9.12028590e-05\n",
      "  1.03576584e-04 5.00000000e-05]\n",
      " [1.01989261e-06 2.14780383e-06 3.41757917e-05 4.56140426e-05\n",
      "  5.70529264e-05 6.84921086e-05 7.99314555e-05 9.13709028e-05\n",
      "  1.02810416e-04 5.00000000e-05]] \n",
      "\n",
      "Weighted average erosion:  [1.01985568e-06 4.74913573e-06 1.05769457e-04 4.55814326e-05\n",
      " 5.70057502e-05 6.84278076e-05 7.98474717e-05 9.12646789e-05\n",
      " 1.03294727e-04 5.00000000e-05] \n",
      "\n",
      "21.680216802168022 years \n",
      "\n"
     ]
    }
   ],
   "source": [
    "(S, b, q, Qs, qs, Eb_p, Eb_a, Eb, atr, ql, Eh, E, eta, etab, H, dt, wt, E_vals, E_avg) = model(*test_run)"
   ]
  },
  {
   "cell_type": "code",
   "execution_count": 11,
   "id": "59b3351b",
   "metadata": {},
   "outputs": [
    {
     "data": {
      "text/plain": [
       "array([1.01983419e-06, 6.26305031e-06, 1.47435302e-04, 4.55624543e-05,\n",
       "       5.69782947e-05, 6.83903859e-05, 7.97985951e-05, 9.12028590e-05,\n",
       "       1.03576584e-04, 5.00000000e-05])"
      ]
     },
     "execution_count": 11,
     "metadata": {},
     "output_type": "execute_result"
    }
   ],
   "source": [
    "E"
   ]
  },
  {
   "cell_type": "code",
   "execution_count": 19,
   "id": "b87fc949",
   "metadata": {},
   "outputs": [
    {
     "data": {
      "text/plain": [
       "array([[1.01983419e-06, 6.26305031e-06, 1.47435302e-04, 4.55624543e-05,\n",
       "        5.69782947e-05, 6.83903859e-05, 7.97985951e-05, 9.12028590e-05,\n",
       "        1.03576584e-04, 5.00000000e-05],\n",
       "       [1.01989261e-06, 2.14780383e-06, 3.41757917e-05, 4.56140426e-05,\n",
       "        5.70529264e-05, 6.84921086e-05, 7.99314555e-05, 9.13709028e-05,\n",
       "        1.02810416e-04, 5.00000000e-05]])"
      ]
     },
     "execution_count": 19,
     "metadata": {},
     "output_type": "execute_result"
    }
   ],
   "source": [
    "E_vals"
   ]
  },
  {
   "cell_type": "code",
   "execution_count": 20,
   "id": "858bf6b8",
   "metadata": {},
   "outputs": [
    {
     "data": {
      "text/plain": [
       "array([1.01985568e-06, 4.74913573e-06, 1.05769457e-04, 4.55814326e-05,\n",
       "       5.70057502e-05, 6.84278076e-05, 7.98474717e-05, 9.12646789e-05,\n",
       "       1.03294727e-04, 5.00000000e-05])"
      ]
     },
     "execution_count": 20,
     "metadata": {},
     "output_type": "execute_result"
    }
   ],
   "source": [
    "E_avg"
   ]
  },
  {
   "cell_type": "code",
   "execution_count": 21,
   "id": "0824368a",
   "metadata": {},
   "outputs": [
    {
     "data": {
      "text/plain": [
       "array([0.5, 0.5, 0.5, 0. , 0. , 0. , 0. , 0. , 0. , 0. ])"
      ]
     },
     "execution_count": 21,
     "metadata": {},
     "output_type": "execute_result"
    }
   ],
   "source": [
    "gamma"
   ]
  },
  {
   "cell_type": "code",
   "execution_count": 12,
   "id": "46070a85",
   "metadata": {},
   "outputs": [
    {
     "data": {
      "text/plain": [
       "array([0.        , 0.00021184, 0.00632088, 0.        , 0.        ,\n",
       "       0.        , 0.        , 0.        , 0.        , 0.        ])"
      ]
     },
     "execution_count": 12,
     "metadata": {},
     "output_type": "execute_result"
    }
   ],
   "source": [
    "ql"
   ]
  },
  {
   "cell_type": "code",
   "execution_count": 22,
   "id": "86ee9dbf",
   "metadata": {},
   "outputs": [
    {
     "data": {
      "text/plain": [
       "[<matplotlib.lines.Line2D at 0x7f9656494310>]"
      ]
     },
     "execution_count": 22,
     "metadata": {},
     "output_type": "execute_result"
    },
    {
     "data": {
      "image/png": "[encoded data removed]",
      "text/plain": [
       "<Figure size 432x288 with 1 Axes>"
      ]
     },
     "metadata": {
      "needs_background": "light"
     },
     "output_type": "display_data"
    }
   ],
   "source": [
    "plt.plot(x, H)"
   ]
  },
  {
   "cell_type": "code",
   "execution_count": 13,
   "id": "5869f8cf",
   "metadata": {},
   "outputs": [
    {
     "data": {
      "text/plain": [
       "[<matplotlib.lines.Line2D at 0x7f9655c27350>]"
      ]
     },
     "execution_count": 13,
     "metadata": {},
     "output_type": "execute_result"
    },
    {
     "data": {
      "image/png": "[encoded data removed]",
      "text/plain": [
       "<Figure size 432x288 with 1 Axes>"
      ]
     },
     "metadata": {
      "needs_background": "light"
     },
     "output_type": "display_data"
    }
   ],
   "source": [
    "plt.plot(x, ql)"
   ]
  },
  {
   "cell_type": "code",
   "execution_count": 14,
   "id": "3f9e4994",
   "metadata": {},
   "outputs": [
    {
     "data": {
      "text/plain": [
       "[<matplotlib.lines.Line2D at 0x7f9656016c10>]"
      ]
     },
     "execution_count": 14,
     "metadata": {},
     "output_type": "execute_result"
    },
    {
     "data": {
      "image/png": "[encoded data removed]",
      "text/plain": [
       "<Figure size 432x288 with 1 Axes>"
      ]
     },
     "metadata": {
      "needs_background": "light"
     },
     "output_type": "display_data"
    }
   ],
   "source": [
    "plt.plot(x, E_avg)"
   ]
  },
  {
   "cell_type": "code",
   "execution_count": 15,
   "id": "bb546692",
   "metadata": {},
   "outputs": [
    {
     "data": {
      "text/plain": [
       "array([[1.01983419e-06, 6.26305031e-06, 1.47435302e-04, 4.55624543e-05,\n",
       "        5.69782947e-05, 6.83903859e-05, 7.97985951e-05, 9.12028590e-05,\n",
       "        1.03576584e-04, 5.00000000e-05],\n",
       "       [1.01989261e-06, 2.14780383e-06, 3.41757917e-05, 4.56140426e-05,\n",
       "        5.70529264e-05, 6.84921086e-05, 7.99314555e-05, 9.13709028e-05,\n",
       "        1.02810416e-04, 5.00000000e-05]])"
      ]
     },
     "execution_count": 15,
     "metadata": {},
     "output_type": "execute_result"
    }
   ],
   "source": [
    "E_vals"
   ]
  },
  {
   "cell_type": "code",
   "execution_count": 16,
   "id": "4c9551bc",
   "metadata": {},
   "outputs": [
    {
     "data": {
      "text/plain": [
       "<matplotlib.legend.Legend at 0x7f9655cf2510>"
      ]
     },
     "execution_count": 16,
     "metadata": {},
     "output_type": "execute_result"
    },
    {
     "data": {
      "image/png": "[encoded data removed]",
      "text/plain": [
       "<Figure size 432x288 with 1 Axes>"
      ]
     },
     "metadata": {
      "needs_background": "light"
     },
     "output_type": "display_data"
    }
   ],
   "source": [
    "plt.plot(x, eta, label = 'topo')\n",
    "plt.plot(x, etab, label = 'bedrock')\n",
    "plt.plot(x, H, label = 'sediment')\n",
    "plt.legend()"
   ]
  },
  {
   "cell_type": "code",
   "execution_count": 17,
   "id": "f5240cf6",
   "metadata": {},
   "outputs": [
    {
     "data": {
      "text/plain": [
       "[<matplotlib.lines.Line2D at 0x7f965627f810>]"
      ]
     },
     "execution_count": 17,
     "metadata": {},
     "output_type": "execute_result"
    },
    {
     "data": {
      "image/png": "[encoded data removed]",
      "text/plain": [
       "<Figure size 432x288 with 1 Axes>"
      ]
     },
     "metadata": {
      "needs_background": "light"
     },
     "output_type": "display_data"
    }
   ],
   "source": [
    "plt.plot(x, Qs)"
   ]
  },
  {
   "cell_type": "code",
   "execution_count": 18,
   "id": "c2c13e1e",
   "metadata": {},
   "outputs": [
    {
     "data": {
      "text/plain": [
       "[<matplotlib.lines.Line2D at 0x7f9656373650>]"
      ]
     },
     "execution_count": 18,
     "metadata": {},
     "output_type": "execute_result"
    },
    {
     "data": {
      "image/png": "[encoded data removed]",
      "text/plain": [
       "<Figure size 432x288 with 1 Axes>"
      ]
     },
     "metadata": {
      "needs_background": "light"
     },
     "output_type": "display_data"
    }
   ],
   "source": [
    "plt.plot(x, E)"
   ]
  }
 ],
 "metadata": {
  "kernelspec": {
   "display_name": "Python 3",
   "language": "python",
   "name": "python3"
  },
  "language_info": {
   "codemirror_mode": {
    "name": "ipython",
    "version": 3
   },
   "file_extension": ".py",
   "mimetype": "text/x-python",
   "name": "python",
   "nbconvert_exporter": "python",
   "pygments_lexer": "ipython3",
   "version": "3.7.6"
  }
 },
 "nbformat": 4,
 "nbformat_minor": 5
}
