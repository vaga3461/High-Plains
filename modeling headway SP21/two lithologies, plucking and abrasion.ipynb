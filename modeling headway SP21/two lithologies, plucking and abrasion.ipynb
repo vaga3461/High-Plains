{
 "cells": [
  {
   "cell_type": "code",
   "execution_count": 109,
   "metadata": {},
   "outputs": [],
   "source": [
    "# typing this quickly at the end of the day\n",
    "# before I forget everything from my meeting with Greg\n",
    "\n",
    "# we are going to calc theta first, then update H\n",
    "# we're doing this for just two rock types - igneous and sedimentary"
   ]
  },
  {
   "cell_type": "code",
   "execution_count": 110,
   "metadata": {},
   "outputs": [],
   "source": [
    "# start by importing libraries\n",
    "import numpy as np\n",
    "import matplotlib.pyplot as plt"
   ]
  },
  {
   "cell_type": "code",
   "execution_count": 111,
   "metadata": {},
   "outputs": [],
   "source": [
    "# SET UP GRID ARRAYS\n",
    "dx = 1\n",
    "x = np.arange(0, 100, dx)\n",
    "\n",
    "# percentages in basin\n",
    "amt_ig = 1\n",
    "amt_sed = 0.0\n",
    "\n",
    "# SET CONSTANTS\n",
    "# characteristic alluvial thickness\n",
    "Hstar = 2\n",
    "\n",
    "# 1 - porosity\n",
    "porosity = 0.55\n",
    "\n",
    "# water discharge\n",
    "q = x\n",
    "\n",
    "# lumped factor, encapsulates roughness, grain size, etc. I have no idea what it's value should be...\n",
    "c = 1\n",
    "\n",
    "# abrasion coefficients from Attal and Lave 2006 in % per km\n",
    "beta_ig = 0.004\n",
    "beta_sed = 0.098\n",
    "\n",
    "# SET UP TIME\n",
    "num_steps = 1000\n",
    "dt = (0.2 * dx * dx)/c"
   ]
  },
  {
   "cell_type": "code",
   "execution_count": 112,
   "metadata": {},
   "outputs": [],
   "source": [
    "# write a function that has everything\n",
    "def Bedrock_Alluvium(x,\n",
    "                     dx,\n",
    "                     q, \n",
    "                     num_steps,\n",
    "                     amt_ig,\n",
    "                     amt_sed,\n",
    "                     beta_ig,\n",
    "                     beta_sed,\n",
    "                     k_low = 0.00001,\n",
    "                     k_high = 0.001,\n",
    "                     c = 1,\n",
    "                     S = 0.001, \n",
    "                     porosity = 0.55,\n",
    "                     Hstar = 2):\n",
    "    \n",
    "    \"\"\" The arguments to this function require the following data types:\n",
    "        \n",
    "        x : array\n",
    "        dx : int\n",
    "        q : array of length x\n",
    "        num_steps : int\n",
    "        amt_ig : float, < 1\n",
    "        amt_sed : float, < 1\n",
    "        (amt_ig + amt_sed should always = 1)\n",
    "        beta_ig : float\n",
    "        beta_sed : float\n",
    "        k_low : float\n",
    "        k_high : float\n",
    "        c : float or int\n",
    "        S : float or int\n",
    "        porosity : float, < 1 \n",
    "        Hstar : int \"\"\"\n",
    "    \n",
    "    # create arrays of erodibilities\n",
    "    k_ig = np.zeros(len(x))\n",
    "    k_ig[:50] = k_low\n",
    "    k_sed = np.zeros(len(x))\n",
    "    k_sed[50:] = k_high\n",
    "    \n",
    "    # create arrays of bed abrasion coefficients\n",
    "    bed_abrasion_ig = np.zeros(len(x))\n",
    "    bed_abrasion_ig[:50] = beta_ig\n",
    "    bed_abrasion_sed = np.zeros(len(x))\n",
    "    bed_abrasion_sed[50:] = beta_sed\n",
    "    \n",
    "    # create array to hold elevations\n",
    "    H_ig = np.zeros(len(x))\n",
    "    H_sed = np.zeros(len(x))\n",
    "    H = H_ig + H_sed\n",
    "    H[-1] = 0\n",
    "    etab = np.zeros(len(x))\n",
    "    eta = etab + H\n",
    "    ero = np.zeros(len(x))\n",
    "    \n",
    "    # create arrays to hold sediment fluxes\n",
    "    qs = np.zeros(len(x))\n",
    "    qs_ig = np.zeros(len(x))\n",
    "    qs_sed = np.zeros(len(x))\n",
    "    \n",
    "    # create arrays to hold percentages of different lithologies\n",
    "    theta = 1\n",
    "    theta_ig = np.zeros(len(x))\n",
    "    theta_sed = np.zeros(len(x))\n",
    "    # theta_sed[:] = theta\n",
    "    \n",
    "    for i in range(num_steps):\n",
    "        \n",
    "        # calc slope\n",
    "        S = np.diff(eta)/dx\n",
    "        \n",
    "        # set boundary conditions\n",
    "        etab[-1] = eta[-1]\n",
    "        \n",
    "        # calculate e factor\n",
    "        efac = np.exp(- H / Hstar)\n",
    "        \n",
    "        # calculate total bedload sed flux and set boundary condition\n",
    "        qs[1:] = c * q[1:] * S * (1.0 - efac[:-1])\n",
    "        qs[0] = 0\n",
    "    \n",
    "        # calculate flux of each lithology\n",
    "        qs_ig[1:] = qs[1:] * (theta_ig[:-1])\n",
    "        qs_sed[1:] = qs[1:] * (theta_sed[:-1])\n",
    "    \n",
    "        # set constant, mixed feed of grains\n",
    "        qs_ig[0] = amt_ig\n",
    "        qs_sed[0] = amt_sed\n",
    "        \n",
    "        # update percentages based on alluvial thickness\n",
    "        undefined = np.where(H == 0)\n",
    "        defined = np.where(H != 0)\n",
    "        \n",
    "        theta_ig[undefined] = 0\n",
    "        theta_ig[defined] += H_ig[defined]/H[defined]\n",
    "        \n",
    "        theta_sed[undefined] = 0\n",
    "        theta_sed[defined] += H_sed[defined]/H[defined]\n",
    "        \n",
    "        # conserve mass\n",
    "        theta_total = theta_ig + theta_sed\n",
    "        dtheta = theta - theta_total\n",
    "        theta_ig += dtheta * theta_ig\n",
    "        theta_sed += dtheta * theta_sed\n",
    "        \n",
    "        # calc bedrock erosion from stream power (plucking)\n",
    "        ero_plucking_ig = efac[:-1] * (k_ig[1:] * q[1:] * S)\n",
    "        # ero_plucking_sed = efac[:-1] * (k_sed[1:] * q[1:] * S)\n",
    "        \n",
    "        # calc bedrock erosion from abrasion\n",
    "        ero_ab_ig = efac[:-1] * (bed_abrasion_ig[:-1] * qs[:-1])\n",
    "        ero_ab_sed = efac[:-1] * (bed_abrasion_sed[:-1] * qs[:-1])\n",
    "        \n",
    "        # calc bedrock erosion rate from stream power and abrasion\n",
    "        ero[:-1] = ero_plucking_ig + ero_ab_ig + ero_ab_sed\n",
    "        \n",
    "        # calc change in bedrock elev\n",
    "        etab[:-1] -= ero[:-1] * dt\n",
    "        \n",
    "        # calc grain attrition\n",
    "        ig_atr = beta_ig * qs_ig[1:]\n",
    "        sed_atr = beta_sed * qs_sed[1:]\n",
    "        \n",
    "        # calc change in alluvial thickness\n",
    "        H_ig[:-1] += -((1 / porosity) * ((np.diff(qs_ig)/dx) + ig_atr - ero_plucking_ig)) * dt\n",
    "        H_sed[:-1] += -((1 / porosity) * ((np.diff(qs_sed)/dx) + sed_atr)) * dt\n",
    "        \n",
    "        H[:-1] += H_ig[:-1] + H_sed[:-1]\n",
    "        \n",
    "        # update elev\n",
    "        eta[:-1] = etab[:-1] + H[:-1]\n",
    "        \n",
    "        return eta, etab, ero_plucking_ig, ero_ab_ig, ero_ab_sed, ero, H_ig, H_sed, H, theta_ig, theta_sed, theta"
   ]
  },
  {
   "cell_type": "code",
   "execution_count": 113,
   "metadata": {},
   "outputs": [],
   "source": [
    "eta, \n",
    "etab, \n",
    "ero_plucking_ig, \n",
    "ero_plucking_sed, \n",
    "ero_ab_ig, \n",
    "ero_ab_sed, \n",
    "ero, \n",
    "H_ig, \n",
    "H_sed, \n",
    "H,\n",
    "theta_ig, \n",
    "theta_sed, \n",
    "theta = Bedrock_Alluvium(x,\n",
    "                         dx,\n",
    "                         q,\n",
    "                         500,\n",
    "                         amt_ig,\n",
    "                         amt_sed,\n",
    "                         beta_ig,\n",
    "                         beta_sed)"
   ]
  },
  {
   "cell_type": "code",
   "execution_count": 114,
   "metadata": {},
   "outputs": [
    {
     "data": {
      "image/png": "[encoded data removed]",
      "text/plain": [
       "<Figure size 432x288 with 1 Axes>"
      ]
     },
     "metadata": {
      "needs_background": "light"
     },
     "output_type": "display_data"
    }
   ],
   "source": [
    "plt.plot(x[1:-1], etab[1:-1], label = 'bedrock elev')\n",
    "plt.plot(x[1:-1], eta[1:-1], label = 'total elev')\n",
    "plt.plot(x[1:-1], H[1:-1], label = 'alluvium')\n",
    "plt.legend()\n",
    "plt.show()\n"
   ]
  },
  {
   "cell_type": "code",
   "execution_count": 115,
   "metadata": {},
   "outputs": [
    {
     "data": {
      "text/plain": [
       "array([1.0e-05, 2.0e-05, 3.0e-05, 4.0e-05, 5.0e-05, 6.0e-05, 7.0e-05,\n",
       "       8.0e-05, 9.0e-05, 1.0e-04, 1.1e-04, 1.2e-04, 1.3e-04, 1.4e-04,\n",
       "       1.5e-04, 1.6e-04, 1.7e-04, 1.8e-04, 1.9e-04, 2.0e-04, 2.1e-04,\n",
       "       2.2e-04, 2.3e-04, 2.4e-04, 2.5e-04, 2.6e-04, 2.7e-04, 2.8e-04,\n",
       "       2.9e-04, 3.0e-04, 3.1e-04, 3.2e-04, 3.3e-04, 3.4e-04, 3.5e-04,\n",
       "       3.6e-04, 3.7e-04, 3.8e-04, 3.9e-04, 4.0e-04, 4.1e-04, 4.2e-04,\n",
       "       4.3e-04, 4.4e-04, 4.5e-04, 4.6e-04, 4.7e-04, 4.8e-04, 4.9e-04,\n",
       "       0.0e+00, 0.0e+00, 0.0e+00, 0.0e+00, 0.0e+00, 0.0e+00, 0.0e+00,\n",
       "       0.0e+00, 0.0e+00, 0.0e+00, 0.0e+00, 0.0e+00, 0.0e+00, 0.0e+00,\n",
       "       0.0e+00, 0.0e+00, 0.0e+00, 0.0e+00, 0.0e+00, 0.0e+00, 0.0e+00,\n",
       "       0.0e+00, 0.0e+00, 0.0e+00, 0.0e+00, 0.0e+00, 0.0e+00, 0.0e+00,\n",
       "       0.0e+00, 0.0e+00, 0.0e+00, 0.0e+00, 0.0e+00, 0.0e+00, 0.0e+00,\n",
       "       0.0e+00, 0.0e+00, 0.0e+00, 0.0e+00, 0.0e+00, 0.0e+00, 0.0e+00,\n",
       "       0.0e+00, 0.0e+00, 0.0e+00, 0.0e+00, 0.0e+00, 0.0e+00, 0.0e+00,\n",
       "       0.0e+00])"
      ]
     },
     "execution_count": 115,
     "metadata": {},
     "output_type": "execute_result"
    }
   ],
   "source": [
    "ero_plucking_ig"
   ]
  },
  {
   "cell_type": "code",
   "execution_count": 118,
   "metadata": {},
   "outputs": [
    {
     "data": {
      "text/plain": [
       "array([0.   , 0.   , 0.   , 0.   , 0.   , 0.   , 0.   , 0.   , 0.   ,\n",
       "       0.   , 0.   , 0.   , 0.   , 0.   , 0.   , 0.   , 0.   , 0.   ,\n",
       "       0.   , 0.   , 0.   , 0.   , 0.   , 0.   , 0.   , 0.   , 0.   ,\n",
       "       0.   , 0.   , 0.   , 0.   , 0.   , 0.   , 0.   , 0.   , 0.   ,\n",
       "       0.   , 0.   , 0.   , 0.   , 0.   , 0.   , 0.   , 0.   , 0.   ,\n",
       "       0.   , 0.   , 0.   , 0.   , 0.05 , 0.051, 0.052, 0.053, 0.054,\n",
       "       0.055, 0.056, 0.057, 0.058, 0.059, 0.06 , 0.061, 0.062, 0.063,\n",
       "       0.064, 0.065, 0.066, 0.067, 0.068, 0.069, 0.07 , 0.071, 0.072,\n",
       "       0.073, 0.074, 0.075, 0.076, 0.077, 0.078, 0.079, 0.08 , 0.081,\n",
       "       0.082, 0.083, 0.084, 0.085, 0.086, 0.087, 0.088, 0.089, 0.09 ,\n",
       "       0.091, 0.092, 0.093, 0.094, 0.095, 0.096, 0.097, 0.098, 0.099])"
      ]
     },
     "execution_count": 118,
     "metadata": {},
     "output_type": "execute_result"
    }
   ],
   "source": [
    "ero[:-1] - ero_plucking_ig"
   ]
  },
  {
   "cell_type": "code",
   "execution_count": 119,
   "metadata": {},
   "outputs": [
    {
     "data": {
      "text/plain": [
       "array([1.0e-05, 2.0e-05, 3.0e-05, 4.0e-05, 5.0e-05, 6.0e-05, 7.0e-05,\n",
       "       8.0e-05, 9.0e-05, 1.0e-04, 1.1e-04, 1.2e-04, 1.3e-04, 1.4e-04,\n",
       "       1.5e-04, 1.6e-04, 1.7e-04, 1.8e-04, 1.9e-04, 2.0e-04, 2.1e-04,\n",
       "       2.2e-04, 2.3e-04, 2.4e-04, 2.5e-04, 2.6e-04, 2.7e-04, 2.8e-04,\n",
       "       2.9e-04, 3.0e-04, 3.1e-04, 3.2e-04, 3.3e-04, 3.4e-04, 3.5e-04,\n",
       "       3.6e-04, 3.7e-04, 3.8e-04, 3.9e-04, 4.0e-04, 4.1e-04, 4.2e-04,\n",
       "       4.3e-04, 4.4e-04, 4.5e-04, 4.6e-04, 4.7e-04, 4.8e-04, 4.9e-04,\n",
       "       0.0e+00, 0.0e+00, 0.0e+00, 0.0e+00, 0.0e+00, 0.0e+00, 0.0e+00,\n",
       "       0.0e+00, 0.0e+00, 0.0e+00, 0.0e+00, 0.0e+00, 0.0e+00, 0.0e+00,\n",
       "       0.0e+00, 0.0e+00, 0.0e+00, 0.0e+00, 0.0e+00, 0.0e+00, 0.0e+00,\n",
       "       0.0e+00, 0.0e+00, 0.0e+00, 0.0e+00, 0.0e+00, 0.0e+00, 0.0e+00,\n",
       "       0.0e+00, 0.0e+00, 0.0e+00, 0.0e+00, 0.0e+00, 0.0e+00, 0.0e+00,\n",
       "       0.0e+00, 0.0e+00, 0.0e+00, 0.0e+00, 0.0e+00, 0.0e+00, 0.0e+00,\n",
       "       0.0e+00, 0.0e+00, 0.0e+00, 0.0e+00, 0.0e+00, 0.0e+00, 0.0e+00,\n",
       "       0.0e+00])"
      ]
     },
     "execution_count": 119,
     "metadata": {},
     "output_type": "execute_result"
    }
   ],
   "source": [
    "ero_plucking_ig"
   ]
  },
  {
   "cell_type": "code",
   "execution_count": 120,
   "metadata": {},
   "outputs": [
    {
     "data": {
      "text/plain": [
       "array([0., 0., 0., 0., 0., 0., 0., 0., 0., 0., 0., 0., 0., 0., 0., 0., 0.,\n",
       "       0., 0., 0., 0., 0., 0., 0., 0., 0., 0., 0., 0., 0., 0., 0., 0., 0.,\n",
       "       0., 0., 0., 0., 0., 0., 0., 0., 0., 0., 0., 0., 0., 0., 0., 0., 0.,\n",
       "       0., 0., 0., 0., 0., 0., 0., 0., 0., 0., 0., 0., 0., 0., 0., 0., 0.,\n",
       "       0., 0., 0., 0., 0., 0., 0., 0., 0., 0., 0., 0., 0., 0., 0., 0., 0.,\n",
       "       0., 0., 0., 0., 0., 0., 0., 0., 0., 0., 0., 0., 0., 0.])"
      ]
     },
     "execution_count": 120,
     "metadata": {},
     "output_type": "execute_result"
    }
   ],
   "source": [
    "ero_ab_ig"
   ]
  },
  {
   "cell_type": "code",
   "execution_count": null,
   "metadata": {},
   "outputs": [],
   "source": []
  }
 ],
 "metadata": {
  "kernelspec": {
   "display_name": "Python 3",
   "language": "python",
   "name": "python3"
  },
  "language_info": {
   "codemirror_mode": {
    "name": "ipython",
    "version": 3
   },
   "file_extension": ".py",
   "mimetype": "text/x-python",
   "name": "python",
   "nbconvert_exporter": "python",
   "pygments_lexer": "ipython3",
   "version": "3.7.6"
  }
 },
 "nbformat": 4,
 "nbformat_minor": 4
}
