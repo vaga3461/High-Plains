{
 "cells": [
  {
   "cell_type": "code",
   "execution_count": 36,
   "metadata": {},
   "outputs": [],
   "source": [
    "# in this notebook, I'm attempting to track down the error in the adaptive timestep.\n",
    "# why is it creating such a tiny timestep?"
   ]
  },
  {
   "cell_type": "code",
   "execution_count": 37,
   "metadata": {},
   "outputs": [],
   "source": [
    "# start by importing libraries\n",
    "import numpy as np\n",
    "import matplotlib.pyplot as plt"
   ]
  },
  {
   "cell_type": "code",
   "execution_count": 38,
   "metadata": {},
   "outputs": [],
   "source": [
    "# SET UP (scaled down) GRID ARRAYS\n",
    "dx = 1\n",
    "x = np.arange(0, 10, dx)\n",
    "\n",
    "# set up references to topography\n",
    "Hstar = 0.1\n",
    "H = Hstar + np.zeros(len(x))\n",
    "etab = -H\n",
    "eta = etab + H\n",
    "\n",
    "# abrasion coefficients from Attal and Lave 2006 in % per km\n",
    "beta_ig = np.zeros(len(x))\n",
    "beta_ig[:5] = 0.000004\n",
    "beta_sed = np.zeros(len(x))\n",
    "beta_sed[5:] = 0.000064\n",
    "\n",
    "# erodibility values\n",
    "k_ig = np.zeros(len(x))\n",
    "k_ig[:5] = 0.0001\n",
    "k_sed = np.zeros(len(x))\n",
    "k_sed[5:] = 0.001"
   ]
  },
  {
   "cell_type": "code",
   "execution_count": 39,
   "metadata": {},
   "outputs": [],
   "source": [
    "# write a function that has two bedrock lithologies in the domain, but only one contributing sediment to bedload\n",
    "def two_lith_one_sed(x,\n",
    "                     dx,\n",
    "                     Hstar,\n",
    "                     H,\n",
    "                     etab,\n",
    "                     eta,\n",
    "                     beta_ig,\n",
    "                     beta_sed,\n",
    "                     k_ig,\n",
    "                     k_sed,\n",
    "                     c = 1,\n",
    "                     baselevel_rate = 0.001,\n",
    "                     num_steps = 500000, \n",
    "                     porosity = 0.55):\n",
    "    \n",
    "    H[-1] = 0.0\n",
    "    bedrock_ero = np.zeros(len(x))  # bedrock erosion rate\n",
    "    sedimentation_rate = np.zeros(len(x))\n",
    "    total_ero = np.zeros(len(x))\n",
    "    q = x  # discharge = distance downstream (first node is left edge of 0th cell)\n",
    "    qs = np.zeros(len(x))  # first node is left edge of 0th cell\n",
    "    dt = 0.2 * dx * dx / (c*q[-1])  # time-step size\n",
    "\n",
    "    for i in range(num_steps):\n",
    "        \n",
    "        # lower baselevel\n",
    "        eta[-1] -= baselevel_rate * dt \n",
    "        \n",
    "        # set boundary conditions\n",
    "        etab[-1] = eta[-1]\n",
    "        \n",
    "        # calc slope\n",
    "        S = -np.diff(eta)/dx\n",
    "        # S = 0.001\n",
    "        \n",
    "        # calculate e factor\n",
    "        efac = np.exp(- H / Hstar)\n",
    "        \n",
    "        # calculate total bedload sed flux and set boundary condition\n",
    "        qs[1:] = c * q[1:] * S * (1.0 - efac[:-1])\n",
    "        qs[0] = 0\n",
    "        \n",
    "        # calc bedrock erosion from stream power (plucking)\n",
    "        ero_plucking_ig = efac[:-1] * (k_ig[1:] * q[1:] * S)\n",
    "        ero_plucking_sed = efac[:-1] * (k_sed[1:] * q[1:] * S)\n",
    "        \n",
    "        # calc bedrock erosion from abrasion\n",
    "        ero_ab_ig = efac[:-1] * (beta_ig[:-1] * qs[:-1])\n",
    "        ero_ab_sed = efac[:-1] * (beta_sed[:-1] * qs[:-1])\n",
    "        \n",
    "        # calc bedrock erosion rate from stream power and abrasion\n",
    "        bedrock_ero[:-1] = ero_plucking_ig + ero_plucking_sed + ero_ab_ig + ero_ab_sed\n",
    "        \n",
    "        # calc change in bedrock elev\n",
    "        etab[:-1] -= bedrock_ero[:-1] * dt\n",
    "        \n",
    "        # calc grain attrition\n",
    "        # atr = beta_ig[1:] * qs[1:]\n",
    "        atr = 0.000004 * qs[1:]\n",
    "        \n",
    "        # calc change in alluvial thickness\n",
    "        sedimentation_rate[:-1] = -((1 / porosity) * ((np.diff(qs)/dx) + atr - ero_plucking_ig))\n",
    "        H[:-1] += sedimentation_rate[:-1] * dt\n",
    "        H[H < 0] = 0\n",
    "        \n",
    "        # track total erosion\n",
    "        total_ero = bedrock_ero - sedimentation_rate\n",
    "        \n",
    "        # update elev\n",
    "        eta[:-1] = etab[:-1] + H[:-1]\n",
    "        \n",
    "        # set adaptive timestep\n",
    "        # first check time to flat surface\n",
    "        elev_diff = np.diff(eta)/dx\n",
    "        ero_diff = np.diff(total_ero)/dx\n",
    "        valid_places = np.where(ero_diff < 0)\n",
    "        times_to_flat = np.abs(elev_diff[valid_places]/ero_diff[valid_places])\n",
    "        \n",
    "        # then check time to deplete all sediment\n",
    "        sed_depletion_locations = np.where(sedimentation_rate < 0)\n",
    "        times_to_no_sed = np.abs(H[sed_depletion_locations]/sedimentation_rate[sed_depletion_locations])\n",
    "\n",
    "        # check for smaller condition\n",
    "        if np.min(times_to_flat) <= np.min(times_to_no_sed):\n",
    "            dt = 0.2 * np.min(times_to_flat)\n",
    "            \n",
    "        else:\n",
    "            dt = 0.2 * np.min(times_to_no_sed)\n",
    "        \n",
    "    print(\"slope: \", S, \"\\n\")\n",
    "    print(\"sed flux: \", qs, \"\\n\")\n",
    "    print(\"efac: \", efac, \"\\n\")\n",
    "    print(\"topography: \", eta, \"\\n\")\n",
    "    print(\"bedrock: \", etab, \"\\n\")\n",
    "    print(\"igneous plucking rate: \", ero_plucking_ig, \"\\n\")\n",
    "    print(\"sedimentary plucking rate: \", ero_plucking_sed, \"\\n\")\n",
    "    print(\"igneous abrasion rate: \", ero_ab_ig, \"\\n\")\n",
    "    print(\"sedimentary abrasion rate: \", ero_ab_sed, \"\\n\")\n",
    "    print(\"bedrock erosion rate: \", bedrock_ero, \"\\n\")\n",
    "    print(\"attrition: \", atr, \"\\n\")\n",
    "    print(\"sedimentation rate: \", sedimentation_rate, \"\\n\")\n",
    "    print(\"sediment: \", H, \"\\n\")\n",
    "    print(\"total erosion rate: \", total_ero, \"\\n\")\n",
    "    print(\"elevaion differences: \", elev_diff, \"\\n\")\n",
    "    print(\"erosion rate differences: \", ero_diff, \"\\n\")\n",
    "    print(\"location of negative erosion rates: \", valid_places, \"\\n\")\n",
    "    print(\"times to flat: \", times_to_flat, \"\\n\")\n",
    "    print(\"times to no sed: \", times_to_no_sed, \"\\n\")\n",
    "    print(\"timestep: \", dt, \"\\n\")\n",
    "        \n",
    "    return (S, qs, efac, eta, etab, ero_plucking_ig, ero_plucking_sed, ero_ab_ig, ero_ab_sed, bedrock_ero, atr, \n",
    "            sedimentation_rate, H, total_ero, elev_diff, ero_diff, valid_places, times_to_flat, \n",
    "            times_to_no_sed, dt)"
   ]
  },
  {
   "cell_type": "code",
   "execution_count": 40,
   "metadata": {
    "scrolled": false
   },
   "outputs": [
    {
     "name": "stdout",
     "output_type": "stream",
     "text": [
      "slope:  [-0.00000000e+00 -0.00000000e+00 -0.00000000e+00  3.74700271e-16\n",
      "  2.29488650e-12  1.92943758e-09  2.63063119e-07  5.81745695e-06\n",
      "  2.16979467e-05] \n",
      "\n",
      "sed flux:  [ 0.00000000e+00 -0.00000000e+00 -0.00000000e+00 -0.00000000e+00\n",
      "  9.47422978e-16  7.25322469e-12  7.31782297e-09  1.16401323e-06\n",
      "  2.94186278e-05  1.23437096e-04] \n",
      "\n",
      "efac:  [0.36787944 0.36787944 0.36787944 0.36787944 0.36787944 0.36787944\n",
      " 0.36787945 0.36788042 0.36790181 1.        ] \n",
      "\n",
      "topography:  [ 0.00000000e+00  0.00000000e+00  0.00000000e+00  0.00000000e+00\n",
      " -4.71844785e-16 -2.38956077e-12 -1.94665271e-09 -2.65359304e-07\n",
      " -6.08366464e-06 -2.77803985e-05] \n",
      "\n",
      "bedrock:  [-1.00000000e-01 -1.00000000e-01 -1.00000000e-01 -1.00000000e-01\n",
      " -1.00000000e-01 -1.00000000e-01 -1.00000000e-01 -1.00000000e-01\n",
      " -1.00000002e-01 -2.77803985e-05] \n",
      "\n",
      "igneous plucking rate:  [-0.00000000e+00 -0.00000000e+00 -0.00000000e+00  5.51378105e-20\n",
      "  0.00000000e+00  0.00000000e+00  0.00000000e+00  0.00000000e+00\n",
      "  0.00000000e+00] \n",
      "\n",
      "sedimentary plucking rate:  [-0.00000000e+00 -0.00000000e+00 -0.00000000e+00  0.00000000e+00\n",
      "  4.22120782e-15  4.25880252e-12  6.77428605e-10  1.71210279e-08\n",
      "  7.18444250e-08] \n",
      "\n",
      "igneous abrasion rate:  [ 0.00000000e+00 -0.00000000e+00 -0.00000000e+00 -0.00000000e+00\n",
      "  1.39414974e-21  0.00000000e+00  0.00000000e+00  0.00000000e+00\n",
      "  0.00000000e+00] \n",
      "\n",
      "sedimentary abrasion rate:  [ 0.00000000e+00 -0.00000000e+00 -0.00000000e+00 -0.00000000e+00\n",
      "  0.00000000e+00  1.70771984e-16  1.72292907e-13  2.74059308e-11\n",
      "  6.92682650e-10] \n",
      "\n",
      "bedrock erosion rate:  [ 0.00000000e+00 -0.00000000e+00 -0.00000000e+00  5.51378105e-20\n",
      "  4.22120922e-15  4.25897329e-12  6.77600898e-10  1.71484338e-08\n",
      "  7.25371076e-08  0.00000000e+00] \n",
      "\n",
      "attrition:  [-0.00000000e+00 -0.00000000e+00 -0.00000000e+00  3.78969191e-21\n",
      "  2.90128988e-17  2.92712919e-14  4.65605290e-12  1.17674511e-10\n",
      "  4.93748383e-10] \n",
      "\n",
      "sedimentation rate:  [-0.00000000e+00 -0.00000000e+00 -0.00000000e+00 -1.72249387e-15\n",
      " -1.31860114e-11 -1.32919982e-08 -2.10309102e-06 -5.13722404e-05\n",
      " -1.70943567e-04  0.00000000e+00] \n",
      "\n",
      "sediment:  [0.1        0.1        0.1        0.1        0.1        0.1\n",
      " 0.1        0.09999973 0.09999392 0.        ] \n",
      "\n",
      "total erosion rate:  [ 0.00000000e+00 -0.00000000e+00 -0.00000000e+00 -1.72243874e-15\n",
      " -1.31817902e-11 -1.32877392e-08 -2.10241342e-06 -5.13550919e-05\n",
      " -1.70871029e-04  0.00000000e+00] \n",
      "\n",
      "elevaion differences:  [ 0.00000000e+00  0.00000000e+00  0.00000000e+00 -4.71844785e-16\n",
      " -2.38908893e-12 -1.94426315e-09 -2.63412651e-07 -5.81830534e-06\n",
      " -2.16967339e-05] \n",
      "\n",
      "erosion rate differences:  [-0.00000000e+00  0.00000000e+00 -1.72243874e-15 -1.31800678e-11\n",
      " -1.32745575e-08 -2.08912568e-06 -4.92526785e-05 -1.19515938e-04\n",
      "  1.70871029e-04] \n",
      "\n",
      "location of negative erosion rates:  (array([2, 3, 4, 5, 6, 7]),) \n",
      "\n",
      "times to flat:  [0.00000000e+00 3.57998755e-05 1.79975034e-04 9.30658780e-04\n",
      " 5.34818935e-03 4.86822549e-02] \n",
      "\n",
      "times to no sed:  [5.80553589e+13 7.58379443e+09 7.52332331e+06 4.75490586e+04\n",
      " 1.94657142e+03 5.84952803e+02] \n",
      "\n",
      "timestep:  0.0 \n",
      "\n"
     ]
    }
   ],
   "source": [
    "(S, \n",
    "qs, \n",
    "efac, \n",
    "eta, \n",
    "etab, \n",
    "ero_plucking_ig, \n",
    "ero_plucking_sed,\n",
    "ero_ab_ig,\n",
    "ero_ab_sed,\n",
    "bedrock_ero, \n",
    "atr, \n",
    "sedimentation_rate, \n",
    "H, \n",
    "total_ero,\n",
    "elev_diff, \n",
    "ero_diff, \n",
    "valid_places, \n",
    "times_to_flat,\n",
    "times_to_no_sed,\n",
    "dt) = two_lith_one_sed(x,\n",
    "                       dx,\n",
    "                       Hstar,\n",
    "                       H,\n",
    "                       etab,\n",
    "                       eta,\n",
    "                       beta_ig,\n",
    "                       beta_sed,\n",
    "                       k_ig,\n",
    "                       k_sed,\n",
    "                       num_steps = 6)"
   ]
  },
  {
   "cell_type": "code",
   "execution_count": 41,
   "metadata": {},
   "outputs": [
    {
     "data": {
      "text/plain": [
       "<matplotlib.legend.Legend at 0x7fba51a49510>"
      ]
     },
     "execution_count": 41,
     "metadata": {},
     "output_type": "execute_result"
    },
    {
     "data": {
      "image/png": "[encoded data removed]",
      "text/plain": [
       "<Figure size 432x288 with 1 Axes>"
      ]
     },
     "metadata": {
      "needs_background": "light"
     },
     "output_type": "display_data"
    }
   ],
   "source": [
    "plt.plot(x, eta, label = 'topography')\n",
    "# plt.plot(x, etab, label = 'bedrock')\n",
    "# plt.plot(x, H, label = 'sediment')\n",
    "plt.legend()"
   ]
  },
  {
   "cell_type": "code",
   "execution_count": 42,
   "metadata": {},
   "outputs": [
    {
     "data": {
      "text/plain": [
       "[<matplotlib.lines.Line2D at 0x7fba520be890>]"
      ]
     },
     "execution_count": 42,
     "metadata": {},
     "output_type": "execute_result"
    },
    {
     "data": {
      "image/png": "[encoded data removed]",
      "text/plain": [
       "<Figure size 432x288 with 1 Axes>"
      ]
     },
     "metadata": {
      "needs_background": "light"
     },
     "output_type": "display_data"
    }
   ],
   "source": [
    "plt.plot(x, total_ero)"
   ]
  },
  {
   "cell_type": "code",
   "execution_count": null,
   "metadata": {},
   "outputs": [],
   "source": []
  }
 ],
 "metadata": {
  "kernelspec": {
   "display_name": "Python 3",
   "language": "python",
   "name": "python3"
  },
  "language_info": {
   "codemirror_mode": {
    "name": "ipython",
    "version": 3
   },
   "file_extension": ".py",
   "mimetype": "text/x-python",
   "name": "python",
   "nbconvert_exporter": "python",
   "pygments_lexer": "ipython3",
   "version": "3.7.6"
  }
 },
 "nbformat": 4,
 "nbformat_minor": 4
}
