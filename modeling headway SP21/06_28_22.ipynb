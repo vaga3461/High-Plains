{
 "cells": [
  {
   "cell_type": "code",
   "execution_count": 243,
   "id": "c33557f6",
   "metadata": {},
   "outputs": [],
   "source": [
    "# this notebook is trying to bring it all together, albeit in a simplified form\n",
    "# I envision a single lithology\n",
    "# lateral sediment flux from the sides with L2/T\n",
    "# channel that adjusts its width in a fixed-width valley\n",
    "# total Q \n",
    "# transport dependent upon valley width"
   ]
  },
  {
   "cell_type": "code",
   "execution_count": 244,
   "id": "cd92f00b",
   "metadata": {},
   "outputs": [],
   "source": [
    "# start with just the math, and steps"
   ]
  },
  {
   "cell_type": "markdown",
   "id": "b2163cf0",
   "metadata": {},
   "source": [
    "## What steps are we following in our model?\n",
    "\n",
    "### Outside of the loop:\n",
    "1. Define parameters\n",
    "- grid spacing $(x)$\n",
    "- length of domain $(dx)$\n",
    "\n",
    "- runoff rate $(r)$\n",
    "- Hack coefficient for basin shape $(k_h)$\n",
    "- Hack exponent for basin shape $(h)$\n",
    "\n",
    "- characteristic sediment thickness $(H^*)$\n",
    "\n",
    "- igneous abrasion coeffcient $(\\beta)$\n",
    "- attrition factor (same as igneous abrasion coeff) $(\\psi)$\n",
    "- erodibility $(K)$\n",
    "\n",
    "- fraction of \"hillslope\" / \"tributary\" material that is coarse $(\\gamma)$\n",
    "\n",
    "- valley width coefficient $(k_{x, B})$\n",
    "- valley width exponent $(P_{x, B})$\n",
    "- channel width coefficient $(k_b)$\n",
    "\n",
    "- porosity $(\\phi)$\n",
    "- grain size $(D)$\n",
    "\n",
    "- uplift rate $(U)$\n",
    "\n",
    "2. Set up arrays\n",
    "- sediment $(H)$\n",
    "- bedrock $(\\eta_b)$\n",
    "- topography $(\\eta)$\n",
    "\n",
    "3. Calculate constant, derivative values\n",
    "- total discharge $(Q)$\n",
    "- valley width $(B)$\n",
    "\n",
    "### Within the function but before the loop:\n",
    "1. Define constants (not tunable parameters)\n",
    "- c\n",
    "- I\n",
    "2. Calculate dt\n",
    "3. Define arrays\n",
    "- channel width $(b)$\n",
    "- bedrock erosion $(E_b)$\n",
    "- sedimentation rate $(E_H)$\n",
    "- total erosion rate $(E)$\n",
    "- unit discharge $(q)$\n",
    "- total sediment transport $(Q_s)$\n",
    "- unit sediment transport $(q_s)$\n",
    "- lateral sediment transport $(ql)$\n",
    "4. Set boundary conditions for $b$, $H$, $E$, $q$, and $q_l$\n",
    "\n",
    "### Within the loop:\n",
    "1. Calculate slope using topography $(S)$\n",
    "- Have started with tiny slope so that we don't get \"divide by 0\" errors\n",
    "2. Calculate channel width $(b)$\n",
    "3. Calculate unit discharge $(q)$\n",
    "- total discharge divided by channel width\n",
    "4. Calculate bed cover $(\\alpha)$\n",
    "5. Calculate sediment transport\n",
    "- total sed transport is W&S Eqn 17 $(Q_s)$\n",
    "- unit sed transport is total transport divided by valley width $(q_s)$\n",
    "6. Calculate bedrock erosion via plucking and abrasion\n",
    "- These processes only occur in the channel (multiply by channel width?)\n",
    "7. Calculate attrition\n",
    "- This process happens in the channel, over the unit flux?\n",
    "8. Calculate lateral sediment inputs\n",
    "9. Calculate sedimentation rate\n",
    "- This occurs over the valley width, idea being that over long timescales the entire valley aggrades or incises at roughly the same rate\n",
    "10. Calculate total erosion rate\n",
    "- Bedrock erosion minus sedimentation\n",
    "11. Update topography"
   ]
  },
  {
   "cell_type": "code",
   "execution_count": 245,
   "id": "d1ac0829",
   "metadata": {},
   "outputs": [],
   "source": [
    "import numpy as np\n",
    "import matplotlib.pyplot as plt"
   ]
  },
  {
   "cell_type": "code",
   "execution_count": 246,
   "id": "5686c35d",
   "metadata": {},
   "outputs": [],
   "source": [
    "# define parameters\n",
    "\n",
    "dx = 1 # grid spacing\n",
    "x = np.arange(0, 101, dx) # domain length\n",
    "r = 10. # runoff rate\n",
    "kh = 1/3 # hack coefficient\n",
    "h = 2 # hack exponent\n",
    "Hstar = 0.5 # characteristic sediment thickness\n",
    "beta = 0.00004 # igneous abrasion coefficient\n",
    "psi = 0.00004 # attrition factor\n",
    "K = 0.0001 # rock erodibility\n",
    "gamma = 0.5 # fraction of coarse sediment from hillslope erosion\n",
    "kxb = 25 # valley width coefficient\n",
    "Pxb = 1/5 # valley width exponent\n",
    "kb = 8.3e-8 # channel width coefficient\n",
    "phi = 0.55 # sediment porosity\n",
    "D = 0.05 # grain size\n",
    "U = 0.001"
   ]
  },
  {
   "cell_type": "code",
   "execution_count": 247,
   "id": "17597a72",
   "metadata": {},
   "outputs": [],
   "source": [
    "# set up arrays\n",
    "\n",
    "H = Hstar + np.zeros(len(x)) # sediment thickness\n",
    "etab = np.zeros(len(x)) # bedrock elevation array\n",
    "etab[:] = np.linspace(1, 0.1, len(x)) # need to start with slight bedrock slope\n",
    "eta = etab + H # total topographic elevation"
   ]
  },
  {
   "cell_type": "code",
   "execution_count": 248,
   "id": "d345afdf",
   "metadata": {},
   "outputs": [],
   "source": [
    "# calculate constant, derivative values\n",
    "\n",
    "Q = r * kh * (x**h) # total discharge\n",
    "B = kxb * (x**Pxb) # valley width"
   ]
  },
  {
   "cell_type": "code",
   "execution_count": 249,
   "id": "e995254b",
   "metadata": {},
   "outputs": [
    {
     "data": {
      "text/plain": [
       "[<matplotlib.lines.Line2D at 0x7faa77a6f4d0>]"
      ]
     },
     "execution_count": 249,
     "metadata": {},
     "output_type": "execute_result"
    },
    {
     "data": {
      "image/png": "[encoded data removed]",
      "text/plain": [
       "<Figure size 432x288 with 1 Axes>"
      ]
     },
     "metadata": {
      "needs_background": "light"
     },
     "output_type": "display_data"
    }
   ],
   "source": [
    "plt.plot(x, eta)"
   ]
  },
  {
   "cell_type": "code",
   "execution_count": 250,
   "id": "cd644e0b",
   "metadata": {},
   "outputs": [],
   "source": [
    "def model(x,\n",
    "          dx,\n",
    "          Hstar,\n",
    "          H,\n",
    "          etab,\n",
    "          eta,\n",
    "          beta,\n",
    "          psi,\n",
    "          K,\n",
    "          gamma,\n",
    "          kxb,\n",
    "          Pxb,\n",
    "          kb,\n",
    "          phi,\n",
    "          D,\n",
    "          U,\n",
    "          Q,\n",
    "          B,\n",
    "          num_steps = 2000000):\n",
    "    \n",
    "    # define more constants\n",
    "    kqs = 0.041 # sediment discharge coefficient\n",
    "    I = 0.01 # intermittency factor\n",
    "    \n",
    "    # calculate timestep\n",
    "    dt = 0.2 * (0.2 * dx * dx / (kqs*Q[-1]))\n",
    "    \n",
    "    # define arrays\n",
    "    b = np.zeros(len(x)) # channel width\n",
    "    Eb_p = np.zeros(len(x)) # plucking rate\n",
    "    Eb_a = np.zeros(len(x)) # abrasion rate\n",
    "    Eb = np.zeros(len(x)) # bedrock erosion rate\n",
    "    Eh = np.zeros(len(x)) # sedimentation rate\n",
    "    E = np.zeros(len(x)) # total erosion rate\n",
    "    q = np.zeros(len(x)) # unit discharge\n",
    "    Qs = np.zeros(len(x)) # total sediment transport\n",
    "    qs = np.zeros(len(x)) # unit sediment transport\n",
    "    ql = np.zeros(len(x)) # lateral sediment supply\n",
    "    \n",
    "    # set boundary conditions\n",
    "    b[0] = 0\n",
    "    H[-1] = 0\n",
    "    E[-1] = U\n",
    "    q[0] = 0\n",
    "    Qs[0] = 0\n",
    "    qs[0] = 0\n",
    "    ql[0] = 0\n",
    "    \n",
    "    for i in range(num_steps):\n",
    "        \n",
    "        # update boundary conditions\n",
    "        eta[-1] -= U * dt\n",
    "        etab[-1] = eta[-1]\n",
    "        \n",
    "        # calculate slope\n",
    "        S = np.abs(np.diff(eta)/dx)\n",
    "        \n",
    "        # calculate channel width (L)\n",
    "        # b = (kb * Q[1:] * (S**(7/6))) / (D**(3/2))\n",
    "        b = (kb * Q[1:] * (S ** (7 / 6))) / (D**(3/2))\n",
    "        \n",
    "        # calculate unit discharge (L^2/T)\n",
    "        q[1:] = Q[1:]/b\n",
    "        \n",
    "        # calculate bed exposure\n",
    "        alpha = np.exp(-H/Hstar)\n",
    "        \n",
    "        # calculate sediment transport (L^3/T and L^2/T)\n",
    "        # Qs[1:] = c * I * Q[1:] * S**(7/6) * (1 - alpha[:-1])\n",
    "        Qs[1:] = kqs * I * Q[1:] * np.sign(S) * (np.abs(S)) ** (7/6) * (1-alpha[:-1])\n",
    "        qs[1:] = Qs[1:]/b\n",
    "        \n",
    "        # calculate bedrock erosion rates (L^2/T)\n",
    "        Eb_p[:-1] = K * Q[1:] * S * alpha[:-1]\n",
    "        Eb_a[:-1] = beta * Qs[1:] * alpha[:-1]\n",
    "        \n",
    "        # Eb[:-1] = Eb_p[:-1] + Eb_a[:-1]\n",
    "        Eb[:-1] = (Eb_p[:-1] + Eb_a[:-1]) / B[1:]\n",
    "        \n",
    "        # calculate attrition rate (L^2/T)\n",
    "        atr = beta * Qs\n",
    "        \n",
    "        # calculate lateral sediment inputs (L/T)... needs to be L^2/T\n",
    "        ql = ((Eb * gamma) / beta) * (1 - np.exp(-beta * (x/3)))\n",
    "        \n",
    "        # calculate sedimentation rate (L/T)\n",
    "        Eh[:-1] = - (1/ (1 - phi) * B[1:]) * ((np.diff(Qs)/dx) + atr[1:] - Eb_p[:-1] - ql[:-1])\n",
    "        \n",
    "        # calculate total erosion rate\n",
    "        E[:-1] = Eb[:-1] + Eh[:-1]\n",
    "        \n",
    "        # update topography\n",
    "        etab[:-1] -= Eb[:-1] * dt\n",
    "        H[:-1] += Eh[:-1] * dt\n",
    "        H[H<0] = 0\n",
    "        eta[:-1] = etab[:-1] + H[:-1]\n",
    "        \n",
    "    return (S, b, q, Qs, qs, Eb, atr, ql, Eh, E, eta, etab, H, dt)"
   ]
  },
  {
   "cell_type": "code",
   "execution_count": 251,
   "id": "8d26a0c7",
   "metadata": {},
   "outputs": [],
   "source": [
    "test_run = [x, dx, Hstar, H, etab, eta, beta, psi, K, gamma, kxb, Pxb, kb, phi, D, U, Q, B]"
   ]
  },
  {
   "cell_type": "code",
   "execution_count": 252,
   "id": "95e4a4dd",
   "metadata": {},
   "outputs": [],
   "source": [
    "(S, b, q, Qs, qs, Eb, atr, ql, Eh, E, eta, etab, H, dt) = model(*test_run)"
   ]
  },
  {
   "cell_type": "code",
   "execution_count": 253,
   "id": "59b3351b",
   "metadata": {},
   "outputs": [
    {
     "data": {
      "text/plain": [
       "array([-8.98540789e-05,  2.74229748e-05,  8.21554146e-05,  1.14842580e-04,\n",
       "        1.36780715e-04,  1.52594513e-04,  1.64568076e-04,  1.73968835e-04,\n",
       "        1.81559385e-04,  1.87827027e-04,  1.93098079e-04,  1.97599436e-04,\n",
       "        2.01493828e-04,  2.04901052e-04,  2.07911287e-04,  2.10593752e-04,\n",
       "        2.13002496e-04,  2.15180381e-04,  2.17161882e-04,  2.18975087e-04,\n",
       "        2.20643144e-04,  2.22185300e-04,  2.23617604e-04,  2.24953323e-04,\n",
       "        2.26203032e-04,  2.27374387e-04,  2.28471556e-04,  2.29494471e-04,\n",
       "        2.30438205e-04,  2.31292979e-04,  2.32045096e-04,  2.32678597e-04,\n",
       "        2.33176987e-04,  2.33524481e-04,  2.33706619e-04,  2.33710462e-04,\n",
       "        2.33524567e-04,  2.33138915e-04,  2.32544832e-04,  2.31734934e-04,\n",
       "        2.30703075e-04,  2.29444302e-04,  2.27954814e-04,  2.26231906e-04,\n",
       "        2.24273920e-04,  2.22080173e-04,  2.19650900e-04,  2.16987181e-04,\n",
       "        2.14090865e-04,  2.10964507e-04,  2.07611291e-04,  2.04034968e-04,\n",
       "        2.00239788e-04,  1.96230452e-04,  1.92012052e-04,  1.87590037e-04,\n",
       "        1.82970174e-04,  1.78158528e-04,  1.73161449e-04,  1.67985572e-04,\n",
       "        1.62637831e-04,  1.57125494e-04,  1.51456208e-04,  1.45638076e-04,\n",
       "        1.39679749e-04,  1.33590559e-04,  1.27380681e-04,  1.21061345e-04,\n",
       "        1.14645101e-04,  1.08146148e-04,  1.01580758e-04,  9.49677961e-05,\n",
       "        8.83293878e-05,  8.16917463e-05,  7.50862381e-05,  6.85507226e-05,\n",
       "        6.21312931e-05,  5.58844918e-05,  4.98802137e-05,  4.42054893e-05,\n",
       "        3.89694853e-05,  3.43101694e-05,  3.04032639e-05,  2.74744390e-05,\n",
       "        2.58160848e-05,  2.58106981e-05,  2.79639475e-05,  3.29521589e-05,\n",
       "        4.16916669e-05,  5.54420109e-05,  7.59626797e-05,  1.05756597e-04,\n",
       "        1.48457825e-04,  2.09465593e-04,  2.97011050e-04,  4.24004071e-04,\n",
       "        6.11312141e-04,  8.93651213e-04,  1.32984406e-03,  2.01749970e-03,\n",
       "        1.00000000e-03])"
      ]
     },
     "execution_count": 253,
     "metadata": {},
     "output_type": "execute_result"
    }
   ],
   "source": [
    "E"
   ]
  },
  {
   "cell_type": "code",
   "execution_count": 254,
   "id": "4c9551bc",
   "metadata": {},
   "outputs": [
    {
     "data": {
      "text/plain": [
       "<matplotlib.legend.Legend at 0x7faa77b11690>"
      ]
     },
     "execution_count": 254,
     "metadata": {},
     "output_type": "execute_result"
    },
    {
     "data": {
      "image/png": "[encoded data removed]",
      "text/plain": [
       "<Figure size 432x288 with 1 Axes>"
      ]
     },
     "metadata": {
      "needs_background": "light"
     },
     "output_type": "display_data"
    }
   ],
   "source": [
    "plt.plot(x, eta, label = 'topo')\n",
    "plt.plot(x, etab, label = 'bedrock')\n",
    "plt.plot(x, H, label = 'sediment')\n",
    "plt.legend()"
   ]
  },
  {
   "cell_type": "code",
   "execution_count": 266,
   "id": "8a1033d3",
   "metadata": {},
   "outputs": [
    {
     "data": {
      "text/plain": [
       "[<matplotlib.lines.Line2D at 0x7faa77fc7ed0>]"
      ]
     },
     "execution_count": 266,
     "metadata": {},
     "output_type": "execute_result"
    },
    {
     "data": {
      "image/png": "[encoded data removed]",
      "text/plain": [
       "<Figure size 432x288 with 1 Axes>"
      ]
     },
     "metadata": {
      "needs_background": "light"
     },
     "output_type": "display_data"
    }
   ],
   "source": [
    "plt.plot(x[1:], b)\n",
    "plt.plot(x, B)"
   ]
  },
  {
   "cell_type": "code",
   "execution_count": 256,
   "id": "5b39db3c",
   "metadata": {},
   "outputs": [
    {
     "data": {
      "text/plain": [
       "array([1.49136581, 1.48477594, 1.48217363, 1.48075082, 1.47984771,\n",
       "       1.47922152, 1.47876085, 1.47840713, 1.47812657, 1.47789826,\n",
       "       1.47770859, 1.47754829, 1.47741084, 1.47729152, 1.47718683,\n",
       "       1.47709411, 1.4770113 , 1.4769368 , 1.47686931, 1.47680778,\n",
       "       1.47675132, 1.4766992 , 1.47665072, 1.47660527, 1.47656218,\n",
       "       1.47652074, 1.47648011, 1.4764392 , 1.47639666, 1.47635069,\n",
       "       1.47629904, 1.4762389 , 1.47616692, 1.47607914, 1.47597105,\n",
       "       1.4758376 , 1.47567317, 1.47547165, 1.47522643, 1.47493043,\n",
       "       1.47457613, 1.4741556 , 1.47366051, 1.47308215, 1.47241147,\n",
       "       1.47163911, 1.47075538, 1.4697503 , 1.46861361, 1.46733479,\n",
       "       1.46590305, 1.46430733, 1.46253629, 1.46057833, 1.45842158,\n",
       "       1.45605383, 1.45346256, 1.45063492, 1.44755763, 1.44421704,\n",
       "       1.44059898, 1.43668879, 1.43247121, 1.42793035, 1.42304957,\n",
       "       1.4178114 , 1.41219747, 1.40618836, 1.39976347, 1.39290089,\n",
       "       1.38557721, 1.3777673 , 1.36944415, 1.36057853, 1.35113872,\n",
       "       1.34109015, 1.33039498, 1.3190116 , 1.30689405, 1.2939913 ,\n",
       "       1.28024645, 1.26559566, 1.24996693, 1.23327859, 1.21543735,\n",
       "       1.19633591, 1.17584999, 1.15383433, 1.13011767, 1.10449603,\n",
       "       1.07672367, 1.04650075, 1.01345621, 0.97712318, 0.9369033 ,\n",
       "       0.89201308, 0.84140141, 0.78361902, 0.71660816, 0.63736649,\n",
       "       0.54146341])"
      ]
     },
     "execution_count": 256,
     "metadata": {},
     "output_type": "execute_result"
    }
   ],
   "source": [
    "eta"
   ]
  },
  {
   "cell_type": "code",
   "execution_count": 257,
   "id": "353cf4c8",
   "metadata": {},
   "outputs": [
    {
     "data": {
      "text/plain": [
       "array([7.06087020e-08, 9.55320215e-08, 1.06270974e-07, 1.11169564e-07,\n",
       "       1.13309194e-07, 1.14049596e-07, 1.14058665e-07, 1.13688547e-07,\n",
       "       1.13134129e-07, 1.12506875e-07, 1.11871895e-07, 1.11267715e-07,\n",
       "       1.10717399e-07, 1.10235191e-07, 1.09830865e-07, 1.09513043e-07,\n",
       "       1.09292392e-07, 1.09185528e-07, 1.09220637e-07, 1.09446229e-07,\n",
       "       1.09945136e-07, 1.10856970e-07, 1.12413783e-07, 1.14995670e-07,\n",
       "       1.19215137e-07, 1.26040233e-07, 1.36964804e-07, 1.54227341e-07,\n",
       "       1.81067484e-07, 2.21996474e-07, 2.83054024e-07, 3.72033392e-07,\n",
       "       4.98671347e-07, 6.74809232e-07, 9.14532708e-07, 1.23429516e-06,\n",
       "       1.65302725e-06, 2.19223403e-06, 2.87608095e-06, 3.73147069e-06,\n",
       "       4.78811307e-06, 6.07859105e-06, 7.63842599e-06, 9.50614582e-06,\n",
       "       1.17233600e-05, 1.43348450e-05, 1.73886455e-05, 2.09361937e-05,\n",
       "       2.50324537e-05, 2.97360941e-05, 3.51096939e-05, 4.12199886e-05,\n",
       "       4.81381601e-05, 5.59401790e-05, 6.47072059e-05, 7.45260588e-05,\n",
       "       8.54897579e-05, 9.76981572e-05, 1.11258677e-04, 1.26287149e-04,\n",
       "       1.42908799e-04, 1.61259379e-04, 1.81486477e-04, 2.03751044e-04,\n",
       "       2.28229157e-04, 2.55114082e-04, 2.84618671e-04, 3.16978183e-04,\n",
       "       3.52453587e-04, 3.91335465e-04, 4.33948636e-04, 4.80657660e-04,\n",
       "       5.31873418e-04, 5.88061031e-04, 6.49749430e-04, 7.17543007e-04,\n",
       "       7.92135882e-04, 8.74329501e-04, 9.65054499e-04, 1.06539810e-03,\n",
       "       1.17663872e-03, 1.30029014e-03, 1.43815837e-03, 1.59241574e-03,\n",
       "       1.76569859e-03, 1.96123770e-03, 2.18303489e-03, 2.43610597e-03,\n",
       "       2.72682064e-03, 3.06338691e-03, 3.45655612e-03, 3.92067221e-03,\n",
       "       4.47527336e-03, 5.14760389e-03, 5.97667078e-03, 7.01999321e-03,\n",
       "       8.36514337e-03, 1.01497820e-02, 1.25955779e-02, 1.60560947e-02])"
      ]
     },
     "execution_count": 257,
     "metadata": {},
     "output_type": "execute_result"
    }
   ],
   "source": [
    "b"
   ]
  },
  {
   "cell_type": "code",
   "execution_count": 258,
   "id": "bd0abf9b",
   "metadata": {},
   "outputs": [],
   "source": [
    "# see if there's an analytical solution for the bedrock piece"
   ]
  },
  {
   "cell_type": "code",
   "execution_count": 259,
   "id": "03547a70",
   "metadata": {},
   "outputs": [],
   "source": [
    "kqs = 0.041\n",
    "I = 0.01"
   ]
  },
  {
   "cell_type": "code",
   "execution_count": 260,
   "id": "672c95b8",
   "metadata": {},
   "outputs": [],
   "source": [
    "c1 = kh**(1/2) * r**(1/2) * U * B * K\n",
    "c2 = (U * kb**(2) * kh**(2) * r**(2) * x**(2*h) * K) / D**(3)\n",
    "c3 = (beta * kqs * I * kh**(2) * r**(2) * x**(2*h) * kb * K) / D**(3/2)\n",
    "c4 = beta * kqs * I * kh**(1/2) * r**(1/2) * x**(h/2) * U * B"
   ]
  },
  {
   "cell_type": "code",
   "execution_count": 261,
   "id": "019d15e8",
   "metadata": {},
   "outputs": [
    {
     "data": {
      "text/plain": [
       "array([0.00000000e+00, 7.48554162e-10, 1.71972587e-09, 2.79749124e-09,\n",
       "       3.95089255e-09, 5.16401190e-09, 6.42694717e-09, 7.73287300e-09,\n",
       "       9.07676755e-09, 1.04547642e-08, 1.18637840e-08, 1.33013111e-08,\n",
       "       1.47652473e-08, 1.62538127e-08, 1.77654770e-08, 1.92989082e-08,\n",
       "       2.08529359e-08, 2.24265224e-08, 2.40187408e-08, 2.56287574e-08,\n",
       "       2.72558182e-08, 2.88992374e-08, 3.05583884e-08, 3.22326960e-08,\n",
       "       3.39216305e-08, 3.56247020e-08, 3.73414559e-08, 3.90714696e-08,\n",
       "       4.08143484e-08, 4.25697233e-08, 4.43372482e-08, 4.61165980e-08,\n",
       "       4.79074664e-08, 4.97095644e-08, 5.15226189e-08, 5.33463712e-08,\n",
       "       5.51805761e-08, 5.70250006e-08, 5.88794230e-08, 6.07436323e-08,\n",
       "       6.26174271e-08, 6.45006153e-08, 6.63930130e-08, 6.82944444e-08,\n",
       "       7.02047409e-08, 7.21237411e-08, 7.40512898e-08, 7.59872380e-08,\n",
       "       7.79314424e-08, 7.98837650e-08, 8.18440731e-08, 8.38122386e-08,\n",
       "       8.57881380e-08, 8.77716521e-08, 8.97626656e-08, 9.17610674e-08,\n",
       "       9.37667496e-08, 9.57796082e-08, 9.77995421e-08, 9.98264537e-08,\n",
       "       1.01860248e-07, 1.03900833e-07, 1.05948120e-07, 1.08002023e-07,\n",
       "       1.10062456e-07, 1.12129338e-07, 1.14202590e-07, 1.16282134e-07,\n",
       "       1.18367895e-07, 1.20459800e-07, 1.22557778e-07, 1.24661758e-07,\n",
       "       1.26771674e-07, 1.28887459e-07, 1.31009049e-07, 1.33136380e-07,\n",
       "       1.35269393e-07, 1.37408026e-07, 1.39552221e-07, 1.41701921e-07,\n",
       "       1.43857071e-07, 1.46017615e-07, 1.48183501e-07, 1.50354676e-07,\n",
       "       1.52531090e-07, 1.54712691e-07, 1.56899432e-07, 1.59091264e-07,\n",
       "       1.61288141e-07, 1.63490016e-07, 1.65696846e-07, 1.67908584e-07,\n",
       "       1.70125190e-07, 1.72346619e-07, 1.74572831e-07, 1.76803784e-07,\n",
       "       1.79039439e-07, 1.81279757e-07, 1.83524699e-07, 1.85774227e-07,\n",
       "       1.88028304e-07])"
      ]
     },
     "execution_count": 261,
     "metadata": {},
     "output_type": "execute_result"
    }
   ],
   "source": [
    "c4"
   ]
  },
  {
   "cell_type": "code",
   "execution_count": 262,
   "id": "8c0fa7b8",
   "metadata": {},
   "outputs": [],
   "source": [
    "soln = c1 * x**(h/2)"
   ]
  },
  {
   "cell_type": "code",
   "execution_count": 263,
   "id": "4ac8c40c",
   "metadata": {},
   "outputs": [
    {
     "data": {
      "text/plain": [
       "array([0.00000000e+00, 4.56435465e-06, 1.04861333e-05, 1.70578734e-05,\n",
       "       2.40908083e-05, 3.14878775e-05, 3.91887022e-05, 4.71516646e-05,\n",
       "       5.53461436e-05, 6.37485620e-05, 7.23401461e-05, 8.11055556e-05,\n",
       "       9.00319956e-05, 9.91086143e-05, 1.08326079e-04, 1.17676269e-04,\n",
       "       1.27152048e-04, 1.36747088e-04, 1.46455737e-04, 1.56272911e-04,\n",
       "       1.66194014e-04, 1.76214862e-04, 1.86331637e-04, 1.96540829e-04,\n",
       "       2.06839210e-04, 2.17223792e-04, 2.27691804e-04, 2.38240668e-04,\n",
       "       2.48867978e-04, 2.59571483e-04, 2.70349074e-04, 2.81198768e-04,\n",
       "       2.92118697e-04, 3.03107100e-04, 3.14162310e-04, 3.25282751e-04,\n",
       "       3.36466927e-04, 3.47713418e-04, 3.59020872e-04, 3.70388002e-04,\n",
       "       3.81813580e-04, 3.93296435e-04, 4.04835445e-04, 4.16429539e-04,\n",
       "       4.28077689e-04, 4.39778909e-04, 4.51532255e-04, 4.63336817e-04,\n",
       "       4.75191722e-04, 4.87096128e-04, 4.99049226e-04, 5.11050235e-04,\n",
       "       5.23098402e-04, 5.35193000e-04, 5.47333327e-04, 5.59518704e-04,\n",
       "       5.71748473e-04, 5.84022001e-04, 5.96338672e-04, 6.08697889e-04,\n",
       "       6.21099074e-04, 6.33541667e-04, 6.46025125e-04, 6.58548918e-04,\n",
       "       6.71112534e-04, 6.83715474e-04, 6.96357254e-04, 7.09037401e-04,\n",
       "       7.21755458e-04, 7.34510976e-04, 7.47303522e-04, 7.60132672e-04,\n",
       "       7.72998012e-04, 7.85899140e-04, 7.98835663e-04, 8.11807197e-04,\n",
       "       8.24813370e-04, 8.37853815e-04, 8.50928176e-04, 8.64036106e-04,\n",
       "       8.77177262e-04, 8.90351314e-04, 9.03557935e-04, 9.16796807e-04,\n",
       "       9.30067620e-04, 9.43370067e-04, 9.56703853e-04, 9.70068683e-04,\n",
       "       9.83464274e-04, 9.96890344e-04, 1.01034662e-03, 1.02383283e-03,\n",
       "       1.03734872e-03, 1.05089402e-03, 1.06446848e-03, 1.07807185e-03,\n",
       "       1.09170390e-03, 1.10536437e-03, 1.11905304e-03, 1.13276968e-03,\n",
       "       1.14651405e-03])"
      ]
     },
     "execution_count": 263,
     "metadata": {},
     "output_type": "execute_result"
    }
   ],
   "source": [
    "soln"
   ]
  },
  {
   "cell_type": "code",
   "execution_count": 264,
   "id": "e27f6fd0",
   "metadata": {},
   "outputs": [
    {
     "data": {
      "text/plain": [
       "[<matplotlib.lines.Line2D at 0x7faa77e8f990>]"
      ]
     },
     "execution_count": 264,
     "metadata": {},
     "output_type": "execute_result"
    },
    {
     "data": {
      "image/png": "[encoded data removed]",
      "text/plain": [
       "<Figure size 432x288 with 1 Axes>"
      ]
     },
     "metadata": {
      "needs_background": "light"
     },
     "output_type": "display_data"
    }
   ],
   "source": [
    "plt.plot(x, soln)"
   ]
  },
  {
   "cell_type": "code",
   "execution_count": 265,
   "id": "126dbad8",
   "metadata": {},
   "outputs": [],
   "source": [
    "new_c = c2 - c3"
   ]
  },
  {
   "cell_type": "code",
   "execution_count": null,
   "id": "c450ca8c",
   "metadata": {},
   "outputs": [],
   "source": []
  }
 ],
 "metadata": {
  "kernelspec": {
   "display_name": "Python 3",
   "language": "python",
   "name": "python3"
  },
  "language_info": {
   "codemirror_mode": {
    "name": "ipython",
    "version": 3
   },
   "file_extension": ".py",
   "mimetype": "text/x-python",
   "name": "python",
   "nbconvert_exporter": "python",
   "pygments_lexer": "ipython3",
   "version": "3.7.6"
  }
 },
 "nbformat": 4,
 "nbformat_minor": 5
}
