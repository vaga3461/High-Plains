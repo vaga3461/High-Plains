{
 "cells": [
  {
   "cell_type": "code",
   "execution_count": 1,
   "id": "3a562f1f",
   "metadata": {},
   "outputs": [],
   "source": [
    "# up first, make a figure for SC1 (actually, going to be 3 vertical subplots)"
   ]
  },
  {
   "cell_type": "code",
   "execution_count": 2,
   "id": "c6d2fbcf",
   "metadata": {},
   "outputs": [],
   "source": [
    "# first import libraries\n",
    "import numpy as np\n",
    "import matplotlib.pyplot as plt"
   ]
  },
  {
   "cell_type": "code",
   "execution_count": 3,
   "id": "4a4666d5",
   "metadata": {},
   "outputs": [],
   "source": [
    "# set up arrays and parameters\n",
    "\n",
    "dx = 1000 # grid spacing\n",
    "x = np.arange(0, 5000, dx) # domain length\n",
    "x_node = x + dx/2\n",
    "\n",
    "U = 0.001 # uplift rate\n",
    "phi = 0.55 # sediment porosity\n",
    "kqs = 0.041 # sediment discharge coefficient\n",
    "I = 0.01 # intermittency factor\n",
    "r = 10. # runoff rate\n",
    "kxb = 25 # valley width coeffecient (a, above)\n",
    "Pxb = (1/5) # valley width exponent\n",
    "\n",
    "B = kxb * (x_node**Pxb) # valley width   ## TWEAKED\n",
    "Q = (r * kxb * x**(6/5))/(1 + Pxb) # discharge  ## WE TWEAKED THIS"
   ]
  },
  {
   "cell_type": "markdown",
   "id": "01da565e",
   "metadata": {},
   "source": [
    "### Special Case 1: Unlimited sediment, no abrasion, dzdt = 0"
   ]
  },
  {
   "cell_type": "code",
   "execution_count": 4,
   "id": "281c936c",
   "metadata": {},
   "outputs": [],
   "source": [
    "z_sc1 = np.linspace(1, 0, len(x)) # need to start with slight bedrock slope"
   ]
  },
  {
   "cell_type": "code",
   "execution_count": 5,
   "id": "50549e70",
   "metadata": {},
   "outputs": [],
   "source": [
    "# now create a function for the case SC1 where dzdt=0\n",
    "\n",
    "def sc1(dx, x, z, U, phi, kqs, I, r, kxb, Pxb, B, Q, num_steps=6000000):\n",
    "    \n",
    "    # set timestep\n",
    "    dt = (0.5 * dx * dx / (kqs*Q[-1]))\n",
    "    \n",
    "    # create arrays\n",
    "    Qs = np.zeros(len(x))\n",
    "    E = np.zeros(len(x))\n",
    "    dzdt = np.zeros(len(x))\n",
    "    \n",
    "    # set boundary conditions\n",
    "    Qs[0] = 0\n",
    "    dzdt[-1] = 0 # dzdt at outlet = 0 for case where dzdt = 0\n",
    "    \n",
    "    for i in range(num_steps):\n",
    "        \n",
    "        # calculate slope\n",
    "        S = np.abs(np.diff(z)/dx)\n",
    "        \n",
    "        # calculate sediment transport\n",
    "        ##Qs[1:] = kqs * I * Q[1:] * S**(7./6.)\n",
    "        Qs[1:] = kqs * I * Q[1:] * S**(7./6.)\n",
    "        \n",
    "        # erosion\n",
    "        # \"old\" indexing from [:-1]\n",
    "        E[:-1] = (1/((1-phi)*B[:-1])) * ((np.diff(Qs)/dx))\n",
    "        \n",
    "        # calculate rate of elevation change\n",
    "        # \"old\" indexing of E from [:-1]\n",
    "        dzdt[:-1] = U - E[:-1]\n",
    "        \n",
    "        # update profile\n",
    "        z += dzdt * dt\n",
    "        \n",
    "    cum_time = num_steps * dt\n",
    "    # print(cum_time)\n",
    "        \n",
    "    return (S, Qs, E, dzdt, z, dt)"
   ]
  },
  {
   "cell_type": "code",
   "execution_count": 6,
   "id": "1d6e16e2",
   "metadata": {},
   "outputs": [],
   "source": [
    "# now write a test\n",
    "sc1_test = [dx, x, z_sc1, U, phi, kqs, I, r, kxb, Pxb, B, Q]\n",
    "\n",
    "# and run it\n",
    "S_sc1, Qs_sc1, E_sc1, dzdt_sc1, model_z_sc1, dt_sc1 = sc1(*sc1_test)"
   ]
  },
  {
   "cell_type": "code",
   "execution_count": 7,
   "id": "1bff4b49",
   "metadata": {},
   "outputs": [
    {
     "data": {
      "text/plain": [
       "array([0.001, 0.001, 0.001, 0.001, 0.   ])"
      ]
     },
     "execution_count": 7,
     "metadata": {},
     "output_type": "execute_result"
    }
   ],
   "source": [
    "# check to make sure we're at steady state\n",
    "E_sc1"
   ]
  },
  {
   "cell_type": "code",
   "execution_count": 8,
   "id": "cf479ec5",
   "metadata": {},
   "outputs": [],
   "source": [
    "# now do predicted slope calculation and line\n",
    "\n",
    "slope_sc1_pred = ((U * (1-phi) / (kqs * I * r))**(6./7.))\n",
    "topo_sc1_pred = (-slope_sc1_pred * x) + model_z_sc1[0]"
   ]
  },
  {
   "cell_type": "code",
   "execution_count": 9,
   "id": "6050609f",
   "metadata": {},
   "outputs": [
    {
     "name": "stdout",
     "output_type": "stream",
     "text": [
      "0.15049091316999283\n",
      "[613.40947413 462.91856096 312.42764779 161.93673462  11.44582145]\n"
     ]
    }
   ],
   "source": [
    "print(slope_sc1_pred)\n",
    "print(topo_sc1_pred)"
   ]
  },
  {
   "cell_type": "code",
   "execution_count": 10,
   "id": "fd826aa8",
   "metadata": {},
   "outputs": [
    {
     "name": "stdout",
     "output_type": "stream",
     "text": [
      "[ 500. 1500. 2500. 3500. 4500.]\n",
      "[   0 1000 2000 3000 4000]\n"
     ]
    }
   ],
   "source": [
    "print(x_node)\n",
    "print(x)"
   ]
  },
  {
   "cell_type": "code",
   "execution_count": 12,
   "id": "b4ce3a7e",
   "metadata": {},
   "outputs": [],
   "source": [
    "# make array filled with slope\n",
    "slope_array = np.zeros(len(x))"
   ]
  },
  {
   "cell_type": "code",
   "execution_count": 13,
   "id": "3c3951d0",
   "metadata": {
    "scrolled": true
   },
   "outputs": [
    {
     "data": {
      "text/plain": [
       "[<matplotlib.lines.Line2D at 0x7fee75752a90>]"
      ]
     },
     "execution_count": 13,
     "metadata": {},
     "output_type": "execute_result"
    },
    {
     "data": {
      "image/png": "[encoded data removed]",
      "text/plain": [
       "<Figure size 432x288 with 1 Axes>"
      ]
     },
     "metadata": {
      "needs_background": "light"
     },
     "output_type": "display_data"
    }
   ],
   "source": [
    "# check out what slope match looks like\n",
    "plt.plot(x[1:], S_sc1)\n",
    "plt.plot(x[1:], slope_array[1:])"
   ]
  },
  {
   "cell_type": "markdown",
   "id": "df5a2b88",
   "metadata": {},
   "source": [
    "### Special Case 2: Unlimited sediment, with abrasion, dzdt = 0"
   ]
  },
  {
   "cell_type": "code",
   "execution_count": 32,
   "id": "a8928ed6",
   "metadata": {},
   "outputs": [],
   "source": [
    "z_sc2 = np.linspace(1, 0, len(x)) # need to start with slight bedrock slope\n",
    "beta = 0.00004 # abrasion factor"
   ]
  },
  {
   "cell_type": "code",
   "execution_count": 33,
   "id": "613faeac",
   "metadata": {},
   "outputs": [],
   "source": [
    "# define a fxn for sc2, dzdt = 0\n",
    "\n",
    "def sc2(dx, x, z, U, phi, kqs, I, r, kxb, Pxb, beta, B, Q, num_steps=7000000):\n",
    "    \n",
    "    # set timestep\n",
    "    dt = (0.5 * dx * dx / (kqs*Q[-1]))\n",
    "    \n",
    "    # create arrays\n",
    "    Qs = np.zeros(len(x))\n",
    "    E = np.zeros(len(x))\n",
    "    dzdt = np.zeros(len(x))\n",
    "    \n",
    "    # set boundary conditions\n",
    "    Qs[0] = 0\n",
    "    #E[-1] = 0\n",
    "    dzdt[-1] = 0\n",
    "\n",
    "    for i in range(num_steps):\n",
    "    \n",
    "        # calculate slope\n",
    "        S = np.abs(np.diff(z)/dx)\n",
    "    \n",
    "        # calculate sediment transport\n",
    "        ##Qs[1:] = kqs * I * Q[1:] * S**(7./6.)\n",
    "        Qs[1:] = kqs * I * Q[1:] * S**(7./6.)\n",
    "    \n",
    "        # erosion\n",
    "        # \"old\" indexing from [:-1]\n",
    "        E[:-1] = (1/((1-phi)*B[:-1])) * ((np.diff(Qs)/dx) + (beta * Qs[1:]))\n",
    "    \n",
    "        # calculate rate of elevation change\n",
    "        # \"old\" indexing of E from [:-1]\n",
    "        dzdt[:-1] = U - E[:-1]\n",
    "    \n",
    "        # update profile\n",
    "        z += dzdt * dt\n",
    "    \n",
    "    return (S, Qs, E, dzdt, z, dt)"
   ]
  },
  {
   "cell_type": "code",
   "execution_count": 34,
   "id": "b4bb28cf",
   "metadata": {},
   "outputs": [],
   "source": [
    "# and design a test\n",
    "\n",
    "sc2_test = [dx, x, z_sc2, U, phi, kqs, I, r, kxb, Pxb, beta, B, Q]\n",
    "\n",
    "# and run it\n",
    "S_sc2, Qs_sc2, E_sc2, dzdt_sc2, model_z_sc2, dt_sc2 = sc2(*sc2_test)"
   ]
  },
  {
   "cell_type": "code",
   "execution_count": 35,
   "id": "347131c3",
   "metadata": {},
   "outputs": [
    {
     "data": {
      "text/plain": [
       "array([0.001, 0.001, 0.001, 0.001, 0.   ])"
      ]
     },
     "execution_count": 35,
     "metadata": {},
     "output_type": "execute_result"
    }
   ],
   "source": [
    "# check to make sure we're at steady state\n",
    "E_sc2"
   ]
  },
  {
   "cell_type": "code",
   "execution_count": 36,
   "id": "ec299193",
   "metadata": {},
   "outputs": [
    {
     "data": {
      "text/plain": [
       "array([0.1510688 , 0.14597452, 0.14288585, 0.14033563])"
      ]
     },
     "execution_count": 36,
     "metadata": {},
     "output_type": "execute_result"
    }
   ],
   "source": [
    "S_sc2"
   ]
  },
  {
   "cell_type": "code",
   "execution_count": 37,
   "id": "7ef03d1c",
   "metadata": {},
   "outputs": [],
   "source": [
    "# calc the slope with the analytical soln\n",
    "\n",
    "slope_sc2_pred = ((U * B[1:] * x[1:] * (1 - phi))/(1 + (beta * x[1:])) * 1/(kqs*I*Q[1:]))**(6/7)\n",
    "topo_sc2_pred = (-slope_sc2_pred * x[1:]) + model_z_sc2[0]"
   ]
  },
  {
   "cell_type": "markdown",
   "id": "1a649a45",
   "metadata": {},
   "source": [
    "### Special Case 3: Sediment transport, grain attrition, bedrock erosion via abrasion but no plucking, dzdt = 0"
   ]
  },
  {
   "cell_type": "code",
   "execution_count": null,
   "id": "a30a8a5c",
   "metadata": {},
   "outputs": [],
   "source": []
  },
  {
   "cell_type": "code",
   "execution_count": 42,
   "id": "5279fcaf",
   "metadata": {},
   "outputs": [
    {
     "data": {
      "text/plain": [
       "Text(0.5, 1.0, 'Special Case 1: Unlimited sediment, with attrition')"
      ]
     },
     "execution_count": 42,
     "metadata": {},
     "output_type": "execute_result"
    },
    {
     "data": {
      "image/png": "[encoded data removed]",
      "text/plain": [
       "<Figure size 576x720 with 3 Axes>"
      ]
     },
     "metadata": {
      "needs_background": "light"
     },
     "output_type": "display_data"
    }
   ],
   "source": [
    "# now set up figure to make 3 subplots\n",
    "\n",
    "fig, axs = plt.subplots(3, figsize = (8, 10))\n",
    "fig.suptitle('Analytical and Numerical Solutions to Simplified Test Cases')\n",
    "\n",
    "axs[0].plot(x, model_z_sc1)\n",
    "axs[0].plot(x, topo_sc1_pred)\n",
    "axs[0].set_title('Special Case 1: Unlimited sediment, no attrition')\n",
    "\n",
    "axs[1].plot(x[1:], model_z_sc2[1:])\n",
    "axs[1].plot(x[1:], topo_sc2_pred)\n",
    "axs[1].set_title('Special Case 1: Unlimited sediment, with attrition')"
   ]
  },
  {
   "cell_type": "code",
   "execution_count": 39,
   "id": "b6aba082",
   "metadata": {},
   "outputs": [
    {
     "data": {
      "text/plain": [
       "array([0.18237571, 0.17113708, 0.16393423, 0.15808811])"
      ]
     },
     "execution_count": 39,
     "metadata": {},
     "output_type": "execute_result"
    }
   ],
   "source": [
    "slope_sc2_pred"
   ]
  },
  {
   "cell_type": "code",
   "execution_count": 40,
   "id": "76df8f30",
   "metadata": {},
   "outputs": [
    {
     "data": {
      "text/plain": [
       "array([0.1510688 , 0.14597452, 0.14288585, 0.14033563])"
      ]
     },
     "execution_count": 40,
     "metadata": {},
     "output_type": "execute_result"
    }
   ],
   "source": [
    "S_sc2"
   ]
  },
  {
   "cell_type": "code",
   "execution_count": null,
   "id": "a3526db2",
   "metadata": {},
   "outputs": [],
   "source": []
  },
  {
   "cell_type": "code",
   "execution_count": null,
   "id": "50272846",
   "metadata": {},
   "outputs": [],
   "source": []
  },
  {
   "cell_type": "code",
   "execution_count": null,
   "id": "ef9cf3e3",
   "metadata": {},
   "outputs": [],
   "source": []
  },
  {
   "cell_type": "code",
   "execution_count": 49,
   "id": "43b96350",
   "metadata": {},
   "outputs": [],
   "source": [
    "# now test the shape of a prediction for a new special case: with plucking, but without abrasion\n",
    "\n",
    "r = 10\n",
    "a = 25\n",
    "u = 0.001\n",
    "k = 0.00001\n",
    "kqs = 0.041\n",
    "i = 0.01\n",
    "s0 = 0.15\n",
    "\n",
    "slope_test = (6/ (5 * r * a * k * x[1:]**(1./5.))) * ((u / (kqs * i * s0)) + (u / x[1:]))"
   ]
  },
  {
   "cell_type": "code",
   "execution_count": 50,
   "id": "44496a31",
   "metadata": {},
   "outputs": [
    {
     "data": {
      "text/plain": [
       "array([1960.4968476 , 1706.71158254, 1573.77223675, 1485.77870672])"
      ]
     },
     "execution_count": 50,
     "metadata": {},
     "output_type": "execute_result"
    }
   ],
   "source": [
    "slope_test"
   ]
  },
  {
   "cell_type": "code",
   "execution_count": 51,
   "id": "dc8b77f3",
   "metadata": {},
   "outputs": [
    {
     "data": {
      "text/plain": [
       "[<matplotlib.lines.Line2D at 0x7fee770cba50>]"
      ]
     },
     "execution_count": 51,
     "metadata": {},
     "output_type": "execute_result"
    },
    {
     "data": {
      "image/png": "[encoded data removed]",
      "text/plain": [
       "<Figure size 432x288 with 1 Axes>"
      ]
     },
     "metadata": {
      "needs_background": "light"
     },
     "output_type": "display_data"
    }
   ],
   "source": [
    "plt.plot(x[1:], slope_test)"
   ]
  },
  {
   "cell_type": "code",
   "execution_count": null,
   "id": "5b1647ab",
   "metadata": {},
   "outputs": [],
   "source": []
  }
 ],
 "metadata": {
  "kernelspec": {
   "display_name": "Python 3",
   "language": "python",
   "name": "python3"
  },
  "language_info": {
   "codemirror_mode": {
    "name": "ipython",
    "version": 3
   },
   "file_extension": ".py",
   "mimetype": "text/x-python",
   "name": "python",
   "nbconvert_exporter": "python",
   "pygments_lexer": "ipython3",
   "version": "3.7.6"
  }
 },
 "nbformat": 4,
 "nbformat_minor": 5
}
