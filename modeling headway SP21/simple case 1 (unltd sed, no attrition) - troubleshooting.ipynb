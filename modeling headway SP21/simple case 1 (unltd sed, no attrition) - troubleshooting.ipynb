{
 "cells": [
  {
   "cell_type": "code",
   "execution_count": 1,
   "id": "ab4130bc",
   "metadata": {},
   "outputs": [],
   "source": [
    "# the purpose of this notebook is to test an analytical solution for my model\n",
    "# for the special case where sediment supply is infinite (H >> H*)\n",
    "# and attrition does not occur (beta = 0)\n",
    "# a derivation (taken from the gravel river transporter tutorial) is below"
   ]
  },
  {
   "cell_type": "code",
   "execution_count": 2,
   "id": "4e3f45b3",
   "metadata": {},
   "outputs": [],
   "source": [
    "# start by importing libraries\n",
    "import numpy as np\n",
    "import matplotlib.pyplot as plt"
   ]
  },
  {
   "cell_type": "code",
   "execution_count": 3,
   "id": "beba7de6",
   "metadata": {},
   "outputs": [],
   "source": [
    "# now set up arrays and parameters\n",
    "dx = 1000 # grid spacing\n",
    "x = np.arange(0, 5000, dx) # domain length\n",
    "\n",
    "# H = 100 + np.zeros(len(x)) # sediment thickness\n",
    "z = np.linspace(1, 0, len(x)) # + H # need to start with slight bedrock slope\n",
    "#z = np.zeros(len(x))\n",
    "\n",
    "U = 0.001 # uplift rate\n",
    "phi = 0.55 # sediment porosity\n",
    "kqs = 0.041 # sediment discharge coefficient\n",
    "I = 0.01 # intermittency factor\n",
    "r = 10. # runoff rate\n",
    "kxb = 25 # valley width coeffecient\n",
    "Pxb = (1/5) # valley width exponent\n",
    "# Hstar = 0.1 # characteristic sediment thickness\n",
    "\n",
    "B = kxb * (x**Pxb) # valley width \n",
    "# B = 100\n",
    "# Q = B * r * x # total discharge\n",
    "Q = (r * x**(6/5))/(1 + Pxb)\n",
    "\n",
    "tau = 5\n",
    "gamma = 0.5"
   ]
  },
  {
   "cell_type": "code",
   "execution_count": 4,
   "id": "a62fac56",
   "metadata": {},
   "outputs": [],
   "source": [
    "# now create a function that attempts to capture this all as simply as possible\n",
    "# don't need bedrock slope because that's only for calculating channel width, \n",
    "# and we're not even worrying about that as a comparison metric\n",
    "\n",
    "def all_sed(dx, x, z, U, phi, kqs, I, r, kxb, Pxb, B, Q, tau, gamma, num_steps=700):\n",
    "    \n",
    "    # set timestep\n",
    "    dt = (0.5 * dx * dx / (kqs*Q[-1]))\n",
    "    \n",
    "    # create arrays\n",
    "    Qs = np.zeros(len(x))\n",
    "    E = np.zeros(len(x))\n",
    "    dzdt = np.zeros(len(x))\n",
    "    \n",
    "    # set boundary conditions\n",
    "    Qs[0] = 0\n",
    "    #E[-1] = 0\n",
    "    dzdt[-1] = U\n",
    "    \n",
    "    for i in range(num_steps):\n",
    "        \n",
    "        # calculate slope\n",
    "        S = np.abs(np.diff(z)/dx)\n",
    "        \n",
    "        # calculate sediment transport\n",
    "        Qs[1:] = kqs * I * Q[1:] * S**(7./6.)\n",
    "        \n",
    "        # erosion\n",
    "        # E[:-1] = (1/((1-phi)*B[1:])) * (np.diff(Qs)/dx) # - ql[1:])\n",
    "        E[1:] = (1/((1-phi)*B[1:])) * ((np.diff(Qs)/dx)) # - (U*gamma*B[1:]))\n",
    "        #cE[0] = E[1]\n",
    "        \n",
    "        # calculate rate of elevation change\n",
    "        # dzdt[1:] = U - E[1:]\n",
    "        dzdt[:-1] = U - E[1:]\n",
    "        # dzdt[:] = U - E[:]\n",
    "        # dzdt[-1] = dzdt[-2]\n",
    "        \n",
    "        # update profile\n",
    "        # z[:-1] += dzdt[1:] * dt\n",
    "        # z[:-1] += dzdt[:-1] * dt\n",
    "        z += dzdt * dt\n",
    "        \n",
    "#         print('starting slope for step', i, \":\", S, \"\\n\")\n",
    "#         print('final elevation for step', i, \":\", z, \"\\n\")\n",
    "        \n",
    "    cum_time = num_steps * dt\n",
    "#     print('starting slope:', S, \"\\n\")\n",
    "#     print('final elevation:', z)\n",
    "    # print(cum_time)\n",
    "        \n",
    "    return (S, Qs, E, dzdt, z, dt) #, wt, E_vals, E_avg, dt)"
   ]
  },
  {
   "cell_type": "code",
   "execution_count": 5,
   "id": "4945c896",
   "metadata": {},
   "outputs": [],
   "source": [
    "# now write a test\n",
    "test = [dx, x, z, U, phi, kqs, I, r, kxb, Pxb, B, Q, tau, gamma]\n",
    "\n",
    "# and run it\n",
    "slope, Qs, E, dzdt, model_z, dt = all_sed(*test)"
   ]
  },
  {
   "cell_type": "code",
   "execution_count": 6,
   "id": "bc3aeb34",
   "metadata": {},
   "outputs": [
    {
     "data": {
      "text/plain": [
       "array([0.00025012, 0.00025002, 0.00025   , 0.00024893])"
      ]
     },
     "execution_count": 6,
     "metadata": {},
     "output_type": "execute_result"
    }
   ],
   "source": [
    "slope"
   ]
  },
  {
   "cell_type": "code",
   "execution_count": 7,
   "id": "871afc46",
   "metadata": {},
   "outputs": [
    {
     "data": {
      "text/plain": [
       "array([49.75118375, 49.50106387, 49.25103935, 49.00103754, 48.75211306])"
      ]
     },
     "execution_count": 7,
     "metadata": {},
     "output_type": "execute_result"
    }
   ],
   "source": [
    "model_z"
   ]
  },
  {
   "cell_type": "code",
   "execution_count": 8,
   "id": "b92e9860",
   "metadata": {},
   "outputs": [
    {
     "data": {
      "text/plain": [
       "array([0.00099998, 0.00099998, 0.00099998, 0.00099998, 0.001     ])"
      ]
     },
     "execution_count": 8,
     "metadata": {},
     "output_type": "execute_result"
    }
   ],
   "source": [
    "dzdt"
   ]
  },
  {
   "cell_type": "code",
   "execution_count": 9,
   "id": "c62aab28",
   "metadata": {},
   "outputs": [
    {
     "data": {
      "text/plain": [
       "array([0.00000000e+00, 1.90673059e-08, 2.15186194e-08, 2.20218533e-08,\n",
       "       2.18708073e-08])"
      ]
     },
     "execution_count": 9,
     "metadata": {},
     "output_type": "execute_result"
    }
   ],
   "source": [
    "E"
   ]
  },
  {
   "cell_type": "code",
   "execution_count": 10,
   "id": "849de137",
   "metadata": {
    "scrolled": true
   },
   "outputs": [
    {
     "name": "stdout",
     "output_type": "stream",
     "text": [
      "[     0.          33175.59754612  76217.50865455 123983.60491032\n",
      " 175101.85362692]\n",
      "[0.         0.00085397 0.00196103 0.00318969 0.00448219]\n"
     ]
    }
   ],
   "source": [
    "print(Q)\n",
    "print(Qs)"
   ]
  },
  {
   "cell_type": "code",
   "execution_count": 11,
   "id": "bcd4068d",
   "metadata": {},
   "outputs": [
    {
     "name": "stdout",
     "output_type": "stream",
     "text": [
      "[2.57408629e-08 2.57294294e-08 2.57267076e-08 2.55975950e-08]\n"
     ]
    }
   ],
   "source": [
    "print((Qs[1:]/Q[1:]))"
   ]
  },
  {
   "cell_type": "code",
   "execution_count": 12,
   "id": "ce88de19",
   "metadata": {},
   "outputs": [
    {
     "data": {
      "text/plain": [
       "array([0.00000000e+00, 1.90673059e-08, 2.15186194e-08, 2.20218533e-08,\n",
       "       2.18708073e-08])"
      ]
     },
     "execution_count": 12,
     "metadata": {},
     "output_type": "execute_result"
    }
   ],
   "source": [
    "E"
   ]
  },
  {
   "cell_type": "code",
   "execution_count": 13,
   "id": "b735397e",
   "metadata": {},
   "outputs": [
    {
     "data": {
      "text/plain": [
       "[<matplotlib.lines.Line2D at 0x7f95bb39e350>]"
      ]
     },
     "execution_count": 13,
     "metadata": {},
     "output_type": "execute_result"
    },
    {
     "data": {
      "image/png": "[encoded data removed]",
      "text/plain": [
       "<Figure size 432x288 with 1 Axes>"
      ]
     },
     "metadata": {
      "needs_background": "light"
     },
     "output_type": "display_data"
    }
   ],
   "source": [
    "plt.plot(x[1:], slope)"
   ]
  },
  {
   "cell_type": "code",
   "execution_count": 14,
   "id": "075e56ad",
   "metadata": {},
   "outputs": [
    {
     "data": {
      "text/plain": [
       "<matplotlib.legend.Legend at 0x7f95bb17e310>"
      ]
     },
     "execution_count": 14,
     "metadata": {},
     "output_type": "execute_result"
    },
    {
     "data": {
      "image/png": "[encoded data removed]",
      "text/plain": [
       "<Figure size 432x288 with 1 Axes>"
      ]
     },
     "metadata": {
      "needs_background": "light"
     },
     "output_type": "display_data"
    }
   ],
   "source": [
    "plt.plot(x[1:], model_z[1:], label = 'model')\n",
    "plt.legend()"
   ]
  },
  {
   "cell_type": "code",
   "execution_count": 15,
   "id": "7ccef1a8",
   "metadata": {},
   "outputs": [],
   "source": [
    "slope_pred = ((U*phi)/(kqs * I * r))**(6./7)\n",
    "y = (-slope_pred * x) + model_z[0]"
   ]
  },
  {
   "cell_type": "code",
   "execution_count": 16,
   "id": "d477c3af",
   "metadata": {},
   "outputs": [
    {
     "data": {
      "text/plain": [
       "<matplotlib.legend.Legend at 0x7f95bb57d610>"
      ]
     },
     "execution_count": 16,
     "metadata": {},
     "output_type": "execute_result"
    },
    {
     "data": {
      "image/png": "[encoded data removed]",
      "text/plain": [
       "<Figure size 432x288 with 1 Axes>"
      ]
     },
     "metadata": {
      "needs_background": "light"
     },
     "output_type": "display_data"
    }
   ],
   "source": [
    "plt.plot(x[1:], y[1:], label = 'prediction')\n",
    "plt.plot(x[1:], slope, label = 'model')\n",
    "plt.legend()"
   ]
  },
  {
   "cell_type": "code",
   "execution_count": 17,
   "id": "8381697b",
   "metadata": {},
   "outputs": [
    {
     "data": {
      "text/plain": [
       "0.17873533888944737"
      ]
     },
     "execution_count": 17,
     "metadata": {},
     "output_type": "execute_result"
    }
   ],
   "source": [
    "slope_pred"
   ]
  },
  {
   "cell_type": "code",
   "execution_count": 18,
   "id": "9f64eae9",
   "metadata": {},
   "outputs": [
    {
     "data": {
      "text/plain": [
       "array([0.00025012, 0.00025002, 0.00025   , 0.00024893])"
      ]
     },
     "execution_count": 18,
     "metadata": {},
     "output_type": "execute_result"
    }
   ],
   "source": [
    "slope"
   ]
  },
  {
   "cell_type": "code",
   "execution_count": null,
   "id": "1582ce2e",
   "metadata": {},
   "outputs": [],
   "source": []
  }
 ],
 "metadata": {
  "kernelspec": {
   "display_name": "Python 3",
   "language": "python",
   "name": "python3"
  },
  "language_info": {
   "codemirror_mode": {
    "name": "ipython",
    "version": 3
   },
   "file_extension": ".py",
   "mimetype": "text/x-python",
   "name": "python",
   "nbconvert_exporter": "python",
   "pygments_lexer": "ipython3",
   "version": "3.7.6"
  }
 },
 "nbformat": 4,
 "nbformat_minor": 5
}
