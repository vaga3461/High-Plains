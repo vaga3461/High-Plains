{
 "cells": [
  {
   "cell_type": "code",
   "execution_count": 1,
   "metadata": {},
   "outputs": [],
   "source": [
    "# create a 1D model for predicting lithologic makeup of a mixed sed sample after abrading downstream"
   ]
  },
  {
   "cell_type": "code",
   "execution_count": 25,
   "metadata": {},
   "outputs": [],
   "source": [
    "import numpy as np\n",
    "import matplotlib.pyplot as plt"
   ]
  },
  {
   "cell_type": "code",
   "execution_count": 26,
   "metadata": {},
   "outputs": [],
   "source": [
    "# for starters, just lose some mass to abrasion at each time step. Don't worry about actual stream mechanics.\n",
    "# think of this as how rocks of different lithologies would evolve if just sitting stationary in a stream"
   ]
  },
  {
   "cell_type": "code",
   "execution_count": 47,
   "metadata": {},
   "outputs": [],
   "source": [
    "# initial masses of different lithologies\n",
    "\n",
    "igneous = 100\n",
    "metamorphic = 100\n",
    "sedimentary = 100\n",
    "\n",
    "# abrasion coefficients of different\n",
    "\n",
    "beta_ig = 0.001\n",
    "beta_mtm = 0.01\n",
    "beta_sed = 0.05"
   ]
  },
  {
   "cell_type": "code",
   "execution_count": 48,
   "metadata": {},
   "outputs": [],
   "source": [
    "for i in range(100):\n",
    "    ig_amt_abraded = igneous * beta_ig\n",
    "    igneous -= ig_amt_abraded\n",
    "    \n",
    "    mtm_amt_abraded = metamorphic * beta_mtm\n",
    "    metamorphic -= mtm_amt_abraded\n",
    "    \n",
    "    sed_amt_abraded = sedimentary * beta_sed\n",
    "    sedimentary -= sed_amt_abraded\n",
    "    \n",
    "    total_mass = igneous + metamorphic + sedimentary\n",
    "    frac_ig = (igneous/total_mass) * 100\n",
    "    frac_mtm = (metamorphic/total_mass) * 100\n",
    "    frac_sed = (sedimentary/total_mass) * 100"
   ]
  },
  {
   "cell_type": "code",
   "execution_count": 49,
   "metadata": {},
   "outputs": [
    {
     "data": {
      "text/plain": [
       "70.8670983349021"
      ]
     },
     "execution_count": 49,
     "metadata": {},
     "output_type": "execute_result"
    }
   ],
   "source": [
    "frac_ig"
   ]
  },
  {
   "cell_type": "code",
   "execution_count": 50,
   "metadata": {},
   "outputs": [
    {
     "data": {
      "text/plain": [
       "28.66918109923037"
      ]
     },
     "execution_count": 50,
     "metadata": {},
     "output_type": "execute_result"
    }
   ],
   "source": [
    "frac_mtm"
   ]
  },
  {
   "cell_type": "code",
   "execution_count": 51,
   "metadata": {},
   "outputs": [
    {
     "data": {
      "text/plain": [
       "0.4637205658675365"
      ]
     },
     "execution_count": 51,
     "metadata": {},
     "output_type": "execute_result"
    }
   ],
   "source": [
    "frac_sed"
   ]
  },
  {
   "cell_type": "code",
   "execution_count": 52,
   "metadata": {},
   "outputs": [],
   "source": [
    "# okay, that was quicker/easier than expected\n",
    "# now think about what happens as these clasts move downstream (still don't worry about picking up new clasts)\n",
    "\n",
    "# step after that will be to think about picking up new clasts if bed is always exposed\n",
    "# then final step is to think about picking up new clasts if bed is partially covered"
   ]
  },
  {
   "cell_type": "code",
   "execution_count": 53,
   "metadata": {},
   "outputs": [],
   "source": [
    "# when clasts move downstream, they interact with the bed\n",
    "# so there are two sources of abrasion: interaction with bed + interaction with other clasts"
   ]
  },
  {
   "cell_type": "code",
   "execution_count": 68,
   "metadata": {},
   "outputs": [],
   "source": [
    "# grid setup and elevation stuff\n",
    "dx = 1\n",
    "x = np.arange(0, 100 + dx, dx)\n",
    "elev = np.zeros(len(x))\n",
    "uplift_rate = 0.001\n",
    "\n",
    "# initial lithology distribution\n",
    "igneous = np.ones(len(x))\n",
    "metamorphic = np.ones(len(x))\n",
    "sedimentary = np.ones(len(x))\n",
    "\n",
    "# sed flux\n",
    "qs_ig = np.zeros(len(x))\n",
    "qs_mtm = np.zeros(len(x))\n",
    "qs_sed = np.zeros(len(x))\n",
    "# qs_ig[0] = igneous\n",
    "# qs_mtm[0] = metamorphic\n",
    "# qs_sed[0] = sedimentary\n",
    "\n",
    "# discharge\n",
    "q = x\n",
    "\n",
    "# c is fxn of grainsize, among other stuff. Lower for igneous rocks because they comprise the gravel fraction?\n",
    "# or should c be the same for all?\n",
    "c_ig = 0.001\n",
    "c_mtm = 0.01\n",
    "c_sed = 0.05\n",
    "\n",
    "# timestep stuff\n",
    "num_steps = 10000\n",
    "dt = 0.2 * dx * dx / c_mtm  # time-step size"
   ]
  },
  {
   "cell_type": "code",
   "execution_count": 70,
   "metadata": {},
   "outputs": [
    {
     "ename": "ValueError",
     "evalue": "operands could not be broadcast together with shapes (101,) (100,) ",
     "output_type": "error",
     "traceback": [
      "\u001b[0;31m---------------------------------------------------------------------------\u001b[0m",
      "\u001b[0;31mValueError\u001b[0m                                Traceback (most recent call last)",
      "\u001b[0;32m<ipython-input-70-af6db42cf4aa>\u001b[0m in \u001b[0;36m<module>\u001b[0;34m\u001b[0m\n\u001b[1;32m      6\u001b[0m     \u001b[0;31m# calc sed flux\u001b[0m\u001b[0;34m\u001b[0m\u001b[0;34m\u001b[0m\u001b[0;34m\u001b[0m\u001b[0m\n\u001b[1;32m      7\u001b[0m     \u001b[0mig_attrition\u001b[0m \u001b[0;34m=\u001b[0m \u001b[0migneous\u001b[0m \u001b[0;34m*\u001b[0m \u001b[0mbeta_ig\u001b[0m\u001b[0;34m\u001b[0m\u001b[0;34m\u001b[0m\u001b[0m\n\u001b[0;32m----> 8\u001b[0;31m     \u001b[0mqs_ig\u001b[0m \u001b[0;34m=\u001b[0m \u001b[0;34m(\u001b[0m\u001b[0mq\u001b[0m \u001b[0;34m*\u001b[0m \u001b[0mS\u001b[0m \u001b[0;34m*\u001b[0m \u001b[0mc_ig\u001b[0m\u001b[0;34m)\u001b[0m \u001b[0;34m-\u001b[0m \u001b[0mig_attrition\u001b[0m\u001b[0;34m\u001b[0m\u001b[0;34m\u001b[0m\u001b[0m\n\u001b[0m\u001b[1;32m      9\u001b[0m     \u001b[0migneous\u001b[0m \u001b[0;34m+=\u001b[0m \u001b[0mqs_ig\u001b[0m\u001b[0;34m\u001b[0m\u001b[0;34m\u001b[0m\u001b[0m\n\u001b[1;32m     10\u001b[0m \u001b[0;34m\u001b[0m\u001b[0m\n",
      "\u001b[0;31mValueError\u001b[0m: operands could not be broadcast together with shapes (101,) (100,) "
     ]
    }
   ],
   "source": [
    "for i in range(num_steps):\n",
    "    # adjust elevations and calc slope\n",
    "    elev[:] += uplift_rate * dt\n",
    "    S = -np.diff(elev) / dx\n",
    "    \n",
    "    # calc sed flux\n",
    "    ig_attrition = igneous * beta_ig\n",
    "    qs_ig = (q * S * c_ig) - ig_attrition\n",
    "    igneous += qs_ig\n",
    "    \n",
    "    mtm_attrition = metamorphic * beta_mtm\n",
    "    qs_mtm[1:] = (q * S * c_mtm) - mtm_attrition\n",
    "    metamorphic += qs_mtm\n",
    "    \n",
    "    sed_attrition = sedimentary * beta_sed\n",
    "    qs_sed[1:] = (q * S * c_sed) - sed_attrition\n",
    "    sedimentary += qs_sed"
   ]
  },
  {
   "cell_type": "code",
   "execution_count": 66,
   "metadata": {},
   "outputs": [
    {
     "data": {
      "text/plain": [
       "[<matplotlib.lines.Line2D at 0x7ff21a209910>]"
      ]
     },
     "execution_count": 66,
     "metadata": {},
     "output_type": "execute_result"
    },
    {
     "data": {
      "image/png": "[encoded data removed]",
      "text/plain": [
       "<Figure size 432x288 with 1 Axes>"
      ]
     },
     "metadata": {
      "needs_background": "light"
     },
     "output_type": "display_data"
    }
   ],
   "source": [
    "plt.plot(x[1:], qs_sed[1:])"
   ]
  },
  {
   "cell_type": "code",
   "execution_count": null,
   "metadata": {},
   "outputs": [],
   "source": []
  }
 ],
 "metadata": {
  "kernelspec": {
   "display_name": "Python 3",
   "language": "python",
   "name": "python3"
  },
  "language_info": {
   "codemirror_mode": {
    "name": "ipython",
    "version": 3
   },
   "file_extension": ".py",
   "mimetype": "text/x-python",
   "name": "python",
   "nbconvert_exporter": "python",
   "pygments_lexer": "ipython3",
   "version": "3.7.6"
  }
 },
 "nbformat": 4,
 "nbformat_minor": 4
}
