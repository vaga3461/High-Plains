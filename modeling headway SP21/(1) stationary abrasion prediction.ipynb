{
 "cells": [
  {
   "cell_type": "code",
   "execution_count": 31,
   "metadata": {},
   "outputs": [],
   "source": [
    "# create a 1D model for predicting lithologic makeup of a mixed sed sample after abrading downstream"
   ]
  },
  {
   "cell_type": "code",
   "execution_count": 32,
   "metadata": {},
   "outputs": [],
   "source": [
    "import numpy as np\n",
    "import matplotlib.pyplot as plt"
   ]
  },
  {
   "cell_type": "code",
   "execution_count": 33,
   "metadata": {},
   "outputs": [],
   "source": [
    "# for starters, just lose some mass to abrasion at each time step. Don't worry about actual stream mechanics.\n",
    "# think of this as how rocks of different lithologies would evolve if just sitting stationary in a stream"
   ]
  },
  {
   "cell_type": "code",
   "execution_count": 34,
   "metadata": {},
   "outputs": [],
   "source": [
    "# initial masses of different lithologies\n",
    "\n",
    "igneous = 100\n",
    "metamorphic = 100\n",
    "sedimentary = 100\n",
    "\n",
    "# abrasion coefficients of different lithologies\n",
    "\n",
    "beta_ig = 0.001\n",
    "beta_mtm = 0.01\n",
    "beta_sed = 0.05"
   ]
  },
  {
   "cell_type": "code",
   "execution_count": 35,
   "metadata": {},
   "outputs": [],
   "source": [
    "for i in range(100):\n",
    "    ig_amt_abraded = igneous * beta_ig\n",
    "    igneous -= ig_amt_abraded\n",
    "    \n",
    "    mtm_amt_abraded = metamorphic * beta_mtm\n",
    "    metamorphic -= mtm_amt_abraded\n",
    "    \n",
    "    sed_amt_abraded = sedimentary * beta_sed\n",
    "    sedimentary -= sed_amt_abraded\n",
    "    \n",
    "    total_mass = igneous + metamorphic + sedimentary\n",
    "    frac_ig = (igneous/total_mass) * 100\n",
    "    frac_mtm = (metamorphic/total_mass) * 100\n",
    "    frac_sed = (sedimentary/total_mass) * 100"
   ]
  },
  {
   "cell_type": "code",
   "execution_count": 36,
   "metadata": {},
   "outputs": [
    {
     "data": {
      "text/plain": [
       "70.8670983349021"
      ]
     },
     "execution_count": 36,
     "metadata": {},
     "output_type": "execute_result"
    }
   ],
   "source": [
    "frac_ig"
   ]
  },
  {
   "cell_type": "code",
   "execution_count": 37,
   "metadata": {},
   "outputs": [
    {
     "data": {
      "text/plain": [
       "28.66918109923037"
      ]
     },
     "execution_count": 37,
     "metadata": {},
     "output_type": "execute_result"
    }
   ],
   "source": [
    "frac_mtm"
   ]
  },
  {
   "cell_type": "code",
   "execution_count": 38,
   "metadata": {},
   "outputs": [
    {
     "data": {
      "text/plain": [
       "0.4637205658675365"
      ]
     },
     "execution_count": 38,
     "metadata": {},
     "output_type": "execute_result"
    }
   ],
   "source": [
    "frac_sed"
   ]
  },
  {
   "cell_type": "code",
   "execution_count": 9,
   "metadata": {},
   "outputs": [],
   "source": [
    "# okay, that was quicker/easier than expected\n",
    "# now think about what happens as these clasts move downstream (still don't worry about picking up new clasts)\n",
    "\n",
    "# step after that will be to think about picking up new clasts if bed is always exposed\n",
    "# then final step is to think about picking up new clasts if bed is partially covered"
   ]
  },
  {
   "cell_type": "code",
   "execution_count": 30,
   "metadata": {},
   "outputs": [],
   "source": [
    "# when clasts move downstream, they interact with the bed\n",
    "# so there are two sources of abrasion: interaction with bed + interaction with other clasts"
   ]
  },
  {
   "cell_type": "code",
   "execution_count": null,
   "metadata": {},
   "outputs": [],
   "source": [
    "# see next notebook in this series: downstream abrasion prediction"
   ]
  }
 ],
 "metadata": {
  "kernelspec": {
   "display_name": "Python 3",
   "language": "python",
   "name": "python3"
  },
  "language_info": {
   "codemirror_mode": {
    "name": "ipython",
    "version": 3
   },
   "file_extension": ".py",
   "mimetype": "text/x-python",
   "name": "python",
   "nbconvert_exporter": "python",
   "pygments_lexer": "ipython3",
   "version": "3.7.6"
  }
 },
 "nbformat": 4,
 "nbformat_minor": 4
}
