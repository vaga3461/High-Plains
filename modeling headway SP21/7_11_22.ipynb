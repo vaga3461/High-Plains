{
 "cells": [
  {
   "cell_type": "code",
   "execution_count": 1,
   "id": "2d82abdf",
   "metadata": {},
   "outputs": [],
   "source": [
    "# the purpose of this notebook is to run a DTL and TPL endmember of the model to ss\n",
    "# this can be accomplished via attrtion\n",
    "# high rate of attrition = DTL\n",
    "# low rate of attrition = TPL"
   ]
  },
  {
   "cell_type": "code",
   "execution_count": 2,
   "id": "c9e3cb17",
   "metadata": {},
   "outputs": [],
   "source": [
    "# start by importing libraries\n",
    "import numpy as np\n",
    "import matplotlib.pyplot as plt"
   ]
  },
  {
   "cell_type": "code",
   "execution_count": 3,
   "id": "2fe111fd",
   "metadata": {},
   "outputs": [],
   "source": [
    "# now see if I can get a copied and pasted version of the two lithology model working\n",
    "# and then tweak things, OAT, to see what the issue is with loooooong runtimes on this single lith model\n",
    "\n",
    "# SET UP GRID ARRAYS\n",
    "dx = 1000\n",
    "x = np.arange(0, 100000, dx)\n",
    "\n",
    "# set up runoff rate\n",
    "r = np.zeros(len(x))\n",
    "r[:] = 0.3\n",
    "\n",
    "# set up references to topography\n",
    "Hstar = 0.1\n",
    "H = Hstar + np.zeros(len(x))\n",
    "etab = -H\n",
    "eta = etab + H\n",
    "\n",
    "# abrasion coefficients from Attal and Lave 2006 in % per km\n",
    "beta_ig = np.zeros(len(x))\n",
    "beta_ig[:25] = 0.00004\n",
    "beta_sed = np.zeros(len(x))\n",
    "beta_sed[25:] = 0.00014\n",
    "atr_factor = 0.00004\n",
    "\n",
    "# erodibility values\n",
    "k_ig = np.zeros(len(x))\n",
    "k_ig[:25] = 0.0001\n",
    "k_sed = np.zeros(len(x))\n",
    "k_sed[25:] = 0.001"
   ]
  },
  {
   "cell_type": "code",
   "execution_count": 4,
   "id": "dc5f5af3",
   "metadata": {},
   "outputs": [],
   "source": [
    "# write a function that has two bedrock lithologies in the domain, but only one contributing sediment to bedload\n",
    "def two_lith_one_sed(x,\n",
    "                     dx,\n",
    "                     Hstar,\n",
    "                     H,\n",
    "                     etab,\n",
    "                     eta,\n",
    "                     beta_ig,\n",
    "                     beta_sed,\n",
    "                     atr_factor,\n",
    "                     k_ig,\n",
    "                     k_sed,\n",
    "                     r,\n",
    "                     c = 1,\n",
    "                     baselevel_rate = 0.001,\n",
    "                     num_steps = 3000000, \n",
    "                     porosity = 0.55):\n",
    "    \n",
    "    H[-1] = 0.0\n",
    "    bedrock_ero = np.zeros(len(x))  # bedrock erosion rate\n",
    "    sedimentation_rate = np.zeros(len(x))\n",
    "    total_ero = np.zeros(len(x))\n",
    "    total_ero[-1] = baselevel_rate\n",
    "    q = r * x  # discharge = distance downstream (first node is left edge of 0th cell)\n",
    "    qs = np.zeros(len(x))  # first node is left edge of 0th cell\n",
    "    dt_global = 0.05 * 0.2 * dx * dx / (c*q[-1])  # \"global\" time-step size\n",
    "    run_duration = dt_global * num_steps  # <== here's how long we want to run\n",
    "    cum_time = 0.0  # <== keep track of elapsed time\n",
    "\n",
    "    #for i in range(num_steps):\n",
    "    while cum_time < run_duration:  # <== use a while loop because dt varies by iteration\n",
    "        \n",
    "\n",
    "        # first calculate rates\n",
    "        \n",
    "        #  calc slope\n",
    "        S = -np.diff(eta)/dx\n",
    "        \n",
    "        #  calculate e factor\n",
    "        efac = np.exp(- H / Hstar)\n",
    "        \n",
    "        #  calculate total bedload sed flux and set boundary condition\n",
    "        qs[1:] = c * q[1:] * S * (1.0 - efac[:-1])\n",
    "        qs[0] = 0\n",
    "        \n",
    "        #  calc bedrock erosion from stream power (plucking)\n",
    "        ero_plucking_ig = efac[:-1] * (k_ig[1:] * q[1:] * S)\n",
    "        ero_plucking_sed = efac[:-1] * (k_sed[1:] * q[1:] * S)\n",
    "        \n",
    "        #  calc bedrock erosion from abrasion\n",
    "        ero_ab_ig = efac[:-1] * (beta_ig[:-1] * qs[1:])   # <== change indexing: qs[1] represents node 0\n",
    "        ero_ab_sed = efac[:-1] * (beta_sed[:-1] * qs[1:])\n",
    "        \n",
    "        #  calc bedrock erosion rate from stream power and abrasion\n",
    "        bedrock_ero[:-1] = ero_plucking_ig + ero_plucking_sed + ero_ab_ig + ero_ab_sed\n",
    "        \n",
    "        #  calc grain attrition rate\n",
    "        atr = atr_factor * qs[1:]\n",
    "        \n",
    "        #  calc rate of change in alluvial thickness\n",
    "        sedimentation_rate[:-1] = -((1 / porosity) * ((np.diff(qs)/dx) + atr - ero_plucking_ig))\n",
    "        \n",
    "        \n",
    "        # Calculate maximum allowable time-step size\n",
    "        \n",
    "        #  track total erosion rate\n",
    "        total_ero[:-1] = bedrock_ero[:-1] - sedimentation_rate[:-1]  # <== erosion is MINUS sed rate\n",
    "        \n",
    "        #  set adaptive timestep\n",
    "        #  first check time to flat surface\n",
    "        elev_diff = np.diff(eta)/dx\n",
    "        ero_diff = np.diff(total_ero)/dx\n",
    "        #valid_places = np.where(ero_diff < 0)\n",
    "        valid_places = np.where(ero_diff < 0)[0]  # <== we just want the array, not the full tuple from where()\n",
    "        if len(valid_places) > 0:  # <== in case there ARE no locations...\n",
    "            times_to_flat = np.abs(elev_diff[valid_places]/ero_diff[valid_places])\n",
    "        else:\n",
    "            times_to_flat = np.array([dt_global])  # <== ...we just revert to the global dt\n",
    "        min_time_to_flat = np.amin(times_to_flat)\n",
    "\n",
    "        #  then check time to deplete all sediment\n",
    "        #sed_depletion_locations = np.where(sedimentation_rate < 0)\n",
    "        sed_depletion_locations = np.where(sedimentation_rate < 0)[0]  # <== we just want the array, not the full tuple from where()\n",
    "        if len(sed_depletion_locations) > 0:  # <== in case there ARE no locations...\n",
    "            times_to_no_sed = np.abs(H[sed_depletion_locations]/sedimentation_rate[sed_depletion_locations])\n",
    "        else:\n",
    "            times_to_no_sed = np.array([dt_global])  # <== ...we just revert to the global dt\n",
    "        min_time_to_no_sed = np.amin(times_to_no_sed)\n",
    "\n",
    "        #  check for smaller condition\n",
    "        dt = min(min_time_to_flat, min_time_to_no_sed)\n",
    "\n",
    "        #  if larger than global step size, limit to global\n",
    "        dt = min(dt, dt_global)\n",
    "        \n",
    "        \n",
    "        # Update quantities\n",
    "        \n",
    "        #  lower baselevel\n",
    "        eta[-1] -= baselevel_rate * dt \n",
    "        \n",
    "        #  set boundary conditions\n",
    "        etab[-1] = eta[-1]\n",
    "        \n",
    "        #  calc change in bedrock elev\n",
    "        etab[:-1] -= bedrock_ero[:-1] * dt\n",
    "        \n",
    "        #  update sediment thickness\n",
    "        H[:-1] += sedimentation_rate[:-1] * dt\n",
    "        H[H < 0] = 0\n",
    "\n",
    "        #  update elev\n",
    "        eta[:-1] = etab[:-1] + H[:-1]\n",
    "        \n",
    "        # Advance time\n",
    "        cum_time += dt\n",
    "        \n",
    "        if any(total_ero[:] != baselevel_rate):\n",
    "            continue\n",
    "        else:\n",
    "            break\n",
    "            \n",
    "    print(cum_time)\n",
    "        \n",
    "    return (S, qs, efac, eta, etab, ero_plucking_ig, ero_plucking_sed, ero_ab_ig, ero_ab_sed, bedrock_ero, atr, \n",
    "            sedimentation_rate, H, total_ero, cum_time)"
   ]
  },
  {
   "cell_type": "code",
   "execution_count": 5,
   "id": "87aa121e",
   "metadata": {},
   "outputs": [
    {
     "name": "stdout",
     "output_type": "stream",
     "text": [
      "1010101.3467490787\n"
     ]
    }
   ],
   "source": [
    "# create the input experiment\n",
    "TL_ss = [x, dx, Hstar, H, etab, eta, beta_ig, beta_sed, atr_factor, k_ig, k_sed, r]\n",
    "\n",
    "# and run away with it!\n",
    "(slope_TL,\n",
    " sed_flux_TL,\n",
    " e_factor_TL,\n",
    " topography_TL,\n",
    " bedrock_elevation_TL,\n",
    " igneous_plucking_rate_TL,\n",
    " sedimentary_plucking_rate_TL,\n",
    " igneous_abrasion_rate_TL,\n",
    " sedimentary_abrasion_rate_TL,\n",
    " bedrock_erosion_rate_TL,\n",
    " attrition_rate_TL,\n",
    " sedimentation_rate_TL,\n",
    " sediment_thickness_TL,\n",
    " total_erosion_rate_TL,\n",
    " cum_time_TL) = two_lith_one_sed(*TL_ss)"
   ]
  },
  {
   "cell_type": "code",
   "execution_count": 6,
   "id": "60228260",
   "metadata": {},
   "outputs": [
    {
     "name": "stdout",
     "output_type": "stream",
     "text": [
      "[0.00099998 0.00099999 0.00099999 0.00099999 0.00099999 0.00099999\n",
      " 0.00099999 0.001      0.001      0.001      0.001      0.001\n",
      " 0.001      0.001      0.001      0.001      0.001      0.001\n",
      " 0.001      0.001      0.001      0.001      0.001      0.001\n",
      " 0.001      0.001      0.001      0.001      0.001      0.001\n",
      " 0.001      0.001      0.001      0.001      0.001      0.001\n",
      " 0.001      0.001      0.001      0.001      0.001      0.001\n",
      " 0.001      0.001      0.001      0.001      0.001      0.001\n",
      " 0.001      0.001      0.001      0.001      0.001      0.001\n",
      " 0.001      0.001      0.001      0.001      0.001      0.001\n",
      " 0.001      0.001      0.001      0.001      0.001      0.001\n",
      " 0.001      0.001      0.001      0.001      0.001      0.001\n",
      " 0.001      0.001      0.001      0.001      0.001      0.001\n",
      " 0.001      0.001      0.001      0.001      0.001      0.001\n",
      " 0.001      0.001      0.001      0.001      0.001      0.001\n",
      " 0.001      0.001      0.001      0.001      0.001      0.001\n",
      " 0.001      0.001      0.001      0.        ]\n"
     ]
    }
   ],
   "source": [
    "# okay, that worked!\n",
    "# check to see if we're at steady state\n",
    "print(bedrock_erosion_rate_TL)"
   ]
  },
  {
   "cell_type": "code",
   "execution_count": 7,
   "id": "a614dd25",
   "metadata": {},
   "outputs": [
    {
     "data": {
      "text/plain": [
       "[<matplotlib.lines.Line2D at 0x7fc64b49af90>]"
      ]
     },
     "execution_count": 7,
     "metadata": {},
     "output_type": "execute_result"
    },
    {
     "data": {
      "image/png": "[encoded data removed]",
      "text/plain": [
       "<Figure size 432x288 with 1 Axes>"
      ]
     },
     "metadata": {
      "needs_background": "light"
     },
     "output_type": "display_data"
    }
   ],
   "source": [
    "# check if we're close to TPL\n",
    "plt.plot(x, sed_flux_TL)"
   ]
  },
  {
   "cell_type": "code",
   "execution_count": 8,
   "id": "86510e72",
   "metadata": {},
   "outputs": [],
   "source": [
    "atr_TPL = 0.0000004\n",
    "atr_DTL = 0.01"
   ]
  },
  {
   "cell_type": "code",
   "execution_count": 9,
   "id": "b9ff5642",
   "metadata": {},
   "outputs": [],
   "source": [
    "# SET UP GRID ARRAYS\n",
    "dx_2 = 1000\n",
    "x_2 = np.arange(0, 100000, dx_2)\n",
    "\n",
    "# set up runoff rate\n",
    "r_2 = np.zeros(len(x_2))\n",
    "r_2[:] = 0.3\n",
    "\n",
    "# set up references to topography\n",
    "Hstar_2 = 0.1\n",
    "H_2 = Hstar_2 + np.zeros(len(x_2))\n",
    "etab_2 = -H_2\n",
    "eta_2 = etab_2 + H_2\n",
    "\n",
    "# abrasion coefficients from Attal and Lave 2006 in % per km\n",
    "beta_ig_2 = np.zeros(len(x_2))\n",
    "beta_ig_2[:25] = 0.00004\n",
    "beta_sed_2 = np.zeros(len(x_2))\n",
    "beta_sed_2[25:] = 0.00014\n",
    "# atr_factor\n",
    "\n",
    "# erodibility values\n",
    "k_ig_2 = np.zeros(len(x_2))\n",
    "k_ig_2[:25] = 0.0001\n",
    "k_sed_2 = np.zeros(len(x_2))\n",
    "k_sed_2[25:] = 0.001"
   ]
  },
  {
   "cell_type": "code",
   "execution_count": 10,
   "id": "a3cf628f",
   "metadata": {},
   "outputs": [
    {
     "name": "stdout",
     "output_type": "stream",
     "text": [
      "1010101.3467490787\n"
     ]
    }
   ],
   "source": [
    "# create the input experiment\n",
    "TPL = [x_2, dx_2, Hstar_2, H_2, etab_2, eta_2, beta_ig_2, beta_sed_2, atr_TPL, k_ig_2, k_sed_2, r_2]\n",
    "\n",
    "# and run away with it!\n",
    "(slope_TPL,\n",
    " sed_flux_TPL,\n",
    " e_factor_TPL,\n",
    " topography_TPL,\n",
    " bedrock_elevation_TPL,\n",
    " igneous_plucking_rate_TPL,\n",
    " sedimentary_plucking_rate_TPL,\n",
    " igneous_abrasion_rate_TPL,\n",
    " sedimentary_abrasion_rate_TPL,\n",
    " bedrock_erosion_rate_TPL,\n",
    " attrition_rate_TPL,\n",
    " sedimentation_rate_TPL,\n",
    " sediment_thickness_TPL,\n",
    " total_erosion_rate_TPL,\n",
    " cum_time_TPL) = two_lith_one_sed(*TPL)"
   ]
  },
  {
   "cell_type": "code",
   "execution_count": 11,
   "id": "5d2c9bf1",
   "metadata": {},
   "outputs": [
    {
     "name": "stdout",
     "output_type": "stream",
     "text": [
      "[0.00099582 0.00099673 0.00099712 0.00099736 0.00099754 0.00099769\n",
      " 0.00099781 0.00099791 0.00099801 0.00099809 0.00099817 0.00099824\n",
      " 0.00099831 0.00099837 0.00099843 0.00099849 0.00099854 0.0009986\n",
      " 0.00099864 0.00099869 0.00099874 0.00099878 0.00099882 0.00099886\n",
      " 0.0009989  0.00099894 0.00099897 0.000999   0.00099903 0.00099905\n",
      " 0.00099908 0.00099911 0.00099913 0.00099915 0.00099918 0.0009992\n",
      " 0.00099922 0.00099924 0.00099926 0.00099928 0.0009993  0.00099932\n",
      " 0.00099934 0.00099936 0.00099938 0.0009994  0.00099941 0.00099943\n",
      " 0.00099945 0.00099946 0.00099948 0.00099949 0.00099951 0.00099952\n",
      " 0.00099954 0.00099955 0.00099957 0.00099958 0.00099959 0.00099961\n",
      " 0.00099962 0.00099963 0.00099964 0.00099966 0.00099967 0.00099968\n",
      " 0.00099969 0.0009997  0.00099972 0.00099973 0.00099974 0.00099975\n",
      " 0.00099976 0.00099977 0.00099978 0.00099979 0.0009998  0.00099981\n",
      " 0.00099982 0.00099983 0.00099984 0.00099985 0.00099986 0.00099987\n",
      " 0.00099988 0.00099989 0.00099989 0.0009999  0.00099991 0.00099992\n",
      " 0.00099993 0.00099994 0.00099995 0.00099995 0.00099996 0.00099997\n",
      " 0.00099998 0.00099999 0.00099999 0.        ]\n"
     ]
    }
   ],
   "source": [
    "# check for ss position\n",
    "print(bedrock_erosion_rate_TPL)"
   ]
  },
  {
   "cell_type": "code",
   "execution_count": 12,
   "id": "bcb8935d",
   "metadata": {},
   "outputs": [
    {
     "data": {
      "text/plain": [
       "[<matplotlib.lines.Line2D at 0x7fc64b62a9d0>]"
      ]
     },
     "execution_count": 12,
     "metadata": {},
     "output_type": "execute_result"
    },
    {
     "data": {
      "image/png": "[encoded data removed]",
      "text/plain": [
       "<Figure size 432x288 with 1 Axes>"
      ]
     },
     "metadata": {
      "needs_background": "light"
     },
     "output_type": "display_data"
    }
   ],
   "source": [
    "# check if we're close to TPL\n",
    "plt.plot(x, sed_flux_TL)\n",
    "plt.plot(x_2, sed_flux_TPL)"
   ]
  },
  {
   "cell_type": "code",
   "execution_count": 13,
   "id": "dc382f3c",
   "metadata": {},
   "outputs": [
    {
     "data": {
      "text/plain": [
       "<matplotlib.legend.Legend at 0x7fc64b739e50>"
      ]
     },
     "execution_count": 13,
     "metadata": {},
     "output_type": "execute_result"
    },
    {
     "data": {
      "image/png": "[encoded data removed]",
      "text/plain": [
       "<Figure size 432x288 with 1 Axes>"
      ]
     },
     "metadata": {
      "needs_background": "light"
     },
     "output_type": "display_data"
    }
   ],
   "source": [
    "# compare default and TPL runs\n",
    "plt.plot(x, topography_TL, label = 'default sediment')\n",
    "plt.plot(x_2, topography_TPL, label = 'transport limited')\n",
    "plt.legend()"
   ]
  },
  {
   "cell_type": "code",
   "execution_count": 14,
   "id": "18220d12",
   "metadata": {},
   "outputs": [],
   "source": [
    "# SET UP GRID ARRAYS\n",
    "dx_3 = 1000\n",
    "x_3 = np.arange(0, 100000, dx_3)\n",
    "\n",
    "# set up runoff rate\n",
    "r_3 = np.zeros(len(x_3))\n",
    "r_3[:] = 0.3\n",
    "\n",
    "# set up references to topography\n",
    "Hstar_3 = 0.1\n",
    "H_3 = Hstar_3 + np.zeros(len(x_3))\n",
    "etab_3 = -H_3\n",
    "eta_3 = etab_3 + H_3\n",
    "\n",
    "# abrasion coefficients from Attal and Lave 2006 in % per km\n",
    "beta_ig_3 = np.zeros(len(x_3))\n",
    "beta_ig_3[:25] = 0.00004\n",
    "beta_sed_3 = np.zeros(len(x_3))\n",
    "beta_sed_3[25:] = 0.00014\n",
    "# atr_factor\n",
    "\n",
    "# erodibility values\n",
    "k_ig_3 = np.zeros(len(x_3))\n",
    "k_ig_3[:25] = 0.0001\n",
    "k_sed_3 = np.zeros(len(x_3))\n",
    "k_sed_3[25:] = 0.001"
   ]
  },
  {
   "cell_type": "code",
   "execution_count": 15,
   "id": "728a0258",
   "metadata": {},
   "outputs": [
    {
     "name": "stdout",
     "output_type": "stream",
     "text": [
      "1010101.3467490787\n"
     ]
    }
   ],
   "source": [
    "# create the input experiment\n",
    "DTL = [x_3, dx_3, Hstar_3, H_3, etab_3, eta_3, beta_ig_3, beta_sed_3, atr_DTL, k_ig_3, k_sed_3, r_3]\n",
    "\n",
    "# and run away with it!\n",
    "(slope_DTL,\n",
    " sed_flux_DTL,\n",
    " e_factor_DTL,\n",
    " topography_DTL,\n",
    " bedrock_elevation_DTL,\n",
    " igneous_plucking_rate_DTL,\n",
    " sedimentary_plucking_rate_DTL,\n",
    " igneous_abrasion_rate_DTL,\n",
    " sedimentary_abrasion_rate_DTL,\n",
    " bedrock_erosion_rate_DTL,\n",
    " attrition_rate_DTL,\n",
    " sedimentation_rate_DTL,\n",
    " sediment_thickness_DTL,\n",
    " total_erosion_rate_DTL,\n",
    " cum_time_DTL) = two_lith_one_sed(*DTL)"
   ]
  },
  {
   "cell_type": "code",
   "execution_count": 16,
   "id": "45368a39",
   "metadata": {},
   "outputs": [
    {
     "name": "stdout",
     "output_type": "stream",
     "text": [
      "[0.001 0.001 0.001 0.001 0.001 0.001 0.001 0.001 0.001 0.001 0.001 0.001\n",
      " 0.001 0.001 0.001 0.001 0.001 0.001 0.001 0.001 0.001 0.001 0.001 0.001\n",
      " 0.001 0.001 0.001 0.001 0.001 0.001 0.001 0.001 0.001 0.001 0.001 0.001\n",
      " 0.001 0.001 0.001 0.001 0.001 0.001 0.001 0.001 0.001 0.001 0.001 0.001\n",
      " 0.001 0.001 0.001 0.001 0.001 0.001 0.001 0.001 0.001 0.001 0.001 0.001\n",
      " 0.001 0.001 0.001 0.001 0.001 0.001 0.001 0.001 0.001 0.001 0.001 0.001\n",
      " 0.001 0.001 0.001 0.001 0.001 0.001 0.001 0.001 0.001 0.001 0.001 0.001\n",
      " 0.001 0.001 0.001 0.001 0.001 0.001 0.001 0.001 0.001 0.001 0.001 0.001\n",
      " 0.001 0.001 0.001 0.   ]\n"
     ]
    }
   ],
   "source": [
    "# check for ss condition\n",
    "print(bedrock_erosion_rate_DTL)"
   ]
  },
  {
   "cell_type": "code",
   "execution_count": 18,
   "id": "71002c5e",
   "metadata": {},
   "outputs": [
    {
     "data": {
      "text/plain": [
       "[<matplotlib.lines.Line2D at 0x7fc64ba105d0>]"
      ]
     },
     "execution_count": 18,
     "metadata": {},
     "output_type": "execute_result"
    },
    {
     "data": {
      "image/png": "[encoded data removed]",
      "text/plain": [
       "<Figure size 432x288 with 1 Axes>"
      ]
     },
     "metadata": {
      "needs_background": "light"
     },
     "output_type": "display_data"
    }
   ],
   "source": [
    "# check if we're close to TPL\n",
    "plt.plot(x, sed_flux_TL)\n",
    "plt.plot(x_2, sed_flux_TPL)\n",
    "plt.plot(x_3, sed_flux_DTL)"
   ]
  },
  {
   "cell_type": "code",
   "execution_count": null,
   "id": "0ce6f809",
   "metadata": {},
   "outputs": [],
   "source": [
    "lowest_elev = topography_TPL[-1]"
   ]
  },
  {
   "cell_type": "code",
   "execution_count": null,
   "id": "4b71850f",
   "metadata": {},
   "outputs": [],
   "source": [
    "highest_elev = topography_TPL[0] - lowest_elev"
   ]
  },
  {
   "cell_type": "code",
   "execution_count": null,
   "id": "3d42b18b",
   "metadata": {},
   "outputs": [],
   "source": [
    "print(highest_elev)"
   ]
  },
  {
   "cell_type": "code",
   "execution_count": null,
   "id": "fabf9b91",
   "metadata": {},
   "outputs": [],
   "source": [
    "# okay compare stuff\n",
    "# plt.plot(x, topography_TL, label = 'default sediment')\n",
    "plt.figure(figsize = (10, 4))\n",
    "\n",
    "plt.plot(x_2/100000, (topography_TPL-lowest_elev)/278, label = 'transport limited', linestyle = '.', linewidth = 3, color = 'mediumseagreen')\n",
    "plt.plot(x_3/100000, (topography_DTL-lowest_elev)/278, label = 'detachment limited', linestyle = '.', linewidth = 3, color = 'teal')\n",
    "plt.xlabel('Distance', fontsize = 14)\n",
    "plt.ylabel('Elevation', fontsize = 14)\n",
    "plt.title('Endmember Model Behaviors', fontsize = 16)\n",
    "plt.legend(fontsize = 12)\n",
    "\n",
    "# plt.savefig('/Users/vanessa/Desktop/summer 2022/fig4.png')\n",
    "plt.show()"
   ]
  },
  {
   "cell_type": "code",
   "execution_count": null,
   "id": "98622889",
   "metadata": {},
   "outputs": [],
   "source": [
    "# now let's see if we can generate similar behavior by tweaking H*\n",
    "# if H* is sufficiently large, bed will never be entirely covered, \n",
    "# and thus behavior will be TPL"
   ]
  },
  {
   "cell_type": "code",
   "execution_count": null,
   "id": "3890c25b",
   "metadata": {},
   "outputs": [],
   "source": [
    "# SET UP GRID ARRAYS\n",
    "dx_4 = 1000\n",
    "x_4 = np.arange(0, 100000, dx_4)\n",
    "\n",
    "# set up runoff rate\n",
    "r_4 = np.zeros(len(x_4))\n",
    "r_4[:] = 0.3\n",
    "\n",
    "# set up references to topography\n",
    "Hstar_4 = 1\n",
    "H_4 = Hstar_4 + np.zeros(len(x_4))\n",
    "etab_4 = -H_4\n",
    "eta_4 = etab_4 + H_4\n",
    "\n",
    "# abrasion coefficients from Attal and Lave 2006 in % per km\n",
    "beta_ig_4 = np.zeros(len(x_4))\n",
    "beta_ig_4[:25] = 0.00004\n",
    "beta_sed_4 = np.zeros(len(x_4))\n",
    "beta_sed_4[25:] = 0.00014\n",
    "# atr_factor\n",
    "\n",
    "# erodibility values\n",
    "k_ig_4 = np.zeros(len(x_4))\n",
    "k_ig_4[:25] = 0.0001\n",
    "k_sed_4 = np.zeros(len(x_4))\n",
    "k_sed_4[25:] = 0.001"
   ]
  },
  {
   "cell_type": "code",
   "execution_count": null,
   "id": "11465883",
   "metadata": {},
   "outputs": [],
   "source": [
    "# create the input experiment\n",
    "high_Hstar = [x_4, dx_4, Hstar_4, H_4, etab_4, eta_4, beta_ig_4, beta_sed_4, atr_factor, k_ig_4, k_sed_4, r_4]\n",
    "\n",
    "# and run away with it!\n",
    "(slope_high_Hstar,\n",
    " sed_flux_high_Hstar,\n",
    " e_factor_high_Hstar,\n",
    " topography_high_Hstar,\n",
    " bedrock_elevation_high_Hstar,\n",
    " igneous_plucking_rate_high_Hstar,\n",
    " sedimentary_plucking_rate_high_Hstar,\n",
    " igneous_abrasion_rate_high_Hstar,\n",
    " sedimentary_abrasion_rate_high_Hstar,\n",
    " bedrock_erosion_rate_high_Hstar,\n",
    " attrition_rate_high_Hstar,\n",
    " sedimentation_rate_high_Hstar,\n",
    " sediment_thickness_high_Hstar,\n",
    " total_erosion_rate_high_Hstar,\n",
    " cum_time_high_Hstar) = two_lith_one_sed(*high_Hstar)"
   ]
  },
  {
   "cell_type": "code",
   "execution_count": null,
   "id": "d6389311",
   "metadata": {},
   "outputs": [],
   "source": [
    "# check for ss condition\n",
    "print(bedrock_erosion_rate_high_Hstar)"
   ]
  },
  {
   "cell_type": "code",
   "execution_count": null,
   "id": "d56f7ef2",
   "metadata": {},
   "outputs": [],
   "source": [
    "# now see if high Hstar gets us closer to DTL topo\n",
    "# plt.plot(x, topography_TL)\n",
    "# plt.plot(x, topography_DTL)\n",
    "plt.plot(x, topography_high_Hstar)"
   ]
  },
  {
   "cell_type": "code",
   "execution_count": null,
   "id": "88877712",
   "metadata": {},
   "outputs": [],
   "source": [
    "plt.plot(x_4, sed_flux_high_Hstar)"
   ]
  },
  {
   "cell_type": "code",
   "execution_count": null,
   "id": "4383bca9",
   "metadata": {},
   "outputs": [],
   "source": []
  }
 ],
 "metadata": {
  "kernelspec": {
   "display_name": "Python 3",
   "language": "python",
   "name": "python3"
  },
  "language_info": {
   "codemirror_mode": {
    "name": "ipython",
    "version": 3
   },
   "file_extension": ".py",
   "mimetype": "text/x-python",
   "name": "python",
   "nbconvert_exporter": "python",
   "pygments_lexer": "ipython3",
   "version": "3.7.6"
  }
 },
 "nbformat": 4,
 "nbformat_minor": 5
}
