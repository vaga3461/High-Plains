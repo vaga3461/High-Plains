{
 "cells": [
  {
   "cell_type": "code",
   "execution_count": 88,
   "metadata": {},
   "outputs": [],
   "source": [
    "# this notebook will implement the predictive abrasion model using an explicit accounting of mass conservation\n",
    "# we assume a constant thickness of sediment\n",
    "# and allow percentages of different lithologies to change through time and space"
   ]
  },
  {
   "cell_type": "code",
   "execution_count": 89,
   "metadata": {},
   "outputs": [],
   "source": [
    "# first, outline the math"
   ]
  },
  {
   "cell_type": "markdown",
   "metadata": {},
   "source": [
    "#### <i>CELL VOLUME</i>\n",
    "\n",
    "$$ \\text{volume} = whdx$$\n",
    "\n",
    "where $w$ = width, $h$ = height, and $dx$ = length\n",
    "\n",
    "<br>\n",
    "<br>\n",
    "\n",
    "#### <i>MASS</i>\n",
    "\n",
    "$$m = \\lambda \\times \\text{volume} \\times (1 - \\phi) \\times \\rho$$\n",
    "\n",
    "where $\\lambda$ = the percentage of a given material in the basin (igneous, metamorphic, or sedimentary), $\\phi$ = porosity within the bed, and $\\rho$ = the material density\n",
    "\n",
    "<br>\n",
    "<br>\n",
    "\n",
    "#### <i>STATEMENT OF MASS CONSERVATION:</i>\n",
    "\n",
    "$$ \\text{rate of change of igneous mass} = \\text{mass rate in} - \\text{mass rate out} - \\text{mass lost to abrasion}$$\n",
    "\n",
    "A rate of mass change is $[M/t]$, so mass per time are the units we're shooting for everywhere.\n",
    "\n",
    "<br>\n",
    "<br>\n",
    "\n",
    "#### <i>WRITING MASS CONSERVATION IN TERMS OF STUFF WE CAN CALCULATE IN OUR MODEL</i>\n",
    "\n",
    "In our model, we can calculate a bedload sediment flux as a function of slope, discharge (itself a function of upstream contributing area), and some lumped factors that derive from equilibrium channel theory (excess shear stress, etc. See Wickert & Schildgen, 2019). This would look like\n",
    "\n",
    "$$Q_s = c Q S$$\n",
    "\n",
    "where $c$ is the lumped coefficient, $Q$ is discharge, and $S$ is bed slope. $c$ and $S$ are dimensionless, so $Q_s$ has the same dimensions as $Q$. Traditionally, dimensions of a water discharge or sediment yield would be $[V/t]$, volume per time, or $[L^3/t]$. Remember,\n",
    "\n",
    "$$\\text{mass} = \\text{density} \\times \\text{volume}$$\n",
    "\n",
    "$$[M] = [M/V] \\times [V]$$\n",
    "\n",
    "But, as a means of normalizing to channel width, we reduce the sediment flux to a unit sediment discharge, i.e. a flux per unit width. This can be written as\n",
    "\n",
    "$$q_s = \\frac{Q_s}{w}$$\n",
    "\n",
    "Now $q_s$ represents the unit sediment flux, which has dimensions $[L^2/t]$ - basically, an area per time. This is a little bit of a problem since a volume per time is what we need to combine with material density in order to transform the dimesions of the right-hand side of our equation to the dimensions of the left-hand side, which are mass per time. If we write it all out, it looks like this:\n",
    "\n",
    "$$\\frac{\\partial m}{\\partial t} = \\rho_{ig} q_s|_x w - \\rho_{ig} q_s|_{x + dx} w - \\rho_{ig} q_s|_x dx w \\beta_{ig}$$\n",
    "\n",
    "where:\n",
    "- $\\rho_{ig}$ is the density of igneous material, $[kg/m^{3}]$\n",
    "- $q_s|_x$ is the unit sediment flux at the upstream end of a cell, $[m^2/s]$\n",
    "- $q_s|_{x + dx}$ is the unit sediment flux at the downstream end of a cell, $[m^2/s]$\n",
    "- $w$ is cell width, $[m]$ (this is used to transform the unit sediment flux back into a volumetric flux)\n",
    "- $dx$ is cell length, $[m]$\n",
    "- $\\beta_{ig}$ is the abrasion coefficient, which is 1/sternberg length, or $[1/L]$\n",
    "\n",
    "So altogether, this states that the mass rate of change is equal to the mass of sediment that enters a cell minus the mass of sediment that leaves a cell and minus the volume of material that is abraded across the surface area of the cell. We can rewrite the lefthand side as follows:\n",
    "\n",
    "$$\\frac{\\partial m}{\\partial t} = \\frac{\\partial \\theta_{ig} \\lambda whdx \\rho_{ig}}{\\partial t}$$\n",
    "\n",
    "where:\n",
    "- $\\theta$ is the percentage of bed material of a given type (here igneous) $[\\text{dimensionless}]$\n",
    "- $\\lambda$ is the percentage of the bed that is composed of solid material $(1 - \\text{porosity})$ $[\\text{dimensionless}]$\n",
    "- $whdx$ is the cell volume (width times height time length) $[m^3]$\n",
    "- $\\rho_{ig}$ is the density (here of igneous material) $[kg/m^3]$\n",
    "\n",
    "We can now pull all of the constants out of the partial derivative on the lefthand side and start canceling stuff. Without showing all the work, we should arrive at something like this:\n",
    "\n",
    "$$\\frac{\\partial \\theta}{\\partial t} = -\\frac{1}{h \\lambda} \\left (\\frac{\\partial q_s}{\\partial x} + q_s\\beta \\right )$$\n",
    "\n",
    "The steps we've taken that aren't shown here are:\n",
    "- Take all constants ($h, \\lambda, w, dx, \\text{and } \\rho$) out of the lefthand derivative and divide by these on the righthand side of the equation\n",
    "- Cancel some terms\n",
    "- Collapse the terms $\\frac{q_s|_x}{dx}$ and $\\frac{q_s|_{x+dx}}{dx}$ into a derivative (this includes changing the sign by dividing by $-1$) and rewrite as such\n",
    "\n",
    "We'll now try to implement this in a model. We'll basically have to perform this calculation three times, once for each rock type we wish to represent (here, igneous, metamorphic, and sedimentary.)"
   ]
  },
  {
   "cell_type": "code",
   "execution_count": 90,
   "metadata": {},
   "outputs": [],
   "source": [
    "# now, onto the modeling. Start by importing libraries.\n",
    "import numpy as np\n",
    "import matplotlib.pyplot as plt"
   ]
  },
  {
   "cell_type": "code",
   "execution_count": 91,
   "metadata": {},
   "outputs": [],
   "source": [
    "# set up grid stuff\n",
    "dx = 1\n",
    "x = np.arange(0, 100, dx)\n",
    "z = np.zeros(len(x))\n",
    "qs = np.zeros(len(x))\n",
    "qs_ig = np.zeros(len(x))\n",
    "qs_mtm = np.zeros(len(x))\n",
    "qs_sed = np.zeros(len(x))\n",
    "baselevel_rate = 0.01\n",
    "\n",
    "# set up lithologic percentages\n",
    "theta = 1\n",
    "\n",
    "theta_ig = np.zeros(len(x))\n",
    "theta_mtm = np.zeros(len(x))\n",
    "theta_sed = np.zeros(len(x))\n",
    "\n",
    "theta_sed[:] = theta\n",
    "\n",
    "# set up sediment thickness\n",
    "H = 2\n",
    "h_ig = np.zeros(len(x))\n",
    "h_mtm = np.zeros(len(x))\n",
    "h_sed = np.zeros(len(x))\n",
    "\n",
    "# define some constants\n",
    "q = x\n",
    "c = 1\n",
    "porosity = 0.45\n",
    "\n",
    "# define abrasion coefficients\n",
    "beta_ig = 1e-6\n",
    "beta_mtm = 1e-5\n",
    "beta_sed = 5e-5\n",
    "\n",
    "# set runtime\n",
    "num_steps = 1000\n",
    "dt = (0.2 * dx * dx) / c"
   ]
  },
  {
   "cell_type": "code",
   "execution_count": 92,
   "metadata": {},
   "outputs": [],
   "source": [
    "# now we want to write a loop to calculate elevation changes through time \n",
    "# and also track sediment flux of each of our different lithologies\n",
    "# here are the steps:\n",
    "\n",
    "# set downstream end of grid domain to lowered baselevel times dt\n",
    "# calculate slope\n",
    "# calculate sed flux from cqS\n"
   ]
  },
  {
   "cell_type": "code",
   "execution_count": 93,
   "metadata": {
    "scrolled": true
   },
   "outputs": [],
   "source": [
    "# writing and running the loop\n",
    "\n",
    "for i in range(10000):\n",
    "    \n",
    "    # calculate slope\n",
    "    S = 0.001\n",
    "    \n",
    "    # discharge\n",
    "    q = np.zeros(len(x))\n",
    "    # q[:] = 1\n",
    "    q = x\n",
    "    \n",
    "    # calculate sed flux\n",
    "    qs[1:] = c * q[1:] * S\n",
    "    qs[0] = 0\n",
    "    qs_ig[1:] = qs[1:] * (theta_ig[:-1])\n",
    "    qs_ig[0] = 0.80\n",
    "    qs_mtm[1:] = qs[1:] * (theta_mtm[:-1])\n",
    "    qs_mtm[0] = 0.10\n",
    "    qs_sed[1:] = qs[1:] * (theta_sed[:-1])\n",
    "    # qs_sed[1:] = 0\n",
    "    qs_sed[0] = 0.10\n",
    "    \n",
    "    # calculate change in layer thickness\n",
    "#     h_ig[:] = H * theta_ig\n",
    "#     h_mtm[:] = H * theta_mtm\n",
    "#     h_sed[:] = H * theta_sed\n",
    "    \n",
    "    # calculate change in each layer thickness\n",
    "#     theta_ig[:-1] += ((-1/(porosity * h_ig[1:])) * ((np.diff(qs_ig)/dx) + (qs_ig[1:] * beta_ig))) * dt\n",
    "#     theta_mtm[:-1] += ((-1/(porosity * h_mtm[1:])) * ((np.diff(qs_mtm)/dx) + (qs_mtm[1:] * beta_mtm))) * dt\n",
    "#     theta_sed[:-1] += ((-1/(porosity * h_sed[1:])) * ((np.diff(qs_sed)/dx) + (qs_sed[1:] * beta_sed))) * dt\n",
    "    \n",
    "    theta_ig[:-1] += ((-1/(porosity * H)) * ((np.diff(qs_ig)/dx) + (qs_ig[1:] * beta_ig))) * dt\n",
    "    theta_mtm[:-1] += ((-1/(porosity * H)) * ((np.diff(qs_mtm)/dx) + (qs_mtm[1:] * beta_mtm))) * dt\n",
    "    theta_sed[:-1] += ((-1/(porosity * H)) * ((np.diff(qs_sed)/dx) + (qs_sed[1:] * beta_sed))) * dt\n",
    "    \n",
    "    theta_total = theta_ig + theta_mtm + theta_sed\n",
    "#      dtheta = theta - theta_total\n",
    "    \n",
    "#     theta_ig += dtheta * theta_ig\n",
    "#     theta_mtm += dtheta * theta_mtm\n",
    "#     theta_sed += dtheta * theta_sed\n",
    "    \n",
    "    # set elevation equal to three sediment thicknesses\n",
    "    # z[:-1] = h_ig[:-1] + h_mtm[:-1] + h_sed[:-1]\n",
    "    \n",
    "    # calc spatial change in percentage\n",
    "#     percent_ig = h_ig/z\n",
    "#     percent_mtm = h_mtm/z\n",
    "#     percent_sed = h_sed/z"
   ]
  },
  {
   "cell_type": "code",
   "execution_count": 94,
   "metadata": {},
   "outputs": [
    {
     "data": {
      "text/plain": [
       "array([89.27094858, 39.85789803, 23.73581569, 15.90813992, 11.37801155,\n",
       "        8.48163405,  6.50734544,  5.10040228,  4.06458703,  3.2828611 ,\n",
       "        2.68130641,  2.21110283,  1.83882932,  1.54092635,  1.30037711,\n",
       "        1.10463651,  0.94429386,  0.81218347,  0.70277815,  0.61176618,\n",
       "        0.53575058,  0.47203158,  0.41844677,  0.37325215,  0.33503237,\n",
       "        0.30263243,  0.27510495,  0.25166934,  0.23167971,  0.21459963,\n",
       "        0.19998199,  0.18745297,  0.17669908,  0.16745672,  0.15950367,\n",
       "        0.15265219,  0.14674329,  0.14164209,  0.1372339 ,  0.13342109,\n",
       "        0.13012038,  0.12726061,  0.12478091,  0.12262914,  0.12076058,\n",
       "        0.11913682,  0.11772482,  0.11649617,  0.11542639,  0.11449434,\n",
       "        0.1136818 ,  0.11297302,  0.11235438,  0.1118141 ,  0.11134197,\n",
       "        0.11092914,  0.11056796,  0.11025176,  0.10997477,  0.10973196,\n",
       "        0.10951897,  0.109332  ,  0.10916775,  0.10902334,  0.10889627,\n",
       "        0.10878435,  0.10868568,  0.1085986 ,  0.10852166,  0.10845359,\n",
       "        0.10839329,  0.10833979,  0.10829225,  0.10824994,  0.10821219,\n",
       "        0.10817846,  0.10814825,  0.10812113,  0.10809671,  0.10807466,\n",
       "        0.1080547 ,  0.10803658,  0.10802005,  0.10800494,  0.10799107,\n",
       "        0.10797829,  0.10796647,  0.10795549,  0.10794525,  0.10793566,\n",
       "        0.10792664,  0.10791812,  0.10791005,  0.10790237,  0.10789502,\n",
       "        0.10788798,  0.10788121,  0.10787467,  0.10786834,  1.        ])"
      ]
     },
     "execution_count": 94,
     "metadata": {},
     "output_type": "execute_result"
    }
   ],
   "source": [
    "theta_sed"
   ]
  },
  {
   "cell_type": "code",
   "execution_count": 96,
   "metadata": {},
   "outputs": [
    {
     "data": {
      "text/plain": [
       "<matplotlib.legend.Legend at 0x7fa0f137ae50>"
      ]
     },
     "execution_count": 96,
     "metadata": {},
     "output_type": "execute_result"
    },
    {
     "data": {
      "image/png": "[encoded data removed]",
      "text/plain": [
       "<Figure size 864x576 with 1 Axes>"
      ]
     },
     "metadata": {
      "needs_background": "light"
     },
     "output_type": "display_data"
    }
   ],
   "source": [
    "plt.figure(figsize = (12, 8))\n",
    "\n",
    "plt.plot(x[:-1], (theta_sed[:-1]/theta_total[:-1])*100, color = 'k', label = 'sedimentary')\n",
    "plt.plot(x[:-1], (theta_mtm[:-1]/theta_total[:-1])*100, color = 'r', label = 'metamorphic')\n",
    "plt.plot(x[:-1], (theta_ig[:-1]/theta_total[:-1])*100, color = 'b', label = 'igneous')\n",
    "plt.xlim(0, 1)\n",
    "plt.legend()"
   ]
  },
  {
   "cell_type": "code",
   "execution_count": 56,
   "metadata": {},
   "outputs": [
    {
     "data": {
      "text/plain": [
       "array([24.99683991, 24.99294311, 24.9881759 , 24.98238314, 24.97538513,\n",
       "       24.96697401, 24.95690978, 24.94491566, 24.93067301, 24.91381561,\n",
       "       24.89392322, 24.87051446, 24.84303905, 24.81086912, 24.77328998,\n",
       "       24.72949005, 24.67855023, 24.61943286, 24.55097037, 24.47185409,\n",
       "       24.38062358, 24.2756572 , 24.15516458, 24.01718212, 23.85957276,\n",
       "       23.68003143, 23.47609808, 23.24518012, 22.9845864 , 22.69157492,\n",
       "       22.36341597, 21.99747227, 21.59129658, 21.14274609, 20.65011115,\n",
       "       20.11225384, 19.52874946, 18.90002157, 18.2274594 , 17.51350486,\n",
       "       16.76169679, 15.9766615 , 15.16404238, 14.33036629, 13.48285096,\n",
       "       12.62916402, 11.77715005, 10.93454593, 10.10870626,  9.30635895,\n",
       "        8.53340748,  7.79479038,  7.09440223,  6.43507424,  5.81860765,\n",
       "        5.24584953,  4.71679916,  4.23073292,  3.78633681,  3.38183776,\n",
       "        3.01512678,  2.68386963,  2.38560234,  2.11781078,  1.87799448,\n",
       "        1.66371602,  1.47263735,  1.30254513,  1.1513668 ,  1.01717936,\n",
       "        0.89821223,  0.79284585,  0.69960701,  0.617162  ,  0.54430837,\n",
       "        0.47996574,  0.42316637,  0.37304566,  0.32883285,  0.28984219,\n",
       "        0.25546453,  0.22515954,  0.19844853,  0.17490784,  0.15416285,\n",
       "        0.13588257,  0.1197747 ,  0.10558131,  0.09307484,  0.08205464,\n",
       "        0.07234383,  0.06378653,  0.05624537,  0.04959934,  0.04374186,\n",
       "        0.03857904,  0.03402819,  0.03001648,  0.02647978,  0.        ])"
      ]
     },
     "execution_count": 56,
     "metadata": {},
     "output_type": "execute_result"
    }
   ],
   "source": [
    "(theta_mtm/theta_total)*100"
   ]
  },
  {
   "cell_type": "code",
   "execution_count": null,
   "metadata": {},
   "outputs": [],
   "source": []
  }
 ],
 "metadata": {
  "kernelspec": {
   "display_name": "Python 3",
   "language": "python",
   "name": "python3"
  },
  "language_info": {
   "codemirror_mode": {
    "name": "ipython",
    "version": 3
   },
   "file_extension": ".py",
   "mimetype": "text/x-python",
   "name": "python",
   "nbconvert_exporter": "python",
   "pygments_lexer": "ipython3",
   "version": "3.7.6"
  }
 },
 "nbformat": 4,
 "nbformat_minor": 4
}
