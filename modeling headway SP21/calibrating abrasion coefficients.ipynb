{
 "cells": [
  {
   "cell_type": "code",
   "execution_count": 15,
   "metadata": {},
   "outputs": [],
   "source": [
    "# this notebook will use Mark's Boulder Creek data to constrain abrasion coefficients for the predictive model"
   ]
  },
  {
   "cell_type": "code",
   "execution_count": 16,
   "metadata": {},
   "outputs": [],
   "source": [
    "# Start by importing libraries.\n",
    "import numpy as np\n",
    "import matplotlib.pyplot as plt\n",
    "import matplotlib.animation as animation\n",
    "from celluloid import Camera"
   ]
  },
  {
   "cell_type": "code",
   "execution_count": 17,
   "metadata": {},
   "outputs": [],
   "source": [
    "# set up grid stuff\n",
    "dx = 1\n",
    "x = np.arange(0, 100, dx)\n",
    "qs = np.zeros(len(x))\n",
    "qs_ig = np.zeros(len(x))\n",
    "qs_mtm = np.zeros(len(x))\n",
    "qs_sed = np.zeros(len(x))\n",
    "\n",
    "# set up lithologic percentages\n",
    "theta = 1\n",
    "\n",
    "theta_ig = np.zeros(len(x))\n",
    "theta_mtm = np.zeros(len(x))\n",
    "theta_sed = np.zeros(len(x))\n",
    "\n",
    "theta_sed[:] = theta\n",
    "\n",
    "# set sediment thickness\n",
    "H = 2\n",
    "\n",
    "# define some constants\n",
    "q = x\n",
    "c = 1\n",
    "porosity = 0.45\n",
    "\n",
    "# define abrasion coefficients\n",
    "beta_ig = 0.001\n",
    "beta_mtm = 5\n",
    "beta_sed = 25\n",
    "\n",
    "# set runtime\n",
    "num_steps = 1000\n",
    "dt = (0.2 * dx * dx) / c\n",
    "\n",
    "# # animation stuff for plotting\n",
    "# # Initialize the iteration number for the next plot\n",
    "# # next_plot = plot_every <-- from animation example\n",
    "# nplots = 100 # number of plots\n",
    "# tplot = num_steps/nplots #use your time steps to calculate the # that you want plotted, makes plots every couple\n",
    "# next_plot = 0\n",
    "# # print(tplot)\n",
    "\n",
    "# fig = plt.figure()\n",
    "\n",
    "# ax = fig.gca()\n",
    "\n",
    "# camera = Camera(fig)"
   ]
  },
  {
   "cell_type": "code",
   "execution_count": 18,
   "metadata": {},
   "outputs": [],
   "source": [
    "# writing and running the loop\n",
    "\n",
    "# plt.figure(figsize = (12, 8))\n",
    "\n",
    "for i in range(10):\n",
    "    \n",
    "    # set constant slope\n",
    "    S = 0.001\n",
    "    \n",
    "    # calculate total sed flux and set boundary condition\n",
    "    qs[1:] = c * q[1:] * S\n",
    "    qs[0] = 0\n",
    "    \n",
    "    # calculate flux of each lithology\n",
    "    qs_ig[1:] = qs[1:] * (theta_ig[:-1])\n",
    "    qs_mtm[1:] = qs[1:] * (theta_mtm[:-1])\n",
    "    qs_sed[1:] = qs[1:] * (theta_sed[:-1])\n",
    "    \n",
    "    # set constant, mixed feed of grains\n",
    "    qs_ig[0] = 0.01\n",
    "    qs_mtm[0] = 0.41\n",
    "    qs_sed[0] = 0.01\n",
    "    \n",
    "    # update percentage of each grain type\n",
    "    theta_ig[:-1] += ((-1/(porosity * H)) * ((np.diff(qs_ig)/dx) + (qs_ig[1:] * beta_ig))) * dt\n",
    "    theta_mtm[:-1] += ((-1/(porosity * H)) * ((np.diff(qs_mtm)/dx) + (qs_mtm[1:] * beta_mtm))) * dt\n",
    "    theta_sed[:-1] += ((-1/(porosity * H)) * ((np.diff(qs_sed)/dx) + (qs_sed[1:] * beta_sed))) * dt\n",
    "    \n",
    "    # conserve mass\n",
    "    theta_total = theta_ig + theta_mtm + theta_sed\n",
    "    dtheta = theta - theta_total\n",
    "    theta_ig += dtheta * theta_ig\n",
    "    theta_mtm += dtheta * theta_mtm\n",
    "    theta_sed += dtheta * theta_sed\n",
    "    \n",
    "#     if theta_ig[-2] == 0.82 and theta-mtm[-2] == 0.1:\n",
    "#         continue\n",
    "#     else:\n",
    "#         break   \n",
    "    \n",
    "     # now plot if time is divisible my timeplot\n",
    "    #if time[i]>= next_plot: \n",
    "        #ax.plot(xp, zp, 'k')\n",
    "        #camera.snap()  # take snapshot for animation\n",
    "        #next_plot += tplot #plots when the next p\n",
    "    #ax.plot(x[x_height > d],\n",
    "           #z_height[launch_height > d], 'r')\n",
    "    \n",
    "#     if i>=next_plot:\n",
    "#         plt.plot(x, theta_ig, 'r')\n",
    "#         plt.plot(x, theta_mtm, 'b')\n",
    "#         plt.plot(x, theta_sed, 'g')\n",
    "#         # camera.snap()  \n",
    "#         next_plot += tplot\n",
    "        \n",
    "#         plt.show()\n",
    "    \n",
    "\n",
    "#     # plotting\n",
    "#     for i in range(0, 10000, 1000):\n",
    "#         plt.plot(x[:-1], (theta_sed[:-1]/theta_total[:-1])*100, color = 'k', label = 'sedimentary')\n",
    "#         plt.plot(x[:-1], (theta_mtm[:-1]/theta_total[:-1])*100, color = 'r', label = 'metamorphic')\n",
    "#         plt.plot(x[:-1], (theta_ig[:-1]/theta_total[:-1])*100, color = 'b', label = 'igneous')\n",
    "#     plt.legend()\n",
    "    \n",
    "# plt.show()"
   ]
  },
  {
   "cell_type": "code",
   "execution_count": 19,
   "metadata": {},
   "outputs": [],
   "source": [
    "# animation = camera.animate()\n",
    "\n",
    "# # Save the object as a .gif animation\n",
    "# animation.save('test_anim.gif', writer='matplotlib.animation.PillowWriter')\n",
    "\n",
    "# # Convert to HTML5 video and play\n",
    "# HTML(animation.to_html5_video())"
   ]
  },
  {
   "cell_type": "code",
   "execution_count": 20,
   "metadata": {},
   "outputs": [
    {
     "data": {
      "image/png": "[encoded data removed]",
      "text/plain": [
       "<Figure size 864x576 with 1 Axes>"
      ]
     },
     "metadata": {
      "needs_background": "light"
     },
     "output_type": "display_data"
    }
   ],
   "source": [
    "plt.figure(figsize = (12, 8))\n",
    "plt.plot(x[:-1], theta_ig[:-1]/theta, color = 'red', label = 'igneous')\n",
    "plt.plot(x[:-1], theta_mtm[:-1]/theta, color = 'blue', label = 'metamorphic')\n",
    "plt.plot(x[:-1], theta_sed[:-1]/theta, color = 'green', label = 'sedimentary')\n",
    "plt.legend()\n",
    "plt.show()"
   ]
  },
  {
   "cell_type": "code",
   "execution_count": 21,
   "metadata": {},
   "outputs": [
    {
     "data": {
      "text/plain": [
       "9"
      ]
     },
     "execution_count": 21,
     "metadata": {},
     "output_type": "execute_result"
    }
   ],
   "source": [
    "i"
   ]
  },
  {
   "cell_type": "code",
   "execution_count": null,
   "metadata": {},
   "outputs": [],
   "source": []
  }
 ],
 "metadata": {
  "kernelspec": {
   "display_name": "Python 3",
   "language": "python",
   "name": "python3"
  },
  "language_info": {
   "codemirror_mode": {
    "name": "ipython",
    "version": 3
   },
   "file_extension": ".py",
   "mimetype": "text/x-python",
   "name": "python",
   "nbconvert_exporter": "python",
   "pygments_lexer": "ipython3",
   "version": "3.7.6"
  }
 },
 "nbformat": 4,
 "nbformat_minor": 4
}
