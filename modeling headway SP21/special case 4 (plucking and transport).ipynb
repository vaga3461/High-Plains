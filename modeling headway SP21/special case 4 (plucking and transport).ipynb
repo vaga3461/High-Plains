{
 "cells": [
  {
   "cell_type": "code",
   "execution_count": 21,
   "id": "d92d6962",
   "metadata": {},
   "outputs": [],
   "source": [
    "# the purpose of this notebook is to test the performance of our final attempt at an analytical solution:\n",
    "# a case with plucking and sediment transport\n",
    "# but no bedrock abrasion or grain attrition\n",
    "# full derivation is below"
   ]
  },
  {
   "cell_type": "markdown",
   "id": "f70caf8a",
   "metadata": {},
   "source": [
    "Start with conservation of mass of sediment in a landscape \"cell\":\n",
    "> $$\\frac{\\partial M}{\\partial t} = \\text{Mass in} - \\text{Mass out}$$\n",
    "\n",
    "The cell has height $H$, total width $B$, and length $dx$. Contained within the cell is a of channel width $b$. The sediment has porosity $\\phi$ and density $\\rho$. The cell is experiencing uniform uplift $U$. Mass is added via sediment flux into the cell, and generation of sediment within the cell via bedrock plucking. Plucking is a function of the fraction of bed cover, $\\alpha$; sediment flux also depends on this quantity. Mass is lost via sediment flux out of the cell. Putting all these pieces together, we arrive at:\n",
    "> $$\\frac{\\partial H B dx (1-\\phi) \\rho}{\\partial t} = Q_s\\bigr\\rvert_{x} \\rho + K\\frac{Q}{B}S\\alpha B dx \\rho - Q_s\\bigr\\rvert_{x + \\Delta x} \\rho$$\n",
    "\n",
    "We can remove the constants from the partial derivative and bring them to the RHS of the equation:\n",
    "> $$\\frac{\\partial H}{\\partial t} = \\frac{Q_s\\bigr\\rvert_{x} \\rho}{B dx (1-\\phi) \\rho} + \\frac{K Q S \\alpha B dx \\rho}{B B dx (1-\\phi) \\rho} - \\frac{Q_s\\bigr\\rvert_{x + \\Delta x} \\rho}{B dx (1-\\phi) \\rho}$$\n",
    "\n",
    "Simplify, pull out the constant denominator:\n",
    "> $$\\frac{\\partial H}{\\partial t} = \\frac{1}{(1-\\phi)B} \\left(\\frac{Q_s\\bigr\\rvert_{x}}{dx} + K Q S \\alpha - \\frac{Q_s\\bigr\\rvert_{x + \\Delta x}}{dx}\\right)$$\n",
    "\n",
    "Pull out -1, rearrange, and rewrite sediment flux pieces as a derivative:\n",
    "> $$\\frac{\\partial H}{\\partial t} = -\\frac{1}{(1-\\phi)B} \\left(\\frac{\\partial Q_s}{\\partial x} - K Q S \\alpha\\right)$$\n",
    "\n",
    "Set $dH/dt$ equal to 0, and go about solving for slope:\n",
    "> $$0 = -\\frac{1}{(1-\\phi)B} \\left(\\frac{\\partial Q_s}{\\partial x} - K Q S \\alpha\\right)$$\n",
    "\n",
    "> $$\\frac{1}{(1 - \\phi)B}\\frac{\\partial Q_s}{\\partial x} = \\frac{K Q S \\alpha}{(1-\\phi)B}$$\n",
    "\n",
    "> $$\\frac{\\partial Q_s}{\\partial x} = K Q S \\alpha$$\n",
    "\n",
    "At steady state, uplift = erosion, meaning uplift rate = plucking rate. We can write this as:\n",
    "\n",
    "> $$U = K \\frac{Q}{B} S \\alpha$$\n",
    "\n",
    "We can rearrange this to solve for $\\alpha$:\n",
    "\n",
    "> $$\\alpha = \\frac{UB}{KQS}$$\n",
    "\n",
    "This can be plugged into the equation for sediment flux above, giving us:\n",
    "\n",
    "> $$\\frac{\\partial Q_s}{\\partial x} = UB$$\n",
    "\n",
    "Now we continue working towards isolating slope, which lives in the equation for $Q_s$:\n",
    "\n",
    "> $$d Q_s = UB  dx$$"
   ]
  },
  {
   "cell_type": "code",
   "execution_count": 2,
   "id": "ff15405e",
   "metadata": {},
   "outputs": [],
   "source": [
    "# start by importing libraries\n",
    "import numpy as np\n",
    "import matplotlib.pyplot as plt"
   ]
  },
  {
   "cell_type": "code",
   "execution_count": 3,
   "id": "14b25dec",
   "metadata": {},
   "outputs": [],
   "source": [
    "# define parameters\n",
    "\n",
    "dx = 1000 # grid spacing\n",
    "x = np.arange(0, 5000, dx) # domain length\n",
    "x_node = x + dx/2\n",
    "\n",
    "baselevel_rate = 0.001 # uplift rate\n",
    "phi = 0.55 # sediment porosity\n",
    "kqs = 0.041 # sediment discharge coefficient\n",
    "I = 0.01 # intermittency factor\n",
    "r = 10. # runoff rate\n",
    "S0 = 0.15 # slope linearizer\n",
    "K = 0.00001 # erodibility\n",
    "# K[:3] = 0.000001\n",
    "# K[3:] = 0.00001\n",
    "Hstar = 0.5\n",
    "kxb = 25 # valley width coeffecient (a, above)\n",
    "Pxb = (1/5) # valley width exponent"
   ]
  },
  {
   "cell_type": "code",
   "execution_count": 5,
   "id": "f9a5dbac",
   "metadata": {},
   "outputs": [],
   "source": [
    "# set up arrays\n",
    "\n",
    "H = Hstar + np.zeros(len(x)) # sediment thickness\n",
    "etab = np.zeros(len(x)) # bedrock elevation array\n",
    "etab[:] = np.linspace(1, 0.1, len(x)) # need to start with slight bedrock slope\n",
    "eta = etab + H # total topographic elevation"
   ]
  },
  {
   "cell_type": "code",
   "execution_count": 6,
   "id": "31fabcab",
   "metadata": {},
   "outputs": [],
   "source": [
    "# calculate constant, derivative values\n",
    "\n",
    "B = kxb * (x_node**Pxb) # valley width   ## TWEAKED\n",
    "Q = (r * kxb * x**(6/5))/(1 + Pxb) # discharge  ## WE TWEAKED THIS"
   ]
  },
  {
   "cell_type": "code",
   "execution_count": 7,
   "id": "b68e1804",
   "metadata": {},
   "outputs": [],
   "source": [
    "def model(x,\n",
    "          dx,\n",
    "          Hstar,\n",
    "          H,\n",
    "          etab,\n",
    "          eta,\n",
    "          kqs,\n",
    "          I,\n",
    "          K,\n",
    "          kxb,\n",
    "          Pxb,\n",
    "          phi,\n",
    "          baselevel_rate,\n",
    "          Q,\n",
    "          B,\n",
    "          num_steps = 1000000):\n",
    "    \n",
    "    dx = 1000 # grid spacing\n",
    "    x = np.arange(0, 5000, dx) # domain length\n",
    "    x_node = x + dx/2\n",
    "        \n",
    "    # calculate timestep\n",
    "    dt = 0.2 * (0.2 * dx * dx / (kqs*(Q[-1]/B[-1])))\n",
    "    \n",
    "    # define arrays\n",
    "    Eb = np.zeros(len(x)) # bedrock erosion rate\n",
    "    Eb_total = np.zeros(len(x)) # total bedrock erosion rate\n",
    "    Eh = np.zeros(len(x)) # sedimentation rate\n",
    "    E = np.zeros(len(x)) # total erosion rate\n",
    "    Qs = np.zeros(len(x)) # total sediment transport\n",
    "    \n",
    "    # set boundary conditions\n",
    "    #H[-1] = 0\n",
    "    E[-1] = 0 # also try baselevel_rate\n",
    "    Qs[0] = 0\n",
    "    \n",
    "    for i in range(num_steps):\n",
    "            \n",
    "        # calculate slope\n",
    "        S = np.abs(np.diff(eta)/dx)\n",
    "        \n",
    "        # calculate bed exposure\n",
    "        alpha = np.exp(-H/Hstar)\n",
    "        \n",
    "        # calculate sediment transport (L^3/T)\n",
    "        Qs[1:] = kqs * I * Q[1:] * (S** (7./6.)) * (1-alpha[:-1])\n",
    "        \n",
    "        # calculate bedrock erosion rate (plucking) (L^2/T)\n",
    "        Eb[:-1] = K * Q[1:] * S * alpha[:-1]\n",
    "        \n",
    "        # total bedrock erosion (L/T)\n",
    "        Eb_total = Eb / B\n",
    "       \n",
    "        # calculate sedimentation rate (L/T)\n",
    "        Eh[:-1] = - (1/((1 - phi) * B[1:])) * ((np.diff(Qs)/dx) - Eb[:-1])\n",
    "        \n",
    "        # calculate total erosion rate (L/T)\n",
    "        E[:-1] = Eb_total[:-1] + Eh[:-1]\n",
    "        \n",
    "        # update boundary conditions\n",
    "        eta[-1] -= baselevel_rate * dt\n",
    "        etab[-1] = eta[-1]\n",
    "        \n",
    "        # update topography\n",
    "        etab[:-1] -= Eb_total[:-1] * dt\n",
    "        H[:-1] += Eh[:-1] * dt\n",
    "        H[H<0] = 0\n",
    "        eta[:-1] = etab[:-1] + H[:-1]\n",
    "\n",
    "        \n",
    "    return (S, alpha, Qs, Eb, Eb_total, Eh, E, eta, etab, H, dt)"
   ]
  },
  {
   "cell_type": "code",
   "execution_count": 8,
   "id": "a3ccd30f",
   "metadata": {},
   "outputs": [],
   "source": [
    "# now write a test\n",
    "test = [dx, x, Hstar, H, etab, eta, kqs, I, K, kxb, Pxb, phi, baselevel_rate, Q, B]\n",
    "\n",
    "# and run it\n",
    "S, alpha, Qs, Eb, Eb_total, Eh, E, eta, etab, H, dt = model(*test)"
   ]
  },
  {
   "cell_type": "code",
   "execution_count": 9,
   "id": "fd23647c",
   "metadata": {},
   "outputs": [
    {
     "data": {
      "text/plain": [
       "array([0.001, 0.001, 0.001, 0.001, 0.   ])"
      ]
     },
     "execution_count": 9,
     "metadata": {},
     "output_type": "execute_result"
    }
   ],
   "source": [
    "E"
   ]
  },
  {
   "cell_type": "code",
   "execution_count": 17,
   "id": "3cad3d57",
   "metadata": {
    "scrolled": true
   },
   "outputs": [
    {
     "data": {
      "text/plain": [
       "[<matplotlib.lines.Line2D at 0x7f7b9b5130d0>]"
      ]
     },
     "execution_count": 17,
     "metadata": {},
     "output_type": "execute_result"
    },
    {
     "data": {
      "image/png": "[encoded data removed]",
      "text/plain": [
       "<Figure size 432x288 with 1 Axes>"
      ]
     },
     "metadata": {
      "needs_background": "light"
     },
     "output_type": "display_data"
    }
   ],
   "source": [
    "plt.plot(x[1:], S)"
   ]
  },
  {
   "cell_type": "code",
   "execution_count": 18,
   "id": "963392bf",
   "metadata": {},
   "outputs": [],
   "source": [
    "# now calc slopes analytically\n",
    "slope_prediction = (6/5) * ((baselevel_rate/(kqs * I * S0 * r * kxb * x[1:]**(1/5))) + (baselevel_rate/(K * r * kxb * x[1:]**(6/5))))"
   ]
  },
  {
   "cell_type": "code",
   "execution_count": 19,
   "id": "c4e4f01d",
   "metadata": {},
   "outputs": [
    {
     "data": {
      "text/plain": [
       "array([0.01972554, 0.0171196 , 0.01576998, 0.01488063])"
      ]
     },
     "execution_count": 19,
     "metadata": {},
     "output_type": "execute_result"
    }
   ],
   "source": [
    "slope_prediction"
   ]
  },
  {
   "cell_type": "code",
   "execution_count": 20,
   "id": "370c870c",
   "metadata": {},
   "outputs": [
    {
     "data": {
      "text/plain": [
       "[<matplotlib.lines.Line2D at 0x7f7b9b61e650>]"
      ]
     },
     "execution_count": 20,
     "metadata": {},
     "output_type": "execute_result"
    },
    {
     "data": {
      "image/png": "[encoded data removed]",
      "text/plain": [
       "<Figure size 432x288 with 1 Axes>"
      ]
     },
     "metadata": {
      "needs_background": "light"
     },
     "output_type": "display_data"
    }
   ],
   "source": [
    "plt.plot(x[1:], S)\n",
    "plt.plot(x[1:], slope_prediction)"
   ]
  },
  {
   "cell_type": "code",
   "execution_count": null,
   "id": "ff749d9b",
   "metadata": {},
   "outputs": [],
   "source": []
  }
 ],
 "metadata": {
  "kernelspec": {
   "display_name": "Python 3",
   "language": "python",
   "name": "python3"
  },
  "language_info": {
   "codemirror_mode": {
    "name": "ipython",
    "version": 3
   },
   "file_extension": ".py",
   "mimetype": "text/x-python",
   "name": "python",
   "nbconvert_exporter": "python",
   "pygments_lexer": "ipython3",
   "version": "3.7.6"
  }
 },
 "nbformat": 4,
 "nbformat_minor": 5
}
