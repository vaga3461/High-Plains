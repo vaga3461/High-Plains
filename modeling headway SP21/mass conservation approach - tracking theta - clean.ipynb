{
 "cells": [
  {
   "cell_type": "code",
   "execution_count": 7,
   "metadata": {},
   "outputs": [],
   "source": [
    "# this notebook will implement the predictive abrasion model using an explicit accounting of mass conservation\n",
    "# we assume a constant thickness of sediment\n",
    "# and allow percentages of different lithologies to change through time and space"
   ]
  },
  {
   "cell_type": "code",
   "execution_count": 8,
   "metadata": {},
   "outputs": [],
   "source": [
    "# first, outline the math"
   ]
  },
  {
   "cell_type": "markdown",
   "metadata": {},
   "source": [
    "#### <i>CELL VOLUME</i>\n",
    "\n",
    "$$ \\text{volume} = whdx$$\n",
    "\n",
    "where $w$ = width, $h$ = height, and $dx$ = length\n",
    "\n",
    "<br>\n",
    "<br>\n",
    "\n",
    "#### <i>MASS</i>\n",
    "\n",
    "$$m = \\lambda \\times \\text{volume} \\times (1 - \\phi) \\times \\rho$$\n",
    "\n",
    "where $\\lambda$ = the percentage of a given material in the basin (igneous, metamorphic, or sedimentary), $\\phi$ = porosity within the bed, and $\\rho$ = the material density\n",
    "\n",
    "<br>\n",
    "<br>\n",
    "\n",
    "#### <i>STATEMENT OF MASS CONSERVATION:</i>\n",
    "\n",
    "$$ \\text{rate of change of igneous mass} = \\text{mass rate in} - \\text{mass rate out} - \\text{mass lost to abrasion}$$\n",
    "\n",
    "A rate of mass change is $[M/t]$, so mass per time are the units we're shooting for everywhere.\n",
    "\n",
    "<br>\n",
    "<br>\n",
    "\n",
    "#### <i>WRITING MASS CONSERVATION IN TERMS OF STUFF WE CAN CALCULATE IN OUR MODEL</i>\n",
    "\n",
    "In our model, we can calculate a bedload sediment flux as a function of slope, discharge (itself a function of upstream contributing area), and some lumped factors that derive from equilibrium channel theory (excess shear stress, etc. See Wickert & Schildgen, 2019). This would look like\n",
    "\n",
    "$$Q_s = c Q S$$\n",
    "\n",
    "where $c$ is the lumped coefficient, $Q$ is discharge, and $S$ is bed slope. $c$ and $S$ are dimensionless, so $Q_s$ has the same dimensions as $Q$. Traditionally, dimensions of a water discharge or sediment yield would be $[V/t]$, volume per time, or $[L^3/t]$. Remember,\n",
    "\n",
    "$$\\text{mass} = \\text{density} \\times \\text{volume}$$\n",
    "\n",
    "$$[M] = [M/V] \\times [V]$$\n",
    "\n",
    "But, as a means of normalizing to channel width, we reduce the sediment flux to a unit sediment discharge, i.e. a flux per unit width. This can be written as\n",
    "\n",
    "$$q_s = \\frac{Q_s}{w}$$\n",
    "\n",
    "Now $q_s$ represents the unit sediment flux, which has dimensions $[L^2/t]$ - basically, an area per time. This is a little bit of a problem since a volume per time is what we need to combine with material density in order to transform the dimesions of the right-hand side of our equation to the dimensions of the left-hand side, which are mass per time. If we write it all out, it looks like this:\n",
    "\n",
    "$$\\frac{\\partial m}{\\partial t} = \\rho_{ig} q_s|_x w - \\rho_{ig} q_s|_{x + dx} w - \\rho_{ig} q_s|_x dx w \\beta_{ig}$$\n",
    "\n",
    "where:\n",
    "- $\\rho_{ig}$ is the density of igneous material, $[kg/m^{3}]$\n",
    "- $q_s|_x$ is the unit sediment flux at the upstream end of a cell, $[m^2/s]$\n",
    "- $q_s|_{x + dx}$ is the unit sediment flux at the downstream end of a cell, $[m^2/s]$\n",
    "- $w$ is cell width, $[m]$ (this is used to transform the unit sediment flux back into a volumetric flux)\n",
    "- $dx$ is cell length, $[m]$\n",
    "- $\\beta_{ig}$ is the abrasion coefficient, which is 1/sternberg length, or $[1/L]$\n",
    "\n",
    "So altogether, this states that the mass rate of change is equal to the mass of sediment that enters a cell minus the mass of sediment that leaves a cell and minus the volume of material that is abraded across the surface area of the cell. We can rewrite the lefthand side as follows:\n",
    "\n",
    "$$\\frac{\\partial m}{\\partial t} = \\frac{\\partial \\theta_{ig} \\lambda whdx \\rho_{ig}}{\\partial t}$$\n",
    "\n",
    "where:\n",
    "- $\\theta$ is the percentage of bed material of a given type (here igneous) $[\\text{dimensionless}]$\n",
    "- $\\lambda$ is the percentage of the bed that is composed of solid material $(1 - \\text{porosity})$ $[\\text{dimensionless}]$\n",
    "- $whdx$ is the cell volume (width times height time length) $[m^3]$\n",
    "- $\\rho_{ig}$ is the density (here of igneous material) $[kg/m^3]$\n",
    "\n",
    "We can now pull all of the constants out of the partial derivative on the lefthand side and start canceling stuff. Without showing all the work, we should arrive at something like this:\n",
    "\n",
    "$$\\frac{\\partial \\theta}{\\partial t} = -\\frac{1}{h \\lambda} \\left (\\frac{\\partial q_s}{\\partial x} + q_s\\beta \\right )$$\n",
    "\n",
    "The steps we've taken that aren't shown here are:\n",
    "- Take all constants ($h, \\lambda, w, dx, \\text{and } \\rho$) out of the lefthand derivative and divide by these on the righthand side of the equation\n",
    "- Cancel some terms\n",
    "- Collapse the terms $\\frac{q_s|_x}{dx}$ and $\\frac{q_s|_{x+dx}}{dx}$ into a derivative (this includes changing the sign by dividing by $-1$) and rewrite as such\n",
    "\n",
    "We'll now try to implement this in a model. We'll basically have to perform this calculation three times, once for each rock type we wish to represent (here, igneous, metamorphic, and sedimentary.)"
   ]
  },
  {
   "cell_type": "code",
   "execution_count": 9,
   "metadata": {},
   "outputs": [],
   "source": [
    "# now, onto the modeling. Start by importing libraries.\n",
    "import numpy as np\n",
    "import matplotlib.pyplot as plt\n",
    "import matplotlib.animation as animation"
   ]
  },
  {
   "cell_type": "code",
   "execution_count": 10,
   "metadata": {},
   "outputs": [],
   "source": [
    "# set up grid stuff\n",
    "dx = 1\n",
    "x = np.arange(0, 100, dx)\n",
    "qs = np.zeros(len(x))\n",
    "qs_ig = np.zeros(len(x))\n",
    "qs_mtm = np.zeros(len(x))\n",
    "qs_sed = np.zeros(len(x))\n",
    "\n",
    "# set up lithologic percentages\n",
    "theta = 1\n",
    "\n",
    "theta_ig = np.zeros(len(x))\n",
    "theta_mtm = np.zeros(len(x))\n",
    "theta_sed = np.zeros(len(x))\n",
    "\n",
    "theta_sed[:] = theta\n",
    "\n",
    "# set sediment thickness\n",
    "H = 2\n",
    "\n",
    "# define some constants\n",
    "q = x\n",
    "c = 1\n",
    "porosity = 0.45\n",
    "\n",
    "# define abrasion coefficients\n",
    "# beta_ig = 1e-6\n",
    "# beta_mtm = 1e-5\n",
    "# beta_sed = 5e-5\n",
    "\n",
    "beta_ig = 1e-6\n",
    "beta_mtm = 1e-1\n",
    "beta_sed = 5e-6\n",
    "\n",
    "# set runtime\n",
    "num_steps = 1000\n",
    "dt = (0.2 * dx * dx) / c"
   ]
  },
  {
   "cell_type": "code",
   "execution_count": 11,
   "metadata": {
    "scrolled": true
   },
   "outputs": [],
   "source": [
    "# writing and running the loop\n",
    "\n",
    "for i in range(8000):\n",
    "    \n",
    "    # set constant slope\n",
    "    S = 0.001\n",
    "    \n",
    "    # let discharge increase with distance\n",
    "    q = np.zeros(len(x))\n",
    "    q = x\n",
    "    \n",
    "    # calculate total sed flux and set boundary condition\n",
    "    qs[1:] = c * q[1:] * S\n",
    "    qs[0] = 0\n",
    "    \n",
    "    # calculate flux of each lithology\n",
    "    qs_ig[1:] = qs[1:] * (theta_ig[:-1])\n",
    "    qs_mtm[1:] = qs[1:] * (theta_mtm[:-1])\n",
    "    qs_sed[1:] = qs[1:] * (theta_sed[:-1])\n",
    "    \n",
    "    # set constant, mixed feed of grains\n",
    "    qs_ig[0] = 0.15\n",
    "    qs_mtm[0] = 0.85\n",
    "    qs_sed[0] = 0\n",
    "    \n",
    "    # update percentage of each grain type\n",
    "    theta_ig[:-1] += ((-1/(porosity * H)) * ((np.diff(qs_ig)/dx) + (qs_ig[1:] * beta_ig))) * dt\n",
    "    theta_mtm[:-1] += ((-1/(porosity * H)) * ((np.diff(qs_mtm)/dx) + (qs_mtm[1:] * beta_mtm))) * dt\n",
    "    theta_sed[:-1] += ((-1/(porosity * H)) * ((np.diff(qs_sed)/dx) + (qs_sed[1:] * beta_sed))) * dt\n",
    "    \n",
    "    # conserve mass\n",
    "    theta_total = theta_ig + theta_mtm + theta_sed\n",
    "#     dtheta = theta - theta_total\n",
    "#     theta_ig += dtheta * theta_ig\n",
    "#     theta_mtm += dtheta * theta_mtm\n",
    "#     theta_sed += dtheta * theta_sed\n",
    "\n",
    "#     # plotting\n",
    "#     for i in range(0, 10000, 1000):\n",
    "#         plt.plot(x[:-1], (theta_sed[:-1]/theta_total[:-1])*100, color = 'k', label = 'sedimentary')\n",
    "#         plt.plot(x[:-1], (theta_mtm[:-1]/theta_total[:-1])*100, color = 'r', label = 'metamorphic')\n",
    "#         plt.plot(x[:-1], (theta_ig[:-1]/theta_total[:-1])*100, color = 'b', label = 'igneous')\n",
    "#     plt.legend()\n",
    "    \n",
    "# plt.show()"
   ]
  },
  {
   "cell_type": "code",
   "execution_count": 12,
   "metadata": {},
   "outputs": [
    {
     "data": {
      "text/plain": [
       "<matplotlib.legend.Legend at 0x7fb2ff996c50>"
      ]
     },
     "execution_count": 12,
     "metadata": {},
     "output_type": "execute_result"
    },
    {
     "data": {
      "image/png": "[encoded data removed]",
      "text/plain": [
       "<Figure size 864x576 with 1 Axes>"
      ]
     },
     "metadata": {
      "needs_background": "light"
     },
     "output_type": "display_data"
    }
   ],
   "source": [
    "plt.figure(figsize = (12, 8))\n",
    "\n",
    "plt.plot(x, (theta_sed/theta_total)*100, color = 'k', label = 'sedimentary')\n",
    "plt.plot(x, (theta_mtm/theta_total)*100, color = 'b', label = 'metamorphic')\n",
    "plt.plot(x, (theta_ig/theta_total)*100, color = 'r', label = 'igneous')\n",
    "plt.legend()"
   ]
  },
  {
   "cell_type": "code",
   "execution_count": 28,
   "metadata": {},
   "outputs": [
    {
     "ename": "NameError",
     "evalue": "name 'dtheta' is not defined",
     "output_type": "error",
     "traceback": [
      "\u001b[0;31m---------------------------------------------------------------------------\u001b[0m",
      "\u001b[0;31mNameError\u001b[0m                                 Traceback (most recent call last)",
      "\u001b[0;32m<ipython-input-28-923740e0ab3b>\u001b[0m in \u001b[0;36m<module>\u001b[0;34m\u001b[0m\n\u001b[0;32m----> 1\u001b[0;31m \u001b[0mdtheta\u001b[0m\u001b[0;34m\u001b[0m\u001b[0;34m\u001b[0m\u001b[0m\n\u001b[0m",
      "\u001b[0;31mNameError\u001b[0m: name 'dtheta' is not defined"
     ]
    }
   ],
   "source": [
    "dtheta"
   ]
  },
  {
   "cell_type": "code",
   "execution_count": null,
   "metadata": {},
   "outputs": [],
   "source": [
    "theta_sed"
   ]
  },
  {
   "cell_type": "code",
   "execution_count": null,
   "metadata": {},
   "outputs": [],
   "source": []
  }
 ],
 "metadata": {
  "kernelspec": {
   "display_name": "Python 3",
   "language": "python",
   "name": "python3"
  },
  "language_info": {
   "codemirror_mode": {
    "name": "ipython",
    "version": 3
   },
   "file_extension": ".py",
   "mimetype": "text/x-python",
   "name": "python",
   "nbconvert_exporter": "python",
   "pygments_lexer": "ipython3",
   "version": "3.7.6"
  }
 },
 "nbformat": 4,
 "nbformat_minor": 4
}
