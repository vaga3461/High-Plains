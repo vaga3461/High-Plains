{
 "cells": [
  {
   "cell_type": "code",
   "execution_count": 113,
   "metadata": {},
   "outputs": [],
   "source": [
    "# this notebook focuses on streamwise grain abrasion, \n",
    "# but does not account for fraction of bed exposed\n",
    "# or variable streamwise lithology (ie, variable streamwise contribution from plucking)"
   ]
  },
  {
   "cell_type": "code",
   "execution_count": 114,
   "metadata": {},
   "outputs": [],
   "source": [
    "import numpy as np\n",
    "import matplotlib.pyplot as plt"
   ]
  },
  {
   "cell_type": "code",
   "execution_count": 124,
   "metadata": {},
   "outputs": [],
   "source": [
    "# grid setup and elevation stuff\n",
    "dx = 1\n",
    "x = np.arange(0, 100 + dx, dx)\n",
    "slope = -0.2\n",
    "elev = (slope * x) + 2000\n",
    "baselevel_rate = 0.01\n",
    "uplift_rate = 0.001\n",
    "\n",
    "# initial lithology distribution\n",
    "percent_ig = 0.70\n",
    "percent_mtm = 0.05\n",
    "percent_sed = 0.25\n",
    "\n",
    "# sed flux\n",
    "qs_ig = np.zeros(len(x))\n",
    "qs_mtm = np.zeros(len(x))\n",
    "qs_sed = np.zeros(len(x))\n",
    "qs_ig[0] = 1\n",
    "qs_mtm[0] = 1\n",
    "qs_sed[0] = 1\n",
    "\n",
    "# discharge\n",
    "q = x\n",
    "\n",
    "# c is fxn of grainsize, among other stuff. Lower for igneous rocks because they comprise the gravel fraction?\n",
    "# or should c be the same for all?\n",
    "c_ig = 0.001\n",
    "c_mtm = 0.01\n",
    "c_sed = 0.05\n",
    "c = 1\n",
    "\n",
    "# erodibility\n",
    "k = 0.001\n",
    "\n",
    "# abrasion coefficients of different lithologies\n",
    "beta_ig = 10\n",
    "beta_mtm = 100\n",
    "beta_sed = 500\n",
    "\n",
    "# timestep stuff\n",
    "num_steps = 10000\n",
    "dt = 0.2 * dx * dx / c_mtm  # time-step size"
   ]
  },
  {
   "cell_type": "code",
   "execution_count": 125,
   "metadata": {},
   "outputs": [],
   "source": [
    "for i in range(100):\n",
    "    \n",
    "    # adjust elevations and calc slope\n",
    "    elev += uplift_rate * dt\n",
    "    S = np.diff(elev)/dx\n",
    "    \n",
    "    # erode the bed\n",
    "    eroded_matl = k * q[1:] * S\n",
    "    \n",
    "    # calc sed flux\n",
    "    ig_attrition = eroded_matl * percent_ig * beta_ig\n",
    "    qs_ig[1:] = (q[1:] * S * c) - ig_attrition\n",
    "    # igneous += qs_ig\n",
    "    \n",
    "    mtm_attrition = eroded_matl * percent_mtm * beta_mtm\n",
    "    qs_mtm[1:] = (q[1:] * S * c) - mtm_attrition\n",
    "    # metamorphic += qs_mtm\n",
    "    \n",
    "    sed_attrition = eroded_matl * percent_sed * beta_sed\n",
    "    qs_sed[1:] = (q[1:] * S * c) - sed_attrition\n",
    "    # sedimentary += qs_sed\n",
    "    \n",
    "    qs_total = qs_ig + qs_mtm + qs_sed\n",
    "    \n",
    "    # calc change through time\n",
    "    elev[:-1] -= eroded_matl - qs_total[:-1]"
   ]
  },
  {
   "cell_type": "code",
   "execution_count": 126,
   "metadata": {},
   "outputs": [
    {
     "name": "stdout",
     "output_type": "stream",
     "text": [
      "34.68389800908164\n",
      "34.75375480265461\n",
      "30.562347188265136\n"
     ]
    }
   ],
   "source": [
    "total_qs = np.sum(qs_total)\n",
    "total_ig = np.sum(qs_ig)\n",
    "total_mtm = np.sum(qs_mtm)\n",
    "total_sed = np.sum(qs_sed)\n",
    "\n",
    "print((total_ig/total_qs)*100)\n",
    "print((total_mtm/total_qs)*100)\n",
    "print((total_sed/total_qs)*100)"
   ]
  },
  {
   "cell_type": "code",
   "execution_count": null,
   "metadata": {},
   "outputs": [],
   "source": []
  }
 ],
 "metadata": {
  "kernelspec": {
   "display_name": "Python 3",
   "language": "python",
   "name": "python3"
  },
  "language_info": {
   "codemirror_mode": {
    "name": "ipython",
    "version": 3
   },
   "file_extension": ".py",
   "mimetype": "text/x-python",
   "name": "python",
   "nbconvert_exporter": "python",
   "pygments_lexer": "ipython3",
   "version": "3.7.6"
  }
 },
 "nbformat": 4,
 "nbformat_minor": 4
}
