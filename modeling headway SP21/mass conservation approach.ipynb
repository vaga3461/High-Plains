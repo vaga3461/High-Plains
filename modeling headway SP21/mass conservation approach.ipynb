{
 "cells": [
  {
   "cell_type": "code",
   "execution_count": 1,
   "metadata": {},
   "outputs": [],
   "source": [
    "# this notebook will implement the predictive abrasion model using an explicit accounting of mass conservation"
   ]
  },
  {
   "cell_type": "code",
   "execution_count": 2,
   "metadata": {},
   "outputs": [],
   "source": [
    "# first, outline the math"
   ]
  },
  {
   "cell_type": "markdown",
   "metadata": {},
   "source": [
    "#### <i>CELL VOLUME</i>\n",
    "\n",
    "$$ \\text{volume} = whdx$$\n",
    "\n",
    "where $w$ = width, $h$ = height, and $dx$ = length\n",
    "\n",
    "<br>\n",
    "<br>\n",
    "\n",
    "#### <i>MASS</i>\n",
    "\n",
    "$$m = \\lambda \\times \\text{volume} \\times (1 - \\phi) \\times \\rho$$\n",
    "\n",
    "where $\\lambda$ = the percentage of a given material in the basin (igneous, metamorphic, or sedimentary), $\\phi$ = porosity within the bed, and $\\rho$ = the material density\n",
    "\n",
    "<br>\n",
    "<br>\n",
    "\n",
    "#### <i>STATEMENT OF MASS CONSERVATION:</i>\n",
    "\n",
    "$$ \\text{rate of change of igneous mass} = \\text{mass rate in} - \\text{mass rate out} - \\text{mass lost to abrasion}$$\n",
    "\n",
    "A rate of mass change is $[M/t]$, so mass per time are the units we're shooting for everywhere.\n",
    "\n",
    "<br>\n",
    "<br>\n",
    "\n",
    "#### <i>WRITING MASS CONSERVATION IN TERMS OF STUFF WE CAN CALCULATE IN OUR MODEL</i>\n",
    "\n",
    "In our model, we can calculate a bedload sediment flux as a function of slope, discharge (itself a function of upstream contributing area), and some lumped factors that derive from equilibrium channel theory (excess shear stress, etc. See Wickert & Schildgen, 2019). This would look like\n",
    "\n",
    "$$Q_s = c Q S$$\n",
    "\n",
    "where $c$ is the lumped coefficient, $Q$ is discharge, and $S$ is bed slope. $c$ and $S$ are dimensionless, so $Q_s$ has the same dimensions as $Q$. Traditionally, dimensions of a water discharge or sediment yield would be $[V/t]$, volume per time, or $[L^3/t]$. Remember,\n",
    "\n",
    "$$\\text{mass} = \\text{density} \\times \\text{volume}$$\n",
    "\n",
    "$$[M] = [M/V] \\times [V]$$\n",
    "\n",
    "But, as a means of normalizing to channel width, we reduce the sediment flux to a unit sediment discharge, i.e. a flux per unit width. This can be written as\n",
    "\n",
    "$$q_s = \\frac{Q_s}{w}$$\n",
    "\n",
    "Now $q_s$ represents the unit sediment flux, which has dimensions $[L^2/t]$ - basically, an area per time. This is a little bit of a problem since a volume per time is what we need to combine with material density in order to transform the dimesions of the right-hand side of our equation to the dimensions of the left-hand side, which are mass per time. If we write it all out, it looks like this:\n",
    "\n",
    "$$\\frac{\\partial m}{\\partial t} = \\rho_{ig} q_s|_x w - \\rho_{ig} q_s|_{x + dx} w - \\rho_{ig} q_s|_x dx w \\beta_{ig}$$\n",
    "\n",
    "where:\n",
    "- $\\rho_{ig}$ is the density of igneous material, $[kg/m^{3}]$\n",
    "- $q_s|_x$ is the unit sediment flux at the upstream end of a cell, $[m^2/s]$\n",
    "- $q_s|_{x + dx}$ is the unit sediment flux at the downstream end of a cell, $[m^2/s]$\n",
    "- $w$ is cell width, $[m]$ (this is used to transform the unit sediment flux back into a volumetric flux)\n",
    "- $dx$ is cell length, $[m]$\n",
    "- $\\beta_{ig}$ is the abrasion coefficient, which is 1/sternberg length, or $[1/L]$\n",
    "\n",
    "So altogether, this states that the mass rate of change is equal to the mass of sediment that enters a cell minus the mass of sediment that leaves a cell and minus the volume of material that is abraded across the surface area of the cell. We can rewrite the lefthand side as follows:\n",
    "\n",
    "$$\\frac{\\partial m}{\\partial t} = \\frac{\\partial \\theta_{ig} \\lambda whdx \\rho_{ig}}{\\partial t}$$\n",
    "\n",
    "where:\n",
    "- $\\theta$ is the percentage of bed material of a given type (here igneous) $[\\text{dimensionless}]$\n",
    "- $\\lambda$ is the percentage of the bed that is composed of solid material $(1 - \\text{porosity})$ $[\\text{dimensionless}]$\n",
    "- $whdx$ is the cell volume (width times height time length) $[m^3]$\n",
    "- $\\rho_{ig}$ is the density (here of igneous material) $[kg/m^3]$\n",
    "\n",
    "We can now pull all of the constants out of the partial derivative on the lefthand side and start canceling stuff. Without showing all the work, we should arrive at something like this:\n",
    "\n",
    "$$\\frac{\\partial h}{\\partial t} = -\\frac{1}{\\theta \\lambda} \\left (\\frac{\\partial q_s}{\\partial x} + q_s\\beta \\right )$$\n",
    "\n",
    "The steps we've taken that aren't shown here are:\n",
    "- Take all constants ($\\theta, \\lambda, w, dx, \\text{and} \\rho$) out of the lefthand derivative and divide by these on the righthand side of the equation\n",
    "- Cancel some terms\n",
    "- Collapse the terms $\\frac{q_s|_x}{dx}$ and $\\frac{q_s|_{x+dx}}{dx}$ into a derivative (this includes changing the sign by dividing by $-1$) and rewrite as such\n",
    "\n",
    "We'll now try to implement this in a model. We'll basically have to perform this calculation three times, once for each rock type we wish to represent (here, igneous, metamorphic, and sedimentary.)"
   ]
  },
  {
   "cell_type": "code",
   "execution_count": 3,
   "metadata": {},
   "outputs": [],
   "source": [
    "# now, onto the modeling. Start by importing libraries.\n",
    "import numpy as np\n",
    "import matplotlib.pyplot as plt"
   ]
  },
  {
   "cell_type": "code",
   "execution_count": 4,
   "metadata": {},
   "outputs": [],
   "source": [
    "# define lithologic percentages\n",
    "theta_ig = 0.70\n",
    "theta_mtm = 0.05\n",
    "theta_sed = 0.25\n",
    "\n",
    "# now set up grid stuff\n",
    "dx = 1\n",
    "x = np.arange(0, 100, dx)\n",
    "z = np.zeros(len(x))\n",
    "qs = np.zeros(len(x))\n",
    "baselevel_rate = 0.01\n",
    "H = 2\n",
    "h_ig = np.zeros(len(x))\n",
    "h_ig[:] = H * theta_ig\n",
    "h_mtm = np.zeros(len(x))\n",
    "h_mtm[:] = H * theta_mtm\n",
    "h_sed = np.zeros(len(x))\n",
    "h_sed[:] = H * theta_sed\n",
    "\n",
    "# define some constants\n",
    "q = x\n",
    "c = 1\n",
    "porosity = 0.45\n",
    "\n",
    "# define densities\n",
    "# this isn't actually necessary\n",
    "# rho_ig = 2650\n",
    "# rho_mtm = 2650\n",
    "# rho_sed = 2650\n",
    "\n",
    "# define abrasion coefficients\n",
    "beta_ig = 1\n",
    "beta_mtm = 1e-5\n",
    "beta_sed = 5e-5\n",
    "\n",
    "# set runtime\n",
    "num_steps = 1000\n",
    "dt = (0.2 * dx * dx) / c"
   ]
  },
  {
   "cell_type": "code",
   "execution_count": 5,
   "metadata": {},
   "outputs": [],
   "source": [
    "# now we want to write a loop to calculate elevation changes through time \n",
    "# and also track sediment flux of each of our different lithologies\n",
    "# here are the steps:\n",
    "\n",
    "# set downstream end of grid domain to lowered baselevel times dt\n",
    "# calculate slope\n",
    "# calculate sed flux from cqS\n"
   ]
  },
  {
   "cell_type": "code",
   "execution_count": 6,
   "metadata": {},
   "outputs": [
    {
     "ename": "NameError",
     "evalue": "name 'qs_ig' is not defined",
     "output_type": "error",
     "traceback": [
      "\u001b[0;31m---------------------------------------------------------------------------\u001b[0m",
      "\u001b[0;31mNameError\u001b[0m                                 Traceback (most recent call last)",
      "\u001b[0;32m<ipython-input-6-603d96560516>\u001b[0m in \u001b[0;36m<module>\u001b[0;34m\u001b[0m\n\u001b[1;32m     16\u001b[0m     \u001b[0mqs\u001b[0m\u001b[0;34m[\u001b[0m\u001b[0;36m1\u001b[0m\u001b[0;34m:\u001b[0m\u001b[0;34m]\u001b[0m \u001b[0;34m=\u001b[0m \u001b[0mc\u001b[0m \u001b[0;34m*\u001b[0m \u001b[0mq\u001b[0m\u001b[0;34m[\u001b[0m\u001b[0;36m1\u001b[0m\u001b[0;34m:\u001b[0m\u001b[0;34m]\u001b[0m \u001b[0;34m*\u001b[0m \u001b[0mS\u001b[0m\u001b[0;34m\u001b[0m\u001b[0;34m\u001b[0m\u001b[0m\n\u001b[1;32m     17\u001b[0m     \u001b[0mqs\u001b[0m\u001b[0;34m[\u001b[0m\u001b[0;36m0\u001b[0m\u001b[0;34m]\u001b[0m \u001b[0;34m=\u001b[0m \u001b[0;36m0\u001b[0m\u001b[0;34m\u001b[0m\u001b[0;34m\u001b[0m\u001b[0m\n\u001b[0;32m---> 18\u001b[0;31m     \u001b[0mqs_ig\u001b[0m\u001b[0;34m[\u001b[0m\u001b[0;36m1\u001b[0m\u001b[0;34m:\u001b[0m\u001b[0;34m]\u001b[0m \u001b[0;34m=\u001b[0m \u001b[0mqs\u001b[0m\u001b[0;34m[\u001b[0m\u001b[0;36m1\u001b[0m\u001b[0;34m:\u001b[0m\u001b[0;34m]\u001b[0m \u001b[0;34m*\u001b[0m \u001b[0;34m(\u001b[0m\u001b[0mh_ig\u001b[0m\u001b[0;34m[\u001b[0m\u001b[0;34m:\u001b[0m\u001b[0;34m-\u001b[0m\u001b[0;36m1\u001b[0m\u001b[0;34m]\u001b[0m\u001b[0;34m/\u001b[0m\u001b[0mH\u001b[0m\u001b[0;34m)\u001b[0m\u001b[0;34m\u001b[0m\u001b[0;34m\u001b[0m\u001b[0m\n\u001b[0m\u001b[1;32m     19\u001b[0m     \u001b[0mqs_ig\u001b[0m\u001b[0;34m[\u001b[0m\u001b[0;36m0\u001b[0m\u001b[0;34m]\u001b[0m \u001b[0;34m=\u001b[0m \u001b[0;36m0\u001b[0m\u001b[0;34m\u001b[0m\u001b[0;34m\u001b[0m\u001b[0m\n\u001b[1;32m     20\u001b[0m     \u001b[0mqs_mtm\u001b[0m\u001b[0;34m[\u001b[0m\u001b[0;36m1\u001b[0m\u001b[0;34m:\u001b[0m\u001b[0;34m]\u001b[0m \u001b[0;34m=\u001b[0m \u001b[0mqs\u001b[0m\u001b[0;34m[\u001b[0m\u001b[0;36m1\u001b[0m\u001b[0;34m:\u001b[0m\u001b[0;34m]\u001b[0m \u001b[0;34m*\u001b[0m \u001b[0;34m(\u001b[0m\u001b[0mh_mtm\u001b[0m\u001b[0;34m[\u001b[0m\u001b[0;34m:\u001b[0m\u001b[0;34m-\u001b[0m\u001b[0;36m1\u001b[0m\u001b[0;34m]\u001b[0m\u001b[0;34m/\u001b[0m\u001b[0mH\u001b[0m\u001b[0;34m)\u001b[0m\u001b[0;34m\u001b[0m\u001b[0;34m\u001b[0m\u001b[0m\n",
      "\u001b[0;31mNameError\u001b[0m: name 'qs_ig' is not defined"
     ]
    }
   ],
   "source": [
    "# writing and running the loop\n",
    "\n",
    "for i in range(10000):\n",
    "    \n",
    "    # lower baselevel\n",
    "    # z[-1] -= baselevel_rate * dt\n",
    "    \n",
    "    # calculate slope\n",
    "    S = 0.001\n",
    "    \n",
    "    # discharge\n",
    "    q = np.zeros(len(x))\n",
    "    q[:] = 1\n",
    "    \n",
    "    # calculate sed flux\n",
    "    qs[1:] = c * q[1:] * S\n",
    "    qs[0] = 0\n",
    "    qs_ig[1:] = qs[1:] * (h_ig[:-1]/H)\n",
    "    qs_ig[0] = 0\n",
    "    qs_mtm[1:] = qs[1:] * (h_mtm[:-1]/H)\n",
    "    qs_mtm[0] = 0\n",
    "    qs_sed[1:] = qs[1:] * (h_sed[:-1]/H)\n",
    "    qs_sed[0] = 0\n",
    "    \n",
    "    # calculate change in each layer thickness\n",
    "    h_ig[:-1] += ((-1/(porosity)) * ((np.diff(qs_ig)/dx) + (qs_ig[1:] * beta_ig))) * dt\n",
    "    h_mtm[:-1] += ((-1/(porosity)) * ((np.diff(qs_mtm)/dx) + (qs_mtm[1:] * beta_mtm))) * dt\n",
    "    h_sed[:-1] += ((-1/(porosity)) * ((np.diff(qs_sed)/dx) + (qs_sed[1:] * beta_sed))) * dt\n",
    "    \n",
    "    H_total = h_ig + h_mtm + h_sed\n",
    "    dh = H - H_total\n",
    "    \n",
    "    h_ig += dh * theta_ig\n",
    "    h_mtm += dh * theta_mtm\n",
    "    h_sed += dh * theta_sed\n",
    "    \n",
    "    # set elevation equal to three sediment thicknesses\n",
    "    # z[:-1] = h_ig[:-1] + h_mtm[:-1] + h_sed[:-1]\n",
    "    \n",
    "    # calc spatial change in percentage\n",
    "#     percent_ig = h_ig/z\n",
    "#     percent_mtm = h_mtm/z\n",
    "#     percent_sed = h_sed/z"
   ]
  },
  {
   "cell_type": "code",
   "execution_count": 132,
   "metadata": {},
   "outputs": [
    {
     "data": {
      "text/plain": [
       "array([1.0943984 , 0.89851109, 0.7918151 , 0.742652  , 0.72330047,\n",
       "       0.71670303, 0.71472788, 0.71420213, 0.71407636, 0.71404906,\n",
       "       0.71404365, 0.71404266, 0.71404249, 0.71404247, 0.71404246,\n",
       "       0.71404246, 0.71404246, 0.71404246, 0.71404246, 0.71404246,\n",
       "       0.71404246, 0.71404246, 0.71404246, 0.71404246, 0.71404246,\n",
       "       0.71404246, 0.71404246, 0.71404246, 0.71404246, 0.71404246,\n",
       "       0.71404246, 0.71404246, 0.71404246, 0.71404246, 0.71404246,\n",
       "       0.71404246, 0.71404246, 0.71404246, 0.71404246, 0.71404246,\n",
       "       0.71404246, 0.71404246, 0.71404246, 0.71404246, 0.71404246,\n",
       "       0.71404246, 0.71404246, 0.71404246, 0.71404246, 0.71404246,\n",
       "       0.71404246, 0.71404246, 0.71404246, 0.71404246, 0.71404246,\n",
       "       0.71404246, 0.71404246, 0.71404246, 0.71404246, 0.71404246,\n",
       "       0.71404246, 0.71404246, 0.71404246, 0.71404246, 0.71404246,\n",
       "       0.71404246, 0.71404246, 0.71404246, 0.71404246, 0.71404246,\n",
       "       0.71404246, 0.71404246, 0.71404246, 0.71404246, 0.71404246,\n",
       "       0.71404246, 0.71404246, 0.71404246, 0.71404246, 0.71404246,\n",
       "       0.71404246, 0.71404246, 0.71404246, 0.71404246, 0.71404246,\n",
       "       0.71404246, 0.71404246, 0.71404246, 0.71404246, 0.71404246,\n",
       "       0.71404246, 0.71404246, 0.71404246, 0.71404246, 0.71404246,\n",
       "       0.71404246, 0.71404246, 0.71404246, 0.71404246, 1.4       ])"
      ]
     },
     "execution_count": 132,
     "metadata": {},
     "output_type": "execute_result"
    }
   ],
   "source": [
    "h_ig"
   ]
  },
  {
   "cell_type": "code",
   "execution_count": 133,
   "metadata": {},
   "outputs": [
    {
     "data": {
      "text/plain": [
       "array([0.15093787, 0.18358942, 0.20137443, 0.20956948, 0.21279524,\n",
       "       0.21389499, 0.21422423, 0.21431187, 0.21433284, 0.21433739,\n",
       "       0.21433829, 0.21433846, 0.21433849, 0.21433849, 0.21433849,\n",
       "       0.21433849, 0.21433849, 0.21433849, 0.21433849, 0.21433849,\n",
       "       0.21433849, 0.21433849, 0.21433849, 0.21433849, 0.21433849,\n",
       "       0.21433849, 0.21433849, 0.21433849, 0.21433849, 0.21433849,\n",
       "       0.21433849, 0.21433849, 0.21433849, 0.21433849, 0.21433849,\n",
       "       0.21433849, 0.21433849, 0.21433849, 0.21433849, 0.21433849,\n",
       "       0.21433849, 0.21433849, 0.21433849, 0.21433849, 0.21433849,\n",
       "       0.21433849, 0.21433849, 0.21433849, 0.21433849, 0.21433849,\n",
       "       0.21433849, 0.21433849, 0.21433849, 0.21433849, 0.21433849,\n",
       "       0.21433849, 0.21433849, 0.21433849, 0.21433849, 0.21433849,\n",
       "       0.21433849, 0.21433849, 0.21433849, 0.21433849, 0.21433849,\n",
       "       0.21433849, 0.21433849, 0.21433849, 0.21433849, 0.21433849,\n",
       "       0.21433849, 0.21433849, 0.21433849, 0.21433849, 0.21433849,\n",
       "       0.21433849, 0.21433849, 0.21433849, 0.21433849, 0.21433849,\n",
       "       0.21433849, 0.21433849, 0.21433849, 0.21433849, 0.21433849,\n",
       "       0.21433849, 0.21433849, 0.21433849, 0.21433849, 0.21433849,\n",
       "       0.21433849, 0.21433849, 0.21433849, 0.21433849, 0.21433849,\n",
       "       0.21433849, 0.21433849, 0.21433849, 0.21433849, 0.1       ])"
      ]
     },
     "execution_count": 133,
     "metadata": {},
     "output_type": "execute_result"
    }
   ],
   "source": [
    "h_mtm"
   ]
  },
  {
   "cell_type": "code",
   "execution_count": 134,
   "metadata": {},
   "outputs": [
    {
     "data": {
      "text/plain": [
       "array([0.75466373, 0.91789949, 1.00681046, 1.04777852, 1.0639043 ,\n",
       "       1.06940199, 1.07104789, 1.071486  , 1.0715908 , 1.07161355,\n",
       "       1.07161806, 1.07161888, 1.07161902, 1.07161905, 1.07161905,\n",
       "       1.07161905, 1.07161905, 1.07161905, 1.07161905, 1.07161905,\n",
       "       1.07161905, 1.07161905, 1.07161905, 1.07161905, 1.07161905,\n",
       "       1.07161905, 1.07161905, 1.07161905, 1.07161905, 1.07161905,\n",
       "       1.07161905, 1.07161905, 1.07161905, 1.07161905, 1.07161905,\n",
       "       1.07161905, 1.07161905, 1.07161905, 1.07161905, 1.07161905,\n",
       "       1.07161905, 1.07161905, 1.07161905, 1.07161905, 1.07161905,\n",
       "       1.07161905, 1.07161905, 1.07161905, 1.07161905, 1.07161905,\n",
       "       1.07161905, 1.07161905, 1.07161905, 1.07161905, 1.07161905,\n",
       "       1.07161905, 1.07161905, 1.07161905, 1.07161905, 1.07161905,\n",
       "       1.07161905, 1.07161905, 1.07161905, 1.07161905, 1.07161905,\n",
       "       1.07161905, 1.07161905, 1.07161905, 1.07161905, 1.07161905,\n",
       "       1.07161905, 1.07161905, 1.07161905, 1.07161905, 1.07161905,\n",
       "       1.07161905, 1.07161905, 1.07161905, 1.07161905, 1.07161905,\n",
       "       1.07161905, 1.07161905, 1.07161905, 1.07161905, 1.07161905,\n",
       "       1.07161905, 1.07161905, 1.07161905, 1.07161905, 1.07161905,\n",
       "       1.07161905, 1.07161905, 1.07161905, 1.07161905, 1.07161905,\n",
       "       1.07161905, 1.07161905, 1.07161905, 1.07161905, 0.5       ])"
      ]
     },
     "execution_count": 134,
     "metadata": {},
     "output_type": "execute_result"
    }
   ],
   "source": [
    "h_sed"
   ]
  },
  {
   "cell_type": "code",
   "execution_count": 135,
   "metadata": {},
   "outputs": [
    {
     "data": {
      "text/plain": [
       "array([2., 2., 2., 2., 2., 2., 2., 2., 2., 2., 2., 2., 2., 2., 2., 2., 2.,\n",
       "       2., 2., 2., 2., 2., 2., 2., 2., 2., 2., 2., 2., 2., 2., 2., 2., 2.,\n",
       "       2., 2., 2., 2., 2., 2., 2., 2., 2., 2., 2., 2., 2., 2., 2., 2., 2.,\n",
       "       2., 2., 2., 2., 2., 2., 2., 2., 2., 2., 2., 2., 2., 2., 2., 2., 2.,\n",
       "       2., 2., 2., 2., 2., 2., 2., 2., 2., 2., 2., 2., 2., 2., 2., 2., 2.,\n",
       "       2., 2., 2., 2., 2., 2., 2., 2., 2., 2., 2., 2., 2., 2., 2.])"
      ]
     },
     "execution_count": 135,
     "metadata": {},
     "output_type": "execute_result"
    }
   ],
   "source": [
    "h_ig + h_mtm + h_sed"
   ]
  },
  {
   "cell_type": "code",
   "execution_count": null,
   "metadata": {},
   "outputs": [],
   "source": []
  }
 ],
 "metadata": {
  "kernelspec": {
   "display_name": "Python 3",
   "language": "python",
   "name": "python3"
  },
  "language_info": {
   "codemirror_mode": {
    "name": "ipython",
    "version": 3
   },
   "file_extension": ".py",
   "mimetype": "text/x-python",
   "name": "python",
   "nbconvert_exporter": "python",
   "pygments_lexer": "ipython3",
   "version": "3.7.6"
  }
 },
 "nbformat": 4,
 "nbformat_minor": 4
}
