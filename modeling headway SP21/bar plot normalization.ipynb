{
 "cells": [
  {
   "cell_type": "code",
   "execution_count": 4,
   "metadata": {},
   "outputs": [],
   "source": [
    "# testing how to make a bar chart\n",
    "\n",
    "import numpy as np\n",
    "import matplotlib.pyplot as plt"
   ]
  },
  {
   "cell_type": "code",
   "execution_count": 23,
   "metadata": {},
   "outputs": [],
   "source": [
    "x = np.arange(0, 5, 1)\n",
    "\n",
    "sites = ('stop 0', 'stop 1', 'stop 2', 'stop 3', 'stop 4')\n",
    "\n",
    "total_grains = (58, 70, 83, 98, 103)\n",
    "\n",
    "ig = np.array([43, 45, 53, 59, 48])\n",
    "\n",
    "qtz = np.array([13, 24, 25, 30, 23])\n",
    "\n",
    "mtm = np.array([2, 2, 3, 6, 13])\n",
    "\n",
    "sed = np.array([0, 0, 2, 3, 19])"
   ]
  },
  {
   "cell_type": "code",
   "execution_count": 37,
   "metadata": {},
   "outputs": [
    {
     "data": {
      "image/png": "[encoded data removed]",
      "text/plain": [
       "<Figure size 432x288 with 1 Axes>"
      ]
     },
     "metadata": {
      "needs_background": "light"
     },
     "output_type": "display_data"
    }
   ],
   "source": [
    "plt.bar(sites, (ig+qtz+mtm+sed)/total_grains, color = 'red', label = 'igneous')\n",
    "plt.bar(sites, (qtz+mtm+sed)/total_grains, color = 'gray', label = 'quartz')\n",
    "plt.bar(sites, (mtm+sed)/total_grains, color = 'blue', label = 'metamorphic')\n",
    "plt.bar(sites, sed/total_grains, color = 'green', label = 'sedimentary')\n",
    "plt.legend(bbox_to_anchor = (1.4, 1))\n",
    "plt.show()"
   ]
  },
  {
   "cell_type": "code",
   "execution_count": null,
   "metadata": {},
   "outputs": [],
   "source": []
  }
 ],
 "metadata": {
  "kernelspec": {
   "display_name": "Python 3",
   "language": "python",
   "name": "python3"
  },
  "language_info": {
   "codemirror_mode": {
    "name": "ipython",
    "version": 3
   },
   "file_extension": ".py",
   "mimetype": "text/x-python",
   "name": "python",
   "nbconvert_exporter": "python",
   "pygments_lexer": "ipython3",
   "version": "3.7.6"
  }
 },
 "nbformat": 4,
 "nbformat_minor": 4
}
