{
 "cells": [
  {
   "cell_type": "code",
   "execution_count": 14,
   "id": "8b7c6f88",
   "metadata": {},
   "outputs": [],
   "source": [
    "# the purpose of this notebook is to make the figure showcasing how TPL and DTL endmember behavior \n",
    "# can be forced through changing Hstar\n",
    "# these figures may also include cases using model runs with default parameters for comparison"
   ]
  },
  {
   "cell_type": "code",
   "execution_count": 15,
   "id": "c40b788d",
   "metadata": {},
   "outputs": [],
   "source": [
    "# start by importing libraries\n",
    "import numpy as np\n",
    "import matplotlib.pyplot as plt"
   ]
  },
  {
   "cell_type": "code",
   "execution_count": 36,
   "id": "573a2b7a",
   "metadata": {},
   "outputs": [],
   "source": [
    "# now see if I can get a copied and pasted version of the two lithology model working\n",
    "# and then tweak things, OAT, to see what the issue is with loooooong runtimes on this single lith model\n",
    "\n",
    "# SET UP GRID ARRAYS\n",
    "dx = 1000\n",
    "x = np.arange(0, 100000, dx)\n",
    "\n",
    "# set up runoff rate\n",
    "r = np.zeros(len(x))\n",
    "r[:] = 0.3\n",
    "\n",
    "# set up references to topography\n",
    "Hstar = 0.1\n",
    "H = Hstar + np.zeros(len(x))\n",
    "etab = -H\n",
    "eta = etab + H\n",
    "\n",
    "# abrasion coefficients from Attal and Lave 2006 in % per km\n",
    "beta_ig = np.zeros(len(x))\n",
    "beta_ig[:25] = 0.00004\n",
    "beta_sed = np.zeros(len(x))\n",
    "beta_sed[25:] = 0.00014\n",
    "atr_factor = 0.00004\n",
    "\n",
    "# erodibility values\n",
    "k_ig = np.zeros(len(x))\n",
    "k_ig[:25] = 0.0001\n",
    "k_sed = np.zeros(len(x))\n",
    "k_sed[25:] = 0.001"
   ]
  },
  {
   "cell_type": "code",
   "execution_count": 37,
   "id": "a931ec0f",
   "metadata": {},
   "outputs": [],
   "source": [
    "# write a function that has two bedrock lithologies in the domain, but only one contributing sediment to bedload\n",
    "def two_lith_one_sed(x,\n",
    "                     dx,\n",
    "                     Hstar,\n",
    "                     H,\n",
    "                     etab,\n",
    "                     eta,\n",
    "                     beta_ig,\n",
    "                     beta_sed,\n",
    "                     atr_factor,\n",
    "                     k_ig,\n",
    "                     k_sed,\n",
    "                     r,\n",
    "                     c = 1,\n",
    "                     baselevel_rate = 0.001,\n",
    "                     num_steps = 100, \n",
    "                     porosity = 0.55):\n",
    "    \n",
    "    H[-1] = 0.0\n",
    "    bedrock_ero = np.zeros(len(x))  # bedrock erosion rate\n",
    "    sedimentation_rate = np.zeros(len(x))\n",
    "    total_ero = np.zeros(len(x))\n",
    "    total_ero[-1] = baselevel_rate\n",
    "    q = r * x  # discharge = distance downstream (first node is left edge of 0th cell)\n",
    "    qs = np.zeros(len(x))  # first node is left edge of 0th cell\n",
    "    dt_global = 0.05 * 0.2 * dx * dx / (c*q[-1])  # \"global\" time-step size\n",
    "    run_duration = dt_global * num_steps  # <== here's how long we want to run\n",
    "    cum_time = 0.0  # <== keep track of elapsed time\n",
    "\n",
    "    #for i in range(num_steps):\n",
    "    while cum_time < run_duration:  # <== use a while loop because dt varies by iteration\n",
    "        \n",
    "\n",
    "        # first calculate rates\n",
    "        \n",
    "        #  calc slope\n",
    "        S = -np.diff(eta)/dx\n",
    "        \n",
    "        #  calculate e factor\n",
    "        efac = np.exp(- H / Hstar)\n",
    "        \n",
    "        #  calculate total bedload sed flux and set boundary condition\n",
    "        qs[1:] = c * q[1:] * S * (1.0 - efac[:-1])\n",
    "        qs[0] = 0\n",
    "        \n",
    "        #  calc bedrock erosion from stream power (plucking)\n",
    "        ero_plucking_ig = efac[:-1] * (k_ig[1:] * q[1:] * S)\n",
    "        ero_plucking_sed = efac[:-1] * (k_sed[1:] * q[1:] * S)\n",
    "        \n",
    "        #  calc bedrock erosion from abrasion\n",
    "        ero_ab_ig = efac[:-1] * (beta_ig[:-1] * qs[1:])   # <== change indexing: qs[1] represents node 0\n",
    "        ero_ab_sed = efac[:-1] * (beta_sed[:-1] * qs[1:])\n",
    "        \n",
    "        #  calc bedrock erosion rate from stream power and abrasion\n",
    "        bedrock_ero[:-1] = ero_plucking_ig + ero_plucking_sed + ero_ab_ig + ero_ab_sed\n",
    "        \n",
    "        #  calc grain attrition rate\n",
    "        atr = atr_factor * qs[1:]\n",
    "        \n",
    "        #  calc rate of change in alluvial thickness\n",
    "        sedimentation_rate[:-1] = -((1 / porosity) * ((np.diff(qs)/dx) + atr - ero_plucking_ig))\n",
    "        \n",
    "        \n",
    "        # Calculate maximum allowable time-step size\n",
    "        \n",
    "        #  track total erosion rate\n",
    "        total_ero[:-1] = bedrock_ero[:-1] - sedimentation_rate[:-1]  # <== erosion is MINUS sed rate\n",
    "        \n",
    "        #  set adaptive timestep\n",
    "        #  first check time to flat surface\n",
    "        elev_diff = np.diff(eta)/dx\n",
    "        ero_diff = np.diff(total_ero)/dx\n",
    "        #valid_places = np.where(ero_diff < 0)\n",
    "        valid_places = np.where(ero_diff < 0)[0]  # <== we just want the array, not the full tuple from where()\n",
    "        if len(valid_places) > 0:  # <== in case there ARE no locations...\n",
    "            times_to_flat = np.abs(elev_diff[valid_places]/ero_diff[valid_places])\n",
    "        else:\n",
    "            times_to_flat = np.array([dt_global])  # <== ...we just revert to the global dt\n",
    "        min_time_to_flat = np.amin(times_to_flat)\n",
    "\n",
    "        #  then check time to deplete all sediment\n",
    "        #sed_depletion_locations = np.where(sedimentation_rate < 0)\n",
    "        sed_depletion_locations = np.where(sedimentation_rate < 0)[0]  # <== we just want the array, not the full tuple from where()\n",
    "        if len(sed_depletion_locations) > 0:  # <== in case there ARE no locations...\n",
    "            times_to_no_sed = np.abs(H[sed_depletion_locations]/sedimentation_rate[sed_depletion_locations])\n",
    "        else:\n",
    "            times_to_no_sed = np.array([dt_global])  # <== ...we just revert to the global dt\n",
    "        min_time_to_no_sed = np.amin(times_to_no_sed)\n",
    "\n",
    "        #  check for smaller condition\n",
    "        dt = min(min_time_to_flat, min_time_to_no_sed)\n",
    "\n",
    "        #  if larger than global step size, limit to global\n",
    "        dt = min(dt, dt_global)\n",
    "        \n",
    "        \n",
    "        # Update quantities\n",
    "        \n",
    "        #  lower baselevel\n",
    "        eta[-1] -= baselevel_rate * dt \n",
    "        \n",
    "        #  set boundary conditions\n",
    "        etab[-1] = eta[-1]\n",
    "        \n",
    "        #  calc change in bedrock elev\n",
    "        etab[:-1] -= bedrock_ero[:-1] * dt\n",
    "        \n",
    "        #  update sediment thickness\n",
    "        H[:-1] += sedimentation_rate[:-1] * dt\n",
    "        H[H < 0] = 0\n",
    "\n",
    "        #  update elev\n",
    "        eta[:-1] = etab[:-1] + H[:-1]\n",
    "        \n",
    "        # Advance time\n",
    "        cum_time += dt\n",
    "        \n",
    "        if any(total_ero[:] != baselevel_rate):\n",
    "            continue\n",
    "        else:\n",
    "            break\n",
    "            \n",
    "    print(cum_time)\n",
    "        \n",
    "    return (S, qs, efac, eta, etab, ero_plucking_ig, ero_plucking_sed, ero_ab_ig, ero_ab_sed, bedrock_ero, atr, \n",
    "            sedimentation_rate, H, total_ero, cum_time)"
   ]
  },
  {
   "cell_type": "code",
   "execution_count": 38,
   "id": "c195e312",
   "metadata": {},
   "outputs": [
    {
     "name": "stdout",
     "output_type": "stream",
     "text": [
      "34.006734006733986\n"
     ]
    }
   ],
   "source": [
    "# create the input experiment\n",
    "default = [x, dx, Hstar, H, etab, eta, beta_ig, beta_sed, atr_factor, k_ig, k_sed, r]\n",
    "\n",
    "# and run away with it!\n",
    "(slope_default,\n",
    " sed_flux_default,\n",
    " alpha_default,\n",
    " topo_default,\n",
    " bedrock_elev_default,\n",
    " ig_plucking_rate_default,\n",
    " sed_plucking_rate_default,\n",
    " ig_abrasion_rate_default,\n",
    " sed_abrasion_rate_default,\n",
    " bedrock_erosion_rate_default,\n",
    " attrition_rate_default,\n",
    " sedimentation_rate_default,\n",
    " sediment_thickness_default,\n",
    " total_erosion_rate_default,\n",
    " cum_time_default) = two_lith_one_sed(*default)"
   ]
  },
  {
   "cell_type": "code",
   "execution_count": 39,
   "id": "39289ff7",
   "metadata": {},
   "outputs": [
    {
     "name": "stdout",
     "output_type": "stream",
     "text": [
      "[-0.00000000e+00 -0.00000000e+00 -0.00000000e+00 -0.00000000e+00\n",
      " -0.00000000e+00 -0.00000000e+00 -0.00000000e+00 -0.00000000e+00\n",
      " -0.00000000e+00 -0.00000000e+00 -0.00000000e+00 -0.00000000e+00\n",
      " -0.00000000e+00 -0.00000000e+00 -0.00000000e+00 -0.00000000e+00\n",
      " -0.00000000e+00 -0.00000000e+00 -0.00000000e+00 -0.00000000e+00\n",
      " -0.00000000e+00 -0.00000000e+00 -0.00000000e+00 -0.00000000e+00\n",
      " -0.00000000e+00 -0.00000000e+00 -0.00000000e+00 -0.00000000e+00\n",
      " -0.00000000e+00 -0.00000000e+00 -0.00000000e+00 -0.00000000e+00\n",
      " -0.00000000e+00 -0.00000000e+00 -0.00000000e+00 -0.00000000e+00\n",
      " -0.00000000e+00 -0.00000000e+00 -0.00000000e+00 -0.00000000e+00\n",
      " -0.00000000e+00 -0.00000000e+00 -0.00000000e+00 -0.00000000e+00\n",
      " -0.00000000e+00 -0.00000000e+00 -0.00000000e+00 -0.00000000e+00\n",
      " -0.00000000e+00 -0.00000000e+00 -0.00000000e+00 -0.00000000e+00\n",
      " -0.00000000e+00 -0.00000000e+00 -0.00000000e+00 -0.00000000e+00\n",
      " -0.00000000e+00 -0.00000000e+00 -0.00000000e+00 -0.00000000e+00\n",
      " -0.00000000e+00 -0.00000000e+00 -0.00000000e+00 -0.00000000e+00\n",
      " -0.00000000e+00 -0.00000000e+00 -0.00000000e+00 -0.00000000e+00\n",
      " -0.00000000e+00 -0.00000000e+00 -0.00000000e+00 -0.00000000e+00\n",
      " -0.00000000e+00 -0.00000000e+00 -0.00000000e+00 -0.00000000e+00\n",
      " -0.00000000e+00 -0.00000000e+00 -0.00000000e+00 -0.00000000e+00\n",
      " -0.00000000e+00  6.83530755e-19  1.66047959e-17  2.46191107e-16\n",
      "  3.37150711e-15  4.23187761e-14  4.85961118e-13  5.08407151e-12\n",
      "  4.82318095e-11  4.12704663e-10  3.16547068e-09  2.16074342e-08\n",
      "  1.30162074e-07  6.85212830e-07  3.11705614e-06  1.21058068e-05\n",
      "  3.97172277e-05  1.09673331e-04  2.57358056e-04  0.00000000e+00]\n"
     ]
    }
   ],
   "source": [
    "# okay, that worked!\n",
    "# check to see if we're at steady state\n",
    "print(bedrock_erosion_rate_default)"
   ]
  },
  {
   "cell_type": "code",
   "execution_count": 40,
   "id": "f53c554b",
   "metadata": {},
   "outputs": [],
   "source": [
    "Hstar_TPL = 0.01\n",
    "Hstar_DTL = 5"
   ]
  },
  {
   "cell_type": "code",
   "execution_count": 41,
   "id": "eb4eb5ee",
   "metadata": {},
   "outputs": [],
   "source": [
    "# SET UP GRID ARRAYS\n",
    "dx_2 = 1000\n",
    "x_2 = np.arange(0, 100000, dx_2)\n",
    "\n",
    "# set up runoff rate\n",
    "r_2 = np.zeros(len(x_2))\n",
    "r_2[:] = 0.3\n",
    "\n",
    "# set up references to topography\n",
    "# Hstar_2 = Hstar_TPL\n",
    "H_2 = Hstar + np.zeros(len(x_2))\n",
    "etab_2 = -H_2\n",
    "eta_2 = etab_2 + H_2\n",
    "\n",
    "# abrasion coefficients from Attal and Lave 2006 in % per km\n",
    "beta_ig_2 = np.zeros(len(x_2))\n",
    "beta_ig_2[:25] = 0.00004\n",
    "beta_sed_2 = np.zeros(len(x_2))\n",
    "beta_sed_2[25:] = 0.00014\n",
    "# atr_factor\n",
    "\n",
    "# erodibility values\n",
    "k_ig_2 = np.zeros(len(x_2))\n",
    "k_ig_2[:25] = 0.0001\n",
    "k_sed_2 = np.zeros(len(x_2))\n",
    "k_sed_2[25:] = 0.001"
   ]
  },
  {
   "cell_type": "code",
   "execution_count": 42,
   "id": "fbacabb0",
   "metadata": {},
   "outputs": [
    {
     "name": "stdout",
     "output_type": "stream",
     "text": [
      "34.006734006733986\n"
     ]
    }
   ],
   "source": [
    "# create the input experiment\n",
    "TPL = [x_2, dx_2, Hstar_TPL, H_2, etab_2, eta_2, beta_ig_2, beta_sed_2, atr_factor, k_ig_2, k_sed_2, r_2]\n",
    "\n",
    "# and run away with it!\n",
    "(slope_TPL,\n",
    " sed_flux_TPL,\n",
    " alpha_TPL,\n",
    " topo_TPL,\n",
    " bedrock_elev_TPL,\n",
    " ig_plucking_rate_TPL,\n",
    " sed_plucking_rate_TPL,\n",
    " ig_abrasion_rate_TPL,\n",
    " sed_abrasion_rate_TPL,\n",
    " bedrock_erosion_rate_TPL,\n",
    " attrition_rate_TPL,\n",
    " sedimentation_rate_TPL,\n",
    " sediment_thickness_TPL,\n",
    " total_erosion_rate_TPL,\n",
    " cum_time_TPL) = two_lith_one_sed(*TPL)"
   ]
  },
  {
   "cell_type": "code",
   "execution_count": 43,
   "id": "4523b1fc",
   "metadata": {},
   "outputs": [
    {
     "name": "stdout",
     "output_type": "stream",
     "text": [
      "[-0.00000000e+00 -0.00000000e+00 -0.00000000e+00 -0.00000000e+00\n",
      " -0.00000000e+00 -0.00000000e+00 -0.00000000e+00 -0.00000000e+00\n",
      " -0.00000000e+00 -0.00000000e+00 -0.00000000e+00 -0.00000000e+00\n",
      " -0.00000000e+00 -0.00000000e+00 -0.00000000e+00 -0.00000000e+00\n",
      " -0.00000000e+00 -0.00000000e+00 -0.00000000e+00 -0.00000000e+00\n",
      " -0.00000000e+00 -0.00000000e+00 -0.00000000e+00 -0.00000000e+00\n",
      " -0.00000000e+00 -0.00000000e+00 -0.00000000e+00 -0.00000000e+00\n",
      " -0.00000000e+00 -0.00000000e+00 -0.00000000e+00 -0.00000000e+00\n",
      " -0.00000000e+00 -0.00000000e+00 -0.00000000e+00 -0.00000000e+00\n",
      " -0.00000000e+00 -0.00000000e+00 -0.00000000e+00 -0.00000000e+00\n",
      " -0.00000000e+00 -0.00000000e+00 -0.00000000e+00 -0.00000000e+00\n",
      " -0.00000000e+00 -0.00000000e+00 -0.00000000e+00 -0.00000000e+00\n",
      " -0.00000000e+00 -0.00000000e+00 -0.00000000e+00 -0.00000000e+00\n",
      " -0.00000000e+00 -0.00000000e+00 -0.00000000e+00 -0.00000000e+00\n",
      " -0.00000000e+00 -0.00000000e+00 -0.00000000e+00 -0.00000000e+00\n",
      " -0.00000000e+00 -0.00000000e+00 -0.00000000e+00 -0.00000000e+00\n",
      " -0.00000000e+00 -0.00000000e+00 -0.00000000e+00 -0.00000000e+00\n",
      " -0.00000000e+00 -0.00000000e+00 -0.00000000e+00 -0.00000000e+00\n",
      " -0.00000000e+00 -0.00000000e+00 -0.00000000e+00 -0.00000000e+00\n",
      " -0.00000000e+00 -0.00000000e+00 -0.00000000e+00 -0.00000000e+00\n",
      "  8.72678209e-23  1.25450186e-21  1.72943273e-20  2.16584510e-19\n",
      "  2.49540933e-18  2.64412120e-17  2.56759884e-16  2.27663458e-15\n",
      "  1.83562504e-14  1.33959389e-13  8.80184820e-13  5.17628643e-12\n",
      "  2.70707734e-11  1.25110617e-10  5.09418329e-10  1.84624209e-09\n",
      "  6.26172689e-09  2.29380863e-08  1.23551105e-07  0.00000000e+00]\n"
     ]
    }
   ],
   "source": [
    "# check for ss position\n",
    "print(bedrock_erosion_rate_TPL)"
   ]
  },
  {
   "cell_type": "code",
   "execution_count": 44,
   "id": "867925c3",
   "metadata": {},
   "outputs": [
    {
     "data": {
      "text/plain": [
       "array([-0.36783404, -0.36783404, -0.36783404, -0.36783404, -0.36783404,\n",
       "       -0.36783404, -0.36783404, -0.36783404, -0.36783404, -0.36783404,\n",
       "       -0.36783404, -0.36783404, -0.36783404, -0.36783404, -0.36783404,\n",
       "       -0.36783404, -0.36783404, -0.36783404, -0.36783404, -0.36783404,\n",
       "       -0.36783404, -0.36783404, -0.36783404, -0.36783404, -0.36783404,\n",
       "       -0.36783404, -0.36783404, -0.36783404, -0.36783404, -0.36783404,\n",
       "       -0.36783404, -0.36783404, -0.36783404, -0.36783404, -0.36783404,\n",
       "       -0.36783404, -0.36783404, -0.36783404, -0.36783404, -0.36783404,\n",
       "       -0.36783404, -0.36783404, -0.36783404, -0.36783404, -0.36783404,\n",
       "       -0.36783404, -0.36783404, -0.36783404, -0.36783404, -0.36783404,\n",
       "       -0.36783404, -0.36783404, -0.36783404, -0.36783404, -0.36783404,\n",
       "       -0.36783404, -0.36783404, -0.36783404, -0.36783404, -0.36783404,\n",
       "       -0.36783404, -0.36783404, -0.36783404, -0.36783404, -0.36783404,\n",
       "       -0.36783404, -0.36783404, -0.36783404, -0.36783404, -0.36783404,\n",
       "       -0.36783404, -0.36783404, -0.36783404, -0.36783404, -0.36783404,\n",
       "       -0.36783404, -0.36783404, -0.36783404, -0.36783404, -0.36783404,\n",
       "       -0.36783404, -0.36783404, -0.36783404, -0.36783404, -0.36783404,\n",
       "       -0.36783404, -0.36783404, -0.36783404, -0.36783404, -0.36783405,\n",
       "       -0.36783416, -0.36783493, -0.3678401 , -0.36787075, -0.36802918,\n",
       "       -0.36873531, -0.37141403, -0.37994914, -0.40248824,  0.        ])"
      ]
     },
     "execution_count": 44,
     "metadata": {},
     "output_type": "execute_result"
    }
   ],
   "source": [
    "aplha_TPL-alpha_default"
   ]
  },
  {
   "cell_type": "code",
   "execution_count": 45,
   "id": "71316697",
   "metadata": {},
   "outputs": [
    {
     "data": {
      "text/plain": [
       "[<matplotlib.lines.Line2D at 0x7fa8bea96810>]"
      ]
     },
     "execution_count": 45,
     "metadata": {},
     "output_type": "execute_result"
    },
    {
     "data": {
      "image/png": "[encoded data removed]",
      "text/plain": [
       "<Figure size 432x288 with 1 Axes>"
      ]
     },
     "metadata": {
      "needs_background": "light"
     },
     "output_type": "display_data"
    }
   ],
   "source": [
    "plt.plot(x, alpha_default)\n",
    "plt.plot(x_2, alpha_TPL)"
   ]
  },
  {
   "cell_type": "code",
   "execution_count": null,
   "id": "fbd4d2b8",
   "metadata": {},
   "outputs": [],
   "source": [
    "# SET UP GRID ARRAYS\n",
    "dx_3 = 1000\n",
    "x_3 = np.arange(0, 100000, dx_3)\n",
    "\n",
    "# set up runoff rate\n",
    "r_3 = np.zeros(len(x_3))\n",
    "r_3[:] = 0.3\n",
    "\n",
    "# set up references to topography\n",
    "# Hstar_3 = Hstar_DTL\n",
    "H_3 = Hstar + np.zeros(len(x_3))\n",
    "etab_3 = -H_3\n",
    "eta_3 = etab_3 + H_3\n",
    "\n",
    "# abrasion coefficients from Attal and Lave 2006 in % per km\n",
    "beta_ig_3 = np.zeros(len(x_3))\n",
    "beta_ig_3[:25] = 0.00004\n",
    "beta_sed_3 = np.zeros(len(x_3))\n",
    "beta_sed_3[25:] = 0.00014\n",
    "# atr_factor\n",
    "\n",
    "# erodibility values\n",
    "k_ig_3 = np.zeros(len(x_3))\n",
    "k_ig_3[:25] = 0.0001\n",
    "k_sed_3 = np.zeros(len(x_3))\n",
    "k_sed_3[25:] = 0.001"
   ]
  },
  {
   "cell_type": "code",
   "execution_count": null,
   "id": "7c081f9d",
   "metadata": {},
   "outputs": [],
   "source": [
    "# create the input experiment\n",
    "DTL = [x_3, dx_3, Hstar_DTL, H_3, etab_3, eta_3, beta_ig_3, beta_sed_3, atr_factor, k_ig_3, k_sed_3, r_3]\n",
    "\n",
    "# and run away with it!\n",
    "(slope_DTL,\n",
    " sed_flux_DTL,\n",
    " alpha_DTL,\n",
    " topo_DTL,\n",
    " bedrock_elev_DTL,\n",
    " ig_plucking_rate_DTL,\n",
    " sed_plucking_rate_DTL,\n",
    " ig_abrasion_rate_DTL,\n",
    " sed_abrasion_rate_DTL,\n",
    " bedrock_erosion_rate_DTL,\n",
    " attrition_rate_DTL,\n",
    " sedimentation_rate_DTL,\n",
    " sediment_thickness_DTL,\n",
    " total_erosion_rate_DTL,\n",
    " cum_time_DTL) = two_lith_one_sed(*DTL)"
   ]
  },
  {
   "cell_type": "code",
   "execution_count": null,
   "id": "5d206f61",
   "metadata": {},
   "outputs": [],
   "source": [
    "# check for ss condition\n",
    "print(bedrock_erosion_rate_DTL)"
   ]
  },
  {
   "cell_type": "code",
   "execution_count": null,
   "id": "07e37ab8",
   "metadata": {},
   "outputs": [],
   "source": [
    "# now make the first function: pure stream power\n",
    "# take out adaptive timstep stuff, only add it back in if it seems necessary\n",
    "\n",
    "def stream_power(x,\n",
    "                 dx,\n",
    "                 eta,\n",
    "                 k,\n",
    "                 r,\n",
    "                 c = 1, # should be 0.041, from W & S '19 (assuming constant geomorphically effective flow)\n",
    "                 baselevel_rate = 0.001, # uplifting 1 mm/yr\n",
    "                 num_steps = 100000, \n",
    "                 porosity = 0.55):\n",
    "    \n",
    "    bedrock_ero = np.zeros(len(x))  # bedrock erosion rate\n",
    "    bedrock_ero[-1] = baselevel_rate\n",
    "    q = r * x  # discharge = distance downstream (first node is left edge of 0th cell)\n",
    "    dt = 0.2 * dx * dx / (c*q[-1])  # \"global\" time-step size # mult by 0.2\n",
    "    \n",
    "    for i in range(num_steps):\n",
    "\n",
    "        # first calculate rates\n",
    "        \n",
    "        #  calc slope\n",
    "        S = -np.diff(eta)/dx\n",
    "        \n",
    "        #  calc bedrock erosion rate from stream power (plucking)\n",
    "        bedrock_ero[:-1] = k[1:] * q[1:] * S\n",
    "        \n",
    "        #  lower baselevel\n",
    "        eta[-1] -= baselevel_rate * dt \n",
    "        \n",
    "        #  calc change in bedrock elev\n",
    "        eta[:-1] -= bedrock_ero[:-1] * dt\n",
    "        \n",
    "        if any(bedrock_ero[:] != baselevel_rate):\n",
    "            continue\n",
    "        else:\n",
    "            break\n",
    "            \n",
    "        \n",
    "    return (q, S, bedrock_ero, eta, i)"
   ]
  },
  {
   "cell_type": "code",
   "execution_count": null,
   "id": "712889d3",
   "metadata": {},
   "outputs": [],
   "source": [
    "# set up basic stuff\n",
    "\n",
    "# grid\n",
    "dx_sp = 1000\n",
    "x_sp = np.arange(0, 100000, dx_sp)\n",
    "\n",
    "# elevation\n",
    "eta_sp = np.zeros(len(x_sp))\n",
    "\n",
    "# set reasonable runoff rate in m/yr, see Rossi et al 2016 supplemental\n",
    "r_sp = np.zeros(len(x_sp))\n",
    "r_sp[:] = 0.3\n",
    "\n",
    "# erodibility has both hard and soft rocks\n",
    "k_sp = np.zeros(len(x_sp))\n",
    "k_sp[:25] = 0.0001\n",
    "k_sp[25:] = 0.001"
   ]
  },
  {
   "cell_type": "code",
   "execution_count": null,
   "id": "a44d2548",
   "metadata": {},
   "outputs": [],
   "source": [
    "# now create an input experiment\n",
    "SP = [x_sp, dx_sp, eta_sp, k_sp, r_sp]\n",
    "\n",
    "# run experiment and catch outputs!\n",
    "(discharge_SP,\n",
    " slope_SP,\n",
    " bedrock_erosion_rate_SP,\n",
    " topography_SP,\n",
    " i_SP) = stream_power(*SP)"
   ]
  },
  {
   "cell_type": "code",
   "execution_count": null,
   "id": "7262f178",
   "metadata": {},
   "outputs": [],
   "source": [
    "# check for ss condition\n",
    "print(bedrock_erosion_rate_SP)"
   ]
  },
  {
   "cell_type": "code",
   "execution_count": null,
   "id": "3a254e4d",
   "metadata": {},
   "outputs": [],
   "source": [
    "kh = 0.3\n",
    "area = kh * x**2"
   ]
  },
  {
   "cell_type": "code",
   "execution_count": null,
   "id": "108b000c",
   "metadata": {},
   "outputs": [],
   "source": [
    "m_def, b_def = np.polyfit(np.log(area[1:]), np.log(slope_default), 1)\n",
    "m_def_up, b_def_up = np.polyfit(np.log(area[1:25]), np.log(slope_default[:24]), 1)\n",
    "m_def_down, b_def_down = np.polyfit(np.log(area[25:]), np.log(slope_default[24:]), 1)\n",
    "\n",
    "slope_fit_def = np.exp((m_def * np.log(area[1:])) + b_def)\n",
    "slope_fit_up_def = np.exp((m_def_up * np.log(area[1:25])) + b_def_up)\n",
    "slope_fit_down_def = np.exp((m_def_down * np.log(area[25:])) + b_def_down)"
   ]
  },
  {
   "cell_type": "code",
   "execution_count": null,
   "id": "f0e01b61",
   "metadata": {},
   "outputs": [],
   "source": [
    "m_tpl, b_tpl = np.polyfit(np.log(area[1:]), np.log(slope_TPL), 1)\n",
    "m_tpl_up, b_tpl_up = np.polyfit(np.log(area[1:25]), np.log(slope_TPL[:24]), 1)\n",
    "m_tpl_down, b_tpl_down = np.polyfit(np.log(area[25:]), np.log(slope_TPL[24:]), 1)\n",
    "\n",
    "slope_fit_tpl = np.exp((m_tpl * np.log(area[1:])) + b_tpl)\n",
    "slope_fit_up_tpl = np.exp((m_tpl_up * np.log(area[1:25])) + b_tpl_up)\n",
    "slope_fit_down_tpl = np.exp((m_tpl_down * np.log(area[25:])) + b_tpl_down)"
   ]
  },
  {
   "cell_type": "code",
   "execution_count": null,
   "id": "e0fe20cf",
   "metadata": {},
   "outputs": [],
   "source": [
    "m_dtl, b_dtl = np.polyfit(np.log(area[1:]), np.log(slope_DTL), 1)\n",
    "m_dtl_up, b_dtl_up = np.polyfit(np.log(area[1:25]), np.log(slope_DTL[:24]), 1)\n",
    "m_dtl_down, b_dtl_down = np.polyfit(np.log(area[25:]), np.log(slope_DTL[24:]), 1)\n",
    "\n",
    "slope_fit_dtl = np.exp((m_dtl * np.log(area[1:])) + b_dtl)\n",
    "slope_fit_up_dtl = np.exp((m_dtl_up * np.log(area[1:25])) + b_dtl_up)\n",
    "slope_fit_down_dtl = np.exp((m_dtl_down * np.log(area[25:])) + b_dtl_down)"
   ]
  },
  {
   "cell_type": "code",
   "execution_count": null,
   "id": "50a318c5",
   "metadata": {},
   "outputs": [],
   "source": [
    "m_sp, b_sp = np.polyfit(np.log(area[1:]), np.log(slope_SP), 1)\n",
    "m_sp_up, b_sp_up = np.polyfit(np.log(area[1:25]), np.log(slope_SP[:24]), 1)\n",
    "m_sp_down, b_sp_down = np.polyfit(np.log(area[25:]), np.log(slope_SP[24:]), 1)\n",
    "\n",
    "slope_fit_sp = np.exp((m_sp * np.log(area[1:])) + b_sp)\n",
    "slope_fit_up_sp = np.exp((m_sp_up * np.log(area[1:25])) + b_sp_up)\n",
    "slope_fit_down_sp = np.exp((m_sp_down * np.log(area[25:])) + b_sp_down)"
   ]
  },
  {
   "cell_type": "code",
   "execution_count": null,
   "id": "3faca7f5",
   "metadata": {},
   "outputs": [],
   "source": [
    "print(topo_default[-1])\n",
    "print(topo_TPL[-1])\n",
    "print(topo_DTL[-1])\n",
    "print(topography_SP[-1])"
   ]
  },
  {
   "cell_type": "code",
   "execution_count": null,
   "id": "f959708d",
   "metadata": {},
   "outputs": [],
   "source": [
    "adjustment = topography_SP[-1] - topo_default[-1]\n",
    "fin_adj = adjustment - topo_TPL[-1]"
   ]
  },
  {
   "cell_type": "code",
   "execution_count": null,
   "id": "de2b0758",
   "metadata": {},
   "outputs": [],
   "source": [
    "print(adjustment)"
   ]
  },
  {
   "cell_type": "code",
   "execution_count": null,
   "id": "1a02ef4b",
   "metadata": {},
   "outputs": [],
   "source": [
    "pos_adj = (topo_default[-1] + adjustment)\n",
    "print(topo_TPL[-1] + adjustment)\n",
    "print(topo_DTL[-1] + adjustment)\n",
    "print(topography_SP[-1])"
   ]
  },
  {
   "cell_type": "code",
   "execution_count": null,
   "id": "65d822e4",
   "metadata": {},
   "outputs": [],
   "source": [
    "norm = topo_TPL[0] + adjustment - pos_adj\n",
    "print(norm)"
   ]
  },
  {
   "cell_type": "code",
   "execution_count": null,
   "id": "84444816",
   "metadata": {},
   "outputs": [],
   "source": [
    "# great, now see about making a figure that shows how TPL behavior is reached with this value\n",
    "\n",
    "fig, axs = plt.subplots(3, figsize = (10, 12))\n",
    "fig.suptitle('Steady state, transport-limited behavior due to low attrition rate', fontsize = 16, y = 0.95)\n",
    "fig.subplots_adjust(hspace=0.5)\n",
    "\n",
    "axs[0].plot(x/1000, (topo_default + adjustment - pos_adj)/norm, color = 'k', label = 'Default', linewidth = 3)\n",
    "axs[0].plot(x_2/1000, (topo_TPL + adjustment - pos_adj)/norm, color = 'mediumseagreen', label = 'Transport limited', linewidth= 3)\n",
    "axs[0].plot(x_3/1000, (topo_DTL + adjustment - pos_adj)/norm, color = 'teal', label = 'Detachment limited', linewidth = 3)\n",
    "axs[0].plot(x_sp/1000, (topography_SP - pos_adj)/norm, color = 'gray', label = 'Stream power model', linewidth = 3, linestyle = '--')\n",
    "axs[0].set_ylabel('Normalized elevation', fontsize = 12)\n",
    "axs[0].set_xlabel('Distance (km)', fontsize = 12)\n",
    "axs[0].legend(fontsize = 12)\n",
    "axs[0].set_title('Topography', fontsize = 14)\n",
    "\n",
    "axs[1].plot(x/1000, sed_flux_default, color = 'k', linewidth = 3)\n",
    "axs[1].plot(x_2/1000, sed_flux_TPL, color = 'mediumseagreen', linewidth = 3)\n",
    "axs[1].plot(x_3/1000, sed_flux_DTL, color = 'teal', linewidth =3)\n",
    "axs[1].set_ylabel('Unit sediment flux ($m^2/yr$)', fontsize = 12)\n",
    "axs[1].set_xlabel('Distance (km)', fontsize = 12)\n",
    "axs[1].set_title('Sediment flux', fontsize = 14)\n",
    "\n",
    "axs[2].loglog(area[1:25], slope_default[:24], color = 'k', linewidth = 3)\n",
    "axs[2].loglog(area[25:], slope_default[24:], color = 'k', linewidth = 3)\n",
    "axs[2].loglog(area[1:25], slope_fit_up_def, color = 'k', linestyle = ':', linewidth = 3)\n",
    "axs[2].loglog(area[25:], slope_fit_down_def, color = 'k', linestyle = ':', linewidth = 3)\n",
    "\n",
    "axs[2].loglog(area[1:25], slope_TPL[:24], color = 'mediumseagreen', linewidth = 3)\n",
    "axs[2].loglog(area[25:], slope_TPL[24:], color = 'mediumseagreen', linewidth = 3)\n",
    "axs[2].loglog(area[1:25], slope_fit_up_tpl, color = 'mediumseagreen', linestyle = ':', linewidth = 3)\n",
    "axs[2].loglog(area[25:], slope_fit_down_tpl, color = 'mediumseagreen', linestyle = ':', linewidth = 3)\n",
    "\n",
    "axs[2].loglog(area[1:25], slope_DTL[:24], color = 'teal', linewidth = 3)\n",
    "axs[2].loglog(area[25:], slope_DTL[24:], color = 'teal', linewidth = 3)\n",
    "axs[2].loglog(area[1:25], slope_fit_up_dtl, color = 'teal', linestyle = ':', linewidth = 3)\n",
    "axs[2].loglog(area[25:], slope_fit_down_dtl, color = 'teal', linestyle = ':', linewidth = 3)\n",
    "\n",
    "axs[2].loglog(area[1:25], slope_SP[:24], color = 'gray', linewidth = 3, linestyle = '--')\n",
    "axs[2].loglog(area[25:], slope_SP[24:], color = 'gray', linewidth = 3, linestyle = '--')\n",
    "axs[2].loglog(area[1:25], slope_fit_up_sp, color = 'gray', linestyle = ':', linewidth = 3)\n",
    "axs[2].loglog(area[25:], slope_fit_down_sp, color = 'gray', linestyle = ':', linewidth = 3)\n",
    "\n",
    "axs[2].set_ylabel('Slope', fontsize = 12)\n",
    "axs[2].set_xlabel('Area ($m^2$)', fontsize = 12)\n",
    "axs[2].set_title('Slope-area relationship', fontsize = 14)\n",
    "\n",
    "#plt.savefig('/Users/vanessa/Desktop/summer 2022/fig6.png')\n",
    "plt.show()"
   ]
  },
  {
   "cell_type": "code",
   "execution_count": null,
   "id": "7fba64ae",
   "metadata": {},
   "outputs": [],
   "source": [
    "plt.plot(x[1:], (ig_plucking_rate_default + sed_plucking_rate_default)/bedrock_erosion_rate_default[1:])\n",
    "plt.plot(x[1:], (ig_abrasion_rate_default + sed_abrasion_rate_default)/bedrock_erosion_rate_default[1:])\n",
    "\n",
    "plt.plot(x[1:], (ig_plucking_rate_TPL + sed_plucking_rate_TPL)/bedrock_erosion_rate_TPL[1:])\n",
    "plt.plot(x[1:], (ig_abrasion_rate_TPL + sed_abrasion_rate_TPL)/bedrock_erosion_rate_TPL[1:])\n",
    "\n",
    "plt.plot(x[1:], (ig_plucking_rate_DTL + sed_plucking_rate_DTL)/bedrock_erosion_rate_DTL[1:])\n",
    "plt.plot(x[1:], (ig_abrasion_rate_DTL + sed_abrasion_rate_DTL)/bedrock_erosion_rate_DTL[1:])"
   ]
  },
  {
   "cell_type": "code",
   "execution_count": null,
   "id": "a4e92311",
   "metadata": {},
   "outputs": [],
   "source": []
  }
 ],
 "metadata": {
  "kernelspec": {
   "display_name": "Python 3",
   "language": "python",
   "name": "python3"
  },
  "language_info": {
   "codemirror_mode": {
    "name": "ipython",
    "version": 3
   },
   "file_extension": ".py",
   "mimetype": "text/x-python",
   "name": "python",
   "nbconvert_exporter": "python",
   "pygments_lexer": "ipython3",
   "version": "3.7.6"
  }
 },
 "nbformat": 4,
 "nbformat_minor": 5
}
