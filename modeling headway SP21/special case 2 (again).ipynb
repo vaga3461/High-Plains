{
 "cells": [
  {
   "cell_type": "code",
   "execution_count": 39,
   "id": "aff555ee",
   "metadata": {},
   "outputs": [],
   "source": [
    "# this notebook is trying to get a handle on \"numerics\" of SC2\n",
    "# make sure we can reproduce modeled and predicted slopes with very close agreement\n",
    "# and make topo agreement match slope agreement"
   ]
  },
  {
   "cell_type": "code",
   "execution_count": 40,
   "id": "77090b5b",
   "metadata": {},
   "outputs": [],
   "source": [
    "# first import libraries\n",
    "import numpy as np\n",
    "import matplotlib.pyplot as plt"
   ]
  },
  {
   "cell_type": "code",
   "execution_count": 41,
   "id": "92707a94",
   "metadata": {},
   "outputs": [],
   "source": [
    "# set up arrays and parameters\n",
    "\n",
    "dx = 1000 # grid spacing\n",
    "x = np.arange(0, 10000, dx) # domain length\n",
    "x_node = x + dx/2\n",
    "\n",
    "U = 0.001 # uplift rate\n",
    "phi = 0.55 # sediment porosity\n",
    "kqs = 0.041 # sediment discharge coefficient\n",
    "I = 0.01 # intermittency factor\n",
    "r = 10. # runoff rate\n",
    "kxb = 25 # valley width coeffecient (a, above)\n",
    "Pxb = (1/5) # valley width exponent\n",
    "\n",
    "B = kxb * (x_node**Pxb) # valley width   ## TWEAKED\n",
    "Q = (r * kxb * x**(6/5))/(1 + Pxb) # discharge  ## WE TWEAKED THIS\n",
    "\n",
    "# for sc2 specifically\n",
    "z = np.linspace(1, 0, len(x)) # starting elevation profile\n",
    "beta = 0.04 # abrasion factor"
   ]
  },
  {
   "cell_type": "code",
   "execution_count": 42,
   "id": "6577eed9",
   "metadata": {},
   "outputs": [],
   "source": [
    "# calc the slope with the analytical soln\n",
    "\n",
    "predicted_slope = ((U * B[1:] * x[1:] * (1 - phi))/(1 + (beta * x[1:])) * 1/(kqs*I*Q[1:]))**(6/7)\n",
    "# predicted_slope = ((U * B[1:] * x[1:])/(1 + (beta * x[1:])) * 1/(kqs*I*Q[1:]))**(6/7)\n",
    "predicted_topo = -(predicted_slope * x[1:])"
   ]
  },
  {
   "cell_type": "code",
   "execution_count": 43,
   "id": "1bfea0c9",
   "metadata": {},
   "outputs": [],
   "source": [
    "# define a fxn for sc2, dzdt = 0\n",
    "\n",
    "def sc2(dx, x, z, U, phi, kqs, I, r, kxb, Pxb, beta, B, Q, num_steps=3000000):\n",
    "    \n",
    "    # set timestep\n",
    "    dt = (0.5 * dx * dx / (kqs*Q[-1]))\n",
    "    \n",
    "    # create arrays\n",
    "    Qs = np.zeros(len(x))\n",
    "    E = np.zeros(len(x))\n",
    "    dzdt = np.zeros(len(x))\n",
    "    \n",
    "    # set boundary conditions\n",
    "    Qs[0] = 0\n",
    "    #E[-1] = 0\n",
    "    dzdt[-1] = 0\n",
    "\n",
    "    for i in range(num_steps):\n",
    "    \n",
    "        # calculate slope\n",
    "        S = np.abs(np.diff(z)/dx)\n",
    "    \n",
    "        # calculate sediment transport\n",
    "        ##Qs[1:] = kqs * I * Q[1:] * S**(7./6.)\n",
    "        Qs[1:] = kqs * I * Q[1:] * S**(7./6.)\n",
    "    \n",
    "        # erosion\n",
    "        # \"old\" indexing from [:-1]\n",
    "        E[:-1] = (1/((1-phi)*B[:-1])) * ((np.diff(Qs)/dx) + (beta * Qs[1:]))\n",
    "    \n",
    "        # calculate rate of elevation change\n",
    "        # \"old\" indexing of E from [:-1]\n",
    "        dzdt[:-1] = U - E[:-1]\n",
    "    \n",
    "        # update profile\n",
    "        z += dzdt * dt\n",
    "    \n",
    "    return (S, Qs, E, dzdt, z, dt)"
   ]
  },
  {
   "cell_type": "code",
   "execution_count": 44,
   "id": "218669d0",
   "metadata": {},
   "outputs": [],
   "source": [
    "# and design a test\n",
    "\n",
    "sc2_test = [dx, x, z, U, phi, kqs, I, r, kxb, Pxb, beta, B, Q]\n",
    "\n",
    "# and run it\n",
    "S, Qs, E, dzdt, model_z, dt = sc2(*sc2_test)"
   ]
  },
  {
   "cell_type": "code",
   "execution_count": 45,
   "id": "2c6716ca",
   "metadata": {},
   "outputs": [
    {
     "data": {
      "text/plain": [
       "array([0.001, 0.001, 0.001, 0.001, 0.001, 0.001, 0.001, 0.001, 0.001,\n",
       "       0.   ])"
      ]
     },
     "execution_count": 45,
     "metadata": {},
     "output_type": "execute_result"
    }
   ],
   "source": [
    "# check to make sure we're at steady state\n",
    "E"
   ]
  },
  {
   "cell_type": "code",
   "execution_count": 46,
   "id": "d7629292",
   "metadata": {},
   "outputs": [],
   "source": [
    "# now make a line with the same slopes as those output from the model\n",
    "model_topo = -(S * x[1:])"
   ]
  },
  {
   "cell_type": "code",
   "execution_count": 47,
   "id": "6a0847c3",
   "metadata": {},
   "outputs": [
    {
     "data": {
      "text/plain": [
       "[<matplotlib.lines.Line2D at 0x7f8f289ab050>]"
      ]
     },
     "execution_count": 47,
     "metadata": {},
     "output_type": "execute_result"
    },
    {
     "data": {
      "image/png": "[encoded data removed]",
      "text/plain": [
       "<Figure size 432x288 with 1 Axes>"
      ]
     },
     "metadata": {
      "needs_background": "light"
     },
     "output_type": "display_data"
    }
   ],
   "source": [
    "plt.plot(x, model_z)"
   ]
  },
  {
   "cell_type": "code",
   "execution_count": 48,
   "id": "a1c0dc33",
   "metadata": {},
   "outputs": [
    {
     "data": {
      "text/plain": [
       "array([0.00647722, 0.00389734, 0.00281012, 0.00221605, 0.00183978,\n",
       "       0.00157889, 0.00138673, 0.00123891, 0.00112144])"
      ]
     },
     "execution_count": 48,
     "metadata": {},
     "output_type": "execute_result"
    }
   ],
   "source": [
    "S"
   ]
  },
  {
   "cell_type": "code",
   "execution_count": 49,
   "id": "481fcb63",
   "metadata": {},
   "outputs": [
    {
     "data": {
      "text/plain": [
       "array([0.00781953, 0.00422813, 0.00296218, 0.00230454, 0.00189805,\n",
       "       0.00162036, 0.00141783, 0.00126317, 0.00114092])"
      ]
     },
     "execution_count": 49,
     "metadata": {},
     "output_type": "execute_result"
    }
   ],
   "source": [
    "predicted_slope"
   ]
  },
  {
   "cell_type": "code",
   "execution_count": 50,
   "id": "da0361c0",
   "metadata": {},
   "outputs": [
    {
     "data": {
      "text/plain": [
       "<matplotlib.legend.Legend at 0x7f8f28a31f90>"
      ]
     },
     "execution_count": 50,
     "metadata": {},
     "output_type": "execute_result"
    },
    {
     "data": {
      "image/png": "[encoded data removed]",
      "text/plain": [
       "<Figure size 432x288 with 1 Axes>"
      ]
     },
     "metadata": {
      "needs_background": "light"
     },
     "output_type": "display_data"
    }
   ],
   "source": [
    "plt.plot(x[1:], S, label = 'model')\n",
    "plt.plot(x[1:], predicted_slope, label = 'prediction')\n",
    "plt.legend()"
   ]
  },
  {
   "cell_type": "code",
   "execution_count": 51,
   "id": "f1372b27",
   "metadata": {},
   "outputs": [],
   "source": [
    "predicted_topo = -(predicted_slope * x[1:]) # + model_z[0]"
   ]
  },
  {
   "cell_type": "code",
   "execution_count": 52,
   "id": "a37175fc",
   "metadata": {},
   "outputs": [],
   "source": [
    "baselevel_difference = model_z[-1] - predicted_topo[-1]"
   ]
  },
  {
   "cell_type": "code",
   "execution_count": 53,
   "id": "c33655eb",
   "metadata": {},
   "outputs": [
    {
     "data": {
      "text/plain": [
       "<matplotlib.legend.Legend at 0x7f8f28baae50>"
      ]
     },
     "execution_count": 53,
     "metadata": {},
     "output_type": "execute_result"
    },
    {
     "data": {
      "image/png": "[encoded data removed]",
      "text/plain": [
       "<Figure size 432x288 with 1 Axes>"
      ]
     },
     "metadata": {
      "needs_background": "light"
     },
     "output_type": "display_data"
    }
   ],
   "source": [
    "plt.plot(x[1:], model_z[1:], label = 'model')\n",
    "plt.plot(x[1:], predicted_topo + baselevel_difference, label = 'prediction')\n",
    "plt.legend()"
   ]
  },
  {
   "cell_type": "code",
   "execution_count": null,
   "id": "aa0fbc38",
   "metadata": {},
   "outputs": [],
   "source": []
  }
 ],
 "metadata": {
  "kernelspec": {
   "display_name": "Python 3",
   "language": "python",
   "name": "python3"
  },
  "language_info": {
   "codemirror_mode": {
    "name": "ipython",
    "version": 3
   },
   "file_extension": ".py",
   "mimetype": "text/x-python",
   "name": "python",
   "nbconvert_exporter": "python",
   "pygments_lexer": "ipython3",
   "version": "3.7.6"
  }
 },
 "nbformat": 4,
 "nbformat_minor": 5
}
