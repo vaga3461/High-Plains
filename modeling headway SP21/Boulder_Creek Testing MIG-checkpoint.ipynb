{
 "cells": [
  {
   "cell_type": "code",
   "execution_count": 1,
   "metadata": {},
   "outputs": [],
   "source": [
    "import pandas as pd"
   ]
  },
  {
   "cell_type": "raw",
   "metadata": {},
   "source": []
  },
  {
   "cell_type": "code",
   "execution_count": 2,
   "metadata": {},
   "outputs": [],
   "source": [
    "boulder_creek = pd.read_csv(r'C:\\Users\\marki\\Documents\\Boulder Creek MIG.csv')"
   ]
  },
  {
   "cell_type": "code",
   "execution_count": 3,
   "metadata": {},
   "outputs": [
    {
     "data": {
      "text/html": [
       "<div>\n",
       "<style scoped>\n",
       "    .dataframe tbody tr th:only-of-type {\n",
       "        vertical-align: middle;\n",
       "    }\n",
       "\n",
       "    .dataframe tbody tr th {\n",
       "        vertical-align: top;\n",
       "    }\n",
       "\n",
       "    .dataframe thead th {\n",
       "        text-align: right;\n",
       "    }\n",
       "</style>\n",
       "<table border=\"1\" class=\"dataframe\">\n",
       "  <thead>\n",
       "    <tr style=\"text-align: right;\">\n",
       "      <th></th>\n",
       "      <th>Sum of Grain Size Diameter in order (mm)</th>\n",
       "      <th>Sum of Actual Frequency (%)</th>\n",
       "    </tr>\n",
       "  </thead>\n",
       "  <tbody>\n",
       "    <tr>\n",
       "      <th>0</th>\n",
       "      <td>1085</td>\n",
       "      <td>58</td>\n",
       "    </tr>\n",
       "  </tbody>\n",
       "</table>\n",
       "</div>"
      ],
      "text/plain": [
       "   Sum of Grain Size Diameter in order (mm)  Sum of Actual Frequency (%)\n",
       "0                                      1085                           58"
      ]
     },
     "execution_count": 3,
     "metadata": {},
     "output_type": "execute_result"
    }
   ],
   "source": [
    "boulder_creek.head()"
   ]
  },
  {
   "cell_type": "code",
   "execution_count": 4,
   "metadata": {},
   "outputs": [],
   "source": [
    "raw_data=pd.read_csv(r'C:\\Users\\marki\\OneDrive\\Documents\\rawgraindata.csv')"
   ]
  },
  {
   "cell_type": "code",
   "execution_count": 5,
   "metadata": {},
   "outputs": [],
   "source": [
    "ign_data=pd.read_csv(r'C:\\Users\\marki\\OneDrive\\Ign Grn Sz Diam.csv')"
   ]
  },
  {
   "cell_type": "code",
   "execution_count": 6,
   "metadata": {},
   "outputs": [],
   "source": [
    "met_data=pd.read_csv(r'C:\\Users\\marki\\OneDrive\\Met Grn Sz Diam.csv')"
   ]
  },
  {
   "cell_type": "code",
   "execution_count": 7,
   "metadata": {},
   "outputs": [],
   "source": [
    "sed_data=pd.read_csv(r'C:\\Users\\marki\\OneDrive\\Sed Grn Sz Diam.csv')"
   ]
  },
  {
   "cell_type": "code",
   "execution_count": 8,
   "metadata": {},
   "outputs": [
    {
     "name": "stdout",
     "output_type": "stream",
     "text": [
      "     Grain Size Diameter(mm) Lithology A\n",
      "0                         20           I\n",
      "1                         31           I\n",
      "2                         24           I\n",
      "3                         17           I\n",
      "4                         20           I\n",
      "..                       ...         ...\n",
      "110                        5           I\n",
      "111                        5           I\n",
      "112                        6           I\n",
      "113                        7           I\n",
      "114                        8           S\n",
      "\n",
      "[115 rows x 2 columns]\n"
     ]
    }
   ],
   "source": [
    "print(raw_data)"
   ]
  },
  {
   "cell_type": "code",
   "execution_count": 9,
   "metadata": {},
   "outputs": [
    {
     "name": "stdout",
     "output_type": "stream",
     "text": [
      "    Igneous Grain Diameter (mm)  Number of Igneous Grains   \\\n",
      "0                           5.0                       11.0   \n",
      "1                           6.0                       15.0   \n",
      "2                           7.0                       10.0   \n",
      "3                           8.0                       13.0   \n",
      "4                           9.0                       11.0   \n",
      "..                          ...                        ...   \n",
      "89                          NaN                        NaN   \n",
      "90                          NaN                        NaN   \n",
      "91                          NaN                        NaN   \n",
      "92                          NaN                        NaN   \n",
      "93                          NaN                        NaN   \n",
      "\n",
      "    Igneous Actual Frequency(%)  \n",
      "0                      0.117021  \n",
      "1                      0.276596  \n",
      "2                      0.382979  \n",
      "3                      0.521277  \n",
      "4                      0.638298  \n",
      "..                          ...  \n",
      "89                          NaN  \n",
      "90                          NaN  \n",
      "91                          NaN  \n",
      "92                          NaN  \n",
      "93                          NaN  \n",
      "\n",
      "[94 rows x 3 columns]\n"
     ]
    }
   ],
   "source": [
    "print(ign_data)"
   ]
  },
  {
   "cell_type": "code",
   "execution_count": 11,
   "metadata": {},
   "outputs": [
    {
     "name": "stdout",
     "output_type": "stream",
     "text": [
      "   Metamorphic Grain Diameter(mm)  Number of Metamorphic Grains   \\\n",
      "0                               6                              3   \n",
      "1                               7                              1   \n",
      "2                               8                              2   \n",
      "3                               9                              1   \n",
      "4                              10                              1   \n",
      "5                              12                              1   \n",
      "6                              15                              1   \n",
      "\n",
      "   Metamorphic Actual Frequency(%)  \n",
      "0                              0.3  \n",
      "1                              0.4  \n",
      "2                              0.6  \n",
      "3                              0.7  \n",
      "4                              0.8  \n",
      "5                              0.9  \n",
      "6                              1.0  \n"
     ]
    }
   ],
   "source": [
    "print(met_data)"
   ]
  },
  {
   "cell_type": "code",
   "execution_count": 12,
   "metadata": {},
   "outputs": [
    {
     "name": "stdout",
     "output_type": "stream",
     "text": [
      "   Sedimentary Grain Diameter(mm)  Number of Sedimentary Grains   \\\n",
      "0                               5                              1   \n",
      "1                               6                              3   \n",
      "2                               7                              1   \n",
      "3                               8                              3   \n",
      "4                              10                              1   \n",
      "5                              17                              1   \n",
      "6                              18                              1   \n",
      "\n",
      "   Sedimentary Actual Frequency(%)  \n",
      "0                         0.090909  \n",
      "1                         0.363636  \n",
      "2                         0.454545  \n",
      "3                         0.727273  \n",
      "4                         0.818182  \n",
      "5                         0.909091  \n",
      "6                         1.000000  \n"
     ]
    }
   ],
   "source": [
    "print(sed_data)"
   ]
  }
 ],
 "metadata": {
  "kernelspec": {
   "display_name": "Python 3",
   "language": "python",
   "name": "python3"
  },
  "language_info": {
   "codemirror_mode": {
    "name": "ipython",
    "version": 3
   },
   "file_extension": ".py",
   "mimetype": "text/x-python",
   "name": "python",
   "nbconvert_exporter": "python",
   "pygments_lexer": "ipython3",
   "version": "3.7.6"
  }
 },
 "nbformat": 4,
 "nbformat_minor": 5
}
