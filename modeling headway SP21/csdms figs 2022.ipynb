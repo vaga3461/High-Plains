{
 "cells": [
  {
   "cell_type": "code",
   "execution_count": 95,
   "id": "76e5f263",
   "metadata": {},
   "outputs": [],
   "source": [
    "# this notebook is dedicated to making figures for my csdms 2022 poster\n",
    "# these figures will aim to capture \"5 criteria\" that the model meets\n",
    "# there criteria are: (getting deleted as they are fulfilled)\n",
    "\n",
    "# STEADY STATE\n",
    "## increasing steepness with increasing uplift rate\n",
    "## steady state width?\n",
    "## increased concavity (and steepness?) with two lithologies when compared to single lithology\n",
    "\n",
    "## TRANSIENT\n",
    "# upstream migrating knickpoints (response to baselevel fall)"
   ]
  },
  {
   "cell_type": "code",
   "execution_count": 96,
   "id": "68dde0b7",
   "metadata": {},
   "outputs": [],
   "source": [
    "# start by importing libraries\n",
    "import numpy as np\n",
    "import matplotlib.pyplot as plt"
   ]
  },
  {
   "cell_type": "code",
   "execution_count": 97,
   "id": "a2882b98",
   "metadata": {},
   "outputs": [],
   "source": [
    "# SET UP GRID ARRAYS\n",
    "dx_2 = 1000\n",
    "x_2 = np.arange(0, 100000, dx_2)\n",
    "\n",
    "# set up runoff rate\n",
    "r_2 = np.zeros(len(x_2))\n",
    "r_2[:] = 0.3\n",
    "\n",
    "# set up references to topography\n",
    "Hstar_2 = 0.1\n",
    "H_2 = Hstar_2 + np.zeros(len(x_2))\n",
    "etab_2 = -H_2\n",
    "eta_2 = etab_2 + H_2\n",
    "\n",
    "# abrasion coefficients from Attal and Lave 2006 in % per km\n",
    "beta_ig_2 = np.zeros(len(x_2))\n",
    "beta_ig_2[:25] = 0.00004\n",
    "beta_sed_2 = np.zeros(len(x_2))\n",
    "beta_sed_2[25:] = 0.00014\n",
    "atr_factor_2 = 0.00004\n",
    "\n",
    "# erodibility values\n",
    "k_ig_2 = np.zeros(len(x_2))\n",
    "k_ig_2[:25] = 0.0001\n",
    "k_sed_2 = np.zeros(len(x_2))\n",
    "k_sed_2[25:] = 0.001"
   ]
  },
  {
   "cell_type": "code",
   "execution_count": 98,
   "id": "b79f6566",
   "metadata": {},
   "outputs": [],
   "source": [
    "# write a function that has two bedrock lithologies in the domain, but only one contributing sediment to bedload\n",
    "def two_lith_one_sed(x,\n",
    "                     dx,\n",
    "                     Hstar,\n",
    "                     H,\n",
    "                     etab,\n",
    "                     eta,\n",
    "                     beta_ig,\n",
    "                     beta_sed,\n",
    "                     atr_factor,\n",
    "                     k_ig,\n",
    "                     k_sed,\n",
    "                     r,\n",
    "                     c = 1,\n",
    "                     baselevel_rate = 0.001,\n",
    "                     num_steps = 500000, \n",
    "                     porosity = 0.55):\n",
    "    \n",
    "    H[-1] = 0.0\n",
    "    bedrock_ero = np.zeros(len(x))  # bedrock erosion rate\n",
    "    sedimentation_rate = np.zeros(len(x))\n",
    "    total_ero = np.zeros(len(x))\n",
    "    total_ero[-1] = baselevel_rate\n",
    "    q = r * x  # discharge = distance downstream (first node is left edge of 0th cell)\n",
    "    qs = np.zeros(len(x))  # first node is left edge of 0th cell\n",
    "    dt_global = 0.2 * dx * dx / (c*q[-1])  # \"global\" time-step size\n",
    "    run_duration = dt_global * num_steps  # <== here's how long we want to run\n",
    "    cum_time = 0.0  # <== keep track of elapsed time\n",
    "\n",
    "    #for i in range(num_steps):\n",
    "    while cum_time < run_duration:  # <== use a while loop because dt varies by iteration\n",
    "        \n",
    "\n",
    "        # first calculate rates\n",
    "        \n",
    "        #  calc slope\n",
    "        S = -np.diff(eta)/dx\n",
    "        \n",
    "        #  calculate e factor\n",
    "        efac = np.exp(- H / Hstar)\n",
    "        \n",
    "        #  calculate total bedload sed flux and set boundary condition\n",
    "        qs[1:] = c * q[1:] * S * (1.0 - efac[:-1])\n",
    "        qs[0] = 0\n",
    "        \n",
    "        #  calc bedrock erosion from stream power (plucking)\n",
    "        ero_plucking_ig = efac[:-1] * (k_ig[1:] * q[1:] * S)\n",
    "        ero_plucking_sed = efac[:-1] * (k_sed[1:] * q[1:] * S)\n",
    "        \n",
    "        #  calc bedrock erosion from abrasion\n",
    "        ero_ab_ig = efac[:-1] * (beta_ig[:-1] * qs[1:])   # <== change indexing: qs[1] represents node 0\n",
    "        ero_ab_sed = efac[:-1] * (beta_sed[:-1] * qs[1:])\n",
    "        \n",
    "        #  calc bedrock erosion rate from stream power and abrasion\n",
    "        bedrock_ero[:-1] = ero_plucking_ig + ero_plucking_sed + ero_ab_ig + ero_ab_sed\n",
    "        \n",
    "        #  calc grain attrition rate\n",
    "        atr = atr_factor * qs[1:]\n",
    "        \n",
    "        #  calc rate of change in alluvial thickness\n",
    "        sedimentation_rate[:-1] = -((1 / porosity) * ((np.diff(qs)/dx) + atr - ero_plucking_ig))\n",
    "        \n",
    "        \n",
    "        # Calculate maximum allowable time-step size\n",
    "        \n",
    "        #  track total erosion rate\n",
    "        total_ero[:-1] = bedrock_ero[:-1] - sedimentation_rate[:-1]  # <== erosion is MINUS sed rate\n",
    "        \n",
    "        #  set adaptive timestep\n",
    "        #  first check time to flat surface\n",
    "        elev_diff = np.diff(eta)/dx\n",
    "        ero_diff = np.diff(total_ero)/dx\n",
    "        #valid_places = np.where(ero_diff < 0)\n",
    "        valid_places = np.where(ero_diff < 0)[0]  # <== we just want the array, not the full tuple from where()\n",
    "        if len(valid_places) > 0:  # <== in case there ARE no locations...\n",
    "            times_to_flat = np.abs(elev_diff[valid_places]/ero_diff[valid_places])\n",
    "        else:\n",
    "            times_to_flat = np.array([dt_global])  # <== ...we just revert to the global dt\n",
    "        min_time_to_flat = np.amin(times_to_flat)\n",
    "\n",
    "        #  then check time to deplete all sediment\n",
    "        #sed_depletion_locations = np.where(sedimentation_rate < 0)\n",
    "        sed_depletion_locations = np.where(sedimentation_rate < 0)[0]  # <== we just want the array, not the full tuple from where()\n",
    "        if len(sed_depletion_locations) > 0:  # <== in case there ARE no locations...\n",
    "            times_to_no_sed = np.abs(H[sed_depletion_locations]/sedimentation_rate[sed_depletion_locations])\n",
    "        else:\n",
    "            times_to_no_sed = np.array([dt_global])  # <== ...we just revert to the global dt\n",
    "        min_time_to_no_sed = np.amin(times_to_no_sed)\n",
    "\n",
    "        #  check for smaller condition\n",
    "        dt = min(min_time_to_flat, min_time_to_no_sed)\n",
    "\n",
    "        #  if larger than global step size, limit to global\n",
    "        dt = min(dt, dt_global)\n",
    "        \n",
    "        \n",
    "        # Update quantities\n",
    "        \n",
    "        #  lower baselevel\n",
    "        eta[-1] -= baselevel_rate * dt \n",
    "        \n",
    "        #  set boundary conditions\n",
    "        etab[-1] = eta[-1]\n",
    "        \n",
    "        #  calc change in bedrock elev\n",
    "        etab[:-1] -= bedrock_ero[:-1] * dt\n",
    "        \n",
    "        #  update sediment thickness\n",
    "        H[:-1] += sedimentation_rate[:-1] * dt\n",
    "        H[H < 0] = 0\n",
    "\n",
    "        #  update elev\n",
    "        eta[:-1] = etab[:-1] + H[:-1]\n",
    "        \n",
    "        # Advance time\n",
    "        cum_time += dt\n",
    "        \n",
    "        if any(total_ero[:] != baselevel_rate):\n",
    "            continue\n",
    "        else:\n",
    "            break\n",
    "            \n",
    "    print(cum_time)\n",
    "        \n",
    "    return (S, qs, efac, eta, etab, ero_plucking_ig, ero_plucking_sed, ero_ab_ig, ero_ab_sed, bedrock_ero, atr, \n",
    "            sedimentation_rate, H, total_ero, cum_time)"
   ]
  },
  {
   "cell_type": "code",
   "execution_count": 99,
   "id": "2b84798d",
   "metadata": {},
   "outputs": [
    {
     "name": "stdout",
     "output_type": "stream",
     "text": [
      "3367003.3670325675\n"
     ]
    }
   ],
   "source": [
    "# design experiment to check out concave upward steady state profile\n",
    "# cu stands for concave up\n",
    "CU = [x_2, dx_2, Hstar_2, H_2, etab_2, eta_2, beta_ig_2, beta_sed_2, atr_factor_2, k_ig_2, k_sed_2, r_2]\n",
    "\n",
    "# and run away with it!\n",
    "(slope_CU,\n",
    " sed_flux_CU,\n",
    " e_factor_CU,\n",
    " topography_CU,\n",
    " bedrock_elevation_CU,\n",
    " igneous_plucking_rate_CU,\n",
    " sedimentary_plucking_rate_CU,\n",
    " igneous_abrasion_rate_CU,\n",
    " sedimentary_abrasion_rate_CU,\n",
    " bedrock_erosion_rate_CU,\n",
    " attrition_rate_CU,\n",
    " sedimentation_rate_CU,\n",
    " sediment_thickness_CU,\n",
    " total_erosion_rate_CU,\n",
    " cum_time_CU) = two_lith_one_sed(*CU)"
   ]
  },
  {
   "cell_type": "code",
   "execution_count": 100,
   "id": "ec5c03a7",
   "metadata": {},
   "outputs": [
    {
     "name": "stdout",
     "output_type": "stream",
     "text": [
      "[0.001 0.001 0.001 0.001 0.001 0.001 0.001 0.001 0.001 0.001 0.001 0.001\n",
      " 0.001 0.001 0.001 0.001 0.001 0.001 0.001 0.001 0.001 0.001 0.001 0.001\n",
      " 0.001 0.001 0.001 0.001 0.001 0.001 0.001 0.001 0.001 0.001 0.001 0.001\n",
      " 0.001 0.001 0.001 0.001 0.001 0.001 0.001 0.001 0.001 0.001 0.001 0.001\n",
      " 0.001 0.001 0.001 0.001 0.001 0.001 0.001 0.001 0.001 0.001 0.001 0.001\n",
      " 0.001 0.001 0.001 0.001 0.001 0.001 0.001 0.001 0.001 0.001 0.001 0.001\n",
      " 0.001 0.001 0.001 0.001 0.001 0.001 0.001 0.001 0.001 0.001 0.001 0.001\n",
      " 0.001 0.001 0.001 0.001 0.001 0.001 0.001 0.001 0.001 0.001 0.001 0.001\n",
      " 0.001 0.001 0.001 0.001]\n"
     ]
    }
   ],
   "source": [
    "# now check it's at steady state\n",
    "print(total_erosion_rate_CU)"
   ]
  },
  {
   "cell_type": "code",
   "execution_count": 101,
   "id": "2fa86443",
   "metadata": {},
   "outputs": [],
   "source": [
    "adjustment_CU = topography_CU[-1]"
   ]
  },
  {
   "cell_type": "code",
   "execution_count": 102,
   "id": "44f0f550",
   "metadata": {},
   "outputs": [
    {
     "data": {
      "image/png": "[encoded data removed]",
      "text/plain": [
       "<Figure size 720x288 with 1 Axes>"
      ]
     },
     "metadata": {
      "needs_background": "light"
     },
     "output_type": "display_data"
    }
   ],
   "source": [
    "# great, now make a steady state profile figure\n",
    "fig = plt.figure(figsize = (10, 4))\n",
    "\n",
    "plt.plot((x_2/1000)/100, \n",
    "         (topography_CU - adjustment_CU)/200, \n",
    "         label = 'steady state topography (3.3 Ma)', \n",
    "         color = 'mediumseagreen', \n",
    "         linewidth = 3)\n",
    "plt.xlabel('Distance', fontsize = 14)\n",
    "plt.ylabel('Elevation', fontsize = 14)\n",
    "plt.vlines(x = 0.24, \n",
    "           ymin = 0, \n",
    "           ymax = 1, \n",
    "           label = 'bedrock contact', \n",
    "           color = 'k', \n",
    "           linestyle = '--')\n",
    "plt.title('Steady state topography', fontsize = 16)\n",
    "plt.legend(fontsize = 12)\n",
    "\n",
    "# plt.savefig('csdms2022_CU.png')\n",
    "plt.show()"
   ]
  },
  {
   "cell_type": "code",
   "execution_count": 103,
   "id": "06b8a16e",
   "metadata": {},
   "outputs": [],
   "source": [
    "# now drop baselevel (ie raise all elevation nodes but the last)\n",
    "# and re run and check out knicks"
   ]
  },
  {
   "cell_type": "code",
   "execution_count": 104,
   "id": "d73eb665",
   "metadata": {},
   "outputs": [],
   "source": [
    "# now see if we can get the slope-area plotting to play nice"
   ]
  },
  {
   "cell_type": "code",
   "execution_count": 105,
   "id": "2c4c0d27",
   "metadata": {},
   "outputs": [],
   "source": [
    "area = ((x_2)**2)/3\n",
    "\n",
    "m, b = np.polyfit(np.log(area[1:]), np.log(slope_CU), 1)\n",
    "m_up, b_up = np.polyfit(np.log(area[1:25]), np.log(slope_CU[:24]), 1)\n",
    "m_down, b_down = np.polyfit(np.log(area[25:]), np.log(slope_CU[24:]), 1)\n",
    "\n",
    "slope_fit = np.exp((m * np.log(area[1:])) + b)\n",
    "slope_fit_up = np.exp((m_up * np.log(area[1:25])) + b_up)\n",
    "slope_fit_down = np.exp((m_down * np.log(area[25:])) + b_down)"
   ]
  },
  {
   "cell_type": "code",
   "execution_count": 106,
   "id": "7cad42d1",
   "metadata": {},
   "outputs": [],
   "source": [
    "upper_bound_up_m = m_up + 0.07\n",
    "lower_bound_up_m = m_up - 0.07\n",
    "\n",
    "upper_bound_down_m = m_down + 0.07\n",
    "lower_bound_down_m = m_down - 0.07"
   ]
  },
  {
   "cell_type": "code",
   "execution_count": 107,
   "id": "78e0cbdb",
   "metadata": {},
   "outputs": [],
   "source": [
    "upper_bound_up_slope_fit = np.exp((upper_bound_up_m * np.log(area[1:25])) + b_up)\n",
    "lower_bound_up_slope_fit = np.exp((lower_bound_up_m * np.log(area[1:25])) + b_up)\n",
    "\n",
    "upper_bound_down_slope_fit = np.exp((upper_bound_down_m * np.log(area[25:])) + b_down)\n",
    "lower_bound_down_slope_fit = np.exp((lower_bound_down_m * np.log(area[25:])) + b_down)"
   ]
  },
  {
   "cell_type": "code",
   "execution_count": 108,
   "id": "5beb2151",
   "metadata": {},
   "outputs": [
    {
     "data": {
      "text/plain": [
       "24"
      ]
     },
     "execution_count": 108,
     "metadata": {},
     "output_type": "execute_result"
    }
   ],
   "source": [
    "len(upper_bound_up_slope_fit)"
   ]
  },
  {
   "cell_type": "code",
   "execution_count": 109,
   "id": "ef682855",
   "metadata": {},
   "outputs": [
    {
     "data": {
      "image/png": "[encoded data removed]",
      "text/plain": [
       "<Figure size 720x288 with 1 Axes>"
      ]
     },
     "metadata": {
      "needs_background": "light"
     },
     "output_type": "display_data"
    }
   ],
   "source": [
    "fig = plt.figure(figsize = (10, 4))\n",
    "\n",
    "plt.plot(area[1:], slope_CU, label = 'slope-area relationship', color = 'mediumseagreen', linewidth = 2)\n",
    "# plt.plot(area[1:], slope_fit, color = 'k', linestyle = '--', label = 'best fit')\n",
    "plt.yscale('log')\n",
    "plt.xscale('log')\n",
    "plt.xlabel('Area (m^2)', fontsize = 14)\n",
    "plt.ylabel('Slope', fontsize = 14)\n",
    "plt.title('Slope-area relationship', fontsize = 16)\n",
    "plt.legend(fontsize = 12)\n",
    "\n",
    "# plt.savefig('csdms2022_SA.png')\n",
    "plt.show()"
   ]
  },
  {
   "cell_type": "code",
   "execution_count": 110,
   "id": "35d709fb",
   "metadata": {},
   "outputs": [],
   "source": [
    "# now just split them up into two plots according to lithologic boundary"
   ]
  },
  {
   "cell_type": "code",
   "execution_count": 111,
   "id": "a0c53636",
   "metadata": {},
   "outputs": [
    {
     "data": {
      "image/png": "[encoded data removed]",
      "text/plain": [
       "<Figure size 720x360 with 2 Axes>"
      ]
     },
     "metadata": {
      "needs_background": "light"
     },
     "output_type": "display_data"
    }
   ],
   "source": [
    "fig, axs = plt.subplots(2, figsize = (10, 5), sharex = True, sharey = True)\n",
    "fig.text(0.04, 0.5, 'Slope', va='center', rotation='vertical', fontsize = 14)\n",
    "fig.text(0.5, 0.04, 'Area (m^2)', ha='center', fontsize = 14)\n",
    "fig.suptitle('Slope-area relationships', fontsize = 16)\n",
    "plt.subplots_adjust(left=None, bottom=None, right=None, top=None, wspace=None, hspace=0.2)\n",
    "\n",
    "axs[0].plot(area[1:25], slope_CU[:24], color = 'mediumseagreen', linewidth = 2, label = 'Model prediction')\n",
    "axs[0].plot(area[1:25], slope_fit_up, color = 'k',linestyle = '--', label = \"Flint's Law\")\n",
    "axs[0].plot(area[1:25], upper_bound_up_slope_fit, color = 'k')\n",
    "axs[0].plot(area[1:25], lower_bound_up_slope_fit, color = 'k')\n",
    "axs[0].fill_between(area[1:25], upper_bound_up_slope_fit, lower_bound_up_slope_fit, color = 'mediumseagreen', alpha = 0.2, label = 'Field-based concavity uncertainty')\n",
    "axs[0].fill_between(area[25:], upper_bound_down_slope_fit, lower_bound_down_slope_fit, color = 'k', alpha = 0.2)\n",
    "axs[0].set_yscale('log')\n",
    "axs[0].set_xscale('log')\n",
    "# axs[0].set_title('Upstream', fontsize = 16)\n",
    "axs[0].legend(loc = 'best', fontsize = 12)\n",
    "\n",
    "axs[1].plot(area[25:], slope_CU[24:], color = 'mediumseagreen', linewidth = 2)\n",
    "axs[1].plot(area[25:], slope_fit_down, color = 'k',linestyle = '--')\n",
    "axs[1].plot(area[25:], upper_bound_down_slope_fit, color = 'k')\n",
    "axs[1].plot(area[25:], lower_bound_down_slope_fit, color = 'k')\n",
    "axs[1].fill_between(area[1:25], upper_bound_up_slope_fit, lower_bound_up_slope_fit, color = 'k', alpha = 0.2)\n",
    "axs[1].fill_between(area[25:], upper_bound_down_slope_fit, lower_bound_down_slope_fit, color = 'mediumseagreen', alpha = 0.2)\n",
    "axs[1].set_yscale('log')\n",
    "axs[1].set_xscale('log')\n",
    "# axs[1].set_title('Downstream', fontsize = 16)\n",
    "\n",
    "# plt.savefig('csdms2022_SA_up_down.png')\n",
    "plt.show()"
   ]
  },
  {
   "cell_type": "code",
   "execution_count": 112,
   "id": "b5468a52",
   "metadata": {},
   "outputs": [
    {
     "data": {
      "image/png": "[encoded data removed]",
      "text/plain": [
       "<Figure size 720x288 with 1 Axes>"
      ]
     },
     "metadata": {
      "needs_background": "light"
     },
     "output_type": "display_data"
    }
   ],
   "source": [
    "# what if I made the above just one figure?\n",
    "fig, ax = plt.subplots(1, figsize = (10, 4), sharex = True, sharey = True)\n",
    "fig.text(0.04, 0.5, 'Slope', va='center', rotation='vertical', fontsize = 14)\n",
    "fig.text(0.5, 0.04, 'Area (m^2)', ha='center', fontsize = 14)\n",
    "fig.suptitle('Slope-area relationships', fontsize = 16)\n",
    "plt.subplots_adjust(left=None, bottom=None, right=None, top=None, wspace=None, hspace=0.2)\n",
    "\n",
    "ax.plot(area[1:25], slope_CU[:24], color = 'mediumseagreen', linewidth = 3, label = 'Model prediction')\n",
    "ax.plot(area[1:25], slope_fit_up, color = 'k',linestyle = '--', label = \"Flint's Law\")\n",
    "ax.plot(area[1:25], upper_bound_up_slope_fit, color = 'k')\n",
    "ax.plot(area[1:25], lower_bound_up_slope_fit, color = 'k')\n",
    "ax.fill_between(area[1:25], upper_bound_up_slope_fit, lower_bound_up_slope_fit, color = 'mediumseagreen', alpha = 0.1, label = 'Field-based uncertainty')\n",
    "# ax.fill_between(area[25:], upper_bound_down_slope_fit, lower_bound_down_slope_fit, color = 'k', alpha = 0.2)\n",
    "ax.set_yscale('log')\n",
    "ax.set_xscale('log')\n",
    "# axs[0].set_title('Upstream', fontsize = 16)\n",
    "ax.legend(loc = 'best', fontsize = 12)\n",
    "\n",
    "ax.plot(area[25:], slope_CU[24:], color = 'mediumseagreen', linewidth = 3)\n",
    "ax.plot(area[25:], slope_fit_down, color = 'k',linestyle = '--')\n",
    "ax.plot(area[25:], upper_bound_down_slope_fit, color = 'k')\n",
    "ax.plot(area[25:], lower_bound_down_slope_fit, color = 'k')\n",
    "# ax.fill_between(area[1:25], upper_bound_up_slope_fit, lower_bound_up_slope_fit, color = 'k', alpha = 0.2)\n",
    "ax.fill_between(area[25:], upper_bound_down_slope_fit, lower_bound_down_slope_fit, color = 'mediumseagreen', alpha = 0.1)\n",
    "ax.set_yscale('log')\n",
    "ax.set_xscale('log')\n",
    "# axs[1].set_title('Downstream', fontsize = 16)\n",
    "\n",
    "# plt.savefig('csdms2022_SA_up_down_single.png')\n",
    "plt.show()"
   ]
  },
  {
   "cell_type": "code",
   "execution_count": 113,
   "id": "fb81dcb1",
   "metadata": {},
   "outputs": [],
   "source": [
    "# heck yes\n",
    "# now let's see what happens when we run the model with a high uplift rate"
   ]
  },
  {
   "cell_type": "code",
   "execution_count": 114,
   "id": "78a6d363",
   "metadata": {},
   "outputs": [
    {
     "name": "stdout",
     "output_type": "stream",
     "text": [
      "6734006.955965287\n"
     ]
    }
   ],
   "source": [
    "# create the input experiment\n",
    "#HU stands for high uplift\n",
    "HU = [x_2, dx_2, Hstar_2, H_2, etab_2, eta_2, beta_ig_2, beta_sed_2, atr_factor_2, k_ig_2, k_sed_2, r_2, 1, 0.002, 1000000]\n",
    "\n",
    "# and run away with it!\n",
    "(slope_HU,\n",
    " sed_flux_HU,\n",
    " e_factor_HU,\n",
    " topography_HU,\n",
    " bedrock_elevation_HU,\n",
    " igneous_plucking_rate_HU,\n",
    " sedimentary_plucking_rate_HU,\n",
    " igneous_abrasion_rate_HU,\n",
    " sedimentary_abrasion_rate_HU,\n",
    " bedrock_erosion_rate_HU,\n",
    " attrition_rate_HU,\n",
    " sedimentation_rate_HU,\n",
    " sediment_thickness_HU,\n",
    " total_erosion_rate_HU,\n",
    " cum_time_HU) = two_lith_one_sed(*HU)"
   ]
  },
  {
   "cell_type": "code",
   "execution_count": 115,
   "id": "b621d98f",
   "metadata": {},
   "outputs": [
    {
     "name": "stdout",
     "output_type": "stream",
     "text": [
      "[ 1.99982540e-03  2.00002711e-03  2.00012547e-03  1.99994095e-03\n",
      "  1.99958485e-03  1.99926408e-03  1.99913322e-03  1.99921217e-03\n",
      "  1.99941955e-03  1.99967141e-03  1.99995012e-03  2.00031126e-03\n",
      "  2.00076313e-03  2.00123445e-03  2.00178922e-03  2.00095615e-03\n",
      "  2.00268284e-03  2.00643536e-03  1.98087431e-03  2.91102337e-03\n",
      "  4.80413626e-03  1.75377585e-02 -6.54340619e-02  8.00303180e-02\n",
      " -2.64135256e-02  6.68497284e-05  1.26030711e-03  2.02259472e-03\n",
      "  1.70623596e-03  1.49651063e-03  1.58916136e-03  1.77259435e-03\n",
      "  1.96840299e-03  2.13615533e-03  2.23622293e-03  2.25163087e-03\n",
      "  2.20262275e-03  2.12967747e-03  2.06397378e-03  2.01650730e-03\n",
      "  1.98558642e-03  1.96655615e-03  1.95612890e-03  1.95252890e-03\n",
      "  1.95444802e-03  1.96040086e-03  1.96869080e-03  1.97767131e-03\n",
      "  1.98600931e-03  1.99282480e-03  1.99770218e-03  2.00061708e-03\n",
      "  2.00182548e-03  2.00174772e-03  2.00086598e-03  1.99964332e-03\n",
      "  1.99846764e-03  1.99762036e-03  1.99726742e-03  1.99746772e-03\n",
      "  1.99819293e-03  1.99935249e-03  2.00081862e-03  2.00244811e-03\n",
      "  2.00409949e-03  2.00564533e-03  2.00698035e-03  2.00802618e-03\n",
      "  2.00873345e-03  2.00908165e-03  2.00907700e-03  2.00874879e-03\n",
      "  2.00814432e-03  2.00732311e-03  2.00635072e-03  2.00529305e-03\n",
      "  2.00421128e-03  2.00315811e-03  2.00217516e-03  2.00129177e-03\n",
      "  2.00052493e-03  1.99988021e-03  1.99935349e-03  1.99893337e-03\n",
      "  1.99860382e-03  1.99834713e-03  1.99814666e-03  1.99798913e-03\n",
      "  1.99786634e-03  1.99777587e-03  1.99772086e-03  1.99770892e-03\n",
      "  1.99775029e-03  1.99785562e-03  1.99803380e-03  1.99828995e-03\n",
      "  1.99862401e-03  1.99902979e-03  1.99949471e-03  2.00000000e-03]\n"
     ]
    }
   ],
   "source": [
    "# check ss condition\n",
    "print(total_erosion_rate_HU)"
   ]
  },
  {
   "cell_type": "code",
   "execution_count": 116,
   "id": "0a527a91",
   "metadata": {},
   "outputs": [
    {
     "data": {
      "image/png": "[encoded data removed]",
      "text/plain": [
       "<Figure size 432x288 with 1 Axes>"
      ]
     },
     "metadata": {
      "needs_background": "light"
     },
     "output_type": "display_data"
    }
   ],
   "source": [
    "plt.plot(area[1:], slope_CU)\n",
    "plt.plot(area[1:], slope_HU)\n",
    "plt.xscale('log')\n",
    "plt.yscale('log')\n",
    "plt.show()"
   ]
  },
  {
   "cell_type": "code",
   "execution_count": 117,
   "id": "4572398f",
   "metadata": {},
   "outputs": [],
   "source": [
    "# amazing\n",
    "# now just need to transform these onto single plot, broken up as before"
   ]
  },
  {
   "cell_type": "code",
   "execution_count": 118,
   "id": "c4346a42",
   "metadata": {},
   "outputs": [
    {
     "data": {
      "image/png": "[encoded data removed]",
      "text/plain": [
       "<Figure size 720x288 with 1 Axes>"
      ]
     },
     "metadata": {
      "needs_background": "light"
     },
     "output_type": "display_data"
    }
   ],
   "source": [
    "plt.figure(figsize = (10, 4))\n",
    "\n",
    "plt.plot(area[1:25], slope_CU[:24], linewidth = 3, color = 'mediumseagreen', label = 'Low uplift')\n",
    "plt.plot(area[25:], slope_CU[24:], linewidth = 3, color = 'mediumseagreen')\n",
    "plt.plot(area[1:25], slope_HU[:24], linewidth = 3, color = 'teal', label = 'High uplift')\n",
    "plt.plot(area[25:], slope_HU[24:], linewidth = 3, color = 'teal')\n",
    "plt.xscale('log')\n",
    "plt.yscale('log')\n",
    "plt.legend(fontsize = 12)\n",
    "plt.xlabel('Area (m^2)', fontsize = 14)\n",
    "plt.ylabel('Slope', fontsize = 14)\n",
    "plt.title('Uplift rate - steepness relationship', fontsize = 16)\n",
    "\n",
    "# plt.savefig('csdms2022_HU_LU.png')\n",
    "plt.show()"
   ]
  },
  {
   "cell_type": "code",
   "execution_count": 119,
   "id": "21416b3c",
   "metadata": {},
   "outputs": [],
   "source": [
    "# great, \n",
    "# now we want to design an experiment related to channel concavity increasing in the presence of resistant sediment\n",
    "# for this, we just want to compare our model to a sediment-less model (SP)\n",
    "# copy and paste stream power fxn below"
   ]
  },
  {
   "cell_type": "code",
   "execution_count": 120,
   "id": "b46b8bc1",
   "metadata": {},
   "outputs": [],
   "source": [
    "# set up basic stuff\n",
    "\n",
    "# grid\n",
    "dx_1 = 1000\n",
    "x_1 = np.arange(0, 100000, dx_1)\n",
    "\n",
    "# elevation\n",
    "eta_1 = np.zeros(len(x_1))\n",
    "\n",
    "# set reasonable runoff rate in m/yr, see Rossi et al 2016 supplemental\n",
    "r_1 = np.zeros(len(x_1))\n",
    "r_1[:] = 0.3\n",
    "\n",
    "# erodibility has both hard and soft rocks\n",
    "k_1 = np.zeros(len(x_1))\n",
    "k_1[:25] = 0.0001\n",
    "k_1[25:] = 0.001"
   ]
  },
  {
   "cell_type": "code",
   "execution_count": 121,
   "id": "77b85909",
   "metadata": {},
   "outputs": [],
   "source": [
    "# now make the first function: pure stream power\n",
    "# take out adaptive timstep stuff, only add it back in if it seems necessary\n",
    "\n",
    "def stream_power(x,\n",
    "                 dx,\n",
    "                 eta,\n",
    "                 k,\n",
    "                 r,\n",
    "                 c = 1, # should be 0.041, from W & S '19 (assuming constant geomorphically effective flow)\n",
    "                 baselevel_rate = 0.001, # uplifting 1 mm/yr\n",
    "                 num_steps = 100000, \n",
    "                 porosity = 0.55):\n",
    "    \n",
    "    bedrock_ero = np.zeros(len(x))  # bedrock erosion rate\n",
    "    bedrock_ero[-1] = baselevel_rate\n",
    "    q = r_1 * x  # discharge = distance downstream (first node is left edge of 0th cell)\n",
    "    dt = 0.2 * dx * dx / (c*q[-1])  # \"global\" time-step size # mult by 0.2\n",
    "    \n",
    "    for i in range(num_steps):\n",
    "\n",
    "        # first calculate rates\n",
    "        \n",
    "        #  calc slope\n",
    "        S = -np.diff(eta)/dx\n",
    "        \n",
    "        #  calc bedrock erosion rate from stream power (plucking)\n",
    "        bedrock_ero[:-1] = k[1:] * q[1:] * S\n",
    "        \n",
    "        #  lower baselevel\n",
    "        eta[-1] -= baselevel_rate * dt \n",
    "        \n",
    "        #  calc change in bedrock elev\n",
    "        eta[:-1] -= bedrock_ero[:-1] * dt\n",
    "        \n",
    "        if any(bedrock_ero[:] != baselevel_rate):\n",
    "            continue\n",
    "        else:\n",
    "            break\n",
    "            \n",
    "        \n",
    "    return (q, S, bedrock_ero, eta, i)"
   ]
  },
  {
   "cell_type": "code",
   "execution_count": 122,
   "id": "1d25da90",
   "metadata": {},
   "outputs": [],
   "source": [
    "# now create an input experiment\n",
    "stream_power_ss = [x_1, dx_1, eta_1, k_1, r_1]\n",
    "\n",
    "# run experiment and catch outputs!\n",
    "(discharge_SP,\n",
    " slope_SP,\n",
    " bedrock_erosion_rate_SP,\n",
    " topography_SP,\n",
    " i_SP) = stream_power(*stream_power_ss)"
   ]
  },
  {
   "cell_type": "code",
   "execution_count": 123,
   "id": "0e835328",
   "metadata": {},
   "outputs": [
    {
     "name": "stdout",
     "output_type": "stream",
     "text": [
      "[0.001 0.001 0.001 0.001 0.001 0.001 0.001 0.001 0.001 0.001 0.001 0.001\n",
      " 0.001 0.001 0.001 0.001 0.001 0.001 0.001 0.001 0.001 0.001 0.001 0.001\n",
      " 0.001 0.001 0.001 0.001 0.001 0.001 0.001 0.001 0.001 0.001 0.001 0.001\n",
      " 0.001 0.001 0.001 0.001 0.001 0.001 0.001 0.001 0.001 0.001 0.001 0.001\n",
      " 0.001 0.001 0.001 0.001 0.001 0.001 0.001 0.001 0.001 0.001 0.001 0.001\n",
      " 0.001 0.001 0.001 0.001 0.001 0.001 0.001 0.001 0.001 0.001 0.001 0.001\n",
      " 0.001 0.001 0.001 0.001 0.001 0.001 0.001 0.001 0.001 0.001 0.001 0.001\n",
      " 0.001 0.001 0.001 0.001 0.001 0.001 0.001 0.001 0.001 0.001 0.001 0.001\n",
      " 0.001 0.001 0.001 0.001]\n"
     ]
    }
   ],
   "source": [
    "# check for ss condition\n",
    "print(bedrock_erosion_rate_SP)"
   ]
  },
  {
   "cell_type": "code",
   "execution_count": 124,
   "id": "7411b2d6",
   "metadata": {},
   "outputs": [
    {
     "data": {
      "text/plain": [
       "[<matplotlib.lines.Line2D at 0x7fe02a469a50>]"
      ]
     },
     "execution_count": 124,
     "metadata": {},
     "output_type": "execute_result"
    },
    {
     "data": {
      "image/png": "[encoded data removed]",
      "text/plain": [
       "<Figure size 432x288 with 1 Axes>"
      ]
     },
     "metadata": {
      "needs_background": "light"
     },
     "output_type": "display_data"
    }
   ],
   "source": [
    "plt.plot(x_1, topography_SP)\n",
    "# hurl yur"
   ]
  },
  {
   "cell_type": "code",
   "execution_count": 125,
   "id": "c2267727",
   "metadata": {},
   "outputs": [],
   "source": [
    "# okay, now we want to make slope-area plot that demonstrates that having sediment in the system results in both\n",
    "# steeper (higher line)\n",
    "# and more concave (higher slope line)\n",
    "# rivers than when no sediment is present\n",
    "\n",
    "# also maybe show a run where we jsut damp down contrast in two lithology model?\n",
    "# run that one below real quick"
   ]
  },
  {
   "cell_type": "code",
   "execution_count": 126,
   "id": "2c7dace9",
   "metadata": {},
   "outputs": [
    {
     "name": "stdout",
     "output_type": "stream",
     "text": [
      "3367008.730460957\n"
     ]
    }
   ],
   "source": [
    "# LC stands for low contrast\n",
    "LC = [x_2, dx_2, Hstar_2, H_2, etab_2, eta_2, beta_ig_2 * 2.5, beta_sed_2, atr_factor_2, k_ig_2, k_sed_2, r_2]\n",
    "\n",
    "# and run away with it!\n",
    "(slope_LC,\n",
    " sed_flux_LC,\n",
    " e_factor_LC,\n",
    " topography_LC,\n",
    " bedrock_elevation_LC,\n",
    " igneous_plucking_rate_LC,\n",
    " sedimentary_plucking_rate_LC,\n",
    " igneous_abrasion_rate_LC,\n",
    " sedimentary_abrasion_rate_LC,\n",
    " bedrock_erosion_rate_LC,\n",
    " attrition_rate_LC,\n",
    " sedimentation_rate_LC,\n",
    " sediment_thickness_LC,\n",
    " total_erosion_rate_LC,\n",
    " cum_time_LC) = two_lith_one_sed(*LC)"
   ]
  },
  {
   "cell_type": "code",
   "execution_count": 127,
   "id": "3c3eb11c",
   "metadata": {},
   "outputs": [
    {
     "name": "stdout",
     "output_type": "stream",
     "text": [
      "[0.001 0.001 0.001 0.001 0.001 0.001 0.001 0.001 0.001 0.001 0.001 0.001\n",
      " 0.001 0.001 0.001 0.001 0.001 0.001 0.001 0.001 0.001 0.001 0.001 0.001\n",
      " 0.001 0.001 0.001 0.001 0.001 0.001 0.001 0.001 0.001 0.001 0.001 0.001\n",
      " 0.001 0.001 0.001 0.001 0.001 0.001 0.001 0.001 0.001 0.001 0.001 0.001\n",
      " 0.001 0.001 0.001 0.001 0.001 0.001 0.001 0.001 0.001 0.001 0.001 0.001\n",
      " 0.001 0.001 0.001 0.001 0.001 0.001 0.001 0.001 0.001 0.001 0.001 0.001\n",
      " 0.001 0.001 0.001 0.001 0.001 0.001 0.001 0.001 0.001 0.001 0.001 0.001\n",
      " 0.001 0.001 0.001 0.001 0.001 0.001 0.001 0.001 0.001 0.001 0.001 0.001\n",
      " 0.001 0.001 0.001 0.001]\n"
     ]
    }
   ],
   "source": [
    "# check for ss\n",
    "print(total_erosion_rate_LC)"
   ]
  },
  {
   "cell_type": "code",
   "execution_count": 128,
   "id": "15ea2f5e",
   "metadata": {},
   "outputs": [
    {
     "data": {
      "image/png": "[encoded data removed]",
      "text/plain": [
       "<Figure size 720x288 with 1 Axes>"
      ]
     },
     "metadata": {
      "needs_background": "light"
     },
     "output_type": "display_data"
    }
   ],
   "source": [
    "plt.figure(figsize = (10, 4))\n",
    "\n",
    "plt.plot(area[1:25], slope_CU[:24], color = 'mediumseagreen', linewidth = 3, label = 'Highly resistent sediment present')\n",
    "plt.plot(area[25:], slope_CU[24:], color = 'mediumseagreen', linewidth = 3)\n",
    "plt.plot(area[1:25], slope_LC[:24], color = 'teal', linewidth = 3, label = 'Less resistent sediment present')\n",
    "plt.plot(area[25:], slope_LC[24:], color = 'teal', linewidth = 3)\n",
    "plt.plot(area[1:25], slope_SP[:24], linestyle = '--', color = 'k', label = 'No sediment present')\n",
    "plt.plot(area[25:], slope_SP[24:], linestyle = '--', color = 'k')\n",
    "plt.xscale('log')\n",
    "plt.yscale('log')\n",
    "plt.xlabel('Area (m^2)', fontsize = 14)\n",
    "plt.ylabel('Slope', fontsize = 14)\n",
    "plt.title('Sediment effect on steepness and concavity', fontsize = 16)\n",
    "plt.legend(fontsize = 12)\n",
    "\n",
    "# plt.savefig('csdms2022_sed_steepness.png')\n",
    "plt.show()"
   ]
  },
  {
   "cell_type": "code",
   "execution_count": 129,
   "id": "5820883a",
   "metadata": {},
   "outputs": [],
   "source": [
    "# and finally\n",
    "# the moment we've all been waiting for\n",
    "# the recording of upstream migrating knickpoints in response to baselevel change"
   ]
  },
  {
   "cell_type": "code",
   "execution_count": 130,
   "id": "81c3e03d",
   "metadata": {},
   "outputs": [],
   "source": [
    "# we've already done a standard run to steady state (CU)\n",
    "# so now let's uplift topo (might have to make some copies of stuff first, tho)\n",
    "# (referencing hydrosympoisum figs notebook to see)"
   ]
  },
  {
   "cell_type": "code",
   "execution_count": 131,
   "id": "5671ce0d",
   "metadata": {},
   "outputs": [],
   "source": [
    "# make a copy of all the outputs from that run\n",
    "slope_CU_copy = slope_CU.copy()\n",
    "sed_flux_CU_copy = sed_flux_CU.copy()\n",
    "e_factor_CU_copy = e_factor_CU.copy()\n",
    "topography_CU_copy = topography_CU.copy()\n",
    "bedrock_elevation_CU_copy = bedrock_elevation_CU.copy()\n",
    "igneous_plucking_rate_CU_copy = igneous_plucking_rate_CU.copy()\n",
    "sedimentary_plucking_rate_CU_copy = sedimentary_plucking_rate_CU.copy()\n",
    "igneous_abrasion_rate_CU_copy = igneous_abrasion_rate_CU.copy()\n",
    "sedimentary_abrasion_rate_CU_copy = sedimentary_abrasion_rate_CU.copy()\n",
    "bedrock_erosion_rate_CU_copy = bedrock_erosion_rate_CU.copy()\n",
    "attrition_rate_CU_copy = attrition_rate_CU.copy()\n",
    "sedimentation_rate_CU_copy = sedimentation_rate_CU.copy()\n",
    "sediment_thickness_CU_copy = sediment_thickness_CU.copy()\n",
    "total_erosion_rate_CU_copy = total_erosion_rate_CU.copy()\n",
    "cum_time_CU_copy = cum_time_CU.copy()"
   ]
  },
  {
   "cell_type": "code",
   "execution_count": 132,
   "id": "4b7c851f",
   "metadata": {},
   "outputs": [],
   "source": [
    "# neat\n",
    "# now we're going to make a new input topo (uplifted)\n",
    "# and then make a bunch of copies of it to use as inputs to our experiments (see hydro nb)"
   ]
  },
  {
   "cell_type": "code",
   "execution_count": 133,
   "id": "485a7824",
   "metadata": {},
   "outputs": [],
   "source": [
    "# uplift all point on ss topography except outlet\n",
    "uplift_topo = np.zeros(len(x_2))\n",
    "uplift_topo[:-1] = topography_CU[:-1] + 200\n",
    "uplift_topo[-1] = topography_CU[-1]\n",
    "\n",
    "uplift_bedrock = np.zeros(len(x_2))\n",
    "uplift_bedrock[:-1] = bedrock_elevation_CU[:-1] + 200\n",
    "uplift_bedrock[-1] = bedrock_elevation_CU[-1]"
   ]
  },
  {
   "cell_type": "code",
   "execution_count": 134,
   "id": "52111abf",
   "metadata": {},
   "outputs": [
    {
     "data": {
      "image/png": "[encoded data removed]",
      "text/plain": [
       "<Figure size 432x288 with 1 Axes>"
      ]
     },
     "metadata": {
      "needs_background": "light"
     },
     "output_type": "display_data"
    }
   ],
   "source": [
    "# check what it looks like\n",
    "plt.plot(x_2, topography_CU)\n",
    "plt.plot(x_2, uplift_topo)\n",
    "plt.plot(x_2, bedrock_elevation_CU)\n",
    "plt.plot(x_2, uplift_bedrock)\n",
    "plt.show()"
   ]
  },
  {
   "cell_type": "code",
   "execution_count": 135,
   "id": "eb199cbe",
   "metadata": {},
   "outputs": [],
   "source": [
    "# very good.\n",
    "# now make copies sensu hydrpsymposium figs nb\n",
    "uplift_topo_copy = uplift_topo.copy()\n",
    "uplift_bedrock_copy = uplift_bedrock.copy()\n",
    "\n",
    "uplift_topo_1 = uplift_topo.copy()\n",
    "uplift_bedrock_1 = uplift_bedrock.copy()\n",
    "\n",
    "uplift_topo_5 = uplift_topo.copy()\n",
    "uplift_bedrock_5 = uplift_bedrock.copy()\n",
    "\n",
    "uplift_topo_10 = uplift_topo.copy()\n",
    "uplift_bedrock_10 = uplift_bedrock.copy()\n",
    "\n",
    "uplift_topo_25 = uplift_topo.copy()\n",
    "uplift_bedrock_25 = uplift_bedrock.copy()\n",
    "\n",
    "uplift_topo_50 = uplift_topo.copy()\n",
    "uplift_bedrock_50 = uplift_bedrock.copy()\n",
    "\n",
    "uplift_topo_100 = uplift_topo.copy()\n",
    "uplift_bedrock_100 = uplift_bedrock.copy()\n",
    "\n",
    "uplift_topo_250 = uplift_topo.copy()\n",
    "uplift_bedrock_250 = uplift_bedrock.copy()\n",
    "\n",
    "uplift_topo_500 = uplift_topo.copy()\n",
    "uplift_bedrock_500 = uplift_bedrock.copy()\n",
    "\n",
    "uplift_topo_1000 = uplift_topo.copy()\n",
    "uplift_bedrock_1000 = uplift_bedrock.copy()\n",
    "\n",
    "uplift_topo_5000 = uplift_topo.copy()\n",
    "uplift_bedrock_5000 = uplift_bedrock.copy()\n",
    "\n",
    "uplift_topo_10000 = uplift_topo.copy()\n",
    "uplift_bedrock_10000 = uplift_bedrock.copy()\n",
    "\n",
    "uplift_topo_25000 = uplift_topo.copy()\n",
    "uplift_bedrock_25000 = uplift_bedrock.copy()\n",
    "\n",
    "uplift_topo_50000 = uplift_topo.copy()\n",
    "uplift_bedrock_50000 = uplift_bedrock.copy()"
   ]
  },
  {
   "cell_type": "code",
   "execution_count": 136,
   "id": "1d91d9e5",
   "metadata": {},
   "outputs": [],
   "source": [
    "# now design some experiments!\n",
    "# U stand for uplift\n",
    "U1 = [x_2, dx_2, Hstar_2, H_2, uplift_bedrock_1, uplift_topo_1, \n",
    "      beta_ig_2, beta_sed_2, atr_factor_2, k_ig_2, k_sed_2, r_2, 1, 0.001, 1]\n",
    "\n",
    "U5 = [x_2, dx_2, Hstar_2, H_2, uplift_bedrock_5, uplift_topo_5, \n",
    "      beta_ig_2, beta_sed_2, atr_factor_2, k_ig_2, k_sed_2, r_2, 1, 0.001, 5]\n",
    "\n",
    "U10 = [x_2, dx_2, Hstar_2, H_2, uplift_bedrock_10, uplift_topo_10, \n",
    "       beta_ig_2, beta_sed_2, atr_factor_2, k_ig_2, k_sed_2, r_2, 1, 0.001, 10]\n",
    "\n",
    "U25 = [x_2, dx_2, Hstar_2, H_2, uplift_bedrock_25, uplift_topo_25, \n",
    "       beta_ig_2, beta_sed_2, atr_factor_2, k_ig_2, k_sed_2, r_2, 1, 0.001, 25]\n",
    "\n",
    "U50 = [x_2, dx_2, Hstar_2, H_2, uplift_bedrock_50, uplift_topo_50, \n",
    "       beta_ig_2, beta_sed_2, atr_factor_2, k_ig_2, k_sed_2, r_2, 1, 0.001, 50]\n",
    "\n",
    "U100 = [x_2, dx_2, Hstar_2, H_2, uplift_bedrock_100, uplift_topo_100, \n",
    "        beta_ig_2, beta_sed_2, atr_factor_2, k_ig_2, k_sed_2, r_2, 1, 0.001, 100]\n",
    "\n",
    "U250 = [x_2, dx_2, Hstar_2, H_2, uplift_bedrock_250, uplift_topo_250, \n",
    "        beta_ig_2, beta_sed_2, atr_factor_2, k_ig_2, k_sed_2, r_2, 1, 0.001, 250]\n",
    "\n",
    "U500 = [x_2, dx_2, Hstar_2, H_2, uplift_bedrock_500, uplift_topo_500, \n",
    "        beta_ig_2, beta_sed_2, atr_factor_2, k_ig_2, k_sed_2, r_2, 1, 0.001, 500]\n",
    "\n",
    "U1000 = [x_2, dx_2, Hstar_2, H_2, uplift_bedrock_1000, uplift_topo_1000, \n",
    "         beta_ig_2, beta_sed_2, atr_factor_2, k_ig_2, k_sed_2, r_2, 1, 0.001, 1000]\n",
    "\n",
    "U5000 = [x_2, dx_2, Hstar_2, H_2, uplift_bedrock_5000, uplift_topo_5000, \n",
    "         beta_ig_2, beta_sed_2, atr_factor_2, k_ig_2, k_sed_2, r_2, 1, 0.001, 5000]\n",
    "\n",
    "U10000 = [x_2, dx_2, Hstar_2, H_2, uplift_bedrock_10000, uplift_topo_10000, \n",
    "          beta_ig_2, beta_sed_2, atr_factor_2, k_ig_2, k_sed_2, r_2, 1, 0.001, 10000]\n",
    "\n",
    "U25000 = [x_2, dx_2, Hstar_2, H_2, uplift_bedrock_25000, uplift_topo_25000, \n",
    "          beta_ig_2, beta_sed_2, atr_factor_2, k_ig_2, k_sed_2, r_2, 1, 0.001, 25000]\n",
    "\n",
    "U50000 = [x_2, dx_2, Hstar_2, H_2, uplift_bedrock_50000, uplift_topo_50000, \n",
    "          beta_ig_2, beta_sed_2, atr_factor_2, k_ig_2, k_sed_2, r_2, 1, 0.001, 50000]"
   ]
  },
  {
   "cell_type": "code",
   "execution_count": 137,
   "id": "e4b94717",
   "metadata": {},
   "outputs": [
    {
     "name": "stdout",
     "output_type": "stream",
     "text": [
      "6.745061757104081\n"
     ]
    }
   ],
   "source": [
    "# now run all input experiments, making copies of each\n",
    "(uplift_eta_1,\n",
    "uplift_etab_1,\n",
    "uplift_S_1,\n",
    "uplift_efac_1,\n",
    "uplift_qs_1,\n",
    "uplift_ero_plucking_ig_1, \n",
    "uplift_ero_plucking_sed_1,\n",
    "uplift_ero_ab_ig_1,\n",
    "uplift_ero_ab_sed_1,\n",
    "uplift_bedrock_ero_rate_1, \n",
    "uplift_atr_1, \n",
    "uplift_sedimentation_rate_1, \n",
    "uplift_H_1, \n",
    "uplift_total_ero_rate_1,\n",
    "uplift_cum_time_1) = two_lith_one_sed(*U1)\n",
    "\n",
    "uplift_eta_1_copy = uplift_eta_1.copy()\n",
    "uplift_etab_1_copy = uplift_etab_1.copy()\n",
    "uplift_S_1_copy = uplift_S_1.copy()\n",
    "uplift_efac_1_copy = uplift_efac_1.copy()\n",
    "uplift_qs_1_copy = uplift_qs_1.copy()\n",
    "uplift_ero_plucking_ig_1_copy = uplift_ero_plucking_ig_1.copy()\n",
    "uplift_ero_plucking_sed_1_copy = uplift_ero_plucking_sed_1.copy()\n",
    "uplift_ero_ab_ig_1_copy = uplift_ero_ab_ig_1.copy()\n",
    "uplift_ero_ab_sed_1_copy = uplift_ero_ab_sed_1.copy()\n",
    "uplift_bedrock_ero_rate_1_copy = uplift_bedrock_ero_rate_1.copy()\n",
    "uplift_atr_1_copy = uplift_atr_1.copy()\n",
    "uplift_sedimentation_rate_1_copy = uplift_sedimentation_rate_1.copy()\n",
    "uplift_H_1_copy = uplift_H_1.copy()\n",
    "uplift_total_ero_rate_1_copy = uplift_total_ero_rate_1.copy()\n",
    "uplift_cum_time_1_copy = uplift_cum_time_1.copy()"
   ]
  },
  {
   "cell_type": "code",
   "execution_count": 138,
   "id": "be60604a",
   "metadata": {},
   "outputs": [
    {
     "name": "stdout",
     "output_type": "stream",
     "text": [
      "33.98338283218085\n",
      "67.35105909278813\n",
      "168.40605741736616\n",
      "336.7233155337197\n"
     ]
    }
   ],
   "source": [
    "# 5 timesteps\n",
    "(uplift_eta_5,\n",
    "uplift_etab_5,\n",
    "uplift_S_5,\n",
    "uplift_efac_5,\n",
    "uplift_qs_5,\n",
    "uplift_ero_plucking_ig_5, \n",
    "uplift_ero_plucking_sed_5,\n",
    "uplift_ero_ab_ig_5,\n",
    "uplift_ero_ab_sed_5,\n",
    "uplift_bedrock_ero_rate_5, \n",
    "uplift_atr_5, \n",
    "uplift_sedimentation_rate_5, \n",
    "uplift_H_5, \n",
    "uplift_total_ero_rate_5,\n",
    "uplift_cum_time_5) = two_lith_one_sed(*U5)\n",
    "\n",
    "uplift_eta_5_copy = uplift_eta_5.copy()\n",
    "uplift_etab_5_copy = uplift_etab_5.copy()\n",
    "uplift_S_5_copy = uplift_S_5.copy()\n",
    "uplift_efac_5_copy = uplift_efac_5.copy()\n",
    "uplift_qs_5_copy = uplift_qs_5.copy()\n",
    "uplift_ero_plucking_ig_5_copy = uplift_ero_plucking_ig_5.copy()\n",
    "uplift_ero_plucking_sed_5_copy = uplift_ero_plucking_sed_5.copy()\n",
    "uplift_ero_ab_ig_5_copy = uplift_ero_ab_ig_5.copy()\n",
    "uplift_ero_ab_sed_5_copy = uplift_ero_ab_sed_5.copy()\n",
    "uplift_bedrock_ero_rate_5_copy = uplift_bedrock_ero_rate_5.copy()\n",
    "uplift_atr_5_copy = uplift_atr_5.copy()\n",
    "uplift_sedimentation_rate_5_copy = uplift_sedimentation_rate_5.copy()\n",
    "uplift_H_5_copy = uplift_H_5.copy()\n",
    "uplift_total_ero_rate_5_copy = uplift_total_ero_rate_5.copy()\n",
    "uplift_cum_time_5_copy = uplift_cum_time_5.copy()\n",
    "\n",
    "\n",
    "# 10 timesteps\n",
    "(uplift_eta_10,\n",
    "uplift_etab_10,\n",
    "uplift_S_10,\n",
    "uplift_efac_10,\n",
    "uplift_qs_10,\n",
    "uplift_ero_plucking_ig_10, \n",
    "uplift_ero_plucking_sed_10,\n",
    "uplift_ero_ab_ig_10,\n",
    "uplift_ero_ab_sed_10,\n",
    "uplift_bedrock_ero_rate_10, \n",
    "uplift_atr_10, \n",
    "uplift_sedimentation_rate_10, \n",
    "uplift_H_10, \n",
    "uplift_total_ero_rate_10,\n",
    "uplift_cum_time_10) = two_lith_one_sed(*U10)\n",
    "\n",
    "uplift_eta_10_copy = uplift_eta_10.copy()\n",
    "uplift_etab_10_copy = uplift_etab_10.copy()\n",
    "uplift_S_10_copy = uplift_S_10.copy()\n",
    "uplift_efac_10_copy = uplift_efac_10.copy()\n",
    "uplift_qs_10_copy = uplift_qs_10.copy()\n",
    "uplift_ero_plucking_ig_10_copy = uplift_ero_plucking_ig_10.copy()\n",
    "uplift_ero_plucking_sed_10_copy = uplift_ero_plucking_sed_10.copy()\n",
    "uplift_ero_ab_ig_10_copy = uplift_ero_ab_ig_10.copy()\n",
    "uplift_ero_ab_sed_10_copy = uplift_ero_ab_sed_10.copy()\n",
    "uplift_bedrock_ero_rate_10_copy = uplift_bedrock_ero_rate_10.copy()\n",
    "uplift_atr_10_copy = uplift_atr_10.copy()\n",
    "uplift_sedimentation_rate_10_copy = uplift_sedimentation_rate_10.copy()\n",
    "uplift_H_10_copy = uplift_H_10.copy()\n",
    "uplift_total_ero_rate_10_copy = uplift_total_ero_rate_10.copy()\n",
    "uplift_cum_time_10_copy = uplift_cum_time_10.copy()\n",
    "\n",
    "\n",
    "# 25 timesteps\n",
    "(uplift_eta_25,\n",
    "uplift_etab_25,\n",
    "uplift_S_25,\n",
    "uplift_efac_25,\n",
    "uplift_qs_25,\n",
    "uplift_ero_plucking_ig_25, \n",
    "uplift_ero_plucking_sed_25,\n",
    "uplift_ero_ab_ig_25,\n",
    "uplift_ero_ab_sed_25,\n",
    "uplift_bedrock_ero_rate_25, \n",
    "uplift_atr_25, \n",
    "uplift_sedimentation_rate_25, \n",
    "uplift_H_25, \n",
    "uplift_total_ero_rate_25,\n",
    "uplift_cum_time_25) = two_lith_one_sed(*U25)\n",
    "\n",
    "uplift_eta_25_copy = uplift_eta_25.copy()\n",
    "uplift_etab_25_copy = uplift_etab_25.copy()\n",
    "uplift_S_25_copy = uplift_S_25.copy()\n",
    "uplift_efac_25_copy = uplift_efac_25.copy()\n",
    "uplift_qs_25_copy = uplift_qs_25.copy()\n",
    "uplift_ero_plucking_ig_25_copy = uplift_ero_plucking_ig_25.copy()\n",
    "uplift_ero_plucking_sed_25_copy = uplift_ero_plucking_sed_25.copy()\n",
    "uplift_ero_ab_ig_25_copy = uplift_ero_ab_ig_25.copy()\n",
    "uplift_ero_ab_sed_25_copy = uplift_ero_ab_sed_25.copy()\n",
    "uplift_bedrock_ero_rate_25_copy = uplift_bedrock_ero_rate_25.copy()\n",
    "uplift_atr_25_copy = uplift_atr_25.copy()\n",
    "uplift_sedimentation_rate_25_copy = uplift_sedimentation_rate_25.copy()\n",
    "uplift_H_25_copy = uplift_H_25.copy()\n",
    "uplift_total_ero_rate_25_copy = uplift_total_ero_rate_25.copy()\n",
    "uplift_cum_time_25_copy = uplift_cum_time_25.copy()\n",
    "\n",
    "\n",
    "# 50 timesteps\n",
    "(uplift_eta_50,\n",
    "uplift_etab_50,\n",
    "uplift_S_50,\n",
    "uplift_efac_50,\n",
    "uplift_qs_50,\n",
    "uplift_ero_plucking_ig_50, \n",
    "uplift_ero_plucking_sed_50,\n",
    "uplift_ero_ab_ig_50,\n",
    "uplift_ero_ab_sed_50,\n",
    "uplift_bedrock_ero_rate_50, \n",
    "uplift_atr_50, \n",
    "uplift_sedimentation_rate_50, \n",
    "uplift_H_50, \n",
    "uplift_total_ero_rate_50,\n",
    "uplift_cum_time_50) = two_lith_one_sed(*U50)\n",
    "\n",
    "uplift_eta_50_copy = uplift_eta_50.copy()\n",
    "uplift_etab_50_copy = uplift_etab_50.copy()\n",
    "uplift_S_50_copy = uplift_S_50.copy()\n",
    "uplift_efac_50_copy = uplift_efac_50.copy()\n",
    "uplift_qs_50_copy = uplift_qs_50.copy()\n",
    "uplift_ero_plucking_ig_50_copy = uplift_ero_plucking_ig_50.copy()\n",
    "uplift_ero_plucking_sed_50_copy = uplift_ero_plucking_sed_50.copy()\n",
    "uplift_ero_ab_ig_50_copy = uplift_ero_ab_ig_50.copy()\n",
    "uplift_ero_ab_sed_50_copy = uplift_ero_ab_sed_50.copy()\n",
    "uplift_bedrock_ero_rate_50_copy = uplift_bedrock_ero_rate_50.copy()\n",
    "uplift_atr_50_copy = uplift_atr_50.copy()\n",
    "uplift_sedimentation_rate_50_copy = uplift_sedimentation_rate_50.copy()\n",
    "uplift_H_50_copy = uplift_H_50.copy()\n",
    "uplift_total_ero_rate_50_copy = uplift_total_ero_rate_50.copy()\n",
    "uplift_cum_time_50_copy = uplift_cum_time_50.copy()"
   ]
  },
  {
   "cell_type": "code",
   "execution_count": 139,
   "id": "84f40b0b",
   "metadata": {},
   "outputs": [
    {
     "name": "stdout",
     "output_type": "stream",
     "text": [
      "673.6073253878249\n",
      "1683.7564250383384\n",
      "3367.627010023958\n"
     ]
    }
   ],
   "source": [
    "# 100 timesteps\n",
    "(uplift_eta_100,\n",
    "uplift_etab_100,\n",
    "uplift_S_100,\n",
    "uplift_efac_100,\n",
    "uplift_qs_100,\n",
    "uplift_ero_plucking_ig_100, \n",
    "uplift_ero_plucking_sed_100,\n",
    "uplift_ero_ab_ig_100,\n",
    "uplift_ero_ab_sed_100,\n",
    "uplift_bedrock_ero_rate_100, \n",
    "uplift_atr_100, \n",
    "uplift_sedimentation_rate_100, \n",
    "uplift_H_100, \n",
    "uplift_total_ero_rate_100,\n",
    "uplift_cum_time_100) = two_lith_one_sed(*U100)\n",
    "\n",
    "uplift_eta_100_copy = uplift_eta_100.copy()\n",
    "uplift_etab_100_copy = uplift_etab_100.copy()\n",
    "uplift_S_100_copy = uplift_S_100.copy()\n",
    "uplift_efac_100_copy = uplift_efac_100.copy()\n",
    "uplift_qs_100_copy = uplift_qs_100.copy()\n",
    "uplift_ero_plucking_ig_100_copy = uplift_ero_plucking_ig_100.copy()\n",
    "uplift_ero_plucking_sed_100_copy = uplift_ero_plucking_sed_100.copy()\n",
    "uplift_ero_ab_ig_100_copy = uplift_ero_ab_ig_100.copy()\n",
    "uplift_ero_ab_sed_100_copy = uplift_ero_ab_sed_100.copy()\n",
    "uplift_bedrock_ero_rate_100_copy = uplift_bedrock_ero_rate_100.copy()\n",
    "uplift_atr_100_copy = uplift_atr_100.copy()\n",
    "uplift_sedimentation_rate_100_copy = uplift_sedimentation_rate_100.copy()\n",
    "uplift_H_100_copy = uplift_H_100.copy()\n",
    "uplift_total_ero_rate_100_copy = uplift_total_ero_rate_100.copy()\n",
    "uplift_cum_time_100_copy = uplift_cum_time_100.copy()\n",
    "\n",
    "\n",
    "# 250 timesteps\n",
    "(uplift_eta_250,\n",
    "uplift_etab_250,\n",
    "uplift_S_250,\n",
    "uplift_efac_250,\n",
    "uplift_qs_250,\n",
    "uplift_ero_plucking_ig_250, \n",
    "uplift_ero_plucking_sed_250,\n",
    "uplift_ero_ab_ig_250,\n",
    "uplift_ero_ab_sed_250,\n",
    "uplift_bedrock_ero_rate_250, \n",
    "uplift_atr_250, \n",
    "uplift_sedimentation_rate_250, \n",
    "uplift_H_250, \n",
    "uplift_total_ero_rate_250,\n",
    "uplift_cum_time_250) = two_lith_one_sed(*U250)\n",
    "\n",
    "uplift_eta_250_copy = uplift_eta_250.copy()\n",
    "uplift_etab_250_copy = uplift_etab_250.copy()\n",
    "uplift_S_250_copy = uplift_S_250.copy()\n",
    "uplift_efac_250_copy = uplift_efac_250.copy()\n",
    "uplift_qs_250_copy = uplift_qs_250.copy()\n",
    "uplift_ero_plucking_ig_250_copy = uplift_ero_plucking_ig_250.copy()\n",
    "uplift_ero_plucking_sed_250_copy = uplift_ero_plucking_sed_250.copy()\n",
    "uplift_ero_ab_ig_250_copy = uplift_ero_ab_ig_250.copy()\n",
    "uplift_ero_ab_sed_250_copy = uplift_ero_ab_sed_250.copy()\n",
    "uplift_bedrock_ero_rate_250_copy = uplift_bedrock_ero_rate_250.copy()\n",
    "uplift_atr_250_copy = uplift_atr_250.copy()\n",
    "uplift_sedimentation_rate_250_copy = uplift_sedimentation_rate_250.copy()\n",
    "uplift_H_250_copy = uplift_H_250.copy()\n",
    "uplift_total_ero_rate_250_copy = uplift_total_ero_rate_250.copy()\n",
    "uplift_cum_time_250_copy = uplift_cum_time_250.copy()\n",
    "\n",
    "\n",
    "# 500 timesteps\n",
    "(uplift_eta_500,\n",
    "uplift_etab_500,\n",
    "uplift_S_500,\n",
    "uplift_efac_500,\n",
    "uplift_qs_500,\n",
    "uplift_ero_plucking_ig_500, \n",
    "uplift_ero_plucking_sed_500,\n",
    "uplift_ero_ab_ig_500,\n",
    "uplift_ero_ab_sed_500,\n",
    "uplift_bedrock_ero_rate_500, \n",
    "uplift_atr_500, \n",
    "uplift_sedimentation_rate_500, \n",
    "uplift_H_500, \n",
    "uplift_total_ero_rate_500,\n",
    "uplift_cum_time_500) = two_lith_one_sed(*U500)\n",
    "\n",
    "uplift_eta_500_copy = uplift_eta_500.copy()\n",
    "uplift_etab_500_copy = uplift_etab_500.copy()\n",
    "uplift_S_500_copy = uplift_S_500.copy()\n",
    "uplift_efac_500_copy = uplift_efac_500.copy()\n",
    "uplift_qs_500_copy = uplift_qs_500.copy()\n",
    "uplift_ero_plucking_ig_500_copy = uplift_ero_plucking_ig_500.copy()\n",
    "uplift_ero_plucking_sed_500_copy = uplift_ero_plucking_sed_500.copy()\n",
    "uplift_ero_ab_ig_500_copy = uplift_ero_ab_ig_500.copy()\n",
    "uplift_ero_ab_sed_500_copy = uplift_ero_ab_sed_500.copy()\n",
    "uplift_bedrock_ero_rate_500_copy = uplift_bedrock_ero_rate_500.copy()\n",
    "uplift_atr_500_copy = uplift_atr_500.copy()\n",
    "uplift_sedimentation_rate_500_copy = uplift_sedimentation_rate_500.copy()\n",
    "uplift_H_500_copy = uplift_H_500.copy()\n",
    "uplift_total_ero_rate_500_copy = uplift_total_ero_rate_500.copy()\n",
    "uplift_cum_time_500_copy = uplift_cum_time_500.copy()"
   ]
  },
  {
   "cell_type": "code",
   "execution_count": 140,
   "id": "7275ef7d",
   "metadata": {},
   "outputs": [
    {
     "name": "stdout",
     "output_type": "stream",
     "text": [
      "6734.070753830387\n",
      "33671.541074481596\n"
     ]
    }
   ],
   "source": [
    "# 1000 timesteps\n",
    "(uplift_eta_1000,\n",
    "uplift_etab_1000,\n",
    "uplift_S_1000,\n",
    "uplift_efac_1000,\n",
    "uplift_qs_1000,\n",
    "uplift_ero_plucking_ig_1000, \n",
    "uplift_ero_plucking_sed_1000,\n",
    "uplift_ero_ab_ig_1000,\n",
    "uplift_ero_ab_sed_1000,\n",
    "uplift_bedrock_ero_rate_1000, \n",
    "uplift_atr_1000, \n",
    "uplift_sedimentation_rate_1000, \n",
    "uplift_H_1000, \n",
    "uplift_total_ero_rate_1000,\n",
    "uplift_cum_time_1000) = two_lith_one_sed(*U1000)\n",
    "\n",
    "uplift_eta_1000_copy = uplift_eta_1000.copy()\n",
    "uplift_etab_1000_copy = uplift_etab_1000.copy()\n",
    "uplift_S_1000_copy = uplift_S_1000.copy()\n",
    "uplift_efac_1000_copy = uplift_efac_1000.copy()\n",
    "uplift_qs_1000_copy = uplift_qs_1000.copy()\n",
    "uplift_ero_plucking_ig_1000_copy = uplift_ero_plucking_ig_1000.copy()\n",
    "uplift_ero_plucking_sed_1000_copy = uplift_ero_plucking_sed_1000.copy()\n",
    "uplift_ero_ab_ig_1000_copy = uplift_ero_ab_ig_1000.copy()\n",
    "uplift_ero_ab_sed_1000_copy = uplift_ero_ab_sed_1000.copy()\n",
    "uplift_bedrock_ero_rate_1000_copy = uplift_bedrock_ero_rate_1000.copy()\n",
    "uplift_atr_1000_copy = uplift_atr_1000.copy()\n",
    "uplift_sedimentation_rate_1000_copy = uplift_sedimentation_rate_1000.copy()\n",
    "uplift_H_1000_copy = uplift_H_1000.copy()\n",
    "uplift_total_ero_rate_1000_copy = uplift_total_ero_rate_1000.copy()\n",
    "uplift_cum_time_1000_copy = uplift_cum_time_1000.copy()\n",
    "\n",
    "\n",
    "# 5000 timesteps\n",
    "(uplift_eta_5000,\n",
    "uplift_etab_5000,\n",
    "uplift_S_5000,\n",
    "uplift_efac_5000,\n",
    "uplift_qs_5000,\n",
    "uplift_ero_plucking_ig_5000, \n",
    "uplift_ero_plucking_sed_5000,\n",
    "uplift_ero_ab_ig_5000,\n",
    "uplift_ero_ab_sed_5000,\n",
    "uplift_bedrock_ero_rate_5000, \n",
    "uplift_atr_5000, \n",
    "uplift_sedimentation_rate_5000, \n",
    "uplift_H_5000, \n",
    "uplift_total_ero_rate_5000,\n",
    "uplift_cum_time_5000) = two_lith_one_sed(*U5000)\n",
    "\n",
    "uplift_eta_5000_copy = uplift_eta_5000.copy()\n",
    "uplift_etab_5000_copy = uplift_etab_5000.copy()\n",
    "uplift_S_5000_copy = uplift_S_5000.copy()\n",
    "uplift_efac_5000_copy = uplift_efac_5000.copy()\n",
    "uplift_qs_5000_copy = uplift_qs_5000.copy()\n",
    "uplift_ero_plucking_ig_5000_copy = uplift_ero_plucking_ig_5000.copy()\n",
    "uplift_ero_plucking_sed_5000_copy = uplift_ero_plucking_sed_5000.copy()\n",
    "uplift_ero_ab_ig_5000_copy = uplift_ero_ab_ig_5000.copy()\n",
    "uplift_ero_ab_sed_5000_copy = uplift_ero_ab_sed_5000.copy()\n",
    "uplift_bedrock_ero_rate_5000_copy = uplift_bedrock_ero_rate_5000.copy()\n",
    "uplift_atr_5000_copy = uplift_atr_5000.copy()\n",
    "uplift_sedimentation_rate_5000_copy = uplift_sedimentation_rate_5000.copy()\n",
    "uplift_H_5000_copy = uplift_H_5000.copy()\n",
    "uplift_total_ero_rate_5000_copy = uplift_total_ero_rate_5000.copy()\n",
    "uplift_cum_time_5000_copy = uplift_cum_time_5000.copy()"
   ]
  },
  {
   "cell_type": "code",
   "execution_count": 141,
   "id": "7e6e586b",
   "metadata": {},
   "outputs": [],
   "source": [
    "# just try making a figure with what you have\n",
    "# no. comment out savefig stuff, go up and make timestep bigger, and thenm rerun"
   ]
  },
  {
   "cell_type": "code",
   "execution_count": 142,
   "id": "0c1b9d06",
   "metadata": {},
   "outputs": [
    {
     "name": "stdout",
     "output_type": "stream",
     "text": [
      "67345.32889248403\n"
     ]
    }
   ],
   "source": [
    "# 10000 timesteps\n",
    "(uplift_eta_10000,\n",
    "uplift_etab_10000,\n",
    "uplift_S_10000,\n",
    "uplift_efac_10000,\n",
    "uplift_qs_10000,\n",
    "uplift_ero_plucking_ig_10000, \n",
    "uplift_ero_plucking_sed_10000,\n",
    "uplift_ero_ab_ig_10000,\n",
    "uplift_ero_ab_sed_10000,\n",
    "uplift_bedrock_ero_rate_10000, \n",
    "uplift_atr_10000, \n",
    "uplift_sedimentation_rate_10000, \n",
    "uplift_H_10000, \n",
    "uplift_total_ero_rate_10000,\n",
    "uplift_cum_time_10000) = two_lith_one_sed(*U10000)\n",
    "\n",
    "uplift_eta_10000_copy = uplift_eta_10000.copy()\n",
    "uplift_etab_10000_copy = uplift_etab_10000.copy()\n",
    "uplift_S_10000_copy = uplift_S_10000.copy()\n",
    "uplift_efac_10000_copy = uplift_efac_10000.copy()\n",
    "uplift_qs_10000_copy = uplift_qs_10000.copy()\n",
    "uplift_ero_plucking_ig_10000_copy = uplift_ero_plucking_ig_10000.copy()\n",
    "uplift_ero_plucking_sed_10000_copy = uplift_ero_plucking_sed_10000.copy()\n",
    "uplift_ero_ab_ig_10000_copy = uplift_ero_ab_ig_10000.copy()\n",
    "uplift_ero_ab_sed_10000_copy = uplift_ero_ab_sed_10000.copy()\n",
    "uplift_bedrock_ero_rate_10000_copy = uplift_bedrock_ero_rate_10000.copy()\n",
    "uplift_atr_10000_copy = uplift_atr_10000.copy()\n",
    "uplift_sedimentation_rate_10000_copy = uplift_sedimentation_rate_10000.copy()\n",
    "uplift_H_10000_copy = uplift_H_10000.copy()\n",
    "uplift_total_ero_rate_10000_copy = uplift_total_ero_rate_10000.copy()\n",
    "uplift_cum_time_10000_copy = uplift_cum_time_10000.copy()"
   ]
  },
  {
   "cell_type": "code",
   "execution_count": 143,
   "id": "3473bcd7",
   "metadata": {},
   "outputs": [
    {
     "name": "stdout",
     "output_type": "stream",
     "text": [
      "168351.28058910932\n"
     ]
    }
   ],
   "source": [
    "# 25000 timesteps\n",
    "(uplift_eta_25000,\n",
    "uplift_etab_25000,\n",
    "uplift_S_25000,\n",
    "uplift_efac_25000,\n",
    "uplift_qs_25000,\n",
    "uplift_ero_plucking_ig_25000, \n",
    "uplift_ero_plucking_sed_25000,\n",
    "uplift_ero_ab_ig_25000,\n",
    "uplift_ero_ab_sed_25000,\n",
    "uplift_bedrock_ero_rate_25000, \n",
    "uplift_atr_25000, \n",
    "uplift_sedimentation_rate_25000, \n",
    "uplift_H_25000, \n",
    "uplift_total_ero_rate_25000,\n",
    "uplift_cum_time_25000) = two_lith_one_sed(*U25000)\n",
    "\n",
    "uplift_eta_25000_copy = uplift_eta_25000.copy()\n",
    "uplift_etab_25000_copy = uplift_etab_25000.copy()\n",
    "uplift_S_25000_copy = uplift_S_25000.copy()\n",
    "uplift_efac_25000_copy = uplift_efac_25000.copy()\n",
    "uplift_qs_25000_copy = uplift_qs_25000.copy()\n",
    "uplift_ero_plucking_ig_25000_copy = uplift_ero_plucking_ig_25000.copy()\n",
    "uplift_ero_plucking_sed_25000_copy = uplift_ero_plucking_sed_25000.copy()\n",
    "uplift_ero_ab_ig_25000_copy = uplift_ero_ab_ig_25000.copy()\n",
    "uplift_ero_ab_sed_25000_copy = uplift_ero_ab_sed_25000.copy()\n",
    "uplift_bedrock_ero_rate_25000_copy = uplift_bedrock_ero_rate_25000.copy()\n",
    "uplift_atr_25000_copy = uplift_atr_25000.copy()\n",
    "uplift_sedimentation_rate_25000_copy = uplift_sedimentation_rate_25000.copy()\n",
    "uplift_H_25000_copy = uplift_H_25000.copy()\n",
    "uplift_total_ero_rate_25000_copy = uplift_total_ero_rate_25000.copy()\n",
    "uplift_cum_time_25000_copy = uplift_cum_time_25000.copy()"
   ]
  },
  {
   "cell_type": "code",
   "execution_count": 144,
   "id": "3095d376",
   "metadata": {},
   "outputs": [
    {
     "name": "stdout",
     "output_type": "stream",
     "text": [
      "336703.9260466244\n"
     ]
    }
   ],
   "source": [
    "# 50000 timesteps\n",
    "(uplift_eta_50000,\n",
    "uplift_etab_50000,\n",
    "uplift_S_50000,\n",
    "uplift_efac_50000,\n",
    "uplift_qs_50000,\n",
    "uplift_ero_plucking_ig_50000, \n",
    "uplift_ero_plucking_sed_50000,\n",
    "uplift_ero_ab_ig_50000,\n",
    "uplift_ero_ab_sed_50000,\n",
    "uplift_bedrock_ero_rate_50000, \n",
    "uplift_atr_50000, \n",
    "uplift_sedimentation_rate_50000, \n",
    "uplift_H_50000, \n",
    "uplift_total_ero_rate_50000,\n",
    "uplift_cum_time_50000) = two_lith_one_sed(*U50000)\n",
    "\n",
    "uplift_eta_50000_copy = uplift_eta_50000.copy()\n",
    "uplift_etab_50000_copy = uplift_etab_50000.copy()\n",
    "uplift_S_50000_copy = uplift_S_50000.copy()\n",
    "uplift_efac_50000_copy = uplift_efac_50000.copy()\n",
    "uplift_qs_50000_copy = uplift_qs_50000.copy()\n",
    "uplift_ero_plucking_ig_50000_copy = uplift_ero_plucking_ig_50000.copy()\n",
    "uplift_ero_plucking_sed_50000_copy = uplift_ero_plucking_sed_50000.copy()\n",
    "uplift_ero_ab_ig_50000_copy = uplift_ero_ab_ig_50000.copy()\n",
    "uplift_ero_ab_sed_50000_copy = uplift_ero_ab_sed_50000.copy()\n",
    "uplift_bedrock_ero_rate_50000_copy = uplift_bedrock_ero_rate_50000.copy()\n",
    "uplift_atr_50000_copy = uplift_atr_50000.copy()\n",
    "uplift_sedimentation_rate_50000_copy = uplift_sedimentation_rate_50000.copy()\n",
    "uplift_H_50000_copy = uplift_H_50000.copy()\n",
    "uplift_total_ero_rate_50000_copy = uplift_total_ero_rate_50000.copy()\n",
    "uplift_cum_time_50000_copy = uplift_cum_time_50000.copy()"
   ]
  },
  {
   "cell_type": "code",
   "execution_count": 152,
   "id": "9289c62a",
   "metadata": {},
   "outputs": [
    {
     "data": {
      "image/png": "[encoded data removed]",
      "text/plain": [
       "<Figure size 432x288 with 1 Axes>"
      ]
     },
     "metadata": {
      "needs_background": "light"
     },
     "output_type": "display_data"
    }
   ],
   "source": [
    "# hell yeah! just make sure stuff looks stable..\n",
    "plt.plot(x_2[1:], uplift_eta_1)\n",
    "plt.show()"
   ]
  },
  {
   "cell_type": "code",
   "execution_count": null,
   "id": "34467845",
   "metadata": {},
   "outputs": [],
   "source": []
  },
  {
   "cell_type": "code",
   "execution_count": null,
   "id": "7b54d915",
   "metadata": {},
   "outputs": [],
   "source": []
  }
 ],
 "metadata": {
  "kernelspec": {
   "display_name": "Python 3",
   "language": "python",
   "name": "python3"
  },
  "language_info": {
   "codemirror_mode": {
    "name": "ipython",
    "version": 3
   },
   "file_extension": ".py",
   "mimetype": "text/x-python",
   "name": "python",
   "nbconvert_exporter": "python",
   "pygments_lexer": "ipython3",
   "version": "3.7.6"
  }
 },
 "nbformat": 4,
 "nbformat_minor": 5
}
