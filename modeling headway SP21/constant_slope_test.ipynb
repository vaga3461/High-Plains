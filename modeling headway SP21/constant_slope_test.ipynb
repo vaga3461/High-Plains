{
 "cells": [
  {
   "cell_type": "code",
   "execution_count": 71,
   "id": "4d461c09",
   "metadata": {},
   "outputs": [],
   "source": [
    "# the purpose of this notebook is to figure out what's up with the non-constant slope\n",
    "# in my \"simple case 1,\"\n",
    "# which was meant to test a version of the model with: \n",
    "# unlimited sediment supply (i.e., no bedrock erosion stuff happening)\n",
    "# and no abrasion"
   ]
  },
  {
   "cell_type": "markdown",
   "id": "81425714",
   "metadata": {},
   "source": [
    "##### First, a few observations from combing through Wickert and Schildgen (2019):\n",
    "- They find analytical solutions for two cases: equilibrium-width and fixed-width rivers\n",
    "> Note: The authors state the following when defining an equilibrium width river: <i>\"...equilibrium-width gravel-bed river that lies within a valley whose shape is arbitrary (although at least as wide as the channel) and may evolve through time.\"</i> This makes it sounds like the valley width changes through time, which is different from how we've been treating the set-up (channel width changes but valley width is constant).\n",
    "- For equilibrium-width rivers, they state that they have no analytical solution for the case where $dz/dt = 0$, however they do have a solution for a case where $dz/dt = U$.\n",
    "> This solution (Eqns 39 and 40) is solvable for $z$ and has a power law formulation. It doesn't necessarily produce constant slope profiles, and the profile concavity/convexity can be tweaked with the parameters $P_{xb}$ and $P_{xQ}$, which control how valley width and discharge scale with distance downstream. \n",
    "> When $P_{xb} = P_{xQ}$, as in our case, then the profile should be straight. One (maybe) red flag is that in our model, it will always be the case that $P_{xb} = P_{xQ}$, due to how $Q$ is calculated by integrating over $B$.\n",
    "- For fixed-width rivers, they state that they find an analytical solution for a case where $dz/dt = 0$ and $U = 0$. \n",
    "> For this case, they find a constant slope (Eqns 41 and 42).\n",
    "- Both of their analytical solutions yield second order non-linear ODEs, which do not appear in my derivations because I ignore the channel directionality bit.\n",
    "- <b>We are concerned with equilibrium-width channels;</b> below is a derivation for a case with unlimited sediment, no abrasion, and no lateral sediment flux. Solutions are presented for two cases: $dz/dt = 0$ and $dz/dt = U$."
   ]
  },
  {
   "cell_type": "markdown",
   "id": "a382450e",
   "metadata": {},
   "source": [
    "Start with mass conservation:\n",
    "\n",
    "$$\\frac{\\partial M}{\\partial t} = \\text{Mass in} - \\text{Mass out}$$\n",
    "\n",
    "Remember what mass is...\n",
    "\n",
    "$$M = DV$$\n",
    "\n",
    "In our conception of an equilibrium-width river flowing within a valley of fixed width, we can envision a grid cell, representing our valley, of length $\\Delta x$, width $B$, and some height (height of sediment thickness within the cell, for example) $z$. The mass of that cell can then be written as:\n",
    "\n",
    "$$\\text{Mass} = B \\Delta x z (1 - \\phi) \\rho$$\n",
    "\n",
    "Mass enters the cell through regional uplift and sediment transport into the cell from up-valley. This can be written as:\n",
    "\n",
    "$$\\text{Mass in} = Q_s\\big\\rvert_{x}\\rho + UB\\Delta x \\rho$$\n",
    "\n",
    "The only way mass can leave the cell is through sediment transport out the down-valley cell edge. This can be written as:\n",
    "\n",
    "$$\\text{Mass out} = Q_s\\big\\rvert_{x + \\Delta x}\\rho$$\n",
    "\n",
    "We can combine these three pieces to arrive at an expression of mass conservation within our grid cell:\n",
    "\n",
    "$$\\frac{\\partial B \\Delta x z (1 - \\phi) \\rho}{\\partial t} = Q_s\\big\\rvert_{x}\\rho + UB\\Delta x \\rho - Q_s\\big\\rvert_{x + \\Delta x}\\rho$$\n",
    "\n",
    "Pull out constants in our derivative:\n",
    "\n",
    "$$B \\Delta x  (1 - \\phi) \\rho \\frac{\\partial z}{\\partial t} = Q_s\\big\\rvert_{x}\\rho + UB\\Delta x \\rho - Q_s\\big\\rvert_{x + \\Delta x}\\rho$$\n",
    "\n",
    "Divide through to isolate the derivative:\n",
    "\n",
    "$$\\frac{\\partial z}{\\partial t} = \\frac{Q_s\\big\\rvert_{x}\\rho}{B \\Delta x  (1 - \\phi) \\rho} + \\frac{UB\\Delta x \\rho}{B \\Delta x  (1 - \\phi) \\rho} - \\frac{Q_s\\big\\rvert_{x + \\Delta x}\\rho}{B \\Delta x  (1 - \\phi) \\rho}$$\n",
    "\n",
    "Pull out some common factors, cancel some stuff, rearrange:\n",
    "\n",
    "$$\\frac{\\partial z}{\\partial t} = \\frac{1}{B(1 - \\phi)} \\left(\\frac{Q_s\\big\\rvert_{x}}{ \\Delta x} - \\frac{Q_s\\big\\rvert_{x + \\Delta x}}{\\Delta x} + UB\\right)$$\n",
    "\n",
    "Pull out $(-1)$:\n",
    "\n",
    "$$\\frac{\\partial z}{\\partial t} = - \\frac{1}{B(1 - \\phi)} \\left(\\frac{Q_s\\big\\rvert_{x + \\Delta x}}{\\Delta x} - \\frac{Q_s\\big\\rvert_{x}}{ \\Delta x} - UB\\right)$$\n",
    "\n",
    "And collapse the $Q_s$ terms into a derivative:\n",
    "\n",
    "$$\\boxed{\\frac{\\partial z}{\\partial t} = - \\frac{1}{B(1 - \\phi)} \\left(\\frac{d Q_s}{d x} - UB\\right)}$$"
   ]
  },
  {
   "cell_type": "markdown",
   "id": "7a7ffc78",
   "metadata": {},
   "source": [
    "#### Woo! We have an equation that we can solve for cases like $dz/dt = 0$ or $dz/dt = U$. \n",
    "\n",
    "##### As a reminder of what to expect:\n",
    "\n",
    "- We know that fixed-width rivers ($B$ is a constant, single value) give constant slope, both in Wickert and Schildgen (2019) and in our experiment.\n",
    "> But we do need to run a little experiment to see if the prediction is the same as the model.\n",
    "\n",
    "- Wickert and Schildgen (2019) can get a constant slope, if $P_{xb}$ = $P_{xQ}$, for the case where $dz/dt = U$ (they state they have no analytical solution for when $dz/dt = U$).\n",
    "> We can somewhat replicate this, but the model doesn't match our analytical solution and I don't know if the way boundary conditions are set is leading to a spurious outcome.\n",
    "\n",
    "Below, we will solve our equation for slope for an equilibrium-width river (meaning $B$ is not constant in space) for two cases: $dz/dt = 0$ and $dz/dt = U$."
   ]
  },
  {
   "cell_type": "markdown",
   "id": "34f89672",
   "metadata": {},
   "source": [
    "First, set $dz/dt = 0$:\n",
    "\n",
    "$$0 = - \\frac{1}{B(1 - \\phi)} \\left(\\frac{d Q_s}{d x} - UB\\right)$$\n",
    "\n",
    "Multiply both sides by the coefficient:\n",
    "\n",
    "$$0 = \\frac{d Q_s}{d x} - UB$$\n",
    "\n",
    "Rearrange:\n",
    "\n",
    "$$\\frac{d Q_s}{d x} = UB$$\n",
    "\n",
    "Multiply by $dx$:\n",
    "\n",
    "$$d Q_s = UB dx$$\n",
    "\n",
    "Integrate both sides, pulling out constants and replacing $B$ with Eqn 35 from Wickert and Schildgen (2019) (here we use $a$ instead of $k_{x, B}$, and $1/5$ for $P_{x, B}$):\n",
    "\n",
    "$$\\int_{0}^{Q_s} d Q_s = U a \\int_{0}^{x} x^{1/5} dx$$\n",
    "\n",
    "Solve the integrals:\n",
    "\n",
    "$$Q_s = \\frac{5}{6} U a x^{6/5}$$\n",
    "\n",
    "We can now replace $Q_s$ with Equation 17 from Wickert and Schildgen (2019). \n",
    "\n",
    "$$k_{Qs} I Q S^{7/6} = \\frac{5}{6} U a x^{6/5}$$\n",
    "\n",
    "Rewrite $Q$ to represent the upstream integrated runoff:\n",
    "\n",
    "$$Q = r A$$\n",
    "\n",
    "$$A = B dx$$\n",
    "\n",
    "$$Q = \\int_{0}^{x} r B dx$$\n",
    "\n",
    "Replace $B$ again, pull out constants, and solve the integral:\n",
    "\n",
    "$$Q = r a \\int_{0}^{x} x^{1/5} dx$$\n",
    "\n",
    "$$Q = \\frac{5}{6} r a x^{6/5}$$\n",
    "\n",
    "Make the above substitution for $Q$:\n",
    "\n",
    "$$k_{Qs} I \\frac{5}{6} r a x^{6/5} S^{7/6} = \\frac{5}{6} U a x^{6/5}$$\n",
    "\n",
    "Cancel stuff, rearrange, and solve for $S$:\n",
    "\n",
    "$$\\boxed {S = \\left(\\frac{U}{k_{Qs} I r}\\right)^{6/7}}$$\n",
    "\n",
    "### The above equation is for a case where $dz/dt = 0$ !\n",
    "\n",
    "Below, we'll solve for $dz/dt = U$."
   ]
  },
  {
   "cell_type": "markdown",
   "id": "c23238f8",
   "metadata": {},
   "source": [
    "Set $dz/dt = U$:\n",
    "\n",
    "$$U = - \\frac{1}{B(1 - \\phi)} \\left(\\frac{d Q_s}{d x} - UB\\right)$$\n",
    "\n",
    "Multiply both sides by coefficient and distribute $(-)$ sign:\n",
    "\n",
    "$$UB(1 - \\phi) = UB - \\frac{d Q_s}{d x}$$\n",
    "\n",
    "Rearrange and simplify:\n",
    "\n",
    "$$\\frac{d Q_s}{d x} = UB - UB(1 - \\phi)$$\n",
    "\n",
    "$$\\frac{d Q_s}{d x} = UB (1 - (1 - \\phi))$$\n",
    "\n",
    "$$\\frac{d Q_s}{d x} = UB\\phi$$\n",
    "\n",
    "Multiply by $dx$:\n",
    "\n",
    "$$d Q_s = UB\\phi dx$$\n",
    "\n",
    "Integrate both sides, pulling out constants and replacing $B$ with Eqn 35 from Wickert and Schildgen (2019) (here we use $a$ instead of $k_{x, B}$, and $1/5$ for $P_{x, B}$):\n",
    "\n",
    "$$\\int_{0}^{Q_s} d Q_s = U \\phi a \\int_{0}^{x} x^{1/5} dx$$\n",
    "\n",
    "Solve the integrals:\n",
    "\n",
    "$$Q_s = \\frac{5}{6} U \\phi a x^{6/5}$$\n",
    "\n",
    "Replace $Q_s$ with Equation 17 from Wickert and Schildgen (2019), rewriting $Q$ to represent upstream integrated runoff:\n",
    "\n",
    "$$k_{Qs} I \\frac{5}{6} r a x^{6/5} S^{7/6} = \\frac{5}{6} U \\phi a x^{6/5}$$\n",
    "\n",
    "Cancel stuff, rearrange, and solve for $S$:\n",
    "\n",
    "$$\\boxed{S = \\left(\\frac{U \\phi}{k_{Qs} I r}\\right)^{6/7}}$$\n",
    "\n",
    "### The above equation is for a case where $dz/dt = U$ !\n",
    "\n",
    "##### Below, we test these solutions for an equilibrium-width river."
   ]
  },
  {
   "cell_type": "code",
   "execution_count": 72,
   "id": "628844ea",
   "metadata": {},
   "outputs": [],
   "source": [
    "# start by importing libraries\n",
    "import numpy as np\n",
    "import matplotlib.pyplot as plt"
   ]
  },
  {
   "cell_type": "code",
   "execution_count": 148,
   "id": "7202401a",
   "metadata": {},
   "outputs": [],
   "source": [
    "# now set up arrays and parameters\n",
    "\n",
    "dx = 1000 # grid spacing\n",
    "x = np.arange(0, 10000, dx) # domain length\n",
    "x_node = x + dx/2\n",
    "\n",
    "z_0 = np.linspace(1, 0, len(x)) # need to start with slight bedrock slope\n",
    "\n",
    "U = 0.001 # uplift rate\n",
    "phi = 0.55 # sediment porosity\n",
    "kqs = 0.041 # sediment discharge coefficient\n",
    "I = 0.01 # intermittency factor\n",
    "r = 10. # runoff rate\n",
    "kxb = 25 # valley width coeffecient (a, above)\n",
    "Pxb = (1/5) # valley width exponent\n",
    "\n",
    "B = kxb * (x_node**Pxb) # valley width   ## TWEAKED\n",
    "Q = (r * kxb * x**(6/5))/(1 + Pxb) # discharge  ## WE TWEAKED THIS"
   ]
  },
  {
   "cell_type": "code",
   "execution_count": 149,
   "id": "c23d122f",
   "metadata": {},
   "outputs": [],
   "source": [
    "# now create a function for the case where dzdt=0\n",
    "\n",
    "def all_sed_0(dx, x, z, U, phi, kqs, I, r, kxb, Pxb, B, Q, num_steps=2000000):\n",
    "    \n",
    "    # set timestep\n",
    "    dt = (0.5 * dx * dx / (kqs*Q[-1]))\n",
    "    \n",
    "    # create arrays\n",
    "    Qs = np.zeros(len(x))\n",
    "    E = np.zeros(len(x))\n",
    "    dzdt = np.zeros(len(x))\n",
    "    \n",
    "    # set boundary conditions\n",
    "    Qs[0] = 0\n",
    "    #E[-1] = 0\n",
    "    dzdt[-1] = 0 # dzdt at outlet = 0 for case where dzdt = 0\n",
    "    \n",
    "    for i in range(num_steps):\n",
    "        \n",
    "        # calculate slope\n",
    "        S = np.abs(np.diff(z)/dx)\n",
    "        \n",
    "        # calculate sediment transport\n",
    "        ##Qs[1:] = kqs * I * Q[1:] * S**(7./6.)\n",
    "        Qs[1:] = kqs * I * Q[1:] * S**(7./6.)\n",
    "        \n",
    "        # erosion\n",
    "        # \"old\" indexing from [:-1]\n",
    "        ##E[1:] = (1/((1-phi)*B[1:])) * ((np.diff(Qs)/dx))\n",
    "        ##E[:-1] = (1/((1-phi)*B[1:])) * ((np.diff(Qs)/dx))\n",
    "        E[:-1] = (1/((1-phi)*B[:-1])) * ((np.diff(Qs)/dx))\n",
    "        \n",
    "        # calculate rate of elevation change\n",
    "        # \"old\" indexing of E from [:-1]\n",
    "        ##dzdt[:-1] = U - E[1:]\n",
    "        dzdt[:-1] = U - E[:-1]\n",
    "        \n",
    "        # update profile\n",
    "        z += dzdt * dt\n",
    "        \n",
    "#         print('starting slope for step', i, \":\", S, \"\\n\")\n",
    "#         print('final elevation for step', i, \":\", z, \"\\n\")\n",
    "        \n",
    "    cum_time = num_steps * dt\n",
    "    print(cum_time)\n",
    "        \n",
    "    return (S, Qs, E, dzdt, z, dt)"
   ]
  },
  {
   "cell_type": "code",
   "execution_count": 150,
   "id": "2384f5a6",
   "metadata": {},
   "outputs": [
    {
     "name": "stdout",
     "output_type": "stream",
     "text": [
      "2105553.9288030523\n"
     ]
    }
   ],
   "source": [
    "# now write a test\n",
    "test_0 = [dx, x, z_0, U, phi, kqs, I, r, kxb, Pxb, B, Q]\n",
    "\n",
    "# and run it\n",
    "slope_0, Qs_0, E_0, dzdt_0, model_z_0, dt_0 = all_sed_0(*test_0)"
   ]
  },
  {
   "cell_type": "code",
   "execution_count": 151,
   "id": "d9781a5a",
   "metadata": {},
   "outputs": [
    {
     "data": {
      "text/plain": [
       "array([0.00084272, 0.00086897, 0.00089223, 0.00091311, 0.00093188,\n",
       "       0.00094875, 0.00096386, 0.00097736, 0.00098937, 0.        ])"
      ]
     },
     "execution_count": 151,
     "metadata": {},
     "output_type": "execute_result"
    }
   ],
   "source": [
    "# when dzdt = 0, erosion should = uplift (0.001)\n",
    "E_0"
   ]
  },
  {
   "cell_type": "code",
   "execution_count": 153,
   "id": "2466c553",
   "metadata": {},
   "outputs": [
    {
     "name": "stdout",
     "output_type": "stream",
     "text": [
      "Sed flux: [32.85730075 75.06331417]\n",
      "Incoming to node 0 by uplift: 38.98939742747698\n",
      "Sediment transport rate out of node 0: 0.0\n",
      "Predicted equilibrium slope: 0.15049091316999283\n",
      "Actual slope: 0.134920055666111\n",
      "Incoming to node 1 by uplift: 48.57029869237374\n",
      "Total incoming to node 1: 87.55969611985071\n",
      "Slopes: [0.13492006 0.13427185 0.13517095 0.1363714  0.13762639 0.13885942\n",
      " 0.14004179 0.1411622  0.14221665]\n",
      "Discharges: [       0.           829389.93865312  1905437.71636386  3099590.12275802\n",
      "  4377546.34067294  5721669.49638603  7120988.15035439  8567939.88372578\n",
      " 10056960.5609086  11583765.94813897]\n",
      "S_0: 0.15623372042588243\n",
      "S_1: 0.15321725739555744\n",
      "Q_0: 866431.053943933\n"
     ]
    }
   ],
   "source": [
    "print('Sed flux:', Qs_0[1:3])\n",
    "print('Incoming to node 0 by uplift:', U * B[0] * dx * (1 - phi))\n",
    "print('Sediment transport rate out of node 0:', kqs * I * Q[0] * slope_0[0]**(7./6.))\n",
    "print('Predicted equilibrium slope:', (U * (1-phi) / (kqs * I * r))**(6./7.))\n",
    "print('Actual slope:', slope_0[0])\n",
    "print('Incoming to node 1 by uplift:', U * B[1] * dx * (1 - phi))\n",
    "print('Total incoming to node 1:', U * B[0] * dx * (1 - phi) + U * B[1] * dx * (1 - phi))\n",
    "print('Slopes:', slope_0)\n",
    "print('Discharges:', Q)\n",
    "print('S_0:', ((U * B[0] * (1 - phi) * dx)/(kqs * I * Q[1]))**(6./7.))\n",
    "print('S_1:', ((U * (B[0] + B[1]) * (1 - phi) * dx)/(kqs * I * Q[2]))**(6./7.))\n",
    "print('Q_0:', r * B[0] * dx)\n",
    "\n",
    "# print('ratio of discharge to sediment transport, divided by slope:', (Q[1:]/Qs_0[1:])/slope_0)"
   ]
  },
  {
   "cell_type": "code",
   "execution_count": 77,
   "id": "1c57e75d",
   "metadata": {},
   "outputs": [],
   "source": [
    "# create a new elevation array for the case where dzdt = U\n",
    "z_U = np.linspace(1, 0, len(x))"
   ]
  },
  {
   "cell_type": "code",
   "execution_count": 78,
   "id": "7513fd41",
   "metadata": {},
   "outputs": [],
   "source": [
    "# now create a function for the case where dzdt=U\n",
    "\n",
    "def all_sed_U(dx, x, z, U, phi, kqs, I, r, kxb, Pxb, B, Q, num_steps=1000000):\n",
    "    \n",
    "    # set timestep\n",
    "    dt = (0.5 * dx * dx / (kqs*Q[-1]))\n",
    "    \n",
    "    # create arrays\n",
    "    Qs = np.zeros(len(x))\n",
    "    E = np.zeros(len(x))\n",
    "    dzdt = np.zeros(len(x))\n",
    "    \n",
    "    # set boundary conditions\n",
    "    Qs[0] = 0\n",
    "    #E[-1] = 0\n",
    "    dzdt[-1] = U # dzdt at outlet = U for case where dzdt = U\n",
    "    \n",
    "    for i in range(num_steps):\n",
    "        \n",
    "        # calculate slope\n",
    "        S = np.abs(np.diff(z)/dx)\n",
    "        \n",
    "        # calculate sediment transport\n",
    "        Qs[1:] = kqs * I * Q[1:] * S**(7./6.)\n",
    "        \n",
    "        # erosion\n",
    "        E[1:] = (1/((1-phi)*B[1:])) * ((np.diff(Qs)/dx))\n",
    "        # E[:-1] = (1/((1-phi)*B[1:])) * ((np.diff(Qs)/dx))\n",
    "        \n",
    "        # calculate rate of elevation change\n",
    "        dzdt[:-1] = U - E[1:]\n",
    "        # dzdt[:-1] = U - E[:-1]\n",
    "        \n",
    "        # update profile\n",
    "        z += dzdt * dt\n",
    "        \n",
    "#         print('starting slope for step', i, \":\", S, \"\\n\")\n",
    "#         print('final elevation for step', i, \":\", z, \"\\n\")\n",
    "        \n",
    "    cum_time = num_steps * dt\n",
    "    print(cum_time)\n",
    "        \n",
    "    return (S, Qs, E, dzdt, z, dt)"
   ]
  },
  {
   "cell_type": "code",
   "execution_count": 79,
   "id": "a35bc11f",
   "metadata": {},
   "outputs": [
    {
     "name": "stdout",
     "output_type": "stream",
     "text": [
      "69645875.8066785\n"
     ]
    }
   ],
   "source": [
    "# now write a test\n",
    "test_U = [dx, x, z_U, U, phi, kqs, I, r, kxb, Pxb, B, Q]\n",
    "\n",
    "# and run it\n",
    "slope_U, Qs_U, E_U, dzdt_U, model_z_U, dt_U = all_sed_U(*test_U)"
   ]
  },
  {
   "cell_type": "code",
   "execution_count": 80,
   "id": "cd822a76",
   "metadata": {},
   "outputs": [
    {
     "data": {
      "text/plain": [
       "array([0.00000000e+00, 4.27845950e-09, 2.83879183e-09, 1.69109631e-09,\n",
       "       7.56561061e-10])"
      ]
     },
     "execution_count": 80,
     "metadata": {},
     "output_type": "execute_result"
    }
   ],
   "source": [
    "# when dzdt = U, erosion should be 0\n",
    "E_U"
   ]
  },
  {
   "cell_type": "code",
   "execution_count": 81,
   "id": "23cc3e1f",
   "metadata": {},
   "outputs": [],
   "source": [
    "# now calculate the predicted slope using the appropriate equation from the derivations above\n",
    "predicted_slope_0 = (U / (kqs * I * r))**(6./7.)\n",
    "pred_slope_line_0 = np.zeros(len(x))\n",
    "pred_slope_line_0[:] = predicted_slope_0\n",
    "\n",
    "predicted_topo_0 = (-predicted_slope_0 * x) + model_z_0[0]"
   ]
  },
  {
   "cell_type": "code",
   "execution_count": 82,
   "id": "9e64a92a",
   "metadata": {},
   "outputs": [],
   "source": [
    "# now calculate the predicted slope using the appropriate equation from the derivations above\n",
    "predicted_slope_U = ((U * phi) / (kqs * I * r))**(6./7.)\n",
    "pred_slope_line_U = np.zeros(len(x))\n",
    "pred_slope_line_U[:] = predicted_slope_U\n",
    "\n",
    "predicted_topo_U = (-predicted_slope_U * x) + model_z_U[0]"
   ]
  },
  {
   "cell_type": "code",
   "execution_count": 83,
   "id": "f6d4629c",
   "metadata": {},
   "outputs": [],
   "source": [
    "# create a figure to visualize the slopes and topo predicted in an equilibrium river case\n",
    "\n",
    "# fig, (ax1, ax2) = plt.subplots(1, 2, figsize = (14, 4))\n",
    "# fig.suptitle('Equilibrium width river with $dz/dt = 0$', fontsize = 16)\n",
    "# fig.subplots_adjust(top=0.78)\n",
    "\n",
    "# ax1.plot(x[1:], slope_0)\n",
    "# #ax1.plot(x, pred_slope_line)\n",
    "# ax1.set_title('Slope')\n",
    "\n",
    "# ax2.plot(x, model_z_0)\n",
    "# #ax2.plot(x, predicted_topo)\n",
    "# ax2.set_title('Topography')\n",
    "\n",
    "# fig, (ax1, ax2) = plt.subplots(1, 2, figsize = (14, 4))\n",
    "# fig.suptitle('Equilibrium width river with $dz/dt = U$', fontsize = 16)\n",
    "# fig.subplots_adjust(top=0.78)\n",
    "\n",
    "# ax1.plot(x[1:], slope_U)\n",
    "# #ax1.plot(x, pred_slope_line)\n",
    "# ax1.set_title('Slope')\n",
    "\n",
    "# ax2.plot(x, model_z_U)\n",
    "# #ax2.plot(x, predicted_topo)\n",
    "# ax2.set_title('Topography')"
   ]
  },
  {
   "cell_type": "code",
   "execution_count": 84,
   "id": "b9e2019d",
   "metadata": {},
   "outputs": [
    {
     "name": "stdout",
     "output_type": "stream",
     "text": [
      "actual slopes for dz/dt = 0:  [2.77709754 2.6223246  2.55734204 2.52073222]\n",
      "predicted slope for dz/dt = 0:  0.2983710579808087\n",
      "difference:  [2.47872648 2.32395354 2.25897098 2.22236117]\n"
     ]
    }
   ],
   "source": [
    "# difference between actual and predicted slope for case where dzdt = 0:\n",
    "slope_diff_0 = slope_0 - predicted_slope_0\n",
    "print('actual slopes for dz/dt = 0: ', slope_0)\n",
    "print('predicted slope for dz/dt = 0: ', predicted_slope_0)\n",
    "print('difference: ', slope_diff_0)"
   ]
  },
  {
   "cell_type": "code",
   "execution_count": 85,
   "id": "8a0a8d43",
   "metadata": {},
   "outputs": [
    {
     "name": "stdout",
     "output_type": "stream",
     "text": [
      "actual slopes for dz/dt = U:  [6.94801223e-05 5.53513145e-05 4.50537558e-05 3.64654815e-05]\n",
      "predicted slope for dz/dt = U:  0.17873533888944737\n",
      "difference:  [-0.17866586 -0.17867999 -0.17869029 -0.17869887]\n"
     ]
    }
   ],
   "source": [
    "# difference between actual and predicted slope for case where dzdt = U:\n",
    "slope_diff_U = slope_U - predicted_slope_U\n",
    "print('actual slopes for dz/dt = U: ', slope_U)\n",
    "print('predicted slope for dz/dt = U: ', predicted_slope_U)\n",
    "print('difference: ', slope_diff_U)"
   ]
  },
  {
   "cell_type": "markdown",
   "id": "9dc316db",
   "metadata": {},
   "source": [
    "#### Now let's quickly test the fixed-width case\n",
    "\n",
    "##### Math is not shown in this notebook, but the fixed width case resolves to exactly the same analytical solutions as the cases for dxdt = 0 and dzdt = U in an equilibrium width river."
   ]
  },
  {
   "cell_type": "code",
   "execution_count": 86,
   "id": "824f82d1",
   "metadata": {},
   "outputs": [],
   "source": [
    "# set a couple new variables and params for the fixed width case\n",
    "\n",
    "B_fixed = 50\n",
    "z_0_fixed = np.linspace(1, 0, len(x))\n",
    "z_U_fixed = np.linspace(1, 0, len(x))"
   ]
  },
  {
   "cell_type": "code",
   "execution_count": 87,
   "id": "4bfb9f54",
   "metadata": {},
   "outputs": [],
   "source": [
    "# now create a function for the case where dzdt=0 in a fixed width setting\n",
    "\n",
    "def all_sed_0_fixed(dx, x, z, U, phi, kqs, I, r, kxb, Pxb, B, Q, num_steps=1000000):\n",
    "    \n",
    "    # set timestep\n",
    "    dt = (0.5 * dx * dx / (kqs*Q[-1]))\n",
    "    \n",
    "    # create arrays\n",
    "    Qs = np.zeros(len(x))\n",
    "    E = np.zeros(len(x))\n",
    "    dzdt = np.zeros(len(x))\n",
    "    \n",
    "    # set boundary conditions\n",
    "    Qs[0] = 0\n",
    "    #E[-1] = 0\n",
    "    dzdt[-1] = 0 # dzdt at outlet = 0 for case where dzdt = 0\n",
    "    \n",
    "    for i in range(num_steps):\n",
    "        \n",
    "        # calculate slope\n",
    "        S = np.abs(np.diff(z)/dx)\n",
    "        \n",
    "        # calculate sediment transport\n",
    "        Qs[1:] = kqs * I * Q[1:] * S**(7./6.)\n",
    "        \n",
    "        # erosion\n",
    "        E[1:] = (1/((1-phi)*B)) * ((np.diff(Qs)/dx))\n",
    "        # E[:-1] = (1/((1-phi)*B)) * ((np.diff(Qs)/dx))\n",
    "        \n",
    "        # calculate rate of elevation change\n",
    "        dzdt[:-1] = U - E[1:]\n",
    "        # dzdt[:-1] = U - E[:-1]\n",
    "        \n",
    "        # update profile\n",
    "        z += dzdt * dt\n",
    "        \n",
    "#         print('starting slope for step', i, \":\", S, \"\\n\")\n",
    "#         print('final elevation for step', i, \":\", z, \"\\n\")\n",
    "        \n",
    "    cum_time = num_steps * dt\n",
    "    print(cum_time)\n",
    "        \n",
    "    return (S, Qs, E, dzdt, z, dt)"
   ]
  },
  {
   "cell_type": "code",
   "execution_count": 88,
   "id": "5fc3d274",
   "metadata": {},
   "outputs": [
    {
     "name": "stdout",
     "output_type": "stream",
     "text": [
      "69645875.8066785\n"
     ]
    }
   ],
   "source": [
    "# now write a test\n",
    "test_0_f = [dx, x, z_0_fixed, U, phi, kqs, I, r, kxb, Pxb, B_fixed, Q]\n",
    "\n",
    "# and run it\n",
    "slope_0_f, Qs_0_f, E_0_f, dzdt_0_f, model_z_0_f, dt_0_f = all_sed_0_fixed(*test_0_f)"
   ]
  },
  {
   "cell_type": "code",
   "execution_count": 89,
   "id": "00b1b487",
   "metadata": {},
   "outputs": [
    {
     "data": {
      "text/plain": [
       "array([0.   , 0.001, 0.001, 0.001, 0.001])"
      ]
     },
     "execution_count": 89,
     "metadata": {},
     "output_type": "execute_result"
    }
   ],
   "source": [
    "# when dzdt = 0, erosion should = uplift (0.001)\n",
    "E_0_f"
   ]
  },
  {
   "cell_type": "code",
   "execution_count": 95,
   "id": "725a0698",
   "metadata": {},
   "outputs": [],
   "source": [
    "# now create a function for the case where dzdt=U in a fixed width setting\n",
    "\n",
    "def all_sed_U_fixed(dx, x, z, U, phi, kqs, I, r, kxb, Pxb, B, Q, num_steps=1000000):\n",
    "    \n",
    "    # set timestep\n",
    "    dt = (0.5 * dx * dx / (kqs*Q[-1]))\n",
    "    \n",
    "    # create arrays\n",
    "    Qs = np.zeros(len(x))\n",
    "    E = np.zeros(len(x))\n",
    "    dzdt = np.zeros(len(x))\n",
    "    \n",
    "    # set boundary conditions\n",
    "    Qs[0] = 0\n",
    "    #E[-1] = 0\n",
    "    dzdt[-1] = U # dzdt at outlet = U for case where dzdt = U\n",
    "    \n",
    "    for i in range(num_steps):\n",
    "        \n",
    "        # calculate slope\n",
    "        S = np.abs(np.diff(z)/dx)\n",
    "        \n",
    "        # calculate sediment transport\n",
    "        Qs[1:] = kqs * I * Q[1:] * S**(7./6.)\n",
    "        \n",
    "        # erosion\n",
    "        ##E[1:] = (1/((1-phi)*B)) * ((np.diff(Qs)/dx))\n",
    "        E[:-1] = (1/((1-phi)*B)) * ((np.diff(Qs)/dx))\n",
    "        \n",
    "        # calculate rate of elevation change\n",
    "        ##dzdt[:-1] = U - E[1:]\n",
    "        dzdt[:-1] = U - E[:-1]\n",
    "        \n",
    "        # update profile\n",
    "        z += dzdt * dt\n",
    "        \n",
    "#         print('starting slope for step', i, \":\", S, \"\\n\")\n",
    "#         print('final elevation for step', i, \":\", z, \"\\n\")\n",
    "        \n",
    "    cum_time = num_steps * dt\n",
    "    print(cum_time)\n",
    "        \n",
    "    return (S, Qs, E, dzdt, z, dt)"
   ]
  },
  {
   "cell_type": "code",
   "execution_count": 96,
   "id": "5c53ff76",
   "metadata": {},
   "outputs": [
    {
     "name": "stdout",
     "output_type": "stream",
     "text": [
      "69645875.8066785\n"
     ]
    }
   ],
   "source": [
    "# now write a test\n",
    "test_U_f = [dx, x, z_U_fixed, U, phi, kqs, I, r, kxb, Pxb, B_fixed, Q]\n",
    "\n",
    "# and run it\n",
    "slope_U_f, Qs_U_f, E_U_f, dzdt_U_f, model_z_U_f, dt_U_f = all_sed_U_fixed(*test_U_f)"
   ]
  },
  {
   "cell_type": "code",
   "execution_count": 97,
   "id": "a7cc3a35",
   "metadata": {},
   "outputs": [
    {
     "data": {
      "text/plain": [
       "array([1.60225320e-10, 1.03258293e-10, 6.04853738e-11, 2.68607237e-11,\n",
       "       0.00000000e+00])"
      ]
     },
     "execution_count": 97,
     "metadata": {},
     "output_type": "execute_result"
    }
   ],
   "source": [
    "# when dzdt = U, erosion should be 0\n",
    "E_U_f"
   ]
  },
  {
   "cell_type": "code",
   "execution_count": 98,
   "id": "5e47f47f",
   "metadata": {},
   "outputs": [
    {
     "ename": "NameError",
     "evalue": "name 'Qs' is not defined",
     "output_type": "error",
     "traceback": [
      "\u001b[0;31m---------------------------------------------------------------------------\u001b[0m",
      "\u001b[0;31mNameError\u001b[0m                                 Traceback (most recent call last)",
      "\u001b[0;32m<ipython-input-98-2936f388cf1a>\u001b[0m in \u001b[0;36m<module>\u001b[0;34m\u001b[0m\n\u001b[0;32m----> 1\u001b[0;31m \u001b[0mprint\u001b[0m\u001b[0;34m(\u001b[0m\u001b[0;34m'outflux at 1 and 2:'\u001b[0m\u001b[0;34m,\u001b[0m \u001b[0mQs\u001b[0m\u001b[0;34m[\u001b[0m\u001b[0;36m1\u001b[0m\u001b[0;34m:\u001b[0m\u001b[0;36m3\u001b[0m\u001b[0;34m]\u001b[0m\u001b[0;34m)\u001b[0m\u001b[0;34m\u001b[0m\u001b[0;34m\u001b[0m\u001b[0m\n\u001b[0m",
      "\u001b[0;31mNameError\u001b[0m: name 'Qs' is not defined"
     ]
    }
   ],
   "source": [
    "print('outflux at 1 and 2:', Qs_U[1:3])"
   ]
  },
  {
   "cell_type": "code",
   "execution_count": 93,
   "id": "f5ea8de4",
   "metadata": {},
   "outputs": [
    {
     "data": {
      "text/plain": [
       "Text(0.5, 1.0, 'Topography')"
      ]
     },
     "execution_count": 93,
     "metadata": {},
     "output_type": "execute_result"
    },
    {
     "data": {
      "image/png": "[encoded data removed]",
      "text/plain": [
       "<Figure size 1008x288 with 2 Axes>"
      ]
     },
     "metadata": {
      "needs_background": "light"
     },
     "output_type": "display_data"
    },
    {
     "data": {
      "image/png": "[encoded data removed]",
      "text/plain": [
       "<Figure size 1008x288 with 2 Axes>"
      ]
     },
     "metadata": {
      "needs_background": "light"
     },
     "output_type": "display_data"
    }
   ],
   "source": [
    "# now make a figure to visualize all results for both fixed and equilibrium width cases\n",
    "\n",
    "fig, (ax1, ax2) = plt.subplots(1, 2, figsize = (14, 4))\n",
    "fig.suptitle('$dz/dt = 0$', fontsize = 16)\n",
    "fig.subplots_adjust(top=0.78)\n",
    "\n",
    "ax1.plot(x[1:], slope_0_f, label = 'fixed width')\n",
    "ax1.plot(x[1:], slope_0, label = 'equilibrium width')\n",
    "ax1.set_title('Slope')\n",
    "ax1.legend()\n",
    "\n",
    "ax2.plot(x, model_z_0_f)\n",
    "ax2.plot(x, model_z_0)\n",
    "ax2.set_title('Topography')\n",
    "\n",
    "fig, (ax1, ax2) = plt.subplots(1, 2, figsize = (14, 4))\n",
    "fig.suptitle('$dz/dt = U$', fontsize = 16)\n",
    "fig.subplots_adjust(top=0.78)\n",
    "\n",
    "ax1.plot(x[1:], slope_U_f)\n",
    "ax1.plot(x[1:], slope_U)\n",
    "#ax1.plot(x, pred_slope_line)\n",
    "ax1.set_title('Slope')\n",
    "\n",
    "ax2.plot(x, model_z_U_f)\n",
    "ax2.plot(x, model_z_U)\n",
    "#ax2.plot(x, predicted_topo)\n",
    "ax2.set_title('Topography')"
   ]
  },
  {
   "cell_type": "code",
   "execution_count": 94,
   "id": "877e5656",
   "metadata": {},
   "outputs": [
    {
     "name": "stdout",
     "output_type": "stream",
     "text": [
      "actual slopes for dz/dt = 0 in a fixed width river:  [1.53940965 1.36693877 1.2751521  1.21379102]\n",
      "predicted slope for dz/dt = 0:  0.2983710579808087\n",
      "difference:  [1.24103859 1.06856772 0.97678104 0.91541996]\n",
      "actual slopes for dz/dt = U in a fixed width river:  [1.75259890e-05 1.31578631e-05 1.03505298e-05 8.24229275e-06]\n",
      "predicted slope for dz/dt = U:  0.17873533888944737\n",
      "difference:  [-0.17871781 -0.17872218 -0.17872499 -0.1787271 ]\n"
     ]
    }
   ],
   "source": [
    "# difference between actual and predicted slope:\n",
    "slope_diff_0_f = slope_0_f - predicted_slope_0\n",
    "print('actual slopes for dz/dt = 0 in a fixed width river: ', slope_0_f)\n",
    "print('predicted slope for dz/dt = 0: ', predicted_slope_0)\n",
    "print('difference: ', slope_diff_0_f)\n",
    "\n",
    "# difference between actual and predicted slope:\n",
    "slope_diff_U_f = slope_U_f - predicted_slope_U\n",
    "print('actual slopes for dz/dt = U in a fixed width river: ', slope_U_f)\n",
    "print('predicted slope for dz/dt = U: ', predicted_slope_U)\n",
    "print('difference: ', slope_diff_U_f)"
   ]
  },
  {
   "cell_type": "markdown",
   "id": "a08f8feb",
   "metadata": {},
   "source": [
    "So, what have we learned?\n",
    "\n",
    "- The current model set-up (only difference from previous versions of the special case is the handling of boundary conditions) can generate nearly-straight profiles for the case where $dz/dt = 0$, especially in an equilibrium width river, but slopes are super high\n",
    "\n",
    "- All model cases have slopes significantly different from their predictions (prediction is too low for case where $dz/dt = 0$, and too high for cases where $dz/dt = U$)\n",
    "\n",
    "- <b>Why did we do all this?</b>\n",
    "> We were trying to diagnose why the case in which $B$ increases down valley leads to non-constant slopes. \n",
    "\n",
    "> I thought, from an experiment on a 3-node grid, that changing B to be constant would makes the slope uniform; however, on a slightly larger (5-node) grid, this doesn't hold up.\n",
    "\n",
    "> Instead, the inability to replicate a constant slope might be an artifact of how boundary conditions are handled."
   ]
  },
  {
   "cell_type": "code",
   "execution_count": null,
   "id": "0c112694",
   "metadata": {},
   "outputs": [],
   "source": []
  }
 ],
 "metadata": {
  "kernelspec": {
   "display_name": "Python 3",
   "language": "python",
   "name": "python3"
  },
  "language_info": {
   "codemirror_mode": {
    "name": "ipython",
    "version": 3
   },
   "file_extension": ".py",
   "mimetype": "text/x-python",
   "name": "python",
   "nbconvert_exporter": "python",
   "pygments_lexer": "ipython3",
   "version": "3.7.6"
  }
 },
 "nbformat": 4,
 "nbformat_minor": 5
}
