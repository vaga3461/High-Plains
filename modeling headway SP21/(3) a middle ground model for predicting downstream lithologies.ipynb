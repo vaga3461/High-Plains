{
 "cells": [
  {
   "cell_type": "code",
   "execution_count": 7,
   "metadata": {},
   "outputs": [],
   "source": [
    "# this notebook will implement a streamwise abrasion model for three different lithologies."
   ]
  },
  {
   "cell_type": "code",
   "execution_count": 8,
   "metadata": {},
   "outputs": [],
   "source": [
    "import numpy as np\n",
    "import matplotlib.pyplot as plt"
   ]
  },
  {
   "cell_type": "code",
   "execution_count": 9,
   "metadata": {},
   "outputs": [],
   "source": [
    "# we want a 1D model, so start with grid setup stuff\n",
    "dx = 1\n",
    "x = np.arange(1, 101, dx)\n",
    "\n",
    "# now create arrays to hold lithologies\n",
    "ig = np.zeros(len(x))\n",
    "mtm = np.zeros(len(x))\n",
    "sed = np.zeros(len(x))\n",
    "\n",
    "# now assign initial amounts of each lithology (think of this as % of each lithology within the basin)\n",
    "ig[:] = 60\n",
    "mtm[:] = 10\n",
    "sed[:] = 30\n",
    "\n",
    "# come up with some abrasion coefficients\n",
    "# a higher coefficient means the rock will abrade more readily\n",
    "beta_ig = 1e-6\n",
    "beta_mtm = 1e-5\n",
    "beta_sed = 5e-5"
   ]
  },
  {
   "cell_type": "code",
   "execution_count": 10,
   "metadata": {},
   "outputs": [],
   "source": [
    "# now write a loop to see how different lithologies get abraded downstream\n",
    "for i in range(100):\n",
    "    \n",
    "    # create array to hold all grains\n",
    "    all_grains = ig + mtm + sed\n",
    "    \n",
    "    # abrade igneous rocks\n",
    "    ig_amount_abraded = (x**2) * beta_ig\n",
    "    ig -= ig_amount_abraded\n",
    "    ig = np.where(ig_amount_abraded <= 0, 0, ig)\n",
    "    percent_ig = ig/all_grains\n",
    "    \n",
    "    # abrade metamorphic rocks\n",
    "    mtm_amount_abraded = (x**2) * beta_mtm\n",
    "    mtm -= mtm_amount_abraded\n",
    "    mtm = np.where(mtm_amount_abraded <= 0, 0, mtm)\n",
    "    percent_mtm = mtm/all_grains\n",
    "    \n",
    "    # abrade sedimentary rocks\n",
    "    sed_amount_abraded = (x**2) * beta_sed\n",
    "    sed -= sed_amount_abraded\n",
    "    sed = np.where(sed < 0, 0, sed)\n",
    "    percent_sed = sed/all_grains"
   ]
  },
  {
   "cell_type": "code",
   "execution_count": 11,
   "metadata": {
    "scrolled": true
   },
   "outputs": [
    {
     "data": {
      "image/png": "[encoded data removed]",
      "text/plain": [
       "<Figure size 432x288 with 1 Axes>"
      ]
     },
     "metadata": {
      "needs_background": "light"
     },
     "output_type": "display_data"
    }
   ],
   "source": [
    "plt.plot(x, percent_ig, 'k', label = 'igneous', linestyle = '-')\n",
    "plt.plot(x, percent_mtm, 'k', label = 'metamorphic', linestyle = '--')\n",
    "plt.plot(x, percent_sed, 'k', label = 'sedimentary', linestyle = ':')\n",
    "plt.legend()\n",
    "plt.show()"
   ]
  },
  {
   "cell_type": "markdown",
   "metadata": {},
   "source": [
    "cell dimensions: w x h x dx\n",
    "\n",
    "ig mass = (fraction of igneous) x cell volume x (1 - porosity) x ig density\n",
    "\n",
    "rate of igneous mass change = (volume rate in * igneous density) - (volume rate out * igneous density) - (volume rate in * igneous density * abrasion coefficient)\n",
    "\n",
    "volume rate in = (volume/width/time) * width"
   ]
  },
  {
   "cell_type": "markdown",
   "metadata": {},
   "source": [
    "$$\\frac{\\partial m}{\\partial t} = \\rho q_s(x) w - \\rho q_s(x+dx) w - \\rho q_s(x) dx w \\beta$$"
   ]
  },
  {
   "cell_type": "markdown",
   "metadata": {},
   "source": [
    "abrasion rate = q_s x surface area x dx x abrasion coefficient"
   ]
  },
  {
   "cell_type": "code",
   "execution_count": null,
   "metadata": {},
   "outputs": [],
   "source": []
  }
 ],
 "metadata": {
  "kernelspec": {
   "display_name": "Python 3",
   "language": "python",
   "name": "python3"
  },
  "language_info": {
   "codemirror_mode": {
    "name": "ipython",
    "version": 3
   },
   "file_extension": ".py",
   "mimetype": "text/x-python",
   "name": "python",
   "nbconvert_exporter": "python",
   "pygments_lexer": "ipython3",
   "version": "3.7.6"
  }
 },
 "nbformat": 4,
 "nbformat_minor": 4
}
