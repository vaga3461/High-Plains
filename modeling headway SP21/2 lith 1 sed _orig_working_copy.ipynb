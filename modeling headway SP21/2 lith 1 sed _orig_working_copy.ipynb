{
 "cells": [
  {
   "cell_type": "code",
   "execution_count": 1,
   "metadata": {},
   "outputs": [],
   "source": [
    "# this notebook will implement a two lithology - one sediment type model\n",
    "# it encodes the assumption that sedimentary rocks contribute nothing to the bedload sediment flux\n",
    "# (that is, all material eroded from sedimenary rocks is treated as fines)"
   ]
  },
  {
   "cell_type": "code",
   "execution_count": 2,
   "metadata": {},
   "outputs": [],
   "source": [
    "# start by importing libraries\n",
    "import numpy as np\n",
    "import matplotlib.pyplot as plt"
   ]
  },
  {
   "cell_type": "code",
   "execution_count": 3,
   "metadata": {},
   "outputs": [],
   "source": [
    "# SET UP GRID ARRAYS\n",
    "dx = 1\n",
    "x = np.arange(0, 100, dx)\n",
    "\n",
    "# abrasion coefficients from Attal and Lave 2006 in % per km\n",
    "beta_ig = np.zeros(len(x))\n",
    "beta_ig[:50] = 0.004\n",
    "beta_sed = np.zeros(len(x))\n",
    "beta_sed[50:] = 0.098\n",
    "\n",
    "# erodibility values\n",
    "k_ig = np.zeros(len(x))\n",
    "k_ig[:50] = 0.0001\n",
    "k_sed = np.zeros(len(x))\n",
    "k_sed[50:] = 0.001"
   ]
  },
  {
   "cell_type": "code",
   "execution_count": 4,
   "metadata": {},
   "outputs": [],
   "source": [
    "# write a function that has two bedrock lithologies in the domain, but only one contributing sediment to bedload\n",
    "def two_lith_one_sed(x,\n",
    "                     dx,\n",
    "                     beta_ig,\n",
    "                     beta_sed,\n",
    "                     k_ig,\n",
    "                     k_sed,\n",
    "                     c = 1,\n",
    "                     Hstar = 0.1,\n",
    "                     baselevel_rate = 0.01,\n",
    "                     num_steps = 250000, \n",
    "                     porosity = 0.55):\n",
    "    \n",
    "    H = Hstar + np.zeros(len(x))  # sediment thickness\n",
    "    H[-1] = 0.0\n",
    "    etab = -H\n",
    "    eta = etab + H\n",
    "    ero = np.zeros(len(x))  # bedrock erosion rate\n",
    "    q = x  # discharge = distance downstream (first node is left edge of 0th cell)\n",
    "    qs = np.zeros(len(x))  # first node is left edge of 0th cell\n",
    "    dt = 0.2 * dx * dx / (c*q[-1])  # time-step size\n",
    "    t = 0\n",
    "\n",
    "    for i in range(num_steps):\n",
    "        \n",
    "        # lower baselevel\n",
    "        eta[-1] -= baselevel_rate * dt \n",
    "        \n",
    "        # set boundary conditions\n",
    "        etab[-1] = eta[-1]\n",
    "        \n",
    "        # calc slope\n",
    "        S = -np.diff(eta)/dx\n",
    "        # S = 0.001\n",
    "        \n",
    "        # calculate e factor\n",
    "        efac = np.exp(- H / Hstar)\n",
    "        \n",
    "        # calculate total bedload sed flux and set boundary condition\n",
    "        qs[1:] = c * q[1:] * S * (1.0 - efac[:-1])\n",
    "        qs[0] = 0\n",
    "        \n",
    "        # calc bedrock erosion from stream power (plucking)\n",
    "        ero_plucking_ig = efac[:-1] * (k_ig[1:] * q[1:] * S)\n",
    "        ero_plucking_sed = efac[:-1] * (k_sed[1:] * q[1:] * S)\n",
    "        \n",
    "        # calc bedrock erosion from abrasion\n",
    "        ero_ab_ig = efac[:-1] * (beta_ig[:-1] * qs[:-1])\n",
    "        ero_ab_sed = efac[:-1] * (beta_sed[:-1] * qs[:-1])\n",
    "        \n",
    "        # calc bedrock erosion rate from stream power and abrasion\n",
    "        ero[:-1] = ero_plucking_ig + ero_plucking_sed + ero_ab_ig + ero_ab_sed\n",
    "        \n",
    "        # calc change in bedrock elev\n",
    "        etab[:-1] -= ero[:-1] * dt\n",
    "        \n",
    "        # calc grain attrition\n",
    "        atr = beta_ig[1:] * qs[1:]\n",
    "        \n",
    "        # calc change in alluvial thickness\n",
    "        H[:-1] += -((1 / porosity) * ((np.diff(qs)/dx) + atr - ero_plucking_ig)) * dt\n",
    "        \n",
    "        # update elev\n",
    "        eta[:-1] = etab[:-1] + H[:-1]\n",
    "        \n",
    "        if t <= num_steps:\n",
    "            plt.plot(x, H)\n",
    "        else:\n",
    "            break\n",
    "            \n",
    "        t += (50000 * dt)\n",
    "        \n",
    "    return efac, S, qs, eta, etab, ero_plucking_ig, ero_plucking_sed, ero_ab_ig, ero_ab_sed, ero, atr, H"
   ]
  },
  {
   "cell_type": "code",
   "execution_count": 5,
   "metadata": {},
   "outputs": [
    {
     "data": {
      "image/png": "[encoded data removed]",
      "text/plain": [
       "<Figure size 432x288 with 1 Axes>"
      ]
     },
     "metadata": {
      "needs_background": "light"
     },
     "output_type": "display_data"
    }
   ],
   "source": [
    "efac, S, qs, eta, etab, ero_plucking_ig, ero_plucking_sed, ero_ab_ig, ero_ab_sed, ero, atr, H = two_lith_one_sed(x,\n",
    "                                                                                                           dx,\n",
    "                                                                                                           beta_ig,\n",
    "                                                                                                           beta_sed,\n",
    "                                                                                                           k_ig,\n",
    "                                                                                                           k_sed)"
   ]
  },
  {
   "cell_type": "code",
   "execution_count": 6,
   "metadata": {},
   "outputs": [
    {
     "data": {
      "image/png": "[encoded data removed]",
      "text/plain": [
       "<Figure size 432x288 with 1 Axes>"
      ]
     },
     "metadata": {
      "needs_background": "light"
     },
     "output_type": "display_data"
    }
   ],
   "source": [
    "# plt.plot(x, eta, label = 'total elevation')\n",
    "# plt.plot(x, etab, label = 'bedrock')\n",
    "plt.plot(x, H, label = 'sediment')\n",
    "plt.legend()\n",
    "plt.show()"
   ]
  },
  {
   "cell_type": "code",
   "execution_count": 7,
   "metadata": {},
   "outputs": [
    {
     "data": {
      "text/plain": [
       "(0, 1)"
      ]
     },
     "execution_count": 7,
     "metadata": {},
     "output_type": "execute_result"
    },
    {
     "data": {
      "image/png": "[encoded data removed]",
      "text/plain": [
       "<Figure size 864x576 with 4 Axes>"
      ]
     },
     "metadata": {
      "needs_background": "light"
     },
     "output_type": "display_data"
    }
   ],
   "source": [
    "fig, ((ax1, ax2), (ax3, ax4)) = plt.subplots(2, 2, figsize = (12, 8))\n",
    "# fig.tight_layout(pad=3.0)\n",
    "\n",
    "plt.subplots_adjust(left=0.1,\n",
    "                    bottom=0.1, \n",
    "                    right=0.9, \n",
    "                    top=0.9, \n",
    "                    wspace=0.2, \n",
    "                    hspace=0.4)\n",
    "\n",
    "ax1.plot(x[1:], ero[:-1])\n",
    "ax1.set_title('total erosion rate')\n",
    "# ax1.yaxis.set_ticklabels([])\n",
    "ax1.set_xlim(0, 1)\n",
    "\n",
    "ax2.plot(x[1:], H[:-1])\n",
    "ax2.set_title('Alluvial thickness')\n",
    "# ax2.yaxis.set_ticklabels([])\n",
    "ax2.set_xlim(0, 1)\n",
    "\n",
    "ax3.plot(x[1:], atr)\n",
    "ax3.set_title('Attrition')\n",
    "# ax3.yaxis.set_ticklabels([])\n",
    "ax3.set_xlim(0, 1)\n",
    "\n",
    "ax4.plot(x[1:], ero_ab_ig + ero_ab_sed)\n",
    "ax4.set_title('Erosion from abrasion')\n",
    "# ax4.yaxis.set_ticklabels([])\n",
    "ax4.set_xlim(0, 1)"
   ]
  },
  {
   "cell_type": "code",
   "execution_count": 8,
   "metadata": {},
   "outputs": [
    {
     "data": {
      "text/plain": [
       "array([0.00000000e+00, 2.05387633e-09, 9.36381259e-09, 2.77781346e-08,\n",
       "       6.67843457e-08, 1.40845299e-07, 2.71001544e-07, 4.86754265e-07,\n",
       "       8.28238938e-07, 1.34869507e-06, 2.11723228e-06, 3.22188764e-06,\n",
       "       4.77296362e-06, 6.90663059e-06, 9.78877215e-06, 1.36190466e-05,\n",
       "       1.86351329e-05, 2.51171240e-05, 3.33920287e-05, 4.38383367e-05,\n",
       "       5.68906013e-05, 7.30439899e-05, 9.28587540e-05, 1.16964567e-04,\n",
       "       1.46064678e-04, 1.80939837e-04, 2.22451941e-04, 2.71547352e-04,\n",
       "       3.29259858e-04, 3.96713226e-04, 4.75123327e-04, 5.65799796e-04,\n",
       "       6.70147207e-04, 7.89665761e-04, 9.25951458e-04, 1.08069577e-03,\n",
       "       1.25568478e-03, 1.45279791e-03, 1.67400605e-03, 1.92136937e-03,\n",
       "       2.19703460e-03, 2.50323200e-03, 2.84227199e-03, 3.21654144e-03,\n",
       "       3.62849977e-03, 4.08067486e-03, 4.57565880e-03, 5.11610367e-03,\n",
       "       5.70471728e-03, 6.34425900e-03, 7.06316143e-03, 7.70469090e-03,\n",
       "       8.39496722e-03, 9.13509824e-03, 9.92615786e-03, 1.07691764e-02,\n",
       "       1.16651318e-02, 1.26149407e-02, 1.36194513e-02, 1.46794358e-02,\n",
       "       1.57955837e-02, 1.69684958e-02, 1.81986789e-02, 1.94865406e-02,\n",
       "       2.08323850e-02, 2.22364091e-02, 2.36986991e-02, 2.52192278e-02,\n",
       "       2.67978525e-02, 2.84343129e-02, 3.01282300e-02, 3.18791051e-02,\n",
       "       3.36863199e-02, 3.55491358e-02, 3.74666953e-02, 3.94380222e-02,\n",
       "       4.14620237e-02, 4.35374914e-02, 4.56631041e-02, 4.78374302e-02,\n",
       "       5.00589305e-02, 5.23259617e-02, 5.46367798e-02, 5.69895446e-02,\n",
       "       5.93823235e-02, 6.18130969e-02, 6.42797624e-02, 6.67801410e-02,\n",
       "       6.93119822e-02, 7.18729704e-02, 7.44607310e-02, 7.70728369e-02,\n",
       "       7.97068160e-02, 8.23601576e-02, 8.50303207e-02, 8.77147416e-02,\n",
       "       9.04108418e-02, 9.31160367e-02, 9.58277446e-02, 9.85433955e-02])"
      ]
     },
     "execution_count": 8,
     "metadata": {},
     "output_type": "execute_result"
    }
   ],
   "source": [
    "qs"
   ]
  },
  {
   "cell_type": "code",
   "execution_count": 9,
   "metadata": {},
   "outputs": [
    {
     "data": {
      "text/plain": [
       "array([0.36787945, 0.36787946, 0.36787948, 0.36787954, 0.36787964,\n",
       "       0.3678798 , 0.36788006, 0.36788047, 0.36788107, 0.36788194,\n",
       "       0.36788317, 0.36788487, 0.36788718, 0.36789027, 0.36789433,\n",
       "       0.3678996 , 0.36790636, 0.36791494, 0.36792571, 0.3679391 ,\n",
       "       0.36795561, 0.36797579, 0.36800029, 0.3680298 , 0.36806512,\n",
       "       0.36810712, 0.36815678, 0.36821515, 0.36828341, 0.36836284,\n",
       "       0.36845481, 0.36856083, 0.36868252, 0.36882162, 0.36898001,\n",
       "       0.36915969, 0.36936279, 0.36959161, 0.36984854, 0.37013617,\n",
       "       0.3704572 , 0.3708145 , 0.37121111, 0.3716502 , 0.37213513,\n",
       "       0.37266942, 0.37325679, 0.37390111, 0.37460647, 0.37535895,\n",
       "       0.37500746, 0.37576623, 0.37657417, 0.37743409, 0.37834871,\n",
       "       0.37932073, 0.38035281, 0.38144754, 0.38260749, 0.3838352 ,\n",
       "       0.38513317, 0.38650386, 0.3879497 , 0.3894731 , 0.39107642,\n",
       "       0.39276201, 0.39453216, 0.39638914, 0.39833519, 0.40037251,\n",
       "       0.40250326, 0.40472957, 0.40705352, 0.40947717, 0.41200251,\n",
       "       0.4146315 , 0.41736606, 0.42020804, 0.42315926, 0.42622148,\n",
       "       0.42939641, 0.43268568, 0.43609088, 0.43961354, 0.44325511,\n",
       "       0.44701697, 0.45090045, 0.45490678, 0.45903713, 0.4632926 ,\n",
       "       0.46767418, 0.47218281, 0.47681932, 0.48158449, 0.48647898,\n",
       "       0.49150338, 0.49665819, 0.50194383, 0.50736062, 1.        ])"
      ]
     },
     "execution_count": 9,
     "metadata": {},
     "output_type": "execute_result"
    }
   ],
   "source": [
    "efac"
   ]
  },
  {
   "cell_type": "code",
   "execution_count": 10,
   "metadata": {},
   "outputs": [
    {
     "data": {
      "text/plain": [
       "array([1.19530820e-13, 5.44952119e-13, 1.61662303e-12, 3.88669498e-12,\n",
       "       8.19687520e-12, 1.57716829e-11, 2.83280400e-11, 4.82017894e-11,\n",
       "       7.84914604e-11, 1.23219310e-10, 1.87509361e-10, 2.77781850e-10,\n",
       "       4.01963190e-10, 5.69710256e-10, 7.92647525e-10, 1.08461533e-09,\n",
       "       1.46192732e-09, 1.94363494e-09, 2.55179669e-09, 3.31174992e-09,\n",
       "       4.25238256e-09, 5.40640267e-09, 6.81060344e-09, 8.50612164e-09,\n",
       "       1.05386875e-08, 1.29588647e-08, 1.58222789e-08, 1.91898346e-08,\n",
       "       2.31279189e-08, 2.77085938e-08, 3.30097762e-08, 3.91154080e-08,\n",
       "       4.61156182e-08, 5.41068782e-08, 6.31921555e-08, 7.34810686e-08,\n",
       "       8.50900472e-08, 9.81425045e-08, 1.12769026e-07, 1.29107583e-07,\n",
       "       1.47303776e-07, 1.67511121e-07, 1.89891381e-07, 2.14614957e-07,\n",
       "       2.41861350e-07, 2.71819705e-07, 3.04689446e-07, 3.40681025e-07,\n",
       "       3.80016791e-07, 0.00000000e+00, 0.00000000e+00, 0.00000000e+00,\n",
       "       0.00000000e+00, 0.00000000e+00, 0.00000000e+00, 0.00000000e+00,\n",
       "       0.00000000e+00, 0.00000000e+00, 0.00000000e+00, 0.00000000e+00,\n",
       "       0.00000000e+00, 0.00000000e+00, 0.00000000e+00, 0.00000000e+00,\n",
       "       0.00000000e+00, 0.00000000e+00, 0.00000000e+00, 0.00000000e+00,\n",
       "       0.00000000e+00, 0.00000000e+00, 0.00000000e+00, 0.00000000e+00,\n",
       "       0.00000000e+00, 0.00000000e+00, 0.00000000e+00, 0.00000000e+00,\n",
       "       0.00000000e+00, 0.00000000e+00, 0.00000000e+00, 0.00000000e+00,\n",
       "       0.00000000e+00, 0.00000000e+00, 0.00000000e+00, 0.00000000e+00,\n",
       "       0.00000000e+00, 0.00000000e+00, 0.00000000e+00, 0.00000000e+00,\n",
       "       0.00000000e+00, 0.00000000e+00, 0.00000000e+00, 0.00000000e+00,\n",
       "       0.00000000e+00, 0.00000000e+00, 0.00000000e+00, 0.00000000e+00,\n",
       "       0.00000000e+00, 0.00000000e+00, 0.00000000e+00])"
      ]
     },
     "execution_count": 10,
     "metadata": {},
     "output_type": "execute_result"
    }
   ],
   "source": [
    "ero_plucking_ig"
   ]
  },
  {
   "cell_type": "code",
   "execution_count": 11,
   "metadata": {},
   "outputs": [
    {
     "data": {
      "text/plain": [
       "array([3.24918453e-09, 7.40666689e-09, 1.46481217e-08, 2.64128239e-08,\n",
       "       4.45628103e-08, 7.14530622e-08, 1.10004952e-07, 1.63782104e-07,\n",
       "       2.37067741e-07, 3.34942538e-07, 4.63361932e-07, 6.29231844e-07,\n",
       "       8.40481730e-07, 1.10613391e-06, 1.43636812e-06, 1.84258039e-06,\n",
       "       2.33743513e-06, 2.93490989e-06, 3.65033177e-06, 4.50040503e-06,\n",
       "       5.50322931e-06, 6.67830821e-06, 8.04654788e-06, 9.63024559e-06,\n",
       "       1.14530685e-05, 1.35400226e-05, 1.59174126e-05, 1.86127930e-05,\n",
       "       2.16549109e-05, 2.50736422e-05, 2.88999212e-05, 3.31656652e-05,\n",
       "       3.79036952e-05, 4.31476541e-05, 4.89319234e-05, 5.52915408e-05,\n",
       "       6.22621184e-05, 6.98797658e-05, 7.81810162e-05, 8.72027606e-05,\n",
       "       9.69821892e-05, 1.07556743e-04, 1.18964076e-04, 1.31242030e-04,\n",
       "       1.44428630e-04, 1.58562084e-04, 1.73680811e-04, 1.89823490e-04,\n",
       "       2.07029121e-04, 2.26151050e-04, 2.41718678e-04, 2.58623747e-04,\n",
       "       2.76472896e-04, 2.95258275e-04, 3.14972736e-04, 3.35609606e-04,\n",
       "       3.57162513e-04, 3.79625237e-04, 4.02991601e-04, 4.27255383e-04,\n",
       "       4.52410257e-04, 4.78449753e-04, 5.05367235e-04, 5.33155895e-04,\n",
       "       5.61808764e-04, 5.91318730e-04, 6.21678573e-04, 6.52881005e-04,\n",
       "       6.84918718e-04, 7.17784442e-04, 7.51471012e-04, 7.85971433e-04,\n",
       "       8.21278957e-04, 8.57387161e-04, 8.94290034e-04, 9.31982065e-04,\n",
       "       9.70458332e-04, 1.00971461e-03, 1.04974744e-03, 1.09055430e-03,\n",
       "       1.13213365e-03, 1.17448506e-03, 1.21760936e-03, 1.26150876e-03,\n",
       "       1.30618694e-03, 1.35164926e-03, 1.39790285e-03, 1.44495681e-03,\n",
       "       1.49282236e-03, 1.54151303e-03, 1.59104484e-03, 1.64143655e-03,\n",
       "       1.69270986e-03, 1.74488969e-03, 1.79800443e-03, 1.85208625e-03,\n",
       "       1.90717147e-03, 1.96330089e-03, 2.02052021e-03])"
      ]
     },
     "execution_count": 11,
     "metadata": {},
     "output_type": "execute_result"
    }
   ],
   "source": [
    "S"
   ]
  },
  {
   "cell_type": "code",
   "execution_count": 12,
   "metadata": {},
   "outputs": [
    {
     "data": {
      "text/plain": [
       "array([1.19530820e-13, 3.56726776e-12, 1.53956412e-11, 4.47627244e-11,\n",
       "       1.06471278e-10, 2.23028245e-10, 4.27112299e-10, 7.64471333e-10,\n",
       "       1.29726516e-09, 2.10786153e-09, 3.30308584e-09, 5.01891671e-09,\n",
       "       7.42561170e-09, 1.07332389e-08, 1.51975824e-08, 2.11263824e-08,\n",
       "       2.88858629e-08, 3.89074952e-08, 5.16949395e-08, 6.78311021e-08,\n",
       "       8.79852453e-08, 1.12920083e-07, 1.43498796e-07, 1.80691906e-07,\n",
       "       2.25583939e-07, 2.79379834e-07, 3.43411036e-07, 4.19141230e-07,\n",
       "       5.08171694e-07, 6.12246229e-07, 7.33255672e-07, 8.73241971e-07,\n",
       "       1.03440185e-06, 1.21909010e-06, 1.42982247e-06, 1.66927832e-06,\n",
       "       1.94030301e-06, 2.24591016e-06, 2.58928382e-06, 2.97378077e-06,\n",
       "       3.40293291e-06, 3.88045005e-06, 4.41022311e-06, 4.99632800e-06,\n",
       "       5.64303025e-06, 6.35479068e-06, 7.13627227e-06, 7.99234838e-06,\n",
       "       8.92811270e-06, 1.37698887e-05, 2.64199307e-04, 2.88779405e-04,\n",
       "       3.15328092e-04, 3.43911739e-04, 3.74598128e-04, 4.07456253e-04,\n",
       "       4.42556152e-04, 4.79968739e-04, 5.19765667e-04, 5.62019188e-04,\n",
       "       6.06802039e-04, 6.54187333e-04, 7.04248452e-04, 7.57058961e-04,\n",
       "       8.12692515e-04, 8.71222774e-04, 9.32723324e-04, 9.97267597e-04,\n",
       "       1.06492879e-03, 1.13577976e-03, 1.20989299e-03, 1.28734044e-03,\n",
       "       1.36819348e-03, 1.45252279e-03, 1.54039823e-03, 1.63188875e-03,\n",
       "       1.72706225e-03, 1.82598541e-03, 1.92872363e-03, 2.03534078e-03,\n",
       "       2.14589911e-03, 2.26045903e-03, 2.37907899e-03, 2.50181522e-03,\n",
       "       2.62872159e-03, 2.75984942e-03, 2.89524724e-03, 3.03496063e-03,\n",
       "       3.17903203e-03, 3.32750051e-03, 3.48040163e-03, 3.63776724e-03,\n",
       "       3.79962536e-03, 3.96600000e-03, 4.13691111e-03, 4.31237444e-03,\n",
       "       4.49240153e-03, 4.67699969e-03, 4.86617202e-03, 0.00000000e+00])"
      ]
     },
     "execution_count": 12,
     "metadata": {},
     "output_type": "execute_result"
    }
   ],
   "source": [
    "ero"
   ]
  },
  {
   "cell_type": "code",
   "execution_count": 13,
   "metadata": {},
   "outputs": [
    {
     "data": {
      "text/plain": [
       "array([0.1       , 0.1       , 0.09999999, 0.09999997, 0.09999995,\n",
       "       0.0999999 , 0.09999983, 0.09999972, 0.09999956, 0.09999932,\n",
       "       0.09999898, 0.09999852, 0.09999789, 0.09999705, 0.09999594,\n",
       "       0.0999945 , 0.09999266, 0.09999032, 0.09998739, 0.09998374,\n",
       "       0.09997924, 0.09997374, 0.09996707, 0.09995903, 0.09994941,\n",
       "       0.09993797, 0.09992446, 0.09990857, 0.09989   , 0.09986839,\n",
       "       0.09984338, 0.09981456, 0.09978149, 0.0997437 , 0.0997007 ,\n",
       "       0.09965194, 0.09959685, 0.09953483, 0.09946523, 0.09938739,\n",
       "       0.09930058, 0.09920405, 0.09909701, 0.09897865, 0.0988481 ,\n",
       "       0.09870447, 0.09854681, 0.09837415, 0.09818548, 0.09798461,\n",
       "       0.09807858, 0.09787627, 0.09766131, 0.09743303, 0.0971908 ,\n",
       "       0.09693403, 0.09666211, 0.09637451, 0.09607067, 0.0957501 ,\n",
       "       0.0954123 , 0.09505683, 0.09468323, 0.0942911 , 0.09388007,\n",
       "       0.09344977, 0.09299988, 0.09253009, 0.09204013, 0.09152977,\n",
       "       0.09099878, 0.09044698, 0.08987422, 0.08928037, 0.08866534,\n",
       "       0.08802908, 0.08737154, 0.08669273, 0.08599268, 0.08527146,\n",
       "       0.08452915, 0.08376588, 0.08298182, 0.08217714, 0.08135205,\n",
       "       0.08050681, 0.07964169, 0.07875698, 0.07785301, 0.07693014,\n",
       "       0.07598875, 0.07502923, 0.07405202, 0.07305755, 0.0720463 ,\n",
       "       0.07101874, 0.06997539, 0.06891675, 0.06784335, 0.        ])"
      ]
     },
     "execution_count": 13,
     "metadata": {},
     "output_type": "execute_result"
    }
   ],
   "source": [
    "H"
   ]
  },
  {
   "cell_type": "code",
   "execution_count": null,
   "metadata": {},
   "outputs": [],
   "source": []
  }
 ],
 "metadata": {
  "kernelspec": {
   "display_name": "Python 3",
   "language": "python",
   "name": "python3"
  },
  "language_info": {
   "codemirror_mode": {
    "name": "ipython",
    "version": 3
   },
   "file_extension": ".py",
   "mimetype": "text/x-python",
   "name": "python",
   "nbconvert_exporter": "python",
   "pygments_lexer": "ipython3",
   "version": "3.7.6"
  }
 },
 "nbformat": 4,
 "nbformat_minor": 4
}
