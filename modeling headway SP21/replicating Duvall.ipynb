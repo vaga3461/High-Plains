{
 "cells": [
  {
   "cell_type": "code",
   "execution_count": 1,
   "metadata": {},
   "outputs": [],
   "source": [
    "# the goal of this notebook is to replicate the results of Duvall et al., 2004\n",
    "# the main focus is to evaluate whether or not channels that include gravel clasts\n",
    "# that are more resistant than the substrate over which they flow\n",
    "# exhibit oversteepened donwstream profiles\n",
    "\n",
    "# a secondary goal for the day/week (or something to discuss at group meeting tomorrow)\n",
    "# is to figure out how to explicitly put grainsize in my model\n",
    "\n",
    "# but for now, just focus on trying to run a couple different simple model runs"
   ]
  },
  {
   "cell_type": "code",
   "execution_count": 2,
   "metadata": {},
   "outputs": [],
   "source": [
    "# start by importing libraries\n",
    "import numpy as np\n",
    "import matplotlib.pyplot as plt"
   ]
  },
  {
   "cell_type": "code",
   "execution_count": 3,
   "metadata": {},
   "outputs": [],
   "source": [
    "# SET UP GRID ARRAYS\n",
    "dx = 1000\n",
    "x = np.arange(0, 100000, dx)\n",
    "\n",
    "# set up runoff rate\n",
    "r = np.zeros(len(x))\n",
    "r[:] = 0.3 # runoff rate in m/yr, see Rossi et al 2016 supplemental\n",
    "\n",
    "# set up references to topography\n",
    "Hstar = 0.05 # \"a thin and scattered blanket of alluvium\"\n",
    "H = Hstar + np.zeros(len(x))\n",
    "etab = -H\n",
    "eta = etab + H\n",
    "\n",
    "# abrasion coefficients from Attal and Lave 2006 in % per km\n",
    "beta_ig = np.zeros(len(x))\n",
    "beta_ig[:25] = 0.00004\n",
    "beta_sed = np.zeros(len(x))\n",
    "beta_sed[25:] = 0.00014\n",
    "atr_factor = 0.00004\n",
    "\n",
    "# erodibility values\n",
    "k_ig = np.zeros(len(x))\n",
    "k_ig[:25] = 0.000022 # dropping an order of magnitude for incorporation of harder rocks # needs 1 more zeros\n",
    "k_sed = np.zeros(len(x))\n",
    "k_sed[25:] = 0.00022 # based on erodibility value from Duvall et al, calibrated using Barnhart et al 2020 # ditto\n",
    "\n",
    "# other\n",
    "c_factor = 0.041\n",
    "uplift_rate = 0.0014"
   ]
  },
  {
   "cell_type": "code",
   "execution_count": 4,
   "metadata": {},
   "outputs": [],
   "source": [
    "# write a function that has two bedrock lithologies in the domain, but only one contributing sediment to bedload\n",
    "def two_lith_one_sed(x,\n",
    "                     dx,\n",
    "                     Hstar,\n",
    "                     H,\n",
    "                     etab,\n",
    "                     eta,\n",
    "                     beta_ig,\n",
    "                     beta_sed,\n",
    "                     atr_factor,\n",
    "                     k_ig,\n",
    "                     k_sed,\n",
    "                     r,\n",
    "                     c = 0.041, # from W & S '19, assuming I = 1 (constant geomorphically effective flow)\n",
    "                     baselevel_rate = 0.0014, # average low uplift rate from duvall et al\n",
    "                     num_steps = 1000000, \n",
    "                     porosity = 0.55):\n",
    "    \n",
    "    H[-1] = 0.0\n",
    "    bedrock_ero = np.zeros(len(x))  # bedrock erosion rate\n",
    "    sedimentation_rate = np.zeros(len(x))\n",
    "    total_ero = np.zeros(len(x))\n",
    "    total_ero[-1] = baselevel_rate\n",
    "    q = r * x  # discharge = distance downstream (first node is left edge of 0th cell)\n",
    "    qs = np.zeros(len(x))  # first node is left edge of 0th cell\n",
    "    dt_global = 0.2 * dx * dx / (c*q[-1])  # \"global\" time-step size # mult by 0.2\n",
    "    run_duration = dt_global * num_steps  # <== here's how long we want to run\n",
    "    cum_time = 0.0  # <== keep track of elapsed time\n",
    "\n",
    "    #for i in range(num_steps):\n",
    "    while cum_time < run_duration:  # <== use a while loop because dt varies by iteration\n",
    "        \n",
    "\n",
    "        # first calculate rates\n",
    "        \n",
    "        #  calc slope\n",
    "        S = -np.diff(eta)/dx\n",
    "        \n",
    "        #  calculate e factor\n",
    "        efac = np.exp(- H / Hstar)\n",
    "        \n",
    "        #  calculate total bedload sed flux and set boundary condition\n",
    "        qs[1:] = c * q[1:] * S * (1.0 - efac[:-1])\n",
    "        qs[0] = 0\n",
    "        \n",
    "        #  calc bedrock erosion from stream power (plucking)\n",
    "        ero_plucking_ig = efac[:-1] * (k_ig[1:] * q[1:] * S)\n",
    "        ero_plucking_sed = efac[:-1] * (k_sed[1:] * q[1:] * S)\n",
    "        \n",
    "        #  calc bedrock erosion from abrasion\n",
    "        ero_ab_ig = efac[:-1] * (beta_ig[:-1] * qs[1:])   # <== change indexing: qs[1] represents node 0\n",
    "        ero_ab_sed = efac[:-1] * (beta_sed[:-1] * qs[1:])\n",
    "        \n",
    "        #  calc bedrock erosion rate from stream power and abrasion\n",
    "        bedrock_ero[:-1] = ero_plucking_ig + ero_plucking_sed + ero_ab_ig + ero_ab_sed\n",
    "        \n",
    "        #  calc grain attrition rate\n",
    "        atr = atr_factor * qs[1:]\n",
    "        \n",
    "        #  calc rate of change in alluvial thickness\n",
    "        sedimentation_rate[:-1] = -((1 / porosity) * ((np.diff(qs)/dx) + atr - ero_plucking_ig))\n",
    "        \n",
    "        \n",
    "        # Calculate maximum allowable time-step size\n",
    "        \n",
    "        #  track total erosion rate\n",
    "        total_ero[:-1] = bedrock_ero[:-1] - sedimentation_rate[:-1]  # <== erosion is MINUS sed rate\n",
    "        \n",
    "        #  set adaptive timestep\n",
    "        #  first check time to flat surface\n",
    "        elev_diff = np.diff(eta)/dx\n",
    "        ero_diff = np.diff(total_ero)/dx\n",
    "        #valid_places = np.where(ero_diff < 0)\n",
    "        valid_places = np.where(ero_diff < 0)[0]  # <== we just want the array, not the full tuple from where()\n",
    "        if len(valid_places) > 0:  # <== in case there ARE no locations...\n",
    "            times_to_flat = np.abs(elev_diff[valid_places]/ero_diff[valid_places])\n",
    "        else:\n",
    "            times_to_flat = np.array([dt_global])  # <== ...we just revert to the global dt\n",
    "        min_time_to_flat = np.amin(times_to_flat)\n",
    "\n",
    "        #  then check time to deplete all sediment\n",
    "        #sed_depletion_locations = np.where(sedimentation_rate < 0)\n",
    "        sed_depletion_locations = np.where(sedimentation_rate < 0)[0]  # <== we just want the array, not the full tuple from where()\n",
    "        if len(sed_depletion_locations) > 0:  # <== in case there ARE no locations...\n",
    "            times_to_no_sed = np.abs(H[sed_depletion_locations]/sedimentation_rate[sed_depletion_locations])\n",
    "        else:\n",
    "            times_to_no_sed = np.array([dt_global])  # <== ...we just revert to the global dt\n",
    "        min_time_to_no_sed = np.amin(times_to_no_sed)\n",
    "\n",
    "        #  check for smaller condition\n",
    "        dt = min(min_time_to_flat, min_time_to_no_sed)\n",
    "\n",
    "        #  if larger than global step size, limit to global\n",
    "        dt = min(dt, dt_global)\n",
    "        \n",
    "        \n",
    "        # Update quantities\n",
    "        \n",
    "        #  lower baselevel\n",
    "        eta[-1] -= baselevel_rate * dt \n",
    "        \n",
    "        #  set boundary conditions\n",
    "        etab[-1] = eta[-1]\n",
    "        \n",
    "        #  calc change in bedrock elev\n",
    "        etab[:-1] -= bedrock_ero[:-1] * dt\n",
    "        \n",
    "        #  update sediment thickness\n",
    "        H[:-1] += sedimentation_rate[:-1] * dt\n",
    "        H[H < 0] = 0\n",
    "\n",
    "        #  update elev\n",
    "        eta[:-1] = etab[:-1] + H[:-1]\n",
    "        \n",
    "        # Advance time\n",
    "        cum_time += dt\n",
    "        \n",
    "        if any(total_ero[:] != baselevel_rate):\n",
    "            continue\n",
    "        else:\n",
    "            break\n",
    "            \n",
    "    print(cum_time)\n",
    "        \n",
    "    return (q, S, qs, efac, eta, etab, ero_plucking_ig, ero_plucking_sed, ero_ab_ig, ero_ab_sed, bedrock_ero, atr, \n",
    "            sedimentation_rate, H, total_ero, cum_time)"
   ]
  },
  {
   "cell_type": "code",
   "execution_count": 5,
   "metadata": {},
   "outputs": [],
   "source": [
    "# EXP 1\n",
    "\n",
    "exp_1a = [x, dx, Hstar, H, etab, eta, beta_ig, beta_sed, atr_factor, k_ig, k_sed, r, c_factor, uplift_rate, 50000]"
   ]
  },
  {
   "cell_type": "code",
   "execution_count": 6,
   "metadata": {},
   "outputs": [
    {
     "name": "stdout",
     "output_type": "stream",
     "text": [
      "8212206.959606423\n"
     ]
    }
   ],
   "source": [
    "# run exp 1\n",
    "\n",
    "(discharge_exp_1a,\n",
    " slope_exp_1a,\n",
    " sed_flux_exp_1a,\n",
    " e_factor_exp_1a,\n",
    " topography_exp_1a,\n",
    " bedrock_elevation_exp_1a,\n",
    " igneous_plucking_rate_exp_1a,\n",
    " sedimentary_plucking_rate_exp_1a,\n",
    " igneous_abrasion_rate_exp_1a,\n",
    " sedimentary_abrasion_rate_exp_1a,\n",
    " bedrock_erosion_rate_exp_1a,\n",
    " attrition_rate_exp_1a,\n",
    " sedimentation_rate_exp_1a,\n",
    " sediment_thickness_exp_1a,\n",
    " total_erosion_rate_exp_1a,\n",
    " cum_time_exp_1a) = two_lith_one_sed(*exp_1a)"
   ]
  },
  {
   "cell_type": "code",
   "execution_count": 7,
   "metadata": {},
   "outputs": [
    {
     "data": {
      "text/plain": [
       "[<matplotlib.lines.Line2D at 0x7f89a57ff250>]"
      ]
     },
     "execution_count": 7,
     "metadata": {},
     "output_type": "execute_result"
    },
    {
     "data": {
      "image/png": "[encoded data removed]",
      "text/plain": [
       "<Figure size 432x288 with 1 Axes>"
      ]
     },
     "metadata": {
      "needs_background": "light"
     },
     "output_type": "display_data"
    }
   ],
   "source": [
    "plt.plot(x, eta)\n",
    "# plt.vlines(25000, -10000, 0)"
   ]
  },
  {
   "cell_type": "code",
   "execution_count": 8,
   "metadata": {},
   "outputs": [
    {
     "data": {
      "text/plain": [
       "array([ 0.00138128,  0.00138388,  0.00138529,  0.00138633,  0.00138715,\n",
       "        0.00138796,  0.00138857,  0.00138892,  0.00138926,  0.00138991,\n",
       "        0.00139138,  0.00139488,  0.00139955,  0.00140613,  0.0014024 ,\n",
       "        0.00132104,  0.00109752,  0.00712836,  0.00297448, -0.04519428,\n",
       "        0.03976032,  0.0041608 ,  0.00070578,  0.00805427, -0.00642767,\n",
       "       -0.00114157, -0.00075654, -0.00246074, -0.00045189,  0.00062895,\n",
       "        0.00051899,  0.00079885,  0.00188199,  0.00236467,  0.0021068 ,\n",
       "        0.00160773,  0.00123605,  0.00109184,  0.00106293,  0.00107034,\n",
       "        0.00108711,  0.00110634,  0.00112711,  0.00115001,  0.00117562,\n",
       "        0.001204  ,  0.00123457,  0.00126621,  0.00129749,  0.00132693,\n",
       "        0.00135327,  0.00137564,  0.00139366,  0.00140738,  0.00141715,\n",
       "        0.0014235 ,  0.00142703,  0.00142845,  0.00142859,  0.00142844,\n",
       "        0.00142917,  0.00143191,  0.00143764,  0.00144688,  0.00145951,\n",
       "        0.00147469,  0.00149094,  0.00150642,  0.00151933,  0.0015284 ,\n",
       "        0.00153321,  0.00153429,  0.00153301,  0.00153117,  0.00153062,\n",
       "        0.00153279,  0.00153843,  0.00154756,  0.00155956,  0.00157351,\n",
       "        0.00158842,  0.00160355,  0.00161841,  0.00163287,  0.00164698,\n",
       "        0.00166036,  0.00167038,  0.00167032,  0.00165088,  0.00160821,\n",
       "        0.0015509 ,  0.00149501,  0.0014524 ,  0.00142565,  0.00141135,\n",
       "        0.00140471,  0.00140198,  0.00140091,  0.00140042,  0.0014    ])"
      ]
     },
     "execution_count": 8,
     "metadata": {},
     "output_type": "execute_result"
    }
   ],
   "source": [
    "total_erosion_rate_exp_1a"
   ]
  },
  {
   "cell_type": "code",
   "execution_count": 9,
   "metadata": {},
   "outputs": [],
   "source": [
    "# okay, wahoo! \n",
    "# now we want to see if gradients in soft portion are oversteepened in this setting\n",
    "# relative to a scenario where there are no impactors\n",
    "# but to really examine that, first need to get this baby to steady state\n",
    "# going back now to try a larger timestep"
   ]
  },
  {
   "cell_type": "code",
   "execution_count": 69,
   "metadata": {},
   "outputs": [],
   "source": [
    "# okay, now let's go out on a limb and calculate some channel widths\n",
    "# using the formulation b = k_b * (q/attrition_rate)\n",
    "\n",
    "kb = 2.61\n",
    "area = x ** 2\n",
    "\n",
    "b = kb * (discharge_exp_1a[22:] / attrition_rate_exp_1a[21:])"
   ]
  },
  {
   "cell_type": "code",
   "execution_count": 70,
   "metadata": {},
   "outputs": [
    {
     "data": {
      "text/plain": [
       "Text(0, 0.5, 'width?? (m)')"
      ]
     },
     "execution_count": 70,
     "metadata": {},
     "output_type": "execute_result"
    },
    {
     "data": {
      "image/png": "[encoded data removed]",
      "text/plain": [
       "<Figure size 432x288 with 1 Axes>"
      ]
     },
     "metadata": {
      "needs_background": "light"
     },
     "output_type": "display_data"
    }
   ],
   "source": [
    "plt.plot(area[22:]/1000, b, label = 'resistant clasts present', color = 'r')\n",
    "plt.legend()\n",
    "plt.xlabel('distance (km)')\n",
    "plt.ylabel('width?? (m)')"
   ]
  },
  {
   "cell_type": "code",
   "execution_count": 83,
   "metadata": {},
   "outputs": [
    {
     "name": "stderr",
     "output_type": "stream",
     "text": [
      "/Users/vanessa/anaconda3/lib/python3.7/site-packages/ipykernel_launcher.py:21: RuntimeWarning: invalid value encountered in power\n",
      "/Users/vanessa/anaconda3/lib/python3.7/site-packages/ipykernel_launcher.py:21: RuntimeWarning: divide by zero encountered in true_divide\n",
      "/Users/vanessa/anaconda3/lib/python3.7/site-packages/ipykernel_launcher.py:24: RuntimeWarning: invalid value encountered in power\n",
      "/Users/vanessa/anaconda3/lib/python3.7/site-packages/ipykernel_launcher.py:24: RuntimeWarning: divide by zero encountered in true_divide\n",
      "/Users/vanessa/anaconda3/lib/python3.7/site-packages/ipykernel_launcher.py:27: RuntimeWarning: invalid value encountered in power\n",
      "/Users/vanessa/anaconda3/lib/python3.7/site-packages/ipykernel_launcher.py:27: RuntimeWarning: divide by zero encountered in true_divide\n"
     ]
    },
    {
     "data": {
      "text/plain": [
       "<matplotlib.legend.Legend at 0x7f9c0e392e10>"
      ]
     },
     "execution_count": 83,
     "metadata": {},
     "output_type": "execute_result"
    },
    {
     "data": {
      "image/png": "[encoded data removed]",
      "text/plain": [
       "<Figure size 432x288 with 1 Axes>"
      ]
     },
     "metadata": {
      "needs_background": "light"
     },
     "output_type": "display_data"
    }
   ],
   "source": [
    "# trying to get my head around all the different ways to do \"width\"\n",
    "\n",
    "# set up grain fining\n",
    "d = 0.002\n",
    "abrasion_factor = np.zeros(len(x))\n",
    "abrasion_factor[:] = 0.00004\n",
    "multiplier_array = np.zeros(len(x))\n",
    "multiplier_array[:] = np.arange(1, 101, 1)\n",
    "fining = abrasion_factor * multiplier_array\n",
    "\n",
    "new_d = d - fining\n",
    "\n",
    "# constant slope, constant gs, length - area scaling\n",
    "s = 0.001\n",
    "width = (area * slope) / (d**(3/2))\n",
    "\n",
    "# slope is decreasing like 1/x\n",
    "width_2 = x/(d**(3/2))\n",
    "\n",
    "# using wickert and schildgen formulation, Q ~ x^2, decreasing grain size, constant slope\n",
    "width_3 = (area * slope) / (new_d**(3/2))\n",
    "\n",
    "# or W&S with decreasing slope\n",
    "width_4 = x / (new_d**(3/2))\n",
    "\n",
    "# using values from model output\n",
    "width_5 = kb * (discharge_exp_1a[1:] * slope_exp_1a[:] / new_d[1:]**(3/2))\n",
    "\n",
    "\n",
    "plt.plot(area, width, label = 'constant slope')\n",
    "plt.plot(area, width_2, label = 'decreasing slope')\n",
    "plt.plot(area, width_3, label = 'decreasing gs, constant slope')\n",
    "plt.plot(area, width_4, label = 'decreasing gs, decreasing slope')\n",
    "plt.plot(area[1:], width_5, label = 'values from model')\n",
    "plt.legend()"
   ]
  },
  {
   "cell_type": "code",
   "execution_count": null,
   "metadata": {},
   "outputs": [],
   "source": []
  },
  {
   "cell_type": "code",
   "execution_count": null,
   "metadata": {},
   "outputs": [],
   "source": []
  },
  {
   "cell_type": "code",
   "execution_count": null,
   "metadata": {},
   "outputs": [],
   "source": []
  },
  {
   "cell_type": "code",
   "execution_count": null,
   "metadata": {},
   "outputs": [],
   "source": []
  },
  {
   "cell_type": "code",
   "execution_count": null,
   "metadata": {},
   "outputs": [],
   "source": [
    "eta_2 = np.zeros(len(x))\n",
    "k_sed_2 = np.zeros(len(x))\n",
    "k_sed_2[:] = 0.00022\n",
    "\n",
    "exp_2a = [x, dx, eta_2, k_sed_2, r, c_factor, uplift_rate, 50000]"
   ]
  },
  {
   "cell_type": "code",
   "execution_count": null,
   "metadata": {},
   "outputs": [],
   "source": [
    "# now write another function that's just stream power over soft rocks\n",
    "\n",
    "def stream_power(x,\n",
    "                 dx,\n",
    "                 eta,\n",
    "                 k_sed,\n",
    "                 r,\n",
    "                 c = 0.041, # from W & S '19, assuming I = 1 (constant geomorphically effective flow)\n",
    "                 baselevel_rate = 0.0014, # average low uplift rate from duvall et al\n",
    "                 num_steps = 1000000, \n",
    "                 porosity = 0.55):\n",
    "    \n",
    "    bedrock_ero = np.zeros(len(x))  # bedrock erosion rate\n",
    "    bedrock_ero[-1] = baselevel_rate\n",
    "    q = r * x  # discharge = distance downstream (first node is left edge of 0th cell)\n",
    "    dt = 0.2 * dx * dx / (c*q[-1])  # \"global\" time-step size # mult by 0.2\n",
    "    run_duration = dt * num_steps  # <== here's how long we want to run\n",
    "    cum_time = 0.0  # <== keep track of elapsed time\n",
    "    \n",
    "    while cum_time < run_duration:\n",
    "    \n",
    "    # for i in range(num_steps):\n",
    "\n",
    "        # first calculate rates\n",
    "        \n",
    "        #  calc slope\n",
    "        S = -np.diff(eta)/dx\n",
    "        \n",
    "        #  calc bedrock erosion from stream power (plucking)\n",
    "        bedrock_ero[:-1] = k_sed[1:] * q[1:] * S\n",
    "        \n",
    "        #  lower baselevel\n",
    "        eta[-1] -= baselevel_rate * dt \n",
    "        \n",
    "        #  calc change in bedrock elev\n",
    "        eta[:-1] -= bedrock_ero[:-1] * dt\n",
    "        \n",
    "        # Advance time\n",
    "        cum_time += dt\n",
    "    \n",
    "        \n",
    "        if any(bedrock_ero[:] != baselevel_rate):\n",
    "            continue\n",
    "        else:\n",
    "            break\n",
    "            \n",
    "    print(cum_time)\n",
    "            \n",
    "        \n",
    "    return (q, S, bedrock_ero, eta, cum_time)"
   ]
  },
  {
   "cell_type": "code",
   "execution_count": null,
   "metadata": {},
   "outputs": [],
   "source": [
    "# run exp 2\n",
    "\n",
    "(discharge_exp_2a,\n",
    " slope_exp_2a,\n",
    " bedrock_erosion_rate_exp_2a,\n",
    " topography_exp_2a,\n",
    " cum_time_exp_2a) = stream_power(*exp_2a)"
   ]
  },
  {
   "cell_type": "code",
   "execution_count": null,
   "metadata": {},
   "outputs": [],
   "source": [
    "plt.plot(x, topography_exp_2a)"
   ]
  },
  {
   "cell_type": "code",
   "execution_count": null,
   "metadata": {},
   "outputs": [],
   "source": [
    "plt.plot(x[24:]/1000, slope_exp_1a[23:], color = 'r', label = 'resistant clasts present')\n",
    "plt.plot(x[24:]/1000, slope_exp_2a[23:], color = 'k', label = 'no clasts present')\n",
    "plt.xlabel('distance (km)')\n",
    "plt.ylabel('slope')\n",
    "plt.vlines(24, 0, 0.09, linestyle = '--', label = 'lithologic contact')\n",
    "plt.legend()"
   ]
  },
  {
   "cell_type": "code",
   "execution_count": null,
   "metadata": {},
   "outputs": [],
   "source": [
    "# okay, this shows a result similar to Duvall et al in that slopes are steeper downstream of the contact\n",
    "# can't really compare widths because there is no grain attrition in this function"
   ]
  },
  {
   "cell_type": "code",
   "execution_count": null,
   "metadata": {},
   "outputs": [],
   "source": [
    "k_sed_3 = np.zeros(len(x))\n",
    "k_sed_3[:] = 0.00022\n",
    "\n",
    "H_3 = Hstar + np.zeros(len(x))\n",
    "etab_3 = -H\n",
    "eta_3 = etab_3 + H_3\n",
    "\n",
    "beta_sed_3 = np.zeros(len(x))\n",
    "beta_sed_3[:] = 0.00014\n",
    "\n",
    "exp_3a = [x, dx, Hstar, H_3, etab_3, eta_3, beta_sed_3, k_sed_3, r, c_factor, uplift_rate, 1]"
   ]
  },
  {
   "cell_type": "code",
   "execution_count": null,
   "metadata": {},
   "outputs": [],
   "source": [
    "# okay, now make a function similar to the first, but has grains in it, but all grains are soft\n",
    "\n",
    "def one_lith_one_sed(x,\n",
    "                     dx,\n",
    "                     Hstar,\n",
    "                     H,\n",
    "                     etab,\n",
    "                     eta,\n",
    "                     beta_sed,\n",
    "                     atr_factor,\n",
    "                     k_sed,\n",
    "                     r,\n",
    "                     c = 0.041, # from W & S '19, assuming I = 1 (constant geomorphically effective flow)\n",
    "                     baselevel_rate = 0.0014, # average low uplift rate from duvall et al\n",
    "                     num_steps = 1000000, \n",
    "                     porosity = 0.55):\n",
    "    \n",
    "    H[-1] = 0.0\n",
    "    bedrock_ero = np.zeros(len(x))  # bedrock erosion rate\n",
    "    sedimentation_rate = np.zeros(len(x))\n",
    "    total_ero = np.zeros(len(x))\n",
    "    total_ero[-1] = baselevel_rate\n",
    "    q = r * x  # discharge = distance downstream (first node is left edge of 0th cell)\n",
    "    qs = np.zeros(len(x))  # first node is left edge of 0th cell\n",
    "    dt_global = 0.2 * dx * dx / (c*q[-1])  # \"global\" time-step size # mult by 0.2\n",
    "    run_duration = dt_global * num_steps  # <== here's how long we want to run\n",
    "    cum_time = 0.0  # <== keep track of elapsed time\n",
    "\n",
    "    #for i in range(num_steps):\n",
    "    while cum_time < run_duration:  # <== use a while loop because dt varies by iteration\n",
    "        \n",
    "\n",
    "        # first calculate rates\n",
    "        \n",
    "        #  calc slope\n",
    "        S = -np.diff(eta)/dx\n",
    "        \n",
    "        #  calculate e factor\n",
    "        efac = np.exp(- H / Hstar)\n",
    "        \n",
    "        #  calculate total bedload sed flux and set boundary condition\n",
    "        qs[1:] = c * q[1:] * S * (1.0 - efac[:-1])\n",
    "        qs[0] = 0\n",
    "        \n",
    "        #  calc bedrock erosion from stream power (plucking)\n",
    "        ero_plucking_sed = efac[:-1] * (k_sed[1:] * q[1:] * S)\n",
    "        \n",
    "        #  calc bedrock erosion from abrasion\n",
    "        ero_ab_sed = efac[:-1] * (beta_sed[:-1] * qs[1:])\n",
    "        \n",
    "        #  calc bedrock erosion rate from stream power and abrasion\n",
    "        bedrock_ero[:-1] = ero_plucking_sed + ero_ab_sed\n",
    "        \n",
    "        #  calc grain attrition rate (attrition factor is same as sedimentary rock abrasion rate)\n",
    "        atr = beta_sed * qs\n",
    "        \n",
    "        #  calc rate of change in alluvial thickness\n",
    "        sedimentation_rate[:-1] = -((1 / porosity) * ((np.diff(qs)/dx) + atr[1:] - ero_plucking_sed))\n",
    "        \n",
    "        \n",
    "        # Calculate maximum allowable time-step size\n",
    "        \n",
    "        #  track total erosion rate\n",
    "        total_ero[:-1] = bedrock_ero[:-1] - sedimentation_rate[:-1]  # <== erosion is MINUS sed rate\n",
    "        \n",
    "        #  set adaptive timestep\n",
    "        #  first check time to flat surface\n",
    "        elev_diff = np.diff(eta)/dx\n",
    "        ero_diff = np.diff(total_ero)/dx\n",
    "        #valid_places = np.where(ero_diff < 0)\n",
    "        valid_places = np.where(ero_diff < 0)[0]  # <== we just want the array, not the full tuple from where()\n",
    "        if len(valid_places) > 0:  # <== in case there ARE no locations...\n",
    "            times_to_flat = np.abs(elev_diff[valid_places]/ero_diff[valid_places])\n",
    "        else:\n",
    "            times_to_flat = np.array([dt_global])  # <== ...we just revert to the global dt\n",
    "        min_time_to_flat = np.amin(times_to_flat)\n",
    "\n",
    "        #  then check time to deplete all sediment\n",
    "        #sed_depletion_locations = np.where(sedimentation_rate < 0)\n",
    "        sed_depletion_locations = np.where(sedimentation_rate < 0)[0]  # <== we just want the array, not the full tuple from where()\n",
    "        if len(sed_depletion_locations) > 0:  # <== in case there ARE no locations...\n",
    "            times_to_no_sed = np.abs(H[sed_depletion_locations]/sedimentation_rate[sed_depletion_locations])\n",
    "        else:\n",
    "            times_to_no_sed = np.array([dt_global])  # <== ...we just revert to the global dt\n",
    "        min_time_to_no_sed = np.amin(times_to_no_sed)\n",
    "\n",
    "        #  check for smaller condition\n",
    "        dt = min(min_time_to_flat, min_time_to_no_sed)\n",
    "\n",
    "        #  if larger than global step size, limit to global\n",
    "        dt = min(dt, dt_global)\n",
    "        \n",
    "        \n",
    "        # Update quantities\n",
    "        \n",
    "        #  lower baselevel\n",
    "        eta[-1] -= baselevel_rate * dt \n",
    "        \n",
    "        #  set boundary conditions\n",
    "        etab[-1] = eta[-1]\n",
    "        \n",
    "        #  calc change in bedrock elev\n",
    "        etab[:-1] -= bedrock_ero[:-1] * dt\n",
    "        \n",
    "        #  update sediment thickness\n",
    "        H[:-1] += sedimentation_rate[:-1] * dt\n",
    "        H[H < 0] = 0\n",
    "\n",
    "        #  update elev\n",
    "        eta[:-1] = etab[:-1] + H[:-1]\n",
    "        \n",
    "        # Advance time\n",
    "        cum_time += dt\n",
    "        \n",
    "        if any(total_ero[:] != baselevel_rate):\n",
    "            continue\n",
    "        else:\n",
    "            break\n",
    "            \n",
    "    print(cum_time)\n",
    "        \n",
    "    return (q, S, qs, efac, eta, etab, ero_plucking_sed, ero_ab_sed, bedrock_ero, atr, sedimentation_rate, H, \n",
    "            total_ero, cum_time)"
   ]
  },
  {
   "cell_type": "code",
   "execution_count": null,
   "metadata": {},
   "outputs": [],
   "source": [
    "(discharge_exp_3a,\n",
    " slope_exp_3a,\n",
    " sed_flux_exp_3a,\n",
    " e_factor_exp_3a,\n",
    " topography_exp_3a,\n",
    " bedrock_elevation_exp_3a,\n",
    " sedimentary_plucking_rate_exp_3a,\n",
    " sedimentary_abrasion_rate_exp_3a,\n",
    " bedrock_erosion_rate_exp_3a,\n",
    " attrition_rate_exp_3a,\n",
    " sedimentation_rate_exp_3a,\n",
    " sediment_thickness_exp_3a,\n",
    " total_erosion_rate_exp_3a,\n",
    " cum_time_exp_3a) = one_lith_one_sed(*exp_3a)"
   ]
  },
  {
   "cell_type": "code",
   "execution_count": null,
   "metadata": {},
   "outputs": [],
   "source": []
  }
 ],
 "metadata": {
  "kernelspec": {
   "display_name": "Python 3",
   "language": "python",
   "name": "python3"
  },
  "language_info": {
   "codemirror_mode": {
    "name": "ipython",
    "version": 3
   },
   "file_extension": ".py",
   "mimetype": "text/x-python",
   "name": "python",
   "nbconvert_exporter": "python",
   "pygments_lexer": "ipython3",
   "version": "3.7.6"
  }
 },
 "nbformat": 4,
 "nbformat_minor": 4
}
