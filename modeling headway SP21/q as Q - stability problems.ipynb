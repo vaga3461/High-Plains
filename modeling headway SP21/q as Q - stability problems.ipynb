{
 "cells": [
  {
   "cell_type": "code",
   "execution_count": 43,
   "id": "c31e8c29",
   "metadata": {},
   "outputs": [],
   "source": [
    "# the purpose of this notebook is to work our stability prolems associated with writing\n",
    "# q in terms of Q/W"
   ]
  },
  {
   "cell_type": "markdown",
   "id": "62664df2",
   "metadata": {},
   "source": [
    "First, the math that we want to use here is the following:\n",
    "\n",
    "1. Anywhere $q$ appears in the model should be replaced with $\\frac{Q}{W}$\n",
    "2. This means that we first need to calculate $W$\n",
    "> from Wickert and Schildgen 2019: $W = \\frac{k_b Q S^{7/6}}{D^{3/2}}$\n",
    "\n",
    ">> so, anywhere that $q$ appears, we can just sub in $\\frac{D^{3/2}}{k_b S^{7/6}}$\n",
    "\n",
    ">> maybe the best way to do this is to include a line in our main loop, right after calculating slope, that is $q = \\frac{D^{3/2}}{k_b S^{7/6}}$\n",
    "\n",
    "Thoughts on stability issues:\n",
    "- from doing some testing, part of the issue comes from using $rk_hx^2$ for Q. If we go back to a unit discharge case, using this formulation for $q$ can stay stable to create a concave-up profile, but requires really tiny timesteps $(\\sim10^{-4})$ and doesn't get all the way to steady state\n",
    "\n",
    "- If we use $rk_hx^2$ for Q and make the substitutions outlined above, slopes get unstable (nan) very quickly $(\\sim10-20 \\space \\text {timesteps})$\n",
    "\n",
    "- I don't understand why things become unstable, instead of just shrinking to such tiny timesteps that the program can't evolve\n",
    "\n",
    "- I've tested the model over small time increments to figure out when things become unstable. If I coarsen the grid (i.e., make `dx_2` larger), I'm still unable to reach steady conditions, and I'm not sure if changing my grid size is a good way to go about finding bugs... (don't know how useful it is to find a condition where the model can be stable if it's dramtically different from the grid and domain size that I plan to use going forward)."
   ]
  },
  {
   "cell_type": "code",
   "execution_count": 44,
   "id": "fdda8259",
   "metadata": {},
   "outputs": [],
   "source": [
    "# start by importing libraries\n",
    "import numpy as np\n",
    "import matplotlib.pyplot as plt\n",
    "from tqdm import trange"
   ]
  },
  {
   "cell_type": "code",
   "execution_count": 66,
   "id": "9e47927d",
   "metadata": {},
   "outputs": [],
   "source": [
    "# SET UP GRID ARRAYS\n",
    "dx_2 = 1000\n",
    "x_2 = np.arange(0, 100000, dx_2)\n",
    "\n",
    "# set up references to topography\n",
    "Hstar_2 = 0.1\n",
    "H_2 = Hstar_2 + np.zeros(len(x_2))\n",
    "\n",
    "etab_2 = np.zeros(len(x_2))\n",
    "etab_2[:] = np.linspace(1000, 0.1, len(x_2))\n",
    "\n",
    "eta_2 = etab_2 + H_2\n",
    "\n",
    "# abrasion coefficients from Attal and Lave 2006 in % per km\n",
    "beta_ig_2 = np.zeros(len(x_2))\n",
    "beta_ig_2[:25] = 0.00004\n",
    "beta_sed_2 = np.zeros(len(x_2))\n",
    "beta_sed_2[25:] = 0.00014\n",
    "atr_factor_2 = 0.00004\n",
    "\n",
    "# erodibility values\n",
    "k_ig_2 = np.zeros(len(x_2))\n",
    "k_ig_2[:25] = 0.0001\n",
    "k_sed_2 = np.zeros(len(x_2))\n",
    "k_sed_2[25:] = 0.001\n",
    "\n",
    "# grainsize\n",
    "D_1 = 0.2\n",
    "D_2 = 0.3"
   ]
  },
  {
   "cell_type": "code",
   "execution_count": 67,
   "id": "1acf222b",
   "metadata": {},
   "outputs": [],
   "source": [
    "# write a function that has two bedrock lithologies in the domain, but only one contributing sediment to bedload\n",
    "def two_lith_one_sed(x,\n",
    "                     dx,\n",
    "                     Hstar,\n",
    "                     H,\n",
    "                     etab,\n",
    "                     eta,\n",
    "                     beta_ig,\n",
    "                     beta_sed,\n",
    "                     atr_factor,\n",
    "                     k_ig,\n",
    "                     k_sed,\n",
    "                     D,\n",
    "                     c = 1,\n",
    "                     baselevel_rate = 0.001,\n",
    "                     num_steps = 500000, \n",
    "                     porosity = 0.55):\n",
    "    \n",
    "    kb = 8.3e-8 # 2.61 # wickert and schildgen width coefficient\n",
    "    kh = 0.3 # basin geometry factor\n",
    "    r = 0.3 # runoff rate\n",
    "    W = np.zeros(len(x))\n",
    "    W[0] = 0\n",
    "    H[-1] = 0.0\n",
    "    bedrock_ero = np.zeros(len(x))  # bedrock erosion rate\n",
    "    sedimentation_rate = np.zeros(len(x))\n",
    "    total_ero = np.zeros(len(x))\n",
    "    total_ero[-1] = baselevel_rate\n",
    "    \n",
    "    # define total dischage and create arrays to hold unit discharge\n",
    "    Q = r * kh * x**2\n",
    "    q = np.zeros(len(x))\n",
    "    q[0] = 0\n",
    "    \n",
    "    qs = np.zeros(len(x))  # first node is left edge of 0th cell\n",
    "    dt_global = 0.2 * (0.2 * dx * dx / (c*Q[-1]))  # \"global\" time-step size\n",
    "    run_duration = dt_global * num_steps  # <== here's how long we want to run\n",
    "    cum_time = 0.0  # <== keep track of elapsed time\n",
    "\n",
    "    #for i in range(num_steps):\n",
    "    while cum_time < run_duration:  # <== use a while loop because dt varies by iteration\n",
    "        \n",
    "\n",
    "        # first calculate rates\n",
    "        \n",
    "        #  calc slope\n",
    "        S = -np.diff(eta)/dx\n",
    "        \n",
    "        # calc width\n",
    "        W[1:] = (kb * Q[1:] * S**(7/6)) / (D**(3/2))\n",
    "        \n",
    "        # calc q\n",
    "        q[1:] = (D**(3/2)) / (kb * (S**(7/6)))\n",
    "        \n",
    "        #  calculate e factor\n",
    "        efac = np.exp(- H / Hstar)\n",
    "        \n",
    "        #  calculate total bedload sed flux and set boundary condition\n",
    "        qs[1:] = ((c * D**(3/2)) / (kb * (S**(1/6)))) * (1.0 - efac[:-1])\n",
    "        qs[0] = 0\n",
    "        \n",
    "        #  calc bedrock erosion from stream power (plucking)\n",
    "        ero_plucking_ig = efac[:-1] * (k_ig[1:] * q[1:] * S)\n",
    "        ero_plucking_sed = efac[:-1] * (k_sed[1:] * q[1:] * S)\n",
    "        \n",
    "        #  calc bedrock erosion from abrasion\n",
    "        ero_ab_ig = efac[:-1] * (beta_ig[:-1] * qs[1:])   # <== change indexing: qs[1] represents node 0\n",
    "        ero_ab_sed = efac[:-1] * (beta_sed[:-1] * qs[1:])\n",
    "        \n",
    "        #  calc bedrock erosion rate from stream power and abrasion\n",
    "        bedrock_ero[:-1] = ero_plucking_ig + ero_plucking_sed + ero_ab_ig + ero_ab_sed\n",
    "        \n",
    "        #  calc grain attrition rate\n",
    "        atr = atr_factor * qs[1:]\n",
    "        \n",
    "        #  calc rate of change in alluvial thickness\n",
    "        sedimentation_rate[:-1] = -((1 / porosity) * ((np.diff(qs)/dx) + atr - ero_plucking_ig))\n",
    "        \n",
    "        \n",
    "        # Calculate maximum allowable time-step size\n",
    "        \n",
    "        #  track total erosion rate\n",
    "        total_ero[:-1] = bedrock_ero[:-1] - sedimentation_rate[:-1]  # <== erosion is MINUS sed rate\n",
    "        \n",
    "        #  set adaptive timestep\n",
    "        #  first check time to flat surface\n",
    "        elev_diff = np.diff(eta)/dx\n",
    "        ero_diff = np.diff(total_ero)/dx\n",
    "        #valid_places = np.where(ero_diff < 0)\n",
    "        valid_places = np.where(ero_diff < 0)[0]  # <== we just want the array, not the full tuple from where()\n",
    "        if len(valid_places) > 0:  # <== in case there ARE no locations...\n",
    "            times_to_flat = np.abs(elev_diff[valid_places]/ero_diff[valid_places])\n",
    "        else:\n",
    "            times_to_flat = np.array([dt_global])  # <== ...we just revert to the global dt\n",
    "        min_time_to_flat = np.amin(times_to_flat)\n",
    "\n",
    "        #  then check time to deplete all sediment\n",
    "        #sed_depletion_locations = np.where(sedimentation_rate < 0)\n",
    "        sed_depletion_locations = np.where(sedimentation_rate < 0)[0]  # <== we just want the array, not the full tuple from where()\n",
    "        if len(sed_depletion_locations) > 0:  # <== in case there ARE no locations...\n",
    "            times_to_no_sed = np.abs(H[sed_depletion_locations]/sedimentation_rate[sed_depletion_locations])\n",
    "        else:\n",
    "            times_to_no_sed = np.array([dt_global])  # <== ...we just revert to the global dt\n",
    "        min_time_to_no_sed = np.amin(times_to_no_sed)\n",
    "\n",
    "        #  check for smaller condition\n",
    "        dt = min(min_time_to_flat, min_time_to_no_sed)\n",
    "\n",
    "        #  if larger than global step size, limit to global\n",
    "        dt = min(dt, dt_global)\n",
    "        \n",
    "        \n",
    "        # Update quantities\n",
    "        \n",
    "        #  lower baselevel\n",
    "        eta[-1] -= baselevel_rate * dt \n",
    "        \n",
    "        #  set boundary conditions\n",
    "        etab[-1] = eta[-1]\n",
    "        \n",
    "        #  calc change in bedrock elev\n",
    "        etab[:-1] -= bedrock_ero[:-1] * dt\n",
    "        \n",
    "        #  update sediment thickness\n",
    "        H[:-1] += sedimentation_rate[:-1] * dt\n",
    "        H[H < 0] = 0\n",
    "\n",
    "        #  update elev\n",
    "        eta[:-1] = etab[:-1] + H[:-1]\n",
    "        \n",
    "        # Advance time\n",
    "        cum_time += dt\n",
    "        \n",
    "        if any(total_ero[:] != baselevel_rate):\n",
    "            continue\n",
    "        else:\n",
    "            break\n",
    "            \n",
    "    print('cumulative time (yrs): ', cum_time)\n",
    "    print('timestep used: ', dt)\n",
    "        \n",
    "    return (S, W, q, qs, efac, eta, etab, ero_plucking_ig, ero_plucking_sed, ero_ab_ig, ero_ab_sed, bedrock_ero, \n",
    "            atr, sedimentation_rate, H, total_ero, cum_time)"
   ]
  },
  {
   "cell_type": "code",
   "execution_count": 76,
   "id": "e9a069fc",
   "metadata": {},
   "outputs": [
    {
     "name": "stdout",
     "output_type": "stream",
     "text": [
      "cumulative time (yrs):  5.487833264164916\n",
      "timestep used:  0.005486968449931413\n"
     ]
    },
    {
     "name": "stderr",
     "output_type": "stream",
     "text": [
      "/Users/vanessa/anaconda3/lib/python3.7/site-packages/ipykernel_launcher.py:53: RuntimeWarning: divide by zero encountered in true_divide\n",
      "/Users/vanessa/anaconda3/lib/python3.7/site-packages/ipykernel_launcher.py:59: RuntimeWarning: divide by zero encountered in true_divide\n",
      "/Users/vanessa/anaconda3/lib/python3.7/site-packages/ipykernel_launcher.py:63: RuntimeWarning: invalid value encountered in multiply\n",
      "/Users/vanessa/anaconda3/lib/python3.7/site-packages/ipykernel_launcher.py:64: RuntimeWarning: invalid value encountered in multiply\n",
      "/Users/vanessa/anaconda3/lib/python3.7/site-packages/ipykernel_launcher.py:68: RuntimeWarning: invalid value encountered in multiply\n"
     ]
    }
   ],
   "source": [
    "# design an input experiment\n",
    "# run for just one timestep\n",
    "two_lith_20cm = [x_2, \n",
    "                 dx_2, \n",
    "                 Hstar_2, \n",
    "                 H_2, \n",
    "                 etab_2, \n",
    "                 eta_2, \n",
    "                 beta_ig_2, \n",
    "                 beta_sed_2, \n",
    "                 atr_factor_2, \n",
    "                 k_ig_2, \n",
    "                 k_sed_2, \n",
    "                 D_1,\n",
    "                 1,\n",
    "                 0.001,\n",
    "                 1000]\n",
    "\n",
    "# run the experiment to ss\n",
    "(slope_TL_20,\n",
    " width_TL_20,\n",
    " q_TL_20,\n",
    " qs_TL_20,\n",
    " e_factor_TL_20,\n",
    " topo_TL_20,\n",
    " bedrock_elev_TL_20,\n",
    " ig_plucking_rate_TL_20,\n",
    " sed_plucking_rate_TL_20,\n",
    " ig_abrasion_rate_TL_20,\n",
    " sed_abrasion_rate_TL_20,\n",
    " bedrock_ero_rate_TL_20,\n",
    " attrition_rate_TL_20,\n",
    " sedimentation_rate_TL_20,\n",
    " h_TL_20,\n",
    " total_ero_rate_TL_20,\n",
    " cum_time_TL_20) = two_lith_one_sed(*two_lith_20cm)"
   ]
  },
  {
   "cell_type": "code",
   "execution_count": 77,
   "id": "1000ef70",
   "metadata": {},
   "outputs": [
    {
     "name": "stdout",
     "output_type": "stream",
     "text": [
      "[nan nan nan nan nan nan nan nan nan]\n"
     ]
    }
   ],
   "source": [
    "print(slope_TL_20)"
   ]
  },
  {
   "cell_type": "code",
   "execution_count": 78,
   "id": "43330a33",
   "metadata": {},
   "outputs": [
    {
     "data": {
      "text/plain": [
       "[<matplotlib.lines.Line2D at 0x7fc30880dbd0>]"
      ]
     },
     "execution_count": 78,
     "metadata": {},
     "output_type": "execute_result"
    },
    {
     "data": {
      "image/png": "[encoded data removed]",
      "text/plain": [
       "<Figure size 432x288 with 1 Axes>"
      ]
     },
     "metadata": {
      "needs_background": "light"
     },
     "output_type": "display_data"
    }
   ],
   "source": [
    "plt.plot(x_2[1:], slope_TL_20)"
   ]
  },
  {
   "cell_type": "code",
   "execution_count": 79,
   "id": "7ab58aa9",
   "metadata": {},
   "outputs": [
    {
     "data": {
      "text/plain": [
       "[<matplotlib.lines.Line2D at 0x7fc308650f50>]"
      ]
     },
     "execution_count": 79,
     "metadata": {},
     "output_type": "execute_result"
    },
    {
     "data": {
      "image/png": "[encoded data removed]",
      "text/plain": [
       "<Figure size 432x288 with 1 Axes>"
      ]
     },
     "metadata": {
      "needs_background": "light"
     },
     "output_type": "display_data"
    }
   ],
   "source": [
    "plt.plot(x_2, topo_TL_20)"
   ]
  },
  {
   "cell_type": "code",
   "execution_count": null,
   "id": "3d463307",
   "metadata": {},
   "outputs": [],
   "source": []
  }
 ],
 "metadata": {
  "kernelspec": {
   "display_name": "Python 3",
   "language": "python",
   "name": "python3"
  },
  "language_info": {
   "codemirror_mode": {
    "name": "ipython",
    "version": 3
   },
   "file_extension": ".py",
   "mimetype": "text/x-python",
   "name": "python",
   "nbconvert_exporter": "python",
   "pygments_lexer": "ipython3",
   "version": "3.7.6"
  }
 },
 "nbformat": 4,
 "nbformat_minor": 5
}
