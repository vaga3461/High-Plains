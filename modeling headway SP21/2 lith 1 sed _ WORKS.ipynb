{
 "cells": [
  {
   "cell_type": "code",
   "execution_count": 54,
   "metadata": {},
   "outputs": [],
   "source": [
    "# this notebook will implement a two lithology - one sediment type model\n",
    "# it encodes the assumption that sedimentary rocks contribute nothing to the bedload sediment flux\n",
    "# (that is, all material eroded from sedimenary rocks is treated as fines)"
   ]
  },
  {
   "cell_type": "code",
   "execution_count": 55,
   "metadata": {},
   "outputs": [],
   "source": [
    "# start by importing libraries\n",
    "import numpy as np\n",
    "import matplotlib.pyplot as plt"
   ]
  },
  {
   "cell_type": "code",
   "execution_count": 56,
   "metadata": {},
   "outputs": [],
   "source": [
    "# SET UP GRID ARRAYS\n",
    "dx = 1000\n",
    "x = np.arange(0, 100000, dx)\n",
    "\n",
    "# abrasion coefficients from Attal and Lave 2006 in % per km\n",
    "beta_ig = np.zeros(len(x))\n",
    "beta_ig[:50] = 0.000004\n",
    "beta_sed = np.zeros(len(x))\n",
    "beta_sed[50:] = 0.000064\n",
    "\n",
    "# erodibility values\n",
    "k_ig = np.zeros(len(x))\n",
    "k_ig[:50] = 0.0001\n",
    "k_sed = np.zeros(len(x))\n",
    "k_sed[50:] = 0.001"
   ]
  },
  {
   "cell_type": "code",
   "execution_count": 57,
   "metadata": {},
   "outputs": [],
   "source": [
    "# write a function that has two bedrock lithologies in the domain, but only one contributing sediment to bedload\n",
    "def two_lith_one_sed(x,\n",
    "                     dx,\n",
    "                     beta_ig,\n",
    "                     beta_sed,\n",
    "                     k_ig,\n",
    "                     k_sed,\n",
    "                     c = 1,\n",
    "                     Hstar = 0.1,\n",
    "                     baselevel_rate = 0.001,\n",
    "                     num_steps = 500000, \n",
    "                     porosity = 0.55):\n",
    "    \n",
    "    H = Hstar + np.zeros(len(x))  # sediment thickness\n",
    "    H[-1] = 0.0\n",
    "    etab = -H\n",
    "    eta = etab + H\n",
    "    ero = np.zeros(len(x))  # bedrock erosion rate\n",
    "    q = x  # discharge = distance downstream (first node is left edge of 0th cell)\n",
    "    qs = np.zeros(len(x))  # first node is left edge of 0th cell\n",
    "    dt = 0.2 * dx * dx / (c*q[-1])  # time-step size\n",
    "    t = 0\n",
    "\n",
    "    for i in range(num_steps):\n",
    "        \n",
    "        # lower baselevel\n",
    "        eta[-1] -= baselevel_rate * dt \n",
    "        \n",
    "        # set boundary conditions\n",
    "        etab[-1] = eta[-1]\n",
    "        \n",
    "        # calc slope\n",
    "        S = -np.diff(eta)/dx\n",
    "        # S = 0.001\n",
    "        \n",
    "        # calculate e factor\n",
    "        efac = np.exp(- H / Hstar)\n",
    "        \n",
    "        # calculate total bedload sed flux and set boundary condition\n",
    "        qs[1:] = c * q[1:] * S * (1.0 - efac[:-1])\n",
    "        qs[0] = 0\n",
    "        \n",
    "        # calc bedrock erosion from stream power (plucking)\n",
    "        ero_plucking_ig = efac[:-1] * (k_ig[1:] * q[1:] * S)\n",
    "        ero_plucking_sed = efac[:-1] * (k_sed[1:] * q[1:] * S)\n",
    "        \n",
    "        # calc bedrock erosion from abrasion\n",
    "        ero_ab_ig = efac[:-1] * (beta_ig[:-1] * qs[:-1])\n",
    "        ero_ab_sed = efac[:-1] * (beta_sed[:-1] * qs[:-1])\n",
    "        \n",
    "        # calc bedrock erosion rate from stream power and abrasion\n",
    "        ero[:-1] = ero_plucking_ig + ero_plucking_sed + ero_ab_ig + ero_ab_sed\n",
    "        \n",
    "        # calc change in bedrock elev\n",
    "        etab[:-1] -= ero[:-1] * dt\n",
    "        \n",
    "        # calc grain attrition\n",
    "        atr = beta_ig[1:] * qs[1:]\n",
    "        \n",
    "        # calc change in alluvial thickness\n",
    "        H[:-1] += -((1 / porosity) * ((np.diff(qs)/dx) + atr - ero_plucking_ig)) * dt\n",
    "        \n",
    "        # update elev\n",
    "        eta[:-1] = etab[:-1] + H[:-1]\n",
    "        \n",
    "#         if t <= num_steps:\n",
    "#             plt.plot(x, H)\n",
    "#         else:\n",
    "#             break\n",
    "            \n",
    "#         t += (5000 * dt)\n",
    "        \n",
    "    return efac, S, qs, eta, etab, ero_plucking_ig, ero_plucking_sed, ero_ab_ig, ero_ab_sed, ero, atr, H"
   ]
  },
  {
   "cell_type": "code",
   "execution_count": 58,
   "metadata": {},
   "outputs": [],
   "source": [
    "efac, S, qs, eta, etab, ero_plucking_ig, ero_plucking_sed, ero_ab_ig, ero_ab_sed, ero, atr, H = two_lith_one_sed(x,\n",
    "                                                                                                           dx,\n",
    "                                                                                                           beta_ig,\n",
    "                                                                                                           beta_sed,\n",
    "                                                                                                           k_ig,\n",
    "                                                                                                           k_sed)"
   ]
  },
  {
   "cell_type": "code",
   "execution_count": 59,
   "metadata": {},
   "outputs": [
    {
     "data": {
      "image/png": "[encoded data removed]",
      "text/plain": [
       "<Figure size 432x288 with 1 Axes>"
      ]
     },
     "metadata": {
      "needs_background": "light"
     },
     "output_type": "display_data"
    }
   ],
   "source": [
    "figsize = (10, 6)\n",
    "\n",
    "# plt.plot(x, H, label = 'sediment')\n",
    "plt.plot(x, eta, label = 'elevation')\n",
    "plt.plot(x, etab, label = 'bedrock')\n",
    "plt.legend()\n",
    "\n",
    "# plt.savefig('/Users/vanessa/Desktop/FA 2021/B_ig_7_1Ga.png')\n",
    "\n",
    "plt.show()"
   ]
  },
  {
   "cell_type": "code",
   "execution_count": 60,
   "metadata": {},
   "outputs": [
    {
     "data": {
      "image/png": "[encoded data removed]",
      "text/plain": [
       "<Figure size 432x288 with 1 Axes>"
      ]
     },
     "metadata": {
      "needs_background": "light"
     },
     "output_type": "display_data"
    }
   ],
   "source": [
    "plt.plot(x, H)\n",
    "# plt.savefig('/Users/vanessa/Desktop/FA 2021/B_ig_7_H_1Ga.png')"
   ]
  },
  {
   "cell_type": "code",
   "execution_count": 61,
   "metadata": {},
   "outputs": [
    {
     "data": {
      "text/plain": [
       "array([0.001, 0.001, 0.001, 0.001, 0.001, 0.001, 0.001, 0.001, 0.001,\n",
       "       0.001, 0.001, 0.001, 0.001, 0.001, 0.001, 0.001, 0.001, 0.001,\n",
       "       0.001, 0.001, 0.001, 0.001, 0.001, 0.001, 0.001, 0.001, 0.001,\n",
       "       0.001, 0.001, 0.001, 0.001, 0.001, 0.001, 0.001, 0.001, 0.001,\n",
       "       0.001, 0.001, 0.001, 0.001, 0.001, 0.001, 0.001, 0.001, 0.001,\n",
       "       0.001, 0.001, 0.001, 0.001, 0.001, 0.001, 0.001, 0.001, 0.001,\n",
       "       0.001, 0.001, 0.001, 0.001, 0.001, 0.001, 0.001, 0.001, 0.001,\n",
       "       0.001, 0.001, 0.001, 0.001, 0.001, 0.001, 0.001, 0.001, 0.001,\n",
       "       0.001, 0.001, 0.001, 0.001, 0.001, 0.001, 0.001, 0.001, 0.001,\n",
       "       0.001, 0.001, 0.001, 0.001, 0.001, 0.001, 0.001, 0.001, 0.001,\n",
       "       0.001, 0.001, 0.001, 0.001, 0.001, 0.001, 0.001, 0.001, 0.001,\n",
       "       0.   ])"
      ]
     },
     "execution_count": 61,
     "metadata": {},
     "output_type": "execute_result"
    }
   ],
   "source": [
    "ero"
   ]
  },
  {
   "cell_type": "code",
   "execution_count": null,
   "metadata": {},
   "outputs": [],
   "source": []
  }
 ],
 "metadata": {
  "kernelspec": {
   "display_name": "Python 3",
   "language": "python",
   "name": "python3"
  },
  "language_info": {
   "codemirror_mode": {
    "name": "ipython",
    "version": 3
   },
   "file_extension": ".py",
   "mimetype": "text/x-python",
   "name": "python",
   "nbconvert_exporter": "python",
   "pygments_lexer": "ipython3",
   "version": "3.7.6"
  }
 },
 "nbformat": 4,
 "nbformat_minor": 4
}
