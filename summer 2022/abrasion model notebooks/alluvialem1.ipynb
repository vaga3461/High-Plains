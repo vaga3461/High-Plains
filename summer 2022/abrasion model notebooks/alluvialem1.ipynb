{
 "cells": [
  {
   "cell_type": "markdown",
   "id": "threaded-aircraft",
   "metadata": {},
   "source": [
    "# GravelTransporter\n",
    "\n",
    "Simple alluvial landscape evolution model using the width closure model, following the equililbrium-width approach of Wickert & Schildgen (2019).\n",
    "\n"
   ]
  },
  {
   "cell_type": "markdown",
   "id": "sudden-singles",
   "metadata": {},
   "source": [
    "## Theory\n",
    "\n",
    "### Sediment transport law\n",
    "\n",
    "We treat only the coarse, bed-load fraction. We assume equilibrium channel theory, as follows (see also Wickert & Schildgen, 2019):\n",
    "\n",
    "Channel width adjusts so as to ensure that bankfull shear stress is slightly larger than critical shear stress for the median sediment diameter:\n",
    "\n",
    "$$\\tau = 1.2 \\tau_c = 1.2 \\tau_c^* (\\rho_s - \\rho) g D$$\n",
    "\n",
    "Cross-section average flow velocity is given by a friction law:\n",
    "\n",
    "$$\\bar{u} = C_z\\sqrt{g h S}$$\n",
    "\n",
    "with $C_z = 8.1 (h/\\lambda_r)^{1/6}$ (W&S eq 11). Because $q = \\bar{u}h$,\n",
    "\n",
    "$$q = 5.9 g^{1/2} \\frac{h^{5/3} S^{1/2}}{D^{1/6}}$$\n",
    "\n",
    "This ultimately leads to:\n",
    "\n",
    "$$\\boxed{b = 0.17 g^{-1/2} \\left(\\frac{\\rho_s -\\rho}{\\rho}\\right)^{-5/3} \\left(1+\\epsilon\\right)^{-5/3} {\\tau_c^*}^{-5/3} \\frac{QS^{7/6}}{D^{3/2}}}$$\n"
   ]
  },
  {
   "cell_type": "markdown",
   "id": "hourly-tutorial",
   "metadata": {},
   "source": [
    "W&S call the prefactor $k_b$. It's value in s/m$^{1/2}$ and y/m$^{1/2}$ is:\n"
   ]
  },
  {
   "cell_type": "code",
   "execution_count": 1,
   "id": "southwest-comparison",
   "metadata": {},
   "outputs": [
    {
     "name": "stdout",
     "output_type": "stream",
     "text": [
      "In s/m^1/2 2.6064650240601455\n",
      "In y/m^1.2 8.259389256661297e-08\n"
     ]
    }
   ],
   "source": [
    "epsilon = 0.2  # transport factor\n",
    "rho = 1000.0  # fresh water\n",
    "rhos = 2650.0  # quartz\n",
    "g = 9.8  # guess what?\n",
    "tau_star_c = 0.0495\n",
    "\n",
    "kb = (\n",
    "    0.17 * g**(-0.5) * (((rhos - rho)/rho) * (1 + epsilon) * tau_star_c)**(-5/3)\n",
    ")\n",
    "print('In s/m^1/2', kb)\n",
    "print('In y/m^1.2', kb / (3600 * 24 * 365.25))"
   ]
  },
  {
   "cell_type": "markdown",
   "id": "friendly-increase",
   "metadata": {},
   "source": [
    "Reality check: the implied width of a channel with bankfull width of 1 m, discharge of 1 cms, D of 1 cm, and slope of 0.01 would have a width of..."
   ]
  },
  {
   "cell_type": "code",
   "execution_count": 2,
   "id": "designing-touch",
   "metadata": {},
   "outputs": [
    {
     "name": "stdout",
     "output_type": "stream",
     "text": [
      "b = 12.098138950879829\n"
     ]
    }
   ],
   "source": [
    "D = 0.01  # grain diameter, m\n",
    "Q = 1.0  # bankfull discharge, m3/s\n",
    "S = 0.01  # slope gradient, m/m\n",
    "print(\"b = \" + str(kb * Q * S**(7./6.) / D**1.5))"
   ]
  },
  {
   "cell_type": "markdown",
   "id": "endless-blast",
   "metadata": {},
   "source": [
    "### Transport rate\n",
    "\n",
    "We follow W&S in using the Meyer-Peter Mueller equation for bed-load transport, which ends up looking like:\n",
    "\n",
    "$$Q_s = k_Q I Q S^{7/6}$$\n",
    "\n",
    "with $k_Q \\approx 0.041$. We can test this for $Q = 1$ cms, $S = 0.01$, and intermittency factor $I=0.01$:"
   ]
  },
  {
   "cell_type": "code",
   "execution_count": 3,
   "id": "crazy-weapon",
   "metadata": {},
   "outputs": [
    {
     "name": "stdout",
     "output_type": "stream",
     "text": [
      "Qs 1.903051421781239e-06 cms\n"
     ]
    }
   ],
   "source": [
    "Qs = 0.041 * 0.01 * 1 * (0.01)**(7./6.)\n",
    "print(\"Qs\", Qs, \"cms\")"
   ]
  },
  {
   "cell_type": "markdown",
   "id": "informational-philadelphia",
   "metadata": {},
   "source": [
    "This implies that 1 cms on a slope of 0.01 would carry about $2 \\times 10^{-6}$ cms of sediment."
   ]
  },
  {
   "cell_type": "markdown",
   "id": "f09dfd99",
   "metadata": {},
   "source": [
    "## Tests for a prototype component"
   ]
  },
  {
   "cell_type": "code",
   "execution_count": 4,
   "id": "forty-importance",
   "metadata": {},
   "outputs": [
    {
     "ename": "ImportError",
     "evalue": "cannot import name 'GravelRiverTransporter' from 'landlab.components' (/Users/vanessa/anaconda3/lib/python3.7/site-packages/landlab/components/__init__.py)",
     "output_type": "error",
     "traceback": [
      "\u001b[0;31m---------------------------------------------------------------------------\u001b[0m",
      "\u001b[0;31mImportError\u001b[0m                               Traceback (most recent call last)",
      "\u001b[0;32m<ipython-input-4-c9dc6adb56db>\u001b[0m in \u001b[0;36m<module>\u001b[0;34m\u001b[0m\n\u001b[1;32m      1\u001b[0m \u001b[0;32mimport\u001b[0m \u001b[0mnumpy\u001b[0m \u001b[0;32mas\u001b[0m \u001b[0mnp\u001b[0m\u001b[0;34m\u001b[0m\u001b[0;34m\u001b[0m\u001b[0m\n\u001b[1;32m      2\u001b[0m \u001b[0;32mfrom\u001b[0m \u001b[0mlandlab\u001b[0m \u001b[0;32mimport\u001b[0m \u001b[0mComponent\u001b[0m\u001b[0;34m,\u001b[0m \u001b[0mRasterModelGrid\u001b[0m\u001b[0;34m,\u001b[0m \u001b[0mimshow_grid\u001b[0m\u001b[0;34m\u001b[0m\u001b[0;34m\u001b[0m\u001b[0m\n\u001b[0;32m----> 3\u001b[0;31m \u001b[0;32mfrom\u001b[0m \u001b[0mlandlab\u001b[0m\u001b[0;34m.\u001b[0m\u001b[0mcomponents\u001b[0m \u001b[0;32mimport\u001b[0m \u001b[0mGravelRiverTransporter\u001b[0m\u001b[0;34m,\u001b[0m \u001b[0mFlowAccumulator\u001b[0m\u001b[0;34m\u001b[0m\u001b[0;34m\u001b[0m\u001b[0m\n\u001b[0m",
      "\u001b[0;31mImportError\u001b[0m: cannot import name 'GravelRiverTransporter' from 'landlab.components' (/Users/vanessa/anaconda3/lib/python3.7/site-packages/landlab/components/__init__.py)"
     ]
    }
   ],
   "source": [
    "import numpy as np\n",
    "from landlab import Component, RasterModelGrid, imshow_grid\n",
    "from landlab.components import GravelRiverTransporter, FlowAccumulator"
   ]
  },
  {
   "cell_type": "code",
   "execution_count": 5,
   "id": "539a8e03",
   "metadata": {},
   "outputs": [
    {
     "name": "stdout",
     "output_type": "stream",
     "text": [
      "Predicted outflux 0.019030514217812388 m3/y\n"
     ]
    },
    {
     "ename": "NameError",
     "evalue": "name 'GravelRiverTransporter' is not defined",
     "output_type": "error",
     "traceback": [
      "\u001b[0;31m---------------------------------------------------------------------------\u001b[0m",
      "\u001b[0;31mNameError\u001b[0m                                 Traceback (most recent call last)",
      "\u001b[0;32m<ipython-input-5-29c685b5ca81>\u001b[0m in \u001b[0;36m<module>\u001b[0;34m\u001b[0m\n\u001b[1;32m     18\u001b[0m \u001b[0mfa\u001b[0m \u001b[0;34m=\u001b[0m \u001b[0mFlowAccumulator\u001b[0m\u001b[0;34m(\u001b[0m\u001b[0mgrid\u001b[0m\u001b[0;34m)\u001b[0m\u001b[0;34m\u001b[0m\u001b[0;34m\u001b[0m\u001b[0m\n\u001b[1;32m     19\u001b[0m \u001b[0mfa\u001b[0m\u001b[0;34m.\u001b[0m\u001b[0mrun_one_step\u001b[0m\u001b[0;34m(\u001b[0m\u001b[0;34m)\u001b[0m\u001b[0;34m\u001b[0m\u001b[0;34m\u001b[0m\u001b[0m\n\u001b[0;32m---> 20\u001b[0;31m \u001b[0mtransporter\u001b[0m \u001b[0;34m=\u001b[0m \u001b[0mGravelRiverTransporter\u001b[0m\u001b[0;34m(\u001b[0m\u001b[0mgrid\u001b[0m\u001b[0;34m)\u001b[0m\u001b[0;34m\u001b[0m\u001b[0;34m\u001b[0m\u001b[0m\n\u001b[0m\u001b[1;32m     21\u001b[0m \u001b[0;31m# transporter._receiver_node[4]\u001b[0m\u001b[0;34m\u001b[0m\u001b[0;34m\u001b[0m\u001b[0;34m\u001b[0m\u001b[0m\n\u001b[1;32m     22\u001b[0m \u001b[0mtransporter\u001b[0m\u001b[0;34m.\u001b[0m\u001b[0mcalc_transport_capacity\u001b[0m\u001b[0;34m(\u001b[0m\u001b[0;34m)\u001b[0m\u001b[0;34m\u001b[0m\u001b[0;34m\u001b[0m\u001b[0m\n",
      "\u001b[0;31mNameError\u001b[0m: name 'GravelRiverTransporter' is not defined"
     ]
    }
   ],
   "source": [
    "# Unit test for calc_transport_capacity\n",
    "#   First, the predicted solution\n",
    "dx = 100.0\n",
    "slope = 0.01\n",
    "discharge = 1.0 * dx * dx\n",
    "trans_coef = 0.041\n",
    "intermittency_fac = 0.01\n",
    "predicted_outflux = trans_coef * intermittency_fac * discharge * slope ** (7.0 / 6.0)\n",
    "print(\"Predicted outflux\", predicted_outflux, \"m3/y\")\n",
    "\n",
    "#   Next, the component-computed solution\n",
    "from landlab import RasterModelGrid\n",
    "from landlab.components import FlowAccumulator\n",
    "\n",
    "grid = RasterModelGrid((3, 3), xy_spacing=100.0)\n",
    "elev = grid.add_zeros(\"topographic__elevation\", at=\"node\")\n",
    "elev[3:] = 1.0\n",
    "fa = FlowAccumulator(grid)\n",
    "fa.run_one_step()\n",
    "transporter = GravelRiverTransporter(grid)\n",
    "# transporter._receiver_node[4]\n",
    "transporter.calc_transport_capacity()\n",
    "print(\"Computed outflux \", transporter._sediment_outflux[4], \"m3/y\")\n",
    "print(\"Rounded outflux  \", round(transporter._sediment_outflux[4], 7))"
   ]
  },
  {
   "cell_type": "code",
   "execution_count": 6,
   "id": "230c8f32",
   "metadata": {},
   "outputs": [
    {
     "ename": "NameError",
     "evalue": "name 'GravelRiverTransporter' is not defined",
     "output_type": "error",
     "traceback": [
      "\u001b[0;31m---------------------------------------------------------------------------\u001b[0m",
      "\u001b[0;31mNameError\u001b[0m                                 Traceback (most recent call last)",
      "\u001b[0;32m<ipython-input-6-2e5a94523180>\u001b[0m in \u001b[0;36m<module>\u001b[0;34m\u001b[0m\n\u001b[1;32m     26\u001b[0m \u001b[0mfa\u001b[0m \u001b[0;34m=\u001b[0m \u001b[0mFlowAccumulator\u001b[0m\u001b[0;34m(\u001b[0m\u001b[0mgrid\u001b[0m\u001b[0;34m)\u001b[0m\u001b[0;34m\u001b[0m\u001b[0;34m\u001b[0m\u001b[0m\n\u001b[1;32m     27\u001b[0m \u001b[0mfa\u001b[0m\u001b[0;34m.\u001b[0m\u001b[0mrun_one_step\u001b[0m\u001b[0;34m(\u001b[0m\u001b[0;34m)\u001b[0m\u001b[0;34m\u001b[0m\u001b[0;34m\u001b[0m\u001b[0m\n\u001b[0;32m---> 28\u001b[0;31m \u001b[0mtransporter\u001b[0m \u001b[0;34m=\u001b[0m \u001b[0mGravelRiverTransporter\u001b[0m\u001b[0;34m(\u001b[0m\u001b[0mgrid\u001b[0m\u001b[0;34m)\u001b[0m\u001b[0;34m\u001b[0m\u001b[0;34m\u001b[0m\u001b[0m\n\u001b[0m\u001b[1;32m     29\u001b[0m \u001b[0;34m\u001b[0m\u001b[0m\n\u001b[1;32m     30\u001b[0m \u001b[0mtransporter\u001b[0m\u001b[0;34m.\u001b[0m\u001b[0mcalc_sediment_rate_of_change\u001b[0m\u001b[0;34m(\u001b[0m\u001b[0;34m)\u001b[0m\u001b[0;34m\u001b[0m\u001b[0;34m\u001b[0m\u001b[0m\n",
      "\u001b[0;31mNameError\u001b[0m: name 'GravelRiverTransporter' is not defined"
     ]
    }
   ],
   "source": [
    "# Unit test for calc_sediment_rate_of_change\n",
    "#   First, the predicted solution\n",
    "dx = 100.0\n",
    "slope = 0.01\n",
    "discharge = 1.0 * dx * dx\n",
    "trans_coef = 0.041\n",
    "intermittency_fac = 0.01\n",
    "\n",
    "flux = trans_coef * intermittency_fac * discharge * slope ** (7.0 / 6.0)\n",
    "outflux_cores_and_open_bdy = np.array([0.0, 2 * flux, flux])\n",
    "influx_cores_and_open_bdy = np.array([2 * flux, flux, 0.0])\n",
    "predicted_dzdt_cores_open_bdy = (influx_cores_and_open_bdy - outflux_cores_and_open_bdy) / (dx * dx)\n",
    "predicted_dzdt_cores_open_bdy[0] = 0.0\n",
    "\n",
    "#   Next, the component-computed solution\n",
    "from landlab import RasterModelGrid\n",
    "from landlab.components import FlowAccumulator\n",
    "\n",
    "grid = RasterModelGrid((3, 4), xy_spacing=100.0)\n",
    "grid.status_at_node[grid.perimeter_nodes] = grid.BC_NODE_IS_CLOSED\n",
    "grid.status_at_node[4] = grid.BC_NODE_IS_FIXED_VALUE\n",
    "\n",
    "elev = grid.add_zeros(\"topographic__elevation\", at=\"node\")\n",
    "elev[:] = slope * grid.x_of_node\n",
    "\n",
    "fa = FlowAccumulator(grid)\n",
    "fa.run_one_step()\n",
    "transporter = GravelRiverTransporter(grid)\n",
    "\n",
    "transporter.calc_sediment_rate_of_change()\n",
    "print(\"Predicted outflux\", outflux_cores_and_open_bdy, \"m3/y\")\n",
    "print(\"Computed outflux \", transporter._sediment_outflux[4:7], \"m3/y\")\n",
    "print(\"Predicted influx\", influx_cores_and_open_bdy, \"m3/y\")\n",
    "print(\"Computed influx \", transporter._sediment_influx[4:7], \"m3/y\")\n",
    "print(\"Predicted dzdt\", predicted_dzdt_cores_open_bdy, \"m/y\")\n",
    "print(\"Calculated dzdt\", transporter._dzdt[4:7], \"m/y\")"
   ]
  },
  {
   "cell_type": "code",
   "execution_count": 7,
   "id": "283db8a7",
   "metadata": {},
   "outputs": [
    {
     "ename": "NameError",
     "evalue": "name 'GravelRiverTransporter' is not defined",
     "output_type": "error",
     "traceback": [
      "\u001b[0;31m---------------------------------------------------------------------------\u001b[0m",
      "\u001b[0;31mNameError\u001b[0m                                 Traceback (most recent call last)",
      "\u001b[0;32m<ipython-input-7-ac2488bb13b1>\u001b[0m in \u001b[0;36m<module>\u001b[0;34m\u001b[0m\n\u001b[1;32m     29\u001b[0m \u001b[0mfa\u001b[0m \u001b[0;34m=\u001b[0m \u001b[0mFlowAccumulator\u001b[0m\u001b[0;34m(\u001b[0m\u001b[0mgrid\u001b[0m\u001b[0;34m)\u001b[0m\u001b[0;34m\u001b[0m\u001b[0;34m\u001b[0m\u001b[0m\n\u001b[1;32m     30\u001b[0m \u001b[0mfa\u001b[0m\u001b[0;34m.\u001b[0m\u001b[0mrun_one_step\u001b[0m\u001b[0;34m(\u001b[0m\u001b[0;34m)\u001b[0m\u001b[0;34m\u001b[0m\u001b[0;34m\u001b[0m\u001b[0m\n\u001b[0;32m---> 31\u001b[0;31m \u001b[0mtransporter\u001b[0m \u001b[0;34m=\u001b[0m \u001b[0mGravelRiverTransporter\u001b[0m\u001b[0;34m(\u001b[0m\u001b[0mgrid\u001b[0m\u001b[0;34m)\u001b[0m\u001b[0;34m\u001b[0m\u001b[0;34m\u001b[0m\u001b[0m\n\u001b[0m\u001b[1;32m     32\u001b[0m \u001b[0;34m\u001b[0m\u001b[0m\n\u001b[1;32m     33\u001b[0m \u001b[0mtransporter\u001b[0m\u001b[0;34m.\u001b[0m\u001b[0mrun_one_step\u001b[0m\u001b[0;34m(\u001b[0m\u001b[0mdt\u001b[0m\u001b[0;34m)\u001b[0m\u001b[0;34m\u001b[0m\u001b[0;34m\u001b[0m\u001b[0m\n",
      "\u001b[0;31mNameError\u001b[0m: name 'GravelRiverTransporter' is not defined"
     ]
    }
   ],
   "source": [
    "# Unit test for run_one_step\n",
    "#   First, the predicted solution\n",
    "dx = 100.0\n",
    "slope = 0.01\n",
    "discharge = 1.0 * dx * dx\n",
    "trans_coef = 0.041\n",
    "intermittency_fac = 0.01\n",
    "porosity = 0.35\n",
    "dt = 1000.0  # time step, years\n",
    "\n",
    "flux = trans_coef * intermittency_fac * discharge * slope ** (7.0 / 6.0)\n",
    "outflux_cores_and_open_bdy = np.array([0.0, 2 * flux, flux])\n",
    "influx_cores_and_open_bdy = np.array([2 * flux, flux, 0.0])\n",
    "predicted_dzdt_cores_open_bdy = (1.0/(1.0-porosity))*(influx_cores_and_open_bdy - outflux_cores_and_open_bdy) / (dx * dx)\n",
    "predicted_dzdt_cores_open_bdy[0] = 0.0\n",
    "predicted_z = np.array([0.0, 1.0, 2.0]) + dt * predicted_dzdt_cores_open_bdy\n",
    "\n",
    "#   Next, the component-computed solution\n",
    "from landlab import RasterModelGrid\n",
    "from landlab.components import FlowAccumulator\n",
    "\n",
    "grid = RasterModelGrid((3, 4), xy_spacing=100.0)\n",
    "grid.status_at_node[grid.perimeter_nodes] = grid.BC_NODE_IS_CLOSED\n",
    "grid.status_at_node[4] = grid.BC_NODE_IS_FIXED_VALUE\n",
    "\n",
    "elev = grid.add_zeros(\"topographic__elevation\", at=\"node\")\n",
    "elev[:] = slope * grid.x_of_node\n",
    "\n",
    "fa = FlowAccumulator(grid)\n",
    "fa.run_one_step()\n",
    "transporter = GravelRiverTransporter(grid)\n",
    "\n",
    "transporter.run_one_step(dt)\n",
    "print(\"Predicted z \", predicted_z, \"m/y\")\n",
    "print(\"Calculated z\", transporter._elev[4:7], \"m\")"
   ]
  },
  {
   "cell_type": "markdown",
   "id": "92aee5aa",
   "metadata": {},
   "source": [
    "### Analytical solution for an equilibrium profile of one cell width\n",
    "\n",
    "Consider a 1D system in equilibrium with a baselevel lowering rate $U$. From W&S eq B2:\n",
    "\n",
    "$$\\frac{\\partial z}{\\partial t} = U - \\frac{\\beta Q_s}{B} -\\frac{1}{1-\\lambda_p} \\left( \\frac{\\partial (Q_s/B)}{\\partial x} - \\frac{Q_s}{B^2} \\frac{\\partial B}{\\partial x}\\right) = 0$$\n",
    "\n",
    "In our case, we assume a constant width $B$ (which will be equal to one grid cell width), so the right-most term is zero. That leaves us with:\n",
    "\n",
    "$$\\frac{d Q_s}{d x} = (1-\\lambda_p) U B - \\beta Q_s$$\n",
    "\n",
    "If $\\beta=0$ (no abrasion/attrition), this just integrates to:\n",
    "\n",
    "$$Q_s = (1-\\lambda_p) U B x$$\n",
    "\n",
    "To solve for equilibium slope, we set $Q_s$ equal to transport capacity and solve for $S$:\n",
    "\n",
    "$$k_Q I Q S^{7/6} = (1-\\lambda_p) U B x$$\n",
    "\n",
    "For a basin of fixed width $B$, $Q=rBx$ where $r$ is bankfull runoff rate (and we're assuming equilibrium hydrology, i.e., uniform $r$). So:\n",
    "\n",
    "$$S = \\left( \\frac{(1-\\lambda_p) U}{k_Q I r} \\right)^{6/7}$$\n",
    "\n",
    "This is our first test condition.\n",
    "\n",
    "In the general case, the governing equation has the form $dy/dx = a + by$. Integrating downstream from the headwaters, where $x=0$ and $Q_s=0$,\n",
    "\n",
    "$$Q_s = \\frac{(1-\\lambda_p) U B}{\\beta} \\left( 1 - e^{-\\beta x} \\right)$$\n",
    "\n",
    "It's a saturating exponential because at some point the rate of addition of gravel balances its rate of abrasion.\n",
    "\n",
    "At any point $x$, the slope has to be just sufficient to carry the imposed $Q_s$ with the available discharge (and given the intermittency factor, $I$):\n",
    "\n",
    "$$S(x) = \\frac{(1-\\lambda_p)U}{k_QIrx\\beta} \\left( 1 - e^{-\\beta x}\\right)$$\n",
    "\n",
    "I think what's going on here is that there's a tradeoff between growing discharge downstream ($Q = rBx$, where $r$ is bankfull runoff rate) and growing sediment downstream (the saturating exponential). But ultimately the sediment load stops growing downstream, and the water effect takes over."
   ]
  },
  {
   "cell_type": "code",
   "execution_count": 8,
   "id": "357e3295",
   "metadata": {},
   "outputs": [
    {
     "ename": "ImportError",
     "evalue": "cannot import name 'GravelRiverTransporter' from 'landlab.components' (/Users/vanessa/anaconda3/lib/python3.7/site-packages/landlab/components/__init__.py)",
     "output_type": "error",
     "traceback": [
      "\u001b[0;31m---------------------------------------------------------------------------\u001b[0m",
      "\u001b[0;31mImportError\u001b[0m                               Traceback (most recent call last)",
      "\u001b[0;32m<ipython-input-8-bb9f21b26388>\u001b[0m in \u001b[0;36m<module>\u001b[0;34m\u001b[0m\n\u001b[1;32m      2\u001b[0m \u001b[0;32mimport\u001b[0m \u001b[0mmatplotlib\u001b[0m\u001b[0;34m.\u001b[0m\u001b[0mpyplot\u001b[0m \u001b[0;32mas\u001b[0m \u001b[0mplt\u001b[0m\u001b[0;34m\u001b[0m\u001b[0;34m\u001b[0m\u001b[0m\n\u001b[1;32m      3\u001b[0m \u001b[0;32mfrom\u001b[0m \u001b[0mlandlab\u001b[0m \u001b[0;32mimport\u001b[0m \u001b[0mRasterModelGrid\u001b[0m\u001b[0;34m\u001b[0m\u001b[0;34m\u001b[0m\u001b[0m\n\u001b[0;32m----> 4\u001b[0;31m \u001b[0;32mfrom\u001b[0m \u001b[0mlandlab\u001b[0m\u001b[0;34m.\u001b[0m\u001b[0mcomponents\u001b[0m \u001b[0;32mimport\u001b[0m \u001b[0mFlowAccumulator\u001b[0m\u001b[0;34m,\u001b[0m \u001b[0mGravelRiverTransporter\u001b[0m\u001b[0;34m\u001b[0m\u001b[0;34m\u001b[0m\u001b[0m\n\u001b[0m\u001b[1;32m      5\u001b[0m \u001b[0;34m\u001b[0m\u001b[0m\n\u001b[1;32m      6\u001b[0m \u001b[0;31m# Parameters\u001b[0m\u001b[0;34m\u001b[0m\u001b[0;34m\u001b[0m\u001b[0;34m\u001b[0m\u001b[0m\n",
      "\u001b[0;31mImportError\u001b[0m: cannot import name 'GravelRiverTransporter' from 'landlab.components' (/Users/vanessa/anaconda3/lib/python3.7/site-packages/landlab/components/__init__.py)"
     ]
    }
   ],
   "source": [
    "# Test for equilibrium with no abrasion\n",
    "import matplotlib.pyplot as plt\n",
    "from landlab import RasterModelGrid\n",
    "from landlab.components import FlowAccumulator, GravelRiverTransporter\n",
    "\n",
    "# Parameters\n",
    "dx = 1000.0  # node spacing, m\n",
    "initial_slope = 0.0001  # starting topographic slope, m/m\n",
    "bankfull_runoff_rate = 10.0  # r, m/y\n",
    "trans_coef = 0.041  # this is kQ\n",
    "intermittency_fac = 0.01  # this is I\n",
    "dt = 1000.0  # time step, years\n",
    "uplift_rate = 0.0001  # U, m/y\n",
    "porosity = 0.0  #0.35  # lambda_p\n",
    "nsteps = 30000  # number of time steps\n",
    "\n",
    "# Derived parameters\n",
    "discharge = bankfull_runoff_rate * dx * dx\n",
    "poro_fac = 1.0 - porosity\n",
    "\n",
    "# Grid setup\n",
    "grid = RasterModelGrid((3, 11), xy_spacing=dx)\n",
    "grid.status_at_node[grid.perimeter_nodes] = grid.BC_NODE_IS_CLOSED\n",
    "grid.status_at_node[21] = grid.BC_NODE_IS_FIXED_VALUE\n",
    "\n",
    "elev = grid.add_zeros(\"topographic__elevation\", at=\"node\")\n",
    "elev[:] = initial_slope * (grid.x_of_node.max() - grid.x_of_node)\n",
    "\n",
    "fa = FlowAccumulator(grid, runoff_rate=bankfull_runoff_rate)\n",
    "fa.run_one_step()\n",
    "transporter = GravelRiverTransporter(grid, sediment_porosity=porosity)\n",
    "\n",
    "for i in range(nsteps):\n",
    "    elev[grid.core_nodes] += uplift_rate * dt\n",
    "    fa.run_one_step()\n",
    "    transporter.run_one_step(dt)\n",
    "    \n",
    "plt.plot(grid.x_of_node[11:22], elev[11:22])\n",
    "\n",
    "# Analytical solution\n",
    "xan = grid.x_of_node[12:22]\n",
    "Spred = (\n",
    "    (poro_fac * uplift_rate)\n",
    "    / (trans_coef * intermittency_fac * bankfull_runoff_rate))**(6./7.)\n",
    "zpred = Spred * (grid.x_of_node.max() - grid.x_of_node[12:22])\n",
    "print('Predicted slope =', Spred)\n",
    "print('Computed slope =', grid.at_node[\"topographic__steepest_slope\"])\n",
    "plt.plot(xan, zpred, 'r')\n",
    "print('Pred outlfux', uplift_rate * dx * grid.x_of_node[12:22])\n",
    "print('Outflux', transporter._sediment_outflux[12:22])"
   ]
  },
  {
   "cell_type": "markdown",
   "id": "465cce5b",
   "metadata": {},
   "source": [
    "### Equilibrium with abrasion in just one cell\n",
    "\n",
    "Input volume rate:\n",
    "\n",
    "$$\\text{input rate} = U\\Delta x^2 (1-\\lambda_p)$$\n",
    "\n",
    "Output volume rate is abrasion loss rate plus outflux. The factor of 1/2 comes from calculating abrasion rate from the average of incoming sediment flux (which is zero in this case) and outgoing sediment flux:\n",
    "\n",
    "$$\\text{output rate} = \\frac{1}{2}\\beta Q_s \\Delta x + Q_s = (1+\\beta \\Delta x) Q_s$$\n",
    "\n",
    "Setting equal:\n",
    "\n",
    "$$Q_s = \\frac{U\\Delta x^2 (1-\\lambda_p)}{1+\\beta \\Delta x / 2}$$\n",
    "\n",
    "The corresponding slope:\n",
    "\n",
    "$$k_Q I Q S^{7/6} = \\frac{U\\Delta x^2 (1-\\lambda_p)}{1+\\beta \\Delta x / 2}$$\n",
    "\n",
    "$$S^{7/6} = \\frac{U\\Delta x^2 (1-\\lambda_p)}{k_Q I Q (1+\\beta \\Delta x / 2)}$$\n",
    "\n",
    "$$S = \\left(\\frac{U\\Delta x^2 (1-\\lambda_p)}{k_Q I r \\Delta x^2 (1+\\beta \\Delta x / 2)}\\right)^{6/7}$$\n",
    "\n",
    "$$S = \\left(\\frac{U (1-\\lambda_p)}{k_Q I r (1+\\beta \\Delta x/2)}\\right)^{6/7}$$\n",
    "\n",
    "The abrasion lowering rate:\n",
    "\n",
    "$$E_a = \\frac{\\beta Q_s}{\\Delta x} = \\frac{\\beta U\\Delta x (1-\\lambda_p)}{(1+\\beta \\Delta x / 2)}$$"
   ]
  },
  {
   "cell_type": "code",
   "execution_count": 9,
   "id": "6ab22b85",
   "metadata": {},
   "outputs": [
    {
     "ename": "ImportError",
     "evalue": "cannot import name 'GravelRiverTransporter' from 'landlab.components' (/Users/vanessa/anaconda3/lib/python3.7/site-packages/landlab/components/__init__.py)",
     "output_type": "error",
     "traceback": [
      "\u001b[0;31m---------------------------------------------------------------------------\u001b[0m",
      "\u001b[0;31mImportError\u001b[0m                               Traceback (most recent call last)",
      "\u001b[0;32m<ipython-input-9-8847884021eb>\u001b[0m in \u001b[0;36m<module>\u001b[0;34m\u001b[0m\n\u001b[1;32m      2\u001b[0m \u001b[0;32mimport\u001b[0m \u001b[0mmatplotlib\u001b[0m\u001b[0;34m.\u001b[0m\u001b[0mpyplot\u001b[0m \u001b[0;32mas\u001b[0m \u001b[0mplt\u001b[0m\u001b[0;34m\u001b[0m\u001b[0;34m\u001b[0m\u001b[0m\n\u001b[1;32m      3\u001b[0m \u001b[0;32mfrom\u001b[0m \u001b[0mlandlab\u001b[0m \u001b[0;32mimport\u001b[0m \u001b[0mRasterModelGrid\u001b[0m\u001b[0;34m\u001b[0m\u001b[0;34m\u001b[0m\u001b[0m\n\u001b[0;32m----> 4\u001b[0;31m \u001b[0;32mfrom\u001b[0m \u001b[0mlandlab\u001b[0m\u001b[0;34m.\u001b[0m\u001b[0mcomponents\u001b[0m \u001b[0;32mimport\u001b[0m \u001b[0mFlowAccumulator\u001b[0m\u001b[0;34m,\u001b[0m \u001b[0mGravelRiverTransporter\u001b[0m\u001b[0;34m\u001b[0m\u001b[0;34m\u001b[0m\u001b[0m\n\u001b[0m\u001b[1;32m      5\u001b[0m \u001b[0;34m\u001b[0m\u001b[0m\n\u001b[1;32m      6\u001b[0m \u001b[0;31m# Parameters\u001b[0m\u001b[0;34m\u001b[0m\u001b[0;34m\u001b[0m\u001b[0;34m\u001b[0m\u001b[0m\n",
      "\u001b[0;31mImportError\u001b[0m: cannot import name 'GravelRiverTransporter' from 'landlab.components' (/Users/vanessa/anaconda3/lib/python3.7/site-packages/landlab/components/__init__.py)"
     ]
    }
   ],
   "source": [
    "# Test for equilibrium with abrasion in one cell\n",
    "import matplotlib.pyplot as plt\n",
    "from landlab import RasterModelGrid\n",
    "from landlab.components import FlowAccumulator, GravelRiverTransporter\n",
    "\n",
    "# Parameters\n",
    "dx = 1000.0  # node spacing, m\n",
    "initial_slope = 0.0001  # starting topographic slope, m/m\n",
    "bankfull_runoff_rate = 10.0  # r, m/y\n",
    "trans_coef = 0.041  # this is kQ\n",
    "intermittency_fac = 0.01  # this is I\n",
    "abrasion_length_scale = 2000.0  # this is the inverse of beta, in m\n",
    "dt = 10000.0  # time step, years\n",
    "uplift_rate = 0.0001  # U, m/y\n",
    "porosity = 0.35  # lambda_p\n",
    "nsteps = 200  # number of time steps\n",
    "\n",
    "# Derived parameters\n",
    "discharge = bankfull_runoff_rate * dx * dx\n",
    "abrasion_coef = 1.0 / abrasion_length_scale  # this is beta, 1/m\n",
    "poro_fac = 1.0 - porosity\n",
    "\n",
    "# Grid setup\n",
    "\n",
    "grid = RasterModelGrid((3, 3), xy_spacing=dx)\n",
    "grid.status_at_node[grid.perimeter_nodes] = grid.BC_NODE_IS_CLOSED\n",
    "grid.status_at_node[5] = grid.BC_NODE_IS_FIXED_VALUE\n",
    "\n",
    "elev = grid.add_zeros(\"topographic__elevation\", at=\"node\")\n",
    "elev[:] = initial_slope * (grid.x_of_node.max() - grid.x_of_node)\n",
    "\n",
    "fa = FlowAccumulator(grid, runoff_rate=bankfull_runoff_rate)\n",
    "fa.run_one_step()\n",
    "transporter = GravelRiverTransporter(\n",
    "    grid,\n",
    "    abrasion_coefficient=abrasion_coef,\n",
    ")\n",
    "\n",
    "for i in range(nsteps):\n",
    "    fa.run_one_step()\n",
    "    elev[grid.core_nodes] += uplift_rate * dt\n",
    "    transporter.run_one_step(dt)\n"
   ]
  },
  {
   "cell_type": "code",
   "execution_count": 51,
   "id": "458d374c",
   "metadata": {},
   "outputs": [
    {
     "name": "stdout",
     "output_type": "stream",
     "text": [
      "Predicted Qs 52.0\n",
      "Computed Qs  51.9970981699\n",
      "Predicted S 0.02366944810159208\n",
      "Computed S  0.0236683159314\n",
      "Predicted Ea 1.3000000000000001e-05\n",
      "Computed Ea  1.29992745425e-05\n"
     ]
    }
   ],
   "source": [
    "# Compare with analytical solutions\n",
    "Qs_pred = (uplift_rate * dx * dx * (1.0 - porosity)) / (abrasion_coef * dx / 2 + 1)\n",
    "print('Predicted Qs', Qs_pred)\n",
    "print('Computed Qs ', transporter._sediment_outflux[4])\n",
    "S_pred = (Qs_pred / (trans_coef * intermittency_fac * bankfull_runoff_rate * dx * dx))**(6./7.)\n",
    "print('Predicted S', S_pred)\n",
    "print('Computed S ', transporter._slope[4])\n",
    "Ea_pred = abrasion_coef * (Qs_pred / 2.0) / dx\n",
    "print('Predicted Ea', Ea_pred)\n",
    "print('Computed Ea ', transporter._abrasion[4])\n"
   ]
  },
  {
   "cell_type": "code",
   "execution_count": 75,
   "id": "9a663dde",
   "metadata": {},
   "outputs": [],
   "source": [
    "# Test for equilibrium with abrasion in two cells\n",
    "import matplotlib.pyplot as plt\n",
    "from landlab import RasterModelGrid\n",
    "from landlab.components import FlowAccumulator, GravelRiverTransporter\n",
    "\n",
    "# Parameters\n",
    "dx = 1000.0  # node spacing, m\n",
    "initial_slope = 0.0001  # starting topographic slope, m/m\n",
    "bankfull_runoff_rate = 10.0  # r, m/y\n",
    "trans_coef = 0.041  # this is kQ\n",
    "intermittency_fac = 0.01  # this is I\n",
    "abrasion_length_scale = 2000.0  # this is the inverse of beta, in m\n",
    "dt = 10000.0  # time step, years\n",
    "uplift_rate = 0.0001  # U, m/y\n",
    "porosity = 0.35  # lambda_p\n",
    "nsteps = 500  # number of time steps\n",
    "\n",
    "# Derived parameters\n",
    "discharge = bankfull_runoff_rate * dx * dx\n",
    "abrasion_coef = 1.0 / abrasion_length_scale  # this is beta, 1/m\n",
    "poro_fac = 1.0 - porosity\n",
    "\n",
    "# Grid setup\n",
    "\n",
    "grid = RasterModelGrid((3, 4), xy_spacing=dx)\n",
    "grid.status_at_node[grid.perimeter_nodes] = grid.BC_NODE_IS_CLOSED\n",
    "grid.status_at_node[7] = grid.BC_NODE_IS_FIXED_VALUE\n",
    "\n",
    "elev = grid.add_zeros(\"topographic__elevation\", at=\"node\")\n",
    "elev[:] = initial_slope * (grid.x_of_node.max() - grid.x_of_node)\n",
    "\n",
    "fa = FlowAccumulator(grid, runoff_rate=bankfull_runoff_rate)\n",
    "fa.run_one_step()\n",
    "transporter = GravelRiverTransporter(\n",
    "    grid,\n",
    "    abrasion_coefficient=abrasion_coef,\n",
    ")\n",
    "\n",
    "for i in range(nsteps):\n",
    "    fa.run_one_step()\n",
    "    elev[grid.core_nodes] += uplift_rate * dt\n",
    "    transporter.run_one_step(dt)\n"
   ]
  },
  {
   "cell_type": "code",
   "execution_count": 76,
   "id": "c8e44104",
   "metadata": {},
   "outputs": [
    {
     "name": "stdout",
     "output_type": "stream",
     "text": [
      "Predicted Qs 52.0\n",
      "Computed Qs  51.9999962748\n",
      "Predicted S 0.02366944810159208\n",
      "Computed S  0.0236694466482\n",
      "Predicted Ea 1.3000000000000001e-05\n",
      "Computed Ea  1.29999990687e-05\n"
     ]
    }
   ],
   "source": [
    "# Compare with analytical solutions in upper cell\n",
    "Qs_pred = (uplift_rate * dx * dx * (1.0 - porosity)) / (abrasion_coef * dx / 2 + 1)\n",
    "print('Predicted Qs', Qs_pred)\n",
    "print('Computed Qs ', transporter._sediment_outflux[5])\n",
    "S_pred = (Qs_pred / (trans_coef * intermittency_fac * bankfull_runoff_rate * dx * dx))**(6./7.)\n",
    "print('Predicted S', S_pred)\n",
    "print('Computed S ', transporter._slope[5])\n",
    "Ea_pred = abrasion_coef * (Qs_pred / 2) / dx\n",
    "print('Predicted Ea', Ea_pred)\n",
    "print('Computed Ea ', transporter._abrasion[5])\n"
   ]
  },
  {
   "cell_type": "code",
   "execution_count": 71,
   "id": "9d8cdec8",
   "metadata": {},
   "outputs": [],
   "source": [
    "# Test for equilibrium with abrasion and 4 cells\n",
    "import matplotlib.pyplot as plt\n",
    "from landlab import RasterModelGrid\n",
    "from landlab.components import FlowAccumulator, GravelRiverTransporter\n",
    "\n",
    "# Parameters\n",
    "dx = 1000.0  # node spacing, m\n",
    "initial_slope = 0.0001  # starting topographic slope, m/m\n",
    "bankfull_runoff_rate = 10.0  # r, m/y\n",
    "trans_coef = 0.041  # this is kQ\n",
    "intermittency_fac = 0.01  # this is I\n",
    "abrasion_length_scale = 2000.0  # this is the inverse of beta, in m\n",
    "dt = 10000.0  # time step, years\n",
    "uplift_rate = 0.0001  # U, m/y\n",
    "porosity = 0.35  # lambda_p\n",
    "nsteps = 600  # number of time steps\n",
    "\n",
    "# Derived parameters\n",
    "discharge = bankfull_runoff_rate * dx * dx\n",
    "abrasion_coef = 1.0 / abrasion_length_scale  # this is beta, 1/m\n",
    "poro_fac = 1.0 - porosity\n",
    "\n",
    "# Grid setup\n",
    "\n",
    "grid = RasterModelGrid((3, 6), xy_spacing=dx)\n",
    "grid.status_at_node[grid.perimeter_nodes] = grid.BC_NODE_IS_CLOSED\n",
    "grid.status_at_node[11] = grid.BC_NODE_IS_FIXED_VALUE\n",
    "\n",
    "elev = grid.add_zeros(\"topographic__elevation\", at=\"node\")\n",
    "elev[:] = initial_slope * (grid.x_of_node.max() - grid.x_of_node)\n",
    "\n",
    "fa = FlowAccumulator(grid, runoff_rate=bankfull_runoff_rate)\n",
    "fa.run_one_step()\n",
    "transporter = GravelRiverTransporter(\n",
    "    grid,\n",
    "    abrasion_coefficient=abrasion_coef,\n",
    ")\n",
    "\n",
    "for i in range(nsteps):\n",
    "    fa.run_one_step()\n",
    "    elev[grid.core_nodes] += uplift_rate * dt\n",
    "    transporter.run_one_step(dt)\n"
   ]
  },
  {
   "cell_type": "code",
   "execution_count": 72,
   "id": "7b60fe80",
   "metadata": {},
   "outputs": [
    {
     "name": "stdout",
     "output_type": "stream",
     "text": [
      "Predicted Qs 52.0\n",
      "Computed Qs  51.9999390486\n",
      "Predicted S 0.02366944810159208\n",
      "Computed S  0.023669424321\n",
      "Predicted Ea 1.3000000000000001e-05\n",
      "Computed Ea  1.29999847621e-05\n"
     ]
    }
   ],
   "source": [
    "# Compare with analytical solutions in upper cell\n",
    "Qs_pred = (uplift_rate * dx * dx * (1.0 - porosity)) / (abrasion_coef * dx / 2 + 1)\n",
    "print('Predicted Qs', Qs_pred)\n",
    "print('Computed Qs ', transporter._sediment_outflux[7])\n",
    "S_pred = (Qs_pred / (trans_coef * intermittency_fac * bankfull_runoff_rate * dx * dx))**(6./7.)\n",
    "print('Predicted S', S_pred)\n",
    "print('Computed S ', transporter._slope[7])\n",
    "Ea_pred = abrasion_coef * (Qs_pred / 2) / dx\n",
    "print('Predicted Ea', Ea_pred)\n",
    "print('Computed Ea ', transporter._abrasion[7])\n"
   ]
  },
  {
   "cell_type": "code",
   "execution_count": 56,
   "id": "ca4865a8",
   "metadata": {},
   "outputs": [
    {
     "data": {
      "image/png": "[encoded data removed]",
      "text/plain": [
       "<Figure size 432x288 with 1 Axes>"
      ]
     },
     "metadata": {
      "needs_background": "light"
     },
     "output_type": "display_data"
    },
    {
     "data": {
      "image/png": "[encoded data removed]",
      "text/plain": [
       "<Figure size 432x288 with 1 Axes>"
      ]
     },
     "metadata": {
      "needs_background": "light"
     },
     "output_type": "display_data"
    },
    {
     "data": {
      "image/png": "[encoded data removed]",
      "text/plain": [
       "<Figure size 432x288 with 1 Axes>"
      ]
     },
     "metadata": {
      "needs_background": "light"
     },
     "output_type": "display_data"
    }
   ],
   "source": [
    "# Analytical solution for Qs\n",
    "xan = grid.x_of_node[7:11]\n",
    "Qs_analyt = (\n",
    "    ((uplift_rate * dx * (1.0 - porosity)) / abrasion_coef)\n",
    "    * (1.0 - np.exp(-abrasion_coef * xan)) \n",
    ")\n",
    "plt.plot(xan, transporter._sediment_outflux[7:11])\n",
    "plt.plot(xan, Qs_analyt)\n",
    "plt.xlabel('Distance (m)')\n",
    "plt.ylabel('Sediment flux (m3/y)')\n",
    "plt.grid(True)\n",
    "\n",
    "# Analytical solution for abrasion rate\n",
    "Qs_analyt_nodes = (\n",
    "    ((uplift_rate * dx * (1.0 - porosity)) / abrasion_coef)\n",
    "    * (1.0 - np.exp(-abrasion_coef * (xan - 0.5 * dx))) \n",
    ")\n",
    "abra = abrasion_coef * Qs_analyt_nodes / dx\n",
    "plt.figure()\n",
    "plt.plot(xan, transporter._abrasion[7:11])\n",
    "plt.plot(xan, abra)\n",
    "plt.xlabel('Distance (m)')\n",
    "plt.ylabel('Abrasion lowering rate (m/y)')\n",
    "plt.grid(True)\n",
    "\n",
    "# Analytical solution for slope\n",
    "plt.figure()\n",
    "plt.plot(grid.x_of_node[7:11], transporter._slope[7:11])\n",
    "Spred = (\n",
    "    (((poro_fac * uplift_rate) \n",
    "     / (0.041 * 0.01 * bankfull_runoff_rate * xan * abrasion_coef)) \n",
    "    * (1.0 - np.exp(-abrasion_coef * xan)))**(6./7.)\n",
    ")\n",
    "plt.plot(xan, Spred, 'r')\n",
    "plt.xlabel('Distance (m)')\n",
    "plt.ylabel('Slope')\n",
    "plt.grid(True)\n"
   ]
  },
  {
   "cell_type": "markdown",
   "id": "eafe43c7",
   "metadata": {},
   "source": [
    "## Playing with bigger scale\n",
    "\n",
    "The below erodes an uplifted block."
   ]
  },
  {
   "cell_type": "code",
   "execution_count": 238,
   "id": "e5c9cfc8",
   "metadata": {},
   "outputs": [],
   "source": [
    "# Parameters\n",
    "dx = 1000.0\n",
    "nrows = 41\n",
    "ncols = 51\n",
    "init_elev_plateau = 100.0\n",
    "noise_amp = 1.0\n",
    "abra_coef = 1.0 / 5000.0  # abrasion coefficient, 1/m\n",
    "bf_runoff_rate = 10.0  # bankfull runoff rate, m/y\n",
    "nsteps = 100000\n",
    "dt = 0.05  # time step, y"
   ]
  },
  {
   "cell_type": "code",
   "execution_count": 239,
   "id": "f46687ae",
   "metadata": {},
   "outputs": [],
   "source": [
    "# Grid\n",
    "grid = RasterModelGrid((nrows, ncols), xy_spacing=dx)\n",
    "grid.status_at_node[grid.nodes_at_top_edge] = grid.BC_NODE_IS_CLOSED\n",
    "grid.status_at_node[grid.nodes_at_left_edge] = grid.BC_NODE_IS_CLOSED\n",
    "elev = grid.add_zeros(\"topographic__elevation\", at=\"node\")\n",
    "elev[grid.core_nodes] += noise_amp * np.random.rand(grid.number_of_core_nodes)\n",
    "elev[grid.x_of_node <= dx * ncols//2] += init_elev_plateau\n",
    "elev[grid.y_of_node > dx * nrows//2] += 0.5 * init_elev_plateau\n",
    "init_elev = elev.copy()"
   ]
  },
  {
   "cell_type": "code",
   "execution_count": 240,
   "id": "4ce6c373",
   "metadata": {},
   "outputs": [],
   "source": [
    "# Components\n",
    "fa = FlowAccumulator(\n",
    "    grid,\n",
    "    runoff_rate=bf_runoff_rate,\n",
    "    flow_director='FlowDirectorD8',\n",
    ")\n",
    "transporter = GravelRiverTransporter(\n",
    "    grid,\n",
    "    abrasion_coefficient=abra_coef,\n",
    ")"
   ]
  },
  {
   "cell_type": "code",
   "execution_count": 241,
   "id": "6ee125f3",
   "metadata": {},
   "outputs": [],
   "source": [
    "# Loop\n",
    "for _ in range(nsteps):\n",
    "    fa.run_one_step()\n",
    "    transporter.run_one_step(dt)"
   ]
  },
  {
   "cell_type": "code",
   "execution_count": 242,
   "id": "b51b6e6a",
   "metadata": {},
   "outputs": [
    {
     "data": {
      "image/png": "[encoded data removed]",
      "text/plain": [
       "<Figure size 432x288 with 2 Axes>"
      ]
     },
     "metadata": {
      "needs_background": "light"
     },
     "output_type": "display_data"
    }
   ],
   "source": [
    "# Plot\n",
    "imshow_grid(grid, elev)"
   ]
  },
  {
   "cell_type": "code",
   "execution_count": 243,
   "id": "9751b7f2",
   "metadata": {},
   "outputs": [
    {
     "data": {
      "image/png": "[encoded data removed]",
      "text/plain": [
       "<Figure size 432x288 with 2 Axes>"
      ]
     },
     "metadata": {
      "needs_background": "light"
     },
     "output_type": "display_data"
    }
   ],
   "source": [
    "imshow_grid(grid, transporter._slope)"
   ]
  },
  {
   "cell_type": "code",
   "execution_count": 244,
   "id": "5d06644e",
   "metadata": {},
   "outputs": [
    {
     "data": {
      "image/png": "[encoded data removed]",
      "text/plain": [
       "<Figure size 432x288 with 2 Axes>"
      ]
     },
     "metadata": {
      "needs_background": "light"
     },
     "output_type": "display_data"
    }
   ],
   "source": [
    "imshow_grid(grid, grid.at_node[\"drainage_area\"])"
   ]
  },
  {
   "cell_type": "code",
   "execution_count": 245,
   "id": "012360d4",
   "metadata": {},
   "outputs": [
    {
     "data": {
      "image/png": "[encoded data removed]",
      "text/plain": [
       "<Figure size 432x288 with 2 Axes>"
      ]
     },
     "metadata": {
      "needs_background": "light"
     },
     "output_type": "display_data"
    }
   ],
   "source": [
    "imshow_grid(grid, transporter._sediment_outflux)"
   ]
  },
  {
   "cell_type": "code",
   "execution_count": 246,
   "id": "59e66d72",
   "metadata": {},
   "outputs": [
    {
     "data": {
      "image/png": "[encoded data removed]",
      "text/plain": [
       "<Figure size 432x288 with 2 Axes>"
      ]
     },
     "metadata": {
      "needs_background": "light"
     },
     "output_type": "display_data"
    }
   ],
   "source": [
    "imshow_grid(grid, elev - init_elev)"
   ]
  },
  {
   "cell_type": "markdown",
   "id": "02891187",
   "metadata": {},
   "source": [
    "#### Explicit time-step limits\n",
    "\n",
    "This is a quasi-diffusive problem with a flux proportional to $k_Q I Q$. Suppose the maximum discharge is runoff rate times domain area. Then the CFL would seem to be:\n",
    "\n",
    "$$\\Delta t \\lt \\frac{\\Delta x^2}{2 k_Q I r a_d}$$\n",
    "\n",
    "where $a_d$ is domain area. Here's a calculation for this domain:"
   ]
  },
  {
   "cell_type": "code",
   "execution_count": 247,
   "id": "eaad00a7",
   "metadata": {},
   "outputs": [
    {
     "name": "stdout",
     "output_type": "stream",
     "text": [
      "0.05832196055102587\n"
     ]
    }
   ],
   "source": [
    "dtmax = 1.0 / (2 * 0.041 * 0.01 * 10.0 * nrows * ncols)\n",
    "print(dtmax)"
   ]
  },
  {
   "cell_type": "markdown",
   "id": "c39a1a14",
   "metadata": {},
   "source": [
    "This tiny value implies the need for better solvers!"
   ]
  },
  {
   "cell_type": "code",
   "execution_count": 248,
   "id": "42fe645b",
   "metadata": {},
   "outputs": [],
   "source": [
    "# Continue loop\n",
    "for _ in range(nsteps):\n",
    "    fa.run_one_step()\n",
    "    transporter.run_one_step(dt)"
   ]
  },
  {
   "cell_type": "code",
   "execution_count": 249,
   "id": "6d89dc27",
   "metadata": {},
   "outputs": [
    {
     "data": {
      "image/png": "[encoded data removed]",
      "text/plain": [
       "<Figure size 432x288 with 2 Axes>"
      ]
     },
     "metadata": {
      "needs_background": "light"
     },
     "output_type": "display_data"
    }
   ],
   "source": [
    "imshow_grid(grid, elev)"
   ]
  },
  {
   "cell_type": "code",
   "execution_count": 250,
   "id": "0b595181",
   "metadata": {},
   "outputs": [
    {
     "data": {
      "image/png": "[encoded data removed]",
      "text/plain": [
       "<Figure size 432x288 with 2 Axes>"
      ]
     },
     "metadata": {
      "needs_background": "light"
     },
     "output_type": "display_data"
    }
   ],
   "source": [
    "imshow_grid(grid, elev - init_elev)"
   ]
  },
  {
   "cell_type": "code",
   "execution_count": null,
   "id": "89b27476",
   "metadata": {},
   "outputs": [],
   "source": []
  }
 ],
 "metadata": {
  "kernelspec": {
   "display_name": "Python 3",
   "language": "python",
   "name": "python3"
  },
  "language_info": {
   "codemirror_mode": {
    "name": "ipython",
    "version": 3
   },
   "file_extension": ".py",
   "mimetype": "text/x-python",
   "name": "python",
   "nbconvert_exporter": "python",
   "pygments_lexer": "ipython3",
   "version": "3.7.6"
  }
 },
 "nbformat": 4,
 "nbformat_minor": 5
}
