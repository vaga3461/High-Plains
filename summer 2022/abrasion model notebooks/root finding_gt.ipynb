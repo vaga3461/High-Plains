{
 "cells": [
  {
   "cell_type": "code",
   "execution_count": 1,
   "id": "d89a0dd0",
   "metadata": {},
   "outputs": [],
   "source": [
    "# the purpose of this notebook is to try scipy's root-finding function to solve an analytical solution for bedrock"
   ]
  },
  {
   "cell_type": "code",
   "execution_count": 2,
   "id": "5acdd5b3",
   "metadata": {},
   "outputs": [],
   "source": [
    "# import libraries\n",
    "import numpy as np\n",
    "from scipy import optimize"
   ]
  },
  {
   "cell_type": "markdown",
   "id": "50f48ec5",
   "metadata": {},
   "source": [
    "After going through an analytical solution on paper, we come up with a solution in the form of:\n",
    "\n",
    "$$(c_2 + c_3)x^{P_2}\\sigma^{14} - c_4x^{P_1}\\sigma - c_1x^{P_1} = 0$$\n",
    "\n",
    "we want to solve for $\\sigma$, understanding that $\\sigma$ comes from having made the substitution $\\sigma = S^{\\frac{3}{18}}$.\n",
    "\n",
    "We define each piece of this equation below:"
   ]
  },
  {
   "cell_type": "code",
   "execution_count": 3,
   "id": "fe8924bf",
   "metadata": {},
   "outputs": [],
   "source": [
    "# define parameters\n",
    "r = 10. # runoff rate\n",
    "kh = 1/3 # hack coefficient\n",
    "h = 2 # hack exponent\n",
    "beta = 0.00004 # igneous abrasion coefficient\n",
    "K = 0.0001 # rock erodibility\n",
    "kxb = 25 # valley width coefficient\n",
    "Pxb = 1/5 # valley width exponent\n",
    "kb = 8.3e-8 # channel width coefficient\n",
    "D = 0.05 # grain size\n",
    "U = 0.001\n",
    "kqs = 0.041\n",
    "I = 0.01"
   ]
  },
  {
   "cell_type": "code",
   "execution_count": 4,
   "id": "63a7e49f",
   "metadata": {},
   "outputs": [],
   "source": [
    "# # trying to define sigma\n",
    "# eta = np.zeros(len(l))\n",
    "# S = np.diff(eta)/dl\n",
    "# sigma = S**(3/18)"
   ]
  },
  {
   "cell_type": "code",
   "execution_count": 5,
   "id": "db202590",
   "metadata": {},
   "outputs": [],
   "source": [
    "# Try fsolve:\n",
    "#scipy.optimize.fsolve(func, x0, args=(), fprime=None, full_output=0, col_deriv=0, xtol=1.49012e-08, maxfev=0, band=None, epsfcn=None, factor=100, diag=None)\n",
    "\n",
    "# from scipy.optimize import fsolve\n",
    "\n",
    "# # if a=1, b=-1, and c=-2, \n",
    "# # the roots of this polynomial are +2 and -1\n",
    "# def fun2(x, a, b, c):\n",
    "#     return a * x**2 + b * x + c\n",
    "\n",
    "\n",
    "# # Here are our polynomial params\n",
    "# a = 1.\n",
    "# b = -1.\n",
    "# c = -2.\n",
    "\n",
    "# # pass a, b, c via the \"args\" parameter (as a tuple)\n",
    "# result = fsolve(fun2, x0=3.0, args=(a, b, c), full_output=True)\n",
    "\n",
    "# # if our initial guess is larger than 2, it should find 2\n",
    "# # as the root\n",
    "# print(result)\n",
    "\n",
    "# # if our initial guess is closer to the -1 root, it should find\n",
    "# # that instead\n",
    "# result = fsolve(fun2, x0=0.0, args=(a, b, c), full_output=True)\n",
    "# print(result)"
   ]
  },
  {
   "cell_type": "code",
   "execution_count": 6,
   "id": "ed8f3d82",
   "metadata": {},
   "outputs": [
    {
     "ename": "ValueError",
     "evalue": "object too deep for desired array",
     "output_type": "error",
     "traceback": [
      "\u001b[0;31m---------------------------------------------------------------------------\u001b[0m",
      "\u001b[0;31mValueError\u001b[0m                                Traceback (most recent call last)",
      "\u001b[0;31mValueError\u001b[0m: object too deep for desired array"
     ]
    },
    {
     "ename": "error",
     "evalue": "Result from function call is not a proper array of floats.",
     "output_type": "error",
     "traceback": [
      "\u001b[0;31m---------------------------------------------------------------------------\u001b[0m",
      "\u001b[0;31merror\u001b[0m                                     Traceback (most recent call last)",
      "\u001b[0;32m<ipython-input-6-552f30b721bc>\u001b[0m in \u001b[0;36m<module>\u001b[0;34m\u001b[0m\n\u001b[1;32m     32\u001b[0m \u001b[0;34m\u001b[0m\u001b[0m\n\u001b[1;32m     33\u001b[0m \u001b[0;31m# pass params via the \"args\" parameter (as a tuple)\u001b[0m\u001b[0;34m\u001b[0m\u001b[0;34m\u001b[0m\u001b[0;34m\u001b[0m\u001b[0m\n\u001b[0;32m---> 34\u001b[0;31m \u001b[0mresult\u001b[0m \u001b[0;34m=\u001b[0m \u001b[0mfsolve\u001b[0m\u001b[0;34m(\u001b[0m\u001b[0mfun3\u001b[0m\u001b[0;34m,\u001b[0m \u001b[0mx0\u001b[0m\u001b[0;34m=\u001b[0m\u001b[0;36m3.0\u001b[0m\u001b[0;34m,\u001b[0m \u001b[0margs\u001b[0m\u001b[0;34m=\u001b[0m\u001b[0;34m(\u001b[0m\u001b[0ml\u001b[0m\u001b[0;34m,\u001b[0m \u001b[0mc1\u001b[0m\u001b[0;34m,\u001b[0m \u001b[0mc2\u001b[0m\u001b[0;34m,\u001b[0m \u001b[0mc3\u001b[0m\u001b[0;34m,\u001b[0m \u001b[0mc4\u001b[0m\u001b[0;34m)\u001b[0m\u001b[0;34m,\u001b[0m \u001b[0mfull_output\u001b[0m\u001b[0;34m=\u001b[0m\u001b[0;32mTrue\u001b[0m\u001b[0;34m)\u001b[0m\u001b[0;34m\u001b[0m\u001b[0;34m\u001b[0m\u001b[0m\n\u001b[0m\u001b[1;32m     35\u001b[0m \u001b[0;34m\u001b[0m\u001b[0m\n\u001b[1;32m     36\u001b[0m \u001b[0mprint\u001b[0m\u001b[0;34m(\u001b[0m\u001b[0mresult\u001b[0m\u001b[0;34m)\u001b[0m\u001b[0;34m\u001b[0m\u001b[0;34m\u001b[0m\u001b[0m\n",
      "\u001b[0;32m~/anaconda3/lib/python3.7/site-packages/scipy/optimize/minpack.py\u001b[0m in \u001b[0;36mfsolve\u001b[0;34m(func, x0, args, fprime, full_output, col_deriv, xtol, maxfev, band, epsfcn, factor, diag)\u001b[0m\n\u001b[1;32m    158\u001b[0m                'diag': diag}\n\u001b[1;32m    159\u001b[0m \u001b[0;34m\u001b[0m\u001b[0m\n\u001b[0;32m--> 160\u001b[0;31m     \u001b[0mres\u001b[0m \u001b[0;34m=\u001b[0m \u001b[0m_root_hybr\u001b[0m\u001b[0;34m(\u001b[0m\u001b[0mfunc\u001b[0m\u001b[0;34m,\u001b[0m \u001b[0mx0\u001b[0m\u001b[0;34m,\u001b[0m \u001b[0margs\u001b[0m\u001b[0;34m,\u001b[0m \u001b[0mjac\u001b[0m\u001b[0;34m=\u001b[0m\u001b[0mfprime\u001b[0m\u001b[0;34m,\u001b[0m \u001b[0;34m**\u001b[0m\u001b[0moptions\u001b[0m\u001b[0;34m)\u001b[0m\u001b[0;34m\u001b[0m\u001b[0;34m\u001b[0m\u001b[0m\n\u001b[0m\u001b[1;32m    161\u001b[0m     \u001b[0;32mif\u001b[0m \u001b[0mfull_output\u001b[0m\u001b[0;34m:\u001b[0m\u001b[0;34m\u001b[0m\u001b[0;34m\u001b[0m\u001b[0m\n\u001b[1;32m    162\u001b[0m         \u001b[0mx\u001b[0m \u001b[0;34m=\u001b[0m \u001b[0mres\u001b[0m\u001b[0;34m[\u001b[0m\u001b[0;34m'x'\u001b[0m\u001b[0;34m]\u001b[0m\u001b[0;34m\u001b[0m\u001b[0;34m\u001b[0m\u001b[0m\n",
      "\u001b[0;32m~/anaconda3/lib/python3.7/site-packages/scipy/optimize/minpack.py\u001b[0m in \u001b[0;36m_root_hybr\u001b[0;34m(func, x0, args, jac, col_deriv, xtol, maxfev, band, eps, factor, diag, **unknown_options)\u001b[0m\n\u001b[1;32m    236\u001b[0m             \u001b[0mmaxfev\u001b[0m \u001b[0;34m=\u001b[0m \u001b[0;36m200\u001b[0m \u001b[0;34m*\u001b[0m \u001b[0;34m(\u001b[0m\u001b[0mn\u001b[0m \u001b[0;34m+\u001b[0m \u001b[0;36m1\u001b[0m\u001b[0;34m)\u001b[0m\u001b[0;34m\u001b[0m\u001b[0;34m\u001b[0m\u001b[0m\n\u001b[1;32m    237\u001b[0m         retval = _minpack._hybrd(func, x0, args, 1, xtol, maxfev,\n\u001b[0;32m--> 238\u001b[0;31m                                  ml, mu, epsfcn, factor, diag)\n\u001b[0m\u001b[1;32m    239\u001b[0m     \u001b[0;32melse\u001b[0m\u001b[0;34m:\u001b[0m\u001b[0;34m\u001b[0m\u001b[0;34m\u001b[0m\u001b[0m\n\u001b[1;32m    240\u001b[0m         \u001b[0m_check_func\u001b[0m\u001b[0;34m(\u001b[0m\u001b[0;34m'fsolve'\u001b[0m\u001b[0;34m,\u001b[0m \u001b[0;34m'fprime'\u001b[0m\u001b[0;34m,\u001b[0m \u001b[0mDfun\u001b[0m\u001b[0;34m,\u001b[0m \u001b[0mx0\u001b[0m\u001b[0;34m,\u001b[0m \u001b[0margs\u001b[0m\u001b[0;34m,\u001b[0m \u001b[0mn\u001b[0m\u001b[0;34m,\u001b[0m \u001b[0;34m(\u001b[0m\u001b[0mn\u001b[0m\u001b[0;34m,\u001b[0m \u001b[0mn\u001b[0m\u001b[0;34m)\u001b[0m\u001b[0;34m)\u001b[0m\u001b[0;34m\u001b[0m\u001b[0;34m\u001b[0m\u001b[0m\n",
      "\u001b[0;31merror\u001b[0m: Result from function call is not a proper array of floats."
     ]
    }
   ],
   "source": [
    "# trying fsolve with my function\n",
    "from scipy.optimize import fsolve\n",
    "\n",
    "# if a=1, b=-1, and c=-2, \n",
    "# the roots of this polynomial are +2 and -1\n",
    "# def fun2(x, a, b, c):\n",
    "#     return a * x**2 + b * x + c\n",
    "\n",
    "def fun3(sigma, l, c1, c2, c3, c4):\n",
    "    return [((c2[1:] + c3[1:]) * l[1:]**4 * sigma**14) - (c4[1:] * l[1:] * sigma) - (c1[1:] * l[1:])]\n",
    "\n",
    "\n",
    "# polynomial params\n",
    "dl = 1 # grid spacing\n",
    "l = np.arange(0, 2, dl) # domain length\n",
    "\n",
    "Q = r * kh * (l**h) # total discharge\n",
    "B = kxb * (l**Pxb) # valley width\n",
    "\n",
    "P2 = 4\n",
    "P1 = 1\n",
    "\n",
    "c1 = kh**(1/2) * r**(1/2) * U * B * K\n",
    "c2 = (U * kb**(2) * kh**(2) * r**(2) * l**(P2) * K) / D**(3)\n",
    "c3 = (beta * kqs * I * kh**(2) * r**(2) * l**(P2) * kb * K) / D**(3/2)\n",
    "c4 = beta * kqs * I * kh**(1/2) * r**(1/2) * l**(P1) * U * B\n",
    "# c1 = 1\n",
    "# c2 = 3\n",
    "# c3 = 4\n",
    "# c4 = 2\n",
    "\n",
    "\n",
    "# pass params via the \"args\" parameter (as a tuple)\n",
    "result = fsolve(fun3, x0=3.0, args=(l, c1, c2, c3, c4), full_output=True)\n",
    "\n",
    "print(result)"
   ]
  },
  {
   "cell_type": "code",
   "execution_count": 7,
   "id": "42fa19ae",
   "metadata": {},
   "outputs": [
    {
     "name": "stdout",
     "output_type": "stream",
     "text": [
      "[array([-4.56566039e-06])]\n"
     ]
    }
   ],
   "source": [
    "print(fun3(3, l, c1, c2, c3, c4))"
   ]
  },
  {
   "cell_type": "code",
   "execution_count": null,
   "id": "136fde27",
   "metadata": {},
   "outputs": [],
   "source": []
  }
 ],
 "metadata": {
  "kernelspec": {
   "display_name": "Python 3",
   "language": "python",
   "name": "python3"
  },
  "language_info": {
   "codemirror_mode": {
    "name": "ipython",
    "version": 3
   },
   "file_extension": ".py",
   "mimetype": "text/x-python",
   "name": "python",
   "nbconvert_exporter": "python",
   "pygments_lexer": "ipython3",
   "version": "3.7.6"
  }
 },
 "nbformat": 4,
 "nbformat_minor": 5
}
