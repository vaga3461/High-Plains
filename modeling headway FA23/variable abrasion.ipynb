{
 "cells": [
  {
   "cell_type": "code",
   "execution_count": 1,
   "id": "3271be7f",
   "metadata": {},
   "outputs": [],
   "source": [
    "# this notebook contains code for the BIGANTR model\n",
    "# modified to include variable abrasion"
   ]
  },
  {
   "cell_type": "code",
   "execution_count": 2,
   "id": "9058860a",
   "metadata": {},
   "outputs": [],
   "source": [
    "# import libraries\n",
    "import numpy as np\n",
    "import matplotlib.pyplot as plt"
   ]
  },
  {
   "cell_type": "code",
   "execution_count": 3,
   "id": "a582c573",
   "metadata": {},
   "outputs": [],
   "source": [
    "# create a profile\n",
    "dx = 500\n",
    "x = np.arange(0, 50000, dx)\n",
    "x_node = x + (dx/2)\n",
    "\n",
    "# set sed thickness\n",
    "Hstar = 0.5 # depth decay"
   ]
  },
  {
   "cell_type": "code",
   "execution_count": 4,
   "id": "5a4b8f7b",
   "metadata": {},
   "outputs": [],
   "source": [
    "# define constants and other parameters\n",
    "K = 1e-6 # erodibility\n",
    "beta_0 = 0.000005 # 0.00025 # sediment attrition # least abradable\n",
    "beta_1 = 0.000005 # sediment attrition\n",
    "beta_2 = 0.000005 # 0.00075 # sediment attrition # most abradable\n",
    "zeta = 0.000005 # 0.001 # bedrock abrasion\n",
    "r = 5. # runoff rate\n",
    "U = 0.0001 # uplift or baselevel fall rate\n",
    "I = 0.01 # intermittency\n",
    "phi = 0.1 # porosity\n",
    "D = 0.01 # grain size\n",
    "gamma = 0.5 # fraction of plucked material that becomes coarse\n",
    "\n",
    "kQs = 0.041 # sed transport coefficient\n",
    "kxb = 25 # valley width coefficient\n",
    "Pxb = 1./5. # valley width exponment\n",
    "kb = 8.3e-8 # channel width coefficient\n",
    "\n",
    "B_valley = kxb * (x_node**Pxb) # valley width\n",
    "A = (1./3.) * (x**2)\n",
    "Q = r * A\n",
    "\n",
    "dt = 5 # timestep"
   ]
  },
  {
   "cell_type": "code",
   "execution_count": 5,
   "id": "d6e4bf51",
   "metadata": {},
   "outputs": [],
   "source": [
    "def BIGANTR(x, dx, \n",
    "            K, beta_0, beta_1, beta_2, zeta, \n",
    "            gamma, D, phi, Hstar, \n",
    "            kQs, I, r, U, \n",
    "            B_valley, Q, \n",
    "            dt, num_steps = 1):\n",
    "    \n",
    "    # set up run duration and start counting time\n",
    "    run_duration = dt * num_steps\n",
    "    cum_time = 0.0\n",
    "    \n",
    "    # initialize arrays\n",
    "    etab = np.zeros(len(x)) # bedrock elevation\n",
    "    etab[:] = np.linspace(1, 0.1, len(x)) # start with slight bedrock slope\n",
    "\n",
    "    H_0 = (Hstar/3) + np.zeros(len(x))\n",
    "    H_1 = (Hstar/3) + np.zeros(len(x))\n",
    "    H_2 = (Hstar/3) + np.zeros(len(x))\n",
    "    H = H_0 + H_1 + H_2 # alluvium thickness\n",
    "\n",
    "    eta = etab + H # topography\n",
    "    \n",
    "    Qs = np.zeros(len(x))\n",
    "    \n",
    "    f_0 = np.zeros(len(x))\n",
    "    f_0[:] = (1./3.)\n",
    "    Qs_0 = np.zeros(len(x))\n",
    "    Eh_0 = np.zeros(len(x))\n",
    "    \n",
    "    f_1 = np.zeros(len(x))\n",
    "    f_1[:] = (1./3.)\n",
    "    Qs_1 = np.zeros(len(x))\n",
    "    Eh_1 = np.zeros(len(x))\n",
    "    \n",
    "    f_2 = np.zeros(len(x))\n",
    "    f_2[:] = (1./3.)\n",
    "    Qs_2 = np.zeros(len(x))\n",
    "    Eh_2 = np.zeros(len(x))\n",
    "    \n",
    "    Eb_p = np.zeros(len(x))\n",
    "    Eb_a = np.zeros(len(x))\n",
    "    Eb = np.zeros(len(x))\n",
    "    Eh = np.zeros(len(x))\n",
    "    E = np.zeros(len(x))\n",
    "    \n",
    "    ql = np.zeros(len(x)) # lateral sediment supply\n",
    "    ql_0 = np.zeros(len(x)) # lateral sediment supply\n",
    "    ql_1 = np.zeros(len(x)) # lateral sediment supply\n",
    "    ql_2 = np.zeros(len(x)) # lateral sediment supply\n",
    "    \n",
    "    # set boundary conditions\n",
    "    H[-1] = 0\n",
    "    E[-1] = U\n",
    "    Qs[0] = 0\n",
    "    \n",
    "    # track time\n",
    "    while cum_time < run_duration:\n",
    "        \n",
    "        # drop baselevel\n",
    "        eta[-1] -= U * dt\n",
    "        \n",
    "        # set boundary conditions\n",
    "        etab[-1] = eta[-1]\n",
    "        \n",
    "        # calc slope\n",
    "        S = -np.diff(eta)/dx\n",
    "        \n",
    "        # calc bed exposure\n",
    "        alpha = np.exp(-H/Hstar)\n",
    "        \n",
    "        # calc sed transport\n",
    "        Qs[1:] = kQs * I * Q[1:] * S**(7./6.) * (1 - alpha[:-1])\n",
    "        \n",
    "        # calc bedrock erosion\n",
    "        Eb_p[:-1] = K * Q[1:] * S**(7./6.) * alpha[:-1] * I\n",
    "        Eb_a[:-1] = zeta * Qs[1:] * alpha[:-1]\n",
    "        Eb[:-1] = (Eb_p[:-1] + Eb_a[:-1]) / B_valley[:-1]\n",
    "        \n",
    "        # calc lateral flux\n",
    "        ql_0[:-1] = (((Eb[:-1]/3) * gamma)/beta_0) * (1 - np.exp(-beta_0 * x[1:]/3))\n",
    "        ql_1[:-1] = (((Eb[:-1]/3) * gamma)/beta_1) * (1 - np.exp(-beta_1 * x[1:]/3))\n",
    "        ql_2[:-1] = (((Eb[:-1]/3) * gamma)/beta_2) * (1 - np.exp(-beta_2 * x[1:]/3))\n",
    "        \n",
    "        # calc Qs_0 (f_0 * Qs)\n",
    "        Qs_0[1:] = f_0[1:] * Qs[1:]\n",
    "        Qs_1[1:] = f_1[1:] * Qs[1:]\n",
    "        Qs_2[1:] = f_2[1:] * Qs[1:]\n",
    "        \n",
    "        # calc atr_0 (Qs_0 * beta_0)\n",
    "        atr_0 = Qs_0 * beta_0\n",
    "        atr_1 = Qs_1 * beta_1\n",
    "        atr_2 = Qs_2 * beta_2\n",
    "        atr = atr_0 + atr_1 + atr_2\n",
    "        \n",
    "        # calc sediment erosion rate Eh_0 (use Qs_0, atr_0, Eb_p/3, and ql_0)\n",
    "        Eh_0[:-1] = 1/((1 - phi) * B_valley[:-1]) * (np.diff(Qs_0)/dx + atr_0[1:] - ((Eb_p[:-1]/3)*gamma) - ql_0[:-1])\n",
    "        Eh_1[:-1] = 1/((1 - phi) * B_valley[:-1]) * (np.diff(Qs_1)/dx + atr_1[1:] - ((Eb_p[:-1]/3)*gamma) - ql_1[:-1])\n",
    "        Eh_2[:-1] = 1/((1 - phi) * B_valley[:-1]) * (np.diff(Qs_2)/dx + atr_2[1:] - ((Eb_p[:-1]/3)*gamma) - ql_2[:-1])\n",
    "        Eh = Eh_0 + Eh_1 + Eh_2\n",
    "        \n",
    "        # calc H_0 (Eh_0 * dt)\n",
    "        H_0[:-1] -= Eh_0[:-1] * dt\n",
    "        H_1[:-1] -= Eh_1[:-1] * dt\n",
    "        H_2[:-1] -= Eh_2[:-1] * dt\n",
    "        \n",
    "        # calc H (H_0 + H_1 + H_2)\n",
    "        H = H_0 + H_1 + H_2\n",
    "        \n",
    "        # calc total erosion rate\n",
    "        E[:-1] = Eb[:-1] + Eh[:-1]\n",
    "        \n",
    "        # update f_0 (H_0/H)\n",
    "        f_0[1:] = H_0[:-1]/H[:-1] # 1 - (atr_0[1:] / atr[1:]) # first cell of f_0 should be constant at 1/3 ratio of total H\n",
    "        f_1[1:] = H_1[:-1]/H[:-1] # 1 - (atr_1[1:] / atr[1:])\n",
    "        f_2[1:] = H_2[:-1]/H[:-1] # 1 - (atr_2[1:] / atr[1:])\n",
    "        \n",
    "        # update topography\n",
    "        etab[:-1] -= Eb[:-1] * dt\n",
    "        H[:-1] -= Eh[:-1] * dt\n",
    "        H[H<0] = 0\n",
    "        eta[:-1] = etab[:-1] + H[:-1]\n",
    "        \n",
    "        # update elapsed time\n",
    "        cum_time += dt\n",
    "    \n",
    "    # check total time (yrs)\n",
    "    print(cum_time)\n",
    "        \n",
    "    return (dt, S, alpha, Qs, Eb_p, Eb_a, Eb, ql_0, ql_1, ql_2, f_0, f_1, f_2, \n",
    "            Qs_0, Qs_1, Qs_2, atr_0, atr_1, atr_2, Eh_0, Eh_1, Eh_2, Eh, E, etab, H, H_0, H_1, H_2, eta)"
   ]
  },
  {
   "cell_type": "code",
   "execution_count": 6,
   "id": "40cd4351",
   "metadata": {},
   "outputs": [
    {
     "ename": "KeyboardInterrupt",
     "evalue": "",
     "output_type": "error",
     "traceback": [
      "\u001b[0;31m---------------------------------------------------------------------------\u001b[0m",
      "\u001b[0;31mKeyboardInterrupt\u001b[0m                         Traceback (most recent call last)",
      "\u001b[0;32m<ipython-input-6-dd0b95032b30>\u001b[0m in \u001b[0;36m<module>\u001b[0;34m\u001b[0m\n\u001b[1;32m     11\u001b[0m \u001b[0;31m# and run it\u001b[0m\u001b[0;34m\u001b[0m\u001b[0;34m\u001b[0m\u001b[0;34m\u001b[0m\u001b[0m\n\u001b[1;32m     12\u001b[0m (dt, S, alpha, Qs, Eb_p, Eb_a, Eb, ql_0, ql_1, ql_2, f_0, f_1, f_2, Qs_0, Qs_1, Qs_2, \n\u001b[0;32m---> 13\u001b[0;31m  atr_0, atr_1, atr_2, Eh_0, Eh_1, Eh_2, Eh, E, etab, H, H_0, H_1, H_2, eta) = BIGANTR(*default_run)\n\u001b[0m",
      "\u001b[0;32m<ipython-input-5-6479b8abcd1d>\u001b[0m in \u001b[0;36mBIGANTR\u001b[0;34m(x, dx, K, beta_0, beta_1, beta_2, zeta, gamma, D, phi, Hstar, kQs, I, r, U, B_valley, Q, dt, num_steps)\u001b[0m\n\u001b[1;32m     97\u001b[0m         \u001b[0mEh_1\u001b[0m\u001b[0;34m[\u001b[0m\u001b[0;34m:\u001b[0m\u001b[0;34m-\u001b[0m\u001b[0;36m1\u001b[0m\u001b[0;34m]\u001b[0m \u001b[0;34m=\u001b[0m \u001b[0;36m1\u001b[0m\u001b[0;34m/\u001b[0m\u001b[0;34m(\u001b[0m\u001b[0;34m(\u001b[0m\u001b[0;36m1\u001b[0m \u001b[0;34m-\u001b[0m \u001b[0mphi\u001b[0m\u001b[0;34m)\u001b[0m \u001b[0;34m*\u001b[0m \u001b[0mB_valley\u001b[0m\u001b[0;34m[\u001b[0m\u001b[0;34m:\u001b[0m\u001b[0;34m-\u001b[0m\u001b[0;36m1\u001b[0m\u001b[0;34m]\u001b[0m\u001b[0;34m)\u001b[0m \u001b[0;34m*\u001b[0m \u001b[0;34m(\u001b[0m\u001b[0mnp\u001b[0m\u001b[0;34m.\u001b[0m\u001b[0mdiff\u001b[0m\u001b[0;34m(\u001b[0m\u001b[0mQs_1\u001b[0m\u001b[0;34m)\u001b[0m\u001b[0;34m/\u001b[0m\u001b[0mdx\u001b[0m \u001b[0;34m+\u001b[0m \u001b[0matr_1\u001b[0m\u001b[0;34m[\u001b[0m\u001b[0;36m1\u001b[0m\u001b[0;34m:\u001b[0m\u001b[0;34m]\u001b[0m \u001b[0;34m-\u001b[0m \u001b[0;34m(\u001b[0m\u001b[0;34m(\u001b[0m\u001b[0mEb_p\u001b[0m\u001b[0;34m[\u001b[0m\u001b[0;34m:\u001b[0m\u001b[0;34m-\u001b[0m\u001b[0;36m1\u001b[0m\u001b[0;34m]\u001b[0m\u001b[0;34m/\u001b[0m\u001b[0;36m3\u001b[0m\u001b[0;34m)\u001b[0m\u001b[0;34m*\u001b[0m\u001b[0mgamma\u001b[0m\u001b[0;34m)\u001b[0m \u001b[0;34m-\u001b[0m \u001b[0mql_1\u001b[0m\u001b[0;34m[\u001b[0m\u001b[0;34m:\u001b[0m\u001b[0;34m-\u001b[0m\u001b[0;36m1\u001b[0m\u001b[0;34m]\u001b[0m\u001b[0;34m)\u001b[0m\u001b[0;34m\u001b[0m\u001b[0;34m\u001b[0m\u001b[0m\n\u001b[1;32m     98\u001b[0m         \u001b[0mEh_2\u001b[0m\u001b[0;34m[\u001b[0m\u001b[0;34m:\u001b[0m\u001b[0;34m-\u001b[0m\u001b[0;36m1\u001b[0m\u001b[0;34m]\u001b[0m \u001b[0;34m=\u001b[0m \u001b[0;36m1\u001b[0m\u001b[0;34m/\u001b[0m\u001b[0;34m(\u001b[0m\u001b[0;34m(\u001b[0m\u001b[0;36m1\u001b[0m \u001b[0;34m-\u001b[0m \u001b[0mphi\u001b[0m\u001b[0;34m)\u001b[0m \u001b[0;34m*\u001b[0m \u001b[0mB_valley\u001b[0m\u001b[0;34m[\u001b[0m\u001b[0;34m:\u001b[0m\u001b[0;34m-\u001b[0m\u001b[0;36m1\u001b[0m\u001b[0;34m]\u001b[0m\u001b[0;34m)\u001b[0m \u001b[0;34m*\u001b[0m \u001b[0;34m(\u001b[0m\u001b[0mnp\u001b[0m\u001b[0;34m.\u001b[0m\u001b[0mdiff\u001b[0m\u001b[0;34m(\u001b[0m\u001b[0mQs_2\u001b[0m\u001b[0;34m)\u001b[0m\u001b[0;34m/\u001b[0m\u001b[0mdx\u001b[0m \u001b[0;34m+\u001b[0m \u001b[0matr_2\u001b[0m\u001b[0;34m[\u001b[0m\u001b[0;36m1\u001b[0m\u001b[0;34m:\u001b[0m\u001b[0;34m]\u001b[0m \u001b[0;34m-\u001b[0m \u001b[0;34m(\u001b[0m\u001b[0;34m(\u001b[0m\u001b[0mEb_p\u001b[0m\u001b[0;34m[\u001b[0m\u001b[0;34m:\u001b[0m\u001b[0;34m-\u001b[0m\u001b[0;36m1\u001b[0m\u001b[0;34m]\u001b[0m\u001b[0;34m/\u001b[0m\u001b[0;36m3\u001b[0m\u001b[0;34m)\u001b[0m\u001b[0;34m*\u001b[0m\u001b[0mgamma\u001b[0m\u001b[0;34m)\u001b[0m \u001b[0;34m-\u001b[0m \u001b[0mql_2\u001b[0m\u001b[0;34m[\u001b[0m\u001b[0;34m:\u001b[0m\u001b[0;34m-\u001b[0m\u001b[0;36m1\u001b[0m\u001b[0;34m]\u001b[0m\u001b[0;34m)\u001b[0m\u001b[0;34m\u001b[0m\u001b[0;34m\u001b[0m\u001b[0m\n\u001b[0;32m---> 99\u001b[0;31m         \u001b[0mEh\u001b[0m \u001b[0;34m=\u001b[0m \u001b[0mEh_0\u001b[0m \u001b[0;34m+\u001b[0m \u001b[0mEh_1\u001b[0m \u001b[0;34m+\u001b[0m \u001b[0mEh_2\u001b[0m\u001b[0;34m\u001b[0m\u001b[0;34m\u001b[0m\u001b[0m\n\u001b[0m\u001b[1;32m    100\u001b[0m \u001b[0;34m\u001b[0m\u001b[0m\n\u001b[1;32m    101\u001b[0m         \u001b[0;31m# calc H_0 (Eh_0 * dt)\u001b[0m\u001b[0;34m\u001b[0m\u001b[0;34m\u001b[0m\u001b[0;34m\u001b[0m\u001b[0m\n",
      "\u001b[0;31mKeyboardInterrupt\u001b[0m: "
     ]
    }
   ],
   "source": [
    "#now write a test\n",
    "num_steps = 50000000 # 3000000\n",
    "\n",
    "default_run = [x, dx, \n",
    "            K, beta_0, beta_1, beta_2, zeta, \n",
    "            gamma, D, phi, Hstar,\n",
    "            kQs, I, r, U,\n",
    "            B_valley, Q,\n",
    "            dt, num_steps]\n",
    "\n",
    "# and run it\n",
    "(dt, S, alpha, Qs, Eb_p, Eb_a, Eb, ql_0, ql_1, ql_2, f_0, f_1, f_2, Qs_0, Qs_1, Qs_2, \n",
    " atr_0, atr_1, atr_2, Eh_0, Eh_1, Eh_2, Eh, E, etab, H, H_0, H_1, H_2, eta) = BIGANTR(*default_run)"
   ]
  },
  {
   "cell_type": "code",
   "execution_count": null,
   "id": "d251d8ee",
   "metadata": {},
   "outputs": [],
   "source": [
    "# check that we have reached steady state condition by printing out the bedrock erosion rate\n",
    "Eb"
   ]
  },
  {
   "cell_type": "code",
   "execution_count": null,
   "id": "44c39f8d",
   "metadata": {},
   "outputs": [],
   "source": [
    "plt.plot(f_0, label = \"most abrasion resistant\")\n",
    "plt.plot(f_1, label = \"intermediate abrasion\")\n",
    "plt.plot(f_2, label = \"most abradable\")\n",
    "plt.legend()"
   ]
  },
  {
   "cell_type": "code",
   "execution_count": null,
   "id": "415a99b8",
   "metadata": {},
   "outputs": [],
   "source": [
    "f_0"
   ]
  },
  {
   "cell_type": "code",
   "execution_count": null,
   "id": "c0cf3316",
   "metadata": {},
   "outputs": [],
   "source": [
    "f_1"
   ]
  },
  {
   "cell_type": "code",
   "execution_count": null,
   "id": "a2fc9584",
   "metadata": {},
   "outputs": [],
   "source": [
    "f_2"
   ]
  },
  {
   "cell_type": "code",
   "execution_count": null,
   "id": "a87aa9bb",
   "metadata": {},
   "outputs": [],
   "source": [
    "plt.plot(H_0)\n",
    "plt.plot(H_1)\n",
    "plt.plot(H_2)\n",
    "plt.plot(H)"
   ]
  },
  {
   "cell_type": "code",
   "execution_count": null,
   "id": "68eebfff",
   "metadata": {},
   "outputs": [],
   "source": [
    "H_0"
   ]
  },
  {
   "cell_type": "code",
   "execution_count": null,
   "id": "8f2067dc",
   "metadata": {},
   "outputs": [],
   "source": [
    "f_0+f_1+f_2"
   ]
  },
  {
   "cell_type": "code",
   "execution_count": null,
   "id": "ed248d3c",
   "metadata": {},
   "outputs": [],
   "source": [
    "plt.plot(Qs)\n",
    "plt.plot(Qs_0)\n",
    "plt.plot(Qs_1)\n",
    "plt.plot(Qs_2)"
   ]
  },
  {
   "cell_type": "code",
   "execution_count": null,
   "id": "4892f882",
   "metadata": {},
   "outputs": [],
   "source": [
    "Qs_0"
   ]
  },
  {
   "cell_type": "code",
   "execution_count": null,
   "id": "b4a194f9",
   "metadata": {},
   "outputs": [],
   "source": [
    "# # save slopes\n",
    "# slope_neg = np.savetxt('slope_neg.csv', S, delimiter = ',')\n",
    "\n",
    "# # save total elevs\n",
    "# eta_neg = np.savetxt('eta_neg.csv', eta, delimiter = ',')\n",
    "\n",
    "# # save sed thickness\n",
    "# H_neg = np.savetxt('H_neg.csv', H, delimiter = ',')\n",
    "\n",
    "# # save Qs\n",
    "# Qs_neg = np.savetxt('Qs_neg.csv', Qs, delimiter = ',')"
   ]
  }
 ],
 "metadata": {
  "kernelspec": {
   "display_name": "Python 3",
   "language": "python",
   "name": "python3"
  },
  "language_info": {
   "codemirror_mode": {
    "name": "ipython",
    "version": 3
   },
   "file_extension": ".py",
   "mimetype": "text/x-python",
   "name": "python",
   "nbconvert_exporter": "python",
   "pygments_lexer": "ipython3",
   "version": "3.7.6"
  }
 },
 "nbformat": 4,
 "nbformat_minor": 5
}
