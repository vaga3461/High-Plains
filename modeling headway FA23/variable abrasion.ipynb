{
 "cells": [
  {
   "cell_type": "code",
   "execution_count": 1,
   "id": "3271be7f",
   "metadata": {},
   "outputs": [],
   "source": [
    "# this notebook contains code for the BIGANTR model\n",
    "# modified to include variable abrasion"
   ]
  },
  {
   "cell_type": "code",
   "execution_count": 2,
   "id": "9058860a",
   "metadata": {},
   "outputs": [],
   "source": [
    "# import libraries\n",
    "import numpy as np\n",
    "import matplotlib.pyplot as plt"
   ]
  },
  {
   "cell_type": "code",
   "execution_count": 3,
   "id": "a582c573",
   "metadata": {},
   "outputs": [],
   "source": [
    "# create a profile\n",
    "dx = 500\n",
    "x = np.arange(0, 50000, dx)\n",
    "x_node = x + (dx/2)\n",
    "\n",
    "# set sed thickness\n",
    "Hstar = 0.5 # depth decay"
   ]
  },
  {
   "cell_type": "code",
   "execution_count": 4,
   "id": "5a4b8f7b",
   "metadata": {},
   "outputs": [],
   "source": [
    "# define constants and other parameters\n",
    "K = 1e-6 # erodibility\n",
    "beta_0 = 0.00025 # sediment attrition # least abradable\n",
    "beta_1 = 0.0005 # sediment attrition\n",
    "beta_2 = 0.00075 # sediment attrition # most abradable\n",
    "zeta = 0.001 # bedrock abrasion\n",
    "r = 5. # runoff rate\n",
    "U = 0.0001 # uplift or baselevel fall rate\n",
    "I = 0.01 # intermittency\n",
    "phi = 0.1 # porosity\n",
    "D = 0.01 # grain size\n",
    "gamma = 0.5 # fraction of plucked material that becomes coarse\n",
    "\n",
    "kQs = 0.041 # sed transport coefficient\n",
    "kxb = 25 # valley width coefficient\n",
    "Pxb = 1./5. # valley width exponment\n",
    "kb = 8.3e-8 # channel width coefficient\n",
    "\n",
    "B_valley = kxb * (x_node**Pxb) # valley width\n",
    "A = (1./3.) * (x**2)\n",
    "Q = r * A\n",
    "\n",
    "dt = 10 # timestep"
   ]
  },
  {
   "cell_type": "code",
   "execution_count": 5,
   "id": "d6e4bf51",
   "metadata": {},
   "outputs": [],
   "source": [
    "def BIGANTR(x, dx, \n",
    "            K, beta_0, beta_1, beta_2, zeta, \n",
    "            gamma, D, phi, Hstar, \n",
    "            kQs, I, r, U, \n",
    "            B_valley, Q, \n",
    "            dt, num_steps = 1):\n",
    "    \n",
    "    # set up run duration and start counting time\n",
    "    run_duration = dt * num_steps\n",
    "    cum_time = 0.0\n",
    "    \n",
    "    # initialize arrays\n",
    "    etab = np.zeros(len(x)) # bedrock elevation\n",
    "    etab[:] = np.linspace(1, 0.1, len(x)) # start with slight bedrock slope\n",
    "\n",
    "    H_0 = (Hstar/3) + np.zeros(len(x))\n",
    "    H_1 = (Hstar/3) + np.zeros(len(x))\n",
    "    H_2 = (Hstar/3) + np.zeros(len(x))\n",
    "    H = H_0 + H_1 + H_2 # alluvium thickness\n",
    "\n",
    "    eta = etab + H # topography\n",
    "    \n",
    "    Qs = np.zeros(len(x))\n",
    "    \n",
    "    f_0 = np.zeros(len(x))\n",
    "    f_0[:] = (1./3.)\n",
    "    Qs_0 = np.zeros(len(x))\n",
    "    Eh_0 = np.zeros(len(x))\n",
    "    \n",
    "    f_1 = np.zeros(len(x))\n",
    "    f_1[:] = (1./3.)\n",
    "    Qs_1 = np.zeros(len(x))\n",
    "    Eh_1 = np.zeros(len(x))\n",
    "    \n",
    "    f_2 = np.zeros(len(x))\n",
    "    f_2[:] = (1./3.)\n",
    "    Qs_2 = np.zeros(len(x))\n",
    "    Eh_2 = np.zeros(len(x))\n",
    "    \n",
    "    Eb_p = np.zeros(len(x))\n",
    "    Eb_a = np.zeros(len(x))\n",
    "    Eb = np.zeros(len(x))\n",
    "    Eh = np.zeros(len(x))\n",
    "    E = np.zeros(len(x))\n",
    "    \n",
    "    ql = np.zeros(len(x)) # lateral sediment supply\n",
    "    ql_0 = np.zeros(len(x)) # lateral sediment supply\n",
    "    ql_1 = np.zeros(len(x)) # lateral sediment supply\n",
    "    ql_2 = np.zeros(len(x)) # lateral sediment supply\n",
    "    \n",
    "    # set boundary conditions\n",
    "    H[-1] = 0\n",
    "    E[-1] = U\n",
    "    Qs[0] = 0\n",
    "    \n",
    "    # track time\n",
    "    while cum_time < run_duration:\n",
    "        \n",
    "        # drop baselevel\n",
    "        eta[-1] -= U * dt\n",
    "        \n",
    "        # set boundary conditions\n",
    "        etab[-1] = eta[-1]\n",
    "        \n",
    "        # calc slope\n",
    "        S = -np.diff(eta)/dx\n",
    "        \n",
    "        # calc bed exposure\n",
    "        alpha = np.exp(-H/Hstar)\n",
    "        \n",
    "        # calc sed transport\n",
    "        Qs[1:] = kQs * I * Q[1:] * S**(7./6.) * (1 - alpha[:-1])\n",
    "        \n",
    "        # calc bedrock erosion\n",
    "        Eb_p[:-1] = K * Q[1:] * S**(7./6.) * alpha[:-1] * I\n",
    "        Eb_a[:-1] = zeta * Qs[1:] * alpha[:-1]\n",
    "        Eb[:-1] = (Eb_p[:-1] + Eb_a[:-1]) / B_valley[:-1]\n",
    "        \n",
    "        # calc lateral flux\n",
    "        ql_0[:-1] = (((Eb[:-1]/3) * gamma)/beta_0) * (1 - np.exp(-beta_0 * x[1:]/3))\n",
    "        ql_1[:-1] = (((Eb[:-1]/3) * gamma)/beta_1) * (1 - np.exp(-beta_1 * x[1:]/3))\n",
    "        ql_2[:-1] = (((Eb[:-1]/3) * gamma)/beta_2) * (1 - np.exp(-beta_2 * x[1:]/3))\n",
    "        \n",
    "        # calc Qs_0 (f_0 * Qs)\n",
    "        Qs_0[1:] = f_0[1:] * Qs[1:]\n",
    "        Qs_1[1:] = f_1[1:] * Qs[1:]\n",
    "        Qs_2[1:] = f_2[1:] * Qs[1:]\n",
    "        \n",
    "        # calc atr_0 (Qs_0 * beta_0)\n",
    "        atr_0 = Qs_0 * beta_0\n",
    "        atr_1 = Qs_1 * beta_1\n",
    "        atr_2 = Qs_2 * beta_2\n",
    "        atr = atr_0 + atr_1 + atr_2\n",
    "        \n",
    "        # calc sediment erosion rate Eh_0 (use Qs_0, atr_0, Eb_p/3, and ql_0)\n",
    "        Eh_0[:-1] = 1/((1 - phi) * B_valley[:-1]) * (np.diff(Qs_0)/dx + atr_0[1:] - ((Eb_p[:-1]/3)*gamma) - ql_0[:-1])\n",
    "        Eh_1[:-1] = 1/((1 - phi) * B_valley[:-1]) * (np.diff(Qs_1)/dx + atr_1[1:] - ((Eb_p[:-1]/3)*gamma) - ql_1[:-1])\n",
    "        Eh_2[:-1] = 1/((1 - phi) * B_valley[:-1]) * (np.diff(Qs_2)/dx + atr_2[1:] - ((Eb_p[:-1]/3)*gamma) - ql_2[:-1])\n",
    "        Eh = Eh_0 + Eh_1 + Eh_2\n",
    "        \n",
    "        # calc H_0 (Eh_0 * dt)\n",
    "        H_0[:-1] -= Eh_0[:-1] * dt\n",
    "        H_1[:-1] -= Eh_1[:-1] * dt\n",
    "        H_2[:-1] -= Eh_2[:-1] * dt\n",
    "        \n",
    "        # calc H (H_0 + H_1 + H_2)\n",
    "        H = H_0 + H_1 + H_2\n",
    "        \n",
    "        # calc total erosion rate\n",
    "        E[:-1] = Eb[:-1] + Eh[:-1]\n",
    "        \n",
    "        # update f_0 (H_0/H)\n",
    "        f_0[1:] = H_0[:-1]/H[:-1] # 1 - (atr_0[1:] / atr[1:]) # first cell of f_0 should be constant at 1/3 ratio of total H\n",
    "        f_1[1:] = H_1[:-1]/H[:-1] # 1 - (atr_1[1:] / atr[1:])\n",
    "        f_2[1:] = H_2[:-1]/H[:-1] # 1 - (atr_2[1:] / atr[1:])\n",
    "        \n",
    "        # update topography\n",
    "        etab[:-1] -= Eb[:-1] * dt\n",
    "        H[:-1] -= Eh[:-1] * dt\n",
    "        H[H<0] = 0\n",
    "        eta[:-1] = etab[:-1] + H[:-1]\n",
    "        \n",
    "        # update elapsed time\n",
    "        cum_time += dt\n",
    "    \n",
    "    # check total time (yrs)\n",
    "    print(cum_time)\n",
    "        \n",
    "    return (dt, S, alpha, Qs, Eb_p, Eb_a, Eb, ql_0, ql_1, ql_2, f_0, f_1, f_2, \n",
    "            Qs_0, Qs_1, Qs_2, atr_0, atr_1, atr_2, Eh_0, Eh_1, Eh_2, Eh, E, etab, H, H_0, H_1, H_2, eta)"
   ]
  },
  {
   "cell_type": "code",
   "execution_count": 6,
   "id": "40cd4351",
   "metadata": {},
   "outputs": [
    {
     "name": "stdout",
     "output_type": "stream",
     "text": [
      "50000000.0\n"
     ]
    }
   ],
   "source": [
    "#now write a test\n",
    "num_steps = 5000000 # 3000000\n",
    "\n",
    "default_run = [x, dx, \n",
    "            K, beta_0, beta_1, beta_2, zeta, \n",
    "            gamma, D, phi, Hstar,\n",
    "            kQs, I, r, U,\n",
    "            B_valley, Q,\n",
    "            dt, num_steps]\n",
    "\n",
    "# and run it\n",
    "(dt, S, alpha, Qs, Eb_p, Eb_a, Eb, ql_0, ql_1, ql_2, f_0, f_1, f_2, Qs_0, Qs_1, Qs_2, \n",
    " atr_0, atr_1, atr_2, Eh_0, Eh_1, Eh_2, Eh, E, etab, H, H_0, H_1, H_2, eta) = BIGANTR(*default_run)"
   ]
  },
  {
   "cell_type": "code",
   "execution_count": 7,
   "id": "d251d8ee",
   "metadata": {},
   "outputs": [
    {
     "data": {
      "text/plain": [
       "array([9.99998257e-05, 1.00000024e-04, 9.99999999e-05, 9.99999996e-05,\n",
       "       9.99999997e-05, 9.99999998e-05, 9.99999999e-05, 9.99999999e-05,\n",
       "       1.00000000e-04, 1.00000000e-04, 1.00000000e-04, 1.00000000e-04,\n",
       "       1.00000000e-04, 1.00000000e-04, 1.00000000e-04, 1.00000000e-04,\n",
       "       1.00000000e-04, 1.00000000e-04, 1.00000000e-04, 1.00000000e-04,\n",
       "       1.00000000e-04, 1.00000000e-04, 1.00000000e-04, 1.00000000e-04,\n",
       "       1.00000000e-04, 1.00000000e-04, 1.00000000e-04, 1.00000000e-04,\n",
       "       1.00000000e-04, 1.00000000e-04, 1.00000000e-04, 1.00000000e-04,\n",
       "       1.00000000e-04, 1.00000000e-04, 1.00000000e-04, 1.00000000e-04,\n",
       "       1.00000000e-04, 1.00000000e-04, 1.00000000e-04, 1.00000000e-04,\n",
       "       1.00000000e-04, 1.00000000e-04, 1.00000000e-04, 1.00000000e-04,\n",
       "       1.00000000e-04, 1.00000000e-04, 1.00000000e-04, 1.00000000e-04,\n",
       "       1.00000000e-04, 1.00000000e-04, 1.00000000e-04, 1.00000000e-04,\n",
       "       1.00000000e-04, 1.00000000e-04, 1.00000000e-04, 1.00000000e-04,\n",
       "       1.00000000e-04, 1.00000000e-04, 1.00000000e-04, 1.00000000e-04,\n",
       "       1.00000000e-04, 1.00000000e-04, 1.00000000e-04, 1.00000000e-04,\n",
       "       1.00000000e-04, 1.00000000e-04, 1.00000000e-04, 1.00000000e-04,\n",
       "       1.00000000e-04, 1.00000000e-04, 1.00000000e-04, 1.00000000e-04,\n",
       "       1.00000000e-04, 1.00000000e-04, 1.00000000e-04, 1.00000000e-04,\n",
       "       1.00000000e-04, 1.00000000e-04, 1.00000000e-04, 1.00000000e-04,\n",
       "       1.00000000e-04, 1.00000000e-04, 1.00000000e-04, 1.00000000e-04,\n",
       "       1.00000000e-04, 1.00000000e-04, 1.00000000e-04, 1.00000000e-04,\n",
       "       1.00000000e-04, 1.00000000e-04, 1.00000000e-04, 1.00000000e-04,\n",
       "       1.00000000e-04, 1.00000000e-04, 1.00000000e-04, 1.00000000e-04,\n",
       "       1.00000000e-04, 1.00000000e-04, 1.00000000e-04, 0.00000000e+00])"
      ]
     },
     "execution_count": 7,
     "metadata": {},
     "output_type": "execute_result"
    }
   ],
   "source": [
    "# check that we have reached steady state condition by printing out the bedrock erosion rate\n",
    "Eb"
   ]
  },
  {
   "cell_type": "code",
   "execution_count": 8,
   "id": "44c39f8d",
   "metadata": {},
   "outputs": [
    {
     "data": {
      "text/plain": [
       "<matplotlib.legend.Legend at 0x7f8608192910>"
      ]
     },
     "execution_count": 8,
     "metadata": {},
     "output_type": "execute_result"
    },
    {
     "data": {
      "image/png": "[encoded data removed]",
      "text/plain": [
       "<Figure size 432x288 with 1 Axes>"
      ]
     },
     "metadata": {
      "needs_background": "light"
     },
     "output_type": "display_data"
    }
   ],
   "source": [
    "plt.plot(f_0, label = \"most abrasion resistant\")\n",
    "plt.plot(f_1, label = \"intermediate abrasion\")\n",
    "plt.plot(f_2, label = \"most abradable\")\n",
    "plt.legend()"
   ]
  },
  {
   "cell_type": "code",
   "execution_count": 9,
   "id": "415a99b8",
   "metadata": {},
   "outputs": [
    {
     "data": {
      "text/plain": [
       "array([0.33333333, 0.37364799, 0.3906053 , 0.406052  , 0.42058911,\n",
       "       0.43450278, 0.44787476, 0.46072984, 0.47307746, 0.48492402,\n",
       "       0.49627668, 0.50714444, 0.51753819, 0.52747047, 0.53695515,\n",
       "       0.54600707, 0.55464177, 0.56287518, 0.57072343, 0.57820263,\n",
       "       0.58532877, 0.59211756, 0.59858437, 0.60474414, 0.61061134,\n",
       "       0.61619992, 0.6215233 , 0.62659438, 0.63142548, 0.63602839,\n",
       "       0.64041435, 0.6445941 , 0.64857782, 0.65237522, 0.65599553,\n",
       "       0.65944751, 0.66273946, 0.66587928, 0.66887446, 0.6717321 ,\n",
       "       0.67445892, 0.67706131, 0.67954533, 0.68191671, 0.6841809 ,\n",
       "       0.68634304, 0.68840805, 0.69038055, 0.69226495, 0.69406542,\n",
       "       0.69578594, 0.69743025, 0.69900194, 0.70050438, 0.7019408 ,\n",
       "       0.70331426, 0.70462767, 0.70588377, 0.70708521, 0.70823447,\n",
       "       0.70933393, 0.71038585, 0.71139237, 0.71235553, 0.71327729,\n",
       "       0.7141595 , 0.71500392, 0.71581223, 0.71658603, 0.71732686,\n",
       "       0.71803615, 0.71871531, 0.71936564, 0.71998843, 0.72058485,\n",
       "       0.72115607, 0.72170318, 0.72222723, 0.7227292 , 0.72321006,\n",
       "       0.72367071, 0.72411202, 0.72453483, 0.72493992, 0.72532806,\n",
       "       0.72569996, 0.72605631, 0.72639779, 0.72672502, 0.7270386 ,\n",
       "       0.72733912, 0.72762712, 0.72790314, 0.72816768, 0.72842122,\n",
       "       0.72866423, 0.72889715, 0.7291204 , 0.72933439, 0.72953951])"
      ]
     },
     "execution_count": 9,
     "metadata": {},
     "output_type": "execute_result"
    }
   ],
   "source": [
    "f_0"
   ]
  },
  {
   "cell_type": "code",
   "execution_count": 10,
   "id": "c0cf3316",
   "metadata": {},
   "outputs": [
    {
     "data": {
      "text/plain": [
       "array([0.33333333, 0.33068324, 0.32864592, 0.32629616, 0.32366611,\n",
       "       0.32078397, 0.31768786, 0.31441751, 0.31101094, 0.30750308,\n",
       "       0.30392539, 0.30030568, 0.29666831, 0.29303432, 0.28942168,\n",
       "       0.28584564, 0.28231892, 0.27885205, 0.27545356, 0.2721303 ,\n",
       "       0.26888761, 0.2657295 , 0.26265891, 0.2596778 , 0.25678732,\n",
       "       0.25398792, 0.25127951, 0.24866148, 0.24613284, 0.24369229,\n",
       "       0.24133823, 0.23906888, 0.2368823 , 0.2347764 , 0.23274902,\n",
       "       0.23079793, 0.22892085, 0.2271155 , 0.22537957, 0.22371079,\n",
       "       0.22210687, 0.22056559, 0.21908475, 0.21766218, 0.21629579,\n",
       "       0.2149835 , 0.21372333, 0.2125133 , 0.21135155, 0.21023622,\n",
       "       0.20916555, 0.20813781, 0.20715135, 0.20620455, 0.20529587,\n",
       "       0.20442382, 0.20358695, 0.20278387, 0.20201325, 0.2012738 ,\n",
       "       0.20056428, 0.1998835 , 0.1992303 , 0.19860359, 0.19800231,\n",
       "       0.19742543, 0.19687198, 0.19634101, 0.19583161, 0.19534293,\n",
       "       0.19487411, 0.19442437, 0.19399293, 0.19357904, 0.19318201,\n",
       "       0.19280114, 0.19243578, 0.19208531, 0.19174912, 0.19142663,\n",
       "       0.19111728, 0.19082055, 0.19053591, 0.19026289, 0.19000099,\n",
       "       0.18974979, 0.18950883, 0.1892777 , 0.18905601, 0.18884336,\n",
       "       0.18863939, 0.18844375, 0.1882561 , 0.18807611, 0.18790348,\n",
       "       0.18773789, 0.18757907, 0.18742673, 0.18728062, 0.18714048])"
      ]
     },
     "execution_count": 10,
     "metadata": {},
     "output_type": "execute_result"
    }
   ],
   "source": [
    "f_1"
   ]
  },
  {
   "cell_type": "code",
   "execution_count": 11,
   "id": "a2fc9584",
   "metadata": {},
   "outputs": [
    {
     "data": {
      "text/plain": [
       "array([0.33333333, 0.29566877, 0.28074878, 0.26765184, 0.25574479,\n",
       "       0.24471325, 0.23443739, 0.22485265, 0.2159116 , 0.2075729 ,\n",
       "       0.19979793, 0.19254987, 0.18579349, 0.17949521, 0.17362317,\n",
       "       0.16814728, 0.1630393 , 0.15827277, 0.15382301, 0.14966707,\n",
       "       0.14578363, 0.14215294, 0.13875671, 0.13557806, 0.13260134,\n",
       "       0.12981216, 0.12719719, 0.12474414, 0.12244168, 0.12027933,\n",
       "       0.11824742, 0.11633702, 0.11453988, 0.11284837, 0.11125544,\n",
       "       0.10975456, 0.10833969, 0.10700522, 0.10574596, 0.10455712,\n",
       "       0.10343421, 0.10237309, 0.10136992, 0.1004211 , 0.09952332,\n",
       "       0.09867345, 0.09786863, 0.09710615, 0.0963835 , 0.09569835,\n",
       "       0.09504851, 0.09443194, 0.09384672, 0.09329107, 0.09276333,\n",
       "       0.09226192, 0.09178539, 0.09133236, 0.09090154, 0.09049173,\n",
       "       0.09010179, 0.08973066, 0.08937733, 0.08904087, 0.0887204 ,\n",
       "       0.08841507, 0.0881241 , 0.08784676, 0.08758235, 0.08733022,\n",
       "       0.08708974, 0.08686032, 0.08664143, 0.08643253, 0.08623314,\n",
       "       0.08604279, 0.08586103, 0.08568746, 0.08552168, 0.08536331,\n",
       "       0.08521201, 0.08506743, 0.08492925, 0.08479719, 0.08467095,\n",
       "       0.08455026, 0.08443486, 0.08432451, 0.08421898, 0.08411804,\n",
       "       0.08402149, 0.08392912, 0.08384076, 0.08375621, 0.0836753 ,\n",
       "       0.08359788, 0.08352378, 0.08345287, 0.08338499, 0.08332001])"
      ]
     },
     "execution_count": 11,
     "metadata": {},
     "output_type": "execute_result"
    }
   ],
   "source": [
    "f_2"
   ]
  },
  {
   "cell_type": "code",
   "execution_count": 12,
   "id": "a87aa9bb",
   "metadata": {},
   "outputs": [
    {
     "data": {
      "text/plain": [
       "[<matplotlib.lines.Line2D at 0x7f86086d0b10>]"
      ]
     },
     "execution_count": 12,
     "metadata": {},
     "output_type": "execute_result"
    },
    {
     "data": {
      "image/png": "[encoded data removed]",
      "text/plain": [
       "<Figure size 432x288 with 1 Axes>"
      ]
     },
     "metadata": {
      "needs_background": "light"
     },
     "output_type": "display_data"
    }
   ],
   "source": [
    "plt.plot(H_0)\n",
    "plt.plot(H_1)\n",
    "plt.plot(H_2)"
   ]
  },
  {
   "cell_type": "code",
   "execution_count": 13,
   "id": "68eebfff",
   "metadata": {},
   "outputs": [
    {
     "data": {
      "text/plain": [
       "array([0.00484836, 0.03367741, 0.11051484, 0.18248935, 0.24432436,\n",
       "       0.29834742, 0.34641002, 0.38977764, 0.429325  , 0.46567588,\n",
       "       0.49929003, 0.53051697, 0.55963003, 0.58684845, 0.61235213,\n",
       "       0.63629171, 0.65879551, 0.67997456, 0.69992619, 0.71873669,\n",
       "       0.73648329, 0.75323566, 0.76905713, 0.78400551, 0.79813392,\n",
       "       0.81149131, 0.82412294, 0.83607084, 0.84737405, 0.85806899,\n",
       "       0.86818962, 0.87776773, 0.88683308, 0.89541354, 0.9035353 ,\n",
       "       0.91122294, 0.91849957, 0.92538693, 0.93190549, 0.93807454,\n",
       "       0.94391225, 0.94943577, 0.95466126, 0.95960401, 0.96427843,\n",
       "       0.96869816, 0.97287607, 0.97682435, 0.98055453, 0.98407751,\n",
       "       0.98740362, 0.99054264, 0.99350384, 0.996296  , 0.99892743,\n",
       "       1.00140604, 1.0037393 , 1.00593433, 1.00799786, 1.00993629,\n",
       "       1.0117557 , 1.01346187, 1.01506026, 1.0165561 , 1.01795434,\n",
       "       1.01925968, 1.02047661, 1.02160937, 1.02266203, 1.02363843,\n",
       "       1.02454224, 1.02537696, 1.0261459 , 1.02685223, 1.02749897,\n",
       "       1.02808898, 1.02862499, 1.02910962, 1.02954534, 1.02993452,\n",
       "       1.03027941, 1.03058216, 1.03084481, 1.03106933, 1.03125757,\n",
       "       1.03141131, 1.03153225, 1.03162198, 1.03168207, 1.03171397,\n",
       "       1.03171908, 1.03169876, 1.03165426, 1.0315868 , 1.03149756,\n",
       "       1.03138764, 1.03125808, 1.03110991, 1.03094409, 0.16666667])"
      ]
     },
     "execution_count": 13,
     "metadata": {},
     "output_type": "execute_result"
    }
   ],
   "source": [
    "H_0"
   ]
  },
  {
   "cell_type": "code",
   "execution_count": 14,
   "id": "8f2067dc",
   "metadata": {},
   "outputs": [
    {
     "data": {
      "text/plain": [
       "array([1., 1., 1., 1., 1., 1., 1., 1., 1., 1., 1., 1., 1., 1., 1., 1., 1.,\n",
       "       1., 1., 1., 1., 1., 1., 1., 1., 1., 1., 1., 1., 1., 1., 1., 1., 1.,\n",
       "       1., 1., 1., 1., 1., 1., 1., 1., 1., 1., 1., 1., 1., 1., 1., 1., 1.,\n",
       "       1., 1., 1., 1., 1., 1., 1., 1., 1., 1., 1., 1., 1., 1., 1., 1., 1.,\n",
       "       1., 1., 1., 1., 1., 1., 1., 1., 1., 1., 1., 1., 1., 1., 1., 1., 1.,\n",
       "       1., 1., 1., 1., 1., 1., 1., 1., 1., 1., 1., 1., 1., 1., 1.])"
      ]
     },
     "execution_count": 14,
     "metadata": {},
     "output_type": "execute_result"
    }
   ],
   "source": [
    "f_0+f_1+f_2"
   ]
  },
  {
   "cell_type": "code",
   "execution_count": 15,
   "id": "ed248d3c",
   "metadata": {},
   "outputs": [
    {
     "data": {
      "text/plain": [
       "[<matplotlib.lines.Line2D at 0x7f8608814b90>]"
      ]
     },
     "execution_count": 15,
     "metadata": {},
     "output_type": "execute_result"
    },
    {
     "data": {
      "image/png": "[encoded data removed]",
      "text/plain": [
       "<Figure size 432x288 with 1 Axes>"
      ]
     },
     "metadata": {
      "needs_background": "light"
     },
     "output_type": "display_data"
    }
   ],
   "source": [
    "plt.plot(Qs)\n",
    "plt.plot(Qs_0)\n",
    "plt.plot(Qs_1)\n",
    "plt.plot(Qs_2)"
   ]
  },
  {
   "cell_type": "code",
   "execution_count": 17,
   "id": "4892f882",
   "metadata": {},
   "outputs": [
    {
     "data": {
      "text/plain": [
       "array([  0.        ,   1.48170221,   3.77900066,   6.88301613,\n",
       "        10.7001943 ,  15.11376763,  20.01745646,  25.31744986,\n",
       "        30.93162644,  36.7883979 ,  42.8255557 ,  48.98920374,\n",
       "        55.23279399,  61.51626316,  67.80526359,  74.07047949,\n",
       "        80.28702004,  86.43388122,  92.49346897,  98.45117686,\n",
       "       104.29501235, 110.01526616, 115.60421993, 121.0558879 ,\n",
       "       126.36578881, 131.53074449, 136.5487023 , 141.41857858,\n",
       "       146.14012076, 150.71378601, 155.14063465, 159.42223638,\n",
       "       163.56058811, 167.558042  , 171.41724235, 175.14107065,\n",
       "       178.73259748, 182.19504075, 185.53172942, 188.74607199,\n",
       "       191.84152936, 194.82159139, 197.68975681, 200.44951608,\n",
       "       203.10433674, 205.65765108, 208.11284577, 210.47325324,\n",
       "       212.74214455, 214.9227236 , 217.01812251, 219.03139799,\n",
       "       220.96552861, 222.82341277, 224.60786743, 226.32162728,\n",
       "       227.96734453, 229.54758898, 231.06484855, 232.52153004,\n",
       "       233.9199602 , 235.26238698, 236.55098092, 237.78783672,\n",
       "       238.97497496, 240.11434382, 241.20782093, 242.25721528,\n",
       "       243.26426908, 244.23065975, 245.15800184, 246.04784899,\n",
       "       246.90169583, 247.72097996, 248.50708377, 249.26133636,\n",
       "       249.98501533, 250.6793486 , 251.34551618, 251.98465182,\n",
       "       252.59784477, 253.18614132, 253.75054644, 254.29202531,\n",
       "       254.81150477, 255.30987482, 255.78798996, 256.2466706 ,\n",
       "       256.68670433, 257.10884719, 257.51382491, 257.90233407,\n",
       "       258.27504324, 258.63259408, 258.9756024 , 259.30465918,\n",
       "       259.62033152, 259.92316365, 260.21367775, 260.49237493])"
      ]
     },
     "execution_count": 17,
     "metadata": {},
     "output_type": "execute_result"
    }
   ],
   "source": [
    "Qs_0"
   ]
  },
  {
   "cell_type": "code",
   "execution_count": null,
   "id": "b4a194f9",
   "metadata": {},
   "outputs": [],
   "source": []
  }
 ],
 "metadata": {
  "kernelspec": {
   "display_name": "Python 3",
   "language": "python",
   "name": "python3"
  },
  "language_info": {
   "codemirror_mode": {
    "name": "ipython",
    "version": 3
   },
   "file_extension": ".py",
   "mimetype": "text/x-python",
   "name": "python",
   "nbconvert_exporter": "python",
   "pygments_lexer": "ipython3",
   "version": "3.7.6"
  }
 },
 "nbformat": 4,
 "nbformat_minor": 5
}
