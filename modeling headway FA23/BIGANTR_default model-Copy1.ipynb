{
 "cells": [
  {
   "cell_type": "code",
   "execution_count": 1,
   "id": "015e64be",
   "metadata": {},
   "outputs": [],
   "source": [
    "# this notebook contains code for a default version of the BIGANTR model"
   ]
  },
  {
   "cell_type": "code",
   "execution_count": 2,
   "id": "46d21926",
   "metadata": {},
   "outputs": [],
   "source": [
    "# import libraries\n",
    "import numpy as np\n",
    "import matplotlib.pyplot as plt"
   ]
  },
  {
   "cell_type": "code",
   "execution_count": 3,
   "id": "a9f954cb",
   "metadata": {},
   "outputs": [],
   "source": [
    "# create a profile\n",
    "dx = 500\n",
    "x = np.arange(0, 50000, dx)\n",
    "x_node = x + (dx/2)\n",
    "\n",
    "# add some elevation\n",
    "Hstar = 0.5 # depth decay\n",
    "etab = np.zeros(len(x)) # bedrock elevation\n",
    "etab[:] = np.linspace(1, 0.1, len(x)) # start with slight bedrock slope\n",
    "H = Hstar + np.zeros(len(x)) # alluvium thickness\n",
    "eta = etab + H # topography"
   ]
  },
  {
   "cell_type": "code",
   "execution_count": 4,
   "id": "255d93c1",
   "metadata": {},
   "outputs": [],
   "source": [
    "# define constants and other parameters\n",
    "K = 1e-6 # erodibility\n",
    "beta = 0.0005 # sediment attrition (default = 0.0005)\n",
    "zeta = 0.001 # bedrock abrasion\n",
    "r = 5. # runoff rate\n",
    "U = 0.0001 # uplift or baselevel fall rate\n",
    "I = 0.01 # intermittency\n",
    "phi = 0.1 # porosity\n",
    "D = 0.01 # grain size\n",
    "gamma = 0.5 # fraction of plucked material that becomes coarse\n",
    "\n",
    "kQs = 0.041 # sed transport coefficient\n",
    "kxb = 25 # valley width coefficient\n",
    "Pxb = 1./5. # valley width exponment\n",
    "kb = 8.3e-8 # channel width coefficient\n",
    "\n",
    "B_valley = kxb * (x_node**Pxb) # valley width\n",
    "A = (1./3.) * (x**2)\n",
    "Q = r * A\n",
    "\n",
    "dt = 35 # timestep (default = 35)"
   ]
  },
  {
   "cell_type": "code",
   "execution_count": 5,
   "id": "d10c9ea2",
   "metadata": {},
   "outputs": [],
   "source": [
    "def BIGANTR(x, dx, \n",
    "            K, beta, zeta, \n",
    "            gamma, D, phi, Hstar, \n",
    "            kQs, I, r, U, \n",
    "            etab, H, eta, \n",
    "            B_valley, Q, \n",
    "            dt, num_steps = 1):\n",
    "    \n",
    "    # set up run duration and start counting time\n",
    "    run_duration = dt * num_steps\n",
    "    cum_time = 0.0\n",
    "    \n",
    "    # initialize arrays\n",
    "    Qs = np.zeros(len(x))\n",
    "    Eb_p = np.zeros(len(x))\n",
    "    Eb_a = np.zeros(len(x))\n",
    "    Eb = np.zeros(len(x))\n",
    "    Eh = np.zeros(len(x))\n",
    "    E = np.zeros(len(x))\n",
    "    ql = np.zeros(len(x)) # lateral sediment supply\n",
    "    \n",
    "    # set boundary conditions\n",
    "    H[-1] = 0\n",
    "    E[-1] = U\n",
    "    Qs[0] = 0\n",
    "    \n",
    "    # track time\n",
    "    while cum_time < run_duration:\n",
    "        \n",
    "        # drop baselevel\n",
    "        eta[-1] -= U * dt\n",
    "        \n",
    "        # set boundary conditions\n",
    "        etab[-1] = eta[-1]\n",
    "        \n",
    "        # calc slope\n",
    "        S = -np.diff(eta)/dx\n",
    "        \n",
    "        # calc bed exposure\n",
    "        alpha = np.exp(-H/Hstar)\n",
    "        \n",
    "        # calc sed transport\n",
    "        Qs[1:] = kQs * I * Q[1:] * S**(7./6.) * (1 - alpha[:-1])\n",
    "        \n",
    "        # calc bedrock erosion\n",
    "        Eb_p[:-1] = K * Q[1:] * S**(7./6.) * alpha[:-1] * I\n",
    "        Eb_a[:-1] = zeta * Qs[1:] * alpha[:-1]\n",
    "        Eb[:-1] = (Eb_p[:-1] + Eb_a[:-1]) / B_valley[:-1]\n",
    "        \n",
    "        # calc lateral flux\n",
    "        ql[:-1] = ((Eb[:-1] * gamma)/beta) * (1 - np.exp(-beta * x[1:]/3))\n",
    "        \n",
    "        # calc grain attrition\n",
    "        atr = Qs * beta\n",
    "        \n",
    "        # calc sediment erosion rate\n",
    "        Eh[:-1] = 1/((1 - phi) * B_valley[:-1]) * (np.diff(Qs)/dx + atr[1:] - (Eb_p[:-1]*gamma) - ql[:-1])\n",
    "        \n",
    "        # calc total erosion rate\n",
    "        E[:-1] = Eb[:-1] + Eh[:-1]\n",
    "        \n",
    "        # update topography\n",
    "        etab[:-1] -= Eb[:-1] * dt\n",
    "        H[:-1] -= Eh[:-1] * dt\n",
    "        H[H<0] = 0\n",
    "        eta[:-1] = etab[:-1] + H[:-1]\n",
    "        \n",
    "        # update elapsed time\n",
    "        cum_time += dt\n",
    "    \n",
    "    # check total time (yrs)\n",
    "    print(cum_time)\n",
    "        \n",
    "    return (dt, S, alpha, Qs, Eb_p, Eb_a, Eb, ql, atr, Eh, E, etab, H, eta)"
   ]
  },
  {
   "cell_type": "code",
   "execution_count": 6,
   "id": "b05058d8",
   "metadata": {},
   "outputs": [
    {
     "name": "stdout",
     "output_type": "stream",
     "text": [
      "105000000.0\n"
     ]
    }
   ],
   "source": [
    "#now write a test\n",
    "num_steps = 3000000\n",
    "\n",
    "default_run = [x, dx, \n",
    "            K, beta, zeta, \n",
    "            gamma, D, phi, Hstar,\n",
    "            kQs, I, r, U,\n",
    "            etab, H, eta,\n",
    "            B_valley, Q,\n",
    "            dt, num_steps]\n",
    "\n",
    "# and run it\n",
    "(dt, S, alpha, Qs, Eb_p, Eb_a, Eb, ql, atr, Eh, E, etab, H, eta) = BIGANTR(*default_run)"
   ]
  },
  {
   "cell_type": "code",
   "execution_count": 7,
   "id": "64c81835",
   "metadata": {},
   "outputs": [
    {
     "data": {
      "text/plain": [
       "array([1.e-04, 1.e-04, 1.e-04, 1.e-04, 1.e-04, 1.e-04, 1.e-04, 1.e-04,\n",
       "       1.e-04, 1.e-04, 1.e-04, 1.e-04, 1.e-04, 1.e-04, 1.e-04, 1.e-04,\n",
       "       1.e-04, 1.e-04, 1.e-04, 1.e-04, 1.e-04, 1.e-04, 1.e-04, 1.e-04,\n",
       "       1.e-04, 1.e-04, 1.e-04, 1.e-04, 1.e-04, 1.e-04, 1.e-04, 1.e-04,\n",
       "       1.e-04, 1.e-04, 1.e-04, 1.e-04, 1.e-04, 1.e-04, 1.e-04, 1.e-04,\n",
       "       1.e-04, 1.e-04, 1.e-04, 1.e-04, 1.e-04, 1.e-04, 1.e-04, 1.e-04,\n",
       "       1.e-04, 1.e-04, 1.e-04, 1.e-04, 1.e-04, 1.e-04, 1.e-04, 1.e-04,\n",
       "       1.e-04, 1.e-04, 1.e-04, 1.e-04, 1.e-04, 1.e-04, 1.e-04, 1.e-04,\n",
       "       1.e-04, 1.e-04, 1.e-04, 1.e-04, 1.e-04, 1.e-04, 1.e-04, 1.e-04,\n",
       "       1.e-04, 1.e-04, 1.e-04, 1.e-04, 1.e-04, 1.e-04, 1.e-04, 1.e-04,\n",
       "       1.e-04, 1.e-04, 1.e-04, 1.e-04, 1.e-04, 1.e-04, 1.e-04, 1.e-04,\n",
       "       1.e-04, 1.e-04, 1.e-04, 1.e-04, 1.e-04, 1.e-04, 1.e-04, 1.e-04,\n",
       "       1.e-04, 1.e-04, 1.e-04, 0.e+00])"
      ]
     },
     "execution_count": 7,
     "metadata": {},
     "output_type": "execute_result"
    }
   ],
   "source": [
    "# check that we have reached steady state condition by printing out the bedrock erosion rate\n",
    "Eb"
   ]
  },
  {
   "cell_type": "code",
   "execution_count": 8,
   "id": "589cfb04",
   "metadata": {},
   "outputs": [],
   "source": [
    "# # save slopes\n",
    "# slope_def = np.savetxt('slope_def.csv', S, delimiter = ',')\n",
    "\n",
    "# # save total elevs\n",
    "# eta_def = np.savetxt('eta_def.csv', eta, delimiter = ',')\n",
    "\n",
    "# # save sed thickness\n",
    "# H_def = np.savetxt('H_def.csv', H, delimiter = ',')\n",
    "\n",
    "# # save Qs\n",
    "# Qs_def = np.savetxt('Qs_def.csv', Qs, delimiter = ',')"
   ]
  }
 ],
 "metadata": {
  "kernelspec": {
   "display_name": "Python 3",
   "language": "python",
   "name": "python3"
  },
  "language_info": {
   "codemirror_mode": {
    "name": "ipython",
    "version": 3
   },
   "file_extension": ".py",
   "mimetype": "text/x-python",
   "name": "python",
   "nbconvert_exporter": "python",
   "pygments_lexer": "ipython3",
   "version": "3.7.6"
  }
 },
 "nbformat": 4,
 "nbformat_minor": 5
}
